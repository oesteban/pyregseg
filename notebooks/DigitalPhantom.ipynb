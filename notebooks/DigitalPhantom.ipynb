{
 "metadata": {
  "name": "DigitalPhantom"
 },
 "nbformat": 3,
 "nbformat_minor": 0,
 "worksheets": [
  {
   "cells": [
    {
     "cell_type": "code",
     "collapsed": false,
     "input": [
      "from traits.etsconfig.api import ETSConfig\n",
      "ETSConfig.toolkit = 'null'\n",
      "\n",
      "import numpy as np\n",
      "import nibabel as nib\n",
      "from tvtk.api import tvtk\n",
      "import datetime as dt\n",
      "import os\n",
      "import os.path as op\n",
      "\n",
      "from scipy.ndimage import label\n",
      "\n",
      "import nipype.pipeline.engine as pe          # pypeline engine\n",
      "import nipype.interfaces.freesurfer as fs\n",
      "import nipype.interfaces.utility as niu\n",
      "import nipype.interfaces.io as nio\n",
      "\n",
      "import sys\n",
      "sys.path.append('/home/oesteban/workspace/RegSeg/Scripts/utils')\n",
      "sys.path.append('/home/oesteban/workspace/RegSeg/Scripts/workflows')\n",
      "\n",
      "\n",
      "import dmri as dmri\n",
      "import surfaces as surf\n",
      "\n",
      "import fsb_transform as fsbt"
     ],
     "language": "python",
     "metadata": {},
     "outputs": [],
     "prompt_number": 2
    },
    {
     "cell_type": "code",
     "collapsed": false,
     "input": [
      "root_dir='/home/oesteban/workspace/RegSeg/'\n",
      "data_dir= op.join( root_dir, 'Data' )\n",
      "mname = 'DigitalPhantomISBI'\n",
      "model_dir = op.join( data_dir, mname )\n",
      "tpms_dir = op.join( model_dir, 'tpms' )\n",
      "\n",
      "working_dir= op.join( root_dir, 'temp', mname )\n",
      "\n",
      "if not op.exists( working_dir ):\n",
      "    os.makedirs( working_dir )"
     ],
     "language": "python",
     "metadata": {},
     "outputs": [],
     "prompt_number": 3
    },
    {
     "cell_type": "markdown",
     "metadata": {},
     "source": [
      "<h1>Distortion of dMRI using the inverse fieldmap technique</h1>\n",
      "Procedure:\n",
      "<ol>\n",
      "    <li>Create map with range [0..2&pi;]</li>\n",
      "    <li>Phase unwrap (prelude)</li>\n",
      "    <li>Convert to rad/sec</li>\n",
      "    <li>Subtract median</li>\n",
      "    <li>Create VSM (voxel shift map)</li>\n",
      "    <li>(Optional) Smooth VSM</li>\n",
      "    <li>(Optional) demean VSM</li>\n",
      "    <li>Distort image (apply forward map in fugue)</li>\n",
      "</ol>"
     ]
    },
    {
     "cell_type": "code",
     "collapsed": false,
     "input": [
      "te_incr = 2.46e-3 # secs\n",
      "dwell_time = 0.77e-3 # secs\n",
      "snr_list = [ 'no-noise', 'SNR-10', 'SNR-20', 'SNR-30' ]\n",
      "maskfile = op.join( model_dir, 'signal_mask.nii.gz' )\n",
      "directions = [ 'y', 'y-' ]\n",
      "#dwifile = op.join( model_dir, 'DWIS_dti-scheme_no-noise.nii.gz' )\n",
      "\n",
      "for snr in snr_list:\n",
      "    for edir in directions:\n",
      "        dwifile = op.join( model_dir, 'DWIS_dti-scheme_%s.nii.gz' % snr )\n",
      "        wf = dmri.distortion_workflow(name='SynthSuscept_%s_%s' % (snr,edir) )\n",
      "        wf.base_dir = working_dir\n",
      "    \n",
      "        wf.inputs.inputnode.in_file = dwifile\n",
      "        wf.inputs.inputnode.in_mask = maskfile\n",
      "        wf.inputs.inputnode.te_incr = te_incr\n",
      "        wf.inputs.inputnode.echospacing = dwell_time\n",
      "        wf.inputs.inputnode.encoding_direction = edir\n",
      "    \n",
      "        wf.run()"
     ],
     "language": "python",
     "metadata": {},
     "outputs": []
    },
    {
     "cell_type": "markdown",
     "metadata": {},
     "source": [
      "<h1>Model fitting and tractography</h1>\n",
      "Use the new dmri.fsl_fitting_workflow() and create one dmri.tractography_workflow() or similar"
     ]
    },
    {
     "cell_type": "code",
     "collapsed": false,
     "input": [
      "for snr in snr_list:\n",
      "    wfname = \"phantom20_%s\" % snr\n",
      "    tract_wf = dmri.dtk_tractography_workflow(name=wfname)\n",
      "    tract_wf.base_dir = working_dir\n",
      "\n",
      "    tract_wf.inputs.inputnode.in_dwi  = op.join( working_dir, 'for_oscar', 'DWIS_dti-scheme_%s.nii.gz' % snr )\n",
      "    tract_wf.inputs.inputnode.in_bvec = op.join( working_dir, 'for_oscar', 'dti-scheme.bvec' ) \n",
      "    tract_wf.inputs.inputnode.in_bval = op.join( working_dir, 'for_oscar', 'dti-scheme.bval' )\n",
      "    tract_wf.inputs.inputnode.in_mask = op.join( working_dir, 'for_oscar', 'wm_mask.nii.gz' )\n",
      "    tract_wf.inputs.inputnode.roi_file = op.join( working_dir, 'for_oscar', 'rois', 'seeding_regions.nii.gz' )\n",
      "    res = tract_wf.run()"
     ],
     "language": "python",
     "metadata": {},
     "outputs": []
    },
    {
     "cell_type": "code",
     "collapsed": false,
     "input": [
      "import matplotlib.pyplot as plt\n",
      "fig = plt.figure(figsize=(9, 9))\n",
      "fig.subplots_adjust(wspace=0.1, hspace=0.10, top=0.85, bottom=0.05 )\n",
      "\n",
      "for n,snr in enumerate(snr_list):\n",
      "    wfname = \"phantom20_%s\" % snr\n",
      "    ax = fig.add_subplot(2,2,n+1 )\n",
      "    pyplot.imshow( np.loadtxt( op.join( working_dir, wfname, 'BuildMatrix', 'spline_tracks_conmat.txt') ), interpolation='none', norm=matplotlib.colors.LogNorm() )"
     ],
     "language": "python",
     "metadata": {},
     "outputs": []
    },
    {
     "cell_type": "markdown",
     "metadata": {},
     "source": [
      "<h1>Binarize tissue probability maps (TPMs)</h1>\n",
      "\n"
     ]
    },
    {
     "cell_type": "code",
     "collapsed": false,
     "input": [
      "def computeMAP( tpms, normalize=True ):\n",
      "    import numpy as np\n",
      "    normalizer = np.sum( np.array( tpms ), axis=0 )\n",
      "    if normalize:\n",
      "        for tpm in tpms:\n",
      "            tpm[normalizer>0]/= normalizer[normalizer>0]\n",
      "\n",
      "    out_seg = np.zeros( shape=tpms[0].shape, dtype=np.uint8 )\n",
      "    out_seg[normalizer>0] = np.argmax(  tpms, axis=0 )[normalizer>0]\n",
      "    out_seg[normalizer>0] += 1\n",
      "\n",
      "    return out_seg, tpms"
     ],
     "language": "python",
     "metadata": {},
     "outputs": [],
     "prompt_number": 5
    },
    {
     "cell_type": "code",
     "collapsed": false,
     "input": [
      "tpmlist = []\n",
      "tlist = [ 'bg', 'csf', 'wm', 'gm' ]\n",
      "\n",
      "for tname in tlist:\n",
      "    im = nib.load( op.join( tpms_dir, '%s_volume_fraction.nii.gz' % tname ))\n",
      "    tpmlist.append( im.get_data() )\n",
      "    hdr = im.get_header()\n",
      "    if hdr.get_xyzt_units() != 2:\n",
      "        hdr.set_xyzt_units(2)\n",
      "        nib.save( nib.Nifti1Image( im.get_data(), im.get_affine(), hdr ), op.join( tpms_dir, '%s_volume_fraction.nii.gz' % tname ) )\n",
      "\n",
      "hdr = im.get_header()\n",
      "hdr.set_data_dtype( uint8 )\n",
      "binarized, tpmlist = computeMAP( tpmlist )\n",
      "binarized = binarized - 1\n",
      "nib.save( nib.Nifti1Image( binarized, im.get_affine(), hdr ), op.join( working_dir, 'segmentation.nii.gz' ) )\n",
      "\n",
      "objlist = np.zeros( shape=binarized.shape )\n",
      "\n",
      "labels_list = []\n",
      "\n",
      "for i,tname in enumerate(tlist):\n",
      "    bmap = np.zeros( shape=binarized.shape )\n",
      "    bmap[binarized==i] = 1\n",
      "    nib.save( nib.Nifti1Image( bmap, im.get_affine(), hdr ), op.join( working_dir, '%s_bmap.nii.gz' % tname ) )\n",
      "    lab,num = label( bmap )\n",
      "    for val in range(0,num):\n",
      "        labels_list.append( i*10 + val +1 )\n",
      "    objlist[lab>0] = lab[lab>0] + 10*i\n",
      " \n",
      "nib.save( nib.Nifti1Image( objlist.astype(uint8), im.get_affine(), hdr ), op.join( working_dir, 'labels.nii.gz' ) )\n",
      "\n",
      "scheme = [ -1, -11, 12, 13, 14, 21, 22 ]\n",
      "base = np.ones( shape=binarized.shape )\n",
      "\n",
      "out_files = []\n",
      "\n",
      "for i,sid in enumerate(scheme):\n",
      "    if ( sid > 0 ):\n",
      "        obj = np.zeros( shape=binarized.shape )\n",
      "        obj[objlist==sid] = 1\n",
      "    else:\n",
      "        base[objlist==(-sid)]= 0\n",
      "        obj = base\n",
      "    out_file = op.join( working_dir, 'obj_%02d.nii.gz' % i )\n",
      "    nib.save( nib.Nifti1Image( obj.astype(uint8), im.get_affine(), hdr ), out_file )\n",
      "    out_files.append( out_file )"
     ],
     "language": "python",
     "metadata": {},
     "outputs": [],
     "prompt_number": 6
    },
    {
     "cell_type": "markdown",
     "metadata": {},
     "source": [
      "<h1>Generate prior surfaces</h1>\n",
      "This code generates the necessary csf surfaces. References:\n",
      "<ul>\n",
      "    <li>https://github.com/nipy/nipype/issues/307</li>\n",
      "    <li>https://mail.nmr.mgh.harvard.edu/pipermail//freesurfer/2011-November/021391.html</li>\n",
      "    <li>http://brainder.org/2012/05/08/importing-freesurfer-subcortical-structures-into-blender/</li>\n",
      "    <li>https://mail.nmr.mgh.harvard.edu/pipermail/freesurfer/2013-June/030586.html</li>\n",
      "</ul>   "
     ]
    },
    {
     "cell_type": "code",
     "collapsed": false,
     "input": [
      "for i,oname in enumerate( out_files ):\n",
      "    wf = surf.binary2contour_workflow( name=(\"Contour_%02d\" % i ))\n",
      "    wf.base_dir = working_dir\n",
      "    wf.inputs.inputnode.in_file = oname\n",
      "    wf.inputs.inputnode.in_norm = op.join( model_dir, 't1_weighted.nii.gz' )\n",
      "    wf.inputs.inputnode.out_folder = working_dir\n",
      "    res = wf.run()"
     ],
     "language": "python",
     "metadata": {},
     "outputs": [
      {
       "output_type": "stream",
       "stream": "stdout",
       "text": [
        "131004-01:02:27,930 workflow INFO:\n",
        "\t ['check', 'execution', 'logging']\n"
       ]
      },
      {
       "output_type": "stream",
       "stream": "stdout",
       "text": [
        "131004-01:02:27,935 workflow INFO:\n",
        "\t Running serially.\n"
       ]
      },
      {
       "output_type": "stream",
       "stream": "stdout",
       "text": [
        "131004-01:02:27,937 workflow INFO:\n",
        "\t Executing node pretess in dir: /home/oesteban/workspace/RegSeg/temp/DigitalPhantomISBI/Contour_00/pretess\n"
       ]
      },
      {
       "output_type": "stream",
       "stream": "stdout",
       "text": [
        "131004-01:02:28,393 workflow INFO:\n",
        "\t Executing node tess in dir: /home/oesteban/workspace/RegSeg/temp/DigitalPhantomISBI/Contour_00/tess\n"
       ]
      },
      {
       "output_type": "stream",
       "stream": "stdout",
       "text": [
        "131004-01:02:28,395 workflow INFO:\n",
        "\t Running: mri_tessellate -n /home/oesteban/workspace/RegSeg/temp/DigitalPhantomISBI/Contour_00/pretess/obj_00_pretess.mgz 1 ./obj_00_pretess.mgz_1\n"
       ]
      },
      {
       "output_type": "stream",
       "stream": "stdout",
       "text": [
        "131004-01:02:28,491 interface INFO:\n",
        "\t stdout 2013-10-04T01:02:28.491843:surface saved uses coordinates in the real RAS where c_(r,a,s) != 0\n"
       ]
      },
      {
       "output_type": "stream",
       "stream": "stdout",
       "text": [
        "131004-01:02:28,492 interface INFO:\n",
        "\t stdout 2013-10-04T01:02:28.491843:$Id: mri_tessellate.c,v 1.36 2011/03/02 00:04:25 nicks Exp $\n"
       ]
      },
      {
       "output_type": "stream",
       "stream": "stdout",
       "text": [
        "131004-01:02:28,492 interface INFO:\n",
        "\t stdout 2013-10-04T01:02:28.491843:  $Id: mrisurf.c,v 1.693.2.7 2013/05/12 22:28:01 nicks Exp $\n"
       ]
      },
      {
       "output_type": "stream",
       "stream": "stdout",
       "text": [
        "131004-01:02:28,635 interface INFO:\n",
        "\t stdout 2013-10-04T01:02:28.635122:slice 20: 4549 vertices, 4672 faces\n"
       ]
      },
      {
       "output_type": "stream",
       "stream": "stdout",
       "text": [
        "131004-01:02:28,635 interface INFO:\n",
        "\t stdout 2013-10-04T01:02:28.635122:slice 30: 10417 vertices, 10588 faces\n"
       ]
      },
      {
       "output_type": "stream",
       "stream": "stdout",
       "text": [
        "131004-01:02:28,635 interface INFO:\n",
        "\t stdout 2013-10-04T01:02:28.635122:slice 40: 16445 vertices, 16648 faces\n"
       ]
      },
      {
       "output_type": "stream",
       "stream": "stdout",
       "text": [
        "131004-01:02:28,636 interface INFO:\n",
        "\t stdout 2013-10-04T01:02:28.635122:slice 50: 22341 vertices, 22564 faces\n"
       ]
      },
      {
       "output_type": "stream",
       "stream": "stdout",
       "text": [
        "131004-01:02:28,636 interface INFO:\n",
        "\t stdout 2013-10-04T01:02:28.635122:slice 60: 27929 vertices, 28164 faces\n"
       ]
      },
      {
       "output_type": "stream",
       "stream": "stdout",
       "text": [
        "131004-01:02:28,636 interface INFO:\n",
        "\t stdout 2013-10-04T01:02:28.635122:slice 70: 33025 vertices, 33264 faces\n"
       ]
      },
      {
       "output_type": "stream",
       "stream": "stdout",
       "text": [
        "131004-01:02:28,636 interface INFO:\n",
        "\t stdout 2013-10-04T01:02:28.635122:slice 80: 38057 vertices, 38292 faces\n"
       ]
      },
      {
       "output_type": "stream",
       "stream": "stdout",
       "text": [
        "131004-01:02:28,637 interface INFO:\n",
        "\t stdout 2013-10-04T01:02:28.635122:slice 90: 43585 vertices, 43808 faces\n"
       ]
      },
      {
       "output_type": "stream",
       "stream": "stdout",
       "text": [
        "131004-01:02:28,637 interface INFO:\n",
        "\t stdout 2013-10-04T01:02:28.635122:slice 100: 49473 vertices, 49680 faces\n"
       ]
      },
      {
       "output_type": "stream",
       "stream": "stdout",
       "text": [
        "131004-01:02:28,637 interface INFO:\n",
        "\t stdout 2013-10-04T01:02:28.635122:slice 110: 55501 vertices, 55676 faces\n"
       ]
      },
      {
       "output_type": "stream",
       "stream": "stdout",
       "text": [
        "131004-01:02:28,637 interface INFO:\n",
        "\t stdout 2013-10-04T01:02:28.635122:slice 120: 61377 vertices, 61508 faces\n"
       ]
      },
      {
       "output_type": "stream",
       "stream": "stdout",
       "text": [
        "131004-01:02:28,637 interface INFO:\n",
        "\t stdout 2013-10-04T01:02:28.635122:slice 130: 66509 vertices, 66516 faces\n"
       ]
      },
      {
       "output_type": "stream",
       "stream": "stdout",
       "text": [
        "131004-01:02:28,638 interface INFO:\n",
        "\t stdout 2013-10-04T01:02:28.635122:slice 140: 66530 vertices, 66528 faces\n"
       ]
      },
      {
       "output_type": "stream",
       "stream": "stdout",
       "text": [
        "131004-01:02:28,638 interface INFO:\n",
        "\t stdout 2013-10-04T01:02:28.635122:using real RAS to save vertex points...\n"
       ]
      },
      {
       "output_type": "stream",
       "stream": "stdout",
       "text": [
        "131004-01:02:28,638 interface INFO:\n",
        "\t stdout 2013-10-04T01:02:28.635122:writing ./obj_00_pretess.mgz_1\n"
       ]
      },
      {
       "output_type": "stream",
       "stream": "stdout",
       "text": [
        "131004-01:02:28,638 interface INFO:\n",
        "\t stdout 2013-10-04T01:02:28.635122:using vox2ras matrix:\n"
       ]
      },
      {
       "output_type": "stream",
       "stream": "stdout",
       "text": [
        "131004-01:02:28,639 interface INFO:\n",
        "\t stdout 2013-10-04T01:02:28.635122: 0.500   0.000   0.000  -34.750;\n"
       ]
      },
      {
       "output_type": "stream",
       "stream": "stdout",
       "text": [
        "131004-01:02:28,639 interface INFO:\n",
        "\t stdout 2013-10-04T01:02:28.635122: 0.000   0.500   0.000  -34.750;\n"
       ]
      },
      {
       "output_type": "stream",
       "stream": "stdout",
       "text": [
        "131004-01:02:28,639 interface INFO:\n",
        "\t stdout 2013-10-04T01:02:28.635122: 0.000   0.000   0.500  -34.750;\n"
       ]
      },
      {
       "output_type": "stream",
       "stream": "stdout",
       "text": [
        "131004-01:02:28,639 interface INFO:\n",
        "\t stdout 2013-10-04T01:02:28.635122: 0.000   0.000   0.000   1.000;\n"
       ]
      },
      {
       "output_type": "stream",
       "stream": "stdout",
       "text": [
        "131004-01:02:28,727 workflow INFO:\n",
        "\t Executing node mris_smooth in dir: /home/oesteban/workspace/RegSeg/temp/DigitalPhantomISBI/Contour_00/mris_smooth\n"
       ]
      },
      {
       "output_type": "stream",
       "stream": "stdout",
       "text": [
        "131004-01:02:28,729 workflow INFO:\n",
        "\t Running: mris_smooth /home/oesteban/workspace/RegSeg/temp/DigitalPhantomISBI/Contour_00/tess/obj_00_pretess.mgz_1 /home/oesteban/workspace/RegSeg/temp/DigitalPhantomISBI/Contour_00/mris_smooth/obj_00_pretess_smoothed.mgz_1 -nw -n 10 -a 10\n"
       ]
      },
      {
       "output_type": "stream",
       "stream": "stdout",
       "text": [
        "131004-01:02:29,229 interface INFO:\n",
        "\t stderr 2013-10-04T01:02:29.229263:smoothing surface tessellation for 10 iterations...\n"
       ]
      },
      {
       "output_type": "stream",
       "stream": "stdout",
       "text": [
        "131004-01:02:29,388 interface INFO:\n",
        "\t stderr 2013-10-04T01:02:29.388382:smoothing complete - recomputing first and second fundamental forms...\n"
       ]
      },
      {
       "output_type": "stream",
       "stream": "stdout",
       "text": [
        "131004-01:02:30,84 interface INFO:\n",
        "\t stderr 2013-10-04T01:02:30.084857:writing smoothed curvature to /home/oesteban/workspace/RegSeg/temp/DigitalPhantomISBI/Contour_00/mris_smooth/rh.curv\n"
       ]
      },
      {
       "output_type": "stream",
       "stream": "stdout",
       "text": [
        "131004-01:02:30,122 interface INFO:\n",
        "\t stderr 2013-10-04T01:02:30.122343:writing smoothed area to /home/oesteban/workspace/RegSeg/temp/DigitalPhantomISBI/Contour_00/mris_smooth/rh.area\n"
       ]
      },
      {
       "output_type": "stream",
       "stream": "stdout",
       "text": [
        "131004-01:02:30,225 workflow INFO:\n",
        "\t Executing node tovtk in dir: /home/oesteban/workspace/RegSeg/temp/DigitalPhantomISBI/Contour_00/tovtk\n"
       ]
      },
      {
       "output_type": "stream",
       "stream": "stdout",
       "text": [
        "131004-01:02:30,314 workflow INFO:\n",
        "\t Executing node write in dir: /home/oesteban/workspace/RegSeg/temp/DigitalPhantomISBI/Contour_00/write\n"
       ]
      },
      {
       "output_type": "stream",
       "stream": "stdout",
       "text": [
        "131004-01:02:30,373 workflow INFO:\n",
        "\t ['check', 'execution', 'logging']\n"
       ]
      },
      {
       "output_type": "stream",
       "stream": "stdout",
       "text": [
        "131004-01:02:30,378 workflow INFO:\n",
        "\t Running serially.\n"
       ]
      },
      {
       "output_type": "stream",
       "stream": "stdout",
       "text": [
        "131004-01:02:30,378 workflow INFO:\n",
        "\t Executing node pretess in dir: /home/oesteban/workspace/RegSeg/temp/DigitalPhantomISBI/Contour_01/pretess\n"
       ]
      },
      {
       "output_type": "stream",
       "stream": "stdout",
       "text": [
        "131004-01:02:30,721 workflow INFO:\n",
        "\t Executing node tess in dir: /home/oesteban/workspace/RegSeg/temp/DigitalPhantomISBI/Contour_01/tess\n"
       ]
      },
      {
       "output_type": "stream",
       "stream": "stdout",
       "text": [
        "131004-01:02:30,724 workflow INFO:\n",
        "\t Running: mri_tessellate -n /home/oesteban/workspace/RegSeg/temp/DigitalPhantomISBI/Contour_01/pretess/obj_01_pretess.mgz 1 ./obj_01_pretess.mgz_1\n"
       ]
      },
      {
       "output_type": "stream",
       "stream": "stdout",
       "text": [
        "131004-01:02:30,787 interface INFO:\n",
        "\t stdout 2013-10-04T01:02:30.787812:surface saved uses coordinates in the real RAS where c_(r,a,s) != 0\n"
       ]
      },
      {
       "output_type": "stream",
       "stream": "stdout",
       "text": [
        "131004-01:02:30,788 interface INFO:\n",
        "\t stdout 2013-10-04T01:02:30.787812:$Id: mri_tessellate.c,v 1.36 2011/03/02 00:04:25 nicks Exp $\n"
       ]
      },
      {
       "output_type": "stream",
       "stream": "stdout",
       "text": [
        "131004-01:02:30,788 interface INFO:\n",
        "\t stdout 2013-10-04T01:02:30.787812:  $Id: mrisurf.c,v 1.693.2.7 2013/05/12 22:28:01 nicks Exp $\n"
       ]
      },
      {
       "output_type": "stream",
       "stream": "stdout",
       "text": [
        "131004-01:02:30,932 interface INFO:\n",
        "\t stdout 2013-10-04T01:02:30.932755:slice 20: 2181 vertices, 2272 faces\n"
       ]
      },
      {
       "output_type": "stream",
       "stream": "stdout",
       "text": [
        "131004-01:02:30,933 interface INFO:\n",
        "\t stdout 2013-10-04T01:02:30.932755:slice 30: 7497 vertices, 7648 faces\n"
       ]
      },
      {
       "output_type": "stream",
       "stream": "stdout",
       "text": [
        "131004-01:02:30,933 interface INFO:\n",
        "\t stdout 2013-10-04T01:02:30.932755:slice 40: 13105 vertices, 13288 faces\n"
       ]
      },
      {
       "output_type": "stream",
       "stream": "stdout",
       "text": [
        "131004-01:02:30,933 interface INFO:\n",
        "\t stdout 2013-10-04T01:02:30.932755:slice 50: 18637 vertices, 18840 faces\n"
       ]
      },
      {
       "output_type": "stream",
       "stream": "stdout",
       "text": [
        "131004-01:02:30,934 interface INFO:\n",
        "\t stdout 2013-10-04T01:02:30.932755:slice 60: 23857 vertices, 24072 faces\n"
       ]
      },
      {
       "output_type": "stream",
       "stream": "stdout",
       "text": [
        "131004-01:02:30,934 interface INFO:\n",
        "\t stdout 2013-10-04T01:02:30.932755:slice 70: 28641 vertices, 28860 faces\n"
       ]
      },
      {
       "output_type": "stream",
       "stream": "stdout",
       "text": [
        "131004-01:02:30,934 interface INFO:\n",
        "\t stdout 2013-10-04T01:02:30.932755:slice 80: 33341 vertices, 33560 faces\n"
       ]
      },
      {
       "output_type": "stream",
       "stream": "stdout",
       "text": [
        "131004-01:02:30,934 interface INFO:\n",
        "\t stdout 2013-10-04T01:02:30.932755:slice 90: 38553 vertices, 38760 faces\n"
       ]
      },
      {
       "output_type": "stream",
       "stream": "stdout",
       "text": [
        "131004-01:02:30,935 interface INFO:\n",
        "\t stdout 2013-10-04T01:02:30.932755:slice 100: 44057 vertices, 44244 faces\n"
       ]
      },
      {
       "output_type": "stream",
       "stream": "stdout",
       "text": [
        "131004-01:02:30,935 interface INFO:\n",
        "\t stdout 2013-10-04T01:02:30.932755:slice 110: 49673 vertices, 49828 faces\n"
       ]
      },
      {
       "output_type": "stream",
       "stream": "stdout",
       "text": [
        "131004-01:02:30,935 interface INFO:\n",
        "\t stdout 2013-10-04T01:02:30.932755:slice 120: 55041 vertices, 55140 faces\n"
       ]
      },
      {
       "output_type": "stream",
       "stream": "stdout",
       "text": [
        "131004-01:02:30,936 interface INFO:\n",
        "\t stdout 2013-10-04T01:02:30.932755:slice 130: 57722 vertices, 57720 faces\n"
       ]
      },
      {
       "output_type": "stream",
       "stream": "stdout",
       "text": [
        "131004-01:02:30,936 interface INFO:\n",
        "\t stdout 2013-10-04T01:02:30.932755:slice 140: 57722 vertices, 57720 faces\n"
       ]
      },
      {
       "output_type": "stream",
       "stream": "stdout",
       "text": [
        "131004-01:02:30,936 interface INFO:\n",
        "\t stdout 2013-10-04T01:02:30.932755:using real RAS to save vertex points...\n"
       ]
      },
      {
       "output_type": "stream",
       "stream": "stdout",
       "text": [
        "131004-01:02:30,936 interface INFO:\n",
        "\t stdout 2013-10-04T01:02:30.932755:writing ./obj_01_pretess.mgz_1\n"
       ]
      },
      {
       "output_type": "stream",
       "stream": "stdout",
       "text": [
        "131004-01:02:30,937 interface INFO:\n",
        "\t stdout 2013-10-04T01:02:30.932755:using vox2ras matrix:\n"
       ]
      },
      {
       "output_type": "stream",
       "stream": "stdout",
       "text": [
        "131004-01:02:30,937 interface INFO:\n",
        "\t stdout 2013-10-04T01:02:30.932755: 0.500   0.000   0.000  -34.750;\n"
       ]
      },
      {
       "output_type": "stream",
       "stream": "stdout",
       "text": [
        "131004-01:02:30,937 interface INFO:\n",
        "\t stdout 2013-10-04T01:02:30.932755: 0.000   0.500   0.000  -34.750;\n"
       ]
      },
      {
       "output_type": "stream",
       "stream": "stdout",
       "text": [
        "131004-01:02:30,938 interface INFO:\n",
        "\t stdout 2013-10-04T01:02:30.932755: 0.000   0.000   0.500  -34.750;\n"
       ]
      },
      {
       "output_type": "stream",
       "stream": "stdout",
       "text": [
        "131004-01:02:30,938 interface INFO:\n",
        "\t stdout 2013-10-04T01:02:30.932755: 0.000   0.000   0.000   1.000;\n"
       ]
      },
      {
       "output_type": "stream",
       "stream": "stdout",
       "text": [
        "131004-01:02:31,22 workflow INFO:\n",
        "\t Executing node mris_smooth in dir: /home/oesteban/workspace/RegSeg/temp/DigitalPhantomISBI/Contour_01/mris_smooth\n"
       ]
      },
      {
       "output_type": "stream",
       "stream": "stdout",
       "text": [
        "131004-01:02:31,25 workflow INFO:\n",
        "\t Running: mris_smooth /home/oesteban/workspace/RegSeg/temp/DigitalPhantomISBI/Contour_01/tess/obj_01_pretess.mgz_1 /home/oesteban/workspace/RegSeg/temp/DigitalPhantomISBI/Contour_01/mris_smooth/obj_01_pretess_smoothed.mgz_1 -nw -n 10 -a 10\n"
       ]
      },
      {
       "output_type": "stream",
       "stream": "stdout",
       "text": [
        "131004-01:02:31,457 interface INFO:\n",
        "\t stderr 2013-10-04T01:02:31.457372:smoothing surface tessellation for 10 iterations...\n"
       ]
      },
      {
       "output_type": "stream",
       "stream": "stdout",
       "text": [
        "131004-01:02:31,594 interface INFO:\n",
        "\t stderr 2013-10-04T01:02:31.594519:smoothing complete - recomputing first and second fundamental forms...\n"
       ]
      },
      {
       "output_type": "stream",
       "stream": "stdout",
       "text": [
        "131004-01:02:32,202 interface INFO:\n",
        "\t stderr 2013-10-04T01:02:32.202138:writing smoothed curvature to /home/oesteban/workspace/RegSeg/temp/DigitalPhantomISBI/Contour_01/mris_smooth/rh.curv\n"
       ]
      },
      {
       "output_type": "stream",
       "stream": "stdout",
       "text": [
        "131004-01:02:32,204 interface INFO:\n",
        "\t stderr 2013-10-04T01:02:32.204802:writing smoothed area to /home/oesteban/workspace/RegSeg/temp/DigitalPhantomISBI/Contour_01/mris_smooth/rh.area\n"
       ]
      },
      {
       "output_type": "stream",
       "stream": "stdout",
       "text": [
        "131004-01:02:32,305 workflow INFO:\n",
        "\t Executing node tovtk in dir: /home/oesteban/workspace/RegSeg/temp/DigitalPhantomISBI/Contour_01/tovtk\n"
       ]
      },
      {
       "output_type": "stream",
       "stream": "stdout",
       "text": [
        "131004-01:02:32,387 workflow INFO:\n",
        "\t Executing node write in dir: /home/oesteban/workspace/RegSeg/temp/DigitalPhantomISBI/Contour_01/write\n"
       ]
      },
      {
       "output_type": "stream",
       "stream": "stdout",
       "text": [
        "131004-01:02:32,443 workflow INFO:\n",
        "\t ['check', 'execution', 'logging']\n"
       ]
      },
      {
       "output_type": "stream",
       "stream": "stdout",
       "text": [
        "131004-01:02:32,448 workflow INFO:\n",
        "\t Running serially.\n"
       ]
      },
      {
       "output_type": "stream",
       "stream": "stdout",
       "text": [
        "131004-01:02:32,448 workflow INFO:\n",
        "\t Executing node pretess in dir: /home/oesteban/workspace/RegSeg/temp/DigitalPhantomISBI/Contour_02/pretess\n"
       ]
      },
      {
       "output_type": "stream",
       "stream": "stdout",
       "text": [
        "131004-01:02:32,840 workflow INFO:\n",
        "\t Executing node tess in dir: /home/oesteban/workspace/RegSeg/temp/DigitalPhantomISBI/Contour_02/tess\n"
       ]
      },
      {
       "output_type": "stream",
       "stream": "stdout",
       "text": [
        "131004-01:02:32,843 workflow INFO:\n",
        "\t Running: mri_tessellate -n /home/oesteban/workspace/RegSeg/temp/DigitalPhantomISBI/Contour_02/pretess/obj_02_pretess.mgz 1 ./obj_02_pretess.mgz_1\n"
       ]
      },
      {
       "output_type": "stream",
       "stream": "stdout",
       "text": [
        "131004-01:02:32,913 interface INFO:\n",
        "\t stdout 2013-10-04T01:02:32.913180:surface saved uses coordinates in the real RAS where c_(r,a,s) != 0\n"
       ]
      },
      {
       "output_type": "stream",
       "stream": "stdout",
       "text": [
        "131004-01:02:32,913 interface INFO:\n",
        "\t stdout 2013-10-04T01:02:32.913180:$Id: mri_tessellate.c,v 1.36 2011/03/02 00:04:25 nicks Exp $\n"
       ]
      },
      {
       "output_type": "stream",
       "stream": "stdout",
       "text": [
        "131004-01:02:32,914 interface INFO:\n",
        "\t stdout 2013-10-04T01:02:32.913180:  $Id: mrisurf.c,v 1.693.2.7 2013/05/12 22:28:01 nicks Exp $\n"
       ]
      },
      {
       "output_type": "stream",
       "stream": "stdout",
       "text": [
        "131004-01:02:33,45 interface INFO:\n",
        "\t stdout 2013-10-04T01:02:33.045312:slice 40: 148 vertices, 169 faces\n"
       ]
      },
      {
       "output_type": "stream",
       "stream": "stdout",
       "text": [
        "131004-01:02:33,45 interface INFO:\n",
        "\t stdout 2013-10-04T01:02:33.045312:slice 50: 1296 vertices, 1345 faces\n"
       ]
      },
      {
       "output_type": "stream",
       "stream": "stdout",
       "text": [
        "131004-01:02:33,46 interface INFO:\n",
        "\t stdout 2013-10-04T01:02:33.045312:slice 60: 2440 vertices, 2469 faces\n"
       ]
      },
      {
       "output_type": "stream",
       "stream": "stdout",
       "text": [
        "131004-01:02:33,46 interface INFO:\n",
        "\t stdout 2013-10-04T01:02:33.045312:slice 70: 2692 vertices, 2690 faces\n"
       ]
      },
      {
       "output_type": "stream",
       "stream": "stdout",
       "text": [
        "131004-01:02:33,46 interface INFO:\n",
        "\t stdout 2013-10-04T01:02:33.045312:slice 80: 2692 vertices, 2690 faces\n"
       ]
      },
      {
       "output_type": "stream",
       "stream": "stdout",
       "text": [
        "131004-01:02:33,47 interface INFO:\n",
        "\t stdout 2013-10-04T01:02:33.045312:slice 90: 2692 vertices, 2690 faces\n"
       ]
      },
      {
       "output_type": "stream",
       "stream": "stdout",
       "text": [
        "131004-01:02:33,47 interface INFO:\n",
        "\t stdout 2013-10-04T01:02:33.045312:slice 100: 2692 vertices, 2690 faces\n"
       ]
      },
      {
       "output_type": "stream",
       "stream": "stdout",
       "text": [
        "131004-01:02:33,47 interface INFO:\n",
        "\t stdout 2013-10-04T01:02:33.045312:slice 110: 2692 vertices, 2690 faces\n"
       ]
      },
      {
       "output_type": "stream",
       "stream": "stdout",
       "text": [
        "131004-01:02:33,48 interface INFO:\n",
        "\t stdout 2013-10-04T01:02:33.045312:slice 120: 2692 vertices, 2690 faces\n"
       ]
      },
      {
       "output_type": "stream",
       "stream": "stdout",
       "text": [
        "131004-01:02:33,48 interface INFO:\n",
        "\t stdout 2013-10-04T01:02:33.045312:slice 130: 2692 vertices, 2690 faces\n"
       ]
      },
      {
       "output_type": "stream",
       "stream": "stdout",
       "text": [
        "131004-01:02:33,49 interface INFO:\n",
        "\t stdout 2013-10-04T01:02:33.045312:slice 140: 2692 vertices, 2690 faces\n"
       ]
      },
      {
       "output_type": "stream",
       "stream": "stdout",
       "text": [
        "131004-01:02:33,49 interface INFO:\n",
        "\t stdout 2013-10-04T01:02:33.045312:using real RAS to save vertex points...\n"
       ]
      },
      {
       "output_type": "stream",
       "stream": "stdout",
       "text": [
        "131004-01:02:33,50 interface INFO:\n",
        "\t stdout 2013-10-04T01:02:33.045312:writing ./obj_02_pretess.mgz_1\n"
       ]
      },
      {
       "output_type": "stream",
       "stream": "stdout",
       "text": [
        "131004-01:02:33,50 interface INFO:\n",
        "\t stdout 2013-10-04T01:02:33.045312:using vox2ras matrix:\n"
       ]
      },
      {
       "output_type": "stream",
       "stream": "stdout",
       "text": [
        "131004-01:02:33,51 interface INFO:\n",
        "\t stdout 2013-10-04T01:02:33.045312: 0.500   0.000   0.000  -34.750;\n"
       ]
      },
      {
       "output_type": "stream",
       "stream": "stdout",
       "text": [
        "131004-01:02:33,51 interface INFO:\n",
        "\t stdout 2013-10-04T01:02:33.045312: 0.000   0.500   0.000  -34.750;\n"
       ]
      },
      {
       "output_type": "stream",
       "stream": "stdout",
       "text": [
        "131004-01:02:33,51 interface INFO:\n",
        "\t stdout 2013-10-04T01:02:33.045312: 0.000   0.000   0.500  -34.750;\n"
       ]
      },
      {
       "output_type": "stream",
       "stream": "stdout",
       "text": [
        "131004-01:02:33,52 interface INFO:\n",
        "\t stdout 2013-10-04T01:02:33.045312: 0.000   0.000   0.000   1.000;\n"
       ]
      },
      {
       "output_type": "stream",
       "stream": "stdout",
       "text": [
        "131004-01:02:33,124 workflow INFO:\n",
        "\t Executing node mris_smooth in dir: /home/oesteban/workspace/RegSeg/temp/DigitalPhantomISBI/Contour_02/mris_smooth\n"
       ]
      },
      {
       "output_type": "stream",
       "stream": "stdout",
       "text": [
        "131004-01:02:33,127 workflow INFO:\n",
        "\t Running: mris_smooth /home/oesteban/workspace/RegSeg/temp/DigitalPhantomISBI/Contour_02/tess/obj_02_pretess.mgz_1 /home/oesteban/workspace/RegSeg/temp/DigitalPhantomISBI/Contour_02/mris_smooth/obj_02_pretess_smoothed.mgz_1 -nw -n 10 -a 10\n"
       ]
      },
      {
       "output_type": "stream",
       "stream": "stdout",
       "text": [
        "131004-01:02:33,200 interface INFO:\n",
        "\t stderr 2013-10-04T01:02:33.199963:smoothing surface tessellation for 10 iterations...\n"
       ]
      },
      {
       "output_type": "stream",
       "stream": "stdout",
       "text": [
        "131004-01:02:33,202 interface INFO:\n",
        "\t stderr 2013-10-04T01:02:33.202776:smoothing complete - recomputing first and second fundamental forms...\n"
       ]
      },
      {
       "output_type": "stream",
       "stream": "stdout",
       "text": [
        "131004-01:02:33,229 interface INFO:\n",
        "\t stderr 2013-10-04T01:02:33.229016:writing smoothed curvature to /home/oesteban/workspace/RegSeg/temp/DigitalPhantomISBI/Contour_02/mris_smooth/rh.curv\n"
       ]
      },
      {
       "output_type": "stream",
       "stream": "stdout",
       "text": [
        "131004-01:02:33,229 interface INFO:\n",
        "\t stderr 2013-10-04T01:02:33.229330:writing smoothed area to /home/oesteban/workspace/RegSeg/temp/DigitalPhantomISBI/Contour_02/mris_smooth/rh.area\n"
       ]
      },
      {
       "output_type": "stream",
       "stream": "stdout",
       "text": [
        "131004-01:02:33,313 workflow INFO:\n",
        "\t Executing node tovtk in dir: /home/oesteban/workspace/RegSeg/temp/DigitalPhantomISBI/Contour_02/tovtk\n"
       ]
      },
      {
       "output_type": "stream",
       "stream": "stdout",
       "text": [
        "131004-01:02:33,402 workflow INFO:\n",
        "\t Executing node write in dir: /home/oesteban/workspace/RegSeg/temp/DigitalPhantomISBI/Contour_02/write\n"
       ]
      },
      {
       "output_type": "stream",
       "stream": "stdout",
       "text": [
        "131004-01:02:33,482 workflow INFO:\n",
        "\t ['check', 'execution', 'logging']\n"
       ]
      },
      {
       "output_type": "stream",
       "stream": "stdout",
       "text": [
        "131004-01:02:33,486 workflow INFO:\n",
        "\t Running serially.\n"
       ]
      },
      {
       "output_type": "stream",
       "stream": "stdout",
       "text": [
        "131004-01:02:33,486 workflow INFO:\n",
        "\t Executing node pretess in dir: /home/oesteban/workspace/RegSeg/temp/DigitalPhantomISBI/Contour_03/pretess\n"
       ]
      },
      {
       "output_type": "stream",
       "stream": "stdout",
       "text": [
        "131004-01:02:33,830 workflow INFO:\n",
        "\t Executing node tess in dir: /home/oesteban/workspace/RegSeg/temp/DigitalPhantomISBI/Contour_03/tess\n"
       ]
      },
      {
       "output_type": "stream",
       "stream": "stdout",
       "text": [
        "131004-01:02:33,842 workflow INFO:\n",
        "\t Running: mri_tessellate -n /home/oesteban/workspace/RegSeg/temp/DigitalPhantomISBI/Contour_03/pretess/obj_03_pretess.mgz 1 ./obj_03_pretess.mgz_1\n"
       ]
      },
      {
       "output_type": "stream",
       "stream": "stdout",
       "text": [
        "131004-01:02:33,932 interface INFO:\n",
        "\t stdout 2013-10-04T01:02:33.932179:surface saved uses coordinates in the real RAS where c_(r,a,s) != 0\n"
       ]
      },
      {
       "output_type": "stream",
       "stream": "stdout",
       "text": [
        "131004-01:02:33,932 interface INFO:\n",
        "\t stdout 2013-10-04T01:02:33.932179:$Id: mri_tessellate.c,v 1.36 2011/03/02 00:04:25 nicks Exp $\n"
       ]
      },
      {
       "output_type": "stream",
       "stream": "stdout",
       "text": [
        "131004-01:02:33,933 interface INFO:\n",
        "\t stdout 2013-10-04T01:02:33.932179:  $Id: mrisurf.c,v 1.693.2.7 2013/05/12 22:28:01 nicks Exp $\n"
       ]
      },
      {
       "output_type": "stream",
       "stream": "stdout",
       "text": [
        "131004-01:02:34,61 interface INFO:\n",
        "\t stdout 2013-10-04T01:02:34.061866:slice 60: 788 vertices, 824 faces\n"
       ]
      },
      {
       "output_type": "stream",
       "stream": "stdout",
       "text": [
        "131004-01:02:34,62 interface INFO:\n",
        "\t stdout 2013-10-04T01:02:34.061866:slice 70: 1650 vertices, 1648 faces\n"
       ]
      },
      {
       "output_type": "stream",
       "stream": "stdout",
       "text": [
        "131004-01:02:34,62 interface INFO:\n",
        "\t stdout 2013-10-04T01:02:34.061866:slice 80: 1650 vertices, 1648 faces\n"
       ]
      },
      {
       "output_type": "stream",
       "stream": "stdout",
       "text": [
        "131004-01:02:34,62 interface INFO:\n",
        "\t stdout 2013-10-04T01:02:34.061866:slice 90: 1650 vertices, 1648 faces\n"
       ]
      },
      {
       "output_type": "stream",
       "stream": "stdout",
       "text": [
        "131004-01:02:34,62 interface INFO:\n",
        "\t stdout 2013-10-04T01:02:34.061866:slice 100: 1650 vertices, 1648 faces\n"
       ]
      },
      {
       "output_type": "stream",
       "stream": "stdout",
       "text": [
        "131004-01:02:34,63 interface INFO:\n",
        "\t stdout 2013-10-04T01:02:34.061866:slice 110: 1650 vertices, 1648 faces\n"
       ]
      },
      {
       "output_type": "stream",
       "stream": "stdout",
       "text": [
        "131004-01:02:34,63 interface INFO:\n",
        "\t stdout 2013-10-04T01:02:34.061866:slice 120: 1650 vertices, 1648 faces\n"
       ]
      },
      {
       "output_type": "stream",
       "stream": "stdout",
       "text": [
        "131004-01:02:34,64 interface INFO:\n",
        "\t stdout 2013-10-04T01:02:34.061866:slice 130: 1650 vertices, 1648 faces\n"
       ]
      },
      {
       "output_type": "stream",
       "stream": "stdout",
       "text": [
        "131004-01:02:34,64 interface INFO:\n",
        "\t stdout 2013-10-04T01:02:34.061866:slice 140: 1650 vertices, 1648 faces\n"
       ]
      },
      {
       "output_type": "stream",
       "stream": "stdout",
       "text": [
        "131004-01:02:34,65 interface INFO:\n",
        "\t stdout 2013-10-04T01:02:34.061866:using real RAS to save vertex points...\n"
       ]
      },
      {
       "output_type": "stream",
       "stream": "stdout",
       "text": [
        "131004-01:02:34,65 interface INFO:\n",
        "\t stdout 2013-10-04T01:02:34.061866:writing ./obj_03_pretess.mgz_1\n"
       ]
      },
      {
       "output_type": "stream",
       "stream": "stdout",
       "text": [
        "131004-01:02:34,66 interface INFO:\n",
        "\t stdout 2013-10-04T01:02:34.061866:using vox2ras matrix:\n"
       ]
      },
      {
       "output_type": "stream",
       "stream": "stdout",
       "text": [
        "131004-01:02:34,66 interface INFO:\n",
        "\t stdout 2013-10-04T01:02:34.061866: 0.500   0.000   0.000  -34.750;\n"
       ]
      },
      {
       "output_type": "stream",
       "stream": "stdout",
       "text": [
        "131004-01:02:34,67 interface INFO:\n",
        "\t stdout 2013-10-04T01:02:34.061866: 0.000   0.500   0.000  -34.750;\n"
       ]
      },
      {
       "output_type": "stream",
       "stream": "stdout",
       "text": [
        "131004-01:02:34,67 interface INFO:\n",
        "\t stdout 2013-10-04T01:02:34.061866: 0.000   0.000   0.500  -34.750;\n"
       ]
      },
      {
       "output_type": "stream",
       "stream": "stdout",
       "text": [
        "131004-01:02:34,67 interface INFO:\n",
        "\t stdout 2013-10-04T01:02:34.061866: 0.000   0.000   0.000   1.000;\n"
       ]
      },
      {
       "output_type": "stream",
       "stream": "stdout",
       "text": [
        "131004-01:02:34,149 workflow INFO:\n",
        "\t Executing node mris_smooth in dir: /home/oesteban/workspace/RegSeg/temp/DigitalPhantomISBI/Contour_03/mris_smooth\n"
       ]
      },
      {
       "output_type": "stream",
       "stream": "stdout",
       "text": [
        "131004-01:02:34,152 workflow INFO:\n",
        "\t Running: mris_smooth /home/oesteban/workspace/RegSeg/temp/DigitalPhantomISBI/Contour_03/tess/obj_03_pretess.mgz_1 /home/oesteban/workspace/RegSeg/temp/DigitalPhantomISBI/Contour_03/mris_smooth/obj_03_pretess_smoothed.mgz_1 -nw -n 10 -a 10\n"
       ]
      },
      {
       "output_type": "stream",
       "stream": "stdout",
       "text": [
        "131004-01:02:34,216 interface INFO:\n",
        "\t stderr 2013-10-04T01:02:34.215998:smoothing surface tessellation for 10 iterations...\n"
       ]
      },
      {
       "output_type": "stream",
       "stream": "stdout",
       "text": [
        "131004-01:02:34,218 interface INFO:\n",
        "\t stderr 2013-10-04T01:02:34.217987:smoothing complete - recomputing first and second fundamental forms...\n"
       ]
      },
      {
       "output_type": "stream",
       "stream": "stdout",
       "text": [
        "131004-01:02:34,234 interface INFO:\n",
        "\t stderr 2013-10-04T01:02:34.234205:writing smoothed curvature to /home/oesteban/workspace/RegSeg/temp/DigitalPhantomISBI/Contour_03/mris_smooth/rh.curv\n"
       ]
      },
      {
       "output_type": "stream",
       "stream": "stdout",
       "text": [
        "131004-01:02:34,234 interface INFO:\n",
        "\t stderr 2013-10-04T01:02:34.234600:writing smoothed area to /home/oesteban/workspace/RegSeg/temp/DigitalPhantomISBI/Contour_03/mris_smooth/rh.area\n"
       ]
      },
      {
       "output_type": "stream",
       "stream": "stdout",
       "text": [
        "131004-01:02:34,320 workflow INFO:\n",
        "\t Executing node tovtk in dir: /home/oesteban/workspace/RegSeg/temp/DigitalPhantomISBI/Contour_03/tovtk\n"
       ]
      },
      {
       "output_type": "stream",
       "stream": "stdout",
       "text": [
        "131004-01:02:34,408 workflow INFO:\n",
        "\t Executing node write in dir: /home/oesteban/workspace/RegSeg/temp/DigitalPhantomISBI/Contour_03/write\n"
       ]
      },
      {
       "output_type": "stream",
       "stream": "stdout",
       "text": [
        "131004-01:02:34,493 workflow INFO:\n",
        "\t ['check', 'execution', 'logging']\n"
       ]
      },
      {
       "output_type": "stream",
       "stream": "stdout",
       "text": [
        "131004-01:02:34,497 workflow INFO:\n",
        "\t Running serially.\n"
       ]
      },
      {
       "output_type": "stream",
       "stream": "stdout",
       "text": [
        "131004-01:02:34,498 workflow INFO:\n",
        "\t Executing node pretess in dir: /home/oesteban/workspace/RegSeg/temp/DigitalPhantomISBI/Contour_04/pretess\n"
       ]
      },
      {
       "output_type": "stream",
       "stream": "stdout",
       "text": [
        "131004-01:02:34,834 workflow INFO:\n",
        "\t Executing node tess in dir: /home/oesteban/workspace/RegSeg/temp/DigitalPhantomISBI/Contour_04/tess\n"
       ]
      },
      {
       "output_type": "stream",
       "stream": "stdout",
       "text": [
        "131004-01:02:34,837 workflow INFO:\n",
        "\t Running: mri_tessellate -n /home/oesteban/workspace/RegSeg/temp/DigitalPhantomISBI/Contour_04/pretess/obj_04_pretess.mgz 1 ./obj_04_pretess.mgz_1\n"
       ]
      },
      {
       "output_type": "stream",
       "stream": "stdout",
       "text": [
        "131004-01:02:34,918 interface INFO:\n",
        "\t stdout 2013-10-04T01:02:34.918764:surface saved uses coordinates in the real RAS where c_(r,a,s) != 0\n"
       ]
      },
      {
       "output_type": "stream",
       "stream": "stdout",
       "text": [
        "131004-01:02:34,919 interface INFO:\n",
        "\t stdout 2013-10-04T01:02:34.918764:$Id: mri_tessellate.c,v 1.36 2011/03/02 00:04:25 nicks Exp $\n"
       ]
      },
      {
       "output_type": "stream",
       "stream": "stdout",
       "text": [
        "131004-01:02:34,919 interface INFO:\n",
        "\t stdout 2013-10-04T01:02:34.918764:  $Id: mrisurf.c,v 1.693.2.7 2013/05/12 22:28:01 nicks Exp $\n"
       ]
      },
      {
       "output_type": "stream",
       "stream": "stdout",
       "text": [
        "131004-01:02:35,48 interface INFO:\n",
        "\t stdout 2013-10-04T01:02:35.048059:slice 40: 148 vertices, 169 faces\n"
       ]
      },
      {
       "output_type": "stream",
       "stream": "stdout",
       "text": [
        "131004-01:02:35,48 interface INFO:\n",
        "\t stdout 2013-10-04T01:02:35.048059:slice 50: 1296 vertices, 1345 faces\n"
       ]
      },
      {
       "output_type": "stream",
       "stream": "stdout",
       "text": [
        "131004-01:02:35,48 interface INFO:\n",
        "\t stdout 2013-10-04T01:02:35.048059:slice 60: 2440 vertices, 2469 faces\n"
       ]
      },
      {
       "output_type": "stream",
       "stream": "stdout",
       "text": [
        "131004-01:02:35,48 interface INFO:\n",
        "\t stdout 2013-10-04T01:02:35.048059:slice 70: 2692 vertices, 2690 faces\n"
       ]
      },
      {
       "output_type": "stream",
       "stream": "stdout",
       "text": [
        "131004-01:02:35,49 interface INFO:\n",
        "\t stdout 2013-10-04T01:02:35.048059:slice 80: 2692 vertices, 2690 faces\n"
       ]
      },
      {
       "output_type": "stream",
       "stream": "stdout",
       "text": [
        "131004-01:02:35,49 interface INFO:\n",
        "\t stdout 2013-10-04T01:02:35.048059:slice 90: 2692 vertices, 2690 faces\n"
       ]
      },
      {
       "output_type": "stream",
       "stream": "stdout",
       "text": [
        "131004-01:02:35,49 interface INFO:\n",
        "\t stdout 2013-10-04T01:02:35.048059:slice 100: 2692 vertices, 2690 faces\n"
       ]
      },
      {
       "output_type": "stream",
       "stream": "stdout",
       "text": [
        "131004-01:02:35,49 interface INFO:\n",
        "\t stdout 2013-10-04T01:02:35.048059:slice 110: 2692 vertices, 2690 faces\n"
       ]
      },
      {
       "output_type": "stream",
       "stream": "stdout",
       "text": [
        "131004-01:02:35,50 interface INFO:\n",
        "\t stdout 2013-10-04T01:02:35.048059:slice 120: 2692 vertices, 2690 faces\n"
       ]
      },
      {
       "output_type": "stream",
       "stream": "stdout",
       "text": [
        "131004-01:02:35,50 interface INFO:\n",
        "\t stdout 2013-10-04T01:02:35.048059:slice 130: 2692 vertices, 2690 faces\n"
       ]
      },
      {
       "output_type": "stream",
       "stream": "stdout",
       "text": [
        "131004-01:02:35,50 interface INFO:\n",
        "\t stdout 2013-10-04T01:02:35.048059:slice 140: 2692 vertices, 2690 faces\n"
       ]
      },
      {
       "output_type": "stream",
       "stream": "stdout",
       "text": [
        "131004-01:02:35,51 interface INFO:\n",
        "\t stdout 2013-10-04T01:02:35.048059:using real RAS to save vertex points...\n"
       ]
      },
      {
       "output_type": "stream",
       "stream": "stdout",
       "text": [
        "131004-01:02:35,51 interface INFO:\n",
        "\t stdout 2013-10-04T01:02:35.048059:writing ./obj_04_pretess.mgz_1\n"
       ]
      },
      {
       "output_type": "stream",
       "stream": "stdout",
       "text": [
        "131004-01:02:35,52 interface INFO:\n",
        "\t stdout 2013-10-04T01:02:35.048059:using vox2ras matrix:\n"
       ]
      },
      {
       "output_type": "stream",
       "stream": "stdout",
       "text": [
        "131004-01:02:35,52 interface INFO:\n",
        "\t stdout 2013-10-04T01:02:35.048059: 0.500   0.000   0.000  -34.750;\n"
       ]
      },
      {
       "output_type": "stream",
       "stream": "stdout",
       "text": [
        "131004-01:02:35,53 interface INFO:\n",
        "\t stdout 2013-10-04T01:02:35.048059: 0.000   0.500   0.000  -34.750;\n"
       ]
      },
      {
       "output_type": "stream",
       "stream": "stdout",
       "text": [
        "131004-01:02:35,53 interface INFO:\n",
        "\t stdout 2013-10-04T01:02:35.048059: 0.000   0.000   0.500  -34.750;\n"
       ]
      },
      {
       "output_type": "stream",
       "stream": "stdout",
       "text": [
        "131004-01:02:35,54 interface INFO:\n",
        "\t stdout 2013-10-04T01:02:35.048059: 0.000   0.000   0.000   1.000;\n"
       ]
      },
      {
       "output_type": "stream",
       "stream": "stdout",
       "text": [
        "131004-01:02:35,138 workflow INFO:\n",
        "\t Executing node mris_smooth in dir: /home/oesteban/workspace/RegSeg/temp/DigitalPhantomISBI/Contour_04/mris_smooth\n"
       ]
      },
      {
       "output_type": "stream",
       "stream": "stdout",
       "text": [
        "131004-01:02:35,141 workflow INFO:\n",
        "\t Running: mris_smooth /home/oesteban/workspace/RegSeg/temp/DigitalPhantomISBI/Contour_04/tess/obj_04_pretess.mgz_1 /home/oesteban/workspace/RegSeg/temp/DigitalPhantomISBI/Contour_04/mris_smooth/obj_04_pretess_smoothed.mgz_1 -nw -n 10 -a 10\n"
       ]
      },
      {
       "output_type": "stream",
       "stream": "stdout",
       "text": [
        "131004-01:02:35,215 interface INFO:\n",
        "\t stderr 2013-10-04T01:02:35.215189:smoothing surface tessellation for 10 iterations...\n"
       ]
      },
      {
       "output_type": "stream",
       "stream": "stdout",
       "text": [
        "131004-01:02:35,218 interface INFO:\n",
        "\t stderr 2013-10-04T01:02:35.218301:smoothing complete - recomputing first and second fundamental forms...\n"
       ]
      },
      {
       "output_type": "stream",
       "stream": "stdout",
       "text": [
        "131004-01:02:35,244 interface INFO:\n",
        "\t stderr 2013-10-04T01:02:35.244510:writing smoothed curvature to /home/oesteban/workspace/RegSeg/temp/DigitalPhantomISBI/Contour_04/mris_smooth/rh.curv\n"
       ]
      },
      {
       "output_type": "stream",
       "stream": "stdout",
       "text": [
        "131004-01:02:35,244 interface INFO:\n",
        "\t stderr 2013-10-04T01:02:35.244917:writing smoothed area to /home/oesteban/workspace/RegSeg/temp/DigitalPhantomISBI/Contour_04/mris_smooth/rh.area\n"
       ]
      },
      {
       "output_type": "stream",
       "stream": "stdout",
       "text": [
        "131004-01:02:35,328 workflow INFO:\n",
        "\t Executing node tovtk in dir: /home/oesteban/workspace/RegSeg/temp/DigitalPhantomISBI/Contour_04/tovtk\n"
       ]
      },
      {
       "output_type": "stream",
       "stream": "stdout",
       "text": [
        "131004-01:02:35,408 workflow INFO:\n",
        "\t Executing node write in dir: /home/oesteban/workspace/RegSeg/temp/DigitalPhantomISBI/Contour_04/write\n"
       ]
      },
      {
       "output_type": "stream",
       "stream": "stdout",
       "text": [
        "131004-01:02:35,486 workflow INFO:\n",
        "\t ['check', 'execution', 'logging']\n"
       ]
      },
      {
       "output_type": "stream",
       "stream": "stdout",
       "text": [
        "131004-01:02:35,490 workflow INFO:\n",
        "\t Running serially.\n"
       ]
      },
      {
       "output_type": "stream",
       "stream": "stdout",
       "text": [
        "131004-01:02:35,491 workflow INFO:\n",
        "\t Executing node pretess in dir: /home/oesteban/workspace/RegSeg/temp/DigitalPhantomISBI/Contour_05/pretess\n"
       ]
      },
      {
       "output_type": "stream",
       "stream": "stdout",
       "text": [
        "131004-01:02:35,925 workflow INFO:\n",
        "\t Executing node tess in dir: /home/oesteban/workspace/RegSeg/temp/DigitalPhantomISBI/Contour_05/tess\n"
       ]
      },
      {
       "output_type": "stream",
       "stream": "stdout",
       "text": [
        "131004-01:02:35,930 workflow INFO:\n",
        "\t Running: mri_tessellate -n /home/oesteban/workspace/RegSeg/temp/DigitalPhantomISBI/Contour_05/pretess/obj_05_pretess.mgz 1 ./obj_05_pretess.mgz_1\n"
       ]
      },
      {
       "output_type": "stream",
       "stream": "stdout",
       "text": [
        "131004-01:02:36,10 interface INFO:\n",
        "\t stdout 2013-10-04T01:02:36.010033:surface saved uses coordinates in the real RAS where c_(r,a,s) != 0\n"
       ]
      },
      {
       "output_type": "stream",
       "stream": "stdout",
       "text": [
        "131004-01:02:36,10 interface INFO:\n",
        "\t stdout 2013-10-04T01:02:36.010033:$Id: mri_tessellate.c,v 1.36 2011/03/02 00:04:25 nicks Exp $\n"
       ]
      },
      {
       "output_type": "stream",
       "stream": "stdout",
       "text": [
        "131004-01:02:36,10 interface INFO:\n",
        "\t stdout 2013-10-04T01:02:36.010033:  $Id: mrisurf.c,v 1.693.2.7 2013/05/12 22:28:01 nicks Exp $\n"
       ]
      },
      {
       "output_type": "stream",
       "stream": "stdout",
       "text": [
        "131004-01:02:36,150 interface INFO:\n",
        "\t stdout 2013-10-04T01:02:36.150584:slice 20: 155 vertices, 174 faces\n"
       ]
      },
      {
       "output_type": "stream",
       "stream": "stdout",
       "text": [
        "131004-01:02:36,150 interface INFO:\n",
        "\t stdout 2013-10-04T01:02:36.150584:slice 30: 1339 vertices, 1416 faces\n"
       ]
      },
      {
       "output_type": "stream",
       "stream": "stdout",
       "text": [
        "131004-01:02:36,151 interface INFO:\n",
        "\t stdout 2013-10-04T01:02:36.150584:slice 40: 4326 vertices, 4489 faces\n"
       ]
      },
      {
       "output_type": "stream",
       "stream": "stdout",
       "text": [
        "131004-01:02:36,151 interface INFO:\n",
        "\t stdout 2013-10-04T01:02:36.150584:slice 50: 9588 vertices, 9817 faces\n"
       ]
      },
      {
       "output_type": "stream",
       "stream": "stdout",
       "text": [
        "131004-01:02:36,151 interface INFO:\n",
        "\t stdout 2013-10-04T01:02:36.150584:slice 60: 17153 vertices, 17454 faces\n"
       ]
      },
      {
       "output_type": "stream",
       "stream": "stdout",
       "text": [
        "131004-01:02:36,152 interface INFO:\n",
        "\t stdout 2013-10-04T01:02:36.150584:slice 70: 23274 vertices, 23511 faces\n"
       ]
      },
      {
       "output_type": "stream",
       "stream": "stdout",
       "text": [
        "131004-01:02:36,152 interface INFO:\n",
        "\t stdout 2013-10-04T01:02:36.150584:slice 80: 30856 vertices, 31129 faces\n"
       ]
      },
      {
       "output_type": "stream",
       "stream": "stdout",
       "text": [
        "131004-01:02:36,152 interface INFO:\n",
        "\t stdout 2013-10-04T01:02:36.150584:slice 90: 38023 vertices, 38309 faces\n"
       ]
      },
      {
       "output_type": "stream",
       "stream": "stdout",
       "text": [
        "131004-01:02:36,152 interface INFO:\n",
        "\t stdout 2013-10-04T01:02:36.150584:slice 100: 44456 vertices, 44685 faces\n"
       ]
      },
      {
       "output_type": "stream",
       "stream": "stdout",
       "text": [
        "131004-01:02:36,153 interface INFO:\n",
        "\t stdout 2013-10-04T01:02:36.150584:slice 110: 48358 vertices, 48506 faces\n"
       ]
      },
      {
       "output_type": "stream",
       "stream": "stdout",
       "text": [
        "131004-01:02:36,153 interface INFO:\n",
        "\t stdout 2013-10-04T01:02:36.150584:slice 120: 50256 vertices, 50294 faces\n"
       ]
      },
      {
       "output_type": "stream",
       "stream": "stdout",
       "text": [
        "131004-01:02:36,153 interface INFO:\n",
        "\t stdout 2013-10-04T01:02:36.150584:slice 130: 50402 vertices, 50410 faces\n"
       ]
      },
      {
       "output_type": "stream",
       "stream": "stdout",
       "text": [
        "131004-01:02:36,153 interface INFO:\n",
        "\t stdout 2013-10-04T01:02:36.150584:slice 140: 50402 vertices, 50410 faces\n"
       ]
      },
      {
       "output_type": "stream",
       "stream": "stdout",
       "text": [
        "131004-01:02:36,154 interface INFO:\n",
        "\t stdout 2013-10-04T01:02:36.150584:using real RAS to save vertex points...\n"
       ]
      },
      {
       "output_type": "stream",
       "stream": "stdout",
       "text": [
        "131004-01:02:36,154 interface INFO:\n",
        "\t stdout 2013-10-04T01:02:36.150584:writing ./obj_05_pretess.mgz_1\n"
       ]
      },
      {
       "output_type": "stream",
       "stream": "stdout",
       "text": [
        "131004-01:02:36,154 interface INFO:\n",
        "\t stdout 2013-10-04T01:02:36.150584:using vox2ras matrix:\n"
       ]
      },
      {
       "output_type": "stream",
       "stream": "stdout",
       "text": [
        "131004-01:02:36,154 interface INFO:\n",
        "\t stdout 2013-10-04T01:02:36.150584: 0.500   0.000   0.000  -34.750;\n"
       ]
      },
      {
       "output_type": "stream",
       "stream": "stdout",
       "text": [
        "131004-01:02:36,154 interface INFO:\n",
        "\t stdout 2013-10-04T01:02:36.150584: 0.000   0.500   0.000  -34.750;\n"
       ]
      },
      {
       "output_type": "stream",
       "stream": "stdout",
       "text": [
        "131004-01:02:36,155 interface INFO:\n",
        "\t stdout 2013-10-04T01:02:36.150584: 0.000   0.000   0.500  -34.750;\n"
       ]
      },
      {
       "output_type": "stream",
       "stream": "stdout",
       "text": [
        "131004-01:02:36,155 interface INFO:\n",
        "\t stdout 2013-10-04T01:02:36.150584: 0.000   0.000   0.000   1.000;\n"
       ]
      },
      {
       "output_type": "stream",
       "stream": "stdout",
       "text": [
        "131004-01:02:36,241 workflow INFO:\n",
        "\t Executing node mris_smooth in dir: /home/oesteban/workspace/RegSeg/temp/DigitalPhantomISBI/Contour_05/mris_smooth\n"
       ]
      },
      {
       "output_type": "stream",
       "stream": "stdout",
       "text": [
        "131004-01:02:36,244 workflow INFO:\n",
        "\t Running: mris_smooth /home/oesteban/workspace/RegSeg/temp/DigitalPhantomISBI/Contour_05/tess/obj_05_pretess.mgz_1 /home/oesteban/workspace/RegSeg/temp/DigitalPhantomISBI/Contour_05/mris_smooth/obj_05_pretess_smoothed.mgz_1 -nw -n 10 -a 10\n"
       ]
      },
      {
       "output_type": "stream",
       "stream": "stdout",
       "text": [
        "131004-01:02:36,632 interface INFO:\n",
        "\t stderr 2013-10-04T01:02:36.632744:smoothing surface tessellation for 10 iterations...\n"
       ]
      },
      {
       "output_type": "stream",
       "stream": "stdout",
       "text": [
        "131004-01:02:36,752 interface INFO:\n",
        "\t stderr 2013-10-04T01:02:36.752907:smoothing complete - recomputing first and second fundamental forms...\n"
       ]
      },
      {
       "output_type": "stream",
       "stream": "stdout",
       "text": [
        "131004-01:02:37,269 interface INFO:\n",
        "\t stderr 2013-10-04T01:02:37.269444:writing smoothed curvature to /home/oesteban/workspace/RegSeg/temp/DigitalPhantomISBI/Contour_05/mris_smooth/rh.curv\n"
       ]
      },
      {
       "output_type": "stream",
       "stream": "stdout",
       "text": [
        "131004-01:02:37,271 interface INFO:\n",
        "\t stderr 2013-10-04T01:02:37.271623:writing smoothed area to /home/oesteban/workspace/RegSeg/temp/DigitalPhantomISBI/Contour_05/mris_smooth/rh.area\n"
       ]
      },
      {
       "output_type": "stream",
       "stream": "stdout",
       "text": [
        "131004-01:02:37,370 workflow INFO:\n",
        "\t Executing node tovtk in dir: /home/oesteban/workspace/RegSeg/temp/DigitalPhantomISBI/Contour_05/tovtk\n"
       ]
      },
      {
       "output_type": "stream",
       "stream": "stdout",
       "text": [
        "131004-01:02:37,453 workflow INFO:\n",
        "\t Executing node write in dir: /home/oesteban/workspace/RegSeg/temp/DigitalPhantomISBI/Contour_05/write\n"
       ]
      },
      {
       "output_type": "stream",
       "stream": "stdout",
       "text": [
        "131004-01:02:37,508 workflow INFO:\n",
        "\t ['check', 'execution', 'logging']\n"
       ]
      },
      {
       "output_type": "stream",
       "stream": "stdout",
       "text": [
        "131004-01:02:37,512 workflow INFO:\n",
        "\t Running serially.\n"
       ]
      },
      {
       "output_type": "stream",
       "stream": "stdout",
       "text": [
        "131004-01:02:37,513 workflow INFO:\n",
        "\t Executing node pretess in dir: /home/oesteban/workspace/RegSeg/temp/DigitalPhantomISBI/Contour_06/pretess\n"
       ]
      },
      {
       "output_type": "stream",
       "stream": "stdout",
       "text": [
        "131004-01:02:37,906 workflow INFO:\n",
        "\t Executing node tess in dir: /home/oesteban/workspace/RegSeg/temp/DigitalPhantomISBI/Contour_06/tess\n"
       ]
      },
      {
       "output_type": "stream",
       "stream": "stdout",
       "text": [
        "131004-01:02:37,908 workflow INFO:\n",
        "\t Running: mri_tessellate -n /home/oesteban/workspace/RegSeg/temp/DigitalPhantomISBI/Contour_06/pretess/obj_06_pretess.mgz 1 ./obj_06_pretess.mgz_1\n"
       ]
      },
      {
       "output_type": "stream",
       "stream": "stdout",
       "text": [
        "131004-01:02:37,997 interface INFO:\n",
        "\t stdout 2013-10-04T01:02:37.997162:surface saved uses coordinates in the real RAS where c_(r,a,s) != 0\n"
       ]
      },
      {
       "output_type": "stream",
       "stream": "stdout",
       "text": [
        "131004-01:02:37,997 interface INFO:\n",
        "\t stdout 2013-10-04T01:02:37.997162:$Id: mri_tessellate.c,v 1.36 2011/03/02 00:04:25 nicks Exp $\n"
       ]
      },
      {
       "output_type": "stream",
       "stream": "stdout",
       "text": [
        "131004-01:02:37,998 interface INFO:\n",
        "\t stdout 2013-10-04T01:02:37.997162:  $Id: mrisurf.c,v 1.693.2.7 2013/05/12 22:28:01 nicks Exp $\n"
       ]
      },
      {
       "output_type": "stream",
       "stream": "stdout",
       "text": [
        "131004-01:02:38,127 interface INFO:\n",
        "\t stdout 2013-10-04T01:02:38.127188:slice 30: 46 vertices, 53 faces\n"
       ]
      },
      {
       "output_type": "stream",
       "stream": "stdout",
       "text": [
        "131004-01:02:38,127 interface INFO:\n",
        "\t stdout 2013-10-04T01:02:38.127188:slice 40: 294 vertices, 306 faces\n"
       ]
      },
      {
       "output_type": "stream",
       "stream": "stdout",
       "text": [
        "131004-01:02:38,127 interface INFO:\n",
        "\t stdout 2013-10-04T01:02:38.127188:slice 50: 1000 vertices, 1027 faces\n"
       ]
      },
      {
       "output_type": "stream",
       "stream": "stdout",
       "text": [
        "131004-01:02:38,128 interface INFO:\n",
        "\t stdout 2013-10-04T01:02:38.127188:slice 60: 2053 vertices, 2078 faces\n"
       ]
      },
      {
       "output_type": "stream",
       "stream": "stdout",
       "text": [
        "131004-01:02:38,128 interface INFO:\n",
        "\t stdout 2013-10-04T01:02:38.127188:slice 70: 2424 vertices, 2422 faces\n"
       ]
      },
      {
       "output_type": "stream",
       "stream": "stdout",
       "text": [
        "131004-01:02:38,128 interface INFO:\n",
        "\t stdout 2013-10-04T01:02:38.127188:slice 80: 2424 vertices, 2422 faces\n"
       ]
      },
      {
       "output_type": "stream",
       "stream": "stdout",
       "text": [
        "131004-01:02:38,128 interface INFO:\n",
        "\t stdout 2013-10-04T01:02:38.127188:slice 90: 2424 vertices, 2422 faces\n"
       ]
      },
      {
       "output_type": "stream",
       "stream": "stdout",
       "text": [
        "131004-01:02:38,129 interface INFO:\n",
        "\t stdout 2013-10-04T01:02:38.127188:slice 100: 2424 vertices, 2422 faces\n"
       ]
      },
      {
       "output_type": "stream",
       "stream": "stdout",
       "text": [
        "131004-01:02:38,129 interface INFO:\n",
        "\t stdout 2013-10-04T01:02:38.127188:slice 110: 2424 vertices, 2422 faces\n"
       ]
      },
      {
       "output_type": "stream",
       "stream": "stdout",
       "text": [
        "131004-01:02:38,130 interface INFO:\n",
        "\t stdout 2013-10-04T01:02:38.127188:slice 120: 2424 vertices, 2422 faces\n"
       ]
      },
      {
       "output_type": "stream",
       "stream": "stdout",
       "text": [
        "131004-01:02:38,130 interface INFO:\n",
        "\t stdout 2013-10-04T01:02:38.127188:slice 130: 2424 vertices, 2422 faces\n"
       ]
      },
      {
       "output_type": "stream",
       "stream": "stdout",
       "text": [
        "131004-01:02:38,131 interface INFO:\n",
        "\t stdout 2013-10-04T01:02:38.127188:slice 140: 2424 vertices, 2422 faces\n"
       ]
      },
      {
       "output_type": "stream",
       "stream": "stdout",
       "text": [
        "131004-01:02:38,131 interface INFO:\n",
        "\t stdout 2013-10-04T01:02:38.127188:using real RAS to save vertex points...\n"
       ]
      },
      {
       "output_type": "stream",
       "stream": "stdout",
       "text": [
        "131004-01:02:38,132 interface INFO:\n",
        "\t stdout 2013-10-04T01:02:38.127188:writing ./obj_06_pretess.mgz_1\n"
       ]
      },
      {
       "output_type": "stream",
       "stream": "stdout",
       "text": [
        "131004-01:02:38,132 interface INFO:\n",
        "\t stdout 2013-10-04T01:02:38.127188:using vox2ras matrix:\n"
       ]
      },
      {
       "output_type": "stream",
       "stream": "stdout",
       "text": [
        "131004-01:02:38,132 interface INFO:\n",
        "\t stdout 2013-10-04T01:02:38.127188: 0.500   0.000   0.000  -34.750;\n"
       ]
      },
      {
       "output_type": "stream",
       "stream": "stdout",
       "text": [
        "131004-01:02:38,133 interface INFO:\n",
        "\t stdout 2013-10-04T01:02:38.127188: 0.000   0.500   0.000  -34.750;\n"
       ]
      },
      {
       "output_type": "stream",
       "stream": "stdout",
       "text": [
        "131004-01:02:38,133 interface INFO:\n",
        "\t stdout 2013-10-04T01:02:38.127188: 0.000   0.000   0.500  -34.750;\n"
       ]
      },
      {
       "output_type": "stream",
       "stream": "stdout",
       "text": [
        "131004-01:02:38,134 interface INFO:\n",
        "\t stdout 2013-10-04T01:02:38.127188: 0.000   0.000   0.000   1.000;\n"
       ]
      },
      {
       "output_type": "stream",
       "stream": "stdout",
       "text": [
        "131004-01:02:38,217 workflow INFO:\n",
        "\t Executing node mris_smooth in dir: /home/oesteban/workspace/RegSeg/temp/DigitalPhantomISBI/Contour_06/mris_smooth\n"
       ]
      },
      {
       "output_type": "stream",
       "stream": "stdout",
       "text": [
        "131004-01:02:38,220 workflow INFO:\n",
        "\t Running: mris_smooth /home/oesteban/workspace/RegSeg/temp/DigitalPhantomISBI/Contour_06/tess/obj_06_pretess.mgz_1 /home/oesteban/workspace/RegSeg/temp/DigitalPhantomISBI/Contour_06/mris_smooth/obj_06_pretess_smoothed.mgz_1 -nw -n 10 -a 10\n"
       ]
      },
      {
       "output_type": "stream",
       "stream": "stdout",
       "text": [
        "131004-01:02:38,297 interface INFO:\n",
        "\t stderr 2013-10-04T01:02:38.297499:smoothing surface tessellation for 10 iterations...\n"
       ]
      },
      {
       "output_type": "stream",
       "stream": "stdout",
       "text": [
        "131004-01:02:38,300 interface INFO:\n",
        "\t stderr 2013-10-04T01:02:38.300134:smoothing complete - recomputing first and second fundamental forms...\n"
       ]
      },
      {
       "output_type": "stream",
       "stream": "stdout",
       "text": [
        "131004-01:02:38,323 interface INFO:\n",
        "\t stderr 2013-10-04T01:02:38.323069:writing smoothed curvature to /home/oesteban/workspace/RegSeg/temp/DigitalPhantomISBI/Contour_06/mris_smooth/rh.curv\n"
       ]
      },
      {
       "output_type": "stream",
       "stream": "stdout",
       "text": [
        "131004-01:02:38,323 interface INFO:\n",
        "\t stderr 2013-10-04T01:02:38.323403:writing smoothed area to /home/oesteban/workspace/RegSeg/temp/DigitalPhantomISBI/Contour_06/mris_smooth/rh.area\n"
       ]
      },
      {
       "output_type": "stream",
       "stream": "stdout",
       "text": [
        "131004-01:02:38,406 workflow INFO:\n",
        "\t Executing node tovtk in dir: /home/oesteban/workspace/RegSeg/temp/DigitalPhantomISBI/Contour_06/tovtk\n"
       ]
      },
      {
       "output_type": "stream",
       "stream": "stdout",
       "text": [
        "131004-01:02:38,489 workflow INFO:\n",
        "\t Executing node write in dir: /home/oesteban/workspace/RegSeg/temp/DigitalPhantomISBI/Contour_06/write\n"
       ]
      }
     ],
     "prompt_number": 8
    },
    {
     "cell_type": "code",
     "collapsed": false,
     "input": [],
     "language": "python",
     "metadata": {},
     "outputs": []
    }
   ],
   "metadata": {}
  }
 ]
}