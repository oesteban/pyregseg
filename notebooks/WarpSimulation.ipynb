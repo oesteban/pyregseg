{
 "metadata": {
  "name": "WarpSimulation"
 },
 "nbformat": 3,
 "nbformat_minor": 0,
 "worksheets": [
  {
   "cells": [
    {
     "cell_type": "markdown",
     "metadata": {},
     "source": [
      "<h1>Distortion of dMRI using the inverse fieldmap technique</h1>\n",
      "Procedure:\n",
      "<ol>\n",
      "    <li>Create map with range [0..2&pi;]</li>\n",
      "    <li>Phase unwrap (prelude)</li>\n",
      "    <li>Convert to rad/sec</li>\n",
      "    <li>Subtract median</li>\n",
      "    <li>Create VSM (voxel shift map)</li>\n",
      "    <li>(Optional) Smooth VSM</li>\n",
      "    <li>(Optional) demean VSM</li>\n",
      "    <li>Distort image (apply forward map in fugue)</li>\n",
      "</ol>"
     ]
    },
    {
     "cell_type": "code",
     "collapsed": false,
     "input": [
      "import os.path as op\n",
      "import os"
     ],
     "language": "python",
     "metadata": {},
     "outputs": [],
     "prompt_number": 1
    },
    {
     "cell_type": "code",
     "collapsed": false,
     "input": [
      "root_dir='/home/oesteban/workspace/ACWE-Reg/'\n",
      "data_dir= op.join( root_dir, 'Data' )\n",
      "mname = 'DigitalPhantomISBI'\n",
      "model_dir = op.join( data_dir, mname )\n",
      "working_dir= op.join( root_dir, 'temp', mname )\n",
      "\n",
      "if not op.exists( working_dir ):\n",
      "    os.makedirs( working_dir )"
     ],
     "language": "python",
     "metadata": {},
     "outputs": [],
     "prompt_number": 2
    },
    {
     "cell_type": "code",
     "collapsed": false,
     "input": [
      "import nipype.pipeline.engine as pe\n",
      "import nipype.interfaces.utility as niu\n",
      "import nipype.interfaces.fsl as fsl"
     ],
     "language": "python",
     "metadata": {},
     "outputs": [],
     "prompt_number": 3
    },
    {
     "cell_type": "code",
     "collapsed": false,
     "input": [
      "def generate_phmap( in_file, out_file=None ):\n",
      "    import nibabel as nib\n",
      "    from scipy.ndimage import binary_erosion\n",
      "    from scipy.ndimage.filters import gaussian_filter\n",
      "    import numpy as np\n",
      "    import os.path as op\n",
      "    import math\n",
      "\n",
      "    msk = nib.load( in_file )\n",
      "    mskdata = msk.get_data()\n",
      "    imshape = msk.get_shape()\n",
      "    boundary = binary_erosion( mskdata ).astype(np.dtype('u1'))\n",
      "    boundary = (( mskdata - boundary )).astype(float)\n",
      "    \n",
      "    x = ( int(0.4*imshape[0]), int(0.6*imshape[0]) )\n",
      "    y = ( int(0.4*imshape[1]), int( imshape[1] ) )\n",
      "\n",
      "    slice1 = np.zeros( shape=imshape )\n",
      "    slice1[x[0]:x[1],y[0]:y[1],int(0.65*imshape[2])]  = 0.8\n",
      "\n",
      "    slice2 = np.zeros( shape=imshape )\n",
      "    slice2[x[0]:x[1],y[0]:y[1],int(0.35*imshape[2])]  = -0.6\n",
      "    distortionfront = boundary * ( slice1 + slice2 )\n",
      "\n",
      "    phasefield = gaussian_filter( distortionfront, sigma=5 )\n",
      "\n",
      "    maxval = np.amax(phasefield)\n",
      "    minval = np.amin(phasefield)\n",
      "\n",
      "    phasefield = np.pi * (((phasefield + math.fabs(minval) ) / (maxval-minval)*2) - 1)\n",
      "    phasefield = phasefield * 0.0005\n",
      "    \n",
      "    if out_file is None:\n",
      "        fname, fext = op.splitext(op.basename(in_file))\n",
      "        if fext == '.gz':\n",
      "            fname, _ = op.splitext(fname)\n",
      "        out_file = op.abspath('./%s_ph_unwrap_rads.nii.gz' % fname)\n",
      "\n",
      "    nib.save( nib.Nifti1Image( phasefield, msk.get_affine(), msk.get_header() ), out_file )\n",
      "    \n",
      "    return out_file\n",
      "    \n",
      "def rad2radsec( in_file, in_mask, te_incr=2.46e-3, out_file=None ):\n",
      "    import nibabel as nib\n",
      "    import numpy as np\n",
      "    import os.path as op\n",
      "    \n",
      "    im = nib.load( in_file )\n",
      "    msk = nib.load( in_mask ).get_data()\n",
      "    data = np.ma.array( im.get_data(), mask = 1-msk )\n",
      "    data[msk==1] = data[msk==1] / ( te_incr )\n",
      "    mval = np.ma.median( data )\n",
      "    \n",
      "    data1 = np.zeros( shape=im.get_shape() )\n",
      "    data2 = np.zeros( shape=im.get_shape() )\n",
      "    \n",
      "    data1[msk==1] = data[msk==1] - mval\n",
      "    \n",
      "    data = np.rollaxis ( np.array( [ data1, data2 ] ), 0, 4)    \n",
      "    hdr = im.get_header()\n",
      "    hdr['dim'][0]=4\n",
      "    hdr['dim'][4]=2\n",
      "    \n",
      "    if out_file is None:\n",
      "        fname, fext = op.splitext(op.basename(in_file))\n",
      "        if fext == '.gz':\n",
      "            fname, _ = op.splitext(fname)\n",
      "        out_file = op.abspath('./%s_ph_unwrap_radsec.nii.gz' % fname)\n",
      "        \n",
      "    nib.save( nib.Nifti1Image( data, im.get_affine(), hdr ), out_file )\n",
      "    \n",
      "    return out_file\n",
      "\n",
      "def genmask(in_file, out_file=None):\n",
      "    import numpy as np\n",
      "    import nibabel as nib\n",
      "    import os.path as op\n",
      "    \n",
      "    im = nib.load(in_file)\n",
      "    \n",
      "    data = np.ones( shape=im.get_shape() )\n",
      "    \n",
      "    if out_file is None:\n",
      "        fname, fext = op.splitext(op.basename(in_file))\n",
      "        if fext == '.gz':\n",
      "            fname, _ = op.splitext(fname)\n",
      "        out_file = op.abspath('./%s_mask.nii.gz' % fname)\n",
      "        \n",
      "    nib.save( nib.Nifti1Image( data, im.get_affine(), im.get_header() ), out_file )\n",
      "    \n",
      "    return out_file\n",
      "\n",
      "def demean( in_file, in_mask, out_file=None ):\n",
      "    import numpy as np\n",
      "    import nibabel as nib\n",
      "    import os.path as op\n",
      "    \n",
      "    im = nib.load( in_file )\n",
      "    msk = nib.load( in_mask ).get_data()\n",
      "    \n",
      "    data = np.ma.array( im.get_data(), mask = 1-msk )\n",
      "    mval = np.ma.median( data )\n",
      "    data[msk==1] = data[msk==1] - mval\n",
      "    \n",
      "    if out_file is None:\n",
      "        fname, fext = op.splitext(op.basename(in_file))\n",
      "        if fext == '.gz':\n",
      "            fname, _ = op.splitext(fname)\n",
      "        out_file = op.abspath('./%s_demeaned.nii.gz' % fname)\n",
      "        \n",
      "    nib.save( nib.Nifti1Image( data, im.get_affine(), im.get_header() ), out_file )\n",
      "    \n",
      "    return out_file\n",
      "\n",
      "def fugue_all_workflow(name=\"Fugue_WarpDWIs\"):\n",
      "    pipeline = pe.Workflow(name=name)\n",
      "    \n",
      "    def _split_dwi(in_file):\n",
      "        import nibabel as nib\n",
      "        import os.path as op\n",
      "        out_files = []\n",
      "        frames = nib.funcs.four_to_three(nib.load(in_file))\n",
      "        name, fext = op.splitext(op.basename(in_file))\n",
      "        if fext == '.gz':\n",
      "            name, _ = op.splitext(name)\n",
      "        for i, frame in enumerate(frames):\n",
      "            out_file = op.abspath('./%s_%03d.nii.gz' % (name, i))\n",
      "            nib.save(frame, out_file)\n",
      "            out_files.append(out_file)\n",
      "        return out_files\n",
      "    \n",
      "    inputnode = pe.Node(niu.IdentityInterface(fields=['in_file', 'in_mask', 'in_vsm' ]), name='inputnode' )\n",
      "    dwi_split = pe.Node(niu.Function(input_names=['in_file'], output_names=['out_files'], function=_split_dwi), name='split_DWI')\n",
      "    vsm_fwd = pe.MapNode(interface=fsl.FUGUE(forward_warping=True), iterfield=['in_file'], name='Fugue_Warp')\n",
      "    dwi_merge = pe.Node(fsl.utils.Merge(dimension='t'), name='merge_DWI')\n",
      "    \n",
      "    outputnode = pe.Node(interface=niu.IdentityInterface(fields=['out_file' ]), name='outputnode' )\n",
      "    pipeline.connect([\n",
      "                       (inputnode,  dwi_split, [('in_file', 'in_file')])\n",
      "                      ,(dwi_split,    vsm_fwd, [('out_files', 'in_file')])\n",
      "                      ,(inputnode,    vsm_fwd, [('in_mask', 'mask_file'),('in_vsm','shift_in_file')])\n",
      "                      ,(vsm_fwd,    dwi_merge, [('warped_file', 'in_files')])\n",
      "                      ,(dwi_merge, outputnode, [('merged_file', 'out_file')])\n",
      "                    ])    \n",
      "    \n",
      "    return pipeline"
     ],
     "language": "python",
     "metadata": {},
     "outputs": [],
     "prompt_number": 4
    },
    {
     "cell_type": "code",
     "collapsed": false,
     "input": [
      "def distortion_workflow(name=\"synthetic_susceptibility\"):\n",
      "    pipeline = pe.Workflow(name=name)\n",
      "    \n",
      "    inputnode = pe.Node(niu.IdentityInterface(fields=['in_file', 'in_mask', 'te_incr', 'echospacing' ]), name='inputnode' )\n",
      "    phmap = pe.Node( niu.Function(input_names=['in_file'],output_names=['out_file'], function=generate_phmap ), name='gen_PhaseDiffMap' )\n",
      "    maskgen = pe.Node( niu.Function(input_names=['in_file'],output_names=['out_file'], function=genmask ), name='gen_Mask' )\n",
      "    prelude = pe.Node(fsl.PRELUDE(process3d=True), name='PhaseUnwrap')\n",
      "    prepare = pe.Node(niu.Function(input_names=['in_file','in_mask','te_incr'], output_names=['out_file'], function=rad2radsec ), name='PhaseRadSec' )\n",
      "    vsm = pe.Node(fsl.FUGUE(save_shift=True), name=\"gen_VSM\")\n",
      "    dm = pe.Node( niu.Function(input_names=['in_file','in_mask'],output_names=['out_file'], function=demean ), name='demean' )\n",
      "    applyWarp = fugue_all_workflow()\n",
      "    outputnode = pe.Node(interface=niu.IdentityInterface(fields=['out_file', 'out_vsm' ]), name='outputnode' )\n",
      "    \n",
      "    \n",
      "    pipeline.connect([\n",
      "                       (inputnode,      phmap, [('in_mask', 'in_file')] )\n",
      "                      ,(inputnode,    maskgen, [('in_mask', 'in_file')] )\n",
      "                      ,(inputnode,    prelude, [('in_mask','magnitude_file')] )\n",
      "                      ,(phmap,        prelude, [('out_file', 'phase_file')] )\n",
      "                      ,(prelude,      prepare, [('unwrapped_phase_file','in_file')])\n",
      "                      ,(inputnode,    prepare, [('in_mask','in_mask'),('te_incr','te_incr')])\n",
      "                      ,(maskgen,          vsm, [('out_file','mask_file')])\n",
      "                      ,(prepare,          vsm, [('out_file','phasemap_file')])\n",
      "                      ,(inputnode,        vsm, [('in_mask','in_file'),('te_incr','asym_se_time'),('echospacing','dwell_time')])\n",
      "                      ,(vsm,               dm, [('shift_out_file', 'in_file')])\n",
      "                      ,(inputnode,         dm, [('in_mask','in_mask')])\n",
      "                      ,(dm,         applyWarp, [('out_file', 'inputnode.in_vsm')])\n",
      "                      ,(inputnode,  applyWarp, [('in_file', 'inputnode.in_file'),('in_mask', 'inputnode.in_mask')])\n",
      "                      ,(dm,        outputnode, [('out_file', 'out_vsm')])\n",
      "                      ,(applyWarp, outputnode, [('outputnode.out_file', 'out_file')])\n",
      "                      ])\n",
      "    \n",
      "    return pipeline"
     ],
     "language": "python",
     "metadata": {},
     "outputs": [],
     "prompt_number": 6
    },
    {
     "cell_type": "code",
     "collapsed": false,
     "input": [
      "te_incr = 2.46e-3 # secs\n",
      "dwell_time = 0.77e-3 # secs\n",
      "snr_list = [ 'no-noise', 'SNR-10', 'SNR-20', 'SNR-30' ]\n",
      "maskfile = op.join( model_dir, 'signal_mask.nii.gz' )\n",
      "#dwifile = op.join( model_dir, 'DWIS_dti-scheme_no-noise.nii.gz' )\n",
      "\n",
      "\n",
      "for snr in snr_list:\n",
      "    dwifile = op.join( model_dir, 'DWIS_dti-scheme_%s.nii.gz' % snr )\n",
      "    wf = distortion_workflow(name='SynthSuscept_%s' % snr )\n",
      "    wf.base_dir = working_dir\n",
      "    \n",
      "    wf.inputs.inputnode.in_file = dwifile\n",
      "    wf.inputs.inputnode.in_mask = maskfile\n",
      "    wf.inputs.inputnode.te_incr = te_incr\n",
      "    wf.inputs.inputnode.echospacing = dwell_time\n",
      "    \n",
      "    wf.run()"
     ],
     "language": "python",
     "metadata": {},
     "outputs": [
      {
       "output_type": "stream",
       "stream": "stdout",
       "text": [
        "130906-20:16:53,584 workflow INFO:\n",
        "\t ['check', 'execution', 'logging']\n"
       ]
      },
      {
       "output_type": "stream",
       "stream": "stdout",
       "text": [
        "130906-20:16:53,590 workflow INFO:\n",
        "\t Running serially.\n"
       ]
      },
      {
       "output_type": "stream",
       "stream": "stdout",
       "text": [
        "130906-20:16:53,591 workflow INFO:\n",
        "\t Executing node gen_Mask in dir: /home/oesteban/workspace/ACWE-Reg/temp/DigitalPhantomISBI/SynthSuscept_no-noise/gen_Mask\n"
       ]
      },
      {
       "output_type": "stream",
       "stream": "stdout",
       "text": [
        "130906-20:16:53,622 workflow INFO:\n",
        "\t Executing node split_DWI in dir: /home/oesteban/workspace/ACWE-Reg/temp/DigitalPhantomISBI/SynthSuscept_no-noise/Fugue_WarpDWIs/split_DWI\n"
       ]
      },
      {
       "output_type": "stream",
       "stream": "stdout",
       "text": [
        "130906-20:16:54,371 workflow INFO:\n",
        "\t Executing node gen_PhaseDiffMap in dir: /home/oesteban/workspace/ACWE-Reg/temp/DigitalPhantomISBI/SynthSuscept_no-noise/gen_PhaseDiffMap\n"
       ]
      },
      {
       "output_type": "stream",
       "stream": "stdout",
       "text": [
        "130906-20:16:54,443 workflow INFO:\n",
        "\t Executing node PhaseUnwrap in dir: /home/oesteban/workspace/ACWE-Reg/temp/DigitalPhantomISBI/SynthSuscept_no-noise/PhaseUnwrap\n"
       ]
      },
      {
       "output_type": "stream",
       "stream": "stdout",
       "text": [
        "130906-20:16:54,446 workflow INFO:\n",
        "\t Running: prelude --abs=/home/oesteban/workspace/ACWE-Reg/Data/DigitalPhantomISBI/signal_mask.nii.gz --phase=/home/oesteban/workspace/ACWE-Reg/temp/DigitalPhantomISBI/SynthSuscept_no-noise/gen_PhaseDiffMap/signal_mask_ph_unwrap_rads.nii.gz --force3D --unwrap=/home/oesteban/workspace/ACWE-Reg/temp/DigitalPhantomISBI/SynthSuscept_no-noise/PhaseUnwrap/signal_mask_ph_unwrap_rads_unwrapped.nii.gz\n"
       ]
      },
      {
       "output_type": "stream",
       "stream": "stdout",
       "text": [
        "130906-20:16:54,578 workflow INFO:\n",
        "\t Executing node PhaseRadSec in dir: /home/oesteban/workspace/ACWE-Reg/temp/DigitalPhantomISBI/SynthSuscept_no-noise/PhaseRadSec\n"
       ]
      },
      {
       "output_type": "stream",
       "stream": "stdout",
       "text": [
        "130906-20:16:54,692 workflow INFO:\n",
        "\t Executing node gen_VSM in dir: /home/oesteban/workspace/ACWE-Reg/temp/DigitalPhantomISBI/SynthSuscept_no-noise/gen_VSM\n"
       ]
      },
      {
       "output_type": "stream",
       "stream": "stdout",
       "text": [
        "130906-20:16:54,695 workflow INFO:\n",
        "\t Running: fugue --asym=0.0024600000 --dwell=0.0007700000 --in=/home/oesteban/workspace/ACWE-Reg/Data/DigitalPhantomISBI/signal_mask.nii.gz --mask=/home/oesteban/workspace/ACWE-Reg/temp/DigitalPhantomISBI/SynthSuscept_no-noise/gen_Mask/signal_mask_mask.nii.gz --phasemap=/home/oesteban/workspace/ACWE-Reg/temp/DigitalPhantomISBI/SynthSuscept_no-noise/PhaseRadSec/signal_mask_ph_unwrap_rads_unwrapped_ph_unwrap_radsec.nii.gz --saveshift=/home/oesteban/workspace/ACWE-Reg/temp/DigitalPhantomISBI/SynthSuscept_no-noise/gen_VSM/signal_mask_vsm.nii.gz --unwarp=/home/oesteban/workspace/ACWE-Reg/temp/DigitalPhantomISBI/SynthSuscept_no-noise/gen_VSM/signal_mask_unwarped.nii.gz\n"
       ]
      },
      {
       "output_type": "stream",
       "stream": "stdout",
       "text": [
        "130906-20:16:54,984 workflow INFO:\n",
        "\t Executing node demean in dir: /home/oesteban/workspace/ACWE-Reg/temp/DigitalPhantomISBI/SynthSuscept_no-noise/demean\n"
       ]
      },
      {
       "output_type": "stream",
       "stream": "stdout",
       "text": [
        "130906-20:16:55,40 workflow INFO:\n",
        "\t Executing node Fugue_Warp in dir: /home/oesteban/workspace/ACWE-Reg/temp/DigitalPhantomISBI/SynthSuscept_no-noise/Fugue_WarpDWIs/Fugue_Warp\n"
       ]
      },
      {
       "output_type": "stream",
       "stream": "stdout",
       "text": [
        "130906-20:16:55,45 workflow INFO:\n",
        "\t Executing node _Fugue_Warp0 in dir: /home/oesteban/workspace/ACWE-Reg/temp/DigitalPhantomISBI/SynthSuscept_no-noise/Fugue_WarpDWIs/Fugue_Warp/mapflow/_Fugue_Warp0\n"
       ]
      },
      {
       "output_type": "stream",
       "stream": "stdout",
       "text": [
        "130906-20:16:55,48 workflow INFO:\n",
        "\t Running: fugue --in=/home/oesteban/workspace/ACWE-Reg/temp/DigitalPhantomISBI/SynthSuscept_no-noise/Fugue_WarpDWIs/split_DWI/DWIS_dti-scheme_no-noise_000.nii.gz --mask=/home/oesteban/workspace/ACWE-Reg/Data/DigitalPhantomISBI/signal_mask.nii.gz --loadshift=/home/oesteban/workspace/ACWE-Reg/temp/DigitalPhantomISBI/SynthSuscept_no-noise/demean/signal_mask_vsm_demeaned.nii.gz --warp=/home/oesteban/workspace/ACWE-Reg/temp/DigitalPhantomISBI/SynthSuscept_no-noise/Fugue_WarpDWIs/Fugue_Warp/mapflow/_Fugue_Warp0/DWIS_dti-scheme_no-noise_000_warped.nii.gz\n"
       ]
      },
      {
       "output_type": "stream",
       "stream": "stdout",
       "text": [
        "130906-20:16:58,882 workflow INFO:\n",
        "\t Executing node _Fugue_Warp1 in dir: /home/oesteban/workspace/ACWE-Reg/temp/DigitalPhantomISBI/SynthSuscept_no-noise/Fugue_WarpDWIs/Fugue_Warp/mapflow/_Fugue_Warp1\n"
       ]
      },
      {
       "output_type": "stream",
       "stream": "stdout",
       "text": [
        "130906-20:16:58,888 workflow INFO:\n",
        "\t Running: fugue --in=/home/oesteban/workspace/ACWE-Reg/temp/DigitalPhantomISBI/SynthSuscept_no-noise/Fugue_WarpDWIs/split_DWI/DWIS_dti-scheme_no-noise_001.nii.gz --mask=/home/oesteban/workspace/ACWE-Reg/Data/DigitalPhantomISBI/signal_mask.nii.gz --loadshift=/home/oesteban/workspace/ACWE-Reg/temp/DigitalPhantomISBI/SynthSuscept_no-noise/demean/signal_mask_vsm_demeaned.nii.gz --warp=/home/oesteban/workspace/ACWE-Reg/temp/DigitalPhantomISBI/SynthSuscept_no-noise/Fugue_WarpDWIs/Fugue_Warp/mapflow/_Fugue_Warp1/DWIS_dti-scheme_no-noise_001_warped.nii.gz\n"
       ]
      },
      {
       "output_type": "stream",
       "stream": "stdout",
       "text": [
        "130906-20:17:02,728 workflow INFO:\n",
        "\t Executing node _Fugue_Warp2 in dir: /home/oesteban/workspace/ACWE-Reg/temp/DigitalPhantomISBI/SynthSuscept_no-noise/Fugue_WarpDWIs/Fugue_Warp/mapflow/_Fugue_Warp2\n"
       ]
      },
      {
       "output_type": "stream",
       "stream": "stdout",
       "text": [
        "130906-20:17:02,735 workflow INFO:\n",
        "\t Running: fugue --in=/home/oesteban/workspace/ACWE-Reg/temp/DigitalPhantomISBI/SynthSuscept_no-noise/Fugue_WarpDWIs/split_DWI/DWIS_dti-scheme_no-noise_002.nii.gz --mask=/home/oesteban/workspace/ACWE-Reg/Data/DigitalPhantomISBI/signal_mask.nii.gz --loadshift=/home/oesteban/workspace/ACWE-Reg/temp/DigitalPhantomISBI/SynthSuscept_no-noise/demean/signal_mask_vsm_demeaned.nii.gz --warp=/home/oesteban/workspace/ACWE-Reg/temp/DigitalPhantomISBI/SynthSuscept_no-noise/Fugue_WarpDWIs/Fugue_Warp/mapflow/_Fugue_Warp2/DWIS_dti-scheme_no-noise_002_warped.nii.gz\n"
       ]
      },
      {
       "output_type": "stream",
       "stream": "stdout",
       "text": [
        "130906-20:17:06,576 workflow INFO:\n",
        "\t Executing node _Fugue_Warp3 in dir: /home/oesteban/workspace/ACWE-Reg/temp/DigitalPhantomISBI/SynthSuscept_no-noise/Fugue_WarpDWIs/Fugue_Warp/mapflow/_Fugue_Warp3\n"
       ]
      },
      {
       "output_type": "stream",
       "stream": "stdout",
       "text": [
        "130906-20:17:06,581 workflow INFO:\n",
        "\t Running: fugue --in=/home/oesteban/workspace/ACWE-Reg/temp/DigitalPhantomISBI/SynthSuscept_no-noise/Fugue_WarpDWIs/split_DWI/DWIS_dti-scheme_no-noise_003.nii.gz --mask=/home/oesteban/workspace/ACWE-Reg/Data/DigitalPhantomISBI/signal_mask.nii.gz --loadshift=/home/oesteban/workspace/ACWE-Reg/temp/DigitalPhantomISBI/SynthSuscept_no-noise/demean/signal_mask_vsm_demeaned.nii.gz --warp=/home/oesteban/workspace/ACWE-Reg/temp/DigitalPhantomISBI/SynthSuscept_no-noise/Fugue_WarpDWIs/Fugue_Warp/mapflow/_Fugue_Warp3/DWIS_dti-scheme_no-noise_003_warped.nii.gz\n"
       ]
      },
      {
       "output_type": "stream",
       "stream": "stdout",
       "text": [
        "130906-20:17:10,414 workflow INFO:\n",
        "\t Executing node _Fugue_Warp4 in dir: /home/oesteban/workspace/ACWE-Reg/temp/DigitalPhantomISBI/SynthSuscept_no-noise/Fugue_WarpDWIs/Fugue_Warp/mapflow/_Fugue_Warp4\n"
       ]
      },
      {
       "output_type": "stream",
       "stream": "stdout",
       "text": [
        "130906-20:17:10,420 workflow INFO:\n",
        "\t Running: fugue --in=/home/oesteban/workspace/ACWE-Reg/temp/DigitalPhantomISBI/SynthSuscept_no-noise/Fugue_WarpDWIs/split_DWI/DWIS_dti-scheme_no-noise_004.nii.gz --mask=/home/oesteban/workspace/ACWE-Reg/Data/DigitalPhantomISBI/signal_mask.nii.gz --loadshift=/home/oesteban/workspace/ACWE-Reg/temp/DigitalPhantomISBI/SynthSuscept_no-noise/demean/signal_mask_vsm_demeaned.nii.gz --warp=/home/oesteban/workspace/ACWE-Reg/temp/DigitalPhantomISBI/SynthSuscept_no-noise/Fugue_WarpDWIs/Fugue_Warp/mapflow/_Fugue_Warp4/DWIS_dti-scheme_no-noise_004_warped.nii.gz\n"
       ]
      },
      {
       "output_type": "stream",
       "stream": "stdout",
       "text": [
        "130906-20:17:14,260 workflow INFO:\n",
        "\t Executing node _Fugue_Warp5 in dir: /home/oesteban/workspace/ACWE-Reg/temp/DigitalPhantomISBI/SynthSuscept_no-noise/Fugue_WarpDWIs/Fugue_Warp/mapflow/_Fugue_Warp5\n"
       ]
      },
      {
       "output_type": "stream",
       "stream": "stdout",
       "text": [
        "130906-20:17:14,262 workflow INFO:\n",
        "\t Running: fugue --in=/home/oesteban/workspace/ACWE-Reg/temp/DigitalPhantomISBI/SynthSuscept_no-noise/Fugue_WarpDWIs/split_DWI/DWIS_dti-scheme_no-noise_005.nii.gz --mask=/home/oesteban/workspace/ACWE-Reg/Data/DigitalPhantomISBI/signal_mask.nii.gz --loadshift=/home/oesteban/workspace/ACWE-Reg/temp/DigitalPhantomISBI/SynthSuscept_no-noise/demean/signal_mask_vsm_demeaned.nii.gz --warp=/home/oesteban/workspace/ACWE-Reg/temp/DigitalPhantomISBI/SynthSuscept_no-noise/Fugue_WarpDWIs/Fugue_Warp/mapflow/_Fugue_Warp5/DWIS_dti-scheme_no-noise_005_warped.nii.gz\n"
       ]
      },
      {
       "output_type": "stream",
       "stream": "stdout",
       "text": [
        "130906-20:17:18,94 workflow INFO:\n",
        "\t Executing node _Fugue_Warp6 in dir: /home/oesteban/workspace/ACWE-Reg/temp/DigitalPhantomISBI/SynthSuscept_no-noise/Fugue_WarpDWIs/Fugue_Warp/mapflow/_Fugue_Warp6\n"
       ]
      },
      {
       "output_type": "stream",
       "stream": "stdout",
       "text": [
        "130906-20:17:18,101 workflow INFO:\n",
        "\t Running: fugue --in=/home/oesteban/workspace/ACWE-Reg/temp/DigitalPhantomISBI/SynthSuscept_no-noise/Fugue_WarpDWIs/split_DWI/DWIS_dti-scheme_no-noise_006.nii.gz --mask=/home/oesteban/workspace/ACWE-Reg/Data/DigitalPhantomISBI/signal_mask.nii.gz --loadshift=/home/oesteban/workspace/ACWE-Reg/temp/DigitalPhantomISBI/SynthSuscept_no-noise/demean/signal_mask_vsm_demeaned.nii.gz --warp=/home/oesteban/workspace/ACWE-Reg/temp/DigitalPhantomISBI/SynthSuscept_no-noise/Fugue_WarpDWIs/Fugue_Warp/mapflow/_Fugue_Warp6/DWIS_dti-scheme_no-noise_006_warped.nii.gz\n"
       ]
      },
      {
       "output_type": "stream",
       "stream": "stdout",
       "text": [
        "130906-20:17:21,935 workflow INFO:\n",
        "\t Executing node _Fugue_Warp7 in dir: /home/oesteban/workspace/ACWE-Reg/temp/DigitalPhantomISBI/SynthSuscept_no-noise/Fugue_WarpDWIs/Fugue_Warp/mapflow/_Fugue_Warp7\n"
       ]
      },
      {
       "output_type": "stream",
       "stream": "stdout",
       "text": [
        "130906-20:17:21,941 workflow INFO:\n",
        "\t Running: fugue --in=/home/oesteban/workspace/ACWE-Reg/temp/DigitalPhantomISBI/SynthSuscept_no-noise/Fugue_WarpDWIs/split_DWI/DWIS_dti-scheme_no-noise_007.nii.gz --mask=/home/oesteban/workspace/ACWE-Reg/Data/DigitalPhantomISBI/signal_mask.nii.gz --loadshift=/home/oesteban/workspace/ACWE-Reg/temp/DigitalPhantomISBI/SynthSuscept_no-noise/demean/signal_mask_vsm_demeaned.nii.gz --warp=/home/oesteban/workspace/ACWE-Reg/temp/DigitalPhantomISBI/SynthSuscept_no-noise/Fugue_WarpDWIs/Fugue_Warp/mapflow/_Fugue_Warp7/DWIS_dti-scheme_no-noise_007_warped.nii.gz\n"
       ]
      },
      {
       "output_type": "stream",
       "stream": "stdout",
       "text": [
        "130906-20:17:25,775 workflow INFO:\n",
        "\t Executing node _Fugue_Warp8 in dir: /home/oesteban/workspace/ACWE-Reg/temp/DigitalPhantomISBI/SynthSuscept_no-noise/Fugue_WarpDWIs/Fugue_Warp/mapflow/_Fugue_Warp8\n"
       ]
      },
      {
       "output_type": "stream",
       "stream": "stdout",
       "text": [
        "130906-20:17:25,780 workflow INFO:\n",
        "\t Running: fugue --in=/home/oesteban/workspace/ACWE-Reg/temp/DigitalPhantomISBI/SynthSuscept_no-noise/Fugue_WarpDWIs/split_DWI/DWIS_dti-scheme_no-noise_008.nii.gz --mask=/home/oesteban/workspace/ACWE-Reg/Data/DigitalPhantomISBI/signal_mask.nii.gz --loadshift=/home/oesteban/workspace/ACWE-Reg/temp/DigitalPhantomISBI/SynthSuscept_no-noise/demean/signal_mask_vsm_demeaned.nii.gz --warp=/home/oesteban/workspace/ACWE-Reg/temp/DigitalPhantomISBI/SynthSuscept_no-noise/Fugue_WarpDWIs/Fugue_Warp/mapflow/_Fugue_Warp8/DWIS_dti-scheme_no-noise_008_warped.nii.gz\n"
       ]
      },
      {
       "output_type": "stream",
       "stream": "stdout",
       "text": [
        "130906-20:17:29,604 workflow INFO:\n",
        "\t Executing node _Fugue_Warp9 in dir: /home/oesteban/workspace/ACWE-Reg/temp/DigitalPhantomISBI/SynthSuscept_no-noise/Fugue_WarpDWIs/Fugue_Warp/mapflow/_Fugue_Warp9\n"
       ]
      },
      {
       "output_type": "stream",
       "stream": "stdout",
       "text": [
        "130906-20:17:29,609 workflow INFO:\n",
        "\t Running: fugue --in=/home/oesteban/workspace/ACWE-Reg/temp/DigitalPhantomISBI/SynthSuscept_no-noise/Fugue_WarpDWIs/split_DWI/DWIS_dti-scheme_no-noise_009.nii.gz --mask=/home/oesteban/workspace/ACWE-Reg/Data/DigitalPhantomISBI/signal_mask.nii.gz --loadshift=/home/oesteban/workspace/ACWE-Reg/temp/DigitalPhantomISBI/SynthSuscept_no-noise/demean/signal_mask_vsm_demeaned.nii.gz --warp=/home/oesteban/workspace/ACWE-Reg/temp/DigitalPhantomISBI/SynthSuscept_no-noise/Fugue_WarpDWIs/Fugue_Warp/mapflow/_Fugue_Warp9/DWIS_dti-scheme_no-noise_009_warped.nii.gz\n"
       ]
      },
      {
       "output_type": "stream",
       "stream": "stdout",
       "text": [
        "130906-20:17:33,441 workflow INFO:\n",
        "\t Executing node _Fugue_Warp10 in dir: /home/oesteban/workspace/ACWE-Reg/temp/DigitalPhantomISBI/SynthSuscept_no-noise/Fugue_WarpDWIs/Fugue_Warp/mapflow/_Fugue_Warp10\n"
       ]
      },
      {
       "output_type": "stream",
       "stream": "stdout",
       "text": [
        "130906-20:17:33,447 workflow INFO:\n",
        "\t Running: fugue --in=/home/oesteban/workspace/ACWE-Reg/temp/DigitalPhantomISBI/SynthSuscept_no-noise/Fugue_WarpDWIs/split_DWI/DWIS_dti-scheme_no-noise_010.nii.gz --mask=/home/oesteban/workspace/ACWE-Reg/Data/DigitalPhantomISBI/signal_mask.nii.gz --loadshift=/home/oesteban/workspace/ACWE-Reg/temp/DigitalPhantomISBI/SynthSuscept_no-noise/demean/signal_mask_vsm_demeaned.nii.gz --warp=/home/oesteban/workspace/ACWE-Reg/temp/DigitalPhantomISBI/SynthSuscept_no-noise/Fugue_WarpDWIs/Fugue_Warp/mapflow/_Fugue_Warp10/DWIS_dti-scheme_no-noise_010_warped.nii.gz\n"
       ]
      },
      {
       "output_type": "stream",
       "stream": "stdout",
       "text": [
        "130906-20:17:37,275 workflow INFO:\n",
        "\t Executing node _Fugue_Warp11 in dir: /home/oesteban/workspace/ACWE-Reg/temp/DigitalPhantomISBI/SynthSuscept_no-noise/Fugue_WarpDWIs/Fugue_Warp/mapflow/_Fugue_Warp11\n"
       ]
      },
      {
       "output_type": "stream",
       "stream": "stdout",
       "text": [
        "130906-20:17:37,278 workflow INFO:\n",
        "\t Running: fugue --in=/home/oesteban/workspace/ACWE-Reg/temp/DigitalPhantomISBI/SynthSuscept_no-noise/Fugue_WarpDWIs/split_DWI/DWIS_dti-scheme_no-noise_011.nii.gz --mask=/home/oesteban/workspace/ACWE-Reg/Data/DigitalPhantomISBI/signal_mask.nii.gz --loadshift=/home/oesteban/workspace/ACWE-Reg/temp/DigitalPhantomISBI/SynthSuscept_no-noise/demean/signal_mask_vsm_demeaned.nii.gz --warp=/home/oesteban/workspace/ACWE-Reg/temp/DigitalPhantomISBI/SynthSuscept_no-noise/Fugue_WarpDWIs/Fugue_Warp/mapflow/_Fugue_Warp11/DWIS_dti-scheme_no-noise_011_warped.nii.gz\n"
       ]
      },
      {
       "output_type": "stream",
       "stream": "stdout",
       "text": [
        "130906-20:17:41,122 workflow INFO:\n",
        "\t Executing node _Fugue_Warp12 in dir: /home/oesteban/workspace/ACWE-Reg/temp/DigitalPhantomISBI/SynthSuscept_no-noise/Fugue_WarpDWIs/Fugue_Warp/mapflow/_Fugue_Warp12\n"
       ]
      },
      {
       "output_type": "stream",
       "stream": "stdout",
       "text": [
        "130906-20:17:41,128 workflow INFO:\n",
        "\t Running: fugue --in=/home/oesteban/workspace/ACWE-Reg/temp/DigitalPhantomISBI/SynthSuscept_no-noise/Fugue_WarpDWIs/split_DWI/DWIS_dti-scheme_no-noise_012.nii.gz --mask=/home/oesteban/workspace/ACWE-Reg/Data/DigitalPhantomISBI/signal_mask.nii.gz --loadshift=/home/oesteban/workspace/ACWE-Reg/temp/DigitalPhantomISBI/SynthSuscept_no-noise/demean/signal_mask_vsm_demeaned.nii.gz --warp=/home/oesteban/workspace/ACWE-Reg/temp/DigitalPhantomISBI/SynthSuscept_no-noise/Fugue_WarpDWIs/Fugue_Warp/mapflow/_Fugue_Warp12/DWIS_dti-scheme_no-noise_012_warped.nii.gz\n"
       ]
      },
      {
       "output_type": "stream",
       "stream": "stdout",
       "text": [
        "130906-20:17:44,959 workflow INFO:\n",
        "\t Executing node _Fugue_Warp13 in dir: /home/oesteban/workspace/ACWE-Reg/temp/DigitalPhantomISBI/SynthSuscept_no-noise/Fugue_WarpDWIs/Fugue_Warp/mapflow/_Fugue_Warp13\n"
       ]
      },
      {
       "output_type": "stream",
       "stream": "stdout",
       "text": [
        "130906-20:17:44,965 workflow INFO:\n",
        "\t Running: fugue --in=/home/oesteban/workspace/ACWE-Reg/temp/DigitalPhantomISBI/SynthSuscept_no-noise/Fugue_WarpDWIs/split_DWI/DWIS_dti-scheme_no-noise_013.nii.gz --mask=/home/oesteban/workspace/ACWE-Reg/Data/DigitalPhantomISBI/signal_mask.nii.gz --loadshift=/home/oesteban/workspace/ACWE-Reg/temp/DigitalPhantomISBI/SynthSuscept_no-noise/demean/signal_mask_vsm_demeaned.nii.gz --warp=/home/oesteban/workspace/ACWE-Reg/temp/DigitalPhantomISBI/SynthSuscept_no-noise/Fugue_WarpDWIs/Fugue_Warp/mapflow/_Fugue_Warp13/DWIS_dti-scheme_no-noise_013_warped.nii.gz\n"
       ]
      },
      {
       "output_type": "stream",
       "stream": "stdout",
       "text": [
        "130906-20:17:48,796 workflow INFO:\n",
        "\t Executing node _Fugue_Warp14 in dir: /home/oesteban/workspace/ACWE-Reg/temp/DigitalPhantomISBI/SynthSuscept_no-noise/Fugue_WarpDWIs/Fugue_Warp/mapflow/_Fugue_Warp14\n"
       ]
      },
      {
       "output_type": "stream",
       "stream": "stdout",
       "text": [
        "130906-20:17:48,799 workflow INFO:\n",
        "\t Running: fugue --in=/home/oesteban/workspace/ACWE-Reg/temp/DigitalPhantomISBI/SynthSuscept_no-noise/Fugue_WarpDWIs/split_DWI/DWIS_dti-scheme_no-noise_014.nii.gz --mask=/home/oesteban/workspace/ACWE-Reg/Data/DigitalPhantomISBI/signal_mask.nii.gz --loadshift=/home/oesteban/workspace/ACWE-Reg/temp/DigitalPhantomISBI/SynthSuscept_no-noise/demean/signal_mask_vsm_demeaned.nii.gz --warp=/home/oesteban/workspace/ACWE-Reg/temp/DigitalPhantomISBI/SynthSuscept_no-noise/Fugue_WarpDWIs/Fugue_Warp/mapflow/_Fugue_Warp14/DWIS_dti-scheme_no-noise_014_warped.nii.gz\n"
       ]
      },
      {
       "output_type": "stream",
       "stream": "stdout",
       "text": [
        "130906-20:17:52,636 workflow INFO:\n",
        "\t Executing node _Fugue_Warp15 in dir: /home/oesteban/workspace/ACWE-Reg/temp/DigitalPhantomISBI/SynthSuscept_no-noise/Fugue_WarpDWIs/Fugue_Warp/mapflow/_Fugue_Warp15\n"
       ]
      },
      {
       "output_type": "stream",
       "stream": "stdout",
       "text": [
        "130906-20:17:52,639 workflow INFO:\n",
        "\t Running: fugue --in=/home/oesteban/workspace/ACWE-Reg/temp/DigitalPhantomISBI/SynthSuscept_no-noise/Fugue_WarpDWIs/split_DWI/DWIS_dti-scheme_no-noise_015.nii.gz --mask=/home/oesteban/workspace/ACWE-Reg/Data/DigitalPhantomISBI/signal_mask.nii.gz --loadshift=/home/oesteban/workspace/ACWE-Reg/temp/DigitalPhantomISBI/SynthSuscept_no-noise/demean/signal_mask_vsm_demeaned.nii.gz --warp=/home/oesteban/workspace/ACWE-Reg/temp/DigitalPhantomISBI/SynthSuscept_no-noise/Fugue_WarpDWIs/Fugue_Warp/mapflow/_Fugue_Warp15/DWIS_dti-scheme_no-noise_015_warped.nii.gz\n"
       ]
      },
      {
       "output_type": "stream",
       "stream": "stdout",
       "text": [
        "130906-20:17:56,514 workflow INFO:\n",
        "\t Executing node _Fugue_Warp16 in dir: /home/oesteban/workspace/ACWE-Reg/temp/DigitalPhantomISBI/SynthSuscept_no-noise/Fugue_WarpDWIs/Fugue_Warp/mapflow/_Fugue_Warp16\n"
       ]
      },
      {
       "output_type": "stream",
       "stream": "stdout",
       "text": [
        "130906-20:17:56,521 workflow INFO:\n",
        "\t Running: fugue --in=/home/oesteban/workspace/ACWE-Reg/temp/DigitalPhantomISBI/SynthSuscept_no-noise/Fugue_WarpDWIs/split_DWI/DWIS_dti-scheme_no-noise_016.nii.gz --mask=/home/oesteban/workspace/ACWE-Reg/Data/DigitalPhantomISBI/signal_mask.nii.gz --loadshift=/home/oesteban/workspace/ACWE-Reg/temp/DigitalPhantomISBI/SynthSuscept_no-noise/demean/signal_mask_vsm_demeaned.nii.gz --warp=/home/oesteban/workspace/ACWE-Reg/temp/DigitalPhantomISBI/SynthSuscept_no-noise/Fugue_WarpDWIs/Fugue_Warp/mapflow/_Fugue_Warp16/DWIS_dti-scheme_no-noise_016_warped.nii.gz\n"
       ]
      },
      {
       "output_type": "stream",
       "stream": "stdout",
       "text": [
        "130906-20:18:00,364 workflow INFO:\n",
        "\t Executing node _Fugue_Warp17 in dir: /home/oesteban/workspace/ACWE-Reg/temp/DigitalPhantomISBI/SynthSuscept_no-noise/Fugue_WarpDWIs/Fugue_Warp/mapflow/_Fugue_Warp17\n"
       ]
      },
      {
       "output_type": "stream",
       "stream": "stdout",
       "text": [
        "130906-20:18:00,367 workflow INFO:\n",
        "\t Running: fugue --in=/home/oesteban/workspace/ACWE-Reg/temp/DigitalPhantomISBI/SynthSuscept_no-noise/Fugue_WarpDWIs/split_DWI/DWIS_dti-scheme_no-noise_017.nii.gz --mask=/home/oesteban/workspace/ACWE-Reg/Data/DigitalPhantomISBI/signal_mask.nii.gz --loadshift=/home/oesteban/workspace/ACWE-Reg/temp/DigitalPhantomISBI/SynthSuscept_no-noise/demean/signal_mask_vsm_demeaned.nii.gz --warp=/home/oesteban/workspace/ACWE-Reg/temp/DigitalPhantomISBI/SynthSuscept_no-noise/Fugue_WarpDWIs/Fugue_Warp/mapflow/_Fugue_Warp17/DWIS_dti-scheme_no-noise_017_warped.nii.gz\n"
       ]
      },
      {
       "output_type": "stream",
       "stream": "stdout",
       "text": [
        "130906-20:18:04,191 workflow INFO:\n",
        "\t Executing node _Fugue_Warp18 in dir: /home/oesteban/workspace/ACWE-Reg/temp/DigitalPhantomISBI/SynthSuscept_no-noise/Fugue_WarpDWIs/Fugue_Warp/mapflow/_Fugue_Warp18\n"
       ]
      },
      {
       "output_type": "stream",
       "stream": "stdout",
       "text": [
        "130906-20:18:04,194 workflow INFO:\n",
        "\t Running: fugue --in=/home/oesteban/workspace/ACWE-Reg/temp/DigitalPhantomISBI/SynthSuscept_no-noise/Fugue_WarpDWIs/split_DWI/DWIS_dti-scheme_no-noise_018.nii.gz --mask=/home/oesteban/workspace/ACWE-Reg/Data/DigitalPhantomISBI/signal_mask.nii.gz --loadshift=/home/oesteban/workspace/ACWE-Reg/temp/DigitalPhantomISBI/SynthSuscept_no-noise/demean/signal_mask_vsm_demeaned.nii.gz --warp=/home/oesteban/workspace/ACWE-Reg/temp/DigitalPhantomISBI/SynthSuscept_no-noise/Fugue_WarpDWIs/Fugue_Warp/mapflow/_Fugue_Warp18/DWIS_dti-scheme_no-noise_018_warped.nii.gz\n"
       ]
      },
      {
       "output_type": "stream",
       "stream": "stdout",
       "text": [
        "130906-20:18:08,38 workflow INFO:\n",
        "\t Executing node _Fugue_Warp19 in dir: /home/oesteban/workspace/ACWE-Reg/temp/DigitalPhantomISBI/SynthSuscept_no-noise/Fugue_WarpDWIs/Fugue_Warp/mapflow/_Fugue_Warp19\n"
       ]
      },
      {
       "output_type": "stream",
       "stream": "stdout",
       "text": [
        "130906-20:18:08,44 workflow INFO:\n",
        "\t Running: fugue --in=/home/oesteban/workspace/ACWE-Reg/temp/DigitalPhantomISBI/SynthSuscept_no-noise/Fugue_WarpDWIs/split_DWI/DWIS_dti-scheme_no-noise_019.nii.gz --mask=/home/oesteban/workspace/ACWE-Reg/Data/DigitalPhantomISBI/signal_mask.nii.gz --loadshift=/home/oesteban/workspace/ACWE-Reg/temp/DigitalPhantomISBI/SynthSuscept_no-noise/demean/signal_mask_vsm_demeaned.nii.gz --warp=/home/oesteban/workspace/ACWE-Reg/temp/DigitalPhantomISBI/SynthSuscept_no-noise/Fugue_WarpDWIs/Fugue_Warp/mapflow/_Fugue_Warp19/DWIS_dti-scheme_no-noise_019_warped.nii.gz\n"
       ]
      },
      {
       "output_type": "stream",
       "stream": "stdout",
       "text": [
        "130906-20:18:11,881 workflow INFO:\n",
        "\t Executing node _Fugue_Warp20 in dir: /home/oesteban/workspace/ACWE-Reg/temp/DigitalPhantomISBI/SynthSuscept_no-noise/Fugue_WarpDWIs/Fugue_Warp/mapflow/_Fugue_Warp20\n"
       ]
      },
      {
       "output_type": "stream",
       "stream": "stdout",
       "text": [
        "130906-20:18:11,885 workflow INFO:\n",
        "\t Running: fugue --in=/home/oesteban/workspace/ACWE-Reg/temp/DigitalPhantomISBI/SynthSuscept_no-noise/Fugue_WarpDWIs/split_DWI/DWIS_dti-scheme_no-noise_020.nii.gz --mask=/home/oesteban/workspace/ACWE-Reg/Data/DigitalPhantomISBI/signal_mask.nii.gz --loadshift=/home/oesteban/workspace/ACWE-Reg/temp/DigitalPhantomISBI/SynthSuscept_no-noise/demean/signal_mask_vsm_demeaned.nii.gz --warp=/home/oesteban/workspace/ACWE-Reg/temp/DigitalPhantomISBI/SynthSuscept_no-noise/Fugue_WarpDWIs/Fugue_Warp/mapflow/_Fugue_Warp20/DWIS_dti-scheme_no-noise_020_warped.nii.gz\n"
       ]
      },
      {
       "output_type": "stream",
       "stream": "stdout",
       "text": [
        "130906-20:18:15,731 workflow INFO:\n",
        "\t Executing node _Fugue_Warp21 in dir: /home/oesteban/workspace/ACWE-Reg/temp/DigitalPhantomISBI/SynthSuscept_no-noise/Fugue_WarpDWIs/Fugue_Warp/mapflow/_Fugue_Warp21\n"
       ]
      },
      {
       "output_type": "stream",
       "stream": "stdout",
       "text": [
        "130906-20:18:15,736 workflow INFO:\n",
        "\t Running: fugue --in=/home/oesteban/workspace/ACWE-Reg/temp/DigitalPhantomISBI/SynthSuscept_no-noise/Fugue_WarpDWIs/split_DWI/DWIS_dti-scheme_no-noise_021.nii.gz --mask=/home/oesteban/workspace/ACWE-Reg/Data/DigitalPhantomISBI/signal_mask.nii.gz --loadshift=/home/oesteban/workspace/ACWE-Reg/temp/DigitalPhantomISBI/SynthSuscept_no-noise/demean/signal_mask_vsm_demeaned.nii.gz --warp=/home/oesteban/workspace/ACWE-Reg/temp/DigitalPhantomISBI/SynthSuscept_no-noise/Fugue_WarpDWIs/Fugue_Warp/mapflow/_Fugue_Warp21/DWIS_dti-scheme_no-noise_021_warped.nii.gz\n"
       ]
      },
      {
       "output_type": "stream",
       "stream": "stdout",
       "text": [
        "130906-20:18:19,585 workflow INFO:\n",
        "\t Executing node _Fugue_Warp22 in dir: /home/oesteban/workspace/ACWE-Reg/temp/DigitalPhantomISBI/SynthSuscept_no-noise/Fugue_WarpDWIs/Fugue_Warp/mapflow/_Fugue_Warp22\n"
       ]
      },
      {
       "output_type": "stream",
       "stream": "stdout",
       "text": [
        "130906-20:18:19,589 workflow INFO:\n",
        "\t Running: fugue --in=/home/oesteban/workspace/ACWE-Reg/temp/DigitalPhantomISBI/SynthSuscept_no-noise/Fugue_WarpDWIs/split_DWI/DWIS_dti-scheme_no-noise_022.nii.gz --mask=/home/oesteban/workspace/ACWE-Reg/Data/DigitalPhantomISBI/signal_mask.nii.gz --loadshift=/home/oesteban/workspace/ACWE-Reg/temp/DigitalPhantomISBI/SynthSuscept_no-noise/demean/signal_mask_vsm_demeaned.nii.gz --warp=/home/oesteban/workspace/ACWE-Reg/temp/DigitalPhantomISBI/SynthSuscept_no-noise/Fugue_WarpDWIs/Fugue_Warp/mapflow/_Fugue_Warp22/DWIS_dti-scheme_no-noise_022_warped.nii.gz\n"
       ]
      },
      {
       "output_type": "stream",
       "stream": "stdout",
       "text": [
        "130906-20:18:23,428 workflow INFO:\n",
        "\t Executing node _Fugue_Warp23 in dir: /home/oesteban/workspace/ACWE-Reg/temp/DigitalPhantomISBI/SynthSuscept_no-noise/Fugue_WarpDWIs/Fugue_Warp/mapflow/_Fugue_Warp23\n"
       ]
      },
      {
       "output_type": "stream",
       "stream": "stdout",
       "text": [
        "130906-20:18:23,431 workflow INFO:\n",
        "\t Running: fugue --in=/home/oesteban/workspace/ACWE-Reg/temp/DigitalPhantomISBI/SynthSuscept_no-noise/Fugue_WarpDWIs/split_DWI/DWIS_dti-scheme_no-noise_023.nii.gz --mask=/home/oesteban/workspace/ACWE-Reg/Data/DigitalPhantomISBI/signal_mask.nii.gz --loadshift=/home/oesteban/workspace/ACWE-Reg/temp/DigitalPhantomISBI/SynthSuscept_no-noise/demean/signal_mask_vsm_demeaned.nii.gz --warp=/home/oesteban/workspace/ACWE-Reg/temp/DigitalPhantomISBI/SynthSuscept_no-noise/Fugue_WarpDWIs/Fugue_Warp/mapflow/_Fugue_Warp23/DWIS_dti-scheme_no-noise_023_warped.nii.gz\n"
       ]
      },
      {
       "output_type": "stream",
       "stream": "stdout",
       "text": [
        "130906-20:18:27,266 workflow INFO:\n",
        "\t Executing node _Fugue_Warp24 in dir: /home/oesteban/workspace/ACWE-Reg/temp/DigitalPhantomISBI/SynthSuscept_no-noise/Fugue_WarpDWIs/Fugue_Warp/mapflow/_Fugue_Warp24\n"
       ]
      },
      {
       "output_type": "stream",
       "stream": "stdout",
       "text": [
        "130906-20:18:27,269 workflow INFO:\n",
        "\t Running: fugue --in=/home/oesteban/workspace/ACWE-Reg/temp/DigitalPhantomISBI/SynthSuscept_no-noise/Fugue_WarpDWIs/split_DWI/DWIS_dti-scheme_no-noise_024.nii.gz --mask=/home/oesteban/workspace/ACWE-Reg/Data/DigitalPhantomISBI/signal_mask.nii.gz --loadshift=/home/oesteban/workspace/ACWE-Reg/temp/DigitalPhantomISBI/SynthSuscept_no-noise/demean/signal_mask_vsm_demeaned.nii.gz --warp=/home/oesteban/workspace/ACWE-Reg/temp/DigitalPhantomISBI/SynthSuscept_no-noise/Fugue_WarpDWIs/Fugue_Warp/mapflow/_Fugue_Warp24/DWIS_dti-scheme_no-noise_024_warped.nii.gz\n"
       ]
      },
      {
       "output_type": "stream",
       "stream": "stdout",
       "text": [
        "130906-20:18:31,103 workflow INFO:\n",
        "\t Executing node _Fugue_Warp25 in dir: /home/oesteban/workspace/ACWE-Reg/temp/DigitalPhantomISBI/SynthSuscept_no-noise/Fugue_WarpDWIs/Fugue_Warp/mapflow/_Fugue_Warp25\n"
       ]
      },
      {
       "output_type": "stream",
       "stream": "stdout",
       "text": [
        "130906-20:18:31,108 workflow INFO:\n",
        "\t Running: fugue --in=/home/oesteban/workspace/ACWE-Reg/temp/DigitalPhantomISBI/SynthSuscept_no-noise/Fugue_WarpDWIs/split_DWI/DWIS_dti-scheme_no-noise_025.nii.gz --mask=/home/oesteban/workspace/ACWE-Reg/Data/DigitalPhantomISBI/signal_mask.nii.gz --loadshift=/home/oesteban/workspace/ACWE-Reg/temp/DigitalPhantomISBI/SynthSuscept_no-noise/demean/signal_mask_vsm_demeaned.nii.gz --warp=/home/oesteban/workspace/ACWE-Reg/temp/DigitalPhantomISBI/SynthSuscept_no-noise/Fugue_WarpDWIs/Fugue_Warp/mapflow/_Fugue_Warp25/DWIS_dti-scheme_no-noise_025_warped.nii.gz\n"
       ]
      },
      {
       "output_type": "stream",
       "stream": "stdout",
       "text": [
        "130906-20:18:34,937 workflow INFO:\n",
        "\t Executing node _Fugue_Warp26 in dir: /home/oesteban/workspace/ACWE-Reg/temp/DigitalPhantomISBI/SynthSuscept_no-noise/Fugue_WarpDWIs/Fugue_Warp/mapflow/_Fugue_Warp26\n"
       ]
      },
      {
       "output_type": "stream",
       "stream": "stdout",
       "text": [
        "130906-20:18:34,940 workflow INFO:\n",
        "\t Running: fugue --in=/home/oesteban/workspace/ACWE-Reg/temp/DigitalPhantomISBI/SynthSuscept_no-noise/Fugue_WarpDWIs/split_DWI/DWIS_dti-scheme_no-noise_026.nii.gz --mask=/home/oesteban/workspace/ACWE-Reg/Data/DigitalPhantomISBI/signal_mask.nii.gz --loadshift=/home/oesteban/workspace/ACWE-Reg/temp/DigitalPhantomISBI/SynthSuscept_no-noise/demean/signal_mask_vsm_demeaned.nii.gz --warp=/home/oesteban/workspace/ACWE-Reg/temp/DigitalPhantomISBI/SynthSuscept_no-noise/Fugue_WarpDWIs/Fugue_Warp/mapflow/_Fugue_Warp26/DWIS_dti-scheme_no-noise_026_warped.nii.gz\n"
       ]
      },
      {
       "output_type": "stream",
       "stream": "stdout",
       "text": [
        "130906-20:18:38,780 workflow INFO:\n",
        "\t Executing node _Fugue_Warp27 in dir: /home/oesteban/workspace/ACWE-Reg/temp/DigitalPhantomISBI/SynthSuscept_no-noise/Fugue_WarpDWIs/Fugue_Warp/mapflow/_Fugue_Warp27\n"
       ]
      },
      {
       "output_type": "stream",
       "stream": "stdout",
       "text": [
        "130906-20:18:38,786 workflow INFO:\n",
        "\t Running: fugue --in=/home/oesteban/workspace/ACWE-Reg/temp/DigitalPhantomISBI/SynthSuscept_no-noise/Fugue_WarpDWIs/split_DWI/DWIS_dti-scheme_no-noise_027.nii.gz --mask=/home/oesteban/workspace/ACWE-Reg/Data/DigitalPhantomISBI/signal_mask.nii.gz --loadshift=/home/oesteban/workspace/ACWE-Reg/temp/DigitalPhantomISBI/SynthSuscept_no-noise/demean/signal_mask_vsm_demeaned.nii.gz --warp=/home/oesteban/workspace/ACWE-Reg/temp/DigitalPhantomISBI/SynthSuscept_no-noise/Fugue_WarpDWIs/Fugue_Warp/mapflow/_Fugue_Warp27/DWIS_dti-scheme_no-noise_027_warped.nii.gz\n"
       ]
      },
      {
       "output_type": "stream",
       "stream": "stdout",
       "text": [
        "130906-20:18:42,610 workflow INFO:\n",
        "\t Executing node _Fugue_Warp28 in dir: /home/oesteban/workspace/ACWE-Reg/temp/DigitalPhantomISBI/SynthSuscept_no-noise/Fugue_WarpDWIs/Fugue_Warp/mapflow/_Fugue_Warp28\n"
       ]
      },
      {
       "output_type": "stream",
       "stream": "stdout",
       "text": [
        "130906-20:18:42,616 workflow INFO:\n",
        "\t Running: fugue --in=/home/oesteban/workspace/ACWE-Reg/temp/DigitalPhantomISBI/SynthSuscept_no-noise/Fugue_WarpDWIs/split_DWI/DWIS_dti-scheme_no-noise_028.nii.gz --mask=/home/oesteban/workspace/ACWE-Reg/Data/DigitalPhantomISBI/signal_mask.nii.gz --loadshift=/home/oesteban/workspace/ACWE-Reg/temp/DigitalPhantomISBI/SynthSuscept_no-noise/demean/signal_mask_vsm_demeaned.nii.gz --warp=/home/oesteban/workspace/ACWE-Reg/temp/DigitalPhantomISBI/SynthSuscept_no-noise/Fugue_WarpDWIs/Fugue_Warp/mapflow/_Fugue_Warp28/DWIS_dti-scheme_no-noise_028_warped.nii.gz\n"
       ]
      },
      {
       "output_type": "stream",
       "stream": "stdout",
       "text": [
        "130906-20:18:46,449 workflow INFO:\n",
        "\t Executing node _Fugue_Warp29 in dir: /home/oesteban/workspace/ACWE-Reg/temp/DigitalPhantomISBI/SynthSuscept_no-noise/Fugue_WarpDWIs/Fugue_Warp/mapflow/_Fugue_Warp29\n"
       ]
      },
      {
       "output_type": "stream",
       "stream": "stdout",
       "text": [
        "130906-20:18:46,455 workflow INFO:\n",
        "\t Running: fugue --in=/home/oesteban/workspace/ACWE-Reg/temp/DigitalPhantomISBI/SynthSuscept_no-noise/Fugue_WarpDWIs/split_DWI/DWIS_dti-scheme_no-noise_029.nii.gz --mask=/home/oesteban/workspace/ACWE-Reg/Data/DigitalPhantomISBI/signal_mask.nii.gz --loadshift=/home/oesteban/workspace/ACWE-Reg/temp/DigitalPhantomISBI/SynthSuscept_no-noise/demean/signal_mask_vsm_demeaned.nii.gz --warp=/home/oesteban/workspace/ACWE-Reg/temp/DigitalPhantomISBI/SynthSuscept_no-noise/Fugue_WarpDWIs/Fugue_Warp/mapflow/_Fugue_Warp29/DWIS_dti-scheme_no-noise_029_warped.nii.gz\n"
       ]
      },
      {
       "output_type": "stream",
       "stream": "stdout",
       "text": [
        "130906-20:18:50,283 workflow INFO:\n",
        "\t Executing node _Fugue_Warp30 in dir: /home/oesteban/workspace/ACWE-Reg/temp/DigitalPhantomISBI/SynthSuscept_no-noise/Fugue_WarpDWIs/Fugue_Warp/mapflow/_Fugue_Warp30\n"
       ]
      },
      {
       "output_type": "stream",
       "stream": "stdout",
       "text": [
        "130906-20:18:50,286 workflow INFO:\n",
        "\t Running: fugue --in=/home/oesteban/workspace/ACWE-Reg/temp/DigitalPhantomISBI/SynthSuscept_no-noise/Fugue_WarpDWIs/split_DWI/DWIS_dti-scheme_no-noise_030.nii.gz --mask=/home/oesteban/workspace/ACWE-Reg/Data/DigitalPhantomISBI/signal_mask.nii.gz --loadshift=/home/oesteban/workspace/ACWE-Reg/temp/DigitalPhantomISBI/SynthSuscept_no-noise/demean/signal_mask_vsm_demeaned.nii.gz --warp=/home/oesteban/workspace/ACWE-Reg/temp/DigitalPhantomISBI/SynthSuscept_no-noise/Fugue_WarpDWIs/Fugue_Warp/mapflow/_Fugue_Warp30/DWIS_dti-scheme_no-noise_030_warped.nii.gz\n"
       ]
      },
      {
       "output_type": "stream",
       "stream": "stdout",
       "text": [
        "130906-20:18:54,121 workflow INFO:\n",
        "\t Executing node _Fugue_Warp31 in dir: /home/oesteban/workspace/ACWE-Reg/temp/DigitalPhantomISBI/SynthSuscept_no-noise/Fugue_WarpDWIs/Fugue_Warp/mapflow/_Fugue_Warp31\n"
       ]
      },
      {
       "output_type": "stream",
       "stream": "stdout",
       "text": [
        "130906-20:18:54,125 workflow INFO:\n",
        "\t Running: fugue --in=/home/oesteban/workspace/ACWE-Reg/temp/DigitalPhantomISBI/SynthSuscept_no-noise/Fugue_WarpDWIs/split_DWI/DWIS_dti-scheme_no-noise_031.nii.gz --mask=/home/oesteban/workspace/ACWE-Reg/Data/DigitalPhantomISBI/signal_mask.nii.gz --loadshift=/home/oesteban/workspace/ACWE-Reg/temp/DigitalPhantomISBI/SynthSuscept_no-noise/demean/signal_mask_vsm_demeaned.nii.gz --warp=/home/oesteban/workspace/ACWE-Reg/temp/DigitalPhantomISBI/SynthSuscept_no-noise/Fugue_WarpDWIs/Fugue_Warp/mapflow/_Fugue_Warp31/DWIS_dti-scheme_no-noise_031_warped.nii.gz\n"
       ]
      },
      {
       "output_type": "stream",
       "stream": "stdout",
       "text": [
        "130906-20:18:57,964 workflow INFO:\n",
        "\t Executing node _Fugue_Warp32 in dir: /home/oesteban/workspace/ACWE-Reg/temp/DigitalPhantomISBI/SynthSuscept_no-noise/Fugue_WarpDWIs/Fugue_Warp/mapflow/_Fugue_Warp32\n"
       ]
      },
      {
       "output_type": "stream",
       "stream": "stdout",
       "text": [
        "130906-20:18:57,971 workflow INFO:\n",
        "\t Running: fugue --in=/home/oesteban/workspace/ACWE-Reg/temp/DigitalPhantomISBI/SynthSuscept_no-noise/Fugue_WarpDWIs/split_DWI/DWIS_dti-scheme_no-noise_032.nii.gz --mask=/home/oesteban/workspace/ACWE-Reg/Data/DigitalPhantomISBI/signal_mask.nii.gz --loadshift=/home/oesteban/workspace/ACWE-Reg/temp/DigitalPhantomISBI/SynthSuscept_no-noise/demean/signal_mask_vsm_demeaned.nii.gz --warp=/home/oesteban/workspace/ACWE-Reg/temp/DigitalPhantomISBI/SynthSuscept_no-noise/Fugue_WarpDWIs/Fugue_Warp/mapflow/_Fugue_Warp32/DWIS_dti-scheme_no-noise_032_warped.nii.gz\n"
       ]
      },
      {
       "output_type": "stream",
       "stream": "stdout",
       "text": [
        "130906-20:19:01,830 workflow INFO:\n",
        "\t Executing node merge_DWI in dir: /home/oesteban/workspace/ACWE-Reg/temp/DigitalPhantomISBI/SynthSuscept_no-noise/Fugue_WarpDWIs/merge_DWI\n"
       ]
      },
      {
       "output_type": "stream",
       "stream": "stdout",
       "text": [
        "130906-20:19:01,835 workflow INFO:\n",
        "\t Running: fslmerge -t /home/oesteban/workspace/ACWE-Reg/temp/DigitalPhantomISBI/SynthSuscept_no-noise/Fugue_WarpDWIs/merge_DWI/DWIS_dti-scheme_no-noise_000_warped_merged.nii.gz /home/oesteban/workspace/ACWE-Reg/temp/DigitalPhantomISBI/SynthSuscept_no-noise/Fugue_WarpDWIs/Fugue_Warp/mapflow/_Fugue_Warp0/DWIS_dti-scheme_no-noise_000_warped.nii.gz /home/oesteban/workspace/ACWE-Reg/temp/DigitalPhantomISBI/SynthSuscept_no-noise/Fugue_WarpDWIs/Fugue_Warp/mapflow/_Fugue_Warp1/DWIS_dti-scheme_no-noise_001_warped.nii.gz /home/oesteban/workspace/ACWE-Reg/temp/DigitalPhantomISBI/SynthSuscept_no-noise/Fugue_WarpDWIs/Fugue_Warp/mapflow/_Fugue_Warp2/DWIS_dti-scheme_no-noise_002_warped.nii.gz /home/oesteban/workspace/ACWE-Reg/temp/DigitalPhantomISBI/SynthSuscept_no-noise/Fugue_WarpDWIs/Fugue_Warp/mapflow/_Fugue_Warp3/DWIS_dti-scheme_no-noise_003_warped.nii.gz /home/oesteban/workspace/ACWE-Reg/temp/DigitalPhantomISBI/SynthSuscept_no-noise/Fugue_WarpDWIs/Fugue_Warp/mapflow/_Fugue_Warp4/DWIS_dti-scheme_no-noise_004_warped.nii.gz /home/oesteban/workspace/ACWE-Reg/temp/DigitalPhantomISBI/SynthSuscept_no-noise/Fugue_WarpDWIs/Fugue_Warp/mapflow/_Fugue_Warp5/DWIS_dti-scheme_no-noise_005_warped.nii.gz /home/oesteban/workspace/ACWE-Reg/temp/DigitalPhantomISBI/SynthSuscept_no-noise/Fugue_WarpDWIs/Fugue_Warp/mapflow/_Fugue_Warp6/DWIS_dti-scheme_no-noise_006_warped.nii.gz /home/oesteban/workspace/ACWE-Reg/temp/DigitalPhantomISBI/SynthSuscept_no-noise/Fugue_WarpDWIs/Fugue_Warp/mapflow/_Fugue_Warp7/DWIS_dti-scheme_no-noise_007_warped.nii.gz /home/oesteban/workspace/ACWE-Reg/temp/DigitalPhantomISBI/SynthSuscept_no-noise/Fugue_WarpDWIs/Fugue_Warp/mapflow/_Fugue_Warp8/DWIS_dti-scheme_no-noise_008_warped.nii.gz /home/oesteban/workspace/ACWE-Reg/temp/DigitalPhantomISBI/SynthSuscept_no-noise/Fugue_WarpDWIs/Fugue_Warp/mapflow/_Fugue_Warp9/DWIS_dti-scheme_no-noise_009_warped.nii.gz /home/oesteban/workspace/ACWE-Reg/temp/DigitalPhantomISBI/SynthSuscept_no-noise/Fugue_WarpDWIs/Fugue_Warp/mapflow/_Fugue_Warp10/DWIS_dti-scheme_no-noise_010_warped.nii.gz /home/oesteban/workspace/ACWE-Reg/temp/DigitalPhantomISBI/SynthSuscept_no-noise/Fugue_WarpDWIs/Fugue_Warp/mapflow/_Fugue_Warp11/DWIS_dti-scheme_no-noise_011_warped.nii.gz /home/oesteban/workspace/ACWE-Reg/temp/DigitalPhantomISBI/SynthSuscept_no-noise/Fugue_WarpDWIs/Fugue_Warp/mapflow/_Fugue_Warp12/DWIS_dti-scheme_no-noise_012_warped.nii.gz /home/oesteban/workspace/ACWE-Reg/temp/DigitalPhantomISBI/SynthSuscept_no-noise/Fugue_WarpDWIs/Fugue_Warp/mapflow/_Fugue_Warp13/DWIS_dti-scheme_no-noise_013_warped.nii.gz /home/oesteban/workspace/ACWE-Reg/temp/DigitalPhantomISBI/SynthSuscept_no-noise/Fugue_WarpDWIs/Fugue_Warp/mapflow/_Fugue_Warp14/DWIS_dti-scheme_no-noise_014_warped.nii.gz /home/oesteban/workspace/ACWE-Reg/temp/DigitalPhantomISBI/SynthSuscept_no-noise/Fugue_WarpDWIs/Fugue_Warp/mapflow/_Fugue_Warp15/DWIS_dti-scheme_no-noise_015_warped.nii.gz /home/oesteban/workspace/ACWE-Reg/temp/DigitalPhantomISBI/SynthSuscept_no-noise/Fugue_WarpDWIs/Fugue_Warp/mapflow/_Fugue_Warp16/DWIS_dti-scheme_no-noise_016_warped.nii.gz /home/oesteban/workspace/ACWE-Reg/temp/DigitalPhantomISBI/SynthSuscept_no-noise/Fugue_WarpDWIs/Fugue_Warp/mapflow/_Fugue_Warp17/DWIS_dti-scheme_no-noise_017_warped.nii.gz /home/oesteban/workspace/ACWE-Reg/temp/DigitalPhantomISBI/SynthSuscept_no-noise/Fugue_WarpDWIs/Fugue_Warp/mapflow/_Fugue_Warp18/DWIS_dti-scheme_no-noise_018_warped.nii.gz /home/oesteban/workspace/ACWE-Reg/temp/DigitalPhantomISBI/SynthSuscept_no-noise/Fugue_WarpDWIs/Fugue_Warp/mapflow/_Fugue_Warp19/DWIS_dti-scheme_no-noise_019_warped.nii.gz /home/oesteban/workspace/ACWE-Reg/temp/DigitalPhantomISBI/SynthSuscept_no-noise/Fugue_WarpDWIs/Fugue_Warp/mapflow/_Fugue_Warp20/DWIS_dti-scheme_no-noise_020_warped.nii.gz /home/oesteban/workspace/ACWE-Reg/temp/DigitalPhantomISBI/SynthSuscept_no-noise/Fugue_WarpDWIs/Fugue_Warp/mapflow/_Fugue_Warp21/DWIS_dti-scheme_no-noise_021_warped.nii.gz /home/oesteban/workspace/ACWE-Reg/temp/DigitalPhantomISBI/SynthSuscept_no-noise/Fugue_WarpDWIs/Fugue_Warp/mapflow/_Fugue_Warp22/DWIS_dti-scheme_no-noise_022_warped.nii.gz /home/oesteban/workspace/ACWE-Reg/temp/DigitalPhantomISBI/SynthSuscept_no-noise/Fugue_WarpDWIs/Fugue_Warp/mapflow/_Fugue_Warp23/DWIS_dti-scheme_no-noise_023_warped.nii.gz /home/oesteban/workspace/ACWE-Reg/temp/DigitalPhantomISBI/SynthSuscept_no-noise/Fugue_WarpDWIs/Fugue_Warp/mapflow/_Fugue_Warp24/DWIS_dti-scheme_no-noise_024_warped.nii.gz /home/oesteban/workspace/ACWE-Reg/temp/DigitalPhantomISBI/SynthSuscept_no-noise/Fugue_WarpDWIs/Fugue_Warp/mapflow/_Fugue_Warp25/DWIS_dti-scheme_no-noise_025_warped.nii.gz /home/oesteban/workspace/ACWE-Reg/temp/DigitalPhantomISBI/SynthSuscept_no-noise/Fugue_WarpDWIs/Fugue_Warp/mapflow/_Fugue_Warp26/DWIS_dti-scheme_no-noise_026_warped.nii.gz /home/oesteban/workspace/ACWE-Reg/temp/DigitalPhantomISBI/SynthSuscept_no-noise/Fugue_WarpDWIs/Fugue_Warp/mapflow/_Fugue_Warp27/DWIS_dti-scheme_no-noise_027_warped.nii.gz /home/oesteban/workspace/ACWE-Reg/temp/DigitalPhantomISBI/SynthSuscept_no-noise/Fugue_WarpDWIs/Fugue_Warp/mapflow/_Fugue_Warp28/DWIS_dti-scheme_no-noise_028_warped.nii.gz /home/oesteban/workspace/ACWE-Reg/temp/DigitalPhantomISBI/SynthSuscept_no-noise/Fugue_WarpDWIs/Fugue_Warp/mapflow/_Fugue_Warp29/DWIS_dti-scheme_no-noise_029_warped.nii.gz /home/oesteban/workspace/ACWE-Reg/temp/DigitalPhantomISBI/SynthSuscept_no-noise/Fugue_WarpDWIs/Fugue_Warp/mapflow/_Fugue_Warp30/DWIS_dti-scheme_no-noise_030_warped.nii.gz /home/oesteban/workspace/ACWE-Reg/temp/DigitalPhantomISBI/SynthSuscept_no-noise/Fugue_WarpDWIs/Fugue_Warp/mapflow/_Fugue_Warp31/DWIS_dti-scheme_no-noise_031_warped.nii.gz /home/oesteban/workspace/ACWE-Reg/temp/DigitalPhantomISBI/SynthSuscept_no-noise/Fugue_WarpDWIs/Fugue_Warp/mapflow/_Fugue_Warp32/DWIS_dti-scheme_no-noise_032_warped.nii.gz\n"
       ]
      },
      {
       "output_type": "stream",
       "stream": "stderr",
       "text": [
        "/home/oesteban/workspace/nipype/nipype/interfaces/fsl/preprocess.py:1399: UserWarning: This has not been fully tested. Please report any failures.\n",
        "  warn('This has not been fully tested. Please report any failures.')\n",
        "/home/oesteban/workspace/nipype/nipype/interfaces/fsl/preprocess.py:1285: UserWarning: This interface has not been fully tested. Please report any failures.\n",
        "  'This interface has not been fully tested. Please report any failures.')\n",
        "/home/oesteban/workspace/nipype/nipype/interfaces/fsl/preprocess.py:1285: UserWarning: This interface has not been fully tested. Please report any failures.\n",
        "  'This interface has not been fully tested. Please report any failures.')\n",
        "/home/oesteban/workspace/nipype/nipype/interfaces/fsl/preprocess.py:1399: UserWarning: This has not been fully tested. Please report any failures.\n",
        "  warn('This has not been fully tested. Please report any failures.')\n"
       ]
      },
      {
       "output_type": "stream",
       "stream": "stdout",
       "text": [
        "130906-20:19:03,950 workflow INFO:\n",
        "\t ['check', 'execution', 'logging']\n"
       ]
      },
      {
       "output_type": "stream",
       "stream": "stdout",
       "text": [
        "130906-20:19:03,957 workflow INFO:\n",
        "\t Running serially.\n"
       ]
      },
      {
       "output_type": "stream",
       "stream": "stdout",
       "text": [
        "130906-20:19:03,958 workflow INFO:\n",
        "\t Executing node gen_PhaseDiffMap in dir: /home/oesteban/workspace/ACWE-Reg/temp/DigitalPhantomISBI/SynthSuscept_SNR-10/gen_PhaseDiffMap\n"
       ]
      },
      {
       "output_type": "stream",
       "stream": "stdout",
       "text": [
        "130906-20:19:04,34 workflow INFO:\n",
        "\t Executing node split_DWI in dir: /home/oesteban/workspace/ACWE-Reg/temp/DigitalPhantomISBI/SynthSuscept_SNR-10/Fugue_WarpDWIs/split_DWI\n"
       ]
      },
      {
       "output_type": "stream",
       "stream": "stdout",
       "text": [
        "130906-20:19:04,927 workflow INFO:\n",
        "\t Executing node gen_Mask in dir: /home/oesteban/workspace/ACWE-Reg/temp/DigitalPhantomISBI/SynthSuscept_SNR-10/gen_Mask\n"
       ]
      },
      {
       "output_type": "stream",
       "stream": "stdout",
       "text": [
        "130906-20:19:04,954 workflow INFO:\n",
        "\t Executing node PhaseUnwrap in dir: /home/oesteban/workspace/ACWE-Reg/temp/DigitalPhantomISBI/SynthSuscept_SNR-10/PhaseUnwrap\n"
       ]
      },
      {
       "output_type": "stream",
       "stream": "stdout",
       "text": [
        "130906-20:19:04,956 workflow INFO:\n",
        "\t Running: prelude --abs=/home/oesteban/workspace/ACWE-Reg/Data/DigitalPhantomISBI/signal_mask.nii.gz --phase=/home/oesteban/workspace/ACWE-Reg/temp/DigitalPhantomISBI/SynthSuscept_SNR-10/gen_PhaseDiffMap/signal_mask_ph_unwrap_rads.nii.gz --force3D --unwrap=/home/oesteban/workspace/ACWE-Reg/temp/DigitalPhantomISBI/SynthSuscept_SNR-10/PhaseUnwrap/signal_mask_ph_unwrap_rads_unwrapped.nii.gz\n"
       ]
      },
      {
       "output_type": "stream",
       "stream": "stdout",
       "text": [
        "130906-20:19:05,85 workflow INFO:\n",
        "\t Executing node PhaseRadSec in dir: /home/oesteban/workspace/ACWE-Reg/temp/DigitalPhantomISBI/SynthSuscept_SNR-10/PhaseRadSec\n"
       ]
      },
      {
       "output_type": "stream",
       "stream": "stdout",
       "text": [
        "130906-20:19:05,202 workflow INFO:\n",
        "\t Executing node gen_VSM in dir: /home/oesteban/workspace/ACWE-Reg/temp/DigitalPhantomISBI/SynthSuscept_SNR-10/gen_VSM\n"
       ]
      },
      {
       "output_type": "stream",
       "stream": "stdout",
       "text": [
        "130906-20:19:05,205 workflow INFO:\n",
        "\t Running: fugue --asym=0.0024600000 --dwell=0.0007700000 --in=/home/oesteban/workspace/ACWE-Reg/Data/DigitalPhantomISBI/signal_mask.nii.gz --mask=/home/oesteban/workspace/ACWE-Reg/temp/DigitalPhantomISBI/SynthSuscept_SNR-10/gen_Mask/signal_mask_mask.nii.gz --phasemap=/home/oesteban/workspace/ACWE-Reg/temp/DigitalPhantomISBI/SynthSuscept_SNR-10/PhaseRadSec/signal_mask_ph_unwrap_rads_unwrapped_ph_unwrap_radsec.nii.gz --saveshift=/home/oesteban/workspace/ACWE-Reg/temp/DigitalPhantomISBI/SynthSuscept_SNR-10/gen_VSM/signal_mask_vsm.nii.gz --unwarp=/home/oesteban/workspace/ACWE-Reg/temp/DigitalPhantomISBI/SynthSuscept_SNR-10/gen_VSM/signal_mask_unwarped.nii.gz\n"
       ]
      },
      {
       "output_type": "stream",
       "stream": "stdout",
       "text": [
        "130906-20:19:05,497 workflow INFO:\n",
        "\t Executing node demean in dir: /home/oesteban/workspace/ACWE-Reg/temp/DigitalPhantomISBI/SynthSuscept_SNR-10/demean\n"
       ]
      },
      {
       "output_type": "stream",
       "stream": "stdout",
       "text": [
        "130906-20:19:05,560 workflow INFO:\n",
        "\t Executing node Fugue_Warp in dir: /home/oesteban/workspace/ACWE-Reg/temp/DigitalPhantomISBI/SynthSuscept_SNR-10/Fugue_WarpDWIs/Fugue_Warp\n"
       ]
      },
      {
       "output_type": "stream",
       "stream": "stdout",
       "text": [
        "130906-20:19:05,565 workflow INFO:\n",
        "\t Executing node _Fugue_Warp0 in dir: /home/oesteban/workspace/ACWE-Reg/temp/DigitalPhantomISBI/SynthSuscept_SNR-10/Fugue_WarpDWIs/Fugue_Warp/mapflow/_Fugue_Warp0\n"
       ]
      },
      {
       "output_type": "stream",
       "stream": "stdout",
       "text": [
        "130906-20:19:05,567 workflow INFO:\n",
        "\t Running: fugue --in=/home/oesteban/workspace/ACWE-Reg/temp/DigitalPhantomISBI/SynthSuscept_SNR-10/Fugue_WarpDWIs/split_DWI/DWIS_dti-scheme_SNR-10_000.nii.gz --mask=/home/oesteban/workspace/ACWE-Reg/Data/DigitalPhantomISBI/signal_mask.nii.gz --loadshift=/home/oesteban/workspace/ACWE-Reg/temp/DigitalPhantomISBI/SynthSuscept_SNR-10/demean/signal_mask_vsm_demeaned.nii.gz --warp=/home/oesteban/workspace/ACWE-Reg/temp/DigitalPhantomISBI/SynthSuscept_SNR-10/Fugue_WarpDWIs/Fugue_Warp/mapflow/_Fugue_Warp0/DWIS_dti-scheme_SNR-10_000_warped.nii.gz\n"
       ]
      },
      {
       "output_type": "stream",
       "stream": "stdout",
       "text": [
        "130906-20:19:09,415 workflow INFO:\n",
        "\t Executing node _Fugue_Warp1 in dir: /home/oesteban/workspace/ACWE-Reg/temp/DigitalPhantomISBI/SynthSuscept_SNR-10/Fugue_WarpDWIs/Fugue_Warp/mapflow/_Fugue_Warp1\n"
       ]
      },
      {
       "output_type": "stream",
       "stream": "stdout",
       "text": [
        "130906-20:19:09,422 workflow INFO:\n",
        "\t Running: fugue --in=/home/oesteban/workspace/ACWE-Reg/temp/DigitalPhantomISBI/SynthSuscept_SNR-10/Fugue_WarpDWIs/split_DWI/DWIS_dti-scheme_SNR-10_001.nii.gz --mask=/home/oesteban/workspace/ACWE-Reg/Data/DigitalPhantomISBI/signal_mask.nii.gz --loadshift=/home/oesteban/workspace/ACWE-Reg/temp/DigitalPhantomISBI/SynthSuscept_SNR-10/demean/signal_mask_vsm_demeaned.nii.gz --warp=/home/oesteban/workspace/ACWE-Reg/temp/DigitalPhantomISBI/SynthSuscept_SNR-10/Fugue_WarpDWIs/Fugue_Warp/mapflow/_Fugue_Warp1/DWIS_dti-scheme_SNR-10_001_warped.nii.gz\n"
       ]
      },
      {
       "output_type": "stream",
       "stream": "stdout",
       "text": [
        "130906-20:19:13,284 workflow INFO:\n",
        "\t Executing node _Fugue_Warp2 in dir: /home/oesteban/workspace/ACWE-Reg/temp/DigitalPhantomISBI/SynthSuscept_SNR-10/Fugue_WarpDWIs/Fugue_Warp/mapflow/_Fugue_Warp2\n"
       ]
      },
      {
       "output_type": "stream",
       "stream": "stdout",
       "text": [
        "130906-20:19:13,289 workflow INFO:\n",
        "\t Running: fugue --in=/home/oesteban/workspace/ACWE-Reg/temp/DigitalPhantomISBI/SynthSuscept_SNR-10/Fugue_WarpDWIs/split_DWI/DWIS_dti-scheme_SNR-10_002.nii.gz --mask=/home/oesteban/workspace/ACWE-Reg/Data/DigitalPhantomISBI/signal_mask.nii.gz --loadshift=/home/oesteban/workspace/ACWE-Reg/temp/DigitalPhantomISBI/SynthSuscept_SNR-10/demean/signal_mask_vsm_demeaned.nii.gz --warp=/home/oesteban/workspace/ACWE-Reg/temp/DigitalPhantomISBI/SynthSuscept_SNR-10/Fugue_WarpDWIs/Fugue_Warp/mapflow/_Fugue_Warp2/DWIS_dti-scheme_SNR-10_002_warped.nii.gz\n"
       ]
      },
      {
       "output_type": "stream",
       "stream": "stdout",
       "text": [
        "130906-20:19:17,145 workflow INFO:\n",
        "\t Executing node _Fugue_Warp3 in dir: /home/oesteban/workspace/ACWE-Reg/temp/DigitalPhantomISBI/SynthSuscept_SNR-10/Fugue_WarpDWIs/Fugue_Warp/mapflow/_Fugue_Warp3\n"
       ]
      },
      {
       "output_type": "stream",
       "stream": "stdout",
       "text": [
        "130906-20:19:17,151 workflow INFO:\n",
        "\t Running: fugue --in=/home/oesteban/workspace/ACWE-Reg/temp/DigitalPhantomISBI/SynthSuscept_SNR-10/Fugue_WarpDWIs/split_DWI/DWIS_dti-scheme_SNR-10_003.nii.gz --mask=/home/oesteban/workspace/ACWE-Reg/Data/DigitalPhantomISBI/signal_mask.nii.gz --loadshift=/home/oesteban/workspace/ACWE-Reg/temp/DigitalPhantomISBI/SynthSuscept_SNR-10/demean/signal_mask_vsm_demeaned.nii.gz --warp=/home/oesteban/workspace/ACWE-Reg/temp/DigitalPhantomISBI/SynthSuscept_SNR-10/Fugue_WarpDWIs/Fugue_Warp/mapflow/_Fugue_Warp3/DWIS_dti-scheme_SNR-10_003_warped.nii.gz\n"
       ]
      },
      {
       "output_type": "stream",
       "stream": "stdout",
       "text": [
        "130906-20:19:21,3 workflow INFO:\n",
        "\t Executing node _Fugue_Warp4 in dir: /home/oesteban/workspace/ACWE-Reg/temp/DigitalPhantomISBI/SynthSuscept_SNR-10/Fugue_WarpDWIs/Fugue_Warp/mapflow/_Fugue_Warp4\n"
       ]
      },
      {
       "output_type": "stream",
       "stream": "stdout",
       "text": [
        "130906-20:19:21,6 workflow INFO:\n",
        "\t Running: fugue --in=/home/oesteban/workspace/ACWE-Reg/temp/DigitalPhantomISBI/SynthSuscept_SNR-10/Fugue_WarpDWIs/split_DWI/DWIS_dti-scheme_SNR-10_004.nii.gz --mask=/home/oesteban/workspace/ACWE-Reg/Data/DigitalPhantomISBI/signal_mask.nii.gz --loadshift=/home/oesteban/workspace/ACWE-Reg/temp/DigitalPhantomISBI/SynthSuscept_SNR-10/demean/signal_mask_vsm_demeaned.nii.gz --warp=/home/oesteban/workspace/ACWE-Reg/temp/DigitalPhantomISBI/SynthSuscept_SNR-10/Fugue_WarpDWIs/Fugue_Warp/mapflow/_Fugue_Warp4/DWIS_dti-scheme_SNR-10_004_warped.nii.gz\n"
       ]
      },
      {
       "output_type": "stream",
       "stream": "stdout",
       "text": [
        "130906-20:19:24,874 workflow INFO:\n",
        "\t Executing node _Fugue_Warp5 in dir: /home/oesteban/workspace/ACWE-Reg/temp/DigitalPhantomISBI/SynthSuscept_SNR-10/Fugue_WarpDWIs/Fugue_Warp/mapflow/_Fugue_Warp5\n"
       ]
      },
      {
       "output_type": "stream",
       "stream": "stdout",
       "text": [
        "130906-20:19:24,880 workflow INFO:\n",
        "\t Running: fugue --in=/home/oesteban/workspace/ACWE-Reg/temp/DigitalPhantomISBI/SynthSuscept_SNR-10/Fugue_WarpDWIs/split_DWI/DWIS_dti-scheme_SNR-10_005.nii.gz --mask=/home/oesteban/workspace/ACWE-Reg/Data/DigitalPhantomISBI/signal_mask.nii.gz --loadshift=/home/oesteban/workspace/ACWE-Reg/temp/DigitalPhantomISBI/SynthSuscept_SNR-10/demean/signal_mask_vsm_demeaned.nii.gz --warp=/home/oesteban/workspace/ACWE-Reg/temp/DigitalPhantomISBI/SynthSuscept_SNR-10/Fugue_WarpDWIs/Fugue_Warp/mapflow/_Fugue_Warp5/DWIS_dti-scheme_SNR-10_005_warped.nii.gz\n"
       ]
      },
      {
       "output_type": "stream",
       "stream": "stdout",
       "text": [
        "130906-20:19:28,744 workflow INFO:\n",
        "\t Executing node _Fugue_Warp6 in dir: /home/oesteban/workspace/ACWE-Reg/temp/DigitalPhantomISBI/SynthSuscept_SNR-10/Fugue_WarpDWIs/Fugue_Warp/mapflow/_Fugue_Warp6\n"
       ]
      },
      {
       "output_type": "stream",
       "stream": "stdout",
       "text": [
        "130906-20:19:28,751 workflow INFO:\n",
        "\t Running: fugue --in=/home/oesteban/workspace/ACWE-Reg/temp/DigitalPhantomISBI/SynthSuscept_SNR-10/Fugue_WarpDWIs/split_DWI/DWIS_dti-scheme_SNR-10_006.nii.gz --mask=/home/oesteban/workspace/ACWE-Reg/Data/DigitalPhantomISBI/signal_mask.nii.gz --loadshift=/home/oesteban/workspace/ACWE-Reg/temp/DigitalPhantomISBI/SynthSuscept_SNR-10/demean/signal_mask_vsm_demeaned.nii.gz --warp=/home/oesteban/workspace/ACWE-Reg/temp/DigitalPhantomISBI/SynthSuscept_SNR-10/Fugue_WarpDWIs/Fugue_Warp/mapflow/_Fugue_Warp6/DWIS_dti-scheme_SNR-10_006_warped.nii.gz\n"
       ]
      },
      {
       "output_type": "stream",
       "stream": "stdout",
       "text": [
        "130906-20:19:32,618 workflow INFO:\n",
        "\t Executing node _Fugue_Warp7 in dir: /home/oesteban/workspace/ACWE-Reg/temp/DigitalPhantomISBI/SynthSuscept_SNR-10/Fugue_WarpDWIs/Fugue_Warp/mapflow/_Fugue_Warp7\n"
       ]
      },
      {
       "output_type": "stream",
       "stream": "stdout",
       "text": [
        "130906-20:19:32,621 workflow INFO:\n",
        "\t Running: fugue --in=/home/oesteban/workspace/ACWE-Reg/temp/DigitalPhantomISBI/SynthSuscept_SNR-10/Fugue_WarpDWIs/split_DWI/DWIS_dti-scheme_SNR-10_007.nii.gz --mask=/home/oesteban/workspace/ACWE-Reg/Data/DigitalPhantomISBI/signal_mask.nii.gz --loadshift=/home/oesteban/workspace/ACWE-Reg/temp/DigitalPhantomISBI/SynthSuscept_SNR-10/demean/signal_mask_vsm_demeaned.nii.gz --warp=/home/oesteban/workspace/ACWE-Reg/temp/DigitalPhantomISBI/SynthSuscept_SNR-10/Fugue_WarpDWIs/Fugue_Warp/mapflow/_Fugue_Warp7/DWIS_dti-scheme_SNR-10_007_warped.nii.gz\n"
       ]
      },
      {
       "output_type": "stream",
       "stream": "stdout",
       "text": [
        "130906-20:19:36,482 workflow INFO:\n",
        "\t Executing node _Fugue_Warp8 in dir: /home/oesteban/workspace/ACWE-Reg/temp/DigitalPhantomISBI/SynthSuscept_SNR-10/Fugue_WarpDWIs/Fugue_Warp/mapflow/_Fugue_Warp8\n"
       ]
      },
      {
       "output_type": "stream",
       "stream": "stdout",
       "text": [
        "130906-20:19:36,488 workflow INFO:\n",
        "\t Running: fugue --in=/home/oesteban/workspace/ACWE-Reg/temp/DigitalPhantomISBI/SynthSuscept_SNR-10/Fugue_WarpDWIs/split_DWI/DWIS_dti-scheme_SNR-10_008.nii.gz --mask=/home/oesteban/workspace/ACWE-Reg/Data/DigitalPhantomISBI/signal_mask.nii.gz --loadshift=/home/oesteban/workspace/ACWE-Reg/temp/DigitalPhantomISBI/SynthSuscept_SNR-10/demean/signal_mask_vsm_demeaned.nii.gz --warp=/home/oesteban/workspace/ACWE-Reg/temp/DigitalPhantomISBI/SynthSuscept_SNR-10/Fugue_WarpDWIs/Fugue_Warp/mapflow/_Fugue_Warp8/DWIS_dti-scheme_SNR-10_008_warped.nii.gz\n"
       ]
      },
      {
       "output_type": "stream",
       "stream": "stdout",
       "text": [
        "130906-20:19:40,345 workflow INFO:\n",
        "\t Executing node _Fugue_Warp9 in dir: /home/oesteban/workspace/ACWE-Reg/temp/DigitalPhantomISBI/SynthSuscept_SNR-10/Fugue_WarpDWIs/Fugue_Warp/mapflow/_Fugue_Warp9\n"
       ]
      },
      {
       "output_type": "stream",
       "stream": "stdout",
       "text": [
        "130906-20:19:40,349 workflow INFO:\n",
        "\t Running: fugue --in=/home/oesteban/workspace/ACWE-Reg/temp/DigitalPhantomISBI/SynthSuscept_SNR-10/Fugue_WarpDWIs/split_DWI/DWIS_dti-scheme_SNR-10_009.nii.gz --mask=/home/oesteban/workspace/ACWE-Reg/Data/DigitalPhantomISBI/signal_mask.nii.gz --loadshift=/home/oesteban/workspace/ACWE-Reg/temp/DigitalPhantomISBI/SynthSuscept_SNR-10/demean/signal_mask_vsm_demeaned.nii.gz --warp=/home/oesteban/workspace/ACWE-Reg/temp/DigitalPhantomISBI/SynthSuscept_SNR-10/Fugue_WarpDWIs/Fugue_Warp/mapflow/_Fugue_Warp9/DWIS_dti-scheme_SNR-10_009_warped.nii.gz\n"
       ]
      },
      {
       "output_type": "stream",
       "stream": "stdout",
       "text": [
        "130906-20:19:44,210 workflow INFO:\n",
        "\t Executing node _Fugue_Warp10 in dir: /home/oesteban/workspace/ACWE-Reg/temp/DigitalPhantomISBI/SynthSuscept_SNR-10/Fugue_WarpDWIs/Fugue_Warp/mapflow/_Fugue_Warp10\n"
       ]
      },
      {
       "output_type": "stream",
       "stream": "stdout",
       "text": [
        "130906-20:19:44,214 workflow INFO:\n",
        "\t Running: fugue --in=/home/oesteban/workspace/ACWE-Reg/temp/DigitalPhantomISBI/SynthSuscept_SNR-10/Fugue_WarpDWIs/split_DWI/DWIS_dti-scheme_SNR-10_010.nii.gz --mask=/home/oesteban/workspace/ACWE-Reg/Data/DigitalPhantomISBI/signal_mask.nii.gz --loadshift=/home/oesteban/workspace/ACWE-Reg/temp/DigitalPhantomISBI/SynthSuscept_SNR-10/demean/signal_mask_vsm_demeaned.nii.gz --warp=/home/oesteban/workspace/ACWE-Reg/temp/DigitalPhantomISBI/SynthSuscept_SNR-10/Fugue_WarpDWIs/Fugue_Warp/mapflow/_Fugue_Warp10/DWIS_dti-scheme_SNR-10_010_warped.nii.gz\n"
       ]
      },
      {
       "output_type": "stream",
       "stream": "stdout",
       "text": [
        "130906-20:19:48,78 workflow INFO:\n",
        "\t Executing node _Fugue_Warp11 in dir: /home/oesteban/workspace/ACWE-Reg/temp/DigitalPhantomISBI/SynthSuscept_SNR-10/Fugue_WarpDWIs/Fugue_Warp/mapflow/_Fugue_Warp11\n"
       ]
      },
      {
       "output_type": "stream",
       "stream": "stdout",
       "text": [
        "130906-20:19:48,85 workflow INFO:\n",
        "\t Running: fugue --in=/home/oesteban/workspace/ACWE-Reg/temp/DigitalPhantomISBI/SynthSuscept_SNR-10/Fugue_WarpDWIs/split_DWI/DWIS_dti-scheme_SNR-10_011.nii.gz --mask=/home/oesteban/workspace/ACWE-Reg/Data/DigitalPhantomISBI/signal_mask.nii.gz --loadshift=/home/oesteban/workspace/ACWE-Reg/temp/DigitalPhantomISBI/SynthSuscept_SNR-10/demean/signal_mask_vsm_demeaned.nii.gz --warp=/home/oesteban/workspace/ACWE-Reg/temp/DigitalPhantomISBI/SynthSuscept_SNR-10/Fugue_WarpDWIs/Fugue_Warp/mapflow/_Fugue_Warp11/DWIS_dti-scheme_SNR-10_011_warped.nii.gz\n"
       ]
      },
      {
       "output_type": "stream",
       "stream": "stdout",
       "text": [
        "130906-20:19:51,950 workflow INFO:\n",
        "\t Executing node _Fugue_Warp12 in dir: /home/oesteban/workspace/ACWE-Reg/temp/DigitalPhantomISBI/SynthSuscept_SNR-10/Fugue_WarpDWIs/Fugue_Warp/mapflow/_Fugue_Warp12\n"
       ]
      },
      {
       "output_type": "stream",
       "stream": "stdout",
       "text": [
        "130906-20:19:51,954 workflow INFO:\n",
        "\t Running: fugue --in=/home/oesteban/workspace/ACWE-Reg/temp/DigitalPhantomISBI/SynthSuscept_SNR-10/Fugue_WarpDWIs/split_DWI/DWIS_dti-scheme_SNR-10_012.nii.gz --mask=/home/oesteban/workspace/ACWE-Reg/Data/DigitalPhantomISBI/signal_mask.nii.gz --loadshift=/home/oesteban/workspace/ACWE-Reg/temp/DigitalPhantomISBI/SynthSuscept_SNR-10/demean/signal_mask_vsm_demeaned.nii.gz --warp=/home/oesteban/workspace/ACWE-Reg/temp/DigitalPhantomISBI/SynthSuscept_SNR-10/Fugue_WarpDWIs/Fugue_Warp/mapflow/_Fugue_Warp12/DWIS_dti-scheme_SNR-10_012_warped.nii.gz\n"
       ]
      },
      {
       "output_type": "stream",
       "stream": "stdout",
       "text": [
        "130906-20:19:55,810 workflow INFO:\n",
        "\t Executing node _Fugue_Warp13 in dir: /home/oesteban/workspace/ACWE-Reg/temp/DigitalPhantomISBI/SynthSuscept_SNR-10/Fugue_WarpDWIs/Fugue_Warp/mapflow/_Fugue_Warp13\n"
       ]
      },
      {
       "output_type": "stream",
       "stream": "stdout",
       "text": [
        "130906-20:19:55,816 workflow INFO:\n",
        "\t Running: fugue --in=/home/oesteban/workspace/ACWE-Reg/temp/DigitalPhantomISBI/SynthSuscept_SNR-10/Fugue_WarpDWIs/split_DWI/DWIS_dti-scheme_SNR-10_013.nii.gz --mask=/home/oesteban/workspace/ACWE-Reg/Data/DigitalPhantomISBI/signal_mask.nii.gz --loadshift=/home/oesteban/workspace/ACWE-Reg/temp/DigitalPhantomISBI/SynthSuscept_SNR-10/demean/signal_mask_vsm_demeaned.nii.gz --warp=/home/oesteban/workspace/ACWE-Reg/temp/DigitalPhantomISBI/SynthSuscept_SNR-10/Fugue_WarpDWIs/Fugue_Warp/mapflow/_Fugue_Warp13/DWIS_dti-scheme_SNR-10_013_warped.nii.gz\n"
       ]
      },
      {
       "output_type": "stream",
       "stream": "stdout",
       "text": [
        "130906-20:19:59,666 workflow INFO:\n",
        "\t Executing node _Fugue_Warp14 in dir: /home/oesteban/workspace/ACWE-Reg/temp/DigitalPhantomISBI/SynthSuscept_SNR-10/Fugue_WarpDWIs/Fugue_Warp/mapflow/_Fugue_Warp14\n"
       ]
      },
      {
       "output_type": "stream",
       "stream": "stdout",
       "text": [
        "130906-20:19:59,673 workflow INFO:\n",
        "\t Running: fugue --in=/home/oesteban/workspace/ACWE-Reg/temp/DigitalPhantomISBI/SynthSuscept_SNR-10/Fugue_WarpDWIs/split_DWI/DWIS_dti-scheme_SNR-10_014.nii.gz --mask=/home/oesteban/workspace/ACWE-Reg/Data/DigitalPhantomISBI/signal_mask.nii.gz --loadshift=/home/oesteban/workspace/ACWE-Reg/temp/DigitalPhantomISBI/SynthSuscept_SNR-10/demean/signal_mask_vsm_demeaned.nii.gz --warp=/home/oesteban/workspace/ACWE-Reg/temp/DigitalPhantomISBI/SynthSuscept_SNR-10/Fugue_WarpDWIs/Fugue_Warp/mapflow/_Fugue_Warp14/DWIS_dti-scheme_SNR-10_014_warped.nii.gz\n"
       ]
      },
      {
       "output_type": "stream",
       "stream": "stdout",
       "text": [
        "130906-20:20:03,855 workflow INFO:\n",
        "\t Executing node _Fugue_Warp15 in dir: /home/oesteban/workspace/ACWE-Reg/temp/DigitalPhantomISBI/SynthSuscept_SNR-10/Fugue_WarpDWIs/Fugue_Warp/mapflow/_Fugue_Warp15\n"
       ]
      },
      {
       "output_type": "stream",
       "stream": "stdout",
       "text": [
        "130906-20:20:03,858 workflow INFO:\n",
        "\t Running: fugue --in=/home/oesteban/workspace/ACWE-Reg/temp/DigitalPhantomISBI/SynthSuscept_SNR-10/Fugue_WarpDWIs/split_DWI/DWIS_dti-scheme_SNR-10_015.nii.gz --mask=/home/oesteban/workspace/ACWE-Reg/Data/DigitalPhantomISBI/signal_mask.nii.gz --loadshift=/home/oesteban/workspace/ACWE-Reg/temp/DigitalPhantomISBI/SynthSuscept_SNR-10/demean/signal_mask_vsm_demeaned.nii.gz --warp=/home/oesteban/workspace/ACWE-Reg/temp/DigitalPhantomISBI/SynthSuscept_SNR-10/Fugue_WarpDWIs/Fugue_Warp/mapflow/_Fugue_Warp15/DWIS_dti-scheme_SNR-10_015_warped.nii.gz\n"
       ]
      },
      {
       "output_type": "stream",
       "stream": "stdout",
       "text": [
        "130906-20:20:07,714 workflow INFO:\n",
        "\t Executing node _Fugue_Warp16 in dir: /home/oesteban/workspace/ACWE-Reg/temp/DigitalPhantomISBI/SynthSuscept_SNR-10/Fugue_WarpDWIs/Fugue_Warp/mapflow/_Fugue_Warp16\n"
       ]
      },
      {
       "output_type": "stream",
       "stream": "stdout",
       "text": [
        "130906-20:20:07,720 workflow INFO:\n",
        "\t Running: fugue --in=/home/oesteban/workspace/ACWE-Reg/temp/DigitalPhantomISBI/SynthSuscept_SNR-10/Fugue_WarpDWIs/split_DWI/DWIS_dti-scheme_SNR-10_016.nii.gz --mask=/home/oesteban/workspace/ACWE-Reg/Data/DigitalPhantomISBI/signal_mask.nii.gz --loadshift=/home/oesteban/workspace/ACWE-Reg/temp/DigitalPhantomISBI/SynthSuscept_SNR-10/demean/signal_mask_vsm_demeaned.nii.gz --warp=/home/oesteban/workspace/ACWE-Reg/temp/DigitalPhantomISBI/SynthSuscept_SNR-10/Fugue_WarpDWIs/Fugue_Warp/mapflow/_Fugue_Warp16/DWIS_dti-scheme_SNR-10_016_warped.nii.gz\n"
       ]
      },
      {
       "output_type": "stream",
       "stream": "stdout",
       "text": [
        "130906-20:20:11,583 workflow INFO:\n",
        "\t Executing node _Fugue_Warp17 in dir: /home/oesteban/workspace/ACWE-Reg/temp/DigitalPhantomISBI/SynthSuscept_SNR-10/Fugue_WarpDWIs/Fugue_Warp/mapflow/_Fugue_Warp17\n"
       ]
      },
      {
       "output_type": "stream",
       "stream": "stdout",
       "text": [
        "130906-20:20:11,586 workflow INFO:\n",
        "\t Running: fugue --in=/home/oesteban/workspace/ACWE-Reg/temp/DigitalPhantomISBI/SynthSuscept_SNR-10/Fugue_WarpDWIs/split_DWI/DWIS_dti-scheme_SNR-10_017.nii.gz --mask=/home/oesteban/workspace/ACWE-Reg/Data/DigitalPhantomISBI/signal_mask.nii.gz --loadshift=/home/oesteban/workspace/ACWE-Reg/temp/DigitalPhantomISBI/SynthSuscept_SNR-10/demean/signal_mask_vsm_demeaned.nii.gz --warp=/home/oesteban/workspace/ACWE-Reg/temp/DigitalPhantomISBI/SynthSuscept_SNR-10/Fugue_WarpDWIs/Fugue_Warp/mapflow/_Fugue_Warp17/DWIS_dti-scheme_SNR-10_017_warped.nii.gz\n"
       ]
      },
      {
       "output_type": "stream",
       "stream": "stdout",
       "text": [
        "130906-20:20:15,443 workflow INFO:\n",
        "\t Executing node _Fugue_Warp18 in dir: /home/oesteban/workspace/ACWE-Reg/temp/DigitalPhantomISBI/SynthSuscept_SNR-10/Fugue_WarpDWIs/Fugue_Warp/mapflow/_Fugue_Warp18\n"
       ]
      },
      {
       "output_type": "stream",
       "stream": "stdout",
       "text": [
        "130906-20:20:15,449 workflow INFO:\n",
        "\t Running: fugue --in=/home/oesteban/workspace/ACWE-Reg/temp/DigitalPhantomISBI/SynthSuscept_SNR-10/Fugue_WarpDWIs/split_DWI/DWIS_dti-scheme_SNR-10_018.nii.gz --mask=/home/oesteban/workspace/ACWE-Reg/Data/DigitalPhantomISBI/signal_mask.nii.gz --loadshift=/home/oesteban/workspace/ACWE-Reg/temp/DigitalPhantomISBI/SynthSuscept_SNR-10/demean/signal_mask_vsm_demeaned.nii.gz --warp=/home/oesteban/workspace/ACWE-Reg/temp/DigitalPhantomISBI/SynthSuscept_SNR-10/Fugue_WarpDWIs/Fugue_Warp/mapflow/_Fugue_Warp18/DWIS_dti-scheme_SNR-10_018_warped.nii.gz\n"
       ]
      },
      {
       "output_type": "stream",
       "stream": "stdout",
       "text": [
        "130906-20:20:19,318 workflow INFO:\n",
        "\t Executing node _Fugue_Warp19 in dir: /home/oesteban/workspace/ACWE-Reg/temp/DigitalPhantomISBI/SynthSuscept_SNR-10/Fugue_WarpDWIs/Fugue_Warp/mapflow/_Fugue_Warp19\n"
       ]
      },
      {
       "output_type": "stream",
       "stream": "stdout",
       "text": [
        "130906-20:20:19,324 workflow INFO:\n",
        "\t Running: fugue --in=/home/oesteban/workspace/ACWE-Reg/temp/DigitalPhantomISBI/SynthSuscept_SNR-10/Fugue_WarpDWIs/split_DWI/DWIS_dti-scheme_SNR-10_019.nii.gz --mask=/home/oesteban/workspace/ACWE-Reg/Data/DigitalPhantomISBI/signal_mask.nii.gz --loadshift=/home/oesteban/workspace/ACWE-Reg/temp/DigitalPhantomISBI/SynthSuscept_SNR-10/demean/signal_mask_vsm_demeaned.nii.gz --warp=/home/oesteban/workspace/ACWE-Reg/temp/DigitalPhantomISBI/SynthSuscept_SNR-10/Fugue_WarpDWIs/Fugue_Warp/mapflow/_Fugue_Warp19/DWIS_dti-scheme_SNR-10_019_warped.nii.gz\n"
       ]
      },
      {
       "output_type": "stream",
       "stream": "stdout",
       "text": [
        "130906-20:20:23,177 workflow INFO:\n",
        "\t Executing node _Fugue_Warp20 in dir: /home/oesteban/workspace/ACWE-Reg/temp/DigitalPhantomISBI/SynthSuscept_SNR-10/Fugue_WarpDWIs/Fugue_Warp/mapflow/_Fugue_Warp20\n"
       ]
      },
      {
       "output_type": "stream",
       "stream": "stdout",
       "text": [
        "130906-20:20:23,180 workflow INFO:\n",
        "\t Running: fugue --in=/home/oesteban/workspace/ACWE-Reg/temp/DigitalPhantomISBI/SynthSuscept_SNR-10/Fugue_WarpDWIs/split_DWI/DWIS_dti-scheme_SNR-10_020.nii.gz --mask=/home/oesteban/workspace/ACWE-Reg/Data/DigitalPhantomISBI/signal_mask.nii.gz --loadshift=/home/oesteban/workspace/ACWE-Reg/temp/DigitalPhantomISBI/SynthSuscept_SNR-10/demean/signal_mask_vsm_demeaned.nii.gz --warp=/home/oesteban/workspace/ACWE-Reg/temp/DigitalPhantomISBI/SynthSuscept_SNR-10/Fugue_WarpDWIs/Fugue_Warp/mapflow/_Fugue_Warp20/DWIS_dti-scheme_SNR-10_020_warped.nii.gz\n"
       ]
      },
      {
       "output_type": "stream",
       "stream": "stdout",
       "text": [
        "130906-20:20:27,48 workflow INFO:\n",
        "\t Executing node _Fugue_Warp21 in dir: /home/oesteban/workspace/ACWE-Reg/temp/DigitalPhantomISBI/SynthSuscept_SNR-10/Fugue_WarpDWIs/Fugue_Warp/mapflow/_Fugue_Warp21\n"
       ]
      },
      {
       "output_type": "stream",
       "stream": "stdout",
       "text": [
        "130906-20:20:27,54 workflow INFO:\n",
        "\t Running: fugue --in=/home/oesteban/workspace/ACWE-Reg/temp/DigitalPhantomISBI/SynthSuscept_SNR-10/Fugue_WarpDWIs/split_DWI/DWIS_dti-scheme_SNR-10_021.nii.gz --mask=/home/oesteban/workspace/ACWE-Reg/Data/DigitalPhantomISBI/signal_mask.nii.gz --loadshift=/home/oesteban/workspace/ACWE-Reg/temp/DigitalPhantomISBI/SynthSuscept_SNR-10/demean/signal_mask_vsm_demeaned.nii.gz --warp=/home/oesteban/workspace/ACWE-Reg/temp/DigitalPhantomISBI/SynthSuscept_SNR-10/Fugue_WarpDWIs/Fugue_Warp/mapflow/_Fugue_Warp21/DWIS_dti-scheme_SNR-10_021_warped.nii.gz\n"
       ]
      },
      {
       "output_type": "stream",
       "stream": "stdout",
       "text": [
        "130906-20:20:30,909 workflow INFO:\n",
        "\t Executing node _Fugue_Warp22 in dir: /home/oesteban/workspace/ACWE-Reg/temp/DigitalPhantomISBI/SynthSuscept_SNR-10/Fugue_WarpDWIs/Fugue_Warp/mapflow/_Fugue_Warp22\n"
       ]
      },
      {
       "output_type": "stream",
       "stream": "stdout",
       "text": [
        "130906-20:20:30,915 workflow INFO:\n",
        "\t Running: fugue --in=/home/oesteban/workspace/ACWE-Reg/temp/DigitalPhantomISBI/SynthSuscept_SNR-10/Fugue_WarpDWIs/split_DWI/DWIS_dti-scheme_SNR-10_022.nii.gz --mask=/home/oesteban/workspace/ACWE-Reg/Data/DigitalPhantomISBI/signal_mask.nii.gz --loadshift=/home/oesteban/workspace/ACWE-Reg/temp/DigitalPhantomISBI/SynthSuscept_SNR-10/demean/signal_mask_vsm_demeaned.nii.gz --warp=/home/oesteban/workspace/ACWE-Reg/temp/DigitalPhantomISBI/SynthSuscept_SNR-10/Fugue_WarpDWIs/Fugue_Warp/mapflow/_Fugue_Warp22/DWIS_dti-scheme_SNR-10_022_warped.nii.gz\n"
       ]
      },
      {
       "output_type": "stream",
       "stream": "stdout",
       "text": [
        "130906-20:20:34,852 workflow INFO:\n",
        "\t Executing node _Fugue_Warp23 in dir: /home/oesteban/workspace/ACWE-Reg/temp/DigitalPhantomISBI/SynthSuscept_SNR-10/Fugue_WarpDWIs/Fugue_Warp/mapflow/_Fugue_Warp23\n"
       ]
      },
      {
       "output_type": "stream",
       "stream": "stdout",
       "text": [
        "130906-20:20:34,855 workflow INFO:\n",
        "\t Running: fugue --in=/home/oesteban/workspace/ACWE-Reg/temp/DigitalPhantomISBI/SynthSuscept_SNR-10/Fugue_WarpDWIs/split_DWI/DWIS_dti-scheme_SNR-10_023.nii.gz --mask=/home/oesteban/workspace/ACWE-Reg/Data/DigitalPhantomISBI/signal_mask.nii.gz --loadshift=/home/oesteban/workspace/ACWE-Reg/temp/DigitalPhantomISBI/SynthSuscept_SNR-10/demean/signal_mask_vsm_demeaned.nii.gz --warp=/home/oesteban/workspace/ACWE-Reg/temp/DigitalPhantomISBI/SynthSuscept_SNR-10/Fugue_WarpDWIs/Fugue_Warp/mapflow/_Fugue_Warp23/DWIS_dti-scheme_SNR-10_023_warped.nii.gz\n"
       ]
      },
      {
       "output_type": "stream",
       "stream": "stdout",
       "text": [
        "130906-20:20:38,705 workflow INFO:\n",
        "\t Executing node _Fugue_Warp24 in dir: /home/oesteban/workspace/ACWE-Reg/temp/DigitalPhantomISBI/SynthSuscept_SNR-10/Fugue_WarpDWIs/Fugue_Warp/mapflow/_Fugue_Warp24\n"
       ]
      },
      {
       "output_type": "stream",
       "stream": "stdout",
       "text": [
        "130906-20:20:38,708 workflow INFO:\n",
        "\t Running: fugue --in=/home/oesteban/workspace/ACWE-Reg/temp/DigitalPhantomISBI/SynthSuscept_SNR-10/Fugue_WarpDWIs/split_DWI/DWIS_dti-scheme_SNR-10_024.nii.gz --mask=/home/oesteban/workspace/ACWE-Reg/Data/DigitalPhantomISBI/signal_mask.nii.gz --loadshift=/home/oesteban/workspace/ACWE-Reg/temp/DigitalPhantomISBI/SynthSuscept_SNR-10/demean/signal_mask_vsm_demeaned.nii.gz --warp=/home/oesteban/workspace/ACWE-Reg/temp/DigitalPhantomISBI/SynthSuscept_SNR-10/Fugue_WarpDWIs/Fugue_Warp/mapflow/_Fugue_Warp24/DWIS_dti-scheme_SNR-10_024_warped.nii.gz\n"
       ]
      },
      {
       "output_type": "stream",
       "stream": "stdout",
       "text": [
        "130906-20:20:42,574 workflow INFO:\n",
        "\t Executing node _Fugue_Warp25 in dir: /home/oesteban/workspace/ACWE-Reg/temp/DigitalPhantomISBI/SynthSuscept_SNR-10/Fugue_WarpDWIs/Fugue_Warp/mapflow/_Fugue_Warp25\n"
       ]
      },
      {
       "output_type": "stream",
       "stream": "stdout",
       "text": [
        "130906-20:20:42,580 workflow INFO:\n",
        "\t Running: fugue --in=/home/oesteban/workspace/ACWE-Reg/temp/DigitalPhantomISBI/SynthSuscept_SNR-10/Fugue_WarpDWIs/split_DWI/DWIS_dti-scheme_SNR-10_025.nii.gz --mask=/home/oesteban/workspace/ACWE-Reg/Data/DigitalPhantomISBI/signal_mask.nii.gz --loadshift=/home/oesteban/workspace/ACWE-Reg/temp/DigitalPhantomISBI/SynthSuscept_SNR-10/demean/signal_mask_vsm_demeaned.nii.gz --warp=/home/oesteban/workspace/ACWE-Reg/temp/DigitalPhantomISBI/SynthSuscept_SNR-10/Fugue_WarpDWIs/Fugue_Warp/mapflow/_Fugue_Warp25/DWIS_dti-scheme_SNR-10_025_warped.nii.gz\n"
       ]
      },
      {
       "output_type": "stream",
       "stream": "stdout",
       "text": [
        "130906-20:20:46,432 workflow INFO:\n",
        "\t Executing node _Fugue_Warp26 in dir: /home/oesteban/workspace/ACWE-Reg/temp/DigitalPhantomISBI/SynthSuscept_SNR-10/Fugue_WarpDWIs/Fugue_Warp/mapflow/_Fugue_Warp26\n"
       ]
      },
      {
       "output_type": "stream",
       "stream": "stdout",
       "text": [
        "130906-20:20:46,435 workflow INFO:\n",
        "\t Running: fugue --in=/home/oesteban/workspace/ACWE-Reg/temp/DigitalPhantomISBI/SynthSuscept_SNR-10/Fugue_WarpDWIs/split_DWI/DWIS_dti-scheme_SNR-10_026.nii.gz --mask=/home/oesteban/workspace/ACWE-Reg/Data/DigitalPhantomISBI/signal_mask.nii.gz --loadshift=/home/oesteban/workspace/ACWE-Reg/temp/DigitalPhantomISBI/SynthSuscept_SNR-10/demean/signal_mask_vsm_demeaned.nii.gz --warp=/home/oesteban/workspace/ACWE-Reg/temp/DigitalPhantomISBI/SynthSuscept_SNR-10/Fugue_WarpDWIs/Fugue_Warp/mapflow/_Fugue_Warp26/DWIS_dti-scheme_SNR-10_026_warped.nii.gz\n"
       ]
      },
      {
       "output_type": "stream",
       "stream": "stdout",
       "text": [
        "130906-20:20:50,305 workflow INFO:\n",
        "\t Executing node _Fugue_Warp27 in dir: /home/oesteban/workspace/ACWE-Reg/temp/DigitalPhantomISBI/SynthSuscept_SNR-10/Fugue_WarpDWIs/Fugue_Warp/mapflow/_Fugue_Warp27\n"
       ]
      },
      {
       "output_type": "stream",
       "stream": "stdout",
       "text": [
        "130906-20:20:50,309 workflow INFO:\n",
        "\t Running: fugue --in=/home/oesteban/workspace/ACWE-Reg/temp/DigitalPhantomISBI/SynthSuscept_SNR-10/Fugue_WarpDWIs/split_DWI/DWIS_dti-scheme_SNR-10_027.nii.gz --mask=/home/oesteban/workspace/ACWE-Reg/Data/DigitalPhantomISBI/signal_mask.nii.gz --loadshift=/home/oesteban/workspace/ACWE-Reg/temp/DigitalPhantomISBI/SynthSuscept_SNR-10/demean/signal_mask_vsm_demeaned.nii.gz --warp=/home/oesteban/workspace/ACWE-Reg/temp/DigitalPhantomISBI/SynthSuscept_SNR-10/Fugue_WarpDWIs/Fugue_Warp/mapflow/_Fugue_Warp27/DWIS_dti-scheme_SNR-10_027_warped.nii.gz\n"
       ]
      },
      {
       "output_type": "stream",
       "stream": "stdout",
       "text": [
        "130906-20:20:54,171 workflow INFO:\n",
        "\t Executing node _Fugue_Warp28 in dir: /home/oesteban/workspace/ACWE-Reg/temp/DigitalPhantomISBI/SynthSuscept_SNR-10/Fugue_WarpDWIs/Fugue_Warp/mapflow/_Fugue_Warp28\n"
       ]
      },
      {
       "output_type": "stream",
       "stream": "stdout",
       "text": [
        "130906-20:20:54,174 workflow INFO:\n",
        "\t Running: fugue --in=/home/oesteban/workspace/ACWE-Reg/temp/DigitalPhantomISBI/SynthSuscept_SNR-10/Fugue_WarpDWIs/split_DWI/DWIS_dti-scheme_SNR-10_028.nii.gz --mask=/home/oesteban/workspace/ACWE-Reg/Data/DigitalPhantomISBI/signal_mask.nii.gz --loadshift=/home/oesteban/workspace/ACWE-Reg/temp/DigitalPhantomISBI/SynthSuscept_SNR-10/demean/signal_mask_vsm_demeaned.nii.gz --warp=/home/oesteban/workspace/ACWE-Reg/temp/DigitalPhantomISBI/SynthSuscept_SNR-10/Fugue_WarpDWIs/Fugue_Warp/mapflow/_Fugue_Warp28/DWIS_dti-scheme_SNR-10_028_warped.nii.gz\n"
       ]
      },
      {
       "output_type": "stream",
       "stream": "stdout",
       "text": [
        "130906-20:20:58,42 workflow INFO:\n",
        "\t Executing node _Fugue_Warp29 in dir: /home/oesteban/workspace/ACWE-Reg/temp/DigitalPhantomISBI/SynthSuscept_SNR-10/Fugue_WarpDWIs/Fugue_Warp/mapflow/_Fugue_Warp29\n"
       ]
      },
      {
       "output_type": "stream",
       "stream": "stdout",
       "text": [
        "130906-20:20:58,48 workflow INFO:\n",
        "\t Running: fugue --in=/home/oesteban/workspace/ACWE-Reg/temp/DigitalPhantomISBI/SynthSuscept_SNR-10/Fugue_WarpDWIs/split_DWI/DWIS_dti-scheme_SNR-10_029.nii.gz --mask=/home/oesteban/workspace/ACWE-Reg/Data/DigitalPhantomISBI/signal_mask.nii.gz --loadshift=/home/oesteban/workspace/ACWE-Reg/temp/DigitalPhantomISBI/SynthSuscept_SNR-10/demean/signal_mask_vsm_demeaned.nii.gz --warp=/home/oesteban/workspace/ACWE-Reg/temp/DigitalPhantomISBI/SynthSuscept_SNR-10/Fugue_WarpDWIs/Fugue_Warp/mapflow/_Fugue_Warp29/DWIS_dti-scheme_SNR-10_029_warped.nii.gz\n"
       ]
      },
      {
       "output_type": "stream",
       "stream": "stdout",
       "text": [
        "130906-20:21:01,900 workflow INFO:\n",
        "\t Executing node _Fugue_Warp30 in dir: /home/oesteban/workspace/ACWE-Reg/temp/DigitalPhantomISBI/SynthSuscept_SNR-10/Fugue_WarpDWIs/Fugue_Warp/mapflow/_Fugue_Warp30\n"
       ]
      },
      {
       "output_type": "stream",
       "stream": "stdout",
       "text": [
        "130906-20:21:01,903 workflow INFO:\n",
        "\t Running: fugue --in=/home/oesteban/workspace/ACWE-Reg/temp/DigitalPhantomISBI/SynthSuscept_SNR-10/Fugue_WarpDWIs/split_DWI/DWIS_dti-scheme_SNR-10_030.nii.gz --mask=/home/oesteban/workspace/ACWE-Reg/Data/DigitalPhantomISBI/signal_mask.nii.gz --loadshift=/home/oesteban/workspace/ACWE-Reg/temp/DigitalPhantomISBI/SynthSuscept_SNR-10/demean/signal_mask_vsm_demeaned.nii.gz --warp=/home/oesteban/workspace/ACWE-Reg/temp/DigitalPhantomISBI/SynthSuscept_SNR-10/Fugue_WarpDWIs/Fugue_Warp/mapflow/_Fugue_Warp30/DWIS_dti-scheme_SNR-10_030_warped.nii.gz\n"
       ]
      },
      {
       "output_type": "stream",
       "stream": "stdout",
       "text": [
        "130906-20:21:05,762 workflow INFO:\n",
        "\t Executing node _Fugue_Warp31 in dir: /home/oesteban/workspace/ACWE-Reg/temp/DigitalPhantomISBI/SynthSuscept_SNR-10/Fugue_WarpDWIs/Fugue_Warp/mapflow/_Fugue_Warp31\n"
       ]
      },
      {
       "output_type": "stream",
       "stream": "stdout",
       "text": [
        "130906-20:21:05,766 workflow INFO:\n",
        "\t Running: fugue --in=/home/oesteban/workspace/ACWE-Reg/temp/DigitalPhantomISBI/SynthSuscept_SNR-10/Fugue_WarpDWIs/split_DWI/DWIS_dti-scheme_SNR-10_031.nii.gz --mask=/home/oesteban/workspace/ACWE-Reg/Data/DigitalPhantomISBI/signal_mask.nii.gz --loadshift=/home/oesteban/workspace/ACWE-Reg/temp/DigitalPhantomISBI/SynthSuscept_SNR-10/demean/signal_mask_vsm_demeaned.nii.gz --warp=/home/oesteban/workspace/ACWE-Reg/temp/DigitalPhantomISBI/SynthSuscept_SNR-10/Fugue_WarpDWIs/Fugue_Warp/mapflow/_Fugue_Warp31/DWIS_dti-scheme_SNR-10_031_warped.nii.gz\n"
       ]
      },
      {
       "output_type": "stream",
       "stream": "stdout",
       "text": [
        "130906-20:21:09,626 workflow INFO:\n",
        "\t Executing node _Fugue_Warp32 in dir: /home/oesteban/workspace/ACWE-Reg/temp/DigitalPhantomISBI/SynthSuscept_SNR-10/Fugue_WarpDWIs/Fugue_Warp/mapflow/_Fugue_Warp32\n"
       ]
      },
      {
       "output_type": "stream",
       "stream": "stdout",
       "text": [
        "130906-20:21:09,630 workflow INFO:\n",
        "\t Running: fugue --in=/home/oesteban/workspace/ACWE-Reg/temp/DigitalPhantomISBI/SynthSuscept_SNR-10/Fugue_WarpDWIs/split_DWI/DWIS_dti-scheme_SNR-10_032.nii.gz --mask=/home/oesteban/workspace/ACWE-Reg/Data/DigitalPhantomISBI/signal_mask.nii.gz --loadshift=/home/oesteban/workspace/ACWE-Reg/temp/DigitalPhantomISBI/SynthSuscept_SNR-10/demean/signal_mask_vsm_demeaned.nii.gz --warp=/home/oesteban/workspace/ACWE-Reg/temp/DigitalPhantomISBI/SynthSuscept_SNR-10/Fugue_WarpDWIs/Fugue_Warp/mapflow/_Fugue_Warp32/DWIS_dti-scheme_SNR-10_032_warped.nii.gz\n"
       ]
      },
      {
       "output_type": "stream",
       "stream": "stdout",
       "text": [
        "130906-20:21:13,531 workflow INFO:\n",
        "\t Executing node merge_DWI in dir: /home/oesteban/workspace/ACWE-Reg/temp/DigitalPhantomISBI/SynthSuscept_SNR-10/Fugue_WarpDWIs/merge_DWI\n"
       ]
      },
      {
       "output_type": "stream",
       "stream": "stdout",
       "text": [
        "130906-20:21:13,535 workflow INFO:\n",
        "\t Running: fslmerge -t /home/oesteban/workspace/ACWE-Reg/temp/DigitalPhantomISBI/SynthSuscept_SNR-10/Fugue_WarpDWIs/merge_DWI/DWIS_dti-scheme_SNR-10_000_warped_merged.nii.gz /home/oesteban/workspace/ACWE-Reg/temp/DigitalPhantomISBI/SynthSuscept_SNR-10/Fugue_WarpDWIs/Fugue_Warp/mapflow/_Fugue_Warp0/DWIS_dti-scheme_SNR-10_000_warped.nii.gz /home/oesteban/workspace/ACWE-Reg/temp/DigitalPhantomISBI/SynthSuscept_SNR-10/Fugue_WarpDWIs/Fugue_Warp/mapflow/_Fugue_Warp1/DWIS_dti-scheme_SNR-10_001_warped.nii.gz /home/oesteban/workspace/ACWE-Reg/temp/DigitalPhantomISBI/SynthSuscept_SNR-10/Fugue_WarpDWIs/Fugue_Warp/mapflow/_Fugue_Warp2/DWIS_dti-scheme_SNR-10_002_warped.nii.gz /home/oesteban/workspace/ACWE-Reg/temp/DigitalPhantomISBI/SynthSuscept_SNR-10/Fugue_WarpDWIs/Fugue_Warp/mapflow/_Fugue_Warp3/DWIS_dti-scheme_SNR-10_003_warped.nii.gz /home/oesteban/workspace/ACWE-Reg/temp/DigitalPhantomISBI/SynthSuscept_SNR-10/Fugue_WarpDWIs/Fugue_Warp/mapflow/_Fugue_Warp4/DWIS_dti-scheme_SNR-10_004_warped.nii.gz /home/oesteban/workspace/ACWE-Reg/temp/DigitalPhantomISBI/SynthSuscept_SNR-10/Fugue_WarpDWIs/Fugue_Warp/mapflow/_Fugue_Warp5/DWIS_dti-scheme_SNR-10_005_warped.nii.gz /home/oesteban/workspace/ACWE-Reg/temp/DigitalPhantomISBI/SynthSuscept_SNR-10/Fugue_WarpDWIs/Fugue_Warp/mapflow/_Fugue_Warp6/DWIS_dti-scheme_SNR-10_006_warped.nii.gz /home/oesteban/workspace/ACWE-Reg/temp/DigitalPhantomISBI/SynthSuscept_SNR-10/Fugue_WarpDWIs/Fugue_Warp/mapflow/_Fugue_Warp7/DWIS_dti-scheme_SNR-10_007_warped.nii.gz /home/oesteban/workspace/ACWE-Reg/temp/DigitalPhantomISBI/SynthSuscept_SNR-10/Fugue_WarpDWIs/Fugue_Warp/mapflow/_Fugue_Warp8/DWIS_dti-scheme_SNR-10_008_warped.nii.gz /home/oesteban/workspace/ACWE-Reg/temp/DigitalPhantomISBI/SynthSuscept_SNR-10/Fugue_WarpDWIs/Fugue_Warp/mapflow/_Fugue_Warp9/DWIS_dti-scheme_SNR-10_009_warped.nii.gz /home/oesteban/workspace/ACWE-Reg/temp/DigitalPhantomISBI/SynthSuscept_SNR-10/Fugue_WarpDWIs/Fugue_Warp/mapflow/_Fugue_Warp10/DWIS_dti-scheme_SNR-10_010_warped.nii.gz /home/oesteban/workspace/ACWE-Reg/temp/DigitalPhantomISBI/SynthSuscept_SNR-10/Fugue_WarpDWIs/Fugue_Warp/mapflow/_Fugue_Warp11/DWIS_dti-scheme_SNR-10_011_warped.nii.gz /home/oesteban/workspace/ACWE-Reg/temp/DigitalPhantomISBI/SynthSuscept_SNR-10/Fugue_WarpDWIs/Fugue_Warp/mapflow/_Fugue_Warp12/DWIS_dti-scheme_SNR-10_012_warped.nii.gz /home/oesteban/workspace/ACWE-Reg/temp/DigitalPhantomISBI/SynthSuscept_SNR-10/Fugue_WarpDWIs/Fugue_Warp/mapflow/_Fugue_Warp13/DWIS_dti-scheme_SNR-10_013_warped.nii.gz /home/oesteban/workspace/ACWE-Reg/temp/DigitalPhantomISBI/SynthSuscept_SNR-10/Fugue_WarpDWIs/Fugue_Warp/mapflow/_Fugue_Warp14/DWIS_dti-scheme_SNR-10_014_warped.nii.gz /home/oesteban/workspace/ACWE-Reg/temp/DigitalPhantomISBI/SynthSuscept_SNR-10/Fugue_WarpDWIs/Fugue_Warp/mapflow/_Fugue_Warp15/DWIS_dti-scheme_SNR-10_015_warped.nii.gz /home/oesteban/workspace/ACWE-Reg/temp/DigitalPhantomISBI/SynthSuscept_SNR-10/Fugue_WarpDWIs/Fugue_Warp/mapflow/_Fugue_Warp16/DWIS_dti-scheme_SNR-10_016_warped.nii.gz /home/oesteban/workspace/ACWE-Reg/temp/DigitalPhantomISBI/SynthSuscept_SNR-10/Fugue_WarpDWIs/Fugue_Warp/mapflow/_Fugue_Warp17/DWIS_dti-scheme_SNR-10_017_warped.nii.gz /home/oesteban/workspace/ACWE-Reg/temp/DigitalPhantomISBI/SynthSuscept_SNR-10/Fugue_WarpDWIs/Fugue_Warp/mapflow/_Fugue_Warp18/DWIS_dti-scheme_SNR-10_018_warped.nii.gz /home/oesteban/workspace/ACWE-Reg/temp/DigitalPhantomISBI/SynthSuscept_SNR-10/Fugue_WarpDWIs/Fugue_Warp/mapflow/_Fugue_Warp19/DWIS_dti-scheme_SNR-10_019_warped.nii.gz /home/oesteban/workspace/ACWE-Reg/temp/DigitalPhantomISBI/SynthSuscept_SNR-10/Fugue_WarpDWIs/Fugue_Warp/mapflow/_Fugue_Warp20/DWIS_dti-scheme_SNR-10_020_warped.nii.gz /home/oesteban/workspace/ACWE-Reg/temp/DigitalPhantomISBI/SynthSuscept_SNR-10/Fugue_WarpDWIs/Fugue_Warp/mapflow/_Fugue_Warp21/DWIS_dti-scheme_SNR-10_021_warped.nii.gz /home/oesteban/workspace/ACWE-Reg/temp/DigitalPhantomISBI/SynthSuscept_SNR-10/Fugue_WarpDWIs/Fugue_Warp/mapflow/_Fugue_Warp22/DWIS_dti-scheme_SNR-10_022_warped.nii.gz /home/oesteban/workspace/ACWE-Reg/temp/DigitalPhantomISBI/SynthSuscept_SNR-10/Fugue_WarpDWIs/Fugue_Warp/mapflow/_Fugue_Warp23/DWIS_dti-scheme_SNR-10_023_warped.nii.gz /home/oesteban/workspace/ACWE-Reg/temp/DigitalPhantomISBI/SynthSuscept_SNR-10/Fugue_WarpDWIs/Fugue_Warp/mapflow/_Fugue_Warp24/DWIS_dti-scheme_SNR-10_024_warped.nii.gz /home/oesteban/workspace/ACWE-Reg/temp/DigitalPhantomISBI/SynthSuscept_SNR-10/Fugue_WarpDWIs/Fugue_Warp/mapflow/_Fugue_Warp25/DWIS_dti-scheme_SNR-10_025_warped.nii.gz /home/oesteban/workspace/ACWE-Reg/temp/DigitalPhantomISBI/SynthSuscept_SNR-10/Fugue_WarpDWIs/Fugue_Warp/mapflow/_Fugue_Warp26/DWIS_dti-scheme_SNR-10_026_warped.nii.gz /home/oesteban/workspace/ACWE-Reg/temp/DigitalPhantomISBI/SynthSuscept_SNR-10/Fugue_WarpDWIs/Fugue_Warp/mapflow/_Fugue_Warp27/DWIS_dti-scheme_SNR-10_027_warped.nii.gz /home/oesteban/workspace/ACWE-Reg/temp/DigitalPhantomISBI/SynthSuscept_SNR-10/Fugue_WarpDWIs/Fugue_Warp/mapflow/_Fugue_Warp28/DWIS_dti-scheme_SNR-10_028_warped.nii.gz /home/oesteban/workspace/ACWE-Reg/temp/DigitalPhantomISBI/SynthSuscept_SNR-10/Fugue_WarpDWIs/Fugue_Warp/mapflow/_Fugue_Warp29/DWIS_dti-scheme_SNR-10_029_warped.nii.gz /home/oesteban/workspace/ACWE-Reg/temp/DigitalPhantomISBI/SynthSuscept_SNR-10/Fugue_WarpDWIs/Fugue_Warp/mapflow/_Fugue_Warp30/DWIS_dti-scheme_SNR-10_030_warped.nii.gz /home/oesteban/workspace/ACWE-Reg/temp/DigitalPhantomISBI/SynthSuscept_SNR-10/Fugue_WarpDWIs/Fugue_Warp/mapflow/_Fugue_Warp31/DWIS_dti-scheme_SNR-10_031_warped.nii.gz /home/oesteban/workspace/ACWE-Reg/temp/DigitalPhantomISBI/SynthSuscept_SNR-10/Fugue_WarpDWIs/Fugue_Warp/mapflow/_Fugue_Warp32/DWIS_dti-scheme_SNR-10_032_warped.nii.gz\n"
       ]
      },
      {
       "output_type": "stream",
       "stream": "stderr",
       "text": [
        "/home/oesteban/workspace/nipype/nipype/interfaces/fsl/preprocess.py:1285: UserWarning: This interface has not been fully tested. Please report any failures.\n",
        "  'This interface has not been fully tested. Please report any failures.')\n",
        "/home/oesteban/workspace/nipype/nipype/interfaces/fsl/preprocess.py:1285: UserWarning: This interface has not been fully tested. Please report any failures.\n",
        "  'This interface has not been fully tested. Please report any failures.')\n",
        "/home/oesteban/workspace/nipype/nipype/interfaces/fsl/preprocess.py:1399: UserWarning: This has not been fully tested. Please report any failures.\n",
        "  warn('This has not been fully tested. Please report any failures.')\n"
       ]
      },
      {
       "output_type": "stream",
       "stream": "stdout",
       "text": [
        "130906-20:21:16,473 workflow INFO:\n",
        "\t ['check', 'execution', 'logging']\n"
       ]
      },
      {
       "output_type": "stream",
       "stream": "stdout",
       "text": [
        "130906-20:21:16,480 workflow INFO:\n",
        "\t Running serially.\n"
       ]
      },
      {
       "output_type": "stream",
       "stream": "stdout",
       "text": [
        "130906-20:21:16,480 workflow INFO:\n",
        "\t Executing node split_DWI in dir: /home/oesteban/workspace/ACWE-Reg/temp/DigitalPhantomISBI/SynthSuscept_SNR-20/Fugue_WarpDWIs/split_DWI\n"
       ]
      },
      {
       "output_type": "stream",
       "stream": "stdout",
       "text": [
        "130906-20:21:17,344 workflow INFO:\n",
        "\t Executing node gen_Mask in dir: /home/oesteban/workspace/ACWE-Reg/temp/DigitalPhantomISBI/SynthSuscept_SNR-20/gen_Mask\n"
       ]
      },
      {
       "output_type": "stream",
       "stream": "stdout",
       "text": [
        "130906-20:21:17,371 workflow INFO:\n",
        "\t Executing node gen_PhaseDiffMap in dir: /home/oesteban/workspace/ACWE-Reg/temp/DigitalPhantomISBI/SynthSuscept_SNR-20/gen_PhaseDiffMap\n"
       ]
      },
      {
       "output_type": "stream",
       "stream": "stdout",
       "text": [
        "130906-20:21:17,449 workflow INFO:\n",
        "\t Executing node PhaseUnwrap in dir: /home/oesteban/workspace/ACWE-Reg/temp/DigitalPhantomISBI/SynthSuscept_SNR-20/PhaseUnwrap\n"
       ]
      },
      {
       "output_type": "stream",
       "stream": "stdout",
       "text": [
        "130906-20:21:17,451 workflow INFO:\n",
        "\t Running: prelude --abs=/home/oesteban/workspace/ACWE-Reg/Data/DigitalPhantomISBI/signal_mask.nii.gz --phase=/home/oesteban/workspace/ACWE-Reg/temp/DigitalPhantomISBI/SynthSuscept_SNR-20/gen_PhaseDiffMap/signal_mask_ph_unwrap_rads.nii.gz --force3D --unwrap=/home/oesteban/workspace/ACWE-Reg/temp/DigitalPhantomISBI/SynthSuscept_SNR-20/PhaseUnwrap/signal_mask_ph_unwrap_rads_unwrapped.nii.gz\n"
       ]
      },
      {
       "output_type": "stream",
       "stream": "stdout",
       "text": [
        "130906-20:21:17,585 workflow INFO:\n",
        "\t Executing node PhaseRadSec in dir: /home/oesteban/workspace/ACWE-Reg/temp/DigitalPhantomISBI/SynthSuscept_SNR-20/PhaseRadSec\n"
       ]
      },
      {
       "output_type": "stream",
       "stream": "stdout",
       "text": [
        "130906-20:21:17,704 workflow INFO:\n",
        "\t Executing node gen_VSM in dir: /home/oesteban/workspace/ACWE-Reg/temp/DigitalPhantomISBI/SynthSuscept_SNR-20/gen_VSM\n"
       ]
      },
      {
       "output_type": "stream",
       "stream": "stdout",
       "text": [
        "130906-20:21:17,707 workflow INFO:\n",
        "\t Running: fugue --asym=0.0024600000 --dwell=0.0007700000 --in=/home/oesteban/workspace/ACWE-Reg/Data/DigitalPhantomISBI/signal_mask.nii.gz --mask=/home/oesteban/workspace/ACWE-Reg/temp/DigitalPhantomISBI/SynthSuscept_SNR-20/gen_Mask/signal_mask_mask.nii.gz --phasemap=/home/oesteban/workspace/ACWE-Reg/temp/DigitalPhantomISBI/SynthSuscept_SNR-20/PhaseRadSec/signal_mask_ph_unwrap_rads_unwrapped_ph_unwrap_radsec.nii.gz --saveshift=/home/oesteban/workspace/ACWE-Reg/temp/DigitalPhantomISBI/SynthSuscept_SNR-20/gen_VSM/signal_mask_vsm.nii.gz --unwarp=/home/oesteban/workspace/ACWE-Reg/temp/DigitalPhantomISBI/SynthSuscept_SNR-20/gen_VSM/signal_mask_unwarped.nii.gz\n"
       ]
      },
      {
       "output_type": "stream",
       "stream": "stdout",
       "text": [
        "130906-20:21:18,10 workflow INFO:\n",
        "\t Executing node demean in dir: /home/oesteban/workspace/ACWE-Reg/temp/DigitalPhantomISBI/SynthSuscept_SNR-20/demean\n"
       ]
      },
      {
       "output_type": "stream",
       "stream": "stdout",
       "text": [
        "130906-20:21:18,68 workflow INFO:\n",
        "\t Executing node Fugue_Warp in dir: /home/oesteban/workspace/ACWE-Reg/temp/DigitalPhantomISBI/SynthSuscept_SNR-20/Fugue_WarpDWIs/Fugue_Warp\n"
       ]
      },
      {
       "output_type": "stream",
       "stream": "stdout",
       "text": [
        "130906-20:21:18,73 workflow INFO:\n",
        "\t Executing node _Fugue_Warp0 in dir: /home/oesteban/workspace/ACWE-Reg/temp/DigitalPhantomISBI/SynthSuscept_SNR-20/Fugue_WarpDWIs/Fugue_Warp/mapflow/_Fugue_Warp0\n"
       ]
      },
      {
       "output_type": "stream",
       "stream": "stdout",
       "text": [
        "130906-20:21:18,76 workflow INFO:\n",
        "\t Running: fugue --in=/home/oesteban/workspace/ACWE-Reg/temp/DigitalPhantomISBI/SynthSuscept_SNR-20/Fugue_WarpDWIs/split_DWI/DWIS_dti-scheme_SNR-20_000.nii.gz --mask=/home/oesteban/workspace/ACWE-Reg/Data/DigitalPhantomISBI/signal_mask.nii.gz --loadshift=/home/oesteban/workspace/ACWE-Reg/temp/DigitalPhantomISBI/SynthSuscept_SNR-20/demean/signal_mask_vsm_demeaned.nii.gz --warp=/home/oesteban/workspace/ACWE-Reg/temp/DigitalPhantomISBI/SynthSuscept_SNR-20/Fugue_WarpDWIs/Fugue_Warp/mapflow/_Fugue_Warp0/DWIS_dti-scheme_SNR-20_000_warped.nii.gz\n"
       ]
      },
      {
       "output_type": "stream",
       "stream": "stdout",
       "text": [
        "130906-20:21:21,928 workflow INFO:\n",
        "\t Executing node _Fugue_Warp1 in dir: /home/oesteban/workspace/ACWE-Reg/temp/DigitalPhantomISBI/SynthSuscept_SNR-20/Fugue_WarpDWIs/Fugue_Warp/mapflow/_Fugue_Warp1\n"
       ]
      },
      {
       "output_type": "stream",
       "stream": "stdout",
       "text": [
        "130906-20:21:21,931 workflow INFO:\n",
        "\t Running: fugue --in=/home/oesteban/workspace/ACWE-Reg/temp/DigitalPhantomISBI/SynthSuscept_SNR-20/Fugue_WarpDWIs/split_DWI/DWIS_dti-scheme_SNR-20_001.nii.gz --mask=/home/oesteban/workspace/ACWE-Reg/Data/DigitalPhantomISBI/signal_mask.nii.gz --loadshift=/home/oesteban/workspace/ACWE-Reg/temp/DigitalPhantomISBI/SynthSuscept_SNR-20/demean/signal_mask_vsm_demeaned.nii.gz --warp=/home/oesteban/workspace/ACWE-Reg/temp/DigitalPhantomISBI/SynthSuscept_SNR-20/Fugue_WarpDWIs/Fugue_Warp/mapflow/_Fugue_Warp1/DWIS_dti-scheme_SNR-20_001_warped.nii.gz\n"
       ]
      },
      {
       "output_type": "stream",
       "stream": "stdout",
       "text": [
        "130906-20:21:25,793 workflow INFO:\n",
        "\t Executing node _Fugue_Warp2 in dir: /home/oesteban/workspace/ACWE-Reg/temp/DigitalPhantomISBI/SynthSuscept_SNR-20/Fugue_WarpDWIs/Fugue_Warp/mapflow/_Fugue_Warp2\n"
       ]
      },
      {
       "output_type": "stream",
       "stream": "stdout",
       "text": [
        "130906-20:21:25,799 workflow INFO:\n",
        "\t Running: fugue --in=/home/oesteban/workspace/ACWE-Reg/temp/DigitalPhantomISBI/SynthSuscept_SNR-20/Fugue_WarpDWIs/split_DWI/DWIS_dti-scheme_SNR-20_002.nii.gz --mask=/home/oesteban/workspace/ACWE-Reg/Data/DigitalPhantomISBI/signal_mask.nii.gz --loadshift=/home/oesteban/workspace/ACWE-Reg/temp/DigitalPhantomISBI/SynthSuscept_SNR-20/demean/signal_mask_vsm_demeaned.nii.gz --warp=/home/oesteban/workspace/ACWE-Reg/temp/DigitalPhantomISBI/SynthSuscept_SNR-20/Fugue_WarpDWIs/Fugue_Warp/mapflow/_Fugue_Warp2/DWIS_dti-scheme_SNR-20_002_warped.nii.gz\n"
       ]
      },
      {
       "output_type": "stream",
       "stream": "stdout",
       "text": [
        "130906-20:21:29,655 workflow INFO:\n",
        "\t Executing node _Fugue_Warp3 in dir: /home/oesteban/workspace/ACWE-Reg/temp/DigitalPhantomISBI/SynthSuscept_SNR-20/Fugue_WarpDWIs/Fugue_Warp/mapflow/_Fugue_Warp3\n"
       ]
      },
      {
       "output_type": "stream",
       "stream": "stdout",
       "text": [
        "130906-20:21:29,658 workflow INFO:\n",
        "\t Running: fugue --in=/home/oesteban/workspace/ACWE-Reg/temp/DigitalPhantomISBI/SynthSuscept_SNR-20/Fugue_WarpDWIs/split_DWI/DWIS_dti-scheme_SNR-20_003.nii.gz --mask=/home/oesteban/workspace/ACWE-Reg/Data/DigitalPhantomISBI/signal_mask.nii.gz --loadshift=/home/oesteban/workspace/ACWE-Reg/temp/DigitalPhantomISBI/SynthSuscept_SNR-20/demean/signal_mask_vsm_demeaned.nii.gz --warp=/home/oesteban/workspace/ACWE-Reg/temp/DigitalPhantomISBI/SynthSuscept_SNR-20/Fugue_WarpDWIs/Fugue_Warp/mapflow/_Fugue_Warp3/DWIS_dti-scheme_SNR-20_003_warped.nii.gz\n"
       ]
      },
      {
       "output_type": "stream",
       "stream": "stdout",
       "text": [
        "130906-20:21:33,520 workflow INFO:\n",
        "\t Executing node _Fugue_Warp4 in dir: /home/oesteban/workspace/ACWE-Reg/temp/DigitalPhantomISBI/SynthSuscept_SNR-20/Fugue_WarpDWIs/Fugue_Warp/mapflow/_Fugue_Warp4\n"
       ]
      },
      {
       "output_type": "stream",
       "stream": "stdout",
       "text": [
        "130906-20:21:33,523 workflow INFO:\n",
        "\t Running: fugue --in=/home/oesteban/workspace/ACWE-Reg/temp/DigitalPhantomISBI/SynthSuscept_SNR-20/Fugue_WarpDWIs/split_DWI/DWIS_dti-scheme_SNR-20_004.nii.gz --mask=/home/oesteban/workspace/ACWE-Reg/Data/DigitalPhantomISBI/signal_mask.nii.gz --loadshift=/home/oesteban/workspace/ACWE-Reg/temp/DigitalPhantomISBI/SynthSuscept_SNR-20/demean/signal_mask_vsm_demeaned.nii.gz --warp=/home/oesteban/workspace/ACWE-Reg/temp/DigitalPhantomISBI/SynthSuscept_SNR-20/Fugue_WarpDWIs/Fugue_Warp/mapflow/_Fugue_Warp4/DWIS_dti-scheme_SNR-20_004_warped.nii.gz\n"
       ]
      },
      {
       "output_type": "stream",
       "stream": "stdout",
       "text": [
        "130906-20:21:37,384 workflow INFO:\n",
        "\t Executing node _Fugue_Warp5 in dir: /home/oesteban/workspace/ACWE-Reg/temp/DigitalPhantomISBI/SynthSuscept_SNR-20/Fugue_WarpDWIs/Fugue_Warp/mapflow/_Fugue_Warp5\n"
       ]
      },
      {
       "output_type": "stream",
       "stream": "stdout",
       "text": [
        "130906-20:21:37,387 workflow INFO:\n",
        "\t Running: fugue --in=/home/oesteban/workspace/ACWE-Reg/temp/DigitalPhantomISBI/SynthSuscept_SNR-20/Fugue_WarpDWIs/split_DWI/DWIS_dti-scheme_SNR-20_005.nii.gz --mask=/home/oesteban/workspace/ACWE-Reg/Data/DigitalPhantomISBI/signal_mask.nii.gz --loadshift=/home/oesteban/workspace/ACWE-Reg/temp/DigitalPhantomISBI/SynthSuscept_SNR-20/demean/signal_mask_vsm_demeaned.nii.gz --warp=/home/oesteban/workspace/ACWE-Reg/temp/DigitalPhantomISBI/SynthSuscept_SNR-20/Fugue_WarpDWIs/Fugue_Warp/mapflow/_Fugue_Warp5/DWIS_dti-scheme_SNR-20_005_warped.nii.gz\n"
       ]
      },
      {
       "output_type": "stream",
       "stream": "stdout",
       "text": [
        "130906-20:21:41,241 workflow INFO:\n",
        "\t Executing node _Fugue_Warp6 in dir: /home/oesteban/workspace/ACWE-Reg/temp/DigitalPhantomISBI/SynthSuscept_SNR-20/Fugue_WarpDWIs/Fugue_Warp/mapflow/_Fugue_Warp6\n"
       ]
      },
      {
       "output_type": "stream",
       "stream": "stdout",
       "text": [
        "130906-20:21:41,247 workflow INFO:\n",
        "\t Running: fugue --in=/home/oesteban/workspace/ACWE-Reg/temp/DigitalPhantomISBI/SynthSuscept_SNR-20/Fugue_WarpDWIs/split_DWI/DWIS_dti-scheme_SNR-20_006.nii.gz --mask=/home/oesteban/workspace/ACWE-Reg/Data/DigitalPhantomISBI/signal_mask.nii.gz --loadshift=/home/oesteban/workspace/ACWE-Reg/temp/DigitalPhantomISBI/SynthSuscept_SNR-20/demean/signal_mask_vsm_demeaned.nii.gz --warp=/home/oesteban/workspace/ACWE-Reg/temp/DigitalPhantomISBI/SynthSuscept_SNR-20/Fugue_WarpDWIs/Fugue_Warp/mapflow/_Fugue_Warp6/DWIS_dti-scheme_SNR-20_006_warped.nii.gz\n"
       ]
      },
      {
       "output_type": "stream",
       "stream": "stdout",
       "text": [
        "130906-20:21:45,100 workflow INFO:\n",
        "\t Executing node _Fugue_Warp7 in dir: /home/oesteban/workspace/ACWE-Reg/temp/DigitalPhantomISBI/SynthSuscept_SNR-20/Fugue_WarpDWIs/Fugue_Warp/mapflow/_Fugue_Warp7\n"
       ]
      },
      {
       "output_type": "stream",
       "stream": "stdout",
       "text": [
        "130906-20:21:45,103 workflow INFO:\n",
        "\t Running: fugue --in=/home/oesteban/workspace/ACWE-Reg/temp/DigitalPhantomISBI/SynthSuscept_SNR-20/Fugue_WarpDWIs/split_DWI/DWIS_dti-scheme_SNR-20_007.nii.gz --mask=/home/oesteban/workspace/ACWE-Reg/Data/DigitalPhantomISBI/signal_mask.nii.gz --loadshift=/home/oesteban/workspace/ACWE-Reg/temp/DigitalPhantomISBI/SynthSuscept_SNR-20/demean/signal_mask_vsm_demeaned.nii.gz --warp=/home/oesteban/workspace/ACWE-Reg/temp/DigitalPhantomISBI/SynthSuscept_SNR-20/Fugue_WarpDWIs/Fugue_Warp/mapflow/_Fugue_Warp7/DWIS_dti-scheme_SNR-20_007_warped.nii.gz\n"
       ]
      },
      {
       "output_type": "stream",
       "stream": "stdout",
       "text": [
        "130906-20:21:48,964 workflow INFO:\n",
        "\t Executing node _Fugue_Warp8 in dir: /home/oesteban/workspace/ACWE-Reg/temp/DigitalPhantomISBI/SynthSuscept_SNR-20/Fugue_WarpDWIs/Fugue_Warp/mapflow/_Fugue_Warp8\n"
       ]
      },
      {
       "output_type": "stream",
       "stream": "stdout",
       "text": [
        "130906-20:21:48,967 workflow INFO:\n",
        "\t Running: fugue --in=/home/oesteban/workspace/ACWE-Reg/temp/DigitalPhantomISBI/SynthSuscept_SNR-20/Fugue_WarpDWIs/split_DWI/DWIS_dti-scheme_SNR-20_008.nii.gz --mask=/home/oesteban/workspace/ACWE-Reg/Data/DigitalPhantomISBI/signal_mask.nii.gz --loadshift=/home/oesteban/workspace/ACWE-Reg/temp/DigitalPhantomISBI/SynthSuscept_SNR-20/demean/signal_mask_vsm_demeaned.nii.gz --warp=/home/oesteban/workspace/ACWE-Reg/temp/DigitalPhantomISBI/SynthSuscept_SNR-20/Fugue_WarpDWIs/Fugue_Warp/mapflow/_Fugue_Warp8/DWIS_dti-scheme_SNR-20_008_warped.nii.gz\n"
       ]
      },
      {
       "output_type": "stream",
       "stream": "stdout",
       "text": [
        "130906-20:21:52,838 workflow INFO:\n",
        "\t Executing node _Fugue_Warp9 in dir: /home/oesteban/workspace/ACWE-Reg/temp/DigitalPhantomISBI/SynthSuscept_SNR-20/Fugue_WarpDWIs/Fugue_Warp/mapflow/_Fugue_Warp9\n"
       ]
      },
      {
       "output_type": "stream",
       "stream": "stdout",
       "text": [
        "130906-20:21:52,842 workflow INFO:\n",
        "\t Running: fugue --in=/home/oesteban/workspace/ACWE-Reg/temp/DigitalPhantomISBI/SynthSuscept_SNR-20/Fugue_WarpDWIs/split_DWI/DWIS_dti-scheme_SNR-20_009.nii.gz --mask=/home/oesteban/workspace/ACWE-Reg/Data/DigitalPhantomISBI/signal_mask.nii.gz --loadshift=/home/oesteban/workspace/ACWE-Reg/temp/DigitalPhantomISBI/SynthSuscept_SNR-20/demean/signal_mask_vsm_demeaned.nii.gz --warp=/home/oesteban/workspace/ACWE-Reg/temp/DigitalPhantomISBI/SynthSuscept_SNR-20/Fugue_WarpDWIs/Fugue_Warp/mapflow/_Fugue_Warp9/DWIS_dti-scheme_SNR-20_009_warped.nii.gz\n"
       ]
      },
      {
       "output_type": "stream",
       "stream": "stdout",
       "text": [
        "130906-20:21:56,700 workflow INFO:\n",
        "\t Executing node _Fugue_Warp10 in dir: /home/oesteban/workspace/ACWE-Reg/temp/DigitalPhantomISBI/SynthSuscept_SNR-20/Fugue_WarpDWIs/Fugue_Warp/mapflow/_Fugue_Warp10\n"
       ]
      },
      {
       "output_type": "stream",
       "stream": "stdout",
       "text": [
        "130906-20:21:56,705 workflow INFO:\n",
        "\t Running: fugue --in=/home/oesteban/workspace/ACWE-Reg/temp/DigitalPhantomISBI/SynthSuscept_SNR-20/Fugue_WarpDWIs/split_DWI/DWIS_dti-scheme_SNR-20_010.nii.gz --mask=/home/oesteban/workspace/ACWE-Reg/Data/DigitalPhantomISBI/signal_mask.nii.gz --loadshift=/home/oesteban/workspace/ACWE-Reg/temp/DigitalPhantomISBI/SynthSuscept_SNR-20/demean/signal_mask_vsm_demeaned.nii.gz --warp=/home/oesteban/workspace/ACWE-Reg/temp/DigitalPhantomISBI/SynthSuscept_SNR-20/Fugue_WarpDWIs/Fugue_Warp/mapflow/_Fugue_Warp10/DWIS_dti-scheme_SNR-20_010_warped.nii.gz\n"
       ]
      },
      {
       "output_type": "stream",
       "stream": "stdout",
       "text": [
        "130906-20:22:00,578 workflow INFO:\n",
        "\t Executing node _Fugue_Warp11 in dir: /home/oesteban/workspace/ACWE-Reg/temp/DigitalPhantomISBI/SynthSuscept_SNR-20/Fugue_WarpDWIs/Fugue_Warp/mapflow/_Fugue_Warp11\n"
       ]
      },
      {
       "output_type": "stream",
       "stream": "stdout",
       "text": [
        "130906-20:22:00,582 workflow INFO:\n",
        "\t Running: fugue --in=/home/oesteban/workspace/ACWE-Reg/temp/DigitalPhantomISBI/SynthSuscept_SNR-20/Fugue_WarpDWIs/split_DWI/DWIS_dti-scheme_SNR-20_011.nii.gz --mask=/home/oesteban/workspace/ACWE-Reg/Data/DigitalPhantomISBI/signal_mask.nii.gz --loadshift=/home/oesteban/workspace/ACWE-Reg/temp/DigitalPhantomISBI/SynthSuscept_SNR-20/demean/signal_mask_vsm_demeaned.nii.gz --warp=/home/oesteban/workspace/ACWE-Reg/temp/DigitalPhantomISBI/SynthSuscept_SNR-20/Fugue_WarpDWIs/Fugue_Warp/mapflow/_Fugue_Warp11/DWIS_dti-scheme_SNR-20_011_warped.nii.gz\n"
       ]
      },
      {
       "output_type": "stream",
       "stream": "stdout",
       "text": [
        "130906-20:22:04,443 workflow INFO:\n",
        "\t Executing node _Fugue_Warp12 in dir: /home/oesteban/workspace/ACWE-Reg/temp/DigitalPhantomISBI/SynthSuscept_SNR-20/Fugue_WarpDWIs/Fugue_Warp/mapflow/_Fugue_Warp12\n"
       ]
      },
      {
       "output_type": "stream",
       "stream": "stdout",
       "text": [
        "130906-20:22:04,449 workflow INFO:\n",
        "\t Running: fugue --in=/home/oesteban/workspace/ACWE-Reg/temp/DigitalPhantomISBI/SynthSuscept_SNR-20/Fugue_WarpDWIs/split_DWI/DWIS_dti-scheme_SNR-20_012.nii.gz --mask=/home/oesteban/workspace/ACWE-Reg/Data/DigitalPhantomISBI/signal_mask.nii.gz --loadshift=/home/oesteban/workspace/ACWE-Reg/temp/DigitalPhantomISBI/SynthSuscept_SNR-20/demean/signal_mask_vsm_demeaned.nii.gz --warp=/home/oesteban/workspace/ACWE-Reg/temp/DigitalPhantomISBI/SynthSuscept_SNR-20/Fugue_WarpDWIs/Fugue_Warp/mapflow/_Fugue_Warp12/DWIS_dti-scheme_SNR-20_012_warped.nii.gz\n"
       ]
      },
      {
       "output_type": "stream",
       "stream": "stdout",
       "text": [
        "130906-20:22:08,300 workflow INFO:\n",
        "\t Executing node _Fugue_Warp13 in dir: /home/oesteban/workspace/ACWE-Reg/temp/DigitalPhantomISBI/SynthSuscept_SNR-20/Fugue_WarpDWIs/Fugue_Warp/mapflow/_Fugue_Warp13\n"
       ]
      },
      {
       "output_type": "stream",
       "stream": "stdout",
       "text": [
        "130906-20:22:08,306 workflow INFO:\n",
        "\t Running: fugue --in=/home/oesteban/workspace/ACWE-Reg/temp/DigitalPhantomISBI/SynthSuscept_SNR-20/Fugue_WarpDWIs/split_DWI/DWIS_dti-scheme_SNR-20_013.nii.gz --mask=/home/oesteban/workspace/ACWE-Reg/Data/DigitalPhantomISBI/signal_mask.nii.gz --loadshift=/home/oesteban/workspace/ACWE-Reg/temp/DigitalPhantomISBI/SynthSuscept_SNR-20/demean/signal_mask_vsm_demeaned.nii.gz --warp=/home/oesteban/workspace/ACWE-Reg/temp/DigitalPhantomISBI/SynthSuscept_SNR-20/Fugue_WarpDWIs/Fugue_Warp/mapflow/_Fugue_Warp13/DWIS_dti-scheme_SNR-20_013_warped.nii.gz\n"
       ]
      },
      {
       "output_type": "stream",
       "stream": "stdout",
       "text": [
        "130906-20:22:12,162 workflow INFO:\n",
        "\t Executing node _Fugue_Warp14 in dir: /home/oesteban/workspace/ACWE-Reg/temp/DigitalPhantomISBI/SynthSuscept_SNR-20/Fugue_WarpDWIs/Fugue_Warp/mapflow/_Fugue_Warp14\n"
       ]
      },
      {
       "output_type": "stream",
       "stream": "stdout",
       "text": [
        "130906-20:22:12,168 workflow INFO:\n",
        "\t Running: fugue --in=/home/oesteban/workspace/ACWE-Reg/temp/DigitalPhantomISBI/SynthSuscept_SNR-20/Fugue_WarpDWIs/split_DWI/DWIS_dti-scheme_SNR-20_014.nii.gz --mask=/home/oesteban/workspace/ACWE-Reg/Data/DigitalPhantomISBI/signal_mask.nii.gz --loadshift=/home/oesteban/workspace/ACWE-Reg/temp/DigitalPhantomISBI/SynthSuscept_SNR-20/demean/signal_mask_vsm_demeaned.nii.gz --warp=/home/oesteban/workspace/ACWE-Reg/temp/DigitalPhantomISBI/SynthSuscept_SNR-20/Fugue_WarpDWIs/Fugue_Warp/mapflow/_Fugue_Warp14/DWIS_dti-scheme_SNR-20_014_warped.nii.gz\n"
       ]
      },
      {
       "output_type": "stream",
       "stream": "stdout",
       "text": [
        "130906-20:22:16,36 workflow INFO:\n",
        "\t Executing node _Fugue_Warp15 in dir: /home/oesteban/workspace/ACWE-Reg/temp/DigitalPhantomISBI/SynthSuscept_SNR-20/Fugue_WarpDWIs/Fugue_Warp/mapflow/_Fugue_Warp15\n"
       ]
      },
      {
       "output_type": "stream",
       "stream": "stdout",
       "text": [
        "130906-20:22:16,39 workflow INFO:\n",
        "\t Running: fugue --in=/home/oesteban/workspace/ACWE-Reg/temp/DigitalPhantomISBI/SynthSuscept_SNR-20/Fugue_WarpDWIs/split_DWI/DWIS_dti-scheme_SNR-20_015.nii.gz --mask=/home/oesteban/workspace/ACWE-Reg/Data/DigitalPhantomISBI/signal_mask.nii.gz --loadshift=/home/oesteban/workspace/ACWE-Reg/temp/DigitalPhantomISBI/SynthSuscept_SNR-20/demean/signal_mask_vsm_demeaned.nii.gz --warp=/home/oesteban/workspace/ACWE-Reg/temp/DigitalPhantomISBI/SynthSuscept_SNR-20/Fugue_WarpDWIs/Fugue_Warp/mapflow/_Fugue_Warp15/DWIS_dti-scheme_SNR-20_015_warped.nii.gz\n"
       ]
      },
      {
       "output_type": "stream",
       "stream": "stdout",
       "text": [
        "130906-20:22:19,895 workflow INFO:\n",
        "\t Executing node _Fugue_Warp16 in dir: /home/oesteban/workspace/ACWE-Reg/temp/DigitalPhantomISBI/SynthSuscept_SNR-20/Fugue_WarpDWIs/Fugue_Warp/mapflow/_Fugue_Warp16\n"
       ]
      },
      {
       "output_type": "stream",
       "stream": "stdout",
       "text": [
        "130906-20:22:19,900 workflow INFO:\n",
        "\t Running: fugue --in=/home/oesteban/workspace/ACWE-Reg/temp/DigitalPhantomISBI/SynthSuscept_SNR-20/Fugue_WarpDWIs/split_DWI/DWIS_dti-scheme_SNR-20_016.nii.gz --mask=/home/oesteban/workspace/ACWE-Reg/Data/DigitalPhantomISBI/signal_mask.nii.gz --loadshift=/home/oesteban/workspace/ACWE-Reg/temp/DigitalPhantomISBI/SynthSuscept_SNR-20/demean/signal_mask_vsm_demeaned.nii.gz --warp=/home/oesteban/workspace/ACWE-Reg/temp/DigitalPhantomISBI/SynthSuscept_SNR-20/Fugue_WarpDWIs/Fugue_Warp/mapflow/_Fugue_Warp16/DWIS_dti-scheme_SNR-20_016_warped.nii.gz\n"
       ]
      },
      {
       "output_type": "stream",
       "stream": "stdout",
       "text": [
        "130906-20:22:23,786 workflow INFO:\n",
        "\t Executing node _Fugue_Warp17 in dir: /home/oesteban/workspace/ACWE-Reg/temp/DigitalPhantomISBI/SynthSuscept_SNR-20/Fugue_WarpDWIs/Fugue_Warp/mapflow/_Fugue_Warp17\n"
       ]
      },
      {
       "output_type": "stream",
       "stream": "stdout",
       "text": [
        "130906-20:22:23,790 workflow INFO:\n",
        "\t Running: fugue --in=/home/oesteban/workspace/ACWE-Reg/temp/DigitalPhantomISBI/SynthSuscept_SNR-20/Fugue_WarpDWIs/split_DWI/DWIS_dti-scheme_SNR-20_017.nii.gz --mask=/home/oesteban/workspace/ACWE-Reg/Data/DigitalPhantomISBI/signal_mask.nii.gz --loadshift=/home/oesteban/workspace/ACWE-Reg/temp/DigitalPhantomISBI/SynthSuscept_SNR-20/demean/signal_mask_vsm_demeaned.nii.gz --warp=/home/oesteban/workspace/ACWE-Reg/temp/DigitalPhantomISBI/SynthSuscept_SNR-20/Fugue_WarpDWIs/Fugue_Warp/mapflow/_Fugue_Warp17/DWIS_dti-scheme_SNR-20_017_warped.nii.gz\n"
       ]
      },
      {
       "output_type": "stream",
       "stream": "stdout",
       "text": [
        "130906-20:22:27,856 workflow INFO:\n",
        "\t Executing node _Fugue_Warp18 in dir: /home/oesteban/workspace/ACWE-Reg/temp/DigitalPhantomISBI/SynthSuscept_SNR-20/Fugue_WarpDWIs/Fugue_Warp/mapflow/_Fugue_Warp18\n"
       ]
      },
      {
       "output_type": "stream",
       "stream": "stdout",
       "text": [
        "130906-20:22:27,862 workflow INFO:\n",
        "\t Running: fugue --in=/home/oesteban/workspace/ACWE-Reg/temp/DigitalPhantomISBI/SynthSuscept_SNR-20/Fugue_WarpDWIs/split_DWI/DWIS_dti-scheme_SNR-20_018.nii.gz --mask=/home/oesteban/workspace/ACWE-Reg/Data/DigitalPhantomISBI/signal_mask.nii.gz --loadshift=/home/oesteban/workspace/ACWE-Reg/temp/DigitalPhantomISBI/SynthSuscept_SNR-20/demean/signal_mask_vsm_demeaned.nii.gz --warp=/home/oesteban/workspace/ACWE-Reg/temp/DigitalPhantomISBI/SynthSuscept_SNR-20/Fugue_WarpDWIs/Fugue_Warp/mapflow/_Fugue_Warp18/DWIS_dti-scheme_SNR-20_018_warped.nii.gz\n"
       ]
      },
      {
       "output_type": "stream",
       "stream": "stdout",
       "text": [
        "130906-20:22:31,712 workflow INFO:\n",
        "\t Executing node _Fugue_Warp19 in dir: /home/oesteban/workspace/ACWE-Reg/temp/DigitalPhantomISBI/SynthSuscept_SNR-20/Fugue_WarpDWIs/Fugue_Warp/mapflow/_Fugue_Warp19\n"
       ]
      },
      {
       "output_type": "stream",
       "stream": "stdout",
       "text": [
        "130906-20:22:31,718 workflow INFO:\n",
        "\t Running: fugue --in=/home/oesteban/workspace/ACWE-Reg/temp/DigitalPhantomISBI/SynthSuscept_SNR-20/Fugue_WarpDWIs/split_DWI/DWIS_dti-scheme_SNR-20_019.nii.gz --mask=/home/oesteban/workspace/ACWE-Reg/Data/DigitalPhantomISBI/signal_mask.nii.gz --loadshift=/home/oesteban/workspace/ACWE-Reg/temp/DigitalPhantomISBI/SynthSuscept_SNR-20/demean/signal_mask_vsm_demeaned.nii.gz --warp=/home/oesteban/workspace/ACWE-Reg/temp/DigitalPhantomISBI/SynthSuscept_SNR-20/Fugue_WarpDWIs/Fugue_Warp/mapflow/_Fugue_Warp19/DWIS_dti-scheme_SNR-20_019_warped.nii.gz\n"
       ]
      },
      {
       "output_type": "stream",
       "stream": "stdout",
       "text": [
        "130906-20:22:35,582 workflow INFO:\n",
        "\t Executing node _Fugue_Warp20 in dir: /home/oesteban/workspace/ACWE-Reg/temp/DigitalPhantomISBI/SynthSuscept_SNR-20/Fugue_WarpDWIs/Fugue_Warp/mapflow/_Fugue_Warp20\n"
       ]
      },
      {
       "output_type": "stream",
       "stream": "stdout",
       "text": [
        "130906-20:22:35,585 workflow INFO:\n",
        "\t Running: fugue --in=/home/oesteban/workspace/ACWE-Reg/temp/DigitalPhantomISBI/SynthSuscept_SNR-20/Fugue_WarpDWIs/split_DWI/DWIS_dti-scheme_SNR-20_020.nii.gz --mask=/home/oesteban/workspace/ACWE-Reg/Data/DigitalPhantomISBI/signal_mask.nii.gz --loadshift=/home/oesteban/workspace/ACWE-Reg/temp/DigitalPhantomISBI/SynthSuscept_SNR-20/demean/signal_mask_vsm_demeaned.nii.gz --warp=/home/oesteban/workspace/ACWE-Reg/temp/DigitalPhantomISBI/SynthSuscept_SNR-20/Fugue_WarpDWIs/Fugue_Warp/mapflow/_Fugue_Warp20/DWIS_dti-scheme_SNR-20_020_warped.nii.gz\n"
       ]
      },
      {
       "output_type": "stream",
       "stream": "stdout",
       "text": [
        "130906-20:22:39,448 workflow INFO:\n",
        "\t Executing node _Fugue_Warp21 in dir: /home/oesteban/workspace/ACWE-Reg/temp/DigitalPhantomISBI/SynthSuscept_SNR-20/Fugue_WarpDWIs/Fugue_Warp/mapflow/_Fugue_Warp21\n"
       ]
      },
      {
       "output_type": "stream",
       "stream": "stdout",
       "text": [
        "130906-20:22:39,451 workflow INFO:\n",
        "\t Running: fugue --in=/home/oesteban/workspace/ACWE-Reg/temp/DigitalPhantomISBI/SynthSuscept_SNR-20/Fugue_WarpDWIs/split_DWI/DWIS_dti-scheme_SNR-20_021.nii.gz --mask=/home/oesteban/workspace/ACWE-Reg/Data/DigitalPhantomISBI/signal_mask.nii.gz --loadshift=/home/oesteban/workspace/ACWE-Reg/temp/DigitalPhantomISBI/SynthSuscept_SNR-20/demean/signal_mask_vsm_demeaned.nii.gz --warp=/home/oesteban/workspace/ACWE-Reg/temp/DigitalPhantomISBI/SynthSuscept_SNR-20/Fugue_WarpDWIs/Fugue_Warp/mapflow/_Fugue_Warp21/DWIS_dti-scheme_SNR-20_021_warped.nii.gz\n"
       ]
      },
      {
       "output_type": "stream",
       "stream": "stdout",
       "text": [
        "130906-20:22:43,306 workflow INFO:\n",
        "\t Executing node _Fugue_Warp22 in dir: /home/oesteban/workspace/ACWE-Reg/temp/DigitalPhantomISBI/SynthSuscept_SNR-20/Fugue_WarpDWIs/Fugue_Warp/mapflow/_Fugue_Warp22\n"
       ]
      },
      {
       "output_type": "stream",
       "stream": "stdout",
       "text": [
        "130906-20:22:43,312 workflow INFO:\n",
        "\t Running: fugue --in=/home/oesteban/workspace/ACWE-Reg/temp/DigitalPhantomISBI/SynthSuscept_SNR-20/Fugue_WarpDWIs/split_DWI/DWIS_dti-scheme_SNR-20_022.nii.gz --mask=/home/oesteban/workspace/ACWE-Reg/Data/DigitalPhantomISBI/signal_mask.nii.gz --loadshift=/home/oesteban/workspace/ACWE-Reg/temp/DigitalPhantomISBI/SynthSuscept_SNR-20/demean/signal_mask_vsm_demeaned.nii.gz --warp=/home/oesteban/workspace/ACWE-Reg/temp/DigitalPhantomISBI/SynthSuscept_SNR-20/Fugue_WarpDWIs/Fugue_Warp/mapflow/_Fugue_Warp22/DWIS_dti-scheme_SNR-20_022_warped.nii.gz\n"
       ]
      },
      {
       "output_type": "stream",
       "stream": "stdout",
       "text": [
        "130906-20:22:47,189 workflow INFO:\n",
        "\t Executing node _Fugue_Warp23 in dir: /home/oesteban/workspace/ACWE-Reg/temp/DigitalPhantomISBI/SynthSuscept_SNR-20/Fugue_WarpDWIs/Fugue_Warp/mapflow/_Fugue_Warp23\n"
       ]
      },
      {
       "output_type": "stream",
       "stream": "stdout",
       "text": [
        "130906-20:22:47,192 workflow INFO:\n",
        "\t Running: fugue --in=/home/oesteban/workspace/ACWE-Reg/temp/DigitalPhantomISBI/SynthSuscept_SNR-20/Fugue_WarpDWIs/split_DWI/DWIS_dti-scheme_SNR-20_023.nii.gz --mask=/home/oesteban/workspace/ACWE-Reg/Data/DigitalPhantomISBI/signal_mask.nii.gz --loadshift=/home/oesteban/workspace/ACWE-Reg/temp/DigitalPhantomISBI/SynthSuscept_SNR-20/demean/signal_mask_vsm_demeaned.nii.gz --warp=/home/oesteban/workspace/ACWE-Reg/temp/DigitalPhantomISBI/SynthSuscept_SNR-20/Fugue_WarpDWIs/Fugue_Warp/mapflow/_Fugue_Warp23/DWIS_dti-scheme_SNR-20_023_warped.nii.gz\n"
       ]
      },
      {
       "output_type": "stream",
       "stream": "stdout",
       "text": [
        "130906-20:22:51,52 workflow INFO:\n",
        "\t Executing node _Fugue_Warp24 in dir: /home/oesteban/workspace/ACWE-Reg/temp/DigitalPhantomISBI/SynthSuscept_SNR-20/Fugue_WarpDWIs/Fugue_Warp/mapflow/_Fugue_Warp24\n"
       ]
      },
      {
       "output_type": "stream",
       "stream": "stdout",
       "text": [
        "130906-20:22:51,55 workflow INFO:\n",
        "\t Running: fugue --in=/home/oesteban/workspace/ACWE-Reg/temp/DigitalPhantomISBI/SynthSuscept_SNR-20/Fugue_WarpDWIs/split_DWI/DWIS_dti-scheme_SNR-20_024.nii.gz --mask=/home/oesteban/workspace/ACWE-Reg/Data/DigitalPhantomISBI/signal_mask.nii.gz --loadshift=/home/oesteban/workspace/ACWE-Reg/temp/DigitalPhantomISBI/SynthSuscept_SNR-20/demean/signal_mask_vsm_demeaned.nii.gz --warp=/home/oesteban/workspace/ACWE-Reg/temp/DigitalPhantomISBI/SynthSuscept_SNR-20/Fugue_WarpDWIs/Fugue_Warp/mapflow/_Fugue_Warp24/DWIS_dti-scheme_SNR-20_024_warped.nii.gz\n"
       ]
      },
      {
       "output_type": "stream",
       "stream": "stdout",
       "text": [
        "130906-20:22:54,909 workflow INFO:\n",
        "\t Executing node _Fugue_Warp25 in dir: /home/oesteban/workspace/ACWE-Reg/temp/DigitalPhantomISBI/SynthSuscept_SNR-20/Fugue_WarpDWIs/Fugue_Warp/mapflow/_Fugue_Warp25\n"
       ]
      },
      {
       "output_type": "stream",
       "stream": "stdout",
       "text": [
        "130906-20:22:54,915 workflow INFO:\n",
        "\t Running: fugue --in=/home/oesteban/workspace/ACWE-Reg/temp/DigitalPhantomISBI/SynthSuscept_SNR-20/Fugue_WarpDWIs/split_DWI/DWIS_dti-scheme_SNR-20_025.nii.gz --mask=/home/oesteban/workspace/ACWE-Reg/Data/DigitalPhantomISBI/signal_mask.nii.gz --loadshift=/home/oesteban/workspace/ACWE-Reg/temp/DigitalPhantomISBI/SynthSuscept_SNR-20/demean/signal_mask_vsm_demeaned.nii.gz --warp=/home/oesteban/workspace/ACWE-Reg/temp/DigitalPhantomISBI/SynthSuscept_SNR-20/Fugue_WarpDWIs/Fugue_Warp/mapflow/_Fugue_Warp25/DWIS_dti-scheme_SNR-20_025_warped.nii.gz\n"
       ]
      },
      {
       "output_type": "stream",
       "stream": "stdout",
       "text": [
        "130906-20:22:58,778 workflow INFO:\n",
        "\t Executing node _Fugue_Warp26 in dir: /home/oesteban/workspace/ACWE-Reg/temp/DigitalPhantomISBI/SynthSuscept_SNR-20/Fugue_WarpDWIs/Fugue_Warp/mapflow/_Fugue_Warp26\n"
       ]
      },
      {
       "output_type": "stream",
       "stream": "stdout",
       "text": [
        "130906-20:22:58,782 workflow INFO:\n",
        "\t Running: fugue --in=/home/oesteban/workspace/ACWE-Reg/temp/DigitalPhantomISBI/SynthSuscept_SNR-20/Fugue_WarpDWIs/split_DWI/DWIS_dti-scheme_SNR-20_026.nii.gz --mask=/home/oesteban/workspace/ACWE-Reg/Data/DigitalPhantomISBI/signal_mask.nii.gz --loadshift=/home/oesteban/workspace/ACWE-Reg/temp/DigitalPhantomISBI/SynthSuscept_SNR-20/demean/signal_mask_vsm_demeaned.nii.gz --warp=/home/oesteban/workspace/ACWE-Reg/temp/DigitalPhantomISBI/SynthSuscept_SNR-20/Fugue_WarpDWIs/Fugue_Warp/mapflow/_Fugue_Warp26/DWIS_dti-scheme_SNR-20_026_warped.nii.gz\n"
       ]
      },
      {
       "output_type": "stream",
       "stream": "stdout",
       "text": [
        "130906-20:23:02,684 workflow INFO:\n",
        "\t Executing node _Fugue_Warp27 in dir: /home/oesteban/workspace/ACWE-Reg/temp/DigitalPhantomISBI/SynthSuscept_SNR-20/Fugue_WarpDWIs/Fugue_Warp/mapflow/_Fugue_Warp27\n"
       ]
      },
      {
       "output_type": "stream",
       "stream": "stdout",
       "text": [
        "130906-20:23:02,690 workflow INFO:\n",
        "\t Running: fugue --in=/home/oesteban/workspace/ACWE-Reg/temp/DigitalPhantomISBI/SynthSuscept_SNR-20/Fugue_WarpDWIs/split_DWI/DWIS_dti-scheme_SNR-20_027.nii.gz --mask=/home/oesteban/workspace/ACWE-Reg/Data/DigitalPhantomISBI/signal_mask.nii.gz --loadshift=/home/oesteban/workspace/ACWE-Reg/temp/DigitalPhantomISBI/SynthSuscept_SNR-20/demean/signal_mask_vsm_demeaned.nii.gz --warp=/home/oesteban/workspace/ACWE-Reg/temp/DigitalPhantomISBI/SynthSuscept_SNR-20/Fugue_WarpDWIs/Fugue_Warp/mapflow/_Fugue_Warp27/DWIS_dti-scheme_SNR-20_027_warped.nii.gz\n"
       ]
      },
      {
       "output_type": "stream",
       "stream": "stdout",
       "text": [
        "130906-20:23:06,562 workflow INFO:\n",
        "\t Executing node _Fugue_Warp28 in dir: /home/oesteban/workspace/ACWE-Reg/temp/DigitalPhantomISBI/SynthSuscept_SNR-20/Fugue_WarpDWIs/Fugue_Warp/mapflow/_Fugue_Warp28\n"
       ]
      },
      {
       "output_type": "stream",
       "stream": "stdout",
       "text": [
        "130906-20:23:06,568 workflow INFO:\n",
        "\t Running: fugue --in=/home/oesteban/workspace/ACWE-Reg/temp/DigitalPhantomISBI/SynthSuscept_SNR-20/Fugue_WarpDWIs/split_DWI/DWIS_dti-scheme_SNR-20_028.nii.gz --mask=/home/oesteban/workspace/ACWE-Reg/Data/DigitalPhantomISBI/signal_mask.nii.gz --loadshift=/home/oesteban/workspace/ACWE-Reg/temp/DigitalPhantomISBI/SynthSuscept_SNR-20/demean/signal_mask_vsm_demeaned.nii.gz --warp=/home/oesteban/workspace/ACWE-Reg/temp/DigitalPhantomISBI/SynthSuscept_SNR-20/Fugue_WarpDWIs/Fugue_Warp/mapflow/_Fugue_Warp28/DWIS_dti-scheme_SNR-20_028_warped.nii.gz\n"
       ]
      },
      {
       "output_type": "stream",
       "stream": "stdout",
       "text": [
        "130906-20:23:10,424 workflow INFO:\n",
        "\t Executing node _Fugue_Warp29 in dir: /home/oesteban/workspace/ACWE-Reg/temp/DigitalPhantomISBI/SynthSuscept_SNR-20/Fugue_WarpDWIs/Fugue_Warp/mapflow/_Fugue_Warp29\n"
       ]
      },
      {
       "output_type": "stream",
       "stream": "stdout",
       "text": [
        "130906-20:23:10,430 workflow INFO:\n",
        "\t Running: fugue --in=/home/oesteban/workspace/ACWE-Reg/temp/DigitalPhantomISBI/SynthSuscept_SNR-20/Fugue_WarpDWIs/split_DWI/DWIS_dti-scheme_SNR-20_029.nii.gz --mask=/home/oesteban/workspace/ACWE-Reg/Data/DigitalPhantomISBI/signal_mask.nii.gz --loadshift=/home/oesteban/workspace/ACWE-Reg/temp/DigitalPhantomISBI/SynthSuscept_SNR-20/demean/signal_mask_vsm_demeaned.nii.gz --warp=/home/oesteban/workspace/ACWE-Reg/temp/DigitalPhantomISBI/SynthSuscept_SNR-20/Fugue_WarpDWIs/Fugue_Warp/mapflow/_Fugue_Warp29/DWIS_dti-scheme_SNR-20_029_warped.nii.gz\n"
       ]
      },
      {
       "output_type": "stream",
       "stream": "stdout",
       "text": [
        "130906-20:23:14,291 workflow INFO:\n",
        "\t Executing node _Fugue_Warp30 in dir: /home/oesteban/workspace/ACWE-Reg/temp/DigitalPhantomISBI/SynthSuscept_SNR-20/Fugue_WarpDWIs/Fugue_Warp/mapflow/_Fugue_Warp30\n"
       ]
      },
      {
       "output_type": "stream",
       "stream": "stdout",
       "text": [
        "130906-20:23:14,296 workflow INFO:\n",
        "\t Running: fugue --in=/home/oesteban/workspace/ACWE-Reg/temp/DigitalPhantomISBI/SynthSuscept_SNR-20/Fugue_WarpDWIs/split_DWI/DWIS_dti-scheme_SNR-20_030.nii.gz --mask=/home/oesteban/workspace/ACWE-Reg/Data/DigitalPhantomISBI/signal_mask.nii.gz --loadshift=/home/oesteban/workspace/ACWE-Reg/temp/DigitalPhantomISBI/SynthSuscept_SNR-20/demean/signal_mask_vsm_demeaned.nii.gz --warp=/home/oesteban/workspace/ACWE-Reg/temp/DigitalPhantomISBI/SynthSuscept_SNR-20/Fugue_WarpDWIs/Fugue_Warp/mapflow/_Fugue_Warp30/DWIS_dti-scheme_SNR-20_030_warped.nii.gz\n"
       ]
      },
      {
       "output_type": "stream",
       "stream": "stdout",
       "text": [
        "130906-20:23:18,167 workflow INFO:\n",
        "\t Executing node _Fugue_Warp31 in dir: /home/oesteban/workspace/ACWE-Reg/temp/DigitalPhantomISBI/SynthSuscept_SNR-20/Fugue_WarpDWIs/Fugue_Warp/mapflow/_Fugue_Warp31\n"
       ]
      },
      {
       "output_type": "stream",
       "stream": "stdout",
       "text": [
        "130906-20:23:18,172 workflow INFO:\n",
        "\t Running: fugue --in=/home/oesteban/workspace/ACWE-Reg/temp/DigitalPhantomISBI/SynthSuscept_SNR-20/Fugue_WarpDWIs/split_DWI/DWIS_dti-scheme_SNR-20_031.nii.gz --mask=/home/oesteban/workspace/ACWE-Reg/Data/DigitalPhantomISBI/signal_mask.nii.gz --loadshift=/home/oesteban/workspace/ACWE-Reg/temp/DigitalPhantomISBI/SynthSuscept_SNR-20/demean/signal_mask_vsm_demeaned.nii.gz --warp=/home/oesteban/workspace/ACWE-Reg/temp/DigitalPhantomISBI/SynthSuscept_SNR-20/Fugue_WarpDWIs/Fugue_Warp/mapflow/_Fugue_Warp31/DWIS_dti-scheme_SNR-20_031_warped.nii.gz\n"
       ]
      },
      {
       "output_type": "stream",
       "stream": "stdout",
       "text": [
        "130906-20:23:22,34 workflow INFO:\n",
        "\t Executing node _Fugue_Warp32 in dir: /home/oesteban/workspace/ACWE-Reg/temp/DigitalPhantomISBI/SynthSuscept_SNR-20/Fugue_WarpDWIs/Fugue_Warp/mapflow/_Fugue_Warp32\n"
       ]
      },
      {
       "output_type": "stream",
       "stream": "stdout",
       "text": [
        "130906-20:23:22,38 workflow INFO:\n",
        "\t Running: fugue --in=/home/oesteban/workspace/ACWE-Reg/temp/DigitalPhantomISBI/SynthSuscept_SNR-20/Fugue_WarpDWIs/split_DWI/DWIS_dti-scheme_SNR-20_032.nii.gz --mask=/home/oesteban/workspace/ACWE-Reg/Data/DigitalPhantomISBI/signal_mask.nii.gz --loadshift=/home/oesteban/workspace/ACWE-Reg/temp/DigitalPhantomISBI/SynthSuscept_SNR-20/demean/signal_mask_vsm_demeaned.nii.gz --warp=/home/oesteban/workspace/ACWE-Reg/temp/DigitalPhantomISBI/SynthSuscept_SNR-20/Fugue_WarpDWIs/Fugue_Warp/mapflow/_Fugue_Warp32/DWIS_dti-scheme_SNR-20_032_warped.nii.gz\n"
       ]
      },
      {
       "output_type": "stream",
       "stream": "stdout",
       "text": [
        "130906-20:23:25,918 workflow INFO:\n",
        "\t Executing node merge_DWI in dir: /home/oesteban/workspace/ACWE-Reg/temp/DigitalPhantomISBI/SynthSuscept_SNR-20/Fugue_WarpDWIs/merge_DWI\n"
       ]
      },
      {
       "output_type": "stream",
       "stream": "stdout",
       "text": [
        "130906-20:23:25,922 workflow INFO:\n",
        "\t Running: fslmerge -t /home/oesteban/workspace/ACWE-Reg/temp/DigitalPhantomISBI/SynthSuscept_SNR-20/Fugue_WarpDWIs/merge_DWI/DWIS_dti-scheme_SNR-20_000_warped_merged.nii.gz /home/oesteban/workspace/ACWE-Reg/temp/DigitalPhantomISBI/SynthSuscept_SNR-20/Fugue_WarpDWIs/Fugue_Warp/mapflow/_Fugue_Warp0/DWIS_dti-scheme_SNR-20_000_warped.nii.gz /home/oesteban/workspace/ACWE-Reg/temp/DigitalPhantomISBI/SynthSuscept_SNR-20/Fugue_WarpDWIs/Fugue_Warp/mapflow/_Fugue_Warp1/DWIS_dti-scheme_SNR-20_001_warped.nii.gz /home/oesteban/workspace/ACWE-Reg/temp/DigitalPhantomISBI/SynthSuscept_SNR-20/Fugue_WarpDWIs/Fugue_Warp/mapflow/_Fugue_Warp2/DWIS_dti-scheme_SNR-20_002_warped.nii.gz /home/oesteban/workspace/ACWE-Reg/temp/DigitalPhantomISBI/SynthSuscept_SNR-20/Fugue_WarpDWIs/Fugue_Warp/mapflow/_Fugue_Warp3/DWIS_dti-scheme_SNR-20_003_warped.nii.gz /home/oesteban/workspace/ACWE-Reg/temp/DigitalPhantomISBI/SynthSuscept_SNR-20/Fugue_WarpDWIs/Fugue_Warp/mapflow/_Fugue_Warp4/DWIS_dti-scheme_SNR-20_004_warped.nii.gz /home/oesteban/workspace/ACWE-Reg/temp/DigitalPhantomISBI/SynthSuscept_SNR-20/Fugue_WarpDWIs/Fugue_Warp/mapflow/_Fugue_Warp5/DWIS_dti-scheme_SNR-20_005_warped.nii.gz /home/oesteban/workspace/ACWE-Reg/temp/DigitalPhantomISBI/SynthSuscept_SNR-20/Fugue_WarpDWIs/Fugue_Warp/mapflow/_Fugue_Warp6/DWIS_dti-scheme_SNR-20_006_warped.nii.gz /home/oesteban/workspace/ACWE-Reg/temp/DigitalPhantomISBI/SynthSuscept_SNR-20/Fugue_WarpDWIs/Fugue_Warp/mapflow/_Fugue_Warp7/DWIS_dti-scheme_SNR-20_007_warped.nii.gz /home/oesteban/workspace/ACWE-Reg/temp/DigitalPhantomISBI/SynthSuscept_SNR-20/Fugue_WarpDWIs/Fugue_Warp/mapflow/_Fugue_Warp8/DWIS_dti-scheme_SNR-20_008_warped.nii.gz /home/oesteban/workspace/ACWE-Reg/temp/DigitalPhantomISBI/SynthSuscept_SNR-20/Fugue_WarpDWIs/Fugue_Warp/mapflow/_Fugue_Warp9/DWIS_dti-scheme_SNR-20_009_warped.nii.gz /home/oesteban/workspace/ACWE-Reg/temp/DigitalPhantomISBI/SynthSuscept_SNR-20/Fugue_WarpDWIs/Fugue_Warp/mapflow/_Fugue_Warp10/DWIS_dti-scheme_SNR-20_010_warped.nii.gz /home/oesteban/workspace/ACWE-Reg/temp/DigitalPhantomISBI/SynthSuscept_SNR-20/Fugue_WarpDWIs/Fugue_Warp/mapflow/_Fugue_Warp11/DWIS_dti-scheme_SNR-20_011_warped.nii.gz /home/oesteban/workspace/ACWE-Reg/temp/DigitalPhantomISBI/SynthSuscept_SNR-20/Fugue_WarpDWIs/Fugue_Warp/mapflow/_Fugue_Warp12/DWIS_dti-scheme_SNR-20_012_warped.nii.gz /home/oesteban/workspace/ACWE-Reg/temp/DigitalPhantomISBI/SynthSuscept_SNR-20/Fugue_WarpDWIs/Fugue_Warp/mapflow/_Fugue_Warp13/DWIS_dti-scheme_SNR-20_013_warped.nii.gz /home/oesteban/workspace/ACWE-Reg/temp/DigitalPhantomISBI/SynthSuscept_SNR-20/Fugue_WarpDWIs/Fugue_Warp/mapflow/_Fugue_Warp14/DWIS_dti-scheme_SNR-20_014_warped.nii.gz /home/oesteban/workspace/ACWE-Reg/temp/DigitalPhantomISBI/SynthSuscept_SNR-20/Fugue_WarpDWIs/Fugue_Warp/mapflow/_Fugue_Warp15/DWIS_dti-scheme_SNR-20_015_warped.nii.gz /home/oesteban/workspace/ACWE-Reg/temp/DigitalPhantomISBI/SynthSuscept_SNR-20/Fugue_WarpDWIs/Fugue_Warp/mapflow/_Fugue_Warp16/DWIS_dti-scheme_SNR-20_016_warped.nii.gz /home/oesteban/workspace/ACWE-Reg/temp/DigitalPhantomISBI/SynthSuscept_SNR-20/Fugue_WarpDWIs/Fugue_Warp/mapflow/_Fugue_Warp17/DWIS_dti-scheme_SNR-20_017_warped.nii.gz /home/oesteban/workspace/ACWE-Reg/temp/DigitalPhantomISBI/SynthSuscept_SNR-20/Fugue_WarpDWIs/Fugue_Warp/mapflow/_Fugue_Warp18/DWIS_dti-scheme_SNR-20_018_warped.nii.gz /home/oesteban/workspace/ACWE-Reg/temp/DigitalPhantomISBI/SynthSuscept_SNR-20/Fugue_WarpDWIs/Fugue_Warp/mapflow/_Fugue_Warp19/DWIS_dti-scheme_SNR-20_019_warped.nii.gz /home/oesteban/workspace/ACWE-Reg/temp/DigitalPhantomISBI/SynthSuscept_SNR-20/Fugue_WarpDWIs/Fugue_Warp/mapflow/_Fugue_Warp20/DWIS_dti-scheme_SNR-20_020_warped.nii.gz /home/oesteban/workspace/ACWE-Reg/temp/DigitalPhantomISBI/SynthSuscept_SNR-20/Fugue_WarpDWIs/Fugue_Warp/mapflow/_Fugue_Warp21/DWIS_dti-scheme_SNR-20_021_warped.nii.gz /home/oesteban/workspace/ACWE-Reg/temp/DigitalPhantomISBI/SynthSuscept_SNR-20/Fugue_WarpDWIs/Fugue_Warp/mapflow/_Fugue_Warp22/DWIS_dti-scheme_SNR-20_022_warped.nii.gz /home/oesteban/workspace/ACWE-Reg/temp/DigitalPhantomISBI/SynthSuscept_SNR-20/Fugue_WarpDWIs/Fugue_Warp/mapflow/_Fugue_Warp23/DWIS_dti-scheme_SNR-20_023_warped.nii.gz /home/oesteban/workspace/ACWE-Reg/temp/DigitalPhantomISBI/SynthSuscept_SNR-20/Fugue_WarpDWIs/Fugue_Warp/mapflow/_Fugue_Warp24/DWIS_dti-scheme_SNR-20_024_warped.nii.gz /home/oesteban/workspace/ACWE-Reg/temp/DigitalPhantomISBI/SynthSuscept_SNR-20/Fugue_WarpDWIs/Fugue_Warp/mapflow/_Fugue_Warp25/DWIS_dti-scheme_SNR-20_025_warped.nii.gz /home/oesteban/workspace/ACWE-Reg/temp/DigitalPhantomISBI/SynthSuscept_SNR-20/Fugue_WarpDWIs/Fugue_Warp/mapflow/_Fugue_Warp26/DWIS_dti-scheme_SNR-20_026_warped.nii.gz /home/oesteban/workspace/ACWE-Reg/temp/DigitalPhantomISBI/SynthSuscept_SNR-20/Fugue_WarpDWIs/Fugue_Warp/mapflow/_Fugue_Warp27/DWIS_dti-scheme_SNR-20_027_warped.nii.gz /home/oesteban/workspace/ACWE-Reg/temp/DigitalPhantomISBI/SynthSuscept_SNR-20/Fugue_WarpDWIs/Fugue_Warp/mapflow/_Fugue_Warp28/DWIS_dti-scheme_SNR-20_028_warped.nii.gz /home/oesteban/workspace/ACWE-Reg/temp/DigitalPhantomISBI/SynthSuscept_SNR-20/Fugue_WarpDWIs/Fugue_Warp/mapflow/_Fugue_Warp29/DWIS_dti-scheme_SNR-20_029_warped.nii.gz /home/oesteban/workspace/ACWE-Reg/temp/DigitalPhantomISBI/SynthSuscept_SNR-20/Fugue_WarpDWIs/Fugue_Warp/mapflow/_Fugue_Warp30/DWIS_dti-scheme_SNR-20_030_warped.nii.gz /home/oesteban/workspace/ACWE-Reg/temp/DigitalPhantomISBI/SynthSuscept_SNR-20/Fugue_WarpDWIs/Fugue_Warp/mapflow/_Fugue_Warp31/DWIS_dti-scheme_SNR-20_031_warped.nii.gz /home/oesteban/workspace/ACWE-Reg/temp/DigitalPhantomISBI/SynthSuscept_SNR-20/Fugue_WarpDWIs/Fugue_Warp/mapflow/_Fugue_Warp32/DWIS_dti-scheme_SNR-20_032_warped.nii.gz\n"
       ]
      },
      {
       "output_type": "stream",
       "stream": "stderr",
       "text": [
        "/home/oesteban/workspace/nipype/nipype/interfaces/fsl/preprocess.py:1285: UserWarning: This interface has not been fully tested. Please report any failures.\n",
        "  'This interface has not been fully tested. Please report any failures.')\n",
        "/home/oesteban/workspace/nipype/nipype/interfaces/fsl/preprocess.py:1285: UserWarning: This interface has not been fully tested. Please report any failures.\n",
        "  'This interface has not been fully tested. Please report any failures.')\n",
        "/home/oesteban/workspace/nipype/nipype/interfaces/fsl/preprocess.py:1399: UserWarning: This has not been fully tested. Please report any failures.\n",
        "  warn('This has not been fully tested. Please report any failures.')\n"
       ]
      },
      {
       "output_type": "stream",
       "stream": "stdout",
       "text": [
        "130906-20:23:28,827 workflow INFO:\n",
        "\t ['check', 'execution', 'logging']\n"
       ]
      },
      {
       "output_type": "stream",
       "stream": "stdout",
       "text": [
        "130906-20:23:28,833 workflow INFO:\n",
        "\t Running serially.\n"
       ]
      },
      {
       "output_type": "stream",
       "stream": "stdout",
       "text": [
        "130906-20:23:28,833 workflow INFO:\n",
        "\t Executing node gen_Mask in dir: /home/oesteban/workspace/ACWE-Reg/temp/DigitalPhantomISBI/SynthSuscept_SNR-30/gen_Mask\n"
       ]
      },
      {
       "output_type": "stream",
       "stream": "stdout",
       "text": [
        "130906-20:23:28,858 workflow INFO:\n",
        "\t Executing node gen_PhaseDiffMap in dir: /home/oesteban/workspace/ACWE-Reg/temp/DigitalPhantomISBI/SynthSuscept_SNR-30/gen_PhaseDiffMap\n"
       ]
      },
      {
       "output_type": "stream",
       "stream": "stdout",
       "text": [
        "130906-20:23:28,927 workflow INFO:\n",
        "\t Executing node PhaseUnwrap in dir: /home/oesteban/workspace/ACWE-Reg/temp/DigitalPhantomISBI/SynthSuscept_SNR-30/PhaseUnwrap\n"
       ]
      },
      {
       "output_type": "stream",
       "stream": "stdout",
       "text": [
        "130906-20:23:28,930 workflow INFO:\n",
        "\t Running: prelude --abs=/home/oesteban/workspace/ACWE-Reg/Data/DigitalPhantomISBI/signal_mask.nii.gz --phase=/home/oesteban/workspace/ACWE-Reg/temp/DigitalPhantomISBI/SynthSuscept_SNR-30/gen_PhaseDiffMap/signal_mask_ph_unwrap_rads.nii.gz --force3D --unwrap=/home/oesteban/workspace/ACWE-Reg/temp/DigitalPhantomISBI/SynthSuscept_SNR-30/PhaseUnwrap/signal_mask_ph_unwrap_rads_unwrapped.nii.gz\n"
       ]
      },
      {
       "output_type": "stream",
       "stream": "stdout",
       "text": [
        "130906-20:23:29,61 workflow INFO:\n",
        "\t Executing node PhaseRadSec in dir: /home/oesteban/workspace/ACWE-Reg/temp/DigitalPhantomISBI/SynthSuscept_SNR-30/PhaseRadSec\n"
       ]
      },
      {
       "output_type": "stream",
       "stream": "stdout",
       "text": [
        "130906-20:23:29,178 workflow INFO:\n",
        "\t Executing node gen_VSM in dir: /home/oesteban/workspace/ACWE-Reg/temp/DigitalPhantomISBI/SynthSuscept_SNR-30/gen_VSM\n"
       ]
      },
      {
       "output_type": "stream",
       "stream": "stdout",
       "text": [
        "130906-20:23:29,181 workflow INFO:\n",
        "\t Running: fugue --asym=0.0024600000 --dwell=0.0007700000 --in=/home/oesteban/workspace/ACWE-Reg/Data/DigitalPhantomISBI/signal_mask.nii.gz --mask=/home/oesteban/workspace/ACWE-Reg/temp/DigitalPhantomISBI/SynthSuscept_SNR-30/gen_Mask/signal_mask_mask.nii.gz --phasemap=/home/oesteban/workspace/ACWE-Reg/temp/DigitalPhantomISBI/SynthSuscept_SNR-30/PhaseRadSec/signal_mask_ph_unwrap_rads_unwrapped_ph_unwrap_radsec.nii.gz --saveshift=/home/oesteban/workspace/ACWE-Reg/temp/DigitalPhantomISBI/SynthSuscept_SNR-30/gen_VSM/signal_mask_vsm.nii.gz --unwarp=/home/oesteban/workspace/ACWE-Reg/temp/DigitalPhantomISBI/SynthSuscept_SNR-30/gen_VSM/signal_mask_unwarped.nii.gz\n"
       ]
      },
      {
       "output_type": "stream",
       "stream": "stdout",
       "text": [
        "130906-20:23:29,472 workflow INFO:\n",
        "\t Executing node demean in dir: /home/oesteban/workspace/ACWE-Reg/temp/DigitalPhantomISBI/SynthSuscept_SNR-30/demean\n"
       ]
      },
      {
       "output_type": "stream",
       "stream": "stdout",
       "text": [
        "130906-20:23:29,525 workflow INFO:\n",
        "\t Executing node split_DWI in dir: /home/oesteban/workspace/ACWE-Reg/temp/DigitalPhantomISBI/SynthSuscept_SNR-30/Fugue_WarpDWIs/split_DWI\n"
       ]
      },
      {
       "output_type": "stream",
       "stream": "stdout",
       "text": [
        "130906-20:23:30,373 workflow INFO:\n",
        "\t Executing node Fugue_Warp in dir: /home/oesteban/workspace/ACWE-Reg/temp/DigitalPhantomISBI/SynthSuscept_SNR-30/Fugue_WarpDWIs/Fugue_Warp\n"
       ]
      },
      {
       "output_type": "stream",
       "stream": "stdout",
       "text": [
        "130906-20:23:30,378 workflow INFO:\n",
        "\t Executing node _Fugue_Warp0 in dir: /home/oesteban/workspace/ACWE-Reg/temp/DigitalPhantomISBI/SynthSuscept_SNR-30/Fugue_WarpDWIs/Fugue_Warp/mapflow/_Fugue_Warp0\n"
       ]
      },
      {
       "output_type": "stream",
       "stream": "stdout",
       "text": [
        "130906-20:23:30,381 workflow INFO:\n",
        "\t Running: fugue --in=/home/oesteban/workspace/ACWE-Reg/temp/DigitalPhantomISBI/SynthSuscept_SNR-30/Fugue_WarpDWIs/split_DWI/DWIS_dti-scheme_SNR-30_000.nii.gz --mask=/home/oesteban/workspace/ACWE-Reg/Data/DigitalPhantomISBI/signal_mask.nii.gz --loadshift=/home/oesteban/workspace/ACWE-Reg/temp/DigitalPhantomISBI/SynthSuscept_SNR-30/demean/signal_mask_vsm_demeaned.nii.gz --warp=/home/oesteban/workspace/ACWE-Reg/temp/DigitalPhantomISBI/SynthSuscept_SNR-30/Fugue_WarpDWIs/Fugue_Warp/mapflow/_Fugue_Warp0/DWIS_dti-scheme_SNR-30_000_warped.nii.gz\n"
       ]
      },
      {
       "output_type": "stream",
       "stream": "stdout",
       "text": [
        "130906-20:23:34,225 workflow INFO:\n",
        "\t Executing node _Fugue_Warp1 in dir: /home/oesteban/workspace/ACWE-Reg/temp/DigitalPhantomISBI/SynthSuscept_SNR-30/Fugue_WarpDWIs/Fugue_Warp/mapflow/_Fugue_Warp1\n"
       ]
      },
      {
       "output_type": "stream",
       "stream": "stdout",
       "text": [
        "130906-20:23:34,229 workflow INFO:\n",
        "\t Running: fugue --in=/home/oesteban/workspace/ACWE-Reg/temp/DigitalPhantomISBI/SynthSuscept_SNR-30/Fugue_WarpDWIs/split_DWI/DWIS_dti-scheme_SNR-30_001.nii.gz --mask=/home/oesteban/workspace/ACWE-Reg/Data/DigitalPhantomISBI/signal_mask.nii.gz --loadshift=/home/oesteban/workspace/ACWE-Reg/temp/DigitalPhantomISBI/SynthSuscept_SNR-30/demean/signal_mask_vsm_demeaned.nii.gz --warp=/home/oesteban/workspace/ACWE-Reg/temp/DigitalPhantomISBI/SynthSuscept_SNR-30/Fugue_WarpDWIs/Fugue_Warp/mapflow/_Fugue_Warp1/DWIS_dti-scheme_SNR-30_001_warped.nii.gz\n"
       ]
      },
      {
       "output_type": "stream",
       "stream": "stdout",
       "text": [
        "130906-20:23:38,78 workflow INFO:\n",
        "\t Executing node _Fugue_Warp2 in dir: /home/oesteban/workspace/ACWE-Reg/temp/DigitalPhantomISBI/SynthSuscept_SNR-30/Fugue_WarpDWIs/Fugue_Warp/mapflow/_Fugue_Warp2\n"
       ]
      },
      {
       "output_type": "stream",
       "stream": "stdout",
       "text": [
        "130906-20:23:38,82 workflow INFO:\n",
        "\t Running: fugue --in=/home/oesteban/workspace/ACWE-Reg/temp/DigitalPhantomISBI/SynthSuscept_SNR-30/Fugue_WarpDWIs/split_DWI/DWIS_dti-scheme_SNR-30_002.nii.gz --mask=/home/oesteban/workspace/ACWE-Reg/Data/DigitalPhantomISBI/signal_mask.nii.gz --loadshift=/home/oesteban/workspace/ACWE-Reg/temp/DigitalPhantomISBI/SynthSuscept_SNR-30/demean/signal_mask_vsm_demeaned.nii.gz --warp=/home/oesteban/workspace/ACWE-Reg/temp/DigitalPhantomISBI/SynthSuscept_SNR-30/Fugue_WarpDWIs/Fugue_Warp/mapflow/_Fugue_Warp2/DWIS_dti-scheme_SNR-30_002_warped.nii.gz\n"
       ]
      },
      {
       "output_type": "stream",
       "stream": "stdout",
       "text": [
        "130906-20:23:41,932 workflow INFO:\n",
        "\t Executing node _Fugue_Warp3 in dir: /home/oesteban/workspace/ACWE-Reg/temp/DigitalPhantomISBI/SynthSuscept_SNR-30/Fugue_WarpDWIs/Fugue_Warp/mapflow/_Fugue_Warp3\n"
       ]
      },
      {
       "output_type": "stream",
       "stream": "stdout",
       "text": [
        "130906-20:23:41,938 workflow INFO:\n",
        "\t Running: fugue --in=/home/oesteban/workspace/ACWE-Reg/temp/DigitalPhantomISBI/SynthSuscept_SNR-30/Fugue_WarpDWIs/split_DWI/DWIS_dti-scheme_SNR-30_003.nii.gz --mask=/home/oesteban/workspace/ACWE-Reg/Data/DigitalPhantomISBI/signal_mask.nii.gz --loadshift=/home/oesteban/workspace/ACWE-Reg/temp/DigitalPhantomISBI/SynthSuscept_SNR-30/demean/signal_mask_vsm_demeaned.nii.gz --warp=/home/oesteban/workspace/ACWE-Reg/temp/DigitalPhantomISBI/SynthSuscept_SNR-30/Fugue_WarpDWIs/Fugue_Warp/mapflow/_Fugue_Warp3/DWIS_dti-scheme_SNR-30_003_warped.nii.gz\n"
       ]
      },
      {
       "output_type": "stream",
       "stream": "stdout",
       "text": [
        "130906-20:23:45,791 workflow INFO:\n",
        "\t Executing node _Fugue_Warp4 in dir: /home/oesteban/workspace/ACWE-Reg/temp/DigitalPhantomISBI/SynthSuscept_SNR-30/Fugue_WarpDWIs/Fugue_Warp/mapflow/_Fugue_Warp4\n"
       ]
      },
      {
       "output_type": "stream",
       "stream": "stdout",
       "text": [
        "130906-20:23:45,797 workflow INFO:\n",
        "\t Running: fugue --in=/home/oesteban/workspace/ACWE-Reg/temp/DigitalPhantomISBI/SynthSuscept_SNR-30/Fugue_WarpDWIs/split_DWI/DWIS_dti-scheme_SNR-30_004.nii.gz --mask=/home/oesteban/workspace/ACWE-Reg/Data/DigitalPhantomISBI/signal_mask.nii.gz --loadshift=/home/oesteban/workspace/ACWE-Reg/temp/DigitalPhantomISBI/SynthSuscept_SNR-30/demean/signal_mask_vsm_demeaned.nii.gz --warp=/home/oesteban/workspace/ACWE-Reg/temp/DigitalPhantomISBI/SynthSuscept_SNR-30/Fugue_WarpDWIs/Fugue_Warp/mapflow/_Fugue_Warp4/DWIS_dti-scheme_SNR-30_004_warped.nii.gz\n"
       ]
      },
      {
       "output_type": "stream",
       "stream": "stdout",
       "text": [
        "130906-20:23:49,647 workflow INFO:\n",
        "\t Executing node _Fugue_Warp5 in dir: /home/oesteban/workspace/ACWE-Reg/temp/DigitalPhantomISBI/SynthSuscept_SNR-30/Fugue_WarpDWIs/Fugue_Warp/mapflow/_Fugue_Warp5\n"
       ]
      },
      {
       "output_type": "stream",
       "stream": "stdout",
       "text": [
        "130906-20:23:49,653 workflow INFO:\n",
        "\t Running: fugue --in=/home/oesteban/workspace/ACWE-Reg/temp/DigitalPhantomISBI/SynthSuscept_SNR-30/Fugue_WarpDWIs/split_DWI/DWIS_dti-scheme_SNR-30_005.nii.gz --mask=/home/oesteban/workspace/ACWE-Reg/Data/DigitalPhantomISBI/signal_mask.nii.gz --loadshift=/home/oesteban/workspace/ACWE-Reg/temp/DigitalPhantomISBI/SynthSuscept_SNR-30/demean/signal_mask_vsm_demeaned.nii.gz --warp=/home/oesteban/workspace/ACWE-Reg/temp/DigitalPhantomISBI/SynthSuscept_SNR-30/Fugue_WarpDWIs/Fugue_Warp/mapflow/_Fugue_Warp5/DWIS_dti-scheme_SNR-30_005_warped.nii.gz\n"
       ]
      },
      {
       "output_type": "stream",
       "stream": "stdout",
       "text": [
        "130906-20:23:53,512 workflow INFO:\n",
        "\t Executing node _Fugue_Warp6 in dir: /home/oesteban/workspace/ACWE-Reg/temp/DigitalPhantomISBI/SynthSuscept_SNR-30/Fugue_WarpDWIs/Fugue_Warp/mapflow/_Fugue_Warp6\n"
       ]
      },
      {
       "output_type": "stream",
       "stream": "stdout",
       "text": [
        "130906-20:23:53,515 workflow INFO:\n",
        "\t Running: fugue --in=/home/oesteban/workspace/ACWE-Reg/temp/DigitalPhantomISBI/SynthSuscept_SNR-30/Fugue_WarpDWIs/split_DWI/DWIS_dti-scheme_SNR-30_006.nii.gz --mask=/home/oesteban/workspace/ACWE-Reg/Data/DigitalPhantomISBI/signal_mask.nii.gz --loadshift=/home/oesteban/workspace/ACWE-Reg/temp/DigitalPhantomISBI/SynthSuscept_SNR-30/demean/signal_mask_vsm_demeaned.nii.gz --warp=/home/oesteban/workspace/ACWE-Reg/temp/DigitalPhantomISBI/SynthSuscept_SNR-30/Fugue_WarpDWIs/Fugue_Warp/mapflow/_Fugue_Warp6/DWIS_dti-scheme_SNR-30_006_warped.nii.gz\n"
       ]
      },
      {
       "output_type": "stream",
       "stream": "stdout",
       "text": [
        "130906-20:23:57,380 workflow INFO:\n",
        "\t Executing node _Fugue_Warp7 in dir: /home/oesteban/workspace/ACWE-Reg/temp/DigitalPhantomISBI/SynthSuscept_SNR-30/Fugue_WarpDWIs/Fugue_Warp/mapflow/_Fugue_Warp7\n"
       ]
      },
      {
       "output_type": "stream",
       "stream": "stdout",
       "text": [
        "130906-20:23:57,386 workflow INFO:\n",
        "\t Running: fugue --in=/home/oesteban/workspace/ACWE-Reg/temp/DigitalPhantomISBI/SynthSuscept_SNR-30/Fugue_WarpDWIs/split_DWI/DWIS_dti-scheme_SNR-30_007.nii.gz --mask=/home/oesteban/workspace/ACWE-Reg/Data/DigitalPhantomISBI/signal_mask.nii.gz --loadshift=/home/oesteban/workspace/ACWE-Reg/temp/DigitalPhantomISBI/SynthSuscept_SNR-30/demean/signal_mask_vsm_demeaned.nii.gz --warp=/home/oesteban/workspace/ACWE-Reg/temp/DigitalPhantomISBI/SynthSuscept_SNR-30/Fugue_WarpDWIs/Fugue_Warp/mapflow/_Fugue_Warp7/DWIS_dti-scheme_SNR-30_007_warped.nii.gz\n"
       ]
      },
      {
       "output_type": "stream",
       "stream": "stdout",
       "text": [
        "130906-20:24:01,244 workflow INFO:\n",
        "\t Executing node _Fugue_Warp8 in dir: /home/oesteban/workspace/ACWE-Reg/temp/DigitalPhantomISBI/SynthSuscept_SNR-30/Fugue_WarpDWIs/Fugue_Warp/mapflow/_Fugue_Warp8\n"
       ]
      },
      {
       "output_type": "stream",
       "stream": "stdout",
       "text": [
        "130906-20:24:01,251 workflow INFO:\n",
        "\t Running: fugue --in=/home/oesteban/workspace/ACWE-Reg/temp/DigitalPhantomISBI/SynthSuscept_SNR-30/Fugue_WarpDWIs/split_DWI/DWIS_dti-scheme_SNR-30_008.nii.gz --mask=/home/oesteban/workspace/ACWE-Reg/Data/DigitalPhantomISBI/signal_mask.nii.gz --loadshift=/home/oesteban/workspace/ACWE-Reg/temp/DigitalPhantomISBI/SynthSuscept_SNR-30/demean/signal_mask_vsm_demeaned.nii.gz --warp=/home/oesteban/workspace/ACWE-Reg/temp/DigitalPhantomISBI/SynthSuscept_SNR-30/Fugue_WarpDWIs/Fugue_Warp/mapflow/_Fugue_Warp8/DWIS_dti-scheme_SNR-30_008_warped.nii.gz\n"
       ]
      },
      {
       "output_type": "stream",
       "stream": "stdout",
       "text": [
        "130906-20:24:05,116 workflow INFO:\n",
        "\t Executing node _Fugue_Warp9 in dir: /home/oesteban/workspace/ACWE-Reg/temp/DigitalPhantomISBI/SynthSuscept_SNR-30/Fugue_WarpDWIs/Fugue_Warp/mapflow/_Fugue_Warp9\n"
       ]
      },
      {
       "output_type": "stream",
       "stream": "stdout",
       "text": [
        "130906-20:24:05,119 workflow INFO:\n",
        "\t Running: fugue --in=/home/oesteban/workspace/ACWE-Reg/temp/DigitalPhantomISBI/SynthSuscept_SNR-30/Fugue_WarpDWIs/split_DWI/DWIS_dti-scheme_SNR-30_009.nii.gz --mask=/home/oesteban/workspace/ACWE-Reg/Data/DigitalPhantomISBI/signal_mask.nii.gz --loadshift=/home/oesteban/workspace/ACWE-Reg/temp/DigitalPhantomISBI/SynthSuscept_SNR-30/demean/signal_mask_vsm_demeaned.nii.gz --warp=/home/oesteban/workspace/ACWE-Reg/temp/DigitalPhantomISBI/SynthSuscept_SNR-30/Fugue_WarpDWIs/Fugue_Warp/mapflow/_Fugue_Warp9/DWIS_dti-scheme_SNR-30_009_warped.nii.gz\n"
       ]
      },
      {
       "output_type": "stream",
       "stream": "stdout",
       "text": [
        "130906-20:24:08,973 workflow INFO:\n",
        "\t Executing node _Fugue_Warp10 in dir: /home/oesteban/workspace/ACWE-Reg/temp/DigitalPhantomISBI/SynthSuscept_SNR-30/Fugue_WarpDWIs/Fugue_Warp/mapflow/_Fugue_Warp10\n"
       ]
      },
      {
       "output_type": "stream",
       "stream": "stdout",
       "text": [
        "130906-20:24:08,979 workflow INFO:\n",
        "\t Running: fugue --in=/home/oesteban/workspace/ACWE-Reg/temp/DigitalPhantomISBI/SynthSuscept_SNR-30/Fugue_WarpDWIs/split_DWI/DWIS_dti-scheme_SNR-30_010.nii.gz --mask=/home/oesteban/workspace/ACWE-Reg/Data/DigitalPhantomISBI/signal_mask.nii.gz --loadshift=/home/oesteban/workspace/ACWE-Reg/temp/DigitalPhantomISBI/SynthSuscept_SNR-30/demean/signal_mask_vsm_demeaned.nii.gz --warp=/home/oesteban/workspace/ACWE-Reg/temp/DigitalPhantomISBI/SynthSuscept_SNR-30/Fugue_WarpDWIs/Fugue_Warp/mapflow/_Fugue_Warp10/DWIS_dti-scheme_SNR-30_010_warped.nii.gz\n"
       ]
      },
      {
       "output_type": "stream",
       "stream": "stdout",
       "text": [
        "130906-20:24:12,831 workflow INFO:\n",
        "\t Executing node _Fugue_Warp11 in dir: /home/oesteban/workspace/ACWE-Reg/temp/DigitalPhantomISBI/SynthSuscept_SNR-30/Fugue_WarpDWIs/Fugue_Warp/mapflow/_Fugue_Warp11\n"
       ]
      },
      {
       "output_type": "stream",
       "stream": "stdout",
       "text": [
        "130906-20:24:12,838 workflow INFO:\n",
        "\t Running: fugue --in=/home/oesteban/workspace/ACWE-Reg/temp/DigitalPhantomISBI/SynthSuscept_SNR-30/Fugue_WarpDWIs/split_DWI/DWIS_dti-scheme_SNR-30_011.nii.gz --mask=/home/oesteban/workspace/ACWE-Reg/Data/DigitalPhantomISBI/signal_mask.nii.gz --loadshift=/home/oesteban/workspace/ACWE-Reg/temp/DigitalPhantomISBI/SynthSuscept_SNR-30/demean/signal_mask_vsm_demeaned.nii.gz --warp=/home/oesteban/workspace/ACWE-Reg/temp/DigitalPhantomISBI/SynthSuscept_SNR-30/Fugue_WarpDWIs/Fugue_Warp/mapflow/_Fugue_Warp11/DWIS_dti-scheme_SNR-30_011_warped.nii.gz\n"
       ]
      },
      {
       "output_type": "stream",
       "stream": "stdout",
       "text": [
        "130906-20:24:16,715 workflow INFO:\n",
        "\t Executing node _Fugue_Warp12 in dir: /home/oesteban/workspace/ACWE-Reg/temp/DigitalPhantomISBI/SynthSuscept_SNR-30/Fugue_WarpDWIs/Fugue_Warp/mapflow/_Fugue_Warp12\n"
       ]
      },
      {
       "output_type": "stream",
       "stream": "stdout",
       "text": [
        "130906-20:24:16,720 workflow INFO:\n",
        "\t Running: fugue --in=/home/oesteban/workspace/ACWE-Reg/temp/DigitalPhantomISBI/SynthSuscept_SNR-30/Fugue_WarpDWIs/split_DWI/DWIS_dti-scheme_SNR-30_012.nii.gz --mask=/home/oesteban/workspace/ACWE-Reg/Data/DigitalPhantomISBI/signal_mask.nii.gz --loadshift=/home/oesteban/workspace/ACWE-Reg/temp/DigitalPhantomISBI/SynthSuscept_SNR-30/demean/signal_mask_vsm_demeaned.nii.gz --warp=/home/oesteban/workspace/ACWE-Reg/temp/DigitalPhantomISBI/SynthSuscept_SNR-30/Fugue_WarpDWIs/Fugue_Warp/mapflow/_Fugue_Warp12/DWIS_dti-scheme_SNR-30_012_warped.nii.gz\n"
       ]
      },
      {
       "output_type": "stream",
       "stream": "stdout",
       "text": [
        "130906-20:24:20,571 workflow INFO:\n",
        "\t Executing node _Fugue_Warp13 in dir: /home/oesteban/workspace/ACWE-Reg/temp/DigitalPhantomISBI/SynthSuscept_SNR-30/Fugue_WarpDWIs/Fugue_Warp/mapflow/_Fugue_Warp13\n"
       ]
      },
      {
       "output_type": "stream",
       "stream": "stdout",
       "text": [
        "130906-20:24:20,577 workflow INFO:\n",
        "\t Running: fugue --in=/home/oesteban/workspace/ACWE-Reg/temp/DigitalPhantomISBI/SynthSuscept_SNR-30/Fugue_WarpDWIs/split_DWI/DWIS_dti-scheme_SNR-30_013.nii.gz --mask=/home/oesteban/workspace/ACWE-Reg/Data/DigitalPhantomISBI/signal_mask.nii.gz --loadshift=/home/oesteban/workspace/ACWE-Reg/temp/DigitalPhantomISBI/SynthSuscept_SNR-30/demean/signal_mask_vsm_demeaned.nii.gz --warp=/home/oesteban/workspace/ACWE-Reg/temp/DigitalPhantomISBI/SynthSuscept_SNR-30/Fugue_WarpDWIs/Fugue_Warp/mapflow/_Fugue_Warp13/DWIS_dti-scheme_SNR-30_013_warped.nii.gz\n"
       ]
      },
      {
       "output_type": "stream",
       "stream": "stdout",
       "text": [
        "130906-20:24:24,436 workflow INFO:\n",
        "\t Executing node _Fugue_Warp14 in dir: /home/oesteban/workspace/ACWE-Reg/temp/DigitalPhantomISBI/SynthSuscept_SNR-30/Fugue_WarpDWIs/Fugue_Warp/mapflow/_Fugue_Warp14\n"
       ]
      },
      {
       "output_type": "stream",
       "stream": "stdout",
       "text": [
        "130906-20:24:24,439 workflow INFO:\n",
        "\t Running: fugue --in=/home/oesteban/workspace/ACWE-Reg/temp/DigitalPhantomISBI/SynthSuscept_SNR-30/Fugue_WarpDWIs/split_DWI/DWIS_dti-scheme_SNR-30_014.nii.gz --mask=/home/oesteban/workspace/ACWE-Reg/Data/DigitalPhantomISBI/signal_mask.nii.gz --loadshift=/home/oesteban/workspace/ACWE-Reg/temp/DigitalPhantomISBI/SynthSuscept_SNR-30/demean/signal_mask_vsm_demeaned.nii.gz --warp=/home/oesteban/workspace/ACWE-Reg/temp/DigitalPhantomISBI/SynthSuscept_SNR-30/Fugue_WarpDWIs/Fugue_Warp/mapflow/_Fugue_Warp14/DWIS_dti-scheme_SNR-30_014_warped.nii.gz\n"
       ]
      },
      {
       "output_type": "stream",
       "stream": "stdout",
       "text": [
        "130906-20:24:28,297 workflow INFO:\n",
        "\t Executing node _Fugue_Warp15 in dir: /home/oesteban/workspace/ACWE-Reg/temp/DigitalPhantomISBI/SynthSuscept_SNR-30/Fugue_WarpDWIs/Fugue_Warp/mapflow/_Fugue_Warp15\n"
       ]
      },
      {
       "output_type": "stream",
       "stream": "stdout",
       "text": [
        "130906-20:24:28,301 workflow INFO:\n",
        "\t Running: fugue --in=/home/oesteban/workspace/ACWE-Reg/temp/DigitalPhantomISBI/SynthSuscept_SNR-30/Fugue_WarpDWIs/split_DWI/DWIS_dti-scheme_SNR-30_015.nii.gz --mask=/home/oesteban/workspace/ACWE-Reg/Data/DigitalPhantomISBI/signal_mask.nii.gz --loadshift=/home/oesteban/workspace/ACWE-Reg/temp/DigitalPhantomISBI/SynthSuscept_SNR-30/demean/signal_mask_vsm_demeaned.nii.gz --warp=/home/oesteban/workspace/ACWE-Reg/temp/DigitalPhantomISBI/SynthSuscept_SNR-30/Fugue_WarpDWIs/Fugue_Warp/mapflow/_Fugue_Warp15/DWIS_dti-scheme_SNR-30_015_warped.nii.gz\n"
       ]
      },
      {
       "output_type": "stream",
       "stream": "stdout",
       "text": [
        "130906-20:24:32,164 workflow INFO:\n",
        "\t Executing node _Fugue_Warp16 in dir: /home/oesteban/workspace/ACWE-Reg/temp/DigitalPhantomISBI/SynthSuscept_SNR-30/Fugue_WarpDWIs/Fugue_Warp/mapflow/_Fugue_Warp16\n"
       ]
      },
      {
       "output_type": "stream",
       "stream": "stdout",
       "text": [
        "130906-20:24:32,167 workflow INFO:\n",
        "\t Running: fugue --in=/home/oesteban/workspace/ACWE-Reg/temp/DigitalPhantomISBI/SynthSuscept_SNR-30/Fugue_WarpDWIs/split_DWI/DWIS_dti-scheme_SNR-30_016.nii.gz --mask=/home/oesteban/workspace/ACWE-Reg/Data/DigitalPhantomISBI/signal_mask.nii.gz --loadshift=/home/oesteban/workspace/ACWE-Reg/temp/DigitalPhantomISBI/SynthSuscept_SNR-30/demean/signal_mask_vsm_demeaned.nii.gz --warp=/home/oesteban/workspace/ACWE-Reg/temp/DigitalPhantomISBI/SynthSuscept_SNR-30/Fugue_WarpDWIs/Fugue_Warp/mapflow/_Fugue_Warp16/DWIS_dti-scheme_SNR-30_016_warped.nii.gz\n"
       ]
      },
      {
       "output_type": "stream",
       "stream": "stdout",
       "text": [
        "130906-20:24:36,25 workflow INFO:\n",
        "\t Executing node _Fugue_Warp17 in dir: /home/oesteban/workspace/ACWE-Reg/temp/DigitalPhantomISBI/SynthSuscept_SNR-30/Fugue_WarpDWIs/Fugue_Warp/mapflow/_Fugue_Warp17\n"
       ]
      },
      {
       "output_type": "stream",
       "stream": "stdout",
       "text": [
        "130906-20:24:36,29 workflow INFO:\n",
        "\t Running: fugue --in=/home/oesteban/workspace/ACWE-Reg/temp/DigitalPhantomISBI/SynthSuscept_SNR-30/Fugue_WarpDWIs/split_DWI/DWIS_dti-scheme_SNR-30_017.nii.gz --mask=/home/oesteban/workspace/ACWE-Reg/Data/DigitalPhantomISBI/signal_mask.nii.gz --loadshift=/home/oesteban/workspace/ACWE-Reg/temp/DigitalPhantomISBI/SynthSuscept_SNR-30/demean/signal_mask_vsm_demeaned.nii.gz --warp=/home/oesteban/workspace/ACWE-Reg/temp/DigitalPhantomISBI/SynthSuscept_SNR-30/Fugue_WarpDWIs/Fugue_Warp/mapflow/_Fugue_Warp17/DWIS_dti-scheme_SNR-30_017_warped.nii.gz\n"
       ]
      },
      {
       "output_type": "stream",
       "stream": "stdout",
       "text": [
        "130906-20:24:39,893 workflow INFO:\n",
        "\t Executing node _Fugue_Warp18 in dir: /home/oesteban/workspace/ACWE-Reg/temp/DigitalPhantomISBI/SynthSuscept_SNR-30/Fugue_WarpDWIs/Fugue_Warp/mapflow/_Fugue_Warp18\n"
       ]
      },
      {
       "output_type": "stream",
       "stream": "stdout",
       "text": [
        "130906-20:24:39,896 workflow INFO:\n",
        "\t Running: fugue --in=/home/oesteban/workspace/ACWE-Reg/temp/DigitalPhantomISBI/SynthSuscept_SNR-30/Fugue_WarpDWIs/split_DWI/DWIS_dti-scheme_SNR-30_018.nii.gz --mask=/home/oesteban/workspace/ACWE-Reg/Data/DigitalPhantomISBI/signal_mask.nii.gz --loadshift=/home/oesteban/workspace/ACWE-Reg/temp/DigitalPhantomISBI/SynthSuscept_SNR-30/demean/signal_mask_vsm_demeaned.nii.gz --warp=/home/oesteban/workspace/ACWE-Reg/temp/DigitalPhantomISBI/SynthSuscept_SNR-30/Fugue_WarpDWIs/Fugue_Warp/mapflow/_Fugue_Warp18/DWIS_dti-scheme_SNR-30_018_warped.nii.gz\n"
       ]
      },
      {
       "output_type": "stream",
       "stream": "stdout",
       "text": [
        "130906-20:24:43,768 workflow INFO:\n",
        "\t Executing node _Fugue_Warp19 in dir: /home/oesteban/workspace/ACWE-Reg/temp/DigitalPhantomISBI/SynthSuscept_SNR-30/Fugue_WarpDWIs/Fugue_Warp/mapflow/_Fugue_Warp19\n"
       ]
      },
      {
       "output_type": "stream",
       "stream": "stdout",
       "text": [
        "130906-20:24:43,774 workflow INFO:\n",
        "\t Running: fugue --in=/home/oesteban/workspace/ACWE-Reg/temp/DigitalPhantomISBI/SynthSuscept_SNR-30/Fugue_WarpDWIs/split_DWI/DWIS_dti-scheme_SNR-30_019.nii.gz --mask=/home/oesteban/workspace/ACWE-Reg/Data/DigitalPhantomISBI/signal_mask.nii.gz --loadshift=/home/oesteban/workspace/ACWE-Reg/temp/DigitalPhantomISBI/SynthSuscept_SNR-30/demean/signal_mask_vsm_demeaned.nii.gz --warp=/home/oesteban/workspace/ACWE-Reg/temp/DigitalPhantomISBI/SynthSuscept_SNR-30/Fugue_WarpDWIs/Fugue_Warp/mapflow/_Fugue_Warp19/DWIS_dti-scheme_SNR-30_019_warped.nii.gz\n"
       ]
      },
      {
       "output_type": "stream",
       "stream": "stdout",
       "text": [
        "130906-20:24:47,637 workflow INFO:\n",
        "\t Executing node _Fugue_Warp20 in dir: /home/oesteban/workspace/ACWE-Reg/temp/DigitalPhantomISBI/SynthSuscept_SNR-30/Fugue_WarpDWIs/Fugue_Warp/mapflow/_Fugue_Warp20\n"
       ]
      },
      {
       "output_type": "stream",
       "stream": "stdout",
       "text": [
        "130906-20:24:47,643 workflow INFO:\n",
        "\t Running: fugue --in=/home/oesteban/workspace/ACWE-Reg/temp/DigitalPhantomISBI/SynthSuscept_SNR-30/Fugue_WarpDWIs/split_DWI/DWIS_dti-scheme_SNR-30_020.nii.gz --mask=/home/oesteban/workspace/ACWE-Reg/Data/DigitalPhantomISBI/signal_mask.nii.gz --loadshift=/home/oesteban/workspace/ACWE-Reg/temp/DigitalPhantomISBI/SynthSuscept_SNR-30/demean/signal_mask_vsm_demeaned.nii.gz --warp=/home/oesteban/workspace/ACWE-Reg/temp/DigitalPhantomISBI/SynthSuscept_SNR-30/Fugue_WarpDWIs/Fugue_Warp/mapflow/_Fugue_Warp20/DWIS_dti-scheme_SNR-30_020_warped.nii.gz\n"
       ]
      },
      {
       "output_type": "stream",
       "stream": "stdout",
       "text": [
        "130906-20:24:51,494 workflow INFO:\n",
        "\t Executing node _Fugue_Warp21 in dir: /home/oesteban/workspace/ACWE-Reg/temp/DigitalPhantomISBI/SynthSuscept_SNR-30/Fugue_WarpDWIs/Fugue_Warp/mapflow/_Fugue_Warp21\n"
       ]
      },
      {
       "output_type": "stream",
       "stream": "stdout",
       "text": [
        "130906-20:24:51,498 workflow INFO:\n",
        "\t Running: fugue --in=/home/oesteban/workspace/ACWE-Reg/temp/DigitalPhantomISBI/SynthSuscept_SNR-30/Fugue_WarpDWIs/split_DWI/DWIS_dti-scheme_SNR-30_021.nii.gz --mask=/home/oesteban/workspace/ACWE-Reg/Data/DigitalPhantomISBI/signal_mask.nii.gz --loadshift=/home/oesteban/workspace/ACWE-Reg/temp/DigitalPhantomISBI/SynthSuscept_SNR-30/demean/signal_mask_vsm_demeaned.nii.gz --warp=/home/oesteban/workspace/ACWE-Reg/temp/DigitalPhantomISBI/SynthSuscept_SNR-30/Fugue_WarpDWIs/Fugue_Warp/mapflow/_Fugue_Warp21/DWIS_dti-scheme_SNR-30_021_warped.nii.gz\n"
       ]
      },
      {
       "output_type": "stream",
       "stream": "stdout",
       "text": [
        "130906-20:24:55,352 workflow INFO:\n",
        "\t Executing node _Fugue_Warp22 in dir: /home/oesteban/workspace/ACWE-Reg/temp/DigitalPhantomISBI/SynthSuscept_SNR-30/Fugue_WarpDWIs/Fugue_Warp/mapflow/_Fugue_Warp22\n"
       ]
      },
      {
       "output_type": "stream",
       "stream": "stdout",
       "text": [
        "130906-20:24:55,359 workflow INFO:\n",
        "\t Running: fugue --in=/home/oesteban/workspace/ACWE-Reg/temp/DigitalPhantomISBI/SynthSuscept_SNR-30/Fugue_WarpDWIs/split_DWI/DWIS_dti-scheme_SNR-30_022.nii.gz --mask=/home/oesteban/workspace/ACWE-Reg/Data/DigitalPhantomISBI/signal_mask.nii.gz --loadshift=/home/oesteban/workspace/ACWE-Reg/temp/DigitalPhantomISBI/SynthSuscept_SNR-30/demean/signal_mask_vsm_demeaned.nii.gz --warp=/home/oesteban/workspace/ACWE-Reg/temp/DigitalPhantomISBI/SynthSuscept_SNR-30/Fugue_WarpDWIs/Fugue_Warp/mapflow/_Fugue_Warp22/DWIS_dti-scheme_SNR-30_022_warped.nii.gz\n"
       ]
      },
      {
       "output_type": "stream",
       "stream": "stdout",
       "text": [
        "130906-20:24:59,208 workflow INFO:\n",
        "\t Executing node _Fugue_Warp23 in dir: /home/oesteban/workspace/ACWE-Reg/temp/DigitalPhantomISBI/SynthSuscept_SNR-30/Fugue_WarpDWIs/Fugue_Warp/mapflow/_Fugue_Warp23\n"
       ]
      },
      {
       "output_type": "stream",
       "stream": "stdout",
       "text": [
        "130906-20:24:59,214 workflow INFO:\n",
        "\t Running: fugue --in=/home/oesteban/workspace/ACWE-Reg/temp/DigitalPhantomISBI/SynthSuscept_SNR-30/Fugue_WarpDWIs/split_DWI/DWIS_dti-scheme_SNR-30_023.nii.gz --mask=/home/oesteban/workspace/ACWE-Reg/Data/DigitalPhantomISBI/signal_mask.nii.gz --loadshift=/home/oesteban/workspace/ACWE-Reg/temp/DigitalPhantomISBI/SynthSuscept_SNR-30/demean/signal_mask_vsm_demeaned.nii.gz --warp=/home/oesteban/workspace/ACWE-Reg/temp/DigitalPhantomISBI/SynthSuscept_SNR-30/Fugue_WarpDWIs/Fugue_Warp/mapflow/_Fugue_Warp23/DWIS_dti-scheme_SNR-30_023_warped.nii.gz\n"
       ]
      },
      {
       "output_type": "stream",
       "stream": "stdout",
       "text": [
        "130906-20:25:03,74 workflow INFO:\n",
        "\t Executing node _Fugue_Warp24 in dir: /home/oesteban/workspace/ACWE-Reg/temp/DigitalPhantomISBI/SynthSuscept_SNR-30/Fugue_WarpDWIs/Fugue_Warp/mapflow/_Fugue_Warp24\n"
       ]
      },
      {
       "output_type": "stream",
       "stream": "stdout",
       "text": [
        "130906-20:25:03,78 workflow INFO:\n",
        "\t Running: fugue --in=/home/oesteban/workspace/ACWE-Reg/temp/DigitalPhantomISBI/SynthSuscept_SNR-30/Fugue_WarpDWIs/split_DWI/DWIS_dti-scheme_SNR-30_024.nii.gz --mask=/home/oesteban/workspace/ACWE-Reg/Data/DigitalPhantomISBI/signal_mask.nii.gz --loadshift=/home/oesteban/workspace/ACWE-Reg/temp/DigitalPhantomISBI/SynthSuscept_SNR-30/demean/signal_mask_vsm_demeaned.nii.gz --warp=/home/oesteban/workspace/ACWE-Reg/temp/DigitalPhantomISBI/SynthSuscept_SNR-30/Fugue_WarpDWIs/Fugue_Warp/mapflow/_Fugue_Warp24/DWIS_dti-scheme_SNR-30_024_warped.nii.gz\n"
       ]
      },
      {
       "output_type": "stream",
       "stream": "stdout",
       "text": [
        "130906-20:25:06,927 workflow INFO:\n",
        "\t Executing node _Fugue_Warp25 in dir: /home/oesteban/workspace/ACWE-Reg/temp/DigitalPhantomISBI/SynthSuscept_SNR-30/Fugue_WarpDWIs/Fugue_Warp/mapflow/_Fugue_Warp25\n"
       ]
      },
      {
       "output_type": "stream",
       "stream": "stdout",
       "text": [
        "130906-20:25:06,930 workflow INFO:\n",
        "\t Running: fugue --in=/home/oesteban/workspace/ACWE-Reg/temp/DigitalPhantomISBI/SynthSuscept_SNR-30/Fugue_WarpDWIs/split_DWI/DWIS_dti-scheme_SNR-30_025.nii.gz --mask=/home/oesteban/workspace/ACWE-Reg/Data/DigitalPhantomISBI/signal_mask.nii.gz --loadshift=/home/oesteban/workspace/ACWE-Reg/temp/DigitalPhantomISBI/SynthSuscept_SNR-30/demean/signal_mask_vsm_demeaned.nii.gz --warp=/home/oesteban/workspace/ACWE-Reg/temp/DigitalPhantomISBI/SynthSuscept_SNR-30/Fugue_WarpDWIs/Fugue_Warp/mapflow/_Fugue_Warp25/DWIS_dti-scheme_SNR-30_025_warped.nii.gz\n"
       ]
      },
      {
       "output_type": "stream",
       "stream": "stdout",
       "text": [
        "130906-20:25:10,792 workflow INFO:\n",
        "\t Executing node _Fugue_Warp26 in dir: /home/oesteban/workspace/ACWE-Reg/temp/DigitalPhantomISBI/SynthSuscept_SNR-30/Fugue_WarpDWIs/Fugue_Warp/mapflow/_Fugue_Warp26\n"
       ]
      },
      {
       "output_type": "stream",
       "stream": "stdout",
       "text": [
        "130906-20:25:10,795 workflow INFO:\n",
        "\t Running: fugue --in=/home/oesteban/workspace/ACWE-Reg/temp/DigitalPhantomISBI/SynthSuscept_SNR-30/Fugue_WarpDWIs/split_DWI/DWIS_dti-scheme_SNR-30_026.nii.gz --mask=/home/oesteban/workspace/ACWE-Reg/Data/DigitalPhantomISBI/signal_mask.nii.gz --loadshift=/home/oesteban/workspace/ACWE-Reg/temp/DigitalPhantomISBI/SynthSuscept_SNR-30/demean/signal_mask_vsm_demeaned.nii.gz --warp=/home/oesteban/workspace/ACWE-Reg/temp/DigitalPhantomISBI/SynthSuscept_SNR-30/Fugue_WarpDWIs/Fugue_Warp/mapflow/_Fugue_Warp26/DWIS_dti-scheme_SNR-30_026_warped.nii.gz\n"
       ]
      },
      {
       "output_type": "stream",
       "stream": "stdout",
       "text": [
        "130906-20:25:14,653 workflow INFO:\n",
        "\t Executing node _Fugue_Warp27 in dir: /home/oesteban/workspace/ACWE-Reg/temp/DigitalPhantomISBI/SynthSuscept_SNR-30/Fugue_WarpDWIs/Fugue_Warp/mapflow/_Fugue_Warp27\n"
       ]
      },
      {
       "output_type": "stream",
       "stream": "stdout",
       "text": [
        "130906-20:25:14,659 workflow INFO:\n",
        "\t Running: fugue --in=/home/oesteban/workspace/ACWE-Reg/temp/DigitalPhantomISBI/SynthSuscept_SNR-30/Fugue_WarpDWIs/split_DWI/DWIS_dti-scheme_SNR-30_027.nii.gz --mask=/home/oesteban/workspace/ACWE-Reg/Data/DigitalPhantomISBI/signal_mask.nii.gz --loadshift=/home/oesteban/workspace/ACWE-Reg/temp/DigitalPhantomISBI/SynthSuscept_SNR-30/demean/signal_mask_vsm_demeaned.nii.gz --warp=/home/oesteban/workspace/ACWE-Reg/temp/DigitalPhantomISBI/SynthSuscept_SNR-30/Fugue_WarpDWIs/Fugue_Warp/mapflow/_Fugue_Warp27/DWIS_dti-scheme_SNR-30_027_warped.nii.gz\n"
       ]
      },
      {
       "output_type": "stream",
       "stream": "stdout",
       "text": [
        "130906-20:25:18,532 workflow INFO:\n",
        "\t Executing node _Fugue_Warp28 in dir: /home/oesteban/workspace/ACWE-Reg/temp/DigitalPhantomISBI/SynthSuscept_SNR-30/Fugue_WarpDWIs/Fugue_Warp/mapflow/_Fugue_Warp28\n"
       ]
      },
      {
       "output_type": "stream",
       "stream": "stdout",
       "text": [
        "130906-20:25:18,535 workflow INFO:\n",
        "\t Running: fugue --in=/home/oesteban/workspace/ACWE-Reg/temp/DigitalPhantomISBI/SynthSuscept_SNR-30/Fugue_WarpDWIs/split_DWI/DWIS_dti-scheme_SNR-30_028.nii.gz --mask=/home/oesteban/workspace/ACWE-Reg/Data/DigitalPhantomISBI/signal_mask.nii.gz --loadshift=/home/oesteban/workspace/ACWE-Reg/temp/DigitalPhantomISBI/SynthSuscept_SNR-30/demean/signal_mask_vsm_demeaned.nii.gz --warp=/home/oesteban/workspace/ACWE-Reg/temp/DigitalPhantomISBI/SynthSuscept_SNR-30/Fugue_WarpDWIs/Fugue_Warp/mapflow/_Fugue_Warp28/DWIS_dti-scheme_SNR-30_028_warped.nii.gz\n"
       ]
      },
      {
       "output_type": "stream",
       "stream": "stdout",
       "text": [
        "130906-20:25:22,401 workflow INFO:\n",
        "\t Executing node _Fugue_Warp29 in dir: /home/oesteban/workspace/ACWE-Reg/temp/DigitalPhantomISBI/SynthSuscept_SNR-30/Fugue_WarpDWIs/Fugue_Warp/mapflow/_Fugue_Warp29\n"
       ]
      },
      {
       "output_type": "stream",
       "stream": "stdout",
       "text": [
        "130906-20:25:22,407 workflow INFO:\n",
        "\t Running: fugue --in=/home/oesteban/workspace/ACWE-Reg/temp/DigitalPhantomISBI/SynthSuscept_SNR-30/Fugue_WarpDWIs/split_DWI/DWIS_dti-scheme_SNR-30_029.nii.gz --mask=/home/oesteban/workspace/ACWE-Reg/Data/DigitalPhantomISBI/signal_mask.nii.gz --loadshift=/home/oesteban/workspace/ACWE-Reg/temp/DigitalPhantomISBI/SynthSuscept_SNR-30/demean/signal_mask_vsm_demeaned.nii.gz --warp=/home/oesteban/workspace/ACWE-Reg/temp/DigitalPhantomISBI/SynthSuscept_SNR-30/Fugue_WarpDWIs/Fugue_Warp/mapflow/_Fugue_Warp29/DWIS_dti-scheme_SNR-30_029_warped.nii.gz\n"
       ]
      },
      {
       "output_type": "stream",
       "stream": "stdout",
       "text": [
        "130906-20:25:26,258 workflow INFO:\n",
        "\t Executing node _Fugue_Warp30 in dir: /home/oesteban/workspace/ACWE-Reg/temp/DigitalPhantomISBI/SynthSuscept_SNR-30/Fugue_WarpDWIs/Fugue_Warp/mapflow/_Fugue_Warp30\n"
       ]
      },
      {
       "output_type": "stream",
       "stream": "stdout",
       "text": [
        "130906-20:25:26,262 workflow INFO:\n",
        "\t Running: fugue --in=/home/oesteban/workspace/ACWE-Reg/temp/DigitalPhantomISBI/SynthSuscept_SNR-30/Fugue_WarpDWIs/split_DWI/DWIS_dti-scheme_SNR-30_030.nii.gz --mask=/home/oesteban/workspace/ACWE-Reg/Data/DigitalPhantomISBI/signal_mask.nii.gz --loadshift=/home/oesteban/workspace/ACWE-Reg/temp/DigitalPhantomISBI/SynthSuscept_SNR-30/demean/signal_mask_vsm_demeaned.nii.gz --warp=/home/oesteban/workspace/ACWE-Reg/temp/DigitalPhantomISBI/SynthSuscept_SNR-30/Fugue_WarpDWIs/Fugue_Warp/mapflow/_Fugue_Warp30/DWIS_dti-scheme_SNR-30_030_warped.nii.gz\n"
       ]
      },
      {
       "output_type": "stream",
       "stream": "stdout",
       "text": [
        "130906-20:25:30,117 workflow INFO:\n",
        "\t Executing node _Fugue_Warp31 in dir: /home/oesteban/workspace/ACWE-Reg/temp/DigitalPhantomISBI/SynthSuscept_SNR-30/Fugue_WarpDWIs/Fugue_Warp/mapflow/_Fugue_Warp31\n"
       ]
      },
      {
       "output_type": "stream",
       "stream": "stdout",
       "text": [
        "130906-20:25:30,123 workflow INFO:\n",
        "\t Running: fugue --in=/home/oesteban/workspace/ACWE-Reg/temp/DigitalPhantomISBI/SynthSuscept_SNR-30/Fugue_WarpDWIs/split_DWI/DWIS_dti-scheme_SNR-30_031.nii.gz --mask=/home/oesteban/workspace/ACWE-Reg/Data/DigitalPhantomISBI/signal_mask.nii.gz --loadshift=/home/oesteban/workspace/ACWE-Reg/temp/DigitalPhantomISBI/SynthSuscept_SNR-30/demean/signal_mask_vsm_demeaned.nii.gz --warp=/home/oesteban/workspace/ACWE-Reg/temp/DigitalPhantomISBI/SynthSuscept_SNR-30/Fugue_WarpDWIs/Fugue_Warp/mapflow/_Fugue_Warp31/DWIS_dti-scheme_SNR-30_031_warped.nii.gz\n"
       ]
      },
      {
       "output_type": "stream",
       "stream": "stdout",
       "text": [
        "130906-20:25:33,991 workflow INFO:\n",
        "\t Executing node _Fugue_Warp32 in dir: /home/oesteban/workspace/ACWE-Reg/temp/DigitalPhantomISBI/SynthSuscept_SNR-30/Fugue_WarpDWIs/Fugue_Warp/mapflow/_Fugue_Warp32\n"
       ]
      },
      {
       "output_type": "stream",
       "stream": "stdout",
       "text": [
        "130906-20:25:33,997 workflow INFO:\n",
        "\t Running: fugue --in=/home/oesteban/workspace/ACWE-Reg/temp/DigitalPhantomISBI/SynthSuscept_SNR-30/Fugue_WarpDWIs/split_DWI/DWIS_dti-scheme_SNR-30_032.nii.gz --mask=/home/oesteban/workspace/ACWE-Reg/Data/DigitalPhantomISBI/signal_mask.nii.gz --loadshift=/home/oesteban/workspace/ACWE-Reg/temp/DigitalPhantomISBI/SynthSuscept_SNR-30/demean/signal_mask_vsm_demeaned.nii.gz --warp=/home/oesteban/workspace/ACWE-Reg/temp/DigitalPhantomISBI/SynthSuscept_SNR-30/Fugue_WarpDWIs/Fugue_Warp/mapflow/_Fugue_Warp32/DWIS_dti-scheme_SNR-30_032_warped.nii.gz\n"
       ]
      },
      {
       "output_type": "stream",
       "stream": "stdout",
       "text": [
        "130906-20:25:37,875 workflow INFO:\n",
        "\t Executing node merge_DWI in dir: /home/oesteban/workspace/ACWE-Reg/temp/DigitalPhantomISBI/SynthSuscept_SNR-30/Fugue_WarpDWIs/merge_DWI\n"
       ]
      },
      {
       "output_type": "stream",
       "stream": "stdout",
       "text": [
        "130906-20:25:37,880 workflow INFO:\n",
        "\t Running: fslmerge -t /home/oesteban/workspace/ACWE-Reg/temp/DigitalPhantomISBI/SynthSuscept_SNR-30/Fugue_WarpDWIs/merge_DWI/DWIS_dti-scheme_SNR-30_000_warped_merged.nii.gz /home/oesteban/workspace/ACWE-Reg/temp/DigitalPhantomISBI/SynthSuscept_SNR-30/Fugue_WarpDWIs/Fugue_Warp/mapflow/_Fugue_Warp0/DWIS_dti-scheme_SNR-30_000_warped.nii.gz /home/oesteban/workspace/ACWE-Reg/temp/DigitalPhantomISBI/SynthSuscept_SNR-30/Fugue_WarpDWIs/Fugue_Warp/mapflow/_Fugue_Warp1/DWIS_dti-scheme_SNR-30_001_warped.nii.gz /home/oesteban/workspace/ACWE-Reg/temp/DigitalPhantomISBI/SynthSuscept_SNR-30/Fugue_WarpDWIs/Fugue_Warp/mapflow/_Fugue_Warp2/DWIS_dti-scheme_SNR-30_002_warped.nii.gz /home/oesteban/workspace/ACWE-Reg/temp/DigitalPhantomISBI/SynthSuscept_SNR-30/Fugue_WarpDWIs/Fugue_Warp/mapflow/_Fugue_Warp3/DWIS_dti-scheme_SNR-30_003_warped.nii.gz /home/oesteban/workspace/ACWE-Reg/temp/DigitalPhantomISBI/SynthSuscept_SNR-30/Fugue_WarpDWIs/Fugue_Warp/mapflow/_Fugue_Warp4/DWIS_dti-scheme_SNR-30_004_warped.nii.gz /home/oesteban/workspace/ACWE-Reg/temp/DigitalPhantomISBI/SynthSuscept_SNR-30/Fugue_WarpDWIs/Fugue_Warp/mapflow/_Fugue_Warp5/DWIS_dti-scheme_SNR-30_005_warped.nii.gz /home/oesteban/workspace/ACWE-Reg/temp/DigitalPhantomISBI/SynthSuscept_SNR-30/Fugue_WarpDWIs/Fugue_Warp/mapflow/_Fugue_Warp6/DWIS_dti-scheme_SNR-30_006_warped.nii.gz /home/oesteban/workspace/ACWE-Reg/temp/DigitalPhantomISBI/SynthSuscept_SNR-30/Fugue_WarpDWIs/Fugue_Warp/mapflow/_Fugue_Warp7/DWIS_dti-scheme_SNR-30_007_warped.nii.gz /home/oesteban/workspace/ACWE-Reg/temp/DigitalPhantomISBI/SynthSuscept_SNR-30/Fugue_WarpDWIs/Fugue_Warp/mapflow/_Fugue_Warp8/DWIS_dti-scheme_SNR-30_008_warped.nii.gz /home/oesteban/workspace/ACWE-Reg/temp/DigitalPhantomISBI/SynthSuscept_SNR-30/Fugue_WarpDWIs/Fugue_Warp/mapflow/_Fugue_Warp9/DWIS_dti-scheme_SNR-30_009_warped.nii.gz /home/oesteban/workspace/ACWE-Reg/temp/DigitalPhantomISBI/SynthSuscept_SNR-30/Fugue_WarpDWIs/Fugue_Warp/mapflow/_Fugue_Warp10/DWIS_dti-scheme_SNR-30_010_warped.nii.gz /home/oesteban/workspace/ACWE-Reg/temp/DigitalPhantomISBI/SynthSuscept_SNR-30/Fugue_WarpDWIs/Fugue_Warp/mapflow/_Fugue_Warp11/DWIS_dti-scheme_SNR-30_011_warped.nii.gz /home/oesteban/workspace/ACWE-Reg/temp/DigitalPhantomISBI/SynthSuscept_SNR-30/Fugue_WarpDWIs/Fugue_Warp/mapflow/_Fugue_Warp12/DWIS_dti-scheme_SNR-30_012_warped.nii.gz /home/oesteban/workspace/ACWE-Reg/temp/DigitalPhantomISBI/SynthSuscept_SNR-30/Fugue_WarpDWIs/Fugue_Warp/mapflow/_Fugue_Warp13/DWIS_dti-scheme_SNR-30_013_warped.nii.gz /home/oesteban/workspace/ACWE-Reg/temp/DigitalPhantomISBI/SynthSuscept_SNR-30/Fugue_WarpDWIs/Fugue_Warp/mapflow/_Fugue_Warp14/DWIS_dti-scheme_SNR-30_014_warped.nii.gz /home/oesteban/workspace/ACWE-Reg/temp/DigitalPhantomISBI/SynthSuscept_SNR-30/Fugue_WarpDWIs/Fugue_Warp/mapflow/_Fugue_Warp15/DWIS_dti-scheme_SNR-30_015_warped.nii.gz /home/oesteban/workspace/ACWE-Reg/temp/DigitalPhantomISBI/SynthSuscept_SNR-30/Fugue_WarpDWIs/Fugue_Warp/mapflow/_Fugue_Warp16/DWIS_dti-scheme_SNR-30_016_warped.nii.gz /home/oesteban/workspace/ACWE-Reg/temp/DigitalPhantomISBI/SynthSuscept_SNR-30/Fugue_WarpDWIs/Fugue_Warp/mapflow/_Fugue_Warp17/DWIS_dti-scheme_SNR-30_017_warped.nii.gz /home/oesteban/workspace/ACWE-Reg/temp/DigitalPhantomISBI/SynthSuscept_SNR-30/Fugue_WarpDWIs/Fugue_Warp/mapflow/_Fugue_Warp18/DWIS_dti-scheme_SNR-30_018_warped.nii.gz /home/oesteban/workspace/ACWE-Reg/temp/DigitalPhantomISBI/SynthSuscept_SNR-30/Fugue_WarpDWIs/Fugue_Warp/mapflow/_Fugue_Warp19/DWIS_dti-scheme_SNR-30_019_warped.nii.gz /home/oesteban/workspace/ACWE-Reg/temp/DigitalPhantomISBI/SynthSuscept_SNR-30/Fugue_WarpDWIs/Fugue_Warp/mapflow/_Fugue_Warp20/DWIS_dti-scheme_SNR-30_020_warped.nii.gz /home/oesteban/workspace/ACWE-Reg/temp/DigitalPhantomISBI/SynthSuscept_SNR-30/Fugue_WarpDWIs/Fugue_Warp/mapflow/_Fugue_Warp21/DWIS_dti-scheme_SNR-30_021_warped.nii.gz /home/oesteban/workspace/ACWE-Reg/temp/DigitalPhantomISBI/SynthSuscept_SNR-30/Fugue_WarpDWIs/Fugue_Warp/mapflow/_Fugue_Warp22/DWIS_dti-scheme_SNR-30_022_warped.nii.gz /home/oesteban/workspace/ACWE-Reg/temp/DigitalPhantomISBI/SynthSuscept_SNR-30/Fugue_WarpDWIs/Fugue_Warp/mapflow/_Fugue_Warp23/DWIS_dti-scheme_SNR-30_023_warped.nii.gz /home/oesteban/workspace/ACWE-Reg/temp/DigitalPhantomISBI/SynthSuscept_SNR-30/Fugue_WarpDWIs/Fugue_Warp/mapflow/_Fugue_Warp24/DWIS_dti-scheme_SNR-30_024_warped.nii.gz /home/oesteban/workspace/ACWE-Reg/temp/DigitalPhantomISBI/SynthSuscept_SNR-30/Fugue_WarpDWIs/Fugue_Warp/mapflow/_Fugue_Warp25/DWIS_dti-scheme_SNR-30_025_warped.nii.gz /home/oesteban/workspace/ACWE-Reg/temp/DigitalPhantomISBI/SynthSuscept_SNR-30/Fugue_WarpDWIs/Fugue_Warp/mapflow/_Fugue_Warp26/DWIS_dti-scheme_SNR-30_026_warped.nii.gz /home/oesteban/workspace/ACWE-Reg/temp/DigitalPhantomISBI/SynthSuscept_SNR-30/Fugue_WarpDWIs/Fugue_Warp/mapflow/_Fugue_Warp27/DWIS_dti-scheme_SNR-30_027_warped.nii.gz /home/oesteban/workspace/ACWE-Reg/temp/DigitalPhantomISBI/SynthSuscept_SNR-30/Fugue_WarpDWIs/Fugue_Warp/mapflow/_Fugue_Warp28/DWIS_dti-scheme_SNR-30_028_warped.nii.gz /home/oesteban/workspace/ACWE-Reg/temp/DigitalPhantomISBI/SynthSuscept_SNR-30/Fugue_WarpDWIs/Fugue_Warp/mapflow/_Fugue_Warp29/DWIS_dti-scheme_SNR-30_029_warped.nii.gz /home/oesteban/workspace/ACWE-Reg/temp/DigitalPhantomISBI/SynthSuscept_SNR-30/Fugue_WarpDWIs/Fugue_Warp/mapflow/_Fugue_Warp30/DWIS_dti-scheme_SNR-30_030_warped.nii.gz /home/oesteban/workspace/ACWE-Reg/temp/DigitalPhantomISBI/SynthSuscept_SNR-30/Fugue_WarpDWIs/Fugue_Warp/mapflow/_Fugue_Warp31/DWIS_dti-scheme_SNR-30_031_warped.nii.gz /home/oesteban/workspace/ACWE-Reg/temp/DigitalPhantomISBI/SynthSuscept_SNR-30/Fugue_WarpDWIs/Fugue_Warp/mapflow/_Fugue_Warp32/DWIS_dti-scheme_SNR-30_032_warped.nii.gz\n"
       ]
      },
      {
       "output_type": "stream",
       "stream": "stderr",
       "text": [
        "/home/oesteban/workspace/nipype/nipype/interfaces/fsl/preprocess.py:1285: UserWarning: This interface has not been fully tested. Please report any failures.\n",
        "  'This interface has not been fully tested. Please report any failures.')\n",
        "/home/oesteban/workspace/nipype/nipype/interfaces/fsl/preprocess.py:1285: UserWarning: This interface has not been fully tested. Please report any failures.\n",
        "  'This interface has not been fully tested. Please report any failures.')\n"
       ]
      }
     ],
     "prompt_number": 8
    },
    {
     "cell_type": "markdown",
     "metadata": {},
     "source": [
      "<h2>DTI Fitting</h2>"
     ]
    },
    {
     "cell_type": "code",
     "collapsed": false,
     "input": [
      "import nipype.interfaces.base as base        # base pipeline interface (e.g. command line execution)\n",
      "import nipype.interfaces.io as nio           # Data i/o\n",
      "import nipype.interfaces.utility as util     # utility\n",
      "import nipype.algorithms.misc as misc\n",
      "import nipype.pipeline.engine as pe          # pypeline engine\n",
      "import nipype.interfaces.fsl as fsl          # fsl\n",
      "import nipype.interfaces.freesurfer as fs    # freesurfer\n",
      "import nipype.interfaces.diffusion_toolkit as dtk\n",
      "import nipype.interfaces.mrtrix as mrtrix   #<---- The important new part!\n",
      "import nipype.interfaces.camino as camino\n",
      "\n",
      "fsl.FSLCommand.set_default_output_type('NIFTI_GZ')"
     ],
     "language": "python",
     "metadata": {},
     "outputs": []
    },
    {
     "cell_type": "code",
     "collapsed": false,
     "input": [
      "base_dir = os.path.abspath( os.path.abspath( 'Model1' ) )\n",
      "pipeline = pe.Workflow(name=\"Model_Process\", base_dir = base_dir)\n",
      "\n",
      "fsmask = pe.Node(interface=fs.ApplyMask(), name='MaskRawData' )\n",
      "fsmask.inputs.in_file = os.path.abspath( os.path.join( 'Model1', 'deformed2_signal.nii.gz' ))\n",
      "fsmask.inputs.mask_file = os.path.abspath( os.path.join( 'Model1', 'deformed2_mask.nii.gz' ))\n",
      "\n",
      "datasink = pe.Node(nio.DataSink(base_directory=base_dir,parameterization=False), name='sinker')\n",
      "datasink.container = 'deformed'\n",
      "\n",
      "dtifit = pe.Node( interface=fsl.DTIFit(output_type='NIFTI_GZ'), name='TensorFitting' )\n",
      "dtifit.inputs.bvecs = os.path.abspath( os.path.join( 'Model1', 'signal.bvec' ) )\n",
      "dtifit.inputs.bvals = os.path.abspath( os.path.join( 'Model1', 'signal.bval' ) )\n",
      "dtifit.inputs.mask = os.path.abspath( os.path.join( 'Model1', 'deformed_mask.nii.gz' ) )\n",
      "dtifit.inputs.dwi = os.path.abspath( os.path.join( 'Model1', 'deformed_signal.nii.gz' ) )\n",
      "\n",
      "# connect nodes\n",
      "pipeline.connect([\n",
      "                        (dtifit,datasink, [( 'FA','@FA'), ('MD','@ADC') ] )\n",
      "                      ])"
     ],
     "language": "python",
     "metadata": {},
     "outputs": []
    },
    {
     "cell_type": "code",
     "collapsed": true,
     "input": [
      "pipeline.run()"
     ],
     "language": "python",
     "metadata": {},
     "outputs": []
    },
    {
     "cell_type": "code",
     "collapsed": false,
     "input": [],
     "language": "python",
     "metadata": {},
     "outputs": []
    }
   ],
   "metadata": {}
  }
 ]
}