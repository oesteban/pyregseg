{
 "metadata": {
  "name": "TransformSurface"
 },
 "nbformat": 3,
 "nbformat_minor": 0,
 "worksheets": [
  {
   "cells": [
    {
     "cell_type": "code",
     "collapsed": false,
     "input": [
      "import numpy as np\n",
      "import nibabel as nib\n",
      "from tvtk.api import tvtk\n",
      "import datetime as dt\n",
      "import os"
     ],
     "language": "python",
     "metadata": {},
     "outputs": [],
     "prompt_number": 2
    },
    {
     "cell_type": "code",
     "collapsed": false,
     "input": [
      "def vtk2fsa( vtk, fname, origin=(0.0,0.0,0.0) ):\n",
      "    ncells = vtk.polys.number_of_cells\n",
      "    npoints = len( vtk.points )\n",
      "    nvalues = len( vtk.polys.data )\n",
      "    cells = np.reshape( vtk.polys.data, ( ncells, int(nvalues/ncells) ) )\n",
      "    now = dt.datetime.now()\n",
      "    points = vtk.points + np.array(origin)\n",
      "\n",
      "    if os.path.exists( fname ):\n",
      "        os.remove( fname )\n",
      "\n",
      "    try:\n",
      "        with open(fname, 'a+') as f:\n",
      "            f.write( '#!ascii freesurfer mesh generated from vtk - %s, generated on %s\\n' % (os.path.basename(fname),now.strftime(\"%Y-%m-%d %H:%M\"))) # Write header\n",
      "            f.write( '%d %d\\n' % ( npoints, ncells ) ) # Write number of vertices and number of faces\n",
      "            \n",
      "            for row in points:\n",
      "                f.write( '%.6f %.6f %.6f 0\\n' % tuple(row) )\n",
      "    \n",
      "            for row in cells:\n",
      "                f.write( '%d %d %d 0\\n' % tuple( row[1:] ) )\n",
      "    except Exception as err:\n",
      "        print err\n",
      "        return 0\n",
      "\n",
      "    return 1"
     ],
     "language": "python",
     "metadata": {},
     "outputs": [],
     "prompt_number": 3
    },
    {
     "cell_type": "code",
     "collapsed": false,
     "input": [
      "bfname =  \"DTI_b0_brain.nii.gz\"\n",
      "mrfname =  \"img/T1.nii\"\n",
      "\n",
      "reg = np.genfromtxt('bbreg/dti2t1.dat',skiprows=4,comments='r')\n",
      "dti_ras2vox = np.loadtxt('matrices/dti_ras2vox.tfm')\n",
      "t1_vox2ras = np.loadtxt('matrices/t1_vox2ras.tfm' )\n",
      "dti_vox2ras = np.loadtxt('matrices/dti_vox2ras.tfm')\n",
      "t1_ras2vox = np.loadtxt('matrices/t1_ras2vox.tfm' )\n",
      "t1_ras2vox_tkr = np.loadtxt('matrices/t1_ras2vox_tkr.tfm' )\n",
      "\n",
      "dti_vox2ras_tkr = np.loadtxt('matrices/dti_vox2ras_tkr.tfm')\n",
      "dti_ras2vox_tkr = np.loadtxt('matrices/dti_ras2vox_tkr.tfm')"
     ],
     "language": "python",
     "metadata": {},
     "outputs": [],
     "prompt_number": 4
    },
    {
     "cell_type": "code",
     "collapsed": false,
     "input": [
      "from nipy.algorithms.resample import resample\n",
      "from nipy import load_image\n",
      "from nipy import save_image\n",
      "from nipy.core.api import Image\n",
      "\n",
      "mr = load_image( mrfname )\n",
      "b0 = load_image( bfname )\n",
      "\n",
      "b0_to_tkr = np.dot( dti_vox2ras_tkr, np.linalg.inv( nib.load( bfname ).get_affine() ) )\n",
      "tkr_to_t1 = np.dot( nib.load(mrfname).get_affine(), t1_ras2vox_tkr )\n",
      "xfm = np.dot( tkr_to_t1, np.dot( np.linalg.inv(reg), b0_to_tkr ) )"
     ],
     "language": "python",
     "metadata": {},
     "outputs": [],
     "prompt_number": 5
    },
    {
     "cell_type": "code",
     "collapsed": false,
     "input": [
      "#result = resample( b0, mr.coordmap, xfm, np.shape(mr.get_data()) )\n",
      "result = resample( mr, b0.coordmap, np.linalg.inv( xfm ) , np.shape(b0.get_data()) )\n",
      "d = save_image( result, 'result.nii.gz' )"
     ],
     "language": "python",
     "metadata": {},
     "outputs": [
      {
       "output_type": "stream",
       "stream": "stderr",
       "text": [
        "/usr/local/lib/python2.7/dist-packages/nipy/io/files.py:137: FutureWarning: Default `strict` currently False; this will change to True in a future version of nipy\n",
        "  ni_img = nipy2nifti(img, data_dtype = io_dtype)\n"
       ]
      }
     ],
     "prompt_number": 6
    },
    {
     "cell_type": "code",
     "collapsed": false,
     "input": [
      "reader = tvtk.PolyDataReader( file_name='surf/test.rh.white_tmp.vtk' )\n",
      "vtk = reader.output\n",
      "reader.update()"
     ],
     "language": "python",
     "metadata": {},
     "outputs": [],
     "prompt_number": 13
    },
    {
     "cell_type": "code",
     "collapsed": false,
     "input": [
      "ac = nib.load( mrfname ).get_affine() # this is the same as t1_vox2ras\n",
      "xfm = np.dot(ac, np.linalg.inv(t1_ras2vox_tkr))"
     ],
     "language": "python",
     "metadata": {},
     "outputs": [],
     "prompt_number": 14
    },
    {
     "cell_type": "code",
     "collapsed": false,
     "input": [
      "M = xfm[0:3,0:3]\n",
      "O = xfm[0:3,3]\n",
      "\n",
      "for i,point in enumerate(vtk.points):\n",
      "    vtk.points[i] = np.dot( M, point ) + O\n",
      "\n",
      "writer = tvtk.PolyDataWriter( file_name='surf/rh.white.pyt1.vtk', input=vtk )\n",
      "writer.update()"
     ],
     "language": "python",
     "metadata": {},
     "outputs": [],
     "prompt_number": 17
    },
    {
     "cell_type": "code",
     "collapsed": false,
     "input": [
      "ac = nib.load( bfname ).get_affine() # this is the same as dti_vox2ras\n",
      "tkr_to_b0 = np.dot( np.linalg.inv(dti_ras2vox_tkr), ac )\n",
      "xfm = np.dot( reg, tkr_to_b0 )"
     ],
     "language": "python",
     "metadata": {},
     "outputs": [],
     "prompt_number": 92
    },
    {
     "cell_type": "code",
     "collapsed": false,
     "input": [
      "reader = tvtk.PolyDataReader( file_name='surf/lh.white.vtk' )\n",
      "vtk = reader.output\n",
      "reader.update()"
     ],
     "language": "python",
     "metadata": {},
     "outputs": [],
     "prompt_number": 93
    },
    {
     "cell_type": "code",
     "collapsed": false,
     "input": [
      "M = xfm[0:3,0:3]\n",
      "O = xfm[0:3,3]\n",
      "\n",
      "for i,point in enumerate(vtk.points):\n",
      "    vtk.points[i] = np.dot( M, point ) + O\n",
      "\n",
      "writer = tvtk.XMLPolyDataWriter( file_name='surf/lh.white.pydti.vtp', input=vtk )\n",
      "writer.update()"
     ],
     "language": "python",
     "metadata": {},
     "outputs": [],
     "prompt_number": 94
    },
    {
     "cell_type": "code",
     "collapsed": false,
     "input": [],
     "language": "python",
     "metadata": {},
     "outputs": []
    }
   ],
   "metadata": {}
  }
 ]
}