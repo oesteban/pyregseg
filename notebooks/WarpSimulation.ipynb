{
 "metadata": {
  "name": "WarpSimulation"
 },
 "nbformat": 3,
 "nbformat_minor": 0,
 "worksheets": [
  {
   "cells": [
    {
     "cell_type": "markdown",
     "metadata": {},
     "source": [
      "<h1>Distortion of dMRI using the inverse fieldmap technique</h1>\n",
      "Procedure:\n",
      "<ol>\n",
      "    <li>Create map with range [0..2&pi;]</li>\n",
      "    <li>Phase unwrap (prelude)</li>\n",
      "    <li>Convert to rad/sec</li>\n",
      "    <li>Subtract median</li>\n",
      "    <li>Create VSM (voxel shift map)</li>\n",
      "    <li>(Optional) Smooth VSM</li>\n",
      "    <li>(Optional) demean VSM</li>\n",
      "    <li>Distort image (apply forward map in fugue)</li>\n",
      "</ol>"
     ]
    },
    {
     "cell_type": "code",
     "collapsed": false,
     "input": [
      "import os.path as op\n",
      "import os"
     ],
     "language": "python",
     "metadata": {},
     "outputs": []
    },
    {
     "cell_type": "code",
     "collapsed": false,
     "input": [
      "root_dir='/home/oesteban/workspace/ACWE-Reg/'\n",
      "data_dir= op.join( root_dir, 'Data' )\n",
      "mname = 'DigitalPhantomISBI'\n",
      "model_dir = op.join( data_dir, mname )\n",
      "working_dir= op.join( root_dir, 'temp', mname )\n",
      "\n",
      "if not op.exists( working_dir ):\n",
      "    os.makedirs( working_dir )"
     ],
     "language": "python",
     "metadata": {},
     "outputs": []
    },
    {
     "cell_type": "code",
     "collapsed": false,
     "input": [
      "import nipype.pipeline.engine as pe\n",
      "import nipype.interfaces.utility as niu\n",
      "import nipype.interfaces.fsl as fsl"
     ],
     "language": "python",
     "metadata": {},
     "outputs": []
    },
    {
     "cell_type": "code",
     "collapsed": false,
     "input": [
      "def generate_phmap( in_file, out_file=None ):\n",
      "    import nibabel as nib\n",
      "    from scipy.ndimage import binary_erosion\n",
      "    from scipy.ndimage.filters import gaussian_filter\n",
      "    import numpy as np\n",
      "    import os.path as op\n",
      "    import math\n",
      "\n",
      "    msk = nib.load( in_file )\n",
      "    mskdata = msk.get_data()\n",
      "    imshape = msk.get_shape()\n",
      "    boundary = binary_erosion( mskdata ).astype(np.dtype('u1'))\n",
      "    boundary = (( mskdata - boundary )).astype(float)\n",
      "\n",
      "    slice1 = np.zeros( shape=imshape )\n",
      "    slice1[int(0.4*imshape[1]):int(0.6*imshape[1]),0:int(0.6*imshape[0]),int(0.65*imshape[2])]  = 1\n",
      "\n",
      "    slice2 = np.zeros( shape=imshape )\n",
      "    slice2[int(0.4*imshape[1]):int(0.6*imshape[1]),0:int(0.6*imshape[0]),int(0.35*imshape[2])]  = -0.7\n",
      "    distortionfront = boundary * ( slice1 + slice2 )\n",
      "\n",
      "    phasefield = gaussian_filter( distortionfront, sigma=5 )\n",
      "\n",
      "    maxval = np.amax(phasefield)\n",
      "    minval = np.amin(phasefield)\n",
      "\n",
      "    phasefield = np.pi * (((phasefield + math.fabs(minval) ) / (maxval-minval)*2) - 1)\n",
      "    phasefield = phasefield * 0.0001\n",
      "    \n",
      "    if out_file is None:\n",
      "        fname, fext = op.splitext(op.basename(in_file))\n",
      "        if fext == '.gz':\n",
      "            fname, _ = op.splitext(fname)\n",
      "        out_file = op.abspath('./%s_ph_unwrap_rads.nii.gz' % fname)\n",
      "\n",
      "    nib.save( nib.Nifti1Image( phasefield, msk.get_affine(), msk.get_header() ), out_file )\n",
      "    \n",
      "    return out_file\n",
      "    \n",
      "def rad2radsec( in_file, te_incr=2.46e-3, out_file=None ):\n",
      "    import nibabel as nib\n",
      "    import numpy as np\n",
      "    import os.path as op\n",
      "    \n",
      "    im = nib.load( in_file )\n",
      "    data = im.get_data()\n",
      "    data = data / ( te_incr )\n",
      "    mval = np.median( data.reshape(-1) )\n",
      "    data1 = data - mval\n",
      "    data2 = np.zeros( shape=im.get_shape() )\n",
      "    data = np.rollaxis ( np.array( [ data1, data2 ] ), 0, 4)    \n",
      "    hdr = im.get_header()\n",
      "    hdr['dim'][0]=4\n",
      "    hdr['dim'][4]=2\n",
      "    \n",
      "    if out_file is None:\n",
      "        fname, fext = op.splitext(op.basename(in_file))\n",
      "        if fext == '.gz':\n",
      "            fname, _ = op.splitext(fname)\n",
      "        out_file = op.abspath('./%s_ph_unwrap_radsec.nii.gz' % fname)\n",
      "        \n",
      "    nib.save( nib.Nifti1Image( data, im.get_affine(), hdr ), out_file )\n",
      "    \n",
      "    return out_file\n",
      "\n",
      "def _split_dwi(in_file):\n",
      "    import nibabel as nib\n",
      "    import os.path as op\n",
      "    out_files = []\n",
      "    frames = nib.funcs.four_to_three(nib.load(in_file))\n",
      "    name, fext = op.splitext(op.basename(in_file))\n",
      "    if fext == '.gz':\n",
      "        name, _ = op.splitext(name)\n",
      "    for i, frame in enumerate(frames):\n",
      "        out_file = op.abspath('./%s_%03d.nii.gz' % (name, i))\n",
      "        nib.save(frame, out_file)\n",
      "        out_files.append(out_file)\n",
      "    return out_files\n",
      "\n",
      "def genmask(in_file, out_file=None):\n",
      "    import numpy as np\n",
      "    import nibabel as nib\n",
      "    import os.path as op\n",
      "    \n",
      "    im = nib.load(in_file)\n",
      "    \n",
      "    data = np.ones( shape=im.get_shape() )\n",
      "    \n",
      "    if out_file is None:\n",
      "        fname, fext = op.splitext(op.basename(in_file))\n",
      "        if fext == '.gz':\n",
      "            fname, _ = op.splitext(fname)\n",
      "        out_file = op.abspath('./%s_mask.nii.gz' % fname)\n",
      "        \n",
      "    nib.save( nib.Nifti1Image( data, im.get_affine(), im.get_header() ), out_file )\n",
      "    \n",
      "    return out_file"
     ],
     "language": "python",
     "metadata": {},
     "outputs": []
    },
    {
     "cell_type": "code",
     "collapsed": false,
     "input": [
      "def distortion_workflow(name=\"synthetic_susceptibility\"):\n",
      "    pipeline = pe.Workflow(name=name)\n",
      "    \n",
      "    inputnode = pe.Node(interface=niu.IdentityInterface(fields=['in_file', 'in_mask', 'te_incr', 'echospacing' ]), name='inputnode' )\n",
      "    \n",
      "    phmap = pe.Node( niu.Function(input_names=['in_file'],output_names=['out_file'], function=generate_phmap ), name='phmapgen' )\n",
      "    maskgen = pe.Node( niu.Function(input_names=['in_file'],output_names=['out_file'], function=genmask ), name='maskgen' )\n",
      "    prelude = pe.Node(fsl.PRELUDE(process3d=True), name='phase_unwrap')\n",
      "    prepare = pe.Node(niu.Function(input_names=['in_file','te_incr'], output_names=['out_file'], function=rad2radsec ), name='phase_radsec' )\n",
      "    vsm = pe.Node(interface=fsl.FUGUE(save_shift=True), name=\"generate_vsm\")\n",
      "    \n",
      "    dwi_split = pe.Node(interface=niu.Function(input_names=['in_file'], output_names=['out_files'], function=_split_dwi), name='dwi_split')\n",
      "    vsm_fwd = pe.MapNode(interface=fsl.FUGUE(forward_warping=True), iterfield=['in_file'], name='fugue_fwd')\n",
      "    dwi_merge = pe.Node(interface=fsl.utils.Merge(dimension='t'), name='dwi_merge')\n",
      "\n",
      "    outputnode = pe.Node(interface=niu.IdentityInterface(fields=['out_file', 'out_vsm' ]), name='outputnode' )\n",
      "    \n",
      "    \n",
      "    pipeline.connect([\n",
      "                       (inputnode,      phmap, [('in_mask', 'in_file')] )\n",
      "                      ,(inputnode,    maskgen, [('in_mask', 'in_file')] )\n",
      "                      ,(inputnode,    prelude, [('in_mask','magnitude_file')] )\n",
      "                      ,(phmap,        prelude, [('out_file', 'phase_file')] )\n",
      "                      ,(prelude,      prepare, [('unwrapped_phase_file','in_file')])\n",
      "                      ,(inputnode,    prepare, [('te_incr','te_incr')])\n",
      "                      ,(maskgen,          vsm, [('out_file','mask_file')])\n",
      "                      ,(prepare,          vsm, [('out_file','phasemap_file')])\n",
      "                      ,(inputnode,        vsm, [('in_mask','in_file'),('te_incr','asym_se_time'),('echospacing','dwell_time')])\n",
      "                      ,(vsm,          vsm_fwd, [('shift_out_file', 'shift_in_file')])\n",
      "                      ,(inputnode,  dwi_split, [('in_file', 'in_file')])\n",
      "                      ,(dwi_split,    vsm_fwd, [('out_files', 'in_file')])\n",
      "                      ,(maskgen,      vsm_fwd, [('out_file', 'mask_file')])\n",
      "                      ,(vsm_fwd,    dwi_merge, [('warped_file', 'in_files')])\n",
      "                      ,(dwi_merge, outputnode, [('merged_file', 'out_file')])\n",
      "                      ,(vsm,       outputnode, [('shift_out_file', 'out_vsm')])\n",
      "                    ])\n",
      "    \n",
      "    return pipeline"
     ],
     "language": "python",
     "metadata": {},
     "outputs": []
    },
    {
     "cell_type": "code",
     "collapsed": false,
     "input": [
      "te_incr = 2.46e-3 # secs\n",
      "dwell_time = 0.77e-3 # secs\n",
      "maskfile = op.join( model_dir, 'signal_mask.nii.gz' )\n",
      "phmapfile = op.join( working_dir, 'signal_ph_unwrap_rads.nii.gz' )\n",
      "dwifile = op.join( model_dir, 'signal.nii.gz' )\n",
      "\n",
      "wf = distortion_workflow()\n",
      "wf.base_dir = working_dir\n",
      "\n",
      "wf.inputs.inputnode.in_file = dwifile\n",
      "wf.inputs.inputnode.in_mask = maskfile\n",
      "wf.inputs.inputnode.te_incr = te_incr\n",
      "wf.inputs.inputnode.echospacing = dwell_time\n",
      "\n",
      "wf.run()"
     ],
     "language": "python",
     "metadata": {},
     "outputs": []
    },
    {
     "cell_type": "markdown",
     "metadata": {},
     "source": [
      "<h2>Deformation field generation</h2>"
     ]
    },
    {
     "cell_type": "code",
     "collapsed": false,
     "input": [
      "from scipy.interpolate import griddata\n",
      "from scipy.ndimage.interpolation import map_coordinates\n",
      "from scipy.ndimage.filters import gaussian_filter\n",
      "import nibabel as nib\n",
      "import numpy as np\n",
      "import os\n",
      "import matplotlib.pyplot as plt"
     ],
     "language": "python",
     "metadata": {},
     "outputs": []
    },
    {
     "cell_type": "code",
     "collapsed": false,
     "input": [
      "msk = nib.load('Model1/signal_mask.nii.gz')\n",
      "img = nib.load('Model1/signal_b0_merged.nii.gz')\n",
      "datashape = msk.get_shape()\n",
      "x,y,z = np.mgrid[0:datashape[0],0:datashape[1], 0:datashape[2] ]"
     ],
     "language": "python",
     "metadata": {},
     "outputs": []
    },
    {
     "cell_type": "code",
     "collapsed": false,
     "input": [
      "points = np.concatenate( ([ (33,33,33), (33,66,33), (33,43,33),(33,53,33) ],np.random.randint( 0, 101, size=(100,3) ) ))\n",
      "values = np.zeros( shape=np.shape(points) )\n",
      "values[0:4]=[ (0, -10, 0), (0, -11, 0), (0, 6, 0), (0, 2, 0) ]\n",
      "\n",
      "field = griddata(points, values, (x,y,z), method='linear', fill_value=0)\n",
      "field[:,:,:,1] = gaussian_filter( field[:,:,:,1], sigma=5 )"
     ],
     "language": "python",
     "metadata": {},
     "outputs": []
    },
    {
     "cell_type": "code",
     "collapsed": false,
     "input": [
      "extent=[0,datashape[0],0,datashape[1]]\n",
      "plt.imshow( field[30,:,:,1], extent=extent )\n",
      "plt.colorbar()"
     ],
     "language": "python",
     "metadata": {},
     "outputs": []
    },
    {
     "cell_type": "code",
     "collapsed": false,
     "input": [
      "nii = nib.Nifti1Image( field, np.identity(4), img.get_header() )\n",
      "nib.save( nii, 'Model1/deformed2_field.nii.gz' )"
     ],
     "language": "python",
     "metadata": {},
     "outputs": []
    },
    {
     "cell_type": "code",
     "collapsed": false,
     "input": [
      "field = nib.load('Model1/deformed2_field.nii.gz').get_data()"
     ],
     "language": "python",
     "metadata": {},
     "outputs": []
    },
    {
     "cell_type": "code",
     "collapsed": false,
     "input": [
      "img_data = img.get_data()\n",
      "grid_points =  np.array( (x,y,z)).T\n",
      "new_positions = ( grid_points - field ).reshape(-1,3).T\n",
      "new_img = np.array( [ map_coordinates( img_data[:,:,:,i], new_positions ).reshape( datashape ) for i in range(0, img_data.shape[-1] ) ] )\n",
      "new_img[new_img<0.0] = 0.0\n",
      "niiHS = nib.Nifti1Image( new_img.T, img.get_affine(), img.get_header() )\n",
      "nib.save( niiHS, 'Model1/deformed2_signal.nii.gz' )"
     ],
     "language": "python",
     "metadata": {},
     "outputs": []
    },
    {
     "cell_type": "code",
     "collapsed": false,
     "input": [
      "msk_data = msk.get_data()\n",
      "new_mask = map_coordinates( msk_data, new_positions ).reshape( datashape )\n",
      "new_mask[new_mask<=0.5] = 0.0\n",
      "new_mask[new_mask>0.0] = 1.0\n",
      "niiHS = nib.Nifti1Image( new_mask, msk.get_affine(), msk.get_header() )\n",
      "nib.save( niiHS, 'Model1/deformed2_mask.nii.gz' )"
     ],
     "language": "python",
     "metadata": {},
     "outputs": []
    },
    {
     "cell_type": "markdown",
     "metadata": {},
     "source": [
      "<h2>DTI Fitting</h2>"
     ]
    },
    {
     "cell_type": "code",
     "collapsed": false,
     "input": [
      "import nipype.interfaces.base as base        # base pipeline interface (e.g. command line execution)\n",
      "import nipype.interfaces.io as nio           # Data i/o\n",
      "import nipype.interfaces.utility as util     # utility\n",
      "import nipype.algorithms.misc as misc\n",
      "import nipype.pipeline.engine as pe          # pypeline engine\n",
      "import nipype.interfaces.fsl as fsl          # fsl\n",
      "import nipype.interfaces.freesurfer as fs    # freesurfer\n",
      "import nipype.interfaces.diffusion_toolkit as dtk\n",
      "import nipype.interfaces.mrtrix as mrtrix   #<---- The important new part!\n",
      "import nipype.interfaces.camino as camino\n",
      "\n",
      "fsl.FSLCommand.set_default_output_type('NIFTI_GZ')"
     ],
     "language": "python",
     "metadata": {},
     "outputs": []
    },
    {
     "cell_type": "code",
     "collapsed": false,
     "input": [
      "base_dir = os.path.abspath( os.path.abspath( 'Model1' ) )\n",
      "pipeline = pe.Workflow(name=\"Model_Process\", base_dir = base_dir)\n",
      "\n",
      "fsmask = pe.Node(interface=fs.ApplyMask(), name='MaskRawData' )\n",
      "fsmask.inputs.in_file = os.path.abspath( os.path.join( 'Model1', 'deformed2_signal.nii.gz' ))\n",
      "fsmask.inputs.mask_file = os.path.abspath( os.path.join( 'Model1', 'deformed2_mask.nii.gz' ))\n",
      "\n",
      "datasink = pe.Node(nio.DataSink(base_directory=base_dir,parameterization=False), name='sinker')\n",
      "datasink.container = 'deformed'\n",
      "\n",
      "dtifit = pe.Node( interface=fsl.DTIFit(output_type='NIFTI_GZ'), name='TensorFitting' )\n",
      "dtifit.inputs.bvecs = os.path.abspath( os.path.join( 'Model1', 'signal.bvec' ) )\n",
      "dtifit.inputs.bvals = os.path.abspath( os.path.join( 'Model1', 'signal.bval' ) )\n",
      "dtifit.inputs.mask = os.path.abspath( os.path.join( 'Model1', 'deformed_mask.nii.gz' ) )\n",
      "dtifit.inputs.dwi = os.path.abspath( os.path.join( 'Model1', 'deformed_signal.nii.gz' ) )\n",
      "\n",
      "# connect nodes\n",
      "pipeline.connect([\n",
      "                        (dtifit,datasink, [( 'FA','@FA'), ('MD','@ADC') ] )\n",
      "                      ])"
     ],
     "language": "python",
     "metadata": {},
     "outputs": []
    },
    {
     "cell_type": "code",
     "collapsed": true,
     "input": [
      "pipeline.run()"
     ],
     "language": "python",
     "metadata": {},
     "outputs": []
    },
    {
     "cell_type": "markdown",
     "metadata": {},
     "source": [
      "<h2>Model restoration</h2>"
     ]
    },
    {
     "cell_type": "code",
     "collapsed": false,
     "input": [
      "est_field = nib.load('../../Release/deformed2_fieldHD.nii.gz').get_data()\n",
      "est_field = est_field[:,:,:,0,:]\n",
      "plt.imshow( field[30,:,:,1] - est_field[30,:,:,1] )\n",
      "plt.colorbar()"
     ],
     "language": "python",
     "metadata": {},
     "outputs": []
    },
    {
     "cell_type": "code",
     "collapsed": false,
     "input": [
      "import math\n",
      "def get_phi( x, y ):\n",
      "    if x==0 and y==0:\n",
      "        return 0\n",
      "    elif x>=0:\n",
      "        return math.asin( y / math.sqrt( x**2 + y**2 ) )\n",
      "    else:\n",
      "        return -math.asin( y / math.sqrt( x**2 + y**2 ) ) + math.pi\n",
      "        \n",
      "vphi = np.vectorize( get_phi )"
     ],
     "language": "python",
     "metadata": {},
     "outputs": []
    },
    {
     "cell_type": "code",
     "collapsed": false,
     "input": [
      "from tvtk.api import tvtk\n",
      "import matplotlib.mlab as ml\n",
      "import nibabel as nib\n",
      "\n",
      "def plotSlice( sliceId, points1, points2, fa_data, extent ):\n",
      "    plt.imshow( fa_data[sliceId,:,:], extent=extent, cmap=cm.gray )\n",
      "    plt.xticks( [] )\n",
      "    plt.yticks( [] )\n",
      "    \n",
      "    cont1 = points1[ points1[:,1] == sliceId ]\n",
      "    o = (0.5*(fa_data.shape[0]-1),0.5*(fa_data.shape[2]-1))\n",
      "    phis = vphi( cont1[:,0]-o[0], cont1[:,2]-o[1])\n",
      "    res = np.take( cont1, np.argsort(phis), axis=0 )\n",
      "    plt.plot( res[:,0], res[:,2], linewidth=3 )\n",
      "    \n",
      "    if points2==None:\n",
      "        return\n",
      "    \n",
      "    cont2 = points2[ abs(points2[:,1] - sliceId)<0.5 ]\n",
      "    phis2 = vphi( cont2[:,0]-o[0], cont2[:,2]-o[1])\n",
      "    res2 = np.take( cont2, np.argsort(phis2), axis=0 )\n",
      "    plt.plot( res2[:,0], res2[:,2], linewidth=3, color='r' )"
     ],
     "language": "python",
     "metadata": {},
     "outputs": []
    },
    {
     "cell_type": "code",
     "collapsed": false,
     "input": [
      "fa = nib.load('Model1/deformed2_FA.nii.gz')\n",
      "fa_data = fa.get_data()\n",
      "fa_data = np.swapaxes( fa_data, 0, 1 )\n",
      "fa_data = np.swapaxes( fa_data, 1, 2 )\n",
      "extent=[0,fa_data.shape[0]-1,fa_data.shape[1]-1,0]\n",
      "\n",
      "#mesh = tvtk.PolyDataReader( file_name= 'Model1/wm_prior.vtk' )\n",
      "mesh = tvtk.PolyDataReader( file_name= '../../Release/deformed2-wm.vtk' )\n",
      "mesh.output.update()\n",
      "points1 = np.array( mesh.output.points )\n",
      "mesh2 = tvtk.PolyDataReader( file_name= '../../Release/deformed2-csf.vtk' )\n",
      "mesh2.output.update()\n",
      "points2 = np.array(mesh2.output.points)"
     ],
     "language": "python",
     "metadata": {},
     "outputs": []
    },
    {
     "cell_type": "code",
     "collapsed": false,
     "input": [
      "for i,sl in enumerate([ 25, 35, 45, 55, 65 ]):\n",
      "    plt.figure(figsize=(15,15) )\n",
      "    plotSlice( sl, points1, points2, fa_data, extent )\n",
      "    plt.savefig('../../Release/fig_contours_%02d.eps' % i, dpi=300, figsize=(15,15), bbox_inches='tight', pad_inches=0 )"
     ],
     "language": "python",
     "metadata": {},
     "outputs": []
    },
    {
     "cell_type": "code",
     "collapsed": false,
     "input": [
      "fa = nib.load('Model1/dtifit__FA.nii.gz')\n",
      "fa_data = fa.get_data()\n",
      "fa_data = np.swapaxes( fa_data, 0, 1 )\n",
      "fa_data = np.swapaxes( fa_data, 1, 2 )\n",
      "\n",
      "for i,sl in enumerate([ 25, 35, 45, 55, 65 ]):\n",
      "    plt.figure(figsize=(15,15) )\n",
      "    plotSlice( sl, points1, None, fa_data, extent )\n",
      "    plt.savefig('fig_modelFA_%02d.eps' % i, dpi=300, figsize=(15,15), bbox_inches='tight', pad_inches=0 )"
     ],
     "language": "python",
     "metadata": {},
     "outputs": []
    },
    {
     "cell_type": "code",
     "collapsed": false,
     "input": [
      "grid_points =  np.array( (x,y,z)).T\n",
      "new_positions = ( grid_points + est_field ).reshape(-1,3).T\n",
      "new_img = map_coordinates( fa_data, new_positions ).reshape( np.shape(fa_data) )\n",
      "new_img[new_img<0.0] = 0.0\n",
      "niiHS = nib.Nifti1Image( new_img.T, fa.get_affine(), fa.get_header() )\n",
      "nib.save( niiHS, 'Model1/restored_FA.nii.gz' )"
     ],
     "language": "python",
     "metadata": {},
     "outputs": []
    },
    {
     "cell_type": "code",
     "collapsed": false,
     "input": [
      "mesh.output.update()\n",
      "points = np.array( mesh.output.points )\n",
      "contour = points[ points[:,1] == sliceId ]\n",
      "\n",
      "\n",
      "#zb = np.array( cont1[:,1] )\n",
      "#xi = np.linspace(0, datashape[0]-1 )\n",
      "#yi = np.linspace(0, datashape[1]-1 )\n",
      "#zi = ml.griddata( cont1[:,0],cont1[:,2], zb, xi, yi)\n",
      "#plt.contour(xi, yi, zi, levels=[sliceId], linewidths=3 )\n",
      "#zb2 = np.array( points2[:,1])\n",
      "#zi2 = ml.griddata( points2[:,0],points2[:,2], zb2, xi, yi)\n",
      "#plt.contour(xi, yi, zi2, levels=[sliceId], colors='r', linewidths=3 )\n",
      "\n",
      "#plt.plot( contour2[:,0], contour2[:,2], 'o', color='r', markersize=2 )"
     ],
     "language": "python",
     "metadata": {},
     "outputs": []
    },
    {
     "cell_type": "code",
     "collapsed": false,
     "input": [],
     "language": "python",
     "metadata": {},
     "outputs": []
    }
   ],
   "metadata": {}
  }
 ]
}