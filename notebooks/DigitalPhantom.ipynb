{
 "metadata": {
  "name": "DigitalPhantom"
 },
 "nbformat": 3,
 "nbformat_minor": 0,
 "worksheets": [
  {
   "cells": [
    {
     "cell_type": "code",
     "collapsed": false,
     "input": [
      "import numpy as np\n",
      "import nibabel as nib\n",
      "from tvtk.api import tvtk\n",
      "import datetime as dt\n",
      "import os\n",
      "import os.path as op\n",
      "\n",
      "from scipy.ndimage import label\n",
      "\n",
      "import nipype.pipeline.engine as pe          # pypeline engine\n",
      "import nipype.interfaces.freesurfer as fs\n",
      "import nipype.interfaces.utility as niu\n",
      "import nipype.interfaces.io as nio\n",
      "\n",
      "import sys\n",
      "sys.path.append('/home/oesteban/workspace/ACWE-Reg/Scripts/utils')\n",
      "import fsb_transform as fsbt"
     ],
     "language": "python",
     "metadata": {},
     "outputs": [],
     "prompt_number": 38
    },
    {
     "cell_type": "code",
     "collapsed": false,
     "input": [
      "root_dir='/home/oesteban/workspace/ACWE-Reg/Data/DigitalPhantomISBI'\n",
      "working_dir= '/home/oesteban/workspace/ACWE-Reg/temp/DigitalPhantom'\n",
      "tpms_dir = op.join( root_dir, 'tpms' )"
     ],
     "language": "python",
     "metadata": {},
     "outputs": [],
     "prompt_number": 39
    },
    {
     "cell_type": "markdown",
     "metadata": {},
     "source": [
      "<h1>Binarize tissue probability maps (TPMs)</h1>\n",
      "\n"
     ]
    },
    {
     "cell_type": "code",
     "collapsed": false,
     "input": [
      "def computeMAP( tpms, normalize=True ):\n",
      "    import numpy as np\n",
      "    normalizer = np.sum( np.array( tpms ), axis=0 )\n",
      "    if normalize:\n",
      "        for tpm in tpms:\n",
      "            tpm[normalizer>0]/= normalizer[normalizer>0]\n",
      "\n",
      "    out_seg = np.zeros( shape=tpms[0].shape, dtype=np.uint8 )\n",
      "    out_seg[normalizer>0] = np.argmax(  tpms, axis=0 )[normalizer>0]\n",
      "    out_seg[normalizer>0] += 1\n",
      "\n",
      "    return out_seg, tpms"
     ],
     "language": "python",
     "metadata": {},
     "outputs": [],
     "prompt_number": 40
    },
    {
     "cell_type": "code",
     "collapsed": false,
     "input": [
      "tpmlist = []\n",
      "tlist = [ 'bg', 'csf', 'wm', 'gm' ]\n",
      "\n",
      "for tname in tlist:\n",
      "    im = nib.load( op.join( tpms_dir, '%s_volume_fraction.nii.gz' % tname ))\n",
      "    tpmlist.append( im.get_data() )\n",
      "    hdr = im.get_header()\n",
      "    if hdr.get_xyzt_units() != 2:\n",
      "        hdr.set_xyzt_units(2)\n",
      "        nib.save( nib.Nifti1Image( im.get_data(), im.get_affine(), hdr ), op.join( tpms_dir, '%s_volume_fraction.nii.gz' % tname ) )\n",
      "\n",
      "hdr = im.get_header()\n",
      "hdr.set_data_dtype( uint8 )\n",
      "binarized, tpmlist = computeMAP( tpmlist )\n",
      "binarized = binarized - 1\n",
      "nib.save( nib.Nifti1Image( binarized, im.get_affine(), hdr ), op.join( working_dir, 'segmentation.nii.gz' ) )\n",
      "\n",
      "objlist = np.zeros( shape=binarized.shape )\n",
      "\n",
      "labels_list = []\n",
      "\n",
      "for i,tname in enumerate(tlist):\n",
      "    bmap = np.zeros( shape=binarized.shape )\n",
      "    bmap[binarized==i] = 1\n",
      "    nib.save( nib.Nifti1Image( bmap, im.get_affine(), hdr ), op.join( working_dir, '%s_bmap.nii.gz' % tname ) )\n",
      "    lab,num = label( bmap )\n",
      "    lab_id = lab[lab>0] + 10*i\n",
      "    labels_list.append( lab_id )\n",
      "    objlist[lab>0] = lab_id\n",
      " \n",
      "nib.save( nib.Nifti1Image( objlist.astype(uint8), im.get_affine(), hdr ), op.join( working_dir, 'labels.nii.gz' ) )\n",
      "\n",
      "# So far, 21 is the label for the main part of wm\n",
      "\n",
      "wm = np.zeros( shape=binarized.shape )\n",
      "wm[objlist==21] = 1\n",
      "nib.save( nib.Nifti1Image( wm.astype(uint8), im.get_affine(), hdr ), op.join( working_dir, 'wm.nii.gz' ) )"
     ],
     "language": "python",
     "metadata": {},
     "outputs": [],
     "prompt_number": 41
    },
    {
     "cell_type": "markdown",
     "metadata": {},
     "source": [
      "<h1>Generate prior surfaces</h1>\n",
      "This code generates the necessary csf surfaces. References:\n",
      "<ul>\n",
      "    <li>https://github.com/nipy/nipype/issues/307</li>\n",
      "    <li>https://mail.nmr.mgh.harvard.edu/pipermail//freesurfer/2011-November/021391.html</li>\n",
      "    <li>http://brainder.org/2012/05/08/importing-freesurfer-subcortical-structures-into-blender/</li>\n",
      "    <li>https://mail.nmr.mgh.harvard.edu/pipermail/freesurfer/2013-June/030586.html</li>\n",
      "</ul>   "
     ]
    },
    {
     "cell_type": "code",
     "collapsed": false,
     "input": [
      "def GenerateBinaryVolume( name=\"binarize\" ):\n",
      "    pipeline = pe.Workflow( name=name )\n",
      "    inputnode = pe.Node(niu.IdentityInterface( fields=['in_file','in_norm','out_surf'] ), name='inputnode' )\n",
      "    \n",
      "    #convertmgz = pe.Node( fs.MRIConvert( out_type='mgz' ), name='convertmgz' )\n",
      "    pretess = pe.Node( niu.Function( input_names=['in_file', 'in_norm' ], output_names=['out_file'],\n",
      "                                    function=fsbt.MRIPreTess ), name='pretess' )\n",
      "    tess = pe.Node( fs.MRITessellate(label_value=1), name='tess' )\n",
      "    smooth = pe.Node( fs.SmoothTessellation(disable_estimates=True ), name='mris_smooth' )\n",
      "    \n",
      "                                    \n",
      "    pipeline.connect( [\n",
      "                       \n",
      "                        (inputnode, pretess, [ ('in_file','in_file'), ('in_norm', 'in_norm' ) ] )\n",
      "                       ,(pretess,tess,       [ ('out_file', 'in_file' ) ])\n",
      "                       ,(tess,smooth,        [ ('surface', 'in_file' ) ])\n",
      "                       ])\n",
      "    \n",
      "    return pipeline"
     ],
     "language": "python",
     "metadata": {},
     "outputs": [],
     "prompt_number": 42
    },
    {
     "cell_type": "code",
     "collapsed": false,
     "input": [
      "wf = GenerateBinaryVolume()\n",
      "wf.base_dir = working_dir"
     ],
     "language": "python",
     "metadata": {},
     "outputs": [],
     "prompt_number": 43
    },
    {
     "cell_type": "code",
     "collapsed": false,
     "input": [
      "wf.inputs.inputnode.in_file = op.join( working_dir, 'wm.nii.gz' )\n",
      "wf.inputs.inputnode.in_norm = op.join( root_dir, 't1_weighted.nii.gz' )\n",
      "wf.inputs.inputnode.out_surf = op.join( working_dir, 'wm.vtk' )"
     ],
     "language": "python",
     "metadata": {},
     "outputs": [],
     "prompt_number": 44
    },
    {
     "cell_type": "code",
     "collapsed": false,
     "input": [
      "res = wf.run()"
     ],
     "language": "python",
     "metadata": {},
     "outputs": [
      {
       "output_type": "stream",
       "stream": "stdout",
       "text": [
        "130904-21:53:48,740 workflow INFO:\n",
        "\t ['check', 'execution', 'logging']\n"
       ]
      },
      {
       "output_type": "stream",
       "stream": "stdout",
       "text": [
        "130904-21:53:48,743 workflow INFO:\n",
        "\t Running serially.\n"
       ]
      },
      {
       "output_type": "stream",
       "stream": "stdout",
       "text": [
        "130904-21:53:48,743 workflow INFO:\n",
        "\t Executing node pretess in dir: /home/oesteban/workspace/ACWE-Reg/temp/DigitalPhantom/binarize/pretess\n"
       ]
      },
      {
       "output_type": "stream",
       "stream": "stdout",
       "text": [
        "130904-21:53:49,107 workflow INFO:\n",
        "\t Executing node tess in dir: /home/oesteban/workspace/ACWE-Reg/temp/DigitalPhantom/binarize/tess\n"
       ]
      },
      {
       "output_type": "stream",
       "stream": "stdout",
       "text": [
        "130904-21:53:49,110 workflow INFO:\n",
        "\t Running: mri_tessellate /home/oesteban/workspace/ACWE-Reg/temp/DigitalPhantom/binarize/pretess/wm_pretess.mgz 1 ./wm_pretess.mgz_1\n"
       ]
      },
      {
       "output_type": "stream",
       "stream": "stdout",
       "text": [
        "130904-21:53:49,162 interface INFO:\n",
        "\t stdout 2013-09-04T21:53:49.162343:$Id: mri_tessellate.c,v 1.36 2011/03/02 00:04:25 nicks Exp $\n"
       ]
      },
      {
       "output_type": "stream",
       "stream": "stdout",
       "text": [
        "130904-21:53:49,163 interface INFO:\n",
        "\t stdout 2013-09-04T21:53:49.162343:  $Id: mrisurf.c,v 1.693.2.7 2013/05/12 22:28:01 nicks Exp $\n"
       ]
      },
      {
       "output_type": "stream",
       "stream": "stdout",
       "text": [
        "130904-21:53:49,302 interface INFO:\n",
        "\t stdout 2013-09-04T21:53:49.302932:slice 20: 155 vertices, 174 faces\n"
       ]
      },
      {
       "output_type": "stream",
       "stream": "stdout",
       "text": [
        "130904-21:53:49,303 interface INFO:\n",
        "\t stdout 2013-09-04T21:53:49.302932:slice 30: 1339 vertices, 1416 faces\n"
       ]
      },
      {
       "output_type": "stream",
       "stream": "stdout",
       "text": [
        "130904-21:53:49,303 interface INFO:\n",
        "\t stdout 2013-09-04T21:53:49.302932:slice 40: 4326 vertices, 4489 faces\n"
       ]
      },
      {
       "output_type": "stream",
       "stream": "stdout",
       "text": [
        "130904-21:53:49,303 interface INFO:\n",
        "\t stdout 2013-09-04T21:53:49.302932:slice 50: 9588 vertices, 9817 faces\n"
       ]
      },
      {
       "output_type": "stream",
       "stream": "stdout",
       "text": [
        "130904-21:53:49,304 interface INFO:\n",
        "\t stdout 2013-09-04T21:53:49.302932:slice 60: 17153 vertices, 17454 faces\n"
       ]
      },
      {
       "output_type": "stream",
       "stream": "stdout",
       "text": [
        "130904-21:53:49,304 interface INFO:\n",
        "\t stdout 2013-09-04T21:53:49.302932:slice 70: 23274 vertices, 23511 faces\n"
       ]
      },
      {
       "output_type": "stream",
       "stream": "stdout",
       "text": [
        "130904-21:53:49,304 interface INFO:\n",
        "\t stdout 2013-09-04T21:53:49.302932:slice 80: 30856 vertices, 31129 faces\n"
       ]
      },
      {
       "output_type": "stream",
       "stream": "stdout",
       "text": [
        "130904-21:53:49,304 interface INFO:\n",
        "\t stdout 2013-09-04T21:53:49.302932:slice 90: 38023 vertices, 38309 faces\n"
       ]
      },
      {
       "output_type": "stream",
       "stream": "stdout",
       "text": [
        "130904-21:53:49,305 interface INFO:\n",
        "\t stdout 2013-09-04T21:53:49.302932:slice 100: 44456 vertices, 44685 faces\n"
       ]
      },
      {
       "output_type": "stream",
       "stream": "stdout",
       "text": [
        "130904-21:53:49,305 interface INFO:\n",
        "\t stdout 2013-09-04T21:53:49.302932:slice 110: 48358 vertices, 48506 faces\n"
       ]
      },
      {
       "output_type": "stream",
       "stream": "stdout",
       "text": [
        "130904-21:53:49,305 interface INFO:\n",
        "\t stdout 2013-09-04T21:53:49.302932:slice 120: 50256 vertices, 50294 faces\n"
       ]
      },
      {
       "output_type": "stream",
       "stream": "stdout",
       "text": [
        "130904-21:53:49,305 interface INFO:\n",
        "\t stdout 2013-09-04T21:53:49.302932:slice 130: 50402 vertices, 50410 faces\n"
       ]
      },
      {
       "output_type": "stream",
       "stream": "stdout",
       "text": [
        "130904-21:53:49,305 interface INFO:\n",
        "\t stdout 2013-09-04T21:53:49.302932:slice 140: 50402 vertices, 50410 faces\n"
       ]
      },
      {
       "output_type": "stream",
       "stream": "stdout",
       "text": [
        "130904-21:53:49,306 interface INFO:\n",
        "\t stdout 2013-09-04T21:53:49.302932:using the conformed surface RAS to save vertex points...\n"
       ]
      },
      {
       "output_type": "stream",
       "stream": "stdout",
       "text": [
        "130904-21:53:49,306 interface INFO:\n",
        "\t stdout 2013-09-04T21:53:49.302932:writing ./wm_pretess.mgz_1\n"
       ]
      },
      {
       "output_type": "stream",
       "stream": "stdout",
       "text": [
        "130904-21:53:49,306 interface INFO:\n",
        "\t stdout 2013-09-04T21:53:49.302932:using vox2ras matrix:\n"
       ]
      },
      {
       "output_type": "stream",
       "stream": "stdout",
       "text": [
        "130904-21:53:49,306 interface INFO:\n",
        "\t stdout 2013-09-04T21:53:49.302932:-0.500   0.000   0.000   35.000;\n"
       ]
      },
      {
       "output_type": "stream",
       "stream": "stdout",
       "text": [
        "130904-21:53:49,306 interface INFO:\n",
        "\t stdout 2013-09-04T21:53:49.302932: 0.000   0.000   0.500  -35.000;\n"
       ]
      },
      {
       "output_type": "stream",
       "stream": "stdout",
       "text": [
        "130904-21:53:49,307 interface INFO:\n",
        "\t stdout 2013-09-04T21:53:49.302932: 0.000  -0.500   0.000   35.000;\n"
       ]
      },
      {
       "output_type": "stream",
       "stream": "stdout",
       "text": [
        "130904-21:53:49,307 interface INFO:\n",
        "\t stdout 2013-09-04T21:53:49.302932: 0.000   0.000   0.000   1.000;\n"
       ]
      },
      {
       "output_type": "stream",
       "stream": "stdout",
       "text": [
        "130904-21:53:49,321 workflow INFO:\n",
        "\t Executing node mris_smooth in dir: /home/oesteban/workspace/ACWE-Reg/temp/DigitalPhantom/binarize/mris_smooth\n"
       ]
      },
      {
       "output_type": "stream",
       "stream": "stdout",
       "text": [
        "130904-21:53:49,325 workflow INFO:\n",
        "\t Running: mris_smooth /home/oesteban/workspace/ACWE-Reg/temp/DigitalPhantom/binarize/tess/wm_pretess.mgz_1 /home/oesteban/workspace/ACWE-Reg/temp/DigitalPhantom/binarize/mris_smooth/wm_pretess_smoothed.mgz_1 -nw -n 10 -a 10\n"
       ]
      },
      {
       "output_type": "stream",
       "stream": "stdout",
       "text": [
        "130904-21:53:49,682 interface INFO:\n",
        "\t stderr 2013-09-04T21:53:49.682326:smoothing surface tessellation for 10 iterations...\n"
       ]
      },
      {
       "output_type": "stream",
       "stream": "stdout",
       "text": [
        "130904-21:53:49,803 interface INFO:\n",
        "\t stderr 2013-09-04T21:53:49.803757:smoothing complete - recomputing first and second fundamental forms...\n"
       ]
      },
      {
       "output_type": "stream",
       "stream": "stdout",
       "text": [
        "130904-21:53:50,322 interface INFO:\n",
        "\t stderr 2013-09-04T21:53:50.322156:writing smoothed curvature to /home/oesteban/workspace/ACWE-Reg/temp/DigitalPhantom/binarize/mris_smooth/rh.curv\n"
       ]
      },
      {
       "output_type": "stream",
       "stream": "stdout",
       "text": [
        "130904-21:53:50,324 interface INFO:\n",
        "\t stderr 2013-09-04T21:53:50.324354:writing smoothed area to /home/oesteban/workspace/ACWE-Reg/temp/DigitalPhantom/binarize/mris_smooth/rh.area\n"
       ]
      }
     ],
     "prompt_number": 45
    },
    {
     "cell_type": "code",
     "collapsed": false,
     "input": [
      "# http://surfer.nmr.mgh.harvard.edu/fswiki/FreeSurferTrackVisTransforms"
     ],
     "language": "python",
     "metadata": {},
     "outputs": [],
     "prompt_number": 46
    },
    {
     "cell_type": "code",
     "collapsed": false,
     "input": [
      "tkr1_tfm = fsbt.mri_info( op.join( tpms_dir, 'wm_volume_fraction.nii.gz' ), 'vox2ras-tkr' )\n",
      "r2v_tfm = fsbt.mri_info( op.join( tpms_dir, 'wm_volume_fraction.nii.gz' ), 'ras2vox' )\n",
      "\n",
      "tkr2_tfm = fsbt.mri_info( op.join( tpms_dir, 'wm_volume_fraction.nii.gz' ), 'ras2vox-tkr' )\n",
      "v2r_tfm = fsbt.mri_info( op.join( tpms_dir, 'wm_volume_fraction.nii.gz' ), 'vox2ras' )\n",
      "\n",
      "tfm = np.dot( tkr2_tfm, v2r_tfm )\n",
      "M = tfm[0:3,0:3]\n",
      "O = tfm[0:3,3]\n",
      "\n",
      "print O\n",
      "O = [ -0.25, -0.25, -0.25]"
     ],
     "language": "python",
     "metadata": {},
     "outputs": [
      {
       "output_type": "stream",
       "stream": "stdout",
       "text": [
        "[ 139.5  139.5    0.5]\n"
       ]
      }
     ],
     "prompt_number": 130
    },
    {
     "cell_type": "code",
     "collapsed": false,
     "input": [
      "surf = op.join( working_dir, 'test.vtk' )"
     ],
     "language": "python",
     "metadata": {},
     "outputs": [],
     "prompt_number": 133
    },
    {
     "cell_type": "code",
     "collapsed": false,
     "input": [
      "r = tvtk.PolyDataReader( file_name=surf )\n",
      "vtk = r.output\n",
      "r.update()\n",
      "\n",
      "for i,point in enumerate( vtk.points ):\n",
      "    vtk.points[i] = np.dot( M, point ) - O\n",
      "    \n",
      "    \n",
      "w = tvtk.PolyDataWriter( file_name=op.join( working_dir, 'wm_corrected2.vtk' ), input=vtk )\n",
      "w.update()"
     ],
     "language": "python",
     "metadata": {},
     "outputs": [],
     "prompt_number": 134
    },
    {
     "cell_type": "code",
     "collapsed": false,
     "input": [],
     "language": "python",
     "metadata": {},
     "outputs": []
    }
   ],
   "metadata": {}
  }
 ]
}