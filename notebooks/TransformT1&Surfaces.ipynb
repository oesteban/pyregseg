{
 "metadata": {
  "name": "TransformT1&Surfaces"
 },
 "nbformat": 3,
 "nbformat_minor": 0,
 "worksheets": [
  {
   "cells": [
    {
     "cell_type": "code",
     "collapsed": false,
     "input": [
      "import numpy as np\n",
      "import nibabel as nib\n",
      "from tvtk.api import tvtk\n",
      "import datetime as dt\n",
      "import os\n",
      "import os.path as op"
     ],
     "language": "python",
     "metadata": {},
     "outputs": [],
     "prompt_number": 11
    },
    {
     "cell_type": "code",
     "collapsed": false,
     "input": [
      "root_dir='/media/data/DTI_Repeatability'\n",
      "working_dir= '/home/oesteban/workspace/ACWE-Reg/temp'"
     ],
     "language": "python",
     "metadata": {},
     "outputs": [],
     "prompt_number": 2
    },
    {
     "cell_type": "markdown",
     "metadata": {},
     "source": [
      "<h1>Transform T1 to dMRI space</h1>\n",
      "Apply direct transform, obtained from bbreg (file bbreg/dti2t1.dat) to map T1 into the dMRI. This example show how to use the different headers and matrices to transform from conformed space to dMRI"
     ]
    },
    {
     "cell_type": "code",
     "collapsed": false,
     "input": [
      "from nipy.algorithms.resample import resample\n",
      "from nipy import load_image\n",
      "from nipy import save_image\n",
      "from nipy.core.api import Image\n",
      "import sys\n",
      "sys.path.append('/home/oesteban/workspace/ACWE-Reg/Scripts/utils')\n",
      "import fsb_transform as fsbt\n",
      "\n",
      "data_dir = op.join( root_dir, 'SurfacesTest' )"
     ],
     "language": "python",
     "metadata": {},
     "outputs": [],
     "prompt_number": 3
    },
    {
     "cell_type": "code",
     "collapsed": false,
     "input": [
      "bfname =  op.join( data_dir, \"DTI_b0_brain.nii.gz\")\n",
      "mrfname = op.join( data_dir, \"img/T1.nii\" )\n",
      "tfname = op.join( data_dir,'bbreg/dti2t1.dat')"
     ],
     "language": "python",
     "metadata": {},
     "outputs": [],
     "prompt_number": 6
    },
    {
     "cell_type": "code",
     "collapsed": false,
     "input": [
      "# Transform and inverse transform\n",
      "t1_to_b0_name = fsbt.transformVolume( mrfname, bfname, tfname )\n",
      "b0_to_t1_name = fsbt.transformVolume( mrfname, bfname, tfname, invert=True )"
     ],
     "language": "python",
     "metadata": {},
     "outputs": [
      {
       "output_type": "stream",
       "stream": "stderr",
       "text": [
        "/usr/local/lib/python2.7/dist-packages/nipy/io/files.py:137: FutureWarning: Default `strict` currently False; this will change to True in a future version of nipy\n",
        "  ni_img = nipy2nifti(img, data_dtype = io_dtype)\n"
       ]
      }
     ],
     "prompt_number": 23
    },
    {
     "cell_type": "markdown",
     "metadata": {},
     "source": [
      "<h1>Transform prior shapes to dMRI space</h1>\n",
      "The idea here is to resample the surfaces in dMRI space"
     ]
    },
    {
     "cell_type": "code",
     "collapsed": false,
     "input": [
      "data_dir = op.join( root_dir, 'SurfacesTest' )"
     ],
     "language": "python",
     "metadata": {},
     "outputs": [],
     "prompt_number": 4
    },
    {
     "cell_type": "code",
     "collapsed": false,
     "input": [
      "for surf in [ 'lh.white', 'rh.white', 'lh.pial', 'rh.pial' ]:\n",
      "    surf_path = op.join( root_dir, 'FREESURFER', 'OE0_T1', 'surf', surf )\n",
      "    outpath = op.join( data_dir, 'surf', 'init.%s.vtk' % surf )\n",
      "    outsurf = fsbt.transformSurface( surf_path, mrfname, bfname, tfname, outpath )"
     ],
     "language": "python",
     "metadata": {},
     "outputs": [],
     "prompt_number": 7
    },
    {
     "cell_type": "code",
     "collapsed": false,
     "input": [
      "seg_file = op.join( data_dir, 'img', 'aseg.nii.gz' )\n",
      "csf_labels = [ 4, 5, 43, 44, 14, 15, 72, 24 ]\n",
      "#csf_binarized = fsbt.CombineSegs( seg_file, csf_labels )\n",
      "\n",
      "wm_labels = [ 127, 255 ]"
     ],
     "language": "python",
     "metadata": {},
     "outputs": [],
     "prompt_number": 6
    },
    {
     "cell_type": "markdown",
     "metadata": {},
     "source": [
      "<h1>Generate CSF Surface</h1>\n",
      "This code generates the necessary csf surfaces. References:\n",
      "<ul>\n",
      "    <li>https://github.com/nipy/nipype/issues/307</li>\n",
      "    <li>https://mail.nmr.mgh.harvard.edu/pipermail//freesurfer/2011-November/021391.html</li>\n",
      "    <li>http://brainder.org/2012/05/08/importing-freesurfer-subcortical-structures-into-blender/</li>\n",
      "    <li>https://mail.nmr.mgh.harvard.edu/pipermail/freesurfer/2013-June/030586.html</li>\n",
      "</ul>   "
     ]
    },
    {
     "cell_type": "code",
     "collapsed": false,
     "input": [
      "import nipype.pipeline.engine as pe          # pypeline engine\n",
      "import nipype.interfaces.freesurfer as fs\n",
      "import nipype.interfaces.utility as niu\n",
      "import nipype.interfaces.io as nio\n",
      "\n",
      "\n",
      "def GenerateBinaryVolume( name=\"binarize\" ):\n",
      "    pipeline = pe.Workflow( name=name )\n",
      "    inputnode = pe.Node(niu.IdentityInterface( fields=['in_file','labels', 'in_norm','out_surf',\n",
      "                                 'origin', 'mov_path', 'tar_path', 'tfmfile'] ), name='inputnode' )\n",
      "    convert = pe.Node( fs.MRIConvert( out_type='niigz' ), name='convert' )\n",
      "    binarize = pe.Node( niu.Function( input_names=['in_file', 'labels' ], output_names=[\"out_file\"], \n",
      "                                      function=fsbt.CombineSegs ), name='combine' )\n",
      "    convertmgz = pe.Node( fs.MRIConvert( out_type='mgz' ), name='convertmgz' )\n",
      "    pretess = pe.Node( niu.Function( input_names=['in_file', 'in_norm', 'label' ], output_names=['out_file'],\n",
      "                                    function=fsbt.MRIPreTess ), name='pretess' )\n",
      "    pretess.inputs.label = 1\n",
      "    \n",
      "    tess = pe.Node( fs.MRITessellate(label_value=1), name='tess' )\n",
      "    smooth = pe.Node( fs.SmoothTessellation(disable_estimates=True ), name='mris_smooth' )\n",
      "    \n",
      "    tfmsurf = pe.Node( niu.Function( input_names=['origin', 'mov_path', 'tar_path', 'tfmfile', 'out_file'],\n",
      "                                     output_names=['out_file'], function=fsbt.transformSurface ), name='ApplyXfm' )\n",
      "                                    \n",
      "    pipeline.connect( [\n",
      "                       \n",
      "                        (inputnode, convert, [ ('in_file','in_file') ] )\n",
      "                       ,(convert, binarize,  [ ('out_file','in_file' ) ])\n",
      "                       ,(inputnode, binarize,[ ('labels','labels') ])\n",
      "                       ,(binarize, convertmgz, [('out_file','in_file')])\n",
      "                       ,(convertmgz,pretess, [ ('out_file', 'in_file' )])\n",
      "                       ,(inputnode,pretess,  [ ('in_norm', 'in_norm' )])\n",
      "                       ,(pretess,tess,       [ ('out_file', 'in_file' ) ])\n",
      "                       ,(tess,smooth,        [ ('surface', 'in_file' ) ])\n",
      "                       ,(smooth,tfmsurf,     [ ('surface', 'origin' ) ])\n",
      "                       ,(inputnode,tfmsurf,  [ ('mov_path','mov_path'),\n",
      "                                               ('tar_path','tar_path'),\n",
      "                                               ('tfmfile','tfmfile'),\n",
      "                                               ('out_surf','out_file') ])\n",
      "                       ])\n",
      "    \n",
      "    return pipeline"
     ],
     "language": "python",
     "metadata": {},
     "outputs": [],
     "prompt_number": 7
    },
    {
     "cell_type": "code",
     "collapsed": false,
     "input": [
      "wf = GenerateBinaryVolume()\n",
      "wf.base_dir = working_dir"
     ],
     "language": "python",
     "metadata": {},
     "outputs": [],
     "prompt_number": 8
    },
    {
     "cell_type": "code",
     "collapsed": false,
     "input": [
      "wf.inputs.inputnode.in_file = op.join( root_dir, 'FREESURFER', 'OE0_T1', 'mri', 'aseg.mgz' )\n",
      "wf.inputs.inputnode.labels = csf_labels\n",
      "wf.inputs.inputnode.in_norm = op.join( root_dir, 'FREESURFER', 'OE0_T1', 'mri', 'norm.mgz' )\n",
      "wf.inputs.inputnode.out_surf = op.join( data_dir, 'surf', 'init.csf.vtk' )\n",
      "\n",
      "wf.inputs.inputnode.tar_path = bfname\n",
      "wf.inputs.inputnode.mov_path = mrfname\n",
      "wf.inputs.inputnode.tfmfile = tfname"
     ],
     "language": "python",
     "metadata": {},
     "outputs": [],
     "prompt_number": 9
    },
    {
     "cell_type": "code",
     "collapsed": false,
     "input": [
      "wf.run()"
     ],
     "language": "python",
     "metadata": {},
     "outputs": [
      {
       "output_type": "stream",
       "stream": "stdout",
       "text": [
        "130627-17:17:32,38 workflow INFO:\n",
        "\t ['check', 'execution', 'logging']\n"
       ]
      },
      {
       "output_type": "stream",
       "stream": "stdout",
       "text": [
        "130627-17:17:32,45 workflow INFO:\n",
        "\t Running serially.\n"
       ]
      },
      {
       "output_type": "stream",
       "stream": "stdout",
       "text": [
        "130627-17:17:32,46 workflow INFO:\n",
        "\t Executing node convert in dir: /home/oesteban/workspace/ACWE-Reg/temp/binarize/convert\n"
       ]
      },
      {
       "output_type": "stream",
       "stream": "stdout",
       "text": [
        "130627-17:17:32,47 workflow INFO:\n",
        "\t Collecting precomputed outputs\n"
       ]
      },
      {
       "output_type": "stream",
       "stream": "stdout",
       "text": [
        "130627-17:17:32,50 workflow INFO:\n",
        "\t Executing node combine in dir: /home/oesteban/workspace/ACWE-Reg/temp/binarize/combine\n"
       ]
      },
      {
       "output_type": "stream",
       "stream": "stdout",
       "text": [
        "130627-17:17:32,51 workflow INFO:\n",
        "\t Collecting precomputed outputs\n"
       ]
      },
      {
       "output_type": "stream",
       "stream": "stdout",
       "text": [
        "130627-17:17:32,54 workflow INFO:\n",
        "\t Executing node convertmgz in dir: /home/oesteban/workspace/ACWE-Reg/temp/binarize/convertmgz\n"
       ]
      },
      {
       "output_type": "stream",
       "stream": "stdout",
       "text": [
        "130627-17:17:32,55 workflow INFO:\n",
        "\t Collecting precomputed outputs\n"
       ]
      },
      {
       "output_type": "stream",
       "stream": "stdout",
       "text": [
        "130627-17:17:32,60 workflow INFO:\n",
        "\t Executing node pretess in dir: /home/oesteban/workspace/ACWE-Reg/temp/binarize/pretess\n"
       ]
      },
      {
       "output_type": "stream",
       "stream": "stdout",
       "text": [
        "130627-17:17:34,618 workflow INFO:\n",
        "\t Executing node tess in dir: /home/oesteban/workspace/ACWE-Reg/temp/binarize/tess\n"
       ]
      },
      {
       "output_type": "stream",
       "stream": "stdout",
       "text": [
        "130627-17:17:34,623 workflow INFO:\n",
        "\t Running: mri_tessellate /home/oesteban/workspace/ACWE-Reg/temp/binarize/pretess/aseg_out_bin_out_pretess.mgz 1 ./aseg_out_bin_out_pretess.mgz_1\n"
       ]
      },
      {
       "output_type": "stream",
       "stream": "stdout",
       "text": [
        "130627-17:17:34,960 interface INFO:\n",
        "\t stdout 2013-06-27T17:17:34.960007:$Id: mri_tessellate.c,v 1.36 2011/03/02 00:04:25 nicks Exp $\n"
       ]
      },
      {
       "output_type": "stream",
       "stream": "stdout",
       "text": [
        "130627-17:17:34,960 interface INFO:\n",
        "\t stdout 2013-06-27T17:17:34.960007:  $Id: mrisurf.c,v 1.693.2.7 2013/05/12 22:28:01 nicks Exp $\n"
       ]
      },
      {
       "output_type": "stream",
       "stream": "stdout",
       "text": [
        "130627-17:17:35,870 interface INFO:\n",
        "\t stdout 2013-06-27T17:17:35.870098:slice 80: 117 vertices, 133 faces\n"
       ]
      },
      {
       "output_type": "stream",
       "stream": "stdout",
       "text": [
        "130627-17:17:35,870 interface INFO:\n",
        "\t stdout 2013-06-27T17:17:35.870098:slice 90: 1081 vertices, 1156 faces\n"
       ]
      },
      {
       "output_type": "stream",
       "stream": "stdout",
       "text": [
        "130627-17:17:35,870 interface INFO:\n",
        "\t stdout 2013-06-27T17:17:35.870098:slice 100: 4678 vertices, 4858 faces\n"
       ]
      },
      {
       "output_type": "stream",
       "stream": "stdout",
       "text": [
        "130627-17:17:35,871 interface INFO:\n",
        "\t stdout 2013-06-27T17:17:35.870098:slice 110: 7977 vertices, 8079 faces\n"
       ]
      },
      {
       "output_type": "stream",
       "stream": "stdout",
       "text": [
        "130627-17:17:35,871 interface INFO:\n",
        "\t stdout 2013-06-27T17:17:35.870098:slice 120: 10045 vertices, 10143 faces\n"
       ]
      },
      {
       "output_type": "stream",
       "stream": "stdout",
       "text": [
        "130627-17:17:35,871 interface INFO:\n",
        "\t stdout 2013-06-27T17:17:35.870098:slice 130: 11957 vertices, 12053 faces\n"
       ]
      },
      {
       "output_type": "stream",
       "stream": "stdout",
       "text": [
        "130627-17:17:35,872 interface INFO:\n",
        "\t stdout 2013-06-27T17:17:35.870098:slice 140: 13915 vertices, 13994 faces\n"
       ]
      },
      {
       "output_type": "stream",
       "stream": "stdout",
       "text": [
        "130627-17:17:35,872 interface INFO:\n",
        "\t stdout 2013-06-27T17:17:35.870098:slice 150: 15187 vertices, 15245 faces\n"
       ]
      },
      {
       "output_type": "stream",
       "stream": "stdout",
       "text": [
        "130627-17:17:35,872 interface INFO:\n",
        "\t stdout 2013-06-27T17:17:35.870098:slice 160: 16040 vertices, 16052 faces\n"
       ]
      },
      {
       "output_type": "stream",
       "stream": "stdout",
       "text": [
        "130627-17:17:35,872 interface INFO:\n",
        "\t stdout 2013-06-27T17:17:35.870098:slice 170: 16040 vertices, 16052 faces\n"
       ]
      },
      {
       "output_type": "stream",
       "stream": "stdout",
       "text": [
        "130627-17:17:35,873 interface INFO:\n",
        "\t stdout 2013-06-27T17:17:35.870098:slice 180: 16040 vertices, 16052 faces\n"
       ]
      },
      {
       "output_type": "stream",
       "stream": "stdout",
       "text": [
        "130627-17:17:35,873 interface INFO:\n",
        "\t stdout 2013-06-27T17:17:35.870098:slice 190: 16040 vertices, 16052 faces\n"
       ]
      },
      {
       "output_type": "stream",
       "stream": "stdout",
       "text": [
        "130627-17:17:35,873 interface INFO:\n",
        "\t stdout 2013-06-27T17:17:35.870098:slice 200: 16040 vertices, 16052 faces\n"
       ]
      },
      {
       "output_type": "stream",
       "stream": "stdout",
       "text": [
        "130627-17:17:35,873 interface INFO:\n",
        "\t stdout 2013-06-27T17:17:35.870098:slice 210: 16040 vertices, 16052 faces\n"
       ]
      },
      {
       "output_type": "stream",
       "stream": "stdout",
       "text": [
        "130627-17:17:35,874 interface INFO:\n",
        "\t stdout 2013-06-27T17:17:35.870098:slice 220: 16040 vertices, 16052 faces\n"
       ]
      },
      {
       "output_type": "stream",
       "stream": "stdout",
       "text": [
        "130627-17:17:35,874 interface INFO:\n",
        "\t stdout 2013-06-27T17:17:35.870098:slice 230: 16040 vertices, 16052 faces\n"
       ]
      },
      {
       "output_type": "stream",
       "stream": "stdout",
       "text": [
        "130627-17:17:35,874 interface INFO:\n",
        "\t stdout 2013-06-27T17:17:35.870098:slice 240: 16040 vertices, 16052 faces\n"
       ]
      },
      {
       "output_type": "stream",
       "stream": "stdout",
       "text": [
        "130627-17:17:35,874 interface INFO:\n",
        "\t stdout 2013-06-27T17:17:35.870098:slice 250: 16040 vertices, 16052 faces\n"
       ]
      },
      {
       "output_type": "stream",
       "stream": "stdout",
       "text": [
        "130627-17:17:35,875 interface INFO:\n",
        "\t stdout 2013-06-27T17:17:35.870098:using the conformed surface RAS to save vertex points...\n"
       ]
      },
      {
       "output_type": "stream",
       "stream": "stdout",
       "text": [
        "130627-17:17:35,875 interface INFO:\n",
        "\t stdout 2013-06-27T17:17:35.870098:writing ./aseg_out_bin_out_pretess.mgz_1\n"
       ]
      },
      {
       "output_type": "stream",
       "stream": "stdout",
       "text": [
        "130627-17:17:35,875 interface INFO:\n",
        "\t stdout 2013-06-27T17:17:35.870098:using vox2ras matrix:\n"
       ]
      },
      {
       "output_type": "stream",
       "stream": "stdout",
       "text": [
        "130627-17:17:35,875 interface INFO:\n",
        "\t stdout 2013-06-27T17:17:35.870098:-1.000   0.000   0.000   128.000;\n"
       ]
      },
      {
       "output_type": "stream",
       "stream": "stdout",
       "text": [
        "130627-17:17:35,876 interface INFO:\n",
        "\t stdout 2013-06-27T17:17:35.870098: 0.000   0.000   1.000  -128.000;\n"
       ]
      },
      {
       "output_type": "stream",
       "stream": "stdout",
       "text": [
        "130627-17:17:35,876 interface INFO:\n",
        "\t stdout 2013-06-27T17:17:35.870098: 0.000  -1.000   0.000   128.000;\n"
       ]
      },
      {
       "output_type": "stream",
       "stream": "stdout",
       "text": [
        "130627-17:17:35,877 interface INFO:\n",
        "\t stdout 2013-06-27T17:17:35.870098: 0.000   0.000   0.000   1.000;\n"
       ]
      },
      {
       "output_type": "stream",
       "stream": "stdout",
       "text": [
        "130627-17:17:35,884 workflow INFO:\n",
        "\t Executing node mris_smooth in dir: /home/oesteban/workspace/ACWE-Reg/temp/binarize/mris_smooth\n"
       ]
      },
      {
       "output_type": "stream",
       "stream": "stdout",
       "text": [
        "130627-17:17:35,888 workflow INFO:\n",
        "\t Running: mris_smooth /home/oesteban/workspace/ACWE-Reg/temp/binarize/tess/aseg_out_bin_out_pretess.mgz_1 /home/oesteban/workspace/ACWE-Reg/temp/binarize/mris_smooth/aseg_out_bin_out_pretess_smoothed.mgz_1 -nw -n 10 -a 10\n"
       ]
      },
      {
       "output_type": "stream",
       "stream": "stdout",
       "text": [
        "130627-17:17:36,26 interface INFO:\n",
        "\t stderr 2013-06-27T17:17:36.026365:smoothing surface tessellation for 10 iterations...\n"
       ]
      },
      {
       "output_type": "stream",
       "stream": "stdout",
       "text": [
        "130627-17:17:36,66 interface INFO:\n",
        "\t stderr 2013-06-27T17:17:36.066211:smoothing complete - recomputing first and second fundamental forms...\n"
       ]
      },
      {
       "output_type": "stream",
       "stream": "stdout",
       "text": [
        "130627-17:17:36,234 interface INFO:\n",
        "\t stderr 2013-06-27T17:17:36.234853:writing smoothed curvature to /home/oesteban/workspace/ACWE-Reg/temp/binarize/mris_smooth/rh.curv\n"
       ]
      },
      {
       "output_type": "stream",
       "stream": "stdout",
       "text": [
        "130627-17:17:36,235 interface INFO:\n",
        "\t stderr 2013-06-27T17:17:36.235377:writing smoothed area to /home/oesteban/workspace/ACWE-Reg/temp/binarize/mris_smooth/rh.area\n"
       ]
      },
      {
       "output_type": "stream",
       "stream": "stdout",
       "text": [
        "130627-17:17:36,252 workflow INFO:\n",
        "\t Executing node ApplyXfm in dir: /home/oesteban/workspace/ACWE-Reg/temp/binarize/ApplyXfm\n"
       ]
      },
      {
       "output_type": "pyout",
       "prompt_number": 10,
       "text": [
        "<networkx.classes.digraph.DiGraph at 0x6857a10>"
       ]
      }
     ],
     "prompt_number": 10
    },
    {
     "cell_type": "code",
     "collapsed": false,
     "input": [],
     "language": "python",
     "metadata": {},
     "outputs": []
    }
   ],
   "metadata": {}
  }
 ]
}