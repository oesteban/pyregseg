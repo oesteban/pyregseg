{
 "metadata": {
  "name": "ISBI2014"
 },
 "nbformat": 3,
 "nbformat_minor": 0,
 "worksheets": [
  {
   "cells": [
    {
     "cell_type": "code",
     "collapsed": false,
     "input": [
      "#from traits.etsconfig.api import ETSConfig\n",
      "#ETSConfig.toolkit = 'null'\n",
      "\n",
      "import numpy as np\n",
      "import nibabel as nib\n",
      "from tvtk.api import tvtk\n",
      "import datetime as dt\n",
      "import os\n",
      "import os.path as op\n",
      "\n",
      "from scipy.ndimage import label\n",
      "\n",
      "import nipype.pipeline.engine as pe          # pypeline engine\n",
      "import nipype.interfaces.freesurfer as fs\n",
      "import nipype.interfaces.io as nio\n",
      "import nipype.interfaces.utility as niu\n",
      "import nipype.workflows.dmri.fsl as wf\n",
      "\n",
      "\n",
      "import sys\n",
      "sys.path.append('/home/oesteban/workspace/ACWE-Reg/Scripts/utils')\n",
      "sys.path.append('/home/oesteban/workspace/ACWE-Reg/Scripts/workflows')\n",
      "\n",
      "import tracks as trks\n",
      "import dmri as dmri\n",
      "import evaluation as ev\n",
      "import fsb_transform as fsbt\n",
      "\n",
      "import warnings\n",
      "warnings.filterwarnings('ignore')\n"
     ],
     "language": "python",
     "metadata": {},
     "outputs": [
      {
       "output_type": "stream",
       "stream": "stderr",
       "text": [
        "/usr/local/lib/python2.7/dist-packages/tvtk/version.py:5: UserWarning: Module PIL was already imported from /usr/local/lib/python2.7/dist-packages/PIL/__init__.pyc, but /usr/lib/python2.7/dist-packages is being added to sys.path\n",
        "  import pkg_resources\n"
       ]
      }
     ],
     "prompt_number": 1
    },
    {
     "cell_type": "code",
     "collapsed": false,
     "input": [
      "root_dir='/home/oesteban/workspace/ACWE-Reg/'\n",
      "data_dir= op.join( root_dir, 'Data' )\n",
      "mname = 'Phantom3'\n",
      "model_dir = op.join( data_dir, mname )\n",
      "tpms_dir = op.join( model_dir, 'tpms' )\n",
      "\n",
      "working_dir= op.join( root_dir, 'temp', 'ISBI2014' )\n",
      "\n",
      "snr_list = [ 'no-noise', 'SNR-10', 'SNR-20', 'SNR-30' ]\n",
      "\n",
      "if not op.exists( working_dir ):\n",
      "    os.makedirs( working_dir )"
     ],
     "language": "python",
     "metadata": {},
     "outputs": [],
     "prompt_number": 2
    },
    {
     "cell_type": "code",
     "collapsed": false,
     "input": [
      "import glob\n",
      "import matplotlib.pyplot as plt\n",
      "import matplotlib.cm as cm\n",
      "\n",
      "\n",
      "mnames = glob.glob( op.join( working_dir, 'Evaluation/Tract_*/BuildMatrix', '*conmat.txt' ) )\n",
      "conmats = {}"
     ],
     "language": "python",
     "metadata": {},
     "outputs": [],
     "prompt_number": 29
    },
    {
     "cell_type": "code",
     "collapsed": false,
     "input": [
      "conmats['true'] = np.loadtxt( op.join( model_dir, 'gold_matrix.txt' ) )"
     ],
     "language": "python",
     "metadata": {},
     "outputs": [],
     "prompt_number": 30
    },
    {
     "cell_type": "code",
     "collapsed": false,
     "input": [
      "for matname in mnames:\n",
      "    data = np.loadtxt( matname )\n",
      "    matname = ((matname.split( '_', 1 )[1]).split('/',1)[0]).lower()\n",
      "    conmats[matname] = data"
     ],
     "language": "python",
     "metadata": {},
     "outputs": [],
     "prompt_number": 31
    },
    {
     "cell_type": "code",
     "collapsed": false,
     "input": [
      "tp = np.zeros_like( conmats['true'] )\n",
      "tp[conmats['true']>0] = 1\n",
      "print \"Connections=\",np.sum( tp )*0.5\n",
      "fname = op.join( '/home/oesteban/Dropbox/tmp', 'conmat_true.png' )\n",
      "pyplot.imshow( tp, interpolation='none', cmap=cm.Greys )\n",
      "\n",
      "plt.savefig( fname, dpi=300, figsize=(9,9), bbox_inches='tight' )\n",
      "\n",
      "\n",
      "for key in [ 'gold', 'dist', 'fmap', 'rev', 't2reg' ]:\n",
      "    fname = op.join( '/home/oesteban/Dropbox/tmp', 'conmat_'+ key + '.png' )\n",
      "    mat = np.zeros_like( conmats[key] )\n",
      "    mat[ conmats[key]>0 ] = 1\n",
      "    errs = (tp - mat).astype(float)\n",
      "    \n",
      "    nx,ny = np.shape( conmats[key] )\n",
      "\n",
      "    fp = np.zeros_like( errs )\n",
      "    fp[errs<0] = 1\n",
      "    fn = np.zeros_like( errs )\n",
      "    fn[errs>0] = 1\n",
      "\n",
      "    print 'FP[%s]=%d' % (key,np.sum(fp)*0.5)\n",
      "    print 'FN[%s]=%d' % (key,np.sum(fn)*0.5)\n",
      "    \n",
      "    #mat[mat<=0] = np.nan\n",
      "    errs[errs==0] = np.nan\n",
      "    \n",
      "    fig = plt.figure(figsize=(9,9))\n",
      "    ax = fig.add_subplot(111)\n",
      "    ax.imshow( conmats[key], interpolation='none', cmap=cm.Greys )\n",
      "    ax.imshow( mat, interpolation='none', cmap=cm.Greys_r, vmin=-1.0, vmax=1.0 )\n",
      "    ax.imshow( errs, interpolation='none', cmap=cm.seismic_r, vmin=-1.4, vmax=1.4 )\n",
      "    plt.xticks(np.arange(0,nx)+0.5, [])\n",
      "    plt.yticks(np.arange(0,ny)+0.5, [])\n",
      "    plt.setp(ax.spines.values(), color='w')\n",
      "    plt.setp([ax.get_xticklines(), ax.get_yticklines()], color='w')\n",
      "    ax.grid( ls='solid', color='w' )\n",
      "    fig.savefig( fname, dpi=300, figsize=(9,9), bbox_inches='tight' )\n",
      "\n",
      "    #plt.show()"
     ],
     "language": "python",
     "metadata": {},
     "outputs": [
      {
       "output_type": "stream",
       "stream": "stdout",
       "text": [
        "Connections= 27.0\n",
        "FP[gold]=40"
       ]
      },
      {
       "output_type": "stream",
       "stream": "stdout",
       "text": [
        "\n",
        "FN[gold]=4\n",
        "FP[dist]=42"
       ]
      },
      {
       "output_type": "stream",
       "stream": "stdout",
       "text": [
        "\n",
        "FN[dist]=4\n",
        "FP[fmap]=43"
       ]
      },
      {
       "output_type": "stream",
       "stream": "stdout",
       "text": [
        "\n",
        "FN[fmap]=4\n",
        "FP[rev]=44"
       ]
      },
      {
       "output_type": "stream",
       "stream": "stdout",
       "text": [
        "\n",
        "FN[rev]=4\n",
        "FP[t2reg]=40"
       ]
      },
      {
       "output_type": "stream",
       "stream": "stdout",
       "text": [
        "\n",
        "FN[t2reg]=5\n"
       ]
      },
      {
       "output_type": "display_data",
       "png": "[encoded data removed]"
      },
      {
       "output_type": "display_data",
       "png": "[encoded data removed]"
      },
      {
       "output_type": "display_data",
       "png": "[encoded data removed]"
      },
      {
       "output_type": "display_data",
       "png": "[encoded data removed]"
      },
      {
       "output_type": "display_data",
       "png": "[encoded data removed]"
      },
      {
       "output_type": "display_data",
       "png": "[encoded data removed]"
      }
     ],
     "prompt_number": 32
    },
    {
     "cell_type": "code",
     "collapsed": false,
     "input": [
      "evaluation = ev.evaluation_workflow()\n",
      "evaluation.base_dir = op.join( working_dir, 'evaluation' )\n",
      "evaluation.inputs.inputnode.in_dwi = op.join( model_dir, 'DWIS_dti-scheme_no-noise.nii.gz' )\n",
      "evaluation.inputs.inputnode.in_dwi_mask = op.join( model_dir, 'signal_mask.nii.gz' )\n",
      "evaluation.inputs.inputnode.in_t2 = op.join( model_dir, \"t2_weighted.nii.gz\" )\n",
      "evaluation.inputs.inputnode.in_t2_mask = op.join( model_dir, \"tpms\", \"tpm_mask.nii.gz\" )\n",
      "evaluation.inputs.inputnode.in_bvec = op.join( model_dir, 'dti-scheme.bvec' ) \n",
      "evaluation.inputs.inputnode.in_bval = op.join( model_dir, 'dti-scheme.bval' )\n",
      "evaluation.inputs.inputnode.in_rois = op.join( model_dir,'rois', 'seeding_regions.nii.gz' )\n",
      "evaluation.inputs.inputnode.wm_mask = op.join( model_dir, 'wm_mask.nii.gz' )\n",
      "#evaluation.run()"
     ],
     "language": "python",
     "metadata": {},
     "outputs": []
    },
    {
     "cell_type": "code",
     "collapsed": true,
     "input": [
      "fmap_wf = wf.fieldmap_correction()\n",
      "fmap_wf.base_dir = working_dir\n",
      "\n",
      "fmap_wf.inputs.inputnode.in_file = op.join( working_dir , \"dwi.nii.gz\" )\n",
      "fmap_wf.inputs.inputnode.in_mask = op.join( model_dir, \"signal_mask.nii.gz\" )\n",
      "fmap_wf.inputs.inputnode.fieldmap_mag = op.join( model_dir, \"signal_mask.nii.gz\" )\n",
      "fmap_wf.inputs.inputnode.fieldmap_pha = op.join( working_dir, \"siemens.nii.gz\" )\n",
      "fmap_wf.inputs.inputnode.te_diff = 2.46\n",
      "fmap_wf.inputs.inputnode.epi_echospacing = 0.77\n",
      "fmap_wf.inputs.inputnode.vsm_sigma = 2.0\n",
      "fmap_wf.inputs.inputnode.encoding_direction = 'y'\n",
      "res_fmap =fmap_wf.run()"
     ],
     "language": "python",
     "metadata": {},
     "outputs": []
    },
    {
     "cell_type": "code",
     "collapsed": false,
     "input": [
      "reload( dmri )\n",
      "t2reg_wf = dmri.t2_registration_correct()\n",
      "t2reg_wf.base_dir = working_dir\n",
      "\n",
      "t2reg_wf.inputs.inputnode.in_file = op.join( working_dir , \"dwi.nii.gz\" )\n",
      "t2reg_wf.inputs.inputnode.in_t2 = op.join( model_dir, \"t2_weighted.nii.gz\" )\n",
      "t2reg_wf.inputs.inputnode.in_mask_dwi = op.join( working_dir, \"mask_warped.nii.gz\" )\n",
      "t2reg_wf.inputs.inputnode.in_mask_t2 = op.join( model_dir, \"tpms\", \"tpm_mask.nii.gz\" )\n",
      "t2reg_wf.run()"
     ],
     "language": "python",
     "metadata": {},
     "outputs": []
    },
    {
     "cell_type": "code",
     "collapsed": false,
     "input": [
      "topup_wf = wf.topup_correction()\n",
      "topup_wf.base_dir = working_dir\n",
      "\n",
      "topup_wf.inputs.inputnode.in_file_dir = op.join( working_dir , \"dwi.nii.gz\" )\n",
      "topup_wf.inputs.inputnode.in_file_rev = op.join( working_dir , \"dwi_rev.nii.gz\" )\n",
      "topup_wf.inputs.inputnode.encoding_direction = 'y'\n",
      "topup_wf.inputs.inputnode.ref_num = 0\n",
      "topup_wf.run()"
     ],
     "language": "python",
     "metadata": {},
     "outputs": []
    },
    {
     "cell_type": "code",
     "collapsed": false,
     "input": [
      "reload( dmri )\n",
      "tract_wf = dmri.dtk_tractography_workflow()\n",
      "tract_wf.base_dir = working_dir\n",
      "\n",
      "tract_wf.inputs.inputnode.in_dwi  = op.join( model_dir, 'DWIS_dti-scheme_no-noise.nii.gz' )\n",
      "tract_wf.inputs.inputnode.in_bvec = op.join( model_dir, 'dti-scheme.bvec' ) \n",
      "tract_wf.inputs.inputnode.in_bval = op.join( model_dir, 'dti-scheme.bval' )\n",
      "tract_wf.inputs.inputnode.in_mask = op.join( model_dir, 'signal_mask.nii.gz' )\n",
      "tract_wf.run()"
     ],
     "language": "python",
     "metadata": {},
     "outputs": []
    },
    {
     "cell_type": "code",
     "collapsed": false,
     "input": [
      "evaluation = pe.Workflow( name='ISBI2014_Evaluation' )\n",
      "\n",
      "inputnode = pe.Node( niu.IdentityInterface( fields=['in_dwi','in_dwi_mask',\n",
      "                                                    'in_t2', 'in_t2_mask',\n",
      "                                                    'in_bvec','in_bval',\n",
      "                                                    'in_rois','wm_mask' ] ),\n",
      "                     name='inputnode' )\n",
      "\n",
      "te_incr = 2.46e-3 # secs\n",
      "dwell_time = 0.77e-3 # secs\n",
      "\n",
      "dist1_wf = dmri.distortion_workflow( name='Distortion_Y' )\n",
      "dist1_wf.inputs.inputnode.te_incr = te_incr\n",
      "dist1_wf.inputs.inputnode.echospacing = dwell_time\n",
      "dist1_wf.inputs.inputnode.encoding_direction = 'y'\n",
      "\n",
      "dist2_wf = dist1_wf.clone( 'Distortion_Y-' )\n",
      "dist2_wf.inputs.inputnode.encoding_direction = 'y-'\n",
      "        \n",
      "        \n",
      "fmap_wf = wf.fieldmap_correction()\n",
      "fmap_wf.inputs.inputnode.te_diff = te_incr*1e3 # in ms.\n",
      "fmap_wf.inputs.inputnode.epi_echospacing = dwell_time*1e3 # in ms\n",
      "fmap_wf.inputs.inputnode.vsm_sigma = 2.0\n",
      "fmap_wf.inputs.inputnode.encoding_direction = 'y'\n",
      "\n",
      "t2reg_wf = dmri.t2_registration_correct()\n",
      "\n",
      "topup_wf = wf.topup_correction()\n",
      "topup_wf.inputs.inputnode.encoding_direction = 'y'\n",
      "topup_wf.inputs.inputnode.ref_num = 0\n",
      "\n",
      "trk_gold = dmri.dtk_tractography_workflow(name='Tract_Gold')\n",
      "trk_fmap = trk_gold.clone('Tract_Fmap' )\n",
      "trk_t2re = trk_gold.clone('Tract_T2Reg' )\n",
      "trk_rev  = trk_gold.clone('Tract_Rev' )\n",
      "\n",
      "evaluation.connect([\n",
      "    # Connect the distortion workflows\n",
      "     (inputnode,      dist1_wf, [ ('in_dwi','inputnode.in_file'),('in_dwi_mask','inputnode.in_mask') ])\n",
      "    ,(inputnode,      dist2_wf, [ ('in_dwi','inputnode.in_file'),('in_dwi_mask','inputnode.in_mask') ])\n",
      "    # Correct with fieldmap and perform tractography\n",
      "    ,(dist1_wf,        fmap_wf, [ ('outputnode.out_file','inputnode.in_file'),('outputnode.out_phdiff_map','inputnode.fieldmap_pha') ])\n",
      "    ,(inputnode,       fmap_wf, [ ('in_dwi_mask','inputnode.in_mask'),('in_dwi_mask','inputnode.fieldmap_mag' ) ])\n",
      "    # Correct with topup\n",
      "    ,(dist1_wf,       topup_wf, [ ('outputnode.out_file','inputnode.in_file_dir') ])\n",
      "    ,(dist2_wf,       topup_wf, [ ('outputnode.out_file','inputnode.in_file_rev') ])\n",
      "    # Correct with registration\n",
      "    ,(dist1_wf,       t2reg_wf, [ ('outputnode.out_file','inputnode.in_file'),('outputnode.out_mask','inputnode.in_mask_dwi') ])\n",
      "    ,(inputnode,      t2reg_wf, [ ('in_t2','inputnode.in_t2'),('in_t2_mask','inputnode.in_mask_t2')])\n",
      "    #\n",
      "    # Tractographies\n",
      "    #\n",
      "    # Perform tractography on the original phantom\n",
      "    ,(inputnode,      trk_gold, [ ('in_dwi','inputnode.in_dwi'),('wm_mask','inputnode.in_mask' ), ('in_rois','inputnode.roi_file'),\n",
      "                                  ('in_bvec','inputnode.in_bvec'),('in_bval','inputnode.in_bval' ) ])\n",
      "    # Perform tractography on the fieldmap corrected\n",
      "    ,(inputnode,      trk_fmap, [ ('wm_mask','inputnode.in_mask' ), ('in_rois','inputnode.roi_file'),\n",
      "                                  ('in_bvec','inputnode.in_bvec'),('in_bval','inputnode.in_bval' ) ])\n",
      "    ,(fmap_wf,        trk_fmap, [ ('outputnode.epi_corrected','inputnode.in_dwi' ) ])\n",
      "    # Perform tractography on the topup corrected\n",
      "    ,(inputnode,       trk_rev, [ ('wm_mask','inputnode.in_mask' ), ('in_rois','inputnode.roi_file'),\n",
      "                                  ('in_bvec','inputnode.in_bvec'),('in_bval','inputnode.in_bval' ) ])\n",
      "    ,(topup_wf,        trk_rev, [ ('outputnode.epi_corrected','inputnode.in_dwi' ) ])\n",
      "    # Perform tractography on the t2-registration corrected\n",
      "    ,(inputnode,      trk_t2re, [ ('wm_mask','inputnode.in_mask' ), ('in_rois','inputnode.roi_file'),\n",
      "                                  ('in_bvec','inputnode.in_bvec'),('in_bval','inputnode.in_bval' ) ])\n",
      "    ,(t2reg_wf,       trk_t2re, [ ('outputnode.epi_corrected','inputnode.in_dwi' ) ])\n",
      "    ])"
     ],
     "language": "python",
     "metadata": {},
     "outputs": []
    }
   ],
   "metadata": {}
  }
 ]
}