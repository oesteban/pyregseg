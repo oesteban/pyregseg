{
 "metadata": {
  "name": "Phantom1_test"
 },
 "nbformat": 3,
 "nbformat_minor": 0,
 "worksheets": [
  {
   "cells": [
    {
     "cell_type": "code",
     "collapsed": false,
     "input": [
      "import os\n",
      "import os.path as op\n",
      "import shutil as sh\n",
      "import nibabel as nib\n",
      "\n",
      "root_dir = '/home/oesteban/workspace/ACWE-Reg/'\n",
      "\n",
      "\n",
      "import sys\n",
      "sys.path.append( op.join( root_dir, 'Scripts/workflows' ) )\n",
      "sys.path.append( op.join( root_dir, 'Scripts/util' ) )\n",
      "\n",
      "import dmri as dmri\n",
      "import surfaces as surf\n",
      "import misc as misc\n",
      "\n",
      "import scipy.ndimage as ndimage"
     ],
     "language": "python",
     "metadata": {},
     "outputs": [
      {
       "output_type": "stream",
       "stream": "stderr",
       "text": [
        "/usr/local/lib/python2.7/dist-packages/nose/plugins/manager.py:418: UserWarning: Module PIL was already imported from /usr/local/lib/python2.7/dist-packages/PIL/__init__.pyc, but /usr/lib/python2.7/dist-packages is being added to sys.path\n",
        "  import pkg_resources\n"
       ]
      }
     ],
     "prompt_number": 1
    },
    {
     "cell_type": "code",
     "collapsed": false,
     "input": [
      "phantom_id = 1\n",
      "\n",
      "data_dir= op.join( root_dir, 'Data' )\n",
      "mname = 'Phantom%d_test' % phantom_id\n",
      "model_dir = op.join( data_dir, mname )\n",
      "tpms_dir = op.join( model_dir, 'tpms' )\n",
      "\n",
      "working_dir= op.join( root_dir, 'temp', mname )\n",
      "\n",
      "if not op.exists( working_dir ):\n",
      "    os.makedirs( working_dir )\n",
      "    \n",
      "if not op.exists( tpms_dir ):\n",
      "    os.makedirs( tpms_dir )"
     ],
     "language": "python",
     "metadata": {},
     "outputs": [],
     "prompt_number": 2
    },
    {
     "cell_type": "code",
     "collapsed": false,
     "input": [
      "t1_fname = op.join( model_dir, 't1_weighted.nii.gz' )\n",
      "tpmfnames = [ op.join( tpms_dir, '%s_tpm.nii.gz' % n ) for n in ['wm'] ]\n",
      "roifnames = [ op.join( working_dir, 'roi_%s.nii.gz' % n ) for n in ['wm', 'gm' ] ]\n",
      "modelfname = op.join( model_dir, 'model.nii.gz' ) \n",
      "maskfile = op.join( model_dir, 'signal_mask.nii.gz' )\n",
      "\n",
      "dist_fname = op.join( model_dir, 'signal_deformed.nii.gz' )\n",
      "dfnames = [ op.join( model_dir, '%s_deformed.nii.gz' % n ) for n in ['t1','t2'] ]\n",
      "\n",
      "\n",
      "set_snr = 20\n",
      "dwifile = os.path.join( model_dir, 'signal_SNR%d.nii.gz' % set_snr )"
     ],
     "language": "python",
     "metadata": {},
     "outputs": [],
     "prompt_number": 4
    },
    {
     "cell_type": "code",
     "collapsed": false,
     "input": [
      "datashape= ( 101,101,101 )\n",
      "affine = np.identity( 4 )\n",
      "affine[0:3,3] = -0.5 * np.array( datashape, dtype=np.float32 )\n",
      "hdr = nib.Nifti1Header( )\n",
      "hdr['data_type'] = 2\n",
      "hdr.set_data_dtype( np.uint8 )\n",
      "\n",
      "center_pix = ((np.array( datashape )-1)*0.5).astype(np.uint8)\n",
      "radius = 35"
     ],
     "language": "python",
     "metadata": {},
     "outputs": [],
     "prompt_number": 5
    },
    {
     "cell_type": "code",
     "collapsed": false,
     "input": [
      "modelbase = misc.ball( datashape, radius )\n",
      "mask = modelbase.copy()\n",
      "#modelbase[center_pix[0],:, center_pix[2]: ] = 0"
     ],
     "language": "python",
     "metadata": {},
     "outputs": [],
     "prompt_number": 6
    },
    {
     "cell_type": "code",
     "collapsed": false,
     "input": [
      "ball1 = misc.ball(11,4.5)\n",
      "ball2 = misc.ball(11,4.4)\n",
      "\n",
      "wm = ndimage.binary_opening( ndimage.binary_erosion( modelbase, structure=ball1 ).astype( np.uint8 ), structure=ball1 ).astype( np.uint8 )\n",
      "nii_wm = nib.Nifti1Image( mask.astype( np.uint8 ), affine, hdr )\n",
      "nib.save( nii_wm, tpmfnames[0] )\n",
      "\n",
      "nii_surf = nib.Nifti1Image( wm.astype( np.uint8 ), affine, hdr )\n",
      "nib.save( nii_surf, roifnames[0] )\n",
      "\n",
      "gm = ndimage.binary_dilation( modelbase, structure=ball1 ).astype( np.uint8 )\n",
      "nii_gm = nib.Nifti1Image( gm.astype( np.uint8 ), affine, hdr )\n",
      "nib.save( nii_gm, roifnames[1] )"
     ],
     "language": "python",
     "metadata": {},
     "outputs": [],
     "prompt_number": 7
    },
    {
     "cell_type": "code",
     "collapsed": false,
     "input": [
      "t1 = (modelbase_fill * 20.0 ).astype( np.uint8 )\n",
      "t2 = (modelbase_fill * 1.0  ).astype( np.uint8 )\n",
      "\n",
      "mask = modelbase_fill.copy()\n",
      "nib.save( nib.Nifti1Image( modelbase_fill, affine, hdr ), maskfile )\n",
      "nib.save( nib.Nifti1Image( t1, affine, hdr ), op.join( model_dir, 't1_weighted_no-noise.nii.gz' ) )\n",
      "nib.save( nib.Nifti1Image( t2, affine, hdr ), op.join( model_dir, 't2_weighted_no-noise.nii.gz' ) )"
     ],
     "language": "python",
     "metadata": {},
     "outputs": [],
     "prompt_number": 19
    },
    {
     "cell_type": "code",
     "collapsed": false,
     "input": [
      "from nipype.algorithms.misc import AddNoise\n",
      "\n",
      "for snr in [ 10, 20, 30 ]:\n",
      "    t1fname = op.join( model_dir, 't1_weighted_SNR%d.nii.gz' % snr )\n",
      "    t2fname = op.join( model_dir, 't2_weighted_SNR%d.nii.gz' % snr )\n",
      "    \n",
      "    t1_noise = AddNoise()\n",
      "    t1_noise.inputs.in_file = op.join( model_dir, 't1_weighted_no-noise.nii.gz' )\n",
      "    t1_noise.inputs.in_mask = op.join( model_dir, 'signal_mask.nii.gz' )\n",
      "    t1_noise.inputs.out_file = t1fname\n",
      "    t1_noise.inputs.snr = snr\n",
      "    res = t1_noise.run()\n",
      "    \n",
      "    t2_noise = AddNoise()\n",
      "    t2_noise.inputs.in_file = op.join( model_dir, 't2_weighted_no-noise.nii.gz' )\n",
      "    t2_noise.inputs.in_mask = op.join( model_dir, 'signal_mask.nii.gz' )\n",
      "    t2_noise.inputs.out_file = op.join( model_dir, 't2_weighted_SNR%d.nii.gz' % snr )\n",
      "    t2_noise.inputs.snr = snr\n",
      "    res = t2_noise.run()\n",
      "    \n",
      "    nii_signal = nib.concat_images( [ nib.load(t1fname), nib.load(t2fname) ] )\n",
      "    nib.save(nii_signal, op.join( model_dir, 'signal_SNR%d.nii.gz' % snr ) )"
     ],
     "language": "python",
     "metadata": {},
     "outputs": [],
     "prompt_number": 20
    },
    {
     "cell_type": "code",
     "collapsed": false,
     "input": [
      "t1_data = nib.load( op.join( model_dir, 't1_weighted_SNR20.nii.gz' ) ).get_data()\n",
      "t1_data = 255 * t1_data / t1_data.max()\n",
      "nii_t1 = nib.Nifti1Image(t1_data.astype( np.uint8 ), affine, hdr )\n",
      "nib.save( nii_t1, t1_fname)\n",
      "\n",
      "t2_data = nib.load( op.join( model_dir, 't2_weighted_SNR20.nii.gz' ) ).get_data()\n",
      "t2_data = 255 * t2_data / t2_data.max()\n",
      "nii_t2 = nib.Nifti1Image( t2_data.astype( np.float32 ), affine, hdr )\n",
      "nib.save(nii_t2, op.join( model_dir, 't2_weighted.nii.gz' ) )\n",
      "\n",
      "nii_signal = nib.concat_images( [ nii_t1, nii_t2 ] )\n",
      "nib.save(nii_signal, op.join( model_dir, 'signal.nii.gz' ) )"
     ],
     "language": "python",
     "metadata": {},
     "outputs": [],
     "prompt_number": 21
    },
    {
     "cell_type": "code",
     "collapsed": false,
     "input": [
      "names = ['white.vtk','pial.vtk']\n",
      "for i,rname in enumerate( roifnames ):\n",
      "    wf = surf.binary2contour_workflow( name=(\"Contour_%02d\" % i ))\n",
      "    wf.base_dir = working_dir\n",
      "    wf.inputs.inputnode.in_file = rname\n",
      "    wf.inputs.inputnode.in_norm = t1_fname\n",
      "    wf.inputs.inputnode.out_folder = working_dir\n",
      "    res = wf.run()\n",
      "\n",
      "    fname,ext = op.splitext( op.basename(rname) )\n",
      "    if ext == '.gz':\n",
      "        fname,_ = op.splitext( fname )\n",
      "    \n",
      "    dest = op.join( model_dir, 'surfs', names[i] )\n",
      "    out_fname = op.join( working_dir, 'surfs', fname + '_pretess_smoothed.mgz_1_conv.vtk' )\n",
      "    sh.copyfile( out_fname, dest )"
     ],
     "language": "python",
     "metadata": {},
     "outputs": [
      {
       "output_type": "stream",
       "stream": "stdout",
       "text": [
        "131017-19:32:10,473 workflow INFO:\n",
        "\t ['check', 'execution', 'logging']\n"
       ]
      },
      {
       "output_type": "stream",
       "stream": "stdout",
       "text": [
        "131017-19:32:10,477 workflow INFO:\n",
        "\t Running serially.\n"
       ]
      },
      {
       "output_type": "stream",
       "stream": "stdout",
       "text": [
        "131017-19:32:10,478 workflow INFO:\n",
        "\t Executing node pretess in dir: /home/oesteban/workspace/ACWE-Reg/temp/Phantom1_test/Contour_00/pretess\n"
       ]
      },
      {
       "output_type": "stream",
       "stream": "stdout",
       "text": [
        "131017-19:32:10,478 workflow INFO:\n",
        "\t Collecting precomputed outputs\n"
       ]
      },
      {
       "output_type": "stream",
       "stream": "stdout",
       "text": [
        "131017-19:32:10,481 workflow INFO:\n",
        "\t Executing node tess in dir: /home/oesteban/workspace/ACWE-Reg/temp/Phantom1_test/Contour_00/tess\n"
       ]
      },
      {
       "output_type": "stream",
       "stream": "stdout",
       "text": [
        "131017-19:32:10,482 workflow INFO:\n",
        "\t Collecting precomputed outputs\n"
       ]
      },
      {
       "output_type": "stream",
       "stream": "stdout",
       "text": [
        "131017-19:32:10,485 workflow INFO:\n",
        "\t Executing node mris_smooth in dir: /home/oesteban/workspace/ACWE-Reg/temp/Phantom1_test/Contour_00/mris_smooth\n"
       ]
      },
      {
       "output_type": "stream",
       "stream": "stdout",
       "text": [
        "131017-19:32:10,485 workflow INFO:\n",
        "\t Collecting precomputed outputs\n"
       ]
      },
      {
       "output_type": "stream",
       "stream": "stdout",
       "text": [
        "131017-19:32:10,488 workflow INFO:\n",
        "\t Executing node tovtk in dir: /home/oesteban/workspace/ACWE-Reg/temp/Phantom1_test/Contour_00/tovtk\n"
       ]
      },
      {
       "output_type": "stream",
       "stream": "stdout",
       "text": [
        "131017-19:32:10,488 workflow INFO:\n",
        "\t Collecting precomputed outputs\n"
       ]
      },
      {
       "output_type": "stream",
       "stream": "stdout",
       "text": [
        "131017-19:32:10,491 workflow INFO:\n",
        "\t Executing node write in dir: /home/oesteban/workspace/ACWE-Reg/temp/Phantom1_test/Contour_00/write\n"
       ]
      },
      {
       "output_type": "stream",
       "stream": "stdout",
       "text": [
        "131017-19:32:10,516 workflow INFO:\n",
        "\t ['check', 'execution', 'logging']\n"
       ]
      },
      {
       "output_type": "stream",
       "stream": "stdout",
       "text": [
        "131017-19:32:10,520 workflow INFO:\n",
        "\t Running serially.\n"
       ]
      },
      {
       "output_type": "stream",
       "stream": "stdout",
       "text": [
        "131017-19:32:10,520 workflow INFO:\n",
        "\t Executing node pretess in dir: /home/oesteban/workspace/ACWE-Reg/temp/Phantom1_test/Contour_01/pretess\n"
       ]
      },
      {
       "output_type": "stream",
       "stream": "stdout",
       "text": [
        "131017-19:32:10,521 workflow INFO:\n",
        "\t Collecting precomputed outputs\n"
       ]
      },
      {
       "output_type": "stream",
       "stream": "stdout",
       "text": [
        "131017-19:32:10,524 workflow INFO:\n",
        "\t Executing node tess in dir: /home/oesteban/workspace/ACWE-Reg/temp/Phantom1_test/Contour_01/tess\n"
       ]
      },
      {
       "output_type": "stream",
       "stream": "stdout",
       "text": [
        "131017-19:32:10,524 workflow INFO:\n",
        "\t Collecting precomputed outputs\n"
       ]
      },
      {
       "output_type": "stream",
       "stream": "stdout",
       "text": [
        "131017-19:32:10,527 workflow INFO:\n",
        "\t Executing node mris_smooth in dir: /home/oesteban/workspace/ACWE-Reg/temp/Phantom1_test/Contour_01/mris_smooth\n"
       ]
      },
      {
       "output_type": "stream",
       "stream": "stdout",
       "text": [
        "131017-19:32:10,528 workflow INFO:\n",
        "\t Collecting precomputed outputs\n"
       ]
      },
      {
       "output_type": "stream",
       "stream": "stdout",
       "text": [
        "131017-19:32:10,532 workflow INFO:\n",
        "\t Executing node tovtk in dir: /home/oesteban/workspace/ACWE-Reg/temp/Phantom1_test/Contour_01/tovtk\n"
       ]
      },
      {
       "output_type": "stream",
       "stream": "stdout",
       "text": [
        "131017-19:32:10,532 workflow INFO:\n",
        "\t Collecting precomputed outputs\n"
       ]
      },
      {
       "output_type": "stream",
       "stream": "stdout",
       "text": [
        "131017-19:32:10,535 workflow INFO:\n",
        "\t Executing node write in dir: /home/oesteban/workspace/ACWE-Reg/temp/Phantom1_test/Contour_01/write\n"
       ]
      }
     ],
     "prompt_number": 9
    },
    {
     "cell_type": "code",
     "collapsed": false,
     "input": [
      "te_incr = 2.46e-3 # secs\n",
      "dwell_time = 0.77e-3 # secs\n",
      "edir = 'z'\n",
      "\n",
      "wf = dmri.distortion_workflow()\n",
      "wf.base_dir = working_dir\n",
      "wf.inputs.inputnode.in_file = dwifile\n",
      "wf.inputs.inputnode.in_mask = maskfile\n",
      "wf.inputs.inputnode.te_incr = te_incr\n",
      "wf.inputs.inputnode.echospacing = dwell_time\n",
      "wf.inputs.inputnode.encoding_direction = edir\n",
      "wf.inputs.inputnode.intensity = 0.05\n",
      "wf.inputs.inputnode.sigma = 8.0\n",
      "wf.inputs.inputnode.in_tpms = tpmfnames\n",
      "wf.run()"
     ],
     "language": "python",
     "metadata": {},
     "outputs": [
      {
       "output_type": "stream",
       "stream": "stdout",
       "text": [
        "131017-08:43:37,781 workflow INFO:\n",
        "\t ['check', 'execution', 'logging']\n"
       ]
      },
      {
       "output_type": "stream",
       "stream": "stdout",
       "text": [
        "131017-08:43:37,789 workflow INFO:\n",
        "\t Running serially.\n"
       ]
      },
      {
       "output_type": "stream",
       "stream": "stdout",
       "text": [
        "131017-08:43:37,790 workflow INFO:\n",
        "\t Executing node gen_siemens_PhaseDiffMap in dir: /home/oesteban/workspace/ACWE-Reg/temp/Phantom1_test/synthetic_distortion/gen_siemens_PhaseDiffMap\n"
       ]
      },
      {
       "output_type": "stream",
       "stream": "stdout",
       "text": [
        "131017-08:43:37,791 workflow INFO:\n",
        "\t Collecting precomputed outputs\n"
       ]
      },
      {
       "output_type": "stream",
       "stream": "stdout",
       "text": [
        "131017-08:43:37,794 workflow INFO:\n",
        "\t Executing node split_DWI in dir: /home/oesteban/workspace/ACWE-Reg/temp/Phantom1_test/synthetic_distortion/Fugue_WarpDWIs/split_DWI\n"
       ]
      },
      {
       "output_type": "stream",
       "stream": "stdout",
       "text": [
        "131017-08:43:37,795 workflow INFO:\n",
        "\t Collecting precomputed outputs\n"
       ]
      },
      {
       "output_type": "stream",
       "stream": "stdout",
       "text": [
        "131017-08:43:37,797 workflow INFO:\n",
        "\t Executing node fsl_prepare_fieldmap in dir: /home/oesteban/workspace/ACWE-Reg/temp/Phantom1_test/synthetic_distortion/fsl_prepare_fieldmap\n"
       ]
      },
      {
       "output_type": "stream",
       "stream": "stdout",
       "text": [
        "131017-08:43:37,798 workflow INFO:\n",
        "\t Collecting precomputed outputs\n"
       ]
      },
      {
       "output_type": "stream",
       "stream": "stdout",
       "text": [
        "131017-08:43:37,801 workflow INFO:\n",
        "\t Executing node gen_VSM in dir: /home/oesteban/workspace/ACWE-Reg/temp/Phantom1_test/synthetic_distortion/gen_VSM\n"
       ]
      },
      {
       "output_type": "stream",
       "stream": "stdout",
       "text": [
        "131017-08:43:37,802 workflow INFO:\n",
        "\t Collecting precomputed outputs\n"
       ]
      },
      {
       "output_type": "stream",
       "stream": "stdout",
       "text": [
        "131017-08:43:37,805 workflow INFO:\n",
        "\t Executing node demean in dir: /home/oesteban/workspace/ACWE-Reg/temp/Phantom1_test/synthetic_distortion/demean\n"
       ]
      },
      {
       "output_type": "stream",
       "stream": "stdout",
       "text": [
        "131017-08:43:37,806 workflow INFO:\n",
        "\t Collecting precomputed outputs\n"
       ]
      },
      {
       "output_type": "stream",
       "stream": "stdout",
       "text": [
        "131017-08:43:37,811 workflow INFO:\n",
        "\t Executing node Fugue_Warp in dir: /home/oesteban/workspace/ACWE-Reg/temp/Phantom1_test/synthetic_distortion/Fugue_WarpDWIs/Fugue_Warp\n"
       ]
      },
      {
       "output_type": "stream",
       "stream": "stdout",
       "text": [
        "131017-08:43:37,816 workflow INFO:\n",
        "\t Executing node merge_DWI in dir: /home/oesteban/workspace/ACWE-Reg/temp/Phantom1_test/synthetic_distortion/Fugue_WarpDWIs/merge_DWI\n"
       ]
      },
      {
       "output_type": "stream",
       "stream": "stdout",
       "text": [
        "131017-08:43:37,817 workflow INFO:\n",
        "\t Collecting precomputed outputs\n"
       ]
      },
      {
       "output_type": "stream",
       "stream": "stdout",
       "text": [
        "131017-08:43:37,820 workflow INFO:\n",
        "\t Executing node WarpImages in dir: /home/oesteban/workspace/ACWE-Reg/temp/Phantom1_test/synthetic_distortion/WarpImages\n"
       ]
      },
      {
       "output_type": "stream",
       "stream": "stdout",
       "text": [
        "131017-08:43:37,824 workflow INFO:\n",
        "\t Executing node Normalize in dir: /home/oesteban/workspace/ACWE-Reg/temp/Phantom1_test/synthetic_distortion/Normalize\n"
       ]
      },
      {
       "output_type": "stream",
       "stream": "stdout",
       "text": [
        "131017-08:43:37,824 workflow INFO:\n",
        "\t Collecting precomputed outputs\n"
       ]
      },
      {
       "output_type": "stream",
       "stream": "stdout",
       "text": [
        "131017-08:43:37,827 workflow INFO:\n",
        "\t Executing node Fugue_WarpMask in dir: /home/oesteban/workspace/ACWE-Reg/temp/Phantom1_test/synthetic_distortion/Fugue_WarpMask\n"
       ]
      },
      {
       "output_type": "stream",
       "stream": "stdout",
       "text": [
        "131017-08:43:37,827 workflow INFO:\n",
        "\t Collecting precomputed outputs\n"
       ]
      },
      {
       "output_type": "stream",
       "stream": "stdout",
       "text": [
        "131017-08:43:37,830 workflow INFO:\n",
        "\t Executing node binarize in dir: /home/oesteban/workspace/ACWE-Reg/temp/Phantom1_test/synthetic_distortion/binarize\n"
       ]
      },
      {
       "output_type": "stream",
       "stream": "stdout",
       "text": [
        "131017-08:43:37,831 workflow INFO:\n",
        "\t Collecting precomputed outputs\n"
       ]
      },
      {
       "output_type": "stream",
       "stream": "stderr",
       "text": [
        "/home/oesteban/workspace/nipype/nipype/interfaces/fsl/preprocess.py:1247: UserWarning: This interface has not been fully tested. Please report any failures.\n",
        "  'This interface has not been fully tested. Please report any failures.')\n",
        "/home/oesteban/workspace/nipype/nipype/interfaces/base.py:376: UserWarning: Input icorr requires inputs: shift_in_file\n",
        "  warn(msg)\n",
        "/home/oesteban/workspace/nipype/nipype/interfaces/fsl/preprocess.py:1247: UserWarning: This interface has not been fully tested. Please report any failures.\n",
        "  'This interface has not been fully tested. Please report any failures.')\n",
        "/home/oesteban/workspace/nipype/nipype/interfaces/fsl/preprocess.py:1247: UserWarning: This interface has not been fully tested. Please report any failures.\n",
        "  'This interface has not been fully tested. Please report any failures.')\n",
        "/home/oesteban/workspace/nipype/nipype/interfaces/base.py:376: UserWarning: Input icorr requires inputs: shift_in_file\n",
        "  warn(msg)\n",
        "/home/oesteban/workspace/nipype/nipype/interfaces/fsl/preprocess.py:1247: UserWarning: This interface has not been fully tested. Please report any failures.\n",
        "  'This interface has not been fully tested. Please report any failures.')\n"
       ]
      },
      {
       "output_type": "pyout",
       "prompt_number": 32,
       "text": [
        "<networkx.classes.digraph.DiGraph at 0xcae7810>"
       ]
      }
     ],
     "prompt_number": 32
    },
    {
     "cell_type": "code",
     "collapsed": false,
     "input": [
      "import shutil as sh\n",
      "dist_out = op.join( working_dir, 'synthetic_distortion/Fugue_WarpDWIs/merge_DWI/signal_SNR20_000_warped_merged.nii.gz' )\n",
      "sh.copyfile( dist_out, dist_fname )\n",
      "\n",
      "im = nib.load( dist_fname )\n",
      "imgs = nib.four_to_three( im )\n",
      "\n",
      "for fname,imfile in zip( dfnames, imgs ):\n",
      "    nib.save( imfile, fname )"
     ],
     "language": "python",
     "metadata": {},
     "outputs": [],
     "prompt_number": 30
    },
    {
     "cell_type": "markdown",
     "metadata": {},
     "source": [
      "<h1>Surface decimation</h1>\n",
      "Ref: <a href=\"http://docs.enthought.com/mayavi/mayavi/auto/example_julia_set_decimation.html\">Mayavi code for decimation</a>"
     ]
    },
    {
     "cell_type": "code",
     "collapsed": false,
     "input": [
      "def decimate_mesh( in_file, out_file=None, reduction=0.95, smoothing_it=5 ):\n",
      "    import os.path as op\n",
      "    from mayavi import mlab\n",
      "    from tvtk.api import tvtk\n",
      "        \n",
      "    if out_file is None:\n",
      "        fname,fext = op.splitext( op.basename( in_file ) )\n",
      "        if fext == '.gz':\n",
      "            fname, fext2 = op.splitext( fname )\n",
      "            fext = fext2+fext\n",
      "            \n",
      "    reader =tvtk.PolyDataReader( file_name=in_file )\n",
      "    \n",
      "    dec = tvtk.DecimatePro(input=reader.output, target_reduction=reduction)\n",
      "    smooth = tvtk.SmoothPolyDataFilter( input=dec.output, number_of_iterations=smoothing_it )\n",
      "    writer = tvtk.PolyDataWriter( file_name=out_file, input=smooth.output )\n",
      "    reader.update()\n",
      "    dec.update()\n",
      "    smooth.update()\n",
      "    writer.update()\n",
      "    return out_file"
     ],
     "language": "python",
     "metadata": {},
     "outputs": [],
     "prompt_number": 10
    },
    {
     "cell_type": "code",
     "collapsed": false,
     "input": [
      "decimate_mesh( os.path.join( model_dir, 'surfs', 'white.vtk' ), out_file=os.path.join( model_dir, 'surfs', 'white_decimated.vtk' ), smoothing_it=15)"
     ],
     "language": "python",
     "metadata": {},
     "outputs": [
      {
       "output_type": "pyout",
       "prompt_number": 40,
       "text": [
        "'/home/oesteban/workspace/ACWE-Reg/Data/Phantom1_test/surfs/white_decimated.vtk'"
       ]
      }
     ],
     "prompt_number": 40
    },
    {
     "cell_type": "code",
     "collapsed": false,
     "input": [
      "decimate_mesh( os.path.join( model_dir, 'surfs', 'pial.vtk' ), out_file=os.path.join( model_dir, 'surfs', 'pial_decimated.vtk' ))"
     ],
     "language": "python",
     "metadata": {},
     "outputs": [
      {
       "output_type": "pyout",
       "prompt_number": 11,
       "text": [
        "'/home/oesteban/workspace/ACWE-Reg/Data/Phantom1_test/surfs/pial_decimated.vtk'"
       ]
      }
     ],
     "prompt_number": 11
    },
    {
     "cell_type": "code",
     "collapsed": false,
     "input": [],
     "language": "python",
     "metadata": {},
     "outputs": []
    }
   ],
   "metadata": {}
  }
 ]
}