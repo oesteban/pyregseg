{
 "metadata": {
  "name": ""
 },
 "nbformat": 3,
 "nbformat_minor": 0,
 "worksheets": [
  {
   "cells": [
    {
     "cell_type": "code",
     "collapsed": false,
     "input": [
      "import os\n",
      "import os.path as op\n",
      "import nibabel as nb\n",
      "import shutil as sh\n",
      "\n",
      "from traits.etsconfig.api import ETSConfig\n",
      "ETSConfig.toolkit = 'null'\n",
      "    \n",
      "project_dir = '/home/oesteban/workspace/RegSeg/'\n",
      "\n",
      "import sys\n",
      "sys.path.append( op.join( project_dir, 'Scripts/workflows' ) )\n",
      "sys.path.append( op.join( project_dir, 'Scripts/util' ) )\n",
      "\n",
      "import pyacwereg.utils.misc as misc"
     ],
     "language": "python",
     "metadata": {},
     "outputs": [],
     "prompt_number": 1
    },
    {
     "cell_type": "code",
     "collapsed": false,
     "input": [
      "phantom_id = 6\n",
      "\n",
      "data_dir= op.join( project_dir, 'Data' )\n",
      "phantomname = 'Phantom%d' % phantom_id\n",
      "phantom_dir = op.join( data_dir, phantomname )\n",
      "workdir= op.join( project_dir, 'temp', phantomname )\n",
      "shapenames = [ 'ball', 'box', 'gyrus', 'L' ]\n",
      "#shapenames = [ 'L' ]\n",
      "\n",
      "rois = [ 'bg', 'wm', 'gm', 'csf' ]\n",
      "snrs = [ 10, 20, 30 ]\n",
      "\n",
      "if not op.exists( workdir ):\n",
      "    os.makedirs( workdir )"
     ],
     "language": "python",
     "metadata": {},
     "outputs": [],
     "prompt_number": 2
    },
    {
     "cell_type": "markdown",
     "metadata": {},
     "source": [
      "<h1>Surface decimation</h1>\n",
      "Ref: <a href=\"http://docs.enthought.com/mayavi/mayavi/auto/example_julia_set_decimation.html\">Mayavi code for decimation</a>"
     ]
    },
    {
     "cell_type": "code",
     "collapsed": false,
     "input": [
      "def decimate_mesh( in_file, out_file=None, reduction=0.95, smoothing_it=5 ):\n",
      "    import os.path as op\n",
      "    from mayavi import mlab\n",
      "    from tvtk.api import tvtk\n",
      "        \n",
      "    if out_file is None:\n",
      "        fname,fext = op.splitext( op.basename( in_file ) )\n",
      "        if fext == '.gz':\n",
      "            fname, fext2 = op.splitext( fname )\n",
      "            fext = fext2+fext\n",
      "            \n",
      "    reader =tvtk.PolyDataReader( file_name=in_file )\n",
      "    \n",
      "    dec = tvtk.DecimatePro(input=reader.output, target_reduction=reduction)\n",
      "    smooth = tvtk.SmoothPolyDataFilter( input=dec.output, number_of_iterations=smoothing_it )\n",
      "    writer = tvtk.PolyDataWriter( file_name=out_file, input=smooth.output )\n",
      "    reader.update()\n",
      "    dec.update()\n",
      "    smooth.update()\n",
      "    writer.update()\n",
      "    return out_file"
     ],
     "language": "python",
     "metadata": {},
     "outputs": [],
     "prompt_number": 3
    },
    {
     "cell_type": "markdown",
     "metadata": {},
     "source": [
      "<h1>Generate phantoms</h1>"
     ]
    },
    {
     "cell_type": "code",
     "collapsed": false,
     "input": [
      "import pyacwereg.workflows.dmri as dmri\n",
      "import pyacwereg.workflows.surfaces as surf\n",
      "\n",
      "isCortex = True\n",
      "te_incr = 2.46e-3 # secs\n",
      "dwell_time = 0.77e-3 # secs\n",
      "edir = 'z'\n",
      "cnames = [ 't1w', 't2w' ]\n",
      "\n",
      "for sname in shapenames:\n",
      "    model_dir = op.join( phantom_dir, sname )\n",
      "    if not op.exists( model_dir ):\n",
      "        os.makedirs( model_dir )\n",
      "        \n",
      "    roifnames = [ op.join( workdir, '%s_tpm_%s.nii.gz' % (sname,rname) ) for rname in rois ]\n",
      "    mdata = misc.genShape( sname, cortex=isCortex )\n",
      "    \n",
      "    for i,data in enumerate( mdata ):\n",
      "        nb.save( misc.genNiftiVol( data ), roifnames[i] )\n",
      "        \n",
      "    nb.save( misc.genNiftiVol( mdata ), op.join( model_dir, 'model.nii.gz' ) )\n",
      "    mask = np.ones_like( mdata[0] ) - mdata[0]\n",
      "    immask = op.join( model_dir, 'mask.nii.gz' ) \n",
      "    nb.save( misc.genNiftiVol( mask ), immask )\n",
      "    \n",
      "    contrasts = [ misc.genContrast( mdata, [ 110, 70 ] ), misc.genContrast( mdata, [ 70, 90 ] ) ]\n",
      "    \n",
      "    n = misc.genNiftiVol( contrasts )\n",
      "    mriname = op.join( model_dir, 'mri-noise-free.nii.gz' )\n",
      "    nb.save( n, mriname )\n",
      "\n",
      "    for snr in snrs:\n",
      "        imgs = []\n",
      "        for cdata,cname in zip(contrasts, cnames):\n",
      "            noisy = misc.gen_noise( cdata, mask )\n",
      "            noisy = 255 * noisy / noisy.max()\n",
      "            imgs.append( noisy )\n",
      "            \n",
      "            #outname = op.join( workdir, '%s-SNR%d.nii.gz' % (cname,snr) )\n",
      "            #impath =  op.join( workdir, '%s-noise-free.nii.gz' % cname )\n",
      "            #nb.save( genNiftiVol( cdata ), impath )\n",
      "            #addnoise = AddNoise()\n",
      "            #addnoise.inputs.in_file = impath\n",
      "            #addnoise.inputs.in_mask = immask\n",
      "            #addnoise.inputs.out_file = outname\n",
      "            #addnoise.inputs.snr = snr\n",
      "            #res = t1_noise.run()\n",
      "            #imgs.append( nib.load( outname ).get_data() )\n",
      "        nb.save( misc.genNiftiVol( imgs ), op.join( model_dir, 'mri-SNR%d.nii.gz' % snr ) )\n",
      "    \n",
      "    # Generate surfaces\n",
      "    totalImage = np.zeros_like( mdata[0] )\n",
      "    for i,data in enumerate( mdata[1:] ):\n",
      "        t1path = op.join( workdir, '%s-%s-norm.nii.gz' % (sname,cnames[0] ) )\n",
      "        nb.save( misc.genNiftiVol( contrasts[0] ), t1path )\n",
      "        \n",
      "        totalImage = totalImage + data\n",
      "        roiname = op.join( workdir, \"tempROI-%s.nii.gz\" % rois[i+1] )\n",
      "        nb.save( misc.genNiftiVol( totalImage ), roiname )\n",
      "        \n",
      "        wf = surf.binary2contour_workflow( name=(\"Contour_%02d\" % i ))\n",
      "        wf.base_dir = op.join( workdir, sname )\n",
      "        wf.inputs.inputnode.in_file = roiname\n",
      "        wf.inputs.inputnode.in_norm = t1path\n",
      "        wf.inputs.inputnode.out_folder = model_dir\n",
      "        res = wf.run()\n",
      "\n",
      "    # Copy & decimate\n",
      "    for i,data in enumerate( mdata[1:] ):\n",
      "        out_surf_name = op.join( model_dir, 'surfs-%s.vtk' % rois[i+1] )\n",
      "        surf_out = op.join( workdir, sname, 'Contour_%02d' % i, 'tovtk', 'tempROI-%s_pretess_smoothed.mgz_1_conv.vtk' % rois[i+1] )\n",
      "        sh.copyfile( surf_out, out_surf_name )\n",
      "        \n",
      "        out_surfd_name = op.join( model_dir, 'surfs-%s-decimated.vtk' % rois[i+1] )\n",
      "        decimate_mesh( out_surf_name, out_file=out_surfd_name, smoothing_it=15)\n",
      "\n",
      "    \n",
      "    # Model deformation: synthetic distortion\n",
      "#    out_name_dist = op.join( model_dir, 'mri-noise-free-deformed.nii.gz' )\n",
      "#    \n",
      "#    wf = dmri.distortion_workflow()\n",
      "#    wf.base_dir = workdir\n",
      "#    wf.inputs.inputnode.in_file = mriname\n",
      "#    wf.inputs.inputnode.in_mask = immask\n",
      "#    wf.inputs.inputnode.te_incr = te_incr\n",
      "#    wf.inputs.inputnode.echospacing = dwell_time\n",
      "#    wf.inputs.inputnode.encoding_direction = edir\n",
      "#    wf.inputs.inputnode.intensity = 0.05\n",
      "#    wf.inputs.inputnode.sigma = 8.0\n",
      "#    wf.inputs.inputnode.in_tpms = roifnames[1:len(mdata)]\n",
      "#    res = wf.run()\n",
      "    \n",
      "#    dist_out = op.join( workdir, wf.name, 'Fugue_WarpDWIs', 'merge_DWI', 'mri-noise-free_000_warped_merged.nii.gz' )\n",
      "#    dist_msk = op.join( workdir, wf.name, 'Fugue_WarpMask', 'mask_warped.nii.gz' )\n",
      "#    sh.copyfile( dist_out, out_name_dist )\n",
      "#    \n",
      "#    dist_nii = nb.load( dist_out )\n",
      "#    contrasts = [ im.get_data() for im in nb.four_to_three( dist_nii ) ]\n",
      "#    mask = nb.load( dist_msk ).get_data()\n",
      "#    mask[ mask <= 0.75 ] = 0.0\n",
      "#    mask[ mask > 0.0 ] = 1.0\n",
      "#    out_name_mask = op.join( model_dir, 'mri-mask-deformed.nii.gz' )\n",
      "#    nb.save( genNiftiVol( mask ), out_name_mask )\n",
      "    \n",
      "#    for snr in snrs:\n",
      "#        imgs = []\n",
      "#        for cdata,cname in zip(contrasts, cnames):\n",
      "#            noisy = misc.gen_noise( cdata, mask )\n",
      "#            noisy = 255 * noisy / noisy.max()\n",
      "#            imgs.append( noisy )\n",
      "            \n",
      "            #outname = op.join( workdir, '%s-SNR%d.nii.gz' % (cname,snr) )\n",
      "            #impath =  op.join( workdir, '%s-noise-free.nii.gz' % cname )\n",
      "            #nb.save( genNiftiVol( cdata ), impath )\n",
      "            #addnoise = AddNoise()\n",
      "            #addnoise.inputs.in_file = impath\n",
      "            #addnoise.inputs.in_mask = immask\n",
      "            #addnoise.inputs.out_file = outname\n",
      "            #addnoise.inputs.snr = snr\n",
      "            #res = t1_noise.run()\n",
      "            #imgs.append( nib.load( outname ).get_data() )\n",
      "#        nb.save( genNiftiVol( imgs ), op.join( model_dir, 'mri-SNR%d-deformed.nii.gz' % snr ) )\n",
      "    \n",
      "    "
     ],
     "language": "python",
     "metadata": {},
     "outputs": [
      {
       "output_type": "stream",
       "stream": "stderr",
       "text": [
        "/usr/local/lib/python2.7/dist-packages/nose/plugins/manager.py:418: UserWarning: Module PIL was already imported from /usr/local/lib/python2.7/dist-packages/PIL/__init__.pyc, but /usr/lib/python2.7/dist-packages is being added to sys.path\n",
        "  import pkg_resources\n",
        "DEBUG:interface:args_/usr/share/fsl/5.0/etc/fslversion\n"
       ]
      },
      {
       "output_type": "stream",
       "stream": "stderr",
       "text": [
        "DEBUG:interface:{'DISPLAY': ':1'}\n"
       ]
      },
      {
       "output_type": "stream",
       "stream": "stderr",
       "text": [
        "DEBUG:interface:args_/usr/share/fsl/5.0/etc/fslversion\n"
       ]
      },
      {
       "output_type": "stream",
       "stream": "stderr",
       "text": [
        "DEBUG:interface:{'DISPLAY': ':1'}\n"
       ]
      },
      {
       "output_type": "stream",
       "stream": "stderr",
       "text": [
        "DEBUG:interface:args_matlab\n"
       ]
      },
      {
       "output_type": "stream",
       "stream": "stderr",
       "text": [
        "DEBUG:interface:{'DISPLAY': ':1'}\n"
       ]
      },
      {
       "output_type": "stream",
       "stream": "stderr",
       "text": [
        "DEBUG:workflow:networkx 1.4 dev or higher detected\n"
       ]
      },
      {
       "output_type": "stream",
       "stream": "stderr",
       "text": [
        "DEBUG:workflow:(Contour_00.inputnode, Contour_00.pretess): No edge data\n"
       ]
      },
      {
       "output_type": "stream",
       "stream": "stderr",
       "text": [
        "DEBUG:workflow:(Contour_00.inputnode, Contour_00.pretess): new edge data: {'connect': [('in_file', 'in_file'), ('in_norm', 'in_norm')]}\n"
       ]
      },
      {
       "output_type": "stream",
       "stream": "stderr",
       "text": [
        "DEBUG:workflow:(Contour_00.pretess, Contour_00.tess): No edge data\n"
       ]
      },
      {
       "output_type": "stream",
       "stream": "stderr",
       "text": [
        "DEBUG:workflow:(Contour_00.pretess, Contour_00.tess): new edge data: {'connect': [('out_file', 'in_file')]}\n"
       ]
      },
      {
       "output_type": "stream",
       "stream": "stderr",
       "text": [
        "DEBUG:workflow:(Contour_00.tess, Contour_00.mris_smooth): No edge data\n"
       ]
      },
      {
       "output_type": "stream",
       "stream": "stderr",
       "text": [
        "DEBUG:workflow:(Contour_00.tess, Contour_00.mris_smooth): new edge data: {'connect': [('surface', 'in_file')]}\n"
       ]
      },
      {
       "output_type": "stream",
       "stream": "stderr",
       "text": [
        "DEBUG:workflow:(Contour_00.mris_smooth, Contour_00.tovtk): No edge data\n"
       ]
      },
      {
       "output_type": "stream",
       "stream": "stderr",
       "text": [
        "DEBUG:workflow:(Contour_00.mris_smooth, Contour_00.tovtk): new edge data: {'connect': [('surface', 'in_file')]}\n"
       ]
      },
      {
       "output_type": "stream",
       "stream": "stderr",
       "text": [
        "DEBUG:workflow:(Contour_00.tovtk, Contour_00.write): No edge data\n"
       ]
      },
      {
       "output_type": "stream",
       "stream": "stderr",
       "text": [
        "DEBUG:workflow:(Contour_00.tovtk, Contour_00.write): new edge data: {'connect': [('out_file', 'surfs')]}\n"
       ]
      },
      {
       "output_type": "stream",
       "stream": "stderr",
       "text": [
        "DEBUG:workflow:(Contour_00.inputnode, Contour_00.write): No edge data\n"
       ]
      },
      {
       "output_type": "stream",
       "stream": "stderr",
       "text": [
        "DEBUG:workflow:(Contour_00.inputnode, Contour_00.write): new edge data: {'connect': [('out_folder', 'base_directory')]}\n"
       ]
      },
      {
       "output_type": "stream",
       "stream": "stderr",
       "text": [
        "DEBUG:workflow:(Contour_00.write, Contour_00.outputnode): No edge data\n"
       ]
      },
      {
       "output_type": "stream",
       "stream": "stderr",
       "text": [
        "DEBUG:workflow:(Contour_00.write, Contour_00.outputnode): new edge data: {'connect': [('out_file', 'out_file')]}\n"
       ]
      },
      {
       "output_type": "stream",
       "stream": "stderr",
       "text": [
        "DEBUG:workflow:setting nodelevel(Contour_00.inputnode) input in_file = /home/oesteban/workspace/RegSeg/temp/Phantom6/tempROI-wm.nii.gz\n"
       ]
      },
      {
       "output_type": "stream",
       "stream": "stderr",
       "text": [
        "DEBUG:workflow:setting nodelevel(Contour_00.inputnode) input in_norm = /home/oesteban/workspace/RegSeg/temp/Phantom6/ball-t1w-norm.nii.gz\n"
       ]
      },
      {
       "output_type": "stream",
       "stream": "stderr",
       "text": [
        "DEBUG:workflow:setting nodelevel(Contour_00.inputnode) input out_folder = /home/oesteban/workspace/RegSeg/Data/Phantom6/ball\n"
       ]
      },
      {
       "output_type": "stream",
       "stream": "stderr",
       "text": [
        "DEBUG:workflow:Creating flat graph for workflow: Contour_00\n"
       ]
      },
      {
       "output_type": "stream",
       "stream": "stderr",
       "text": [
        "DEBUG:workflow:expanding workflow: Contour_00\n"
       ]
      },
      {
       "output_type": "stream",
       "stream": "stderr",
       "text": [
        "DEBUG:workflow:processing node: Contour_00.inputnode\n"
       ]
      },
      {
       "output_type": "stream",
       "stream": "stderr",
       "text": [
        "DEBUG:workflow:processing node: Contour_00.pretess\n"
       ]
      },
      {
       "output_type": "stream",
       "stream": "stderr",
       "text": [
        "DEBUG:workflow:processing node: Contour_00.tess\n"
       ]
      },
      {
       "output_type": "stream",
       "stream": "stderr",
       "text": [
        "DEBUG:workflow:processing node: Contour_00.mris_smooth\n"
       ]
      },
      {
       "output_type": "stream",
       "stream": "stderr",
       "text": [
        "DEBUG:workflow:processing node: Contour_00.tovtk\n"
       ]
      },
      {
       "output_type": "stream",
       "stream": "stderr",
       "text": [
        "DEBUG:workflow:processing node: Contour_00.write\n"
       ]
      },
      {
       "output_type": "stream",
       "stream": "stderr",
       "text": [
        "DEBUG:workflow:processing node: Contour_00.outputnode\n"
       ]
      },
      {
       "output_type": "stream",
       "stream": "stderr",
       "text": [
        "DEBUG:workflow:finished expanding workflow: Contour_00\n"
       ]
      },
      {
       "output_type": "stream",
       "stream": "stderr",
       "text": [
        "INFO:workflow:['check', 'execution', 'logging']\n"
       ]
      },
      {
       "output_type": "stream",
       "stream": "stderr",
       "text": [
        "DEBUG:workflow:PE: expanding iterables\n"
       ]
      },
      {
       "output_type": "stream",
       "stream": "stderr",
       "text": [
        "DEBUG:workflow:setting nodelevel(Contour_00.write) input base_directory = /home/oesteban/workspace/RegSeg/Data/Phantom6/ball\n"
       ]
      },
      {
       "output_type": "stream",
       "stream": "stderr",
       "text": [
        "DEBUG:workflow:setting nodelevel(Contour_00.pretess) input in_file = /home/oesteban/workspace/RegSeg/temp/Phantom6/tempROI-wm.nii.gz\n"
       ]
      },
      {
       "output_type": "stream",
       "stream": "stderr",
       "text": [
        "DEBUG:workflow:setting nodelevel(Contour_00.pretess) input in_norm = /home/oesteban/workspace/RegSeg/temp/Phantom6/ball-t1w-norm.nii.gz\n"
       ]
      },
      {
       "output_type": "stream",
       "stream": "stderr",
       "text": [
        "DEBUG:workflow:Removed the identity node Contour_00.inputnode from the graph.\n"
       ]
      },
      {
       "output_type": "stream",
       "stream": "stderr",
       "text": [
        "DEBUG:workflow:Removed the identity node Contour_00.outputnode from the graph.\n"
       ]
      },
      {
       "output_type": "stream",
       "stream": "stderr",
       "text": [
        "DEBUG:workflow:Detected iterable nodes []\n"
       ]
      },
      {
       "output_type": "stream",
       "stream": "stderr",
       "text": [
        "DEBUG:workflow:PE: expanding iterables ... done\n"
       ]
      },
      {
       "output_type": "stream",
       "stream": "stderr",
       "text": [
        "DEBUG:workflow:Performing depth first search\n"
       ]
      },
      {
       "output_type": "stream",
       "stream": "stderr",
       "text": [
        "INFO:workflow:Running serially.\n"
       ]
      },
      {
       "output_type": "stream",
       "stream": "stderr",
       "text": [
        "DEBUG:workflow:Performing depth first search\n"
       ]
      },
      {
       "output_type": "stream",
       "stream": "stderr",
       "text": [
        "DEBUG:workflow:Setting node inputs\n"
       ]
      },
      {
       "output_type": "stream",
       "stream": "stderr",
       "text": [
        "INFO:workflow:Executing node pretess in dir: /home/oesteban/workspace/RegSeg/temp/Phantom6/ball/Contour_00/pretess\n"
       ]
      },
      {
       "output_type": "stream",
       "stream": "stderr",
       "text": [
        "DEBUG:workflow:['_report', 'tempROI-wm_pretess.mgz', '_node.pklz', '_0x1ff63d11e26b77f4d02dc25d1d306560.json', 'result_pretess.pklz', '_inputs.pklz']\n"
       ]
      },
      {
       "output_type": "stream",
       "stream": "stderr",
       "text": [
        "DEBUG:workflow:['_report', 'tempROI-wm_pretess.mgz', '_node.pklz', '_0x1ff63d11e26b77f4d02dc25d1d306560.json', 'result_pretess.pklz', '_inputs.pklz']\n"
       ]
      },
      {
       "output_type": "stream",
       "stream": "stderr",
       "text": [
        "DEBUG:workflow:['/home/oesteban/workspace/RegSeg/temp/Phantom6/ball/Contour_00/pretess/_0x1ff63d11e26b77f4d02dc25d1d306560.json']\n"
       ]
      },
      {
       "output_type": "stream",
       "stream": "stderr",
       "text": [
        "DEBUG:workflow:/home/oesteban/workspace/RegSeg/temp/Phantom6/ball/Contour_00/pretess/_0x3be093c39ac41244ff965a6f8b1d4516.json\n"
       ]
      },
      {
       "output_type": "stream",
       "stream": "stderr",
       "text": [
        "DEBUG:workflow:('updatehash, overwrite, always_run, hash_exists', False, None, False, False)\n"
       ]
      },
      {
       "output_type": "stream",
       "stream": "stderr",
       "text": [
        "DEBUG:workflow:Node hash: 3be093c39ac41244ff965a6f8b1d4516\n"
       ]
      },
      {
       "output_type": "stream",
       "stream": "stderr",
       "text": [
        "DEBUG:workflow:Rerunning node\n"
       ]
      },
      {
       "output_type": "stream",
       "stream": "stderr",
       "text": [
        "DEBUG:workflow:updatehash = False, self.overwrite = None, self._interface.always_run = False, os.path.exists(/home/oesteban/workspace/RegSeg/temp/Phantom6/ball/Contour_00/pretess/_0x3be093c39ac41244ff965a6f8b1d4516.json) = False, hash_method = timestamp\n"
       ]
      },
      {
       "output_type": "stream",
       "stream": "stderr",
       "text": [
        "DEBUG:workflow:Previous node hash = 1ff63d11e26b77f4d02dc25d1d306560\n"
       ]
      },
      {
       "output_type": "stream",
       "stream": "stderr",
       "text": [
        "DEBUG:workflow: values differ in fields: in_file: ('/home/oesteban/workspace/RegSeg/temp/Phantom6/tempROI-wm.nii.gz', 'd07781198306e5c5ad2f03f4d000bab5') != [u'/home/oesteban/workspace/RegSeg/temp/Phantom6/tempROI-wm.nii.gz', u'4049d1ebda28d85e89b5e70a8ce59af6'], in_norm: ('/home/oesteban/workspace/RegSeg/temp/Phantom6/ball-t1w-norm.nii.gz', '186fec2b4374264af1c667fd5db0848e') != [u'/home/oesteban/workspace/RegSeg/temp/Phantom6/ball-t1w-norm.nii.gz', u'270b5cbf20198f0f6eb545cc8db5beff']\n"
       ]
      },
      {
       "output_type": "stream",
       "stream": "stderr",
       "text": [
        "DEBUG:workflow:Removing old /home/oesteban/workspace/RegSeg/temp/Phantom6/ball/Contour_00/pretess and its contents\n"
       ]
      },
      {
       "output_type": "stream",
       "stream": "stderr",
       "text": [
        "DEBUG:workflow:Creating /home/oesteban/workspace/RegSeg/temp/Phantom6/ball/Contour_00/pretess\n"
       ]
      },
      {
       "output_type": "stream",
       "stream": "stderr",
       "text": [
        "DEBUG:workflow:writing pre-exec report to /home/oesteban/workspace/RegSeg/temp/Phantom6/ball/Contour_00/pretess/_report/report.rst\n"
       ]
      },
      {
       "output_type": "stream",
       "stream": "stderr",
       "text": [
        "DEBUG:workflow:Executing node\n"
       ]
      },
      {
       "output_type": "stream",
       "stream": "stderr",
       "text": [
        "DEBUG:workflow:copying files to wd [execute=True, linksonly=False]\n"
       ]
      },
      {
       "output_type": "stream",
       "stream": "stderr",
       "text": [
        "DEBUG:workflow:Needed files: /home/oesteban/workspace/RegSeg/temp/Phantom6/ball/Contour_00/pretess/tempROI-wm_pretess.mgz;/home/oesteban/workspace/RegSeg/temp/Phantom6/ball/Contour_00/pretess/_0x3be093c39ac41244ff965a6f8b1d4516_unfinished.json;/home/oesteban/workspace/RegSeg/temp/Phantom6/ball/Contour_00/pretess/_inputs.pklz;/home/oesteban/workspace/RegSeg/temp/Phantom6/ball/Contour_00/pretess/_node.pklz\n"
       ]
      },
      {
       "output_type": "stream",
       "stream": "stderr",
       "text": [
        "DEBUG:workflow:Needed dirs: /home/oesteban/workspace/RegSeg/temp/Phantom6/ball/Contour_00/pretess/_report\n"
       ]
      },
      {
       "output_type": "stream",
       "stream": "stderr",
       "text": [
        "DEBUG:workflow:Removing files: \n"
       ]
      },
      {
       "output_type": "stream",
       "stream": "stderr",
       "text": [
        "DEBUG:workflow:saved results in /home/oesteban/workspace/RegSeg/temp/Phantom6/ball/Contour_00/pretess/result_pretess.pklz\n"
       ]
      },
      {
       "output_type": "stream",
       "stream": "stderr",
       "text": [
        "DEBUG:workflow:writing post-exec report to /home/oesteban/workspace/RegSeg/temp/Phantom6/ball/Contour_00/pretess/_report/report.rst\n"
       ]
      },
      {
       "output_type": "stream",
       "stream": "stderr",
       "text": [
        "DEBUG:workflow:Finished running pretess in dir: /home/oesteban/workspace/RegSeg/temp/Phantom6/ball/Contour_00/pretess\n",
        "\n"
       ]
      },
      {
       "output_type": "stream",
       "stream": "stderr",
       "text": [
        "DEBUG:workflow:Setting node inputs\n"
       ]
      },
      {
       "output_type": "stream",
       "stream": "stderr",
       "text": [
        "DEBUG:workflow:input: in_file\n"
       ]
      },
      {
       "output_type": "stream",
       "stream": "stderr",
       "text": [
        "DEBUG:workflow:results file: /home/oesteban/workspace/RegSeg/temp/Phantom6/ball/Contour_00/pretess/result_pretess.pklz\n"
       ]
      },
      {
       "output_type": "stream",
       "stream": "stderr",
       "text": [
        "DEBUG:workflow:output: out_file\n"
       ]
      },
      {
       "output_type": "stream",
       "stream": "stderr",
       "text": [
        "DEBUG:workflow:setting nodelevel(Contour_00.tess) input in_file = /home/oesteban/workspace/RegSeg/temp/Phantom6/ball/Contour_00/pretess/tempROI-wm_pretess.mgz\n"
       ]
      },
      {
       "output_type": "stream",
       "stream": "stderr",
       "text": [
        "INFO:workflow:Executing node tess in dir: /home/oesteban/workspace/RegSeg/temp/Phantom6/ball/Contour_00/tess\n"
       ]
      },
      {
       "output_type": "stream",
       "stream": "stderr",
       "text": [
        "DEBUG:workflow:['_report', 'result_tess.pklz', '_0x146e3fb5ebd3c7214c3a88b745bae0de.json', 'tempROI-wm_pretess.mgz_1', '_node.pklz', 'rh.area', 'rh.curv', 'command.txt', '_inputs.pklz']\n"
       ]
      },
      {
       "output_type": "stream",
       "stream": "stderr",
       "text": [
        "DEBUG:workflow:['_report', 'result_tess.pklz', '_0x146e3fb5ebd3c7214c3a88b745bae0de.json', 'tempROI-wm_pretess.mgz_1', '_node.pklz', 'rh.area', 'rh.curv', 'command.txt', '_inputs.pklz']\n"
       ]
      },
      {
       "output_type": "stream",
       "stream": "stderr",
       "text": [
        "DEBUG:workflow:['/home/oesteban/workspace/RegSeg/temp/Phantom6/ball/Contour_00/tess/_0x146e3fb5ebd3c7214c3a88b745bae0de.json']\n"
       ]
      },
      {
       "output_type": "stream",
       "stream": "stderr",
       "text": [
        "DEBUG:workflow:/home/oesteban/workspace/RegSeg/temp/Phantom6/ball/Contour_00/tess/_0xb6802f9f7dfe2123c27ff9acc29e81b4.json\n"
       ]
      },
      {
       "output_type": "stream",
       "stream": "stderr",
       "text": [
        "DEBUG:workflow:('updatehash, overwrite, always_run, hash_exists', False, None, False, False)\n"
       ]
      },
      {
       "output_type": "stream",
       "stream": "stderr",
       "text": [
        "DEBUG:workflow:Node hash: b6802f9f7dfe2123c27ff9acc29e81b4\n"
       ]
      },
      {
       "output_type": "stream",
       "stream": "stderr",
       "text": [
        "DEBUG:workflow:Rerunning node\n"
       ]
      },
      {
       "output_type": "stream",
       "stream": "stderr",
       "text": [
        "DEBUG:workflow:updatehash = False, self.overwrite = None, self._interface.always_run = False, os.path.exists(/home/oesteban/workspace/RegSeg/temp/Phantom6/ball/Contour_00/tess/_0xb6802f9f7dfe2123c27ff9acc29e81b4.json) = False, hash_method = timestamp\n"
       ]
      },
      {
       "output_type": "stream",
       "stream": "stderr",
       "text": [
        "DEBUG:workflow:Previous node hash = 146e3fb5ebd3c7214c3a88b745bae0de\n"
       ]
      },
      {
       "output_type": "stream",
       "stream": "stderr",
       "text": [
        "DEBUG:workflow: values differ in fields: in_file: ('/home/oesteban/workspace/RegSeg/temp/Phantom6/ball/Contour_00/pretess/tempROI-wm_pretess.mgz', '35b6cb7095c9fb69263027f11d45b441') != [u'/home/oesteban/workspace/RegSeg/temp/Phantom6/ball/Contour_00/pretess/tempROI-wm_pretess.mgz', u'50657399cb42e3a018ab417610dc0acf']\n"
       ]
      },
      {
       "output_type": "stream",
       "stream": "stderr",
       "text": [
        "DEBUG:workflow:Removing old /home/oesteban/workspace/RegSeg/temp/Phantom6/ball/Contour_00/tess and its contents\n"
       ]
      },
      {
       "output_type": "stream",
       "stream": "stderr",
       "text": [
        "DEBUG:workflow:Creating /home/oesteban/workspace/RegSeg/temp/Phantom6/ball/Contour_00/tess\n"
       ]
      },
      {
       "output_type": "stream",
       "stream": "stderr",
       "text": [
        "DEBUG:workflow:writing pre-exec report to /home/oesteban/workspace/RegSeg/temp/Phantom6/ball/Contour_00/tess/_report/report.rst\n"
       ]
      },
      {
       "output_type": "stream",
       "stream": "stderr",
       "text": [
        "DEBUG:workflow:Executing node\n"
       ]
      },
      {
       "output_type": "stream",
       "stream": "stderr",
       "text": [
        "DEBUG:workflow:copying files to wd [execute=True, linksonly=False]\n"
       ]
      },
      {
       "output_type": "stream",
       "stream": "stderr",
       "text": [
        "DEBUG:interface:in_file_/home/oesteban/workspace/RegSeg/temp/Phantom6/ball/Contour_00/pretess/tempROI-wm_pretess.mgz\n"
       ]
      },
      {
       "output_type": "stream",
       "stream": "stderr",
       "text": [
        "DEBUG:interface:label_value_1\n"
       ]
      },
      {
       "output_type": "stream",
       "stream": "stderr",
       "text": [
        "DEBUG:interface:out_file_tempROI-wm_pretess.mgz_1\n"
       ]
      },
      {
       "output_type": "stream",
       "stream": "stderr",
       "text": [
        "DEBUG:interface:use_real_RAS_coordinates_True\n"
       ]
      },
      {
       "output_type": "stream",
       "stream": "stderr",
       "text": [
        "INFO:workflow:Running: mri_tessellate -n /home/oesteban/workspace/RegSeg/temp/Phantom6/ball/Contour_00/pretess/tempROI-wm_pretess.mgz 1 ./tempROI-wm_pretess.mgz_1\n"
       ]
      },
      {
       "output_type": "stream",
       "stream": "stderr",
       "text": [
        "DEBUG:interface:in_file_/home/oesteban/workspace/RegSeg/temp/Phantom6/ball/Contour_00/pretess/tempROI-wm_pretess.mgz\n"
       ]
      },
      {
       "output_type": "stream",
       "stream": "stderr",
       "text": [
        "DEBUG:interface:label_value_1\n"
       ]
      },
      {
       "output_type": "stream",
       "stream": "stderr",
       "text": [
        "DEBUG:interface:out_file_tempROI-wm_pretess.mgz_1\n"
       ]
      },
      {
       "output_type": "stream",
       "stream": "stderr",
       "text": [
        "DEBUG:interface:use_real_RAS_coordinates_True\n"
       ]
      },
      {
       "output_type": "stream",
       "stream": "stderr",
       "text": [
        "DEBUG:interface:{'DISPLAY': ':1'}\n"
       ]
      },
      {
       "output_type": "stream",
       "stream": "stderr",
       "text": [
        "INFO:interface:stdout 2014-04-14T18:42:14.439875:surface saved uses coordinates in the real RAS where c_(r,a,s) != 0\n"
       ]
      },
      {
       "output_type": "stream",
       "stream": "stderr",
       "text": [
        "INFO:interface:stdout 2014-04-14T18:42:14.439875:$Id: mri_tessellate.c,v 1.36 2011/03/02 00:04:25 nicks Exp $\n"
       ]
      },
      {
       "output_type": "stream",
       "stream": "stderr",
       "text": [
        "INFO:interface:stdout 2014-04-14T18:42:14.439875:  $Id: mrisurf.c,v 1.693.2.7 2013/05/12 22:28:01 nicks Exp $\n"
       ]
      },
      {
       "output_type": "stream",
       "stream": "stderr",
       "text": [
        "INFO:interface:stdout 2014-04-14T18:42:14.491686:slice 40: 932 vertices, 981 faces\n"
       ]
      },
      {
       "output_type": "stream",
       "stream": "stderr",
       "text": [
        "INFO:interface:stdout 2014-04-14T18:42:14.491686:slice 50: 2532 vertices, 2597 faces\n"
       ]
      },
      {
       "output_type": "stream",
       "stream": "stderr",
       "text": [
        "INFO:interface:stdout 2014-04-14T18:42:14.491686:slice 60: 4048 vertices, 4105 faces\n"
       ]
      },
      {
       "output_type": "stream",
       "stream": "stderr",
       "text": [
        "INFO:interface:stdout 2014-04-14T18:42:14.491686:slice 70: 5336 vertices, 5334 faces\n"
       ]
      },
      {
       "output_type": "stream",
       "stream": "stderr",
       "text": [
        "INFO:interface:stdout 2014-04-14T18:42:14.491686:slice 80: 5336 vertices, 5334 faces\n"
       ]
      },
      {
       "output_type": "stream",
       "stream": "stderr",
       "text": [
        "INFO:interface:stdout 2014-04-14T18:42:14.491686:slice 90: 5336 vertices, 5334 faces\n"
       ]
      },
      {
       "output_type": "stream",
       "stream": "stderr",
       "text": [
        "INFO:interface:stdout 2014-04-14T18:42:14.491686:slice 100: 5336 vertices, 5334 faces\n"
       ]
      },
      {
       "output_type": "stream",
       "stream": "stderr",
       "text": [
        "INFO:interface:stdout 2014-04-14T18:42:14.491686:using real RAS to save vertex points...\n"
       ]
      },
      {
       "output_type": "stream",
       "stream": "stderr",
       "text": [
        "INFO:interface:stdout 2014-04-14T18:42:14.491686:writing ./tempROI-wm_pretess.mgz_1\n"
       ]
      },
      {
       "output_type": "stream",
       "stream": "stderr",
       "text": [
        "INFO:interface:stdout 2014-04-14T18:42:14.491686:using vox2ras matrix:\n"
       ]
      },
      {
       "output_type": "stream",
       "stream": "stderr",
       "text": [
        "INFO:interface:stdout 2014-04-14T18:42:14.491686: 1.000   0.000   0.000  -50.500;\n"
       ]
      },
      {
       "output_type": "stream",
       "stream": "stderr",
       "text": [
        "INFO:interface:stdout 2014-04-14T18:42:14.491686: 0.000   1.000   0.000  -50.500;\n"
       ]
      },
      {
       "output_type": "stream",
       "stream": "stderr",
       "text": [
        "INFO:interface:stdout 2014-04-14T18:42:14.491686: 0.000   0.000   1.000  -50.500;\n"
       ]
      },
      {
       "output_type": "stream",
       "stream": "stderr",
       "text": [
        "INFO:interface:stdout 2014-04-14T18:42:14.491686: 0.000   0.000   0.000   1.000;\n"
       ]
      },
      {
       "output_type": "stream",
       "stream": "stderr",
       "text": [
        "DEBUG:workflow:Needed files: /home/oesteban/workspace/RegSeg/temp/Phantom6/ball/Contour_00/tess/tempROI-wm_pretess.mgz_1;/home/oesteban/workspace/RegSeg/temp/Phantom6/ball/Contour_00/tess/_0xb6802f9f7dfe2123c27ff9acc29e81b4_unfinished.json;/home/oesteban/workspace/RegSeg/temp/Phantom6/ball/Contour_00/tess/command.txt;/home/oesteban/workspace/RegSeg/temp/Phantom6/ball/Contour_00/tess/_inputs.pklz;/home/oesteban/workspace/RegSeg/temp/Phantom6/ball/Contour_00/tess/_node.pklz\n"
       ]
      },
      {
       "output_type": "stream",
       "stream": "stderr",
       "text": [
        "DEBUG:workflow:Needed dirs: /home/oesteban/workspace/RegSeg/temp/Phantom6/ball/Contour_00/tess/_report\n"
       ]
      },
      {
       "output_type": "stream",
       "stream": "stderr",
       "text": [
        "DEBUG:workflow:Removing files: \n"
       ]
      },
      {
       "output_type": "stream",
       "stream": "stderr",
       "text": [
        "DEBUG:workflow:saved results in /home/oesteban/workspace/RegSeg/temp/Phantom6/ball/Contour_00/tess/result_tess.pklz\n"
       ]
      },
      {
       "output_type": "stream",
       "stream": "stderr",
       "text": [
        "DEBUG:workflow:writing post-exec report to /home/oesteban/workspace/RegSeg/temp/Phantom6/ball/Contour_00/tess/_report/report.rst\n"
       ]
      },
      {
       "output_type": "stream",
       "stream": "stderr",
       "text": [
        "DEBUG:workflow:Finished running tess in dir: /home/oesteban/workspace/RegSeg/temp/Phantom6/ball/Contour_00/tess\n",
        "\n"
       ]
      },
      {
       "output_type": "stream",
       "stream": "stderr",
       "text": [
        "DEBUG:workflow:Setting node inputs\n"
       ]
      },
      {
       "output_type": "stream",
       "stream": "stderr",
       "text": [
        "DEBUG:workflow:input: in_file\n"
       ]
      },
      {
       "output_type": "stream",
       "stream": "stderr",
       "text": [
        "DEBUG:workflow:results file: /home/oesteban/workspace/RegSeg/temp/Phantom6/ball/Contour_00/tess/result_tess.pklz\n"
       ]
      },
      {
       "output_type": "stream",
       "stream": "stderr",
       "text": [
        "DEBUG:workflow:output: surface\n"
       ]
      },
      {
       "output_type": "stream",
       "stream": "stderr",
       "text": [
        "DEBUG:workflow:setting nodelevel(Contour_00.mris_smooth) input in_file = /home/oesteban/workspace/RegSeg/temp/Phantom6/ball/Contour_00/tess/tempROI-wm_pretess.mgz_1\n"
       ]
      },
      {
       "output_type": "stream",
       "stream": "stderr",
       "text": [
        "INFO:workflow:Executing node mris_smooth in dir: /home/oesteban/workspace/RegSeg/temp/Phantom6/ball/Contour_00/mris_smooth\n"
       ]
      },
      {
       "output_type": "stream",
       "stream": "stderr",
       "text": [
        "DEBUG:workflow:['_report', '_node.pklz', 'tempROI-wm_pretess_smoothed.mgz_1', 'result_mris_smooth.pklz', '_0x5f0128205f3e68254f629b54ad10d04a.json', 'command.txt', '_inputs.pklz']\n"
       ]
      },
      {
       "output_type": "stream",
       "stream": "stderr",
       "text": [
        "DEBUG:workflow:['_report', '_node.pklz', 'tempROI-wm_pretess_smoothed.mgz_1', 'result_mris_smooth.pklz', '_0x5f0128205f3e68254f629b54ad10d04a.json', 'command.txt', '_inputs.pklz']\n"
       ]
      },
      {
       "output_type": "stream",
       "stream": "stderr",
       "text": [
        "DEBUG:workflow:['/home/oesteban/workspace/RegSeg/temp/Phantom6/ball/Contour_00/mris_smooth/_0x5f0128205f3e68254f629b54ad10d04a.json']\n"
       ]
      },
      {
       "output_type": "stream",
       "stream": "stderr",
       "text": [
        "DEBUG:workflow:/home/oesteban/workspace/RegSeg/temp/Phantom6/ball/Contour_00/mris_smooth/_0x499681340f501988f2394f50d8e7ae13.json\n"
       ]
      },
      {
       "output_type": "stream",
       "stream": "stderr",
       "text": [
        "DEBUG:workflow:('updatehash, overwrite, always_run, hash_exists', False, None, False, False)\n"
       ]
      },
      {
       "output_type": "stream",
       "stream": "stderr",
       "text": [
        "DEBUG:workflow:Node hash: 499681340f501988f2394f50d8e7ae13\n"
       ]
      },
      {
       "output_type": "stream",
       "stream": "stderr",
       "text": [
        "DEBUG:workflow:Rerunning node\n"
       ]
      },
      {
       "output_type": "stream",
       "stream": "stderr",
       "text": [
        "DEBUG:workflow:updatehash = False, self.overwrite = None, self._interface.always_run = False, os.path.exists(/home/oesteban/workspace/RegSeg/temp/Phantom6/ball/Contour_00/mris_smooth/_0x499681340f501988f2394f50d8e7ae13.json) = False, hash_method = timestamp\n"
       ]
      },
      {
       "output_type": "stream",
       "stream": "stderr",
       "text": [
        "DEBUG:workflow:Previous node hash = 5f0128205f3e68254f629b54ad10d04a\n"
       ]
      },
      {
       "output_type": "stream",
       "stream": "stderr",
       "text": [
        "DEBUG:workflow: values differ in fields: in_file: ('/home/oesteban/workspace/RegSeg/temp/Phantom6/ball/Contour_00/tess/tempROI-wm_pretess.mgz_1', '9de9e499b7fb6a031331b05ec9defd31') != [u'/home/oesteban/workspace/RegSeg/temp/Phantom6/ball/Contour_00/tess/tempROI-wm_pretess.mgz_1', u'91d625ed6d36fb587dbcf1ba371713e4']\n"
       ]
      },
      {
       "output_type": "stream",
       "stream": "stderr",
       "text": [
        "DEBUG:workflow:Removing old /home/oesteban/workspace/RegSeg/temp/Phantom6/ball/Contour_00/mris_smooth and its contents\n"
       ]
      },
      {
       "output_type": "stream",
       "stream": "stderr",
       "text": [
        "DEBUG:workflow:Creating /home/oesteban/workspace/RegSeg/temp/Phantom6/ball/Contour_00/mris_smooth\n"
       ]
      },
      {
       "output_type": "stream",
       "stream": "stderr",
       "text": [
        "DEBUG:workflow:writing pre-exec report to /home/oesteban/workspace/RegSeg/temp/Phantom6/ball/Contour_00/mris_smooth/_report/report.rst\n"
       ]
      },
      {
       "output_type": "stream",
       "stream": "stderr",
       "text": [
        "DEBUG:workflow:Executing node\n"
       ]
      },
      {
       "output_type": "stream",
       "stream": "stderr",
       "text": [
        "DEBUG:workflow:copying files to wd [execute=True, linksonly=False]\n"
       ]
      },
      {
       "output_type": "stream",
       "stream": "stderr",
       "text": [
        "DEBUG:interface:curvature_averaging_iterations_10\n"
       ]
      },
      {
       "output_type": "stream",
       "stream": "stderr",
       "text": [
        "DEBUG:interface:disable_estimates_True\n"
       ]
      },
      {
       "output_type": "stream",
       "stream": "stderr",
       "text": [
        "DEBUG:interface:in_file_/home/oesteban/workspace/RegSeg/temp/Phantom6/ball/Contour_00/tess/tempROI-wm_pretess.mgz_1\n"
       ]
      },
      {
       "output_type": "stream",
       "stream": "stderr",
       "text": [
        "DEBUG:interface:out_file_/home/oesteban/workspace/RegSeg/temp/Phantom6/ball/Contour_00/mris_smooth/tempROI-wm_pretess_smoothed.mgz_1\n"
       ]
      },
      {
       "output_type": "stream",
       "stream": "stderr",
       "text": [
        "DEBUG:interface:smoothing_iterations_10\n"
       ]
      },
      {
       "output_type": "stream",
       "stream": "stderr",
       "text": [
        "INFO:workflow:Running: mris_smooth /home/oesteban/workspace/RegSeg/temp/Phantom6/ball/Contour_00/tess/tempROI-wm_pretess.mgz_1 /home/oesteban/workspace/RegSeg/temp/Phantom6/ball/Contour_00/mris_smooth/tempROI-wm_pretess_smoothed.mgz_1 -nw -n 10 -a 10\n"
       ]
      },
      {
       "output_type": "stream",
       "stream": "stderr",
       "text": [
        "DEBUG:interface:curvature_averaging_iterations_10\n"
       ]
      },
      {
       "output_type": "stream",
       "stream": "stderr",
       "text": [
        "DEBUG:interface:disable_estimates_True\n"
       ]
      },
      {
       "output_type": "stream",
       "stream": "stderr",
       "text": [
        "DEBUG:interface:in_file_/home/oesteban/workspace/RegSeg/temp/Phantom6/ball/Contour_00/tess/tempROI-wm_pretess.mgz_1\n"
       ]
      },
      {
       "output_type": "stream",
       "stream": "stderr",
       "text": [
        "DEBUG:interface:out_file_/home/oesteban/workspace/RegSeg/temp/Phantom6/ball/Contour_00/mris_smooth/tempROI-wm_pretess_smoothed.mgz_1\n"
       ]
      },
      {
       "output_type": "stream",
       "stream": "stderr",
       "text": [
        "DEBUG:interface:smoothing_iterations_10\n"
       ]
      },
      {
       "output_type": "stream",
       "stream": "stderr",
       "text": [
        "DEBUG:interface:{'DISPLAY': ':1'}\n"
       ]
      },
      {
       "output_type": "stream",
       "stream": "stderr",
       "text": [
        "INFO:interface:stderr 2014-04-14T18:42:14.592273:smoothing surface tessellation for 10 iterations...\n"
       ]
      },
      {
       "output_type": "stream",
       "stream": "stderr",
       "text": [
        "INFO:interface:stderr 2014-04-14T18:42:14.598875:smoothing complete - recomputing first and second fundamental forms...\n"
       ]
      },
      {
       "output_type": "stream",
       "stream": "stderr",
       "text": [
        "INFO:interface:stderr 2014-04-14T18:42:14.649540:writing smoothed curvature to /home/oesteban/workspace/RegSeg/temp/Phantom6/ball/Contour_00/mris_smooth/rh.curv\n"
       ]
      },
      {
       "output_type": "stream",
       "stream": "stderr",
       "text": [
        "INFO:interface:stderr 2014-04-14T18:42:14.650165:writing smoothed area to /home/oesteban/workspace/RegSeg/temp/Phantom6/ball/Contour_00/mris_smooth/rh.area\n"
       ]
      },
      {
       "output_type": "stream",
       "stream": "stderr",
       "text": [
        "DEBUG:workflow:Needed files: /home/oesteban/workspace/RegSeg/temp/Phantom6/ball/Contour_00/mris_smooth/tempROI-wm_pretess_smoothed.mgz_1;/home/oesteban/workspace/RegSeg/temp/Phantom6/ball/Contour_00/mris_smooth/_0x499681340f501988f2394f50d8e7ae13_unfinished.json;/home/oesteban/workspace/RegSeg/temp/Phantom6/ball/Contour_00/mris_smooth/command.txt;/home/oesteban/workspace/RegSeg/temp/Phantom6/ball/Contour_00/mris_smooth/_inputs.pklz;/home/oesteban/workspace/RegSeg/temp/Phantom6/ball/Contour_00/mris_smooth/_node.pklz\n"
       ]
      },
      {
       "output_type": "stream",
       "stream": "stderr",
       "text": [
        "DEBUG:workflow:Needed dirs: /home/oesteban/workspace/RegSeg/temp/Phantom6/ball/Contour_00/mris_smooth/_report\n"
       ]
      },
      {
       "output_type": "stream",
       "stream": "stderr",
       "text": [
        "DEBUG:workflow:Removing files: \n"
       ]
      },
      {
       "output_type": "stream",
       "stream": "stderr",
       "text": [
        "DEBUG:workflow:saved results in /home/oesteban/workspace/RegSeg/temp/Phantom6/ball/Contour_00/mris_smooth/result_mris_smooth.pklz\n"
       ]
      },
      {
       "output_type": "stream",
       "stream": "stderr",
       "text": [
        "DEBUG:workflow:writing post-exec report to /home/oesteban/workspace/RegSeg/temp/Phantom6/ball/Contour_00/mris_smooth/_report/report.rst\n"
       ]
      },
      {
       "output_type": "stream",
       "stream": "stderr",
       "text": [
        "DEBUG:workflow:Finished running mris_smooth in dir: /home/oesteban/workspace/RegSeg/temp/Phantom6/ball/Contour_00/mris_smooth\n",
        "\n"
       ]
      },
      {
       "output_type": "stream",
       "stream": "stderr",
       "text": [
        "DEBUG:workflow:Setting node inputs\n"
       ]
      },
      {
       "output_type": "stream",
       "stream": "stderr",
       "text": [
        "DEBUG:workflow:input: in_file\n"
       ]
      },
      {
       "output_type": "stream",
       "stream": "stderr",
       "text": [
        "DEBUG:workflow:results file: /home/oesteban/workspace/RegSeg/temp/Phantom6/ball/Contour_00/mris_smooth/result_mris_smooth.pklz\n"
       ]
      },
      {
       "output_type": "stream",
       "stream": "stderr",
       "text": [
        "DEBUG:workflow:output: surface\n"
       ]
      },
      {
       "output_type": "stream",
       "stream": "stderr",
       "text": [
        "DEBUG:workflow:setting nodelevel(Contour_00.tovtk) input in_file = /home/oesteban/workspace/RegSeg/temp/Phantom6/ball/Contour_00/mris_smooth/tempROI-wm_pretess_smoothed.mgz_1\n"
       ]
      },
      {
       "output_type": "stream",
       "stream": "stderr",
       "text": [
        "INFO:workflow:Executing node tovtk in dir: /home/oesteban/workspace/RegSeg/temp/Phantom6/ball/Contour_00/tovtk\n"
       ]
      },
      {
       "output_type": "stream",
       "stream": "stderr",
       "text": [
        "DEBUG:workflow:['_report', '_0xfbe93befd65336010bdb7d6d77263fc5.json', '_node.pklz', 'result_tovtk.pklz', 'tempROI-wm_pretess_smoothed.mgz_1_conv.vtk', '_inputs.pklz']\n"
       ]
      },
      {
       "output_type": "stream",
       "stream": "stderr",
       "text": [
        "DEBUG:workflow:['_report', '_0xfbe93befd65336010bdb7d6d77263fc5.json', '_node.pklz', 'result_tovtk.pklz', 'tempROI-wm_pretess_smoothed.mgz_1_conv.vtk', '_inputs.pklz']\n"
       ]
      },
      {
       "output_type": "stream",
       "stream": "stderr",
       "text": [
        "DEBUG:workflow:['/home/oesteban/workspace/RegSeg/temp/Phantom6/ball/Contour_00/tovtk/_0xfbe93befd65336010bdb7d6d77263fc5.json']\n"
       ]
      },
      {
       "output_type": "stream",
       "stream": "stderr",
       "text": [
        "DEBUG:workflow:/home/oesteban/workspace/RegSeg/temp/Phantom6/ball/Contour_00/tovtk/_0x047d0fd6b1482f9813e7beffe135bdc9.json\n"
       ]
      },
      {
       "output_type": "stream",
       "stream": "stderr",
       "text": [
        "DEBUG:workflow:('updatehash, overwrite, always_run, hash_exists', False, None, False, False)\n"
       ]
      },
      {
       "output_type": "stream",
       "stream": "stderr",
       "text": [
        "DEBUG:workflow:Node hash: 047d0fd6b1482f9813e7beffe135bdc9\n"
       ]
      },
      {
       "output_type": "stream",
       "stream": "stderr",
       "text": [
        "DEBUG:workflow:Rerunning node\n"
       ]
      },
      {
       "output_type": "stream",
       "stream": "stderr",
       "text": [
        "DEBUG:workflow:updatehash = False, self.overwrite = None, self._interface.always_run = False, os.path.exists(/home/oesteban/workspace/RegSeg/temp/Phantom6/ball/Contour_00/tovtk/_0x047d0fd6b1482f9813e7beffe135bdc9.json) = False, hash_method = timestamp\n"
       ]
      },
      {
       "output_type": "stream",
       "stream": "stderr",
       "text": [
        "DEBUG:workflow:Previous node hash = fbe93befd65336010bdb7d6d77263fc5\n"
       ]
      },
      {
       "output_type": "stream",
       "stream": "stderr",
       "text": [
        "DEBUG:workflow: values differ in fields: in_file: ('/home/oesteban/workspace/RegSeg/temp/Phantom6/ball/Contour_00/mris_smooth/tempROI-wm_pretess_smoothed.mgz_1', '41114797a2acc78643e39271c070ab94') != [u'/home/oesteban/workspace/RegSeg/temp/Phantom6/ball/Contour_00/mris_smooth/tempROI-wm_pretess_smoothed.mgz_1', u'7971e107c711fa8d2809cfa679347912']\n"
       ]
      },
      {
       "output_type": "stream",
       "stream": "stderr",
       "text": [
        "DEBUG:workflow:Removing old /home/oesteban/workspace/RegSeg/temp/Phantom6/ball/Contour_00/tovtk and its contents\n"
       ]
      },
      {
       "output_type": "stream",
       "stream": "stderr",
       "text": [
        "DEBUG:workflow:Creating /home/oesteban/workspace/RegSeg/temp/Phantom6/ball/Contour_00/tovtk\n"
       ]
      },
      {
       "output_type": "stream",
       "stream": "stderr",
       "text": [
        "DEBUG:workflow:writing pre-exec report to /home/oesteban/workspace/RegSeg/temp/Phantom6/ball/Contour_00/tovtk/_report/report.rst\n"
       ]
      },
      {
       "output_type": "stream",
       "stream": "stderr",
       "text": [
        "DEBUG:workflow:Executing node\n"
       ]
      },
      {
       "output_type": "stream",
       "stream": "stderr",
       "text": [
        "DEBUG:workflow:copying files to wd [execute=True, linksonly=False]\n"
       ]
      },
      {
       "output_type": "stream",
       "stream": "stderr",
       "text": [
        "DEBUG:workflow:Needed files: /home/oesteban/workspace/RegSeg/temp/Phantom6/ball/Contour_00/tovtk/_0x047d0fd6b1482f9813e7beffe135bdc9_unfinished.json;/home/oesteban/workspace/RegSeg/temp/Phantom6/ball/Contour_00/tovtk/_inputs.pklz;/home/oesteban/workspace/RegSeg/temp/Phantom6/ball/Contour_00/tovtk/_node.pklz\n"
       ]
      },
      {
       "output_type": "stream",
       "stream": "stderr",
       "text": [
        "DEBUG:workflow:Needed dirs: /home/oesteban/workspace/RegSeg/temp/Phantom6/ball/Contour_00/tovtk/_report\n"
       ]
      },
      {
       "output_type": "stream",
       "stream": "stderr",
       "text": [
        "DEBUG:workflow:Removing files: \n"
       ]
      },
      {
       "output_type": "stream",
       "stream": "stderr",
       "text": [
        "DEBUG:workflow:saved results in /home/oesteban/workspace/RegSeg/temp/Phantom6/ball/Contour_00/tovtk/result_tovtk.pklz\n"
       ]
      },
      {
       "output_type": "stream",
       "stream": "stderr",
       "text": [
        "DEBUG:workflow:writing post-exec report to /home/oesteban/workspace/RegSeg/temp/Phantom6/ball/Contour_00/tovtk/_report/report.rst\n"
       ]
      },
      {
       "output_type": "stream",
       "stream": "stderr",
       "text": [
        "DEBUG:workflow:Finished running tovtk in dir: /home/oesteban/workspace/RegSeg/temp/Phantom6/ball/Contour_00/tovtk\n",
        "\n"
       ]
      },
      {
       "output_type": "stream",
       "stream": "stderr",
       "text": [
        "DEBUG:workflow:Setting node inputs\n"
       ]
      },
      {
       "output_type": "stream",
       "stream": "stderr",
       "text": [
        "DEBUG:workflow:input: surfs\n"
       ]
      },
      {
       "output_type": "stream",
       "stream": "stderr",
       "text": [
        "DEBUG:workflow:results file: /home/oesteban/workspace/RegSeg/temp/Phantom6/ball/Contour_00/tovtk/result_tovtk.pklz\n"
       ]
      },
      {
       "output_type": "stream",
       "stream": "stderr",
       "text": [
        "DEBUG:workflow:output: out_file\n"
       ]
      },
      {
       "output_type": "stream",
       "stream": "stderr",
       "text": [
        "DEBUG:workflow:setting nodelevel(Contour_00.write) input surfs = /home/oesteban/workspace/RegSeg/temp/Phantom6/ball/Contour_00/tovtk/tempROI-wm_pretess_smoothed.mgz_1_conv.vtk\n"
       ]
      },
      {
       "output_type": "stream",
       "stream": "stderr",
       "text": [
        "INFO:workflow:Executing node write in dir: /home/oesteban/workspace/RegSeg/temp/Phantom6/ball/Contour_00/write\n"
       ]
      },
      {
       "output_type": "stream",
       "stream": "stderr",
       "text": [
        "DEBUG:workflow:['_report', '_0xf171990c56ee6e23794d12d797f59801.json', 'result_write.pklz', '_node.pklz', '_inputs.pklz']\n"
       ]
      },
      {
       "output_type": "stream",
       "stream": "stderr",
       "text": [
        "DEBUG:workflow:['_report', '_0xf171990c56ee6e23794d12d797f59801.json', 'result_write.pklz', '_node.pklz', '_inputs.pklz']\n"
       ]
      },
      {
       "output_type": "stream",
       "stream": "stderr",
       "text": [
        "DEBUG:workflow:['/home/oesteban/workspace/RegSeg/temp/Phantom6/ball/Contour_00/write/_0xf171990c56ee6e23794d12d797f59801.json']\n"
       ]
      },
      {
       "output_type": "stream",
       "stream": "stderr",
       "text": [
        "DEBUG:workflow:/home/oesteban/workspace/RegSeg/temp/Phantom6/ball/Contour_00/write/_0xf171990c56ee6e23794d12d797f59801.json\n"
       ]
      },
      {
       "output_type": "stream",
       "stream": "stderr",
       "text": [
        "DEBUG:workflow:('updatehash, overwrite, always_run, hash_exists', False, None, True, True)\n"
       ]
      },
      {
       "output_type": "stream",
       "stream": "stderr",
       "text": [
        "DEBUG:workflow:Node hash: f171990c56ee6e23794d12d797f59801\n"
       ]
      },
      {
       "output_type": "stream",
       "stream": "stderr",
       "text": [
        "DEBUG:workflow:Rerunning node\n"
       ]
      },
      {
       "output_type": "stream",
       "stream": "stderr",
       "text": [
        "DEBUG:workflow:updatehash = False, self.overwrite = None, self._interface.always_run = True, os.path.exists(/home/oesteban/workspace/RegSeg/temp/Phantom6/ball/Contour_00/write/_0xf171990c56ee6e23794d12d797f59801.json) = True, hash_method = timestamp\n"
       ]
      },
      {
       "output_type": "stream",
       "stream": "stderr",
       "text": [
        "DEBUG:workflow:Removing old /home/oesteban/workspace/RegSeg/temp/Phantom6/ball/Contour_00/write and its contents\n"
       ]
      },
      {
       "output_type": "stream",
       "stream": "stderr",
       "text": [
        "DEBUG:workflow:Creating /home/oesteban/workspace/RegSeg/temp/Phantom6/ball/Contour_00/write\n"
       ]
      },
      {
       "output_type": "stream",
       "stream": "stderr",
       "text": [
        "DEBUG:workflow:writing pre-exec report to /home/oesteban/workspace/RegSeg/temp/Phantom6/ball/Contour_00/write/_report/report.rst\n"
       ]
      },
      {
       "output_type": "stream",
       "stream": "stderr",
       "text": [
        "DEBUG:workflow:Executing node\n"
       ]
      },
      {
       "output_type": "stream",
       "stream": "stderr",
       "text": [
        "DEBUG:workflow:copying files to wd [execute=True, linksonly=False]\n"
       ]
      },
      {
       "output_type": "stream",
       "stream": "stderr",
       "text": [
        "DEBUG:interface:key: surfs files: /home/oesteban/workspace/RegSeg/temp/Phantom6/ball/Contour_00/tovtk/tempROI-wm_pretess_smoothed.mgz_1_conv.vtk\n"
       ]
      },
      {
       "output_type": "stream",
       "stream": "stderr",
       "text": [
        "DEBUG:workflow:Needed files: /home/oesteban/workspace/RegSeg/temp/Phantom6/ball/Contour_00/write/_0xf171990c56ee6e23794d12d797f59801_unfinished.json;/home/oesteban/workspace/RegSeg/temp/Phantom6/ball/Contour_00/write/_inputs.pklz;/home/oesteban/workspace/RegSeg/temp/Phantom6/ball/Contour_00/write/_node.pklz\n"
       ]
      },
      {
       "output_type": "stream",
       "stream": "stderr",
       "text": [
        "DEBUG:workflow:Needed dirs: /home/oesteban/workspace/RegSeg/temp/Phantom6/ball/Contour_00/write/_report\n"
       ]
      },
      {
       "output_type": "stream",
       "stream": "stderr",
       "text": [
        "DEBUG:workflow:Removing files: \n"
       ]
      },
      {
       "output_type": "stream",
       "stream": "stderr",
       "text": [
        "DEBUG:workflow:saved results in /home/oesteban/workspace/RegSeg/temp/Phantom6/ball/Contour_00/write/result_write.pklz\n"
       ]
      },
      {
       "output_type": "stream",
       "stream": "stderr",
       "text": [
        "DEBUG:workflow:writing post-exec report to /home/oesteban/workspace/RegSeg/temp/Phantom6/ball/Contour_00/write/_report/report.rst\n"
       ]
      },
      {
       "output_type": "stream",
       "stream": "stderr",
       "text": [
        "DEBUG:workflow:Finished running write in dir: /home/oesteban/workspace/RegSeg/temp/Phantom6/ball/Contour_00/write\n",
        "\n"
       ]
      },
      {
       "output_type": "stream",
       "stream": "stderr",
       "text": [
        "DEBUG:workflow:(Contour_01.inputnode, Contour_01.pretess): No edge data\n"
       ]
      },
      {
       "output_type": "stream",
       "stream": "stderr",
       "text": [
        "DEBUG:workflow:(Contour_01.inputnode, Contour_01.pretess): new edge data: {'connect': [('in_file', 'in_file'), ('in_norm', 'in_norm')]}\n"
       ]
      },
      {
       "output_type": "stream",
       "stream": "stderr",
       "text": [
        "DEBUG:workflow:(Contour_01.pretess, Contour_01.tess): No edge data\n"
       ]
      },
      {
       "output_type": "stream",
       "stream": "stderr",
       "text": [
        "DEBUG:workflow:(Contour_01.pretess, Contour_01.tess): new edge data: {'connect': [('out_file', 'in_file')]}\n"
       ]
      },
      {
       "output_type": "stream",
       "stream": "stderr",
       "text": [
        "DEBUG:workflow:(Contour_01.tess, Contour_01.mris_smooth): No edge data\n"
       ]
      },
      {
       "output_type": "stream",
       "stream": "stderr",
       "text": [
        "DEBUG:workflow:(Contour_01.tess, Contour_01.mris_smooth): new edge data: {'connect': [('surface', 'in_file')]}\n"
       ]
      },
      {
       "output_type": "stream",
       "stream": "stderr",
       "text": [
        "DEBUG:workflow:(Contour_01.mris_smooth, Contour_01.tovtk): No edge data\n"
       ]
      },
      {
       "output_type": "stream",
       "stream": "stderr",
       "text": [
        "DEBUG:workflow:(Contour_01.mris_smooth, Contour_01.tovtk): new edge data: {'connect': [('surface', 'in_file')]}\n"
       ]
      },
      {
       "output_type": "stream",
       "stream": "stderr",
       "text": [
        "DEBUG:workflow:(Contour_01.tovtk, Contour_01.write): No edge data\n"
       ]
      },
      {
       "output_type": "stream",
       "stream": "stderr",
       "text": [
        "DEBUG:workflow:(Contour_01.tovtk, Contour_01.write): new edge data: {'connect': [('out_file', 'surfs')]}\n"
       ]
      },
      {
       "output_type": "stream",
       "stream": "stderr",
       "text": [
        "DEBUG:workflow:(Contour_01.inputnode, Contour_01.write): No edge data\n"
       ]
      },
      {
       "output_type": "stream",
       "stream": "stderr",
       "text": [
        "DEBUG:workflow:(Contour_01.inputnode, Contour_01.write): new edge data: {'connect': [('out_folder', 'base_directory')]}\n"
       ]
      },
      {
       "output_type": "stream",
       "stream": "stderr",
       "text": [
        "DEBUG:workflow:(Contour_01.write, Contour_01.outputnode): No edge data\n"
       ]
      },
      {
       "output_type": "stream",
       "stream": "stderr",
       "text": [
        "DEBUG:workflow:(Contour_01.write, Contour_01.outputnode): new edge data: {'connect': [('out_file', 'out_file')]}\n"
       ]
      },
      {
       "output_type": "stream",
       "stream": "stderr",
       "text": [
        "DEBUG:workflow:setting nodelevel(Contour_01.inputnode) input in_file = /home/oesteban/workspace/RegSeg/temp/Phantom6/tempROI-gm.nii.gz\n"
       ]
      },
      {
       "output_type": "stream",
       "stream": "stderr",
       "text": [
        "DEBUG:workflow:setting nodelevel(Contour_01.inputnode) input in_norm = /home/oesteban/workspace/RegSeg/temp/Phantom6/ball-t1w-norm.nii.gz\n"
       ]
      },
      {
       "output_type": "stream",
       "stream": "stderr",
       "text": [
        "DEBUG:workflow:setting nodelevel(Contour_01.inputnode) input out_folder = /home/oesteban/workspace/RegSeg/Data/Phantom6/ball\n"
       ]
      },
      {
       "output_type": "stream",
       "stream": "stderr",
       "text": [
        "DEBUG:workflow:Creating flat graph for workflow: Contour_01\n"
       ]
      },
      {
       "output_type": "stream",
       "stream": "stderr",
       "text": [
        "DEBUG:workflow:expanding workflow: Contour_01\n"
       ]
      },
      {
       "output_type": "stream",
       "stream": "stderr",
       "text": [
        "DEBUG:workflow:processing node: Contour_01.inputnode\n"
       ]
      },
      {
       "output_type": "stream",
       "stream": "stderr",
       "text": [
        "DEBUG:workflow:processing node: Contour_01.pretess\n"
       ]
      },
      {
       "output_type": "stream",
       "stream": "stderr",
       "text": [
        "DEBUG:workflow:processing node: Contour_01.tess\n"
       ]
      },
      {
       "output_type": "stream",
       "stream": "stderr",
       "text": [
        "DEBUG:workflow:processing node: Contour_01.mris_smooth\n"
       ]
      },
      {
       "output_type": "stream",
       "stream": "stderr",
       "text": [
        "DEBUG:workflow:processing node: Contour_01.tovtk\n"
       ]
      },
      {
       "output_type": "stream",
       "stream": "stderr",
       "text": [
        "DEBUG:workflow:processing node: Contour_01.write\n"
       ]
      },
      {
       "output_type": "stream",
       "stream": "stderr",
       "text": [
        "DEBUG:workflow:processing node: Contour_01.outputnode\n"
       ]
      },
      {
       "output_type": "stream",
       "stream": "stderr",
       "text": [
        "DEBUG:workflow:finished expanding workflow: Contour_01\n"
       ]
      },
      {
       "output_type": "stream",
       "stream": "stderr",
       "text": [
        "INFO:workflow:['check', 'execution', 'logging']\n"
       ]
      },
      {
       "output_type": "stream",
       "stream": "stderr",
       "text": [
        "DEBUG:workflow:PE: expanding iterables\n"
       ]
      },
      {
       "output_type": "stream",
       "stream": "stderr",
       "text": [
        "DEBUG:workflow:setting nodelevel(Contour_01.write) input base_directory = /home/oesteban/workspace/RegSeg/Data/Phantom6/ball\n"
       ]
      },
      {
       "output_type": "stream",
       "stream": "stderr",
       "text": [
        "DEBUG:workflow:setting nodelevel(Contour_01.pretess) input in_file = /home/oesteban/workspace/RegSeg/temp/Phantom6/tempROI-gm.nii.gz\n"
       ]
      },
      {
       "output_type": "stream",
       "stream": "stderr",
       "text": [
        "DEBUG:workflow:setting nodelevel(Contour_01.pretess) input in_norm = /home/oesteban/workspace/RegSeg/temp/Phantom6/ball-t1w-norm.nii.gz\n"
       ]
      },
      {
       "output_type": "stream",
       "stream": "stderr",
       "text": [
        "DEBUG:workflow:Removed the identity node Contour_01.inputnode from the graph.\n"
       ]
      },
      {
       "output_type": "stream",
       "stream": "stderr",
       "text": [
        "DEBUG:workflow:Removed the identity node Contour_01.outputnode from the graph.\n"
       ]
      },
      {
       "output_type": "stream",
       "stream": "stderr",
       "text": [
        "DEBUG:workflow:Detected iterable nodes []\n"
       ]
      },
      {
       "output_type": "stream",
       "stream": "stderr",
       "text": [
        "DEBUG:workflow:PE: expanding iterables ... done\n"
       ]
      },
      {
       "output_type": "stream",
       "stream": "stderr",
       "text": [
        "DEBUG:workflow:Performing depth first search\n"
       ]
      },
      {
       "output_type": "stream",
       "stream": "stderr",
       "text": [
        "INFO:workflow:Running serially.\n"
       ]
      },
      {
       "output_type": "stream",
       "stream": "stderr",
       "text": [
        "DEBUG:workflow:Performing depth first search\n"
       ]
      },
      {
       "output_type": "stream",
       "stream": "stderr",
       "text": [
        "DEBUG:workflow:Setting node inputs\n"
       ]
      },
      {
       "output_type": "stream",
       "stream": "stderr",
       "text": [
        "INFO:workflow:Executing node pretess in dir: /home/oesteban/workspace/RegSeg/temp/Phantom6/ball/Contour_01/pretess\n"
       ]
      },
      {
       "output_type": "stream",
       "stream": "stderr",
       "text": [
        "DEBUG:workflow:['_report', '_node.pklz', 'tempROI-gm_pretess.mgz', '_0x84ecdec7aeb0e715f231bf4daab6ad36.json', 'result_pretess.pklz', '_inputs.pklz']\n"
       ]
      },
      {
       "output_type": "stream",
       "stream": "stderr",
       "text": [
        "DEBUG:workflow:['_report', '_node.pklz', 'tempROI-gm_pretess.mgz', '_0x84ecdec7aeb0e715f231bf4daab6ad36.json', 'result_pretess.pklz', '_inputs.pklz']\n"
       ]
      },
      {
       "output_type": "stream",
       "stream": "stderr",
       "text": [
        "DEBUG:workflow:['/home/oesteban/workspace/RegSeg/temp/Phantom6/ball/Contour_01/pretess/_0x84ecdec7aeb0e715f231bf4daab6ad36.json']\n"
       ]
      },
      {
       "output_type": "stream",
       "stream": "stderr",
       "text": [
        "DEBUG:workflow:/home/oesteban/workspace/RegSeg/temp/Phantom6/ball/Contour_01/pretess/_0x576ec5236e188b8fa15154d51349971d.json\n"
       ]
      },
      {
       "output_type": "stream",
       "stream": "stderr",
       "text": [
        "DEBUG:workflow:('updatehash, overwrite, always_run, hash_exists', False, None, False, False)\n"
       ]
      },
      {
       "output_type": "stream",
       "stream": "stderr",
       "text": [
        "DEBUG:workflow:Node hash: 576ec5236e188b8fa15154d51349971d\n"
       ]
      },
      {
       "output_type": "stream",
       "stream": "stderr",
       "text": [
        "DEBUG:workflow:Rerunning node\n"
       ]
      },
      {
       "output_type": "stream",
       "stream": "stderr",
       "text": [
        "DEBUG:workflow:updatehash = False, self.overwrite = None, self._interface.always_run = False, os.path.exists(/home/oesteban/workspace/RegSeg/temp/Phantom6/ball/Contour_01/pretess/_0x576ec5236e188b8fa15154d51349971d.json) = False, hash_method = timestamp\n"
       ]
      },
      {
       "output_type": "stream",
       "stream": "stderr",
       "text": [
        "DEBUG:workflow:Previous node hash = 84ecdec7aeb0e715f231bf4daab6ad36\n"
       ]
      },
      {
       "output_type": "stream",
       "stream": "stderr",
       "text": [
        "DEBUG:workflow: values differ in fields: in_file: ('/home/oesteban/workspace/RegSeg/temp/Phantom6/tempROI-gm.nii.gz', 'f5bdf734eb27471295f51924fed9878a') != [u'/home/oesteban/workspace/RegSeg/temp/Phantom6/tempROI-gm.nii.gz', u'022e8ad202c930fb24b2ceb675ae6fd1'], in_norm: ('/home/oesteban/workspace/RegSeg/temp/Phantom6/ball-t1w-norm.nii.gz', 'fb8cb8de02689bdc70d8caabb03b1d52') != [u'/home/oesteban/workspace/RegSeg/temp/Phantom6/ball-t1w-norm.nii.gz', u'f1ac5762cddcb1ed8314bd09d9581e2b']\n"
       ]
      },
      {
       "output_type": "stream",
       "stream": "stderr",
       "text": [
        "DEBUG:workflow:Removing old /home/oesteban/workspace/RegSeg/temp/Phantom6/ball/Contour_01/pretess and its contents\n"
       ]
      },
      {
       "output_type": "stream",
       "stream": "stderr",
       "text": [
        "DEBUG:workflow:Creating /home/oesteban/workspace/RegSeg/temp/Phantom6/ball/Contour_01/pretess\n"
       ]
      },
      {
       "output_type": "stream",
       "stream": "stderr",
       "text": [
        "DEBUG:workflow:writing pre-exec report to /home/oesteban/workspace/RegSeg/temp/Phantom6/ball/Contour_01/pretess/_report/report.rst\n"
       ]
      },
      {
       "output_type": "stream",
       "stream": "stderr",
       "text": [
        "DEBUG:workflow:Executing node\n"
       ]
      },
      {
       "output_type": "stream",
       "stream": "stderr",
       "text": [
        "DEBUG:workflow:copying files to wd [execute=True, linksonly=False]\n"
       ]
      },
      {
       "output_type": "stream",
       "stream": "stderr",
       "text": [
        "DEBUG:workflow:Needed files: /home/oesteban/workspace/RegSeg/temp/Phantom6/ball/Contour_01/pretess/tempROI-gm_pretess.mgz;/home/oesteban/workspace/RegSeg/temp/Phantom6/ball/Contour_01/pretess/_0x576ec5236e188b8fa15154d51349971d_unfinished.json;/home/oesteban/workspace/RegSeg/temp/Phantom6/ball/Contour_01/pretess/_inputs.pklz;/home/oesteban/workspace/RegSeg/temp/Phantom6/ball/Contour_01/pretess/_node.pklz\n"
       ]
      },
      {
       "output_type": "stream",
       "stream": "stderr",
       "text": [
        "DEBUG:workflow:Needed dirs: /home/oesteban/workspace/RegSeg/temp/Phantom6/ball/Contour_01/pretess/_report\n"
       ]
      },
      {
       "output_type": "stream",
       "stream": "stderr",
       "text": [
        "DEBUG:workflow:Removing files: \n"
       ]
      },
      {
       "output_type": "stream",
       "stream": "stderr",
       "text": [
        "DEBUG:workflow:saved results in /home/oesteban/workspace/RegSeg/temp/Phantom6/ball/Contour_01/pretess/result_pretess.pklz\n"
       ]
      },
      {
       "output_type": "stream",
       "stream": "stderr",
       "text": [
        "DEBUG:workflow:writing post-exec report to /home/oesteban/workspace/RegSeg/temp/Phantom6/ball/Contour_01/pretess/_report/report.rst\n"
       ]
      },
      {
       "output_type": "stream",
       "stream": "stderr",
       "text": [
        "DEBUG:workflow:Finished running pretess in dir: /home/oesteban/workspace/RegSeg/temp/Phantom6/ball/Contour_01/pretess\n",
        "\n"
       ]
      },
      {
       "output_type": "stream",
       "stream": "stderr",
       "text": [
        "DEBUG:workflow:Setting node inputs\n"
       ]
      },
      {
       "output_type": "stream",
       "stream": "stderr",
       "text": [
        "DEBUG:workflow:input: in_file\n"
       ]
      },
      {
       "output_type": "stream",
       "stream": "stderr",
       "text": [
        "DEBUG:workflow:results file: /home/oesteban/workspace/RegSeg/temp/Phantom6/ball/Contour_01/pretess/result_pretess.pklz\n"
       ]
      },
      {
       "output_type": "stream",
       "stream": "stderr",
       "text": [
        "DEBUG:workflow:output: out_file\n"
       ]
      },
      {
       "output_type": "stream",
       "stream": "stderr",
       "text": [
        "DEBUG:workflow:setting nodelevel(Contour_01.tess) input in_file = /home/oesteban/workspace/RegSeg/temp/Phantom6/ball/Contour_01/pretess/tempROI-gm_pretess.mgz\n"
       ]
      },
      {
       "output_type": "stream",
       "stream": "stderr",
       "text": [
        "INFO:workflow:Executing node tess in dir: /home/oesteban/workspace/RegSeg/temp/Phantom6/ball/Contour_01/tess\n"
       ]
      },
      {
       "output_type": "stream",
       "stream": "stderr",
       "text": [
        "DEBUG:workflow:['_0x9e8924465ca9b5f0d1401ed21ea9f271.json', '_report', 'result_tess.pklz', '_node.pklz', 'rh.area', 'rh.curv', 'command.txt', 'tempROI-gm_pretess.mgz_1', '_inputs.pklz']\n"
       ]
      },
      {
       "output_type": "stream",
       "stream": "stderr",
       "text": [
        "DEBUG:workflow:['_0x9e8924465ca9b5f0d1401ed21ea9f271.json', '_report', 'result_tess.pklz', '_node.pklz', 'rh.area', 'rh.curv', 'command.txt', 'tempROI-gm_pretess.mgz_1', '_inputs.pklz']\n"
       ]
      },
      {
       "output_type": "stream",
       "stream": "stderr",
       "text": [
        "DEBUG:workflow:['/home/oesteban/workspace/RegSeg/temp/Phantom6/ball/Contour_01/tess/_0x9e8924465ca9b5f0d1401ed21ea9f271.json']\n"
       ]
      },
      {
       "output_type": "stream",
       "stream": "stderr",
       "text": [
        "DEBUG:workflow:/home/oesteban/workspace/RegSeg/temp/Phantom6/ball/Contour_01/tess/_0xebefeb273f44a4207e99335713757752.json\n"
       ]
      },
      {
       "output_type": "stream",
       "stream": "stderr",
       "text": [
        "DEBUG:workflow:('updatehash, overwrite, always_run, hash_exists', False, None, False, False)\n"
       ]
      },
      {
       "output_type": "stream",
       "stream": "stderr",
       "text": [
        "DEBUG:workflow:Node hash: ebefeb273f44a4207e99335713757752\n"
       ]
      },
      {
       "output_type": "stream",
       "stream": "stderr",
       "text": [
        "DEBUG:workflow:Rerunning node\n"
       ]
      },
      {
       "output_type": "stream",
       "stream": "stderr",
       "text": [
        "DEBUG:workflow:updatehash = False, self.overwrite = None, self._interface.always_run = False, os.path.exists(/home/oesteban/workspace/RegSeg/temp/Phantom6/ball/Contour_01/tess/_0xebefeb273f44a4207e99335713757752.json) = False, hash_method = timestamp\n"
       ]
      },
      {
       "output_type": "stream",
       "stream": "stderr",
       "text": [
        "DEBUG:workflow:Previous node hash = 9e8924465ca9b5f0d1401ed21ea9f271\n"
       ]
      },
      {
       "output_type": "stream",
       "stream": "stderr",
       "text": [
        "DEBUG:workflow: values differ in fields: in_file: ('/home/oesteban/workspace/RegSeg/temp/Phantom6/ball/Contour_01/pretess/tempROI-gm_pretess.mgz', '8ddb97ede63d4a790351e2c9c6288b22') != [u'/home/oesteban/workspace/RegSeg/temp/Phantom6/ball/Contour_01/pretess/tempROI-gm_pretess.mgz', u'fb730b68879a64dc2bb90f710f6b9fe0']\n"
       ]
      },
      {
       "output_type": "stream",
       "stream": "stderr",
       "text": [
        "DEBUG:workflow:Removing old /home/oesteban/workspace/RegSeg/temp/Phantom6/ball/Contour_01/tess and its contents\n"
       ]
      },
      {
       "output_type": "stream",
       "stream": "stderr",
       "text": [
        "DEBUG:workflow:Creating /home/oesteban/workspace/RegSeg/temp/Phantom6/ball/Contour_01/tess\n"
       ]
      },
      {
       "output_type": "stream",
       "stream": "stderr",
       "text": [
        "DEBUG:workflow:writing pre-exec report to /home/oesteban/workspace/RegSeg/temp/Phantom6/ball/Contour_01/tess/_report/report.rst\n"
       ]
      },
      {
       "output_type": "stream",
       "stream": "stderr",
       "text": [
        "DEBUG:workflow:Executing node\n"
       ]
      },
      {
       "output_type": "stream",
       "stream": "stderr",
       "text": [
        "DEBUG:workflow:copying files to wd [execute=True, linksonly=False]\n"
       ]
      },
      {
       "output_type": "stream",
       "stream": "stderr",
       "text": [
        "DEBUG:interface:in_file_/home/oesteban/workspace/RegSeg/temp/Phantom6/ball/Contour_01/pretess/tempROI-gm_pretess.mgz\n"
       ]
      },
      {
       "output_type": "stream",
       "stream": "stderr",
       "text": [
        "DEBUG:interface:label_value_1\n"
       ]
      },
      {
       "output_type": "stream",
       "stream": "stderr",
       "text": [
        "DEBUG:interface:out_file_tempROI-gm_pretess.mgz_1\n"
       ]
      },
      {
       "output_type": "stream",
       "stream": "stderr",
       "text": [
        "DEBUG:interface:use_real_RAS_coordinates_True\n"
       ]
      },
      {
       "output_type": "stream",
       "stream": "stderr",
       "text": [
        "INFO:workflow:Running: mri_tessellate -n /home/oesteban/workspace/RegSeg/temp/Phantom6/ball/Contour_01/pretess/tempROI-gm_pretess.mgz 1 ./tempROI-gm_pretess.mgz_1\n"
       ]
      },
      {
       "output_type": "stream",
       "stream": "stderr",
       "text": [
        "DEBUG:interface:in_file_/home/oesteban/workspace/RegSeg/temp/Phantom6/ball/Contour_01/pretess/tempROI-gm_pretess.mgz\n"
       ]
      },
      {
       "output_type": "stream",
       "stream": "stderr",
       "text": [
        "DEBUG:interface:label_value_1\n"
       ]
      },
      {
       "output_type": "stream",
       "stream": "stderr",
       "text": [
        "DEBUG:interface:out_file_tempROI-gm_pretess.mgz_1\n"
       ]
      },
      {
       "output_type": "stream",
       "stream": "stderr",
       "text": [
        "DEBUG:interface:use_real_RAS_coordinates_True\n"
       ]
      },
      {
       "output_type": "stream",
       "stream": "stderr",
       "text": [
        "DEBUG:interface:{'DISPLAY': ':1'}\n"
       ]
      },
      {
       "output_type": "stream",
       "stream": "stderr",
       "text": [
        "INFO:interface:stdout 2014-04-14T18:42:14.928811:surface saved uses coordinates in the real RAS where c_(r,a,s) != 0\n"
       ]
      },
      {
       "output_type": "stream",
       "stream": "stderr",
       "text": [
        "INFO:interface:stdout 2014-04-14T18:42:14.928811:$Id: mri_tessellate.c,v 1.36 2011/03/02 00:04:25 nicks Exp $\n"
       ]
      },
      {
       "output_type": "stream",
       "stream": "stderr",
       "text": [
        "INFO:interface:stdout 2014-04-14T18:42:14.928811:  $Id: mrisurf.c,v 1.693.2.7 2013/05/12 22:28:01 nicks Exp $\n"
       ]
      },
      {
       "output_type": "stream",
       "stream": "stderr",
       "text": [
        "INFO:interface:stdout 2014-04-14T18:42:14.981278:slice 40: 2016 vertices, 2085 faces\n"
       ]
      },
      {
       "output_type": "stream",
       "stream": "stderr",
       "text": [
        "INFO:interface:stdout 2014-04-14T18:42:14.981278:slice 50: 3956 vertices, 4037 faces\n"
       ]
      },
      {
       "output_type": "stream",
       "stream": "stderr",
       "text": [
        "INFO:interface:stdout 2014-04-14T18:42:14.981278:slice 60: 5812 vertices, 5885 faces\n"
       ]
      },
      {
       "output_type": "stream",
       "stream": "stderr",
       "text": [
        "INFO:interface:stdout 2014-04-14T18:42:14.981278:slice 70: 7896 vertices, 7929 faces\n"
       ]
      },
      {
       "output_type": "stream",
       "stream": "stderr",
       "text": [
        "INFO:interface:stdout 2014-04-14T18:42:14.981278:slice 80: 8240 vertices, 8238 faces\n"
       ]
      },
      {
       "output_type": "stream",
       "stream": "stderr",
       "text": [
        "INFO:interface:stdout 2014-04-14T18:42:14.981278:slice 90: 8240 vertices, 8238 faces\n"
       ]
      },
      {
       "output_type": "stream",
       "stream": "stderr",
       "text": [
        "INFO:interface:stdout 2014-04-14T18:42:14.981278:slice 100: 8240 vertices, 8238 faces\n"
       ]
      },
      {
       "output_type": "stream",
       "stream": "stderr",
       "text": [
        "INFO:interface:stdout 2014-04-14T18:42:14.981278:using real RAS to save vertex points...\n"
       ]
      },
      {
       "output_type": "stream",
       "stream": "stderr",
       "text": [
        "INFO:interface:stdout 2014-04-14T18:42:14.981278:writing ./tempROI-gm_pretess.mgz_1\n"
       ]
      },
      {
       "output_type": "stream",
       "stream": "stderr",
       "text": [
        "INFO:interface:stdout 2014-04-14T18:42:14.981278:using vox2ras matrix:\n"
       ]
      },
      {
       "output_type": "stream",
       "stream": "stderr",
       "text": [
        "INFO:interface:stdout 2014-04-14T18:42:14.981278: 1.000   0.000   0.000  -50.500;\n"
       ]
      },
      {
       "output_type": "stream",
       "stream": "stderr",
       "text": [
        "INFO:interface:stdout 2014-04-14T18:42:14.981278: 0.000   1.000   0.000  -50.500;\n"
       ]
      },
      {
       "output_type": "stream",
       "stream": "stderr",
       "text": [
        "INFO:interface:stdout 2014-04-14T18:42:14.981278: 0.000   0.000   1.000  -50.500;\n"
       ]
      },
      {
       "output_type": "stream",
       "stream": "stderr",
       "text": [
        "INFO:interface:stdout 2014-04-14T18:42:14.981278: 0.000   0.000   0.000   1.000;\n"
       ]
      },
      {
       "output_type": "stream",
       "stream": "stderr",
       "text": [
        "DEBUG:workflow:Needed files: /home/oesteban/workspace/RegSeg/temp/Phantom6/ball/Contour_01/tess/tempROI-gm_pretess.mgz_1;/home/oesteban/workspace/RegSeg/temp/Phantom6/ball/Contour_01/tess/_0xebefeb273f44a4207e99335713757752_unfinished.json;/home/oesteban/workspace/RegSeg/temp/Phantom6/ball/Contour_01/tess/command.txt;/home/oesteban/workspace/RegSeg/temp/Phantom6/ball/Contour_01/tess/_inputs.pklz;/home/oesteban/workspace/RegSeg/temp/Phantom6/ball/Contour_01/tess/_node.pklz\n"
       ]
      },
      {
       "output_type": "stream",
       "stream": "stderr",
       "text": [
        "DEBUG:workflow:Needed dirs: /home/oesteban/workspace/RegSeg/temp/Phantom6/ball/Contour_01/tess/_report\n"
       ]
      },
      {
       "output_type": "stream",
       "stream": "stderr",
       "text": [
        "DEBUG:workflow:Removing files: \n"
       ]
      },
      {
       "output_type": "stream",
       "stream": "stderr",
       "text": [
        "DEBUG:workflow:saved results in /home/oesteban/workspace/RegSeg/temp/Phantom6/ball/Contour_01/tess/result_tess.pklz\n"
       ]
      },
      {
       "output_type": "stream",
       "stream": "stderr",
       "text": [
        "DEBUG:workflow:writing post-exec report to /home/oesteban/workspace/RegSeg/temp/Phantom6/ball/Contour_01/tess/_report/report.rst\n"
       ]
      },
      {
       "output_type": "stream",
       "stream": "stderr",
       "text": [
        "DEBUG:workflow:Finished running tess in dir: /home/oesteban/workspace/RegSeg/temp/Phantom6/ball/Contour_01/tess\n",
        "\n"
       ]
      },
      {
       "output_type": "stream",
       "stream": "stderr",
       "text": [
        "DEBUG:workflow:Setting node inputs\n"
       ]
      },
      {
       "output_type": "stream",
       "stream": "stderr",
       "text": [
        "DEBUG:workflow:input: in_file\n"
       ]
      },
      {
       "output_type": "stream",
       "stream": "stderr",
       "text": [
        "DEBUG:workflow:results file: /home/oesteban/workspace/RegSeg/temp/Phantom6/ball/Contour_01/tess/result_tess.pklz\n"
       ]
      },
      {
       "output_type": "stream",
       "stream": "stderr",
       "text": [
        "DEBUG:workflow:output: surface\n"
       ]
      },
      {
       "output_type": "stream",
       "stream": "stderr",
       "text": [
        "DEBUG:workflow:setting nodelevel(Contour_01.mris_smooth) input in_file = /home/oesteban/workspace/RegSeg/temp/Phantom6/ball/Contour_01/tess/tempROI-gm_pretess.mgz_1\n"
       ]
      },
      {
       "output_type": "stream",
       "stream": "stderr",
       "text": [
        "INFO:workflow:Executing node mris_smooth in dir: /home/oesteban/workspace/RegSeg/temp/Phantom6/ball/Contour_01/mris_smooth\n"
       ]
      },
      {
       "output_type": "stream",
       "stream": "stderr",
       "text": [
        "DEBUG:workflow:['_report', '_0x7be1603f371956731d834d55309c9a6d.json', 'tempROI-gm_pretess_smoothed.mgz_1', '_node.pklz', 'result_mris_smooth.pklz', 'command.txt', '_inputs.pklz']\n"
       ]
      },
      {
       "output_type": "stream",
       "stream": "stderr",
       "text": [
        "DEBUG:workflow:['_report', '_0x7be1603f371956731d834d55309c9a6d.json', 'tempROI-gm_pretess_smoothed.mgz_1', '_node.pklz', 'result_mris_smooth.pklz', 'command.txt', '_inputs.pklz']\n"
       ]
      },
      {
       "output_type": "stream",
       "stream": "stderr",
       "text": [
        "DEBUG:workflow:['/home/oesteban/workspace/RegSeg/temp/Phantom6/ball/Contour_01/mris_smooth/_0x7be1603f371956731d834d55309c9a6d.json']\n"
       ]
      },
      {
       "output_type": "stream",
       "stream": "stderr",
       "text": [
        "DEBUG:workflow:/home/oesteban/workspace/RegSeg/temp/Phantom6/ball/Contour_01/mris_smooth/_0xdec06cff3bd4589c79e4a64c0cf32776.json\n"
       ]
      },
      {
       "output_type": "stream",
       "stream": "stderr",
       "text": [
        "DEBUG:workflow:('updatehash, overwrite, always_run, hash_exists', False, None, False, False)\n"
       ]
      },
      {
       "output_type": "stream",
       "stream": "stderr",
       "text": [
        "DEBUG:workflow:Node hash: dec06cff3bd4589c79e4a64c0cf32776\n"
       ]
      },
      {
       "output_type": "stream",
       "stream": "stderr",
       "text": [
        "DEBUG:workflow:Rerunning node\n"
       ]
      },
      {
       "output_type": "stream",
       "stream": "stderr",
       "text": [
        "DEBUG:workflow:updatehash = False, self.overwrite = None, self._interface.always_run = False, os.path.exists(/home/oesteban/workspace/RegSeg/temp/Phantom6/ball/Contour_01/mris_smooth/_0xdec06cff3bd4589c79e4a64c0cf32776.json) = False, hash_method = timestamp\n"
       ]
      },
      {
       "output_type": "stream",
       "stream": "stderr",
       "text": [
        "DEBUG:workflow:Previous node hash = 7be1603f371956731d834d55309c9a6d\n"
       ]
      },
      {
       "output_type": "stream",
       "stream": "stderr",
       "text": [
        "DEBUG:workflow: values differ in fields: in_file: ('/home/oesteban/workspace/RegSeg/temp/Phantom6/ball/Contour_01/tess/tempROI-gm_pretess.mgz_1', 'ac19441e7a7c79cee65c40a7cdf25e28') != [u'/home/oesteban/workspace/RegSeg/temp/Phantom6/ball/Contour_01/tess/tempROI-gm_pretess.mgz_1', u'a4dbdf1b210d88f1b6b0119dd8300cef']\n"
       ]
      },
      {
       "output_type": "stream",
       "stream": "stderr",
       "text": [
        "DEBUG:workflow:Removing old /home/oesteban/workspace/RegSeg/temp/Phantom6/ball/Contour_01/mris_smooth and its contents\n"
       ]
      },
      {
       "output_type": "stream",
       "stream": "stderr",
       "text": [
        "DEBUG:workflow:Creating /home/oesteban/workspace/RegSeg/temp/Phantom6/ball/Contour_01/mris_smooth\n"
       ]
      },
      {
       "output_type": "stream",
       "stream": "stderr",
       "text": [
        "DEBUG:workflow:writing pre-exec report to /home/oesteban/workspace/RegSeg/temp/Phantom6/ball/Contour_01/mris_smooth/_report/report.rst\n"
       ]
      },
      {
       "output_type": "stream",
       "stream": "stderr",
       "text": [
        "DEBUG:workflow:Executing node\n"
       ]
      },
      {
       "output_type": "stream",
       "stream": "stderr",
       "text": [
        "DEBUG:workflow:copying files to wd [execute=True, linksonly=False]\n"
       ]
      },
      {
       "output_type": "stream",
       "stream": "stderr",
       "text": [
        "DEBUG:interface:curvature_averaging_iterations_10\n"
       ]
      },
      {
       "output_type": "stream",
       "stream": "stderr",
       "text": [
        "DEBUG:interface:disable_estimates_True\n"
       ]
      },
      {
       "output_type": "stream",
       "stream": "stderr",
       "text": [
        "DEBUG:interface:in_file_/home/oesteban/workspace/RegSeg/temp/Phantom6/ball/Contour_01/tess/tempROI-gm_pretess.mgz_1\n"
       ]
      },
      {
       "output_type": "stream",
       "stream": "stderr",
       "text": [
        "DEBUG:interface:out_file_/home/oesteban/workspace/RegSeg/temp/Phantom6/ball/Contour_01/mris_smooth/tempROI-gm_pretess_smoothed.mgz_1\n"
       ]
      },
      {
       "output_type": "stream",
       "stream": "stderr",
       "text": [
        "DEBUG:interface:smoothing_iterations_10\n"
       ]
      },
      {
       "output_type": "stream",
       "stream": "stderr",
       "text": [
        "INFO:workflow:Running: mris_smooth /home/oesteban/workspace/RegSeg/temp/Phantom6/ball/Contour_01/tess/tempROI-gm_pretess.mgz_1 /home/oesteban/workspace/RegSeg/temp/Phantom6/ball/Contour_01/mris_smooth/tempROI-gm_pretess_smoothed.mgz_1 -nw -n 10 -a 10\n"
       ]
      },
      {
       "output_type": "stream",
       "stream": "stderr",
       "text": [
        "DEBUG:interface:curvature_averaging_iterations_10\n"
       ]
      },
      {
       "output_type": "stream",
       "stream": "stderr",
       "text": [
        "DEBUG:interface:disable_estimates_True\n"
       ]
      },
      {
       "output_type": "stream",
       "stream": "stderr",
       "text": [
        "DEBUG:interface:in_file_/home/oesteban/workspace/RegSeg/temp/Phantom6/ball/Contour_01/tess/tempROI-gm_pretess.mgz_1\n"
       ]
      },
      {
       "output_type": "stream",
       "stream": "stderr",
       "text": [
        "DEBUG:interface:out_file_/home/oesteban/workspace/RegSeg/temp/Phantom6/ball/Contour_01/mris_smooth/tempROI-gm_pretess_smoothed.mgz_1\n"
       ]
      },
      {
       "output_type": "stream",
       "stream": "stderr",
       "text": [
        "DEBUG:interface:smoothing_iterations_10\n"
       ]
      },
      {
       "output_type": "stream",
       "stream": "stderr",
       "text": [
        "DEBUG:interface:{'DISPLAY': ':1'}\n"
       ]
      },
      {
       "output_type": "stream",
       "stream": "stderr",
       "text": [
        "INFO:interface:stderr 2014-04-14T18:42:15.101469:smoothing surface tessellation for 10 iterations...\n"
       ]
      },
      {
       "output_type": "stream",
       "stream": "stderr",
       "text": [
        "INFO:interface:stderr 2014-04-14T18:42:15.114063:smoothing complete - recomputing first and second fundamental forms...\n"
       ]
      },
      {
       "output_type": "stream",
       "stream": "stderr",
       "text": [
        "INFO:interface:stderr 2014-04-14T18:42:15.193364:writing smoothed curvature to /home/oesteban/workspace/RegSeg/temp/Phantom6/ball/Contour_01/mris_smooth/rh.curv\n"
       ]
      },
      {
       "output_type": "stream",
       "stream": "stderr",
       "text": [
        "INFO:interface:stderr 2014-04-14T18:42:15.193960:writing smoothed area to /home/oesteban/workspace/RegSeg/temp/Phantom6/ball/Contour_01/mris_smooth/rh.area\n"
       ]
      },
      {
       "output_type": "stream",
       "stream": "stderr",
       "text": [
        "DEBUG:workflow:Needed files: /home/oesteban/workspace/RegSeg/temp/Phantom6/ball/Contour_01/mris_smooth/tempROI-gm_pretess_smoothed.mgz_1;/home/oesteban/workspace/RegSeg/temp/Phantom6/ball/Contour_01/mris_smooth/_0xdec06cff3bd4589c79e4a64c0cf32776_unfinished.json;/home/oesteban/workspace/RegSeg/temp/Phantom6/ball/Contour_01/mris_smooth/command.txt;/home/oesteban/workspace/RegSeg/temp/Phantom6/ball/Contour_01/mris_smooth/_inputs.pklz;/home/oesteban/workspace/RegSeg/temp/Phantom6/ball/Contour_01/mris_smooth/_node.pklz\n"
       ]
      },
      {
       "output_type": "stream",
       "stream": "stderr",
       "text": [
        "DEBUG:workflow:Needed dirs: /home/oesteban/workspace/RegSeg/temp/Phantom6/ball/Contour_01/mris_smooth/_report\n"
       ]
      },
      {
       "output_type": "stream",
       "stream": "stderr",
       "text": [
        "DEBUG:workflow:Removing files: \n"
       ]
      },
      {
       "output_type": "stream",
       "stream": "stderr",
       "text": [
        "DEBUG:workflow:saved results in /home/oesteban/workspace/RegSeg/temp/Phantom6/ball/Contour_01/mris_smooth/result_mris_smooth.pklz\n"
       ]
      },
      {
       "output_type": "stream",
       "stream": "stderr",
       "text": [
        "DEBUG:workflow:writing post-exec report to /home/oesteban/workspace/RegSeg/temp/Phantom6/ball/Contour_01/mris_smooth/_report/report.rst\n"
       ]
      },
      {
       "output_type": "stream",
       "stream": "stderr",
       "text": [
        "DEBUG:workflow:Finished running mris_smooth in dir: /home/oesteban/workspace/RegSeg/temp/Phantom6/ball/Contour_01/mris_smooth\n",
        "\n"
       ]
      },
      {
       "output_type": "stream",
       "stream": "stderr",
       "text": [
        "DEBUG:workflow:Setting node inputs\n"
       ]
      },
      {
       "output_type": "stream",
       "stream": "stderr",
       "text": [
        "DEBUG:workflow:input: in_file\n"
       ]
      },
      {
       "output_type": "stream",
       "stream": "stderr",
       "text": [
        "DEBUG:workflow:results file: /home/oesteban/workspace/RegSeg/temp/Phantom6/ball/Contour_01/mris_smooth/result_mris_smooth.pklz\n"
       ]
      },
      {
       "output_type": "stream",
       "stream": "stderr",
       "text": [
        "DEBUG:workflow:output: surface\n"
       ]
      },
      {
       "output_type": "stream",
       "stream": "stderr",
       "text": [
        "DEBUG:workflow:setting nodelevel(Contour_01.tovtk) input in_file = /home/oesteban/workspace/RegSeg/temp/Phantom6/ball/Contour_01/mris_smooth/tempROI-gm_pretess_smoothed.mgz_1\n"
       ]
      },
      {
       "output_type": "stream",
       "stream": "stderr",
       "text": [
        "INFO:workflow:Executing node tovtk in dir: /home/oesteban/workspace/RegSeg/temp/Phantom6/ball/Contour_01/tovtk\n"
       ]
      },
      {
       "output_type": "stream",
       "stream": "stderr",
       "text": [
        "DEBUG:workflow:['_report', '_node.pklz', 'result_tovtk.pklz', 'tempROI-gm_pretess_smoothed.mgz_1_conv.vtk', '_0x2cf41786be860533f081eeb5d0242983.json', '_inputs.pklz']\n"
       ]
      },
      {
       "output_type": "stream",
       "stream": "stderr",
       "text": [
        "DEBUG:workflow:['_report', '_node.pklz', 'result_tovtk.pklz', 'tempROI-gm_pretess_smoothed.mgz_1_conv.vtk', '_0x2cf41786be860533f081eeb5d0242983.json', '_inputs.pklz']\n"
       ]
      },
      {
       "output_type": "stream",
       "stream": "stderr",
       "text": [
        "DEBUG:workflow:['/home/oesteban/workspace/RegSeg/temp/Phantom6/ball/Contour_01/tovtk/_0x2cf41786be860533f081eeb5d0242983.json']\n"
       ]
      },
      {
       "output_type": "stream",
       "stream": "stderr",
       "text": [
        "DEBUG:workflow:/home/oesteban/workspace/RegSeg/temp/Phantom6/ball/Contour_01/tovtk/_0xb0f5b1090d07e7661fce01e10d9b48f7.json\n"
       ]
      },
      {
       "output_type": "stream",
       "stream": "stderr",
       "text": [
        "DEBUG:workflow:('updatehash, overwrite, always_run, hash_exists', False, None, False, False)\n"
       ]
      },
      {
       "output_type": "stream",
       "stream": "stderr",
       "text": [
        "DEBUG:workflow:Node hash: b0f5b1090d07e7661fce01e10d9b48f7\n"
       ]
      },
      {
       "output_type": "stream",
       "stream": "stderr",
       "text": [
        "DEBUG:workflow:Rerunning node\n"
       ]
      },
      {
       "output_type": "stream",
       "stream": "stderr",
       "text": [
        "DEBUG:workflow:updatehash = False, self.overwrite = None, self._interface.always_run = False, os.path.exists(/home/oesteban/workspace/RegSeg/temp/Phantom6/ball/Contour_01/tovtk/_0xb0f5b1090d07e7661fce01e10d9b48f7.json) = False, hash_method = timestamp\n"
       ]
      },
      {
       "output_type": "stream",
       "stream": "stderr",
       "text": [
        "DEBUG:workflow:Previous node hash = 2cf41786be860533f081eeb5d0242983\n"
       ]
      },
      {
       "output_type": "stream",
       "stream": "stderr",
       "text": [
        "DEBUG:workflow: values differ in fields: in_file: ('/home/oesteban/workspace/RegSeg/temp/Phantom6/ball/Contour_01/mris_smooth/tempROI-gm_pretess_smoothed.mgz_1', '0bf5aa5a9375fabcbb9aaa09c9a702f8') != [u'/home/oesteban/workspace/RegSeg/temp/Phantom6/ball/Contour_01/mris_smooth/tempROI-gm_pretess_smoothed.mgz_1', u'cbe7d10d142f0f6f2fda8e40c50a2c74']\n"
       ]
      },
      {
       "output_type": "stream",
       "stream": "stderr",
       "text": [
        "DEBUG:workflow:Removing old /home/oesteban/workspace/RegSeg/temp/Phantom6/ball/Contour_01/tovtk and its contents\n"
       ]
      },
      {
       "output_type": "stream",
       "stream": "stderr",
       "text": [
        "DEBUG:workflow:Creating /home/oesteban/workspace/RegSeg/temp/Phantom6/ball/Contour_01/tovtk\n"
       ]
      },
      {
       "output_type": "stream",
       "stream": "stderr",
       "text": [
        "DEBUG:workflow:writing pre-exec report to /home/oesteban/workspace/RegSeg/temp/Phantom6/ball/Contour_01/tovtk/_report/report.rst\n"
       ]
      },
      {
       "output_type": "stream",
       "stream": "stderr",
       "text": [
        "DEBUG:workflow:Executing node\n"
       ]
      },
      {
       "output_type": "stream",
       "stream": "stderr",
       "text": [
        "DEBUG:workflow:copying files to wd [execute=True, linksonly=False]\n"
       ]
      },
      {
       "output_type": "stream",
       "stream": "stderr",
       "text": [
        "DEBUG:workflow:Needed files: /home/oesteban/workspace/RegSeg/temp/Phantom6/ball/Contour_01/tovtk/_0xb0f5b1090d07e7661fce01e10d9b48f7_unfinished.json;/home/oesteban/workspace/RegSeg/temp/Phantom6/ball/Contour_01/tovtk/_inputs.pklz;/home/oesteban/workspace/RegSeg/temp/Phantom6/ball/Contour_01/tovtk/_node.pklz\n"
       ]
      },
      {
       "output_type": "stream",
       "stream": "stderr",
       "text": [
        "DEBUG:workflow:Needed dirs: /home/oesteban/workspace/RegSeg/temp/Phantom6/ball/Contour_01/tovtk/_report\n"
       ]
      },
      {
       "output_type": "stream",
       "stream": "stderr",
       "text": [
        "DEBUG:workflow:Removing files: \n"
       ]
      },
      {
       "output_type": "stream",
       "stream": "stderr",
       "text": [
        "DEBUG:workflow:saved results in /home/oesteban/workspace/RegSeg/temp/Phantom6/ball/Contour_01/tovtk/result_tovtk.pklz\n"
       ]
      },
      {
       "output_type": "stream",
       "stream": "stderr",
       "text": [
        "DEBUG:workflow:writing post-exec report to /home/oesteban/workspace/RegSeg/temp/Phantom6/ball/Contour_01/tovtk/_report/report.rst\n"
       ]
      },
      {
       "output_type": "stream",
       "stream": "stderr",
       "text": [
        "DEBUG:workflow:Finished running tovtk in dir: /home/oesteban/workspace/RegSeg/temp/Phantom6/ball/Contour_01/tovtk\n",
        "\n"
       ]
      },
      {
       "output_type": "stream",
       "stream": "stderr",
       "text": [
        "DEBUG:workflow:Setting node inputs\n"
       ]
      },
      {
       "output_type": "stream",
       "stream": "stderr",
       "text": [
        "DEBUG:workflow:input: surfs\n"
       ]
      },
      {
       "output_type": "stream",
       "stream": "stderr",
       "text": [
        "DEBUG:workflow:results file: /home/oesteban/workspace/RegSeg/temp/Phantom6/ball/Contour_01/tovtk/result_tovtk.pklz\n"
       ]
      },
      {
       "output_type": "stream",
       "stream": "stderr",
       "text": [
        "DEBUG:workflow:output: out_file\n"
       ]
      },
      {
       "output_type": "stream",
       "stream": "stderr",
       "text": [
        "DEBUG:workflow:setting nodelevel(Contour_01.write) input surfs = /home/oesteban/workspace/RegSeg/temp/Phantom6/ball/Contour_01/tovtk/tempROI-gm_pretess_smoothed.mgz_1_conv.vtk\n"
       ]
      },
      {
       "output_type": "stream",
       "stream": "stderr",
       "text": [
        "INFO:workflow:Executing node write in dir: /home/oesteban/workspace/RegSeg/temp/Phantom6/ball/Contour_01/write\n"
       ]
      },
      {
       "output_type": "stream",
       "stream": "stderr",
       "text": [
        "DEBUG:workflow:['_report', 'result_write.pklz', '_node.pklz', '_0xcbd54e982b774e9be5b8d27eb025b1e4.json', '_inputs.pklz']\n"
       ]
      },
      {
       "output_type": "stream",
       "stream": "stderr",
       "text": [
        "DEBUG:workflow:['_report', 'result_write.pklz', '_node.pklz', '_0xcbd54e982b774e9be5b8d27eb025b1e4.json', '_inputs.pklz']\n"
       ]
      },
      {
       "output_type": "stream",
       "stream": "stderr",
       "text": [
        "DEBUG:workflow:['/home/oesteban/workspace/RegSeg/temp/Phantom6/ball/Contour_01/write/_0xcbd54e982b774e9be5b8d27eb025b1e4.json']\n"
       ]
      },
      {
       "output_type": "stream",
       "stream": "stderr",
       "text": [
        "DEBUG:workflow:/home/oesteban/workspace/RegSeg/temp/Phantom6/ball/Contour_01/write/_0xcbd54e982b774e9be5b8d27eb025b1e4.json\n"
       ]
      },
      {
       "output_type": "stream",
       "stream": "stderr",
       "text": [
        "DEBUG:workflow:('updatehash, overwrite, always_run, hash_exists', False, None, True, True)\n"
       ]
      },
      {
       "output_type": "stream",
       "stream": "stderr",
       "text": [
        "DEBUG:workflow:Node hash: cbd54e982b774e9be5b8d27eb025b1e4\n"
       ]
      },
      {
       "output_type": "stream",
       "stream": "stderr",
       "text": [
        "DEBUG:workflow:Rerunning node\n"
       ]
      },
      {
       "output_type": "stream",
       "stream": "stderr",
       "text": [
        "DEBUG:workflow:updatehash = False, self.overwrite = None, self._interface.always_run = True, os.path.exists(/home/oesteban/workspace/RegSeg/temp/Phantom6/ball/Contour_01/write/_0xcbd54e982b774e9be5b8d27eb025b1e4.json) = True, hash_method = timestamp\n"
       ]
      },
      {
       "output_type": "stream",
       "stream": "stderr",
       "text": [
        "DEBUG:workflow:Removing old /home/oesteban/workspace/RegSeg/temp/Phantom6/ball/Contour_01/write and its contents\n"
       ]
      },
      {
       "output_type": "stream",
       "stream": "stderr",
       "text": [
        "DEBUG:workflow:Creating /home/oesteban/workspace/RegSeg/temp/Phantom6/ball/Contour_01/write\n"
       ]
      },
      {
       "output_type": "stream",
       "stream": "stderr",
       "text": [
        "DEBUG:workflow:writing pre-exec report to /home/oesteban/workspace/RegSeg/temp/Phantom6/ball/Contour_01/write/_report/report.rst\n"
       ]
      },
      {
       "output_type": "stream",
       "stream": "stderr",
       "text": [
        "DEBUG:workflow:Executing node\n"
       ]
      },
      {
       "output_type": "stream",
       "stream": "stderr",
       "text": [
        "DEBUG:workflow:copying files to wd [execute=True, linksonly=False]\n"
       ]
      },
      {
       "output_type": "stream",
       "stream": "stderr",
       "text": [
        "DEBUG:interface:key: surfs files: /home/oesteban/workspace/RegSeg/temp/Phantom6/ball/Contour_01/tovtk/tempROI-gm_pretess_smoothed.mgz_1_conv.vtk\n"
       ]
      },
      {
       "output_type": "stream",
       "stream": "stderr",
       "text": [
        "DEBUG:workflow:Needed files: /home/oesteban/workspace/RegSeg/temp/Phantom6/ball/Contour_01/write/_0xcbd54e982b774e9be5b8d27eb025b1e4_unfinished.json;/home/oesteban/workspace/RegSeg/temp/Phantom6/ball/Contour_01/write/_inputs.pklz;/home/oesteban/workspace/RegSeg/temp/Phantom6/ball/Contour_01/write/_node.pklz\n"
       ]
      },
      {
       "output_type": "stream",
       "stream": "stderr",
       "text": [
        "DEBUG:workflow:Needed dirs: /home/oesteban/workspace/RegSeg/temp/Phantom6/ball/Contour_01/write/_report\n"
       ]
      },
      {
       "output_type": "stream",
       "stream": "stderr",
       "text": [
        "DEBUG:workflow:Removing files: \n"
       ]
      },
      {
       "output_type": "stream",
       "stream": "stderr",
       "text": [
        "DEBUG:workflow:saved results in /home/oesteban/workspace/RegSeg/temp/Phantom6/ball/Contour_01/write/result_write.pklz\n"
       ]
      },
      {
       "output_type": "stream",
       "stream": "stderr",
       "text": [
        "DEBUG:workflow:writing post-exec report to /home/oesteban/workspace/RegSeg/temp/Phantom6/ball/Contour_01/write/_report/report.rst\n"
       ]
      },
      {
       "output_type": "stream",
       "stream": "stderr",
       "text": [
        "DEBUG:workflow:Finished running write in dir: /home/oesteban/workspace/RegSeg/temp/Phantom6/ball/Contour_01/write\n",
        "\n"
       ]
      }
     ],
     "prompt_number": "*"
    },
    {
     "cell_type": "code",
     "collapsed": false,
     "input": [],
     "language": "python",
     "metadata": {},
     "outputs": []
    }
   ],
   "metadata": {}
  }
 ]
}