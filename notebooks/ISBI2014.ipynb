{
 "metadata": {
  "name": "ISBI2014"
 },
 "nbformat": 3,
 "nbformat_minor": 0,
 "worksheets": [
  {
   "cells": [
    {
     "cell_type": "code",
     "collapsed": false,
     "input": [
      "import numpy as np\n",
      "import nibabel as nib\n",
      "from tvtk.api import tvtk\n",
      "import datetime as dt\n",
      "import os\n",
      "import os.path as op\n",
      "\n",
      "from scipy.ndimage import label\n",
      "\n",
      "import nipype.pipeline.engine as pe          # pypeline engine\n",
      "import nipype.interfaces.freesurfer as fs\n",
      "import nipype.interfaces.utility as niu\n",
      "import nipype.interfaces.io as nio\n",
      "import nipype.workflows.dmri.fsl as wf\n",
      "\n",
      "import sys\n",
      "sys.path.append('/home/oesteban/workspace/ACWE-Reg/Scripts/utils')\n",
      "sys.path.append('/home/oesteban/workspace/ACWE-Reg/Scripts/workflows')\n",
      "\n",
      "\n",
      "import dmri as dmri\n",
      "import fsb_transform as fsbt"
     ],
     "language": "python",
     "metadata": {},
     "outputs": [],
     "prompt_number": 1
    },
    {
     "cell_type": "code",
     "collapsed": false,
     "input": [
      "root_dir='/home/oesteban/workspace/ACWE-Reg/'\n",
      "data_dir= op.join( root_dir, 'Data' )\n",
      "mname = 'DigitalPhantomISBI'\n",
      "model_dir = op.join( data_dir, mname )\n",
      "tpms_dir = op.join( model_dir, 'tpms' )\n",
      "\n",
      "working_dir= op.join( root_dir, 'temp', 'ISBI2014' )\n",
      "\n",
      "if not op.exists( working_dir ):\n",
      "    os.makedirs( working_dir )"
     ],
     "language": "python",
     "metadata": {},
     "outputs": [],
     "prompt_number": 2
    },
    {
     "cell_type": "code",
     "collapsed": false,
     "input": [
      "reload( dmri )\n",
      "t2reg_wf = dmri.t2_registration_correct()\n",
      "t2reg_wf.base_dir = working_dir\n",
      "\n",
      "t2reg_wf.inputs.inputnode.in_file = op.join( working_dir , \"dwi.nii.gz\" )\n",
      "t2reg_wf.inputs.inputnode.in_t2 = op.join( model_dir, \"t2_weighted.nii.gz\" )\n",
      "t2reg_wf.inputs.inputnode.in_mask_dwi = op.join( working_dir, \"mask_warped.nii.gz\" )\n",
      "t2reg_wf.inputs.inputnode.in_mask_t2 = op.join( model_dir, \"tpms\", \"tpm_mask.nii.gz\" )\n",
      "\n",
      "t2reg_wf.run()"
     ],
     "language": "python",
     "metadata": {},
     "outputs": [
      {
       "output_type": "stream",
       "stream": "stdout",
       "text": [
        "130919-05:45:39,68 workflow INFO:\n",
        "\t ['check', 'execution', 'logging']\n"
       ]
      },
      {
       "output_type": "stream",
       "stream": "stdout",
       "text": [
        "130919-05:45:39,74 workflow INFO:\n",
        "\t Running serially.\n"
       ]
      },
      {
       "output_type": "stream",
       "stream": "stdout",
       "text": [
        "130919-05:45:39,75 workflow INFO:\n",
        "\t Executing node getB0 in dir: /home/oesteban/workspace/ACWE-Reg/temp/ISBI2014/T2_Registration/getB0\n"
       ]
      },
      {
       "output_type": "stream",
       "stream": "stdout",
       "text": [
        "130919-05:45:39,76 workflow INFO:\n",
        "\t Collecting precomputed outputs\n"
       ]
      },
      {
       "output_type": "stream",
       "stream": "stdout",
       "text": [
        "130919-05:45:39,118 workflow INFO:\n",
        "\t Executing node maskB0 in dir: /home/oesteban/workspace/ACWE-Reg/temp/ISBI2014/T2_Registration/maskB0\n"
       ]
      },
      {
       "output_type": "stream",
       "stream": "stdout",
       "text": [
        "130919-05:45:39,119 workflow INFO:\n",
        "\t Collecting precomputed outputs\n"
       ]
      },
      {
       "output_type": "stream",
       "stream": "stdout",
       "text": [
        "130919-05:45:39,142 workflow INFO:\n",
        "\t Executing node maskT2 in dir: /home/oesteban/workspace/ACWE-Reg/temp/ISBI2014/T2_Registration/maskT2\n"
       ]
      },
      {
       "output_type": "stream",
       "stream": "stdout",
       "text": [
        "130919-05:45:39,143 workflow INFO:\n",
        "\t Collecting precomputed outputs\n"
       ]
      },
      {
       "output_type": "stream",
       "stream": "stdout",
       "text": [
        "130919-05:45:39,208 workflow INFO:\n",
        "\t Executing node B0-to-T2 in dir: /home/oesteban/workspace/ACWE-Reg/temp/ISBI2014/T2_Registration/B0-to-T2\n"
       ]
      },
      {
       "output_type": "stream",
       "stream": "stdout",
       "text": [
        "130919-05:45:39,225 workflow INFO:\n",
        "\t Running: antsRegistration --collapse-linear-transforms-to-fixed-image-header 0 --collapse-output-transforms 0 --dimensionality 3 --interpolation Linear --output transform --transform SyN[ 1.0, 1.5, 6.0 ] --metric Mattes[ /home/oesteban/workspace/ACWE-Reg/temp/ISBI2014/T2_Registration/maskT2/t2_weighted_masked.nii.gz, /home/oesteban/workspace/ACWE-Reg/temp/ISBI2014/T2_Registration/maskB0/dwi_roi_masked.nii.gz, 1, 64, Random, 0.1 ] --convergence [ 300x200x20, 1e-09, 40 ] --smoothing-sigmas 2.0x1.0x0.0vox --shrink-factors 3x2x1 --use-estimate-learning-rate-once 1 --use-histogram-matching 1 --winsorize-image-intensities [ 0.0, 1.0 ]  --write-composite-transform 1\n"
       ]
      },
      {
       "output_type": "stream",
       "stream": "stdout",
       "text": [
        "130919-05:45:39,305 interface INFO:\n",
        "\t stdout 2013-09-19T05:45:39.305312:  number of levels = 3\n"
       ]
      },
      {
       "output_type": "stream",
       "stream": "stdout",
       "text": [
        "130919-05:45:39,306 interface INFO:\n",
        "\t stdout 2013-09-19T05:45:39.306148:  fixed image: /home/oesteban/workspace/ACWE-Reg/temp/ISBI2014/T2_Registration/maskT2/t2_weighted_masked.nii.gz\n"
       ]
      },
      {
       "output_type": "stream",
       "stream": "stdout",
       "text": [
        "130919-05:45:39,306 interface INFO:\n",
        "\t stdout 2013-09-19T05:45:39.306148:  moving image: /home/oesteban/workspace/ACWE-Reg/temp/ISBI2014/T2_Registration/maskB0/dwi_roi_masked.nii.gz\n"
       ]
      },
      {
       "output_type": "stream",
       "stream": "stdout",
       "text": [
        "130919-05:45:39,411 interface INFO:\n",
        "\t stdout 2013-09-19T05:45:39.411267:Dimension = 3\n"
       ]
      },
      {
       "output_type": "stream",
       "stream": "stdout",
       "text": [
        "130919-05:45:39,411 interface INFO:\n",
        "\t stdout 2013-09-19T05:45:39.411267:Number of stages = 1\n"
       ]
      },
      {
       "output_type": "stream",
       "stream": "stdout",
       "text": [
        "130919-05:45:39,412 interface INFO:\n",
        "\t stdout 2013-09-19T05:45:39.411267:Use Histogram Matching true\n"
       ]
      },
      {
       "output_type": "stream",
       "stream": "stdout",
       "text": [
        "130919-05:45:39,412 interface INFO:\n",
        "\t stdout 2013-09-19T05:45:39.411267:Winsorize Image Intensities false\n"
       ]
      },
      {
       "output_type": "stream",
       "stream": "stdout",
       "text": [
        "130919-05:45:39,413 interface INFO:\n",
        "\t stdout 2013-09-19T05:45:39.411267:Lower Quantile = 0\n"
       ]
      },
      {
       "output_type": "stream",
       "stream": "stdout",
       "text": [
        "130919-05:45:39,413 interface INFO:\n",
        "\t stdout 2013-09-19T05:45:39.411267:Upper Quantile = 1\n"
       ]
      },
      {
       "output_type": "stream",
       "stream": "stdout",
       "text": [
        "130919-05:45:39,413 interface INFO:\n",
        "\t stdout 2013-09-19T05:45:39.411267:Stage 1 State\n"
       ]
      },
      {
       "output_type": "stream",
       "stream": "stdout",
       "text": [
        "130919-05:45:39,414 interface INFO:\n",
        "\t stdout 2013-09-19T05:45:39.411267:   Metric = Mattes\n"
       ]
      },
      {
       "output_type": "stream",
       "stream": "stdout",
       "text": [
        "130919-05:45:39,414 interface INFO:\n",
        "\t stdout 2013-09-19T05:45:39.414699:     Fixed Image = Image (0xfc1940)\n"
       ]
      },
      {
       "output_type": "stream",
       "stream": "stdout",
       "text": [
        "130919-05:45:39,415 interface INFO:\n",
        "\t stdout 2013-09-19T05:45:39.414699:  RTTI typeinfo:   itk::Image<double, 3u>\n"
       ]
      },
      {
       "output_type": "stream",
       "stream": "stdout",
       "text": [
        "130919-05:45:39,415 interface INFO:\n",
        "\t stdout 2013-09-19T05:45:39.414699:  Reference Count: 2\n"
       ]
      },
      {
       "output_type": "stream",
       "stream": "stdout",
       "text": [
        "130919-05:45:39,416 interface INFO:\n",
        "\t stdout 2013-09-19T05:45:39.414699:  Modified Time: 546\n"
       ]
      },
      {
       "output_type": "stream",
       "stream": "stdout",
       "text": [
        "130919-05:45:39,417 interface INFO:\n",
        "\t stdout 2013-09-19T05:45:39.414699:  Debug: Off\n"
       ]
      },
      {
       "output_type": "stream",
       "stream": "stdout",
       "text": [
        "130919-05:45:39,417 interface INFO:\n",
        "\t stdout 2013-09-19T05:45:39.414699:  Observers: \n"
       ]
      },
      {
       "output_type": "stream",
       "stream": "stdout",
       "text": [
        "130919-05:45:39,418 interface INFO:\n",
        "\t stdout 2013-09-19T05:45:39.414699:    none\n"
       ]
      },
      {
       "output_type": "stream",
       "stream": "stdout",
       "text": [
        "130919-05:45:39,418 interface INFO:\n",
        "\t stdout 2013-09-19T05:45:39.414699:  Source: (none)\n"
       ]
      },
      {
       "output_type": "stream",
       "stream": "stdout",
       "text": [
        "130919-05:45:39,418 interface INFO:\n",
        "\t stdout 2013-09-19T05:45:39.414699:  Source output name: (none)\n"
       ]
      },
      {
       "output_type": "stream",
       "stream": "stdout",
       "text": [
        "130919-05:45:39,419 interface INFO:\n",
        "\t stdout 2013-09-19T05:45:39.414699:  Release Data: Off\n"
       ]
      },
      {
       "output_type": "stream",
       "stream": "stdout",
       "text": [
        "130919-05:45:39,419 interface INFO:\n",
        "\t stdout 2013-09-19T05:45:39.414699:  Data Released: False\n"
       ]
      },
      {
       "output_type": "stream",
       "stream": "stdout",
       "text": [
        "130919-05:45:39,419 interface INFO:\n",
        "\t stdout 2013-09-19T05:45:39.414699:  Global Release Data: Off\n"
       ]
      },
      {
       "output_type": "stream",
       "stream": "stdout",
       "text": [
        "130919-05:45:39,420 interface INFO:\n",
        "\t stdout 2013-09-19T05:45:39.414699:  PipelineMTime: 0\n"
       ]
      },
      {
       "output_type": "stream",
       "stream": "stdout",
       "text": [
        "130919-05:45:39,420 interface INFO:\n",
        "\t stdout 2013-09-19T05:45:39.414699:  UpdateMTime: 393\n"
       ]
      },
      {
       "output_type": "stream",
       "stream": "stdout",
       "text": [
        "130919-05:45:39,420 interface INFO:\n",
        "\t stdout 2013-09-19T05:45:39.414699:  RealTimeStamp: 0 seconds \n"
       ]
      },
      {
       "output_type": "stream",
       "stream": "stdout",
       "text": [
        "130919-05:45:39,421 interface INFO:\n",
        "\t stdout 2013-09-19T05:45:39.414699:  LargestPossibleRegion: \n"
       ]
      },
      {
       "output_type": "stream",
       "stream": "stdout",
       "text": [
        "130919-05:45:39,421 interface INFO:\n",
        "\t stdout 2013-09-19T05:45:39.414699:    Dimension: 3\n"
       ]
      },
      {
       "output_type": "stream",
       "stream": "stdout",
       "text": [
        "130919-05:45:39,421 interface INFO:\n",
        "\t stdout 2013-09-19T05:45:39.414699:    Index: [0, 0, 0]\n"
       ]
      },
      {
       "output_type": "stream",
       "stream": "stdout",
       "text": [
        "130919-05:45:39,422 interface INFO:\n",
        "\t stdout 2013-09-19T05:45:39.414699:    Size: [140, 140, 140]\n"
       ]
      },
      {
       "output_type": "stream",
       "stream": "stdout",
       "text": [
        "130919-05:45:39,422 interface INFO:\n",
        "\t stdout 2013-09-19T05:45:39.414699:  BufferedRegion: \n"
       ]
      },
      {
       "output_type": "stream",
       "stream": "stdout",
       "text": [
        "130919-05:45:39,422 interface INFO:\n",
        "\t stdout 2013-09-19T05:45:39.414699:    Dimension: 3\n"
       ]
      },
      {
       "output_type": "stream",
       "stream": "stdout",
       "text": [
        "130919-05:45:39,422 interface INFO:\n",
        "\t stdout 2013-09-19T05:45:39.414699:    Index: [0, 0, 0]\n"
       ]
      },
      {
       "output_type": "stream",
       "stream": "stdout",
       "text": [
        "130919-05:45:39,423 interface INFO:\n",
        "\t stdout 2013-09-19T05:45:39.414699:    Size: [140, 140, 140]\n"
       ]
      },
      {
       "output_type": "stream",
       "stream": "stdout",
       "text": [
        "130919-05:45:39,423 interface INFO:\n",
        "\t stdout 2013-09-19T05:45:39.414699:  RequestedRegion: \n"
       ]
      },
      {
       "output_type": "stream",
       "stream": "stdout",
       "text": [
        "130919-05:45:39,423 interface INFO:\n",
        "\t stdout 2013-09-19T05:45:39.414699:    Dimension: 3\n"
       ]
      },
      {
       "output_type": "stream",
       "stream": "stdout",
       "text": [
        "130919-05:45:39,424 interface INFO:\n",
        "\t stdout 2013-09-19T05:45:39.414699:    Index: [0, 0, 0]\n"
       ]
      },
      {
       "output_type": "stream",
       "stream": "stdout",
       "text": [
        "130919-05:45:39,424 interface INFO:\n",
        "\t stdout 2013-09-19T05:45:39.414699:    Size: [140, 140, 140]\n"
       ]
      },
      {
       "output_type": "stream",
       "stream": "stdout",
       "text": [
        "130919-05:45:39,424 interface INFO:\n",
        "\t stdout 2013-09-19T05:45:39.414699:  Spacing: [0.5, 0.5, 0.5]\n"
       ]
      },
      {
       "output_type": "stream",
       "stream": "stdout",
       "text": [
        "130919-05:45:39,425 interface INFO:\n",
        "\t stdout 2013-09-19T05:45:39.414699:  Origin: [34.75, 34.75, -34.75]\n"
       ]
      },
      {
       "output_type": "stream",
       "stream": "stdout",
       "text": [
        "130919-05:45:39,425 interface INFO:\n",
        "\t stdout 2013-09-19T05:45:39.414699:  Direction: \n"
       ]
      },
      {
       "output_type": "stream",
       "stream": "stdout",
       "text": [
        "130919-05:45:39,425 interface INFO:\n",
        "\t stdout 2013-09-19T05:45:39.414699:-1 0 0\n"
       ]
      },
      {
       "output_type": "stream",
       "stream": "stdout",
       "text": [
        "130919-05:45:39,426 interface INFO:\n",
        "\t stdout 2013-09-19T05:45:39.414699:0 -1 0\n"
       ]
      },
      {
       "output_type": "stream",
       "stream": "stdout",
       "text": [
        "130919-05:45:39,426 interface INFO:\n",
        "\t stdout 2013-09-19T05:45:39.414699:0 0 1\n"
       ]
      },
      {
       "output_type": "stream",
       "stream": "stdout",
       "text": [
        "130919-05:45:39,426 interface INFO:\n",
        "\t stdout 2013-09-19T05:45:39.414699:\n"
       ]
      },
      {
       "output_type": "stream",
       "stream": "stdout",
       "text": [
        "130919-05:45:39,426 interface INFO:\n",
        "\t stdout 2013-09-19T05:45:39.414699:  IndexToPointMatrix: \n"
       ]
      },
      {
       "output_type": "stream",
       "stream": "stdout",
       "text": [
        "130919-05:45:39,427 interface INFO:\n",
        "\t stdout 2013-09-19T05:45:39.414699:-0.5 0 0\n"
       ]
      },
      {
       "output_type": "stream",
       "stream": "stdout",
       "text": [
        "130919-05:45:39,427 interface INFO:\n",
        "\t stdout 2013-09-19T05:45:39.414699:0 -0.5 0\n"
       ]
      },
      {
       "output_type": "stream",
       "stream": "stdout",
       "text": [
        "130919-05:45:39,427 interface INFO:\n",
        "\t stdout 2013-09-19T05:45:39.414699:0 0 0.5\n"
       ]
      },
      {
       "output_type": "stream",
       "stream": "stdout",
       "text": [
        "130919-05:45:39,428 interface INFO:\n",
        "\t stdout 2013-09-19T05:45:39.414699:\n"
       ]
      },
      {
       "output_type": "stream",
       "stream": "stdout",
       "text": [
        "130919-05:45:39,428 interface INFO:\n",
        "\t stdout 2013-09-19T05:45:39.414699:  PointToIndexMatrix: \n"
       ]
      },
      {
       "output_type": "stream",
       "stream": "stdout",
       "text": [
        "130919-05:45:39,428 interface INFO:\n",
        "\t stdout 2013-09-19T05:45:39.414699:-2 0 0\n"
       ]
      },
      {
       "output_type": "stream",
       "stream": "stdout",
       "text": [
        "130919-05:45:39,429 interface INFO:\n",
        "\t stdout 2013-09-19T05:45:39.414699:0 -2 0\n"
       ]
      },
      {
       "output_type": "stream",
       "stream": "stdout",
       "text": [
        "130919-05:45:39,429 interface INFO:\n",
        "\t stdout 2013-09-19T05:45:39.414699:0 0 2\n"
       ]
      },
      {
       "output_type": "stream",
       "stream": "stdout",
       "text": [
        "130919-05:45:39,429 interface INFO:\n",
        "\t stdout 2013-09-19T05:45:39.414699:\n"
       ]
      },
      {
       "output_type": "stream",
       "stream": "stdout",
       "text": [
        "130919-05:45:39,429 interface INFO:\n",
        "\t stdout 2013-09-19T05:45:39.414699:  Inverse Direction: \n"
       ]
      },
      {
       "output_type": "stream",
       "stream": "stdout",
       "text": [
        "130919-05:45:39,430 interface INFO:\n",
        "\t stdout 2013-09-19T05:45:39.414699:-1 0 0\n"
       ]
      },
      {
       "output_type": "stream",
       "stream": "stdout",
       "text": [
        "130919-05:45:39,430 interface INFO:\n",
        "\t stdout 2013-09-19T05:45:39.414699:0 -1 0\n"
       ]
      },
      {
       "output_type": "stream",
       "stream": "stdout",
       "text": [
        "130919-05:45:39,430 interface INFO:\n",
        "\t stdout 2013-09-19T05:45:39.414699:0 0 1\n"
       ]
      },
      {
       "output_type": "stream",
       "stream": "stdout",
       "text": [
        "130919-05:45:39,431 interface INFO:\n",
        "\t stdout 2013-09-19T05:45:39.414699:\n"
       ]
      },
      {
       "output_type": "stream",
       "stream": "stdout",
       "text": [
        "130919-05:45:39,431 interface INFO:\n",
        "\t stdout 2013-09-19T05:45:39.414699:  PixelContainer: \n"
       ]
      },
      {
       "output_type": "stream",
       "stream": "stdout",
       "text": [
        "130919-05:45:39,431 interface INFO:\n",
        "\t stdout 2013-09-19T05:45:39.414699:    ImportImageContainer (0xfc1c00)\n"
       ]
      },
      {
       "output_type": "stream",
       "stream": "stdout",
       "text": [
        "130919-05:45:39,432 interface INFO:\n",
        "\t stdout 2013-09-19T05:45:39.414699:      RTTI typeinfo:   itk::ImportImageContainer<unsigned long, double>\n"
       ]
      },
      {
       "output_type": "stream",
       "stream": "stdout",
       "text": [
        "130919-05:45:39,432 interface INFO:\n",
        "\t stdout 2013-09-19T05:45:39.414699:      Reference Count: 1\n"
       ]
      },
      {
       "output_type": "stream",
       "stream": "stdout",
       "text": [
        "130919-05:45:39,432 interface INFO:\n",
        "\t stdout 2013-09-19T05:45:39.414699:      Modified Time: 390\n"
       ]
      },
      {
       "output_type": "stream",
       "stream": "stdout",
       "text": [
        "130919-05:45:39,433 interface INFO:\n",
        "\t stdout 2013-09-19T05:45:39.414699:      Debug: Off\n"
       ]
      },
      {
       "output_type": "stream",
       "stream": "stdout",
       "text": [
        "130919-05:45:39,433 interface INFO:\n",
        "\t stdout 2013-09-19T05:45:39.414699:      Observers: \n"
       ]
      },
      {
       "output_type": "stream",
       "stream": "stdout",
       "text": [
        "130919-05:45:39,433 interface INFO:\n",
        "\t stdout 2013-09-19T05:45:39.414699:        none\n"
       ]
      },
      {
       "output_type": "stream",
       "stream": "stdout",
       "text": [
        "130919-05:45:39,434 interface INFO:\n",
        "\t stdout 2013-09-19T05:45:39.414699:      Pointer: 0x7fafa29b5010\n"
       ]
      },
      {
       "output_type": "stream",
       "stream": "stdout",
       "text": [
        "130919-05:45:39,434 interface INFO:\n",
        "\t stdout 2013-09-19T05:45:39.414699:      Container manages memory: true\n"
       ]
      },
      {
       "output_type": "stream",
       "stream": "stdout",
       "text": [
        "130919-05:45:39,434 interface INFO:\n",
        "\t stdout 2013-09-19T05:45:39.414699:      Size: 2744000\n"
       ]
      },
      {
       "output_type": "stream",
       "stream": "stdout",
       "text": [
        "130919-05:45:39,434 interface INFO:\n",
        "\t stdout 2013-09-19T05:45:39.414699:      Capacity: 2744000\n"
       ]
      },
      {
       "output_type": "stream",
       "stream": "stdout",
       "text": [
        "130919-05:45:39,435 interface INFO:\n",
        "\t stdout 2013-09-19T05:45:39.414699:\n"
       ]
      },
      {
       "output_type": "stream",
       "stream": "stdout",
       "text": [
        "130919-05:45:39,435 interface INFO:\n",
        "\t stdout 2013-09-19T05:45:39.414699:     Moving Image = Image (0xfc3aa0)\n"
       ]
      },
      {
       "output_type": "stream",
       "stream": "stdout",
       "text": [
        "130919-05:45:39,435 interface INFO:\n",
        "\t stdout 2013-09-19T05:45:39.414699:  RTTI typeinfo:   itk::Image<double, 3u>\n"
       ]
      },
      {
       "output_type": "stream",
       "stream": "stdout",
       "text": [
        "130919-05:45:39,436 interface INFO:\n",
        "\t stdout 2013-09-19T05:45:39.414699:  Reference Count: 2\n"
       ]
      },
      {
       "output_type": "stream",
       "stream": "stdout",
       "text": [
        "130919-05:45:39,436 interface INFO:\n",
        "\t stdout 2013-09-19T05:45:39.414699:  Modified Time: 547\n"
       ]
      },
      {
       "output_type": "stream",
       "stream": "stdout",
       "text": [
        "130919-05:45:39,436 interface INFO:\n",
        "\t stdout 2013-09-19T05:45:39.414699:  Debug: Off\n"
       ]
      },
      {
       "output_type": "stream",
       "stream": "stdout",
       "text": [
        "130919-05:45:39,437 interface INFO:\n",
        "\t stdout 2013-09-19T05:45:39.414699:  Observers: \n"
       ]
      },
      {
       "output_type": "stream",
       "stream": "stdout",
       "text": [
        "130919-05:45:39,437 interface INFO:\n",
        "\t stdout 2013-09-19T05:45:39.414699:    none\n"
       ]
      },
      {
       "output_type": "stream",
       "stream": "stdout",
       "text": [
        "130919-05:45:39,437 interface INFO:\n",
        "\t stdout 2013-09-19T05:45:39.414699:  Source: (none)\n"
       ]
      },
      {
       "output_type": "stream",
       "stream": "stdout",
       "text": [
        "130919-05:45:39,438 interface INFO:\n",
        "\t stdout 2013-09-19T05:45:39.414699:  Source output name: (none)\n"
       ]
      },
      {
       "output_type": "stream",
       "stream": "stdout",
       "text": [
        "130919-05:45:39,438 interface INFO:\n",
        "\t stdout 2013-09-19T05:45:39.414699:  Release Data: Off\n"
       ]
      },
      {
       "output_type": "stream",
       "stream": "stdout",
       "text": [
        "130919-05:45:39,438 interface INFO:\n",
        "\t stdout 2013-09-19T05:45:39.414699:  Data Released: False\n"
       ]
      },
      {
       "output_type": "stream",
       "stream": "stdout",
       "text": [
        "130919-05:45:39,438 interface INFO:\n",
        "\t stdout 2013-09-19T05:45:39.414699:  Global Release Data: Off\n"
       ]
      },
      {
       "output_type": "stream",
       "stream": "stdout",
       "text": [
        "130919-05:45:39,439 interface INFO:\n",
        "\t stdout 2013-09-19T05:45:39.414699:  PipelineMTime: 0\n"
       ]
      },
      {
       "output_type": "stream",
       "stream": "stdout",
       "text": [
        "130919-05:45:39,439 interface INFO:\n",
        "\t stdout 2013-09-19T05:45:39.414699:  UpdateMTime: 544\n"
       ]
      },
      {
       "output_type": "stream",
       "stream": "stdout",
       "text": [
        "130919-05:45:39,439 interface INFO:\n",
        "\t stdout 2013-09-19T05:45:39.414699:  RealTimeStamp: 0 seconds \n"
       ]
      },
      {
       "output_type": "stream",
       "stream": "stdout",
       "text": [
        "130919-05:45:39,440 interface INFO:\n",
        "\t stdout 2013-09-19T05:45:39.414699:  LargestPossibleRegion: \n"
       ]
      },
      {
       "output_type": "stream",
       "stream": "stdout",
       "text": [
        "130919-05:45:39,440 interface INFO:\n",
        "\t stdout 2013-09-19T05:45:39.414699:    Dimension: 3\n"
       ]
      },
      {
       "output_type": "stream",
       "stream": "stdout",
       "text": [
        "130919-05:45:39,440 interface INFO:\n",
        "\t stdout 2013-09-19T05:45:39.414699:    Index: [0, 0, 0]\n"
       ]
      },
      {
       "output_type": "stream",
       "stream": "stdout",
       "text": [
        "130919-05:45:39,441 interface INFO:\n",
        "\t stdout 2013-09-19T05:45:39.414699:    Size: [70, 70, 70]\n"
       ]
      },
      {
       "output_type": "stream",
       "stream": "stdout",
       "text": [
        "130919-05:45:39,441 interface INFO:\n",
        "\t stdout 2013-09-19T05:45:39.414699:  BufferedRegion: \n"
       ]
      },
      {
       "output_type": "stream",
       "stream": "stdout",
       "text": [
        "130919-05:45:39,441 interface INFO:\n",
        "\t stdout 2013-09-19T05:45:39.414699:    Dimension: 3\n"
       ]
      },
      {
       "output_type": "stream",
       "stream": "stdout",
       "text": [
        "130919-05:45:39,442 interface INFO:\n",
        "\t stdout 2013-09-19T05:45:39.414699:    Index: [0, 0, 0]\n"
       ]
      },
      {
       "output_type": "stream",
       "stream": "stdout",
       "text": [
        "130919-05:45:39,442 interface INFO:\n",
        "\t stdout 2013-09-19T05:45:39.414699:    Size: [70, 70, 70]\n"
       ]
      },
      {
       "output_type": "stream",
       "stream": "stdout",
       "text": [
        "130919-05:45:39,442 interface INFO:\n",
        "\t stdout 2013-09-19T05:45:39.414699:  RequestedRegion: \n"
       ]
      },
      {
       "output_type": "stream",
       "stream": "stdout",
       "text": [
        "130919-05:45:39,442 interface INFO:\n",
        "\t stdout 2013-09-19T05:45:39.414699:    Dimension: 3\n"
       ]
      },
      {
       "output_type": "stream",
       "stream": "stdout",
       "text": [
        "130919-05:45:39,443 interface INFO:\n",
        "\t stdout 2013-09-19T05:45:39.414699:    Index: [0, 0, 0]\n"
       ]
      },
      {
       "output_type": "stream",
       "stream": "stdout",
       "text": [
        "130919-05:45:39,443 interface INFO:\n",
        "\t stdout 2013-09-19T05:45:39.414699:    Size: [70, 70, 70]\n"
       ]
      },
      {
       "output_type": "stream",
       "stream": "stdout",
       "text": [
        "130919-05:45:39,443 interface INFO:\n",
        "\t stdout 2013-09-19T05:45:39.414699:  Spacing: [1, 1, 1]\n"
       ]
      },
      {
       "output_type": "stream",
       "stream": "stdout",
       "text": [
        "130919-05:45:39,444 interface INFO:\n",
        "\t stdout 2013-09-19T05:45:39.414699:  Origin: [34.5, 34.5, -34.5]\n"
       ]
      },
      {
       "output_type": "stream",
       "stream": "stdout",
       "text": [
        "130919-05:45:39,444 interface INFO:\n",
        "\t stdout 2013-09-19T05:45:39.414699:  Direction: \n"
       ]
      },
      {
       "output_type": "stream",
       "stream": "stdout",
       "text": [
        "130919-05:45:39,444 interface INFO:\n",
        "\t stdout 2013-09-19T05:45:39.414699:-1 0 0\n"
       ]
      },
      {
       "output_type": "stream",
       "stream": "stdout",
       "text": [
        "130919-05:45:39,445 interface INFO:\n",
        "\t stdout 2013-09-19T05:45:39.414699:0 -1 0\n"
       ]
      },
      {
       "output_type": "stream",
       "stream": "stdout",
       "text": [
        "130919-05:45:39,445 interface INFO:\n",
        "\t stdout 2013-09-19T05:45:39.414699:0 0 1\n"
       ]
      },
      {
       "output_type": "stream",
       "stream": "stdout",
       "text": [
        "130919-05:45:39,445 interface INFO:\n",
        "\t stdout 2013-09-19T05:45:39.414699:\n"
       ]
      },
      {
       "output_type": "stream",
       "stream": "stdout",
       "text": [
        "130919-05:45:39,446 interface INFO:\n",
        "\t stdout 2013-09-19T05:45:39.414699:  IndexToPointMatrix: \n"
       ]
      },
      {
       "output_type": "stream",
       "stream": "stdout",
       "text": [
        "130919-05:45:39,446 interface INFO:\n",
        "\t stdout 2013-09-19T05:45:39.414699:-1 0 0\n"
       ]
      },
      {
       "output_type": "stream",
       "stream": "stdout",
       "text": [
        "130919-05:45:39,446 interface INFO:\n",
        "\t stdout 2013-09-19T05:45:39.414699:0 -1 0\n"
       ]
      },
      {
       "output_type": "stream",
       "stream": "stdout",
       "text": [
        "130919-05:45:39,447 interface INFO:\n",
        "\t stdout 2013-09-19T05:45:39.414699:0 0 1\n"
       ]
      },
      {
       "output_type": "stream",
       "stream": "stdout",
       "text": [
        "130919-05:45:39,447 interface INFO:\n",
        "\t stdout 2013-09-19T05:45:39.414699:\n"
       ]
      },
      {
       "output_type": "stream",
       "stream": "stdout",
       "text": [
        "130919-05:45:39,447 interface INFO:\n",
        "\t stdout 2013-09-19T05:45:39.414699:  PointToIndexMatrix: \n"
       ]
      },
      {
       "output_type": "stream",
       "stream": "stdout",
       "text": [
        "130919-05:45:39,447 interface INFO:\n",
        "\t stdout 2013-09-19T05:45:39.414699:-1 0 0\n"
       ]
      },
      {
       "output_type": "stream",
       "stream": "stdout",
       "text": [
        "130919-05:45:39,448 interface INFO:\n",
        "\t stdout 2013-09-19T05:45:39.414699:0 -1 0\n"
       ]
      },
      {
       "output_type": "stream",
       "stream": "stdout",
       "text": [
        "130919-05:45:39,448 interface INFO:\n",
        "\t stdout 2013-09-19T05:45:39.414699:0 0 1\n"
       ]
      },
      {
       "output_type": "stream",
       "stream": "stdout",
       "text": [
        "130919-05:45:39,448 interface INFO:\n",
        "\t stdout 2013-09-19T05:45:39.414699:\n"
       ]
      },
      {
       "output_type": "stream",
       "stream": "stdout",
       "text": [
        "130919-05:45:39,449 interface INFO:\n",
        "\t stdout 2013-09-19T05:45:39.414699:  Inverse Direction: \n"
       ]
      },
      {
       "output_type": "stream",
       "stream": "stdout",
       "text": [
        "130919-05:45:39,449 interface INFO:\n",
        "\t stdout 2013-09-19T05:45:39.414699:-1 0 0\n"
       ]
      },
      {
       "output_type": "stream",
       "stream": "stdout",
       "text": [
        "130919-05:45:39,449 interface INFO:\n",
        "\t stdout 2013-09-19T05:45:39.414699:0 -1 0\n"
       ]
      },
      {
       "output_type": "stream",
       "stream": "stdout",
       "text": [
        "130919-05:45:39,450 interface INFO:\n",
        "\t stdout 2013-09-19T05:45:39.414699:0 0 1\n"
       ]
      },
      {
       "output_type": "stream",
       "stream": "stdout",
       "text": [
        "130919-05:45:39,450 interface INFO:\n",
        "\t stdout 2013-09-19T05:45:39.414699:\n"
       ]
      },
      {
       "output_type": "stream",
       "stream": "stdout",
       "text": [
        "130919-05:45:39,450 interface INFO:\n",
        "\t stdout 2013-09-19T05:45:39.414699:  PixelContainer: \n"
       ]
      },
      {
       "output_type": "stream",
       "stream": "stdout",
       "text": [
        "130919-05:45:39,451 interface INFO:\n",
        "\t stdout 2013-09-19T05:45:39.414699:    ImportImageContainer (0xfc3fa0)\n"
       ]
      },
      {
       "output_type": "stream",
       "stream": "stdout",
       "text": [
        "130919-05:45:39,451 interface INFO:\n",
        "\t stdout 2013-09-19T05:45:39.414699:      RTTI typeinfo:   itk::ImportImageContainer<unsigned long, double>\n"
       ]
      },
      {
       "output_type": "stream",
       "stream": "stdout",
       "text": [
        "130919-05:45:39,451 interface INFO:\n",
        "\t stdout 2013-09-19T05:45:39.414699:      Reference Count: 1\n"
       ]
      },
      {
       "output_type": "stream",
       "stream": "stdout",
       "text": [
        "130919-05:45:39,452 interface INFO:\n",
        "\t stdout 2013-09-19T05:45:39.414699:      Modified Time: 541\n"
       ]
      },
      {
       "output_type": "stream",
       "stream": "stdout",
       "text": [
        "130919-05:45:39,452 interface INFO:\n",
        "\t stdout 2013-09-19T05:45:39.414699:      Debug: Off\n"
       ]
      },
      {
       "output_type": "stream",
       "stream": "stdout",
       "text": [
        "130919-05:45:39,452 interface INFO:\n",
        "\t stdout 2013-09-19T05:45:39.414699:      Observers: \n"
       ]
      },
      {
       "output_type": "stream",
       "stream": "stdout",
       "text": [
        "130919-05:45:39,453 interface INFO:\n",
        "\t stdout 2013-09-19T05:45:39.414699:        none\n"
       ]
      },
      {
       "output_type": "stream",
       "stream": "stdout",
       "text": [
        "130919-05:45:39,453 interface INFO:\n",
        "\t stdout 2013-09-19T05:45:39.414699:      Pointer: 0xfccbd0\n"
       ]
      },
      {
       "output_type": "stream",
       "stream": "stdout",
       "text": [
        "130919-05:45:39,453 interface INFO:\n",
        "\t stdout 2013-09-19T05:45:39.414699:      Container manages memory: true\n"
       ]
      },
      {
       "output_type": "stream",
       "stream": "stdout",
       "text": [
        "130919-05:45:39,453 interface INFO:\n",
        "\t stdout 2013-09-19T05:45:39.414699:      Size: 343000\n"
       ]
      },
      {
       "output_type": "stream",
       "stream": "stdout",
       "text": [
        "130919-05:45:39,454 interface INFO:\n",
        "\t stdout 2013-09-19T05:45:39.414699:      Capacity: 343000\n"
       ]
      },
      {
       "output_type": "stream",
       "stream": "stdout",
       "text": [
        "130919-05:45:39,454 interface INFO:\n",
        "\t stdout 2013-09-19T05:45:39.414699:\n"
       ]
      },
      {
       "output_type": "stream",
       "stream": "stdout",
       "text": [
        "130919-05:45:39,454 interface INFO:\n",
        "\t stdout 2013-09-19T05:45:39.414699:     Weighting = 1\n"
       ]
      },
      {
       "output_type": "stream",
       "stream": "stdout",
       "text": [
        "130919-05:45:39,455 interface INFO:\n",
        "\t stdout 2013-09-19T05:45:39.414699:     Sampling Strategy = random\n"
       ]
      },
      {
       "output_type": "stream",
       "stream": "stdout",
       "text": [
        "130919-05:45:39,455 interface INFO:\n",
        "\t stdout 2013-09-19T05:45:39.414699:     NumberOfBins = 64\n"
       ]
      },
      {
       "output_type": "stream",
       "stream": "stdout",
       "text": [
        "130919-05:45:39,455 interface INFO:\n",
        "\t stdout 2013-09-19T05:45:39.414699:     Radius = 1\n"
       ]
      },
      {
       "output_type": "stream",
       "stream": "stdout",
       "text": [
        "130919-05:45:39,456 interface INFO:\n",
        "\t stdout 2013-09-19T05:45:39.414699:     Sampling percentage  = 0.1\n"
       ]
      },
      {
       "output_type": "stream",
       "stream": "stdout",
       "text": [
        "130919-05:45:39,456 interface INFO:\n",
        "\t stdout 2013-09-19T05:45:39.414699:   Transform = SyN\n"
       ]
      },
      {
       "output_type": "stream",
       "stream": "stdout",
       "text": [
        "130919-05:45:39,456 interface INFO:\n",
        "\t stdout 2013-09-19T05:45:39.414699:     Gradient Step = 1\n"
       ]
      },
      {
       "output_type": "stream",
       "stream": "stdout",
       "text": [
        "130919-05:45:39,457 interface INFO:\n",
        "\t stdout 2013-09-19T05:45:39.414699:     Update Field Sigma (voxel space) = 1.5\n"
       ]
      },
      {
       "output_type": "stream",
       "stream": "stdout",
       "text": [
        "130919-05:45:39,457 interface INFO:\n",
        "\t stdout 2013-09-19T05:45:39.414699:     Total Field Sigma (voxel space) = 6\n"
       ]
      },
      {
       "output_type": "stream",
       "stream": "stdout",
       "text": [
        "130919-05:45:39,457 interface INFO:\n",
        "\t stdout 2013-09-19T05:45:39.414699:     Update Field Time Sigma = 0\n"
       ]
      },
      {
       "output_type": "stream",
       "stream": "stdout",
       "text": [
        "130919-05:45:39,457 interface INFO:\n",
        "\t stdout 2013-09-19T05:45:39.414699:     Total Field Time Sigma  = 0\n"
       ]
      },
      {
       "output_type": "stream",
       "stream": "stdout",
       "text": [
        "130919-05:45:39,458 interface INFO:\n",
        "\t stdout 2013-09-19T05:45:39.414699:     Number of Time Indices = 0\n"
       ]
      },
      {
       "output_type": "stream",
       "stream": "stdout",
       "text": [
        "130919-05:45:39,458 interface INFO:\n",
        "\t stdout 2013-09-19T05:45:39.414699:     Number of Time Point Samples = 0\n"
       ]
      },
      {
       "output_type": "stream",
       "stream": "stdout",
       "text": [
        "130919-05:45:39,458 interface INFO:\n",
        "\t stdout 2013-09-19T05:45:39.414699:Registration using 1 total stages.\n"
       ]
      },
      {
       "output_type": "stream",
       "stream": "stdout",
       "text": [
        "130919-05:45:39,459 interface INFO:\n",
        "\t stdout 2013-09-19T05:45:39.414699:\n"
       ]
      },
      {
       "output_type": "stream",
       "stream": "stdout",
       "text": [
        "130919-05:45:39,459 interface INFO:\n",
        "\t stdout 2013-09-19T05:45:39.414699:Stage 0\n"
       ]
      },
      {
       "output_type": "stream",
       "stream": "stdout",
       "text": [
        "130919-05:45:39,459 interface INFO:\n",
        "\t stdout 2013-09-19T05:45:39.414699:  iterations = 300x200x20\n"
       ]
      },
      {
       "output_type": "stream",
       "stream": "stdout",
       "text": [
        "130919-05:45:39,460 interface INFO:\n",
        "\t stdout 2013-09-19T05:45:39.414699:  convergence threshold = 1e-09\n"
       ]
      },
      {
       "output_type": "stream",
       "stream": "stdout",
       "text": [
        "130919-05:45:39,460 interface INFO:\n",
        "\t stdout 2013-09-19T05:45:39.414699:  convergence window size = 40\n"
       ]
      },
      {
       "output_type": "stream",
       "stream": "stdout",
       "text": [
        "130919-05:45:39,460 interface INFO:\n",
        "\t stdout 2013-09-19T05:45:39.414699:  number of levels = 3\n"
       ]
      },
      {
       "output_type": "stream",
       "stream": "stdout",
       "text": [
        "130919-05:45:39,461 interface INFO:\n",
        "\t stdout 2013-09-19T05:45:39.414699:  Shrink factors (level 1 out of 3): [3, 3, 3]\n"
       ]
      },
      {
       "output_type": "stream",
       "stream": "stdout",
       "text": [
        "130919-05:45:39,461 interface INFO:\n",
        "\t stdout 2013-09-19T05:45:39.414699:  Shrink factors (level 2 out of 3): [2, 2, 2]\n"
       ]
      },
      {
       "output_type": "stream",
       "stream": "stdout",
       "text": [
        "130919-05:45:39,461 interface INFO:\n",
        "\t stdout 2013-09-19T05:45:39.414699:  Shrink factors (level 3 out of 3): [1, 1, 1]\n"
       ]
      },
      {
       "output_type": "stream",
       "stream": "stdout",
       "text": [
        "130919-05:45:39,461 interface INFO:\n",
        "\t stdout 2013-09-19T05:45:39.414699:  smoothing sigmas per level: [2, 1, 0]\n"
       ]
      },
      {
       "output_type": "stream",
       "stream": "stdout",
       "text": [
        "130919-05:45:39,644 interface INFO:\n",
        "\t stdout 2013-09-19T05:45:39.644760:  preprocessing:  histogram matching the images\n"
       ]
      },
      {
       "output_type": "stream",
       "stream": "stdout",
       "text": [
        "130919-05:45:39,645 interface INFO:\n",
        "\t stdout 2013-09-19T05:45:39.644760:  using the Mattes MI metric (number of bins = 64, weight = 1)\n"
       ]
      },
      {
       "output_type": "stream",
       "stream": "stdout",
       "text": [
        "130919-05:45:39,645 interface INFO:\n",
        "\t stdout 2013-09-19T05:45:39.645464:  random sampling (percentage = 0.1)\n"
       ]
      },
      {
       "output_type": "stream",
       "stream": "stdout",
       "text": [
        "130919-05:45:39,693 interface INFO:\n",
        "\t stdout 2013-09-19T05:45:39.693153:\n"
       ]
      },
      {
       "output_type": "stream",
       "stream": "stdout",
       "text": [
        "130919-05:45:39,694 interface INFO:\n",
        "\t stdout 2013-09-19T05:45:39.693153:*** Running SyN registration (varianceForUpdateField = 1.5, varianceForTotalField = 6) ***\n"
       ]
      },
      {
       "output_type": "stream",
       "stream": "stdout",
       "text": [
        "130919-05:45:39,694 interface INFO:\n",
        "\t stdout 2013-09-19T05:45:39.693153:\n"
       ]
      },
      {
       "output_type": "stream",
       "stream": "stdout",
       "text": [
        "130919-05:45:39,694 interface INFO:\n",
        "\t stdout 2013-09-19T05:45:39.693153:  Current level = 1 of 3\n"
       ]
      },
      {
       "output_type": "stream",
       "stream": "stdout",
       "text": [
        "130919-05:45:39,695 interface INFO:\n",
        "\t stdout 2013-09-19T05:45:39.693153:    number of iterations = 300\n"
       ]
      },
      {
       "output_type": "stream",
       "stream": "stdout",
       "text": [
        "130919-05:45:39,695 interface INFO:\n",
        "\t stdout 2013-09-19T05:45:39.693153:    shrink factors = [3, 3, 3]\n"
       ]
      },
      {
       "output_type": "stream",
       "stream": "stdout",
       "text": [
        "130919-05:45:39,695 interface INFO:\n",
        "\t stdout 2013-09-19T05:45:39.693153:    smoothing sigmas = 2 vox\n"
       ]
      },
      {
       "output_type": "stream",
       "stream": "stdout",
       "text": [
        "130919-05:45:39,696 interface INFO:\n",
        "\t stdout 2013-09-19T05:45:39.696182:    required fixed parameters = [46, 46, 46, 33.75, 33.75, -33.75, 1.5, 1.5, 1.5, -1, 0, 0, 0, -1, 0, 0, 0, 1]\n"
       ]
      },
      {
       "output_type": "stream",
       "stream": "stdout",
       "text": [
        "130919-05:45:40,138 interface INFO:\n",
        "\t stdout 2013-09-19T05:45:40.138066:XXDIAGNOSTIC,Iteration,metricValue,convergenceValue,ITERATION_TIME_INDEX,SINCE_LAST\n"
       ]
      },
      {
       "output_type": "stream",
       "stream": "stdout",
       "text": [
        "130919-05:45:40,138 interface INFO:\n",
        "\t stdout 2013-09-19T05:45:40.138066: DIAGNOSTIC,     1, -1.171890637443e+00, 1.797693134862e+308, 4.4494e-01, 4.4488e-01, \n"
       ]
      },
      {
       "output_type": "stream",
       "stream": "stdout",
       "text": [
        "130919-05:45:40,452 interface INFO:\n",
        "\t stdout 2013-09-19T05:45:40.452018: DIAGNOSTIC,     2, -1.072034914792e+00, 1.797693134862e+308, 7.5884e-01, 3.1390e-01, \n"
       ]
      },
      {
       "output_type": "stream",
       "stream": "stdout",
       "text": [
        "130919-05:45:40,773 interface INFO:\n",
        "\t stdout 2013-09-19T05:45:40.773211: DIAGNOSTIC,     3, -1.110498586275e+00, 1.797693134862e+308, 1.0800e+00, 3.2117e-01, \n"
       ]
      },
      {
       "output_type": "stream",
       "stream": "stdout",
       "text": [
        "130919-05:45:41,81 interface INFO:\n",
        "\t stdout 2013-09-19T05:45:41.081646: DIAGNOSTIC,     4, -1.118358153234e+00, 1.797693134862e+308, 1.3884e+00, 3.0841e-01, \n"
       ]
      },
      {
       "output_type": "stream",
       "stream": "stdout",
       "text": [
        "130919-05:45:41,395 interface INFO:\n",
        "\t stdout 2013-09-19T05:45:41.395482: DIAGNOSTIC,     5, -1.086248198707e+00, 1.797693134862e+308, 1.7022e+00, 3.1382e-01, \n"
       ]
      },
      {
       "output_type": "stream",
       "stream": "stdout",
       "text": [
        "130919-05:45:41,712 interface INFO:\n",
        "\t stdout 2013-09-19T05:45:41.712503: DIAGNOSTIC,     6, -1.157785858144e+00, 1.797693134862e+308, 2.0192e+00, 3.1698e-01, \n"
       ]
      },
      {
       "output_type": "stream",
       "stream": "stdout",
       "text": [
        "130919-05:45:42,29 interface INFO:\n",
        "\t stdout 2013-09-19T05:45:42.028943: DIAGNOSTIC,     7, -1.090053030383e+00, 1.797693134862e+308, 2.3356e+00, 3.1640e-01, \n"
       ]
      },
      {
       "output_type": "stream",
       "stream": "stdout",
       "text": [
        "130919-05:45:42,346 interface INFO:\n",
        "\t stdout 2013-09-19T05:45:42.346255: DIAGNOSTIC,     8, -1.188874790713e+00, 1.797693134862e+308, 2.6529e+00, 3.1730e-01, \n"
       ]
      },
      {
       "output_type": "stream",
       "stream": "stdout",
       "text": [
        "130919-05:45:42,658 interface INFO:\n",
        "\t stdout 2013-09-19T05:45:42.658831: DIAGNOSTIC,     9, -1.089556405034e+00, 1.797693134862e+308, 2.9655e+00, 3.1254e-01, \n"
       ]
      },
      {
       "output_type": "stream",
       "stream": "stdout",
       "text": [
        "130919-05:45:42,981 interface INFO:\n",
        "\t stdout 2013-09-19T05:45:42.981625: DIAGNOSTIC,    10, -1.174096190908e+00, 1.797693134862e+308, 3.2882e+00, 3.2277e-01, \n"
       ]
      },
      {
       "output_type": "stream",
       "stream": "stdout",
       "text": [
        "130919-05:45:43,296 interface INFO:\n",
        "\t stdout 2013-09-19T05:45:43.296031: DIAGNOSTIC,    11, -1.086584048872e+00, 1.797693134862e+308, 3.6026e+00, 3.1439e-01, \n"
       ]
      },
      {
       "output_type": "stream",
       "stream": "stdout",
       "text": [
        "130919-05:45:43,608 interface INFO:\n",
        "\t stdout 2013-09-19T05:45:43.608031: DIAGNOSTIC,    12, -1.191068952871e+00, 1.797693134862e+308, 3.9146e+00, 3.1196e-01, \n"
       ]
      },
      {
       "output_type": "stream",
       "stream": "stdout",
       "text": [
        "130919-05:45:43,937 interface INFO:\n",
        "\t stdout 2013-09-19T05:45:43.937730: DIAGNOSTIC,    13, -1.098440224667e+00, 1.797693134862e+308, 4.2442e+00, 3.2967e-01, \n"
       ]
      },
      {
       "output_type": "stream",
       "stream": "stdout",
       "text": [
        "130919-05:45:44,257 interface INFO:\n",
        "\t stdout 2013-09-19T05:45:44.257016: DIAGNOSTIC,    14, -1.175390148826e+00, 1.797693134862e+308, 4.5635e+00, 3.1926e-01, \n"
       ]
      },
      {
       "output_type": "stream",
       "stream": "stdout",
       "text": [
        "130919-05:45:44,576 interface INFO:\n",
        "\t stdout 2013-09-19T05:45:44.576732: DIAGNOSTIC,    15, -1.090699302836e+00, 1.797693134862e+308, 4.8832e+00, 3.1968e-01, \n"
       ]
      },
      {
       "output_type": "stream",
       "stream": "stdout",
       "text": [
        "130919-05:45:44,903 interface INFO:\n",
        "\t stdout 2013-09-19T05:45:44.903512: DIAGNOSTIC,    16, -1.188222133602e+00, 1.797693134862e+308, 5.2100e+00, 3.2676e-01, \n"
       ]
      },
      {
       "output_type": "stream",
       "stream": "stdout",
       "text": [
        "130919-05:45:45,230 interface INFO:\n",
        "\t stdout 2013-09-19T05:45:45.230720: DIAGNOSTIC,    17, -1.091306125990e+00, 1.797693134862e+308, 5.5371e+00, 3.2719e-01, \n"
       ]
      },
      {
       "output_type": "stream",
       "stream": "stdout",
       "text": [
        "130919-05:45:45,540 interface INFO:\n",
        "\t stdout 2013-09-19T05:45:45.540354: DIAGNOSTIC,    18, -1.181855418905e+00, 1.797693134862e+308, 5.8467e+00, 3.0959e-01, \n"
       ]
      },
      {
       "output_type": "stream",
       "stream": "stdout",
       "text": [
        "130919-05:45:45,864 interface INFO:\n",
        "\t stdout 2013-09-19T05:45:45.864922: DIAGNOSTIC,    19, -1.094956715178e+00, 1.797693134862e+308, 6.1713e+00, 3.2453e-01, \n"
       ]
      },
      {
       "output_type": "stream",
       "stream": "stdout",
       "text": [
        "130919-05:45:46,195 interface INFO:\n",
        "\t stdout 2013-09-19T05:45:46.195650: DIAGNOSTIC,    20, -1.184879890948e+00, 1.797693134862e+308, 6.5020e+00, 3.3071e-01, \n"
       ]
      },
      {
       "output_type": "stream",
       "stream": "stdout",
       "text": [
        "130919-05:45:46,514 interface INFO:\n",
        "\t stdout 2013-09-19T05:45:46.514000: DIAGNOSTIC,    21, -1.073548036674e+00, 1.797693134862e+308, 6.8203e+00, 3.1833e-01, \n"
       ]
      },
      {
       "output_type": "stream",
       "stream": "stdout",
       "text": [
        "130919-05:45:46,814 interface INFO:\n",
        "\t stdout 2013-09-19T05:45:46.814127: DIAGNOSTIC,    22, -1.228542503420e+00, 1.797693134862e+308, 7.1204e+00, 3.0009e-01, \n"
       ]
      },
      {
       "output_type": "stream",
       "stream": "stdout",
       "text": [
        "130919-05:45:47,119 interface INFO:\n",
        "\t stdout 2013-09-19T05:45:47.119156: DIAGNOSTIC,    23, -1.109827165226e+00, 1.797693134862e+308, 7.4254e+00, 3.0501e-01, \n"
       ]
      },
      {
       "output_type": "stream",
       "stream": "stdout",
       "text": [
        "130919-05:45:47,436 interface INFO:\n",
        "\t stdout 2013-09-19T05:45:47.436365: DIAGNOSTIC,    24, -1.172636067128e+00, 1.797693134862e+308, 7.7426e+00, 3.1718e-01, \n"
       ]
      },
      {
       "output_type": "stream",
       "stream": "stdout",
       "text": [
        "130919-05:45:47,756 interface INFO:\n",
        "\t stdout 2013-09-19T05:45:47.756041: DIAGNOSTIC,    25, -1.111203388881e+00, 1.797693134862e+308, 8.0622e+00, 3.1964e-01, \n"
       ]
      },
      {
       "output_type": "stream",
       "stream": "stdout",
       "text": [
        "130919-05:45:48,76 interface INFO:\n",
        "\t stdout 2013-09-19T05:45:48.076321: DIAGNOSTIC,    26, -1.179842634639e+00, 1.797693134862e+308, 8.3825e+00, 3.2026e-01, \n"
       ]
      },
      {
       "output_type": "stream",
       "stream": "stdout",
       "text": [
        "130919-05:45:48,380 interface INFO:\n",
        "\t stdout 2013-09-19T05:45:48.380473: DIAGNOSTIC,    27, -1.126942702259e+00, 1.797693134862e+308, 8.6866e+00, 3.0413e-01, \n"
       ]
      },
      {
       "output_type": "stream",
       "stream": "stdout",
       "text": [
        "130919-05:45:48,710 interface INFO:\n",
        "\t stdout 2013-09-19T05:45:48.710626: DIAGNOSTIC,    28, -1.142564516567e+00, 1.797693134862e+308, 9.0167e+00, 3.3010e-01, \n"
       ]
      },
      {
       "output_type": "stream",
       "stream": "stdout",
       "text": [
        "130919-05:45:49,34 interface INFO:\n",
        "\t stdout 2013-09-19T05:45:49.034158: DIAGNOSTIC,    29, -1.148697032964e+00, 1.797693134862e+308, 9.3402e+00, 3.2352e-01, \n"
       ]
      },
      {
       "output_type": "stream",
       "stream": "stdout",
       "text": [
        "130919-05:45:49,349 interface INFO:\n",
        "\t stdout 2013-09-19T05:45:49.349705: DIAGNOSTIC,    30, -1.142328294822e+00, 1.797693134862e+308, 9.6558e+00, 3.1551e-01, \n"
       ]
      },
      {
       "output_type": "stream",
       "stream": "stdout",
       "text": [
        "130919-05:45:49,652 interface INFO:\n",
        "\t stdout 2013-09-19T05:45:49.652296: DIAGNOSTIC,    31, -1.160931333600e+00, 1.797693134862e+308, 9.9583e+00, 3.0255e-01, \n"
       ]
      },
      {
       "output_type": "stream",
       "stream": "stdout",
       "text": [
        "130919-05:45:49,952 interface INFO:\n",
        "\t stdout 2013-09-19T05:45:49.952516: DIAGNOSTIC,    32, -1.171139707319e+00, 1.797693134862e+308, 1.0258e+01, 3.0017e-01, \n"
       ]
      },
      {
       "output_type": "stream",
       "stream": "stdout",
       "text": [
        "130919-05:45:50,247 interface INFO:\n",
        "\t stdout 2013-09-19T05:45:50.247262: DIAGNOSTIC,    33, -1.137333061191e+00, 1.797693134862e+308, 1.0553e+01, 2.9475e-01, \n"
       ]
      },
      {
       "output_type": "stream",
       "stream": "stdout",
       "text": [
        "130919-05:45:50,572 interface INFO:\n",
        "\t stdout 2013-09-19T05:45:50.572404: DIAGNOSTIC,    34, -1.171646395064e+00, 1.797693134862e+308, 1.0878e+01, 3.2512e-01, \n"
       ]
      },
      {
       "output_type": "stream",
       "stream": "stdout",
       "text": [
        "130919-05:45:50,880 interface INFO:\n",
        "\t stdout 2013-09-19T05:45:50.880320: DIAGNOSTIC,    35, -1.105531972091e+00, 1.797693134862e+308, 1.1186e+01, 3.0786e-01, \n"
       ]
      },
      {
       "output_type": "stream",
       "stream": "stdout",
       "text": [
        "130919-05:45:51,172 interface INFO:\n",
        "\t stdout 2013-09-19T05:45:51.172171: DIAGNOSTIC,    36, -1.189886383991e+00, 1.797693134862e+308, 1.1478e+01, 2.9182e-01, \n"
       ]
      },
      {
       "output_type": "stream",
       "stream": "stdout",
       "text": [
        "130919-05:45:51,487 interface INFO:\n",
        "\t stdout 2013-09-19T05:45:51.487358: DIAGNOSTIC,    37, -1.102824072946e+00, 1.797693134862e+308, 1.1793e+01, 3.1517e-01, \n"
       ]
      },
      {
       "output_type": "stream",
       "stream": "stdout",
       "text": [
        "130919-05:45:51,777 interface INFO:\n",
        "\t stdout 2013-09-19T05:45:51.777572: DIAGNOSTIC,    38, -1.202459200074e+00, 1.797693134862e+308, 1.2083e+01, 2.9017e-01, \n"
       ]
      },
      {
       "output_type": "stream",
       "stream": "stdout",
       "text": [
        "130919-05:45:52,86 interface INFO:\n",
        "\t stdout 2013-09-19T05:45:52.086477: DIAGNOSTIC,    39, -1.095453117906e+00, 1.797693134862e+308, 1.2392e+01, 3.0888e-01, \n"
       ]
      },
      {
       "output_type": "stream",
       "stream": "stdout",
       "text": [
        "130919-05:45:52,387 interface INFO:\n",
        "\t stdout 2013-09-19T05:45:52.387930: DIAGNOSTIC,    40, -1.205498986852e+00, 4.771181836018e-04, 1.2694e+01, 3.0142e-01, \n"
       ]
      },
      {
       "output_type": "stream",
       "stream": "stdout",
       "text": [
        "130919-05:45:52,715 interface INFO:\n",
        "\t stdout 2013-09-19T05:45:52.715027: DIAGNOSTIC,    41, -1.104506812154e+00, 4.564088795532e-04, 1.3021e+01, 3.2708e-01, \n"
       ]
      },
      {
       "output_type": "stream",
       "stream": "stdout",
       "text": [
        "130919-05:45:53,22 interface INFO:\n",
        "\t stdout 2013-09-19T05:45:53.022765: DIAGNOSTIC,    42, -1.207650561281e+00, 4.382165391911e-04, 1.3328e+01, 3.0770e-01, \n"
       ]
      },
      {
       "output_type": "stream",
       "stream": "stdout",
       "text": [
        "130919-05:45:53,344 interface INFO:\n",
        "\t stdout 2013-09-19T05:45:53.344784: DIAGNOSTIC,    43, -1.108143780451e+00, 3.247070119017e-04, 1.3650e+01, 3.2199e-01, \n"
       ]
      },
      {
       "output_type": "stream",
       "stream": "stdout",
       "text": [
        "130919-05:45:53,673 interface INFO:\n",
        "\t stdout 2013-09-19T05:45:53.673115: DIAGNOSTIC,    44, -1.171394815462e+00, 3.201490581906e-04, 1.3979e+01, 3.2831e-01, \n"
       ]
      },
      {
       "output_type": "stream",
       "stream": "stdout",
       "text": [
        "130919-05:45:54,4 interface INFO:\n",
        "\t stdout 2013-09-19T05:45:54.004599: DIAGNOSTIC,    45, -1.095161393154e+00, 1.558559145569e-04, 1.4310e+01, 3.3145e-01, \n"
       ]
      },
      {
       "output_type": "stream",
       "stream": "stdout",
       "text": [
        "130919-05:45:54,325 interface INFO:\n",
        "\t stdout 2013-09-19T05:45:54.325842: DIAGNOSTIC,    46, -1.188474935850e+00, 2.324469890820e-04, 1.4631e+01, 3.2121e-01, \n"
       ]
      },
      {
       "output_type": "stream",
       "stream": "stdout",
       "text": [
        "130919-05:45:54,636 interface INFO:\n",
        "\t stdout 2013-09-19T05:45:54.636758: DIAGNOSTIC,    47, -1.070827809908e+00, 4.588974124172e-05, 1.4942e+01, 3.1089e-01, \n"
       ]
      },
      {
       "output_type": "stream",
       "stream": "stdout",
       "text": [
        "130919-05:45:54,968 interface INFO:\n",
        "\t stdout 2013-09-19T05:45:54.968360: DIAGNOSTIC,    48, -1.191091367262e+00, 1.667130072095e-04, 1.5274e+01, 3.3157e-01, \n"
       ]
      },
      {
       "output_type": "stream",
       "stream": "stdout",
       "text": [
        "130919-05:45:55,282 interface INFO:\n",
        "\t stdout 2013-09-19T05:45:55.282019: DIAGNOSTIC,    49, -1.069006863288e+00, -1.458653193478e-05, 1.5588e+01, 3.1365e-01, \n"
       ]
      },
      {
       "output_type": "stream",
       "stream": "stdout",
       "text": [
        "130919-05:45:55,282 interface INFO:\n",
        "\t stdout 2013-09-19T05:45:55.282591:  Current level = 2 of 3\n"
       ]
      },
      {
       "output_type": "stream",
       "stream": "stdout",
       "text": [
        "130919-05:45:55,282 interface INFO:\n",
        "\t stdout 2013-09-19T05:45:55.282591:    number of iterations = 200\n"
       ]
      },
      {
       "output_type": "stream",
       "stream": "stdout",
       "text": [
        "130919-05:45:55,283 interface INFO:\n",
        "\t stdout 2013-09-19T05:45:55.282591:    shrink factors = [2, 2, 2]\n"
       ]
      },
      {
       "output_type": "stream",
       "stream": "stdout",
       "text": [
        "130919-05:45:55,283 interface INFO:\n",
        "\t stdout 2013-09-19T05:45:55.282591:    smoothing sigmas = 1.0000e+00 vox\n"
       ]
      },
      {
       "output_type": "stream",
       "stream": "stdout",
       "text": [
        "130919-05:45:55,283 interface INFO:\n",
        "\t stdout 2013-09-19T05:45:55.282591:    required fixed parameters = [70, 70, 70, 34.5, 34.5, -34.5, 1, 1, 1, -1, 0, 0, 0, -1, 0, 0, 0, 1]\n"
       ]
      },
      {
       "output_type": "stream",
       "stream": "stdout",
       "text": [
        "130919-05:45:56,305 interface INFO:\n",
        "\t stdout 2013-09-19T05:45:56.305328:XXDIAGNOSTIC,Iteration,metricValue,convergenceValue,ITERATION_TIME_INDEX,SINCE_LAST\n"
       ]
      },
      {
       "output_type": "stream",
       "stream": "stdout",
       "text": [
        "130919-05:45:56,305 interface INFO:\n",
        "\t stdout 2013-09-19T05:45:56.305328: DIAGNOSTIC,     1, -9.957926676611e-01, 1.797693134862e+308, 1.6611e+01, 1.0233e+00, \n"
       ]
      },
      {
       "output_type": "stream",
       "stream": "stdout",
       "text": [
        "130919-05:45:57,212 interface INFO:\n",
        "\t stdout 2013-09-19T05:45:57.212843: DIAGNOSTIC,     2, -9.674224902088e-01, 1.797693134862e+308, 1.7518e+01, 9.0744e-01, \n"
       ]
      },
      {
       "output_type": "stream",
       "stream": "stdout",
       "text": [
        "130919-05:45:58,90 interface INFO:\n",
        "\t stdout 2013-09-19T05:45:58.090783: DIAGNOSTIC,     3, -9.875127645866e-01, 1.797693134862e+308, 1.8396e+01, 8.7792e-01, \n"
       ]
      },
      {
       "output_type": "stream",
       "stream": "stdout",
       "text": [
        "130919-05:45:58,978 interface INFO:\n",
        "\t stdout 2013-09-19T05:45:58.978408: DIAGNOSTIC,     4, -9.707515320712e-01, 1.797693134862e+308, 1.9284e+01, 8.8759e-01, \n"
       ]
      },
      {
       "output_type": "stream",
       "stream": "stdout",
       "text": [
        "130919-05:45:59,863 interface INFO:\n",
        "\t stdout 2013-09-19T05:45:59.863266: DIAGNOSTIC,     5, -9.933647316140e-01, 1.797693134862e+308, 2.0169e+01, 8.8482e-01, \n"
       ]
      },
      {
       "output_type": "stream",
       "stream": "stdout",
       "text": [
        "130919-05:46:00,748 interface INFO:\n",
        "\t stdout 2013-09-19T05:46:00.748572: DIAGNOSTIC,     6, -9.701883794730e-01, 1.797693134862e+308, 2.1054e+01, 8.8526e-01, \n"
       ]
      },
      {
       "output_type": "stream",
       "stream": "stdout",
       "text": [
        "130919-05:46:01,626 interface INFO:\n",
        "\t stdout 2013-09-19T05:46:01.626215: DIAGNOSTIC,     7, -9.986269522880e-01, 1.797693134862e+308, 2.1931e+01, 8.7760e-01, \n"
       ]
      },
      {
       "output_type": "stream",
       "stream": "stdout",
       "text": [
        "130919-05:46:02,519 interface INFO:\n",
        "\t stdout 2013-09-19T05:46:02.519445: DIAGNOSTIC,     8, -9.726816384120e-01, 1.797693134862e+308, 2.2825e+01, 8.9321e-01, \n"
       ]
      },
      {
       "output_type": "stream",
       "stream": "stdout",
       "text": [
        "130919-05:46:03,378 interface INFO:\n",
        "\t stdout 2013-09-19T05:46:03.378246: DIAGNOSTIC,     9, -9.817349954971e-01, 1.797693134862e+308, 2.3683e+01, 8.5880e-01, \n"
       ]
      },
      {
       "output_type": "stream",
       "stream": "stdout",
       "text": [
        "130919-05:46:04,219 interface INFO:\n",
        "\t stdout 2013-09-19T05:46:04.219873: DIAGNOSTIC,    10, -9.782791873039e-01, 1.797693134862e+308, 2.4525e+01, 8.4157e-01, \n"
       ]
      },
      {
       "output_type": "stream",
       "stream": "stdout",
       "text": [
        "130919-05:46:05,55 interface INFO:\n",
        "\t stdout 2013-09-19T05:46:05.055900: DIAGNOSTIC,    11, -9.845349124375e-01, 1.797693134862e+308, 2.5361e+01, 8.3600e-01, \n"
       ]
      },
      {
       "output_type": "stream",
       "stream": "stdout",
       "text": [
        "130919-05:46:05,951 interface INFO:\n",
        "\t stdout 2013-09-19T05:46:05.951449: DIAGNOSTIC,    12, -9.802989406855e-01, 1.797693134862e+308, 2.6257e+01, 8.9552e-01, \n"
       ]
      },
      {
       "output_type": "stream",
       "stream": "stdout",
       "text": [
        "130919-05:46:06,871 interface INFO:\n",
        "\t stdout 2013-09-19T05:46:06.871444: DIAGNOSTIC,    13, -9.814099645139e-01, 1.797693134862e+308, 2.7177e+01, 9.1998e-01, \n"
       ]
      },
      {
       "output_type": "stream",
       "stream": "stdout",
       "text": [
        "130919-05:46:07,749 interface INFO:\n",
        "\t stdout 2013-09-19T05:46:07.749892: DIAGNOSTIC,    14, -9.721171032811e-01, 1.797693134862e+308, 2.8055e+01, 8.7840e-01, \n"
       ]
      },
      {
       "output_type": "stream",
       "stream": "stdout",
       "text": [
        "130919-05:46:08,620 interface INFO:\n",
        "\t stdout 2013-09-19T05:46:08.620108: DIAGNOSTIC,    15, -9.854642712947e-01, 1.797693134862e+308, 2.8925e+01, 8.7018e-01, \n"
       ]
      },
      {
       "output_type": "stream",
       "stream": "stdout",
       "text": [
        "130919-05:46:09,517 interface INFO:\n",
        "\t stdout 2013-09-19T05:46:09.517617: DIAGNOSTIC,    16, -9.840295268342e-01, 1.797693134862e+308, 2.9823e+01, 8.9747e-01, \n"
       ]
      },
      {
       "output_type": "stream",
       "stream": "stdout",
       "text": [
        "130919-05:46:10,448 interface INFO:\n",
        "\t stdout 2013-09-19T05:46:10.448653: DIAGNOSTIC,    17, -9.803472620799e-01, 1.797693134862e+308, 3.0754e+01, 9.3103e-01, \n"
       ]
      },
      {
       "output_type": "stream",
       "stream": "stdout",
       "text": [
        "130919-05:46:11,342 interface INFO:\n",
        "\t stdout 2013-09-19T05:46:11.342923: DIAGNOSTIC,    18, -9.795153495113e-01, 1.797693134862e+308, 3.1648e+01, 8.9423e-01, \n"
       ]
      },
      {
       "output_type": "stream",
       "stream": "stdout",
       "text": [
        "130919-05:46:12,288 interface INFO:\n",
        "\t stdout 2013-09-19T05:46:12.288272: DIAGNOSTIC,    19, -9.775022451025e-01, 1.797693134862e+308, 3.2593e+01, 9.4532e-01, \n"
       ]
      },
      {
       "output_type": "stream",
       "stream": "stdout",
       "text": [
        "130919-05:46:13,151 interface INFO:\n",
        "\t stdout 2013-09-19T05:46:13.151281: DIAGNOSTIC,    20, -9.744294309030e-01, 1.797693134862e+308, 3.3456e+01, 8.6297e-01, \n"
       ]
      },
      {
       "output_type": "stream",
       "stream": "stdout",
       "text": [
        "130919-05:46:14,59 interface INFO:\n",
        "\t stdout 2013-09-19T05:46:14.059302: DIAGNOSTIC,    21, -9.847821887368e-01, 1.797693134862e+308, 3.4364e+01, 9.0801e-01, \n"
       ]
      },
      {
       "output_type": "stream",
       "stream": "stdout",
       "text": [
        "130919-05:46:14,966 interface INFO:\n",
        "\t stdout 2013-09-19T05:46:14.966666: DIAGNOSTIC,    22, -9.709240166386e-01, 1.797693134862e+308, 3.5271e+01, 9.0734e-01, \n"
       ]
      },
      {
       "output_type": "stream",
       "stream": "stdout",
       "text": [
        "130919-05:46:15,839 interface INFO:\n",
        "\t stdout 2013-09-19T05:46:15.839834: DIAGNOSTIC,    23, -9.810697230682e-01, 1.797693134862e+308, 3.6145e+01, 8.7313e-01, \n"
       ]
      },
      {
       "output_type": "stream",
       "stream": "stdout",
       "text": [
        "130919-05:46:16,704 interface INFO:\n",
        "\t stdout 2013-09-19T05:46:16.704898: DIAGNOSTIC,    24, -9.739223384901e-01, 1.797693134862e+308, 3.7010e+01, 8.6504e-01, \n"
       ]
      },
      {
       "output_type": "stream",
       "stream": "stdout",
       "text": [
        "130919-05:46:17,591 interface INFO:\n",
        "\t stdout 2013-09-19T05:46:17.591070: DIAGNOSTIC,    25, -9.849153647830e-01, 1.797693134862e+308, 3.7896e+01, 8.8614e-01, \n"
       ]
      },
      {
       "output_type": "stream",
       "stream": "stdout",
       "text": [
        "130919-05:46:18,523 interface INFO:\n",
        "\t stdout 2013-09-19T05:46:18.522940: DIAGNOSTIC,    26, -9.720827447606e-01, 1.797693134862e+308, 3.8828e+01, 9.3181e-01, \n"
       ]
      },
      {
       "output_type": "stream",
       "stream": "stdout",
       "text": [
        "130919-05:46:19,397 interface INFO:\n",
        "\t stdout 2013-09-19T05:46:19.396948: DIAGNOSTIC,    27, -9.750766165389e-01, 1.797693134862e+308, 3.9702e+01, 8.7398e-01, \n"
       ]
      },
      {
       "output_type": "stream",
       "stream": "stdout",
       "text": [
        "130919-05:46:20,264 interface INFO:\n",
        "\t stdout 2013-09-19T05:46:20.264368: DIAGNOSTIC,    28, -9.788332717558e-01, 1.797693134862e+308, 4.0569e+01, 8.6740e-01, \n"
       ]
      },
      {
       "output_type": "stream",
       "stream": "stdout",
       "text": [
        "130919-05:46:21,163 interface INFO:\n",
        "\t stdout 2013-09-19T05:46:21.163885: DIAGNOSTIC,    29, -9.780297829708e-01, 1.797693134862e+308, 4.1468e+01, 8.9951e-01, \n"
       ]
      },
      {
       "output_type": "stream",
       "stream": "stdout",
       "text": [
        "130919-05:46:22,30 interface INFO:\n",
        "\t stdout 2013-09-19T05:46:22.030779: DIAGNOSTIC,    30, -9.798971338535e-01, 1.797693134862e+308, 4.2335e+01, 8.6685e-01, \n"
       ]
      },
      {
       "output_type": "stream",
       "stream": "stdout",
       "text": [
        "130919-05:46:22,913 interface INFO:\n",
        "\t stdout 2013-09-19T05:46:22.912972: DIAGNOSTIC,    31, -9.899783110158e-01, 1.797693134862e+308, 4.3217e+01, 8.8216e-01, \n"
       ]
      },
      {
       "output_type": "stream",
       "stream": "stdout",
       "text": [
        "130919-05:46:23,785 interface INFO:\n",
        "\t stdout 2013-09-19T05:46:23.785081: DIAGNOSTIC,    32, -9.638331596748e-01, 1.797693134862e+308, 4.4090e+01, 8.7208e-01, \n"
       ]
      },
      {
       "output_type": "stream",
       "stream": "stdout",
       "text": [
        "130919-05:46:24,672 interface INFO:\n",
        "\t stdout 2013-09-19T05:46:24.672120: DIAGNOSTIC,    33, -9.898686969725e-01, 1.797693134862e+308, 4.4977e+01, 8.8701e-01, \n"
       ]
      },
      {
       "output_type": "stream",
       "stream": "stdout",
       "text": [
        "130919-05:46:25,594 interface INFO:\n",
        "\t stdout 2013-09-19T05:46:25.594229: DIAGNOSTIC,    34, -9.614175054395e-01, 1.797693134862e+308, 4.5899e+01, 9.2208e-01, \n"
       ]
      },
      {
       "output_type": "stream",
       "stream": "stdout",
       "text": [
        "130919-05:46:26,511 interface INFO:\n",
        "\t stdout 2013-09-19T05:46:26.511488: DIAGNOSTIC,    35, -9.968372874936e-01, 1.797693134862e+308, 4.6816e+01, 9.1722e-01, \n"
       ]
      },
      {
       "output_type": "stream",
       "stream": "stdout",
       "text": [
        "130919-05:46:27,410 interface INFO:\n",
        "\t stdout 2013-09-19T05:46:27.409958: DIAGNOSTIC,    36, -9.553068454949e-01, 1.797693134862e+308, 4.7714e+01, 8.9845e-01, \n"
       ]
      },
      {
       "output_type": "stream",
       "stream": "stdout",
       "text": [
        "130919-05:46:28,340 interface INFO:\n",
        "\t stdout 2013-09-19T05:46:28.340316: DIAGNOSTIC,    37, -9.988931094179e-01, 1.797693134862e+308, 4.8645e+01, 9.3032e-01, \n"
       ]
      },
      {
       "output_type": "stream",
       "stream": "stdout",
       "text": [
        "130919-05:46:29,255 interface INFO:\n",
        "\t stdout 2013-09-19T05:46:29.255568: DIAGNOSTIC,    38, -9.589353354519e-01, 1.797693134862e+308, 4.9560e+01, 9.1522e-01, \n"
       ]
      },
      {
       "output_type": "stream",
       "stream": "stdout",
       "text": [
        "130919-05:46:30,126 interface INFO:\n",
        "\t stdout 2013-09-19T05:46:30.126888: DIAGNOSTIC,    39, -9.944178234004e-01, 1.797693134862e+308, 5.0431e+01, 8.7130e-01, \n"
       ]
      },
      {
       "output_type": "stream",
       "stream": "stdout",
       "text": [
        "130919-05:46:31,8 interface INFO:\n",
        "\t stdout 2013-09-19T05:46:31.008785: DIAGNOSTIC,    40, -9.614515209943e-01, -1.010383984683e-04, 5.1313e+01, 8.8187e-01, \n"
       ]
      },
      {
       "output_type": "stream",
       "stream": "stdout",
       "text": [
        "130919-05:46:31,12 interface INFO:\n",
        "\t stdout 2013-09-19T05:46:31.012063:  Current level = 3 of 3\n"
       ]
      },
      {
       "output_type": "stream",
       "stream": "stdout",
       "text": [
        "130919-05:46:31,12 interface INFO:\n",
        "\t stdout 2013-09-19T05:46:31.012063:    number of iterations = 20\n"
       ]
      },
      {
       "output_type": "stream",
       "stream": "stdout",
       "text": [
        "130919-05:46:31,12 interface INFO:\n",
        "\t stdout 2013-09-19T05:46:31.012063:    shrink factors = [1, 1, 1]\n"
       ]
      },
      {
       "output_type": "stream",
       "stream": "stdout",
       "text": [
        "130919-05:46:31,13 interface INFO:\n",
        "\t stdout 2013-09-19T05:46:31.012063:    smoothing sigmas = 0.0000e+00 vox\n"
       ]
      },
      {
       "output_type": "stream",
       "stream": "stdout",
       "text": [
        "130919-05:46:31,13 interface INFO:\n",
        "\t stdout 2013-09-19T05:46:31.012063:    required fixed parameters = [140, 140, 140, 34.75, 34.75, -34.75, 0.5, 0.5, 0.5, -1, 0, 0, 0, -1, 0, 0, 0, 1]\n"
       ]
      },
      {
       "output_type": "stream",
       "stream": "stdout",
       "text": [
        "130919-05:46:37,60 interface INFO:\n",
        "\t stdout 2013-09-19T05:46:37.060127:XXDIAGNOSTIC,Iteration,metricValue,convergenceValue,ITERATION_TIME_INDEX,SINCE_LAST\n"
       ]
      },
      {
       "output_type": "stream",
       "stream": "stdout",
       "text": [
        "130919-05:46:37,60 interface INFO:\n",
        "\t stdout 2013-09-19T05:46:37.060127: DIAGNOSTIC,     1, -7.415199876958e-01, 1.797693134862e+308, 5.7364e+01, 6.0480e+00, \n"
       ]
      },
      {
       "output_type": "stream",
       "stream": "stdout",
       "text": [
        "130919-05:46:42,625 interface INFO:\n",
        "\t stdout 2013-09-19T05:46:42.625296: DIAGNOSTIC,     2, -7.425894088645e-01, 1.797693134862e+308, 6.2929e+01, 5.5652e+00, \n"
       ]
      },
      {
       "output_type": "stream",
       "stream": "stdout",
       "text": [
        "130919-05:46:47,975 interface INFO:\n",
        "\t stdout 2013-09-19T05:46:47.975063: DIAGNOSTIC,     3, -7.439559864250e-01, 1.797693134862e+308, 6.8279e+01, 5.3497e+00, \n"
       ]
      },
      {
       "output_type": "stream",
       "stream": "stdout",
       "text": [
        "130919-05:46:53,141 interface INFO:\n",
        "\t stdout 2013-09-19T05:46:53.141748: DIAGNOSTIC,     4, -7.462745290997e-01, 1.797693134862e+308, 7.3446e+01, 5.1667e+00, \n"
       ]
      },
      {
       "output_type": "stream",
       "stream": "stdout",
       "text": [
        "130919-05:46:58,500 interface INFO:\n",
        "\t stdout 2013-09-19T05:46:58.500100: DIAGNOSTIC,     5, -7.490625861539e-01, 1.797693134862e+308, 7.8804e+01, 5.3583e+00, \n"
       ]
      },
      {
       "output_type": "stream",
       "stream": "stdout",
       "text": [
        "130919-05:47:03,856 interface INFO:\n",
        "\t stdout 2013-09-19T05:47:03.856579: DIAGNOSTIC,     6, -7.525154519715e-01, 1.797693134862e+308, 8.4161e+01, 5.3565e+00, \n"
       ]
      },
      {
       "output_type": "stream",
       "stream": "stdout",
       "text": [
        "130919-05:47:09,331 interface INFO:\n",
        "\t stdout 2013-09-19T05:47:09.331901: DIAGNOSTIC,     7, -7.562167375969e-01, 1.797693134862e+308, 8.9636e+01, 5.4753e+00, \n"
       ]
      },
      {
       "output_type": "stream",
       "stream": "stdout",
       "text": [
        "130919-05:47:14,863 interface INFO:\n",
        "\t stdout 2013-09-19T05:47:14.863622: DIAGNOSTIC,     8, -7.595254496455e-01, 1.797693134862e+308, 9.5168e+01, 5.5316e+00, \n"
       ]
      },
      {
       "output_type": "stream",
       "stream": "stdout",
       "text": [
        "130919-05:47:20,226 interface INFO:\n",
        "\t stdout 2013-09-19T05:47:20.226022: DIAGNOSTIC,     9, -7.621548809410e-01, 1.797693134862e+308, 1.0053e+02, 5.3624e+00, \n"
       ]
      },
      {
       "output_type": "stream",
       "stream": "stdout",
       "text": [
        "130919-05:47:25,682 interface INFO:\n",
        "\t stdout 2013-09-19T05:47:25.682193: DIAGNOSTIC,    10, -7.638460513441e-01, 1.797693134862e+308, 1.0599e+02, 5.4562e+00, \n"
       ]
      },
      {
       "output_type": "stream",
       "stream": "stdout",
       "text": [
        "130919-05:47:31,221 interface INFO:\n",
        "\t stdout 2013-09-19T05:47:31.221585: DIAGNOSTIC,    11, -7.654561847114e-01, 1.797693134862e+308, 1.1153e+02, 5.5393e+00, \n"
       ]
      },
      {
       "output_type": "stream",
       "stream": "stdout",
       "text": [
        "130919-05:47:36,636 interface INFO:\n",
        "\t stdout 2013-09-19T05:47:36.636671: DIAGNOSTIC,    12, -7.697983666883e-01, 1.797693134862e+308, 1.1694e+02, 5.4150e+00, \n"
       ]
      },
      {
       "output_type": "stream",
       "stream": "stdout",
       "text": [
        "130919-05:47:42,70 interface INFO:\n",
        "\t stdout 2013-09-19T05:47:42.069954: DIAGNOSTIC,    13, -7.735597296561e-01, 1.797693134862e+308, 1.2237e+02, 5.4333e+00, \n"
       ]
      },
      {
       "output_type": "stream",
       "stream": "stdout",
       "text": [
        "130919-05:47:47,376 interface INFO:\n",
        "\t stdout 2013-09-19T05:47:47.376394: DIAGNOSTIC,    14, -7.772488374183e-01, 1.797693134862e+308, 1.2768e+02, 5.3064e+00, \n"
       ]
      },
      {
       "output_type": "stream",
       "stream": "stdout",
       "text": [
        "130919-05:47:53,13 interface INFO:\n",
        "\t stdout 2013-09-19T05:47:53.013631: DIAGNOSTIC,    15, -7.818443392856e-01, 1.797693134862e+308, 1.3332e+02, 5.6372e+00, \n"
       ]
      },
      {
       "output_type": "stream",
       "stream": "stdout",
       "text": [
        "130919-05:47:58,453 interface INFO:\n",
        "\t stdout 2013-09-19T05:47:58.453773: DIAGNOSTIC,    16, -7.855504806690e-01, 1.797693134862e+308, 1.3876e+02, 5.4401e+00, \n"
       ]
      },
      {
       "output_type": "stream",
       "stream": "stdout",
       "text": [
        "130919-05:48:03,774 interface INFO:\n",
        "\t stdout 2013-09-19T05:48:03.774608: DIAGNOSTIC,    17, -7.889354405231e-01, 1.797693134862e+308, 1.4408e+02, 5.3207e+00, \n"
       ]
      },
      {
       "output_type": "stream",
       "stream": "stdout",
       "text": [
        "130919-05:48:09,312 interface INFO:\n",
        "\t stdout 2013-09-19T05:48:09.312718: DIAGNOSTIC,    18, -7.913294824720e-01, 1.797693134862e+308, 1.4962e+02, 5.5381e+00, \n"
       ]
      },
      {
       "output_type": "stream",
       "stream": "stdout",
       "text": [
        "130919-05:48:14,886 interface INFO:\n",
        "\t stdout 2013-09-19T05:48:14.886487: DIAGNOSTIC,    19, -7.936249748656e-01, 1.797693134862e+308, 1.5519e+02, 5.5738e+00, \n"
       ]
      },
      {
       "output_type": "stream",
       "stream": "stdout",
       "text": [
        "130919-05:48:20,199 interface INFO:\n",
        "\t stdout 2013-09-19T05:48:20.199635: DIAGNOSTIC,    20, -7.958945612167e-01, 1.797693134862e+308, 1.6050e+02, 5.3131e+00, \n"
       ]
      },
      {
       "output_type": "stream",
       "stream": "stdout",
       "text": [
        "130919-05:48:20,471 interface INFO:\n",
        "\t stdout 2013-09-19T05:48:20.471047:  Elapsed time (stage 0): 1.6106e+02\n"
       ]
      },
      {
       "output_type": "stream",
       "stream": "stdout",
       "text": [
        "130919-05:48:20,471 interface INFO:\n",
        "\t stdout 2013-09-19T05:48:20.471047:\n"
       ]
      },
      {
       "output_type": "stream",
       "stream": "stdout",
       "text": [
        "130919-05:48:20,492 interface INFO:\n",
        "\t stdout 2013-09-19T05:48:20.492913:\n"
       ]
      },
      {
       "output_type": "stream",
       "stream": "stdout",
       "text": [
        "130919-05:48:20,493 interface INFO:\n",
        "\t stdout 2013-09-19T05:48:20.492913:Total elapsed time: 1.6108e+02\n"
       ]
      },
      {
       "output_type": "stream",
       "stream": "stdout",
       "text": [
        "130919-05:48:29,307 workflow INFO:\n",
        "\t Executing node Jacobian in dir: /home/oesteban/workspace/ACWE-Reg/temp/ISBI2014/T2_Registration/Jacobian\n"
       ]
      },
      {
       "output_type": "stream",
       "stream": "stdout",
       "text": [
        "130919-05:48:29,310 workflow INFO:\n",
        "\t Running: ANTSJacobian 3 /home/oesteban/workspace/ACWE-Reg/temp/ISBI2014/T2_Registration/B0-to-T2/transform0Warp.nii.gz transform0Warp_ 0\n"
       ]
      },
      {
       "output_type": "stream",
       "stream": "stdout",
       "text": [
        "130919-05:48:30,505 interface INFO:\n",
        "\t stdout 2013-09-19T05:48:30.505406: avg Mat 1.00037 2.14914e-06 -8.59688e-07 \n"
       ]
      },
      {
       "output_type": "stream",
       "stream": "stdout",
       "text": [
        "130919-05:48:30,506 interface INFO:\n",
        "\t stdout 2013-09-19T05:48:30.505406:-2.68905e-06 1.00046 5.76326e-05 \n"
       ]
      },
      {
       "output_type": "stream",
       "stream": "stdout",
       "text": [
        "130919-05:48:30,506 interface INFO:\n",
        "\t stdout 2013-09-19T05:48:30.505406:-5.96255e-06 0.000125825 1.00038 \n"
       ]
      },
      {
       "output_type": "stream",
       "stream": "stdout",
       "text": [
        "130919-05:48:30,506 interface INFO:\n",
        "\t stdout 2013-09-19T05:48:30.505406:\n"
       ]
      },
      {
       "output_type": "stream",
       "stream": "stdout",
       "text": [
        "130919-05:48:31,175 workflow INFO:\n",
        "\t Executing node ApplyTfm in dir: /home/oesteban/workspace/ACWE-Reg/temp/ISBI2014/T2_Registration/ApplyTfm\n"
       ]
      },
      {
       "output_type": "stream",
       "stream": "stdout",
       "text": [
        "130919-05:48:31,232 workflow INFO:\n",
        "\t Running: WarpTimeSeriesImageMultiTransform 4 /home/oesteban/workspace/ACWE-Reg/temp/ISBI2014/T2_Registration/ApplyTfm/dwi.nii.gz dwi_wtsimt.nii.gz -R /home/oesteban/workspace/ACWE-Reg/Data/DigitalPhantomISBI/t2_weighted.nii.gz /home/oesteban/workspace/ACWE-Reg/temp/ISBI2014/T2_Registration/ApplyTfm/transform0Warp.nii.gz\n"
       ]
      },
      {
       "output_type": "stream",
       "stream": "stdout",
       "text": [
        "130919-05:48:31,300 interface INFO:\n",
        "\t stdout 2013-09-19T05:48:31.300449:FIELD: /home/oesteban/workspace/ACWE-Reg/temp/ISBI2014/T2_Registration/ApplyTfm/transform0Warp.nii.gz\n"
       ]
      },
      {
       "output_type": "stream",
       "stream": "stdout",
       "text": [
        "130919-05:48:31,301 interface INFO:\n",
        "\t stdout 2013-09-19T05:48:31.300449:moving_image_filename: /home/oesteban/workspace/ACWE-Reg/temp/ISBI2014/T2_Registration/ApplyTfm/dwi.nii.gz\n"
       ]
      },
      {
       "output_type": "stream",
       "stream": "stdout",
       "text": [
        "130919-05:48:31,301 interface INFO:\n",
        "\t stdout 2013-09-19T05:48:31.300449:output_image_filename: dwi_wtsimt.nii.gz\n"
       ]
      },
      {
       "output_type": "stream",
       "stream": "stdout",
       "text": [
        "130919-05:48:31,301 interface INFO:\n",
        "\t stdout 2013-09-19T05:48:31.300449:reference_image_filename: /home/oesteban/workspace/ACWE-Reg/Data/DigitalPhantomISBI/t2_weighted.nii.gz\n"
       ]
      },
      {
       "output_type": "stream",
       "stream": "stdout",
       "text": [
        "130919-05:48:31,301 interface INFO:\n",
        "\t stdout 2013-09-19T05:48:31.300449:[0/1]: FIELD: /home/oesteban/workspace/ACWE-Reg/temp/ISBI2014/T2_Registration/ApplyTfm/transform0Warp.nii.gz\n"
       ]
      },
      {
       "output_type": "stream",
       "stream": "stdout",
       "text": [
        "130919-05:48:31,587 interface INFO:\n",
        "\t stdout 2013-09-19T05:48:31.587719: Four-D image size: [70, 70, 70, 33]\n"
       ]
      },
      {
       "output_type": "stream",
       "stream": "stdout",
       "text": [
        "130919-05:48:31,675 interface INFO:\n",
        "\t stdout 2013-09-19T05:48:31.675600: 4D-In-Spc [1, 1, 1, 1]\n"
       ]
      },
      {
       "output_type": "stream",
       "stream": "stdout",
       "text": [
        "130919-05:48:31,676 interface INFO:\n",
        "\t stdout 2013-09-19T05:48:31.675600: 4D-In-Org [34.5, 34.5, -34.5, 0]\n"
       ]
      },
      {
       "output_type": "stream",
       "stream": "stdout",
       "text": [
        "130919-05:48:31,676 interface INFO:\n",
        "\t stdout 2013-09-19T05:48:31.675600: 4D-In-Size [70, 70, 70, 33]\n"
       ]
      },
      {
       "output_type": "stream",
       "stream": "stdout",
       "text": [
        "130919-05:48:31,676 interface INFO:\n",
        "\t stdout 2013-09-19T05:48:31.675600: 4D-In-Dir -1 0 0 0\n"
       ]
      },
      {
       "output_type": "stream",
       "stream": "stdout",
       "text": [
        "130919-05:48:31,676 interface INFO:\n",
        "\t stdout 2013-09-19T05:48:31.675600:0 -1 0 0\n"
       ]
      },
      {
       "output_type": "stream",
       "stream": "stdout",
       "text": [
        "130919-05:48:31,677 interface INFO:\n",
        "\t stdout 2013-09-19T05:48:31.675600:0 0 1 0\n"
       ]
      },
      {
       "output_type": "stream",
       "stream": "stdout",
       "text": [
        "130919-05:48:31,677 interface INFO:\n",
        "\t stdout 2013-09-19T05:48:31.675600:0 0 0 1\n"
       ]
      },
      {
       "output_type": "stream",
       "stream": "stdout",
       "text": [
        "130919-05:48:31,677 interface INFO:\n",
        "\t stdout 2013-09-19T05:48:31.675600:\n"
       ]
      },
      {
       "output_type": "stream",
       "stream": "stdout",
       "text": [
        "130919-05:48:31,677 interface INFO:\n",
        "\t stdout 2013-09-19T05:48:31.675600: ...... \n"
       ]
      },
      {
       "output_type": "stream",
       "stream": "stdout",
       "text": [
        "130919-05:48:31,678 interface INFO:\n",
        "\t stdout 2013-09-19T05:48:31.675600: 4D-Out-Spc [0.5, 0.5, 0.5, 1]\n"
       ]
      },
      {
       "output_type": "stream",
       "stream": "stdout",
       "text": [
        "130919-05:48:31,678 interface INFO:\n",
        "\t stdout 2013-09-19T05:48:31.675600: 4D-Out-Org [34.75, 34.75, -34.75, 0]\n"
       ]
      },
      {
       "output_type": "stream",
       "stream": "stdout",
       "text": [
        "130919-05:48:31,678 interface INFO:\n",
        "\t stdout 2013-09-19T05:48:31.675600: 4D-Out-Size [140, 140, 140, 33]\n"
       ]
      },
      {
       "output_type": "stream",
       "stream": "stdout",
       "text": [
        "130919-05:48:31,678 interface INFO:\n",
        "\t stdout 2013-09-19T05:48:31.675600: 4D-Out-Dir -1 0 0 0\n"
       ]
      },
      {
       "output_type": "stream",
       "stream": "stdout",
       "text": [
        "130919-05:48:31,678 interface INFO:\n",
        "\t stdout 2013-09-19T05:48:31.675600:0 -1 0 0\n"
       ]
      },
      {
       "output_type": "stream",
       "stream": "stdout",
       "text": [
        "130919-05:48:31,679 interface INFO:\n",
        "\t stdout 2013-09-19T05:48:31.675600:0 0 1 0\n"
       ]
      },
      {
       "output_type": "stream",
       "stream": "stdout",
       "text": [
        "130919-05:48:31,679 interface INFO:\n",
        "\t stdout 2013-09-19T05:48:31.675600:0 0 0 1\n"
       ]
      },
      {
       "output_type": "stream",
       "stream": "stdout",
       "text": [
        "130919-05:48:31,679 interface INFO:\n",
        "\t stdout 2013-09-19T05:48:31.675600:\n"
       ]
      },
      {
       "output_type": "stream",
       "stream": "stdout",
       "text": [
        "130919-05:48:32,337 interface INFO:\n",
        "\t stdout 2013-09-19T05:48:32.337808:0 % done ... -1 0 0\n"
       ]
      },
      {
       "output_type": "stream",
       "stream": "stdout",
       "text": [
        "130919-05:48:32,338 interface INFO:\n",
        "\t stdout 2013-09-19T05:48:32.337808:0 -1 0\n"
       ]
      },
      {
       "output_type": "stream",
       "stream": "stdout",
       "text": [
        "130919-05:48:32,338 interface INFO:\n",
        "\t stdout 2013-09-19T05:48:32.337808:0 0 1\n"
       ]
      },
      {
       "output_type": "stream",
       "stream": "stdout",
       "text": [
        "130919-05:48:32,338 interface INFO:\n",
        "\t stdout 2013-09-19T05:48:32.337808:\n"
       ]
      },
      {
       "output_type": "stream",
       "stream": "stdout",
       "text": [
        "130919-05:48:53,525 interface INFO:\n",
        "\t stdout 2013-09-19T05:48:53.525348:9.09091 % done ... 18.1818 % done ... 27.2727 % done ... 36.3636 % done ... 45.4545 % done ... 54.5455 % done ... 63.6364 % done ... 72.7273 % done ... 81.8182 % done ... 90.9091 % done ...  100 % complete \n"
       ]
      },
      {
       "output_type": "stream",
       "stream": "stdout",
       "text": [
        "130919-05:49:04,512 workflow INFO:\n",
        "\t Executing node split_DWI in dir: /home/oesteban/workspace/ACWE-Reg/temp/ISBI2014/T2_Registration/split_DWI\n"
       ]
      },
      {
       "output_type": "stream",
       "stream": "stdout",
       "text": [
        "130919-05:49:18,537 workflow INFO:\n",
        "\t Executing node ApplyJacobian in dir: /home/oesteban/workspace/ACWE-Reg/temp/ISBI2014/T2_Registration/ApplyJacobian\n"
       ]
      },
      {
       "output_type": "stream",
       "stream": "stdout",
       "text": [
        "130919-05:49:18,542 workflow INFO:\n",
        "\t Executing node _ApplyJacobian0 in dir: /home/oesteban/workspace/ACWE-Reg/temp/ISBI2014/T2_Registration/ApplyJacobian/mapflow/_ApplyJacobian0\n"
       ]
      },
      {
       "output_type": "stream",
       "stream": "stdout",
       "text": [
        "130919-05:49:18,545 workflow INFO:\n",
        "\t Running: MultiplyImages 3 /home/oesteban/workspace/ACWE-Reg/temp/ISBI2014/T2_Registration/split_DWI/dwi_wtsimt_000.nii.gz /home/oesteban/workspace/ACWE-Reg/temp/ISBI2014/T2_Registration/Jacobian/transform0Warp_jacobian.nii.gz dwi_wtsimt_000_mult.nii.gz\n"
       ]
      },
      {
       "output_type": "stream",
       "stream": "stdout",
       "text": [
        "130919-05:49:19,193 workflow INFO:\n",
        "\t Executing node _ApplyJacobian1 in dir: /home/oesteban/workspace/ACWE-Reg/temp/ISBI2014/T2_Registration/ApplyJacobian/mapflow/_ApplyJacobian1\n"
       ]
      },
      {
       "output_type": "stream",
       "stream": "stdout",
       "text": [
        "130919-05:49:19,196 workflow INFO:\n",
        "\t Running: MultiplyImages 3 /home/oesteban/workspace/ACWE-Reg/temp/ISBI2014/T2_Registration/split_DWI/dwi_wtsimt_001.nii.gz /home/oesteban/workspace/ACWE-Reg/temp/ISBI2014/T2_Registration/Jacobian/transform0Warp_jacobian.nii.gz dwi_wtsimt_001_mult.nii.gz\n"
       ]
      },
      {
       "output_type": "stream",
       "stream": "stdout",
       "text": [
        "130919-05:49:19,831 workflow INFO:\n",
        "\t Executing node _ApplyJacobian2 in dir: /home/oesteban/workspace/ACWE-Reg/temp/ISBI2014/T2_Registration/ApplyJacobian/mapflow/_ApplyJacobian2\n"
       ]
      },
      {
       "output_type": "stream",
       "stream": "stdout",
       "text": [
        "130919-05:49:19,834 workflow INFO:\n",
        "\t Running: MultiplyImages 3 /home/oesteban/workspace/ACWE-Reg/temp/ISBI2014/T2_Registration/split_DWI/dwi_wtsimt_002.nii.gz /home/oesteban/workspace/ACWE-Reg/temp/ISBI2014/T2_Registration/Jacobian/transform0Warp_jacobian.nii.gz dwi_wtsimt_002_mult.nii.gz\n"
       ]
      },
      {
       "output_type": "stream",
       "stream": "stdout",
       "text": [
        "130919-05:49:20,466 workflow INFO:\n",
        "\t Executing node _ApplyJacobian3 in dir: /home/oesteban/workspace/ACWE-Reg/temp/ISBI2014/T2_Registration/ApplyJacobian/mapflow/_ApplyJacobian3\n"
       ]
      },
      {
       "output_type": "stream",
       "stream": "stdout",
       "text": [
        "130919-05:49:20,469 workflow INFO:\n",
        "\t Running: MultiplyImages 3 /home/oesteban/workspace/ACWE-Reg/temp/ISBI2014/T2_Registration/split_DWI/dwi_wtsimt_003.nii.gz /home/oesteban/workspace/ACWE-Reg/temp/ISBI2014/T2_Registration/Jacobian/transform0Warp_jacobian.nii.gz dwi_wtsimt_003_mult.nii.gz\n"
       ]
      },
      {
       "output_type": "stream",
       "stream": "stdout",
       "text": [
        "130919-05:49:21,102 workflow INFO:\n",
        "\t Executing node _ApplyJacobian4 in dir: /home/oesteban/workspace/ACWE-Reg/temp/ISBI2014/T2_Registration/ApplyJacobian/mapflow/_ApplyJacobian4\n"
       ]
      },
      {
       "output_type": "stream",
       "stream": "stdout",
       "text": [
        "130919-05:49:21,105 workflow INFO:\n",
        "\t Running: MultiplyImages 3 /home/oesteban/workspace/ACWE-Reg/temp/ISBI2014/T2_Registration/split_DWI/dwi_wtsimt_004.nii.gz /home/oesteban/workspace/ACWE-Reg/temp/ISBI2014/T2_Registration/Jacobian/transform0Warp_jacobian.nii.gz dwi_wtsimt_004_mult.nii.gz\n"
       ]
      },
      {
       "output_type": "stream",
       "stream": "stdout",
       "text": [
        "130919-05:49:21,738 workflow INFO:\n",
        "\t Executing node _ApplyJacobian5 in dir: /home/oesteban/workspace/ACWE-Reg/temp/ISBI2014/T2_Registration/ApplyJacobian/mapflow/_ApplyJacobian5\n"
       ]
      },
      {
       "output_type": "stream",
       "stream": "stdout",
       "text": [
        "130919-05:49:21,741 workflow INFO:\n",
        "\t Running: MultiplyImages 3 /home/oesteban/workspace/ACWE-Reg/temp/ISBI2014/T2_Registration/split_DWI/dwi_wtsimt_005.nii.gz /home/oesteban/workspace/ACWE-Reg/temp/ISBI2014/T2_Registration/Jacobian/transform0Warp_jacobian.nii.gz dwi_wtsimt_005_mult.nii.gz\n"
       ]
      },
      {
       "output_type": "stream",
       "stream": "stdout",
       "text": [
        "130919-05:49:22,372 workflow INFO:\n",
        "\t Executing node _ApplyJacobian6 in dir: /home/oesteban/workspace/ACWE-Reg/temp/ISBI2014/T2_Registration/ApplyJacobian/mapflow/_ApplyJacobian6\n"
       ]
      },
      {
       "output_type": "stream",
       "stream": "stdout",
       "text": [
        "130919-05:49:22,376 workflow INFO:\n",
        "\t Running: MultiplyImages 3 /home/oesteban/workspace/ACWE-Reg/temp/ISBI2014/T2_Registration/split_DWI/dwi_wtsimt_006.nii.gz /home/oesteban/workspace/ACWE-Reg/temp/ISBI2014/T2_Registration/Jacobian/transform0Warp_jacobian.nii.gz dwi_wtsimt_006_mult.nii.gz\n"
       ]
      },
      {
       "output_type": "stream",
       "stream": "stdout",
       "text": [
        "130919-05:49:23,9 workflow INFO:\n",
        "\t Executing node _ApplyJacobian7 in dir: /home/oesteban/workspace/ACWE-Reg/temp/ISBI2014/T2_Registration/ApplyJacobian/mapflow/_ApplyJacobian7\n"
       ]
      },
      {
       "output_type": "stream",
       "stream": "stdout",
       "text": [
        "130919-05:49:23,12 workflow INFO:\n",
        "\t Running: MultiplyImages 3 /home/oesteban/workspace/ACWE-Reg/temp/ISBI2014/T2_Registration/split_DWI/dwi_wtsimt_007.nii.gz /home/oesteban/workspace/ACWE-Reg/temp/ISBI2014/T2_Registration/Jacobian/transform0Warp_jacobian.nii.gz dwi_wtsimt_007_mult.nii.gz\n"
       ]
      },
      {
       "output_type": "stream",
       "stream": "stdout",
       "text": [
        "130919-05:49:24,797 workflow INFO:\n",
        "\t Executing node _ApplyJacobian8 in dir: /home/oesteban/workspace/ACWE-Reg/temp/ISBI2014/T2_Registration/ApplyJacobian/mapflow/_ApplyJacobian8\n"
       ]
      },
      {
       "output_type": "stream",
       "stream": "stdout",
       "text": [
        "130919-05:49:24,800 workflow INFO:\n",
        "\t Running: MultiplyImages 3 /home/oesteban/workspace/ACWE-Reg/temp/ISBI2014/T2_Registration/split_DWI/dwi_wtsimt_008.nii.gz /home/oesteban/workspace/ACWE-Reg/temp/ISBI2014/T2_Registration/Jacobian/transform0Warp_jacobian.nii.gz dwi_wtsimt_008_mult.nii.gz\n"
       ]
      },
      {
       "output_type": "stream",
       "stream": "stdout",
       "text": [
        "130919-05:49:25,433 workflow INFO:\n",
        "\t Executing node _ApplyJacobian9 in dir: /home/oesteban/workspace/ACWE-Reg/temp/ISBI2014/T2_Registration/ApplyJacobian/mapflow/_ApplyJacobian9\n"
       ]
      },
      {
       "output_type": "stream",
       "stream": "stdout",
       "text": [
        "130919-05:49:25,440 workflow INFO:\n",
        "\t Running: MultiplyImages 3 /home/oesteban/workspace/ACWE-Reg/temp/ISBI2014/T2_Registration/split_DWI/dwi_wtsimt_009.nii.gz /home/oesteban/workspace/ACWE-Reg/temp/ISBI2014/T2_Registration/Jacobian/transform0Warp_jacobian.nii.gz dwi_wtsimt_009_mult.nii.gz\n"
       ]
      },
      {
       "output_type": "stream",
       "stream": "stdout",
       "text": [
        "130919-05:49:26,69 workflow INFO:\n",
        "\t Executing node _ApplyJacobian10 in dir: /home/oesteban/workspace/ACWE-Reg/temp/ISBI2014/T2_Registration/ApplyJacobian/mapflow/_ApplyJacobian10\n"
       ]
      },
      {
       "output_type": "stream",
       "stream": "stdout",
       "text": [
        "130919-05:49:26,73 workflow INFO:\n",
        "\t Running: MultiplyImages 3 /home/oesteban/workspace/ACWE-Reg/temp/ISBI2014/T2_Registration/split_DWI/dwi_wtsimt_010.nii.gz /home/oesteban/workspace/ACWE-Reg/temp/ISBI2014/T2_Registration/Jacobian/transform0Warp_jacobian.nii.gz dwi_wtsimt_010_mult.nii.gz\n"
       ]
      },
      {
       "output_type": "stream",
       "stream": "stdout",
       "text": [
        "130919-05:49:26,709 workflow INFO:\n",
        "\t Executing node _ApplyJacobian11 in dir: /home/oesteban/workspace/ACWE-Reg/temp/ISBI2014/T2_Registration/ApplyJacobian/mapflow/_ApplyJacobian11\n"
       ]
      },
      {
       "output_type": "stream",
       "stream": "stdout",
       "text": [
        "130919-05:49:26,712 workflow INFO:\n",
        "\t Running: MultiplyImages 3 /home/oesteban/workspace/ACWE-Reg/temp/ISBI2014/T2_Registration/split_DWI/dwi_wtsimt_011.nii.gz /home/oesteban/workspace/ACWE-Reg/temp/ISBI2014/T2_Registration/Jacobian/transform0Warp_jacobian.nii.gz dwi_wtsimt_011_mult.nii.gz\n"
       ]
      },
      {
       "output_type": "stream",
       "stream": "stdout",
       "text": [
        "130919-05:49:27,341 workflow INFO:\n",
        "\t Executing node _ApplyJacobian12 in dir: /home/oesteban/workspace/ACWE-Reg/temp/ISBI2014/T2_Registration/ApplyJacobian/mapflow/_ApplyJacobian12\n"
       ]
      },
      {
       "output_type": "stream",
       "stream": "stdout",
       "text": [
        "130919-05:49:27,345 workflow INFO:\n",
        "\t Running: MultiplyImages 3 /home/oesteban/workspace/ACWE-Reg/temp/ISBI2014/T2_Registration/split_DWI/dwi_wtsimt_012.nii.gz /home/oesteban/workspace/ACWE-Reg/temp/ISBI2014/T2_Registration/Jacobian/transform0Warp_jacobian.nii.gz dwi_wtsimt_012_mult.nii.gz\n"
       ]
      },
      {
       "output_type": "stream",
       "stream": "stdout",
       "text": [
        "130919-05:49:27,977 workflow INFO:\n",
        "\t Executing node _ApplyJacobian13 in dir: /home/oesteban/workspace/ACWE-Reg/temp/ISBI2014/T2_Registration/ApplyJacobian/mapflow/_ApplyJacobian13\n"
       ]
      },
      {
       "output_type": "stream",
       "stream": "stdout",
       "text": [
        "130919-05:49:27,980 workflow INFO:\n",
        "\t Running: MultiplyImages 3 /home/oesteban/workspace/ACWE-Reg/temp/ISBI2014/T2_Registration/split_DWI/dwi_wtsimt_013.nii.gz /home/oesteban/workspace/ACWE-Reg/temp/ISBI2014/T2_Registration/Jacobian/transform0Warp_jacobian.nii.gz dwi_wtsimt_013_mult.nii.gz\n"
       ]
      },
      {
       "output_type": "stream",
       "stream": "stdout",
       "text": [
        "130919-05:49:28,613 workflow INFO:\n",
        "\t Executing node _ApplyJacobian14 in dir: /home/oesteban/workspace/ACWE-Reg/temp/ISBI2014/T2_Registration/ApplyJacobian/mapflow/_ApplyJacobian14\n"
       ]
      },
      {
       "output_type": "stream",
       "stream": "stdout",
       "text": [
        "130919-05:49:28,616 workflow INFO:\n",
        "\t Running: MultiplyImages 3 /home/oesteban/workspace/ACWE-Reg/temp/ISBI2014/T2_Registration/split_DWI/dwi_wtsimt_014.nii.gz /home/oesteban/workspace/ACWE-Reg/temp/ISBI2014/T2_Registration/Jacobian/transform0Warp_jacobian.nii.gz dwi_wtsimt_014_mult.nii.gz\n"
       ]
      },
      {
       "output_type": "stream",
       "stream": "stdout",
       "text": [
        "130919-05:49:29,249 workflow INFO:\n",
        "\t Executing node _ApplyJacobian15 in dir: /home/oesteban/workspace/ACWE-Reg/temp/ISBI2014/T2_Registration/ApplyJacobian/mapflow/_ApplyJacobian15\n"
       ]
      },
      {
       "output_type": "stream",
       "stream": "stdout",
       "text": [
        "130919-05:49:29,252 workflow INFO:\n",
        "\t Running: MultiplyImages 3 /home/oesteban/workspace/ACWE-Reg/temp/ISBI2014/T2_Registration/split_DWI/dwi_wtsimt_015.nii.gz /home/oesteban/workspace/ACWE-Reg/temp/ISBI2014/T2_Registration/Jacobian/transform0Warp_jacobian.nii.gz dwi_wtsimt_015_mult.nii.gz\n"
       ]
      },
      {
       "output_type": "stream",
       "stream": "stdout",
       "text": [
        "130919-05:49:29,884 workflow INFO:\n",
        "\t Executing node _ApplyJacobian16 in dir: /home/oesteban/workspace/ACWE-Reg/temp/ISBI2014/T2_Registration/ApplyJacobian/mapflow/_ApplyJacobian16\n"
       ]
      },
      {
       "output_type": "stream",
       "stream": "stdout",
       "text": [
        "130919-05:49:29,888 workflow INFO:\n",
        "\t Running: MultiplyImages 3 /home/oesteban/workspace/ACWE-Reg/temp/ISBI2014/T2_Registration/split_DWI/dwi_wtsimt_016.nii.gz /home/oesteban/workspace/ACWE-Reg/temp/ISBI2014/T2_Registration/Jacobian/transform0Warp_jacobian.nii.gz dwi_wtsimt_016_mult.nii.gz\n"
       ]
      },
      {
       "output_type": "stream",
       "stream": "stdout",
       "text": [
        "130919-05:49:30,521 workflow INFO:\n",
        "\t Executing node _ApplyJacobian17 in dir: /home/oesteban/workspace/ACWE-Reg/temp/ISBI2014/T2_Registration/ApplyJacobian/mapflow/_ApplyJacobian17\n"
       ]
      },
      {
       "output_type": "stream",
       "stream": "stdout",
       "text": [
        "130919-05:49:30,525 workflow INFO:\n",
        "\t Running: MultiplyImages 3 /home/oesteban/workspace/ACWE-Reg/temp/ISBI2014/T2_Registration/split_DWI/dwi_wtsimt_017.nii.gz /home/oesteban/workspace/ACWE-Reg/temp/ISBI2014/T2_Registration/Jacobian/transform0Warp_jacobian.nii.gz dwi_wtsimt_017_mult.nii.gz\n"
       ]
      },
      {
       "output_type": "stream",
       "stream": "stdout",
       "text": [
        "130919-05:49:31,157 workflow INFO:\n",
        "\t Executing node _ApplyJacobian18 in dir: /home/oesteban/workspace/ACWE-Reg/temp/ISBI2014/T2_Registration/ApplyJacobian/mapflow/_ApplyJacobian18\n"
       ]
      },
      {
       "output_type": "stream",
       "stream": "stdout",
       "text": [
        "130919-05:49:31,160 workflow INFO:\n",
        "\t Running: MultiplyImages 3 /home/oesteban/workspace/ACWE-Reg/temp/ISBI2014/T2_Registration/split_DWI/dwi_wtsimt_018.nii.gz /home/oesteban/workspace/ACWE-Reg/temp/ISBI2014/T2_Registration/Jacobian/transform0Warp_jacobian.nii.gz dwi_wtsimt_018_mult.nii.gz\n"
       ]
      },
      {
       "output_type": "stream",
       "stream": "stdout",
       "text": [
        "130919-05:49:31,797 workflow INFO:\n",
        "\t Executing node _ApplyJacobian19 in dir: /home/oesteban/workspace/ACWE-Reg/temp/ISBI2014/T2_Registration/ApplyJacobian/mapflow/_ApplyJacobian19\n"
       ]
      },
      {
       "output_type": "stream",
       "stream": "stdout",
       "text": [
        "130919-05:49:31,801 workflow INFO:\n",
        "\t Running: MultiplyImages 3 /home/oesteban/workspace/ACWE-Reg/temp/ISBI2014/T2_Registration/split_DWI/dwi_wtsimt_019.nii.gz /home/oesteban/workspace/ACWE-Reg/temp/ISBI2014/T2_Registration/Jacobian/transform0Warp_jacobian.nii.gz dwi_wtsimt_019_mult.nii.gz\n"
       ]
      },
      {
       "output_type": "stream",
       "stream": "stdout",
       "text": [
        "130919-05:49:32,429 workflow INFO:\n",
        "\t Executing node _ApplyJacobian20 in dir: /home/oesteban/workspace/ACWE-Reg/temp/ISBI2014/T2_Registration/ApplyJacobian/mapflow/_ApplyJacobian20\n"
       ]
      },
      {
       "output_type": "stream",
       "stream": "stdout",
       "text": [
        "130919-05:49:32,433 workflow INFO:\n",
        "\t Running: MultiplyImages 3 /home/oesteban/workspace/ACWE-Reg/temp/ISBI2014/T2_Registration/split_DWI/dwi_wtsimt_020.nii.gz /home/oesteban/workspace/ACWE-Reg/temp/ISBI2014/T2_Registration/Jacobian/transform0Warp_jacobian.nii.gz dwi_wtsimt_020_mult.nii.gz\n"
       ]
      },
      {
       "output_type": "stream",
       "stream": "stdout",
       "text": [
        "130919-05:49:33,66 workflow INFO:\n",
        "\t Executing node _ApplyJacobian21 in dir: /home/oesteban/workspace/ACWE-Reg/temp/ISBI2014/T2_Registration/ApplyJacobian/mapflow/_ApplyJacobian21\n"
       ]
      },
      {
       "output_type": "stream",
       "stream": "stdout",
       "text": [
        "130919-05:49:33,69 workflow INFO:\n",
        "\t Running: MultiplyImages 3 /home/oesteban/workspace/ACWE-Reg/temp/ISBI2014/T2_Registration/split_DWI/dwi_wtsimt_021.nii.gz /home/oesteban/workspace/ACWE-Reg/temp/ISBI2014/T2_Registration/Jacobian/transform0Warp_jacobian.nii.gz dwi_wtsimt_021_mult.nii.gz\n"
       ]
      },
      {
       "output_type": "stream",
       "stream": "stdout",
       "text": [
        "130919-05:49:33,705 workflow INFO:\n",
        "\t Executing node _ApplyJacobian22 in dir: /home/oesteban/workspace/ACWE-Reg/temp/ISBI2014/T2_Registration/ApplyJacobian/mapflow/_ApplyJacobian22\n"
       ]
      },
      {
       "output_type": "stream",
       "stream": "stdout",
       "text": [
        "130919-05:49:33,708 workflow INFO:\n",
        "\t Running: MultiplyImages 3 /home/oesteban/workspace/ACWE-Reg/temp/ISBI2014/T2_Registration/split_DWI/dwi_wtsimt_022.nii.gz /home/oesteban/workspace/ACWE-Reg/temp/ISBI2014/T2_Registration/Jacobian/transform0Warp_jacobian.nii.gz dwi_wtsimt_022_mult.nii.gz\n"
       ]
      },
      {
       "output_type": "stream",
       "stream": "stdout",
       "text": [
        "130919-05:49:34,348 workflow INFO:\n",
        "\t Executing node _ApplyJacobian23 in dir: /home/oesteban/workspace/ACWE-Reg/temp/ISBI2014/T2_Registration/ApplyJacobian/mapflow/_ApplyJacobian23\n"
       ]
      },
      {
       "output_type": "stream",
       "stream": "stdout",
       "text": [
        "130919-05:49:34,352 workflow INFO:\n",
        "\t Running: MultiplyImages 3 /home/oesteban/workspace/ACWE-Reg/temp/ISBI2014/T2_Registration/split_DWI/dwi_wtsimt_023.nii.gz /home/oesteban/workspace/ACWE-Reg/temp/ISBI2014/T2_Registration/Jacobian/transform0Warp_jacobian.nii.gz dwi_wtsimt_023_mult.nii.gz\n"
       ]
      },
      {
       "output_type": "stream",
       "stream": "stdout",
       "text": [
        "130919-05:49:34,984 workflow INFO:\n",
        "\t Executing node _ApplyJacobian24 in dir: /home/oesteban/workspace/ACWE-Reg/temp/ISBI2014/T2_Registration/ApplyJacobian/mapflow/_ApplyJacobian24\n"
       ]
      },
      {
       "output_type": "stream",
       "stream": "stdout",
       "text": [
        "130919-05:49:34,988 workflow INFO:\n",
        "\t Running: MultiplyImages 3 /home/oesteban/workspace/ACWE-Reg/temp/ISBI2014/T2_Registration/split_DWI/dwi_wtsimt_024.nii.gz /home/oesteban/workspace/ACWE-Reg/temp/ISBI2014/T2_Registration/Jacobian/transform0Warp_jacobian.nii.gz dwi_wtsimt_024_mult.nii.gz\n"
       ]
      },
      {
       "output_type": "stream",
       "stream": "stdout",
       "text": [
        "130919-05:49:35,621 workflow INFO:\n",
        "\t Executing node _ApplyJacobian25 in dir: /home/oesteban/workspace/ACWE-Reg/temp/ISBI2014/T2_Registration/ApplyJacobian/mapflow/_ApplyJacobian25\n"
       ]
      },
      {
       "output_type": "stream",
       "stream": "stdout",
       "text": [
        "130919-05:49:35,624 workflow INFO:\n",
        "\t Running: MultiplyImages 3 /home/oesteban/workspace/ACWE-Reg/temp/ISBI2014/T2_Registration/split_DWI/dwi_wtsimt_025.nii.gz /home/oesteban/workspace/ACWE-Reg/temp/ISBI2014/T2_Registration/Jacobian/transform0Warp_jacobian.nii.gz dwi_wtsimt_025_mult.nii.gz\n"
       ]
      },
      {
       "output_type": "stream",
       "stream": "stdout",
       "text": [
        "130919-05:49:36,269 workflow INFO:\n",
        "\t Executing node _ApplyJacobian26 in dir: /home/oesteban/workspace/ACWE-Reg/temp/ISBI2014/T2_Registration/ApplyJacobian/mapflow/_ApplyJacobian26\n"
       ]
      },
      {
       "output_type": "stream",
       "stream": "stdout",
       "text": [
        "130919-05:49:36,273 workflow INFO:\n",
        "\t Running: MultiplyImages 3 /home/oesteban/workspace/ACWE-Reg/temp/ISBI2014/T2_Registration/split_DWI/dwi_wtsimt_026.nii.gz /home/oesteban/workspace/ACWE-Reg/temp/ISBI2014/T2_Registration/Jacobian/transform0Warp_jacobian.nii.gz dwi_wtsimt_026_mult.nii.gz\n"
       ]
      },
      {
       "output_type": "stream",
       "stream": "stdout",
       "text": [
        "130919-05:49:36,905 workflow INFO:\n",
        "\t Executing node _ApplyJacobian27 in dir: /home/oesteban/workspace/ACWE-Reg/temp/ISBI2014/T2_Registration/ApplyJacobian/mapflow/_ApplyJacobian27\n"
       ]
      },
      {
       "output_type": "stream",
       "stream": "stdout",
       "text": [
        "130919-05:49:36,908 workflow INFO:\n",
        "\t Running: MultiplyImages 3 /home/oesteban/workspace/ACWE-Reg/temp/ISBI2014/T2_Registration/split_DWI/dwi_wtsimt_027.nii.gz /home/oesteban/workspace/ACWE-Reg/temp/ISBI2014/T2_Registration/Jacobian/transform0Warp_jacobian.nii.gz dwi_wtsimt_027_mult.nii.gz\n"
       ]
      },
      {
       "output_type": "stream",
       "stream": "stdout",
       "text": [
        "130919-05:49:37,540 workflow INFO:\n",
        "\t Executing node _ApplyJacobian28 in dir: /home/oesteban/workspace/ACWE-Reg/temp/ISBI2014/T2_Registration/ApplyJacobian/mapflow/_ApplyJacobian28\n"
       ]
      },
      {
       "output_type": "stream",
       "stream": "stdout",
       "text": [
        "130919-05:49:37,544 workflow INFO:\n",
        "\t Running: MultiplyImages 3 /home/oesteban/workspace/ACWE-Reg/temp/ISBI2014/T2_Registration/split_DWI/dwi_wtsimt_028.nii.gz /home/oesteban/workspace/ACWE-Reg/temp/ISBI2014/T2_Registration/Jacobian/transform0Warp_jacobian.nii.gz dwi_wtsimt_028_mult.nii.gz\n"
       ]
      },
      {
       "output_type": "stream",
       "stream": "stdout",
       "text": [
        "130919-05:49:38,177 workflow INFO:\n",
        "\t Executing node _ApplyJacobian29 in dir: /home/oesteban/workspace/ACWE-Reg/temp/ISBI2014/T2_Registration/ApplyJacobian/mapflow/_ApplyJacobian29\n"
       ]
      },
      {
       "output_type": "stream",
       "stream": "stdout",
       "text": [
        "130919-05:49:38,180 workflow INFO:\n",
        "\t Running: MultiplyImages 3 /home/oesteban/workspace/ACWE-Reg/temp/ISBI2014/T2_Registration/split_DWI/dwi_wtsimt_029.nii.gz /home/oesteban/workspace/ACWE-Reg/temp/ISBI2014/T2_Registration/Jacobian/transform0Warp_jacobian.nii.gz dwi_wtsimt_029_mult.nii.gz\n"
       ]
      },
      {
       "output_type": "stream",
       "stream": "stdout",
       "text": [
        "130919-05:49:38,812 workflow INFO:\n",
        "\t Executing node _ApplyJacobian30 in dir: /home/oesteban/workspace/ACWE-Reg/temp/ISBI2014/T2_Registration/ApplyJacobian/mapflow/_ApplyJacobian30\n"
       ]
      },
      {
       "output_type": "stream",
       "stream": "stdout",
       "text": [
        "130919-05:49:38,816 workflow INFO:\n",
        "\t Running: MultiplyImages 3 /home/oesteban/workspace/ACWE-Reg/temp/ISBI2014/T2_Registration/split_DWI/dwi_wtsimt_030.nii.gz /home/oesteban/workspace/ACWE-Reg/temp/ISBI2014/T2_Registration/Jacobian/transform0Warp_jacobian.nii.gz dwi_wtsimt_030_mult.nii.gz\n"
       ]
      },
      {
       "output_type": "stream",
       "stream": "stdout",
       "text": [
        "130919-05:49:39,449 workflow INFO:\n",
        "\t Executing node _ApplyJacobian31 in dir: /home/oesteban/workspace/ACWE-Reg/temp/ISBI2014/T2_Registration/ApplyJacobian/mapflow/_ApplyJacobian31\n"
       ]
      },
      {
       "output_type": "stream",
       "stream": "stdout",
       "text": [
        "130919-05:49:39,453 workflow INFO:\n",
        "\t Running: MultiplyImages 3 /home/oesteban/workspace/ACWE-Reg/temp/ISBI2014/T2_Registration/split_DWI/dwi_wtsimt_031.nii.gz /home/oesteban/workspace/ACWE-Reg/temp/ISBI2014/T2_Registration/Jacobian/transform0Warp_jacobian.nii.gz dwi_wtsimt_031_mult.nii.gz\n"
       ]
      },
      {
       "output_type": "stream",
       "stream": "stdout",
       "text": [
        "130919-05:49:40,85 workflow INFO:\n",
        "\t Executing node _ApplyJacobian32 in dir: /home/oesteban/workspace/ACWE-Reg/temp/ISBI2014/T2_Registration/ApplyJacobian/mapflow/_ApplyJacobian32\n"
       ]
      },
      {
       "output_type": "stream",
       "stream": "stdout",
       "text": [
        "130919-05:49:40,89 workflow INFO:\n",
        "\t Running: MultiplyImages 3 /home/oesteban/workspace/ACWE-Reg/temp/ISBI2014/T2_Registration/split_DWI/dwi_wtsimt_032.nii.gz /home/oesteban/workspace/ACWE-Reg/temp/ISBI2014/T2_Registration/Jacobian/transform0Warp_jacobian.nii.gz dwi_wtsimt_032_mult.nii.gz\n"
       ]
      },
      {
       "output_type": "stream",
       "stream": "stdout",
       "text": [
        "130919-05:49:41,885 workflow INFO:\n",
        "\t Executing node merge_DWI in dir: /home/oesteban/workspace/ACWE-Reg/temp/ISBI2014/T2_Registration/merge_DWI\n"
       ]
      },
      {
       "output_type": "stream",
       "stream": "stdout",
       "text": [
        "130919-05:49:41,918 workflow INFO:\n",
        "\t Running: fslmerge -t /home/oesteban/workspace/ACWE-Reg/temp/ISBI2014/T2_Registration/merge_DWI/dwi_wtsimt_000_mult_merged.nii.gz /home/oesteban/workspace/ACWE-Reg/temp/ISBI2014/T2_Registration/ApplyJacobian/mapflow/_ApplyJacobian0/dwi_wtsimt_000_mult.nii.gz /home/oesteban/workspace/ACWE-Reg/temp/ISBI2014/T2_Registration/ApplyJacobian/mapflow/_ApplyJacobian1/dwi_wtsimt_001_mult.nii.gz /home/oesteban/workspace/ACWE-Reg/temp/ISBI2014/T2_Registration/ApplyJacobian/mapflow/_ApplyJacobian2/dwi_wtsimt_002_mult.nii.gz /home/oesteban/workspace/ACWE-Reg/temp/ISBI2014/T2_Registration/ApplyJacobian/mapflow/_ApplyJacobian3/dwi_wtsimt_003_mult.nii.gz /home/oesteban/workspace/ACWE-Reg/temp/ISBI2014/T2_Registration/ApplyJacobian/mapflow/_ApplyJacobian4/dwi_wtsimt_004_mult.nii.gz /home/oesteban/workspace/ACWE-Reg/temp/ISBI2014/T2_Registration/ApplyJacobian/mapflow/_ApplyJacobian5/dwi_wtsimt_005_mult.nii.gz /home/oesteban/workspace/ACWE-Reg/temp/ISBI2014/T2_Registration/ApplyJacobian/mapflow/_ApplyJacobian6/dwi_wtsimt_006_mult.nii.gz /home/oesteban/workspace/ACWE-Reg/temp/ISBI2014/T2_Registration/ApplyJacobian/mapflow/_ApplyJacobian7/dwi_wtsimt_007_mult.nii.gz /home/oesteban/workspace/ACWE-Reg/temp/ISBI2014/T2_Registration/ApplyJacobian/mapflow/_ApplyJacobian8/dwi_wtsimt_008_mult.nii.gz /home/oesteban/workspace/ACWE-Reg/temp/ISBI2014/T2_Registration/ApplyJacobian/mapflow/_ApplyJacobian9/dwi_wtsimt_009_mult.nii.gz /home/oesteban/workspace/ACWE-Reg/temp/ISBI2014/T2_Registration/ApplyJacobian/mapflow/_ApplyJacobian10/dwi_wtsimt_010_mult.nii.gz /home/oesteban/workspace/ACWE-Reg/temp/ISBI2014/T2_Registration/ApplyJacobian/mapflow/_ApplyJacobian11/dwi_wtsimt_011_mult.nii.gz /home/oesteban/workspace/ACWE-Reg/temp/ISBI2014/T2_Registration/ApplyJacobian/mapflow/_ApplyJacobian12/dwi_wtsimt_012_mult.nii.gz /home/oesteban/workspace/ACWE-Reg/temp/ISBI2014/T2_Registration/ApplyJacobian/mapflow/_ApplyJacobian13/dwi_wtsimt_013_mult.nii.gz /home/oesteban/workspace/ACWE-Reg/temp/ISBI2014/T2_Registration/ApplyJacobian/mapflow/_ApplyJacobian14/dwi_wtsimt_014_mult.nii.gz /home/oesteban/workspace/ACWE-Reg/temp/ISBI2014/T2_Registration/ApplyJacobian/mapflow/_ApplyJacobian15/dwi_wtsimt_015_mult.nii.gz /home/oesteban/workspace/ACWE-Reg/temp/ISBI2014/T2_Registration/ApplyJacobian/mapflow/_ApplyJacobian16/dwi_wtsimt_016_mult.nii.gz /home/oesteban/workspace/ACWE-Reg/temp/ISBI2014/T2_Registration/ApplyJacobian/mapflow/_ApplyJacobian17/dwi_wtsimt_017_mult.nii.gz /home/oesteban/workspace/ACWE-Reg/temp/ISBI2014/T2_Registration/ApplyJacobian/mapflow/_ApplyJacobian18/dwi_wtsimt_018_mult.nii.gz /home/oesteban/workspace/ACWE-Reg/temp/ISBI2014/T2_Registration/ApplyJacobian/mapflow/_ApplyJacobian19/dwi_wtsimt_019_mult.nii.gz /home/oesteban/workspace/ACWE-Reg/temp/ISBI2014/T2_Registration/ApplyJacobian/mapflow/_ApplyJacobian20/dwi_wtsimt_020_mult.nii.gz /home/oesteban/workspace/ACWE-Reg/temp/ISBI2014/T2_Registration/ApplyJacobian/mapflow/_ApplyJacobian21/dwi_wtsimt_021_mult.nii.gz /home/oesteban/workspace/ACWE-Reg/temp/ISBI2014/T2_Registration/ApplyJacobian/mapflow/_ApplyJacobian22/dwi_wtsimt_022_mult.nii.gz /home/oesteban/workspace/ACWE-Reg/temp/ISBI2014/T2_Registration/ApplyJacobian/mapflow/_ApplyJacobian23/dwi_wtsimt_023_mult.nii.gz /home/oesteban/workspace/ACWE-Reg/temp/ISBI2014/T2_Registration/ApplyJacobian/mapflow/_ApplyJacobian24/dwi_wtsimt_024_mult.nii.gz /home/oesteban/workspace/ACWE-Reg/temp/ISBI2014/T2_Registration/ApplyJacobian/mapflow/_ApplyJacobian25/dwi_wtsimt_025_mult.nii.gz /home/oesteban/workspace/ACWE-Reg/temp/ISBI2014/T2_Registration/ApplyJacobian/mapflow/_ApplyJacobian26/dwi_wtsimt_026_mult.nii.gz /home/oesteban/workspace/ACWE-Reg/temp/ISBI2014/T2_Registration/ApplyJacobian/mapflow/_ApplyJacobian27/dwi_wtsimt_027_mult.nii.gz /home/oesteban/workspace/ACWE-Reg/temp/ISBI2014/T2_Registration/ApplyJacobian/mapflow/_ApplyJacobian28/dwi_wtsimt_028_mult.nii.gz /home/oesteban/workspace/ACWE-Reg/temp/ISBI2014/T2_Registration/ApplyJacobian/mapflow/_ApplyJacobian29/dwi_wtsimt_029_mult.nii.gz /home/oesteban/workspace/ACWE-Reg/temp/ISBI2014/T2_Registration/ApplyJacobian/mapflow/_ApplyJacobian30/dwi_wtsimt_030_mult.nii.gz /home/oesteban/workspace/ACWE-Reg/temp/ISBI2014/T2_Registration/ApplyJacobian/mapflow/_ApplyJacobian31/dwi_wtsimt_031_mult.nii.gz /home/oesteban/workspace/ACWE-Reg/temp/ISBI2014/T2_Registration/ApplyJacobian/mapflow/_ApplyJacobian32/dwi_wtsimt_032_mult.nii.gz\n"
       ]
      },
      {
       "output_type": "pyout",
       "prompt_number": 7,
       "text": [
        "<networkx.classes.digraph.DiGraph at 0x84787d0>"
       ]
      }
     ],
     "prompt_number": 7
    },
    {
     "cell_type": "code",
     "collapsed": false,
     "input": [
      "fmap_wf = wf.fieldmap_correction()\n",
      "fmap_wf.base_dir = working_dir\n",
      "\n",
      "fmap_wf.inputs.inputnode.in_file = op.join( working_dir , \"dwi.nii.gz\" )\n",
      "fmap_wf.inputs.inputnode.in_mask = op.join( model_dir, \"signal_mask.nii.gz\" )\n",
      "fmap_wf.inputs.inputnode.fieldmap_mag = op.join( model_dir, \"signal_mask.nii.gz\" )\n",
      "fmap_wf.inputs.inputnode.fieldmap_pha = op.join( working_dir, \"siemens.nii.gz\" )\n",
      "fmap_wf.inputs.inputnode.te_diff = 2.46\n",
      "fmap_wf.inputs.inputnode.epi_echospacing = 0.77\n",
      "fmap_wf.inputs.inputnode.vsm_sigma = 2.0\n",
      "fmap_wf.inputs.inputnode.encoding_direction = 'y'"
     ],
     "language": "python",
     "metadata": {},
     "outputs": []
    },
    {
     "cell_type": "code",
     "collapsed": false,
     "input": [
      "fmap_wf.run()"
     ],
     "language": "python",
     "metadata": {},
     "outputs": []
    },
    {
     "cell_type": "code",
     "collapsed": false,
     "input": [
      "topup_wf = wf.topup_correction()\n",
      "topup_wf.base_dir = working_dir\n",
      "\n",
      "topup_wf.inputs.inputnode.in_file_dir = op.join( working_dir , \"dwi.nii.gz\" )\n",
      "topup_wf.inputs.inputnode.in_file_rev = op.join( working_dir , \"dwi_rev.nii.gz\" )\n",
      "topup_wf.inputs.inputnode.encoding_direction = 'y'\n",
      "topup_wf.inputs.inputnode.ref_num = 0"
     ],
     "language": "python",
     "metadata": {},
     "outputs": []
    },
    {
     "cell_type": "code",
     "collapsed": false,
     "input": [
      "topup_wf.run()"
     ],
     "language": "python",
     "metadata": {},
     "outputs": []
    },
    {
     "cell_type": "code",
     "collapsed": false,
     "input": [],
     "language": "python",
     "metadata": {},
     "outputs": []
    }
   ],
   "metadata": {}
  }
 ]
}