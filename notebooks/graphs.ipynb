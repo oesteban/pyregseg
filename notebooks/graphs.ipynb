{
 "metadata": {
  "name": "",
  "signature": "sha256:b1027a3def13b915fc6118d90c46b7e6a1d3c460a23be2e58d962f6a95c136c4"
 },
 "nbformat": 3,
 "nbformat_minor": 0,
 "worksheets": [
  {
   "cells": [
    {
     "cell_type": "code",
     "collapsed": false,
     "input": [
      "from matplotlib.path import Path\n",
      "import matplotlib.patches as patches"
     ],
     "language": "python",
     "metadata": {},
     "outputs": []
    },
    {
     "cell_type": "code",
     "collapsed": false,
     "input": [
      "im = plt.imread('/home/oesteban/Dropbox/My Publications/2014-TMI/phantom-closeup.png')\n",
      "p1 = (880, 380)\n",
      "p2 = (265, 450)\n",
      "x = [p1[0], p2[0]]\n",
      "y = [p1[1], p2[1]]\n",
      "\n",
      "fig, ax = plt.subplots(figsize=(18,19))\n",
      "implot = ax.imshow(im)\n",
      "\n",
      "plt.xlim((180, 1250))\n",
      "plt.ylim((850, 0))\n",
      "\n",
      "\n",
      "ax.grid(True, color='b', alpha=0.2, linestyle='dashed', linewidth=5)\n",
      "ax.set_xticklabels([])\n",
      "ax.set_yticklabels([])\n",
      "plt.xticks([600, 1150])\n",
      "plt.yticks([100, 650])\n",
      "\n",
      "a1 = ax.arrow(p1[0],p1[1],-70,40, head_width=20, head_length=50, fc='black', ec='black')\n",
      "a2 = ax.arrow(p2[0],p2[1],100,0, head_width=20, head_length=50, fc='black', ec='black')\n",
      "\n",
      "g1 = ax.arrow(p1[0],p1[1],10,-7, head_width=12, head_length=10, fc='r', ec='r')\n",
      "g2 = ax.arrow(p2[0],p2[1],50,0, head_width=12, head_length=10, fc='r', ec='r')\n",
      "\n",
      "ax.annotate(r\"$\\mathbf{v}_{1}$\", xy=(p1[0]- 30, p1[1]+50), color='black', fontsize=60)\n",
      "ax.annotate(r\"$\\mathbf{v}_{2}$\", xy=(p2[0]- 70, p2[1] + 10), color='black', fontsize=60)\n",
      "\n",
      "ax.annotate(r\"$\\hat{\\mathbf{n}}_{1}$\", xy=(p1[0]-100, p1[1]+ 110), color='black', fontsize=60)\n",
      "ax.annotate(r\"$\\hat{\\mathbf{n}}_{2}$\", xy=(p2[0]+100, p2[1]+80), color='black', fontsize=60)\n",
      "\n",
      "ax.annotate(r\"$\\bar{s}_{1}$\", xy=(p1[0]+30, p1[1]), color='r', fontsize=60)\n",
      "ax.annotate(r\"$\\bar{s}_{2}$\", xy=(p2[0]+10, p2[1]-25), color='r', fontsize=60)\n",
      "\n",
      "ax.annotate(r\"$\\Omega_{wm}$\", xy=(370, 220), color='g', fontsize=90)\n",
      "ax.annotate(r\"$\\Omega_{gm}$\", xy=(750, 220), color='darkblue', fontsize=90)\n",
      "ax.annotate(r\"$\\Omega_{bg}$\", xy=(1100, 220), color='w', fontsize=90)\n",
      "\n",
      "ax.annotate(r\"$\\Gamma_0$\", xy=(920, 610), color='g', fontsize=90)\n",
      "ax.annotate(r\"$\\Gamma_1$\", xy=(1050, 570), color='darkblue', fontsize=90)\n",
      "\n",
      "bbox_props = dict(boxstyle=\"square\", fc=\"w\", ec=\"black\", lw=2, alpha=0.7)\n",
      "ax.annotate(r\"$\\bar{s}_{1} = w_{0,1} \\, \\left[ \\mathcal{D}^2_{wm} \\left(M(\\mathbf{v}_1)\\right) - \\mathcal{D}^2_{gm}\\left(M(\\mathbf{v}_1)\\right)\\right]\\, \\hat{\\mathbf{n}}_1$\", xy=(270, 800), color='black', fontsize=50, bbox=bbox_props)\n",
      "\n",
      "ax.scatter(x, y, color='black', edgecolor='w', s=150)\n",
      "\n",
      "ukx = [600, 600, 1150, 1150]\n",
      "uky = [100, 650, 100, 650]\n",
      "ax.scatter(ukx, uky, color='b', edgecolor='w', s=250, alpha=0.5)\n",
      "\n",
      "ax.annotate(r\"$\\mathbf{u}_{30}$\", xy=(615, 120), color='b', fontsize=60, alpha=0.6)\n",
      "ax.annotate(r\"$\\mathbf{u}_{31}$\", xy=(615, 670), color='b', fontsize=60, alpha=0.6)\n",
      "\n",
      "verts = [p1, (600, p1[1]), (600, 650)]\n",
      "codes = [ Path.MOVETO, Path.CURVE4, Path.CURVE4,]\n",
      "path = Path(verts, codes)\n",
      "patch = patches.PathPatch(path, facecolor='none', edgecolor='darkcyan', lw=2, alpha=0.4)\n",
      "ax.add_patch(patch)\n",
      "xs, ys = zip(*verts)\n",
      "ax.annotate(r\"$\\psi_{31}(\\mathbf{v}_{1})}$\", xy=(615, 590), color='darkcyan', fontsize=60, alpha=0.6)\n",
      "# ax.plot(xs, ys, 'x--', lw=2, color='b', ms=10)\n",
      "\n",
      "plt.draw()\n",
      "plt.savefig('/home/oesteban/Dropbox/My Publications/2015-NeuroImage/figures/figure01.pdf', format='pdf', bbox_inches='tight', pad_inches=0, dpi=300)"
     ],
     "language": "python",
     "metadata": {},
     "outputs": []
    },
    {
     "cell_type": "code",
     "collapsed": false,
     "input": [
      "import os.path as op\n",
      "import nibabel as nb\n",
      "import numpy as np\n",
      "import os\n",
      "import seaborn as sn\n",
      "import pandas as pd\n",
      "from pyacwereg import viz\n",
      "from scipy.linalg import sqrtm\n",
      "\n",
      "exp_dir = '/media/data/TMI_mirror/phantom/debug'\n",
      "im1 = nb.load(op.join(exp_dir, 'comps_umsk_reference_lev0.nii.gz_cmp0.nii.gz')).get_data().astype(np.float32).reshape(-1)\n",
      "\n",
      "im2 = nb.load(op.join(exp_dir, 'comps_umsk_reference_lev0.nii.gz_cmp1.nii.gz')).get_data().astype(np.float32).reshape(-1)\n",
      "\n",
      "seg = nb.load(op.join(exp_dir, 'gold_seg.nii.gz')).get_data().reshape(-1)"
     ],
     "language": "python",
     "metadata": {},
     "outputs": []
    },
    {
     "cell_type": "code",
     "collapsed": false,
     "input": [
      "reload(viz)\n",
      "myplot, o = viz.jointplot_data(im1, im2, seg, labels=['WM', 'GM', 'BG'], f1name='T1w', f2name='T2w',\n",
      "                               out_file='/home/oesteban/Dropbox/My Publications/2015-NeuroImage/supplemental/phantom-model-kde.pdf')"
     ],
     "language": "python",
     "metadata": {},
     "outputs": []
    },
    {
     "cell_type": "code",
     "collapsed": false,
     "input": [
      "reload(viz)\n",
      "\n",
      "lims = myplot.ax_joint.axis()\n",
      "\n",
      "xlims = (lims[0], lims[1])\n",
      "ylims = (lims[2], lims[3])\n",
      "\n",
      "locs = [ (67.68510000000001, 67.74580), (813.5069999999999, 5067.380), (1064.570, 3432.320) ]\n",
      "covs = [[ 1107.430, 4.984860, 4.984860, 1111.160 ],\n",
      "        [ 5705.010, 2663.440, 2663.440, 182251 ],\n",
      "        [  2625.350, -24.54710, -24.54710, 3588.710 ]]\n",
      "   \n",
      "o = viz.jointplot_gmm(locs, covs, xlims=xlims, ylims=ylims, labels=['BG', 'GM', 'WM'],\n",
      "                      xname='T1w', yname='T2w',\n",
      "                      out_file='/home/oesteban/Dropbox/My Publications/2015-NeuroImage/supplemental/phantom-model-estimated.pdf')"
     ],
     "language": "python",
     "metadata": {},
     "outputs": []
    },
    {
     "cell_type": "code",
     "collapsed": false,
     "input": [
      "reload(viz)\n",
      "\n",
      "lims = myplot.ax_joint.axis()\n",
      "\n",
      "xlims = (lims[0], lims[1])\n",
      "ylims = (lims[2], lims[3])\n",
      "\n",
      "locs = [ (68, 69), (817, 5263), (1065, 3430) ]\n",
      "covs = [[ 4938.870, 30350.30, 30350.30, 260793 ],\n",
      "        [  5717.220, 3346.830, 3346.830, 220521 ],\n",
      "        [ 2625.530, -25.54650, -25.54650, 3594.110 ]]\n",
      "\n",
      "o = viz.jointplot_gmm(locs, covs, xlims=xlims, ylims=ylims, labels=['BG', 'GM', 'WM'],\n",
      "                      xname='T1w', yname='T2w')"
     ],
     "language": "python",
     "metadata": {},
     "outputs": []
    },
    {
     "cell_type": "code",
     "collapsed": false,
     "input": [
      "reload(viz)\n",
      "\n",
      "locs = [(534.0880, 880.9040), # th\n",
      "        (361.1170, 1007.40),  # dgm, csf\n",
      "        (776.1830, 783.370),  # stem\n",
      "        (812.4059999999999, 902.4020), # wm\n",
      "        (407.4050, 892.1570), # cbGM\n",
      "        (334.630, 1156.820)]  # gm\n",
      "covs = [[27543.40, -8387.190000000001, -8387.190000000001, 5010.290],\n",
      "        [18778.20, -3622.330, -3622.330, 7400.40],\n",
      "        [29537.40, -7803.050, -7803.050, 4991.950],\n",
      "        # [38316.30, -1.0e8, - 1.0e8, 7342.090],\n",
      "        [40344.50, -13649.60, -13649.60, 11331],\n",
      "        [5474.370, -2476.580, -2476.580, 8255.410],\n",
      "        [8018.20, -2429.980, -2429.980, 10284.60]]\n",
      "   \n",
      "o = viz.jointplot_gmm(locs, covs, xlims=(0, 1500), ylims=(600, 1500), labels=['Th', 'dGM+CSF', 'Stem', 'WM', 'cbGM', 'GM' ],\n",
      "                      xname='fractional anisotropy (FA)', yname='apparent diffusion coefficient (ADC)',\n",
      "                      out_file='/home/oesteban/Dropbox/My Publications/2015-NeuroImage/supplemental/realdata-model-estimated.pdf')"
     ],
     "language": "python",
     "metadata": {},
     "outputs": []
    },
    {
     "cell_type": "code",
     "collapsed": false,
     "input": [
      "from pyacwereg import viz\n",
      "import os.path as op\n",
      "\n",
      "exp_dir = '/media/data/TMI_mirror/experiments/data'\n",
      "fa_path = op.join(exp_dir, 'fa.nii.gz')\n",
      "md_path = op.join(exp_dir, 'md.nii.gz')\n",
      "msk_path = op.join(exp_dir, 'mask.nii.gz')\n",
      "seg_path = op.join(exp_dir, 'gold_seg.nii.gz')"
     ],
     "language": "python",
     "metadata": {},
     "outputs": []
    },
    {
     "cell_type": "code",
     "collapsed": false,
     "input": [
      "reload(viz)\n",
      "\n",
      "g = viz.jointplot_real(fa_path, md_path, seg_path, msk_path,\n",
      "                       labels=[r'$\\Omega_{Tha}$', r'$\\Omega_{VdGM}$', r'$\\Omega_{bst}$', r'$\\Omega_{WM}$',\n",
      "                               r'$\\Omega_{cbGM}$', r'$\\Omega_{GM}$', 'do-not-show'],\n",
      "                       xlabel='fractional anisotropy (FA)',\n",
      "                       ylabel='apparent diffusion coefficient (ADC)',\n",
      "                       xlims=(0, 1500), ylims=(600, 1500), out_file='/home/oesteban/Dropbox/My Publications/2015-NeuroImage/supplemental/realdata-model-kde.pdf')"
     ],
     "language": "python",
     "metadata": {},
     "outputs": []
    },
    {
     "cell_type": "code",
     "collapsed": false,
     "input": [
      "import os\n",
      "import os.path as op\n",
      "from pyacwereg import viz\n",
      "import pandas as pd"
     ],
     "language": "python",
     "metadata": {},
     "outputs": []
    },
    {
     "cell_type": "code",
     "collapsed": false,
     "input": [
      "exp_dir = '/scr/data/Neuro-Databases/TMI2014/experiments/NeuroImage2/REGSEG/_bmap_id_001_subject_id_HCP100307/ACWERegistration'\n",
      "df, data = parse_log(op.join(exp_dir, 'regseg.log'))"
     ],
     "language": "python",
     "metadata": {},
     "outputs": []
    },
    {
     "cell_type": "code",
     "collapsed": false,
     "input": [
      "exp_dir = op.join( os.getenv('NEURO_DATA_HOME', os.getenv('HOME')), 'MRM2014', 'tmp_tmi', 'HCP_MRM2014')\n",
      "exp_dir = '/home/oesteban/tmp/acweregphantom'\n",
      "df, data = parse_log(op.join(exp_dir, 'experimental.log'))"
     ],
     "language": "python",
     "metadata": {},
     "outputs": []
    },
    {
     "cell_type": "code",
     "collapsed": false,
     "input": [
      "levels = data['levels']\n",
      "desc = data['description']"
     ],
     "language": "python",
     "metadata": {},
     "outputs": []
    },
    {
     "cell_type": "code",
     "collapsed": false,
     "input": [
      "for l in levels:\n",
      "    print l[-1]['summary']['stop_msg']"
     ],
     "language": "python",
     "metadata": {},
     "outputs": []
    },
    {
     "cell_type": "code",
     "collapsed": false,
     "input": [
      "import os\n",
      "import os.path as op\n",
      "from pyacwereg.interfaces import acwereg as r\n",
      "exp_dir = '/scr/data/Neuro-Databases/TMI2014/experiments/NeuroImage3/REGSEG/_subject_id_HCP100307/ACWERegistration'\n",
      "# exp_dir = '/media/data/NeuroImage2015/experiments/profiling'\n",
      "intf = r.ACWEReport(in_log=op.join(exp_dir, 'regseg.log'), out_file='/home/oesteban/tmp/realdata.pdf')\n",
      "intf.run()"
     ],
     "language": "python",
     "metadata": {},
     "outputs": []
    },
    {
     "cell_type": "code",
     "collapsed": false,
     "input": [
      "import os\n",
      "import os.path as op\n",
      "from pyacwereg.interfaces import acwereg as r\n",
      "reload(r)\n",
      "\n",
      "exp_dir = '/scr/data/Neuro-Databases/TMI2014/phantom/eclipse'\n",
      "intf = r.ACWEReport(in_log=op.join(exp_dir, 'regseg.log'), out_file='/home/oesteban/tmp/phantom2.pdf')\n",
      "intf.run()"
     ],
     "language": "python",
     "metadata": {},
     "outputs": []
    },
    {
     "cell_type": "code",
     "collapsed": false,
     "input": [
      "import os\n",
      "import os.path as op\n",
      "from pyacwereg.interfaces import acwereg as r\n",
      "reload(r)\n",
      "\n",
      "exp_dir = '/media/data/NeuroImage2015/experiments/profiling'\n",
      "intf = r.ACWEReport(in_log=op.join(exp_dir, 'regseg.log'), out_file='/home/oesteban/tmp/real_msk.pdf')\n",
      "intf.run()"
     ],
     "language": "python",
     "metadata": {},
     "outputs": []
    },
    {
     "cell_type": "code",
     "collapsed": false,
     "input": [
      "import os\n",
      "import os.path as op\n",
      "from pyacwereg import viz\n",
      "\n",
      "exp_dir = '/media/data/NeuroImage2015/phantoms/Experiment001'\n",
      "# exp_dir = '/scr/data/Neuro-Databases/TMI2014/phantom'\n",
      "csv_file = op.join(exp_dir, 'results.csv')"
     ],
     "language": "python",
     "metadata": {},
     "outputs": []
    },
    {
     "cell_type": "code",
     "collapsed": false,
     "input": [
      "from scipy import stats as sst\n",
      "import scipy  \n",
      "import scikits.bootstrap as bootstrap\n",
      "import pandas as pd\n",
      "orig_df = pd.read_csv(csv_file).drop_duplicates(subset=['repetition', 'model_type', 'resolution', 'surf_id'])\n",
      "del orig_df['Unnamed: 0']\n",
      "# df.describe()\n",
      "\n",
      "results = {}\n",
      "\n",
      "for res in ['hi', 'lo']:\n",
      "    df = orig_df[orig_df.resolution == res]\n",
      "    resval = 2.0 if res == 'lo' else 1.0\n",
      "    \n",
      "    results[res] = { 'aggregated': {}}\n",
      "    results[res]['aggregated']['normality'] = 'p=%g' % sst.shapiro(df.surfdist_avg)[1]\n",
      "    results[res]['aggregated']['accuracy'] = 'p=%g' % sst.wilcoxon(df.surfdist_avg - resval)[1]\n",
      "    results[res]['aggregated']['cohens_d'] = df.surfdist_avg.mean() / df.surfdist_avg.std()\n",
      "    results[res]['aggregated']['CI0'], results[res]['aggregated']['CI1'] = bootstrap.ci(data=df.surfdist_avg, statfunction=scipy.median)\n",
      "    \n",
      "    for t in ['gyrus', 'ball', 'L', 'box']:\n",
      "        results[res][t] = {}\n",
      "        ndf = df[df.model_type == t]\n",
      "        sig = (.001 / len(ndf.surfdist_avg))\n",
      "\n",
      "        normtest = sst.shapiro(ndf.surfdist_avg)[1]\n",
      "        results[res][t]['normality'] = 'p=%g' % normtest\n",
      "        \n",
      "        rstest = sst.wilcoxon(ndf.surfdist_avg - resval)[1]\n",
      "        results[res][t]['accuracy'] = 'p=%g' % rstest\n",
      "        results[res][t]['cohens_d'] = ndf.surfdist_avg.mean() / ndf.surfdist_avg.std()\n",
      "        results[res][t]['CI0'], results[res][t]['CI1'] = bootstrap.ci(data=ndf.surfdist_avg, statfunction=scipy.median)\n",
      "\n",
      "        \n",
      "resdf_hi = pd.DataFrame(results['hi'])\n",
      "resdf_low = pd.DataFrame(results['lo'])\n",
      "resdf_low"
     ],
     "language": "python",
     "metadata": {},
     "outputs": []
    },
    {
     "cell_type": "code",
     "collapsed": false,
     "input": [
      "resdf_hi"
     ],
     "language": "python",
     "metadata": {},
     "outputs": []
    },
    {
     "cell_type": "code",
     "collapsed": false,
     "input": [
      "import os\n",
      "import os.path as op\n",
      "from pyacwereg import viz\n",
      "\n",
      "exp_dir = '/media/data/NeuroImage2015/phantoms/Experiment001'\n",
      "# exp_dir = '/scr/data/Neuro-Databases/TMI2014/phantom'\n",
      "csv_file = op.join(exp_dir, 'results.csv')\n",
      "reload(viz)\n",
      "g2 = viz.phantom_errors(csv_file, out_file='/home/oesteban/Dropbox/My Publications/2015-NeuroImage/figures/figure03-c.pdf')"
     ],
     "language": "python",
     "metadata": {},
     "outputs": []
    },
    {
     "cell_type": "code",
     "collapsed": false,
     "input": [
      "from glob import glob\n",
      "from pyacwereg import viz\n",
      "import os.path as op\n",
      "from pyacwereg.interfaces import utility as piu\n",
      "\n",
      "exp_dir = '/scr/data/Neuro-Databases/TMI2014/experiments/NeuroImage3/_subject_id_HCP100307/ExportREGSEG'\n",
      "files = sorted(glob(op.join(exp_dir, '*.png')))\n"
     ],
     "language": "python",
     "metadata": {},
     "outputs": []
    },
    {
     "cell_type": "code",
     "collapsed": false,
     "input": [
      "reload(piu)\n",
      "\n",
      "f = piu.TileSlicesGrid()\n",
      "f.inputs.in_reference = ['/home/oesteban/tmp/slices_gridplot0.pdf', '/home/oesteban/tmp/slices_gridplot1.pdf']\n",
      "f.inputs.in_competing = ['/home/oesteban/tmp/slices_gridplot1.pdf', '/home/oesteban/tmp/slices_gridplot0.pdf']\n",
      "print f.cmdline"
     ],
     "language": "python",
     "metadata": {},
     "outputs": []
    },
    {
     "cell_type": "code",
     "collapsed": false,
     "input": [
      "reload(viz)\n",
      "# g = viz.slices_gridplot(files, size=(5, 5), discard=2, view=['axial', 'coronal', 'sagittal'])\n",
      "g = viz.slices_gridplot(files, slices=[38, 48, 57, 67, 76, 86], view='sagittal', label='regseg')"
     ],
     "language": "python",
     "metadata": {},
     "outputs": []
    },
    {
     "cell_type": "code",
     "collapsed": false,
     "input": [
      "reload(piu)\n",
      "\n",
      "f = piu.SlicesGridplot()\n",
      "f.inputs.in_files = files\n",
      "f.inputs.slices = [38, 48, 57, 67, 76, 86]\n",
      "f.inputs.out_file = '/home/oesteban/tmp/slices_gridplot'\n",
      "f.inputs.label = ['regseg', 'regseg']\n",
      "f.inputs.view = ['axial', 'sagittal']\n",
      "r = f.run()\n",
      "print r.outputs"
     ],
     "language": "python",
     "metadata": {},
     "outputs": []
    },
    {
     "cell_type": "code",
     "collapsed": false,
     "input": [
      "import os\n",
      "import os.path as op\n",
      "from pyacwereg import viz\n",
      "import pandas as pd\n",
      "\n",
      "exp_dir = '/scr/data/Neuro-Databases/TMI2014/experiments'\n",
      "\n",
      "df = pd.concat([pd.read_csv(op.join(exp_dir, f)) for f in ['NeuroImage3/results.csv', 'NeuroImage3Ceo/results.csv']])\n",
      "# df = pd.concat([pd.read_csv(op.join(exp_dir, f)) for f in ['NeuroImage3/results.csv']])\n",
      "df = df.drop_duplicates(subset=['subject_id', 'method']).reset_index(drop=True)\n",
      "del df['Unnamed: 0']\n",
      "\n",
      "csv_file = op.join(exp_dir, 'aggregate.csv')\n",
      "\n",
      "df.to_csv(csv_file)"
     ],
     "language": "python",
     "metadata": {},
     "outputs": []
    },
    {
     "cell_type": "code",
     "collapsed": false,
     "input": [
      "import scipy  \n",
      "import scikits.bootstrap as bootstrap\n",
      "from scipy import stats as sst\n",
      "\n",
      "regsegdf = df[df.method=='REGSEG'].reset_index(drop=True)\n",
      "t2bdf = df[df.method=='T2B'].reset_index(drop=True)\n",
      "\n",
      "for i in range(6):\n",
      "    rgsCIs = bootstrap.ci(data=regsegdf['surf_dist_%d' % i], statfunction=scipy.mean)\n",
      "    t2bCIs = bootstrap.ci(data=t2bdf['surf_dist_%d' % i], statfunction=scipy.mean)\n",
      "    f_val, p_val = sst.f_oneway(regsegdf['surf_dist_%d' % i], t2bdf['surf_dist_%d' % i])\n",
      "    \n",
      "    print 'regseg CI Surf %d = [ %.2f - %.2f]' % (i, rgsCIs[0], rgsCIs[1])\n",
      "    print 't2b CI Surf %d = [ %.2f - %.2f]' % (i, t2bCIs[0], t2bCIs[1])\n",
      "    print 'ANOVA f-stat, p-value = (%.2f/%.2g)' % (f_val, p_val)\n",
      "    \n",
      "    f_val, p_val = sst.kruskal(regsegdf['surf_dist_%d' % i], t2bdf['surf_dist_%d' % i])\n",
      "    print 'KW H-test H-stat, p-value = (%.2f/%.2g)' % (f_val, p_val)\n",
      "\n",
      "rgsCIs = bootstrap.ci(data=regsegdf[['surf_dist_1','surf_dist_3', 'surf_dist_5']].values.reshape(-1), statfunction=scipy.mean)\n",
      "t2bCIs = bootstrap.ci(data=t2bdf[['surf_dist_1','surf_dist_3', 'surf_dist_5']].values.reshape(-1), statfunction=scipy.mean)\n",
      "f_val, p_val = sst.f_oneway(regsegdf[['surf_dist_1','surf_dist_3', 'surf_dist_5']].values.reshape(-1), t2bdf[['surf_dist_1','surf_dist_3', 'surf_dist_5']].values.reshape(-1))\n",
      "    \n",
      "print 'regseg CI aggregated = [ %.2f - %.2f]' % (rgsCIs[0], rgsCIs[1])\n",
      "print 't2b CI aggregated = [ %.2f - %.2f]' % (t2bCIs[0], t2bCIs[1])\n",
      "print 'ANOVA f-stat, p-value = (%.2f/%.2g)' % (f_val, p_val)\n",
      "\n",
      "f_val, p_val = sst.kruskal(regsegdf[['surf_dist_1','surf_dist_3', 'surf_dist_5']].values.reshape(-1), t2bdf[['surf_dist_1','surf_dist_3', 'surf_dist_5']].values.reshape(-1))\n",
      "print 'KW H-test H-stat, p-value = (%.2f/%.2g)' % (f_val, p_val)"
     ],
     "language": "python",
     "metadata": {},
     "outputs": []
    },
    {
     "cell_type": "code",
     "collapsed": false,
     "input": [
      "reload(viz)\n",
      "viz.realdata_errors(csv_file, out_file='/home/oesteban/Dropbox/My Publications/2015-NeuroImage/figures/figure05-b.pdf')"
     ],
     "language": "python",
     "metadata": {},
     "outputs": []
    },
    {
     "cell_type": "code",
     "collapsed": false,
     "input": [],
     "language": "python",
     "metadata": {},
     "outputs": []
    }
   ],
   "metadata": {}
  }
 ]
}