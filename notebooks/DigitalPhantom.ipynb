{
 "metadata": {
  "name": "DigitalPhantom"
 },
 "nbformat": 3,
 "nbformat_minor": 0,
 "worksheets": [
  {
   "cells": [
    {
     "cell_type": "code",
     "collapsed": false,
     "input": [
      "import numpy as np\n",
      "import nibabel as nib\n",
      "from tvtk.api import tvtk\n",
      "import datetime as dt\n",
      "import os\n",
      "import os.path as op\n",
      "\n",
      "from scipy.ndimage import label\n",
      "\n",
      "import nipype.pipeline.engine as pe          # pypeline engine\n",
      "import nipype.interfaces.freesurfer as fs\n",
      "import nipype.interfaces.utility as niu\n",
      "import nipype.interfaces.io as nio\n",
      "\n",
      "import sys\n",
      "sys.path.append('/home/oesteban/workspace/ACWE-Reg/Scripts/utils')\n",
      "sys.path.append('/home/oesteban/workspace/ACWE-Reg/Scripts/workflows')\n",
      "\n",
      "\n",
      "import dmri as dmri\n",
      "import fsb_transform as fsbt"
     ],
     "language": "python",
     "metadata": {},
     "outputs": [],
     "prompt_number": 1
    },
    {
     "cell_type": "code",
     "collapsed": false,
     "input": [
      "root_dir='/home/oesteban/workspace/ACWE-Reg/'\n",
      "data_dir= op.join( root_dir, 'Data' )\n",
      "mname = 'DigitalPhantomISBI'\n",
      "model_dir = op.join( data_dir, mname )\n",
      "tpms_dir = op.join( model_dir, 'tpms' )\n",
      "\n",
      "working_dir= op.join( root_dir, 'temp', mname )\n",
      "\n",
      "if not op.exists( working_dir ):\n",
      "    os.makedirs( working_dir )"
     ],
     "language": "python",
     "metadata": {},
     "outputs": [],
     "prompt_number": 2
    },
    {
     "cell_type": "markdown",
     "metadata": {},
     "source": [
      "<h1>Distortion of dMRI using the inverse fieldmap technique</h1>\n",
      "Procedure:\n",
      "<ol>\n",
      "    <li>Create map with range [0..2&pi;]</li>\n",
      "    <li>Phase unwrap (prelude)</li>\n",
      "    <li>Convert to rad/sec</li>\n",
      "    <li>Subtract median</li>\n",
      "    <li>Create VSM (voxel shift map)</li>\n",
      "    <li>(Optional) Smooth VSM</li>\n",
      "    <li>(Optional) demean VSM</li>\n",
      "    <li>Distort image (apply forward map in fugue)</li>\n",
      "</ol>"
     ]
    },
    {
     "cell_type": "code",
     "collapsed": false,
     "input": [
      "te_incr = 2.46e-3 # secs\n",
      "dwell_time = 0.77e-3 # secs\n",
      "snr_list = [ 'no-noise', 'SNR-10', 'SNR-20', 'SNR-30' ]\n",
      "maskfile = op.join( model_dir, 'signal_mask.nii.gz' )\n",
      "directions = [ 'y', 'y-' ]\n",
      "#dwifile = op.join( model_dir, 'DWIS_dti-scheme_no-noise.nii.gz' )\n",
      "\n",
      "for snr in snr_list:\n",
      "    for edir in directions:\n",
      "        dwifile = op.join( model_dir, 'DWIS_dti-scheme_%s.nii.gz' % snr )\n",
      "        wf = dmri.distortion_workflow(name='SynthSuscept_%s_%s' % (snr,edir) )\n",
      "        wf.base_dir = working_dir\n",
      "    \n",
      "        wf.inputs.inputnode.in_file = dwifile\n",
      "        wf.inputs.inputnode.in_mask = maskfile\n",
      "        wf.inputs.inputnode.te_incr = te_incr\n",
      "        wf.inputs.inputnode.echospacing = dwell_time\n",
      "        wf.inputs.inputnode.encoding_direction = edir\n",
      "    \n",
      "        wf.run()"
     ],
     "language": "python",
     "metadata": {},
     "outputs": [
      {
       "output_type": "stream",
       "stream": "stdout",
       "text": [
        "130918-01:48:03,342 workflow INFO:\n",
        "\t ['check', 'execution', 'logging']\n"
       ]
      },
      {
       "output_type": "stream",
       "stream": "stdout",
       "text": [
        "130918-01:48:03,349 workflow INFO:\n",
        "\t Running serially.\n"
       ]
      },
      {
       "output_type": "stream",
       "stream": "stdout",
       "text": [
        "130918-01:48:03,350 workflow INFO:\n",
        "\t Executing node gen_siemens_PhaseDiffMap in dir: /home/oesteban/workspace/ACWE-Reg/temp/DigitalPhantomISBI/SynthSuscept_no-noise/gen_siemens_PhaseDiffMap\n"
       ]
      },
      {
       "output_type": "stream",
       "stream": "stdout",
       "text": [
        "130918-01:48:03,350 workflow INFO:\n",
        "\t Collecting precomputed outputs\n"
       ]
      },
      {
       "output_type": "stream",
       "stream": "stdout",
       "text": [
        "130918-01:48:03,353 workflow INFO:\n",
        "\t Executing node fsl_prepare_fieldmap in dir: /home/oesteban/workspace/ACWE-Reg/temp/DigitalPhantomISBI/SynthSuscept_no-noise/fsl_prepare_fieldmap\n"
       ]
      },
      {
       "output_type": "stream",
       "stream": "stdout",
       "text": [
        "130918-01:48:03,354 workflow INFO:\n",
        "\t Collecting precomputed outputs\n"
       ]
      },
      {
       "output_type": "stream",
       "stream": "stdout",
       "text": [
        "130918-01:48:03,360 workflow INFO:\n",
        "\t Executing node gen_VSM in dir: /home/oesteban/workspace/ACWE-Reg/temp/DigitalPhantomISBI/SynthSuscept_no-noise/gen_VSM\n"
       ]
      },
      {
       "output_type": "stream",
       "stream": "stdout",
       "text": [
        "130918-01:48:03,361 workflow INFO:\n",
        "\t Collecting precomputed outputs\n"
       ]
      },
      {
       "output_type": "stream",
       "stream": "stdout",
       "text": [
        "130918-01:48:03,364 workflow INFO:\n",
        "\t Executing node split_DWI in dir: /home/oesteban/workspace/ACWE-Reg/temp/DigitalPhantomISBI/SynthSuscept_no-noise/Fugue_WarpDWIs/split_DWI\n"
       ]
      },
      {
       "output_type": "stream",
       "stream": "stdout",
       "text": [
        "130918-01:48:03,365 workflow INFO:\n",
        "\t Collecting precomputed outputs\n"
       ]
      },
      {
       "output_type": "stream",
       "stream": "stdout",
       "text": [
        "130918-01:48:03,372 workflow INFO:\n",
        "\t Executing node demean in dir: /home/oesteban/workspace/ACWE-Reg/temp/DigitalPhantomISBI/SynthSuscept_no-noise/demean\n"
       ]
      },
      {
       "output_type": "stream",
       "stream": "stdout",
       "text": [
        "130918-01:48:03,373 workflow INFO:\n",
        "\t Collecting precomputed outputs\n"
       ]
      },
      {
       "output_type": "stream",
       "stream": "stdout",
       "text": [
        "130918-01:48:03,377 workflow INFO:\n",
        "\t Executing node Fugue_WarpMask in dir: /home/oesteban/workspace/ACWE-Reg/temp/DigitalPhantomISBI/SynthSuscept_no-noise/Fugue_WarpMask\n"
       ]
      },
      {
       "output_type": "stream",
       "stream": "stdout",
       "text": [
        "130918-01:48:03,377 workflow INFO:\n",
        "\t Collecting precomputed outputs\n"
       ]
      },
      {
       "output_type": "stream",
       "stream": "stdout",
       "text": [
        "130918-01:48:03,381 workflow INFO:\n",
        "\t Executing node binarize in dir: /home/oesteban/workspace/ACWE-Reg/temp/DigitalPhantomISBI/SynthSuscept_no-noise/binarize\n"
       ]
      },
      {
       "output_type": "stream",
       "stream": "stdout",
       "text": [
        "130918-01:48:03,382 workflow INFO:\n",
        "\t Collecting precomputed outputs\n"
       ]
      },
      {
       "output_type": "stream",
       "stream": "stdout",
       "text": [
        "130918-01:48:03,390 workflow INFO:\n",
        "\t Executing node Fugue_Warp in dir: /home/oesteban/workspace/ACWE-Reg/temp/DigitalPhantomISBI/SynthSuscept_no-noise/Fugue_WarpDWIs/Fugue_Warp\n"
       ]
      },
      {
       "output_type": "stream",
       "stream": "stdout",
       "text": [
        "130918-01:48:03,395 workflow INFO:\n",
        "\t Executing node _Fugue_Warp0 in dir: /home/oesteban/workspace/ACWE-Reg/temp/DigitalPhantomISBI/SynthSuscept_no-noise/Fugue_WarpDWIs/Fugue_Warp/mapflow/_Fugue_Warp0\n"
       ]
      },
      {
       "output_type": "stream",
       "stream": "stdout",
       "text": [
        "130918-01:48:03,398 workflow INFO:\n",
        "\t Running: fugue --in=/home/oesteban/workspace/ACWE-Reg/temp/DigitalPhantomISBI/SynthSuscept_no-noise/Fugue_WarpDWIs/split_DWI/DWIS_dti-scheme_no-noise_000.nii.gz --mask=/home/oesteban/workspace/ACWE-Reg/Data/DigitalPhantomISBI/signal_mask.nii.gz --loadshift=/home/oesteban/workspace/ACWE-Reg/temp/DigitalPhantomISBI/SynthSuscept_no-noise/demean/signal_mask_vsm_demeaned.nii.gz --unwarpdir=y- --warp=/home/oesteban/workspace/ACWE-Reg/temp/DigitalPhantomISBI/SynthSuscept_no-noise/Fugue_WarpDWIs/Fugue_Warp/mapflow/_Fugue_Warp0/DWIS_dti-scheme_no-noise_000_warped.nii.gz\n"
       ]
      },
      {
       "output_type": "stream",
       "stream": "stdout",
       "text": [
        "130918-01:48:07,277 workflow INFO:\n",
        "\t Executing node _Fugue_Warp1 in dir: /home/oesteban/workspace/ACWE-Reg/temp/DigitalPhantomISBI/SynthSuscept_no-noise/Fugue_WarpDWIs/Fugue_Warp/mapflow/_Fugue_Warp1\n"
       ]
      },
      {
       "output_type": "stream",
       "stream": "stdout",
       "text": [
        "130918-01:48:07,281 workflow INFO:\n",
        "\t Running: fugue --in=/home/oesteban/workspace/ACWE-Reg/temp/DigitalPhantomISBI/SynthSuscept_no-noise/Fugue_WarpDWIs/split_DWI/DWIS_dti-scheme_no-noise_001.nii.gz --mask=/home/oesteban/workspace/ACWE-Reg/Data/DigitalPhantomISBI/signal_mask.nii.gz --loadshift=/home/oesteban/workspace/ACWE-Reg/temp/DigitalPhantomISBI/SynthSuscept_no-noise/demean/signal_mask_vsm_demeaned.nii.gz --unwarpdir=y- --warp=/home/oesteban/workspace/ACWE-Reg/temp/DigitalPhantomISBI/SynthSuscept_no-noise/Fugue_WarpDWIs/Fugue_Warp/mapflow/_Fugue_Warp1/DWIS_dti-scheme_no-noise_001_warped.nii.gz\n"
       ]
      },
      {
       "output_type": "stream",
       "stream": "stdout",
       "text": [
        "130918-01:48:11,172 workflow INFO:\n",
        "\t Executing node _Fugue_Warp2 in dir: /home/oesteban/workspace/ACWE-Reg/temp/DigitalPhantomISBI/SynthSuscept_no-noise/Fugue_WarpDWIs/Fugue_Warp/mapflow/_Fugue_Warp2\n"
       ]
      },
      {
       "output_type": "stream",
       "stream": "stdout",
       "text": [
        "130918-01:48:11,177 workflow INFO:\n",
        "\t Running: fugue --in=/home/oesteban/workspace/ACWE-Reg/temp/DigitalPhantomISBI/SynthSuscept_no-noise/Fugue_WarpDWIs/split_DWI/DWIS_dti-scheme_no-noise_002.nii.gz --mask=/home/oesteban/workspace/ACWE-Reg/Data/DigitalPhantomISBI/signal_mask.nii.gz --loadshift=/home/oesteban/workspace/ACWE-Reg/temp/DigitalPhantomISBI/SynthSuscept_no-noise/demean/signal_mask_vsm_demeaned.nii.gz --unwarpdir=y- --warp=/home/oesteban/workspace/ACWE-Reg/temp/DigitalPhantomISBI/SynthSuscept_no-noise/Fugue_WarpDWIs/Fugue_Warp/mapflow/_Fugue_Warp2/DWIS_dti-scheme_no-noise_002_warped.nii.gz\n"
       ]
      },
      {
       "output_type": "stream",
       "stream": "stdout",
       "text": [
        "130918-01:48:15,52 workflow INFO:\n",
        "\t Executing node _Fugue_Warp3 in dir: /home/oesteban/workspace/ACWE-Reg/temp/DigitalPhantomISBI/SynthSuscept_no-noise/Fugue_WarpDWIs/Fugue_Warp/mapflow/_Fugue_Warp3\n"
       ]
      },
      {
       "output_type": "stream",
       "stream": "stdout",
       "text": [
        "130918-01:48:15,56 workflow INFO:\n",
        "\t Running: fugue --in=/home/oesteban/workspace/ACWE-Reg/temp/DigitalPhantomISBI/SynthSuscept_no-noise/Fugue_WarpDWIs/split_DWI/DWIS_dti-scheme_no-noise_003.nii.gz --mask=/home/oesteban/workspace/ACWE-Reg/Data/DigitalPhantomISBI/signal_mask.nii.gz --loadshift=/home/oesteban/workspace/ACWE-Reg/temp/DigitalPhantomISBI/SynthSuscept_no-noise/demean/signal_mask_vsm_demeaned.nii.gz --unwarpdir=y- --warp=/home/oesteban/workspace/ACWE-Reg/temp/DigitalPhantomISBI/SynthSuscept_no-noise/Fugue_WarpDWIs/Fugue_Warp/mapflow/_Fugue_Warp3/DWIS_dti-scheme_no-noise_003_warped.nii.gz\n"
       ]
      },
      {
       "output_type": "stream",
       "stream": "stdout",
       "text": [
        "130918-01:48:18,955 workflow INFO:\n",
        "\t Executing node _Fugue_Warp4 in dir: /home/oesteban/workspace/ACWE-Reg/temp/DigitalPhantomISBI/SynthSuscept_no-noise/Fugue_WarpDWIs/Fugue_Warp/mapflow/_Fugue_Warp4\n"
       ]
      },
      {
       "output_type": "stream",
       "stream": "stdout",
       "text": [
        "130918-01:48:18,962 workflow INFO:\n",
        "\t Running: fugue --in=/home/oesteban/workspace/ACWE-Reg/temp/DigitalPhantomISBI/SynthSuscept_no-noise/Fugue_WarpDWIs/split_DWI/DWIS_dti-scheme_no-noise_004.nii.gz --mask=/home/oesteban/workspace/ACWE-Reg/Data/DigitalPhantomISBI/signal_mask.nii.gz --loadshift=/home/oesteban/workspace/ACWE-Reg/temp/DigitalPhantomISBI/SynthSuscept_no-noise/demean/signal_mask_vsm_demeaned.nii.gz --unwarpdir=y- --warp=/home/oesteban/workspace/ACWE-Reg/temp/DigitalPhantomISBI/SynthSuscept_no-noise/Fugue_WarpDWIs/Fugue_Warp/mapflow/_Fugue_Warp4/DWIS_dti-scheme_no-noise_004_warped.nii.gz\n"
       ]
      },
      {
       "output_type": "stream",
       "stream": "stdout",
       "text": [
        "130918-01:48:22,848 workflow INFO:\n",
        "\t Executing node _Fugue_Warp5 in dir: /home/oesteban/workspace/ACWE-Reg/temp/DigitalPhantomISBI/SynthSuscept_no-noise/Fugue_WarpDWIs/Fugue_Warp/mapflow/_Fugue_Warp5\n"
       ]
      },
      {
       "output_type": "stream",
       "stream": "stdout",
       "text": [
        "130918-01:48:22,853 workflow INFO:\n",
        "\t Running: fugue --in=/home/oesteban/workspace/ACWE-Reg/temp/DigitalPhantomISBI/SynthSuscept_no-noise/Fugue_WarpDWIs/split_DWI/DWIS_dti-scheme_no-noise_005.nii.gz --mask=/home/oesteban/workspace/ACWE-Reg/Data/DigitalPhantomISBI/signal_mask.nii.gz --loadshift=/home/oesteban/workspace/ACWE-Reg/temp/DigitalPhantomISBI/SynthSuscept_no-noise/demean/signal_mask_vsm_demeaned.nii.gz --unwarpdir=y- --warp=/home/oesteban/workspace/ACWE-Reg/temp/DigitalPhantomISBI/SynthSuscept_no-noise/Fugue_WarpDWIs/Fugue_Warp/mapflow/_Fugue_Warp5/DWIS_dti-scheme_no-noise_005_warped.nii.gz\n"
       ]
      },
      {
       "output_type": "stream",
       "stream": "stdout",
       "text": [
        "130918-01:48:26,743 workflow INFO:\n",
        "\t Executing node _Fugue_Warp6 in dir: /home/oesteban/workspace/ACWE-Reg/temp/DigitalPhantomISBI/SynthSuscept_no-noise/Fugue_WarpDWIs/Fugue_Warp/mapflow/_Fugue_Warp6\n"
       ]
      },
      {
       "output_type": "stream",
       "stream": "stdout",
       "text": [
        "130918-01:48:26,750 workflow INFO:\n",
        "\t Running: fugue --in=/home/oesteban/workspace/ACWE-Reg/temp/DigitalPhantomISBI/SynthSuscept_no-noise/Fugue_WarpDWIs/split_DWI/DWIS_dti-scheme_no-noise_006.nii.gz --mask=/home/oesteban/workspace/ACWE-Reg/Data/DigitalPhantomISBI/signal_mask.nii.gz --loadshift=/home/oesteban/workspace/ACWE-Reg/temp/DigitalPhantomISBI/SynthSuscept_no-noise/demean/signal_mask_vsm_demeaned.nii.gz --unwarpdir=y- --warp=/home/oesteban/workspace/ACWE-Reg/temp/DigitalPhantomISBI/SynthSuscept_no-noise/Fugue_WarpDWIs/Fugue_Warp/mapflow/_Fugue_Warp6/DWIS_dti-scheme_no-noise_006_warped.nii.gz\n"
       ]
      },
      {
       "output_type": "stream",
       "stream": "stdout",
       "text": [
        "130918-01:48:30,651 workflow INFO:\n",
        "\t Executing node _Fugue_Warp7 in dir: /home/oesteban/workspace/ACWE-Reg/temp/DigitalPhantomISBI/SynthSuscept_no-noise/Fugue_WarpDWIs/Fugue_Warp/mapflow/_Fugue_Warp7\n"
       ]
      },
      {
       "output_type": "stream",
       "stream": "stdout",
       "text": [
        "130918-01:48:30,655 workflow INFO:\n",
        "\t Running: fugue --in=/home/oesteban/workspace/ACWE-Reg/temp/DigitalPhantomISBI/SynthSuscept_no-noise/Fugue_WarpDWIs/split_DWI/DWIS_dti-scheme_no-noise_007.nii.gz --mask=/home/oesteban/workspace/ACWE-Reg/Data/DigitalPhantomISBI/signal_mask.nii.gz --loadshift=/home/oesteban/workspace/ACWE-Reg/temp/DigitalPhantomISBI/SynthSuscept_no-noise/demean/signal_mask_vsm_demeaned.nii.gz --unwarpdir=y- --warp=/home/oesteban/workspace/ACWE-Reg/temp/DigitalPhantomISBI/SynthSuscept_no-noise/Fugue_WarpDWIs/Fugue_Warp/mapflow/_Fugue_Warp7/DWIS_dti-scheme_no-noise_007_warped.nii.gz\n"
       ]
      },
      {
       "output_type": "stream",
       "stream": "stdout",
       "text": [
        "130918-01:48:34,559 workflow INFO:\n",
        "\t Executing node _Fugue_Warp8 in dir: /home/oesteban/workspace/ACWE-Reg/temp/DigitalPhantomISBI/SynthSuscept_no-noise/Fugue_WarpDWIs/Fugue_Warp/mapflow/_Fugue_Warp8\n"
       ]
      },
      {
       "output_type": "stream",
       "stream": "stdout",
       "text": [
        "130918-01:48:34,565 workflow INFO:\n",
        "\t Running: fugue --in=/home/oesteban/workspace/ACWE-Reg/temp/DigitalPhantomISBI/SynthSuscept_no-noise/Fugue_WarpDWIs/split_DWI/DWIS_dti-scheme_no-noise_008.nii.gz --mask=/home/oesteban/workspace/ACWE-Reg/Data/DigitalPhantomISBI/signal_mask.nii.gz --loadshift=/home/oesteban/workspace/ACWE-Reg/temp/DigitalPhantomISBI/SynthSuscept_no-noise/demean/signal_mask_vsm_demeaned.nii.gz --unwarpdir=y- --warp=/home/oesteban/workspace/ACWE-Reg/temp/DigitalPhantomISBI/SynthSuscept_no-noise/Fugue_WarpDWIs/Fugue_Warp/mapflow/_Fugue_Warp8/DWIS_dti-scheme_no-noise_008_warped.nii.gz\n"
       ]
      },
      {
       "output_type": "stream",
       "stream": "stdout",
       "text": [
        "130918-01:48:38,454 workflow INFO:\n",
        "\t Executing node _Fugue_Warp9 in dir: /home/oesteban/workspace/ACWE-Reg/temp/DigitalPhantomISBI/SynthSuscept_no-noise/Fugue_WarpDWIs/Fugue_Warp/mapflow/_Fugue_Warp9\n"
       ]
      },
      {
       "output_type": "stream",
       "stream": "stdout",
       "text": [
        "130918-01:48:38,461 workflow INFO:\n",
        "\t Running: fugue --in=/home/oesteban/workspace/ACWE-Reg/temp/DigitalPhantomISBI/SynthSuscept_no-noise/Fugue_WarpDWIs/split_DWI/DWIS_dti-scheme_no-noise_009.nii.gz --mask=/home/oesteban/workspace/ACWE-Reg/Data/DigitalPhantomISBI/signal_mask.nii.gz --loadshift=/home/oesteban/workspace/ACWE-Reg/temp/DigitalPhantomISBI/SynthSuscept_no-noise/demean/signal_mask_vsm_demeaned.nii.gz --unwarpdir=y- --warp=/home/oesteban/workspace/ACWE-Reg/temp/DigitalPhantomISBI/SynthSuscept_no-noise/Fugue_WarpDWIs/Fugue_Warp/mapflow/_Fugue_Warp9/DWIS_dti-scheme_no-noise_009_warped.nii.gz\n"
       ]
      },
      {
       "output_type": "stream",
       "stream": "stdout",
       "text": [
        "130918-01:48:42,351 workflow INFO:\n",
        "\t Executing node _Fugue_Warp10 in dir: /home/oesteban/workspace/ACWE-Reg/temp/DigitalPhantomISBI/SynthSuscept_no-noise/Fugue_WarpDWIs/Fugue_Warp/mapflow/_Fugue_Warp10\n"
       ]
      },
      {
       "output_type": "stream",
       "stream": "stdout",
       "text": [
        "130918-01:48:42,358 workflow INFO:\n",
        "\t Running: fugue --in=/home/oesteban/workspace/ACWE-Reg/temp/DigitalPhantomISBI/SynthSuscept_no-noise/Fugue_WarpDWIs/split_DWI/DWIS_dti-scheme_no-noise_010.nii.gz --mask=/home/oesteban/workspace/ACWE-Reg/Data/DigitalPhantomISBI/signal_mask.nii.gz --loadshift=/home/oesteban/workspace/ACWE-Reg/temp/DigitalPhantomISBI/SynthSuscept_no-noise/demean/signal_mask_vsm_demeaned.nii.gz --unwarpdir=y- --warp=/home/oesteban/workspace/ACWE-Reg/temp/DigitalPhantomISBI/SynthSuscept_no-noise/Fugue_WarpDWIs/Fugue_Warp/mapflow/_Fugue_Warp10/DWIS_dti-scheme_no-noise_010_warped.nii.gz\n"
       ]
      },
      {
       "output_type": "stream",
       "stream": "stdout",
       "text": [
        "130918-01:48:46,245 workflow INFO:\n",
        "\t Executing node _Fugue_Warp11 in dir: /home/oesteban/workspace/ACWE-Reg/temp/DigitalPhantomISBI/SynthSuscept_no-noise/Fugue_WarpDWIs/Fugue_Warp/mapflow/_Fugue_Warp11\n"
       ]
      },
      {
       "output_type": "stream",
       "stream": "stdout",
       "text": [
        "130918-01:48:46,252 workflow INFO:\n",
        "\t Running: fugue --in=/home/oesteban/workspace/ACWE-Reg/temp/DigitalPhantomISBI/SynthSuscept_no-noise/Fugue_WarpDWIs/split_DWI/DWIS_dti-scheme_no-noise_011.nii.gz --mask=/home/oesteban/workspace/ACWE-Reg/Data/DigitalPhantomISBI/signal_mask.nii.gz --loadshift=/home/oesteban/workspace/ACWE-Reg/temp/DigitalPhantomISBI/SynthSuscept_no-noise/demean/signal_mask_vsm_demeaned.nii.gz --unwarpdir=y- --warp=/home/oesteban/workspace/ACWE-Reg/temp/DigitalPhantomISBI/SynthSuscept_no-noise/Fugue_WarpDWIs/Fugue_Warp/mapflow/_Fugue_Warp11/DWIS_dti-scheme_no-noise_011_warped.nii.gz\n"
       ]
      },
      {
       "output_type": "stream",
       "stream": "stdout",
       "text": [
        "130918-01:48:50,124 workflow INFO:\n",
        "\t Executing node _Fugue_Warp12 in dir: /home/oesteban/workspace/ACWE-Reg/temp/DigitalPhantomISBI/SynthSuscept_no-noise/Fugue_WarpDWIs/Fugue_Warp/mapflow/_Fugue_Warp12\n"
       ]
      },
      {
       "output_type": "stream",
       "stream": "stdout",
       "text": [
        "130918-01:48:50,129 workflow INFO:\n",
        "\t Running: fugue --in=/home/oesteban/workspace/ACWE-Reg/temp/DigitalPhantomISBI/SynthSuscept_no-noise/Fugue_WarpDWIs/split_DWI/DWIS_dti-scheme_no-noise_012.nii.gz --mask=/home/oesteban/workspace/ACWE-Reg/Data/DigitalPhantomISBI/signal_mask.nii.gz --loadshift=/home/oesteban/workspace/ACWE-Reg/temp/DigitalPhantomISBI/SynthSuscept_no-noise/demean/signal_mask_vsm_demeaned.nii.gz --unwarpdir=y- --warp=/home/oesteban/workspace/ACWE-Reg/temp/DigitalPhantomISBI/SynthSuscept_no-noise/Fugue_WarpDWIs/Fugue_Warp/mapflow/_Fugue_Warp12/DWIS_dti-scheme_no-noise_012_warped.nii.gz\n"
       ]
      },
      {
       "output_type": "stream",
       "stream": "stdout",
       "text": [
        "130918-01:48:54,11 workflow INFO:\n",
        "\t Executing node _Fugue_Warp13 in dir: /home/oesteban/workspace/ACWE-Reg/temp/DigitalPhantomISBI/SynthSuscept_no-noise/Fugue_WarpDWIs/Fugue_Warp/mapflow/_Fugue_Warp13\n"
       ]
      },
      {
       "output_type": "stream",
       "stream": "stdout",
       "text": [
        "130918-01:48:54,17 workflow INFO:\n",
        "\t Running: fugue --in=/home/oesteban/workspace/ACWE-Reg/temp/DigitalPhantomISBI/SynthSuscept_no-noise/Fugue_WarpDWIs/split_DWI/DWIS_dti-scheme_no-noise_013.nii.gz --mask=/home/oesteban/workspace/ACWE-Reg/Data/DigitalPhantomISBI/signal_mask.nii.gz --loadshift=/home/oesteban/workspace/ACWE-Reg/temp/DigitalPhantomISBI/SynthSuscept_no-noise/demean/signal_mask_vsm_demeaned.nii.gz --unwarpdir=y- --warp=/home/oesteban/workspace/ACWE-Reg/temp/DigitalPhantomISBI/SynthSuscept_no-noise/Fugue_WarpDWIs/Fugue_Warp/mapflow/_Fugue_Warp13/DWIS_dti-scheme_no-noise_013_warped.nii.gz\n"
       ]
      },
      {
       "output_type": "stream",
       "stream": "stdout",
       "text": [
        "130918-01:48:57,904 workflow INFO:\n",
        "\t Executing node _Fugue_Warp14 in dir: /home/oesteban/workspace/ACWE-Reg/temp/DigitalPhantomISBI/SynthSuscept_no-noise/Fugue_WarpDWIs/Fugue_Warp/mapflow/_Fugue_Warp14\n"
       ]
      },
      {
       "output_type": "stream",
       "stream": "stdout",
       "text": [
        "130918-01:48:57,908 workflow INFO:\n",
        "\t Running: fugue --in=/home/oesteban/workspace/ACWE-Reg/temp/DigitalPhantomISBI/SynthSuscept_no-noise/Fugue_WarpDWIs/split_DWI/DWIS_dti-scheme_no-noise_014.nii.gz --mask=/home/oesteban/workspace/ACWE-Reg/Data/DigitalPhantomISBI/signal_mask.nii.gz --loadshift=/home/oesteban/workspace/ACWE-Reg/temp/DigitalPhantomISBI/SynthSuscept_no-noise/demean/signal_mask_vsm_demeaned.nii.gz --unwarpdir=y- --warp=/home/oesteban/workspace/ACWE-Reg/temp/DigitalPhantomISBI/SynthSuscept_no-noise/Fugue_WarpDWIs/Fugue_Warp/mapflow/_Fugue_Warp14/DWIS_dti-scheme_no-noise_014_warped.nii.gz\n"
       ]
      },
      {
       "output_type": "stream",
       "stream": "stdout",
       "text": [
        "130918-01:49:01,795 workflow INFO:\n",
        "\t Executing node _Fugue_Warp15 in dir: /home/oesteban/workspace/ACWE-Reg/temp/DigitalPhantomISBI/SynthSuscept_no-noise/Fugue_WarpDWIs/Fugue_Warp/mapflow/_Fugue_Warp15\n"
       ]
      },
      {
       "output_type": "stream",
       "stream": "stdout",
       "text": [
        "130918-01:49:01,802 workflow INFO:\n",
        "\t Running: fugue --in=/home/oesteban/workspace/ACWE-Reg/temp/DigitalPhantomISBI/SynthSuscept_no-noise/Fugue_WarpDWIs/split_DWI/DWIS_dti-scheme_no-noise_015.nii.gz --mask=/home/oesteban/workspace/ACWE-Reg/Data/DigitalPhantomISBI/signal_mask.nii.gz --loadshift=/home/oesteban/workspace/ACWE-Reg/temp/DigitalPhantomISBI/SynthSuscept_no-noise/demean/signal_mask_vsm_demeaned.nii.gz --unwarpdir=y- --warp=/home/oesteban/workspace/ACWE-Reg/temp/DigitalPhantomISBI/SynthSuscept_no-noise/Fugue_WarpDWIs/Fugue_Warp/mapflow/_Fugue_Warp15/DWIS_dti-scheme_no-noise_015_warped.nii.gz\n"
       ]
      },
      {
       "output_type": "stream",
       "stream": "stdout",
       "text": [
        "130918-01:49:05,690 workflow INFO:\n",
        "\t Executing node _Fugue_Warp16 in dir: /home/oesteban/workspace/ACWE-Reg/temp/DigitalPhantomISBI/SynthSuscept_no-noise/Fugue_WarpDWIs/Fugue_Warp/mapflow/_Fugue_Warp16\n"
       ]
      },
      {
       "output_type": "stream",
       "stream": "stdout",
       "text": [
        "130918-01:49:05,697 workflow INFO:\n",
        "\t Running: fugue --in=/home/oesteban/workspace/ACWE-Reg/temp/DigitalPhantomISBI/SynthSuscept_no-noise/Fugue_WarpDWIs/split_DWI/DWIS_dti-scheme_no-noise_016.nii.gz --mask=/home/oesteban/workspace/ACWE-Reg/Data/DigitalPhantomISBI/signal_mask.nii.gz --loadshift=/home/oesteban/workspace/ACWE-Reg/temp/DigitalPhantomISBI/SynthSuscept_no-noise/demean/signal_mask_vsm_demeaned.nii.gz --unwarpdir=y- --warp=/home/oesteban/workspace/ACWE-Reg/temp/DigitalPhantomISBI/SynthSuscept_no-noise/Fugue_WarpDWIs/Fugue_Warp/mapflow/_Fugue_Warp16/DWIS_dti-scheme_no-noise_016_warped.nii.gz\n"
       ]
      },
      {
       "output_type": "stream",
       "stream": "stdout",
       "text": [
        "130918-01:49:09,607 workflow INFO:\n",
        "\t Executing node _Fugue_Warp17 in dir: /home/oesteban/workspace/ACWE-Reg/temp/DigitalPhantomISBI/SynthSuscept_no-noise/Fugue_WarpDWIs/Fugue_Warp/mapflow/_Fugue_Warp17\n"
       ]
      },
      {
       "output_type": "stream",
       "stream": "stdout",
       "text": [
        "130918-01:49:09,614 workflow INFO:\n",
        "\t Running: fugue --in=/home/oesteban/workspace/ACWE-Reg/temp/DigitalPhantomISBI/SynthSuscept_no-noise/Fugue_WarpDWIs/split_DWI/DWIS_dti-scheme_no-noise_017.nii.gz --mask=/home/oesteban/workspace/ACWE-Reg/Data/DigitalPhantomISBI/signal_mask.nii.gz --loadshift=/home/oesteban/workspace/ACWE-Reg/temp/DigitalPhantomISBI/SynthSuscept_no-noise/demean/signal_mask_vsm_demeaned.nii.gz --unwarpdir=y- --warp=/home/oesteban/workspace/ACWE-Reg/temp/DigitalPhantomISBI/SynthSuscept_no-noise/Fugue_WarpDWIs/Fugue_Warp/mapflow/_Fugue_Warp17/DWIS_dti-scheme_no-noise_017_warped.nii.gz\n"
       ]
      },
      {
       "output_type": "stream",
       "stream": "stdout",
       "text": [
        "130918-01:49:13,511 workflow INFO:\n",
        "\t Executing node _Fugue_Warp18 in dir: /home/oesteban/workspace/ACWE-Reg/temp/DigitalPhantomISBI/SynthSuscept_no-noise/Fugue_WarpDWIs/Fugue_Warp/mapflow/_Fugue_Warp18\n"
       ]
      },
      {
       "output_type": "stream",
       "stream": "stdout",
       "text": [
        "130918-01:49:13,517 workflow INFO:\n",
        "\t Running: fugue --in=/home/oesteban/workspace/ACWE-Reg/temp/DigitalPhantomISBI/SynthSuscept_no-noise/Fugue_WarpDWIs/split_DWI/DWIS_dti-scheme_no-noise_018.nii.gz --mask=/home/oesteban/workspace/ACWE-Reg/Data/DigitalPhantomISBI/signal_mask.nii.gz --loadshift=/home/oesteban/workspace/ACWE-Reg/temp/DigitalPhantomISBI/SynthSuscept_no-noise/demean/signal_mask_vsm_demeaned.nii.gz --unwarpdir=y- --warp=/home/oesteban/workspace/ACWE-Reg/temp/DigitalPhantomISBI/SynthSuscept_no-noise/Fugue_WarpDWIs/Fugue_Warp/mapflow/_Fugue_Warp18/DWIS_dti-scheme_no-noise_018_warped.nii.gz\n"
       ]
      },
      {
       "output_type": "stream",
       "stream": "stdout",
       "text": [
        "130918-01:49:17,390 workflow INFO:\n",
        "\t Executing node _Fugue_Warp19 in dir: /home/oesteban/workspace/ACWE-Reg/temp/DigitalPhantomISBI/SynthSuscept_no-noise/Fugue_WarpDWIs/Fugue_Warp/mapflow/_Fugue_Warp19\n"
       ]
      },
      {
       "output_type": "stream",
       "stream": "stdout",
       "text": [
        "130918-01:49:17,398 workflow INFO:\n",
        "\t Running: fugue --in=/home/oesteban/workspace/ACWE-Reg/temp/DigitalPhantomISBI/SynthSuscept_no-noise/Fugue_WarpDWIs/split_DWI/DWIS_dti-scheme_no-noise_019.nii.gz --mask=/home/oesteban/workspace/ACWE-Reg/Data/DigitalPhantomISBI/signal_mask.nii.gz --loadshift=/home/oesteban/workspace/ACWE-Reg/temp/DigitalPhantomISBI/SynthSuscept_no-noise/demean/signal_mask_vsm_demeaned.nii.gz --unwarpdir=y- --warp=/home/oesteban/workspace/ACWE-Reg/temp/DigitalPhantomISBI/SynthSuscept_no-noise/Fugue_WarpDWIs/Fugue_Warp/mapflow/_Fugue_Warp19/DWIS_dti-scheme_no-noise_019_warped.nii.gz\n"
       ]
      },
      {
       "output_type": "stream",
       "stream": "stdout",
       "text": [
        "130918-01:49:21,279 workflow INFO:\n",
        "\t Executing node _Fugue_Warp20 in dir: /home/oesteban/workspace/ACWE-Reg/temp/DigitalPhantomISBI/SynthSuscept_no-noise/Fugue_WarpDWIs/Fugue_Warp/mapflow/_Fugue_Warp20\n"
       ]
      },
      {
       "output_type": "stream",
       "stream": "stdout",
       "text": [
        "130918-01:49:21,283 workflow INFO:\n",
        "\t Running: fugue --in=/home/oesteban/workspace/ACWE-Reg/temp/DigitalPhantomISBI/SynthSuscept_no-noise/Fugue_WarpDWIs/split_DWI/DWIS_dti-scheme_no-noise_020.nii.gz --mask=/home/oesteban/workspace/ACWE-Reg/Data/DigitalPhantomISBI/signal_mask.nii.gz --loadshift=/home/oesteban/workspace/ACWE-Reg/temp/DigitalPhantomISBI/SynthSuscept_no-noise/demean/signal_mask_vsm_demeaned.nii.gz --unwarpdir=y- --warp=/home/oesteban/workspace/ACWE-Reg/temp/DigitalPhantomISBI/SynthSuscept_no-noise/Fugue_WarpDWIs/Fugue_Warp/mapflow/_Fugue_Warp20/DWIS_dti-scheme_no-noise_020_warped.nii.gz\n"
       ]
      },
      {
       "output_type": "stream",
       "stream": "stdout",
       "text": [
        "130918-01:49:25,180 workflow INFO:\n",
        "\t Executing node _Fugue_Warp21 in dir: /home/oesteban/workspace/ACWE-Reg/temp/DigitalPhantomISBI/SynthSuscept_no-noise/Fugue_WarpDWIs/Fugue_Warp/mapflow/_Fugue_Warp21\n"
       ]
      },
      {
       "output_type": "stream",
       "stream": "stdout",
       "text": [
        "130918-01:49:25,184 workflow INFO:\n",
        "\t Running: fugue --in=/home/oesteban/workspace/ACWE-Reg/temp/DigitalPhantomISBI/SynthSuscept_no-noise/Fugue_WarpDWIs/split_DWI/DWIS_dti-scheme_no-noise_021.nii.gz --mask=/home/oesteban/workspace/ACWE-Reg/Data/DigitalPhantomISBI/signal_mask.nii.gz --loadshift=/home/oesteban/workspace/ACWE-Reg/temp/DigitalPhantomISBI/SynthSuscept_no-noise/demean/signal_mask_vsm_demeaned.nii.gz --unwarpdir=y- --warp=/home/oesteban/workspace/ACWE-Reg/temp/DigitalPhantomISBI/SynthSuscept_no-noise/Fugue_WarpDWIs/Fugue_Warp/mapflow/_Fugue_Warp21/DWIS_dti-scheme_no-noise_021_warped.nii.gz\n"
       ]
      },
      {
       "output_type": "stream",
       "stream": "stdout",
       "text": [
        "130918-01:49:29,79 workflow INFO:\n",
        "\t Executing node _Fugue_Warp22 in dir: /home/oesteban/workspace/ACWE-Reg/temp/DigitalPhantomISBI/SynthSuscept_no-noise/Fugue_WarpDWIs/Fugue_Warp/mapflow/_Fugue_Warp22\n"
       ]
      },
      {
       "output_type": "stream",
       "stream": "stdout",
       "text": [
        "130918-01:49:29,86 workflow INFO:\n",
        "\t Running: fugue --in=/home/oesteban/workspace/ACWE-Reg/temp/DigitalPhantomISBI/SynthSuscept_no-noise/Fugue_WarpDWIs/split_DWI/DWIS_dti-scheme_no-noise_022.nii.gz --mask=/home/oesteban/workspace/ACWE-Reg/Data/DigitalPhantomISBI/signal_mask.nii.gz --loadshift=/home/oesteban/workspace/ACWE-Reg/temp/DigitalPhantomISBI/SynthSuscept_no-noise/demean/signal_mask_vsm_demeaned.nii.gz --unwarpdir=y- --warp=/home/oesteban/workspace/ACWE-Reg/temp/DigitalPhantomISBI/SynthSuscept_no-noise/Fugue_WarpDWIs/Fugue_Warp/mapflow/_Fugue_Warp22/DWIS_dti-scheme_no-noise_022_warped.nii.gz\n"
       ]
      },
      {
       "output_type": "stream",
       "stream": "stdout",
       "text": [
        "130918-01:49:32,984 workflow INFO:\n",
        "\t Executing node _Fugue_Warp23 in dir: /home/oesteban/workspace/ACWE-Reg/temp/DigitalPhantomISBI/SynthSuscept_no-noise/Fugue_WarpDWIs/Fugue_Warp/mapflow/_Fugue_Warp23\n"
       ]
      },
      {
       "output_type": "stream",
       "stream": "stdout",
       "text": [
        "130918-01:49:32,991 workflow INFO:\n",
        "\t Running: fugue --in=/home/oesteban/workspace/ACWE-Reg/temp/DigitalPhantomISBI/SynthSuscept_no-noise/Fugue_WarpDWIs/split_DWI/DWIS_dti-scheme_no-noise_023.nii.gz --mask=/home/oesteban/workspace/ACWE-Reg/Data/DigitalPhantomISBI/signal_mask.nii.gz --loadshift=/home/oesteban/workspace/ACWE-Reg/temp/DigitalPhantomISBI/SynthSuscept_no-noise/demean/signal_mask_vsm_demeaned.nii.gz --unwarpdir=y- --warp=/home/oesteban/workspace/ACWE-Reg/temp/DigitalPhantomISBI/SynthSuscept_no-noise/Fugue_WarpDWIs/Fugue_Warp/mapflow/_Fugue_Warp23/DWIS_dti-scheme_no-noise_023_warped.nii.gz\n"
       ]
      },
      {
       "output_type": "stream",
       "stream": "stdout",
       "text": [
        "130918-01:49:36,916 workflow INFO:\n",
        "\t Executing node _Fugue_Warp24 in dir: /home/oesteban/workspace/ACWE-Reg/temp/DigitalPhantomISBI/SynthSuscept_no-noise/Fugue_WarpDWIs/Fugue_Warp/mapflow/_Fugue_Warp24\n"
       ]
      },
      {
       "output_type": "stream",
       "stream": "stdout",
       "text": [
        "130918-01:49:36,923 workflow INFO:\n",
        "\t Running: fugue --in=/home/oesteban/workspace/ACWE-Reg/temp/DigitalPhantomISBI/SynthSuscept_no-noise/Fugue_WarpDWIs/split_DWI/DWIS_dti-scheme_no-noise_024.nii.gz --mask=/home/oesteban/workspace/ACWE-Reg/Data/DigitalPhantomISBI/signal_mask.nii.gz --loadshift=/home/oesteban/workspace/ACWE-Reg/temp/DigitalPhantomISBI/SynthSuscept_no-noise/demean/signal_mask_vsm_demeaned.nii.gz --unwarpdir=y- --warp=/home/oesteban/workspace/ACWE-Reg/temp/DigitalPhantomISBI/SynthSuscept_no-noise/Fugue_WarpDWIs/Fugue_Warp/mapflow/_Fugue_Warp24/DWIS_dti-scheme_no-noise_024_warped.nii.gz\n"
       ]
      },
      {
       "output_type": "stream",
       "stream": "stdout",
       "text": [
        "130918-01:49:40,796 workflow INFO:\n",
        "\t Executing node _Fugue_Warp25 in dir: /home/oesteban/workspace/ACWE-Reg/temp/DigitalPhantomISBI/SynthSuscept_no-noise/Fugue_WarpDWIs/Fugue_Warp/mapflow/_Fugue_Warp25\n"
       ]
      },
      {
       "output_type": "stream",
       "stream": "stdout",
       "text": [
        "130918-01:49:40,803 workflow INFO:\n",
        "\t Running: fugue --in=/home/oesteban/workspace/ACWE-Reg/temp/DigitalPhantomISBI/SynthSuscept_no-noise/Fugue_WarpDWIs/split_DWI/DWIS_dti-scheme_no-noise_025.nii.gz --mask=/home/oesteban/workspace/ACWE-Reg/Data/DigitalPhantomISBI/signal_mask.nii.gz --loadshift=/home/oesteban/workspace/ACWE-Reg/temp/DigitalPhantomISBI/SynthSuscept_no-noise/demean/signal_mask_vsm_demeaned.nii.gz --unwarpdir=y- --warp=/home/oesteban/workspace/ACWE-Reg/temp/DigitalPhantomISBI/SynthSuscept_no-noise/Fugue_WarpDWIs/Fugue_Warp/mapflow/_Fugue_Warp25/DWIS_dti-scheme_no-noise_025_warped.nii.gz\n"
       ]
      },
      {
       "output_type": "stream",
       "stream": "stdout",
       "text": [
        "130918-01:49:44,690 workflow INFO:\n",
        "\t Executing node _Fugue_Warp26 in dir: /home/oesteban/workspace/ACWE-Reg/temp/DigitalPhantomISBI/SynthSuscept_no-noise/Fugue_WarpDWIs/Fugue_Warp/mapflow/_Fugue_Warp26\n"
       ]
      },
      {
       "output_type": "stream",
       "stream": "stdout",
       "text": [
        "130918-01:49:44,694 workflow INFO:\n",
        "\t Running: fugue --in=/home/oesteban/workspace/ACWE-Reg/temp/DigitalPhantomISBI/SynthSuscept_no-noise/Fugue_WarpDWIs/split_DWI/DWIS_dti-scheme_no-noise_026.nii.gz --mask=/home/oesteban/workspace/ACWE-Reg/Data/DigitalPhantomISBI/signal_mask.nii.gz --loadshift=/home/oesteban/workspace/ACWE-Reg/temp/DigitalPhantomISBI/SynthSuscept_no-noise/demean/signal_mask_vsm_demeaned.nii.gz --unwarpdir=y- --warp=/home/oesteban/workspace/ACWE-Reg/temp/DigitalPhantomISBI/SynthSuscept_no-noise/Fugue_WarpDWIs/Fugue_Warp/mapflow/_Fugue_Warp26/DWIS_dti-scheme_no-noise_026_warped.nii.gz\n"
       ]
      },
      {
       "output_type": "stream",
       "stream": "stdout",
       "text": [
        "130918-01:49:48,588 workflow INFO:\n",
        "\t Executing node _Fugue_Warp27 in dir: /home/oesteban/workspace/ACWE-Reg/temp/DigitalPhantomISBI/SynthSuscept_no-noise/Fugue_WarpDWIs/Fugue_Warp/mapflow/_Fugue_Warp27\n"
       ]
      },
      {
       "output_type": "stream",
       "stream": "stdout",
       "text": [
        "130918-01:49:48,593 workflow INFO:\n",
        "\t Running: fugue --in=/home/oesteban/workspace/ACWE-Reg/temp/DigitalPhantomISBI/SynthSuscept_no-noise/Fugue_WarpDWIs/split_DWI/DWIS_dti-scheme_no-noise_027.nii.gz --mask=/home/oesteban/workspace/ACWE-Reg/Data/DigitalPhantomISBI/signal_mask.nii.gz --loadshift=/home/oesteban/workspace/ACWE-Reg/temp/DigitalPhantomISBI/SynthSuscept_no-noise/demean/signal_mask_vsm_demeaned.nii.gz --unwarpdir=y- --warp=/home/oesteban/workspace/ACWE-Reg/temp/DigitalPhantomISBI/SynthSuscept_no-noise/Fugue_WarpDWIs/Fugue_Warp/mapflow/_Fugue_Warp27/DWIS_dti-scheme_no-noise_027_warped.nii.gz\n"
       ]
      },
      {
       "output_type": "stream",
       "stream": "stdout",
       "text": [
        "130918-01:49:52,475 workflow INFO:\n",
        "\t Executing node _Fugue_Warp28 in dir: /home/oesteban/workspace/ACWE-Reg/temp/DigitalPhantomISBI/SynthSuscept_no-noise/Fugue_WarpDWIs/Fugue_Warp/mapflow/_Fugue_Warp28\n"
       ]
      },
      {
       "output_type": "stream",
       "stream": "stdout",
       "text": [
        "130918-01:49:52,481 workflow INFO:\n",
        "\t Running: fugue --in=/home/oesteban/workspace/ACWE-Reg/temp/DigitalPhantomISBI/SynthSuscept_no-noise/Fugue_WarpDWIs/split_DWI/DWIS_dti-scheme_no-noise_028.nii.gz --mask=/home/oesteban/workspace/ACWE-Reg/Data/DigitalPhantomISBI/signal_mask.nii.gz --loadshift=/home/oesteban/workspace/ACWE-Reg/temp/DigitalPhantomISBI/SynthSuscept_no-noise/demean/signal_mask_vsm_demeaned.nii.gz --unwarpdir=y- --warp=/home/oesteban/workspace/ACWE-Reg/temp/DigitalPhantomISBI/SynthSuscept_no-noise/Fugue_WarpDWIs/Fugue_Warp/mapflow/_Fugue_Warp28/DWIS_dti-scheme_no-noise_028_warped.nii.gz\n"
       ]
      },
      {
       "output_type": "stream",
       "stream": "stdout",
       "text": [
        "130918-01:49:56,372 workflow INFO:\n",
        "\t Executing node _Fugue_Warp29 in dir: /home/oesteban/workspace/ACWE-Reg/temp/DigitalPhantomISBI/SynthSuscept_no-noise/Fugue_WarpDWIs/Fugue_Warp/mapflow/_Fugue_Warp29\n"
       ]
      },
      {
       "output_type": "stream",
       "stream": "stdout",
       "text": [
        "130918-01:49:56,379 workflow INFO:\n",
        "\t Running: fugue --in=/home/oesteban/workspace/ACWE-Reg/temp/DigitalPhantomISBI/SynthSuscept_no-noise/Fugue_WarpDWIs/split_DWI/DWIS_dti-scheme_no-noise_029.nii.gz --mask=/home/oesteban/workspace/ACWE-Reg/Data/DigitalPhantomISBI/signal_mask.nii.gz --loadshift=/home/oesteban/workspace/ACWE-Reg/temp/DigitalPhantomISBI/SynthSuscept_no-noise/demean/signal_mask_vsm_demeaned.nii.gz --unwarpdir=y- --warp=/home/oesteban/workspace/ACWE-Reg/temp/DigitalPhantomISBI/SynthSuscept_no-noise/Fugue_WarpDWIs/Fugue_Warp/mapflow/_Fugue_Warp29/DWIS_dti-scheme_no-noise_029_warped.nii.gz\n"
       ]
      },
      {
       "output_type": "stream",
       "stream": "stdout",
       "text": [
        "130918-01:50:00,261 workflow INFO:\n",
        "\t Executing node _Fugue_Warp30 in dir: /home/oesteban/workspace/ACWE-Reg/temp/DigitalPhantomISBI/SynthSuscept_no-noise/Fugue_WarpDWIs/Fugue_Warp/mapflow/_Fugue_Warp30\n"
       ]
      },
      {
       "output_type": "stream",
       "stream": "stdout",
       "text": [
        "130918-01:50:00,268 workflow INFO:\n",
        "\t Running: fugue --in=/home/oesteban/workspace/ACWE-Reg/temp/DigitalPhantomISBI/SynthSuscept_no-noise/Fugue_WarpDWIs/split_DWI/DWIS_dti-scheme_no-noise_030.nii.gz --mask=/home/oesteban/workspace/ACWE-Reg/Data/DigitalPhantomISBI/signal_mask.nii.gz --loadshift=/home/oesteban/workspace/ACWE-Reg/temp/DigitalPhantomISBI/SynthSuscept_no-noise/demean/signal_mask_vsm_demeaned.nii.gz --unwarpdir=y- --warp=/home/oesteban/workspace/ACWE-Reg/temp/DigitalPhantomISBI/SynthSuscept_no-noise/Fugue_WarpDWIs/Fugue_Warp/mapflow/_Fugue_Warp30/DWIS_dti-scheme_no-noise_030_warped.nii.gz\n"
       ]
      },
      {
       "output_type": "stream",
       "stream": "stdout",
       "text": [
        "130918-01:50:04,135 workflow INFO:\n",
        "\t Executing node _Fugue_Warp31 in dir: /home/oesteban/workspace/ACWE-Reg/temp/DigitalPhantomISBI/SynthSuscept_no-noise/Fugue_WarpDWIs/Fugue_Warp/mapflow/_Fugue_Warp31\n"
       ]
      },
      {
       "output_type": "stream",
       "stream": "stdout",
       "text": [
        "130918-01:50:04,142 workflow INFO:\n",
        "\t Running: fugue --in=/home/oesteban/workspace/ACWE-Reg/temp/DigitalPhantomISBI/SynthSuscept_no-noise/Fugue_WarpDWIs/split_DWI/DWIS_dti-scheme_no-noise_031.nii.gz --mask=/home/oesteban/workspace/ACWE-Reg/Data/DigitalPhantomISBI/signal_mask.nii.gz --loadshift=/home/oesteban/workspace/ACWE-Reg/temp/DigitalPhantomISBI/SynthSuscept_no-noise/demean/signal_mask_vsm_demeaned.nii.gz --unwarpdir=y- --warp=/home/oesteban/workspace/ACWE-Reg/temp/DigitalPhantomISBI/SynthSuscept_no-noise/Fugue_WarpDWIs/Fugue_Warp/mapflow/_Fugue_Warp31/DWIS_dti-scheme_no-noise_031_warped.nii.gz\n"
       ]
      },
      {
       "output_type": "stream",
       "stream": "stdout",
       "text": [
        "130918-01:50:08,44 workflow INFO:\n",
        "\t Executing node _Fugue_Warp32 in dir: /home/oesteban/workspace/ACWE-Reg/temp/DigitalPhantomISBI/SynthSuscept_no-noise/Fugue_WarpDWIs/Fugue_Warp/mapflow/_Fugue_Warp32\n"
       ]
      },
      {
       "output_type": "stream",
       "stream": "stdout",
       "text": [
        "130918-01:50:08,48 workflow INFO:\n",
        "\t Running: fugue --in=/home/oesteban/workspace/ACWE-Reg/temp/DigitalPhantomISBI/SynthSuscept_no-noise/Fugue_WarpDWIs/split_DWI/DWIS_dti-scheme_no-noise_032.nii.gz --mask=/home/oesteban/workspace/ACWE-Reg/Data/DigitalPhantomISBI/signal_mask.nii.gz --loadshift=/home/oesteban/workspace/ACWE-Reg/temp/DigitalPhantomISBI/SynthSuscept_no-noise/demean/signal_mask_vsm_demeaned.nii.gz --unwarpdir=y- --warp=/home/oesteban/workspace/ACWE-Reg/temp/DigitalPhantomISBI/SynthSuscept_no-noise/Fugue_WarpDWIs/Fugue_Warp/mapflow/_Fugue_Warp32/DWIS_dti-scheme_no-noise_032_warped.nii.gz\n"
       ]
      },
      {
       "output_type": "stream",
       "stream": "stdout",
       "text": [
        "130918-01:50:11,949 workflow INFO:\n",
        "\t Executing node merge_DWI in dir: /home/oesteban/workspace/ACWE-Reg/temp/DigitalPhantomISBI/SynthSuscept_no-noise/Fugue_WarpDWIs/merge_DWI\n"
       ]
      },
      {
       "output_type": "stream",
       "stream": "stdout",
       "text": [
        "130918-01:50:11,958 workflow INFO:\n",
        "\t Running: fslmerge -t /home/oesteban/workspace/ACWE-Reg/temp/DigitalPhantomISBI/SynthSuscept_no-noise/Fugue_WarpDWIs/merge_DWI/DWIS_dti-scheme_no-noise_000_warped_merged.nii.gz /home/oesteban/workspace/ACWE-Reg/temp/DigitalPhantomISBI/SynthSuscept_no-noise/Fugue_WarpDWIs/Fugue_Warp/mapflow/_Fugue_Warp0/DWIS_dti-scheme_no-noise_000_warped.nii.gz /home/oesteban/workspace/ACWE-Reg/temp/DigitalPhantomISBI/SynthSuscept_no-noise/Fugue_WarpDWIs/Fugue_Warp/mapflow/_Fugue_Warp1/DWIS_dti-scheme_no-noise_001_warped.nii.gz /home/oesteban/workspace/ACWE-Reg/temp/DigitalPhantomISBI/SynthSuscept_no-noise/Fugue_WarpDWIs/Fugue_Warp/mapflow/_Fugue_Warp2/DWIS_dti-scheme_no-noise_002_warped.nii.gz /home/oesteban/workspace/ACWE-Reg/temp/DigitalPhantomISBI/SynthSuscept_no-noise/Fugue_WarpDWIs/Fugue_Warp/mapflow/_Fugue_Warp3/DWIS_dti-scheme_no-noise_003_warped.nii.gz /home/oesteban/workspace/ACWE-Reg/temp/DigitalPhantomISBI/SynthSuscept_no-noise/Fugue_WarpDWIs/Fugue_Warp/mapflow/_Fugue_Warp4/DWIS_dti-scheme_no-noise_004_warped.nii.gz /home/oesteban/workspace/ACWE-Reg/temp/DigitalPhantomISBI/SynthSuscept_no-noise/Fugue_WarpDWIs/Fugue_Warp/mapflow/_Fugue_Warp5/DWIS_dti-scheme_no-noise_005_warped.nii.gz /home/oesteban/workspace/ACWE-Reg/temp/DigitalPhantomISBI/SynthSuscept_no-noise/Fugue_WarpDWIs/Fugue_Warp/mapflow/_Fugue_Warp6/DWIS_dti-scheme_no-noise_006_warped.nii.gz /home/oesteban/workspace/ACWE-Reg/temp/DigitalPhantomISBI/SynthSuscept_no-noise/Fugue_WarpDWIs/Fugue_Warp/mapflow/_Fugue_Warp7/DWIS_dti-scheme_no-noise_007_warped.nii.gz /home/oesteban/workspace/ACWE-Reg/temp/DigitalPhantomISBI/SynthSuscept_no-noise/Fugue_WarpDWIs/Fugue_Warp/mapflow/_Fugue_Warp8/DWIS_dti-scheme_no-noise_008_warped.nii.gz /home/oesteban/workspace/ACWE-Reg/temp/DigitalPhantomISBI/SynthSuscept_no-noise/Fugue_WarpDWIs/Fugue_Warp/mapflow/_Fugue_Warp9/DWIS_dti-scheme_no-noise_009_warped.nii.gz /home/oesteban/workspace/ACWE-Reg/temp/DigitalPhantomISBI/SynthSuscept_no-noise/Fugue_WarpDWIs/Fugue_Warp/mapflow/_Fugue_Warp10/DWIS_dti-scheme_no-noise_010_warped.nii.gz /home/oesteban/workspace/ACWE-Reg/temp/DigitalPhantomISBI/SynthSuscept_no-noise/Fugue_WarpDWIs/Fugue_Warp/mapflow/_Fugue_Warp11/DWIS_dti-scheme_no-noise_011_warped.nii.gz /home/oesteban/workspace/ACWE-Reg/temp/DigitalPhantomISBI/SynthSuscept_no-noise/Fugue_WarpDWIs/Fugue_Warp/mapflow/_Fugue_Warp12/DWIS_dti-scheme_no-noise_012_warped.nii.gz /home/oesteban/workspace/ACWE-Reg/temp/DigitalPhantomISBI/SynthSuscept_no-noise/Fugue_WarpDWIs/Fugue_Warp/mapflow/_Fugue_Warp13/DWIS_dti-scheme_no-noise_013_warped.nii.gz /home/oesteban/workspace/ACWE-Reg/temp/DigitalPhantomISBI/SynthSuscept_no-noise/Fugue_WarpDWIs/Fugue_Warp/mapflow/_Fugue_Warp14/DWIS_dti-scheme_no-noise_014_warped.nii.gz /home/oesteban/workspace/ACWE-Reg/temp/DigitalPhantomISBI/SynthSuscept_no-noise/Fugue_WarpDWIs/Fugue_Warp/mapflow/_Fugue_Warp15/DWIS_dti-scheme_no-noise_015_warped.nii.gz /home/oesteban/workspace/ACWE-Reg/temp/DigitalPhantomISBI/SynthSuscept_no-noise/Fugue_WarpDWIs/Fugue_Warp/mapflow/_Fugue_Warp16/DWIS_dti-scheme_no-noise_016_warped.nii.gz /home/oesteban/workspace/ACWE-Reg/temp/DigitalPhantomISBI/SynthSuscept_no-noise/Fugue_WarpDWIs/Fugue_Warp/mapflow/_Fugue_Warp17/DWIS_dti-scheme_no-noise_017_warped.nii.gz /home/oesteban/workspace/ACWE-Reg/temp/DigitalPhantomISBI/SynthSuscept_no-noise/Fugue_WarpDWIs/Fugue_Warp/mapflow/_Fugue_Warp18/DWIS_dti-scheme_no-noise_018_warped.nii.gz /home/oesteban/workspace/ACWE-Reg/temp/DigitalPhantomISBI/SynthSuscept_no-noise/Fugue_WarpDWIs/Fugue_Warp/mapflow/_Fugue_Warp19/DWIS_dti-scheme_no-noise_019_warped.nii.gz /home/oesteban/workspace/ACWE-Reg/temp/DigitalPhantomISBI/SynthSuscept_no-noise/Fugue_WarpDWIs/Fugue_Warp/mapflow/_Fugue_Warp20/DWIS_dti-scheme_no-noise_020_warped.nii.gz /home/oesteban/workspace/ACWE-Reg/temp/DigitalPhantomISBI/SynthSuscept_no-noise/Fugue_WarpDWIs/Fugue_Warp/mapflow/_Fugue_Warp21/DWIS_dti-scheme_no-noise_021_warped.nii.gz /home/oesteban/workspace/ACWE-Reg/temp/DigitalPhantomISBI/SynthSuscept_no-noise/Fugue_WarpDWIs/Fugue_Warp/mapflow/_Fugue_Warp22/DWIS_dti-scheme_no-noise_022_warped.nii.gz /home/oesteban/workspace/ACWE-Reg/temp/DigitalPhantomISBI/SynthSuscept_no-noise/Fugue_WarpDWIs/Fugue_Warp/mapflow/_Fugue_Warp23/DWIS_dti-scheme_no-noise_023_warped.nii.gz /home/oesteban/workspace/ACWE-Reg/temp/DigitalPhantomISBI/SynthSuscept_no-noise/Fugue_WarpDWIs/Fugue_Warp/mapflow/_Fugue_Warp24/DWIS_dti-scheme_no-noise_024_warped.nii.gz /home/oesteban/workspace/ACWE-Reg/temp/DigitalPhantomISBI/SynthSuscept_no-noise/Fugue_WarpDWIs/Fugue_Warp/mapflow/_Fugue_Warp25/DWIS_dti-scheme_no-noise_025_warped.nii.gz /home/oesteban/workspace/ACWE-Reg/temp/DigitalPhantomISBI/SynthSuscept_no-noise/Fugue_WarpDWIs/Fugue_Warp/mapflow/_Fugue_Warp26/DWIS_dti-scheme_no-noise_026_warped.nii.gz /home/oesteban/workspace/ACWE-Reg/temp/DigitalPhantomISBI/SynthSuscept_no-noise/Fugue_WarpDWIs/Fugue_Warp/mapflow/_Fugue_Warp27/DWIS_dti-scheme_no-noise_027_warped.nii.gz /home/oesteban/workspace/ACWE-Reg/temp/DigitalPhantomISBI/SynthSuscept_no-noise/Fugue_WarpDWIs/Fugue_Warp/mapflow/_Fugue_Warp28/DWIS_dti-scheme_no-noise_028_warped.nii.gz /home/oesteban/workspace/ACWE-Reg/temp/DigitalPhantomISBI/SynthSuscept_no-noise/Fugue_WarpDWIs/Fugue_Warp/mapflow/_Fugue_Warp29/DWIS_dti-scheme_no-noise_029_warped.nii.gz /home/oesteban/workspace/ACWE-Reg/temp/DigitalPhantomISBI/SynthSuscept_no-noise/Fugue_WarpDWIs/Fugue_Warp/mapflow/_Fugue_Warp30/DWIS_dti-scheme_no-noise_030_warped.nii.gz /home/oesteban/workspace/ACWE-Reg/temp/DigitalPhantomISBI/SynthSuscept_no-noise/Fugue_WarpDWIs/Fugue_Warp/mapflow/_Fugue_Warp31/DWIS_dti-scheme_no-noise_031_warped.nii.gz /home/oesteban/workspace/ACWE-Reg/temp/DigitalPhantomISBI/SynthSuscept_no-noise/Fugue_WarpDWIs/Fugue_Warp/mapflow/_Fugue_Warp32/DWIS_dti-scheme_no-noise_032_warped.nii.gz\n"
       ]
      },
      {
       "output_type": "stream",
       "stream": "stderr",
       "text": [
        "/home/oesteban/workspace/nipype/nipype/interfaces/fsl/preprocess.py:1286: UserWarning: This interface has not been fully tested. Please report any failures.\n",
        "  'This interface has not been fully tested. Please report any failures.')\n",
        "/home/oesteban/workspace/nipype/nipype/interfaces/fsl/preprocess.py:1286: UserWarning: This interface has not been fully tested. Please report any failures.\n",
        "  'This interface has not been fully tested. Please report any failures.')\n",
        "/home/oesteban/workspace/nipype/nipype/interfaces/fsl/preprocess.py:1286: UserWarning: This interface has not been fully tested. Please report any failures.\n",
        "  'This interface has not been fully tested. Please report any failures.')\n"
       ]
      }
     ],
     "prompt_number": 3
    },
    {
     "cell_type": "markdown",
     "metadata": {},
     "source": [
      "<h1>Model fitting and tractography</h1>\n",
      "Use the new dmri.fsl_fitting_workflow() and create one dmri.tractography_workflow() or similar"
     ]
    },
    {
     "cell_type": "code",
     "collapsed": false,
     "input": [],
     "language": "python",
     "metadata": {},
     "outputs": []
    },
    {
     "cell_type": "markdown",
     "metadata": {},
     "source": [
      "<h1>Binarize tissue probability maps (TPMs)</h1>\n",
      "\n"
     ]
    },
    {
     "cell_type": "code",
     "collapsed": false,
     "input": [
      "def computeMAP( tpms, normalize=True ):\n",
      "    import numpy as np\n",
      "    normalizer = np.sum( np.array( tpms ), axis=0 )\n",
      "    if normalize:\n",
      "        for tpm in tpms:\n",
      "            tpm[normalizer>0]/= normalizer[normalizer>0]\n",
      "\n",
      "    out_seg = np.zeros( shape=tpms[0].shape, dtype=np.uint8 )\n",
      "    out_seg[normalizer>0] = np.argmax(  tpms, axis=0 )[normalizer>0]\n",
      "    out_seg[normalizer>0] += 1\n",
      "\n",
      "    return out_seg, tpms"
     ],
     "language": "python",
     "metadata": {},
     "outputs": []
    },
    {
     "cell_type": "code",
     "collapsed": false,
     "input": [
      "tpmlist = []\n",
      "tlist = [ 'bg', 'csf', 'wm', 'gm' ]\n",
      "\n",
      "for tname in tlist:\n",
      "    im = nib.load( op.join( tpms_dir, '%s_volume_fraction.nii.gz' % tname ))\n",
      "    tpmlist.append( im.get_data() )\n",
      "    hdr = im.get_header()\n",
      "    if hdr.get_xyzt_units() != 2:\n",
      "        hdr.set_xyzt_units(2)\n",
      "        nib.save( nib.Nifti1Image( im.get_data(), im.get_affine(), hdr ), op.join( tpms_dir, '%s_volume_fraction.nii.gz' % tname ) )\n",
      "\n",
      "hdr = im.get_header()\n",
      "hdr.set_data_dtype( uint8 )\n",
      "binarized, tpmlist = computeMAP( tpmlist )\n",
      "binarized = binarized - 1\n",
      "nib.save( nib.Nifti1Image( binarized, im.get_affine(), hdr ), op.join( working_dir, 'segmentation.nii.gz' ) )\n",
      "\n",
      "objlist = np.zeros( shape=binarized.shape )\n",
      "\n",
      "labels_list = []\n",
      "\n",
      "for i,tname in enumerate(tlist):\n",
      "    bmap = np.zeros( shape=binarized.shape )\n",
      "    bmap[binarized==i] = 1\n",
      "    nib.save( nib.Nifti1Image( bmap, im.get_affine(), hdr ), op.join( working_dir, '%s_bmap.nii.gz' % tname ) )\n",
      "    lab,num = label( bmap )\n",
      "    for val in range(0,num):\n",
      "        labels_list.append( i*10 + val +1 )\n",
      "    objlist[lab>0] = lab[lab>0] + 10*i\n",
      " \n",
      "nib.save( nib.Nifti1Image( objlist.astype(uint8), im.get_affine(), hdr ), op.join( working_dir, 'labels.nii.gz' ) )\n",
      "\n",
      "scheme = [ -1, -11, 12, 13, 14, 21, 22 ]\n",
      "base = np.ones( shape=binarized.shape )\n",
      "\n",
      "out_files = []\n",
      "\n",
      "for i,sid in enumerate(scheme):\n",
      "    if ( sid > 0 ):\n",
      "        obj = np.zeros( shape=binarized.shape )\n",
      "        obj[objlist==sid] = 1\n",
      "    else:\n",
      "        base[objlist==(-sid)]= 0\n",
      "        obj = base\n",
      "    out_file = op.join( working_dir, 'obj_%02d.nii.gz' % i )\n",
      "    nib.save( nib.Nifti1Image( obj.astype(uint8), im.get_affine(), hdr ), out_file )\n",
      "    out_files.append( out_file )"
     ],
     "language": "python",
     "metadata": {},
     "outputs": []
    },
    {
     "cell_type": "markdown",
     "metadata": {},
     "source": [
      "<h1>Generate prior surfaces</h1>\n",
      "This code generates the necessary csf surfaces. References:\n",
      "<ul>\n",
      "    <li>https://github.com/nipy/nipype/issues/307</li>\n",
      "    <li>https://mail.nmr.mgh.harvard.edu/pipermail//freesurfer/2011-November/021391.html</li>\n",
      "    <li>http://brainder.org/2012/05/08/importing-freesurfer-subcortical-structures-into-blender/</li>\n",
      "    <li>https://mail.nmr.mgh.harvard.edu/pipermail/freesurfer/2013-June/030586.html</li>\n",
      "</ul>   "
     ]
    },
    {
     "cell_type": "code",
     "collapsed": false,
     "input": [
      "def mris_convert( in_file, extension=\"vtk\", out_file=None ):\n",
      "    import subprocess as sp\n",
      "    import numpy as np\n",
      "    import os.path as op\n",
      "\n",
      "    if out_file is None:\n",
      "        out_file = op.abspath('./%s_conv' % op.basename( in_file ) )\n",
      "        \n",
      "    if not extension is None and extension!=\"\":\n",
      "        out_file = out_file + \".%s\" % extension\n",
      "    \n",
      "    cmd = \"mris_convert %s %s\" % (in_file, out_file )\n",
      "    proc = sp.Popen( cmd, stdout=sp.PIPE, shell=True )\n",
      "\n",
      "    return out_file\n",
      "\n",
      "def binary2contour_workflow( name=\"contour\" ):\n",
      "    pipeline = pe.Workflow( name=name )\n",
      "    inputnode = pe.Node(niu.IdentityInterface( fields=['in_file','in_norm','out_folder' ] ), name='inputnode' )\n",
      "    outputnode = pe.Node(niu.IdentityInterface( fields=['out_file'] ), name='outputnode' )\n",
      "    \n",
      "    #convertmgz = pe.Node( fs.MRIConvert( out_type='mgz' ), name='convertmgz' )\n",
      "    pretess = pe.Node( niu.Function( input_names=['in_file', 'in_norm' ], output_names=['out_file'],\n",
      "                                    function=fsbt.MRIPreTess ), name='pretess' )\n",
      "    tess = pe.Node( fs.MRITessellate(label_value=1,use_real_RAS_coordinates=True), name='tess' )\n",
      "    smooth = pe.Node( fs.SmoothTessellation(disable_estimates=True ), name='mris_smooth' )\n",
      "    toVtk = pe.Node( niu.Function( input_names=['in_file'], output_names=['out_file'], function=mris_convert ), name=\"tovtk\" )\n",
      "    ds = pe.Node( nio.DataSink( container='', parameterization=False ), name='write' )\n",
      "    \n",
      "                                    \n",
      "    pipeline.connect( [\n",
      "                       \n",
      "                        (inputnode, pretess, [ ('in_file','in_file'), ('in_norm', 'in_norm' ) ] )\n",
      "                       ,(pretess,tess,       [ ('out_file', 'in_file' ) ])\n",
      "                       ,(tess,smooth,        [ ('surface', 'in_file' ) ])\n",
      "                       ,(smooth, toVtk,      [ ('surface', 'in_file' ) ])\n",
      "                       ,(toVtk, ds,          [ ('out_file', 'surfs' ) ])\n",
      "                       ,(inputnode,ds,       [ ('out_folder','base_directory') ])\n",
      "                       ,(ds, outputnode,     [ ('out_file','out_file') ])\n",
      "                       ])\n",
      "    \n",
      "    return pipeline"
     ],
     "language": "python",
     "metadata": {},
     "outputs": []
    },
    {
     "cell_type": "code",
     "collapsed": false,
     "input": [
      "for i,oname in enumerate( out_files ):\n",
      "    wf = binary2contour_workflow( name=(\"Contour_%02d\" % i ))\n",
      "    wf.base_dir = working_dir\n",
      "    wf.inputs.inputnode.in_file = oname\n",
      "    wf.inputs.inputnode.in_norm = op.join( model_dir, 't1_weighted.nii.gz' )\n",
      "    wf.inputs.inputnode.out_folder = working_dir\n",
      "    res = wf.run()"
     ],
     "language": "python",
     "metadata": {},
     "outputs": []
    }
   ],
   "metadata": {}
  }
 ]
}