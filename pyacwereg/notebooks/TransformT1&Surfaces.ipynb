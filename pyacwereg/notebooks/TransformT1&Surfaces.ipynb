{
 "metadata": {
  "name": ""
 },
 "nbformat": 3,
 "nbformat_minor": 0,
 "worksheets": [
  {
   "cells": [
    {
     "cell_type": "code",
     "collapsed": false,
     "input": [
      "import numpy as np\n",
      "import nibabel as nib\n",
      "from tvtk.api import tvtk\n",
      "import datetime as dt\n",
      "import os\n",
      "import os.path as op"
     ],
     "language": "python",
     "metadata": {},
     "outputs": [],
     "prompt_number": 11
    },
    {
     "cell_type": "code",
     "collapsed": false,
     "input": [
      "root_dir='/media/data/DTI_Repeatability'\n",
      "working_dir= '/home/oesteban/workspace/ACWE-Reg/temp'"
     ],
     "language": "python",
     "metadata": {},
     "outputs": [],
     "prompt_number": 2
    },
    {
     "cell_type": "markdown",
     "metadata": {},
     "source": [
      "<h1>Transform T1 to dMRI space</h1>\n",
      "Apply direct transform, obtained from bbreg (file bbreg/dti2t1.dat) to map T1 into the dMRI. This example show how to use the different headers and matrices to transform from conformed space to dMRI"
     ]
    },
    {
     "cell_type": "code",
     "collapsed": false,
     "input": [
      "from nipy.algorithms.resample import resample\n",
      "from nipy import load_image\n",
      "from nipy import save_image\n",
      "from nipy.core.api import Image\n",
      "import sys\n",
      "sys.path.append('/home/oesteban/workspace/ACWE-Reg/Scripts/utils')\n",
      "import fsb_transform as fsbt\n",
      "\n",
      "data_dir = op.join( root_dir, 'SurfacesTest' )"
     ],
     "language": "python",
     "metadata": {},
     "outputs": [
      {
       "ename": "ImportError",
       "evalue": "No module named fsb_transform",
       "output_type": "pyerr",
       "traceback": [
        "\u001b[1;31m---------------------------------------------------------------------------\u001b[0m\n\u001b[1;31mImportError\u001b[0m                               Traceback (most recent call last)",
        "\u001b[1;32m<ipython-input-1-afc0967406cb>\u001b[0m in \u001b[0;36m<module>\u001b[1;34m()\u001b[0m\n\u001b[0;32m      5\u001b[0m \u001b[1;32mimport\u001b[0m \u001b[0msys\u001b[0m\u001b[1;33m\u001b[0m\u001b[0m\n\u001b[0;32m      6\u001b[0m \u001b[0msys\u001b[0m\u001b[1;33m.\u001b[0m\u001b[0mpath\u001b[0m\u001b[1;33m.\u001b[0m\u001b[0mappend\u001b[0m\u001b[1;33m(\u001b[0m\u001b[1;34m'/home/oesteban/workspace/ACWE-Reg/Scripts/utils'\u001b[0m\u001b[1;33m)\u001b[0m\u001b[1;33m\u001b[0m\u001b[0m\n\u001b[1;32m----> 7\u001b[1;33m \u001b[1;32mimport\u001b[0m \u001b[0mfsb_transform\u001b[0m \u001b[1;32mas\u001b[0m \u001b[0mfsbt\u001b[0m\u001b[1;33m\u001b[0m\u001b[0m\n\u001b[0m\u001b[0;32m      8\u001b[0m \u001b[1;33m\u001b[0m\u001b[0m\n\u001b[0;32m      9\u001b[0m \u001b[0mdata_dir\u001b[0m \u001b[1;33m=\u001b[0m \u001b[0mop\u001b[0m\u001b[1;33m.\u001b[0m\u001b[0mjoin\u001b[0m\u001b[1;33m(\u001b[0m \u001b[0mroot_dir\u001b[0m\u001b[1;33m,\u001b[0m \u001b[1;34m'SurfacesTest'\u001b[0m \u001b[1;33m)\u001b[0m\u001b[1;33m\u001b[0m\u001b[0m\n",
        "\u001b[1;31mImportError\u001b[0m: No module named fsb_transform"
       ]
      }
     ],
     "prompt_number": 1
    },
    {
     "cell_type": "code",
     "collapsed": false,
     "input": [
      "bfname =  op.join( data_dir, \"DTI_b0_brain.nii.gz\")\n",
      "mrfname = op.join( data_dir, \"img/T1.nii\" )\n",
      "tfname = op.join( data_dir,'bbreg/dti2t1.dat')"
     ],
     "language": "python",
     "metadata": {},
     "outputs": [],
     "prompt_number": 6
    },
    {
     "cell_type": "code",
     "collapsed": false,
     "input": [
      "# Transform and inverse transform\n",
      "t1_to_b0_name = fsbt.transformVolume( mrfname, bfname, tfname )\n",
      "b0_to_t1_name = fsbt.transformVolume( mrfname, bfname, tfname, invert=True )"
     ],
     "language": "python",
     "metadata": {},
     "outputs": [
      {
       "output_type": "stream",
       "stream": "stderr",
       "text": [
        "/usr/local/lib/python2.7/dist-packages/nipy/io/files.py:137: FutureWarning: Default `strict` currently False; this will change to True in a future version of nipy\n",
        "  ni_img = nipy2nifti(img, data_dtype = io_dtype)\n"
       ]
      }
     ],
     "prompt_number": 23
    },
    {
     "cell_type": "markdown",
     "metadata": {},
     "source": [
      "<h1>Transform prior shapes to dMRI space</h1>\n",
      "The idea here is to resample the surfaces in dMRI space"
     ]
    },
    {
     "cell_type": "code",
     "collapsed": false,
     "input": [
      "data_dir = op.join( root_dir, 'SurfacesTest' )"
     ],
     "language": "python",
     "metadata": {},
     "outputs": [],
     "prompt_number": 4
    },
    {
     "cell_type": "code",
     "collapsed": false,
     "input": [
      "for surf in [ 'lh.white', 'rh.white', 'lh.pial', 'rh.pial' ]:\n",
      "    surf_path = op.join( root_dir, 'FREESURFER', 'OE0_T1', 'surf', surf )\n",
      "    outpath = op.join( data_dir, 'surf', 'init.%s.vtk' % surf )\n",
      "    outsurf = fsbt.transformSurface( surf_path, mrfname, bfname, tfname, outpath )"
     ],
     "language": "python",
     "metadata": {},
     "outputs": [],
     "prompt_number": 7
    },
    {
     "cell_type": "code",
     "collapsed": false,
     "input": [
      "seg_file = op.join( data_dir, 'img', 'aseg.nii.gz' )\n",
      "csf_labels = [ 4, 5, 43, 44, 14, 15, 72, 24 ]\n",
      "#csf_binarized = fsbt.CombineSegs( seg_file, csf_labels )\n",
      "\n",
      "wm_labels = [ 127, 255 ]"
     ],
     "language": "python",
     "metadata": {},
     "outputs": [],
     "prompt_number": 6
    },
    {
     "cell_type": "markdown",
     "metadata": {},
     "source": [
      "<h1>Generate CSF Surface</h1>\n",
      "This code generates the necessary csf surfaces. References:\n",
      "<ul>\n",
      "    <li>https://github.com/nipy/nipype/issues/307</li>\n",
      "    <li>https://mail.nmr.mgh.harvard.edu/pipermail//freesurfer/2011-November/021391.html</li>\n",
      "    <li>http://brainder.org/2012/05/08/importing-freesurfer-subcortical-structures-into-blender/</li>\n",
      "    <li>https://mail.nmr.mgh.harvard.edu/pipermail/freesurfer/2013-June/030586.html</li>\n",
      "</ul>   "
     ]
    },
    {
     "cell_type": "code",
     "collapsed": false,
     "input": [
      "import os\n",
      "import os.path as op\n",
      "import nipype.pipeline.engine as pe             # pipeline engine\n",
      "import pyacwereg.workflows.epi as epi\n",
      "from IPython.display import Image\n",
      "from pyacwereg.workflows.evaluation import bspline\n",
      "data_dir = op.join( '/media/mnemea/', 'IXI_dataset' )\n",
      "work_dir = op.abspath( '/home/oesteban/tmp' )"
     ],
     "language": "python",
     "metadata": {},
     "outputs": [],
     "prompt_number": 1
    },
    {
     "cell_type": "code",
     "collapsed": false,
     "input": [
      "mm = bspline()\n",
      "mm.base_dir = work_dir\n",
      "mm.inputs.inputnode.subject_id = 'S400'\n",
      "mm.inputs.inputnode.data_dir = data_dir\n",
      "mm.inputs.inputnode.grid_size = 6\n",
      "mm.run()"
     ],
     "language": "python",
     "metadata": {},
     "outputs": [
      {
       "output_type": "stream",
       "stream": "stderr",
       "text": [
        "INFO:workflow:['check', 'execution', 'logging']\n"
       ]
      },
      {
       "output_type": "stream",
       "stream": "stderr",
       "text": [
        "INFO:workflow:Running serially.\n"
       ]
      },
      {
       "output_type": "stream",
       "stream": "stderr",
       "text": [
        "INFO:workflow:Executing node FreesurferSource in dir: /home/oesteban/tmp/BSplineEvaluation/Prepare_sMRI/CSF_Surface/FreesurferSource\n"
       ]
      },
      {
       "output_type": "stream",
       "stream": "stderr",
       "text": [
        "INFO:workflow:Executing node DataSource in dir: /home/oesteban/tmp/BSplineEvaluation/Prepare_sMRI/DataSource\n"
       ]
      },
      {
       "output_type": "stream",
       "stream": "stderr",
       "text": [
        "INFO:workflow:Executing node T1toRAS in dir: /home/oesteban/tmp/BSplineEvaluation/Prepare_sMRI/T1toRAS\n"
       ]
      },
      {
       "output_type": "stream",
       "stream": "stderr",
       "text": [
        "INFO:workflow:Running: mri_convert --out_orientation RAS --out_type nii --input_volume /media/mnemea/IXI_dataset/subjects/S400/T1-Guys-0977.nii.gz --output_volume /home/oesteban/tmp/BSplineEvaluation/Prepare_sMRI/T1toRAS/T1-Guys-0977_out.nii.gz\n"
       ]
      },
      {
       "output_type": "stream",
       "stream": "stderr",
       "text": [
        "INFO:interface:stdout 2014-03-13T10:14:06.778896:mri_convert --out_orientation RAS --out_type nii --input_volume /media/mnemea/IXI_dataset/subjects/S400/T1-Guys-0977.nii.gz --output_volume /home/oesteban/tmp/BSplineEvaluation/Prepare_sMRI/T1toRAS/T1-Guys-0977_out.nii.gz \n"
       ]
      },
      {
       "output_type": "stream",
       "stream": "stderr",
       "text": [
        "INFO:interface:stdout 2014-03-13T10:14:08.958882:$Id: mri_convert.c,v 1.179.2.7 2012/09/05 21:55:16 mreuter Exp $\n"
       ]
      },
      {
       "output_type": "stream",
       "stream": "stderr",
       "text": [
        "INFO:interface:stdout 2014-03-13T10:14:08.958882:reading from /media/mnemea/IXI_dataset/subjects/S400/T1-Guys-0977.nii.gz...\n"
       ]
      },
      {
       "output_type": "stream",
       "stream": "stderr",
       "text": [
        "INFO:interface:stdout 2014-03-13T10:14:08.958882:TR=0.00, TE=0.00, TI=0.00, flip angle=0.00\n"
       ]
      },
      {
       "output_type": "stream",
       "stream": "stderr",
       "text": [
        "INFO:interface:stdout 2014-03-13T10:14:08.958882:i_ras = (-0.0250751, -0.999685, 0.000656502)\n"
       ]
      },
      {
       "output_type": "stream",
       "stream": "stderr",
       "text": [
        "INFO:interface:stdout 2014-03-13T10:14:08.958882:j_ras = (0.0759377, -0.00124993, 0.997112)\n"
       ]
      },
      {
       "output_type": "stream",
       "stream": "stderr",
       "text": [
        "INFO:interface:stdout 2014-03-13T10:14:08.958882:k_ras = (0.996797, -0.0250525, -0.0759451)\n"
       ]
      },
      {
       "output_type": "stream",
       "stream": "stderr",
       "text": [
        "INFO:interface:stdout 2014-03-13T10:14:08.958882:Setting output orientation to RAS\n"
       ]
      },
      {
       "output_type": "stream",
       "stream": "stderr",
       "text": [
        "INFO:interface:stdout 2014-03-13T10:14:08.958882:Reslicing using trilinear interpolation \n"
       ]
      },
      {
       "output_type": "stream",
       "stream": "stderr",
       "text": [
        "INFO:interface:stdout 2014-03-13T10:14:08.958882:writing to /home/oesteban/tmp/BSplineEvaluation/Prepare_sMRI/T1toRAS/T1-Guys-0977_out.nii.gz...\n"
       ]
      },
      {
       "output_type": "stream",
       "stream": "stderr",
       "text": [
        "INFO:workflow:Executing node surftfm in dir: /home/oesteban/tmp/BSplineEvaluation/Prepare_sMRI/Surfaces_to_native/surftfm\n"
       ]
      },
      {
       "output_type": "stream",
       "stream": "stderr",
       "text": [
        "INFO:workflow:Executing node toRAS in dir: /home/oesteban/tmp/BSplineEvaluation/Prepare_sMRI/CSF_Surface/toRAS\n"
       ]
      },
      {
       "output_type": "stream",
       "stream": "stderr",
       "text": [
        "INFO:workflow:Running: mri_convert --out_orientation RAS --out_type mgz --input_volume /media/mnemea/IXI_dataset/FREESURFER/S400/mri/rawavg.mgz --output_volume /home/oesteban/tmp/BSplineEvaluation/Prepare_sMRI/CSF_Surface/toRAS/rawavg_out.mgz\n"
       ]
      },
      {
       "output_type": "stream",
       "stream": "stderr",
       "text": [
        "INFO:interface:stdout 2014-03-13T10:14:10.552074:mri_convert --out_orientation RAS --out_type mgz --input_volume /media/mnemea/IXI_dataset/FREESURFER/S400/mri/rawavg.mgz --output_volume /home/oesteban/tmp/BSplineEvaluation/Prepare_sMRI/CSF_Surface/toRAS/rawavg_out.mgz \n"
       ]
      },
      {
       "output_type": "stream",
       "stream": "stderr",
       "text": [
        "INFO:interface:stdout 2014-03-13T10:14:13.692494:$Id: mri_convert.c,v 1.179.2.7 2012/09/05 21:55:16 mreuter Exp $\n"
       ]
      },
      {
       "output_type": "stream",
       "stream": "stderr",
       "text": [
        "INFO:interface:stdout 2014-03-13T10:14:13.692494:reading from /media/mnemea/IXI_dataset/FREESURFER/S400/mri/rawavg.mgz...\n"
       ]
      },
      {
       "output_type": "stream",
       "stream": "stderr",
       "text": [
        "INFO:interface:stdout 2014-03-13T10:14:13.692494:TR=0.00, TE=0.00, TI=0.00, flip angle=0.00\n"
       ]
      },
      {
       "output_type": "stream",
       "stream": "stderr",
       "text": [
        "INFO:interface:stdout 2014-03-13T10:14:13.692494:i_ras = (-0.0250751, -0.999685, 0.000656502)\n"
       ]
      },
      {
       "output_type": "stream",
       "stream": "stderr",
       "text": [
        "INFO:interface:stdout 2014-03-13T10:14:13.692494:j_ras = (0.0759377, -0.00124993, 0.997112)\n"
       ]
      },
      {
       "output_type": "stream",
       "stream": "stderr",
       "text": [
        "INFO:interface:stdout 2014-03-13T10:14:13.692494:k_ras = (0.996797, -0.0250525, -0.0759451)\n"
       ]
      },
      {
       "output_type": "stream",
       "stream": "stderr",
       "text": [
        "INFO:interface:stdout 2014-03-13T10:14:13.692494:Setting output orientation to RAS\n"
       ]
      },
      {
       "output_type": "stream",
       "stream": "stderr",
       "text": [
        "INFO:interface:stdout 2014-03-13T10:14:13.692494:Reslicing using trilinear interpolation \n"
       ]
      },
      {
       "output_type": "stream",
       "stream": "stderr",
       "text": [
        "INFO:interface:stdout 2014-03-13T10:14:13.692494:writing to /home/oesteban/tmp/BSplineEvaluation/Prepare_sMRI/CSF_Surface/toRAS/rawavg_out.mgz...\n"
       ]
      },
      {
       "output_type": "stream",
       "stream": "stderr",
       "text": [
        "INFO:workflow:Executing node TransformSurface in dir: /home/oesteban/tmp/BSplineEvaluation/Prepare_sMRI/Surfaces_to_native/TransformSurface\n"
       ]
      },
      {
       "output_type": "stream",
       "stream": "stderr",
       "text": [
        "INFO:workflow:Executing node _TransformSurface0 in dir: /home/oesteban/tmp/BSplineEvaluation/Prepare_sMRI/Surfaces_to_native/TransformSurface/mapflow/_TransformSurface0\n"
       ]
      },
      {
       "output_type": "stream",
       "stream": "stderr",
       "text": [
        "INFO:workflow:Executing node _TransformSurface1 in dir: /home/oesteban/tmp/BSplineEvaluation/Prepare_sMRI/Surfaces_to_native/TransformSurface/mapflow/_TransformSurface1\n"
       ]
      },
      {
       "output_type": "stream",
       "stream": "stderr",
       "text": [
        "INFO:workflow:Executing node _TransformSurface2 in dir: /home/oesteban/tmp/BSplineEvaluation/Prepare_sMRI/Surfaces_to_native/TransformSurface/mapflow/_TransformSurface2\n"
       ]
      },
      {
       "output_type": "stream",
       "stream": "stderr",
       "text": [
        "INFO:workflow:Executing node _TransformSurface3 in dir: /home/oesteban/tmp/BSplineEvaluation/Prepare_sMRI/Surfaces_to_native/TransformSurface/mapflow/_TransformSurface3\n"
       ]
      },
      {
       "output_type": "stream",
       "stream": "stderr",
       "text": [
        "INFO:workflow:Executing node T2w_to_T1w in dir: /home/oesteban/tmp/BSplineEvaluation/Prepare_sMRI/T2w_to_T1w\n"
       ]
      },
      {
       "output_type": "stream",
       "stream": "stderr",
       "text": [
        "INFO:workflow:Running: bbregister --t2 --init-header --reg /home/oesteban/tmp/BSplineEvaluation/Prepare_sMRI/T2w_to_T1w/T2-Guys-0977_bbreg_S400.dat --o /home/oesteban/tmp/BSplineEvaluation/Prepare_sMRI/T2w_to_T1w/T2-Guys-0977_bbreg.nii.gz --mov /home/oesteban/tmp/BSplineEvaluation/Prepare_sMRI/T2w_to_T1w/T2-Guys-0977.nii.gz --s S400\n"
       ]
      },
      {
       "output_type": "stream",
       "stream": "stderr",
       "text": [
        "INFO:interface:stdout 2014-03-13T10:14:26.301797:Log file is /home/oesteban/tmp/BSplineEvaluation/Prepare_sMRI/T2w_to_T1w/T2-Guys-0977_bbreg_S400.dat.log\n"
       ]
      },
      {
       "output_type": "stream",
       "stream": "stderr",
       "text": [
        "INFO:interface:stdout 2014-03-13T10:14:26.346554:Thu Mar 13 10:14:26 CET 2014\n"
       ]
      },
      {
       "output_type": "stream",
       "stream": "stderr",
       "text": [
        "INFO:interface:stdout 2014-03-13T10:14:26.347979:\n"
       ]
      },
      {
       "output_type": "stream",
       "stream": "stderr",
       "text": [
        "INFO:interface:stdout 2014-03-13T10:14:26.349717:setenv SUBJECTS_DIR /media/mnemea/IXI_dataset/FREESURFER\n"
       ]
      },
      {
       "output_type": "stream",
       "stream": "stderr",
       "text": [
        "INFO:interface:stdout 2014-03-13T10:14:26.430546:cd /home/oesteban/tmp/BSplineEvaluation/Prepare_sMRI/T2w_to_T1w\n"
       ]
      },
      {
       "output_type": "stream",
       "stream": "stderr",
       "text": [
        "INFO:interface:stdout 2014-03-13T10:14:26.432364:/opt/freesurfer/bin/bbregister --t2 --init-header --reg /home/oesteban/tmp/BSplineEvaluation/Prepare_sMRI/T2w_to_T1w/T2-Guys-0977_bbreg_S400.dat --o /home/oesteban/tmp/BSplineEvaluation/Prepare_sMRI/T2w_to_T1w/T2-Guys-0977_bbreg.nii.gz --mov /home/oesteban/tmp/BSplineEvaluation/Prepare_sMRI/T2w_to_T1w/T2-Guys-0977.nii.gz --s S400\n"
       ]
      },
      {
       "output_type": "stream",
       "stream": "stderr",
       "text": [
        "INFO:interface:stdout 2014-03-13T10:14:26.433364:\n"
       ]
      },
      {
       "output_type": "stream",
       "stream": "stderr",
       "text": [
        "INFO:interface:stdout 2014-03-13T10:14:26.434158:$Id: bbregister,v 1.49.2.3 2013/03/25 18:04:53 greve Exp $\n"
       ]
      },
      {
       "output_type": "stream",
       "stream": "stderr",
       "text": [
        "INFO:interface:stdout 2014-03-13T10:14:26.434929:Linux tea 3.11.0-18-generic #32-Ubuntu SMP Tue Feb 18 21:11:14 UTC 2014 x86_64 x86_64 x86_64 GNU/Linux\n"
       ]
      },
      {
       "output_type": "stream",
       "stream": "stderr",
       "text": [
        "INFO:interface:stdout 2014-03-13T10:14:26.435652:FREESURFER_HOME /opt/freesurfer\n"
       ]
      },
      {
       "output_type": "stream",
       "stream": "stderr",
       "text": [
        "INFO:interface:stdout 2014-03-13T10:14:26.436565:mri_convert /home/oesteban/tmp/BSplineEvaluation/Prepare_sMRI/T2w_to_T1w/T2-Guys-0977.nii.gz /home/oesteban/tmp/BSplineEvaluation/Prepare_sMRI/T2w_to_T1w/tmp.bbregister.16910/template.nii\n"
       ]
      },
      {
       "output_type": "stream",
       "stream": "stderr",
       "text": [
        "INFO:interface:stdout 2014-03-13T10:14:26.445034:mri_convert /home/oesteban/tmp/BSplineEvaluation/Prepare_sMRI/T2w_to_T1w/T2-Guys-0977.nii.gz /home/oesteban/tmp/BSplineEvaluation/Prepare_sMRI/T2w_to_T1w/tmp.bbregister.16910/template.nii \n"
       ]
      },
      {
       "output_type": "stream",
       "stream": "stderr",
       "text": [
        "INFO:interface:stdout 2014-03-13T10:14:27.208554:$Id: mri_convert.c,v 1.179.2.7 2012/09/05 21:55:16 mreuter Exp $\n"
       ]
      },
      {
       "output_type": "stream",
       "stream": "stderr",
       "text": [
        "INFO:interface:stdout 2014-03-13T10:14:27.208554:reading from /home/oesteban/tmp/BSplineEvaluation/Prepare_sMRI/T2w_to_T1w/T2-Guys-0977.nii.gz...\n"
       ]
      },
      {
       "output_type": "stream",
       "stream": "stderr",
       "text": [
        "INFO:interface:stdout 2014-03-13T10:14:27.208554:TR=0.00, TE=0.00, TI=0.00, flip angle=0.00\n"
       ]
      },
      {
       "output_type": "stream",
       "stream": "stderr",
       "text": [
        "INFO:interface:stdout 2014-03-13T10:14:27.208554:i_ras = (-0.999544, 0.0108713, 0.0281547)\n"
       ]
      },
      {
       "output_type": "stream",
       "stream": "stderr",
       "text": [
        "INFO:interface:stdout 2014-03-13T10:14:27.208554:j_ras = (0.0158095, 0.983244, 0.181608)\n"
       ]
      },
      {
       "output_type": "stream",
       "stream": "stderr",
       "text": [
        "INFO:interface:stdout 2014-03-13T10:14:27.208554:k_ras = (0.0257086, -0.181971, 0.982968)\n"
       ]
      },
      {
       "output_type": "stream",
       "stream": "stderr",
       "text": [
        "INFO:interface:stdout 2014-03-13T10:14:27.208554:writing to /home/oesteban/tmp/BSplineEvaluation/Prepare_sMRI/T2w_to_T1w/tmp.bbregister.16910/template.nii...\n"
       ]
      },
      {
       "output_type": "stream",
       "stream": "stderr",
       "text": [
        "INFO:interface:stdout 2014-03-13T10:14:27.213446:tkregister2_cmdl --s S400 --mov /home/oesteban/tmp/BSplineEvaluation/Prepare_sMRI/T2w_to_T1w/tmp.bbregister.16910/template.nii --regheader --reg /home/oesteban/tmp/BSplineEvaluation/Prepare_sMRI/T2w_to_T1w/tmp.bbregister.16910/reg.init.dat --noedit\n"
       ]
      },
      {
       "output_type": "stream",
       "stream": "stderr",
       "text": [
        "INFO:interface:stdout 2014-03-13T10:14:27.756219:tkregister_tcl /opt/freesurfer/tktools/tkregister2.tcl\n"
       ]
      },
      {
       "output_type": "stream",
       "stream": "stderr",
       "text": [
        "INFO:interface:stdout 2014-03-13T10:14:27.756219:INFO: no target volume specified, assuming FreeSurfer orig volume.\n"
       ]
      },
      {
       "output_type": "stream",
       "stream": "stderr",
       "text": [
        "INFO:interface:stdout 2014-03-13T10:14:27.756219:target  volume orig\n"
       ]
      },
      {
       "output_type": "stream",
       "stream": "stderr",
       "text": [
        "INFO:interface:stdout 2014-03-13T10:14:27.756219:movable volume /home/oesteban/tmp/BSplineEvaluation/Prepare_sMRI/T2w_to_T1w/tmp.bbregister.16910/template.nii\n"
       ]
      },
      {
       "output_type": "stream",
       "stream": "stderr",
       "text": [
        "INFO:interface:stdout 2014-03-13T10:14:27.756219:reg file       /home/oesteban/tmp/BSplineEvaluation/Prepare_sMRI/T2w_to_T1w/tmp.bbregister.16910/reg.init.dat\n"
       ]
      },
      {
       "output_type": "stream",
       "stream": "stderr",
       "text": [
        "INFO:interface:stdout 2014-03-13T10:14:27.756219:LoadVol        0\n"
       ]
      },
      {
       "output_type": "stream",
       "stream": "stderr",
       "text": [
        "INFO:interface:stdout 2014-03-13T10:14:27.756219:ZeroCRAS       0\n"
       ]
      },
      {
       "output_type": "stream",
       "stream": "stderr",
       "text": [
        "INFO:interface:stdout 2014-03-13T10:14:27.756219:$Id: tkregister2.c,v 1.121.2.1 2011/03/28 20:25:16 greve Exp $\n"
       ]
      },
      {
       "output_type": "stream",
       "stream": "stderr",
       "text": [
        "INFO:interface:stdout 2014-03-13T10:14:27.756219:Diagnostic Level -1\n"
       ]
      },
      {
       "output_type": "stream",
       "stream": "stderr",
       "text": [
        "INFO:interface:stdout 2014-03-13T10:14:27.756219:INFO: loading target /media/mnemea/IXI_dataset/FREESURFER/S400/mri/orig.mgz\n"
       ]
      },
      {
       "output_type": "stream",
       "stream": "stderr",
       "text": [
        "INFO:interface:stdout 2014-03-13T10:14:27.756219:Ttarg: --------------------\n"
       ]
      },
      {
       "output_type": "stream",
       "stream": "stderr",
       "text": [
        "INFO:interface:stdout 2014-03-13T10:14:27.756219:-1.000   0.000   0.000   128.000;\n"
       ]
      },
      {
       "output_type": "stream",
       "stream": "stderr",
       "text": [
        "INFO:interface:stdout 2014-03-13T10:14:27.756219: 0.000   0.000   1.000  -128.000;\n"
       ]
      },
      {
       "output_type": "stream",
       "stream": "stderr",
       "text": [
        "INFO:interface:stdout 2014-03-13T10:14:27.756219: 0.000  -1.000   0.000   128.000;\n"
       ]
      },
      {
       "output_type": "stream",
       "stream": "stderr",
       "text": [
        "INFO:interface:stdout 2014-03-13T10:14:27.756219: 0.000   0.000   0.000   1.000;\n"
       ]
      },
      {
       "output_type": "stream",
       "stream": "stderr",
       "text": [
        "INFO:interface:stdout 2014-03-13T10:14:27.756219:INFO: loading movable /home/oesteban/tmp/BSplineEvaluation/Prepare_sMRI/T2w_to_T1w/tmp.bbregister.16910/template.nii\n"
       ]
      },
      {
       "output_type": "stream",
       "stream": "stderr",
       "text": [
        "INFO:interface:stdout 2014-03-13T10:14:27.756219:Tmov: --------------------\n"
       ]
      },
      {
       "output_type": "stream",
       "stream": "stderr",
       "text": [
        "INFO:interface:stdout 2014-03-13T10:14:27.756219:-0.938   0.000   0.000   120.000;\n"
       ]
      },
      {
       "output_type": "stream",
       "stream": "stderr",
       "text": [
        "INFO:interface:stdout 2014-03-13T10:14:27.756219: 0.000   0.000   1.250  -81.250;\n"
       ]
      },
      {
       "output_type": "stream",
       "stream": "stderr",
       "text": [
        "INFO:interface:stdout 2014-03-13T10:14:27.756219: 0.000  -0.938   0.000   120.000;\n"
       ]
      },
      {
       "output_type": "stream",
       "stream": "stderr",
       "text": [
        "INFO:interface:stdout 2014-03-13T10:14:27.756219: 0.000   0.000   0.000   1.000;\n"
       ]
      },
      {
       "output_type": "stream",
       "stream": "stderr",
       "text": [
        "INFO:interface:stdout 2014-03-13T10:14:27.767410:mkheaderreg = 1, float2int = 0\n"
       ]
      },
      {
       "output_type": "stream",
       "stream": "stderr",
       "text": [
        "INFO:interface:stdout 2014-03-13T10:14:27.767410:Computing reg from header (and possibly input matrix)\n"
       ]
      },
      {
       "output_type": "stream",
       "stream": "stderr",
       "text": [
        "INFO:interface:stdout 2014-03-13T10:14:27.767410:---- Input registration matrix (computed) --------\n"
       ]
      },
      {
       "output_type": "stream",
       "stream": "stderr",
       "text": [
        "INFO:interface:stdout 2014-03-13T10:14:27.767410: 1.000  -0.011  -0.028  -0.375;\n"
       ]
      },
      {
       "output_type": "stream",
       "stream": "stderr",
       "text": [
        "INFO:interface:stdout 2014-03-13T10:14:27.767410: 0.026  -0.182   0.983  -10.525;\n"
       ]
      },
      {
       "output_type": "stream",
       "stream": "stderr",
       "text": [
        "INFO:interface:stdout 2014-03-13T10:14:27.767410:-0.016  -0.983  -0.182   1.184;\n"
       ]
      },
      {
       "output_type": "stream",
       "stream": "stderr",
       "text": [
        "INFO:interface:stdout 2014-03-13T10:14:27.767410: 0.000   0.000   0.000   1.000;\n"
       ]
      },
      {
       "output_type": "stream",
       "stream": "stderr",
       "text": [
        "INFO:interface:stdout 2014-03-13T10:14:27.767410:---------------------------------------\n"
       ]
      },
      {
       "output_type": "stream",
       "stream": "stderr",
       "text": [
        "INFO:interface:stdout 2014-03-13T10:14:27.767410:---- Input registration matrix --------\n"
       ]
      },
      {
       "output_type": "stream",
       "stream": "stderr",
       "text": [
        "INFO:interface:stdout 2014-03-13T10:14:27.767410: 1.000  -0.011  -0.028  -0.375;\n"
       ]
      },
      {
       "output_type": "stream",
       "stream": "stderr",
       "text": [
        "INFO:interface:stdout 2014-03-13T10:14:27.767410: 0.026  -0.182   0.983  -10.525;\n"
       ]
      },
      {
       "output_type": "stream",
       "stream": "stderr",
       "text": [
        "INFO:interface:stdout 2014-03-13T10:14:27.767410:-0.016  -0.983  -0.182   1.184;\n"
       ]
      },
      {
       "output_type": "stream",
       "stream": "stderr",
       "text": [
        "INFO:interface:stdout 2014-03-13T10:14:27.767410: 0.000   0.000   0.000   1.000;\n"
       ]
      },
      {
       "output_type": "stream",
       "stream": "stderr",
       "text": [
        "INFO:interface:stdout 2014-03-13T10:14:27.767410:Determinant 1\n"
       ]
      },
      {
       "output_type": "stream",
       "stream": "stderr",
       "text": [
        "INFO:interface:stdout 2014-03-13T10:14:27.767410:subject = S400\n"
       ]
      },
      {
       "output_type": "stream",
       "stream": "stderr",
       "text": [
        "INFO:interface:stdout 2014-03-13T10:14:27.767410:RegMat ---------------------------\n"
       ]
      },
      {
       "output_type": "stream",
       "stream": "stderr",
       "text": [
        "INFO:interface:stdout 2014-03-13T10:14:27.767410: 1.000  -0.011  -0.028  -0.375;\n"
       ]
      },
      {
       "output_type": "stream",
       "stream": "stderr",
       "text": [
        "INFO:interface:stdout 2014-03-13T10:14:27.767410: 0.026  -0.182   0.983  -10.525;\n"
       ]
      },
      {
       "output_type": "stream",
       "stream": "stderr",
       "text": [
        "INFO:interface:stdout 2014-03-13T10:14:27.767410:-0.016  -0.983  -0.182   1.184;\n"
       ]
      },
      {
       "output_type": "stream",
       "stream": "stderr",
       "text": [
        "INFO:interface:stdout 2014-03-13T10:14:27.767410: 0.000   0.000   0.000   1.000;\n"
       ]
      },
      {
       "output_type": "stream",
       "stream": "stderr",
       "text": [
        "INFO:interface:stdout 2014-03-13T10:14:27.767410:mri_segreg --mov /home/oesteban/tmp/BSplineEvaluation/Prepare_sMRI/T2w_to_T1w/tmp.bbregister.16910/template.nii --init-reg /home/oesteban/tmp/BSplineEvaluation/Prepare_sMRI/T2w_to_T1w/tmp.bbregister.16910/reg.init.dat --out-reg /home/oesteban/tmp/BSplineEvaluation/Prepare_sMRI/T2w_to_T1w/tmp.bbregister.16910/bbr.pass1.dat --subsamp-brute 100 --subsamp 100 --tol 1e-4 --tol1d 1e-3 --brute -4 4 4 --surf white --gm-proj-frac 0.5 --gm-gt-wm 0.5\n"
       ]
      },
      {
       "output_type": "stream",
       "stream": "stderr",
       "text": [
        "INFO:interface:stdout 2014-03-13T10:14:27.942663:$Id: mri_segreg.c,v 1.103.2.1 2011/10/07 19:14:42 greve Exp $\n"
       ]
      },
      {
       "output_type": "stream",
       "stream": "stderr",
       "text": [
        "INFO:interface:stdout 2014-03-13T10:14:27.942663:setenv SUBJECTS_DIR /media/mnemea/IXI_dataset/FREESURFER\n"
       ]
      },
      {
       "output_type": "stream",
       "stream": "stderr",
       "text": [
        "INFO:interface:stdout 2014-03-13T10:14:27.942663:cd /home/oesteban/tmp/BSplineEvaluation/Prepare_sMRI/T2w_to_T1w\n"
       ]
      },
      {
       "output_type": "stream",
       "stream": "stderr",
       "text": [
        "INFO:interface:stdout 2014-03-13T10:14:27.942663:mri_segreg --mov /home/oesteban/tmp/BSplineEvaluation/Prepare_sMRI/T2w_to_T1w/tmp.bbregister.16910/template.nii --init-reg /home/oesteban/tmp/BSplineEvaluation/Prepare_sMRI/T2w_to_T1w/tmp.bbregister.16910/reg.init.dat --out-reg /home/oesteban/tmp/BSplineEvaluation/Prepare_sMRI/T2w_to_T1w/tmp.bbregister.16910/bbr.pass1.dat --subsamp-brute 100 --subsamp 100 --tol 1e-4 --tol1d 1e-3 --brute -4 4 4 --surf white --gm-proj-frac 0.5 --gm-gt-wm 0.5 \n"
       ]
      },
      {
       "output_type": "stream",
       "stream": "stderr",
       "text": [
        "INFO:interface:stdout 2014-03-13T10:14:27.942663:sysname  Linux\n"
       ]
      },
      {
       "output_type": "stream",
       "stream": "stderr",
       "text": [
        "INFO:interface:stdout 2014-03-13T10:14:27.942663:hostname tea\n"
       ]
      },
      {
       "output_type": "stream",
       "stream": "stderr",
       "text": [
        "INFO:interface:stdout 2014-03-13T10:14:27.942663:machine  x86_64\n"
       ]
      },
      {
       "output_type": "stream",
       "stream": "stderr",
       "text": [
        "INFO:interface:stdout 2014-03-13T10:14:27.942663:user     oesteban\n"
       ]
      },
      {
       "output_type": "stream",
       "stream": "stderr",
       "text": [
        "INFO:interface:stdout 2014-03-13T10:14:27.942663:movvol /home/oesteban/tmp/BSplineEvaluation/Prepare_sMRI/T2w_to_T1w/tmp.bbregister.16910/template.nii\n"
       ]
      },
      {
       "output_type": "stream",
       "stream": "stderr",
       "text": [
        "INFO:interface:stdout 2014-03-13T10:14:27.942663:regfile /home/oesteban/tmp/BSplineEvaluation/Prepare_sMRI/T2w_to_T1w/tmp.bbregister.16910/reg.init.dat\n"
       ]
      },
      {
       "output_type": "stream",
       "stream": "stderr",
       "text": [
        "INFO:interface:stdout 2014-03-13T10:14:27.942663:subject S400\n"
       ]
      },
      {
       "output_type": "stream",
       "stream": "stderr",
       "text": [
        "INFO:interface:stdout 2014-03-13T10:14:27.942663:dof 6\n"
       ]
      },
      {
       "output_type": "stream",
       "stream": "stderr",
       "text": [
        "INFO:interface:stdout 2014-03-13T10:14:27.942663:outregfile /home/oesteban/tmp/BSplineEvaluation/Prepare_sMRI/T2w_to_T1w/tmp.bbregister.16910/bbr.pass1.dat\n"
       ]
      },
      {
       "output_type": "stream",
       "stream": "stderr",
       "text": [
        "INFO:interface:stdout 2014-03-13T10:14:27.942663:UseMask 0\n"
       ]
      },
      {
       "output_type": "stream",
       "stream": "stderr",
       "text": [
        "INFO:interface:stdout 2014-03-13T10:14:27.942663:UseLH 1\n"
       ]
      },
      {
       "output_type": "stream",
       "stream": "stderr",
       "text": [
        "INFO:interface:stdout 2014-03-13T10:14:27.942663:UseRH 1\n"
       ]
      },
      {
       "output_type": "stream",
       "stream": "stderr",
       "text": [
        "INFO:interface:stdout 2014-03-13T10:14:27.942663:nsubsamp 100\n"
       ]
      },
      {
       "output_type": "stream",
       "stream": "stderr",
       "text": [
        "INFO:interface:stdout 2014-03-13T10:14:27.942663:PenaltySign  -1\n"
       ]
      },
      {
       "output_type": "stream",
       "stream": "stderr",
       "text": [
        "INFO:interface:stdout 2014-03-13T10:14:27.942663:PenaltySlope 0.500000\n"
       ]
      },
      {
       "output_type": "stream",
       "stream": "stderr",
       "text": [
        "INFO:interface:stdout 2014-03-13T10:14:27.942663:PenaltyCenter 0.000000\n"
       ]
      },
      {
       "output_type": "stream",
       "stream": "stderr",
       "text": [
        "INFO:interface:stdout 2014-03-13T10:14:27.942663:surfname white\n"
       ]
      },
      {
       "output_type": "stream",
       "stream": "stderr",
       "text": [
        "INFO:interface:stdout 2014-03-13T10:14:27.942663:GMProjFrac 0.500000\n"
       ]
      },
      {
       "output_type": "stream",
       "stream": "stderr",
       "text": [
        "INFO:interface:stdout 2014-03-13T10:14:27.942663:WMProjAbs 2.000000\n"
       ]
      },
      {
       "output_type": "stream",
       "stream": "stderr",
       "text": [
        "INFO:interface:stdout 2014-03-13T10:14:27.942663:lhcostfile (null)\n"
       ]
      },
      {
       "output_type": "stream",
       "stream": "stderr",
       "text": [
        "INFO:interface:stdout 2014-03-13T10:14:27.942663:rhcostfile (null)\n"
       ]
      },
      {
       "output_type": "stream",
       "stream": "stderr",
       "text": [
        "INFO:interface:stdout 2014-03-13T10:14:27.942663:interp  trilinear (1)\n"
       ]
      },
      {
       "output_type": "stream",
       "stream": "stderr",
       "text": [
        "INFO:interface:stdout 2014-03-13T10:14:27.942663:frame  0\n"
       ]
      },
      {
       "output_type": "stream",
       "stream": "stderr",
       "text": [
        "INFO:interface:stdout 2014-03-13T10:14:27.942663:TolPowell 0.000100\n"
       ]
      },
      {
       "output_type": "stream",
       "stream": "stderr",
       "text": [
        "INFO:interface:stdout 2014-03-13T10:14:27.942663:nMaxItersPowell 36\n"
       ]
      },
      {
       "output_type": "stream",
       "stream": "stderr",
       "text": [
        "INFO:interface:stdout 2014-03-13T10:14:27.942663:n1dmin  3\n"
       ]
      },
      {
       "output_type": "stream",
       "stream": "stderr",
       "text": [
        "INFO:interface:stdout 2014-03-13T10:14:27.942663:Profile   0\n"
       ]
      },
      {
       "output_type": "stream",
       "stream": "stderr",
       "text": [
        "INFO:interface:stdout 2014-03-13T10:14:27.942663:Gdiag_no  -1\n"
       ]
      },
      {
       "output_type": "stream",
       "stream": "stderr",
       "text": [
        "INFO:interface:stdout 2014-03-13T10:14:27.942663:AddNoise  0 (0)\n"
       ]
      },
      {
       "output_type": "stream",
       "stream": "stderr",
       "text": [
        "INFO:interface:stdout 2014-03-13T10:14:27.942663:SynthSeed 1395634557\n"
       ]
      },
      {
       "output_type": "stream",
       "stream": "stderr",
       "text": [
        "INFO:interface:stdout 2014-03-13T10:14:27.942663:TransRandMax 0.000000\n"
       ]
      },
      {
       "output_type": "stream",
       "stream": "stderr",
       "text": [
        "INFO:interface:stdout 2014-03-13T10:14:27.942663:RotRandMax 0.000000\n"
       ]
      },
      {
       "output_type": "stream",
       "stream": "stderr",
       "text": [
        "INFO:interface:stdout 2014-03-13T10:14:27.942663:Translations 0.000000 0.000000 0.000000\n"
       ]
      },
      {
       "output_type": "stream",
       "stream": "stderr",
       "text": [
        "INFO:interface:stdout 2014-03-13T10:14:27.942663:Rotations   0.000000 0.000000 0.000000\n"
       ]
      },
      {
       "output_type": "stream",
       "stream": "stderr",
       "text": [
        "INFO:interface:stdout 2014-03-13T10:14:27.942663:Input reg\n"
       ]
      },
      {
       "output_type": "stream",
       "stream": "stderr",
       "text": [
        "INFO:interface:stdout 2014-03-13T10:14:27.942663: 1.000  -0.011  -0.028  -0.375;\n"
       ]
      },
      {
       "output_type": "stream",
       "stream": "stderr",
       "text": [
        "INFO:interface:stdout 2014-03-13T10:14:27.942663: 0.026  -0.182   0.983  -10.525;\n"
       ]
      },
      {
       "output_type": "stream",
       "stream": "stderr",
       "text": [
        "INFO:interface:stdout 2014-03-13T10:14:27.942663:-0.016  -0.983  -0.182   1.184;\n"
       ]
      },
      {
       "output_type": "stream",
       "stream": "stderr",
       "text": [
        "INFO:interface:stdout 2014-03-13T10:14:27.942663: 0.000   0.000   0.000   1.000;\n"
       ]
      },
      {
       "output_type": "stream",
       "stream": "stderr",
       "text": [
        "INFO:interface:stdout 2014-03-13T10:14:27.954644:\n"
       ]
      },
      {
       "output_type": "stream",
       "stream": "stderr",
       "text": [
        "INFO:interface:stdout 2014-03-13T10:14:30.501920:Loading mov\n"
       ]
      },
      {
       "output_type": "stream",
       "stream": "stderr",
       "text": [
        "INFO:interface:stdout 2014-03-13T10:14:30.501920:Projecting LH Surfs\n"
       ]
      },
      {
       "output_type": "stream",
       "stream": "stderr",
       "text": [
        "INFO:interface:stdout 2014-03-13T10:14:30.501920:Loading lh.white surf\n"
       ]
      },
      {
       "output_type": "stream",
       "stream": "stderr",
       "text": [
        "INFO:interface:stdout 2014-03-13T10:14:30.501920:Loading lh.thickness for GM\n"
       ]
      },
      {
       "output_type": "stream",
       "stream": "stderr",
       "text": [
        "INFO:interface:stdout 2014-03-13T10:14:32.539809:GM Proj: 1 0.500000 2.000000\n"
       ]
      },
      {
       "output_type": "stream",
       "stream": "stderr",
       "text": [
        "INFO:interface:stdout 2014-03-13T10:14:32.539809:WM Proj: 0 0.500000 2.000000\n"
       ]
      },
      {
       "output_type": "stream",
       "stream": "stderr",
       "text": [
        "INFO:interface:stdout 2014-03-13T10:14:32.539809:Projecting RH Surfs\n"
       ]
      },
      {
       "output_type": "stream",
       "stream": "stderr",
       "text": [
        "INFO:interface:stdout 2014-03-13T10:14:32.539809:Loading rh.white surf\n"
       ]
      },
      {
       "output_type": "stream",
       "stream": "stderr",
       "text": [
        "INFO:interface:stdout 2014-03-13T10:14:32.539809:Loading rh.thickness\n"
       ]
      },
      {
       "output_type": "stream",
       "stream": "stderr",
       "text": [
        "INFO:interface:stdout 2014-03-13T10:14:33.690887:Projecting RH Surfs\n"
       ]
      },
      {
       "output_type": "stream",
       "stream": "stderr",
       "text": [
        "INFO:interface:stdout 2014-03-13T10:14:33.690887:Computing relative cost\n"
       ]
      },
      {
       "output_type": "stream",
       "stream": "stderr",
       "text": [
        "INFO:interface:stdout 2014-03-13T10:14:33.690887: 0  -25.0 -25.0 -25.0   0.989764\n"
       ]
      },
      {
       "output_type": "stream",
       "stream": "stderr",
       "text": [
        "INFO:interface:stdout 2014-03-13T10:14:33.690887: 1  -25.0 -25.0  25.0   1.020268\n"
       ]
      },
      {
       "output_type": "stream",
       "stream": "stderr",
       "text": [
        "INFO:interface:stdout 2014-03-13T10:14:33.690887: 2  -25.0  25.0 -25.0   1.007949\n"
       ]
      },
      {
       "output_type": "stream",
       "stream": "stderr",
       "text": [
        "INFO:interface:stdout 2014-03-13T10:14:33.690887: 3  -25.0  25.0  25.0   0.987141\n"
       ]
      },
      {
       "output_type": "stream",
       "stream": "stderr",
       "text": [
        "INFO:interface:stdout 2014-03-13T10:14:33.690887: 4   25.0 -25.0 -25.0   0.978544\n"
       ]
      },
      {
       "output_type": "stream",
       "stream": "stderr",
       "text": [
        "INFO:interface:stdout 2014-03-13T10:14:33.690887: 5   25.0 -25.0  25.0   1.016415\n"
       ]
      },
      {
       "output_type": "stream",
       "stream": "stderr",
       "text": [
        "INFO:interface:stdout 2014-03-13T10:14:33.690887: 6   25.0  25.0 -25.0   0.982584\n"
       ]
      },
      {
       "output_type": "stream",
       "stream": "stderr",
       "text": [
        "INFO:interface:stdout 2014-03-13T10:14:33.690887: 7   25.0  25.0  25.0   0.992683\n"
       ]
      },
      {
       "output_type": "stream",
       "stream": "stderr",
       "text": [
        "INFO:interface:stdout 2014-03-13T10:14:33.690887:REL:  8  0.172538    7.975348  0.996918 rel = 0.173071 \n"
       ]
      },
      {
       "output_type": "stream",
       "stream": "stderr",
       "text": [
        "INFO:interface:stdout 2014-03-13T10:14:33.690887:Initial costs ----------------\n"
       ]
      },
      {
       "output_type": "stream",
       "stream": "stderr",
       "text": [
        "INFO:interface:stdout 2014-03-13T10:14:33.690887:Number of surface hits 2495\n"
       ]
      },
      {
       "output_type": "stream",
       "stream": "stderr",
       "text": [
        "INFO:interface:stdout 2014-03-13T10:14:33.690887:WM  Intensity   122.6874 +/-  21.6326\n"
       ]
      },
      {
       "output_type": "stream",
       "stream": "stderr",
       "text": [
        "INFO:interface:stdout 2014-03-13T10:14:33.690887:Ctx Intensity   181.5675 +/-  52.9289\n"
       ]
      },
      {
       "output_type": "stream",
       "stream": "stderr",
       "text": [
        "INFO:interface:stdout 2014-03-13T10:14:33.690887:Pct Contrast     35.8181 +/-  27.1903\n"
       ]
      },
      {
       "output_type": "stream",
       "stream": "stderr",
       "text": [
        "INFO:interface:stdout 2014-03-13T10:14:33.690887:Cost   0.1725\n"
       ]
      },
      {
       "output_type": "stream",
       "stream": "stderr",
       "text": [
        "INFO:interface:stdout 2014-03-13T10:14:33.690887:RelCost   0.1731\n"
       ]
      },
      {
       "output_type": "stream",
       "stream": "stderr",
       "text": [
        "INFO:interface:stdout 2014-03-13T10:14:33.690887:\n"
       ]
      },
      {
       "output_type": "stream",
       "stream": "stderr",
       "text": [
        "INFO:interface:stdout 2014-03-13T10:14:33.690887:------------------------------------\n"
       ]
      },
      {
       "output_type": "stream",
       "stream": "stderr",
       "text": [
        "INFO:interface:stdout 2014-03-13T10:14:33.690887:Brute force preopt -4 4 4, n = 729\n"
       ]
      },
      {
       "output_type": "stream",
       "stream": "stderr",
       "text": [
        "INFO:interface:stdout 2014-03-13T10:14:33.695906:     0  -4.0000  -4.0000  -4.0000  -4.0000  -4.0000  -4.0000      0.9644   0.9644  0.0\n"
       ]
      },
      {
       "output_type": "stream",
       "stream": "stderr",
       "text": [
        "INFO:interface:stdout 2014-03-13T10:14:33.696948:     1  -4.0000  -4.0000  -4.0000  -4.0000  -4.0000   0.0000      0.9314   0.9314  0.0\n"
       ]
      },
      {
       "output_type": "stream",
       "stream": "stderr",
       "text": [
        "INFO:interface:stdout 2014-03-13T10:14:33.712070:     7  -4.0000  -4.0000  -4.0000  -4.0000   4.0000   0.0000      0.8904   0.8904  0.0\n"
       ]
      },
      {
       "output_type": "stream",
       "stream": "stderr",
       "text": [
        "INFO:interface:stdout 2014-03-13T10:14:33.720033:    11  -4.0000  -4.0000  -4.0000   0.0000  -4.0000   4.0000      0.8800   0.8800  0.0\n"
       ]
      },
      {
       "output_type": "stream",
       "stream": "stderr",
       "text": [
        "INFO:interface:stdout 2014-03-13T10:14:33.726505:    15  -4.0000  -4.0000  -4.0000   0.0000   4.0000  -4.0000      0.8021   0.8021  0.0\n"
       ]
      },
      {
       "output_type": "stream",
       "stream": "stderr",
       "text": [
        "INFO:interface:stdout 2014-03-13T10:14:33.762457:    33  -4.0000  -4.0000   0.0000  -4.0000   4.0000  -4.0000      0.7761   0.7761  0.0\n"
       ]
      },
      {
       "output_type": "stream",
       "stream": "stderr",
       "text": [
        "INFO:interface:stdout 2014-03-13T10:14:33.765191:    34  -4.0000  -4.0000   0.0000  -4.0000   4.0000   0.0000      0.7573   0.7573  0.0\n"
       ]
      },
      {
       "output_type": "stream",
       "stream": "stderr",
       "text": [
        "INFO:interface:stdout 2014-03-13T10:14:33.913772:   120  -4.0000   0.0000   0.0000   0.0000   0.0000  -4.0000      0.7563   0.7563  0.0\n"
       ]
      },
      {
       "output_type": "stream",
       "stream": "stderr",
       "text": [
        "INFO:interface:stdout 2014-03-13T10:14:33.915579:   121  -4.0000   0.0000   0.0000   0.0000   0.0000   0.0000      0.7201   0.7201  0.0\n"
       ]
      },
      {
       "output_type": "stream",
       "stream": "stderr",
       "text": [
        "INFO:interface:stdout 2014-03-13T10:14:33.920072:   123  -4.0000   0.0000   0.0000   0.0000   4.0000  -4.0000      0.6909   0.6909  0.0\n"
       ]
      },
      {
       "output_type": "stream",
       "stream": "stderr",
       "text": [
        "INFO:interface:stdout 2014-03-13T10:14:33.921774:   124  -4.0000   0.0000   0.0000   0.0000   4.0000   0.0000      0.6370   0.6370  0.0\n"
       ]
      },
      {
       "output_type": "stream",
       "stream": "stderr",
       "text": [
        "INFO:interface:stdout 2014-03-13T10:14:34.296554:   346   0.0000   0.0000  -4.0000   4.0000   0.0000   0.0000      0.6358   0.6358  0.0\n"
       ]
      },
      {
       "output_type": "stream",
       "stream": "stderr",
       "text": [
        "INFO:interface:stdout 2014-03-13T10:14:34.311544:   355   0.0000   0.0000   0.0000  -4.0000   0.0000   0.0000      0.6260   0.6260  0.0\n"
       ]
      },
      {
       "output_type": "stream",
       "stream": "stderr",
       "text": [
        "INFO:interface:stdout 2014-03-13T10:14:34.326632:   364   0.0000   0.0000   0.0000   0.0000   0.0000   0.0000      0.1725   0.1725  0.0\n"
       ]
      },
      {
       "output_type": "stream",
       "stream": "stderr",
       "text": [
        "INFO:interface:stdout 2014-03-13T10:14:34.950119:Brute Force --------------------------\n"
       ]
      },
      {
       "output_type": "stream",
       "stream": "stderr",
       "text": [
        "INFO:interface:stdout 2014-03-13T10:14:34.950119:Min cost was 0.172538\n"
       ]
      },
      {
       "output_type": "stream",
       "stream": "stderr",
       "text": [
        "INFO:interface:stdout 2014-03-13T10:14:34.950119:Number of iterations   729\n"
       ]
      },
      {
       "output_type": "stream",
       "stream": "stderr",
       "text": [
        "INFO:interface:stdout 2014-03-13T10:14:34.950119:Search time 1.244000 sec\n"
       ]
      },
      {
       "output_type": "stream",
       "stream": "stderr",
       "text": [
        "INFO:interface:stdout 2014-03-13T10:14:34.950119:Parameters at best (transmm, rotdeg)\n"
       ]
      },
      {
       "output_type": "stream",
       "stream": "stderr",
       "text": [
        "INFO:interface:stdout 2014-03-13T10:14:34.950119:  0.000   0.000   0.000  0.000  0.000  0.000 \n"
       ]
      },
      {
       "output_type": "stream",
       "stream": "stderr",
       "text": [
        "INFO:interface:stdout 2014-03-13T10:14:34.950119:--------------------------------------------\n"
       ]
      },
      {
       "output_type": "stream",
       "stream": "stderr",
       "text": [
        "INFO:interface:stdout 2014-03-13T10:14:34.950119:\n"
       ]
      },
      {
       "output_type": "stream",
       "stream": "stderr",
       "text": [
        "INFO:interface:stdout 2014-03-13T10:14:34.950119:Starting Powell Minimization\n"
       ]
      },
      {
       "output_type": "stream",
       "stream": "stderr",
       "text": [
        "INFO:interface:stdout 2014-03-13T10:14:34.950119:Init Powel Params dof = 6\n"
       ]
      },
      {
       "output_type": "stream",
       "stream": "stderr",
       "text": [
        "INFO:interface:stdout 2014-03-13T10:14:34.950119:0 0\n"
       ]
      },
      {
       "output_type": "stream",
       "stream": "stderr",
       "text": [
        "INFO:interface:stdout 2014-03-13T10:14:34.950119:1 0\n"
       ]
      },
      {
       "output_type": "stream",
       "stream": "stderr",
       "text": [
        "INFO:interface:stdout 2014-03-13T10:14:34.950119:2 0\n"
       ]
      },
      {
       "output_type": "stream",
       "stream": "stderr",
       "text": [
        "INFO:interface:stdout 2014-03-13T10:14:34.950119:3 0\n"
       ]
      },
      {
       "output_type": "stream",
       "stream": "stderr",
       "text": [
        "INFO:interface:stdout 2014-03-13T10:14:34.950119:4 0\n"
       ]
      },
      {
       "output_type": "stream",
       "stream": "stderr",
       "text": [
        "INFO:interface:stdout 2014-03-13T10:14:34.950119:5 0\n"
       ]
      },
      {
       "output_type": "stream",
       "stream": "stderr",
       "text": [
        "INFO:interface:stdout 2014-03-13T10:14:34.950119:   9  0.146  0.000  0.000  0.000  0.000  0.000   0.1723846013\n"
       ]
      },
      {
       "output_type": "stream",
       "stream": "stderr",
       "text": [
        "INFO:interface:stdout 2014-03-13T10:14:34.957214:  13  0.125  0.000  0.000  0.000  0.000  0.000   0.1722854148\n"
       ]
      },
      {
       "output_type": "stream",
       "stream": "stderr",
       "text": [
        "INFO:interface:stdout 2014-03-13T10:14:34.958882:  14  0.124  0.000  0.000  0.000  0.000  0.000   0.1722829338\n"
       ]
      },
      {
       "output_type": "stream",
       "stream": "stderr",
       "text": [
        "INFO:interface:stdout 2014-03-13T10:14:34.960561:  15  0.111  0.000  0.000  0.000  0.000  0.000   0.1722644749\n"
       ]
      },
      {
       "output_type": "stream",
       "stream": "stderr",
       "text": [
        "INFO:interface:stdout 2014-03-13T10:14:34.964786:  17  0.116  0.000  0.000  0.000  0.000  0.000   0.1722573770\n"
       ]
      },
      {
       "output_type": "stream",
       "stream": "stderr",
       "text": [
        "INFO:interface:stdout 2014-03-13T10:14:34.966778:  18  0.115  0.000  0.000  0.000  0.000  0.000   0.1722573577\n"
       ]
      },
      {
       "output_type": "stream",
       "stream": "stderr",
       "text": [
        "INFO:interface:stdout 2014-03-13T10:14:34.977894:  24  0.115 -0.618  0.000  0.000  0.000  0.000   0.1441066610\n"
       ]
      },
      {
       "output_type": "stream",
       "stream": "stderr",
       "text": [
        "INFO:interface:stdout 2014-03-13T10:14:34.984977:  27  0.115 -0.723  0.000  0.000  0.000  0.000   0.1416455434\n"
       ]
      },
      {
       "output_type": "stream",
       "stream": "stderr",
       "text": [
        "INFO:interface:stdout 2014-03-13T10:14:34.988075:  29  0.115 -0.706  0.000  0.000  0.000  0.000   0.1415542445\n"
       ]
      },
      {
       "output_type": "stream",
       "stream": "stderr",
       "text": [
        "INFO:interface:stdout 2014-03-13T10:14:34.989581:  30  0.115 -0.707  0.000  0.000  0.000  0.000   0.1415465483\n"
       ]
      },
      {
       "output_type": "stream",
       "stream": "stderr",
       "text": [
        "INFO:interface:stdout 2014-03-13T10:14:34.991188:  31  0.115 -0.711  0.000  0.000  0.000  0.000   0.1415363237\n"
       ]
      },
      {
       "output_type": "stream",
       "stream": "stderr",
       "text": [
        "INFO:interface:stdout 2014-03-13T10:14:34.995242:  33  0.115 -0.710  0.000  0.000  0.000  0.000   0.1415337423\n"
       ]
      },
      {
       "output_type": "stream",
       "stream": "stderr",
       "text": [
        "INFO:interface:stdout 2014-03-13T10:14:34.997679:  34  0.115 -0.709  0.000  0.000  0.000  0.000   0.1415325872\n"
       ]
      },
      {
       "output_type": "stream",
       "stream": "stderr",
       "text": [
        "INFO:interface:stdout 2014-03-13T10:14:35.010754:  42  0.115 -0.709 -0.288  0.000  0.000  0.000   0.1387549549\n"
       ]
      },
      {
       "output_type": "stream",
       "stream": "stderr",
       "text": [
        "INFO:interface:stdout 2014-03-13T10:14:35.013071:  43  0.115 -0.709 -0.266  0.000  0.000  0.000   0.1386003440\n"
       ]
      },
      {
       "output_type": "stream",
       "stream": "stderr",
       "text": [
        "INFO:interface:stdout 2014-03-13T10:14:35.015199:  44  0.115 -0.709 -0.221  0.000  0.000  0.000   0.1379016724\n"
       ]
      },
      {
       "output_type": "stream",
       "stream": "stderr",
       "text": [
        "INFO:interface:stdout 2014-03-13T10:14:35.016857:  45  0.115 -0.709 -0.136  0.000  0.000  0.000   0.1364914297\n"
       ]
      },
      {
       "output_type": "stream",
       "stream": "stderr",
       "text": [
        "INFO:interface:stdout 2014-03-13T10:14:35.018448:  46  0.115 -0.709 -0.084  0.000  0.000  0.000   0.1357877486\n"
       ]
      },
      {
       "output_type": "stream",
       "stream": "stderr",
       "text": [
        "INFO:interface:stdout 2014-03-13T10:14:35.022430:  48  0.115 -0.709 -0.101  0.000  0.000  0.000   0.1356778394\n"
       ]
      },
      {
       "output_type": "stream",
       "stream": "stderr",
       "text": [
        "INFO:interface:stdout 2014-03-13T10:14:35.024379:  49  0.115 -0.709 -0.098  0.000  0.000  0.000   0.1356584551\n"
       ]
      },
      {
       "output_type": "stream",
       "stream": "stderr",
       "text": [
        "INFO:interface:stdout 2014-03-13T10:14:35.026455:  50  0.115 -0.709 -0.096  0.000  0.000  0.000   0.1356504913\n"
       ]
      },
      {
       "output_type": "stream",
       "stream": "stderr",
       "text": [
        "INFO:interface:stdout 2014-03-13T10:14:35.050801:  62  0.115 -0.709 -0.096  0.056  0.000  0.000   0.1355837969\n"
       ]
      },
      {
       "output_type": "stream",
       "stream": "stderr",
       "text": [
        "INFO:interface:stdout 2014-03-13T10:14:35.052498:  63  0.115 -0.709 -0.096  0.033  0.000  0.000   0.1353879893\n"
       ]
      },
      {
       "output_type": "stream",
       "stream": "stderr",
       "text": [
        "INFO:interface:stdout 2014-03-13T10:14:35.054118:  64  0.115 -0.709 -0.096  0.030  0.000  0.000   0.1353866552\n"
       ]
      },
      {
       "output_type": "stream",
       "stream": "stderr",
       "text": [
        "INFO:interface:stdout 2014-03-13T10:14:35.055764:  65  0.115 -0.709 -0.096  0.031  0.000  0.000   0.1353864538\n"
       ]
      },
      {
       "output_type": "stream",
       "stream": "stderr",
       "text": [
        "INFO:interface:stdout 2014-03-13T10:14:35.059326:  67  0.115 -0.709 -0.096  0.031  1.000  0.000   0.1113460931\n"
       ]
      },
      {
       "output_type": "stream",
       "stream": "stderr",
       "text": [
        "INFO:interface:stdout 2014-03-13T10:14:35.066735:  71  0.115 -0.709 -0.096  0.031  0.618  0.000   0.1064377728\n"
       ]
      },
      {
       "output_type": "stream",
       "stream": "stderr",
       "text": [
        "INFO:interface:stdout 2014-03-13T10:14:35.068456:  72  0.115 -0.709 -0.096  0.031  0.667  0.000   0.1056715560\n"
       ]
      },
      {
       "output_type": "stream",
       "stream": "stderr",
       "text": [
        "INFO:interface:stdout 2014-03-13T10:14:35.071816:  74  0.115 -0.709 -0.096  0.031  0.660  0.000   0.1056219243\n"
       ]
      },
      {
       "output_type": "stream",
       "stream": "stderr",
       "text": [
        "INFO:interface:stdout 2014-03-13T10:14:35.077667:  77  0.115 -0.709 -0.096  0.031  0.659  0.000   0.1056212780\n"
       ]
      },
      {
       "output_type": "stream",
       "stream": "stderr",
       "text": [
        "INFO:interface:stdout 2014-03-13T10:14:35.081104:  79  0.115 -0.709 -0.096  0.031  0.659  1.000   0.0545856001\n"
       ]
      },
      {
       "output_type": "stream",
       "stream": "stderr",
       "text": [
        "INFO:interface:stdout 2014-03-13T10:14:35.089566:  84  0.115 -0.709 -0.096  0.031  0.659  1.266   0.0515320013\n"
       ]
      },
      {
       "output_type": "stream",
       "stream": "stderr",
       "text": [
        "INFO:interface:stdout 2014-03-13T10:14:35.091801:  85  0.115 -0.709 -0.096  0.031  0.659  1.264   0.0515119387\n"
       ]
      },
      {
       "output_type": "stream",
       "stream": "stderr",
       "text": [
        "INFO:interface:stdout 2014-03-13T10:14:35.094310:  86  0.115 -0.709 -0.096  0.031  0.659  1.197   0.0506320076\n"
       ]
      },
      {
       "output_type": "stream",
       "stream": "stderr",
       "text": [
        "INFO:interface:stdout 2014-03-13T10:14:35.097709:  88  0.115 -0.709 -0.096  0.031  0.659  1.180   0.0506268368\n"
       ]
      },
      {
       "output_type": "stream",
       "stream": "stderr",
       "text": [
        "INFO:interface:stdout 2014-03-13T10:14:35.099737:  89  0.115 -0.709 -0.096  0.031  0.659  1.187   0.0506132476\n"
       ]
      },
      {
       "output_type": "stream",
       "stream": "stderr",
       "text": [
        "INFO:interface:stdout 2014-03-13T10:14:35.102283:  90  0.115 -0.709 -0.096  0.031  0.659  1.188   0.0506128103\n"
       ]
      },
      {
       "output_type": "stream",
       "stream": "stderr",
       "text": [
        "INFO:interface:stdout 2014-03-13T10:14:35.119849:  99 -0.072 -0.709 -0.096  0.031  0.659  1.188   0.0497557282\n"
       ]
      },
      {
       "output_type": "stream",
       "stream": "stderr",
       "text": [
        "INFO:interface:stdout 2014-03-13T10:14:35.121501: 100 -0.013 -0.709 -0.096  0.031  0.659  1.188   0.0486823251\n"
       ]
      },
      {
       "output_type": "stream",
       "stream": "stderr",
       "text": [
        "INFO:interface:stdout 2014-03-13T10:14:35.127534: 103 -0.009 -0.709 -0.096  0.031  0.659  1.188   0.0486486221\n"
       ]
      },
      {
       "output_type": "stream",
       "stream": "stderr",
       "text": [
        "INFO:interface:stdout 2014-03-13T10:14:35.144904: 113 -0.009 -0.574 -0.096  0.031  0.659  1.188   0.0485723276\n"
       ]
      },
      {
       "output_type": "stream",
       "stream": "stderr",
       "text": [
        "INFO:interface:stdout 2014-03-13T10:14:35.146791: 114 -0.009 -0.635 -0.096  0.031  0.659  1.188   0.0482083613\n"
       ]
      },
      {
       "output_type": "stream",
       "stream": "stderr",
       "text": [
        "INFO:interface:stdout 2014-03-13T10:14:35.149427: 115 -0.009 -0.638 -0.096  0.031  0.659  1.188   0.0481937389\n"
       ]
      },
      {
       "output_type": "stream",
       "stream": "stderr",
       "text": [
        "INFO:interface:stdout 2014-03-13T10:14:35.155086: 117 -0.009 -0.647 -0.096  0.031  0.659  1.188   0.0481751221\n"
       ]
      },
      {
       "output_type": "stream",
       "stream": "stderr",
       "text": [
        "INFO:interface:stdout 2014-03-13T10:14:35.157800: 118 -0.009 -0.648 -0.096  0.031  0.659  1.188   0.0481746096\n"
       ]
      },
      {
       "output_type": "stream",
       "stream": "stderr",
       "text": [
        "INFO:interface:stdout 2014-03-13T10:14:35.172643: 127 -0.009 -0.648 -0.124  0.031  0.659  1.188   0.0478176158\n"
       ]
      },
      {
       "output_type": "stream",
       "stream": "stderr",
       "text": [
        "INFO:interface:stdout 2014-03-13T10:14:35.174840: 128 -0.009 -0.648 -0.130  0.031  0.659  1.188   0.0478061589\n"
       ]
      },
      {
       "output_type": "stream",
       "stream": "stderr",
       "text": [
        "INFO:interface:stdout 2014-03-13T10:14:35.178004: 130 -0.009 -0.648 -0.131  0.031  0.659  1.188   0.0478060476\n"
       ]
      },
      {
       "output_type": "stream",
       "stream": "stderr",
       "text": [
        "INFO:interface:stdout 2014-03-13T10:14:35.195239: 139 -0.009 -0.648 -0.131 -0.240  0.659  1.188   0.0461139408\n"
       ]
      },
      {
       "output_type": "stream",
       "stream": "stderr",
       "text": [
        "INFO:interface:stdout 2014-03-13T10:14:35.198602: 140 -0.009 -0.648 -0.131 -0.191  0.659  1.188   0.0453344238\n"
       ]
      },
      {
       "output_type": "stream",
       "stream": "stderr",
       "text": [
        "INFO:interface:stdout 2014-03-13T10:14:35.207342: 144 -0.009 -0.648 -0.131 -0.194  0.659  1.188   0.0453323526\n"
       ]
      },
      {
       "output_type": "stream",
       "stream": "stderr",
       "text": [
        "INFO:interface:stdout 2014-03-13T10:14:35.209200: 145 -0.009 -0.648 -0.131 -0.193  0.659  1.188   0.0453321396\n"
       ]
      },
      {
       "output_type": "stream",
       "stream": "stderr",
       "text": [
        "INFO:interface:stdout 2014-03-13T10:14:35.223050: 153 -0.009 -0.648 -0.131 -0.193  0.679  1.188   0.0445114299\n"
       ]
      },
      {
       "output_type": "stream",
       "stream": "stderr",
       "text": [
        "INFO:interface:stdout 2014-03-13T10:14:35.224683: 154 -0.009 -0.648 -0.131 -0.193  0.772  1.188   0.0439938865\n"
       ]
      },
      {
       "output_type": "stream",
       "stream": "stderr",
       "text": [
        "INFO:interface:stdout 2014-03-13T10:14:35.230322: 157 -0.009 -0.648 -0.131 -0.193  0.811  1.188   0.0433971498\n"
       ]
      },
      {
       "output_type": "stream",
       "stream": "stderr",
       "text": [
        "INFO:interface:stdout 2014-03-13T10:14:35.234181: 159 -0.009 -0.648 -0.131 -0.193  0.813  1.188   0.0433907304\n"
       ]
      },
      {
       "output_type": "stream",
       "stream": "stderr",
       "text": [
        "INFO:interface:stdout 2014-03-13T10:14:35.236388: 160 -0.009 -0.648 -0.131 -0.193  0.816  1.188   0.0433832219\n"
       ]
      },
      {
       "output_type": "stream",
       "stream": "stderr",
       "text": [
        "INFO:interface:stdout 2014-03-13T10:14:35.258834: 171 -0.009 -0.648 -0.131 -0.193  0.816  1.170   0.0433753012\n"
       ]
      },
      {
       "output_type": "stream",
       "stream": "stderr",
       "text": [
        "INFO:interface:stdout 2014-03-13T10:14:35.263415: 174 -0.009 -0.648 -0.131 -0.193  0.816  1.137   0.0433606398\n"
       ]
      },
      {
       "output_type": "stream",
       "stream": "stderr",
       "text": [
        "INFO:interface:stdout 2014-03-13T10:14:35.266644: 176 -0.009 -0.648 -0.131 -0.193  0.816  1.150   0.0433595036\n"
       ]
      },
      {
       "output_type": "stream",
       "stream": "stderr",
       "text": [
        "INFO:interface:stdout 2014-03-13T10:14:35.269488: 177 -0.009 -0.648 -0.131 -0.193  0.816  1.145   0.0433581179\n"
       ]
      },
      {
       "output_type": "stream",
       "stream": "stderr",
       "text": [
        "INFO:interface:stdout 2014-03-13T10:14:35.287780: 188 -0.026 -0.648 -0.131 -0.193  0.816  1.145   0.0433518309\n"
       ]
      },
      {
       "output_type": "stream",
       "stream": "stderr",
       "text": [
        "INFO:interface:stdout 2014-03-13T10:14:35.289493: 189 -0.020 -0.648 -0.131 -0.193  0.816  1.145   0.0433467115\n"
       ]
      },
      {
       "output_type": "stream",
       "stream": "stderr",
       "text": [
        "INFO:interface:stdout 2014-03-13T10:14:35.291160: 190 -0.019 -0.648 -0.131 -0.193  0.816  1.145   0.0433461946\n"
       ]
      },
      {
       "output_type": "stream",
       "stream": "stderr",
       "text": [
        "INFO:interface:stdout 2014-03-13T10:14:35.295358: 192 -0.018 -0.648 -0.131 -0.193  0.816  1.145   0.0433458677\n"
       ]
      },
      {
       "output_type": "stream",
       "stream": "stderr",
       "text": [
        "INFO:interface:stdout 2014-03-13T10:14:35.297449: 193 -0.017 -0.648 -0.131 -0.193  0.816  1.145   0.0433458018\n"
       ]
      },
      {
       "output_type": "stream",
       "stream": "stderr",
       "text": [
        "INFO:interface:stdout 2014-03-13T10:14:35.315201: 201 -0.017 -0.620 -0.131 -0.193  0.816  1.145   0.0432514768\n"
       ]
      },
      {
       "output_type": "stream",
       "stream": "stderr",
       "text": [
        "INFO:interface:stdout 2014-03-13T10:14:35.317608: 202 -0.017 -0.617 -0.131 -0.193  0.816  1.145   0.0432420611\n"
       ]
      },
      {
       "output_type": "stream",
       "stream": "stderr",
       "text": [
        "INFO:interface:stdout 2014-03-13T10:14:35.321011: 204 -0.017 -0.610 -0.131 -0.193  0.816  1.145   0.0432318784\n"
       ]
      },
      {
       "output_type": "stream",
       "stream": "stderr",
       "text": [
        "INFO:interface:stdout 2014-03-13T10:14:35.322605: 205 -0.017 -0.609 -0.131 -0.193  0.816  1.145   0.0432317092\n"
       ]
      },
      {
       "output_type": "stream",
       "stream": "stderr",
       "text": [
        "INFO:interface:stdout 2014-03-13T10:14:35.342695: 217 -0.017 -0.609 -0.130 -0.193  0.816  1.145   0.0432306889\n"
       ]
      },
      {
       "output_type": "stream",
       "stream": "stderr",
       "text": [
        "INFO:interface:stdout 2014-03-13T10:14:35.356039: 225 -0.017 -0.609 -0.130 -0.247  0.816  1.145   0.0429896736\n"
       ]
      },
      {
       "output_type": "stream",
       "stream": "stderr",
       "text": [
        "INFO:interface:stdout 2014-03-13T10:14:35.359118: 227 -0.017 -0.609 -0.130 -0.235  0.816  1.145   0.0429566510\n"
       ]
      },
      {
       "output_type": "stream",
       "stream": "stderr",
       "text": [
        "INFO:interface:stdout 2014-03-13T10:14:35.364929: 230 -0.017 -0.609 -0.130 -0.237  0.816  1.145   0.0429560296\n"
       ]
      },
      {
       "output_type": "stream",
       "stream": "stderr",
       "text": [
        "INFO:interface:stdout 2014-03-13T10:14:35.391020: 243 -0.017 -0.609 -0.130 -0.237  0.819  1.145   0.0429534436\n"
       ]
      },
      {
       "output_type": "stream",
       "stream": "stderr",
       "text": [
        "INFO:interface:stdout 2014-03-13T10:14:35.392714: 244 -0.017 -0.609 -0.130 -0.237  0.820  1.145   0.0429524372\n"
       ]
      },
      {
       "output_type": "stream",
       "stream": "stderr",
       "text": [
        "INFO:interface:stdout 2014-03-13T10:14:35.397127: 246 -0.017 -0.609 -0.130 -0.237  0.821  1.145   0.0429522271\n"
       ]
      },
      {
       "output_type": "stream",
       "stream": "stderr",
       "text": [
        "INFO:interface:stdout 2014-03-13T10:14:35.409285: 254 -0.017 -0.609 -0.130 -0.237  0.821  1.204   0.0426887955\n"
       ]
      },
      {
       "output_type": "stream",
       "stream": "stderr",
       "text": [
        "INFO:interface:stdout 2014-03-13T10:14:35.411369: 255 -0.017 -0.609 -0.130 -0.237  0.821  1.219   0.0426393723\n"
       ]
      },
      {
       "output_type": "stream",
       "stream": "stderr",
       "text": [
        "INFO:interface:stdout 2014-03-13T10:14:35.418505: 259 -0.017 -0.609 -0.130 -0.237  0.821  1.233   0.0426075745\n"
       ]
      },
      {
       "output_type": "stream",
       "stream": "stderr",
       "text": [
        "INFO:interface:stdout 2014-03-13T10:14:35.420104: 260 -0.017 -0.609 -0.130 -0.237  0.821  1.235   0.0426060667\n"
       ]
      },
      {
       "output_type": "stream",
       "stream": "stderr",
       "text": [
        "INFO:interface:stdout 2014-03-13T10:14:35.421821: 261 -0.017 -0.609 -0.130 -0.237  0.821  1.238   0.0426057397\n"
       ]
      },
      {
       "output_type": "stream",
       "stream": "stderr",
       "text": [
        "INFO:interface:stdout 2014-03-13T10:14:35.425039: 263 -0.017 -0.609 -0.130 -0.237  0.821  1.237   0.0426055164\n"
       ]
      },
      {
       "output_type": "stream",
       "stream": "stderr",
       "text": [
        "INFO:interface:stdout 2014-03-13T10:14:35.462100: 282 -0.017 -0.591 -0.130 -0.237  0.821  1.237   0.0425625920\n"
       ]
      },
      {
       "output_type": "stream",
       "stream": "stderr",
       "text": [
        "INFO:interface:stdout 2014-03-13T10:14:35.465394: 284 -0.017 -0.597 -0.130 -0.237  0.821  1.237   0.0425402720\n"
       ]
      },
      {
       "output_type": "stream",
       "stream": "stderr",
       "text": [
        "INFO:interface:stdout 2014-03-13T10:14:35.466965: 285 -0.017 -0.598 -0.130 -0.237  0.821  1.237   0.0425393195\n"
       ]
      },
      {
       "output_type": "stream",
       "stream": "stderr",
       "text": [
        "INFO:interface:stdout 2014-03-13T10:14:35.480629: 293 -0.017 -0.598 -0.122 -0.237  0.821  1.237   0.0424798095\n"
       ]
      },
      {
       "output_type": "stream",
       "stream": "stderr",
       "text": [
        "INFO:interface:stdout 2014-03-13T10:14:35.482630: 294 -0.017 -0.598 -0.097 -0.237  0.821  1.237   0.0424650089\n"
       ]
      },
      {
       "output_type": "stream",
       "stream": "stderr",
       "text": [
        "INFO:interface:stdout 2014-03-13T10:14:35.486071: 296 -0.017 -0.598 -0.108 -0.237  0.821  1.237   0.0424430130\n"
       ]
      },
      {
       "output_type": "stream",
       "stream": "stderr",
       "text": [
        "INFO:interface:stdout 2014-03-13T10:14:35.487814: 297 -0.017 -0.598 -0.107 -0.237  0.821  1.237   0.0424420461\n"
       ]
      },
      {
       "output_type": "stream",
       "stream": "stderr",
       "text": [
        "INFO:interface:stdout 2014-03-13T10:14:35.502119: 306 -0.017 -0.598 -0.107 -0.213  0.821  1.237   0.0424289563\n"
       ]
      },
      {
       "output_type": "stream",
       "stream": "stderr",
       "text": [
        "INFO:interface:stdout 2014-03-13T10:14:35.503826: 307 -0.017 -0.598 -0.107 -0.223  0.821  1.237   0.0423903127\n"
       ]
      },
      {
       "output_type": "stream",
       "stream": "stderr",
       "text": [
        "INFO:interface:stdout 2014-03-13T10:14:35.532170: 321 -0.017 -0.598 -0.107 -0.223  0.816  1.237   0.0423820817\n"
       ]
      },
      {
       "output_type": "stream",
       "stream": "stderr",
       "text": [
        "INFO:interface:stdout 2014-03-13T10:14:35.533774: 322 -0.017 -0.598 -0.107 -0.223  0.817  1.237   0.0423808148\n"
       ]
      },
      {
       "output_type": "stream",
       "stream": "stderr",
       "text": [
        "INFO:interface:stdout 2014-03-13T10:14:35.549788: 332 -0.017 -0.598 -0.107 -0.223  0.817  1.240   0.0423715355\n"
       ]
      },
      {
       "output_type": "stream",
       "stream": "stderr",
       "text": [
        "INFO:interface:stdout 2014-03-13T10:14:35.551606: 333 -0.017 -0.598 -0.107 -0.223  0.817  1.248   0.0423654498\n"
       ]
      },
      {
       "output_type": "stream",
       "stream": "stderr",
       "text": [
        "INFO:interface:stdout 2014-03-13T10:14:35.553461: 334 -0.017 -0.598 -0.107 -0.223  0.817  1.247   0.0423649940\n"
       ]
      },
      {
       "output_type": "stream",
       "stream": "stderr",
       "text": [
        "INFO:interface:stdout 2014-03-13T10:14:35.577415: 348 -0.018 -0.598 -0.107 -0.223  0.817  1.247   0.0423595302\n"
       ]
      },
      {
       "output_type": "stream",
       "stream": "stderr",
       "text": [
        "INFO:interface:stdout 2014-03-13T10:14:35.579040: 349 -0.019 -0.598 -0.107 -0.223  0.817  1.247   0.0423566879\n"
       ]
      },
      {
       "output_type": "stream",
       "stream": "stderr",
       "text": [
        "INFO:interface:stdout 2014-03-13T10:14:35.582860: 351 -0.020 -0.598 -0.107 -0.223  0.817  1.247   0.0423561129\n"
       ]
      },
      {
       "output_type": "stream",
       "stream": "stderr",
       "text": [
        "INFO:interface:stdout 2014-03-13T10:14:35.597861: 358 -0.020 -0.585 -0.107 -0.223  0.817  1.247   0.0422913387\n"
       ]
      },
      {
       "output_type": "stream",
       "stream": "stderr",
       "text": [
        "INFO:interface:stdout 2014-03-13T10:14:35.602431: 360 -0.020 -0.586 -0.107 -0.223  0.817  1.247   0.0422888706\n"
       ]
      },
      {
       "output_type": "stream",
       "stream": "stderr",
       "text": [
        "INFO:interface:stdout 2014-03-13T10:14:35.605051: 361 -0.020 -0.588 -0.107 -0.223  0.817  1.247   0.0422870868\n"
       ]
      },
      {
       "output_type": "stream",
       "stream": "stderr",
       "text": [
        "INFO:interface:stdout 2014-03-13T10:14:35.625718: 374 -0.020 -0.588 -0.106 -0.223  0.817  1.247   0.0422866267\n"
       ]
      },
      {
       "output_type": "stream",
       "stream": "stderr",
       "text": [
        "INFO:interface:stdout 2014-03-13T10:14:35.645687: 383 -0.020 -0.588 -0.106 -0.220  0.817  1.247   0.0422709357\n"
       ]
      },
      {
       "output_type": "stream",
       "stream": "stderr",
       "text": [
        "INFO:interface:stdout 2014-03-13T10:14:35.647830: 384 -0.020 -0.588 -0.106 -0.214  0.817  1.247   0.0422530882\n"
       ]
      },
      {
       "output_type": "stream",
       "stream": "stderr",
       "text": [
        "INFO:interface:stdout 2014-03-13T10:14:35.652289: 386 -0.020 -0.588 -0.106 -0.213  0.817  1.247   0.0422526400\n"
       ]
      },
      {
       "output_type": "stream",
       "stream": "stderr",
       "text": [
        "INFO:interface:stdout 2014-03-13T10:14:35.695220: 410 -0.020 -0.588 -0.106 -0.213  0.817  1.248   0.0422526005\n"
       ]
      },
      {
       "output_type": "stream",
       "stream": "stderr",
       "text": [
        "INFO:interface:stdout 2014-03-13T10:14:35.699388: 412 -0.024 -0.577 -0.105 -0.204  0.817  1.249   0.0422405947\n"
       ]
      },
      {
       "output_type": "stream",
       "stream": "stderr",
       "text": [
        "INFO:interface:stdout 2014-03-13T10:14:35.708237: 418 -0.023 -0.581 -0.105 -0.207  0.817  1.248   0.0422349070\n"
       ]
      },
      {
       "output_type": "stream",
       "stream": "stderr",
       "text": [
        "INFO:interface:stdout 2014-03-13T10:14:35.710017: 419 -0.023 -0.581 -0.105 -0.207  0.817  1.248   0.0422346684\n"
       ]
      },
      {
       "output_type": "stream",
       "stream": "stderr",
       "text": [
        "INFO:interface:stdout 2014-03-13T10:14:35.712663: 420 -0.023 -0.581 -0.105 -0.207  0.817  1.248   0.0422346152\n"
       ]
      },
      {
       "output_type": "stream",
       "stream": "stderr",
       "text": [
        "INFO:interface:stdout 2014-03-13T10:14:35.718895: 424 -0.023 -0.581 -0.105 -0.207  0.817  1.248   0.0422345911\n"
       ]
      },
      {
       "output_type": "stream",
       "stream": "stderr",
       "text": [
        "INFO:interface:stdout 2014-03-13T10:14:35.761331: 446 -0.023 -0.581 -0.105 -0.207  0.817  1.242   0.0422270365\n"
       ]
      },
      {
       "output_type": "stream",
       "stream": "stderr",
       "text": [
        "INFO:interface:stdout 2014-03-13T10:14:35.763229: 447 -0.023 -0.581 -0.105 -0.207  0.817  1.243   0.0422266672\n"
       ]
      },
      {
       "output_type": "stream",
       "stream": "stderr",
       "text": [
        "INFO:interface:stdout 2014-03-13T10:14:35.778151: 456 -0.023 -0.581 -0.119 -0.207  0.817  1.244   0.0422171936\n"
       ]
      },
      {
       "output_type": "stream",
       "stream": "stderr",
       "text": [
        "INFO:interface:stdout 2014-03-13T10:14:35.779744: 457 -0.023 -0.581 -0.115 -0.207  0.817  1.244   0.0422025039\n"
       ]
      },
      {
       "output_type": "stream",
       "stream": "stderr",
       "text": [
        "INFO:interface:stdout 2014-03-13T10:14:35.781330: 458 -0.023 -0.581 -0.112 -0.207  0.817  1.244   0.0421984408\n"
       ]
      },
      {
       "output_type": "stream",
       "stream": "stderr",
       "text": [
        "INFO:interface:stdout 2014-03-13T10:14:35.807215: 470 -0.023 -0.581 -0.112 -0.203  0.817  1.244   0.0421894799\n"
       ]
      },
      {
       "output_type": "stream",
       "stream": "stderr",
       "text": [
        "INFO:interface:stdout 2014-03-13T10:14:35.831037: 484 -0.023 -0.581 -0.112 -0.203  0.819  1.244   0.0421817933\n"
       ]
      },
      {
       "output_type": "stream",
       "stream": "stderr",
       "text": [
        "INFO:interface:stdout 2014-03-13T10:14:35.832886: 485 -0.023 -0.581 -0.112 -0.203  0.820  1.244   0.0421795087\n"
       ]
      },
      {
       "output_type": "stream",
       "stream": "stderr",
       "text": [
        "INFO:interface:stdout 2014-03-13T10:14:35.847856: 492 -0.024 -0.577 -0.112 -0.199  0.820  1.245   0.0421732997\n"
       ]
      },
      {
       "output_type": "stream",
       "stream": "stderr",
       "text": [
        "INFO:interface:stdout 2014-03-13T10:14:35.856822: 497 -0.024 -0.576 -0.112 -0.199  0.820  1.245   0.0421732003\n"
       ]
      },
      {
       "output_type": "stream",
       "stream": "stderr",
       "text": [
        "INFO:interface:stdout 2014-03-13T10:14:35.870981: 505 -0.028 -0.565 -0.119 -0.184  0.824  1.242   0.0421682635\n"
       ]
      },
      {
       "output_type": "stream",
       "stream": "stderr",
       "text": [
        "INFO:interface:stdout 2014-03-13T10:14:35.913965: 529 -0.027 -0.576 -0.112 -0.199  0.820  1.241   0.0421658756\n"
       ]
      },
      {
       "output_type": "stream",
       "stream": "stderr",
       "text": [
        "INFO:interface:stdout 2014-03-13T10:14:35.918194: 531 -0.027 -0.576 -0.112 -0.199  0.820  1.242   0.0421658013\n"
       ]
      },
      {
       "output_type": "stream",
       "stream": "stderr",
       "text": [
        "INFO:interface:stdout 2014-03-13T10:14:35.935190: 539 -0.027 -0.576 -0.120 -0.199  0.820  1.242   0.0421552294\n"
       ]
      },
      {
       "output_type": "stream",
       "stream": "stderr",
       "text": [
        "INFO:interface:stdout 2014-03-13T10:14:35.938395: 541 -0.027 -0.576 -0.118 -0.199  0.820  1.242   0.0421508940\n"
       ]
      },
      {
       "output_type": "stream",
       "stream": "stderr",
       "text": [
        "INFO:interface:stdout 2014-03-13T10:14:35.957875: 553 -0.027 -0.576 -0.118 -0.196  0.820  1.242   0.0421473784\n"
       ]
      },
      {
       "output_type": "stream",
       "stream": "stderr",
       "text": [
        "INFO:interface:stdout 2014-03-13T10:14:35.982582: 567 -0.027 -0.576 -0.118 -0.196  0.821  1.242   0.0421431787\n"
       ]
      },
      {
       "output_type": "stream",
       "stream": "stderr",
       "text": [
        "INFO:interface:stdout 2014-03-13T10:14:35.984511: 568 -0.027 -0.576 -0.118 -0.196  0.823  1.242   0.0421383597\n"
       ]
      },
      {
       "output_type": "stream",
       "stream": "stderr",
       "text": [
        "INFO:interface:stdout 2014-03-13T10:14:35.988367: 570 -0.027 -0.576 -0.118 -0.196  0.824  1.242   0.0421383117\n"
       ]
      },
      {
       "output_type": "stream",
       "stream": "stderr",
       "text": [
        "INFO:interface:stdout 2014-03-13T10:14:36.004806: 578 -0.027 -0.575 -0.117 -0.195  0.824  1.242   0.0421379050\n"
       ]
      },
      {
       "output_type": "stream",
       "stream": "stderr",
       "text": [
        "INFO:interface:stdout 2014-03-13T10:14:36.012180: 582 -0.027 -0.575 -0.117 -0.195  0.824  1.242   0.0421378756\n"
       ]
      },
      {
       "output_type": "stream",
       "stream": "stderr",
       "text": [
        "INFO:interface:stdout 2014-03-13T10:14:36.013875: 583 -0.027 -0.575 -0.117 -0.195  0.824  1.242   0.0421377731\n"
       ]
      },
      {
       "output_type": "stream",
       "stream": "stderr",
       "text": [
        "INFO:interface:stdout 2014-03-13T10:14:36.016964: 585 -0.027 -0.575 -0.117 -0.195  0.824  1.242   0.0421377718\n"
       ]
      },
      {
       "output_type": "stream",
       "stream": "stderr",
       "text": [
        "INFO:interface:stdout 2014-03-13T10:14:36.021997: 588 -0.029 -0.574 -0.123 -0.192  0.828  1.239   0.0421154747\n"
       ]
      },
      {
       "output_type": "stream",
       "stream": "stderr",
       "text": [
        "INFO:interface:stdout 2014-03-13T10:14:36.030872: 593 -0.031 -0.573 -0.126 -0.189  0.831  1.237   0.0421110844\n"
       ]
      },
      {
       "output_type": "stream",
       "stream": "stderr",
       "text": [
        "INFO:interface:stdout 2014-03-13T10:14:36.033866: 595 -0.031 -0.573 -0.126 -0.189  0.831  1.237   0.0421110612\n"
       ]
      },
      {
       "output_type": "stream",
       "stream": "stderr",
       "text": [
        "INFO:interface:stdout 2014-03-13T10:14:36.035433: 596 -0.031 -0.573 -0.126 -0.189  0.831  1.237   0.0421110514\n"
       ]
      },
      {
       "output_type": "stream",
       "stream": "stderr",
       "text": [
        "INFO:interface:stdout 2014-03-13T10:14:36.044760: 601 -0.031 -0.573 -0.126 -0.189  0.831  1.237   0.0421109805\n"
       ]
      },
      {
       "output_type": "stream",
       "stream": "stderr",
       "text": [
        "INFO:interface:stdout 2014-03-13T10:14:36.073636: 615 -0.032 -0.573 -0.126 -0.189  0.831  1.237   0.0421106900\n"
       ]
      },
      {
       "output_type": "stream",
       "stream": "stderr",
       "text": [
        "INFO:interface:stdout 2014-03-13T10:14:36.089796: 625 -0.032 -0.573 -0.126 -0.189  0.831  1.235   0.0421095979\n"
       ]
      },
      {
       "output_type": "stream",
       "stream": "stderr",
       "text": [
        "INFO:interface:stdout 2014-03-13T10:14:36.103710: 633 -0.033 -0.572 -0.126 -0.188  0.831  1.235   0.0421089159\n"
       ]
      },
      {
       "output_type": "stream",
       "stream": "stderr",
       "text": [
        "INFO:interface:stdout 2014-03-13T10:14:36.105954: 634 -0.033 -0.572 -0.126 -0.188  0.831  1.235   0.0421086281\n"
       ]
      },
      {
       "output_type": "stream",
       "stream": "stderr",
       "text": [
        "INFO:interface:stdout 2014-03-13T10:14:36.159395: 664 -0.033 -0.572 -0.126 -0.188  0.830  1.235   0.0421073250\n"
       ]
      },
      {
       "output_type": "stream",
       "stream": "stderr",
       "text": [
        "INFO:interface:stdout 2014-03-13T10:14:36.161115: 665 -0.033 -0.572 -0.126 -0.188  0.829  1.235   0.0421072688\n"
       ]
      },
      {
       "output_type": "stream",
       "stream": "stderr",
       "text": [
        "INFO:interface:stdout 2014-03-13T10:14:36.175605: 673 -0.033 -0.572 -0.127 -0.188  0.830  1.235   0.0421070467\n"
       ]
      },
      {
       "output_type": "stream",
       "stream": "stderr",
       "text": [
        "INFO:interface:stdout 2014-03-13T10:14:36.177470: 674 -0.033 -0.572 -0.127 -0.188  0.830  1.235   0.0421066420\n"
       ]
      },
      {
       "output_type": "stream",
       "stream": "stderr",
       "text": [
        "INFO:interface:stdout 2014-03-13T10:14:36.251959: 716 -0.033 -0.572 -0.127 -0.187  0.830  1.235   0.0421066255\n"
       ]
      },
      {
       "output_type": "stream",
       "stream": "stderr",
       "text": [
        "INFO:interface:stdout 2014-03-13T10:14:36.348258:Powell done niters = 8\n"
       ]
      },
      {
       "output_type": "stream",
       "stream": "stderr",
       "text": [
        "INFO:interface:stdout 2014-03-13T10:14:36.348258:Computing relative cost\n"
       ]
      },
      {
       "output_type": "stream",
       "stream": "stderr",
       "text": [
        "INFO:interface:stdout 2014-03-13T10:14:36.348258: 0  -25.0 -25.0 -25.0   0.997563\n"
       ]
      },
      {
       "output_type": "stream",
       "stream": "stderr",
       "text": [
        "INFO:interface:stdout 2014-03-13T10:14:36.348258: 1  -25.0 -25.0  25.0   0.978460\n"
       ]
      },
      {
       "output_type": "stream",
       "stream": "stderr",
       "text": [
        "INFO:interface:stdout 2014-03-13T10:14:36.348258: 2  -25.0  25.0 -25.0   1.008573\n"
       ]
      },
      {
       "output_type": "stream",
       "stream": "stderr",
       "text": [
        "INFO:interface:stdout 2014-03-13T10:14:36.348258: 3  -25.0  25.0  25.0   1.005945\n"
       ]
      },
      {
       "output_type": "stream",
       "stream": "stderr",
       "text": [
        "INFO:interface:stdout 2014-03-13T10:14:36.348258: 4   25.0 -25.0 -25.0   0.979859\n"
       ]
      },
      {
       "output_type": "stream",
       "stream": "stderr",
       "text": [
        "INFO:interface:stdout 2014-03-13T10:14:36.348258: 5   25.0 -25.0  25.0   1.004795\n"
       ]
      },
      {
       "output_type": "stream",
       "stream": "stderr",
       "text": [
        "INFO:interface:stdout 2014-03-13T10:14:36.348258: 6   25.0  25.0 -25.0   0.989294\n"
       ]
      },
      {
       "output_type": "stream",
       "stream": "stderr",
       "text": [
        "INFO:interface:stdout 2014-03-13T10:14:36.348258: 7   25.0  25.0  25.0   0.977798\n"
       ]
      },
      {
       "output_type": "stream",
       "stream": "stderr",
       "text": [
        "INFO:interface:stdout 2014-03-13T10:14:36.348258:REL:  8  0.042107    7.942287  0.992786 rel = 0.0424126 \n"
       ]
      },
      {
       "output_type": "stream",
       "stream": "stderr",
       "text": [
        "INFO:interface:stdout 2014-03-13T10:14:36.348258:Number of iterations     8\n"
       ]
      },
      {
       "output_type": "stream",
       "stream": "stderr",
       "text": [
        "INFO:interface:stdout 2014-03-13T10:14:36.348258:Min cost was 0.042107\n"
       ]
      },
      {
       "output_type": "stream",
       "stream": "stderr",
       "text": [
        "INFO:interface:stdout 2014-03-13T10:14:36.348258:Number of FunctionCalls   760\n"
       ]
      },
      {
       "output_type": "stream",
       "stream": "stderr",
       "text": [
        "INFO:interface:stdout 2014-03-13T10:14:36.348258:TolPowell 0.000100\n"
       ]
      },
      {
       "output_type": "stream",
       "stream": "stderr",
       "text": [
        "INFO:interface:stdout 2014-03-13T10:14:36.348258:nMaxItersPowell 36\n"
       ]
      },
      {
       "output_type": "stream",
       "stream": "stderr",
       "text": [
        "INFO:interface:stdout 2014-03-13T10:14:36.348258:OptimizationTime 1.397000 sec\n"
       ]
      },
      {
       "output_type": "stream",
       "stream": "stderr",
       "text": [
        "INFO:interface:stdout 2014-03-13T10:14:36.348258:Parameters at optimum (transmm) -0.03308 -0.57156 -0.12702\n"
       ]
      },
      {
       "output_type": "stream",
       "stream": "stderr",
       "text": [
        "INFO:interface:stdout 2014-03-13T10:14:36.348258:Parameters at optimum (rotdeg) -0.18746  0.82955  1.23501 \n"
       ]
      },
      {
       "output_type": "stream",
       "stream": "stderr",
       "text": [
        "INFO:interface:stdout 2014-03-13T10:14:36.348258:Final costs ----------------\n"
       ]
      },
      {
       "output_type": "stream",
       "stream": "stderr",
       "text": [
        "INFO:interface:stdout 2014-03-13T10:14:36.348258:Number of surface hits 2495\n"
       ]
      },
      {
       "output_type": "stream",
       "stream": "stderr",
       "text": [
        "INFO:interface:stdout 2014-03-13T10:14:36.348258:WM  Intensity   118.3682 +/-  18.5394\n"
       ]
      },
      {
       "output_type": "stream",
       "stream": "stderr",
       "text": [
        "INFO:interface:stdout 2014-03-13T10:14:36.348258:Ctx Intensity   174.7462 +/-  29.1069\n"
       ]
      },
      {
       "output_type": "stream",
       "stream": "stderr",
       "text": [
        "INFO:interface:stdout 2014-03-13T10:14:36.348258:Pct Contrast     37.8590 +/-  19.1776\n"
       ]
      },
      {
       "output_type": "stream",
       "stream": "stderr",
       "text": [
        "INFO:interface:stdout 2014-03-13T10:14:36.348258:Cost   0.0421\n"
       ]
      },
      {
       "output_type": "stream",
       "stream": "stderr",
       "text": [
        "INFO:interface:stdout 2014-03-13T10:14:36.348258:RelCost   0.1731\n"
       ]
      },
      {
       "output_type": "stream",
       "stream": "stderr",
       "text": [
        "INFO:interface:stdout 2014-03-13T10:14:36.348258:Reg at min cost was \n"
       ]
      },
      {
       "output_type": "stream",
       "stream": "stderr",
       "text": [
        "INFO:interface:stdout 2014-03-13T10:14:36.348258: 0.998  -0.021  -0.052  -0.163;\n"
       ]
      },
      {
       "output_type": "stream",
       "stream": "stderr",
       "text": [
        "INFO:interface:stdout 2014-03-13T10:14:36.348258: 0.047  -0.186   0.981  -11.097;\n"
       ]
      },
      {
       "output_type": "stream",
       "stream": "stderr",
       "text": [
        "INFO:interface:stdout 2014-03-13T10:14:36.348258:-0.030  -0.982  -0.184   1.097;\n"
       ]
      },
      {
       "output_type": "stream",
       "stream": "stderr",
       "text": [
        "INFO:interface:stdout 2014-03-13T10:14:36.348258: 0.000   0.000   0.000   1.000;\n"
       ]
      },
      {
       "output_type": "stream",
       "stream": "stderr",
       "text": [
        "INFO:interface:stdout 2014-03-13T10:14:36.348258:\n"
       ]
      },
      {
       "output_type": "stream",
       "stream": "stderr",
       "text": [
        "INFO:interface:stdout 2014-03-13T10:14:36.348258:Writing optimal reg to /home/oesteban/tmp/BSplineEvaluation/Prepare_sMRI/T2w_to_T1w/tmp.bbregister.16910/bbr.pass1.dat, type = 14 \n"
       ]
      },
      {
       "output_type": "stream",
       "stream": "stderr",
       "text": [
        "INFO:interface:stdout 2014-03-13T10:14:36.358372:Original Reg \n"
       ]
      },
      {
       "output_type": "stream",
       "stream": "stderr",
       "text": [
        "INFO:interface:stdout 2014-03-13T10:14:36.358372: 1.000  -0.011  -0.028  -0.375;\n"
       ]
      },
      {
       "output_type": "stream",
       "stream": "stderr",
       "text": [
        "INFO:interface:stdout 2014-03-13T10:14:36.358372: 0.026  -0.182   0.983  -10.525;\n"
       ]
      },
      {
       "output_type": "stream",
       "stream": "stderr",
       "text": [
        "INFO:interface:stdout 2014-03-13T10:14:36.358372:-0.016  -0.983  -0.182   1.184;\n"
       ]
      },
      {
       "output_type": "stream",
       "stream": "stderr",
       "text": [
        "INFO:interface:stdout 2014-03-13T10:14:36.358372: 0.000   0.000   0.000   1.000;\n"
       ]
      },
      {
       "output_type": "stream",
       "stream": "stderr",
       "text": [
        "INFO:interface:stdout 2014-03-13T10:14:36.358372:\n"
       ]
      },
      {
       "output_type": "stream",
       "stream": "stderr",
       "text": [
        "INFO:interface:stdout 2014-03-13T10:14:36.358372:Original Reg - Optimal Reg\n"
       ]
      },
      {
       "output_type": "stream",
       "stream": "stderr",
       "text": [
        "INFO:interface:stdout 2014-03-13T10:14:36.358372: 0.001   0.010   0.024  -0.211;\n"
       ]
      },
      {
       "output_type": "stream",
       "stream": "stderr",
       "text": [
        "INFO:interface:stdout 2014-03-13T10:14:36.358372:-0.021   0.004   0.001   0.573;\n"
       ]
      },
      {
       "output_type": "stream",
       "stream": "stderr",
       "text": [
        "INFO:interface:stdout 2014-03-13T10:14:36.358372: 0.015  -0.001   0.003   0.087;\n"
       ]
      },
      {
       "output_type": "stream",
       "stream": "stderr",
       "text": [
        "INFO:interface:stdout 2014-03-13T10:14:36.358372: 0.000   0.000   0.000   0.000;\n"
       ]
      },
      {
       "output_type": "stream",
       "stream": "stderr",
       "text": [
        "INFO:interface:stdout 2014-03-13T10:14:36.358372:\n"
       ]
      },
      {
       "output_type": "stream",
       "stream": "stderr",
       "text": [
        "INFO:interface:stdout 2014-03-13T10:14:36.367316:Computing change in lh position\n"
       ]
      },
      {
       "output_type": "stream",
       "stream": "stderr",
       "text": [
        "INFO:interface:stdout 2014-03-13T10:14:36.367316:LH rmsDiffMean 1.442527\n"
       ]
      },
      {
       "output_type": "stream",
       "stream": "stderr",
       "text": [
        "INFO:interface:stdout 2014-03-13T10:14:36.367316:Computing change in rh position\n"
       ]
      },
      {
       "output_type": "stream",
       "stream": "stderr",
       "text": [
        "INFO:interface:stdout 2014-03-13T10:14:36.367316:Surface RMS Diff (mm) 1.226220 2.209063\n"
       ]
      },
      {
       "output_type": "stream",
       "stream": "stderr",
       "text": [
        "INFO:interface:stdout 2014-03-13T10:14:36.367316:mri_segreg done\n"
       ]
      },
      {
       "output_type": "stream",
       "stream": "stderr",
       "text": [
        "INFO:interface:stdout 2014-03-13T10:14:36.409873:mri_segreg --mov /home/oesteban/tmp/BSplineEvaluation/Prepare_sMRI/T2w_to_T1w/tmp.bbregister.16910/template.nii --init-reg /home/oesteban/tmp/BSplineEvaluation/Prepare_sMRI/T2w_to_T1w/tmp.bbregister.16910/bbr.pass1.dat --out-reg /home/oesteban/tmp/BSplineEvaluation/Prepare_sMRI/T2w_to_T1w/T2-Guys-0977_bbreg_S400.dat --brute -0.1 0.1 0.1 --interp trilinear --wm-proj-abs 2 --tol 1e-8 --tol1d 1e-3 --c0 0 --mincost /home/oesteban/tmp/BSplineEvaluation/Prepare_sMRI/T2w_to_T1w/T2-Guys-0977_bbreg_S400.dat.mincost --dof 6 --nmax 36 --param /home/oesteban/tmp/BSplineEvaluation/Prepare_sMRI/T2w_to_T1w/T2-Guys-0977_bbreg_S400.dat.param --surf white --cur-reg /home/oesteban/tmp/BSplineEvaluation/Prepare_sMRI/T2w_to_T1w/tmp.bbregister.16910/reg.curopt.dat --gm-proj-frac 0.5 --nsub 1 --o /home/oesteban/tmp/BSplineEvaluation/Prepare_sMRI/T2w_to_T1w/T2-Guys-0977_bbreg.nii.gz --gm-gt-wm 0.5\n"
       ]
      },
      {
       "output_type": "stream",
       "stream": "stderr",
       "text": [
        "INFO:interface:stdout 2014-03-13T10:14:36.416922:$Id: mri_segreg.c,v 1.103.2.1 2011/10/07 19:14:42 greve Exp $\n"
       ]
      },
      {
       "output_type": "stream",
       "stream": "stderr",
       "text": [
        "INFO:interface:stdout 2014-03-13T10:14:36.416922:setenv SUBJECTS_DIR /media/mnemea/IXI_dataset/FREESURFER\n"
       ]
      },
      {
       "output_type": "stream",
       "stream": "stderr",
       "text": [
        "INFO:interface:stdout 2014-03-13T10:14:36.416922:cd /home/oesteban/tmp/BSplineEvaluation/Prepare_sMRI/T2w_to_T1w\n"
       ]
      },
      {
       "output_type": "stream",
       "stream": "stderr",
       "text": [
        "INFO:interface:stdout 2014-03-13T10:14:36.416922:mri_segreg --mov /home/oesteban/tmp/BSplineEvaluation/Prepare_sMRI/T2w_to_T1w/tmp.bbregister.16910/template.nii --init-reg /home/oesteban/tmp/BSplineEvaluation/Prepare_sMRI/T2w_to_T1w/tmp.bbregister.16910/bbr.pass1.dat --out-reg /home/oesteban/tmp/BSplineEvaluation/Prepare_sMRI/T2w_to_T1w/T2-Guys-0977_bbreg_S400.dat --brute -0.1 0.1 0.1 --interp trilinear --wm-proj-abs 2 --tol 1e-8 --tol1d 1e-3 --c0 0 --mincost /home/oesteban/tmp/BSplineEvaluation/Prepare_sMRI/T2w_to_T1w/T2-Guys-0977_bbreg_S400.dat.mincost --dof 6 --nmax 36 --param /home/oesteban/tmp/BSplineEvaluation/Prepare_sMRI/T2w_to_T1w/T2-Guys-0977_bbreg_S400.dat.param --surf white --cur-reg /home/oesteban/tmp/BSplineEvaluation/Prepare_sMRI/T2w_to_T1w/tmp.bbregister.16910/reg.curopt.dat --gm-proj-frac 0.5 --nsub 1 --o /home/oesteban/tmp/BSplineEvaluation/Prepare_sMRI/T2w_to_T1w/T2-Guys-0977_bbreg.nii.gz --gm-gt-wm 0.5 \n"
       ]
      },
      {
       "output_type": "stream",
       "stream": "stderr",
       "text": [
        "INFO:interface:stdout 2014-03-13T10:14:36.416922:sysname  Linux\n"
       ]
      },
      {
       "output_type": "stream",
       "stream": "stderr",
       "text": [
        "INFO:interface:stdout 2014-03-13T10:14:36.416922:hostname tea\n"
       ]
      },
      {
       "output_type": "stream",
       "stream": "stderr",
       "text": [
        "INFO:interface:stdout 2014-03-13T10:14:36.416922:machine  x86_64\n"
       ]
      },
      {
       "output_type": "stream",
       "stream": "stderr",
       "text": [
        "INFO:interface:stdout 2014-03-13T10:14:36.416922:user     oesteban\n"
       ]
      },
      {
       "output_type": "stream",
       "stream": "stderr",
       "text": [
        "INFO:interface:stdout 2014-03-13T10:14:36.416922:movvol /home/oesteban/tmp/BSplineEvaluation/Prepare_sMRI/T2w_to_T1w/tmp.bbregister.16910/template.nii\n"
       ]
      },
      {
       "output_type": "stream",
       "stream": "stderr",
       "text": [
        "INFO:interface:stdout 2014-03-13T10:14:36.416922:regfile /home/oesteban/tmp/BSplineEvaluation/Prepare_sMRI/T2w_to_T1w/tmp.bbregister.16910/bbr.pass1.dat\n"
       ]
      },
      {
       "output_type": "stream",
       "stream": "stderr",
       "text": [
        "INFO:interface:stdout 2014-03-13T10:14:36.416922:subject S400\n"
       ]
      },
      {
       "output_type": "stream",
       "stream": "stderr",
       "text": [
        "INFO:interface:stdout 2014-03-13T10:14:36.416922:dof 6\n"
       ]
      },
      {
       "output_type": "stream",
       "stream": "stderr",
       "text": [
        "INFO:interface:stdout 2014-03-13T10:14:36.416922:outregfile /home/oesteban/tmp/BSplineEvaluation/Prepare_sMRI/T2w_to_T1w/T2-Guys-0977_bbreg_S400.dat\n"
       ]
      },
      {
       "output_type": "stream",
       "stream": "stderr",
       "text": [
        "INFO:interface:stdout 2014-03-13T10:14:36.416922:outfile /home/oesteban/tmp/BSplineEvaluation/Prepare_sMRI/T2w_to_T1w/T2-Guys-0977_bbreg.nii.gz\n"
       ]
      },
      {
       "output_type": "stream",
       "stream": "stderr",
       "text": [
        "INFO:interface:stdout 2014-03-13T10:14:36.416922:UseMask 0\n"
       ]
      },
      {
       "output_type": "stream",
       "stream": "stderr",
       "text": [
        "INFO:interface:stdout 2014-03-13T10:14:36.416922:UseLH 1\n"
       ]
      },
      {
       "output_type": "stream",
       "stream": "stderr",
       "text": [
        "INFO:interface:stdout 2014-03-13T10:14:36.416922:UseRH 1\n"
       ]
      },
      {
       "output_type": "stream",
       "stream": "stderr",
       "text": [
        "INFO:interface:stdout 2014-03-13T10:14:36.416922:nsubsamp 1\n"
       ]
      },
      {
       "output_type": "stream",
       "stream": "stderr",
       "text": [
        "INFO:interface:stdout 2014-03-13T10:14:36.416922:PenaltySign  -1\n"
       ]
      },
      {
       "output_type": "stream",
       "stream": "stderr",
       "text": [
        "INFO:interface:stdout 2014-03-13T10:14:36.416922:PenaltySlope 0.500000\n"
       ]
      },
      {
       "output_type": "stream",
       "stream": "stderr",
       "text": [
        "INFO:interface:stdout 2014-03-13T10:14:36.416922:PenaltyCenter 0.000000\n"
       ]
      },
      {
       "output_type": "stream",
       "stream": "stderr",
       "text": [
        "INFO:interface:stdout 2014-03-13T10:14:36.416922:surfname white\n"
       ]
      },
      {
       "output_type": "stream",
       "stream": "stderr",
       "text": [
        "INFO:interface:stdout 2014-03-13T10:14:36.416922:GMProjFrac 0.500000\n"
       ]
      },
      {
       "output_type": "stream",
       "stream": "stderr",
       "text": [
        "INFO:interface:stdout 2014-03-13T10:14:36.416922:WMProjAbs 2.000000\n"
       ]
      },
      {
       "output_type": "stream",
       "stream": "stderr",
       "text": [
        "INFO:interface:stdout 2014-03-13T10:14:36.416922:lhcostfile (null)\n"
       ]
      },
      {
       "output_type": "stream",
       "stream": "stderr",
       "text": [
        "INFO:interface:stdout 2014-03-13T10:14:36.416922:rhcostfile (null)\n"
       ]
      },
      {
       "output_type": "stream",
       "stream": "stderr",
       "text": [
        "INFO:interface:stdout 2014-03-13T10:14:36.416922:interp  trilinear (1)\n"
       ]
      },
      {
       "output_type": "stream",
       "stream": "stderr",
       "text": [
        "INFO:interface:stdout 2014-03-13T10:14:36.416922:frame  0\n"
       ]
      },
      {
       "output_type": "stream",
       "stream": "stderr",
       "text": [
        "INFO:interface:stdout 2014-03-13T10:14:36.416922:TolPowell 0.000000\n"
       ]
      },
      {
       "output_type": "stream",
       "stream": "stderr",
       "text": [
        "INFO:interface:stdout 2014-03-13T10:14:36.416922:nMaxItersPowell 36\n"
       ]
      },
      {
       "output_type": "stream",
       "stream": "stderr",
       "text": [
        "INFO:interface:stdout 2014-03-13T10:14:36.416922:n1dmin  3\n"
       ]
      },
      {
       "output_type": "stream",
       "stream": "stderr",
       "text": [
        "INFO:interface:stdout 2014-03-13T10:14:36.416922:Profile   0\n"
       ]
      },
      {
       "output_type": "stream",
       "stream": "stderr",
       "text": [
        "INFO:interface:stdout 2014-03-13T10:14:36.416922:Gdiag_no  -1\n"
       ]
      },
      {
       "output_type": "stream",
       "stream": "stderr",
       "text": [
        "INFO:interface:stdout 2014-03-13T10:14:36.416922:AddNoise  0 (0)\n"
       ]
      },
      {
       "output_type": "stream",
       "stream": "stderr",
       "text": [
        "INFO:interface:stdout 2014-03-13T10:14:36.416922:SynthSeed 1395118733\n"
       ]
      },
      {
       "output_type": "stream",
       "stream": "stderr",
       "text": [
        "INFO:interface:stdout 2014-03-13T10:14:36.416922:TransRandMax 0.000000\n"
       ]
      },
      {
       "output_type": "stream",
       "stream": "stderr",
       "text": [
        "INFO:interface:stdout 2014-03-13T10:14:36.416922:RotRandMax 0.000000\n"
       ]
      },
      {
       "output_type": "stream",
       "stream": "stderr",
       "text": [
        "INFO:interface:stdout 2014-03-13T10:14:36.416922:Translations 0.000000 0.000000 0.000000\n"
       ]
      },
      {
       "output_type": "stream",
       "stream": "stderr",
       "text": [
        "INFO:interface:stdout 2014-03-13T10:14:36.416922:Rotations   0.000000 0.000000 0.000000\n"
       ]
      },
      {
       "output_type": "stream",
       "stream": "stderr",
       "text": [
        "INFO:interface:stdout 2014-03-13T10:14:36.416922:Input reg\n"
       ]
      },
      {
       "output_type": "stream",
       "stream": "stderr",
       "text": [
        "INFO:interface:stdout 2014-03-13T10:14:36.416922: 0.998  -0.021  -0.052  -0.163;\n"
       ]
      },
      {
       "output_type": "stream",
       "stream": "stderr",
       "text": [
        "INFO:interface:stdout 2014-03-13T10:14:36.416922: 0.047  -0.186   0.981  -11.097;\n"
       ]
      },
      {
       "output_type": "stream",
       "stream": "stderr",
       "text": [
        "INFO:interface:stdout 2014-03-13T10:14:36.416922:-0.030  -0.982  -0.184   1.097;\n"
       ]
      },
      {
       "output_type": "stream",
       "stream": "stderr",
       "text": [
        "INFO:interface:stdout 2014-03-13T10:14:36.416922: 0.000   0.000   0.000   1.000;\n"
       ]
      },
      {
       "output_type": "stream",
       "stream": "stderr",
       "text": [
        "INFO:interface:stdout 2014-03-13T10:14:36.416922:\n"
       ]
      },
      {
       "output_type": "stream",
       "stream": "stderr",
       "text": [
        "INFO:interface:stdout 2014-03-13T10:14:38.970956:Loading mov\n"
       ]
      },
      {
       "output_type": "stream",
       "stream": "stderr",
       "text": [
        "INFO:interface:stdout 2014-03-13T10:14:38.970956:Projecting LH Surfs\n"
       ]
      },
      {
       "output_type": "stream",
       "stream": "stderr",
       "text": [
        "INFO:interface:stdout 2014-03-13T10:14:38.970956:Loading lh.white surf\n"
       ]
      },
      {
       "output_type": "stream",
       "stream": "stderr",
       "text": [
        "INFO:interface:stdout 2014-03-13T10:14:38.970956:Loading lh.thickness for GM\n"
       ]
      },
      {
       "output_type": "stream",
       "stream": "stderr",
       "text": [
        "INFO:interface:stdout 2014-03-13T10:14:40.901942:GM Proj: 1 0.500000 2.000000\n"
       ]
      },
      {
       "output_type": "stream",
       "stream": "stderr",
       "text": [
        "INFO:interface:stdout 2014-03-13T10:14:40.901942:WM Proj: 0 0.500000 2.000000\n"
       ]
      },
      {
       "output_type": "stream",
       "stream": "stderr",
       "text": [
        "INFO:interface:stdout 2014-03-13T10:14:40.901942:Projecting RH Surfs\n"
       ]
      },
      {
       "output_type": "stream",
       "stream": "stderr",
       "text": [
        "INFO:interface:stdout 2014-03-13T10:14:40.901942:Loading rh.white surf\n"
       ]
      },
      {
       "output_type": "stream",
       "stream": "stderr",
       "text": [
        "INFO:interface:stdout 2014-03-13T10:14:40.901942:Loading rh.thickness\n"
       ]
      },
      {
       "output_type": "stream",
       "stream": "stderr",
       "text": [
        "INFO:interface:stdout 2014-03-13T10:14:41.822776:Projecting RH Surfs\n"
       ]
      },
      {
       "output_type": "stream",
       "stream": "stderr",
       "text": [
        "INFO:interface:stdout 2014-03-13T10:14:41.822776:Computing relative cost\n"
       ]
      },
      {
       "output_type": "stream",
       "stream": "stderr",
       "text": [
        "INFO:interface:stdout 2014-03-13T10:14:41.822776: 0  -25.0 -25.0 -25.0   0.998378\n"
       ]
      },
      {
       "output_type": "stream",
       "stream": "stderr",
       "text": [
        "INFO:interface:stdout 2014-03-13T10:14:41.822776: 1  -25.0 -25.0  25.0   0.994025\n"
       ]
      },
      {
       "output_type": "stream",
       "stream": "stderr",
       "text": [
        "INFO:interface:stdout 2014-03-13T10:14:41.822776: 2  -25.0  25.0 -25.0   0.993864\n"
       ]
      },
      {
       "output_type": "stream",
       "stream": "stderr",
       "text": [
        "INFO:interface:stdout 2014-03-13T10:14:41.822776: 3  -25.0  25.0  25.0   1.007184\n"
       ]
      },
      {
       "output_type": "stream",
       "stream": "stderr",
       "text": [
        "INFO:interface:stdout 2014-03-13T10:14:41.822776: 4   25.0 -25.0 -25.0   0.995403\n"
       ]
      },
      {
       "output_type": "stream",
       "stream": "stderr",
       "text": [
        "INFO:interface:stdout 2014-03-13T10:14:41.822776: 5   25.0 -25.0  25.0   0.998313\n"
       ]
      },
      {
       "output_type": "stream",
       "stream": "stderr",
       "text": [
        "INFO:interface:stdout 2014-03-13T10:14:41.822776: 6   25.0  25.0 -25.0   0.983548\n"
       ]
      },
      {
       "output_type": "stream",
       "stream": "stderr",
       "text": [
        "INFO:interface:stdout 2014-03-13T10:14:41.822776: 7   25.0  25.0  25.0   0.988571\n"
       ]
      },
      {
       "output_type": "stream",
       "stream": "stderr",
       "text": [
        "INFO:interface:stdout 2014-03-13T10:14:41.822776:REL:  8  0.047969    7.959286  0.994911 rel = 0.0482142 \n"
       ]
      },
      {
       "output_type": "stream",
       "stream": "stderr",
       "text": [
        "INFO:interface:stdout 2014-03-13T10:14:41.822776:Initial costs ----------------\n"
       ]
      },
      {
       "output_type": "stream",
       "stream": "stderr",
       "text": [
        "INFO:interface:stdout 2014-03-13T10:14:41.822776:Number of surface hits 250396\n"
       ]
      },
      {
       "output_type": "stream",
       "stream": "stderr",
       "text": [
        "INFO:interface:stdout 2014-03-13T10:14:41.822776:WM  Intensity   118.2082 +/-  18.0553\n"
       ]
      },
      {
       "output_type": "stream",
       "stream": "stderr",
       "text": [
        "INFO:interface:stdout 2014-03-13T10:14:41.822776:Ctx Intensity   174.5561 +/-  28.8701\n"
       ]
      },
      {
       "output_type": "stream",
       "stream": "stderr",
       "text": [
        "INFO:interface:stdout 2014-03-13T10:14:41.822776:Pct Contrast     37.8539 +/-  19.2860\n"
       ]
      },
      {
       "output_type": "stream",
       "stream": "stderr",
       "text": [
        "INFO:interface:stdout 2014-03-13T10:14:41.822776:Cost   0.0480\n"
       ]
      },
      {
       "output_type": "stream",
       "stream": "stderr",
       "text": [
        "INFO:interface:stdout 2014-03-13T10:14:41.822776:RelCost   0.0482\n"
       ]
      },
      {
       "output_type": "stream",
       "stream": "stderr",
       "text": [
        "INFO:interface:stdout 2014-03-13T10:14:41.822776:\n"
       ]
      },
      {
       "output_type": "stream",
       "stream": "stderr",
       "text": [
        "INFO:interface:stdout 2014-03-13T10:14:41.822776:------------------------------------\n"
       ]
      },
      {
       "output_type": "stream",
       "stream": "stderr",
       "text": [
        "INFO:interface:stdout 2014-03-13T10:14:41.822776:Brute force preopt -0.1 0.1 0.1, n = 729\n"
       ]
      },
      {
       "output_type": "stream",
       "stream": "stderr",
       "text": [
        "INFO:interface:stdout 2014-03-13T10:14:41.827442:     0  -0.1000  -0.1000  -0.1000  -0.1000  -0.1000  -0.1000      0.0486   0.0486  0.0\n"
       ]
      },
      {
       "output_type": "stream",
       "stream": "stderr",
       "text": [
        "INFO:interface:stdout 2014-03-13T10:14:41.832155:     3  -0.1000  -0.1000  -0.1000  -0.1000   0.0000  -0.1000      0.0484   0.0484  0.0\n"
       ]
      },
      {
       "output_type": "stream",
       "stream": "stderr",
       "text": [
        "INFO:interface:stdout 2014-03-13T10:14:41.849437:    12  -0.1000  -0.1000  -0.1000   0.0000   0.0000  -0.1000      0.0474   0.0474  0.0\n"
       ]
      },
      {
       "output_type": "stream",
       "stream": "stderr",
       "text": [
        "INFO:interface:stdout 2014-03-13T10:14:41.854711:    15  -0.1000  -0.1000  -0.1000   0.0000   0.1000  -0.1000      0.0470   0.0470  0.0\n"
       ]
      },
      {
       "output_type": "stream",
       "stream": "stderr",
       "text": [
        "INFO:interface:stdout 2014-03-13T10:14:41.865719:    21  -0.1000  -0.1000  -0.1000   0.1000   0.0000  -0.1000      0.0458   0.0458  0.0\n"
       ]
      },
      {
       "output_type": "stream",
       "stream": "stderr",
       "text": [
        "INFO:interface:stdout 2014-03-13T10:14:41.867582:    22  -0.1000  -0.1000  -0.1000   0.1000   0.0000   0.0000      0.0458   0.0458  0.0\n"
       ]
      },
      {
       "output_type": "stream",
       "stream": "stderr",
       "text": [
        "INFO:interface:stdout 2014-03-13T10:14:41.880448:    30  -0.1000  -0.1000   0.0000  -0.1000   0.0000  -0.1000      0.0455   0.0455  0.0\n"
       ]
      },
      {
       "output_type": "stream",
       "stream": "stderr",
       "text": [
        "INFO:interface:stdout 2014-03-13T10:14:41.894087:    39  -0.1000  -0.1000   0.0000   0.0000   0.0000  -0.1000      0.0451   0.0451  0.0\n"
       ]
      },
      {
       "output_type": "stream",
       "stream": "stderr",
       "text": [
        "INFO:interface:stdout 2014-03-13T10:14:42.015308:   108  -0.1000   0.0000   0.0000  -0.1000  -0.1000  -0.1000      0.0442   0.0442  0.0\n"
       ]
      },
      {
       "output_type": "stream",
       "stream": "stderr",
       "text": [
        "INFO:interface:stdout 2014-03-13T10:14:42.032722:   117  -0.1000   0.0000   0.0000   0.0000  -0.1000  -0.1000      0.0441   0.0441  0.0\n"
       ]
      },
      {
       "output_type": "stream",
       "stream": "stderr",
       "text": [
        "INFO:interface:stdout 2014-03-13T10:14:42.038720:   120  -0.1000   0.0000   0.0000   0.0000   0.0000  -0.1000      0.0426   0.0426  0.0\n"
       ]
      },
      {
       "output_type": "stream",
       "stream": "stderr",
       "text": [
        "INFO:interface:stdout 2014-03-13T10:14:42.443843:   364   0.0000   0.0000   0.0000   0.0000   0.0000   0.0000      0.0421   0.0421  0.0\n"
       ]
      },
      {
       "output_type": "stream",
       "stream": "stderr",
       "text": [
        "INFO:interface:stdout 2014-03-13T10:14:43.489941:Brute Force --------------------------\n"
       ]
      },
      {
       "output_type": "stream",
       "stream": "stderr",
       "text": [
        "INFO:interface:stdout 2014-03-13T10:14:43.489941:Min cost was 0.042107\n"
       ]
      },
      {
       "output_type": "stream",
       "stream": "stderr",
       "text": [
        "INFO:interface:stdout 2014-03-13T10:14:43.489941:Number of iterations   729\n"
       ]
      },
      {
       "output_type": "stream",
       "stream": "stderr",
       "text": [
        "INFO:interface:stdout 2014-03-13T10:14:43.489941:Search time 1.188000 sec\n"
       ]
      },
      {
       "output_type": "stream",
       "stream": "stderr",
       "text": [
        "INFO:interface:stdout 2014-03-13T10:14:43.489941:Parameters at best (transmm, rotdeg)\n"
       ]
      },
      {
       "output_type": "stream",
       "stream": "stderr",
       "text": [
        "INFO:interface:stdout 2014-03-13T10:14:43.489941:  0.000   0.000   0.000  0.000  0.000  0.000 \n"
       ]
      },
      {
       "output_type": "stream",
       "stream": "stderr",
       "text": [
        "INFO:interface:stdout 2014-03-13T10:14:43.489941:--------------------------------------------\n"
       ]
      },
      {
       "output_type": "stream",
       "stream": "stderr",
       "text": [
        "INFO:interface:stdout 2014-03-13T10:14:43.489941:\n"
       ]
      },
      {
       "output_type": "stream",
       "stream": "stderr",
       "text": [
        "INFO:interface:stdout 2014-03-13T10:14:43.489941:Starting Powell Minimization\n"
       ]
      },
      {
       "output_type": "stream",
       "stream": "stderr",
       "text": [
        "INFO:interface:stdout 2014-03-13T10:14:43.489941:Init Powel Params dof = 6\n"
       ]
      },
      {
       "output_type": "stream",
       "stream": "stderr",
       "text": [
        "INFO:interface:stdout 2014-03-13T10:14:43.489941:0 0\n"
       ]
      },
      {
       "output_type": "stream",
       "stream": "stderr",
       "text": [
        "INFO:interface:stdout 2014-03-13T10:14:43.489941:1 0\n"
       ]
      },
      {
       "output_type": "stream",
       "stream": "stderr",
       "text": [
        "INFO:interface:stdout 2014-03-13T10:14:43.489941:2 0\n"
       ]
      },
      {
       "output_type": "stream",
       "stream": "stderr",
       "text": [
        "INFO:interface:stdout 2014-03-13T10:14:43.489941:3 0\n"
       ]
      },
      {
       "output_type": "stream",
       "stream": "stderr",
       "text": [
        "INFO:interface:stdout 2014-03-13T10:14:43.489941:4 0\n"
       ]
      },
      {
       "output_type": "stream",
       "stream": "stderr",
       "text": [
        "INFO:interface:stdout 2014-03-13T10:14:43.489941:5 0\n"
       ]
      },
      {
       "output_type": "stream",
       "stream": "stderr",
       "text": [
        "INFO:interface:stdout 2014-03-13T10:14:43.489941:   7 -0.091  0.000  0.000  0.000  0.000  0.000   0.0477104663\n"
       ]
      },
      {
       "output_type": "stream",
       "stream": "stderr",
       "text": [
        "INFO:interface:stdout 2014-03-13T10:14:43.550866:   8 -0.069  0.000  0.000  0.000  0.000  0.000   0.0477012537\n"
       ]
      },
      {
       "output_type": "stream",
       "stream": "stderr",
       "text": [
        "INFO:interface:stdout 2014-03-13T10:14:43.738142:  11 -0.059  0.000  0.000  0.000  0.000  0.000   0.0476975799\n"
       ]
      },
      {
       "output_type": "stream",
       "stream": "stderr",
       "text": [
        "INFO:interface:stdout 2014-03-13T10:14:43.861257:  13 -0.062  0.000  0.000  0.000  0.000  0.000   0.0476966358\n"
       ]
      },
      {
       "output_type": "stream",
       "stream": "stderr",
       "text": [
        "INFO:interface:stdout 2014-03-13T10:14:44.456003:  23 -0.062  0.008  0.000  0.000  0.000  0.000   0.0476946409\n"
       ]
      },
      {
       "output_type": "stream",
       "stream": "stderr",
       "text": [
        "INFO:interface:stdout 2014-03-13T10:14:45.048719:  33 -0.062  0.008 -0.012  0.000  0.000  0.000   0.0476697899\n"
       ]
      },
      {
       "output_type": "stream",
       "stream": "stderr",
       "text": [
        "INFO:interface:stdout 2014-03-13T10:14:45.289208:  37 -0.062  0.008 -0.025  0.000  0.000  0.000   0.0476673191\n"
       ]
      },
      {
       "output_type": "stream",
       "stream": "stderr",
       "text": [
        "INFO:interface:stdout 2014-03-13T10:14:45.351110:  38 -0.062  0.008 -0.019  0.000  0.000  0.000   0.0476637904\n"
       ]
      },
      {
       "output_type": "stream",
       "stream": "stderr",
       "text": [
        "INFO:interface:stdout 2014-03-13T10:14:45.944768:  47 -0.062  0.008 -0.019 -0.077  0.000  0.000   0.0472767837\n"
       ]
      },
      {
       "output_type": "stream",
       "stream": "stderr",
       "text": [
        "INFO:interface:stdout 2014-03-13T10:14:46.011527:  48 -0.062  0.008 -0.019 -0.080  0.000  0.000   0.0472731708\n"
       ]
      },
      {
       "output_type": "stream",
       "stream": "stderr",
       "text": [
        "INFO:interface:stdout 2014-03-13T10:14:46.073346:  49 -0.062  0.008 -0.019 -0.090  0.000  0.000   0.0472701831\n"
       ]
      },
      {
       "output_type": "stream",
       "stream": "stderr",
       "text": [
        "INFO:interface:stdout 2014-03-13T10:14:46.202000:  51 -0.062  0.008 -0.019 -0.087  0.000  0.000   0.0472693661\n"
       ]
      },
      {
       "output_type": "stream",
       "stream": "stderr",
       "text": [
        "INFO:interface:stdout 2014-03-13T10:14:46.751377:  60 -0.062  0.008 -0.019 -0.087 -0.134  0.000   0.0461344914\n"
       ]
      },
      {
       "output_type": "stream",
       "stream": "stderr",
       "text": [
        "INFO:interface:stdout 2014-03-13T10:14:46.813047:  61 -0.062  0.008 -0.019 -0.087 -0.137  0.000   0.0461301996\n"
       ]
      },
      {
       "output_type": "stream",
       "stream": "stderr",
       "text": [
        "INFO:interface:stdout 2014-03-13T10:14:46.937558:  63 -0.062  0.008 -0.019 -0.087 -0.144  0.000   0.0461225295\n"
       ]
      },
      {
       "output_type": "stream",
       "stream": "stderr",
       "text": [
        "INFO:interface:stdout 2014-03-13T10:14:47.489335:  72 -0.062  0.008 -0.019 -0.087 -0.144  0.055   0.0460525504\n"
       ]
      },
      {
       "output_type": "stream",
       "stream": "stderr",
       "text": [
        "INFO:interface:stdout 2014-03-13T10:14:47.550180:  73 -0.062  0.008 -0.019 -0.087 -0.144  0.044   0.0460516463\n"
       ]
      },
      {
       "output_type": "stream",
       "stream": "stderr",
       "text": [
        "INFO:interface:stdout 2014-03-13T10:14:47.611081:  74 -0.062  0.008 -0.019 -0.087 -0.144  0.048   0.0460502292\n"
       ]
      },
      {
       "output_type": "stream",
       "stream": "stderr",
       "text": [
        "INFO:interface:stdout 2014-03-13T10:14:48.260474:  85 -0.078  0.008 -0.019 -0.087 -0.144  0.048   0.0460376600\n"
       ]
      },
      {
       "output_type": "stream",
       "stream": "stderr",
       "text": [
        "INFO:interface:stdout 2014-03-13T10:14:48.789304:  94 -0.078 -0.009 -0.019 -0.087 -0.144  0.048   0.0459715653\n"
       ]
      },
      {
       "output_type": "stream",
       "stream": "stderr",
       "text": [
        "INFO:interface:stdout 2014-03-13T10:14:48.849213:  95 -0.078 -0.031 -0.019 -0.087 -0.144  0.048   0.0459439552\n"
       ]
      },
      {
       "output_type": "stream",
       "stream": "stderr",
       "text": [
        "INFO:interface:stdout 2014-03-13T10:14:48.908384:  96 -0.078 -0.030 -0.019 -0.087 -0.144  0.048   0.0459438420\n"
       ]
      },
      {
       "output_type": "stream",
       "stream": "stderr",
       "text": [
        "INFO:interface:stdout 2014-03-13T10:14:49.449341: 105 -0.078 -0.030 -0.004 -0.087 -0.144  0.048   0.0459066045\n"
       ]
      },
      {
       "output_type": "stream",
       "stream": "stderr",
       "text": [
        "INFO:interface:stdout 2014-03-13T10:14:49.513319: 106 -0.078 -0.030  0.001 -0.087 -0.144  0.048   0.0459022454\n"
       ]
      },
      {
       "output_type": "stream",
       "stream": "stderr",
       "text": [
        "INFO:interface:stdout 2014-03-13T10:14:49.639471: 108 -0.078 -0.030  0.002 -0.087 -0.144  0.048   0.0459021581\n"
       ]
      },
      {
       "output_type": "stream",
       "stream": "stderr",
       "text": [
        "INFO:interface:stdout 2014-03-13T10:14:50.138452: 116 -0.078 -0.030  0.002 -0.093 -0.144  0.048   0.0458981268\n"
       ]
      },
      {
       "output_type": "stream",
       "stream": "stderr",
       "text": [
        "INFO:interface:stdout 2014-03-13T10:14:50.202862: 117 -0.078 -0.030  0.002 -0.096 -0.144  0.048   0.0458979215\n"
       ]
      },
      {
       "output_type": "stream",
       "stream": "stderr",
       "text": [
        "INFO:interface:stdout 2014-03-13T10:14:50.726371: 123 -0.078 -0.030  0.002 -0.101 -0.144  0.048   0.0458975740\n"
       ]
      },
      {
       "output_type": "stream",
       "stream": "stderr",
       "text": [
        "INFO:interface:stdout 2014-03-13T10:14:50.861457: 125 -0.078 -0.030  0.002 -0.099 -0.144  0.048   0.0458972078\n"
       ]
      },
      {
       "output_type": "stream",
       "stream": "stderr",
       "text": [
        "INFO:interface:stdout 2014-03-13T10:14:51.475819: 134 -0.078 -0.030  0.002 -0.099 -0.143  0.048   0.0458968399\n"
       ]
      },
      {
       "output_type": "stream",
       "stream": "stderr",
       "text": [
        "INFO:interface:stdout 2014-03-13T10:14:51.967548: 142 -0.078 -0.030  0.002 -0.099 -0.143  0.051   0.0458963507\n"
       ]
      },
      {
       "output_type": "stream",
       "stream": "stderr",
       "text": [
        "INFO:interface:stdout 2014-03-13T10:14:52.027810: 143 -0.078 -0.030  0.002 -0.099 -0.143  0.052   0.0458963050\n"
       ]
      },
      {
       "output_type": "stream",
       "stream": "stderr",
       "text": [
        "INFO:interface:stdout 2014-03-13T10:14:52.676947: 154 -0.093 -0.030  0.002 -0.099 -0.143  0.052   0.0458826911\n"
       ]
      },
      {
       "output_type": "stream",
       "stream": "stderr",
       "text": [
        "INFO:interface:stdout 2014-03-13T10:14:52.736540: 155 -0.092 -0.030  0.002 -0.099 -0.143  0.052   0.0458821447\n"
       ]
      },
      {
       "output_type": "stream",
       "stream": "stderr",
       "text": [
        "INFO:interface:stdout 2014-03-13T10:14:52.796954: 156 -0.090 -0.030  0.002 -0.099 -0.143  0.052   0.0458814426\n"
       ]
      },
      {
       "output_type": "stream",
       "stream": "stderr",
       "text": [
        "INFO:interface:stdout 2014-03-13T10:14:53.507772: 168 -0.090 -0.035  0.002 -0.099 -0.143  0.052   0.0458800348\n"
       ]
      },
      {
       "output_type": "stream",
       "stream": "stderr",
       "text": [
        "INFO:interface:stdout 2014-03-13T10:14:53.567725: 169 -0.090 -0.034  0.002 -0.099 -0.143  0.052   0.0458800266\n"
       ]
      },
      {
       "output_type": "stream",
       "stream": "stderr",
       "text": [
        "INFO:interface:stdout 2014-03-13T10:14:54.159213: 179 -0.090 -0.034  0.003 -0.099 -0.143  0.052   0.0458795633\n"
       ]
      },
      {
       "output_type": "stream",
       "stream": "stderr",
       "text": [
        "INFO:interface:stdout 2014-03-13T10:14:54.219293: 180 -0.090 -0.034  0.004 -0.099 -0.143  0.052   0.0458790772\n"
       ]
      },
      {
       "output_type": "stream",
       "stream": "stderr",
       "text": [
        "INFO:interface:stdout 2014-03-13T10:14:54.338548: 182 -0.090 -0.034  0.010 -0.099 -0.143  0.052   0.0458778994\n"
       ]
      },
      {
       "output_type": "stream",
       "stream": "stderr",
       "text": [
        "INFO:interface:stdout 2014-03-13T10:14:54.398778: 183 -0.090 -0.034  0.009 -0.099 -0.143  0.052   0.0458777794\n"
       ]
      },
      {
       "output_type": "stream",
       "stream": "stderr",
       "text": [
        "INFO:interface:stdout 2014-03-13T10:14:54.872919: 191 -0.090 -0.034  0.009 -0.097 -0.143  0.052   0.0458755231\n"
       ]
      },
      {
       "output_type": "stream",
       "stream": "stderr",
       "text": [
        "INFO:interface:stdout 2014-03-13T10:14:54.992387: 193 -0.090 -0.034  0.009 -0.094 -0.143  0.052   0.0458741906\n"
       ]
      },
      {
       "output_type": "stream",
       "stream": "stderr",
       "text": [
        "INFO:interface:stdout 2014-03-13T10:14:55.052691: 194 -0.090 -0.034  0.009 -0.093 -0.143  0.052   0.0458739786\n"
       ]
      },
      {
       "output_type": "stream",
       "stream": "stderr",
       "text": [
        "INFO:interface:stdout 2014-03-13T10:14:55.527073: 202 -0.090 -0.034  0.009 -0.093 -0.135  0.052   0.0458723323\n"
       ]
      },
      {
       "output_type": "stream",
       "stream": "stderr",
       "text": [
        "INFO:interface:stdout 2014-03-13T10:14:55.587569: 203 -0.090 -0.034  0.009 -0.093 -0.138  0.052   0.0458714505\n"
       ]
      },
      {
       "output_type": "stream",
       "stream": "stderr",
       "text": [
        "INFO:interface:stdout 2014-03-13T10:14:56.181560: 213 -0.090 -0.034  0.009 -0.093 -0.138  0.061   0.0458650929\n"
       ]
      },
      {
       "output_type": "stream",
       "stream": "stderr",
       "text": [
        "INFO:interface:stdout 2014-03-13T10:14:56.301166: 215 -0.090 -0.034  0.009 -0.093 -0.138  0.081   0.0458626262\n"
       ]
      },
      {
       "output_type": "stream",
       "stream": "stderr",
       "text": [
        "INFO:interface:stdout 2014-03-13T10:14:56.361548: 216 -0.090 -0.034  0.009 -0.093 -0.138  0.074   0.0458603032\n"
       ]
      },
      {
       "output_type": "stream",
       "stream": "stderr",
       "text": [
        "INFO:interface:stdout 2014-03-13T10:14:56.422086: 217 -0.090 -0.034  0.009 -0.093 -0.138  0.073   0.0458603001\n"
       ]
      },
      {
       "output_type": "stream",
       "stream": "stderr",
       "text": [
        "INFO:interface:stdout 2014-03-13T10:14:57.078265: 228 -0.100 -0.034  0.009 -0.093 -0.138  0.073   0.0458525316\n"
       ]
      },
      {
       "output_type": "stream",
       "stream": "stderr",
       "text": [
        "INFO:interface:stdout 2014-03-13T10:14:57.138148: 229 -0.099 -0.034  0.009 -0.093 -0.138  0.073   0.0458514700\n"
       ]
      },
      {
       "output_type": "stream",
       "stream": "stderr",
       "text": [
        "INFO:interface:stdout 2014-03-13T10:14:57.198586: 230 -0.097 -0.034  0.009 -0.093 -0.138  0.073   0.0458507570\n"
       ]
      },
      {
       "output_type": "stream",
       "stream": "stderr",
       "text": [
        "INFO:interface:stdout 2014-03-13T10:14:58.617775: 254 -0.097 -0.034  0.011 -0.093 -0.138  0.073   0.0458496848\n"
       ]
      },
      {
       "output_type": "stream",
       "stream": "stderr",
       "text": [
        "INFO:interface:stdout 2014-03-13T10:14:59.267275: 265 -0.097 -0.034  0.011 -0.091 -0.138  0.073   0.0458489030\n"
       ]
      },
      {
       "output_type": "stream",
       "stream": "stderr",
       "text": [
        "INFO:interface:stdout 2014-03-13T10:14:59.873992: 275 -0.097 -0.034  0.011 -0.091 -0.143  0.073   0.0458462775\n"
       ]
      },
      {
       "output_type": "stream",
       "stream": "stderr",
       "text": [
        "INFO:interface:stdout 2014-03-13T10:15:00.469792: 285 -0.097 -0.034  0.011 -0.091 -0.143  0.077   0.0458454869\n"
       ]
      },
      {
       "output_type": "stream",
       "stream": "stderr",
       "text": [
        "INFO:interface:stdout 2014-03-13T10:15:00.529600: 286 -0.097 -0.034  0.011 -0.091 -0.143  0.076   0.0458454509\n"
       ]
      },
      {
       "output_type": "stream",
       "stream": "stderr",
       "text": [
        "INFO:interface:stdout 2014-03-13T10:15:01.211729: 297 -0.100 -0.034  0.011 -0.091 -0.143  0.076   0.0458448836\n"
       ]
      },
      {
       "output_type": "stream",
       "stream": "stderr",
       "text": [
        "INFO:interface:stdout 2014-03-13T10:15:01.275803: 298 -0.099 -0.034  0.011 -0.091 -0.143  0.076   0.0458448012\n"
       ]
      },
      {
       "output_type": "stream",
       "stream": "stderr",
       "text": [
        "INFO:interface:stdout 2014-03-13T10:15:01.808364: 307 -0.099 -0.031  0.011 -0.091 -0.143  0.076   0.0458440383\n"
       ]
      },
      {
       "output_type": "stream",
       "stream": "stderr",
       "text": [
        "INFO:interface:stdout 2014-03-13T10:15:01.931643: 309 -0.099 -0.030  0.011 -0.091 -0.143  0.076   0.0458439320\n"
       ]
      },
      {
       "output_type": "stream",
       "stream": "stderr",
       "text": [
        "INFO:interface:stdout 2014-03-13T10:15:03.307309: 332 -0.099 -0.030  0.011 -0.090 -0.143  0.076   0.0458434910\n"
       ]
      },
      {
       "output_type": "stream",
       "stream": "stderr",
       "text": [
        "INFO:interface:stdout 2014-03-13T10:15:03.366964: 333 -0.099 -0.030  0.011 -0.089 -0.143  0.076   0.0458434780\n"
       ]
      },
      {
       "output_type": "stream",
       "stream": "stderr",
       "text": [
        "INFO:interface:stdout 2014-03-13T10:15:04.504768: 352 -0.099 -0.030  0.011 -0.089 -0.143  0.080   0.0458425698\n"
       ]
      },
      {
       "output_type": "stream",
       "stream": "stderr",
       "text": [
        "INFO:interface:stdout 2014-03-13T10:15:05.345878: 366 -0.098 -0.030  0.011 -0.089 -0.143  0.080   0.0458425396\n"
       ]
      },
      {
       "output_type": "stream",
       "stream": "stderr",
       "text": [
        "INFO:interface:stdout 2014-03-13T10:15:05.880766: 375 -0.098 -0.029  0.011 -0.089 -0.143  0.080   0.0458423421\n"
       ]
      },
      {
       "output_type": "stream",
       "stream": "stderr",
       "text": [
        "INFO:interface:stdout 2014-03-13T10:15:06.580796: 387 -0.098 -0.029  0.010 -0.089 -0.143  0.080   0.0458423334\n"
       ]
      },
      {
       "output_type": "stream",
       "stream": "stderr",
       "text": [
        "INFO:interface:stdout 2014-03-13T10:15:07.106339: 396 -0.098 -0.029  0.010 -0.088 -0.143  0.080   0.0458422952\n"
       ]
      },
      {
       "output_type": "stream",
       "stream": "stderr",
       "text": [
        "INFO:interface:stdout 2014-03-13T10:15:07.688552: 406 -0.098 -0.029  0.010 -0.088 -0.144  0.080   0.0458422268\n"
       ]
      },
      {
       "output_type": "stream",
       "stream": "stderr",
       "text": [
        "INFO:interface:stdout 2014-03-13T10:15:10.598574: 456 -0.098 -0.029  0.010 -0.089 -0.144  0.080   0.0458421920\n"
       ]
      },
      {
       "output_type": "stream",
       "stream": "stderr",
       "text": [
        "INFO:interface:stdout 2014-03-13T10:15:16.015703:Powell done niters = 7\n"
       ]
      },
      {
       "output_type": "stream",
       "stream": "stderr",
       "text": [
        "INFO:interface:stdout 2014-03-13T10:15:16.015703:Computing relative cost\n"
       ]
      },
      {
       "output_type": "stream",
       "stream": "stderr",
       "text": [
        "INFO:interface:stdout 2014-03-13T10:15:16.015703: 0  -25.0 -25.0 -25.0   0.997519\n"
       ]
      },
      {
       "output_type": "stream",
       "stream": "stderr",
       "text": [
        "INFO:interface:stdout 2014-03-13T10:15:16.015703: 1  -25.0 -25.0  25.0   0.995427\n"
       ]
      },
      {
       "output_type": "stream",
       "stream": "stderr",
       "text": [
        "INFO:interface:stdout 2014-03-13T10:15:16.015703: 2  -25.0  25.0 -25.0   0.993740\n"
       ]
      },
      {
       "output_type": "stream",
       "stream": "stderr",
       "text": [
        "INFO:interface:stdout 2014-03-13T10:15:16.015703: 3  -25.0  25.0  25.0   1.006937\n"
       ]
      },
      {
       "output_type": "stream",
       "stream": "stderr",
       "text": [
        "INFO:interface:stdout 2014-03-13T10:15:16.015703: 4   25.0 -25.0 -25.0   0.997895\n"
       ]
      },
      {
       "output_type": "stream",
       "stream": "stderr",
       "text": [
        "INFO:interface:stdout 2014-03-13T10:15:16.015703: 5   25.0 -25.0  25.0   0.997933\n"
       ]
      },
      {
       "output_type": "stream",
       "stream": "stderr",
       "text": [
        "INFO:interface:stdout 2014-03-13T10:15:16.015703: 6   25.0  25.0 -25.0   0.983269\n"
       ]
      },
      {
       "output_type": "stream",
       "stream": "stderr",
       "text": [
        "INFO:interface:stdout 2014-03-13T10:15:16.015703: 7   25.0  25.0  25.0   0.986532\n"
       ]
      },
      {
       "output_type": "stream",
       "stream": "stderr",
       "text": [
        "INFO:interface:stdout 2014-03-13T10:15:16.015703:REL:  8  0.045842    7.959251  0.994906 rel = 0.0460769 \n"
       ]
      },
      {
       "output_type": "stream",
       "stream": "stderr",
       "text": [
        "INFO:interface:stdout 2014-03-13T10:15:16.015703:Number of iterations     7\n"
       ]
      },
      {
       "output_type": "stream",
       "stream": "stderr",
       "text": [
        "INFO:interface:stdout 2014-03-13T10:15:16.015703:Min cost was 0.045842\n"
       ]
      },
      {
       "output_type": "stream",
       "stream": "stderr",
       "text": [
        "INFO:interface:stdout 2014-03-13T10:15:16.015703:Number of FunctionCalls   537\n"
       ]
      },
      {
       "output_type": "stream",
       "stream": "stderr",
       "text": [
        "INFO:interface:stdout 2014-03-13T10:15:16.015703:TolPowell 0.000000\n"
       ]
      },
      {
       "output_type": "stream",
       "stream": "stderr",
       "text": [
        "INFO:interface:stdout 2014-03-13T10:15:16.015703:nMaxItersPowell 36\n"
       ]
      },
      {
       "output_type": "stream",
       "stream": "stderr",
       "text": [
        "INFO:interface:stdout 2014-03-13T10:15:16.015703:OptimizationTime 32.331000 sec\n"
       ]
      },
      {
       "output_type": "stream",
       "stream": "stderr",
       "text": [
        "INFO:interface:stdout 2014-03-13T10:15:16.015703:Parameters at optimum (transmm) -0.09763 -0.02919  0.01001\n"
       ]
      },
      {
       "output_type": "stream",
       "stream": "stderr",
       "text": [
        "INFO:interface:stdout 2014-03-13T10:15:16.015703:Parameters at optimum (rotdeg) -0.08899 -0.14399  0.07994 \n"
       ]
      },
      {
       "output_type": "stream",
       "stream": "stderr",
       "text": [
        "INFO:interface:stdout 2014-03-13T10:15:16.015703:Final costs ----------------\n"
       ]
      },
      {
       "output_type": "stream",
       "stream": "stderr",
       "text": [
        "INFO:interface:stdout 2014-03-13T10:15:16.015703:Number of surface hits 250396\n"
       ]
      },
      {
       "output_type": "stream",
       "stream": "stderr",
       "text": [
        "INFO:interface:stdout 2014-03-13T10:15:16.015703:WM  Intensity   118.1680 +/-  18.0097\n"
       ]
      },
      {
       "output_type": "stream",
       "stream": "stderr",
       "text": [
        "INFO:interface:stdout 2014-03-13T10:15:16.015703:Ctx Intensity   174.4281 +/-  28.5255\n"
       ]
      },
      {
       "output_type": "stream",
       "stream": "stderr",
       "text": [
        "INFO:interface:stdout 2014-03-13T10:15:16.015703:Pct Contrast     37.8481 +/-  19.0699\n"
       ]
      },
      {
       "output_type": "stream",
       "stream": "stderr",
       "text": [
        "INFO:interface:stdout 2014-03-13T10:15:16.015703:Cost   0.0458\n"
       ]
      },
      {
       "output_type": "stream",
       "stream": "stderr",
       "text": [
        "INFO:interface:stdout 2014-03-13T10:15:16.015703:RelCost   0.0482\n"
       ]
      },
      {
       "output_type": "stream",
       "stream": "stderr",
       "text": [
        "INFO:interface:stdout 2014-03-13T10:15:16.015703:Reg at min cost was \n"
       ]
      },
      {
       "output_type": "stream",
       "stream": "stderr",
       "text": [
        "INFO:interface:stdout 2014-03-13T10:15:16.015703: 0.998  -0.018  -0.053  -0.248;\n"
       ]
      },
      {
       "output_type": "stream",
       "stream": "stderr",
       "text": [
        "INFO:interface:stdout 2014-03-13T10:15:16.015703: 0.049  -0.187   0.981  -11.125;\n"
       ]
      },
      {
       "output_type": "stream",
       "stream": "stderr",
       "text": [
        "INFO:interface:stdout 2014-03-13T10:15:16.015703:-0.028  -0.982  -0.186   1.123;\n"
       ]
      },
      {
       "output_type": "stream",
       "stream": "stderr",
       "text": [
        "INFO:interface:stdout 2014-03-13T10:15:16.015703: 0.000   0.000   0.000   1.000;\n"
       ]
      },
      {
       "output_type": "stream",
       "stream": "stderr",
       "text": [
        "INFO:interface:stdout 2014-03-13T10:15:16.015703:\n"
       ]
      },
      {
       "output_type": "stream",
       "stream": "stderr",
       "text": [
        "INFO:interface:stdout 2014-03-13T10:15:16.015703:Writing optimal reg to /home/oesteban/tmp/BSplineEvaluation/Prepare_sMRI/T2w_to_T1w/T2-Guys-0977_bbreg_S400.dat, type = 14 \n"
       ]
      },
      {
       "output_type": "stream",
       "stream": "stderr",
       "text": [
        "INFO:interface:stdout 2014-03-13T10:15:18.729774:Writing output volume to /home/oesteban/tmp/BSplineEvaluation/Prepare_sMRI/T2w_to_T1w/T2-Guys-0977_bbreg.nii.gz \n"
       ]
      },
      {
       "output_type": "stream",
       "stream": "stderr",
       "text": [
        "INFO:interface:stdout 2014-03-13T10:15:18.729774:Original Reg \n"
       ]
      },
      {
       "output_type": "stream",
       "stream": "stderr",
       "text": [
        "INFO:interface:stdout 2014-03-13T10:15:18.729774: 0.998  -0.021  -0.052  -0.163;\n"
       ]
      },
      {
       "output_type": "stream",
       "stream": "stderr",
       "text": [
        "INFO:interface:stdout 2014-03-13T10:15:18.729774: 0.047  -0.186   0.981  -11.097;\n"
       ]
      },
      {
       "output_type": "stream",
       "stream": "stderr",
       "text": [
        "INFO:interface:stdout 2014-03-13T10:15:18.729774:-0.030  -0.982  -0.184   1.097;\n"
       ]
      },
      {
       "output_type": "stream",
       "stream": "stderr",
       "text": [
        "INFO:interface:stdout 2014-03-13T10:15:18.729774: 0.000   0.000   0.000   1.000;\n"
       ]
      },
      {
       "output_type": "stream",
       "stream": "stderr",
       "text": [
        "INFO:interface:stdout 2014-03-13T10:15:18.729774:\n"
       ]
      },
      {
       "output_type": "stream",
       "stream": "stderr",
       "text": [
        "INFO:interface:stdout 2014-03-13T10:15:18.729774:Original Reg - Optimal Reg\n"
       ]
      },
      {
       "output_type": "stream",
       "stream": "stderr",
       "text": [
        "INFO:interface:stdout 2014-03-13T10:15:18.729774:-0.000  -0.003   0.001   0.085;\n"
       ]
      },
      {
       "output_type": "stream",
       "stream": "stderr",
       "text": [
        "INFO:interface:stdout 2014-03-13T10:15:18.729774:-0.001   0.002   0.000   0.028;\n"
       ]
      },
      {
       "output_type": "stream",
       "stream": "stderr",
       "text": [
        "INFO:interface:stdout 2014-03-13T10:15:18.729774:-0.002  -0.000   0.002  -0.027;\n"
       ]
      },
      {
       "output_type": "stream",
       "stream": "stderr",
       "text": [
        "INFO:interface:stdout 2014-03-13T10:15:18.729774: 0.000   0.000   0.000   0.000;\n"
       ]
      },
      {
       "output_type": "stream",
       "stream": "stderr",
       "text": [
        "INFO:interface:stdout 2014-03-13T10:15:18.729774:\n"
       ]
      },
      {
       "output_type": "stream",
       "stream": "stderr",
       "text": [
        "INFO:interface:stdout 2014-03-13T10:15:18.748444:Computing change in lh position\n"
       ]
      },
      {
       "output_type": "stream",
       "stream": "stderr",
       "text": [
        "INFO:interface:stdout 2014-03-13T10:15:18.748444:LH rmsDiffMean 0.199913\n"
       ]
      },
      {
       "output_type": "stream",
       "stream": "stderr",
       "text": [
        "INFO:interface:stdout 2014-03-13T10:15:18.748444:Computing change in rh position\n"
       ]
      },
      {
       "output_type": "stream",
       "stream": "stderr",
       "text": [
        "INFO:interface:stdout 2014-03-13T10:15:18.748444:Surface RMS Diff (mm) 0.192211 0.325587\n"
       ]
      },
      {
       "output_type": "stream",
       "stream": "stderr",
       "text": [
        "INFO:interface:stdout 2014-03-13T10:15:18.748444:mri_segreg done\n"
       ]
      },
      {
       "output_type": "stream",
       "stream": "stderr",
       "text": [
        "INFO:interface:stdout 2014-03-13T10:15:18.793593:Cleaning up\n"
       ]
      },
      {
       "output_type": "stream",
       "stream": "stderr",
       "text": [
        "INFO:interface:stdout 2014-03-13T10:15:18.801156: \n"
       ]
      },
      {
       "output_type": "stream",
       "stream": "stderr",
       "text": [
        "INFO:interface:stdout 2014-03-13T10:15:18.801884:Started at Thu Mar 13 10:14:26 CET 2014 \n"
       ]
      },
      {
       "output_type": "stream",
       "stream": "stderr",
       "text": [
        "INFO:interface:stdout 2014-03-13T10:15:18.802919:Ended   at Thu Mar 13 10:15:18 CET 2014\n"
       ]
      },
      {
       "output_type": "stream",
       "stream": "stderr",
       "text": [
        "INFO:interface:stdout 2014-03-13T10:15:18.803713:BBR-Run-Time-Sec 52\n"
       ]
      },
      {
       "output_type": "stream",
       "stream": "stderr",
       "text": [
        "INFO:interface:stdout 2014-03-13T10:15:18.804497: \n"
       ]
      },
      {
       "output_type": "stream",
       "stream": "stderr",
       "text": [
        "INFO:interface:stdout 2014-03-13T10:15:18.805253:bbregister Done\n"
       ]
      },
      {
       "output_type": "stream",
       "stream": "stderr",
       "text": [
        "INFO:interface:stdout 2014-03-13T10:15:18.806009:To check results, run:\n"
       ]
      },
      {
       "output_type": "stream",
       "stream": "stderr",
       "text": [
        "INFO:interface:stdout 2014-03-13T10:15:18.806786:tkregister2 --mov /home/oesteban/tmp/BSplineEvaluation/Prepare_sMRI/T2w_to_T1w/T2-Guys-0977.nii.gz --reg /home/oesteban/tmp/BSplineEvaluation/Prepare_sMRI/T2w_to_T1w/T2-Guys-0977_bbreg_S400.dat --surf\n"
       ]
      },
      {
       "output_type": "stream",
       "stream": "stderr",
       "text": [
        "INFO:interface:stdout 2014-03-13T10:15:18.807077: \n"
       ]
      },
      {
       "output_type": "stream",
       "stream": "stderr",
       "text": [
        "INFO:workflow:Executing node T2toRAS in dir: /home/oesteban/tmp/BSplineEvaluation/Prepare_sMRI/T2toRAS\n"
       ]
      },
      {
       "output_type": "stream",
       "stream": "stderr",
       "text": [
        "INFO:workflow:Running: mri_convert --out_orientation RAS --out_type nii --input_volume /home/oesteban/tmp/BSplineEvaluation/Prepare_sMRI/T2w_to_T1w/T2-Guys-0977_bbreg.nii.gz --output_volume /home/oesteban/tmp/BSplineEvaluation/Prepare_sMRI/T2toRAS/T2-Guys-0977_bbreg_out.nii.gz\n"
       ]
      },
      {
       "output_type": "stream",
       "stream": "stderr",
       "text": [
        "INFO:interface:stdout 2014-03-13T10:15:18.855913:mri_convert --out_orientation RAS --out_type nii --input_volume /home/oesteban/tmp/BSplineEvaluation/Prepare_sMRI/T2w_to_T1w/T2-Guys-0977_bbreg.nii.gz --output_volume /home/oesteban/tmp/BSplineEvaluation/Prepare_sMRI/T2toRAS/T2-Guys-0977_bbreg_out.nii.gz \n"
       ]
      },
      {
       "output_type": "stream",
       "stream": "stderr",
       "text": [
        "INFO:interface:stdout 2014-03-13T10:15:23.371680:$Id: mri_convert.c,v 1.179.2.7 2012/09/05 21:55:16 mreuter Exp $\n"
       ]
      },
      {
       "output_type": "stream",
       "stream": "stderr",
       "text": [
        "INFO:interface:stdout 2014-03-13T10:15:23.371680:reading from /home/oesteban/tmp/BSplineEvaluation/Prepare_sMRI/T2w_to_T1w/T2-Guys-0977_bbreg.nii.gz...\n"
       ]
      },
      {
       "output_type": "stream",
       "stream": "stderr",
       "text": [
        "INFO:interface:stdout 2014-03-13T10:15:23.371680:TR=0.00, TE=0.00, TI=0.00, flip angle=0.00\n"
       ]
      },
      {
       "output_type": "stream",
       "stream": "stderr",
       "text": [
        "INFO:interface:stdout 2014-03-13T10:15:23.371680:i_ras = (-1, 1.49012e-08, 0)\n"
       ]
      },
      {
       "output_type": "stream",
       "stream": "stderr",
       "text": [
        "INFO:interface:stdout 2014-03-13T10:15:23.371680:j_ras = (-5.21541e-08, 6.98492e-10, -1)\n"
       ]
      },
      {
       "output_type": "stream",
       "stream": "stderr",
       "text": [
        "INFO:interface:stdout 2014-03-13T10:15:23.371680:k_ras = (-9.87202e-08, 1, 1.74623e-09)\n"
       ]
      },
      {
       "output_type": "stream",
       "stream": "stderr",
       "text": [
        "INFO:interface:stdout 2014-03-13T10:15:23.371680:Setting output orientation to RAS\n"
       ]
      },
      {
       "output_type": "stream",
       "stream": "stderr",
       "text": [
        "INFO:interface:stdout 2014-03-13T10:15:23.371680:Reslicing using trilinear interpolation \n"
       ]
      },
      {
       "output_type": "stream",
       "stream": "stderr",
       "text": [
        "INFO:interface:stdout 2014-03-13T10:15:23.371680:writing to /home/oesteban/tmp/BSplineEvaluation/Prepare_sMRI/T2toRAS/T2-Guys-0977_bbreg_out.nii.gz...\n"
       ]
      },
      {
       "output_type": "stream",
       "stream": "stderr",
       "text": [
        "INFO:workflow:Executing node FSSource in dir: /home/oesteban/tmp/BSplineEvaluation/Prepare_sMRI/FSSource\n"
       ]
      },
      {
       "output_type": "stream",
       "stream": "stderr",
       "text": [
        "INFO:workflow:Executing node norm_to_native in dir: /home/oesteban/tmp/BSplineEvaluation/Prepare_sMRI/CSF_Surface/norm_to_native\n"
       ]
      },
      {
       "output_type": "stream",
       "stream": "stderr",
       "text": [
        "INFO:workflow:Running: mri_vol2vol --regheader --mov /home/oesteban/tmp/BSplineEvaluation/Prepare_sMRI/CSF_Surface/norm_to_native/norm.mgz --targ /home/oesteban/tmp/BSplineEvaluation/Prepare_sMRI/CSF_Surface/toRAS/rawavg_out.mgz --o /home/oesteban/tmp/BSplineEvaluation/Prepare_sMRI/CSF_Surface/norm_to_native/norm_warped.mgz\n"
       ]
      },
      {
       "output_type": "stream",
       "stream": "stderr",
       "text": [
        "INFO:interface:stdout 2014-03-13T10:15:24.419035:movvol /home/oesteban/tmp/BSplineEvaluation/Prepare_sMRI/CSF_Surface/norm_to_native/norm.mgz\n"
       ]
      },
      {
       "output_type": "stream",
       "stream": "stderr",
       "text": [
        "INFO:interface:stdout 2014-03-13T10:15:24.419035:targvol /home/oesteban/tmp/BSplineEvaluation/Prepare_sMRI/CSF_Surface/toRAS/rawavg_out.mgz\n"
       ]
      },
      {
       "output_type": "stream",
       "stream": "stderr",
       "text": [
        "INFO:interface:stdout 2014-03-13T10:15:24.419035:outvol /home/oesteban/tmp/BSplineEvaluation/Prepare_sMRI/CSF_Surface/norm_to_native/norm_warped.mgz\n"
       ]
      },
      {
       "output_type": "stream",
       "stream": "stderr",
       "text": [
        "INFO:interface:stdout 2014-03-13T10:15:24.419035:invert 0\n"
       ]
      },
      {
       "output_type": "stream",
       "stream": "stderr",
       "text": [
        "INFO:interface:stdout 2014-03-13T10:15:24.419035:tal    0\n"
       ]
      },
      {
       "output_type": "stream",
       "stream": "stderr",
       "text": [
        "INFO:interface:stdout 2014-03-13T10:15:24.419035:talres 2\n"
       ]
      },
      {
       "output_type": "stream",
       "stream": "stderr",
       "text": [
        "INFO:interface:stdout 2014-03-13T10:15:24.419035:regheader 1\n"
       ]
      },
      {
       "output_type": "stream",
       "stream": "stderr",
       "text": [
        "INFO:interface:stdout 2014-03-13T10:15:24.419035:noresample 0\n"
       ]
      },
      {
       "output_type": "stream",
       "stream": "stderr",
       "text": [
        "INFO:interface:stdout 2014-03-13T10:15:24.419035:interp  trilinear (1)\n"
       ]
      },
      {
       "output_type": "stream",
       "stream": "stderr",
       "text": [
        "INFO:interface:stdout 2014-03-13T10:15:24.419035:precision  float (3)\n"
       ]
      },
      {
       "output_type": "stream",
       "stream": "stderr",
       "text": [
        "INFO:interface:stdout 2014-03-13T10:15:24.419035:Gdiag_no  -1\n"
       ]
      },
      {
       "output_type": "stream",
       "stream": "stderr",
       "text": [
        "INFO:interface:stdout 2014-03-13T10:15:24.419035:Synth      0\n"
       ]
      },
      {
       "output_type": "stream",
       "stream": "stderr",
       "text": [
        "INFO:interface:stdout 2014-03-13T10:15:24.419035:SynthSeed  1395279201\n"
       ]
      },
      {
       "output_type": "stream",
       "stream": "stderr",
       "text": [
        "INFO:interface:stdout 2014-03-13T10:15:24.419035:\n"
       ]
      },
      {
       "output_type": "stream",
       "stream": "stderr",
       "text": [
        "INFO:interface:stdout 2014-03-13T10:15:24.419035:Computing registration based on scanner-to-scanner\n"
       ]
      },
      {
       "output_type": "stream",
       "stream": "stderr",
       "text": [
        "INFO:interface:stdout 2014-03-13T10:15:24.419035:\n"
       ]
      },
      {
       "output_type": "stream",
       "stream": "stderr",
       "text": [
        "INFO:interface:stdout 2014-03-13T10:15:24.419035:Final tkRAS-to-tkRAS Matrix is:\n"
       ]
      },
      {
       "output_type": "stream",
       "stream": "stderr",
       "text": [
        "INFO:interface:stdout 2014-03-13T10:15:24.419035:-1.000  -0.000   0.000  -0.000;\n"
       ]
      },
      {
       "output_type": "stream",
       "stream": "stderr",
       "text": [
        "INFO:interface:stdout 2014-03-13T10:15:24.419035:-0.000  -0.000  -1.000   0.000;\n"
       ]
      },
      {
       "output_type": "stream",
       "stream": "stderr",
       "text": [
        "INFO:interface:stdout 2014-03-13T10:15:24.419035: 0.000   1.000  -0.000   0.000;\n"
       ]
      },
      {
       "output_type": "stream",
       "stream": "stderr",
       "text": [
        "INFO:interface:stdout 2014-03-13T10:15:24.419035: 0.000   0.000   0.000   1.000;\n"
       ]
      },
      {
       "output_type": "stream",
       "stream": "stderr",
       "text": [
        "INFO:interface:stdout 2014-03-13T10:15:24.419035:\n"
       ]
      },
      {
       "output_type": "stream",
       "stream": "stderr",
       "text": [
        "INFO:interface:stdout 2014-03-13T10:15:24.419035:\n"
       ]
      },
      {
       "output_type": "stream",
       "stream": "stderr",
       "text": [
        "INFO:interface:stdout 2014-03-13T10:15:24.419035:Vox2Vox Matrix is:\n"
       ]
      },
      {
       "output_type": "stream",
       "stream": "stderr",
       "text": [
        "INFO:interface:stdout 2014-03-13T10:15:24.419035:-0.937   0.000   0.000   248.000;\n"
       ]
      },
      {
       "output_type": "stream",
       "stream": "stderr",
       "text": [
        "INFO:interface:stdout 2014-03-13T10:15:24.419035: 0.000  -0.000  -1.200   218.000;\n"
       ]
      },
      {
       "output_type": "stream",
       "stream": "stderr",
       "text": [
        "INFO:interface:stdout 2014-03-13T10:15:24.419035: 0.000   0.938  -0.000   8.000;\n"
       ]
      },
      {
       "output_type": "stream",
       "stream": "stderr",
       "text": [
        "INFO:interface:stdout 2014-03-13T10:15:24.419035: 0.000   0.000   0.000   1.000;\n"
       ]
      },
      {
       "output_type": "stream",
       "stream": "stderr",
       "text": [
        "INFO:interface:stdout 2014-03-13T10:15:25.797596:\n"
       ]
      },
      {
       "output_type": "stream",
       "stream": "stderr",
       "text": [
        "INFO:interface:stdout 2014-03-13T10:15:25.797596:Resampling\n"
       ]
      },
      {
       "output_type": "stream",
       "stream": "stderr",
       "text": [
        "INFO:interface:stdout 2014-03-13T10:15:25.797596:Output registration matrix is identity\n"
       ]
      },
      {
       "output_type": "stream",
       "stream": "stderr",
       "text": [
        "INFO:interface:stdout 2014-03-13T10:15:25.797596:INFO: writing registration to /home/oesteban/tmp/BSplineEvaluation/Prepare_sMRI/CSF_Surface/norm_to_native/norm_warped.mgz.lta\n"
       ]
      },
      {
       "output_type": "stream",
       "stream": "stderr",
       "text": [
        "INFO:interface:stdout 2014-03-13T10:15:25.797596:transformed matrix:\n"
       ]
      },
      {
       "output_type": "stream",
       "stream": "stderr",
       "text": [
        "INFO:interface:stdout 2014-03-13T10:15:25.797596:-1.000  -0.000   0.000   16.191;\n"
       ]
      },
      {
       "output_type": "stream",
       "stream": "stderr",
       "text": [
        "INFO:interface:stdout 2014-03-13T10:15:25.797596: 0.000   0.000  -1.000  -17.001;\n"
       ]
      },
      {
       "output_type": "stream",
       "stream": "stderr",
       "text": [
        "INFO:interface:stdout 2014-03-13T10:15:25.797596: 0.000   1.000   0.000  -2.217;\n"
       ]
      },
      {
       "output_type": "stream",
       "stream": "stderr",
       "text": [
        "INFO:interface:stdout 2014-03-13T10:15:25.797596: 0.000   0.000   0.000   1.000;\n"
       ]
      },
      {
       "output_type": "stream",
       "stream": "stderr",
       "text": [
        "INFO:interface:stdout 2014-03-13T10:15:25.799923:transformed matrix:\n"
       ]
      },
      {
       "output_type": "stream",
       "stream": "stderr",
       "text": [
        "INFO:interface:stdout 2014-03-13T10:15:25.799923: 1.067  -0.000  -0.000  -8.533;\n"
       ]
      },
      {
       "output_type": "stream",
       "stream": "stderr",
       "text": [
        "INFO:interface:stdout 2014-03-13T10:15:25.799923:-0.000   1.067  -0.000  -8.533;\n"
       ]
      },
      {
       "output_type": "stream",
       "stream": "stderr",
       "text": [
        "INFO:interface:stdout 2014-03-13T10:15:25.799923: 0.000  -0.000   0.833  -31.666;\n"
       ]
      },
      {
       "output_type": "stream",
       "stream": "stderr",
       "text": [
        "INFO:interface:stdout 2014-03-13T10:15:25.799923: 0.000   0.000   0.000   1.000;\n"
       ]
      },
      {
       "output_type": "stream",
       "stream": "stderr",
       "text": [
        "INFO:interface:stdout 2014-03-13T10:15:25.799923:INFO: writing registration matrix to /home/oesteban/tmp/BSplineEvaluation/Prepare_sMRI/CSF_Surface/norm_to_native/norm_warped.mgz.reg\n"
       ]
      },
      {
       "output_type": "stream",
       "stream": "stderr",
       "text": [
        "INFO:interface:stdout 2014-03-13T10:15:25.799923:To check registration, run:\n"
       ]
      },
      {
       "output_type": "stream",
       "stream": "stderr",
       "text": [
        "INFO:interface:stdout 2014-03-13T10:15:25.799923:\n"
       ]
      },
      {
       "output_type": "stream",
       "stream": "stderr",
       "text": [
        "INFO:interface:stdout 2014-03-13T10:15:25.799923:  tkregister2 --mov /home/oesteban/tmp/BSplineEvaluation/Prepare_sMRI/CSF_Surface/norm_to_native/norm_warped.mgz --targ /home/oesteban/tmp/BSplineEvaluation/Prepare_sMRI/CSF_Surface/toRAS/rawavg_out.mgz --reg /home/oesteban/tmp/BSplineEvaluation/Prepare_sMRI/CSF_Surface/norm_to_native/norm_warped.mgz.reg \n"
       ]
      },
      {
       "output_type": "stream",
       "stream": "stderr",
       "text": [
        "INFO:interface:stdout 2014-03-13T10:15:25.799923:\n"
       ]
      },
      {
       "output_type": "stream",
       "stream": "stderr",
       "text": [
        "INFO:interface:stdout 2014-03-13T10:15:25.799923:mri_vol2vol done\n"
       ]
      },
      {
       "output_type": "stream",
       "stream": "stderr",
       "text": [
        "INFO:workflow:Executing node aseg_to_native in dir: /home/oesteban/tmp/BSplineEvaluation/Prepare_sMRI/CSF_Surface/aseg_to_native\n"
       ]
      },
      {
       "output_type": "stream",
       "stream": "stderr",
       "text": [
        "INFO:workflow:Running: mri_label2vol --regheader /media/mnemea/IXI_dataset/FREESURFER/S400/mri/aseg.mgz --seg /home/oesteban/tmp/BSplineEvaluation/Prepare_sMRI/CSF_Surface/aseg_to_native/aseg.mgz --temp /home/oesteban/tmp/BSplineEvaluation/Prepare_sMRI/CSF_Surface/toRAS/rawavg_out.mgz --o /home/oesteban/tmp/BSplineEvaluation/Prepare_sMRI/CSF_Surface/aseg_to_native/aseg_vol.nii.gz\n"
       ]
      },
      {
       "output_type": "stream",
       "stream": "stderr",
       "text": [
        "INFO:interface:stdout 2014-03-13T10:15:26.446636:Number of labels: 0\n"
       ]
      },
      {
       "output_type": "stream",
       "stream": "stderr",
       "text": [
        "INFO:interface:stdout 2014-03-13T10:15:26.446636:Annot File:      (null)\n"
       ]
      },
      {
       "output_type": "stream",
       "stream": "stderr",
       "text": [
        "INFO:interface:stdout 2014-03-13T10:15:26.446636:Template Volume: /home/oesteban/tmp/BSplineEvaluation/Prepare_sMRI/CSF_Surface/toRAS/rawavg_out.mgz\n"
       ]
      },
      {
       "output_type": "stream",
       "stream": "stderr",
       "text": [
        "INFO:interface:stdout 2014-03-13T10:15:26.446636:Outut Volume: /home/oesteban/tmp/BSplineEvaluation/Prepare_sMRI/CSF_Surface/aseg_to_native/aseg_vol.nii.gz\n"
       ]
      },
      {
       "output_type": "stream",
       "stream": "stderr",
       "text": [
        "INFO:interface:stdout 2014-03-13T10:15:26.446636:Registration File: (null)\n"
       ]
      },
      {
       "output_type": "stream",
       "stream": "stderr",
       "text": [
        "INFO:interface:stdout 2014-03-13T10:15:26.446636:Fill Threshold: 0\n"
       ]
      },
      {
       "output_type": "stream",
       "stream": "stderr",
       "text": [
        "INFO:interface:stdout 2014-03-13T10:15:26.446636:Label Vox Vol:  1\n"
       ]
      },
      {
       "output_type": "stream",
       "stream": "stderr",
       "text": [
        "INFO:interface:stdout 2014-03-13T10:15:26.446636:ProjType:       (null)\n"
       ]
      },
      {
       "output_type": "stream",
       "stream": "stderr",
       "text": [
        "INFO:interface:stdout 2014-03-13T10:15:26.446636:ProjTypeId:     0\n"
       ]
      },
      {
       "output_type": "stream",
       "stream": "stderr",
       "text": [
        "INFO:interface:stdout 2014-03-13T10:15:26.446636:ProjStart:      0\n"
       ]
      },
      {
       "output_type": "stream",
       "stream": "stderr",
       "text": [
        "INFO:interface:stdout 2014-03-13T10:15:26.446636:ProjStop:       0\n"
       ]
      },
      {
       "output_type": "stream",
       "stream": "stderr",
       "text": [
        "INFO:interface:stdout 2014-03-13T10:15:26.446636:ProjDelta:      0.1\n"
       ]
      },
      {
       "output_type": "stream",
       "stream": "stderr",
       "text": [
        "INFO:interface:stdout 2014-03-13T10:15:26.446636:Subject:  (null)\n"
       ]
      },
      {
       "output_type": "stream",
       "stream": "stderr",
       "text": [
        "INFO:interface:stdout 2014-03-13T10:15:26.446636:Hemi:     (null)\n"
       ]
      },
      {
       "output_type": "stream",
       "stream": "stderr",
       "text": [
        "INFO:interface:stdout 2014-03-13T10:15:26.446636:UseNewASeg2Vol:  1\n"
       ]
      },
      {
       "output_type": "stream",
       "stream": "stderr",
       "text": [
        "INFO:interface:stdout 2014-03-13T10:15:26.446636:DoLabelStatVol  0\n"
       ]
      },
      {
       "output_type": "stream",
       "stream": "stderr",
       "text": [
        "INFO:interface:stdout 2014-03-13T10:15:26.446636:LabelCodeOffset  0\n"
       ]
      },
      {
       "output_type": "stream",
       "stream": "stderr",
       "text": [
        "INFO:interface:stdout 2014-03-13T10:15:26.446636:setenv SUBJECTS_DIR /opt/freesurfer/subjects\n"
       ]
      },
      {
       "output_type": "stream",
       "stream": "stderr",
       "text": [
        "INFO:interface:stdout 2014-03-13T10:15:26.446636:$Id: mri_label2vol.c,v 1.34.2.5 2012/06/08 17:31:03 greve Exp $\n"
       ]
      },
      {
       "output_type": "stream",
       "stream": "stderr",
       "text": [
        "INFO:interface:stdout 2014-03-13T10:15:26.446636:Template RAS-to-Vox: --------\n"
       ]
      },
      {
       "output_type": "stream",
       "stream": "stderr",
       "text": [
        "INFO:interface:stdout 2014-03-13T10:15:26.446636:-1.067   0.000   0.000   128.000;\n"
       ]
      },
      {
       "output_type": "stream",
       "stream": "stderr",
       "text": [
        "INFO:interface:stdout 2014-03-13T10:15:26.446636:-0.000  -0.000  -1.067   128.000;\n"
       ]
      },
      {
       "output_type": "stream",
       "stream": "stderr",
       "text": [
        "INFO:interface:stdout 2014-03-13T10:15:26.446636:-0.000   0.833  -0.000   75.000;\n"
       ]
      },
      {
       "output_type": "stream",
       "stream": "stderr",
       "text": [
        "INFO:interface:stdout 2014-03-13T10:15:26.446636: 0.000   0.000   0.000   1.000;\n"
       ]
      },
      {
       "output_type": "stream",
       "stream": "stderr",
       "text": [
        "INFO:interface:stdout 2014-03-13T10:15:26.612022:Template Voxel Volume: 1.05469\n"
       ]
      },
      {
       "output_type": "stream",
       "stream": "stderr",
       "text": [
        "INFO:interface:stdout 2014-03-13T10:15:26.612022:nHits Thresh: 0\n"
       ]
      },
      {
       "output_type": "stream",
       "stream": "stderr",
       "text": [
        "INFO:interface:stdout 2014-03-13T10:15:26.612022:Computing registration based on header\n"
       ]
      },
      {
       "output_type": "stream",
       "stream": "stderr",
       "text": [
        "INFO:interface:stdout 2014-03-13T10:15:26.612022:RegMat: --------\n"
       ]
      },
      {
       "output_type": "stream",
       "stream": "stderr",
       "text": [
        "INFO:interface:stdout 2014-03-13T10:15:26.612022:-1.000  -0.000  -0.000  -0.000;\n"
       ]
      },
      {
       "output_type": "stream",
       "stream": "stderr",
       "text": [
        "INFO:interface:stdout 2014-03-13T10:15:26.612022: 0.000   0.000   1.000   0.000;\n"
       ]
      },
      {
       "output_type": "stream",
       "stream": "stderr",
       "text": [
        "INFO:interface:stdout 2014-03-13T10:15:26.612022: 0.000  -1.000   0.000   0.000;\n"
       ]
      },
      {
       "output_type": "stream",
       "stream": "stderr",
       "text": [
        "INFO:interface:stdout 2014-03-13T10:15:26.612022: 0.000   0.000   0.000   1.000;\n"
       ]
      },
      {
       "output_type": "stream",
       "stream": "stderr",
       "text": [
        "INFO:interface:stdout 2014-03-13T10:15:26.612022:Label RAS-to-Vox: --------\n"
       ]
      },
      {
       "output_type": "stream",
       "stream": "stderr",
       "text": [
        "INFO:interface:stdout 2014-03-13T10:15:26.612022: 1.067   0.000   0.000   128.000;\n"
       ]
      },
      {
       "output_type": "stream",
       "stream": "stderr",
       "text": [
        "INFO:interface:stdout 2014-03-13T10:15:26.612022:-0.000   1.067  -0.000   128.000;\n"
       ]
      },
      {
       "output_type": "stream",
       "stream": "stderr",
       "text": [
        "INFO:interface:stdout 2014-03-13T10:15:26.612022: 0.000   0.000   0.833   75.000;\n"
       ]
      },
      {
       "output_type": "stream",
       "stream": "stderr",
       "text": [
        "INFO:interface:stdout 2014-03-13T10:15:26.612022: 0.000   0.000   0.000   1.000;\n"
       ]
      },
      {
       "output_type": "stream",
       "stream": "stderr",
       "text": [
        "INFO:interface:stdout 2014-03-13T10:15:26.910049:ASeg2Vol: Building LUT\n"
       ]
      },
      {
       "output_type": "stream",
       "stream": "stderr",
       "text": [
        "INFO:interface:stdout 2014-03-13T10:15:27.809466:ASeg2Vol: Sorting \n"
       ]
      },
      {
       "output_type": "stream",
       "stream": "stderr",
       "text": [
        "INFO:interface:stdout 2014-03-13T10:15:30.481302:ASeg2Vol: Mapping\n"
       ]
      },
      {
       "output_type": "stream",
       "stream": "stderr",
       "text": [
        "INFO:interface:stdout 2014-03-13T10:15:31.086932:ASeg2Vol: Reverse Map\n"
       ]
      },
      {
       "output_type": "stream",
       "stream": "stderr",
       "text": [
        "INFO:interface:stdout 2014-03-13T10:15:31.086932:nmisses = 1190400 (1190400 filled)\n"
       ]
      },
      {
       "output_type": "stream",
       "stream": "stderr",
       "text": [
        "INFO:interface:stdout 2014-03-13T10:15:31.086932:ASeg2Vol: done\n"
       ]
      },
      {
       "output_type": "stream",
       "stream": "stderr",
       "text": [
        "INFO:workflow:Executing node combine in dir: /home/oesteban/tmp/BSplineEvaluation/Prepare_sMRI/CSF_Surface/combine\n"
       ]
      },
      {
       "output_type": "stream",
       "stream": "stderr",
       "text": [
        "INFO:workflow:Executing node convertmgz in dir: /home/oesteban/tmp/BSplineEvaluation/Prepare_sMRI/CSF_Surface/convertmgz\n"
       ]
      },
      {
       "output_type": "stream",
       "stream": "stderr",
       "text": [
        "INFO:workflow:Running: mri_convert --out_type mgz --input_volume /home/oesteban/tmp/BSplineEvaluation/Prepare_sMRI/CSF_Surface/aseg_to_native/aseg_vol_bin.nii.gz --output_volume /home/oesteban/tmp/BSplineEvaluation/Prepare_sMRI/CSF_Surface/convertmgz/aseg_vol_bin_out.mgz\n"
       ]
      },
      {
       "output_type": "stream",
       "stream": "stderr",
       "text": [
        "INFO:interface:stdout 2014-03-13T10:15:32.316152:mri_convert --out_type mgz --input_volume /home/oesteban/tmp/BSplineEvaluation/Prepare_sMRI/CSF_Surface/aseg_to_native/aseg_vol_bin.nii.gz --output_volume /home/oesteban/tmp/BSplineEvaluation/Prepare_sMRI/CSF_Surface/convertmgz/aseg_vol_bin_out.mgz \n"
       ]
      },
      {
       "output_type": "stream",
       "stream": "stderr",
       "text": [
        "INFO:interface:stdout 2014-03-13T10:15:33.158241:$Id: mri_convert.c,v 1.179.2.7 2012/09/05 21:55:16 mreuter Exp $\n"
       ]
      },
      {
       "output_type": "stream",
       "stream": "stderr",
       "text": [
        "INFO:interface:stdout 2014-03-13T10:15:33.158241:reading from /home/oesteban/tmp/BSplineEvaluation/Prepare_sMRI/CSF_Surface/aseg_to_native/aseg_vol_bin.nii.gz...\n"
       ]
      },
      {
       "output_type": "stream",
       "stream": "stderr",
       "text": [
        "INFO:interface:stdout 2014-03-13T10:15:33.158241:TR=0.00, TE=0.00, TI=0.00, flip angle=0.00\n"
       ]
      },
      {
       "output_type": "stream",
       "stream": "stderr",
       "text": [
        "INFO:interface:stdout 2014-03-13T10:15:33.158241:i_ras = (1, -1.39078e-08, -7.94729e-09)\n"
       ]
      },
      {
       "output_type": "stream",
       "stream": "stderr",
       "text": [
        "INFO:interface:stdout 2014-03-13T10:15:33.158241:j_ras = (-1.01328e-07, 1, 1.86265e-09)\n"
       ]
      },
      {
       "output_type": "stream",
       "stream": "stderr",
       "text": [
        "INFO:interface:stdout 2014-03-13T10:15:33.158241:k_ras = (4.96704e-08, -7.76101e-10, 1)\n"
       ]
      },
      {
       "output_type": "stream",
       "stream": "stderr",
       "text": [
        "INFO:interface:stdout 2014-03-13T10:15:33.158241:writing to /home/oesteban/tmp/BSplineEvaluation/Prepare_sMRI/CSF_Surface/convertmgz/aseg_vol_bin_out.mgz...\n"
       ]
      },
      {
       "output_type": "stream",
       "stream": "stderr",
       "text": [
        "INFO:workflow:Executing node pretess in dir: /home/oesteban/tmp/BSplineEvaluation/Prepare_sMRI/CSF_Surface/pretess\n"
       ]
      },
      {
       "output_type": "stream",
       "stream": "stderr",
       "text": [
        "INFO:workflow:Executing node merge_mri in dir: /home/oesteban/tmp/BSplineEvaluation/Prepare_sMRI/merge_mri\n"
       ]
      },
      {
       "output_type": "stream",
       "stream": "stderr",
       "text": [
        "INFO:workflow:Executing node tess in dir: /home/oesteban/tmp/BSplineEvaluation/Prepare_sMRI/CSF_Surface/tess\n"
       ]
      },
      {
       "output_type": "stream",
       "stream": "stderr",
       "text": [
        "INFO:workflow:Running: mri_tessellate /home/oesteban/tmp/BSplineEvaluation/Prepare_sMRI/CSF_Surface/pretess/aseg_vol_bin_out_pretess.mgz 1 ./aseg_vol_bin_out_pretess.mgz_1\n"
       ]
      },
      {
       "output_type": "stream",
       "stream": "stderr",
       "text": [
        "INFO:interface:stdout 2014-03-13T10:15:35.218366:$Id: mri_tessellate.c,v 1.36 2011/03/02 00:04:25 nicks Exp $\n"
       ]
      },
      {
       "output_type": "stream",
       "stream": "stderr",
       "text": [
        "INFO:interface:stdout 2014-03-13T10:15:35.218366:  $Id: mrisurf.c,v 1.693.2.7 2013/05/12 22:28:01 nicks Exp $\n"
       ]
      },
      {
       "output_type": "stream",
       "stream": "stderr",
       "text": [
        "INFO:interface:stdout 2014-03-13T10:15:35.759220:slice 50: 282 vertices, 304 faces\n"
       ]
      },
      {
       "output_type": "stream",
       "stream": "stderr",
       "text": [
        "INFO:interface:stdout 2014-03-13T10:15:35.759220:slice 60: 600 vertices, 605 faces\n"
       ]
      },
      {
       "output_type": "stream",
       "stream": "stderr",
       "text": [
        "INFO:interface:stdout 2014-03-13T10:15:35.759220:slice 70: 1221 vertices, 1242 faces\n"
       ]
      },
      {
       "output_type": "stream",
       "stream": "stderr",
       "text": [
        "INFO:interface:stdout 2014-03-13T10:15:35.759220:slice 80: 3036 vertices, 3104 faces\n"
       ]
      },
      {
       "output_type": "stream",
       "stream": "stderr",
       "text": [
        "INFO:interface:stdout 2014-03-13T10:15:35.759220:slice 90: 5774 vertices, 5895 faces\n"
       ]
      },
      {
       "output_type": "stream",
       "stream": "stderr",
       "text": [
        "INFO:interface:stdout 2014-03-13T10:15:35.759220:slice 100: 10732 vertices, 10770 faces\n"
       ]
      },
      {
       "output_type": "stream",
       "stream": "stderr",
       "text": [
        "INFO:interface:stdout 2014-03-13T10:15:35.759220:slice 110: 10974 vertices, 10960 faces\n"
       ]
      },
      {
       "output_type": "stream",
       "stream": "stderr",
       "text": [
        "INFO:interface:stdout 2014-03-13T10:15:35.759220:slice 120: 10974 vertices, 10960 faces\n"
       ]
      },
      {
       "output_type": "stream",
       "stream": "stderr",
       "text": [
        "INFO:interface:stdout 2014-03-13T10:15:35.759220:slice 130: 10974 vertices, 10960 faces\n"
       ]
      },
      {
       "output_type": "stream",
       "stream": "stderr",
       "text": [
        "INFO:interface:stdout 2014-03-13T10:15:35.759220:slice 140: 10974 vertices, 10960 faces\n"
       ]
      },
      {
       "output_type": "stream",
       "stream": "stderr",
       "text": [
        "INFO:interface:stdout 2014-03-13T10:15:35.759220:slice 150: 10974 vertices, 10960 faces\n"
       ]
      },
      {
       "output_type": "stream",
       "stream": "stderr",
       "text": [
        "INFO:interface:stdout 2014-03-13T10:15:35.759220:using the conformed surface RAS to save vertex points...\n"
       ]
      },
      {
       "output_type": "stream",
       "stream": "stderr",
       "text": [
        "INFO:interface:stdout 2014-03-13T10:15:35.759220:writing ./aseg_vol_bin_out_pretess.mgz_1\n"
       ]
      },
      {
       "output_type": "stream",
       "stream": "stderr",
       "text": [
        "INFO:interface:stdout 2014-03-13T10:15:35.759220:using vox2ras matrix:\n"
       ]
      },
      {
       "output_type": "stream",
       "stream": "stderr",
       "text": [
        "INFO:interface:stdout 2014-03-13T10:15:35.759220:-0.938   0.000   0.000   120.000;\n"
       ]
      },
      {
       "output_type": "stream",
       "stream": "stderr",
       "text": [
        "INFO:interface:stdout 2014-03-13T10:15:35.759220: 0.000   0.000   1.200  -90.000;\n"
       ]
      },
      {
       "output_type": "stream",
       "stream": "stderr",
       "text": [
        "INFO:interface:stdout 2014-03-13T10:15:35.759220: 0.000  -0.938   0.000   120.000;\n"
       ]
      },
      {
       "output_type": "stream",
       "stream": "stderr",
       "text": [
        "INFO:interface:stdout 2014-03-13T10:15:35.759220: 0.000   0.000   0.000   1.000;\n"
       ]
      },
      {
       "output_type": "stream",
       "stream": "stderr",
       "text": [
        "INFO:workflow:Executing node mris_smooth in dir: /home/oesteban/tmp/BSplineEvaluation/Prepare_sMRI/CSF_Surface/mris_smooth\n"
       ]
      },
      {
       "output_type": "stream",
       "stream": "stderr",
       "text": [
        "INFO:workflow:Running: mris_smooth /home/oesteban/tmp/BSplineEvaluation/Prepare_sMRI/CSF_Surface/tess/aseg_vol_bin_out_pretess.mgz_1 /home/oesteban/tmp/BSplineEvaluation/Prepare_sMRI/CSF_Surface/mris_smooth/aseg_vol_bin_out_pretess_smoothed.mgz_1 -nw -n 10 -a 10\n"
       ]
      },
      {
       "output_type": "stream",
       "stream": "stderr",
       "text": [
        "INFO:interface:stderr 2014-03-13T10:15:36.043776:smoothing surface tessellation for 10 iterations...\n"
       ]
      },
      {
       "output_type": "stream",
       "stream": "stderr",
       "text": [
        "INFO:interface:stderr 2014-03-13T10:15:36.067337:smoothing complete - recomputing first and second fundamental forms...\n"
       ]
      },
      {
       "output_type": "stream",
       "stream": "stderr",
       "text": [
        "INFO:interface:stderr 2014-03-13T10:15:36.177874:writing smoothed curvature to /home/oesteban/tmp/BSplineEvaluation/Prepare_sMRI/CSF_Surface/mris_smooth/rh.curv\n"
       ]
      },
      {
       "output_type": "stream",
       "stream": "stderr",
       "text": [
        "INFO:interface:stderr 2014-03-13T10:15:36.180010:writing smoothed area to /home/oesteban/tmp/BSplineEvaluation/Prepare_sMRI/CSF_Surface/mris_smooth/rh.area\n"
       ]
      },
      {
       "output_type": "stream",
       "stream": "stderr",
       "text": [
        "INFO:workflow:Executing node rename in dir: /home/oesteban/tmp/BSplineEvaluation/Prepare_sMRI/CSF_Surface/rename\n"
       ]
      },
      {
       "output_type": "stream",
       "stream": "stderr",
       "text": [
        "INFO:workflow:Executing node merge_surfs in dir: /home/oesteban/tmp/BSplineEvaluation/Prepare_sMRI/merge_surfs\n"
       ]
      },
      {
       "output_type": "stream",
       "stream": "stderr",
       "text": [
        "INFO:workflow:Executing node toVTK in dir: /home/oesteban/tmp/BSplineEvaluation/Prepare_sMRI/toVTK\n"
       ]
      },
      {
       "output_type": "stream",
       "stream": "stderr",
       "text": [
        "INFO:workflow:Executing node _toVTK0 in dir: /home/oesteban/tmp/BSplineEvaluation/Prepare_sMRI/toVTK/mapflow/_toVTK0\n"
       ]
      },
      {
       "output_type": "stream",
       "stream": "stderr",
       "text": [
        "INFO:workflow:Running: mris_convert /home/oesteban/tmp/BSplineEvaluation/Prepare_sMRI/CSF_Surface/rename/surf.native ./surf.native_converted.vtk\n"
       ]
      },
      {
       "output_type": "stream",
       "stream": "stderr",
       "text": [
        "INFO:workflow:Executing node _toVTK1 in dir: /home/oesteban/tmp/BSplineEvaluation/Prepare_sMRI/toVTK/mapflow/_toVTK1\n"
       ]
      },
      {
       "output_type": "stream",
       "stream": "stderr",
       "text": [
        "INFO:workflow:Running: mris_convert /home/oesteban/tmp/BSplineEvaluation/Prepare_sMRI/Surfaces_to_native/TransformSurface/mapflow/_TransformSurface0/lh.pial.native ./lh.pial.native_converted.vtk\n"
       ]
      },
      {
       "output_type": "stream",
       "stream": "stderr",
       "text": [
        "INFO:workflow:Executing node _toVTK2 in dir: /home/oesteban/tmp/BSplineEvaluation/Prepare_sMRI/toVTK/mapflow/_toVTK2\n"
       ]
      },
      {
       "output_type": "stream",
       "stream": "stderr",
       "text": [
        "INFO:workflow:Running: mris_convert /home/oesteban/tmp/BSplineEvaluation/Prepare_sMRI/Surfaces_to_native/TransformSurface/mapflow/_TransformSurface1/rh.pial.native ./rh.pial.native_converted.vtk\n"
       ]
      },
      {
       "output_type": "stream",
       "stream": "stderr",
       "text": [
        "INFO:workflow:Executing node _toVTK3 in dir: /home/oesteban/tmp/BSplineEvaluation/Prepare_sMRI/toVTK/mapflow/_toVTK3\n"
       ]
      },
      {
       "output_type": "stream",
       "stream": "stderr",
       "text": [
        "INFO:workflow:Running: mris_convert /home/oesteban/tmp/BSplineEvaluation/Prepare_sMRI/Surfaces_to_native/TransformSurface/mapflow/_TransformSurface2/lh.white.native ./lh.white.native_converted.vtk\n"
       ]
      },
      {
       "output_type": "stream",
       "stream": "stderr",
       "text": [
        "INFO:workflow:Executing node _toVTK4 in dir: /home/oesteban/tmp/BSplineEvaluation/Prepare_sMRI/toVTK/mapflow/_toVTK4\n"
       ]
      },
      {
       "output_type": "stream",
       "stream": "stderr",
       "text": [
        "INFO:workflow:Running: mris_convert /home/oesteban/tmp/BSplineEvaluation/Prepare_sMRI/Surfaces_to_native/TransformSurface/mapflow/_TransformSurface3/rh.white.native ./rh.white.native_converted.vtk\n"
       ]
      },
      {
       "output_type": "stream",
       "stream": "stderr",
       "text": [
        "INFO:workflow:Executing node fixVTK in dir: /home/oesteban/tmp/BSplineEvaluation/Prepare_sMRI/fixVTK\n"
       ]
      },
      {
       "output_type": "stream",
       "stream": "stderr",
       "text": [
        "INFO:workflow:Executing node _fixVTK0 in dir: /home/oesteban/tmp/BSplineEvaluation/Prepare_sMRI/fixVTK/mapflow/_fixVTK0\n"
       ]
      },
      {
       "output_type": "stream",
       "stream": "stderr",
       "text": [
        "INFO:workflow:Executing node _fixVTK1 in dir: /home/oesteban/tmp/BSplineEvaluation/Prepare_sMRI/fixVTK/mapflow/_fixVTK1\n"
       ]
      },
      {
       "output_type": "stream",
       "stream": "stderr",
       "text": [
        "INFO:workflow:Executing node _fixVTK2 in dir: /home/oesteban/tmp/BSplineEvaluation/Prepare_sMRI/fixVTK/mapflow/_fixVTK2\n"
       ]
      },
      {
       "output_type": "stream",
       "stream": "stderr",
       "text": [
        "INFO:workflow:Executing node _fixVTK3 in dir: /home/oesteban/tmp/BSplineEvaluation/Prepare_sMRI/fixVTK/mapflow/_fixVTK3\n"
       ]
      },
      {
       "output_type": "stream",
       "stream": "stderr",
       "text": [
        "INFO:workflow:Executing node _fixVTK4 in dir: /home/oesteban/tmp/BSplineEvaluation/Prepare_sMRI/fixVTK/mapflow/_fixVTK4\n"
       ]
      },
      {
       "output_type": "stream",
       "stream": "stderr",
       "text": [
        "INFO:workflow:Executing node norm_to_T1 in dir: /home/oesteban/tmp/BSplineEvaluation/Prepare_sMRI/norm_to_T1\n"
       ]
      },
      {
       "output_type": "stream",
       "stream": "stderr",
       "text": [
        "INFO:workflow:Running: mri_vol2vol --regheader --mov /home/oesteban/tmp/BSplineEvaluation/Prepare_sMRI/norm_to_T1/norm.mgz --targ /home/oesteban/tmp/BSplineEvaluation/Prepare_sMRI/T1toRAS/T1-Guys-0977_out.nii.gz --o /home/oesteban/tmp/BSplineEvaluation/Prepare_sMRI/norm_to_T1/norm_warped.mgz\n"
       ]
      },
      {
       "output_type": "stream",
       "stream": "stderr",
       "text": [
        "INFO:interface:stdout 2014-03-13T10:15:47.406816:movvol /home/oesteban/tmp/BSplineEvaluation/Prepare_sMRI/norm_to_T1/norm.mgz\n"
       ]
      },
      {
       "output_type": "stream",
       "stream": "stderr",
       "text": [
        "INFO:interface:stdout 2014-03-13T10:15:47.406816:targvol /home/oesteban/tmp/BSplineEvaluation/Prepare_sMRI/T1toRAS/T1-Guys-0977_out.nii.gz\n"
       ]
      },
      {
       "output_type": "stream",
       "stream": "stderr",
       "text": [
        "INFO:interface:stdout 2014-03-13T10:15:47.406816:outvol /home/oesteban/tmp/BSplineEvaluation/Prepare_sMRI/norm_to_T1/norm_warped.mgz\n"
       ]
      },
      {
       "output_type": "stream",
       "stream": "stderr",
       "text": [
        "INFO:interface:stdout 2014-03-13T10:15:47.406816:invert 0\n"
       ]
      },
      {
       "output_type": "stream",
       "stream": "stderr",
       "text": [
        "INFO:interface:stdout 2014-03-13T10:15:47.406816:tal    0\n"
       ]
      },
      {
       "output_type": "stream",
       "stream": "stderr",
       "text": [
        "INFO:interface:stdout 2014-03-13T10:15:47.406816:talres 2\n"
       ]
      },
      {
       "output_type": "stream",
       "stream": "stderr",
       "text": [
        "INFO:interface:stdout 2014-03-13T10:15:47.406816:regheader 1\n"
       ]
      },
      {
       "output_type": "stream",
       "stream": "stderr",
       "text": [
        "INFO:interface:stdout 2014-03-13T10:15:47.406816:noresample 0\n"
       ]
      },
      {
       "output_type": "stream",
       "stream": "stderr",
       "text": [
        "INFO:interface:stdout 2014-03-13T10:15:47.406816:interp  trilinear (1)\n"
       ]
      },
      {
       "output_type": "stream",
       "stream": "stderr",
       "text": [
        "INFO:interface:stdout 2014-03-13T10:15:47.406816:precision  float (3)\n"
       ]
      },
      {
       "output_type": "stream",
       "stream": "stderr",
       "text": [
        "INFO:interface:stdout 2014-03-13T10:15:47.406816:Gdiag_no  -1\n"
       ]
      },
      {
       "output_type": "stream",
       "stream": "stderr",
       "text": [
        "INFO:interface:stdout 2014-03-13T10:15:47.406816:Synth      0\n"
       ]
      },
      {
       "output_type": "stream",
       "stream": "stderr",
       "text": [
        "INFO:interface:stdout 2014-03-13T10:15:47.406816:SynthSeed  1395583552\n"
       ]
      },
      {
       "output_type": "stream",
       "stream": "stderr",
       "text": [
        "INFO:interface:stdout 2014-03-13T10:15:47.406816:\n"
       ]
      },
      {
       "output_type": "stream",
       "stream": "stderr",
       "text": [
        "INFO:interface:stdout 2014-03-13T10:15:47.406816:Computing registration based on scanner-to-scanner\n"
       ]
      },
      {
       "output_type": "stream",
       "stream": "stderr",
       "text": [
        "INFO:interface:stdout 2014-03-13T10:15:47.406816:\n"
       ]
      },
      {
       "output_type": "stream",
       "stream": "stderr",
       "text": [
        "INFO:interface:stdout 2014-03-13T10:15:47.406816:Final tkRAS-to-tkRAS Matrix is:\n"
       ]
      },
      {
       "output_type": "stream",
       "stream": "stderr",
       "text": [
        "INFO:interface:stdout 2014-03-13T10:15:47.406816:-1.000  -0.000   0.000  -0.000;\n"
       ]
      },
      {
       "output_type": "stream",
       "stream": "stderr",
       "text": [
        "INFO:interface:stdout 2014-03-13T10:15:47.406816:-0.000  -0.000  -1.000   0.000;\n"
       ]
      },
      {
       "output_type": "stream",
       "stream": "stderr",
       "text": [
        "INFO:interface:stdout 2014-03-13T10:15:47.406816: 0.000   1.000  -0.000   0.000;\n"
       ]
      },
      {
       "output_type": "stream",
       "stream": "stderr",
       "text": [
        "INFO:interface:stdout 2014-03-13T10:15:47.406816: 0.000   0.000   0.000   1.000;\n"
       ]
      },
      {
       "output_type": "stream",
       "stream": "stderr",
       "text": [
        "INFO:interface:stdout 2014-03-13T10:15:47.406816:\n"
       ]
      },
      {
       "output_type": "stream",
       "stream": "stderr",
       "text": [
        "INFO:interface:stdout 2014-03-13T10:15:47.406816:\n"
       ]
      },
      {
       "output_type": "stream",
       "stream": "stderr",
       "text": [
        "INFO:interface:stdout 2014-03-13T10:15:47.406816:Vox2Vox Matrix is:\n"
       ]
      },
      {
       "output_type": "stream",
       "stream": "stderr",
       "text": [
        "INFO:interface:stdout 2014-03-13T10:15:47.406816:-0.938   0.000   0.000   248.000;\n"
       ]
      },
      {
       "output_type": "stream",
       "stream": "stderr",
       "text": [
        "INFO:interface:stdout 2014-03-13T10:15:47.406816: 0.000  -0.000  -1.200   218.000;\n"
       ]
      },
      {
       "output_type": "stream",
       "stream": "stderr",
       "text": [
        "INFO:interface:stdout 2014-03-13T10:15:47.406816: 0.000   0.938  -0.000   8.000;\n"
       ]
      },
      {
       "output_type": "stream",
       "stream": "stderr",
       "text": [
        "INFO:interface:stdout 2014-03-13T10:15:47.406816: 0.000   0.000   0.000   1.000;\n"
       ]
      },
      {
       "output_type": "stream",
       "stream": "stderr",
       "text": [
        "INFO:interface:stdout 2014-03-13T10:15:48.919031:\n"
       ]
      },
      {
       "output_type": "stream",
       "stream": "stderr",
       "text": [
        "INFO:interface:stdout 2014-03-13T10:15:48.919031:Resampling\n"
       ]
      },
      {
       "output_type": "stream",
       "stream": "stderr",
       "text": [
        "INFO:interface:stdout 2014-03-13T10:15:48.919031:Output registration matrix is identity\n"
       ]
      },
      {
       "output_type": "stream",
       "stream": "stderr",
       "text": [
        "INFO:interface:stdout 2014-03-13T10:15:48.919031:INFO: writing registration to /home/oesteban/tmp/BSplineEvaluation/Prepare_sMRI/norm_to_T1/norm_warped.mgz.lta\n"
       ]
      },
      {
       "output_type": "stream",
       "stream": "stderr",
       "text": [
        "INFO:interface:stdout 2014-03-13T10:15:48.919031:transformed matrix:\n"
       ]
      },
      {
       "output_type": "stream",
       "stream": "stderr",
       "text": [
        "INFO:interface:stdout 2014-03-13T10:15:48.919031:-1.000  -0.000   0.000   16.191;\n"
       ]
      },
      {
       "output_type": "stream",
       "stream": "stderr",
       "text": [
        "INFO:interface:stdout 2014-03-13T10:15:48.919031: 0.000   0.000  -1.000  -17.001;\n"
       ]
      },
      {
       "output_type": "stream",
       "stream": "stderr",
       "text": [
        "INFO:interface:stdout 2014-03-13T10:15:48.919031: 0.000   1.000   0.000  -2.217;\n"
       ]
      },
      {
       "output_type": "stream",
       "stream": "stderr",
       "text": [
        "INFO:interface:stdout 2014-03-13T10:15:48.919031: 0.000   0.000   0.000   1.000;\n"
       ]
      },
      {
       "output_type": "stream",
       "stream": "stderr",
       "text": [
        "INFO:interface:stdout 2014-03-13T10:15:48.919031:transformed matrix:\n"
       ]
      },
      {
       "output_type": "stream",
       "stream": "stderr",
       "text": [
        "INFO:interface:stdout 2014-03-13T10:15:48.919031: 1.067  -0.000   0.000  -8.533;\n"
       ]
      },
      {
       "output_type": "stream",
       "stream": "stderr",
       "text": [
        "INFO:interface:stdout 2014-03-13T10:15:48.919031:-0.000   1.067  -0.000  -8.533;\n"
       ]
      },
      {
       "output_type": "stream",
       "stream": "stderr",
       "text": [
        "INFO:interface:stdout 2014-03-13T10:15:48.919031:-0.000  -0.000   0.833  -31.666;\n"
       ]
      },
      {
       "output_type": "stream",
       "stream": "stderr",
       "text": [
        "INFO:interface:stdout 2014-03-13T10:15:48.919031: 0.000   0.000   0.000   1.000;\n"
       ]
      },
      {
       "output_type": "stream",
       "stream": "stderr",
       "text": [
        "INFO:interface:stdout 2014-03-13T10:15:48.922501:INFO: writing registration matrix to /home/oesteban/tmp/BSplineEvaluation/Prepare_sMRI/norm_to_T1/norm_warped.mgz.reg\n"
       ]
      },
      {
       "output_type": "stream",
       "stream": "stderr",
       "text": [
        "INFO:interface:stdout 2014-03-13T10:15:48.922501:To check registration, run:\n"
       ]
      },
      {
       "output_type": "stream",
       "stream": "stderr",
       "text": [
        "INFO:interface:stdout 2014-03-13T10:15:48.922501:\n"
       ]
      },
      {
       "output_type": "stream",
       "stream": "stderr",
       "text": [
        "INFO:interface:stdout 2014-03-13T10:15:48.922501:  tkregister2 --mov /home/oesteban/tmp/BSplineEvaluation/Prepare_sMRI/norm_to_T1/norm_warped.mgz --targ /home/oesteban/tmp/BSplineEvaluation/Prepare_sMRI/T1toRAS/T1-Guys-0977_out.nii.gz --reg /home/oesteban/tmp/BSplineEvaluation/Prepare_sMRI/norm_to_T1/norm_warped.mgz.reg \n"
       ]
      },
      {
       "output_type": "stream",
       "stream": "stderr",
       "text": [
        "INFO:interface:stdout 2014-03-13T10:15:48.922501:\n"
       ]
      },
      {
       "output_type": "stream",
       "stream": "stderr",
       "text": [
        "INFO:interface:stdout 2014-03-13T10:15:48.922501:mri_vol2vol done\n"
       ]
      },
      {
       "output_type": "stream",
       "stream": "stderr",
       "text": [
        "INFO:workflow:Executing node T1brainToRAS in dir: /home/oesteban/tmp/BSplineEvaluation/Prepare_sMRI/T1brainToRAS\n"
       ]
      },
      {
       "output_type": "stream",
       "stream": "stderr",
       "text": [
        "INFO:workflow:Running: mri_convert --out_orientation RAS --out_type nii --input_volume /home/oesteban/tmp/BSplineEvaluation/Prepare_sMRI/norm_to_T1/norm_warped.mgz --output_volume /home/oesteban/tmp/BSplineEvaluation/Prepare_sMRI/T1brainToRAS/norm_warped_out.nii.gz\n"
       ]
      },
      {
       "output_type": "stream",
       "stream": "stderr",
       "text": [
        "INFO:interface:stdout 2014-03-13T10:15:48.964127:mri_convert --out_orientation RAS --out_type nii --input_volume /home/oesteban/tmp/BSplineEvaluation/Prepare_sMRI/norm_to_T1/norm_warped.mgz --output_volume /home/oesteban/tmp/BSplineEvaluation/Prepare_sMRI/T1brainToRAS/norm_warped_out.nii.gz \n"
       ]
      },
      {
       "output_type": "stream",
       "stream": "stderr",
       "text": [
        "INFO:interface:stdout 2014-03-13T10:15:51.460168:$Id: mri_convert.c,v 1.179.2.7 2012/09/05 21:55:16 mreuter Exp $\n"
       ]
      },
      {
       "output_type": "stream",
       "stream": "stderr",
       "text": [
        "INFO:interface:stdout 2014-03-13T10:15:51.460168:reading from /home/oesteban/tmp/BSplineEvaluation/Prepare_sMRI/norm_to_T1/norm_warped.mgz...\n"
       ]
      },
      {
       "output_type": "stream",
       "stream": "stderr",
       "text": [
        "INFO:interface:stdout 2014-03-13T10:15:51.460168:TR=0.00, TE=0.00, TI=0.00, flip angle=0.00\n"
       ]
      },
      {
       "output_type": "stream",
       "stream": "stderr",
       "text": [
        "INFO:interface:stdout 2014-03-13T10:15:51.460168:i_ras = (1, -1.39078e-08, -7.94729e-09)\n"
       ]
      },
      {
       "output_type": "stream",
       "stream": "stderr",
       "text": [
        "INFO:interface:stdout 2014-03-13T10:15:51.460168:j_ras = (-1.01328e-07, 1, 1.86265e-09)\n"
       ]
      },
      {
       "output_type": "stream",
       "stream": "stderr",
       "text": [
        "INFO:interface:stdout 2014-03-13T10:15:51.460168:k_ras = (4.96704e-08, -7.76101e-10, 1)\n"
       ]
      },
      {
       "output_type": "stream",
       "stream": "stderr",
       "text": [
        "INFO:interface:stdout 2014-03-13T10:15:51.460168:Setting output orientation to RAS\n"
       ]
      },
      {
       "output_type": "stream",
       "stream": "stderr",
       "text": [
        "INFO:interface:stdout 2014-03-13T10:15:51.460168:Reslicing using trilinear interpolation \n"
       ]
      },
      {
       "output_type": "stream",
       "stream": "stderr",
       "text": [
        "INFO:interface:stdout 2014-03-13T10:15:51.460168:writing to /home/oesteban/tmp/BSplineEvaluation/Prepare_sMRI/T1brainToRAS/norm_warped_out.nii.gz...\n"
       ]
      },
      {
       "output_type": "stream",
       "stream": "stderr",
       "text": [
        "INFO:workflow:Executing node T2_BET in dir: /home/oesteban/tmp/BSplineEvaluation/Prepare_sMRI/T2_BET\n"
       ]
      },
      {
       "output_type": "stream",
       "stream": "stderr",
       "text": [
        "INFO:workflow:Running: mri_mask /home/oesteban/tmp/BSplineEvaluation/Prepare_sMRI/T2toRAS/T2-Guys-0977_bbreg_out.nii.gz /home/oesteban/tmp/BSplineEvaluation/Prepare_sMRI/T1brainToRAS/norm_warped_out.nii.gz /home/oesteban/tmp/BSplineEvaluation/Prepare_sMRI/T2_BET/T2-Guys-0977_bbreg_out_masked.nii.gz\n"
       ]
      },
      {
       "output_type": "stream",
       "stream": "stderr",
       "text": [
        "INFO:interface:stdout 2014-03-13T10:15:56.318003:DoAbs = 0\n"
       ]
      },
      {
       "output_type": "stream",
       "stream": "stderr",
       "text": [
        "INFO:interface:stdout 2014-03-13T10:15:56.318003:Writing masked volume to /home/oesteban/tmp/BSplineEvaluation/Prepare_sMRI/T2_BET/T2-Guys-0977_bbreg_out_masked.nii.gz...done.\n"
       ]
      },
      {
       "output_type": "stream",
       "stream": "stderr",
       "text": [
        "INFO:workflow:Executing node T2_Bias in dir: /home/oesteban/tmp/BSplineEvaluation/Prepare_sMRI/T2_Bias\n"
       ]
      },
      {
       "output_type": "stream",
       "stream": "stderr",
       "text": [
        "INFO:workflow:Running: N4BiasFieldCorrection --image-dimension 3 --input-image /home/oesteban/tmp/BSplineEvaluation/Prepare_sMRI/T2_BET/T2-Guys-0977_bbreg_out_masked.nii.gz --output T2-Guys-0977_bbreg_out_masked_corrected.nii.gz\n"
       ]
      },
      {
       "output_type": "stream",
       "stream": "stderr",
       "text": [
        "INFO:interface:stdout 2014-03-13T10:15:57.272235:\n"
       ]
      },
      {
       "output_type": "stream",
       "stream": "stderr",
       "text": [
        "INFO:interface:stdout 2014-03-13T10:15:57.272235:Running N4 for 3-dimensional images.\n"
       ]
      },
      {
       "output_type": "stream",
       "stream": "stderr",
       "text": [
        "INFO:interface:stdout 2014-03-13T10:15:57.272235:\n"
       ]
      },
      {
       "output_type": "stream",
       "stream": "stderr",
       "text": [
        "INFO:interface:stdout 2014-03-13T10:15:57.560009:Mask not read.  Creating Otsu mask.\n"
       ]
      },
      {
       "output_type": "stream",
       "stream": "stderr",
       "text": [
        "INFO:interface:stdout 2014-03-13T10:15:58.161794:Current level = 1\n"
       ]
      },
      {
       "output_type": "stream",
       "stream": "stderr",
       "text": [
        "INFO:interface:stdout 2014-03-13T10:15:58.162248:  Iteration 1 (of 50).   Current convergence value = 0.000157918 (threshold = 1e-06)\n"
       ]
      },
      {
       "output_type": "stream",
       "stream": "stderr",
       "text": [
        "INFO:interface:stdout 2014-03-13T10:15:58.259061:  Iteration 2 (of 50).   Current convergence value = 0.000157245 (threshold = 1e-06)\n"
       ]
      },
      {
       "output_type": "stream",
       "stream": "stderr",
       "text": [
        "INFO:interface:stdout 2014-03-13T10:15:58.359299:  Iteration 3 (of 50).   Current convergence value = 0.000156743 (threshold = 1e-06)\n"
       ]
      },
      {
       "output_type": "stream",
       "stream": "stderr",
       "text": [
        "INFO:interface:stdout 2014-03-13T10:15:58.448067:  Iteration 4 (of 50).   Current convergence value = 0.000156224 (threshold = 1e-06)\n"
       ]
      },
      {
       "output_type": "stream",
       "stream": "stderr",
       "text": [
        "INFO:interface:stdout 2014-03-13T10:15:58.547536:  Iteration 5 (of 50).   Current convergence value = 0.000155653 (threshold = 1e-06)\n"
       ]
      },
      {
       "output_type": "stream",
       "stream": "stderr",
       "text": [
        "INFO:interface:stdout 2014-03-13T10:15:58.645308:  Iteration 6 (of 50).   Current convergence value = 0.000155009 (threshold = 1e-06)\n"
       ]
      },
      {
       "output_type": "stream",
       "stream": "stderr",
       "text": [
        "INFO:interface:stdout 2014-03-13T10:15:58.751064:  Iteration 7 (of 50).   Current convergence value = 0.000154564 (threshold = 1e-06)\n"
       ]
      },
      {
       "output_type": "stream",
       "stream": "stderr",
       "text": [
        "INFO:interface:stdout 2014-03-13T10:15:58.838475:  Iteration 8 (of 50).   Current convergence value = 0.000154099 (threshold = 1e-06)\n"
       ]
      },
      {
       "output_type": "stream",
       "stream": "stderr",
       "text": [
        "INFO:interface:stdout 2014-03-13T10:15:58.927570:  Iteration 9 (of 50).   Current convergence value = 0.000153503 (threshold = 1e-06)\n"
       ]
      },
      {
       "output_type": "stream",
       "stream": "stderr",
       "text": [
        "INFO:interface:stdout 2014-03-13T10:15:59.009920:  Iteration 10 (of 50).   Current convergence value = 0.000153001 (threshold = 1e-06)\n"
       ]
      },
      {
       "output_type": "stream",
       "stream": "stderr",
       "text": [
        "INFO:interface:stdout 2014-03-13T10:15:59.117078:  Iteration 11 (of 50).   Current convergence value = 0.000152609 (threshold = 1e-06)\n"
       ]
      },
      {
       "output_type": "stream",
       "stream": "stderr",
       "text": [
        "INFO:interface:stdout 2014-03-13T10:15:59.226219:  Iteration 12 (of 50).   Current convergence value = 0.000151906 (threshold = 1e-06)\n"
       ]
      },
      {
       "output_type": "stream",
       "stream": "stderr",
       "text": [
        "INFO:interface:stdout 2014-03-13T10:15:59.309568:  Iteration 13 (of 50).   Current convergence value = 0.000151463 (threshold = 1e-06)\n"
       ]
      },
      {
       "output_type": "stream",
       "stream": "stderr",
       "text": [
        "INFO:interface:stdout 2014-03-13T10:15:59.392739:  Iteration 14 (of 50).   Current convergence value = 0.000150812 (threshold = 1e-06)\n"
       ]
      },
      {
       "output_type": "stream",
       "stream": "stderr",
       "text": [
        "INFO:interface:stdout 2014-03-13T10:15:59.474720:  Iteration 15 (of 50).   Current convergence value = 0.000150497 (threshold = 1e-06)\n"
       ]
      },
      {
       "output_type": "stream",
       "stream": "stderr",
       "text": [
        "INFO:interface:stdout 2014-03-13T10:15:59.580107:  Iteration 16 (of 50).   Current convergence value = 0.000149776 (threshold = 1e-06)\n"
       ]
      },
      {
       "output_type": "stream",
       "stream": "stderr",
       "text": [
        "INFO:interface:stdout 2014-03-13T10:15:59.681294:  Iteration 17 (of 50).   Current convergence value = 0.000149178 (threshold = 1e-06)\n"
       ]
      },
      {
       "output_type": "stream",
       "stream": "stderr",
       "text": [
        "INFO:interface:stdout 2014-03-13T10:15:59.775645:  Iteration 18 (of 50).   Current convergence value = 0.000148727 (threshold = 1e-06)\n"
       ]
      },
      {
       "output_type": "stream",
       "stream": "stderr",
       "text": [
        "INFO:interface:stdout 2014-03-13T10:15:59.857859:  Iteration 19 (of 50).   Current convergence value = 0.000148076 (threshold = 1e-06)\n"
       ]
      },
      {
       "output_type": "stream",
       "stream": "stderr",
       "text": [
        "INFO:interface:stdout 2014-03-13T10:15:59.937264:  Iteration 20 (of 50).   Current convergence value = 0.000147736 (threshold = 1e-06)\n"
       ]
      },
      {
       "output_type": "stream",
       "stream": "stderr",
       "text": [
        "INFO:interface:stdout 2014-03-13T10:16:00.030244:  Iteration 21 (of 50).   Current convergence value = 0.000147241 (threshold = 1e-06)\n"
       ]
      },
      {
       "output_type": "stream",
       "stream": "stderr",
       "text": [
        "INFO:interface:stdout 2014-03-13T10:16:00.117610:  Iteration 22 (of 50).   Current convergence value = 0.000146336 (threshold = 1e-06)\n"
       ]
      },
      {
       "output_type": "stream",
       "stream": "stderr",
       "text": [
        "INFO:interface:stdout 2014-03-13T10:16:00.211236:  Iteration 23 (of 50).   Current convergence value = 0.000145939 (threshold = 1e-06)\n"
       ]
      },
      {
       "output_type": "stream",
       "stream": "stderr",
       "text": [
        "INFO:interface:stdout 2014-03-13T10:16:00.306026:  Iteration 24 (of 50).   Current convergence value = 0.000145165 (threshold = 1e-06)\n"
       ]
      },
      {
       "output_type": "stream",
       "stream": "stderr",
       "text": [
        "INFO:interface:stdout 2014-03-13T10:16:00.395839:  Iteration 25 (of 50).   Current convergence value = 0.000144694 (threshold = 1e-06)\n"
       ]
      },
      {
       "output_type": "stream",
       "stream": "stderr",
       "text": [
        "INFO:interface:stdout 2014-03-13T10:16:00.478375:  Iteration 26 (of 50).   Current convergence value = 0.000144202 (threshold = 1e-06)\n"
       ]
      },
      {
       "output_type": "stream",
       "stream": "stderr",
       "text": [
        "INFO:interface:stdout 2014-03-13T10:16:00.581537:  Iteration 27 (of 50).   Current convergence value = 0.00014366 (threshold = 1e-06)\n"
       ]
      },
      {
       "output_type": "stream",
       "stream": "stderr",
       "text": [
        "INFO:interface:stdout 2014-03-13T10:16:00.671643:  Iteration 28 (of 50).   Current convergence value = 0.00014321 (threshold = 1e-06)\n"
       ]
      },
      {
       "output_type": "stream",
       "stream": "stderr",
       "text": [
        "INFO:interface:stdout 2014-03-13T10:16:00.761077:  Iteration 29 (of 50).   Current convergence value = 0.000142716 (threshold = 1e-06)\n"
       ]
      },
      {
       "output_type": "stream",
       "stream": "stderr",
       "text": [
        "INFO:interface:stdout 2014-03-13T10:16:00.860694:  Iteration 30 (of 50).   Current convergence value = 0.000142404 (threshold = 1e-06)\n"
       ]
      },
      {
       "output_type": "stream",
       "stream": "stderr",
       "text": [
        "INFO:interface:stdout 2014-03-13T10:16:00.961922:  Iteration 31 (of 50).   Current convergence value = 0.000141818 (threshold = 1e-06)\n"
       ]
      },
      {
       "output_type": "stream",
       "stream": "stderr",
       "text": [
        "INFO:interface:stdout 2014-03-13T10:16:01.050266:  Iteration 32 (of 50).   Current convergence value = 0.000141291 (threshold = 1e-06)\n"
       ]
      },
      {
       "output_type": "stream",
       "stream": "stderr",
       "text": [
        "INFO:interface:stdout 2014-03-13T10:16:01.157172:  Iteration 33 (of 50).   Current convergence value = 0.000140661 (threshold = 1e-06)\n"
       ]
      },
      {
       "output_type": "stream",
       "stream": "stderr",
       "text": [
        "INFO:interface:stdout 2014-03-13T10:16:01.272111:  Iteration 34 (of 50).   Current convergence value = 0.000139977 (threshold = 1e-06)\n"
       ]
      },
      {
       "output_type": "stream",
       "stream": "stderr",
       "text": [
        "INFO:interface:stdout 2014-03-13T10:16:01.358979:  Iteration 35 (of 50).   Current convergence value = 0.000139742 (threshold = 1e-06)\n"
       ]
      },
      {
       "output_type": "stream",
       "stream": "stderr",
       "text": [
        "INFO:interface:stdout 2014-03-13T10:16:01.440214:  Iteration 36 (of 50).   Current convergence value = 0.000139162 (threshold = 1e-06)\n"
       ]
      },
      {
       "output_type": "stream",
       "stream": "stderr",
       "text": [
        "INFO:interface:stdout 2014-03-13T10:16:01.528676:  Iteration 37 (of 50).   Current convergence value = 0.000138611 (threshold = 1e-06)\n"
       ]
      },
      {
       "output_type": "stream",
       "stream": "stderr",
       "text": [
        "INFO:interface:stdout 2014-03-13T10:16:01.615989:  Iteration 38 (of 50).   Current convergence value = 0.000138076 (threshold = 1e-06)\n"
       ]
      },
      {
       "output_type": "stream",
       "stream": "stderr",
       "text": [
        "INFO:interface:stdout 2014-03-13T10:16:01.701545:  Iteration 39 (of 50).   Current convergence value = 0.000137588 (threshold = 1e-06)\n"
       ]
      },
      {
       "output_type": "stream",
       "stream": "stderr",
       "text": [
        "INFO:interface:stdout 2014-03-13T10:16:01.790552:  Iteration 40 (of 50).   Current convergence value = 0.000137145 (threshold = 1e-06)\n"
       ]
      },
      {
       "output_type": "stream",
       "stream": "stderr",
       "text": [
        "INFO:interface:stdout 2014-03-13T10:16:01.871304:  Iteration 41 (of 50).   Current convergence value = 0.000136671 (threshold = 1e-06)\n"
       ]
      },
      {
       "output_type": "stream",
       "stream": "stderr",
       "text": [
        "INFO:interface:stdout 2014-03-13T10:16:01.971997:  Iteration 42 (of 50).   Current convergence value = 0.000136274 (threshold = 1e-06)\n"
       ]
      },
      {
       "output_type": "stream",
       "stream": "stderr",
       "text": [
        "INFO:interface:stdout 2014-03-13T10:16:02.074077:  Iteration 43 (of 50).   Current convergence value = 0.000135858 (threshold = 1e-06)\n"
       ]
      },
      {
       "output_type": "stream",
       "stream": "stderr",
       "text": [
        "INFO:interface:stdout 2014-03-13T10:16:02.190247:  Iteration 44 (of 50).   Current convergence value = 0.000135334 (threshold = 1e-06)\n"
       ]
      },
      {
       "output_type": "stream",
       "stream": "stderr",
       "text": [
        "INFO:interface:stdout 2014-03-13T10:16:02.277736:  Iteration 45 (of 50).   Current convergence value = 0.000134775 (threshold = 1e-06)\n"
       ]
      },
      {
       "output_type": "stream",
       "stream": "stderr",
       "text": [
        "INFO:interface:stdout 2014-03-13T10:16:02.360698:  Iteration 46 (of 50).   Current convergence value = 0.000134365 (threshold = 1e-06)\n"
       ]
      },
      {
       "output_type": "stream",
       "stream": "stderr",
       "text": [
        "INFO:interface:stdout 2014-03-13T10:16:02.453485:  Iteration 47 (of 50).   Current convergence value = 0.000133903 (threshold = 1e-06)\n"
       ]
      },
      {
       "output_type": "stream",
       "stream": "stderr",
       "text": [
        "INFO:interface:stdout 2014-03-13T10:16:02.553102:  Iteration 48 (of 50).   Current convergence value = 0.000133393 (threshold = 1e-06)\n"
       ]
      },
      {
       "output_type": "stream",
       "stream": "stderr",
       "text": [
        "INFO:interface:stdout 2014-03-13T10:16:02.639315:  Iteration 49 (of 50).   Current convergence value = 0.000132906 (threshold = 1e-06)\n"
       ]
      },
      {
       "output_type": "stream",
       "stream": "stderr",
       "text": [
        "INFO:interface:stdout 2014-03-13T10:16:02.721528:  Iteration 50 (of 50).   Current convergence value = 0.00013249 (threshold = 1e-06)\n"
       ]
      },
      {
       "output_type": "stream",
       "stream": "stderr",
       "text": [
        "INFO:interface:stdout 2014-03-13T10:16:02.822416:Current level = 2\n"
       ]
      },
      {
       "output_type": "stream",
       "stream": "stderr",
       "text": [
        "INFO:interface:stdout 2014-03-13T10:16:02.822416:  Iteration 1 (of 50).   Current convergence value = 0.000227842 (threshold = 1e-06)\n"
       ]
      },
      {
       "output_type": "stream",
       "stream": "stderr",
       "text": [
        "INFO:interface:stdout 2014-03-13T10:16:02.919927:  Iteration 2 (of 50).   Current convergence value = 0.000226758 (threshold = 1e-06)\n"
       ]
      },
      {
       "output_type": "stream",
       "stream": "stderr",
       "text": [
        "INFO:interface:stdout 2014-03-13T10:16:03.003565:  Iteration 3 (of 50).   Current convergence value = 0.000225639 (threshold = 1e-06)\n"
       ]
      },
      {
       "output_type": "stream",
       "stream": "stderr",
       "text": [
        "INFO:interface:stdout 2014-03-13T10:16:03.089711:  Iteration 4 (of 50).   Current convergence value = 0.0002245 (threshold = 1e-06)\n"
       ]
      },
      {
       "output_type": "stream",
       "stream": "stderr",
       "text": [
        "INFO:interface:stdout 2014-03-13T10:16:03.179841:  Iteration 5 (of 50).   Current convergence value = 0.000223391 (threshold = 1e-06)\n"
       ]
      },
      {
       "output_type": "stream",
       "stream": "stderr",
       "text": [
        "INFO:interface:stdout 2014-03-13T10:16:03.271272:  Iteration 6 (of 50).   Current convergence value = 0.000222273 (threshold = 1e-06)\n"
       ]
      },
      {
       "output_type": "stream",
       "stream": "stderr",
       "text": [
        "INFO:interface:stdout 2014-03-13T10:16:03.370775:  Iteration 7 (of 50).   Current convergence value = 0.000221113 (threshold = 1e-06)\n"
       ]
      },
      {
       "output_type": "stream",
       "stream": "stderr",
       "text": [
        "INFO:interface:stdout 2014-03-13T10:16:03.458928:  Iteration 8 (of 50).   Current convergence value = 0.000220244 (threshold = 1e-06)\n"
       ]
      },
      {
       "output_type": "stream",
       "stream": "stderr",
       "text": [
        "INFO:interface:stdout 2014-03-13T10:16:03.546115:  Iteration 9 (of 50).   Current convergence value = 0.000219057 (threshold = 1e-06)\n"
       ]
      },
      {
       "output_type": "stream",
       "stream": "stderr",
       "text": [
        "INFO:interface:stdout 2014-03-13T10:16:03.645740:  Iteration 10 (of 50).   Current convergence value = 0.000218026 (threshold = 1e-06)\n"
       ]
      },
      {
       "output_type": "stream",
       "stream": "stderr",
       "text": [
        "INFO:interface:stdout 2014-03-13T10:16:03.733176:  Iteration 11 (of 50).   Current convergence value = 0.000216827 (threshold = 1e-06)\n"
       ]
      },
      {
       "output_type": "stream",
       "stream": "stderr",
       "text": [
        "INFO:interface:stdout 2014-03-13T10:16:03.815883:  Iteration 12 (of 50).   Current convergence value = 0.000215621 (threshold = 1e-06)\n"
       ]
      },
      {
       "output_type": "stream",
       "stream": "stderr",
       "text": [
        "INFO:interface:stdout 2014-03-13T10:16:03.903840:  Iteration 13 (of 50).   Current convergence value = 0.000214635 (threshold = 1e-06)\n"
       ]
      },
      {
       "output_type": "stream",
       "stream": "stderr",
       "text": [
        "INFO:interface:stdout 2014-03-13T10:16:03.994373:  Iteration 14 (of 50).   Current convergence value = 0.000213558 (threshold = 1e-06)\n"
       ]
      },
      {
       "output_type": "stream",
       "stream": "stderr",
       "text": [
        "INFO:interface:stdout 2014-03-13T10:16:04.083651:  Iteration 15 (of 50).   Current convergence value = 0.000212564 (threshold = 1e-06)\n"
       ]
      },
      {
       "output_type": "stream",
       "stream": "stderr",
       "text": [
        "INFO:interface:stdout 2014-03-13T10:16:04.176957:  Iteration 16 (of 50).   Current convergence value = 0.000211219 (threshold = 1e-06)\n"
       ]
      },
      {
       "output_type": "stream",
       "stream": "stderr",
       "text": [
        "INFO:interface:stdout 2014-03-13T10:16:04.284476:  Iteration 17 (of 50).   Current convergence value = 0.000210303 (threshold = 1e-06)\n"
       ]
      },
      {
       "output_type": "stream",
       "stream": "stderr",
       "text": [
        "INFO:interface:stdout 2014-03-13T10:16:04.373862:  Iteration 18 (of 50).   Current convergence value = 0.000209269 (threshold = 1e-06)\n"
       ]
      },
      {
       "output_type": "stream",
       "stream": "stderr",
       "text": [
        "INFO:interface:stdout 2014-03-13T10:16:04.466775:  Iteration 19 (of 50).   Current convergence value = 0.000208084 (threshold = 1e-06)\n"
       ]
      },
      {
       "output_type": "stream",
       "stream": "stderr",
       "text": [
        "INFO:interface:stdout 2014-03-13T10:16:04.553210:  Iteration 20 (of 50).   Current convergence value = 0.000207008 (threshold = 1e-06)\n"
       ]
      },
      {
       "output_type": "stream",
       "stream": "stderr",
       "text": [
        "INFO:interface:stdout 2014-03-13T10:16:04.654488:  Iteration 21 (of 50).   Current convergence value = 0.000206187 (threshold = 1e-06)\n"
       ]
      },
      {
       "output_type": "stream",
       "stream": "stderr",
       "text": [
        "INFO:interface:stdout 2014-03-13T10:16:04.745874:  Iteration 22 (of 50).   Current convergence value = 0.000205293 (threshold = 1e-06)\n"
       ]
      },
      {
       "output_type": "stream",
       "stream": "stderr",
       "text": [
        "INFO:interface:stdout 2014-03-13T10:16:04.847196:  Iteration 23 (of 50).   Current convergence value = 0.000204348 (threshold = 1e-06)\n"
       ]
      },
      {
       "output_type": "stream",
       "stream": "stderr",
       "text": [
        "INFO:interface:stdout 2014-03-13T10:16:04.959880:  Iteration 24 (of 50).   Current convergence value = 0.000203127 (threshold = 1e-06)\n"
       ]
      },
      {
       "output_type": "stream",
       "stream": "stderr",
       "text": [
        "INFO:interface:stdout 2014-03-13T10:16:05.064391:  Iteration 25 (of 50).   Current convergence value = 0.000202161 (threshold = 1e-06)\n"
       ]
      },
      {
       "output_type": "stream",
       "stream": "stderr",
       "text": [
        "INFO:interface:stdout 2014-03-13T10:16:05.168481:  Iteration 26 (of 50).   Current convergence value = 0.000201127 (threshold = 1e-06)\n"
       ]
      },
      {
       "output_type": "stream",
       "stream": "stderr",
       "text": [
        "INFO:interface:stdout 2014-03-13T10:16:05.264293:  Iteration 27 (of 50).   Current convergence value = 0.00020013 (threshold = 1e-06)\n"
       ]
      },
      {
       "output_type": "stream",
       "stream": "stderr",
       "text": [
        "INFO:interface:stdout 2014-03-13T10:16:05.357538:  Iteration 28 (of 50).   Current convergence value = 0.00019921 (threshold = 1e-06)\n"
       ]
      },
      {
       "output_type": "stream",
       "stream": "stderr",
       "text": [
        "INFO:interface:stdout 2014-03-13T10:16:05.460902:  Iteration 29 (of 50).   Current convergence value = 0.000198216 (threshold = 1e-06)\n"
       ]
      },
      {
       "output_type": "stream",
       "stream": "stderr",
       "text": [
        "INFO:interface:stdout 2014-03-13T10:16:05.552966:  Iteration 30 (of 50).   Current convergence value = 0.000197298 (threshold = 1e-06)\n"
       ]
      },
      {
       "output_type": "stream",
       "stream": "stderr",
       "text": [
        "INFO:interface:stdout 2014-03-13T10:16:05.642892:  Iteration 31 (of 50).   Current convergence value = 0.000196525 (threshold = 1e-06)\n"
       ]
      },
      {
       "output_type": "stream",
       "stream": "stderr",
       "text": [
        "INFO:interface:stdout 2014-03-13T10:16:05.734575:  Iteration 32 (of 50).   Current convergence value = 0.000195464 (threshold = 1e-06)\n"
       ]
      },
      {
       "output_type": "stream",
       "stream": "stderr",
       "text": [
        "INFO:interface:stdout 2014-03-13T10:16:05.840614:  Iteration 33 (of 50).   Current convergence value = 0.000194452 (threshold = 1e-06)\n"
       ]
      },
      {
       "output_type": "stream",
       "stream": "stderr",
       "text": [
        "INFO:interface:stdout 2014-03-13T10:16:05.930215:  Iteration 34 (of 50).   Current convergence value = 0.000193719 (threshold = 1e-06)\n"
       ]
      },
      {
       "output_type": "stream",
       "stream": "stderr",
       "text": [
        "INFO:interface:stdout 2014-03-13T10:16:06.012456:  Iteration 35 (of 50).   Current convergence value = 0.000192613 (threshold = 1e-06)\n"
       ]
      },
      {
       "output_type": "stream",
       "stream": "stderr",
       "text": [
        "INFO:interface:stdout 2014-03-13T10:16:06.091475:  Iteration 36 (of 50).   Current convergence value = 0.000191934 (threshold = 1e-06)\n"
       ]
      },
      {
       "output_type": "stream",
       "stream": "stderr",
       "text": [
        "INFO:interface:stdout 2014-03-13T10:16:06.181800:  Iteration 37 (of 50).   Current convergence value = 0.000190909 (threshold = 1e-06)\n"
       ]
      },
      {
       "output_type": "stream",
       "stream": "stderr",
       "text": [
        "INFO:interface:stdout 2014-03-13T10:16:06.268937:  Iteration 38 (of 50).   Current convergence value = 0.000189838 (threshold = 1e-06)\n"
       ]
      },
      {
       "output_type": "stream",
       "stream": "stderr",
       "text": [
        "INFO:interface:stdout 2014-03-13T10:16:06.366193:  Iteration 39 (of 50).   Current convergence value = 0.000188998 (threshold = 1e-06)\n"
       ]
      },
      {
       "output_type": "stream",
       "stream": "stderr",
       "text": [
        "INFO:interface:stdout 2014-03-13T10:16:06.459585:  Iteration 40 (of 50).   Current convergence value = 0.000188312 (threshold = 1e-06)\n"
       ]
      },
      {
       "output_type": "stream",
       "stream": "stderr",
       "text": [
        "INFO:interface:stdout 2014-03-13T10:16:06.546180:  Iteration 41 (of 50).   Current convergence value = 0.000187671 (threshold = 1e-06)\n"
       ]
      },
      {
       "output_type": "stream",
       "stream": "stderr",
       "text": [
        "INFO:interface:stdout 2014-03-13T10:16:06.645461:  Iteration 42 (of 50).   Current convergence value = 0.000186192 (threshold = 1e-06)\n"
       ]
      },
      {
       "output_type": "stream",
       "stream": "stderr",
       "text": [
        "INFO:interface:stdout 2014-03-13T10:16:06.734925:  Iteration 43 (of 50).   Current convergence value = 0.00018516 (threshold = 1e-06)\n"
       ]
      },
      {
       "output_type": "stream",
       "stream": "stderr",
       "text": [
        "INFO:interface:stdout 2014-03-13T10:16:06.826757:  Iteration 44 (of 50).   Current convergence value = 0.000184303 (threshold = 1e-06)\n"
       ]
      },
      {
       "output_type": "stream",
       "stream": "stderr",
       "text": [
        "INFO:interface:stdout 2014-03-13T10:16:06.921025:  Iteration 45 (of 50).   Current convergence value = 0.000183571 (threshold = 1e-06)\n"
       ]
      },
      {
       "output_type": "stream",
       "stream": "stderr",
       "text": [
        "INFO:interface:stdout 2014-03-13T10:16:07.009334:  Iteration 46 (of 50).   Current convergence value = 0.00018253 (threshold = 1e-06)\n"
       ]
      },
      {
       "output_type": "stream",
       "stream": "stderr",
       "text": [
        "INFO:interface:stdout 2014-03-13T10:16:07.099907:  Iteration 47 (of 50).   Current convergence value = 0.000181747 (threshold = 1e-06)\n"
       ]
      },
      {
       "output_type": "stream",
       "stream": "stderr",
       "text": [
        "INFO:interface:stdout 2014-03-13T10:16:07.193853:  Iteration 48 (of 50).   Current convergence value = 0.000180891 (threshold = 1e-06)\n"
       ]
      },
      {
       "output_type": "stream",
       "stream": "stderr",
       "text": [
        "INFO:interface:stdout 2014-03-13T10:16:07.286727:  Iteration 49 (of 50).   Current convergence value = 0.000179812 (threshold = 1e-06)\n"
       ]
      },
      {
       "output_type": "stream",
       "stream": "stderr",
       "text": [
        "INFO:interface:stdout 2014-03-13T10:16:07.371868:  Iteration 50 (of 50).   Current convergence value = 0.000178716 (threshold = 1e-06)\n"
       ]
      },
      {
       "output_type": "stream",
       "stream": "stderr",
       "text": [
        "INFO:interface:stdout 2014-03-13T10:16:07.488434:Current level = 3\n"
       ]
      },
      {
       "output_type": "stream",
       "stream": "stderr",
       "text": [
        "INFO:interface:stdout 2014-03-13T10:16:07.488434:  Iteration 1 (of 50).   Current convergence value = 0.000553781 (threshold = 1e-06)\n"
       ]
      },
      {
       "output_type": "stream",
       "stream": "stderr",
       "text": [
        "INFO:interface:stdout 2014-03-13T10:16:07.585762:  Iteration 2 (of 50).   Current convergence value = 0.000544247 (threshold = 1e-06)\n"
       ]
      },
      {
       "output_type": "stream",
       "stream": "stderr",
       "text": [
        "INFO:interface:stdout 2014-03-13T10:16:07.672863:  Iteration 3 (of 50).   Current convergence value = 0.000535198 (threshold = 1e-06)\n"
       ]
      },
      {
       "output_type": "stream",
       "stream": "stderr",
       "text": [
        "INFO:interface:stdout 2014-03-13T10:16:07.761018:  Iteration 4 (of 50).   Current convergence value = 0.00052646 (threshold = 1e-06)\n"
       ]
      },
      {
       "output_type": "stream",
       "stream": "stderr",
       "text": [
        "INFO:interface:stdout 2014-03-13T10:16:07.845976:  Iteration 5 (of 50).   Current convergence value = 0.000517747 (threshold = 1e-06)\n"
       ]
      },
      {
       "output_type": "stream",
       "stream": "stderr",
       "text": [
        "INFO:interface:stdout 2014-03-13T10:16:07.932660:  Iteration 6 (of 50).   Current convergence value = 0.00050912 (threshold = 1e-06)\n"
       ]
      },
      {
       "output_type": "stream",
       "stream": "stderr",
       "text": [
        "INFO:interface:stdout 2014-03-13T10:16:08.012578:  Iteration 7 (of 50).   Current convergence value = 0.000500531 (threshold = 1e-06)\n"
       ]
      },
      {
       "output_type": "stream",
       "stream": "stderr",
       "text": [
        "INFO:interface:stdout 2014-03-13T10:16:08.095977:  Iteration 8 (of 50).   Current convergence value = 0.000492199 (threshold = 1e-06)\n"
       ]
      },
      {
       "output_type": "stream",
       "stream": "stderr",
       "text": [
        "INFO:interface:stdout 2014-03-13T10:16:08.179176:  Iteration 9 (of 50).   Current convergence value = 0.000483855 (threshold = 1e-06)\n"
       ]
      },
      {
       "output_type": "stream",
       "stream": "stderr",
       "text": [
        "INFO:interface:stdout 2014-03-13T10:16:08.270738:  Iteration 10 (of 50).   Current convergence value = 0.000475557 (threshold = 1e-06)\n"
       ]
      },
      {
       "output_type": "stream",
       "stream": "stderr",
       "text": [
        "INFO:interface:stdout 2014-03-13T10:16:08.358709:  Iteration 11 (of 50).   Current convergence value = 0.000467446 (threshold = 1e-06)\n"
       ]
      },
      {
       "output_type": "stream",
       "stream": "stderr",
       "text": [
        "INFO:interface:stdout 2014-03-13T10:16:08.468496:  Iteration 12 (of 50).   Current convergence value = 0.000459849 (threshold = 1e-06)\n"
       ]
      },
      {
       "output_type": "stream",
       "stream": "stderr",
       "text": [
        "INFO:interface:stdout 2014-03-13T10:16:08.560364:  Iteration 13 (of 50).   Current convergence value = 0.00045218 (threshold = 1e-06)\n"
       ]
      },
      {
       "output_type": "stream",
       "stream": "stderr",
       "text": [
        "INFO:interface:stdout 2014-03-13T10:16:08.648357:  Iteration 14 (of 50).   Current convergence value = 0.000444374 (threshold = 1e-06)\n"
       ]
      },
      {
       "output_type": "stream",
       "stream": "stderr",
       "text": [
        "INFO:interface:stdout 2014-03-13T10:16:08.740756:  Iteration 15 (of 50).   Current convergence value = 0.000436914 (threshold = 1e-06)\n"
       ]
      },
      {
       "output_type": "stream",
       "stream": "stderr",
       "text": [
        "INFO:interface:stdout 2014-03-13T10:16:08.852871:  Iteration 16 (of 50).   Current convergence value = 0.000429945 (threshold = 1e-06)\n"
       ]
      },
      {
       "output_type": "stream",
       "stream": "stderr",
       "text": [
        "INFO:interface:stdout 2014-03-13T10:16:08.944362:  Iteration 17 (of 50).   Current convergence value = 0.000422861 (threshold = 1e-06)\n"
       ]
      },
      {
       "output_type": "stream",
       "stream": "stderr",
       "text": [
        "INFO:interface:stdout 2014-03-13T10:16:09.032512:  Iteration 18 (of 50).   Current convergence value = 0.000415701 (threshold = 1e-06)\n"
       ]
      },
      {
       "output_type": "stream",
       "stream": "stderr",
       "text": [
        "INFO:interface:stdout 2014-03-13T10:16:09.116497:  Iteration 19 (of 50).   Current convergence value = 0.000408689 (threshold = 1e-06)\n"
       ]
      },
      {
       "output_type": "stream",
       "stream": "stderr",
       "text": [
        "INFO:interface:stdout 2014-03-13T10:16:09.196859:  Iteration 20 (of 50).   Current convergence value = 0.000401893 (threshold = 1e-06)\n"
       ]
      },
      {
       "output_type": "stream",
       "stream": "stderr",
       "text": [
        "INFO:interface:stdout 2014-03-13T10:16:09.283048:  Iteration 21 (of 50).   Current convergence value = 0.00039546 (threshold = 1e-06)\n"
       ]
      },
      {
       "output_type": "stream",
       "stream": "stderr",
       "text": [
        "INFO:interface:stdout 2014-03-13T10:16:09.381559:  Iteration 22 (of 50).   Current convergence value = 0.000388868 (threshold = 1e-06)\n"
       ]
      },
      {
       "output_type": "stream",
       "stream": "stderr",
       "text": [
        "INFO:interface:stdout 2014-03-13T10:16:09.480505:  Iteration 23 (of 50).   Current convergence value = 0.000382369 (threshold = 1e-06)\n"
       ]
      },
      {
       "output_type": "stream",
       "stream": "stderr",
       "text": [
        "INFO:interface:stdout 2014-03-13T10:16:09.576500:  Iteration 24 (of 50).   Current convergence value = 0.000376337 (threshold = 1e-06)\n"
       ]
      },
      {
       "output_type": "stream",
       "stream": "stderr",
       "text": [
        "INFO:interface:stdout 2014-03-13T10:16:09.670244:  Iteration 25 (of 50).   Current convergence value = 0.000370361 (threshold = 1e-06)\n"
       ]
      },
      {
       "output_type": "stream",
       "stream": "stderr",
       "text": [
        "INFO:interface:stdout 2014-03-13T10:16:09.765745:  Iteration 26 (of 50).   Current convergence value = 0.000364889 (threshold = 1e-06)\n"
       ]
      },
      {
       "output_type": "stream",
       "stream": "stderr",
       "text": [
        "INFO:interface:stdout 2014-03-13T10:16:09.873648:  Iteration 27 (of 50).   Current convergence value = 0.000358645 (threshold = 1e-06)\n"
       ]
      },
      {
       "output_type": "stream",
       "stream": "stderr",
       "text": [
        "INFO:interface:stdout 2014-03-13T10:16:09.958833:  Iteration 28 (of 50).   Current convergence value = 0.000352862 (threshold = 1e-06)\n"
       ]
      },
      {
       "output_type": "stream",
       "stream": "stderr",
       "text": [
        "INFO:interface:stdout 2014-03-13T10:16:10.056221:  Iteration 29 (of 50).   Current convergence value = 0.000347038 (threshold = 1e-06)\n"
       ]
      },
      {
       "output_type": "stream",
       "stream": "stderr",
       "text": [
        "INFO:interface:stdout 2014-03-13T10:16:10.143594:  Iteration 30 (of 50).   Current convergence value = 0.000341431 (threshold = 1e-06)\n"
       ]
      },
      {
       "output_type": "stream",
       "stream": "stderr",
       "text": [
        "INFO:interface:stdout 2014-03-13T10:16:10.226501:  Iteration 31 (of 50).   Current convergence value = 0.000335996 (threshold = 1e-06)\n"
       ]
      },
      {
       "output_type": "stream",
       "stream": "stderr",
       "text": [
        "INFO:interface:stdout 2014-03-13T10:16:10.307967:  Iteration 32 (of 50).   Current convergence value = 0.000330435 (threshold = 1e-06)\n"
       ]
      },
      {
       "output_type": "stream",
       "stream": "stderr",
       "text": [
        "INFO:interface:stdout 2014-03-13T10:16:10.395779:  Iteration 33 (of 50).   Current convergence value = 0.000325282 (threshold = 1e-06)\n"
       ]
      },
      {
       "output_type": "stream",
       "stream": "stderr",
       "text": [
        "INFO:interface:stdout 2014-03-13T10:16:10.479806:  Iteration 34 (of 50).   Current convergence value = 0.00032017 (threshold = 1e-06)\n"
       ]
      },
      {
       "output_type": "stream",
       "stream": "stderr",
       "text": [
        "INFO:interface:stdout 2014-03-13T10:16:10.562277:  Iteration 35 (of 50).   Current convergence value = 0.000315049 (threshold = 1e-06)\n"
       ]
      },
      {
       "output_type": "stream",
       "stream": "stderr",
       "text": [
        "INFO:interface:stdout 2014-03-13T10:16:10.644210:  Iteration 36 (of 50).   Current convergence value = 0.000309546 (threshold = 1e-06)\n"
       ]
      },
      {
       "output_type": "stream",
       "stream": "stderr",
       "text": [
        "INFO:interface:stdout 2014-03-13T10:16:10.734635:  Iteration 37 (of 50).   Current convergence value = 0.000304985 (threshold = 1e-06)\n"
       ]
      },
      {
       "output_type": "stream",
       "stream": "stderr",
       "text": [
        "INFO:interface:stdout 2014-03-13T10:16:10.832036:  Iteration 38 (of 50).   Current convergence value = 0.000299767 (threshold = 1e-06)\n"
       ]
      },
      {
       "output_type": "stream",
       "stream": "stderr",
       "text": [
        "INFO:interface:stdout 2014-03-13T10:16:10.930013:  Iteration 39 (of 50).   Current convergence value = 0.0002949 (threshold = 1e-06)\n"
       ]
      },
      {
       "output_type": "stream",
       "stream": "stderr",
       "text": [
        "INFO:interface:stdout 2014-03-13T10:16:11.018614:  Iteration 40 (of 50).   Current convergence value = 0.000290079 (threshold = 1e-06)\n"
       ]
      },
      {
       "output_type": "stream",
       "stream": "stderr",
       "text": [
        "INFO:interface:stdout 2014-03-13T10:16:11.105698:  Iteration 41 (of 50).   Current convergence value = 0.000285373 (threshold = 1e-06)\n"
       ]
      },
      {
       "output_type": "stream",
       "stream": "stderr",
       "text": [
        "INFO:interface:stdout 2014-03-13T10:16:11.204325:  Iteration 42 (of 50).   Current convergence value = 0.000280785 (threshold = 1e-06)\n"
       ]
      },
      {
       "output_type": "stream",
       "stream": "stderr",
       "text": [
        "INFO:interface:stdout 2014-03-13T10:16:11.296505:  Iteration 43 (of 50).   Current convergence value = 0.000276262 (threshold = 1e-06)\n"
       ]
      },
      {
       "output_type": "stream",
       "stream": "stderr",
       "text": [
        "INFO:interface:stdout 2014-03-13T10:16:11.385233:  Iteration 44 (of 50).   Current convergence value = 0.00027171 (threshold = 1e-06)\n"
       ]
      },
      {
       "output_type": "stream",
       "stream": "stderr",
       "text": [
        "INFO:interface:stdout 2014-03-13T10:16:11.478050:  Iteration 45 (of 50).   Current convergence value = 0.000267936 (threshold = 1e-06)\n"
       ]
      },
      {
       "output_type": "stream",
       "stream": "stderr",
       "text": [
        "INFO:interface:stdout 2014-03-13T10:16:11.563672:  Iteration 46 (of 50).   Current convergence value = 0.000263808 (threshold = 1e-06)\n"
       ]
      },
      {
       "output_type": "stream",
       "stream": "stderr",
       "text": [
        "INFO:interface:stdout 2014-03-13T10:16:11.646982:  Iteration 47 (of 50).   Current convergence value = 0.000259666 (threshold = 1e-06)\n"
       ]
      },
      {
       "output_type": "stream",
       "stream": "stderr",
       "text": [
        "INFO:interface:stdout 2014-03-13T10:16:11.734353:  Iteration 48 (of 50).   Current convergence value = 0.000255436 (threshold = 1e-06)\n"
       ]
      },
      {
       "output_type": "stream",
       "stream": "stderr",
       "text": [
        "INFO:interface:stdout 2014-03-13T10:16:11.830568:  Iteration 49 (of 50).   Current convergence value = 0.000251446 (threshold = 1e-06)\n"
       ]
      },
      {
       "output_type": "stream",
       "stream": "stderr",
       "text": [
        "INFO:interface:stdout 2014-03-13T10:16:11.913590:  Iteration 50 (of 50).   Current convergence value = 0.000247548 (threshold = 1e-06)\n"
       ]
      },
      {
       "output_type": "stream",
       "stream": "stderr",
       "text": [
        "INFO:interface:stdout 2014-03-13T10:16:12.020747:Current level = 4\n"
       ]
      },
      {
       "output_type": "stream",
       "stream": "stderr",
       "text": [
        "INFO:interface:stdout 2014-03-13T10:16:12.020747:  Iteration 1 (of 50).   Current convergence value = 0.00121844 (threshold = 1e-06)\n"
       ]
      },
      {
       "output_type": "stream",
       "stream": "stderr",
       "text": [
        "INFO:interface:stdout 2014-03-13T10:16:12.119844:  Iteration 2 (of 50).   Current convergence value = 0.00117104 (threshold = 1e-06)\n"
       ]
      },
      {
       "output_type": "stream",
       "stream": "stderr",
       "text": [
        "INFO:interface:stdout 2014-03-13T10:16:12.229007:  Iteration 3 (of 50).   Current convergence value = 0.00112733 (threshold = 1e-06)\n"
       ]
      },
      {
       "output_type": "stream",
       "stream": "stderr",
       "text": [
        "INFO:interface:stdout 2014-03-13T10:16:12.323328:  Iteration 4 (of 50).   Current convergence value = 0.00108598 (threshold = 1e-06)\n"
       ]
      },
      {
       "output_type": "stream",
       "stream": "stderr",
       "text": [
        "INFO:interface:stdout 2014-03-13T10:16:12.409948:  Iteration 5 (of 50).   Current convergence value = 0.00104829 (threshold = 1e-06)\n"
       ]
      },
      {
       "output_type": "stream",
       "stream": "stderr",
       "text": [
        "INFO:interface:stdout 2014-03-13T10:16:12.500761:  Iteration 6 (of 50).   Current convergence value = 0.00101165 (threshold = 1e-06)\n"
       ]
      },
      {
       "output_type": "stream",
       "stream": "stderr",
       "text": [
        "INFO:interface:stdout 2014-03-13T10:16:12.598754:  Iteration 7 (of 50).   Current convergence value = 0.00097587 (threshold = 1e-06)\n"
       ]
      },
      {
       "output_type": "stream",
       "stream": "stderr",
       "text": [
        "INFO:interface:stdout 2014-03-13T10:16:12.687408:  Iteration 8 (of 50).   Current convergence value = 0.000942951 (threshold = 1e-06)\n"
       ]
      },
      {
       "output_type": "stream",
       "stream": "stderr",
       "text": [
        "INFO:interface:stdout 2014-03-13T10:16:12.796740:  Iteration 9 (of 50).   Current convergence value = 0.000911408 (threshold = 1e-06)\n"
       ]
      },
      {
       "output_type": "stream",
       "stream": "stderr",
       "text": [
        "INFO:interface:stdout 2014-03-13T10:16:12.896027:  Iteration 10 (of 50).   Current convergence value = 0.000882088 (threshold = 1e-06)\n"
       ]
      },
      {
       "output_type": "stream",
       "stream": "stderr",
       "text": [
        "INFO:interface:stdout 2014-03-13T10:16:12.997283:  Iteration 11 (of 50).   Current convergence value = 0.000854114 (threshold = 1e-06)\n"
       ]
      },
      {
       "output_type": "stream",
       "stream": "stderr",
       "text": [
        "INFO:interface:stdout 2014-03-13T10:16:13.088173:  Iteration 12 (of 50).   Current convergence value = 0.000826777 (threshold = 1e-06)\n"
       ]
      },
      {
       "output_type": "stream",
       "stream": "stderr",
       "text": [
        "INFO:interface:stdout 2014-03-13T10:16:13.180301:  Iteration 13 (of 50).   Current convergence value = 0.000801073 (threshold = 1e-06)\n"
       ]
      },
      {
       "output_type": "stream",
       "stream": "stderr",
       "text": [
        "INFO:interface:stdout 2014-03-13T10:16:13.272405:  Iteration 14 (of 50).   Current convergence value = 0.000776573 (threshold = 1e-06)\n"
       ]
      },
      {
       "output_type": "stream",
       "stream": "stderr",
       "text": [
        "INFO:interface:stdout 2014-03-13T10:16:13.370589:  Iteration 15 (of 50).   Current convergence value = 0.000752845 (threshold = 1e-06)\n"
       ]
      },
      {
       "output_type": "stream",
       "stream": "stderr",
       "text": [
        "INFO:interface:stdout 2014-03-13T10:16:13.461885:  Iteration 16 (of 50).   Current convergence value = 0.00072909 (threshold = 1e-06)\n"
       ]
      },
      {
       "output_type": "stream",
       "stream": "stderr",
       "text": [
        "INFO:interface:stdout 2014-03-13T10:16:13.550051:  Iteration 17 (of 50).   Current convergence value = 0.000709096 (threshold = 1e-06)\n"
       ]
      },
      {
       "output_type": "stream",
       "stream": "stderr",
       "text": [
        "INFO:interface:stdout 2014-03-13T10:16:13.641704:  Iteration 18 (of 50).   Current convergence value = 0.000689285 (threshold = 1e-06)\n"
       ]
      },
      {
       "output_type": "stream",
       "stream": "stderr",
       "text": [
        "INFO:interface:stdout 2014-03-13T10:16:13.734020:  Iteration 19 (of 50).   Current convergence value = 0.000670386 (threshold = 1e-06)\n"
       ]
      },
      {
       "output_type": "stream",
       "stream": "stderr",
       "text": [
        "INFO:interface:stdout 2014-03-13T10:16:13.821657:  Iteration 20 (of 50).   Current convergence value = 0.00065178 (threshold = 1e-06)\n"
       ]
      },
      {
       "output_type": "stream",
       "stream": "stderr",
       "text": [
        "INFO:interface:stdout 2014-03-13T10:16:13.918472:  Iteration 21 (of 50).   Current convergence value = 0.00063419 (threshold = 1e-06)\n"
       ]
      },
      {
       "output_type": "stream",
       "stream": "stderr",
       "text": [
        "INFO:interface:stdout 2014-03-13T10:16:14.006108:  Iteration 22 (of 50).   Current convergence value = 0.000617365 (threshold = 1e-06)\n"
       ]
      },
      {
       "output_type": "stream",
       "stream": "stderr",
       "text": [
        "INFO:interface:stdout 2014-03-13T10:16:14.103697:  Iteration 23 (of 50).   Current convergence value = 0.000601128 (threshold = 1e-06)\n"
       ]
      },
      {
       "output_type": "stream",
       "stream": "stderr",
       "text": [
        "INFO:interface:stdout 2014-03-13T10:16:14.188770:  Iteration 24 (of 50).   Current convergence value = 0.000585721 (threshold = 1e-06)\n"
       ]
      },
      {
       "output_type": "stream",
       "stream": "stderr",
       "text": [
        "INFO:interface:stdout 2014-03-13T10:16:14.278421:  Iteration 25 (of 50).   Current convergence value = 0.000571123 (threshold = 1e-06)\n"
       ]
      },
      {
       "output_type": "stream",
       "stream": "stderr",
       "text": [
        "INFO:interface:stdout 2014-03-13T10:16:14.369616:  Iteration 26 (of 50).   Current convergence value = 0.000557096 (threshold = 1e-06)\n"
       ]
      },
      {
       "output_type": "stream",
       "stream": "stderr",
       "text": [
        "INFO:interface:stdout 2014-03-13T10:16:14.452683:  Iteration 27 (of 50).   Current convergence value = 0.000543816 (threshold = 1e-06)\n"
       ]
      },
      {
       "output_type": "stream",
       "stream": "stderr",
       "text": [
        "INFO:interface:stdout 2014-03-13T10:16:14.547586:  Iteration 28 (of 50).   Current convergence value = 0.000530917 (threshold = 1e-06)\n"
       ]
      },
      {
       "output_type": "stream",
       "stream": "stderr",
       "text": [
        "INFO:interface:stdout 2014-03-13T10:16:14.636127:  Iteration 29 (of 50).   Current convergence value = 0.000518226 (threshold = 1e-06)\n"
       ]
      },
      {
       "output_type": "stream",
       "stream": "stderr",
       "text": [
        "INFO:interface:stdout 2014-03-13T10:16:14.724992:  Iteration 30 (of 50).   Current convergence value = 0.000506165 (threshold = 1e-06)\n"
       ]
      },
      {
       "output_type": "stream",
       "stream": "stderr",
       "text": [
        "INFO:interface:stdout 2014-03-13T10:16:14.816939:  Iteration 31 (of 50).   Current convergence value = 0.000494383 (threshold = 1e-06)\n"
       ]
      },
      {
       "output_type": "stream",
       "stream": "stderr",
       "text": [
        "INFO:interface:stdout 2014-03-13T10:16:14.909821:  Iteration 32 (of 50).   Current convergence value = 0.000481437 (threshold = 1e-06)\n"
       ]
      },
      {
       "output_type": "stream",
       "stream": "stderr",
       "text": [
        "INFO:interface:stdout 2014-03-13T10:16:14.993894:  Iteration 33 (of 50).   Current convergence value = 0.000473111 (threshold = 1e-06)\n"
       ]
      },
      {
       "output_type": "stream",
       "stream": "stderr",
       "text": [
        "INFO:interface:stdout 2014-03-13T10:16:15.080500:  Iteration 34 (of 50).   Current convergence value = 0.000463105 (threshold = 1e-06)\n"
       ]
      },
      {
       "output_type": "stream",
       "stream": "stderr",
       "text": [
        "INFO:interface:stdout 2014-03-13T10:16:15.166570:  Iteration 35 (of 50).   Current convergence value = 0.000453528 (threshold = 1e-06)\n"
       ]
      },
      {
       "output_type": "stream",
       "stream": "stderr",
       "text": [
        "INFO:interface:stdout 2014-03-13T10:16:15.252892:  Iteration 36 (of 50).   Current convergence value = 0.000442571 (threshold = 1e-06)\n"
       ]
      },
      {
       "output_type": "stream",
       "stream": "stderr",
       "text": [
        "INFO:interface:stdout 2014-03-13T10:16:15.339838:  Iteration 37 (of 50).   Current convergence value = 0.000435521 (threshold = 1e-06)\n"
       ]
      },
      {
       "output_type": "stream",
       "stream": "stderr",
       "text": [
        "INFO:interface:stdout 2014-03-13T10:16:15.429465:  Iteration 38 (of 50).   Current convergence value = 0.000426832 (threshold = 1e-06)\n"
       ]
      },
      {
       "output_type": "stream",
       "stream": "stderr",
       "text": [
        "INFO:interface:stdout 2014-03-13T10:16:15.517409:  Iteration 39 (of 50).   Current convergence value = 0.000418506 (threshold = 1e-06)\n"
       ]
      },
      {
       "output_type": "stream",
       "stream": "stderr",
       "text": [
        "INFO:interface:stdout 2014-03-13T10:16:15.603949:  Iteration 40 (of 50).   Current convergence value = 0.000408822 (threshold = 1e-06)\n"
       ]
      },
      {
       "output_type": "stream",
       "stream": "stderr",
       "text": [
        "INFO:interface:stdout 2014-03-13T10:16:15.688788:  Iteration 41 (of 50).   Current convergence value = 0.000402665 (threshold = 1e-06)\n"
       ]
      },
      {
       "output_type": "stream",
       "stream": "stderr",
       "text": [
        "INFO:interface:stdout 2014-03-13T10:16:15.778470:  Iteration 42 (of 50).   Current convergence value = 0.000395257 (threshold = 1e-06)\n"
       ]
      },
      {
       "output_type": "stream",
       "stream": "stderr",
       "text": [
        "INFO:interface:stdout 2014-03-13T10:16:15.861351:  Iteration 43 (of 50).   Current convergence value = 0.000388197 (threshold = 1e-06)\n"
       ]
      },
      {
       "output_type": "stream",
       "stream": "stderr",
       "text": [
        "INFO:interface:stdout 2014-03-13T10:16:15.956081:  Iteration 44 (of 50).   Current convergence value = 0.000381361 (threshold = 1e-06)\n"
       ]
      },
      {
       "output_type": "stream",
       "stream": "stderr",
       "text": [
        "INFO:interface:stdout 2014-03-13T10:16:16.036417:  Iteration 45 (of 50).   Current convergence value = 0.000374711 (threshold = 1e-06)\n"
       ]
      },
      {
       "output_type": "stream",
       "stream": "stderr",
       "text": [
        "INFO:interface:stdout 2014-03-13T10:16:16.118298:  Iteration 46 (of 50).   Current convergence value = 0.000368335 (threshold = 1e-06)\n"
       ]
      },
      {
       "output_type": "stream",
       "stream": "stderr",
       "text": [
        "INFO:interface:stdout 2014-03-13T10:16:16.211589:  Iteration 47 (of 50).   Current convergence value = 0.000360809 (threshold = 1e-06)\n"
       ]
      },
      {
       "output_type": "stream",
       "stream": "stderr",
       "text": [
        "INFO:interface:stdout 2014-03-13T10:16:16.296550:  Iteration 48 (of 50).   Current convergence value = 0.000356187 (threshold = 1e-06)\n"
       ]
      },
      {
       "output_type": "stream",
       "stream": "stderr",
       "text": [
        "INFO:interface:stdout 2014-03-13T10:16:16.380857:  Iteration 49 (of 50).   Current convergence value = 0.000349024 (threshold = 1e-06)\n"
       ]
      },
      {
       "output_type": "stream",
       "stream": "stderr",
       "text": [
        "INFO:interface:stdout 2014-03-13T10:16:16.463018:  Iteration 50 (of 50).   Current convergence value = 0.000344708 (threshold = 1e-06)\n"
       ]
      },
      {
       "output_type": "stream",
       "stream": "stderr",
       "text": [
        "INFO:interface:stdout 2014-03-13T10:16:16.488250:   N4BiasFieldCorrectionImageFilter (0xbbbbe0)\n"
       ]
      },
      {
       "output_type": "stream",
       "stream": "stderr",
       "text": [
        "INFO:interface:stdout 2014-03-13T10:16:16.488250:     RTTI typeinfo:   itk::N4BiasFieldCorrectionImageFilter<itk::Image<float, 3u>, itk::Image<float, 3u>, itk::Image<float, 3u> >\n"
       ]
      },
      {
       "output_type": "stream",
       "stream": "stderr",
       "text": [
        "INFO:interface:stdout 2014-03-13T10:16:16.488250:     Reference Count: 1\n"
       ]
      },
      {
       "output_type": "stream",
       "stream": "stderr",
       "text": [
        "INFO:interface:stdout 2014-03-13T10:16:16.488250:     Modified Time: 618\n"
       ]
      },
      {
       "output_type": "stream",
       "stream": "stderr",
       "text": [
        "INFO:interface:stdout 2014-03-13T10:16:16.488250:     Debug: Off\n"
       ]
      },
      {
       "output_type": "stream",
       "stream": "stderr",
       "text": [
        "INFO:interface:stdout 2014-03-13T10:16:16.488250:     Observers: \n"
       ]
      },
      {
       "output_type": "stream",
       "stream": "stderr",
       "text": [
        "INFO:interface:stdout 2014-03-13T10:16:16.488250:       IterationEvent(Command)\n"
       ]
      },
      {
       "output_type": "stream",
       "stream": "stderr",
       "text": [
        "INFO:interface:stdout 2014-03-13T10:16:16.488250:     Inputs: \n"
       ]
      },
      {
       "output_type": "stream",
       "stream": "stderr",
       "text": [
        "INFO:interface:stdout 2014-03-13T10:16:16.488250:       Primary: (0xbc9660) *\n"
       ]
      },
      {
       "output_type": "stream",
       "stream": "stderr",
       "text": [
        "INFO:interface:stdout 2014-03-13T10:16:16.488250:       _1: (0xbbdf40)\n"
       ]
      },
      {
       "output_type": "stream",
       "stream": "stderr",
       "text": [
        "INFO:interface:stdout 2014-03-13T10:16:16.488250:     Indexed Inputs: \n"
       ]
      },
      {
       "output_type": "stream",
       "stream": "stderr",
       "text": [
        "INFO:interface:stdout 2014-03-13T10:16:16.488250:       0: Primary (0xbc9660)\n"
       ]
      },
      {
       "output_type": "stream",
       "stream": "stderr",
       "text": [
        "INFO:interface:stdout 2014-03-13T10:16:16.488250:       1: _1 (0xbbdf40)\n"
       ]
      },
      {
       "output_type": "stream",
       "stream": "stderr",
       "text": [
        "INFO:interface:stdout 2014-03-13T10:16:16.488250:     Required Input Names: Primary\n"
       ]
      },
      {
       "output_type": "stream",
       "stream": "stderr",
       "text": [
        "INFO:interface:stdout 2014-03-13T10:16:16.488250:     NumberOfRequiredInputs: 1\n"
       ]
      },
      {
       "output_type": "stream",
       "stream": "stderr",
       "text": [
        "INFO:interface:stdout 2014-03-13T10:16:16.488250:     Outputs: \n"
       ]
      },
      {
       "output_type": "stream",
       "stream": "stderr",
       "text": [
        "INFO:interface:stdout 2014-03-13T10:16:16.488250:       Primary: (0xbb1830)\n"
       ]
      },
      {
       "output_type": "stream",
       "stream": "stderr",
       "text": [
        "INFO:interface:stdout 2014-03-13T10:16:16.488250:     Indexed Outputs: \n"
       ]
      },
      {
       "output_type": "stream",
       "stream": "stderr",
       "text": [
        "INFO:interface:stdout 2014-03-13T10:16:16.488250:       0: Primary (0xbb1830)\n"
       ]
      },
      {
       "output_type": "stream",
       "stream": "stderr",
       "text": [
        "INFO:interface:stdout 2014-03-13T10:16:16.488250:     NumberOfRequiredOutputs: 1\n"
       ]
      },
      {
       "output_type": "stream",
       "stream": "stderr",
       "text": [
        "INFO:interface:stdout 2014-03-13T10:16:16.488250:     Number Of Threads: 8\n"
       ]
      },
      {
       "output_type": "stream",
       "stream": "stderr",
       "text": [
        "INFO:interface:stdout 2014-03-13T10:16:16.488250:     ReleaseDataFlag: Off\n"
       ]
      },
      {
       "output_type": "stream",
       "stream": "stderr",
       "text": [
        "INFO:interface:stdout 2014-03-13T10:16:16.488250:     ReleaseDataBeforeUpdateFlag: Off\n"
       ]
      },
      {
       "output_type": "stream",
       "stream": "stderr",
       "text": [
        "INFO:interface:stdout 2014-03-13T10:16:16.488250:     AbortGenerateData: Off\n"
       ]
      },
      {
       "output_type": "stream",
       "stream": "stderr",
       "text": [
        "INFO:interface:stdout 2014-03-13T10:16:16.488250:     Progress: 0\n"
       ]
      },
      {
       "output_type": "stream",
       "stream": "stderr",
       "text": [
        "INFO:interface:stdout 2014-03-13T10:16:16.488250:     Multithreader: \n"
       ]
      },
      {
       "output_type": "stream",
       "stream": "stderr",
       "text": [
        "INFO:interface:stdout 2014-03-13T10:16:16.495964:       RTTI typeinfo:   itk::MultiThreader\n"
       ]
      },
      {
       "output_type": "stream",
       "stream": "stderr",
       "text": [
        "INFO:interface:stdout 2014-03-13T10:16:16.495964:       Reference Count: 1\n"
       ]
      },
      {
       "output_type": "stream",
       "stream": "stderr",
       "text": [
        "INFO:interface:stdout 2014-03-13T10:16:16.495964:       Modified Time: 217\n"
       ]
      },
      {
       "output_type": "stream",
       "stream": "stderr",
       "text": [
        "INFO:interface:stdout 2014-03-13T10:16:16.495964:       Debug: Off\n"
       ]
      },
      {
       "output_type": "stream",
       "stream": "stderr",
       "text": [
        "INFO:interface:stdout 2014-03-13T10:16:16.495964:       Observers: \n"
       ]
      },
      {
       "output_type": "stream",
       "stream": "stderr",
       "text": [
        "INFO:interface:stdout 2014-03-13T10:16:16.495964:         none\n"
       ]
      },
      {
       "output_type": "stream",
       "stream": "stderr",
       "text": [
        "INFO:interface:stdout 2014-03-13T10:16:16.495964:       Thread Count: 8\n"
       ]
      },
      {
       "output_type": "stream",
       "stream": "stderr",
       "text": [
        "INFO:interface:stdout 2014-03-13T10:16:16.495964:       Global Maximum Number Of Threads: 128\n"
       ]
      },
      {
       "output_type": "stream",
       "stream": "stderr",
       "text": [
        "INFO:interface:stdout 2014-03-13T10:16:16.495964:       Global Default Number Of Threads: 8\n"
       ]
      },
      {
       "output_type": "stream",
       "stream": "stderr",
       "text": [
        "INFO:interface:stdout 2014-03-13T10:16:16.495964:     CoordinateTolerance: 1e-06\n"
       ]
      },
      {
       "output_type": "stream",
       "stream": "stderr",
       "text": [
        "INFO:interface:stdout 2014-03-13T10:16:16.495964:     DirectionTolerance: 1e-06\n"
       ]
      },
      {
       "output_type": "stream",
       "stream": "stderr",
       "text": [
        "INFO:interface:stdout 2014-03-13T10:16:16.495964:     Mask label: 1\n"
       ]
      },
      {
       "output_type": "stream",
       "stream": "stderr",
       "text": [
        "INFO:interface:stdout 2014-03-13T10:16:16.495964:     Number of histogram bins: 200\n"
       ]
      },
      {
       "output_type": "stream",
       "stream": "stderr",
       "text": [
        "INFO:interface:stdout 2014-03-13T10:16:16.495964:     Wiener filter noise: 0.01\n"
       ]
      },
      {
       "output_type": "stream",
       "stream": "stderr",
       "text": [
        "INFO:interface:stdout 2014-03-13T10:16:16.495964:     Bias field FWHM: 0.15\n"
       ]
      },
      {
       "output_type": "stream",
       "stream": "stderr",
       "text": [
        "INFO:interface:stdout 2014-03-13T10:16:16.495964:     Maximum number of iterations: [50, 50, 50, 50]\n"
       ]
      },
      {
       "output_type": "stream",
       "stream": "stderr",
       "text": [
        "INFO:interface:stdout 2014-03-13T10:16:16.495964:     Convergence threshold: 1e-06\n"
       ]
      },
      {
       "output_type": "stream",
       "stream": "stderr",
       "text": [
        "INFO:interface:stdout 2014-03-13T10:16:16.495964:     Spline order: 3\n"
       ]
      },
      {
       "output_type": "stream",
       "stream": "stderr",
       "text": [
        "INFO:interface:stdout 2014-03-13T10:16:16.495964:     Number of fitting levels: [4, 4, 4]\n"
       ]
      },
      {
       "output_type": "stream",
       "stream": "stderr",
       "text": [
        "INFO:interface:stdout 2014-03-13T10:16:16.495964:     Number of control points: [4, 4, 4]\n"
       ]
      },
      {
       "output_type": "stream",
       "stream": "stderr",
       "text": [
        "INFO:interface:stdout 2014-03-13T10:16:16.495964:     CurrentConvergenceMeasurement: 0.000344708\n"
       ]
      },
      {
       "output_type": "stream",
       "stream": "stderr",
       "text": [
        "INFO:interface:stdout 2014-03-13T10:16:16.495964:     CurrentLevel: 4\n"
       ]
      },
      {
       "output_type": "stream",
       "stream": "stderr",
       "text": [
        "INFO:interface:stdout 2014-03-13T10:16:16.495964:     ElapsedIterations: 51\n"
       ]
      },
      {
       "output_type": "stream",
       "stream": "stderr",
       "text": [
        "INFO:interface:stdout 2014-03-13T10:16:16.495964:     LogBiasFieldControlPointLattice: Image (0x1237890)\n"
       ]
      },
      {
       "output_type": "stream",
       "stream": "stderr",
       "text": [
        "INFO:interface:stdout 2014-03-13T10:16:16.495964:  RTTI typeinfo:   itk::Image<itk::Vector<float, 1u>, 3u>\n"
       ]
      },
      {
       "output_type": "stream",
       "stream": "stderr",
       "text": [
        "INFO:interface:stdout 2014-03-13T10:16:16.495964:  Reference Count: 2\n"
       ]
      },
      {
       "output_type": "stream",
       "stream": "stderr",
       "text": [
        "INFO:interface:stdout 2014-03-13T10:16:16.495964:  Modified Time: 49763931\n"
       ]
      },
      {
       "output_type": "stream",
       "stream": "stderr",
       "text": [
        "INFO:interface:stdout 2014-03-13T10:16:16.495964:  Debug: Off\n"
       ]
      },
      {
       "output_type": "stream",
       "stream": "stderr",
       "text": [
        "INFO:interface:stdout 2014-03-13T10:16:16.495964:  Observers: \n"
       ]
      },
      {
       "output_type": "stream",
       "stream": "stderr",
       "text": [
        "INFO:interface:stdout 2014-03-13T10:16:16.495964:    none\n"
       ]
      },
      {
       "output_type": "stream",
       "stream": "stderr",
       "text": [
        "INFO:interface:stdout 2014-03-13T10:16:16.495964:  Source: (none)\n"
       ]
      },
      {
       "output_type": "stream",
       "stream": "stderr",
       "text": [
        "INFO:interface:stdout 2014-03-13T10:16:16.495964:  Source output name: (none)\n"
       ]
      },
      {
       "output_type": "stream",
       "stream": "stderr",
       "text": [
        "INFO:interface:stdout 2014-03-13T10:16:16.495964:  Release Data: Off\n"
       ]
      },
      {
       "output_type": "stream",
       "stream": "stderr",
       "text": [
        "INFO:interface:stdout 2014-03-13T10:16:16.495964:  Data Released: False\n"
       ]
      },
      {
       "output_type": "stream",
       "stream": "stderr",
       "text": [
        "INFO:interface:stdout 2014-03-13T10:16:16.495964:  Global Release Data: Off\n"
       ]
      },
      {
       "output_type": "stream",
       "stream": "stderr",
       "text": [
        "INFO:interface:stdout 2014-03-13T10:16:16.495964:  PipelineMTime: 0\n"
       ]
      },
      {
       "output_type": "stream",
       "stream": "stderr",
       "text": [
        "INFO:interface:stdout 2014-03-13T10:16:16.495964:  UpdateMTime: 0\n"
       ]
      },
      {
       "output_type": "stream",
       "stream": "stderr",
       "text": [
        "INFO:interface:stdout 2014-03-13T10:16:16.495964:  RealTimeStamp: 0 seconds \n"
       ]
      },
      {
       "output_type": "stream",
       "stream": "stderr",
       "text": [
        "INFO:interface:stdout 2014-03-13T10:16:16.495964:  LargestPossibleRegion: \n"
       ]
      },
      {
       "output_type": "stream",
       "stream": "stderr",
       "text": [
        "INFO:interface:stdout 2014-03-13T10:16:16.495964:    Dimension: 3\n"
       ]
      },
      {
       "output_type": "stream",
       "stream": "stderr",
       "text": [
        "INFO:interface:stdout 2014-03-13T10:16:16.495964:    Index: [0, 0, 0]\n"
       ]
      },
      {
       "output_type": "stream",
       "stream": "stderr",
       "text": [
        "INFO:interface:stdout 2014-03-13T10:16:16.495964:    Size: [11, 11, 11]\n"
       ]
      },
      {
       "output_type": "stream",
       "stream": "stderr",
       "text": [
        "INFO:interface:stdout 2014-03-13T10:16:16.495964:  BufferedRegion: \n"
       ]
      },
      {
       "output_type": "stream",
       "stream": "stderr",
       "text": [
        "INFO:interface:stdout 2014-03-13T10:16:16.495964:    Dimension: 3\n"
       ]
      },
      {
       "output_type": "stream",
       "stream": "stderr",
       "text": [
        "INFO:interface:stdout 2014-03-13T10:16:16.495964:    Index: [0, 0, 0]\n"
       ]
      },
      {
       "output_type": "stream",
       "stream": "stderr",
       "text": [
        "INFO:interface:stdout 2014-03-13T10:16:16.495964:    Size: [11, 11, 11]\n"
       ]
      },
      {
       "output_type": "stream",
       "stream": "stderr",
       "text": [
        "INFO:interface:stdout 2014-03-13T10:16:16.495964:  RequestedRegion: \n"
       ]
      },
      {
       "output_type": "stream",
       "stream": "stderr",
       "text": [
        "INFO:interface:stdout 2014-03-13T10:16:16.495964:    Dimension: 3\n"
       ]
      },
      {
       "output_type": "stream",
       "stream": "stderr",
       "text": [
        "INFO:interface:stdout 2014-03-13T10:16:16.495964:    Index: [0, 0, 0]\n"
       ]
      },
      {
       "output_type": "stream",
       "stream": "stderr",
       "text": [
        "INFO:interface:stdout 2014-03-13T10:16:16.495964:    Size: [11, 11, 11]\n"
       ]
      },
      {
       "output_type": "stream",
       "stream": "stderr",
       "text": [
        "INFO:interface:stdout 2014-03-13T10:16:16.495964:  Spacing: [31.5, 31.5, 31.5]\n"
       ]
      },
      {
       "output_type": "stream",
       "stream": "stderr",
       "text": [
        "INFO:interface:stdout 2014-03-13T10:16:16.495964:  Origin: [31.5, 31.5, -31.5]\n"
       ]
      },
      {
       "output_type": "stream",
       "stream": "stderr",
       "text": [
        "INFO:interface:stdout 2014-03-13T10:16:16.495964:  Direction: \n"
       ]
      },
      {
       "output_type": "stream",
       "stream": "stderr",
       "text": [
        "INFO:interface:stdout 2014-03-13T10:16:16.495964:-1 7.95172e-27 1.30104e-17\n"
       ]
      },
      {
       "output_type": "stream",
       "stream": "stderr",
       "text": [
        "INFO:interface:stdout 2014-03-13T10:16:16.495964:7.95172e-27 -1 1.22236e-09\n"
       ]
      },
      {
       "output_type": "stream",
       "stream": "stderr",
       "text": [
        "INFO:interface:stdout 2014-03-13T10:16:16.495964:1.30104e-17 1.22236e-09 1\n"
       ]
      },
      {
       "output_type": "stream",
       "stream": "stderr",
       "text": [
        "INFO:interface:stdout 2014-03-13T10:16:16.495964:\n"
       ]
      },
      {
       "output_type": "stream",
       "stream": "stderr",
       "text": [
        "INFO:interface:stdout 2014-03-13T10:16:16.495964:  IndexToPointMatrix: \n"
       ]
      },
      {
       "output_type": "stream",
       "stream": "stderr",
       "text": [
        "INFO:interface:stdout 2014-03-13T10:16:16.495964:-31.5 2.50479e-25 4.09829e-16\n"
       ]
      },
      {
       "output_type": "stream",
       "stream": "stderr",
       "text": [
        "INFO:interface:stdout 2014-03-13T10:16:16.495964:2.50479e-25 -31.5 3.85044e-08\n"
       ]
      },
      {
       "output_type": "stream",
       "stream": "stderr",
       "text": [
        "INFO:interface:stdout 2014-03-13T10:16:16.495964:4.09829e-16 3.85044e-08 31.5\n"
       ]
      },
      {
       "output_type": "stream",
       "stream": "stderr",
       "text": [
        "INFO:interface:stdout 2014-03-13T10:16:16.495964:\n"
       ]
      },
      {
       "output_type": "stream",
       "stream": "stderr",
       "text": [
        "INFO:interface:stdout 2014-03-13T10:16:16.495964:  PointToIndexMatrix: \n"
       ]
      },
      {
       "output_type": "stream",
       "stream": "stderr",
       "text": [
        "INFO:interface:stdout 2014-03-13T10:16:16.495964:-0.031746 2.52436e-28 4.1303e-19\n"
       ]
      },
      {
       "output_type": "stream",
       "stream": "stderr",
       "text": [
        "INFO:interface:stdout 2014-03-13T10:16:16.495964:2.52436e-28 -0.031746 3.88051e-11\n"
       ]
      },
      {
       "output_type": "stream",
       "stream": "stderr",
       "text": [
        "INFO:interface:stdout 2014-03-13T10:16:16.495964:4.1303e-19 3.88051e-11 0.031746\n"
       ]
      },
      {
       "output_type": "stream",
       "stream": "stderr",
       "text": [
        "INFO:interface:stdout 2014-03-13T10:16:16.495964:\n"
       ]
      },
      {
       "output_type": "stream",
       "stream": "stderr",
       "text": [
        "INFO:interface:stdout 2014-03-13T10:16:16.495964:  Inverse Direction: \n"
       ]
      },
      {
       "output_type": "stream",
       "stream": "stderr",
       "text": [
        "INFO:interface:stdout 2014-03-13T10:16:16.495964:-1 7.95172e-27 1.30104e-17\n"
       ]
      },
      {
       "output_type": "stream",
       "stream": "stderr",
       "text": [
        "INFO:interface:stdout 2014-03-13T10:16:16.495964:7.95172e-27 -1 1.22236e-09\n"
       ]
      },
      {
       "output_type": "stream",
       "stream": "stderr",
       "text": [
        "INFO:interface:stdout 2014-03-13T10:16:16.495964:1.30104e-17 1.22236e-09 1\n"
       ]
      },
      {
       "output_type": "stream",
       "stream": "stderr",
       "text": [
        "INFO:interface:stdout 2014-03-13T10:16:16.495964:\n"
       ]
      },
      {
       "output_type": "stream",
       "stream": "stderr",
       "text": [
        "INFO:interface:stdout 2014-03-13T10:16:16.495964:  PixelContainer: \n"
       ]
      },
      {
       "output_type": "stream",
       "stream": "stderr",
       "text": [
        "INFO:interface:stdout 2014-03-13T10:16:16.495964:    ImportImageContainer (0xbbbb60)\n"
       ]
      },
      {
       "output_type": "stream",
       "stream": "stderr",
       "text": [
        "INFO:interface:stdout 2014-03-13T10:16:16.495964:      RTTI typeinfo:   itk::ImportImageContainer<unsigned long, itk::Vector<float, 1u> >\n"
       ]
      },
      {
       "output_type": "stream",
       "stream": "stderr",
       "text": [
        "INFO:interface:stdout 2014-03-13T10:16:16.495964:      Reference Count: 1\n"
       ]
      },
      {
       "output_type": "stream",
       "stream": "stderr",
       "text": [
        "INFO:interface:stdout 2014-03-13T10:16:16.495964:      Modified Time: 49763932\n"
       ]
      },
      {
       "output_type": "stream",
       "stream": "stderr",
       "text": [
        "INFO:interface:stdout 2014-03-13T10:16:16.495964:      Debug: Off\n"
       ]
      },
      {
       "output_type": "stream",
       "stream": "stderr",
       "text": [
        "INFO:interface:stdout 2014-03-13T10:16:16.495964:      Observers: \n"
       ]
      },
      {
       "output_type": "stream",
       "stream": "stderr",
       "text": [
        "INFO:interface:stdout 2014-03-13T10:16:16.495964:        none\n"
       ]
      },
      {
       "output_type": "stream",
       "stream": "stderr",
       "text": [
        "INFO:interface:stdout 2014-03-13T10:16:16.495964:      Pointer: 0xf47770\n"
       ]
      },
      {
       "output_type": "stream",
       "stream": "stderr",
       "text": [
        "INFO:interface:stdout 2014-03-13T10:16:16.495964:      Container manages memory: true\n"
       ]
      },
      {
       "output_type": "stream",
       "stream": "stderr",
       "text": [
        "INFO:interface:stdout 2014-03-13T10:16:16.495964:      Size: 1331\n"
       ]
      },
      {
       "output_type": "stream",
       "stream": "stderr",
       "text": [
        "INFO:interface:stdout 2014-03-13T10:16:16.495964:      Capacity: 1331\n"
       ]
      },
      {
       "output_type": "stream",
       "stream": "stderr",
       "text": [
        "INFO:interface:stdout 2014-03-13T10:16:16.495964:\n"
       ]
      },
      {
       "output_type": "stream",
       "stream": "stderr",
       "text": [
        "INFO:interface:stdout 2014-03-13T10:16:16.495964:Elapsed time: 18.4606\n"
       ]
      },
      {
       "output_type": "stream",
       "stream": "stderr",
       "text": [
        "INFO:workflow:Executing node merge_brain in dir: /home/oesteban/tmp/BSplineEvaluation/Prepare_sMRI/merge_brain\n"
       ]
      },
      {
       "output_type": "stream",
       "stream": "stderr",
       "text": [
        "INFO:workflow:Executing node bspline_field in dir: /home/oesteban/tmp/BSplineEvaluation/BSplineDistortion/bspline_field\n"
       ]
      },
      {
       "output_type": "stream",
       "stream": "stderr",
       "text": [
        "INFO:workflow:Running: /home/oesteban/workspace/ACWE-Reg/Debug/Applications/bspline_field -g 10 -I /home/oesteban/tmp/BSplineEvaluation/Prepare_sMRI/T1brainToRAS/norm_warped_out.nii.gz /home/oesteban/tmp/BSplineEvaluation/Prepare_sMRI/T2_Bias/T2-Guys-0977_bbreg_out_masked_corrected.nii.gz -o def\n"
       ]
      },
      {
       "output_type": "stream",
       "stream": "stderr",
       "text": [
        "INFO:interface:stdout 2014-03-13T10:16:21.153082:[10, 10, 10]\n"
       ]
      },
      {
       "output_type": "stream",
       "stream": "stderr",
       "text": [
        "INFO:interface:stdout 2014-03-13T10:16:21.153082:[24, 24, 18]\n"
       ]
      },
      {
       "output_type": "stream",
       "stream": "stderr",
       "text": [
        "INFO:interface:stderr 2014-03-13T10:53:37.867300:Terminated\n"
       ]
      },
      {
       "output_type": "stream",
       "stream": "stderr",
       "text": [
        "ERROR:workflow:['Node bspline_field failed to run on host tea.']\n"
       ]
      },
      {
       "output_type": "stream",
       "stream": "stderr",
       "text": [
        "INFO:workflow:Saving crash info to /home/oesteban/workspace/ACWE-Reg/Scripts/pyacwereg/notebooks/crash-20140313-105357-oesteban-bspline_field.pklz\n"
       ]
      },
      {
       "output_type": "stream",
       "stream": "stderr",
       "text": [
        "INFO:workflow:Traceback (most recent call last):\n",
        "  File \"/home/oesteban/workspace/nipype/nipype/pipeline/plugins/linear.py\", line 38, in run\n",
        "    node.run(updatehash=updatehash)\n",
        "  File \"/home/oesteban/workspace/nipype/nipype/pipeline/engine.py\", line 1390, in run\n",
        "    self._run_interface()\n",
        "  File \"/home/oesteban/workspace/nipype/nipype/pipeline/engine.py\", line 1500, in _run_interface\n",
        "    self._result = self._run_command(execute)\n",
        "  File \"/home/oesteban/workspace/nipype/nipype/pipeline/engine.py\", line 1626, in _run_command\n",
        "    result = self._interface.run()\n",
        "  File \"/home/oesteban/workspace/nipype/nipype/interfaces/base.py\", line 946, in run\n",
        "    runtime = self._run_interface(runtime)\n",
        "  File \"/home/oesteban/workspace/nipype/nipype/interfaces/base.py\", line 1389, in _run_interface\n",
        "    self.raise_exception(runtime)\n",
        "  File \"/home/oesteban/workspace/nipype/nipype/interfaces/base.py\", line 1319, in raise_exception\n",
        "    raise RuntimeError(message)\n",
        "RuntimeError: Command:\n",
        "/home/oesteban/workspace/ACWE-Reg/Debug/Applications/bspline_field -g 10 -I /home/oesteban/tmp/BSplineEvaluation/Prepare_sMRI/T1brainToRAS/norm_warped_out.nii.gz /home/oesteban/tmp/BSplineEvaluation/Prepare_sMRI/T2_Bias/T2-Guys-0977_bbreg_out_masked_corrected.nii.gz -o def\n",
        "Standard output:\n",
        "[10, 10, 10]\n",
        "[24, 24, 18]\n",
        "Standard error:\n",
        "Terminated\n",
        "Return code: 143\n",
        "Interface RandomBSplineDeformation failed to run. \n",
        "\n"
       ]
      },
      {
       "output_type": "stream",
       "stream": "stderr",
       "text": [
        "INFO:workflow:***********************************\n"
       ]
      },
      {
       "output_type": "stream",
       "stream": "stderr",
       "text": [
        "ERROR:workflow:could not run node: BSplineEvaluation.BSplineDistortion.bspline_field\n"
       ]
      },
      {
       "output_type": "stream",
       "stream": "stderr",
       "text": [
        "INFO:workflow:crashfile: /home/oesteban/workspace/ACWE-Reg/Scripts/pyacwereg/notebooks/crash-20140313-105357-oesteban-bspline_field.pklz\n"
       ]
      },
      {
       "output_type": "stream",
       "stream": "stderr",
       "text": [
        "INFO:workflow:***********************************\n"
       ]
      },
      {
       "ename": "RuntimeError",
       "evalue": "Workflow did not execute cleanly. Check log for details",
       "output_type": "pyerr",
       "traceback": [
        "\u001b[1;31m---------------------------------------------------------------------------\u001b[0m\n\u001b[1;31mRuntimeError\u001b[0m                              Traceback (most recent call last)",
        "\u001b[1;32m<ipython-input-2-b256ae8ad5aa>\u001b[0m in \u001b[0;36m<module>\u001b[1;34m()\u001b[0m\n\u001b[0;32m      4\u001b[0m \u001b[0mmm\u001b[0m\u001b[1;33m.\u001b[0m\u001b[0minputs\u001b[0m\u001b[1;33m.\u001b[0m\u001b[0minputnode\u001b[0m\u001b[1;33m.\u001b[0m\u001b[0mdata_dir\u001b[0m \u001b[1;33m=\u001b[0m \u001b[0mdata_dir\u001b[0m\u001b[1;33m\u001b[0m\u001b[0m\n\u001b[0;32m      5\u001b[0m \u001b[0mmm\u001b[0m\u001b[1;33m.\u001b[0m\u001b[0minputs\u001b[0m\u001b[1;33m.\u001b[0m\u001b[0minputnode\u001b[0m\u001b[1;33m.\u001b[0m\u001b[0mgrid_size\u001b[0m \u001b[1;33m=\u001b[0m \u001b[1;36m10\u001b[0m\u001b[1;33m\u001b[0m\u001b[0m\n\u001b[1;32m----> 6\u001b[1;33m \u001b[0mmm\u001b[0m\u001b[1;33m.\u001b[0m\u001b[0mrun\u001b[0m\u001b[1;33m(\u001b[0m\u001b[1;33m)\u001b[0m\u001b[1;33m\u001b[0m\u001b[0m\n\u001b[0m",
        "\u001b[1;32m/home/oesteban/workspace/nipype/nipype/pipeline/engine.pyc\u001b[0m in \u001b[0;36mrun\u001b[1;34m(self, plugin, plugin_args, updatehash)\u001b[0m\n\u001b[0;32m    691\u001b[0m         \u001b[1;32mif\u001b[0m \u001b[0mstr2bool\u001b[0m\u001b[1;33m(\u001b[0m\u001b[0mself\u001b[0m\u001b[1;33m.\u001b[0m\u001b[0mconfig\u001b[0m\u001b[1;33m[\u001b[0m\u001b[1;34m'execution'\u001b[0m\u001b[1;33m]\u001b[0m\u001b[1;33m[\u001b[0m\u001b[1;34m'create_report'\u001b[0m\u001b[1;33m]\u001b[0m\u001b[1;33m)\u001b[0m\u001b[1;33m:\u001b[0m\u001b[1;33m\u001b[0m\u001b[0m\n\u001b[0;32m    692\u001b[0m             \u001b[0mself\u001b[0m\u001b[1;33m.\u001b[0m\u001b[0m_write_report_info\u001b[0m\u001b[1;33m(\u001b[0m\u001b[0mself\u001b[0m\u001b[1;33m.\u001b[0m\u001b[0mbase_dir\u001b[0m\u001b[1;33m,\u001b[0m \u001b[0mself\u001b[0m\u001b[1;33m.\u001b[0m\u001b[0mname\u001b[0m\u001b[1;33m,\u001b[0m \u001b[0mexecgraph\u001b[0m\u001b[1;33m)\u001b[0m\u001b[1;33m\u001b[0m\u001b[0m\n\u001b[1;32m--> 693\u001b[1;33m         \u001b[0mrunner\u001b[0m\u001b[1;33m.\u001b[0m\u001b[0mrun\u001b[0m\u001b[1;33m(\u001b[0m\u001b[0mexecgraph\u001b[0m\u001b[1;33m,\u001b[0m \u001b[0mupdatehash\u001b[0m\u001b[1;33m=\u001b[0m\u001b[0mupdatehash\u001b[0m\u001b[1;33m,\u001b[0m \u001b[0mconfig\u001b[0m\u001b[1;33m=\u001b[0m\u001b[0mself\u001b[0m\u001b[1;33m.\u001b[0m\u001b[0mconfig\u001b[0m\u001b[1;33m)\u001b[0m\u001b[1;33m\u001b[0m\u001b[0m\n\u001b[0m\u001b[0;32m    694\u001b[0m         \u001b[0mdatestr\u001b[0m \u001b[1;33m=\u001b[0m \u001b[0mdatetime\u001b[0m\u001b[1;33m.\u001b[0m\u001b[0mutcnow\u001b[0m\u001b[1;33m(\u001b[0m\u001b[1;33m)\u001b[0m\u001b[1;33m.\u001b[0m\u001b[0mstrftime\u001b[0m\u001b[1;33m(\u001b[0m\u001b[1;34m'%Y%m%dT%H%M%S'\u001b[0m\u001b[1;33m)\u001b[0m\u001b[1;33m\u001b[0m\u001b[0m\n\u001b[0;32m    695\u001b[0m         \u001b[1;32mif\u001b[0m \u001b[0mstr2bool\u001b[0m\u001b[1;33m(\u001b[0m\u001b[0mself\u001b[0m\u001b[1;33m.\u001b[0m\u001b[0mconfig\u001b[0m\u001b[1;33m[\u001b[0m\u001b[1;34m'execution'\u001b[0m\u001b[1;33m]\u001b[0m\u001b[1;33m[\u001b[0m\u001b[1;34m'write_provenance'\u001b[0m\u001b[1;33m]\u001b[0m\u001b[1;33m)\u001b[0m\u001b[1;33m:\u001b[0m\u001b[1;33m\u001b[0m\u001b[0m\n",
        "\u001b[1;32m/home/oesteban/workspace/nipype/nipype/pipeline/plugins/linear.pyc\u001b[0m in \u001b[0;36mrun\u001b[1;34m(self, graph, config, updatehash)\u001b[0m\n\u001b[0;32m     54\u001b[0m                 \u001b[1;32mif\u001b[0m \u001b[0mself\u001b[0m\u001b[1;33m.\u001b[0m\u001b[0m_status_callback\u001b[0m\u001b[1;33m:\u001b[0m\u001b[1;33m\u001b[0m\u001b[0m\n\u001b[0;32m     55\u001b[0m                     \u001b[0mself\u001b[0m\u001b[1;33m.\u001b[0m\u001b[0m_status_callback\u001b[0m\u001b[1;33m(\u001b[0m\u001b[0mnode\u001b[0m\u001b[1;33m,\u001b[0m \u001b[1;34m'exception'\u001b[0m\u001b[1;33m)\u001b[0m\u001b[1;33m\u001b[0m\u001b[0m\n\u001b[1;32m---> 56\u001b[1;33m         \u001b[0mreport_nodes_not_run\u001b[0m\u001b[1;33m(\u001b[0m\u001b[0mnotrun\u001b[0m\u001b[1;33m)\u001b[0m\u001b[1;33m\u001b[0m\u001b[0m\n\u001b[0m\u001b[0;32m     57\u001b[0m \u001b[1;33m\u001b[0m\u001b[0m\n",
        "\u001b[1;32m/home/oesteban/workspace/nipype/nipype/pipeline/plugins/base.pyc\u001b[0m in \u001b[0;36mreport_nodes_not_run\u001b[1;34m(notrun)\u001b[0m\n\u001b[0;32m     90\u001b[0m                 \u001b[0mlogger\u001b[0m\u001b[1;33m.\u001b[0m\u001b[0mdebug\u001b[0m\u001b[1;33m(\u001b[0m\u001b[0msubnode\u001b[0m\u001b[1;33m.\u001b[0m\u001b[0m_id\u001b[0m\u001b[1;33m)\u001b[0m\u001b[1;33m\u001b[0m\u001b[0m\n\u001b[0;32m     91\u001b[0m         \u001b[0mlogger\u001b[0m\u001b[1;33m.\u001b[0m\u001b[0minfo\u001b[0m\u001b[1;33m(\u001b[0m\u001b[1;34m\"***********************************\"\u001b[0m\u001b[1;33m)\u001b[0m\u001b[1;33m\u001b[0m\u001b[0m\n\u001b[1;32m---> 92\u001b[1;33m         raise RuntimeError(('Workflow did not execute cleanly. '\n\u001b[0m\u001b[0;32m     93\u001b[0m                             'Check log for details'))\n\u001b[0;32m     94\u001b[0m \u001b[1;33m\u001b[0m\u001b[0m\n",
        "\u001b[1;31mRuntimeError\u001b[0m: Workflow did not execute cleanly. Check log for details"
       ]
      }
     ],
     "prompt_number": 2
    },
    {
     "cell_type": "code",
     "collapsed": false,
     "input": [
      "import nipype.pipeline.engine as pe          # pipeline engine\n",
      "import nipype.interfaces.freesurfer as fs\n",
      "import nipype.interfaces.utility as niu\n",
      "import nipype.interfaces.io as nio\n",
      "\n",
      "\n",
      "def GenerateBinaryVolume( name=\"binarize\" ):\n",
      "    pipeline = pe.Workflow( name=name )\n",
      "    inputnode = pe.Node(niu.IdentityInterface( fields=['in_file','labels', 'in_norm','out_surf',\n",
      "                                 'origin', 'mov_path', 'tar_path', 'tfmfile'] ), name='inputnode' )\n",
      "    convert = pe.Node( fs.MRIConvert( out_type='niigz' ), name='convert' )\n",
      "    binarize = pe.Node( niu.Function( input_names=['in_file', 'labels' ], output_names=[\"out_file\"], \n",
      "                                      function=fsbt.CombineSegs ), name='combine' )\n",
      "    convertmgz = pe.Node( fs.MRIConvert( out_type='mgz' ), name='convertmgz' )\n",
      "    pretess = pe.Node( niu.Function( input_names=['in_file', 'in_norm', 'label' ], output_names=['out_file'],\n",
      "                                    function=fsbt.MRIPreTess ), name='pretess' )\n",
      "    pretess.inputs.label = 1\n",
      "    \n",
      "    tess = pe.Node( fs.MRITessellate(label_value=1), name='tess' )\n",
      "    smooth = pe.Node( fs.SmoothTessellation(disable_estimates=True ), name='mris_smooth' )\n",
      "    \n",
      "    tfmsurf = pe.Node( niu.Function( input_names=['origin', 'mov_path', 'tar_path', 'tfmfile', 'out_file'],\n",
      "                                     output_names=['out_file'], function=fsbt.transformSurface ), name='ApplyXfm' )\n",
      "                                    \n",
      "    pipeline.connect( [\n",
      "                       \n",
      "                        (inputnode, convert, [ ('in_file','in_file') ] )\n",
      "                       ,(convert, binarize,  [ ('out_file','in_file' ) ])\n",
      "                       ,(inputnode, binarize,[ ('labels','labels') ])\n",
      "                       ,(binarize, convertmgz, [('out_file','in_file')])\n",
      "                       ,(convertmgz,pretess, [ ('out_file', 'in_file' )])\n",
      "                       ,(inputnode,pretess,  [ ('in_norm', 'in_norm' )])\n",
      "                       ,(pretess,tess,       [ ('out_file', 'in_file' ) ])\n",
      "                       ,(tess,smooth,        [ ('surface', 'in_file' ) ])\n",
      "                       ,(smooth,tfmsurf,     [ ('surface', 'origin' ) ])\n",
      "                       ,(inputnode,tfmsurf,  [ ('mov_path','mov_path'),\n",
      "                                               ('tar_path','tar_path'),\n",
      "                                               ('tfmfile','tfmfile'),\n",
      "                                               ('out_surf','out_file') ])\n",
      "                       ])\n",
      "    \n",
      "    return pipeline"
     ],
     "language": "python",
     "metadata": {},
     "outputs": [],
     "prompt_number": 7
    },
    {
     "cell_type": "code",
     "collapsed": false,
     "input": [
      "wf = GenerateBinaryVolume()\n",
      "wf.base_dir = working_dir"
     ],
     "language": "python",
     "metadata": {},
     "outputs": [],
     "prompt_number": 8
    },
    {
     "cell_type": "code",
     "collapsed": false,
     "input": [
      "wf.inputs.inputnode.in_file = op.join( root_dir, 'FREESURFER', 'OE0_T1', 'mri', 'aseg.mgz' )\n",
      "wf.inputs.inputnode.labels = csf_labels\n",
      "wf.inputs.inputnode.in_norm = op.join( root_dir, 'FREESURFER', 'OE0_T1', 'mri', 'norm.mgz' )\n",
      "wf.inputs.inputnode.out_surf = op.join( data_dir, 'surf', 'init.csf.vtk' )\n",
      "\n",
      "wf.inputs.inputnode.tar_path = bfname\n",
      "wf.inputs.inputnode.mov_path = mrfname\n",
      "wf.inputs.inputnode.tfmfile = tfname"
     ],
     "language": "python",
     "metadata": {},
     "outputs": [],
     "prompt_number": 9
    },
    {
     "cell_type": "code",
     "collapsed": false,
     "input": [
      "wf.run()"
     ],
     "language": "python",
     "metadata": {},
     "outputs": [
      {
       "output_type": "stream",
       "stream": "stdout",
       "text": [
        "130627-17:17:32,38 workflow INFO:\n",
        "\t ['check', 'execution', 'logging']\n"
       ]
      },
      {
       "output_type": "stream",
       "stream": "stdout",
       "text": [
        "130627-17:17:32,45 workflow INFO:\n",
        "\t Running serially.\n"
       ]
      },
      {
       "output_type": "stream",
       "stream": "stdout",
       "text": [
        "130627-17:17:32,46 workflow INFO:\n",
        "\t Executing node convert in dir: /home/oesteban/workspace/ACWE-Reg/temp/binarize/convert\n"
       ]
      },
      {
       "output_type": "stream",
       "stream": "stdout",
       "text": [
        "130627-17:17:32,47 workflow INFO:\n",
        "\t Collecting precomputed outputs\n"
       ]
      },
      {
       "output_type": "stream",
       "stream": "stdout",
       "text": [
        "130627-17:17:32,50 workflow INFO:\n",
        "\t Executing node combine in dir: /home/oesteban/workspace/ACWE-Reg/temp/binarize/combine\n"
       ]
      },
      {
       "output_type": "stream",
       "stream": "stdout",
       "text": [
        "130627-17:17:32,51 workflow INFO:\n",
        "\t Collecting precomputed outputs\n"
       ]
      },
      {
       "output_type": "stream",
       "stream": "stdout",
       "text": [
        "130627-17:17:32,54 workflow INFO:\n",
        "\t Executing node convertmgz in dir: /home/oesteban/workspace/ACWE-Reg/temp/binarize/convertmgz\n"
       ]
      },
      {
       "output_type": "stream",
       "stream": "stdout",
       "text": [
        "130627-17:17:32,55 workflow INFO:\n",
        "\t Collecting precomputed outputs\n"
       ]
      },
      {
       "output_type": "stream",
       "stream": "stdout",
       "text": [
        "130627-17:17:32,60 workflow INFO:\n",
        "\t Executing node pretess in dir: /home/oesteban/workspace/ACWE-Reg/temp/binarize/pretess\n"
       ]
      },
      {
       "output_type": "stream",
       "stream": "stdout",
       "text": [
        "130627-17:17:34,618 workflow INFO:\n",
        "\t Executing node tess in dir: /home/oesteban/workspace/ACWE-Reg/temp/binarize/tess\n"
       ]
      },
      {
       "output_type": "stream",
       "stream": "stdout",
       "text": [
        "130627-17:17:34,623 workflow INFO:\n",
        "\t Running: mri_tessellate /home/oesteban/workspace/ACWE-Reg/temp/binarize/pretess/aseg_out_bin_out_pretess.mgz 1 ./aseg_out_bin_out_pretess.mgz_1\n"
       ]
      },
      {
       "output_type": "stream",
       "stream": "stdout",
       "text": [
        "130627-17:17:34,960 interface INFO:\n",
        "\t stdout 2013-06-27T17:17:34.960007:$Id: mri_tessellate.c,v 1.36 2011/03/02 00:04:25 nicks Exp $\n"
       ]
      },
      {
       "output_type": "stream",
       "stream": "stdout",
       "text": [
        "130627-17:17:34,960 interface INFO:\n",
        "\t stdout 2013-06-27T17:17:34.960007:  $Id: mrisurf.c,v 1.693.2.7 2013/05/12 22:28:01 nicks Exp $\n"
       ]
      },
      {
       "output_type": "stream",
       "stream": "stdout",
       "text": [
        "130627-17:17:35,870 interface INFO:\n",
        "\t stdout 2013-06-27T17:17:35.870098:slice 80: 117 vertices, 133 faces\n"
       ]
      },
      {
       "output_type": "stream",
       "stream": "stdout",
       "text": [
        "130627-17:17:35,870 interface INFO:\n",
        "\t stdout 2013-06-27T17:17:35.870098:slice 90: 1081 vertices, 1156 faces\n"
       ]
      },
      {
       "output_type": "stream",
       "stream": "stdout",
       "text": [
        "130627-17:17:35,870 interface INFO:\n",
        "\t stdout 2013-06-27T17:17:35.870098:slice 100: 4678 vertices, 4858 faces\n"
       ]
      },
      {
       "output_type": "stream",
       "stream": "stdout",
       "text": [
        "130627-17:17:35,871 interface INFO:\n",
        "\t stdout 2013-06-27T17:17:35.870098:slice 110: 7977 vertices, 8079 faces\n"
       ]
      },
      {
       "output_type": "stream",
       "stream": "stdout",
       "text": [
        "130627-17:17:35,871 interface INFO:\n",
        "\t stdout 2013-06-27T17:17:35.870098:slice 120: 10045 vertices, 10143 faces\n"
       ]
      },
      {
       "output_type": "stream",
       "stream": "stdout",
       "text": [
        "130627-17:17:35,871 interface INFO:\n",
        "\t stdout 2013-06-27T17:17:35.870098:slice 130: 11957 vertices, 12053 faces\n"
       ]
      },
      {
       "output_type": "stream",
       "stream": "stdout",
       "text": [
        "130627-17:17:35,872 interface INFO:\n",
        "\t stdout 2013-06-27T17:17:35.870098:slice 140: 13915 vertices, 13994 faces\n"
       ]
      },
      {
       "output_type": "stream",
       "stream": "stdout",
       "text": [
        "130627-17:17:35,872 interface INFO:\n",
        "\t stdout 2013-06-27T17:17:35.870098:slice 150: 15187 vertices, 15245 faces\n"
       ]
      },
      {
       "output_type": "stream",
       "stream": "stdout",
       "text": [
        "130627-17:17:35,872 interface INFO:\n",
        "\t stdout 2013-06-27T17:17:35.870098:slice 160: 16040 vertices, 16052 faces\n"
       ]
      },
      {
       "output_type": "stream",
       "stream": "stdout",
       "text": [
        "130627-17:17:35,872 interface INFO:\n",
        "\t stdout 2013-06-27T17:17:35.870098:slice 170: 16040 vertices, 16052 faces\n"
       ]
      },
      {
       "output_type": "stream",
       "stream": "stdout",
       "text": [
        "130627-17:17:35,873 interface INFO:\n",
        "\t stdout 2013-06-27T17:17:35.870098:slice 180: 16040 vertices, 16052 faces\n"
       ]
      },
      {
       "output_type": "stream",
       "stream": "stdout",
       "text": [
        "130627-17:17:35,873 interface INFO:\n",
        "\t stdout 2013-06-27T17:17:35.870098:slice 190: 16040 vertices, 16052 faces\n"
       ]
      },
      {
       "output_type": "stream",
       "stream": "stdout",
       "text": [
        "130627-17:17:35,873 interface INFO:\n",
        "\t stdout 2013-06-27T17:17:35.870098:slice 200: 16040 vertices, 16052 faces\n"
       ]
      },
      {
       "output_type": "stream",
       "stream": "stdout",
       "text": [
        "130627-17:17:35,873 interface INFO:\n",
        "\t stdout 2013-06-27T17:17:35.870098:slice 210: 16040 vertices, 16052 faces\n"
       ]
      },
      {
       "output_type": "stream",
       "stream": "stdout",
       "text": [
        "130627-17:17:35,874 interface INFO:\n",
        "\t stdout 2013-06-27T17:17:35.870098:slice 220: 16040 vertices, 16052 faces\n"
       ]
      },
      {
       "output_type": "stream",
       "stream": "stdout",
       "text": [
        "130627-17:17:35,874 interface INFO:\n",
        "\t stdout 2013-06-27T17:17:35.870098:slice 230: 16040 vertices, 16052 faces\n"
       ]
      },
      {
       "output_type": "stream",
       "stream": "stdout",
       "text": [
        "130627-17:17:35,874 interface INFO:\n",
        "\t stdout 2013-06-27T17:17:35.870098:slice 240: 16040 vertices, 16052 faces\n"
       ]
      },
      {
       "output_type": "stream",
       "stream": "stdout",
       "text": [
        "130627-17:17:35,874 interface INFO:\n",
        "\t stdout 2013-06-27T17:17:35.870098:slice 250: 16040 vertices, 16052 faces\n"
       ]
      },
      {
       "output_type": "stream",
       "stream": "stdout",
       "text": [
        "130627-17:17:35,875 interface INFO:\n",
        "\t stdout 2013-06-27T17:17:35.870098:using the conformed surface RAS to save vertex points...\n"
       ]
      },
      {
       "output_type": "stream",
       "stream": "stdout",
       "text": [
        "130627-17:17:35,875 interface INFO:\n",
        "\t stdout 2013-06-27T17:17:35.870098:writing ./aseg_out_bin_out_pretess.mgz_1\n"
       ]
      },
      {
       "output_type": "stream",
       "stream": "stdout",
       "text": [
        "130627-17:17:35,875 interface INFO:\n",
        "\t stdout 2013-06-27T17:17:35.870098:using vox2ras matrix:\n"
       ]
      },
      {
       "output_type": "stream",
       "stream": "stdout",
       "text": [
        "130627-17:17:35,875 interface INFO:\n",
        "\t stdout 2013-06-27T17:17:35.870098:-1.000   0.000   0.000   128.000;\n"
       ]
      },
      {
       "output_type": "stream",
       "stream": "stdout",
       "text": [
        "130627-17:17:35,876 interface INFO:\n",
        "\t stdout 2013-06-27T17:17:35.870098: 0.000   0.000   1.000  -128.000;\n"
       ]
      },
      {
       "output_type": "stream",
       "stream": "stdout",
       "text": [
        "130627-17:17:35,876 interface INFO:\n",
        "\t stdout 2013-06-27T17:17:35.870098: 0.000  -1.000   0.000   128.000;\n"
       ]
      },
      {
       "output_type": "stream",
       "stream": "stdout",
       "text": [
        "130627-17:17:35,877 interface INFO:\n",
        "\t stdout 2013-06-27T17:17:35.870098: 0.000   0.000   0.000   1.000;\n"
       ]
      },
      {
       "output_type": "stream",
       "stream": "stdout",
       "text": [
        "130627-17:17:35,884 workflow INFO:\n",
        "\t Executing node mris_smooth in dir: /home/oesteban/workspace/ACWE-Reg/temp/binarize/mris_smooth\n"
       ]
      },
      {
       "output_type": "stream",
       "stream": "stdout",
       "text": [
        "130627-17:17:35,888 workflow INFO:\n",
        "\t Running: mris_smooth /home/oesteban/workspace/ACWE-Reg/temp/binarize/tess/aseg_out_bin_out_pretess.mgz_1 /home/oesteban/workspace/ACWE-Reg/temp/binarize/mris_smooth/aseg_out_bin_out_pretess_smoothed.mgz_1 -nw -n 10 -a 10\n"
       ]
      },
      {
       "output_type": "stream",
       "stream": "stdout",
       "text": [
        "130627-17:17:36,26 interface INFO:\n",
        "\t stderr 2013-06-27T17:17:36.026365:smoothing surface tessellation for 10 iterations...\n"
       ]
      },
      {
       "output_type": "stream",
       "stream": "stdout",
       "text": [
        "130627-17:17:36,66 interface INFO:\n",
        "\t stderr 2013-06-27T17:17:36.066211:smoothing complete - recomputing first and second fundamental forms...\n"
       ]
      },
      {
       "output_type": "stream",
       "stream": "stdout",
       "text": [
        "130627-17:17:36,234 interface INFO:\n",
        "\t stderr 2013-06-27T17:17:36.234853:writing smoothed curvature to /home/oesteban/workspace/ACWE-Reg/temp/binarize/mris_smooth/rh.curv\n"
       ]
      },
      {
       "output_type": "stream",
       "stream": "stdout",
       "text": [
        "130627-17:17:36,235 interface INFO:\n",
        "\t stderr 2013-06-27T17:17:36.235377:writing smoothed area to /home/oesteban/workspace/ACWE-Reg/temp/binarize/mris_smooth/rh.area\n"
       ]
      },
      {
       "output_type": "stream",
       "stream": "stdout",
       "text": [
        "130627-17:17:36,252 workflow INFO:\n",
        "\t Executing node ApplyXfm in dir: /home/oesteban/workspace/ACWE-Reg/temp/binarize/ApplyXfm\n"
       ]
      },
      {
       "output_type": "pyout",
       "prompt_number": 10,
       "text": [
        "<networkx.classes.digraph.DiGraph at 0x6857a10>"
       ]
      }
     ],
     "prompt_number": 10
    },
    {
     "cell_type": "code",
     "collapsed": false,
     "input": [],
     "language": "python",
     "metadata": {},
     "outputs": []
    }
   ],
   "metadata": {}
  }
 ]
}