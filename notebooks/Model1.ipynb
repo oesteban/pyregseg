{
 "metadata": {
  "name": "Model1"
 },
 "nbformat": 3,
 "nbformat_minor": 0,
 "worksheets": [
  {
   "cells": [
    {
     "cell_type": "code",
     "collapsed": false,
     "input": [
      "from traits.etsconfig.api import ETSConfig\n",
      "ETSConfig.toolkit = 'null'\n",
      "\n",
      "import os\n",
      "import os.path as op\n",
      "import nibabel as nib\n",
      "\n",
      "\n",
      "#import nipype.pipeline.engine as pe          # pypeline engine\n",
      "#import nipype.interfaces.freesurfer as fs\n",
      "#import nipype.interfaces.utility as niu\n",
      "#import nipype.interfaces.io as nio\n",
      "#from tvtk.api import tvtk\n",
      "\n",
      "root_dir = '/home/oesteban/workspace/ACWE-Reg/'\n",
      "\n",
      "\n",
      "import sys\n",
      "sys.path.append( op.join( root_dir, 'Scripts/workflows' ) )\n",
      "\n",
      "import dmri as dmri\n",
      "import surfaces as surf"
     ],
     "language": "python",
     "metadata": {},
     "outputs": [],
     "prompt_number": 2
    },
    {
     "cell_type": "code",
     "collapsed": false,
     "input": [
      "model_id = 1\n",
      "\n",
      "data_dir= op.join( root_dir, 'Data', 'ModelGeneration' )\n",
      "mname = 'Model%d' % model_id\n",
      "model_dir = op.join( data_dir, mname )\n",
      "tpms_dir = op.join( model_dir, 'tpms' )\n",
      "\n",
      "working_dir= op.join( root_dir, 'temp', mname )\n",
      "\n",
      "if not op.exists( working_dir ):\n",
      "    os.makedirs( working_dir )"
     ],
     "language": "python",
     "metadata": {},
     "outputs": [],
     "prompt_number": 3
    },
    {
     "cell_type": "code",
     "collapsed": false,
     "input": [
      "model_im = nib.load( os.path.join( model_dir, 'model.nii.gz' ) )\n",
      "im_data = model_im.get_data()\n",
      "im_data = np.array( [ im_data[:,:,:,comp] for comp in range( 0, model_im.get_shape()[3] ) ] )\n",
      "dim = im_data[0].shape\n",
      "\n",
      "new_header = model_im.get_header()\n",
      "new_header.set_data_shape( dim )\n",
      "new_header.set_data_dtype( np.uint8 )\n",
      "new_header.set_xyzt_units( 2 )\n",
      "new_header['qform_code']=1\n",
      "new_header['sform_code']=1"
     ],
     "language": "python",
     "metadata": {},
     "outputs": [],
     "prompt_number": 8
    },
    {
     "cell_type": "code",
     "collapsed": false,
     "input": [
      "name_pref = 'roi'\n",
      "roinames = []\n",
      "\n",
      "t1_data = np.zeros( shape=dim )\n",
      "t1_values = [ 230, 80, 50 ]\n",
      "t1_name = op.join( working_dir, 't1_weighted.nii.gz' )\n",
      "\n",
      "for i,(comp,name) in enumerate(zip( im_data, ['wm','gm','csf'] ) ):\n",
      "    t1_data[comp==1] = t1_values[i]\n",
      "    \n",
      "    if name == 'wm':\n",
      "        comp = im_data[0] + im_data[2]\n",
      "    elif name == 'gm':\n",
      "        comp = im_data[0] + im_data[1] + im_data[2]\n",
      "       \n",
      "    roiname = os.path.join( working_dir, '%s_%s.nii' % (name_pref, name) )\n",
      "    roinames.append( roiname )\n",
      "    nib.save( nib.Nifti1Image( comp, model_im.get_affine() , new_header ), roiname )\n",
      "    \n",
      "nib.save( nib.Nifti1Image( t1_data, model_im.get_affine() , new_header ), t1_name )"
     ],
     "language": "python",
     "metadata": {},
     "outputs": [],
     "prompt_number": 10
    },
    {
     "cell_type": "code",
     "collapsed": false,
     "input": [
      "\n",
      "    wf = surf.binary2contour_workflow( name=(\"Contour_%02d\" % i ))\n",
      "    wf.base_dir = working_dir\n",
      "    wf.inputs.inputnode.in_file = oname\n",
      "    wf.inputs.inputnode.in_norm = t1_name\n",
      "    wf.inputs.inputnode.out_folder = working_dir\n",
      "    res = wf.run()"
     ],
     "language": "python",
     "metadata": {},
     "outputs": []
    },
    {
     "cell_type": "code",
     "collapsed": false,
     "input": [
      "import functions as fnc\n",
      "import os\n",
      "model_id = 1\n",
      "model_path = os.path.abspath( 'Model%d' % model_id )"
     ],
     "language": "python",
     "metadata": {},
     "outputs": []
    },
    {
     "cell_type": "code",
     "collapsed": false,
     "input": [
      "for surf_id in [ 'csf', 'wm', 'gm' ]:\n",
      "    wf = fnc.surfaceWorkflow(model_path=os.getcwd() )\n",
      "    wf.inputs.inputnode.in_roi = os.path.join( model_path, 'roi_%s.nii' % (surf_id) ) \n",
      "    wf.inputs.inputnode.surf_id = surf_id\n",
      "    wf.inputs.inputnode.model_id = 'Model1'\n",
      "    res = wf.run()\n",
      "    "
     ],
     "language": "python",
     "metadata": {},
     "outputs": []
    },
    {
     "cell_type": "code",
     "collapsed": false,
     "input": [
      "import glob\n",
      "\n",
      "for i in glob.glob( os.path.join( model_path, 'deformed*.nii.gz' ) ):\n",
      "    nib.save( nib.Nifti1Image( nib.load( i ).get_data(), model_im.get_affine(), new_header), os.path.join( model_path, 'r_' + os.path.basename(i) ) )"
     ],
     "language": "python",
     "metadata": {},
     "outputs": []
    },
    {
     "cell_type": "code",
     "collapsed": false,
     "input": [
      "extent = ( 0,dim[0]-1,0,dim[1]-1,0,dim[2]-1 )\n",
      "spacing=(1.0,1.0,1.0)\n",
      "direction=np.array([ 1.0, 1.0, 1.0 ])\n",
      "origin= np.array( [0,0,0] ) # tuple( np.array(dim) * 0.5 * direction )\n",
      "\n",
      "sform = (np.identity( 4 ) * np.hstack( (direction, 1.0) ))\n",
      "sform[:,3]+= np.hstack( (origin,0.0) )\n",
      "new_header.set_sform( sform )\n",
      "new_affine = model_im.get_affine() * np.hstack( (direction, 1.0) )"
     ],
     "language": "python",
     "metadata": {},
     "outputs": []
    },
    {
     "cell_type": "code",
     "collapsed": false,
     "input": [
      "surfs = []\n",
      "\n",
      "\n",
      "name_pref = 'priors'\n",
      "\n",
      "for comp,name in zip( im_data, ['wm','gm','csf'] ):\n",
      "    nib.save( nib.Nifti1Image( comp.T, new_affine, new_header ), os.path.join( model_path, '%s_%s.nii.gz' % (name_pref, name)  ))\n",
      "    if name == 'wm':\n",
      "        comp = im_data[0] + im_data[2]\n",
      "    elif name == 'gm':\n",
      "        comp = im_data[0] + im_data[1] + im_data[2]\n",
      "    \n",
      "    surfs.append( fnc.GenerateSurface( comp, os.path.join( model_path, '%s_%s.vtk' % (name_pref,name)  ), use_smooth=True ) )"
     ],
     "language": "python",
     "metadata": {},
     "outputs": []
    },
    {
     "cell_type": "code",
     "collapsed": false,
     "input": [
      "fa = nib.load( os.path.join( model_path, 'ref_FA.nii.gz' ) )\n",
      "fa_data = fa.get_data()\n",
      "d = np.diag( fa.get_affine() )\n",
      "\n",
      "#for ax,el in enumerate(d):\n",
      "#    if el == -1:\n",
      "#        print \"Rolling axis %d\" % ax\n",
      "#        fa_data = np.rollaxis( fa_data, ax )\n",
      "        \n",
      "fa_data = np.swapaxes( fa_data, 1, 2 )\n",
      "\n",
      "fa_header = fa.get_header()\n",
      "fa_header['pixdim'] = new_header['pixdim']\n",
      "fa_header.set_sform( new_header.get_sform() )\n",
      "fa_header.set_qform( new_header.get_qform() )\n",
      "\n",
      "\n",
      "nib.save(nib.Nifti1Image( fa_data, np.identity(4), fa_header ), os.path.join( model_path, 'ref_FA_reoriented.nii.gz' ) )"
     ],
     "language": "python",
     "metadata": {},
     "outputs": []
    },
    {
     "cell_type": "code",
     "collapsed": false,
     "input": [
      "vtkim = tvtk.ImageData( spacing=spacing, origin=origin ) # , dimensions=dim, extent=extent\n",
      "vtkim.point_data.scalars = np.ones( shape=dim, dtype=np.uint8 ).ravel()\n",
      "vtkim.point_data.scalars.name = 'scalars'\n",
      "vtkim.dimensions = dim\n",
      "\n",
      "pol2stenc = tvtk.PolyDataToImageStencil( input=wm_mesh, output_origin=origin,output_spacing=spacing,output_whole_extent=extent )\n",
      "pol2stenc.update()\n",
      "stenc = tvtk.ImageStencil( background_value=0, stencil=pol2stenc.output )\n",
      "stenc.reverse_stencil = False\n",
      "stenc.set_input( vtkim )\n",
      "stenc.update()\n",
      "\n",
      "newdata = np.reshape( stenc.output.point_data.scalars, dim )\n",
      "nib.save( nib.Nifti1Image( newdata, model_im.get_affine(), model_im.get_header() ), os.path.join( model_path, 'new_priors_filled_wm.nii' )  )"
     ],
     "language": "python",
     "metadata": {},
     "outputs": []
    },
    {
     "cell_type": "code",
     "collapsed": false,
     "input": [
      "from scipy.interpolate import griddata\n",
      "#from matplotlib.mlab import griddata\n",
      "reload(fnc)\n",
      "sl = 56\n",
      "wm_mesh = fnc.FilterMesh( surfs[0], sl )\n",
      "csf_mesh = fnc.FilterMesh( surfs[1], sl )\n",
      "#w = tvtk.PolyDataWriter(input=wm_mesh, file_name=os.path.join( model_path, 'new_priors_filtered_wm.vtk' ))\n",
      "#w.write()\n",
      "\n",
      "ps = np.array( wm_mesh.points, dtype=np.float32 )[:,0:2]\n",
      "d = np.ones( ps.shape[0] ).astype( np.float32 )\n",
      "\n",
      "dim2d = tuple(np.delete( np.array(dim), 1 ))\n",
      "xi,yi = np.mgrid[0:dim2d[0],0:dim2d[1]]\n",
      "\n",
      "interpolated0 = griddata( ps, d, (xi,yi), method='linear', fill_value=0.0 )\n",
      "#interpolated0 = griddata( ps[:,0],ps[:,1], d, xi, yi, interp='linear')\n",
      "print np.shape( interpolated0 )\n",
      "plt.contour(interpolated0, linewidths=1.5, colors='r')\n",
      "plt.imshow( model_im.get_data().T[2][:,sl,:] )\n",
      "#plt.imshow( interpolated0 )"
     ],
     "language": "python",
     "metadata": {},
     "outputs": []
    },
    {
     "cell_type": "code",
     "collapsed": false,
     "input": [
      "reload(fnc)\n",
      "fnc.PlotContour( os.path.join( model_path, 'ref_FA.nii.gz' ), [ surfs[0], surfs[2] ], ax=2, sl=52 )"
     ],
     "language": "python",
     "metadata": {},
     "outputs": []
    },
    {
     "cell_type": "code",
     "collapsed": false,
     "input": [
      "reload(fnc)\n",
      "sl = 57\n",
      "ax = 0\n",
      "\n",
      "image = np.swapaxes( nib.load( os.path.join( model_path, 'ref_FA.nii.gz' ) ).get_data(), ax, 2)[:,:,sl]\n",
      "plt.imshow( image, cmap = cm.Greys_r )\n",
      "p1,z_level = fnc.ComputeContourFunction( model_im, surfs[0], sl, axis=ax )\n",
      "cs1 = plt.contour( p1, linewidths=2.5, colors='b', levels=[z_level] )\n",
      "p2,z_level = fnc.ComputeContourFunction( model_im, surfs[2], sl, axis=ax )\n",
      "cs2 = plt.contour( p2, linewidths=2.2, colors='r', levels=[z_level])"
     ],
     "language": "python",
     "metadata": {},
     "outputs": []
    },
    {
     "cell_type": "code",
     "collapsed": false,
     "input": [
      "from scipy.ndimage.filters import gaussian_filter\n",
      "p1 = gaussian_filter( p1, sigma=0.4 )\n",
      "\n",
      "im = np.ones( shape=p2.shape )\n",
      "im[p2>=z_level]=0.0\n",
      "\n",
      "plt.imshow( im )\n",
      "im = gaussian_filter( im, sigma=2 )\n",
      "\n",
      "plt.figure()\n",
      "plt.imshow( im )\n",
      "plt.colorbar()"
     ],
     "language": "python",
     "metadata": {},
     "outputs": []
    },
    {
     "cell_type": "code",
     "collapsed": false,
     "input": [
      "im = np.zeros( shape=p2.shape )\n",
      "im[p2>=z_level] = 255\n",
      "\n",
      "plt.imshow( im )\n",
      "\n",
      "#if np.any( im != 0 ):\n",
      "#   cs2 = plt.contour( im, linewidths=0.5, colors='g' )"
     ],
     "language": "python",
     "metadata": {},
     "outputs": []
    },
    {
     "cell_type": "code",
     "collapsed": false,
     "input": [
      "cs2.levels"
     ],
     "language": "python",
     "metadata": {},
     "outputs": []
    },
    {
     "cell_type": "code",
     "collapsed": false,
     "input": [],
     "language": "python",
     "metadata": {},
     "outputs": []
    }
   ],
   "metadata": {}
  }
 ]
}