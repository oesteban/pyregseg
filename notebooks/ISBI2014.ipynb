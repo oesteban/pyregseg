{
 "metadata": {
  "name": "ISBI2014"
 },
 "nbformat": 3,
 "nbformat_minor": 0,
 "worksheets": [
  {
   "cells": [
    {
     "cell_type": "code",
     "collapsed": false,
     "input": [
      "import numpy as np\n",
      "import nibabel as nib\n",
      "from tvtk.api import tvtk\n",
      "import datetime as dt\n",
      "import os\n",
      "import os.path as op\n",
      "\n",
      "from scipy.ndimage import label\n",
      "\n",
      "import nipype.pipeline.engine as pe          # pypeline engine\n",
      "import nipype.interfaces.freesurfer as fs\n",
      "import nipype.interfaces.utility as niu\n",
      "import nipype.interfaces.io as nio\n",
      "import nipype.workflows.dmri.fsl as wf\n",
      "\n",
      "import sys\n",
      "sys.path.append('/home/oesteban/workspace/ACWE-Reg/Scripts/utils')\n",
      "sys.path.append('/home/oesteban/workspace/ACWE-Reg/Scripts/workflows')\n",
      "\n",
      "\n",
      "import dmri as dmri\n",
      "import fsb_transform as fsbt"
     ],
     "language": "python",
     "metadata": {},
     "outputs": [],
     "prompt_number": 1
    },
    {
     "cell_type": "code",
     "collapsed": false,
     "input": [
      "root_dir='/home/oesteban/workspace/ACWE-Reg/'\n",
      "data_dir= op.join( root_dir, 'Data' )\n",
      "mname = 'DigitalPhantomISBI'\n",
      "model_dir = op.join( data_dir, mname )\n",
      "tpms_dir = op.join( model_dir, 'tpms' )\n",
      "\n",
      "working_dir= op.join( root_dir, 'temp', 'ISBI2014' )\n",
      "\n",
      "if not op.exists( working_dir ):\n",
      "    os.makedirs( working_dir )"
     ],
     "language": "python",
     "metadata": {},
     "outputs": [],
     "prompt_number": 2
    },
    {
     "cell_type": "code",
     "collapsed": false,
     "input": [
      "t2reg_wf = dmri.t2_registration_correct()\n",
      "t2reg_wf.base_dir = working_dir\n",
      "\n",
      "t2reg_wf.inputs.inputnode.in_file = op.join( working_dir , \"dwi.nii.gz\" )\n",
      "t2reg_wf.inputs.inputnode.in_t2 = op.join( model_dir, \"t2_weighted.nii.gz\" )\n",
      "t2reg_wf.inputs.inputnode.in_mask_dwi = op.join( working_dir, \"mask_warped.nii.gz\" )\n",
      "t2reg_wf.inputs.inputnode.in_mask_t2 = op.join( model_dir, \"tpms\", \"tpm_mask.nii.gz\" )\n",
      "\n",
      "t2reg_wf.run()"
     ],
     "language": "python",
     "metadata": {},
     "outputs": [
      {
       "ename": "Exception",
       "evalue": "Some connections were not found\nModule ApplyJacobian has no output called out_product_image\n\nModule merge_DWI has no output called out_file\n",
       "output_type": "pyerr",
       "traceback": [
        "\u001b[1;31m---------------------------------------------------------------------------\u001b[0m\n\u001b[1;31mException\u001b[0m                                 Traceback (most recent call last)",
        "\u001b[1;32m<ipython-input-3-624f05dd24e9>\u001b[0m in \u001b[0;36m<module>\u001b[1;34m()\u001b[0m\n\u001b[1;32m----> 1\u001b[1;33m \u001b[0mt2reg_wf\u001b[0m \u001b[1;33m=\u001b[0m \u001b[0mdmri\u001b[0m\u001b[1;33m.\u001b[0m\u001b[0mt2_registration_correct\u001b[0m\u001b[1;33m(\u001b[0m\u001b[1;33m)\u001b[0m\u001b[1;33m\u001b[0m\u001b[0m\n\u001b[0m\u001b[0;32m      2\u001b[0m \u001b[0mt2reg_wf\u001b[0m\u001b[1;33m.\u001b[0m\u001b[0mbase_dir\u001b[0m \u001b[1;33m=\u001b[0m \u001b[0mworking_dir\u001b[0m\u001b[1;33m\u001b[0m\u001b[0m\n\u001b[0;32m      3\u001b[0m \u001b[1;33m\u001b[0m\u001b[0m\n\u001b[0;32m      4\u001b[0m \u001b[0mt2reg_wf\u001b[0m\u001b[1;33m.\u001b[0m\u001b[0minputs\u001b[0m\u001b[1;33m.\u001b[0m\u001b[0minputnode\u001b[0m\u001b[1;33m.\u001b[0m\u001b[0min_file\u001b[0m \u001b[1;33m=\u001b[0m \u001b[0mop\u001b[0m\u001b[1;33m.\u001b[0m\u001b[0mjoin\u001b[0m\u001b[1;33m(\u001b[0m \u001b[0mworking_dir\u001b[0m \u001b[1;33m,\u001b[0m \u001b[1;34m\"dwi.nii.gz\"\u001b[0m \u001b[1;33m)\u001b[0m\u001b[1;33m\u001b[0m\u001b[0m\n\u001b[0;32m      5\u001b[0m \u001b[0mt2reg_wf\u001b[0m\u001b[1;33m.\u001b[0m\u001b[0minputs\u001b[0m\u001b[1;33m.\u001b[0m\u001b[0minputnode\u001b[0m\u001b[1;33m.\u001b[0m\u001b[0min_t2\u001b[0m \u001b[1;33m=\u001b[0m \u001b[0mop\u001b[0m\u001b[1;33m.\u001b[0m\u001b[0mjoin\u001b[0m\u001b[1;33m(\u001b[0m \u001b[0mmodel_dir\u001b[0m\u001b[1;33m,\u001b[0m \u001b[1;34m\"t2_weighted.nii.gz\"\u001b[0m \u001b[1;33m)\u001b[0m\u001b[1;33m\u001b[0m\u001b[0m\n",
        "\u001b[1;32m/home/oesteban/workspace/ACWE-Reg/Scripts/workflows/dmri.py\u001b[0m in \u001b[0;36mt2_registration_correct\u001b[1;34m(name)\u001b[0m\n\u001b[0;32m     83\u001b[0m                         \u001b[1;33m,\u001b[0m\u001b[1;33m(\u001b[0m\u001b[0mdwi_split\u001b[0m\u001b[1;33m,\u001b[0m\u001b[0mapplyjacobian\u001b[0m\u001b[1;33m,\u001b[0m\u001b[1;33m[\u001b[0m \u001b[1;33m(\u001b[0m\u001b[1;34m'out_files'\u001b[0m\u001b[1;33m,\u001b[0m\u001b[1;34m'first_input'\u001b[0m\u001b[1;33m)\u001b[0m\u001b[1;33m]\u001b[0m\u001b[1;33m)\u001b[0m\u001b[1;33m\u001b[0m\u001b[0m\n\u001b[0;32m     84\u001b[0m                         \u001b[1;33m,\u001b[0m\u001b[1;33m(\u001b[0m\u001b[0mapplyjacobian\u001b[0m\u001b[1;33m,\u001b[0m\u001b[0mdwi_merge\u001b[0m\u001b[1;33m,\u001b[0m\u001b[1;33m[\u001b[0m \u001b[1;33m(\u001b[0m\u001b[1;34m'out_product_image'\u001b[0m\u001b[1;33m,\u001b[0m \u001b[1;34m'in_files'\u001b[0m\u001b[1;33m)\u001b[0m \u001b[1;33m]\u001b[0m\u001b[1;33m)\u001b[0m\u001b[1;33m\u001b[0m\u001b[0m\n\u001b[1;32m---> 85\u001b[1;33m                         \u001b[1;33m,\u001b[0m\u001b[1;33m(\u001b[0m\u001b[0mdwi_merge\u001b[0m\u001b[1;33m,\u001b[0m  \u001b[0moutputnode\u001b[0m\u001b[1;33m,\u001b[0m \u001b[1;33m[\u001b[0m \u001b[1;33m(\u001b[0m\u001b[1;34m'out_file'\u001b[0m\u001b[1;33m,\u001b[0m\u001b[1;34m'epi_corrected'\u001b[0m\u001b[1;33m)\u001b[0m \u001b[1;33m]\u001b[0m\u001b[1;33m)\u001b[0m\u001b[1;33m\u001b[0m\u001b[0m\n\u001b[0m\u001b[0;32m     86\u001b[0m                       ])\n\u001b[0;32m     87\u001b[0m \u001b[1;33m\u001b[0m\u001b[0m\n",
        "\u001b[1;32m/home/oesteban/workspace/nipype/nipype/pipeline/engine.pyc\u001b[0m in \u001b[0;36mconnect\u001b[1;34m(self, *args, **kwargs)\u001b[0m\n\u001b[0;32m    365\u001b[0m         \u001b[1;32mif\u001b[0m \u001b[0mnot_found\u001b[0m\u001b[1;33m:\u001b[0m\u001b[1;33m\u001b[0m\u001b[0m\n\u001b[0;32m    366\u001b[0m             raise Exception('\\n'.join(['Some connections were not found'] +\n\u001b[1;32m--> 367\u001b[1;33m                                       infostr))\n\u001b[0m\u001b[0;32m    368\u001b[0m \u001b[1;33m\u001b[0m\u001b[0m\n\u001b[0;32m    369\u001b[0m         \u001b[1;31m# turn functions into strings\u001b[0m\u001b[1;33m\u001b[0m\u001b[1;33m\u001b[0m\u001b[0m\n",
        "\u001b[1;31mException\u001b[0m: Some connections were not found\nModule ApplyJacobian has no output called out_product_image\n\nModule merge_DWI has no output called out_file\n"
       ]
      }
     ],
     "prompt_number": 3
    },
    {
     "cell_type": "code",
     "collapsed": false,
     "input": [
      "fmap_wf = wf.fieldmap_correction()\n",
      "fmap_wf.base_dir = working_dir\n",
      "\n",
      "fmap_wf.inputs.inputnode.in_file = op.join( working_dir , \"dwi.nii.gz\" )\n",
      "fmap_wf.inputs.inputnode.in_mask = op.join( model_dir, \"signal_mask.nii.gz\" )\n",
      "fmap_wf.inputs.inputnode.fieldmap_mag = op.join( model_dir, \"signal_mask.nii.gz\" )\n",
      "fmap_wf.inputs.inputnode.fieldmap_pha = op.join( working_dir, \"siemens.nii.gz\" )\n",
      "fmap_wf.inputs.inputnode.te_diff = 2.46\n",
      "fmap_wf.inputs.inputnode.epi_echospacing = 0.77\n",
      "fmap_wf.inputs.inputnode.vsm_sigma = 2.0\n",
      "fmap_wf.inputs.inputnode.encoding_direction = 'y'"
     ],
     "language": "python",
     "metadata": {},
     "outputs": []
    },
    {
     "cell_type": "code",
     "collapsed": false,
     "input": [
      "fmap_wf.run()"
     ],
     "language": "python",
     "metadata": {},
     "outputs": []
    },
    {
     "cell_type": "code",
     "collapsed": false,
     "input": [
      "topup_wf = wf.topup_correction()\n",
      "topup_wf.base_dir = working_dir\n",
      "\n",
      "topup_wf.inputs.inputnode.in_file_dir = op.join( working_dir , \"dwi.nii.gz\" )\n",
      "topup_wf.inputs.inputnode.in_file_rev = op.join( working_dir , \"dwi_rev.nii.gz\" )\n",
      "topup_wf.inputs.inputnode.encoding_direction = 'y'\n",
      "topup_wf.inputs.inputnode.ref_num = 0"
     ],
     "language": "python",
     "metadata": {},
     "outputs": []
    },
    {
     "cell_type": "code",
     "collapsed": false,
     "input": [
      "topup_wf.run()"
     ],
     "language": "python",
     "metadata": {},
     "outputs": []
    },
    {
     "cell_type": "code",
     "collapsed": false,
     "input": [],
     "language": "python",
     "metadata": {},
     "outputs": []
    }
   ],
   "metadata": {}
  }
 ]
}