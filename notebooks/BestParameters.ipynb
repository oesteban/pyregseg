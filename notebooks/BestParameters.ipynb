{
 "metadata": {
  "name": "BestParameters"
 },
 "nbformat": 3,
 "nbformat_minor": 0,
 "worksheets": [
  {
   "cells": [
    {
     "cell_type": "code",
     "collapsed": false,
     "input": [
      "import os.path as op\n",
      "\n",
      "import nipype.algorithms.misc as alg\n",
      "import nipype.algorithms.mesh as mesh\n",
      "import nipype.interfaces.rstk as rs\n",
      "\n",
      "import nipype.pipeline.engine as pe          # pypeline engine\n",
      "import nipype.interfaces.base as base        # base pipeline interface (e.g. command line execution)\n",
      "import nipype.interfaces.io as nio           # Data i/o\n",
      "import nipype.interfaces.utility as util     # utility"
     ],
     "language": "python",
     "metadata": {},
     "outputs": [],
     "prompt_number": 1
    },
    {
     "cell_type": "code",
     "collapsed": false,
     "input": [
      "iterations = [ 1 ]\n",
      "grid_sizes = [ 6 ]\n",
      "alpha_list = [ 0.1 ]\n",
      "beta_list = [ 0.0 ]\n",
      "step_sizes = [ 1.0 ]\n",
      "\n",
      "data_dir = op.abspath( '../../Data/ModelGeneration/Model1/' )\n",
      "\n",
      "features = [ op.join( data_dir, 'deformed_FA.nii.gz' ), op.join( data_dir, 'deformed_MD.nii.gz' ) ]\n",
      "surfaces = [ op.join( data_dir, 'fixed.csf.vtk' ), op.join( data_dir, 'fixed.wm.vtk' ),  op.join( data_dir, 'fixed.gm.vtk' ) ]\n",
      "ref_rois = [ op.join( data_dir, 'roi.csf.nii.gz' ), op.join( data_dir, 'roi.wm.nii.gz' ),  op.join( data_dir, 'roi.gm.nii.gz' ) ]\n",
      "ref_surf = [ op.join( data_dir, 'ref.csf.vtk' ), op.join( data_dir, 'ref.wm.vtk' ),  op.join( data_dir, 'ref.gm.vtk' ) ]"
     ],
     "language": "python",
     "metadata": {},
     "outputs": [],
     "prompt_number": 2
    },
    {
     "cell_type": "code",
     "collapsed": false,
     "input": [
      "pipeline = pe.Workflow(name=\"BestParameters\")\n",
      "\n",
      "seg = pe.Node( rs.RSTK(), name=\"RegSeg\" )\n",
      "overlap = pe.Node( alg.FuzzyOverlap(weighting=\"volume\"), name=\"Overlap\" )\n",
      "distance = pe.Node( mesh.P2PDistance(), name=\"SurfaceDistance\" )\n",
      "\n",
      "pipeline.connect([\n",
      "                   ( seg, overlap, [('','in_tst')])\n",
      "                  ,( seg, distance, [('', 'in_surf') ])\n",
      "                  ])"
     ],
     "language": "python",
     "metadata": {},
     "outputs": [],
     "prompt_number": 3
    },
    {
     "cell_type": "code",
     "collapsed": false,
     "input": [],
     "language": "python",
     "metadata": {},
     "outputs": []
    }
   ],
   "metadata": {}
  }
 ]
}