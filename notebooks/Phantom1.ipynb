{
 "metadata": {
  "name": "Phantom1"
 },
 "nbformat": 3,
 "nbformat_minor": 0,
 "worksheets": [
  {
   "cells": [
    {
     "cell_type": "code",
     "collapsed": false,
     "input": [
      "from traits.etsconfig.api import ETSConfig\n",
      "ETSConfig.toolkit = 'null'\n",
      "\n",
      "import os\n",
      "import os.path as op\n",
      "import nibabel as nib\n",
      "\n",
      "root_dir = '/home/oesteban/workspace/ACWE-Reg/'\n",
      "\n",
      "\n",
      "import sys\n",
      "sys.path.append( op.join( root_dir, 'Scripts/workflows' ) )\n",
      "\n",
      "import dmri as dmri\n",
      "import surfaces as surf\n",
      "\n",
      "import scipy.ndimage as ndimage"
     ],
     "language": "python",
     "metadata": {},
     "outputs": []
    },
    {
     "cell_type": "code",
     "collapsed": false,
     "input": [
      "phantom_id = 1\n",
      "\n",
      "data_dir= op.join( root_dir, 'Data' )\n",
      "mname = 'Phantom%d' % phantom_id\n",
      "model_dir = op.join( data_dir, mname )\n",
      "tpms_dir = op.join( model_dir, 'tpms' )\n",
      "\n",
      "working_dir= op.join( root_dir, 'temp', mname )\n",
      "\n",
      "if not op.exists( working_dir ):\n",
      "    os.makedirs( working_dir )\n",
      "    \n",
      "if not op.exists( tpms_dir ):\n",
      "    os.makedirs( tpms_dir )"
     ],
     "language": "python",
     "metadata": {},
     "outputs": []
    },
    {
     "cell_type": "code",
     "collapsed": false,
     "input": [
      "t1_fname = op.join( model_dir, 't1_weighted.nii.gz' )\n",
      "tpmfnames = [ op.join( tpms_dir, '%s_tpm.nii.gz' % n ) for n in ['wm','gm'] ]\n",
      "roifnames = [ op.join( working_dir, 'roi_%s.nii.gz' % n ) for n in ['wm','gm'] ]\n",
      "modelfname = op.join( model_dir, 'model.nii.gz' ) "
     ],
     "language": "python",
     "metadata": {},
     "outputs": []
    },
    {
     "cell_type": "code",
     "collapsed": false,
     "input": [
      "datashape= ( 101,101,101 )\n",
      "affine = np.identity( 4 )\n",
      "affine[0:3,3] = -0.5 * np.array( datashape, dtype=np.float32 )\n",
      "hdr = nib.Nifti1Header( )\n",
      "hdr['data_type'] = 2\n",
      "hdr.set_data_dtype( np.uint8 )\n",
      "\n",
      "center_pix = ((np.array( datashape )-1)*0.5).astype(np.uint8)\n",
      "radius = 35"
     ],
     "language": "python",
     "metadata": {},
     "outputs": []
    },
    {
     "cell_type": "code",
     "collapsed": false,
     "input": [
      "def ball( volsize, radius ):\n",
      "    assert float(radius) < ( float(volsize)/2)\n",
      "    result = np.zeros( shape=(volsize,volsize,volsize), dtype=int )\n",
      "    thres = radius**2\n",
      "    center = np.ones( shape=(3) ) * float(volsize)/2\n",
      "    for x in range(0,volsize):\n",
      "        for y in range(0,volsize):\n",
      "            for z in range(0,volsize):\n",
      "                if  np.linalg.norm( center - [x,y,z] ) < radius:\n",
      "                    result[x,y,z] = 1\n",
      "    return result"
     ],
     "language": "python",
     "metadata": {},
     "outputs": []
    },
    {
     "cell_type": "code",
     "collapsed": false,
     "input": [
      "modelbase = np.zeros( shape=datashape )\n",
      "\n",
      "for x in range(0,datashape[0] ):\n",
      "    for y in range(0,datashape[1]):\n",
      "        for z in range(0,datashape[2]):\n",
      "            if np.linalg.norm(  center_pix - [x,y,z] )< radius:\n",
      "                modelbase[x,y,z] = 1\n",
      "                \n",
      "modelbase[center_pix[0],:, center_pix[2]: ] = 0"
     ],
     "language": "python",
     "metadata": {},
     "outputs": []
    },
    {
     "cell_type": "code",
     "collapsed": false,
     "input": [
      "wm = ndimage.binary_opening( ndimage.binary_erosion( modelbase, structure=ball(10,4.5) ).astype( np.uint8 ), structure=ball(10,4.5) ).astype( np.uint8 )\n",
      "nii_wm = nib.Nifti1Image( wm.astype( np.uint8 ), affine, hdr )\n",
      "nib.save( nii_wm, tpmfnames[0] )\n",
      "\n",
      "gm = ndimage.binary_dilation( wm, structure=ball(10,4.4) ).astype( np.uint8 ) - wm\n",
      "nii_gm = nib.Nifti1Image( gm.astype( np.uint8 ), affine, hdr )\n",
      "nib.save( nii_gm, tpmfnames[1] )\n",
      "\n",
      "nii_model = nib.concat_images( [ nii_wm, nii_gm ] )\n",
      "nib.save( nii_model, modelfname )\n",
      "\n",
      "\n",
      "nib.save( nii_wm, rois[0] )\n",
      "nib.save( nib.Nifti1Image( (gm+wm).astype( np.uint8 ), affine, hdr ), roifnames[1] )"
     ],
     "language": "python",
     "metadata": {},
     "outputs": []
    },
    {
     "cell_type": "code",
     "collapsed": false,
     "input": [
      "def gen_noise( image, mask, snr_db=10.0 ):\n",
      "    snr = np.power( 10.0, snr_db/10.0 )\n",
      "    noise = np.random.normal( size=image.shape )\n",
      "    bg_noise = np.random.rayleigh( size=image.shape )\n",
      "    \n",
      "    im_scaled = noise.std() / image.std() *(sqrt(snr))* image;\n",
      "    im_noise = np.zeros_like( image )\n",
      "    \n",
      "    im_noise[mask>0] = im_scaled[mask>0] + noise[mask>0]\n",
      "    im_noise[mask==0] = bg_noise[mask==0]\n",
      "    \n",
      "    im_noise = 255* im_noise / im_noise.max()\n",
      "    \n",
      "    return im_noise"
     ],
     "language": "python",
     "metadata": {},
     "outputs": []
    },
    {
     "cell_type": "code",
     "collapsed": false,
     "input": [
      "mask = wm + gm\n",
      "\n",
      "im = np.zeros_like( wm )\n",
      "im = (gm * 1.0 + wm * 1.7).astype( np.float32 )\n",
      "nii_t1 = nib.Nifti1Image( gen_noise(im,mask).astype( np.uint8 ), affine, hdr )\n",
      "nib.save( nii_t1, t1_name)\n",
      "\n",
      "t2 = (gm * 1.0 + wm * 0.8).astype( np.float32 )\n",
      "nii_t2 = nib.Nifti1Image( gen_noise(t2,mask).astype( np.float32 ), affine, hdr )\n",
      "nib.save(nii_t2, op.join( model_dir, 't2_weighted.nii.gz' ) )\n",
      "\n",
      "nii_signal = nib.concat_images( [ nii_t1, nii_t2 ] )\n",
      "nib.save(nii_signal, op.join( model_dir, 'signal.nii.gz' ) )"
     ],
     "language": "python",
     "metadata": {},
     "outputs": []
    },
    {
     "cell_type": "code",
     "collapsed": false,
     "input": [
      "for i,rname in enumerate( roifnames ):\n",
      "    wf = surf.binary2contour_workflow( name=(\"Contour_%02d\" % i ))\n",
      "    wf.base_dir = working_dir\n",
      "    wf.inputs.inputnode.in_file = rname\n",
      "    wf.inputs.inputnode.in_norm = t1_fname\n",
      "    wf.inputs.inputnode.out_folder = working_dir\n",
      "    res = wf.run()"
     ],
     "language": "python",
     "metadata": {},
     "outputs": []
    },
    {
     "cell_type": "code",
     "collapsed": false,
     "input": [
      "te_incr = 2.46e-3 # secs\n",
      "dwell_time = 0.77e-3 # secs\n",
      "maskfile = roifnames[1]\n",
      "edir = 'z'\n",
      "dwifile = os.path.join( model_dir, 'signal.nii.gz' )\n",
      "\n",
      "wf = dmri.distortion_workflow()\n",
      "wf.base_dir = working_dir\n",
      "wf.inputs.inputnode.in_file = dwifile\n",
      "wf.inputs.inputnode.in_mask = maskfile\n",
      "wf.inputs.inputnode.te_incr = te_incr\n",
      "wf.inputs.inputnode.echospacing = dwell_time\n",
      "wf.inputs.inputnode.encoding_direction = edir\n",
      "wf.inputs.inputnode.intensity = 0.05\n",
      "wf.inputs.inputnode.sigma = 8.0\n",
      "wf.inputs.inputnode.in_tpms = tpmfnames\n",
      "wf.run()"
     ],
     "language": "python",
     "metadata": {},
     "outputs": []
    },
    {
     "cell_type": "code",
     "collapsed": false,
     "input": [],
     "language": "python",
     "metadata": {},
     "outputs": []
    }
   ],
   "metadata": {}
  }
 ]
}