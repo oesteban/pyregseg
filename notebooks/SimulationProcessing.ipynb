{
 "metadata": {
  "name": "SimulationProcessing"
 },
 "nbformat": 3,
 "nbformat_minor": 0,
 "worksheets": [
  {
   "cells": [
    {
     "cell_type": "code",
     "collapsed": false,
     "input": [
      "# Testing\n",
      "import numpy as np\n",
      "import nibabel as nib\n",
      "import os"
     ],
     "language": "python",
     "metadata": {},
     "outputs": [],
     "prompt_number": 1
    },
    {
     "cell_type": "code",
     "collapsed": false,
     "input": [
      "model_path = os.path.abspath( 'Model1' )\n",
      "base_path = os.path.abspath( os.getcwd() )"
     ],
     "language": "python",
     "metadata": {},
     "outputs": [],
     "prompt_number": 2
    },
    {
     "cell_type": "code",
     "collapsed": false,
     "input": [
      "model_fname = os.path.join( model_path, 'model.nii.gz')\n",
      "msk_fname = os.path.join( model_path, 'signal_mask.nii.gz')\n",
      "b0_fname = os.path.join( model_path, 'signal_b0.nii.gz')\n",
      "signal_fname = os.path.join( model_path, 'signal.nii.gz')\n",
      "signal_nii = nib.load( signal_fname )"
     ],
     "language": "python",
     "metadata": {},
     "outputs": [],
     "prompt_number": 3
    },
    {
     "cell_type": "code",
     "collapsed": false,
     "input": [
      "data = np.loadtxt( os.path.join( model_path, 'gradient_list.txt'), dtype=float )\n",
      "bvecs = np.insert( np.transpose( data[:,0:3] ), 0, 0.0, axis=1 )\n",
      "bvals = np.insert( np.transpose( data[:,3] ), 0, 0.0 )\n",
      "np.savetxt( os.path.join( model_path, 'signal.bvec' ), bvecs )\n",
      "np.savetxt( os.path.join( model_path, 'signal.bval' ), bvals[None] )"
     ],
     "language": "python",
     "metadata": {},
     "outputs": [],
     "prompt_number": 4
    },
    {
     "cell_type": "code",
     "collapsed": false,
     "input": [
      "nii = nib.load( os.path.join( model_path, 'model.nii.gz') )\n",
      "msk_data = np.sum( nii.get_data(), axis=3, dtype=np.float32)\n",
      "msk_data[msk_data>0.0] = 1.0\n",
      "niiMSK = nib.Nifti1Image( msk_data.astype(np.uint8), signal_nii.get_affine() , signal_nii.get_header() )\n",
      "niiMSK._header['glmin'] = np.min(msk_data)\n",
      "niiMSK._header['glmax'] = np.max(msk_data)\n",
      "niiMSK._header['cal_min'] = 0\n",
      "niiMSK._header['cal_max'] = 1\n",
      "niiMSK.set_data_dtype(np.uint8)\n",
      "nib.save( niiMSK, msk_fname )"
     ],
     "language": "python",
     "metadata": {},
     "outputs": [],
     "prompt_number": 5
    },
    {
     "cell_type": "code",
     "collapsed": false,
     "input": [
      "msk_data = nib.load( msk_fname ).get_data()\n",
      "b0_data = np.zeros( msk_data.shape, dtype=float )\n",
      "b0_signal_noise = np.random.normal( 1.0, 0.10, b0_data.shape )\n",
      "b0_bg_noise = np.random.rayleigh( 0.07, b0_data.shape )\n",
      "b0_data[ msk_data>0.5 ] = b0_signal_noise[msk_data>0.5]\n",
      "b0_data[ msk_data<=0.5 ] = b0_bg_noise[msk_data<=0.5]\n",
      "niiB0 = nib.Nifti1Image( b0_data, signal_nii.get_affine() , signal_nii.get_header() )\n",
      "niiB0.set_data_dtype(np.float32)\n",
      "nib.save( niiB0, b0_fname )"
     ],
     "language": "python",
     "metadata": {},
     "outputs": [],
     "prompt_number": 6
    },
    {
     "cell_type": "code",
     "collapsed": false,
     "input": [
      "def dwifinder( dwipath, ext ):\n",
      "    import os\n",
      "    bname = os.path.splitext( dwipath )\n",
      "    if ( bname[1] == '.gz' ):\n",
      "        bname = os.path.splitext( bname[0] )\n",
      "    return '%s.%s' % ( bname[0], ext )"
     ],
     "language": "python",
     "metadata": {},
     "outputs": [],
     "prompt_number": 4
    },
    {
     "cell_type": "code",
     "collapsed": false,
     "input": [
      "import nipype.interfaces.base as base        # base pipeline interface (e.g. command line execution)\n",
      "import nipype.interfaces.io as nio           # Data i/o\n",
      "import nipype.interfaces.utility as util     # utility\n",
      "import nipype.algorithms.misc as misc\n",
      "import nipype.pipeline.engine as pe          # pypeline engine\n",
      "import nipype.interfaces.fsl as fsl          # fsl\n",
      "import nipype.interfaces.freesurfer as fs    # freesurfer\n",
      "import nipype.interfaces.diffusion_toolkit as dtk\n",
      "import nipype.interfaces.mrtrix as mrtrix   #<---- The important new part!\n",
      "import nipype.interfaces.camino as camino\n",
      "\n",
      "fsl.FSLCommand.set_default_output_type('NIFTI_GZ')"
     ],
     "language": "python",
     "metadata": {},
     "outputs": [
      {
       "output_type": "stream",
       "stream": "stderr",
       "text": [
        "/usr/local/lib/python2.7/dist-packages/nipype/interfaces/mrtrix/convert.py:28: UserWarning: dipy not installed\n",
        "  warnings.warn('dipy not installed')\n"
       ]
      }
     ],
     "prompt_number": 5
    },
    {
     "cell_type": "code",
     "collapsed": false,
     "input": [
      "base_dir = os.path.abspath( base_path )\n",
      "pipeline = pe.Workflow(name=\"Model_Process\", base_dir = base_dir)\n",
      "\n",
      "\n",
      "infosource = pe.Node( interface=util.IdentityInterface( fields=['model_id']), name=\"InfoSource\" )\n",
      "infosource.iterables = ( 'model_id', [ 'Model1' ] )\n",
      "\n",
      "# Set up a node to define all inputs required in the pre-processing workflow\n",
      "datasource = pe.Node( interface=nio.DataGrabber(infields=['model_id'], outfields=['b0', 'dwi', 'mask'] ), name=\"DataReader\")\n",
      "datasource.inputs.template = '*'\n",
      "datasource.inputs.base_directory = base_path\n",
      "datasource.inputs.field_template = dict(b0='%s/signal_b0.nii.gz',\n",
      "                                        dwi='%s/signal.nii.gz',\n",
      "                                        mask='%s/signal_mask.nii.gz')\n",
      "datasource.inputs.template_args = dict(b0=[['model_id']],\n",
      "                                       dwi=[['model_id']],\n",
      "                                        mask=[['model_id']])\n",
      "\n",
      "\n",
      "\n",
      "bdatafind = pe.Node( interface=util.IdentityInterface(fields=['in_file', 'in_bvec', 'in_bval' ]),\n",
      "                    name='bdatafind' )\n",
      "combineB0 = pe.Node( interface=util.Merge(2) , name=\"CombineB0\")\n",
      "insertB0 = pe.Node( interface=fsl.Merge(dimension='t', output_type='NIFTI_GZ'), name=\"InsertB0\" )\n",
      "# mask dwi data\n",
      "fsmask = pe.Node(interface=fs.ApplyMask(), name='MaskRawData' )\n",
      "\n",
      "datasink = pe.Node(nio.DataSink(base_directory=model_path,parameterization=False), name='sinker')\n",
      "datasink.container = 'results'"
     ],
     "language": "python",
     "metadata": {},
     "outputs": [],
     "prompt_number": 6
    },
    {
     "cell_type": "code",
     "collapsed": false,
     "input": [
      "# compute the diffusion tensor in each voxel\n",
      "#dtifit = pe.Node(interface=dtk.DTIRecon(output_type=\"nii.gz\",ignore_exception=True),name='TensorFitting')\n",
      "dtifit = pe.Node( interface=fsl.DTIFit(output_type='NIFTI_GZ'), name='TensorFitting' )\n",
      "\n",
      "# connect nodes\n",
      "pipeline.connect([\n",
      "                         (infosource, datasource, [( 'model_id', 'model_id' ) ])\n",
      "                        ,(datasource,combineB0, [ ('b0','in1'),('dwi','in2') ] )\n",
      "                        ,(combineB0,insertB0, [( 'out','in_files') ] )\n",
      "                        ,(datasource,fsmask, [('mask','mask_file') ])\n",
      "                        ,(insertB0, fsmask, [( 'merged_file', 'in_file' )] )\n",
      "                        ,(datasource,bdatafind,[ ( ('dwi',dwifinder,'bvec'), 'in_bvec'), ( ('dwi', dwifinder, 'bval') ,'in_bval') ])\n",
      "                        ,(bdatafind,dtifit,[ ('in_bvec','bvecs'), ('in_bval','bvals') ])\n",
      "                        ,(fsmask,dtifit,[ ('out_file','dwi') ])                   # FSL\n",
      "                        ,(datasource,dtifit, [ ('mask','mask') ])                 # FSL\n",
      "                        #,(fsmask,dtifit,[ ('out_file','DWI') ])                    # Diffusion Toolkit\n",
      "                        #,(infosource, datasink, [( 'model_id', 'container' )])\n",
      "                        ,(dtifit,datasink, [( 'FA','@FA'), ('MD','@ADC') ] )\n",
      "                        ,(insertB0,datasink, [( 'merged_file','@dwi_raw' ) ])\n",
      "                      ])"
     ],
     "language": "python",
     "metadata": {},
     "outputs": [],
     "prompt_number": 7
    },
    {
     "cell_type": "code",
     "collapsed": false,
     "input": [
      "pipeline.run()"
     ],
     "language": "python",
     "metadata": {},
     "outputs": [
      {
       "output_type": "stream",
       "stream": "stdout",
       "text": [
        "130110-13:58:26,351 workflow INFO:\n",
        "\t ['check', 'execution', 'logging']\n"
       ]
      },
      {
       "output_type": "stream",
       "stream": "stdout",
       "text": [
        "130110-13:58:26,364 workflow INFO:\n",
        "\t Running serially.\n"
       ]
      },
      {
       "output_type": "stream",
       "stream": "stdout",
       "text": [
        "130110-13:58:26,365 workflow INFO:\n",
        "\t Executing node DataReader.a0 in dir: /home/oesteban/workspace/RegSeg/Data/ModelGeneration/Model_Process/_model_id_Model1/DataReader\n"
       ]
      },
      {
       "output_type": "stream",
       "stream": "stdout",
       "text": [
        "130110-13:58:26,376 workflow INFO:\n",
        "\t Executing node CombineB0.a0 in dir: /home/oesteban/workspace/RegSeg/Data/ModelGeneration/Model_Process/_model_id_Model1/CombineB0\n"
       ]
      },
      {
       "output_type": "stream",
       "stream": "stdout",
       "text": [
        "130110-13:58:26,377 workflow INFO:\n",
        "\t Collecting precomputed outputs\n"
       ]
      },
      {
       "output_type": "stream",
       "stream": "stdout",
       "text": [
        "130110-13:58:26,381 workflow INFO:\n",
        "\t Executing node InsertB0.a0 in dir: /home/oesteban/workspace/RegSeg/Data/ModelGeneration/Model_Process/_model_id_Model1/InsertB0\n"
       ]
      },
      {
       "output_type": "stream",
       "stream": "stdout",
       "text": [
        "130110-13:58:26,382 workflow INFO:\n",
        "\t Collecting precomputed outputs\n"
       ]
      },
      {
       "output_type": "stream",
       "stream": "stdout",
       "text": [
        "130110-13:58:26,388 workflow INFO:\n",
        "\t Executing node MaskRawData.a0 in dir: /home/oesteban/workspace/RegSeg/Data/ModelGeneration/Model_Process/_model_id_Model1/MaskRawData\n"
       ]
      },
      {
       "output_type": "stream",
       "stream": "stdout",
       "text": [
        "130110-13:58:26,400 workflow INFO:\n",
        "\t Running: mri_mask /home/oesteban/workspace/RegSeg/Data/ModelGeneration/Model_Process/_model_id_Model1/InsertB0/signal_b0_merged.nii.gz /home/oesteban/workspace/RegSeg/Data/ModelGeneration/Model1/signal_mask.nii.gz /home/oesteban/workspace/RegSeg/Data/ModelGeneration/Model_Process/_model_id_Model1/MaskRawData/signal_b0_merged_masked.nii.gz\n"
       ]
      },
      {
       "output_type": "stream",
       "stream": "stdout",
       "text": [
        "130110-13:58:26,492 interface INFO:\n",
        "\t stderr 2013-01-10T13:58:26.492282:WARNING: neither NIfTI-1 qform or sform are valid\n"
       ]
      },
      {
       "output_type": "stream",
       "stream": "stdout",
       "text": [
        "130110-13:58:26,492 interface INFO:\n",
        "\t stderr 2013-01-10T13:58:26.492282:WARNING: your volume will probably be incorrectly oriented\n"
       ]
      },
      {
       "output_type": "stream",
       "stream": "stdout",
       "text": [
        "130110-13:58:28,338 interface INFO:\n",
        "\t stderr 2013-01-10T13:58:28.338062:WARNING: neither NIfTI-1 qform or sform are valid\n"
       ]
      },
      {
       "output_type": "stream",
       "stream": "stdout",
       "text": [
        "130110-13:58:28,338 interface INFO:\n",
        "\t stderr 2013-01-10T13:58:28.338062:WARNING: your volume will probably be incorrectly oriented\n"
       ]
      },
      {
       "output_type": "stream",
       "stream": "stdout",
       "text": [
        "130110-13:58:30,377 interface INFO:\n",
        "\t stdout 2013-01-10T13:58:30.376954:niiRead(): NIFTI_UNITS_UNKNOWN, assuming mm\n"
       ]
      },
      {
       "output_type": "stream",
       "stream": "stdout",
       "text": [
        "130110-13:58:30,377 interface INFO:\n",
        "\t stdout 2013-01-10T13:58:30.376954:DoAbs = 0\n"
       ]
      },
      {
       "output_type": "stream",
       "stream": "stdout",
       "text": [
        "130110-13:58:30,377 interface INFO:\n",
        "\t stdout 2013-01-10T13:58:30.376954:Found 1030301 voxels in mask\n"
       ]
      },
      {
       "output_type": "stream",
       "stream": "stdout",
       "text": [
        "130110-13:58:30,377 interface INFO:\n",
        "\t stdout 2013-01-10T13:58:30.376954:Writing masked volume to /home/oesteban/workspace/RegSeg/Data/ModelGeneration/Model_Process/_model_id_Model1/MaskRawData/signal_b0_merged_masked.nii.gz...done.\n"
       ]
      },
      {
       "output_type": "stream",
       "stream": "stdout",
       "text": [
        "130110-13:58:30,400 workflow INFO:\n",
        "\t Executing node TensorFitting.a0 in dir: /home/oesteban/workspace/RegSeg/Data/ModelGeneration/Model_Process/_model_id_Model1/TensorFitting\n"
       ]
      },
      {
       "output_type": "stream",
       "stream": "stdout",
       "text": [
        "130110-13:58:30,405 workflow INFO:\n",
        "\t Running: dtifit -k /home/oesteban/workspace/RegSeg/Data/ModelGeneration/Model_Process/_model_id_Model1/MaskRawData/signal_b0_merged_masked.nii.gz -o dtifit_ -m /home/oesteban/workspace/RegSeg/Data/ModelGeneration/Model1/signal_mask.nii.gz -r /home/oesteban/workspace/RegSeg/Data/ModelGeneration/Model1/signal.bvec -b /home/oesteban/workspace/RegSeg/Data/ModelGeneration/Model1/signal.bval\n"
       ]
      },
      {
       "output_type": "stream",
       "stream": "stdout",
       "text": [
        "130110-13:58:30,411 interface INFO:\n",
        "\t stdout 2013-01-10T13:58:30.411321:4.1.9\n"
       ]
      },
      {
       "output_type": "stream",
       "stream": "stdout",
       "text": [
        "130110-13:58:31,21 interface INFO:\n",
        "\t stdout 2013-01-10T13:58:31.021606:0 101 0 101 0 101\n"
       ]
      },
      {
       "output_type": "stream",
       "stream": "stdout",
       "text": [
        "130110-13:58:31,48 interface INFO:\n",
        "\t stdout 2013-01-10T13:58:31.048473:0 slices processed\n"
       ]
      },
      {
       "output_type": "stream",
       "stream": "stdout",
       "text": [
        "130110-13:58:31,48 interface INFO:\n",
        "\t stdout 2013-01-10T13:58:31.048473:1 slices processed\n"
       ]
      },
      {
       "output_type": "stream",
       "stream": "stdout",
       "text": [
        "130110-13:58:31,49 interface INFO:\n",
        "\t stdout 2013-01-10T13:58:31.049225:2 slices processed\n"
       ]
      },
      {
       "output_type": "stream",
       "stream": "stdout",
       "text": [
        "130110-13:58:31,49 interface INFO:\n",
        "\t stdout 2013-01-10T13:58:31.049225:3 slices processed\n"
       ]
      },
      {
       "output_type": "stream",
       "stream": "stdout",
       "text": [
        "130110-13:58:31,49 interface INFO:\n",
        "\t stdout 2013-01-10T13:58:31.049225:4 slices processed\n"
       ]
      },
      {
       "output_type": "stream",
       "stream": "stdout",
       "text": [
        "130110-13:58:31,50 interface INFO:\n",
        "\t stdout 2013-01-10T13:58:31.049225:5 slices processed\n"
       ]
      },
      {
       "output_type": "stream",
       "stream": "stdout",
       "text": [
        "130110-13:58:31,50 interface INFO:\n",
        "\t stdout 2013-01-10T13:58:31.049225:6 slices processed\n"
       ]
      },
      {
       "output_type": "stream",
       "stream": "stdout",
       "text": [
        "130110-13:58:31,50 interface INFO:\n",
        "\t stdout 2013-01-10T13:58:31.049225:7 slices processed\n"
       ]
      },
      {
       "output_type": "stream",
       "stream": "stdout",
       "text": [
        "130110-13:58:31,51 interface INFO:\n",
        "\t stdout 2013-01-10T13:58:31.049225:8 slices processed\n"
       ]
      },
      {
       "output_type": "stream",
       "stream": "stdout",
       "text": [
        "130110-13:58:31,51 interface INFO:\n",
        "\t stdout 2013-01-10T13:58:31.049225:9 slices processed\n"
       ]
      },
      {
       "output_type": "stream",
       "stream": "stdout",
       "text": [
        "130110-13:58:31,51 interface INFO:\n",
        "\t stdout 2013-01-10T13:58:31.049225:10 slices processed\n"
       ]
      },
      {
       "output_type": "stream",
       "stream": "stdout",
       "text": [
        "130110-13:58:31,51 interface INFO:\n",
        "\t stdout 2013-01-10T13:58:31.049225:11 slices processed\n"
       ]
      },
      {
       "output_type": "stream",
       "stream": "stdout",
       "text": [
        "130110-13:58:31,52 interface INFO:\n",
        "\t stdout 2013-01-10T13:58:31.049225:12 slices processed\n"
       ]
      },
      {
       "output_type": "stream",
       "stream": "stdout",
       "text": [
        "130110-13:58:31,52 interface INFO:\n",
        "\t stdout 2013-01-10T13:58:31.052595:13 slices processed\n"
       ]
      },
      {
       "output_type": "stream",
       "stream": "stdout",
       "text": [
        "130110-13:58:31,57 interface INFO:\n",
        "\t stdout 2013-01-10T13:58:31.057417:14 slices processed\n"
       ]
      },
      {
       "output_type": "stream",
       "stream": "stdout",
       "text": [
        "130110-13:58:31,65 interface INFO:\n",
        "\t stdout 2013-01-10T13:58:31.065062:15 slices processed\n"
       ]
      },
      {
       "output_type": "stream",
       "stream": "stdout",
       "text": [
        "130110-13:58:31,74 interface INFO:\n",
        "\t stdout 2013-01-10T13:58:31.074416:16 slices processed\n"
       ]
      },
      {
       "output_type": "stream",
       "stream": "stdout",
       "text": [
        "130110-13:58:31,85 interface INFO:\n",
        "\t stdout 2013-01-10T13:58:31.085581:17 slices processed\n"
       ]
      },
      {
       "output_type": "stream",
       "stream": "stdout",
       "text": [
        "130110-13:58:31,98 interface INFO:\n",
        "\t stdout 2013-01-10T13:58:31.098086:18 slices processed\n"
       ]
      },
      {
       "output_type": "stream",
       "stream": "stdout",
       "text": [
        "130110-13:58:31,112 interface INFO:\n",
        "\t stdout 2013-01-10T13:58:31.112903:19 slices processed\n"
       ]
      },
      {
       "output_type": "stream",
       "stream": "stdout",
       "text": [
        "130110-13:58:31,129 interface INFO:\n",
        "\t stdout 2013-01-10T13:58:31.129414:20 slices processed\n"
       ]
      },
      {
       "output_type": "stream",
       "stream": "stdout",
       "text": [
        "130110-13:58:31,147 interface INFO:\n",
        "\t stdout 2013-01-10T13:58:31.147536:21 slices processed\n"
       ]
      },
      {
       "output_type": "stream",
       "stream": "stdout",
       "text": [
        "130110-13:58:31,168 interface INFO:\n",
        "\t stdout 2013-01-10T13:58:31.168371:22 slices processed\n"
       ]
      },
      {
       "output_type": "stream",
       "stream": "stdout",
       "text": [
        "130110-13:58:31,190 interface INFO:\n",
        "\t stdout 2013-01-10T13:58:31.190582:23 slices processed\n"
       ]
      },
      {
       "output_type": "stream",
       "stream": "stdout",
       "text": [
        "130110-13:58:31,213 interface INFO:\n",
        "\t stdout 2013-01-10T13:58:31.213508:24 slices processed\n"
       ]
      },
      {
       "output_type": "stream",
       "stream": "stdout",
       "text": [
        "130110-13:58:31,237 interface INFO:\n",
        "\t stdout 2013-01-10T13:58:31.237879:25 slices processed\n"
       ]
      },
      {
       "output_type": "stream",
       "stream": "stdout",
       "text": [
        "130110-13:58:31,264 interface INFO:\n",
        "\t stdout 2013-01-10T13:58:31.264055:26 slices processed\n"
       ]
      },
      {
       "output_type": "stream",
       "stream": "stdout",
       "text": [
        "130110-13:58:31,291 interface INFO:\n",
        "\t stdout 2013-01-10T13:58:31.291175:27 slices processed\n"
       ]
      },
      {
       "output_type": "stream",
       "stream": "stdout",
       "text": [
        "130110-13:58:31,320 interface INFO:\n",
        "\t stdout 2013-01-10T13:58:31.320535:28 slices processed\n"
       ]
      },
      {
       "output_type": "stream",
       "stream": "stdout",
       "text": [
        "130110-13:58:31,350 interface INFO:\n",
        "\t stdout 2013-01-10T13:58:31.350449:29 slices processed\n"
       ]
      },
      {
       "output_type": "stream",
       "stream": "stdout",
       "text": [
        "130110-13:58:31,381 interface INFO:\n",
        "\t stdout 2013-01-10T13:58:31.381434:30 slices processed\n"
       ]
      },
      {
       "output_type": "stream",
       "stream": "stdout",
       "text": [
        "130110-13:58:31,413 interface INFO:\n",
        "\t stdout 2013-01-10T13:58:31.413558:31 slices processed\n"
       ]
      },
      {
       "output_type": "stream",
       "stream": "stdout",
       "text": [
        "130110-13:58:31,446 interface INFO:\n",
        "\t stdout 2013-01-10T13:58:31.446410:32 slices processed\n"
       ]
      },
      {
       "output_type": "stream",
       "stream": "stdout",
       "text": [
        "130110-13:58:31,480 interface INFO:\n",
        "\t stdout 2013-01-10T13:58:31.480609:33 slices processed\n"
       ]
      },
      {
       "output_type": "stream",
       "stream": "stdout",
       "text": [
        "130110-13:58:31,515 interface INFO:\n",
        "\t stdout 2013-01-10T13:58:31.515928:34 slices processed\n"
       ]
      },
      {
       "output_type": "stream",
       "stream": "stdout",
       "text": [
        "130110-13:58:31,551 interface INFO:\n",
        "\t stdout 2013-01-10T13:58:31.551542:35 slices processed\n"
       ]
      },
      {
       "output_type": "stream",
       "stream": "stdout",
       "text": [
        "130110-13:58:31,589 interface INFO:\n",
        "\t stdout 2013-01-10T13:58:31.589012:36 slices processed\n"
       ]
      },
      {
       "output_type": "stream",
       "stream": "stdout",
       "text": [
        "130110-13:58:31,626 interface INFO:\n",
        "\t stdout 2013-01-10T13:58:31.626550:37 slices processed\n"
       ]
      },
      {
       "output_type": "stream",
       "stream": "stdout",
       "text": [
        "130110-13:58:31,677 interface INFO:\n",
        "\t stdout 2013-01-10T13:58:31.677262:38 slices processed\n"
       ]
      },
      {
       "output_type": "stream",
       "stream": "stdout",
       "text": [
        "130110-13:58:31,716 interface INFO:\n",
        "\t stdout 2013-01-10T13:58:31.716376:39 slices processed\n"
       ]
      },
      {
       "output_type": "stream",
       "stream": "stdout",
       "text": [
        "130110-13:58:31,756 interface INFO:\n",
        "\t stdout 2013-01-10T13:58:31.756701:40 slices processed\n"
       ]
      },
      {
       "output_type": "stream",
       "stream": "stdout",
       "text": [
        "130110-13:58:31,798 interface INFO:\n",
        "\t stdout 2013-01-10T13:58:31.798596:41 slices processed\n"
       ]
      },
      {
       "output_type": "stream",
       "stream": "stdout",
       "text": [
        "130110-13:58:31,840 interface INFO:\n",
        "\t stdout 2013-01-10T13:58:31.840327:42 slices processed\n"
       ]
      },
      {
       "output_type": "stream",
       "stream": "stdout",
       "text": [
        "130110-13:58:31,882 interface INFO:\n",
        "\t stdout 2013-01-10T13:58:31.881965:43 slices processed\n"
       ]
      },
      {
       "output_type": "stream",
       "stream": "stdout",
       "text": [
        "130110-13:58:31,924 interface INFO:\n",
        "\t stdout 2013-01-10T13:58:31.924156:44 slices processed\n"
       ]
      },
      {
       "output_type": "stream",
       "stream": "stdout",
       "text": [
        "130110-13:58:31,965 interface INFO:\n",
        "\t stdout 2013-01-10T13:58:31.965856:45 slices processed\n"
       ]
      },
      {
       "output_type": "stream",
       "stream": "stdout",
       "text": [
        "130110-13:58:32,7 interface INFO:\n",
        "\t stdout 2013-01-10T13:58:32.007465:46 slices processed\n"
       ]
      },
      {
       "output_type": "stream",
       "stream": "stdout",
       "text": [
        "130110-13:58:32,49 interface INFO:\n",
        "\t stdout 2013-01-10T13:58:32.049272:47 slices processed\n"
       ]
      },
      {
       "output_type": "stream",
       "stream": "stdout",
       "text": [
        "130110-13:58:32,91 interface INFO:\n",
        "\t stdout 2013-01-10T13:58:32.091199:48 slices processed\n"
       ]
      },
      {
       "output_type": "stream",
       "stream": "stdout",
       "text": [
        "130110-13:58:32,133 interface INFO:\n",
        "\t stdout 2013-01-10T13:58:32.133160:49 slices processed\n"
       ]
      },
      {
       "output_type": "stream",
       "stream": "stdout",
       "text": [
        "130110-13:58:32,175 interface INFO:\n",
        "\t stdout 2013-01-10T13:58:32.175305:50 slices processed\n"
       ]
      },
      {
       "output_type": "stream",
       "stream": "stdout",
       "text": [
        "130110-13:58:32,217 interface INFO:\n",
        "\t stdout 2013-01-10T13:58:32.217373:51 slices processed\n"
       ]
      },
      {
       "output_type": "stream",
       "stream": "stdout",
       "text": [
        "130110-13:58:32,260 interface INFO:\n",
        "\t stdout 2013-01-10T13:58:32.260104:52 slices processed\n"
       ]
      },
      {
       "output_type": "stream",
       "stream": "stdout",
       "text": [
        "130110-13:58:32,303 interface INFO:\n",
        "\t stdout 2013-01-10T13:58:32.303460:53 slices processed\n"
       ]
      },
      {
       "output_type": "stream",
       "stream": "stdout",
       "text": [
        "130110-13:58:32,347 interface INFO:\n",
        "\t stdout 2013-01-10T13:58:32.347558:54 slices processed\n"
       ]
      },
      {
       "output_type": "stream",
       "stream": "stdout",
       "text": [
        "130110-13:58:32,390 interface INFO:\n",
        "\t stdout 2013-01-10T13:58:32.390554:55 slices processed\n"
       ]
      },
      {
       "output_type": "stream",
       "stream": "stdout",
       "text": [
        "130110-13:58:32,432 interface INFO:\n",
        "\t stdout 2013-01-10T13:58:32.432740:56 slices processed\n"
       ]
      },
      {
       "output_type": "stream",
       "stream": "stdout",
       "text": [
        "130110-13:58:32,475 interface INFO:\n",
        "\t stdout 2013-01-10T13:58:32.474981:57 slices processed\n"
       ]
      },
      {
       "output_type": "stream",
       "stream": "stdout",
       "text": [
        "130110-13:58:32,517 interface INFO:\n",
        "\t stdout 2013-01-10T13:58:32.516955:58 slices processed\n"
       ]
      },
      {
       "output_type": "stream",
       "stream": "stdout",
       "text": [
        "130110-13:58:32,558 interface INFO:\n",
        "\t stdout 2013-01-10T13:58:32.558625:59 slices processed\n"
       ]
      },
      {
       "output_type": "stream",
       "stream": "stdout",
       "text": [
        "130110-13:58:32,599 interface INFO:\n",
        "\t stdout 2013-01-10T13:58:32.599521:60 slices processed\n"
       ]
      },
      {
       "output_type": "stream",
       "stream": "stdout",
       "text": [
        "130110-13:58:32,639 interface INFO:\n",
        "\t stdout 2013-01-10T13:58:32.639494:61 slices processed\n"
       ]
      },
      {
       "output_type": "stream",
       "stream": "stdout",
       "text": [
        "130110-13:58:32,680 interface INFO:\n",
        "\t stdout 2013-01-10T13:58:32.680379:62 slices processed\n"
       ]
      },
      {
       "output_type": "stream",
       "stream": "stdout",
       "text": [
        "130110-13:58:32,721 interface INFO:\n",
        "\t stdout 2013-01-10T13:58:32.721572:63 slices processed\n"
       ]
      },
      {
       "output_type": "stream",
       "stream": "stdout",
       "text": [
        "130110-13:58:32,761 interface INFO:\n",
        "\t stdout 2013-01-10T13:58:32.761691:64 slices processed\n"
       ]
      },
      {
       "output_type": "stream",
       "stream": "stdout",
       "text": [
        "130110-13:58:32,799 interface INFO:\n",
        "\t stdout 2013-01-10T13:58:32.799518:65 slices processed\n"
       ]
      },
      {
       "output_type": "stream",
       "stream": "stdout",
       "text": [
        "130110-13:58:32,836 interface INFO:\n",
        "\t stdout 2013-01-10T13:58:32.836335:66 slices processed\n"
       ]
      },
      {
       "output_type": "stream",
       "stream": "stdout",
       "text": [
        "130110-13:58:32,872 interface INFO:\n",
        "\t stdout 2013-01-10T13:58:32.872313:67 slices processed\n"
       ]
      },
      {
       "output_type": "stream",
       "stream": "stdout",
       "text": [
        "130110-13:58:32,907 interface INFO:\n",
        "\t stdout 2013-01-10T13:58:32.907447:68 slices processed\n"
       ]
      },
      {
       "output_type": "stream",
       "stream": "stdout",
       "text": [
        "130110-13:58:32,941 interface INFO:\n",
        "\t stdout 2013-01-10T13:58:32.941329:69 slices processed\n"
       ]
      },
      {
       "output_type": "stream",
       "stream": "stdout",
       "text": [
        "130110-13:58:32,974 interface INFO:\n",
        "\t stdout 2013-01-10T13:58:32.974407:70 slices processed\n"
       ]
      },
      {
       "output_type": "stream",
       "stream": "stdout",
       "text": [
        "130110-13:58:33,6 interface INFO:\n",
        "\t stdout 2013-01-10T13:58:33.006374:71 slices processed\n"
       ]
      },
      {
       "output_type": "stream",
       "stream": "stdout",
       "text": [
        "130110-13:58:33,37 interface INFO:\n",
        "\t stdout 2013-01-10T13:58:33.037174:72 slices processed\n"
       ]
      },
      {
       "output_type": "stream",
       "stream": "stdout",
       "text": [
        "130110-13:58:33,66 interface INFO:\n",
        "\t stdout 2013-01-10T13:58:33.066936:73 slices processed\n"
       ]
      },
      {
       "output_type": "stream",
       "stream": "stdout",
       "text": [
        "130110-13:58:33,95 interface INFO:\n",
        "\t stdout 2013-01-10T13:58:33.095692:74 slices processed\n"
       ]
      },
      {
       "output_type": "stream",
       "stream": "stdout",
       "text": [
        "130110-13:58:33,123 interface INFO:\n",
        "\t stdout 2013-01-10T13:58:33.123221:75 slices processed\n"
       ]
      },
      {
       "output_type": "stream",
       "stream": "stdout",
       "text": [
        "130110-13:58:33,149 interface INFO:\n",
        "\t stdout 2013-01-10T13:58:33.149069:76 slices processed\n"
       ]
      },
      {
       "output_type": "stream",
       "stream": "stdout",
       "text": [
        "130110-13:58:33,172 interface INFO:\n",
        "\t stdout 2013-01-10T13:58:33.172901:77 slices processed\n"
       ]
      },
      {
       "output_type": "stream",
       "stream": "stdout",
       "text": [
        "130110-13:58:33,196 interface INFO:\n",
        "\t stdout 2013-01-10T13:58:33.196290:78 slices processed\n"
       ]
      },
      {
       "output_type": "stream",
       "stream": "stdout",
       "text": [
        "130110-13:58:33,217 interface INFO:\n",
        "\t stdout 2013-01-10T13:58:33.217182:79 slices processed\n"
       ]
      },
      {
       "output_type": "stream",
       "stream": "stdout",
       "text": [
        "130110-13:58:33,237 interface INFO:\n",
        "\t stdout 2013-01-10T13:58:33.237406:80 slices processed\n"
       ]
      },
      {
       "output_type": "stream",
       "stream": "stdout",
       "text": [
        "130110-13:58:33,255 interface INFO:\n",
        "\t stdout 2013-01-10T13:58:33.255333:81 slices processed\n"
       ]
      },
      {
       "output_type": "stream",
       "stream": "stdout",
       "text": [
        "130110-13:58:33,272 interface INFO:\n",
        "\t stdout 2013-01-10T13:58:33.272260:82 slices processed\n"
       ]
      },
      {
       "output_type": "stream",
       "stream": "stdout",
       "text": [
        "130110-13:58:33,286 interface INFO:\n",
        "\t stdout 2013-01-10T13:58:33.286563:83 slices processed\n"
       ]
      },
      {
       "output_type": "stream",
       "stream": "stdout",
       "text": [
        "130110-13:58:33,299 interface INFO:\n",
        "\t stdout 2013-01-10T13:58:33.299244:84 slices processed\n"
       ]
      },
      {
       "output_type": "stream",
       "stream": "stdout",
       "text": [
        "130110-13:58:33,310 interface INFO:\n",
        "\t stdout 2013-01-10T13:58:33.310141:85 slices processed\n"
       ]
      },
      {
       "output_type": "stream",
       "stream": "stdout",
       "text": [
        "130110-13:58:33,319 interface INFO:\n",
        "\t stdout 2013-01-10T13:58:33.319387:86 slices processed\n"
       ]
      },
      {
       "output_type": "stream",
       "stream": "stdout",
       "text": [
        "130110-13:58:33,326 interface INFO:\n",
        "\t stdout 2013-01-10T13:58:33.326324:87 slices processed\n"
       ]
      },
      {
       "output_type": "stream",
       "stream": "stdout",
       "text": [
        "130110-13:58:33,331 interface INFO:\n",
        "\t stdout 2013-01-10T13:58:33.331390:88 slices processed\n"
       ]
      },
      {
       "output_type": "stream",
       "stream": "stdout",
       "text": [
        "130110-13:58:33,334 interface INFO:\n",
        "\t stdout 2013-01-10T13:58:33.334319:89 slices processed\n"
       ]
      },
      {
       "output_type": "stream",
       "stream": "stdout",
       "text": [
        "130110-13:58:33,334 interface INFO:\n",
        "\t stdout 2013-01-10T13:58:33.334588:90 slices processed\n"
       ]
      },
      {
       "output_type": "stream",
       "stream": "stdout",
       "text": [
        "130110-13:58:33,334 interface INFO:\n",
        "\t stdout 2013-01-10T13:58:33.334588:91 slices processed\n"
       ]
      },
      {
       "output_type": "stream",
       "stream": "stdout",
       "text": [
        "130110-13:58:33,335 interface INFO:\n",
        "\t stdout 2013-01-10T13:58:33.334588:92 slices processed\n"
       ]
      },
      {
       "output_type": "stream",
       "stream": "stdout",
       "text": [
        "130110-13:58:33,335 interface INFO:\n",
        "\t stdout 2013-01-10T13:58:33.334588:93 slices processed\n"
       ]
      },
      {
       "output_type": "stream",
       "stream": "stdout",
       "text": [
        "130110-13:58:33,335 interface INFO:\n",
        "\t stdout 2013-01-10T13:58:33.334588:94 slices processed\n"
       ]
      },
      {
       "output_type": "stream",
       "stream": "stdout",
       "text": [
        "130110-13:58:33,336 interface INFO:\n",
        "\t stdout 2013-01-10T13:58:33.334588:95 slices processed\n"
       ]
      },
      {
       "output_type": "stream",
       "stream": "stdout",
       "text": [
        "130110-13:58:33,336 interface INFO:\n",
        "\t stdout 2013-01-10T13:58:33.334588:96 slices processed\n"
       ]
      },
      {
       "output_type": "stream",
       "stream": "stdout",
       "text": [
        "130110-13:58:33,336 interface INFO:\n",
        "\t stdout 2013-01-10T13:58:33.334588:97 slices processed\n"
       ]
      },
      {
       "output_type": "stream",
       "stream": "stdout",
       "text": [
        "130110-13:58:33,336 interface INFO:\n",
        "\t stdout 2013-01-10T13:58:33.336977:98 slices processed\n"
       ]
      },
      {
       "output_type": "stream",
       "stream": "stdout",
       "text": [
        "130110-13:58:33,337 interface INFO:\n",
        "\t stdout 2013-01-10T13:58:33.336977:99 slices processed\n"
       ]
      },
      {
       "output_type": "stream",
       "stream": "stdout",
       "text": [
        "130110-13:58:33,337 interface INFO:\n",
        "\t stdout 2013-01-10T13:58:33.336977:100 slices processed\n"
       ]
      },
      {
       "output_type": "stream",
       "stream": "stdout",
       "text": [
        "130110-13:58:34,214 interface INFO:\n",
        "\t stdout 2013-01-10T13:58:34.214301:4.1.9\n"
       ]
      },
      {
       "output_type": "stream",
       "stream": "stdout",
       "text": [
        "130110-13:58:34,238 workflow INFO:\n",
        "\t Executing node sinker.a0 in dir: /home/oesteban/workspace/RegSeg/Data/ModelGeneration/Model_Process/_model_id_Model1/sinker\n"
       ]
      },
      {
       "output_type": "pyout",
       "prompt_number": 10,
       "text": [
        "<networkx.classes.digraph.DiGraph at 0x30a4190>"
       ]
      }
     ],
     "prompt_number": 10
    },
    {
     "cell_type": "markdown",
     "metadata": {},
     "source": [
      "<h2>FA, MD Parameters</h2>"
     ]
    },
    {
     "cell_type": "code",
     "collapsed": false,
     "input": [
      "fa = nib.load( os.path.join( model_path, 'ref_FA.nii.gz') ).get_data().reshape(-1)\n",
      "md = nib.load( os.path.join( model_path, 'ref_MD.nii.gz') ).get_data().reshape(-1)\n",
      "model = nib.load( os.path.join( model_path, 'model.nii.gz') ).get_data().reshape(-1,3)\n",
      "feature = np.rollaxis( np.array([ fa, md ]), 0, 2)\n",
      "feature = [ tuple(row) for row in feature ]"
     ],
     "language": "python",
     "metadata": {},
     "outputs": [],
     "prompt_number": 15
    },
    {
     "cell_type": "code",
     "collapsed": false,
     "input": [
      "for i in range(0, np.shape( model )[-1] ):\n",
      "    data = [ fa[model[:,i]>0], md[model[:,i]>0] ]\n",
      "    data = np.rollaxis( np.array(data), 0,2)\n",
      "    #data = np[ tuple(row) for row in data ]\n",
      "    print np.mean( data, 0 )\n",
      "    print np.cov( data.T )"
     ],
     "language": "python",
     "metadata": {},
     "outputs": [
      {
       "output_type": "stream",
       "stream": "stdout",
       "text": [
        "[ 0.64670396  0.00073318]\n",
        "[[  3.91611155e-02  -1.63608420e-05]\n",
        " [ -1.63608420e-05   1.32845270e-08]]"
       ]
      },
      {
       "output_type": "stream",
       "stream": "stdout",
       "text": [
        "\n",
        "[ 0.23230195  0.00101365]"
       ]
      },
      {
       "output_type": "stream",
       "stream": "stdout",
       "text": [
        "\n",
        "[[  4.65453949e-02  -4.02512216e-05]\n",
        " [ -4.02512216e-05   1.67938750e-07]]"
       ]
      },
      {
       "output_type": "stream",
       "stream": "stdout",
       "text": [
        "\n",
        "[ 0.09416698  0.0020605 ]"
       ]
      },
      {
       "output_type": "stream",
       "stream": "stdout",
       "text": [
        "\n",
        "[[  9.78276839e-04   8.33897655e-07]\n",
        " [  8.33897655e-07   7.37639485e-07]]\n"
       ]
      }
     ],
     "prompt_number": 16
    },
    {
     "cell_type": "raw",
     "metadata": {},
     "source": [
      "import nibabel as nib\n",
      "import numpy as np\n",
      "from tvtk.api import tvtk\n",
      "import os\n",
      "fa = nib.load( os.path.join( os.path.abspath('Model1') , 'dtifit__FA.nii.gz') ).get_data()\n",
      "grid = tvtk.ImageData(spacing=(1,1,1), origin=(0,0,0))\n",
      "grid.point_data.scalars = fa.T.ravel() # It wants fortran order???\n",
      "grid.point_data.scalars.name = 'scalars'\n",
      "grid.dimensions = fa.shape\n",
      "w = tvtk.PolyDataWriter(input=grid, file_name=os.path.join( os.path.abspath('Model1') , 'dtifit__FA.vtk' ) )\n",
      "w.write()"
     ]
    },
    {
     "cell_type": "markdown",
     "metadata": {},
     "source": [
      "<h2>Other DTI fitting methods</h2>"
     ]
    },
    {
     "cell_type": "code",
     "collapsed": false,
     "input": [
      "def get_vox_dims(volume):\n",
      "    import nibabel as nb\n",
      "    if isinstance(volume, list):\n",
      "        volume = volume[0]\n",
      "    nii = nb.load(volume)\n",
      "    hdr = nii.get_header()\n",
      "    voxdims = hdr.get_zooms()\n",
      "    return [float(voxdims[0]), float(voxdims[1]), float(voxdims[2])]\n",
      "\n",
      "def get_data_dims(volume):\n",
      "    import nibabel as nb\n",
      "    if isinstance(volume, list):\n",
      "        volume = volume[0]\n",
      "    nii = nb.load(volume)\n",
      "    hdr = nii.get_header()\n",
      "    datadims = hdr.get_data_shape()\n",
      "    return [int(datadims[0]), int(datadims[1]), int(datadims[2])]\n",
      "\n",
      "def get_affine(volume):\n",
      "    import nibabel as nb\n",
      "    nii = nb.load(volume)\n",
      "    return nii.get_affine()\n",
      "\n",
      "# compute the diffusion tensor in each voxel\n",
      "image2voxel = pe.Node(interface=camino.Image2Voxel(out_type='double'), name=\"image2voxel\")\n",
      "fsl2scheme = pe.Node(interface=camino.FSL2Scheme(), name=\"fsl2scheme\")\n",
      "fsl2scheme.inputs.usegradmod = True\n",
      "dtifit = pe.Node(interface=camino.DTIFit(),name='TensorFitting')\n",
      "dtlutgen = pe.Node(interface=camino.DTLUTGen(), name=\"dtlutgen\")\n",
      "dtlutgen.inputs.snr = 16.0\n",
      "dtlutgen.inputs.inversion = 1\n",
      "\n",
      "fa = pe.Node(interface=camino.ComputeFractionalAnisotropy(),name='fa')\n",
      "analyzeheader_fa = pe.Node(interface= camino.AnalyzeHeader(), name = \"analyzeheader_fa\")\n",
      "analyzeheader_fa.inputs.datatype = \"double\"\n",
      "analyzeheader_trace = analyzeheader_fa.clone('analyzeheader_trace')\n",
      "fa2nii = pe.Node(interface=misc.CreateNifti(),name='fa2nii')\n",
      "\n",
      "# connect nodes\n",
      "pipeline.connect([\n",
      "                         (infosource, datasource, [( 'model_id', 'model_id' ) ])\n",
      "                        ,(datasource,combineB0, [ ('b0','in1'),('dwi','in2') ] )\n",
      "                        ,(combineB0,insertB0, [( 'out','in_files') ] )\n",
      "                        ,(datasource,fsmask, [('mask','mask_file') ])\n",
      "                        ,(insertB0, fsmask, [( 'merged_file', 'in_file' )] )\n",
      "                        ,(datasource,bdatafind,[ ( ('dwi',dwifinder,'bvec'), 'in_bvec'), ( ('dwi', dwifinder, 'bval') ,'in_bval') ])\n",
      "                        \n",
      "                        ,(fsmask, image2voxel, [('out_file', 'in_file')])\n",
      "                        ,(bdatafind, fsl2scheme, [('in_bvec', 'bvec_file'), ('in_bval', 'bval_file')])\n",
      "                        ,(image2voxel, dtifit,[['voxel_order','in_file']])\n",
      "                        ,(fsl2scheme, dtifit,[['scheme','scheme_file']])\n",
      "                        ,(dtifit, fa,[(\"tensor_fitted\",\"in_file\")])\n",
      "                        ,(fa, analyzeheader_fa,[(\"fa\",\"in_file\")])\n",
      "                        ,(fsmask, analyzeheader_fa,[(('out_file', get_vox_dims), 'voxel_dims'),(('out_file', get_data_dims), 'data_dims')])\n",
      "                        ,(fa, fa2nii,[('fa','data_file')])\n",
      "                        ,(fsmask, fa2nii,[(('out_file', get_affine), 'affine')])\n",
      "                        ,(analyzeheader_fa, fa2nii,[('header', 'header_file')])\n",
      "                        \n",
      "                        #,(infosource, datasink, [( 'model_id', 'container' )])\n",
      "                        ,(fa2nii,datasink, [( 'nifti_file','@FA') ] )\n",
      "                        ,(fsmask,datasink, [( 'out_file','@dwi_raw' ) ])\n",
      "                      ])"
     ],
     "language": "python",
     "metadata": {},
     "outputs": []
    },
    {
     "cell_type": "code",
     "collapsed": false,
     "input": [
      "pipeline.run()"
     ],
     "language": "python",
     "metadata": {},
     "outputs": []
    },
    {
     "cell_type": "code",
     "collapsed": false,
     "input": [
      "mrtrix = pe.Workflow( name=\"MRTrix\" )\n",
      "\n",
      "inputnode = pe.Node( interface=util.IdentityInterface(fields=['DWI', 'bvecs', 'bvals' ]),\n",
      "                    name='inputnode' )\n",
      "outputnode = pe.Node( interface=util.IdentityInterface(fields=['FA', 'ADC']),\n",
      "                    name='outputnode' )\n",
      "#gunzip = pe.Node(interface=misc.Gunzip(), name='gunzip')\n",
      "fsl2mrtrix = pe.Node(interface=mrtrix.FSL2MRTrix(),name='fsl2mrtrix')\n",
      "dwi2tensor = pe.Node(interface=mrtrix.DWI2Tensor(),name='dwi2tensor')\n",
      "tensor2vector = pe.Node(interface=mrtrix.Tensor2Vector(),name='tensor2vector')\n",
      "tensor2adc = pe.Node(interface=mrtrix.Tensor2ApparentDiffusion(),name='tensor2adc')\n",
      "tensor2fa = pe.Node(interface=mrtrix.Tensor2FractionalAnisotropy(),name='tensor2fa')\n",
      "\n",
      "mrtrix.connect([\n",
      "                 (inputnode, dwi2tensor, [ ('DWI', 'in_file') ])\n",
      "                ,(inputnode, fsl2mrtrix, [ ('bvecs','bvec_file'),('bvals','bval_file')])\n",
      "                ,(fsl2mrtrix,dwi2tensor, [ (\"encoding_file\",\"encoding_file\") ] )\n",
      "                ,(dwi2tensor,tensor2vector, [ ('tensor','in_file') ] )\n",
      "                ,(dwi2tensor, tensor2adc,[ ('tensor','in_file') ] )\n",
      "                ,(dwi2tensor, tensor2fa, [ ('tensor','in_file') ] )\n",
      "                ,(tensor2fa, outputnode, [ ('FA','FA' ) ] )\n",
      "                ,(tensor2adc,outputnode, [ ('ADC', 'ADC' ) ])\n",
      "                ])"
     ],
     "language": "python",
     "metadata": {},
     "outputs": []
    },
    {
     "cell_type": "code",
     "collapsed": false,
     "input": [],
     "language": "python",
     "metadata": {},
     "outputs": []
    }
   ],
   "metadata": {}
  }
 ]
}