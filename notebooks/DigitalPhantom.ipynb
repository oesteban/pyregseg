{
 "metadata": {
  "name": "DigitalPhantom"
 },
 "nbformat": 3,
 "nbformat_minor": 0,
 "worksheets": [
  {
   "cells": [
    {
     "cell_type": "code",
     "collapsed": false,
     "input": [
      "import numpy as np\n",
      "import nibabel as nib\n",
      "from tvtk.api import tvtk\n",
      "import datetime as dt\n",
      "import os\n",
      "import os.path as op\n",
      "\n",
      "from scipy.ndimage import label\n",
      "\n",
      "import nipype.pipeline.engine as pe          # pypeline engine\n",
      "import nipype.interfaces.freesurfer as fs\n",
      "import nipype.interfaces.utility as niu\n",
      "import nipype.interfaces.io as nio\n",
      "\n",
      "import sys\n",
      "sys.path.append('/home/oesteban/workspace/ACWE-Reg/Scripts/utils')\n",
      "sys.path.append('/home/oesteban/workspace/ACWE-Reg/Scripts/workflows')\n",
      "\n",
      "\n",
      "import dmri as dmri\n",
      "import fsb_transform as fsbt"
     ],
     "language": "python",
     "metadata": {},
     "outputs": [],
     "prompt_number": 1
    },
    {
     "cell_type": "code",
     "collapsed": false,
     "input": [
      "root_dir='/home/oesteban/workspace/ACWE-Reg/'\n",
      "data_dir= op.join( root_dir, 'Data' )\n",
      "mname = 'DigitalPhantomISBI'\n",
      "model_dir = op.join( data_dir, mname )\n",
      "tpms_dir = op.join( root_dir, 'tpms' )\n",
      "\n",
      "working_dir= op.join( root_dir, 'temp', mname )\n",
      "\n",
      "if not op.exists( working_dir ):\n",
      "    os.makedirs( working_dir )"
     ],
     "language": "python",
     "metadata": {},
     "outputs": [],
     "prompt_number": 2
    },
    {
     "cell_type": "markdown",
     "metadata": {},
     "source": [
      "<h1>Distortion of dMRI using the inverse fieldmap technique</h1>\n",
      "Procedure:\n",
      "<ol>\n",
      "    <li>Create map with range [0..2&pi;]</li>\n",
      "    <li>Phase unwrap (prelude)</li>\n",
      "    <li>Convert to rad/sec</li>\n",
      "    <li>Subtract median</li>\n",
      "    <li>Create VSM (voxel shift map)</li>\n",
      "    <li>(Optional) Smooth VSM</li>\n",
      "    <li>(Optional) demean VSM</li>\n",
      "    <li>Distort image (apply forward map in fugue)</li>\n",
      "</ol>"
     ]
    },
    {
     "cell_type": "code",
     "collapsed": false,
     "input": [
      "te_incr = 2.46e-3 # secs\n",
      "dwell_time = 0.77e-3 # secs\n",
      "snr_list = [ 'no-noise', 'SNR-10', 'SNR-20', 'SNR-30' ]\n",
      "maskfile = op.join( model_dir, 'signal_mask.nii.gz' )\n",
      "#dwifile = op.join( model_dir, 'DWIS_dti-scheme_no-noise.nii.gz' )\n",
      "\n",
      "\n",
      "for snr in snr_list:\n",
      "    dwifile = op.join( model_dir, 'DWIS_dti-scheme_%s.nii.gz' % snr )\n",
      "    wf = dmri.distortion_workflow(name='SynthSuscept_%s' % snr )\n",
      "    wf.base_dir = working_dir\n",
      "    \n",
      "    wf.inputs.inputnode.in_file = dwifile\n",
      "    wf.inputs.inputnode.in_mask = maskfile\n",
      "    wf.inputs.inputnode.te_incr = te_incr\n",
      "    wf.inputs.inputnode.echospacing = dwell_time\n",
      "    \n",
      "    wf.run()"
     ],
     "language": "python",
     "metadata": {},
     "outputs": [
      {
       "output_type": "stream",
       "stream": "stdout",
       "text": [
        "130908-00:17:36,771 workflow INFO:\n",
        "\t ['check', 'execution', 'logging']\n"
       ]
      },
      {
       "output_type": "stream",
       "stream": "stdout",
       "text": [
        "130908-00:17:36,779 workflow INFO:\n",
        "\t Running serially.\n"
       ]
      },
      {
       "output_type": "stream",
       "stream": "stdout",
       "text": [
        "130908-00:17:36,779 workflow INFO:\n",
        "\t Executing node split_DWI in dir: /home/oesteban/workspace/ACWE-Reg/temp/DigitalPhantomISBI/SynthSuscept_no-noise/Fugue_WarpDWIs/split_DWI\n"
       ]
      },
      {
       "output_type": "stream",
       "stream": "stdout",
       "text": [
        "130908-00:17:36,780 workflow INFO:\n",
        "\t Collecting precomputed outputs\n"
       ]
      },
      {
       "output_type": "stream",
       "stream": "stdout",
       "text": [
        "130908-00:17:36,782 workflow INFO:\n",
        "\t Executing node gen_Mask in dir: /home/oesteban/workspace/ACWE-Reg/temp/DigitalPhantomISBI/SynthSuscept_no-noise/gen_Mask\n"
       ]
      },
      {
       "output_type": "stream",
       "stream": "stdout",
       "text": [
        "130908-00:17:36,783 workflow INFO:\n",
        "\t Collecting precomputed outputs\n"
       ]
      },
      {
       "output_type": "stream",
       "stream": "stdout",
       "text": [
        "130908-00:17:36,784 workflow INFO:\n",
        "\t Executing node gen_PhaseDiffMap in dir: /home/oesteban/workspace/ACWE-Reg/temp/DigitalPhantomISBI/SynthSuscept_no-noise/gen_PhaseDiffMap\n"
       ]
      },
      {
       "output_type": "stream",
       "stream": "stdout",
       "text": [
        "130908-00:17:36,785 workflow INFO:\n",
        "\t Collecting precomputed outputs\n"
       ]
      },
      {
       "output_type": "stream",
       "stream": "stdout",
       "text": [
        "130908-00:17:36,787 workflow INFO:\n",
        "\t Executing node PhaseUnwrap in dir: /home/oesteban/workspace/ACWE-Reg/temp/DigitalPhantomISBI/SynthSuscept_no-noise/PhaseUnwrap\n"
       ]
      },
      {
       "output_type": "stream",
       "stream": "stdout",
       "text": [
        "130908-00:17:36,788 workflow INFO:\n",
        "\t Collecting precomputed outputs\n"
       ]
      },
      {
       "output_type": "stream",
       "stream": "stdout",
       "text": [
        "130908-00:17:36,791 workflow INFO:\n",
        "\t Executing node PhaseRadSec in dir: /home/oesteban/workspace/ACWE-Reg/temp/DigitalPhantomISBI/SynthSuscept_no-noise/PhaseRadSec\n"
       ]
      },
      {
       "output_type": "stream",
       "stream": "stdout",
       "text": [
        "130908-00:17:36,791 workflow INFO:\n",
        "\t Collecting precomputed outputs\n"
       ]
      },
      {
       "output_type": "stream",
       "stream": "stdout",
       "text": [
        "130908-00:17:36,795 workflow INFO:\n",
        "\t Executing node gen_VSM in dir: /home/oesteban/workspace/ACWE-Reg/temp/DigitalPhantomISBI/SynthSuscept_no-noise/gen_VSM\n"
       ]
      },
      {
       "output_type": "stream",
       "stream": "stdout",
       "text": [
        "130908-00:17:36,796 workflow INFO:\n",
        "\t Collecting precomputed outputs\n"
       ]
      },
      {
       "output_type": "stream",
       "stream": "stdout",
       "text": [
        "130908-00:17:36,802 workflow INFO:\n",
        "\t Executing node demean in dir: /home/oesteban/workspace/ACWE-Reg/temp/DigitalPhantomISBI/SynthSuscept_no-noise/demean\n"
       ]
      },
      {
       "output_type": "stream",
       "stream": "stdout",
       "text": [
        "130908-00:17:36,803 workflow INFO:\n",
        "\t Collecting precomputed outputs\n"
       ]
      },
      {
       "output_type": "stream",
       "stream": "stdout",
       "text": [
        "130908-00:17:36,808 workflow INFO:\n",
        "\t Executing node Fugue_WarpMask in dir: /home/oesteban/workspace/ACWE-Reg/temp/DigitalPhantomISBI/SynthSuscept_no-noise/Fugue_WarpMask\n"
       ]
      },
      {
       "output_type": "stream",
       "stream": "stdout",
       "text": [
        "130908-00:17:36,808 workflow INFO:\n",
        "\t Collecting precomputed outputs\n"
       ]
      },
      {
       "output_type": "stream",
       "stream": "stdout",
       "text": [
        "130908-00:17:36,811 workflow INFO:\n",
        "\t Executing node binarize in dir: /home/oesteban/workspace/ACWE-Reg/temp/DigitalPhantomISBI/SynthSuscept_no-noise/binarize\n"
       ]
      },
      {
       "output_type": "stream",
       "stream": "stdout",
       "text": [
        "130908-00:17:36,812 workflow INFO:\n",
        "\t Collecting precomputed outputs\n"
       ]
      },
      {
       "output_type": "stream",
       "stream": "stdout",
       "text": [
        "130908-00:17:36,817 workflow INFO:\n",
        "\t Executing node Fugue_Warp in dir: /home/oesteban/workspace/ACWE-Reg/temp/DigitalPhantomISBI/SynthSuscept_no-noise/Fugue_WarpDWIs/Fugue_Warp\n"
       ]
      },
      {
       "output_type": "stream",
       "stream": "stdout",
       "text": [
        "130908-00:17:36,847 workflow INFO:\n",
        "\t Executing node merge_DWI in dir: /home/oesteban/workspace/ACWE-Reg/temp/DigitalPhantomISBI/SynthSuscept_no-noise/Fugue_WarpDWIs/merge_DWI\n"
       ]
      },
      {
       "output_type": "stream",
       "stream": "stdout",
       "text": [
        "130908-00:17:36,848 workflow INFO:\n",
        "\t Collecting precomputed outputs\n"
       ]
      },
      {
       "output_type": "stream",
       "stream": "stderr",
       "text": [
        "/home/oesteban/workspace/nipype/nipype/interfaces/fsl/preprocess.py:1407: UserWarning: This has not been fully tested. Please report any failures.\n",
        "  warn('This has not been fully tested. Please report any failures.')\n",
        "/home/oesteban/workspace/nipype/nipype/interfaces/fsl/preprocess.py:1286: UserWarning: This interface has not been fully tested. Please report any failures.\n",
        "  'This interface has not been fully tested. Please report any failures.')\n",
        "/home/oesteban/workspace/nipype/nipype/interfaces/fsl/preprocess.py:1286: UserWarning: This interface has not been fully tested. Please report any failures.\n",
        "  'This interface has not been fully tested. Please report any failures.')\n",
        "/home/oesteban/workspace/nipype/nipype/interfaces/fsl/preprocess.py:1286: UserWarning: This interface has not been fully tested. Please report any failures.\n",
        "  'This interface has not been fully tested. Please report any failures.')\n",
        "/home/oesteban/workspace/nipype/nipype/interfaces/fsl/preprocess.py:1407: UserWarning: This has not been fully tested. Please report any failures.\n",
        "  warn('This has not been fully tested. Please report any failures.')\n"
       ]
      },
      {
       "output_type": "stream",
       "stream": "stdout",
       "text": [
        "130908-00:17:36,918 workflow INFO:\n",
        "\t ['check', 'execution', 'logging']\n"
       ]
      },
      {
       "output_type": "stream",
       "stream": "stdout",
       "text": [
        "130908-00:17:36,926 workflow INFO:\n",
        "\t Running serially.\n"
       ]
      },
      {
       "output_type": "stream",
       "stream": "stdout",
       "text": [
        "130908-00:17:36,926 workflow INFO:\n",
        "\t Executing node split_DWI in dir: /home/oesteban/workspace/ACWE-Reg/temp/DigitalPhantomISBI/SynthSuscept_SNR-10/Fugue_WarpDWIs/split_DWI\n"
       ]
      },
      {
       "output_type": "stream",
       "stream": "stdout",
       "text": [
        "130908-00:17:36,927 workflow INFO:\n",
        "\t Collecting precomputed outputs\n"
       ]
      },
      {
       "output_type": "stream",
       "stream": "stdout",
       "text": [
        "130908-00:17:36,929 workflow INFO:\n",
        "\t Executing node gen_PhaseDiffMap in dir: /home/oesteban/workspace/ACWE-Reg/temp/DigitalPhantomISBI/SynthSuscept_SNR-10/gen_PhaseDiffMap\n"
       ]
      },
      {
       "output_type": "stream",
       "stream": "stdout",
       "text": [
        "130908-00:17:36,929 workflow INFO:\n",
        "\t Collecting precomputed outputs\n"
       ]
      },
      {
       "output_type": "stream",
       "stream": "stdout",
       "text": [
        "130908-00:17:36,932 workflow INFO:\n",
        "\t Executing node PhaseUnwrap in dir: /home/oesteban/workspace/ACWE-Reg/temp/DigitalPhantomISBI/SynthSuscept_SNR-10/PhaseUnwrap\n"
       ]
      },
      {
       "output_type": "stream",
       "stream": "stdout",
       "text": [
        "130908-00:17:36,932 workflow INFO:\n",
        "\t Collecting precomputed outputs\n"
       ]
      },
      {
       "output_type": "stream",
       "stream": "stdout",
       "text": [
        "130908-00:17:36,935 workflow INFO:\n",
        "\t Executing node PhaseRadSec in dir: /home/oesteban/workspace/ACWE-Reg/temp/DigitalPhantomISBI/SynthSuscept_SNR-10/PhaseRadSec\n"
       ]
      },
      {
       "output_type": "stream",
       "stream": "stdout",
       "text": [
        "130908-00:17:36,936 workflow INFO:\n",
        "\t Collecting precomputed outputs\n"
       ]
      },
      {
       "output_type": "stream",
       "stream": "stdout",
       "text": [
        "130908-00:17:36,937 workflow INFO:\n",
        "\t Executing node gen_Mask in dir: /home/oesteban/workspace/ACWE-Reg/temp/DigitalPhantomISBI/SynthSuscept_SNR-10/gen_Mask\n"
       ]
      },
      {
       "output_type": "stream",
       "stream": "stdout",
       "text": [
        "130908-00:17:36,937 workflow INFO:\n",
        "\t Collecting precomputed outputs\n"
       ]
      },
      {
       "output_type": "stream",
       "stream": "stdout",
       "text": [
        "130908-00:17:36,941 workflow INFO:\n",
        "\t Executing node gen_VSM in dir: /home/oesteban/workspace/ACWE-Reg/temp/DigitalPhantomISBI/SynthSuscept_SNR-10/gen_VSM\n"
       ]
      },
      {
       "output_type": "stream",
       "stream": "stdout",
       "text": [
        "130908-00:17:36,942 workflow INFO:\n",
        "\t Collecting precomputed outputs\n"
       ]
      },
      {
       "output_type": "stream",
       "stream": "stdout",
       "text": [
        "130908-00:17:36,948 workflow INFO:\n",
        "\t Executing node demean in dir: /home/oesteban/workspace/ACWE-Reg/temp/DigitalPhantomISBI/SynthSuscept_SNR-10/demean\n"
       ]
      },
      {
       "output_type": "stream",
       "stream": "stdout",
       "text": [
        "130908-00:17:36,949 workflow INFO:\n",
        "\t Collecting precomputed outputs\n"
       ]
      },
      {
       "output_type": "stream",
       "stream": "stdout",
       "text": [
        "130908-00:17:36,955 workflow INFO:\n",
        "\t Executing node Fugue_Warp in dir: /home/oesteban/workspace/ACWE-Reg/temp/DigitalPhantomISBI/SynthSuscept_SNR-10/Fugue_WarpDWIs/Fugue_Warp\n"
       ]
      },
      {
       "output_type": "stream",
       "stream": "stdout",
       "text": [
        "130908-00:17:36,984 workflow INFO:\n",
        "\t Executing node merge_DWI in dir: /home/oesteban/workspace/ACWE-Reg/temp/DigitalPhantomISBI/SynthSuscept_SNR-10/Fugue_WarpDWIs/merge_DWI\n"
       ]
      },
      {
       "output_type": "stream",
       "stream": "stdout",
       "text": [
        "130908-00:17:36,985 workflow INFO:\n",
        "\t Collecting precomputed outputs\n"
       ]
      },
      {
       "output_type": "stream",
       "stream": "stdout",
       "text": [
        "130908-00:17:36,988 workflow INFO:\n",
        "\t Executing node Fugue_WarpMask in dir: /home/oesteban/workspace/ACWE-Reg/temp/DigitalPhantomISBI/SynthSuscept_SNR-10/Fugue_WarpMask\n"
       ]
      },
      {
       "output_type": "stream",
       "stream": "stdout",
       "text": [
        "130908-00:17:36,989 workflow INFO:\n",
        "\t Collecting precomputed outputs\n"
       ]
      },
      {
       "output_type": "stream",
       "stream": "stdout",
       "text": [
        "130908-00:17:36,994 workflow INFO:\n",
        "\t Executing node binarize in dir: /home/oesteban/workspace/ACWE-Reg/temp/DigitalPhantomISBI/SynthSuscept_SNR-10/binarize\n"
       ]
      },
      {
       "output_type": "stream",
       "stream": "stdout",
       "text": [
        "130908-00:17:36,995 workflow INFO:\n",
        "\t Collecting precomputed outputs\n"
       ]
      },
      {
       "output_type": "stream",
       "stream": "stderr",
       "text": [
        "/home/oesteban/workspace/nipype/nipype/interfaces/fsl/preprocess.py:1286: UserWarning: This interface has not been fully tested. Please report any failures.\n",
        "  'This interface has not been fully tested. Please report any failures.')\n",
        "/home/oesteban/workspace/nipype/nipype/interfaces/fsl/preprocess.py:1286: UserWarning: This interface has not been fully tested. Please report any failures.\n",
        "  'This interface has not been fully tested. Please report any failures.')\n",
        "/home/oesteban/workspace/nipype/nipype/interfaces/fsl/preprocess.py:1286: UserWarning: This interface has not been fully tested. Please report any failures.\n",
        "  'This interface has not been fully tested. Please report any failures.')\n",
        "/home/oesteban/workspace/nipype/nipype/interfaces/fsl/preprocess.py:1407: UserWarning: This has not been fully tested. Please report any failures.\n",
        "  warn('This has not been fully tested. Please report any failures.')\n"
       ]
      },
      {
       "output_type": "stream",
       "stream": "stdout",
       "text": [
        "130908-00:17:37,72 workflow INFO:\n",
        "\t ['check', 'execution', 'logging']\n"
       ]
      },
      {
       "output_type": "stream",
       "stream": "stdout",
       "text": [
        "130908-00:17:37,79 workflow INFO:\n",
        "\t Running serially.\n"
       ]
      },
      {
       "output_type": "stream",
       "stream": "stdout",
       "text": [
        "130908-00:17:37,80 workflow INFO:\n",
        "\t Executing node gen_Mask in dir: /home/oesteban/workspace/ACWE-Reg/temp/DigitalPhantomISBI/SynthSuscept_SNR-20/gen_Mask\n"
       ]
      },
      {
       "output_type": "stream",
       "stream": "stdout",
       "text": [
        "130908-00:17:37,81 workflow INFO:\n",
        "\t Collecting precomputed outputs\n"
       ]
      },
      {
       "output_type": "stream",
       "stream": "stdout",
       "text": [
        "130908-00:17:37,85 workflow INFO:\n",
        "\t Executing node gen_PhaseDiffMap in dir: /home/oesteban/workspace/ACWE-Reg/temp/DigitalPhantomISBI/SynthSuscept_SNR-20/gen_PhaseDiffMap\n"
       ]
      },
      {
       "output_type": "stream",
       "stream": "stdout",
       "text": [
        "130908-00:17:37,86 workflow INFO:\n",
        "\t Collecting precomputed outputs\n"
       ]
      },
      {
       "output_type": "stream",
       "stream": "stdout",
       "text": [
        "130908-00:17:37,91 workflow INFO:\n",
        "\t Executing node PhaseUnwrap in dir: /home/oesteban/workspace/ACWE-Reg/temp/DigitalPhantomISBI/SynthSuscept_SNR-20/PhaseUnwrap\n"
       ]
      },
      {
       "output_type": "stream",
       "stream": "stdout",
       "text": [
        "130908-00:17:37,92 workflow INFO:\n",
        "\t Collecting precomputed outputs\n"
       ]
      },
      {
       "output_type": "stream",
       "stream": "stdout",
       "text": [
        "130908-00:17:37,96 workflow INFO:\n",
        "\t Executing node PhaseRadSec in dir: /home/oesteban/workspace/ACWE-Reg/temp/DigitalPhantomISBI/SynthSuscept_SNR-20/PhaseRadSec\n"
       ]
      },
      {
       "output_type": "stream",
       "stream": "stdout",
       "text": [
        "130908-00:17:37,97 workflow INFO:\n",
        "\t Collecting precomputed outputs\n"
       ]
      },
      {
       "output_type": "stream",
       "stream": "stdout",
       "text": [
        "130908-00:17:37,100 workflow INFO:\n",
        "\t Executing node gen_VSM in dir: /home/oesteban/workspace/ACWE-Reg/temp/DigitalPhantomISBI/SynthSuscept_SNR-20/gen_VSM\n"
       ]
      },
      {
       "output_type": "stream",
       "stream": "stdout",
       "text": [
        "130908-00:17:37,101 workflow INFO:\n",
        "\t Collecting precomputed outputs\n"
       ]
      },
      {
       "output_type": "stream",
       "stream": "stdout",
       "text": [
        "130908-00:17:37,108 workflow INFO:\n",
        "\t Executing node demean in dir: /home/oesteban/workspace/ACWE-Reg/temp/DigitalPhantomISBI/SynthSuscept_SNR-20/demean\n"
       ]
      },
      {
       "output_type": "stream",
       "stream": "stdout",
       "text": [
        "130908-00:17:37,109 workflow INFO:\n",
        "\t Collecting precomputed outputs\n"
       ]
      },
      {
       "output_type": "stream",
       "stream": "stdout",
       "text": [
        "130908-00:17:37,114 workflow INFO:\n",
        "\t Executing node Fugue_WarpMask in dir: /home/oesteban/workspace/ACWE-Reg/temp/DigitalPhantomISBI/SynthSuscept_SNR-20/Fugue_WarpMask\n"
       ]
      },
      {
       "output_type": "stream",
       "stream": "stdout",
       "text": [
        "130908-00:17:37,116 workflow INFO:\n",
        "\t Collecting precomputed outputs\n"
       ]
      },
      {
       "output_type": "stream",
       "stream": "stdout",
       "text": [
        "130908-00:17:37,120 workflow INFO:\n",
        "\t Executing node binarize in dir: /home/oesteban/workspace/ACWE-Reg/temp/DigitalPhantomISBI/SynthSuscept_SNR-20/binarize\n"
       ]
      },
      {
       "output_type": "stream",
       "stream": "stdout",
       "text": [
        "130908-00:17:37,121 workflow INFO:\n",
        "\t Collecting precomputed outputs\n"
       ]
      },
      {
       "output_type": "stream",
       "stream": "stdout",
       "text": [
        "130908-00:17:37,123 workflow INFO:\n",
        "\t Executing node split_DWI in dir: /home/oesteban/workspace/ACWE-Reg/temp/DigitalPhantomISBI/SynthSuscept_SNR-20/Fugue_WarpDWIs/split_DWI\n"
       ]
      },
      {
       "output_type": "stream",
       "stream": "stdout",
       "text": [
        "130908-00:17:37,123 workflow INFO:\n",
        "\t Collecting precomputed outputs\n"
       ]
      },
      {
       "output_type": "stream",
       "stream": "stdout",
       "text": [
        "130908-00:17:37,129 workflow INFO:\n",
        "\t Executing node Fugue_Warp in dir: /home/oesteban/workspace/ACWE-Reg/temp/DigitalPhantomISBI/SynthSuscept_SNR-20/Fugue_WarpDWIs/Fugue_Warp\n"
       ]
      },
      {
       "output_type": "stream",
       "stream": "stdout",
       "text": [
        "130908-00:17:37,159 workflow INFO:\n",
        "\t Executing node merge_DWI in dir: /home/oesteban/workspace/ACWE-Reg/temp/DigitalPhantomISBI/SynthSuscept_SNR-20/Fugue_WarpDWIs/merge_DWI\n"
       ]
      },
      {
       "output_type": "stream",
       "stream": "stdout",
       "text": [
        "130908-00:17:37,160 workflow INFO:\n",
        "\t Collecting precomputed outputs\n"
       ]
      },
      {
       "output_type": "stream",
       "stream": "stderr",
       "text": [
        "/home/oesteban/workspace/nipype/nipype/interfaces/fsl/preprocess.py:1286: UserWarning: This interface has not been fully tested. Please report any failures.\n",
        "  'This interface has not been fully tested. Please report any failures.')\n",
        "/home/oesteban/workspace/nipype/nipype/interfaces/fsl/preprocess.py:1286: UserWarning: This interface has not been fully tested. Please report any failures.\n",
        "  'This interface has not been fully tested. Please report any failures.')\n",
        "/home/oesteban/workspace/nipype/nipype/interfaces/fsl/preprocess.py:1286: UserWarning: This interface has not been fully tested. Please report any failures.\n",
        "  'This interface has not been fully tested. Please report any failures.')\n",
        "/home/oesteban/workspace/nipype/nipype/interfaces/fsl/preprocess.py:1407: UserWarning: This has not been fully tested. Please report any failures.\n",
        "  warn('This has not been fully tested. Please report any failures.')\n"
       ]
      },
      {
       "output_type": "stream",
       "stream": "stdout",
       "text": [
        "130908-00:17:37,240 workflow INFO:\n",
        "\t ['check', 'execution', 'logging']\n"
       ]
      },
      {
       "output_type": "stream",
       "stream": "stdout",
       "text": [
        "130908-00:17:37,247 workflow INFO:\n",
        "\t Running serially.\n"
       ]
      },
      {
       "output_type": "stream",
       "stream": "stdout",
       "text": [
        "130908-00:17:37,248 workflow INFO:\n",
        "\t Executing node gen_Mask in dir: /home/oesteban/workspace/ACWE-Reg/temp/DigitalPhantomISBI/SynthSuscept_SNR-30/gen_Mask\n"
       ]
      },
      {
       "output_type": "stream",
       "stream": "stdout",
       "text": [
        "130908-00:17:37,248 workflow INFO:\n",
        "\t Collecting precomputed outputs\n"
       ]
      },
      {
       "output_type": "stream",
       "stream": "stdout",
       "text": [
        "130908-00:17:37,250 workflow INFO:\n",
        "\t Executing node gen_PhaseDiffMap in dir: /home/oesteban/workspace/ACWE-Reg/temp/DigitalPhantomISBI/SynthSuscept_SNR-30/gen_PhaseDiffMap\n"
       ]
      },
      {
       "output_type": "stream",
       "stream": "stdout",
       "text": [
        "130908-00:17:37,250 workflow INFO:\n",
        "\t Collecting precomputed outputs\n"
       ]
      },
      {
       "output_type": "stream",
       "stream": "stdout",
       "text": [
        "130908-00:17:37,253 workflow INFO:\n",
        "\t Executing node split_DWI in dir: /home/oesteban/workspace/ACWE-Reg/temp/DigitalPhantomISBI/SynthSuscept_SNR-30/Fugue_WarpDWIs/split_DWI\n"
       ]
      },
      {
       "output_type": "stream",
       "stream": "stdout",
       "text": [
        "130908-00:17:37,254 workflow INFO:\n",
        "\t Collecting precomputed outputs\n"
       ]
      },
      {
       "output_type": "stream",
       "stream": "stdout",
       "text": [
        "130908-00:17:37,261 workflow INFO:\n",
        "\t Executing node PhaseUnwrap in dir: /home/oesteban/workspace/ACWE-Reg/temp/DigitalPhantomISBI/SynthSuscept_SNR-30/PhaseUnwrap\n"
       ]
      },
      {
       "output_type": "stream",
       "stream": "stdout",
       "text": [
        "130908-00:17:37,262 workflow INFO:\n",
        "\t Collecting precomputed outputs\n"
       ]
      },
      {
       "output_type": "stream",
       "stream": "stdout",
       "text": [
        "130908-00:17:37,265 workflow INFO:\n",
        "\t Executing node PhaseRadSec in dir: /home/oesteban/workspace/ACWE-Reg/temp/DigitalPhantomISBI/SynthSuscept_SNR-30/PhaseRadSec\n"
       ]
      },
      {
       "output_type": "stream",
       "stream": "stdout",
       "text": [
        "130908-00:17:37,266 workflow INFO:\n",
        "\t Collecting precomputed outputs\n"
       ]
      },
      {
       "output_type": "stream",
       "stream": "stdout",
       "text": [
        "130908-00:17:37,269 workflow INFO:\n",
        "\t Executing node gen_VSM in dir: /home/oesteban/workspace/ACWE-Reg/temp/DigitalPhantomISBI/SynthSuscept_SNR-30/gen_VSM\n"
       ]
      },
      {
       "output_type": "stream",
       "stream": "stdout",
       "text": [
        "130908-00:17:37,270 workflow INFO:\n",
        "\t Collecting precomputed outputs\n"
       ]
      },
      {
       "output_type": "stream",
       "stream": "stdout",
       "text": [
        "130908-00:17:37,273 workflow INFO:\n",
        "\t Executing node demean in dir: /home/oesteban/workspace/ACWE-Reg/temp/DigitalPhantomISBI/SynthSuscept_SNR-30/demean\n"
       ]
      },
      {
       "output_type": "stream",
       "stream": "stdout",
       "text": [
        "130908-00:17:37,273 workflow INFO:\n",
        "\t Collecting precomputed outputs\n"
       ]
      },
      {
       "output_type": "stream",
       "stream": "stdout",
       "text": [
        "130908-00:17:37,279 workflow INFO:\n",
        "\t Executing node Fugue_Warp in dir: /home/oesteban/workspace/ACWE-Reg/temp/DigitalPhantomISBI/SynthSuscept_SNR-30/Fugue_WarpDWIs/Fugue_Warp\n"
       ]
      },
      {
       "output_type": "stream",
       "stream": "stdout",
       "text": [
        "130908-00:17:37,310 workflow INFO:\n",
        "\t Executing node merge_DWI in dir: /home/oesteban/workspace/ACWE-Reg/temp/DigitalPhantomISBI/SynthSuscept_SNR-30/Fugue_WarpDWIs/merge_DWI\n"
       ]
      },
      {
       "output_type": "stream",
       "stream": "stdout",
       "text": [
        "130908-00:17:37,311 workflow INFO:\n",
        "\t Collecting precomputed outputs\n"
       ]
      },
      {
       "output_type": "stream",
       "stream": "stdout",
       "text": [
        "130908-00:17:37,314 workflow INFO:\n",
        "\t Executing node Fugue_WarpMask in dir: /home/oesteban/workspace/ACWE-Reg/temp/DigitalPhantomISBI/SynthSuscept_SNR-30/Fugue_WarpMask\n"
       ]
      },
      {
       "output_type": "stream",
       "stream": "stdout",
       "text": [
        "130908-00:17:37,314 workflow INFO:\n",
        "\t Collecting precomputed outputs\n"
       ]
      },
      {
       "output_type": "stream",
       "stream": "stdout",
       "text": [
        "130908-00:17:37,317 workflow INFO:\n",
        "\t Executing node binarize in dir: /home/oesteban/workspace/ACWE-Reg/temp/DigitalPhantomISBI/SynthSuscept_SNR-30/binarize\n"
       ]
      },
      {
       "output_type": "stream",
       "stream": "stdout",
       "text": [
        "130908-00:17:37,318 workflow INFO:\n",
        "\t Collecting precomputed outputs\n"
       ]
      },
      {
       "output_type": "stream",
       "stream": "stderr",
       "text": [
        "/home/oesteban/workspace/nipype/nipype/interfaces/fsl/preprocess.py:1286: UserWarning: This interface has not been fully tested. Please report any failures.\n",
        "  'This interface has not been fully tested. Please report any failures.')\n",
        "/home/oesteban/workspace/nipype/nipype/interfaces/fsl/preprocess.py:1286: UserWarning: This interface has not been fully tested. Please report any failures.\n",
        "  'This interface has not been fully tested. Please report any failures.')\n",
        "/home/oesteban/workspace/nipype/nipype/interfaces/fsl/preprocess.py:1286: UserWarning: This interface has not been fully tested. Please report any failures.\n",
        "  'This interface has not been fully tested. Please report any failures.')\n"
       ]
      }
     ],
     "prompt_number": 3
    },
    {
     "cell_type": "markdown",
     "metadata": {},
     "source": [
      "<h1>Model fitting</h1>\n",
      "Use the new dmri.fsl_fitting_workflow()"
     ]
    },
    {
     "cell_type": "code",
     "collapsed": false,
     "input": [],
     "language": "python",
     "metadata": {},
     "outputs": []
    },
    {
     "cell_type": "markdown",
     "metadata": {},
     "source": [
      "<h1>Binarize tissue probability maps (TPMs)</h1>\n",
      "\n"
     ]
    },
    {
     "cell_type": "code",
     "collapsed": false,
     "input": [
      "def computeMAP( tpms, normalize=True ):\n",
      "    import numpy as np\n",
      "    normalizer = np.sum( np.array( tpms ), axis=0 )\n",
      "    if normalize:\n",
      "        for tpm in tpms:\n",
      "            tpm[normalizer>0]/= normalizer[normalizer>0]\n",
      "\n",
      "    out_seg = np.zeros( shape=tpms[0].shape, dtype=np.uint8 )\n",
      "    out_seg[normalizer>0] = np.argmax(  tpms, axis=0 )[normalizer>0]\n",
      "    out_seg[normalizer>0] += 1\n",
      "\n",
      "    return out_seg, tpms"
     ],
     "language": "python",
     "metadata": {},
     "outputs": [],
     "prompt_number": 3
    },
    {
     "cell_type": "code",
     "collapsed": false,
     "input": [
      "tpmlist = []\n",
      "tlist = [ 'bg', 'csf', 'wm', 'gm' ]\n",
      "\n",
      "for tname in tlist:\n",
      "    im = nib.load( op.join( tpms_dir, '%s_volume_fraction.nii.gz' % tname ))\n",
      "    tpmlist.append( im.get_data() )\n",
      "    hdr = im.get_header()\n",
      "    if hdr.get_xyzt_units() != 2:\n",
      "        hdr.set_xyzt_units(2)\n",
      "        nib.save( nib.Nifti1Image( im.get_data(), im.get_affine(), hdr ), op.join( tpms_dir, '%s_volume_fraction.nii.gz' % tname ) )\n",
      "\n",
      "hdr = im.get_header()\n",
      "hdr.set_data_dtype( uint8 )\n",
      "binarized, tpmlist = computeMAP( tpmlist )\n",
      "binarized = binarized - 1\n",
      "nib.save( nib.Nifti1Image( binarized, im.get_affine(), hdr ), op.join( working_dir, 'segmentation.nii.gz' ) )\n",
      "\n",
      "objlist = np.zeros( shape=binarized.shape )\n",
      "\n",
      "labels_list = []\n",
      "\n",
      "for i,tname in enumerate(tlist):\n",
      "    bmap = np.zeros( shape=binarized.shape )\n",
      "    bmap[binarized==i] = 1\n",
      "    nib.save( nib.Nifti1Image( bmap, im.get_affine(), hdr ), op.join( working_dir, '%s_bmap.nii.gz' % tname ) )\n",
      "    lab,num = label( bmap )\n",
      "    lab_id = lab[lab>0] + 10*i\n",
      "    labels_list.append( lab_id )\n",
      "    objlist[lab>0] = lab_id\n",
      " \n",
      "nib.save( nib.Nifti1Image( objlist.astype(uint8), im.get_affine(), hdr ), op.join( working_dir, 'labels.nii.gz' ) )\n",
      "\n",
      "# So far, 21 is the label for the main part of wm\n",
      "\n",
      "wm = np.zeros( shape=binarized.shape )\n",
      "wm[objlist==21] = 1\n",
      "nib.save( nib.Nifti1Image( wm.astype(uint8), im.get_affine(), hdr ), op.join( working_dir, 'wm.nii.gz' ) )"
     ],
     "language": "python",
     "metadata": {},
     "outputs": [],
     "prompt_number": 4
    },
    {
     "cell_type": "markdown",
     "metadata": {},
     "source": [
      "<h1>Generate prior surfaces</h1>\n",
      "This code generates the necessary csf surfaces. References:\n",
      "<ul>\n",
      "    <li>https://github.com/nipy/nipype/issues/307</li>\n",
      "    <li>https://mail.nmr.mgh.harvard.edu/pipermail//freesurfer/2011-November/021391.html</li>\n",
      "    <li>http://brainder.org/2012/05/08/importing-freesurfer-subcortical-structures-into-blender/</li>\n",
      "    <li>https://mail.nmr.mgh.harvard.edu/pipermail/freesurfer/2013-June/030586.html</li>\n",
      "</ul>   "
     ]
    },
    {
     "cell_type": "code",
     "collapsed": false,
     "input": [
      "def mris_convert( in_file, extension=\"vtk\", out_file=None ):\n",
      "    import subprocess as sp\n",
      "    import numpy as np\n",
      "    import os.path as op\n",
      "\n",
      "    if out_file is None:\n",
      "        out_file = op.abspath('./%s_conv' % in_file )\n",
      "        \n",
      "    if not extension is None and extension!=\"\":\n",
      "        out_file = out_file + \".%s\" % extension\n",
      "    \n",
      "    cmd = \"mris_convert %s %s\" % (in_file, out_file )\n",
      "    proc = sp.Popen( cmd, stdout=sp.PIPE, shell=True )\n",
      "\n",
      "    return out_file\n",
      "\n",
      "def GenerateBinaryVolume( name=\"binarize\" ):\n",
      "    pipeline = pe.Workflow( name=name )\n",
      "    inputnode = pe.Node(niu.IdentityInterface( fields=['in_file','in_norm'] ), name='inputnode' )\n",
      "    outputnode = pe.Node(niu.IdentityInterface( fields=['out_file'] ), name='outputnode' )\n",
      "    \n",
      "    #convertmgz = pe.Node( fs.MRIConvert( out_type='mgz' ), name='convertmgz' )\n",
      "    pretess = pe.Node( niu.Function( input_names=['in_file', 'in_norm' ], output_names=['out_file'],\n",
      "                                    function=fsbt.MRIPreTess ), name='pretess' )\n",
      "    tess = pe.Node( fs.MRITessellate(label_value=1,use_real_RAS_coordinates=True), name='tess' )\n",
      "    smooth = pe.Node( fs.SmoothTessellation(disable_estimates=True ), name='mris_smooth' )\n",
      "    toVtk = pe.Node( niu.Function( input_names=['in_file'], output_names=['out_file'], function=mris_convert ), name=\"tovtk\" )\n",
      "    \n",
      "                                    \n",
      "    pipeline.connect( [\n",
      "                       \n",
      "                        (inputnode, pretess, [ ('in_file','in_file'), ('in_norm', 'in_norm' ) ] )\n",
      "                       ,(pretess,tess,       [ ('out_file', 'in_file' ) ])\n",
      "                       ,(tess,smooth,        [ ('surface', 'in_file' ) ])\n",
      "                       ,(smooth, toVtk,      [ ('surface', 'in_file' ) ])\n",
      "                       ,(toVtk, outputnode,  [ ('out_file','out_file') ])\n",
      "                       ])\n",
      "    \n",
      "    return pipeline"
     ],
     "language": "python",
     "metadata": {},
     "outputs": [],
     "prompt_number": 13
    },
    {
     "cell_type": "code",
     "collapsed": false,
     "input": [
      "wf = GenerateBinaryVolume()\n",
      "wf.base_dir = working_dir"
     ],
     "language": "python",
     "metadata": {},
     "outputs": [],
     "prompt_number": 14
    },
    {
     "cell_type": "code",
     "collapsed": false,
     "input": [
      "wf.inputs.inputnode.in_file = op.join( working_dir, 'wm.nii.gz' )\n",
      "wf.inputs.inputnode.in_norm = op.join( model_dir, 't1_weighted.nii.gz' )"
     ],
     "language": "python",
     "metadata": {},
     "outputs": [],
     "prompt_number": 15
    },
    {
     "cell_type": "code",
     "collapsed": false,
     "input": [
      "res = wf.run()"
     ],
     "language": "python",
     "metadata": {},
     "outputs": [
      {
       "output_type": "stream",
       "stream": "stdout",
       "text": [
        "130907-19:11:27,637 workflow INFO:\n",
        "\t ['check', 'execution', 'logging']\n"
       ]
      },
      {
       "output_type": "stream",
       "stream": "stdout",
       "text": [
        "130907-19:11:27,642 workflow INFO:\n",
        "\t Running serially.\n"
       ]
      },
      {
       "output_type": "stream",
       "stream": "stdout",
       "text": [
        "130907-19:11:27,642 workflow INFO:\n",
        "\t Executing node pretess in dir: /home/oesteban/workspace/ACWE-Reg/temp/DigitalPhantom/binarize/pretess\n"
       ]
      },
      {
       "output_type": "stream",
       "stream": "stdout",
       "text": [
        "130907-19:11:27,643 workflow INFO:\n",
        "\t Collecting precomputed outputs\n"
       ]
      },
      {
       "output_type": "stream",
       "stream": "stdout",
       "text": [
        "130907-19:11:27,649 workflow INFO:\n",
        "\t Executing node tess in dir: /home/oesteban/workspace/ACWE-Reg/temp/DigitalPhantom/binarize/tess\n"
       ]
      },
      {
       "output_type": "stream",
       "stream": "stdout",
       "text": [
        "130907-19:11:27,649 workflow INFO:\n",
        "\t Collecting precomputed outputs\n"
       ]
      },
      {
       "output_type": "stream",
       "stream": "stdout",
       "text": [
        "130907-19:11:27,653 workflow INFO:\n",
        "\t Executing node mris_smooth in dir: /home/oesteban/workspace/ACWE-Reg/temp/DigitalPhantom/binarize/mris_smooth\n"
       ]
      },
      {
       "output_type": "stream",
       "stream": "stdout",
       "text": [
        "130907-19:11:27,656 workflow INFO:\n",
        "\t Running: mris_smooth /home/oesteban/workspace/ACWE-Reg/temp/DigitalPhantom/binarize/tess/wm_pretess.mgz_1 /home/oesteban/workspace/ACWE-Reg/temp/DigitalPhantom/binarize/mris_smooth/wm_pretess_smoothed.mgz_1 -nw -n 10 -a 10\n"
       ]
      },
      {
       "output_type": "stream",
       "stream": "stdout",
       "text": [
        "130907-19:11:28,18 interface INFO:\n",
        "\t stderr 2013-09-07T19:11:28.018856:smoothing surface tessellation for 10 iterations...\n"
       ]
      },
      {
       "output_type": "stream",
       "stream": "stdout",
       "text": [
        "130907-19:11:28,139 interface INFO:\n",
        "\t stderr 2013-09-07T19:11:28.139559:smoothing complete - recomputing first and second fundamental forms...\n"
       ]
      },
      {
       "output_type": "stream",
       "stream": "stdout",
       "text": [
        "130907-19:11:28,645 interface INFO:\n",
        "\t stderr 2013-09-07T19:11:28.645350:writing smoothed curvature to /home/oesteban/workspace/ACWE-Reg/temp/DigitalPhantom/binarize/mris_smooth/rh.curv\n"
       ]
      },
      {
       "output_type": "stream",
       "stream": "stdout",
       "text": [
        "130907-19:11:28,647 interface INFO:\n",
        "\t stderr 2013-09-07T19:11:28.647591:writing smoothed area to /home/oesteban/workspace/ACWE-Reg/temp/DigitalPhantom/binarize/mris_smooth/rh.area\n"
       ]
      },
      {
       "output_type": "stream",
       "stream": "stdout",
       "text": [
        "130907-19:11:28,671 workflow INFO:\n",
        "\t Executing node tovtk in dir: /home/oesteban/workspace/ACWE-Reg/temp/DigitalPhantom/binarize/tovtk\n"
       ]
      }
     ],
     "prompt_number": 16
    },
    {
     "cell_type": "code",
     "collapsed": false,
     "input": [
      "# http://surfer.nmr.mgh.harvard.edu/fswiki/FreeSurferTrackVisTransforms"
     ],
     "language": "python",
     "metadata": {},
     "outputs": [
      {
       "output_type": "stream",
       "stream": "stdout",
       "text": [
        "None\n"
       ]
      }
     ],
     "prompt_number": 19
    },
    {
     "cell_type": "code",
     "collapsed": false,
     "input": [
      "tkr1_tfm = fsbt.mri_info( op.join( tpms_dir, 'wm_volume_fraction.nii.gz' ), 'vox2ras-tkr' )\n",
      "r2v_tfm = fsbt.mri_info( op.join( tpms_dir, 'wm_volume_fraction.nii.gz' ), 'ras2vox' )\n",
      "\n",
      "tkr2_tfm = fsbt.mri_info( op.join( tpms_dir, 'wm_volume_fraction.nii.gz' ), 'ras2vox-tkr' )\n",
      "v2r_tfm = fsbt.mri_info( op.join( tpms_dir, 'wm_volume_fraction.nii.gz' ), 'vox2ras' )\n",
      "\n",
      "tfm = np.dot( tkr2_tfm, v2r_tfm )\n",
      "M = tfm[0:3,0:3]\n",
      "O = tfm[0:3,3]\n",
      "\n",
      "print O\n",
      "O = [ -0.25, -0.25, -0.25]"
     ],
     "language": "python",
     "metadata": {},
     "outputs": [
      {
       "output_type": "stream",
       "stream": "stdout",
       "text": [
        "[ 139.5  139.5    0.5]\n"
       ]
      }
     ],
     "prompt_number": 10
    },
    {
     "cell_type": "code",
     "collapsed": false,
     "input": [
      "surf = op.join( working_dir, 'test.vtk' )"
     ],
     "language": "python",
     "metadata": {},
     "outputs": [],
     "prompt_number": 11
    },
    {
     "cell_type": "code",
     "collapsed": false,
     "input": [
      "r = tvtk.PolyDataReader( file_name=surf )\n",
      "vtk = r.output\n",
      "r.update()\n",
      "\n",
      "for i,point in enumerate( vtk.points ):\n",
      "    vtk.points[i] = np.dot( M, point ) - O\n",
      "    \n",
      "    \n",
      "w = tvtk.PolyDataWriter( file_name=op.join( working_dir, 'wm_corrected2.vtk' ), input=vtk )\n",
      "w.update()"
     ],
     "language": "python",
     "metadata": {},
     "outputs": [
      {
       "ename": "TypeError",
       "evalue": "'NoneType' object is not iterable",
       "output_type": "pyerr",
       "traceback": [
        "\u001b[1;31m---------------------------------------------------------------------------\u001b[0m\n\u001b[1;31mTypeError\u001b[0m                                 Traceback (most recent call last)",
        "\u001b[1;32m<ipython-input-12-78d587152104>\u001b[0m in \u001b[0;36m<module>\u001b[1;34m()\u001b[0m\n\u001b[0;32m      3\u001b[0m \u001b[0mr\u001b[0m\u001b[1;33m.\u001b[0m\u001b[0mupdate\u001b[0m\u001b[1;33m(\u001b[0m\u001b[1;33m)\u001b[0m\u001b[1;33m\u001b[0m\u001b[0m\n\u001b[0;32m      4\u001b[0m \u001b[1;33m\u001b[0m\u001b[0m\n\u001b[1;32m----> 5\u001b[1;33m \u001b[1;32mfor\u001b[0m \u001b[0mi\u001b[0m\u001b[1;33m,\u001b[0m\u001b[0mpoint\u001b[0m \u001b[1;32min\u001b[0m \u001b[0menumerate\u001b[0m\u001b[1;33m(\u001b[0m \u001b[0mvtk\u001b[0m\u001b[1;33m.\u001b[0m\u001b[0mpoints\u001b[0m \u001b[1;33m)\u001b[0m\u001b[1;33m:\u001b[0m\u001b[1;33m\u001b[0m\u001b[0m\n\u001b[0m\u001b[0;32m      6\u001b[0m     \u001b[0mvtk\u001b[0m\u001b[1;33m.\u001b[0m\u001b[0mpoints\u001b[0m\u001b[1;33m[\u001b[0m\u001b[0mi\u001b[0m\u001b[1;33m]\u001b[0m \u001b[1;33m=\u001b[0m \u001b[0mnp\u001b[0m\u001b[1;33m.\u001b[0m\u001b[0mdot\u001b[0m\u001b[1;33m(\u001b[0m \u001b[0mM\u001b[0m\u001b[1;33m,\u001b[0m \u001b[0mpoint\u001b[0m \u001b[1;33m)\u001b[0m \u001b[1;33m-\u001b[0m \u001b[0mO\u001b[0m\u001b[1;33m\u001b[0m\u001b[0m\n\u001b[0;32m      7\u001b[0m \u001b[1;33m\u001b[0m\u001b[0m\n",
        "\u001b[1;31mTypeError\u001b[0m: 'NoneType' object is not iterable"
       ]
      }
     ],
     "prompt_number": 12
    },
    {
     "cell_type": "code",
     "collapsed": false,
     "input": [
      "vtk"
     ],
     "language": "python",
     "metadata": {},
     "outputs": [
      {
       "output_type": "pyout",
       "prompt_number": 14,
       "text": [
        "<tvtk.tvtk_classes.poly_data.PolyData at 0xb10b890>"
       ]
      }
     ],
     "prompt_number": 14
    },
    {
     "cell_type": "code",
     "collapsed": false,
     "input": [],
     "language": "python",
     "metadata": {},
     "outputs": []
    }
   ],
   "metadata": {}
  }
 ]
}