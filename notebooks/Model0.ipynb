{
 "metadata": {
  "name": "Model0"
 },
 "nbformat": 3,
 "nbformat_minor": 0,
 "worksheets": [
  {
   "cells": [
    {
     "cell_type": "code",
     "collapsed": false,
     "input": [
      "import os\n",
      "import nibabel as nib\n",
      "import nipype.interfaces.freesurfer as fs\n",
      "import functions as fnc\n",
      "from tvtk.api import tvtk\n",
      "\n",
      "model_id = 0\n",
      "model_path = os.path.abspath( 'Model%d' % model_id )\n",
      "\n",
      "if( not os.path.exists( model_path ) ):\n",
      "    os.mkdir( model_path )"
     ],
     "language": "python",
     "metadata": {},
     "outputs": [],
     "prompt_number": 77
    },
    {
     "cell_type": "code",
     "collapsed": false,
     "input": [
      "dims = ( 101, 101, 101 )\n",
      "\n",
      "im_data = np.zeros( shape=dims )\n",
      "im_data[20:81,10:91,45:54] = 1\n",
      "\n",
      "ac = np.identity( 4 )\n",
      "orig = np.zeros( 3 )\n",
      "\n",
      "hdr = nib.Nifti1Header( )\n",
      "hdr.set_data_shape( dims )\n",
      "hdr.set_data_dtype( 2 )\n",
      "hdr.set_xyzt_units( 2 )\n",
      "hdr.set_sform( ac )\n",
      "\n",
      "nib.save( nib.Nifti1Image( im_data, ac , hdr ), os.path.join( model_path, 'model0.nii' )  )"
     ],
     "language": "python",
     "metadata": {},
     "outputs": [],
     "prompt_number": 78
    },
    {
     "cell_type": "code",
     "collapsed": false,
     "input": [
      "mc = fs.MRIMarchingCubes()\n",
      "mc.inputs.in_file = os.path.join( model_path, 'model0.nii' )\n",
      "mc.inputs.label_value = 1\n",
      "mc.inputs.out_file = 'Model%d/lh.surf.vtk' % model_id\n",
      "mc.run() "
     ],
     "language": "python",
     "metadata": {},
     "outputs": [
      {
       "output_type": "stream",
       "stream": "stdout",
       "text": [
        "130605-12:36:06,647 interface INFO:\n",
        "\t stderr 2013-06-05T12:36:06.647873:\n"
       ]
      },
      {
       "output_type": "stream",
       "stream": "stdout",
       "text": [
        "130605-12:36:06,650 interface INFO:\n",
        "\t stderr 2013-06-05T12:36:06.650242:preprocessing...done\n"
       ]
      },
      {
       "output_type": "stream",
       "stream": "stdout",
       "text": [
        "130605-12:36:06,654 interface INFO:\n",
        "\t stderr 2013-06-05T12:36:06.654405:starting generation of surface...\n"
       ]
      },
      {
       "output_type": "stream",
       "stream": "stdout",
       "text": [
        "130605-12:36:06,654 interface INFO:\n",
        "\t stderr 2013-06-05T12:36:06.654405:   slice nb 50...\n"
       ]
      },
      {
       "output_type": "stream",
       "stream": "stdout",
       "text": [
        "130605-12:36:06,655 interface INFO:\n",
        "\t stderr 2013-06-05T12:36:06.655209:constructing final surface...\n"
       ]
      },
      {
       "output_type": "stream",
       "stream": "stdout",
       "text": [
        "130605-12:36:06,784 interface INFO:\n",
        "\t stderr 2013-06-05T12:36:06.783947:(surface with 24872 faces and 12438 vertices)...done\n"
       ]
      },
      {
       "output_type": "stream",
       "stream": "stdout",
       "text": [
        "130605-12:36:06,784 interface INFO:\n",
        "\t stderr 2013-06-05T12:36:06.784883:computing the maximum edge length...1.414214 mm\n"
       ]
      },
      {
       "output_type": "stream",
       "stream": "stdout",
       "text": [
        "130605-12:36:06,786 interface INFO:\n",
        "\t stderr 2013-06-05T12:36:06.786111:reversing orientation of faces...\n"
       ]
      },
      {
       "output_type": "stream",
       "stream": "stdout",
       "text": [
        "130605-12:36:06,793 interface INFO:\n",
        "\t stderr 2013-06-05T12:36:06.793803:checking orientation of surface...\n"
       ]
      },
      {
       "output_type": "stream",
       "stream": "stdout",
       "text": [
        "130605-12:36:06,794 interface INFO:\n",
        "\t stderr 2013-06-05T12:36:06.793803:0.000 % of the vertices (0 vertices) exhibit an orientation change\n"
       ]
      },
      {
       "output_type": "stream",
       "stream": "stdout",
       "text": [
        "130605-12:36:06,795 interface INFO:\n",
        "\t stderr 2013-06-05T12:36:06.795460:\n"
       ]
      },
      {
       "output_type": "stream",
       "stream": "stdout",
       "text": [
        "130605-12:36:06,795 interface INFO:\n",
        "\t stderr 2013-06-05T12:36:06.795460:counting number of connected components...\n"
       ]
      },
      {
       "output_type": "stream",
       "stream": "stdout",
       "text": [
        "130605-12:36:06,796 interface INFO:\n",
        "\t stderr 2013-06-05T12:36:06.795460:   12438 voxel in cpt #1: X=2 [v=12438,e=37308,f=24872] located at (0.500000, -1.500000, 0.500000)\n"
       ]
      },
      {
       "output_type": "stream",
       "stream": "stdout",
       "text": [
        "130605-12:36:06,796 interface INFO:\n",
        "\t stderr 2013-06-05T12:36:06.795460:For the whole surface: X=2 [v=12438,e=37308,f=24872]\n"
       ]
      },
      {
       "output_type": "stream",
       "stream": "stdout",
       "text": [
        "130605-12:36:06,796 interface INFO:\n",
        "\t stderr 2013-06-05T12:36:06.795460:One single component has been found\n"
       ]
      },
      {
       "output_type": "stream",
       "stream": "stdout",
       "text": [
        "130605-12:36:06,806 interface INFO:\n",
        "\t stderr 2013-06-05T12:36:06.806384:nothing to do\n"
       ]
      },
      {
       "output_type": "stream",
       "stream": "stdout",
       "text": [
        "130605-12:36:06,828 interface INFO:\n",
        "\t stderr 2013-06-05T12:36:06.828110:writing out surface...done\n"
       ]
      },
      {
       "output_type": "stream",
       "stream": "stdout",
       "text": [
        "130605-12:36:06,830 interface INFO:\n",
        "\t stdout 2013-06-05T12:36:06.830000:changing type of input volume to 8 bits/voxel...\n"
       ]
      },
      {
       "output_type": "stream",
       "stream": "stdout",
       "text": [
        "130605-12:36:06,830 interface INFO:\n",
        "\t stdout 2013-06-05T12:36:06.830000:input volume is not conformed - using useRealRAS=1\n"
       ]
      },
      {
       "output_type": "pyout",
       "prompt_number": 79,
       "text": [
        "<nipype.interfaces.base.InterfaceResult at 0x28ad610>"
       ]
      }
     ],
     "prompt_number": 79
    },
    {
     "cell_type": "code",
     "collapsed": false,
     "input": [
      "def surfaceWorkflow(model_path, name=\"Surface\"):\n",
      "    pipeline = pe.Workflow( name=name )\n",
      "    inputnode = pe.Node(niu.IdentityInterface( fields=['in_roi','surf_id', 'model_id'] ), name='inputnode' )\n",
      "    tess = pe.Node( fs.MRITessellate( label_value=1, use_real_RAS_coordinates=True ), name='tessellate' )\n",
      "    smooth = pe.Node( fs.SmoothTessellation(disable_estimates=True), name='smooth' )\n",
      "    convert = pe.Node( fs.MRIsConvert(out_datatype='vtk'), name='tovtk' )\n",
      "    ds = pe.Node(nio.DataSink( base_directory=model_path ), name='sinker')\n",
      "    outputnode = pe.Node( niu.IdentityInterface( fields=['surface'] ), name='outputnode' )\n",
      "    \n",
      "    pipeline.connect( [\n",
      "                        ( inputnode, tess, [ ( 'in_roi' , 'in_file' ) ] )\n",
      "                       ,( tess, smooth, [ ( 'surface', 'in_file' ) ])\n",
      "                       ,( smooth, convert, [ ( 'surface', 'in_file' ) ])\n",
      "                       ,( convert,outputnode, [('converted','surface') ])\n",
      "                       ,( inputnode, ds, [ ( 'model_id', 'container' ), ('surf_id', 'surf') ])\n",
      "                       ,( convert, ds, [( 'converted', 'surf.@file' ) ])\n",
      "                       ])\n",
      "    return pipeline  "
     ],
     "language": "python",
     "metadata": {},
     "outputs": []
    },
    {
     "cell_type": "code",
     "collapsed": false,
     "input": [
      "def fixVtk( input_file, output_file, ref_nii ):\n",
      "    ref = nib.load( ref_nii )\n",
      "    orig = np.array( ref.get_shape() ) * 0.5\n",
      "    ac = ref.get_affine()[0:3,0:3]\n",
      "    \n",
      "    rotM = np.zeros( shape=ac.shape )\n",
      "    rotM[0,0] = -1.0\n",
      "    rotM[1,2] = 1.0\n",
      "    rotM[2,1] = -1.0\n",
      "    \n",
      "    R = np.dot( rotM, ac )\n",
      "        \n",
      "    with open( input_file, 'r' ) as f:\n",
      "        with open( output_file, 'w' ) as w:\n",
      "            npoints = 0\n",
      "            pointid = -5\n",
      "            \n",
      "            for i,l in enumerate(f):\n",
      "                if (i==4):\n",
      "                    s = l.split()\n",
      "                    npoints = int( s[1] )\n",
      "                    fmt = np.dtype( s[2] )\n",
      "                elif( i>4 and pointid<npoints):\n",
      "                    vert = np.array( [float(x) for x in l.split()] )\n",
      "                    vert = np.dot( vert, R ) + orig\n",
      "                    l = '%.9f  %.9f  %.9f\\n' % tuple(vert)\n",
      "                \n",
      "                w.write( l )\n",
      "                pointid = pointid + 1"
     ],
     "language": "python",
     "metadata": {},
     "outputs": [],
     "prompt_number": 143
    },
    {
     "cell_type": "code",
     "collapsed": false,
     "input": [
      "fixVtk( 'Model%d/lh.surf.vtk' % model_id, 'Model%d/fixed.surf.vtk' % model_id, os.path.join( model_path, 'model0.nii' ) )"
     ],
     "language": "python",
     "metadata": {},
     "outputs": [],
     "prompt_number": 144
    },
    {
     "cell_type": "code",
     "collapsed": false,
     "input": [],
     "language": "python",
     "metadata": {},
     "outputs": []
    }
   ],
   "metadata": {}
  }
 ]
}