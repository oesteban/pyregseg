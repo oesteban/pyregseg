{
 "metadata": {
  "name": "DTIPreprocess"
 },
 "nbformat": 3,
 "nbformat_minor": 0,
 "worksheets": [
  {
   "cells": [
    {
     "cell_type": "code",
     "collapsed": false,
     "input": [
      "import os                                    # system functions\n",
      "import nipype.interfaces.base as base        # base pipeline interface (e.g. command line execution)\n",
      "import nipype.interfaces.io as nio           # Data i/o\n",
      "import nipype.interfaces.utility as util     # utility\n",
      "import nipype.algorithms.misc as alg         # Dice, jaccard, haussdorf distances\n",
      "import nipype.pipeline.engine as pe          # pypeline engine\n",
      "import nipype.interfaces.fsl as fsl          # fsl\n",
      "import nipype.interfaces.freesurfer as fs    # freesurfer\n",
      "import nipype.interfaces.diffusion_toolkit as dtk\n",
      "from nipype.workflows.dmri.fsl import create_eddy_correct_pipeline"
     ],
     "language": "python",
     "metadata": {},
     "outputs": [],
     "prompt_number": 9
    },
    {
     "cell_type": "code",
     "collapsed": true,
     "input": [
      "def dwifinder( dwipath, ext ):\n",
      "    import os\n",
      "    bname = os.path.splitext( dwipath )\n",
      "    if ( bname[1] == '.gz' ):\n",
      "        bname = os.path.splitext( bname[0] )\n",
      "    return '%s.%s' % ( bname[0], ext )"
     ],
     "language": "python",
     "metadata": {},
     "outputs": [],
     "prompt_number": 10
    },
    {
     "cell_type": "code",
     "collapsed": false,
     "input": [
      "base_dir = os.path.abspath('./dti' )\n",
      "pipeline = pe.Workflow(name=\"DTI_Preprocess\")\n",
      "    \n",
      "# Set up a node to define all inputs required in the pre-processing workflow\n",
      "datasource = pe.Node(interface=nio.DataGrabber(base_directory=base_dir,template='*.nii.gz',outfields=['out_file']), name=\"DataReader\" )\n",
      "bdatafind = pe.Node( interface=util.IdentityInterface(fields=['in_file', 'in_bvec', 'in_bval' ]),\n",
      "                    name='bdatafind' )\n",
      "\n",
      "    \n",
      "# extract B0\n",
      "fslroi = pe.Node(interface=fsl.ExtractROI(t_min=0,t_size=1),name='ExtractB0' )\n",
      "# Use BET for B0 brain extraction\n",
      "bet = pe.Node(interface=fsl.BET(mask=True,frac=0.34),name='ExtractBrain' )\n",
      "# correct the diffusion weighted images for eddy_currents\n",
      "eddycorrect = create_eddy_correct_pipeline('EddyCorrect')\n",
      "eddycorrect.inputs.inputnode.ref_num=0\n",
      "# mask dwi data\n",
      "fsmask = pe.Node(interface=fs.ApplyMask(), name='MaskRawData' )\n",
      "# compute the diffusion tensor in each voxel\n",
      "dtifit = pe.Node(interface=dtk.DTIRecon(),name='TensorFitting')\n",
      "\n",
      "combine = pe.Node( interface=util.Merge(5) , name=\"CombineMaps\")\n",
      "# Create an output node to gather all the outputs\n",
      "fslmerge = pe.Node(interface =fsl.Merge(dimension='t',output_type='NIFTI_GZ'), name=\"FSLMerge\" ) \n",
      "datasink = pe.Node(nio.DataSink(base_directory=base_dir), name='sinker')\n",
      "# connect nodes\n",
      "pipeline.connect([\n",
      "                         (datasource,fslroi, [('out_file','in_file') ])\n",
      "                        ,(fslroi,bet,[('roi_file','in_file')])\n",
      "                        ,(datasource,eddycorrect, [('out_file','inputnode.in_file') ])\n",
      "                        ,(bet,fsmask, [('mask_file','mask_file') ])\n",
      "                        ,(eddycorrect,fsmask, [ ('outputnode.eddy_corrected','in_file') ])\n",
      "                        ,(datasource,bdatafind,[ ( ('out_file',dwifinder,'bvec'), 'in_bvec'), ( ('out_file', dwifinder, 'bval') ,'in_bval') ])\n",
      "                        ,(bdatafind,dtifit,[ ('in_bvec','bvecs'), ('in_bval','bvals') ])\n",
      "                        ,(fsmask,dtifit,[ ('out_file','DWI') ]) # Diffusion Toolkit\n",
      "                        ,(dtifit,combine, [ ('FA','in1'),('ADC','in2')\n",
      "                                           ,('L1','in3'), ('L2','in4'),('L3','in5')])\n",
      "                        ,(combine,fslmerge, [( 'out','in_files') ] )\n",
      "                        ,(fslmerge,datasink, [( 'merged_file','.@dti_maps') ] )\n",
      "                      ])"
     ],
     "language": "python",
     "metadata": {},
     "outputs": [],
     "prompt_number": 11
    },
    {
     "cell_type": "code",
     "collapsed": false,
     "input": [
      "pipeline.run()"
     ],
     "language": "python",
     "metadata": {},
     "outputs": [
      {
       "output_type": "stream",
       "stream": "stdout",
       "text": [
        "121011-21:45:08,733 interface INFO:\n",
        "\t stdout 2012-10-11T21:45:08.733097:DoAbs = 0\n"
       ]
      },
      {
       "output_type": "stream",
       "stream": "stdout",
       "text": [
        "121011-21:45:08,734 interface INFO:\n",
        "\t stdout 2012-10-11T21:45:08.733097:Found 313344 voxels in mask\n"
       ]
      },
      {
       "output_type": "stream",
       "stream": "stdout",
       "text": [
        "121011-21:45:08,734 interface INFO:\n",
        "\t stdout 2012-10-11T21:45:08.733097:Writing masked volume to /tmp/tmpO4wvDq/DTI_Preprocess/MaskRawData/vol0000_flirt_merged_masked.nii.gz...done.\n"
       ]
      },
      {
       "output_type": "stream",
       "stream": "stdout",
       "text": [
        "121011-21:45:08,819 interface INFO:\n",
        "\t stdout 2012-10-11T21:45:08.819799:\n"
       ]
      },
      {
       "output_type": "stream",
       "stream": "stdout",
       "text": [
        "121011-21:45:08,820 interface INFO:\n",
        "\t stdout 2012-10-11T21:45:08.819799:Volume dimension: 96 96 34\n"
       ]
      },
      {
       "output_type": "stream",
       "stream": "stdout",
       "text": [
        "121011-21:45:08,821 interface INFO:\n",
        "\t stdout 2012-10-11T21:45:08.819799:Voxel size: 2.208 2.208 3.000\n"
       ]
      },
      {
       "output_type": "stream",
       "stream": "stdout",
       "text": [
        "121011-21:45:08,822 interface INFO:\n",
        "\t stdout 2012-10-11T21:45:08.819799:Number of b0's: 1\n"
       ]
      },
      {
       "output_type": "stream",
       "stream": "stdout",
       "text": [
        "121011-21:45:08,823 interface INFO:\n",
        "\t stdout 2012-10-11T21:45:08.819799:Number of gradient directions: 64\n"
       ]
      },
      {
       "output_type": "stream",
       "stream": "stdout",
       "text": [
        "121011-21:45:08,824 interface INFO:\n",
        "\t stdout 2012-10-11T21:45:08.824109:\n"
       ]
      },
      {
       "output_type": "stream",
       "stream": "stdout",
       "text": [
        "121011-21:45:17,894 interface INFO:\n",
        "\t stdout 2012-10-11T21:45:17.894861:Reading raw data...     \b\b\b\b\b 1.5%\b\b\b\b\b 1.5%\b\b\b\b\b 3.1%\b\b\b\b\b 4.6%\b\b\b\b\b 6.2%\b\b\b\b\b 7.7%\b\b\b\b\b 9.2%\b\b\b\b\b10.8%\b\b\b\b\b12.3%\b\b\b\b\b13.8%\b\b\b\b\b15.4%\b\b\b\b\b16.9%\b\b\b\b\b18.5%\b\b\b\b\b20.0%\b\b\b\b\b21.5%\b\b\b\b\b23.1%\b\b\b\b\b24.6%\b\b\b\b\b26.2%\b\b\b\b\b27.7%\b\b\b\b\b29.2%\b\b\b\b\b30.8%\b\b\b\b\b32.3%\b\b\b\b\b33.8%\b\b\b\b\b35.4%\b\b\b\b\b36.9%\b\b\b\b\b38.5%\b\b\b\b\b40.0%\b\b\b\b\b41.5%\b\b\b\b\b43.1%\b\b\b\b\b44.6%\b\b\b\b\b46.2%\b\b\b\b\b47.7%\b\b\b\b\b49.2%\b\b\b\b\b50.8%\b\b\b\b\b52.3%\b\b\b\b\b53.8%\b\b\b\b\b55.4%\b\b\b\b\b56.9%\b\b\b\b\b58.5%\b\b\b\b\b60.0%\b\b\b\b\b61.5%\b\b\b\b\b63.1%\b\b\b\b\b64.6%\b\b\b\b\b66.2%\b\b\b\b\b67.7%\b\b\b\b\b69.2%\b\b\b\b\b70.8%\b\b\b\b\b72.3%\b\b\b\b\b73.8%\b\b\b\b\b75.4%\b\b\b\b\b76.9%\b\b\b\b\b78.5%\b\b\b\b\b80.0%\b\b\b\b\b81.5%\b\b\b\b\b83.1%\b\b\b\b\b84.6%\b\b\b\b\b86.2%\b\b\b\b\b87.7%\b\b\b\b\b89.2%\b\b\b\b\b90.8%\b\b\b\b\b92.3%\b\b\b\b\b93.8%\b\b\b\b\b95.4%\b\b\b\b\b96.9%\b\b\b\b\b98.5%\b\b\b\b\b 100%\n"
       ]
      },
      {
       "output_type": "stream",
       "stream": "stdout",
       "text": [
        "121011-21:45:18,907 interface INFO:\n",
        "\t stdout 2012-10-11T21:45:18.907362:Reconstructing...     \b\b\b\b\b 0.0%\b\b\b\b\b 2.9%\b\b\b\b\b 5.9%\b\b\b\b\b 8.8%\b\b\b\b\b11.8%\b\b\b\b\b14.7%\b\b\b\b\b17.6%\b\b\b\b\b20.6%\b\b\b\b\b23.5%\b\b\b\b\b26.5%\b\b\b\b\b29.4%\b\b\b\b\b32.4%\b\b\b\b\b35.3%\b\b\b\b\b38.2%\b\b\b\b\b41.2%\b\b\b\b\b44.1%\b\b\b\b\b47.1%\b\b\b\b\b50.0%\b\b\b\b\b52.9%\b\b\b\b\b55.9%\b\b\b\b\b58.8%\b\b\b\b\b61.8%\b\b\b\b\b64.7%\b\b\b\b\b67.6%\b\b\b\b\b70.6%\b\b\b\b\b73.5%\b\b\b\b\b76.5%\b\b\b\b\b79.4%\b\b\b\b\b82.4%\b\b\b\b\b85.3%\b\b\b\b\b88.2%\b\b\b\b\b91.2%\b\b\b\b\b94.1%\b\b\b\b\b97.1%\b\b\b\b\b 100%\n"
       ]
      },
      {
       "output_type": "stream",
       "stream": "stdout",
       "text": [
        "121011-21:45:18,907 interface INFO:\n",
        "\t stdout 2012-10-11T21:45:18.907362:b0 threshold used to mask background: 129.246 3509\n"
       ]
      },
      {
       "output_type": "stream",
       "stream": "stdout",
       "text": [
        "121011-21:45:18,909 interface INFO:\n",
        "\t stdout 2012-10-11T21:45:18.909788:\n"
       ]
      },
      {
       "output_type": "stream",
       "stream": "stdout",
       "text": [
        "121011-21:45:18,945 interface INFO:\n",
        "\t stdout 2012-10-11T21:45:18.945881:Writing output...Done.\n"
       ]
      },
      {
       "output_type": "stream",
       "stream": "stdout",
       "text": [
        "121011-21:45:18,946 interface INFO:\n",
        "\t stdout 2012-10-11T21:45:18.945881:Reconstruction completed successfully.\n"
       ]
      },
      {
       "output_type": "stream",
       "stream": "stdout",
       "text": [
        "121011-21:45:18,946 interface INFO:\n",
        "\t stdout 2012-10-11T21:45:18.945881:Time taken: 00:00:10\n"
       ]
      },
      {
       "ename": "IndexError",
       "evalue": "string index out of range\nInterface DataSink failed to run. ",
       "output_type": "pyerr",
       "traceback": [
        "\u001b[1;31m---------------------------------------------------------------------------\u001b[0m\n\u001b[1;31mIndexError\u001b[0m                                Traceback (most recent call last)",
        "\u001b[1;32m<ipython-input-5-45328862925b>\u001b[0m in \u001b[0;36m<module>\u001b[1;34m()\u001b[0m\n\u001b[1;32m----> 1\u001b[1;33m \u001b[0mpipeline\u001b[0m\u001b[1;33m.\u001b[0m\u001b[0mrun\u001b[0m\u001b[1;33m(\u001b[0m\u001b[1;33m)\u001b[0m\u001b[1;33m\u001b[0m\u001b[0m\n\u001b[0m",
        "\u001b[1;32m/usr/local/lib/python2.7/dist-packages/nipype/pipeline/engine.pyc\u001b[0m in \u001b[0;36mrun\u001b[1;34m(self, plugin, plugin_args, updatehash)\u001b[0m\n\u001b[0;32m    517\u001b[0m         \u001b[1;32mif\u001b[0m \u001b[0mstr2bool\u001b[0m\u001b[1;33m(\u001b[0m\u001b[0mself\u001b[0m\u001b[1;33m.\u001b[0m\u001b[0mconfig\u001b[0m\u001b[1;33m[\u001b[0m\u001b[1;34m'execution'\u001b[0m\u001b[1;33m]\u001b[0m\u001b[1;33m[\u001b[0m\u001b[1;34m'create_report'\u001b[0m\u001b[1;33m]\u001b[0m\u001b[1;33m)\u001b[0m\u001b[1;33m:\u001b[0m\u001b[1;33m\u001b[0m\u001b[0m\n\u001b[0;32m    518\u001b[0m             \u001b[0mself\u001b[0m\u001b[1;33m.\u001b[0m\u001b[0m_write_report_info\u001b[0m\u001b[1;33m(\u001b[0m\u001b[0mself\u001b[0m\u001b[1;33m.\u001b[0m\u001b[0mbase_dir\u001b[0m\u001b[1;33m,\u001b[0m \u001b[0mself\u001b[0m\u001b[1;33m.\u001b[0m\u001b[0mname\u001b[0m\u001b[1;33m,\u001b[0m \u001b[0mexecgraph\u001b[0m\u001b[1;33m)\u001b[0m\u001b[1;33m\u001b[0m\u001b[0m\n\u001b[1;32m--> 519\u001b[1;33m         \u001b[0mrunner\u001b[0m\u001b[1;33m.\u001b[0m\u001b[0mrun\u001b[0m\u001b[1;33m(\u001b[0m\u001b[0mexecgraph\u001b[0m\u001b[1;33m,\u001b[0m \u001b[0mupdatehash\u001b[0m\u001b[1;33m=\u001b[0m\u001b[0mupdatehash\u001b[0m\u001b[1;33m,\u001b[0m \u001b[0mconfig\u001b[0m\u001b[1;33m=\u001b[0m\u001b[0mself\u001b[0m\u001b[1;33m.\u001b[0m\u001b[0mconfig\u001b[0m\u001b[1;33m)\u001b[0m\u001b[1;33m\u001b[0m\u001b[0m\n\u001b[0m\u001b[0;32m    520\u001b[0m         \u001b[1;32mreturn\u001b[0m \u001b[0mexecgraph\u001b[0m\u001b[1;33m\u001b[0m\u001b[0m\n\u001b[0;32m    521\u001b[0m \u001b[1;33m\u001b[0m\u001b[0m\n",
        "\u001b[1;32m/usr/local/lib/python2.7/dist-packages/nipype/pipeline/plugins/linear.pyc\u001b[0m in \u001b[0;36mrun\u001b[1;34m(self, graph, config, updatehash)\u001b[0m\n\u001b[0;32m     35\u001b[0m                 \u001b[1;32mif\u001b[0m \u001b[0mself\u001b[0m\u001b[1;33m.\u001b[0m\u001b[0m_status_callback\u001b[0m\u001b[1;33m:\u001b[0m\u001b[1;33m\u001b[0m\u001b[0m\n\u001b[0;32m     36\u001b[0m                     \u001b[0mself\u001b[0m\u001b[1;33m.\u001b[0m\u001b[0m_status_callback\u001b[0m\u001b[1;33m(\u001b[0m\u001b[0mnode\u001b[0m\u001b[1;33m,\u001b[0m \u001b[1;34m'start'\u001b[0m\u001b[1;33m)\u001b[0m\u001b[1;33m\u001b[0m\u001b[0m\n\u001b[1;32m---> 37\u001b[1;33m                 \u001b[0mnode\u001b[0m\u001b[1;33m.\u001b[0m\u001b[0mrun\u001b[0m\u001b[1;33m(\u001b[0m\u001b[0mupdatehash\u001b[0m\u001b[1;33m=\u001b[0m\u001b[0mupdatehash\u001b[0m\u001b[1;33m)\u001b[0m\u001b[1;33m\u001b[0m\u001b[0m\n\u001b[0m\u001b[0;32m     38\u001b[0m                 \u001b[1;32mif\u001b[0m \u001b[0mself\u001b[0m\u001b[1;33m.\u001b[0m\u001b[0m_status_callback\u001b[0m\u001b[1;33m:\u001b[0m\u001b[1;33m\u001b[0m\u001b[0m\n\u001b[0;32m     39\u001b[0m                     \u001b[0mself\u001b[0m\u001b[1;33m.\u001b[0m\u001b[0m_status_callback\u001b[0m\u001b[1;33m(\u001b[0m\u001b[0mnode\u001b[0m\u001b[1;33m,\u001b[0m \u001b[1;34m'end'\u001b[0m\u001b[1;33m)\u001b[0m\u001b[1;33m\u001b[0m\u001b[0m\n",
        "\u001b[1;32m/usr/local/lib/python2.7/dist-packages/nipype/pipeline/engine.pyc\u001b[0m in \u001b[0;36mrun\u001b[1;34m(self, updatehash)\u001b[0m\n\u001b[0;32m   1126\u001b[0m                     self.inputs.get_traitsfree())\n\u001b[0;32m   1127\u001b[0m             \u001b[1;32mtry\u001b[0m\u001b[1;33m:\u001b[0m\u001b[1;33m\u001b[0m\u001b[0m\n\u001b[1;32m-> 1128\u001b[1;33m                 \u001b[0mself\u001b[0m\u001b[1;33m.\u001b[0m\u001b[0m_run_interface\u001b[0m\u001b[1;33m(\u001b[0m\u001b[1;33m)\u001b[0m\u001b[1;33m\u001b[0m\u001b[0m\n\u001b[0m\u001b[0;32m   1129\u001b[0m             \u001b[1;32mexcept\u001b[0m\u001b[1;33m:\u001b[0m\u001b[1;33m\u001b[0m\u001b[0m\n\u001b[0;32m   1130\u001b[0m                 \u001b[0mos\u001b[0m\u001b[1;33m.\u001b[0m\u001b[0mremove\u001b[0m\u001b[1;33m(\u001b[0m\u001b[0mhashfile_unfinished\u001b[0m\u001b[1;33m)\u001b[0m\u001b[1;33m\u001b[0m\u001b[0m\n",
        "\u001b[1;32m/usr/local/lib/python2.7/dist-packages/nipype/pipeline/engine.pyc\u001b[0m in \u001b[0;36m_run_interface\u001b[1;34m(self, execute, updatehash)\u001b[0m\n\u001b[0;32m   1224\u001b[0m         \u001b[0mold_cwd\u001b[0m \u001b[1;33m=\u001b[0m \u001b[0mos\u001b[0m\u001b[1;33m.\u001b[0m\u001b[0mgetcwd\u001b[0m\u001b[1;33m(\u001b[0m\u001b[1;33m)\u001b[0m\u001b[1;33m\u001b[0m\u001b[0m\n\u001b[0;32m   1225\u001b[0m         \u001b[0mos\u001b[0m\u001b[1;33m.\u001b[0m\u001b[0mchdir\u001b[0m\u001b[1;33m(\u001b[0m\u001b[0mself\u001b[0m\u001b[1;33m.\u001b[0m\u001b[0moutput_dir\u001b[0m\u001b[1;33m(\u001b[0m\u001b[1;33m)\u001b[0m\u001b[1;33m)\u001b[0m\u001b[1;33m\u001b[0m\u001b[0m\n\u001b[1;32m-> 1226\u001b[1;33m         \u001b[0mself\u001b[0m\u001b[1;33m.\u001b[0m\u001b[0m_result\u001b[0m \u001b[1;33m=\u001b[0m \u001b[0mself\u001b[0m\u001b[1;33m.\u001b[0m\u001b[0m_run_command\u001b[0m\u001b[1;33m(\u001b[0m\u001b[0mexecute\u001b[0m\u001b[1;33m)\u001b[0m\u001b[1;33m\u001b[0m\u001b[0m\n\u001b[0m\u001b[0;32m   1227\u001b[0m         \u001b[0mos\u001b[0m\u001b[1;33m.\u001b[0m\u001b[0mchdir\u001b[0m\u001b[1;33m(\u001b[0m\u001b[0mold_cwd\u001b[0m\u001b[1;33m)\u001b[0m\u001b[1;33m\u001b[0m\u001b[0m\n\u001b[0;32m   1228\u001b[0m \u001b[1;33m\u001b[0m\u001b[0m\n",
        "\u001b[1;32m/usr/local/lib/python2.7/dist-packages/nipype/pipeline/engine.pyc\u001b[0m in \u001b[0;36m_run_command\u001b[1;34m(self, execute, copyfiles)\u001b[0m\n\u001b[0;32m   1348\u001b[0m                 \u001b[0mlogger\u001b[0m\u001b[1;33m.\u001b[0m\u001b[0minfo\u001b[0m\u001b[1;33m(\u001b[0m\u001b[1;34m'Running: %s'\u001b[0m \u001b[1;33m%\u001b[0m \u001b[0mcmd\u001b[0m\u001b[1;33m)\u001b[0m\u001b[1;33m\u001b[0m\u001b[0m\n\u001b[0;32m   1349\u001b[0m             \u001b[1;32mtry\u001b[0m\u001b[1;33m:\u001b[0m\u001b[1;33m\u001b[0m\u001b[0m\n\u001b[1;32m-> 1350\u001b[1;33m                 \u001b[0mresult\u001b[0m \u001b[1;33m=\u001b[0m \u001b[0mself\u001b[0m\u001b[1;33m.\u001b[0m\u001b[0m_interface\u001b[0m\u001b[1;33m.\u001b[0m\u001b[0mrun\u001b[0m\u001b[1;33m(\u001b[0m\u001b[1;33m)\u001b[0m\u001b[1;33m\u001b[0m\u001b[0m\n\u001b[0m\u001b[0;32m   1351\u001b[0m             \u001b[1;32mexcept\u001b[0m \u001b[0mException\u001b[0m\u001b[1;33m,\u001b[0m \u001b[0mmsg\u001b[0m\u001b[1;33m:\u001b[0m\u001b[1;33m\u001b[0m\u001b[0m\n\u001b[0;32m   1352\u001b[0m                 \u001b[0mself\u001b[0m\u001b[1;33m.\u001b[0m\u001b[0m_result\u001b[0m\u001b[1;33m.\u001b[0m\u001b[0mruntime\u001b[0m\u001b[1;33m.\u001b[0m\u001b[0mstderr\u001b[0m \u001b[1;33m=\u001b[0m \u001b[0mmsg\u001b[0m\u001b[1;33m\u001b[0m\u001b[0m\n",
        "\u001b[1;32m/usr/local/lib/python2.7/dist-packages/nipype/interfaces/base.pyc\u001b[0m in \u001b[0;36mrun\u001b[1;34m(self, **inputs)\u001b[0m\n\u001b[0;32m    822\u001b[0m             results = InterfaceResult(interface, runtime,\n\u001b[0;32m    823\u001b[0m                                       inputs=self.inputs.get_traitsfree())\n\u001b[1;32m--> 824\u001b[1;33m             \u001b[0mresults\u001b[0m\u001b[1;33m.\u001b[0m\u001b[0moutputs\u001b[0m \u001b[1;33m=\u001b[0m \u001b[0mself\u001b[0m\u001b[1;33m.\u001b[0m\u001b[0maggregate_outputs\u001b[0m\u001b[1;33m(\u001b[0m\u001b[0mresults\u001b[0m\u001b[1;33m.\u001b[0m\u001b[0mruntime\u001b[0m\u001b[1;33m)\u001b[0m\u001b[1;33m\u001b[0m\u001b[0m\n\u001b[0m\u001b[0;32m    825\u001b[0m         \u001b[1;32mexcept\u001b[0m \u001b[0mException\u001b[0m\u001b[1;33m,\u001b[0m \u001b[0me\u001b[0m\u001b[1;33m:\u001b[0m\u001b[1;33m\u001b[0m\u001b[0m\n\u001b[0;32m    826\u001b[0m             \u001b[1;32mif\u001b[0m \u001b[0mlen\u001b[0m\u001b[1;33m(\u001b[0m\u001b[0me\u001b[0m\u001b[1;33m.\u001b[0m\u001b[0margs\u001b[0m\u001b[1;33m)\u001b[0m \u001b[1;33m==\u001b[0m \u001b[1;36m0\u001b[0m\u001b[1;33m:\u001b[0m\u001b[1;33m\u001b[0m\u001b[0m\n",
        "\u001b[1;32m/usr/local/lib/python2.7/dist-packages/nipype/interfaces/base.pyc\u001b[0m in \u001b[0;36maggregate_outputs\u001b[1;34m(self, runtime, needed_outputs)\u001b[0m\n\u001b[0;32m    864\u001b[0m         \"\"\" Collate expected outputs and check for existence\n\u001b[0;32m    865\u001b[0m         \"\"\"\n\u001b[1;32m--> 866\u001b[1;33m         \u001b[0mpredicted_outputs\u001b[0m \u001b[1;33m=\u001b[0m \u001b[0mself\u001b[0m\u001b[1;33m.\u001b[0m\u001b[0m_list_outputs\u001b[0m\u001b[1;33m(\u001b[0m\u001b[1;33m)\u001b[0m\u001b[1;33m\u001b[0m\u001b[0m\n\u001b[0m\u001b[0;32m    867\u001b[0m         \u001b[0moutputs\u001b[0m \u001b[1;33m=\u001b[0m \u001b[0mself\u001b[0m\u001b[1;33m.\u001b[0m\u001b[0m_outputs\u001b[0m\u001b[1;33m(\u001b[0m\u001b[1;33m)\u001b[0m\u001b[1;33m\u001b[0m\u001b[0m\n\u001b[0;32m    868\u001b[0m         \u001b[1;32mif\u001b[0m \u001b[0mpredicted_outputs\u001b[0m\u001b[1;33m:\u001b[0m\u001b[1;33m\u001b[0m\u001b[0m\n",
        "\u001b[1;32m/usr/local/lib/python2.7/dist-packages/nipype/interfaces/io.pyc\u001b[0m in \u001b[0;36m_list_outputs\u001b[1;34m(self)\u001b[0m\n\u001b[0;32m    285\u001b[0m             \u001b[0mtempoutdir\u001b[0m \u001b[1;33m=\u001b[0m \u001b[0moutdir\u001b[0m\u001b[1;33m\u001b[0m\u001b[0m\n\u001b[0;32m    286\u001b[0m             \u001b[1;32mfor\u001b[0m \u001b[0md\u001b[0m \u001b[1;32min\u001b[0m \u001b[0mkey\u001b[0m\u001b[1;33m.\u001b[0m\u001b[0msplit\u001b[0m\u001b[1;33m(\u001b[0m\u001b[1;34m'.'\u001b[0m\u001b[1;33m)\u001b[0m\u001b[1;33m:\u001b[0m\u001b[1;33m\u001b[0m\u001b[0m\n\u001b[1;32m--> 287\u001b[1;33m                 \u001b[1;32mif\u001b[0m \u001b[0md\u001b[0m\u001b[1;33m[\u001b[0m\u001b[1;36m0\u001b[0m\u001b[1;33m]\u001b[0m \u001b[1;33m==\u001b[0m \u001b[1;34m'@'\u001b[0m\u001b[1;33m:\u001b[0m\u001b[1;33m\u001b[0m\u001b[0m\n\u001b[0m\u001b[0;32m    288\u001b[0m                     \u001b[1;32mcontinue\u001b[0m\u001b[1;33m\u001b[0m\u001b[0m\n\u001b[0;32m    289\u001b[0m                 \u001b[0mtempoutdir\u001b[0m \u001b[1;33m=\u001b[0m \u001b[0mos\u001b[0m\u001b[1;33m.\u001b[0m\u001b[0mpath\u001b[0m\u001b[1;33m.\u001b[0m\u001b[0mjoin\u001b[0m\u001b[1;33m(\u001b[0m\u001b[0mtempoutdir\u001b[0m\u001b[1;33m,\u001b[0m\u001b[0md\u001b[0m\u001b[1;33m)\u001b[0m\u001b[1;33m\u001b[0m\u001b[0m\n",
        "\u001b[1;31mIndexError\u001b[0m: string index out of range\nInterface DataSink failed to run. "
       ]
      }
     ],
     "prompt_number": 5
    },
    {
     "cell_type": "code",
     "collapsed": true,
     "input": [],
     "language": "python",
     "metadata": {},
     "outputs": []
    }
   ],
   "metadata": {}
  }
 ]
}