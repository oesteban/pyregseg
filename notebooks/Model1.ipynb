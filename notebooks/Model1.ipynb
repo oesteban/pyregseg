{
 "metadata": {
  "name": "Model1"
 },
 "nbformat": 3,
 "nbformat_minor": 0,
 "worksheets": [
  {
   "cells": [
    {
     "cell_type": "code",
     "collapsed": false,
     "input": [
      "import os\n",
      "import nibabel as nib\n",
      "import nipype.pipeline.engine as pe          # pypeline engine\n",
      "import nipype.interfaces.freesurfer as fs\n",
      "import nipype.interfaces.utility as niu\n",
      "import nipype.interfaces.io as nio\n",
      "import functions as fnc\n",
      "from tvtk.api import tvtk\n",
      "\n",
      "model_id = 1\n",
      "model_path = os.path.abspath( 'Model%d' % model_id )"
     ],
     "language": "python",
     "metadata": {},
     "outputs": [],
     "prompt_number": 10
    },
    {
     "cell_type": "code",
     "collapsed": false,
     "input": [
      "model_im = nib.load( os.path.join( model_path, 'model.nii.gz' ) )\n",
      "im_data = model_im.get_data()\n",
      "im_data = np.array( [ im_data[:,:,:,comp] for comp in range( 0, model_im.get_shape()[3] ) ] )\n",
      "\n",
      "dim = im_data[0].shape"
     ],
     "language": "python",
     "metadata": {},
     "outputs": [],
     "prompt_number": 2
    },
    {
     "cell_type": "code",
     "collapsed": false,
     "input": [
      "new_header = model_im.get_header()\n",
      "new_header.set_data_shape( dim )\n",
      "new_header.set_data_dtype( 2 )\n",
      "new_header.set_xyzt_units( 2 )"
     ],
     "language": "python",
     "metadata": {},
     "outputs": [],
     "prompt_number": 3
    },
    {
     "cell_type": "code",
     "collapsed": false,
     "input": [
      "name_pref = 'roi'\n",
      "\n",
      "for comp,name in zip( im_data, ['wm','gm','csf'] ):\n",
      "    if name == 'wm':\n",
      "        comp = im_data[0] + im_data[2]\n",
      "    elif name == 'gm':\n",
      "        comp = im_data[0] + im_data[1] + im_data[2]\n",
      "        \n",
      "    roiname = os.path.join( model_path, '%s_%s.nii' % (name_pref, name) ) \n",
      "    surfname = 'Model%d/lh.%s_%s.vtk' % (model_id,name_pref,name) \n",
      "    fixedsurfname = 'Model%d/fixed.%s_%s.vtk' % (model_id,name_pref,name) \n",
      "    \n",
      "    nib.save( nib.Nifti1Image( comp, model_im.get_affine() , new_header ), roiname )\n",
      "    #mc = fs.MRIMarchingCubes()\n",
      "    #mc.inputs.in_file = roiname\n",
      "    #mc.inputs.label_value = 1\n",
      "    #mc.inputs.out_file = surfname\n",
      "    #mc.run()\n",
      "    #fnc.fixVtk( surfname, fixedsurfname , roiname )"
     ],
     "language": "python",
     "metadata": {},
     "outputs": [
      {
       "output_type": "stream",
       "stream": "stdout",
       "text": [
        "130605-13:02:03,944 interface INFO:\n",
        "\t stderr 2013-06-05T13:02:03.944812:\n"
       ]
      },
      {
       "output_type": "stream",
       "stream": "stdout",
       "text": [
        "130605-13:02:03,947 interface INFO:\n",
        "\t stderr 2013-06-05T13:02:03.947570:preprocessing...done\n"
       ]
      },
      {
       "output_type": "stream",
       "stream": "stdout",
       "text": [
        "130605-13:02:03,947 interface INFO:\n",
        "\t stderr 2013-06-05T13:02:03.947932:starting generation of surface...\n"
       ]
      },
      {
       "output_type": "stream",
       "stream": "stdout",
       "text": [
        "130605-13:02:03,948 interface INFO:\n",
        "\t stderr 2013-06-05T13:02:03.948539:   slice nb 20...\n"
       ]
      },
      {
       "output_type": "stream",
       "stream": "stdout",
       "text": [
        "130605-13:02:03,949 interface INFO:\n",
        "\t stderr 2013-06-05T13:02:03.949648:   slice nb 30...\n"
       ]
      },
      {
       "output_type": "stream",
       "stream": "stdout",
       "text": [
        "130605-13:02:03,950 interface INFO:\n",
        "\t stderr 2013-06-05T13:02:03.950539:   slice nb 40...\n"
       ]
      },
      {
       "output_type": "stream",
       "stream": "stdout",
       "text": [
        "130605-13:02:03,951 interface INFO:\n",
        "\t stderr 2013-06-05T13:02:03.951400:   slice nb 50...\n"
       ]
      },
      {
       "output_type": "stream",
       "stream": "stdout",
       "text": [
        "130605-13:02:03,952 interface INFO:\n",
        "\t stderr 2013-06-05T13:02:03.952345:   slice nb 60...\n"
       ]
      },
      {
       "output_type": "stream",
       "stream": "stdout",
       "text": [
        "130605-13:02:03,953 interface INFO:\n",
        "\t stderr 2013-06-05T13:02:03.953283:   slice nb 70...\n"
       ]
      },
      {
       "output_type": "stream",
       "stream": "stdout",
       "text": [
        "130605-13:02:03,953 interface INFO:\n",
        "\t stderr 2013-06-05T13:02:03.953748:   slice nb 80...\n"
       ]
      },
      {
       "output_type": "stream",
       "stream": "stdout",
       "text": [
        "130605-13:02:03,959 interface INFO:\n",
        "\t stderr 2013-06-05T13:02:03.959327:constructing final surface...\n"
       ]
      },
      {
       "output_type": "stream",
       "stream": "stdout",
       "text": [
        "130605-13:02:04,194 interface INFO:\n",
        "\t stderr 2013-06-05T13:02:04.193964:(surface with 40856 faces and 20430 vertices)...done\n"
       ]
      },
      {
       "output_type": "stream",
       "stream": "stdout",
       "text": [
        "130605-13:02:04,196 interface INFO:\n",
        "\t stderr 2013-06-05T13:02:04.195997:computing the maximum edge length...1.414214 mm\n"
       ]
      },
      {
       "output_type": "stream",
       "stream": "stdout",
       "text": [
        "130605-13:02:04,199 interface INFO:\n",
        "\t stderr 2013-06-05T13:02:04.199259:reversing orientation of faces...\n"
       ]
      },
      {
       "output_type": "stream",
       "stream": "stdout",
       "text": [
        "130605-13:02:04,235 interface INFO:\n",
        "\t stderr 2013-06-05T13:02:04.235177:checking orientation of surface...\n"
       ]
      },
      {
       "output_type": "stream",
       "stream": "stdout",
       "text": [
        "130605-13:02:04,235 interface INFO:\n",
        "\t stderr 2013-06-05T13:02:04.235177:0.000 % of the vertices (0 vertices) exhibit an orientation change\n"
       ]
      },
      {
       "output_type": "stream",
       "stream": "stdout",
       "text": [
        "130605-13:02:04,236 interface INFO:\n",
        "\t stderr 2013-06-05T13:02:04.235995:\n"
       ]
      },
      {
       "output_type": "stream",
       "stream": "stdout",
       "text": [
        "130605-13:02:04,239 interface INFO:\n",
        "\t stderr 2013-06-05T13:02:04.239327:counting number of connected components...\n"
       ]
      },
      {
       "output_type": "stream",
       "stream": "stdout",
       "text": [
        "130605-13:02:04,239 interface INFO:\n",
        "\t stderr 2013-06-05T13:02:04.239327:   20430 voxel in cpt #1: X=2 [v=20430,e=61284,f=40856] located at (0.500000, -0.500000, 0.500000)\n"
       ]
      },
      {
       "output_type": "stream",
       "stream": "stdout",
       "text": [
        "130605-13:02:04,240 interface INFO:\n",
        "\t stderr 2013-06-05T13:02:04.240043:For the whole surface: X=2 [v=20430,e=61284,f=40856]\n"
       ]
      },
      {
       "output_type": "stream",
       "stream": "stdout",
       "text": [
        "130605-13:02:04,240 interface INFO:\n",
        "\t stderr 2013-06-05T13:02:04.240043:One single component has been found\n"
       ]
      },
      {
       "output_type": "stream",
       "stream": "stdout",
       "text": [
        "130605-13:02:04,259 interface INFO:\n",
        "\t stderr 2013-06-05T13:02:04.259610:nothing to do\n"
       ]
      },
      {
       "output_type": "stream",
       "stream": "stdout",
       "text": [
        "130605-13:02:04,300 interface INFO:\n",
        "\t stderr 2013-06-05T13:02:04.300335:writing out surface...done\n"
       ]
      },
      {
       "output_type": "stream",
       "stream": "stdout",
       "text": [
        "130605-13:02:04,303 interface INFO:\n",
        "\t stdout 2013-06-05T13:02:04.303541:changing type of input volume to 8 bits/voxel...\n"
       ]
      },
      {
       "output_type": "stream",
       "stream": "stdout",
       "text": [
        "130605-13:02:04,304 interface INFO:\n",
        "\t stdout 2013-06-05T13:02:04.303541:input volume is not conformed - using useRealRAS=1\n"
       ]
      },
      {
       "output_type": "stream",
       "stream": "stdout",
       "text": [
        "130605-13:02:04,676 interface INFO:\n",
        "\t stderr 2013-06-05T13:02:04.676750:\n"
       ]
      },
      {
       "output_type": "stream",
       "stream": "stdout",
       "text": [
        "130605-13:02:04,679 interface INFO:\n",
        "\t stderr 2013-06-05T13:02:04.679792:preprocessing...done\n"
       ]
      },
      {
       "output_type": "stream",
       "stream": "stdout",
       "text": [
        "130605-13:02:04,680 interface INFO:\n",
        "\t stderr 2013-06-05T13:02:04.680676:starting generation of surface...\n"
       ]
      },
      {
       "output_type": "stream",
       "stream": "stdout",
       "text": [
        "130605-13:02:04,681 interface INFO:\n",
        "\t stderr 2013-06-05T13:02:04.681794:   slice nb 20...\n"
       ]
      },
      {
       "output_type": "stream",
       "stream": "stdout",
       "text": [
        "130605-13:02:04,682 interface INFO:\n",
        "\t stderr 2013-06-05T13:02:04.682864:   slice nb 30...\n"
       ]
      },
      {
       "output_type": "stream",
       "stream": "stdout",
       "text": [
        "130605-13:02:04,683 interface INFO:\n",
        "\t stderr 2013-06-05T13:02:04.683784:   slice nb 40...\n"
       ]
      },
      {
       "output_type": "stream",
       "stream": "stdout",
       "text": [
        "130605-13:02:04,684 interface INFO:\n",
        "\t stderr 2013-06-05T13:02:04.684750:   slice nb 50...\n"
       ]
      },
      {
       "output_type": "stream",
       "stream": "stdout",
       "text": [
        "130605-13:02:04,685 interface INFO:\n",
        "\t stderr 2013-06-05T13:02:04.685811:   slice nb 60...\n"
       ]
      },
      {
       "output_type": "stream",
       "stream": "stdout",
       "text": [
        "130605-13:02:04,686 interface INFO:\n",
        "\t stderr 2013-06-05T13:02:04.686880:   slice nb 70...\n"
       ]
      },
      {
       "output_type": "stream",
       "stream": "stdout",
       "text": [
        "130605-13:02:04,687 interface INFO:\n",
        "\t stderr 2013-06-05T13:02:04.687903:   slice nb 80...\n"
       ]
      },
      {
       "output_type": "stream",
       "stream": "stdout",
       "text": [
        "130605-13:02:04,695 interface INFO:\n",
        "\t stderr 2013-06-05T13:02:04.695049:constructing final surface...\n"
       ]
      },
      {
       "output_type": "stream",
       "stream": "stdout",
       "text": [
        "130605-13:02:05,13 interface INFO:\n",
        "\t stderr 2013-06-05T13:02:05.013668:(surface with 57848 faces and 28926 vertices)...done\n"
       ]
      },
      {
       "output_type": "stream",
       "stream": "stdout",
       "text": [
        "130605-13:02:05,16 interface INFO:\n",
        "\t stderr 2013-06-05T13:02:05.016096:computing the maximum edge length...1.414214 mm\n"
       ]
      },
      {
       "output_type": "stream",
       "stream": "stdout",
       "text": [
        "130605-13:02:05,19 interface INFO:\n",
        "\t stderr 2013-06-05T13:02:05.019299:reversing orientation of faces...\n"
       ]
      },
      {
       "output_type": "stream",
       "stream": "stdout",
       "text": [
        "130605-13:02:05,66 interface INFO:\n",
        "\t stderr 2013-06-05T13:02:05.066327:checking orientation of surface...\n"
       ]
      },
      {
       "output_type": "stream",
       "stream": "stdout",
       "text": [
        "130605-13:02:05,66 interface INFO:\n",
        "\t stderr 2013-06-05T13:02:05.066327:0.000 % of the vertices (0 vertices) exhibit an orientation change\n"
       ]
      },
      {
       "output_type": "stream",
       "stream": "stdout",
       "text": [
        "130605-13:02:05,67 interface INFO:\n",
        "\t stderr 2013-06-05T13:02:05.067233:\n"
       ]
      },
      {
       "output_type": "stream",
       "stream": "stdout",
       "text": [
        "130605-13:02:05,73 interface INFO:\n",
        "\t stderr 2013-06-05T13:02:05.073034:counting number of connected components...\n"
       ]
      },
      {
       "output_type": "stream",
       "stream": "stdout",
       "text": [
        "130605-13:02:05,73 interface INFO:\n",
        "\t stderr 2013-06-05T13:02:05.073525:   28926 voxel in cpt #1: X=2 [v=28926,e=86772,f=57848] located at (0.500000, -0.500000, 0.500000)\n"
       ]
      },
      {
       "output_type": "stream",
       "stream": "stdout",
       "text": [
        "130605-13:02:05,73 interface INFO:\n",
        "\t stderr 2013-06-05T13:02:05.073525:For the whole surface: X=2 [v=28926,e=86772,f=57848]\n"
       ]
      },
      {
       "output_type": "stream",
       "stream": "stdout",
       "text": [
        "130605-13:02:05,74 interface INFO:\n",
        "\t stderr 2013-06-05T13:02:05.073525:One single component has been found\n"
       ]
      },
      {
       "output_type": "stream",
       "stream": "stdout",
       "text": [
        "130605-13:02:05,102 interface INFO:\n",
        "\t stderr 2013-06-05T13:02:05.102799:nothing to do\n"
       ]
      },
      {
       "output_type": "stream",
       "stream": "stdout",
       "text": [
        "130605-13:02:05,158 interface INFO:\n",
        "\t stderr 2013-06-05T13:02:05.158890:writing out surface...done\n"
       ]
      },
      {
       "output_type": "stream",
       "stream": "stdout",
       "text": [
        "130605-13:02:05,163 interface INFO:\n",
        "\t stdout 2013-06-05T13:02:05.163336:changing type of input volume to 8 bits/voxel...\n"
       ]
      },
      {
       "output_type": "stream",
       "stream": "stdout",
       "text": [
        "130605-13:02:05,164 interface INFO:\n",
        "\t stdout 2013-06-05T13:02:05.163336:input volume is not conformed - using useRealRAS=1\n"
       ]
      },
      {
       "output_type": "stream",
       "stream": "stdout",
       "text": [
        "130605-13:02:05,693 interface INFO:\n",
        "\t stderr 2013-06-05T13:02:05.693274:\n"
       ]
      },
      {
       "output_type": "stream",
       "stream": "stdout",
       "text": [
        "130605-13:02:05,695 interface INFO:\n",
        "\t stderr 2013-06-05T13:02:05.695780:preprocessing...done\n"
       ]
      },
      {
       "output_type": "stream",
       "stream": "stdout",
       "text": [
        "130605-13:02:05,696 interface INFO:\n",
        "\t stderr 2013-06-05T13:02:05.696222:starting generation of surface...\n"
       ]
      },
      {
       "output_type": "stream",
       "stream": "stdout",
       "text": [
        "130605-13:02:05,696 interface INFO:\n",
        "\t stderr 2013-06-05T13:02:05.696653:   slice nb 30...\n"
       ]
      },
      {
       "output_type": "stream",
       "stream": "stdout",
       "text": [
        "130605-13:02:05,697 interface INFO:\n",
        "\t stderr 2013-06-05T13:02:05.697099:   slice nb 40...\n"
       ]
      },
      {
       "output_type": "stream",
       "stream": "stdout",
       "text": [
        "130605-13:02:05,697 interface INFO:\n",
        "\t stderr 2013-06-05T13:02:05.697502:   slice nb 50...\n"
       ]
      },
      {
       "output_type": "stream",
       "stream": "stdout",
       "text": [
        "130605-13:02:05,697 interface INFO:\n",
        "\t stderr 2013-06-05T13:02:05.697875:   slice nb 60...\n"
       ]
      },
      {
       "output_type": "stream",
       "stream": "stdout",
       "text": [
        "130605-13:02:05,698 interface INFO:\n",
        "\t stderr 2013-06-05T13:02:05.698223:   slice nb 70...\n"
       ]
      },
      {
       "output_type": "stream",
       "stream": "stdout",
       "text": [
        "130605-13:02:05,699 interface INFO:\n",
        "\t stderr 2013-06-05T13:02:05.699189:constructing final surface...\n"
       ]
      },
      {
       "output_type": "stream",
       "stream": "stdout",
       "text": [
        "130605-13:02:05,766 interface INFO:\n",
        "\t stderr 2013-06-05T13:02:05.766520:(surface with 11964 faces and 5984 vertices)...done\n"
       ]
      },
      {
       "output_type": "stream",
       "stream": "stdout",
       "text": [
        "130605-13:02:05,767 interface INFO:\n",
        "\t stderr 2013-06-05T13:02:05.767084:computing the maximum edge length...1.414214 mm\n"
       ]
      },
      {
       "output_type": "stream",
       "stream": "stdout",
       "text": [
        "130605-13:02:05,767 interface INFO:\n",
        "\t stderr 2013-06-05T13:02:05.767610:reversing orientation of faces...\n"
       ]
      },
      {
       "output_type": "stream",
       "stream": "stdout",
       "text": [
        "130605-13:02:05,778 interface INFO:\n",
        "\t stderr 2013-06-05T13:02:05.777899:checking orientation of surface...\n"
       ]
      },
      {
       "output_type": "stream",
       "stream": "stdout",
       "text": [
        "130605-13:02:05,779 interface INFO:\n",
        "\t stderr 2013-06-05T13:02:05.777899:0.000 % of the vertices (0 vertices) exhibit an orientation change\n"
       ]
      },
      {
       "output_type": "stream",
       "stream": "stdout",
       "text": [
        "130605-13:02:05,779 interface INFO:\n",
        "\t stderr 2013-06-05T13:02:05.779838:\n"
       ]
      },
      {
       "output_type": "stream",
       "stream": "stdout",
       "text": [
        "130605-13:02:05,780 interface INFO:\n",
        "\t stderr 2013-06-05T13:02:05.779838:counting number of connected components...\n"
       ]
      },
      {
       "output_type": "stream",
       "stream": "stdout",
       "text": [
        "130605-13:02:05,780 interface INFO:\n",
        "\t stderr 2013-06-05T13:02:05.779838:   5984 voxel in cpt #1: X=2 [v=5984,e=17946,f=11964] located at (1.500000, -1.000000, 0.000000)\n"
       ]
      },
      {
       "output_type": "stream",
       "stream": "stdout",
       "text": [
        "130605-13:02:05,781 interface INFO:\n",
        "\t stderr 2013-06-05T13:02:05.779838:For the whole surface: X=2 [v=5984,e=17946,f=11964]\n"
       ]
      },
      {
       "output_type": "stream",
       "stream": "stdout",
       "text": [
        "130605-13:02:05,782 interface INFO:\n",
        "\t stderr 2013-06-05T13:02:05.779838:One single component has been found\n"
       ]
      },
      {
       "output_type": "stream",
       "stream": "stdout",
       "text": [
        "130605-13:02:05,785 interface INFO:\n",
        "\t stderr 2013-06-05T13:02:05.785291:nothing to do\n"
       ]
      },
      {
       "output_type": "stream",
       "stream": "stdout",
       "text": [
        "130605-13:02:05,796 interface INFO:\n",
        "\t stderr 2013-06-05T13:02:05.795966:writing out surface...done\n"
       ]
      },
      {
       "output_type": "stream",
       "stream": "stdout",
       "text": [
        "130605-13:02:05,798 interface INFO:\n",
        "\t stdout 2013-06-05T13:02:05.798159:changing type of input volume to 8 bits/voxel...\n"
       ]
      },
      {
       "output_type": "stream",
       "stream": "stdout",
       "text": [
        "130605-13:02:05,798 interface INFO:\n",
        "\t stdout 2013-06-05T13:02:05.798159:input volume is not conformed - using useRealRAS=1\n"
       ]
      }
     ],
     "prompt_number": 5
    },
    {
     "cell_type": "code",
     "collapsed": false,
     "input": [
      "import functions as fnc\n",
      "import os\n",
      "model_id = 1\n",
      "model_path = os.path.abspath( 'Model%d' % model_id )"
     ],
     "language": "python",
     "metadata": {},
     "outputs": [],
     "prompt_number": 2
    },
    {
     "cell_type": "code",
     "collapsed": false,
     "input": [
      "for surf_id in [ 'csf', 'wm', 'gm' ]:\n",
      "    wf = fnc.surfaceWorkflow(model_path=os.getcwd() )\n",
      "    wf.inputs.inputnode.in_roi = os.path.join( model_path, 'roi_%s.nii' % (surf_id) ) \n",
      "    wf.inputs.inputnode.surf_id = surf_id\n",
      "    wf.inputs.inputnode.model_id = 'Model1'\n",
      "    res = wf.run()\n",
      "    "
     ],
     "language": "python",
     "metadata": {},
     "outputs": [
      {
       "output_type": "stream",
       "stream": "stdout",
       "text": [
        "130605-16:25:33,814 workflow INFO:\n",
        "\t ['check', 'execution', 'logging']\n"
       ]
      },
      {
       "output_type": "stream",
       "stream": "stdout",
       "text": [
        "130605-16:25:33,820 workflow INFO:\n",
        "\t Running serially.\n"
       ]
      },
      {
       "output_type": "stream",
       "stream": "stdout",
       "text": [
        "130605-16:25:33,821 workflow INFO:\n",
        "\t Executing node tessellate in dir: /tmp/tmpiO2gCg/Surface/tessellate\n"
       ]
      },
      {
       "output_type": "stream",
       "stream": "stdout",
       "text": [
        "130605-16:25:33,823 workflow INFO:\n",
        "\t Running: mri_tessellate -n /home/oesteban/workspace/ACWE-Reg/Data/ModelGeneration/Model1/roi_csf.nii 1 ./roi_csf.nii_1\n"
       ]
      },
      {
       "output_type": "stream",
       "stream": "stdout",
       "text": [
        "130605-16:25:33,867 interface INFO:\n",
        "\t stdout 2013-06-05T16:25:33.867517:surface saved uses coordinates in the real RAS where c_(r,a,s) != 0\n"
       ]
      },
      {
       "output_type": "stream",
       "stream": "stdout",
       "text": [
        "130605-16:25:33,868 interface INFO:\n",
        "\t stdout 2013-06-05T16:25:33.867517:changing type of input volume to 8 bits/voxel...\n"
       ]
      },
      {
       "output_type": "stream",
       "stream": "stdout",
       "text": [
        "130605-16:25:33,868 interface INFO:\n",
        "\t stdout 2013-06-05T16:25:33.867517:$Id: mri_tessellate.c,v 1.36 2011/03/02 00:04:25 nicks Exp $\n"
       ]
      },
      {
       "output_type": "stream",
       "stream": "stdout",
       "text": [
        "130605-16:25:33,868 interface INFO:\n",
        "\t stdout 2013-06-05T16:25:33.867517:  $Id: mrisurf.c,v 1.693.2.7 2013/05/12 22:28:01 nicks Exp $\n"
       ]
      },
      {
       "output_type": "stream",
       "stream": "stdout",
       "text": [
        "130605-16:25:33,922 interface INFO:\n",
        "\t stdout 2013-06-05T16:25:33.922012:slice 30: 192 vertices, 217 faces\n"
       ]
      },
      {
       "output_type": "stream",
       "stream": "stdout",
       "text": [
        "130605-16:25:33,922 interface INFO:\n",
        "\t stdout 2013-06-05T16:25:33.922012:slice 40: 1452 vertices, 1501 faces\n"
       ]
      },
      {
       "output_type": "stream",
       "stream": "stdout",
       "text": [
        "130605-16:25:33,922 interface INFO:\n",
        "\t stdout 2013-06-05T16:25:33.922012:slice 50: 2878 vertices, 2941 faces\n"
       ]
      },
      {
       "output_type": "stream",
       "stream": "stdout",
       "text": [
        "130605-16:25:33,923 interface INFO:\n",
        "\t stdout 2013-06-05T16:25:33.922012:slice 60: 4424 vertices, 4483 faces\n"
       ]
      },
      {
       "output_type": "stream",
       "stream": "stdout",
       "text": [
        "130605-16:25:33,923 interface INFO:\n",
        "\t stdout 2013-06-05T16:25:33.922012:slice 70: 5648 vertices, 5691 faces\n"
       ]
      },
      {
       "output_type": "stream",
       "stream": "stdout",
       "text": [
        "130605-16:25:33,923 interface INFO:\n",
        "\t stdout 2013-06-05T16:25:33.922012:slice 80: 5976 vertices, 5984 faces\n"
       ]
      },
      {
       "output_type": "stream",
       "stream": "stdout",
       "text": [
        "130605-16:25:33,924 interface INFO:\n",
        "\t stdout 2013-06-05T16:25:33.922012:slice 90: 5976 vertices, 5984 faces\n"
       ]
      },
      {
       "output_type": "stream",
       "stream": "stdout",
       "text": [
        "130605-16:25:33,924 interface INFO:\n",
        "\t stdout 2013-06-05T16:25:33.922012:slice 100: 5976 vertices, 5984 faces\n"
       ]
      },
      {
       "output_type": "stream",
       "stream": "stdout",
       "text": [
        "130605-16:25:33,924 interface INFO:\n",
        "\t stdout 2013-06-05T16:25:33.922012:using real RAS to save vertex points...\n"
       ]
      },
      {
       "output_type": "stream",
       "stream": "stdout",
       "text": [
        "130605-16:25:33,925 interface INFO:\n",
        "\t stdout 2013-06-05T16:25:33.922012:writing ./roi_csf.nii_1\n"
       ]
      },
      {
       "output_type": "stream",
       "stream": "stdout",
       "text": [
        "130605-16:25:33,926 interface INFO:\n",
        "\t stdout 2013-06-05T16:25:33.922012:using vox2ras matrix:\n"
       ]
      },
      {
       "output_type": "stream",
       "stream": "stdout",
       "text": [
        "130605-16:25:33,926 interface INFO:\n",
        "\t stdout 2013-06-05T16:25:33.922012: 1.000   0.000   0.000   0.000;\n"
       ]
      },
      {
       "output_type": "stream",
       "stream": "stdout",
       "text": [
        "130605-16:25:33,926 interface INFO:\n",
        "\t stdout 2013-06-05T16:25:33.922012: 0.000   1.000   0.000   0.000;\n"
       ]
      },
      {
       "output_type": "stream",
       "stream": "stdout",
       "text": [
        "130605-16:25:33,926 interface INFO:\n",
        "\t stdout 2013-06-05T16:25:33.922012: 0.000   0.000   1.000   0.000;\n"
       ]
      },
      {
       "output_type": "stream",
       "stream": "stdout",
       "text": [
        "130605-16:25:33,927 interface INFO:\n",
        "\t stdout 2013-06-05T16:25:33.922012: 0.000   0.000   0.000   1.000;\n"
       ]
      },
      {
       "output_type": "stream",
       "stream": "stdout",
       "text": [
        "130605-16:25:33,932 workflow INFO:\n",
        "\t Executing node smooth in dir: /tmp/tmpwXXBdc/Surface/smooth\n"
       ]
      },
      {
       "output_type": "stream",
       "stream": "stdout",
       "text": [
        "130605-16:25:33,935 workflow INFO:\n",
        "\t Running: mris_smooth /tmp/tmpiO2gCg/Surface/tessellate/roi_csf.nii_1 /tmp/tmpwXXBdc/Surface/smooth/roi_csf_smoothed.nii_1 -nw -n 10 -a 10\n"
       ]
      },
      {
       "output_type": "stream",
       "stream": "stdout",
       "text": [
        "130605-16:25:33,993 interface INFO:\n",
        "\t stderr 2013-06-05T16:25:33.993160:smoothing surface tessellation for 10 iterations...\n"
       ]
      },
      {
       "output_type": "stream",
       "stream": "stdout",
       "text": [
        "130605-16:25:34,3 interface INFO:\n",
        "\t stderr 2013-06-05T16:25:34.003033:smoothing complete - recomputing first and second fundamental forms...\n"
       ]
      },
      {
       "output_type": "stream",
       "stream": "stdout",
       "text": [
        "130605-16:25:34,67 interface INFO:\n",
        "\t stderr 2013-06-05T16:25:34.067128:writing smoothed curvature to /tmp/tmpwXXBdc/Surface/smooth/rh.curv\n"
       ]
      },
      {
       "output_type": "stream",
       "stream": "stdout",
       "text": [
        "130605-16:25:34,67 interface INFO:\n",
        "\t stderr 2013-06-05T16:25:34.067579:writing smoothed area to /tmp/tmpwXXBdc/Surface/smooth/rh.area\n"
       ]
      },
      {
       "output_type": "stream",
       "stream": "stdout",
       "text": [
        "130605-16:25:34,74 workflow INFO:\n",
        "\t Executing node tovtk in dir: /tmp/tmpyulnWi/Surface/tovtk\n"
       ]
      },
      {
       "output_type": "stream",
       "stream": "stdout",
       "text": [
        "130605-16:25:34,77 workflow INFO:\n",
        "\t Running: mris_convert /tmp/tmpwXXBdc/Surface/smooth/roi_csf_smoothed.nii_1 ./roi_csf_smoothed.nii_1_converted.vtk\n"
       ]
      },
      {
       "output_type": "stream",
       "stream": "stdout",
       "text": [
        "130605-16:25:34,155 workflow INFO:\n",
        "\t Executing node sinker in dir: /tmp/tmpMKuzZ9/Surface/sinker\n"
       ]
      },
      {
       "output_type": "stream",
       "stream": "stdout",
       "text": [
        "130605-16:25:34,186 workflow INFO:\n",
        "\t ['check', 'execution', 'logging']\n"
       ]
      },
      {
       "output_type": "stream",
       "stream": "stdout",
       "text": [
        "130605-16:25:34,192 workflow INFO:\n",
        "\t Running serially.\n"
       ]
      },
      {
       "output_type": "stream",
       "stream": "stdout",
       "text": [
        "130605-16:25:34,193 workflow INFO:\n",
        "\t Executing node tessellate in dir: /tmp/tmpLjMmZx/Surface/tessellate\n"
       ]
      },
      {
       "output_type": "stream",
       "stream": "stdout",
       "text": [
        "130605-16:25:34,196 workflow INFO:\n",
        "\t Running: mri_tessellate -n /home/oesteban/workspace/ACWE-Reg/Data/ModelGeneration/Model1/roi_wm.nii 1 ./roi_wm.nii_1\n"
       ]
      },
      {
       "output_type": "stream",
       "stream": "stdout",
       "text": [
        "130605-16:25:34,248 interface INFO:\n",
        "\t stdout 2013-06-05T16:25:34.248073:surface saved uses coordinates in the real RAS where c_(r,a,s) != 0\n"
       ]
      },
      {
       "output_type": "stream",
       "stream": "stdout",
       "text": [
        "130605-16:25:34,248 interface INFO:\n",
        "\t stdout 2013-06-05T16:25:34.248073:changing type of input volume to 8 bits/voxel...\n"
       ]
      },
      {
       "output_type": "stream",
       "stream": "stdout",
       "text": [
        "130605-16:25:34,249 interface INFO:\n",
        "\t stdout 2013-06-05T16:25:34.248073:$Id: mri_tessellate.c,v 1.36 2011/03/02 00:04:25 nicks Exp $\n"
       ]
      },
      {
       "output_type": "stream",
       "stream": "stdout",
       "text": [
        "130605-16:25:34,249 interface INFO:\n",
        "\t stdout 2013-06-05T16:25:34.248073:  $Id: mrisurf.c,v 1.693.2.7 2013/05/12 22:28:01 nicks Exp $\n"
       ]
      },
      {
       "output_type": "stream",
       "stream": "stdout",
       "text": [
        "130605-16:25:34,304 interface INFO:\n",
        "\t stdout 2013-06-05T16:25:34.304702:slice 20: 516 vertices, 561 faces\n"
       ]
      },
      {
       "output_type": "stream",
       "stream": "stdout",
       "text": [
        "130605-16:25:34,305 interface INFO:\n",
        "\t stdout 2013-06-05T16:25:34.304702:slice 30: 3708 vertices, 3809 faces\n"
       ]
      },
      {
       "output_type": "stream",
       "stream": "stdout",
       "text": [
        "130605-16:25:34,305 interface INFO:\n",
        "\t stdout 2013-06-05T16:25:34.304702:slice 40: 7012 vertices, 7137 faces\n"
       ]
      },
      {
       "output_type": "stream",
       "stream": "stdout",
       "text": [
        "130605-16:25:34,305 interface INFO:\n",
        "\t stdout 2013-06-05T16:25:34.304702:slice 50: 9948 vertices, 10077 faces\n"
       ]
      },
      {
       "output_type": "stream",
       "stream": "stdout",
       "text": [
        "130605-16:25:34,305 interface INFO:\n",
        "\t stdout 2013-06-05T16:25:34.304702:slice 60: 12808 vertices, 12933 faces\n"
       ]
      },
      {
       "output_type": "stream",
       "stream": "stdout",
       "text": [
        "130605-16:25:34,306 interface INFO:\n",
        "\t stdout 2013-06-05T16:25:34.304702:slice 70: 16044 vertices, 16149 faces\n"
       ]
      },
      {
       "output_type": "stream",
       "stream": "stdout",
       "text": [
        "130605-16:25:34,306 interface INFO:\n",
        "\t stdout 2013-06-05T16:25:34.304702:slice 80: 19324 vertices, 19385 faces\n"
       ]
      },
      {
       "output_type": "stream",
       "stream": "stdout",
       "text": [
        "130605-16:25:34,306 interface INFO:\n",
        "\t stdout 2013-06-05T16:25:34.304702:slice 90: 20432 vertices, 20430 faces\n"
       ]
      },
      {
       "output_type": "stream",
       "stream": "stdout",
       "text": [
        "130605-16:25:34,307 interface INFO:\n",
        "\t stdout 2013-06-05T16:25:34.304702:slice 100: 20432 vertices, 20430 faces\n"
       ]
      },
      {
       "output_type": "stream",
       "stream": "stdout",
       "text": [
        "130605-16:25:34,307 interface INFO:\n",
        "\t stdout 2013-06-05T16:25:34.304702:using real RAS to save vertex points...\n"
       ]
      },
      {
       "output_type": "stream",
       "stream": "stdout",
       "text": [
        "130605-16:25:34,307 interface INFO:\n",
        "\t stdout 2013-06-05T16:25:34.304702:writing ./roi_wm.nii_1\n"
       ]
      },
      {
       "output_type": "stream",
       "stream": "stdout",
       "text": [
        "130605-16:25:34,307 interface INFO:\n",
        "\t stdout 2013-06-05T16:25:34.304702:using vox2ras matrix:\n"
       ]
      },
      {
       "output_type": "stream",
       "stream": "stdout",
       "text": [
        "130605-16:25:34,308 interface INFO:\n",
        "\t stdout 2013-06-05T16:25:34.304702: 1.000   0.000   0.000   0.000;\n"
       ]
      },
      {
       "output_type": "stream",
       "stream": "stdout",
       "text": [
        "130605-16:25:34,308 interface INFO:\n",
        "\t stdout 2013-06-05T16:25:34.304702: 0.000   1.000   0.000   0.000;\n"
       ]
      },
      {
       "output_type": "stream",
       "stream": "stdout",
       "text": [
        "130605-16:25:34,308 interface INFO:\n",
        "\t stdout 2013-06-05T16:25:34.304702: 0.000   0.000   1.000   0.000;\n"
       ]
      },
      {
       "output_type": "stream",
       "stream": "stdout",
       "text": [
        "130605-16:25:34,308 interface INFO:\n",
        "\t stdout 2013-06-05T16:25:34.304702: 0.000   0.000   0.000   1.000;\n"
       ]
      },
      {
       "output_type": "stream",
       "stream": "stdout",
       "text": [
        "130605-16:25:34,315 workflow INFO:\n",
        "\t Executing node smooth in dir: /tmp/tmp9gKWSm/Surface/smooth\n"
       ]
      },
      {
       "output_type": "stream",
       "stream": "stdout",
       "text": [
        "130605-16:25:34,320 workflow INFO:\n",
        "\t Running: mris_smooth /tmp/tmpLjMmZx/Surface/tessellate/roi_wm.nii_1 /tmp/tmp9gKWSm/Surface/smooth/roi_wm_smoothed.nii_1 -nw -n 10 -a 10\n"
       ]
      },
      {
       "output_type": "stream",
       "stream": "stdout",
       "text": [
        "130605-16:25:34,474 interface INFO:\n",
        "\t stderr 2013-06-05T16:25:34.474497:smoothing surface tessellation for 10 iterations...\n"
       ]
      },
      {
       "output_type": "stream",
       "stream": "stdout",
       "text": [
        "130605-16:25:34,524 interface INFO:\n",
        "\t stderr 2013-06-05T16:25:34.524348:smoothing complete - recomputing first and second fundamental forms...\n"
       ]
      },
      {
       "output_type": "stream",
       "stream": "stdout",
       "text": [
        "130605-16:25:34,740 interface INFO:\n",
        "\t stderr 2013-06-05T16:25:34.740923:writing smoothed curvature to /tmp/tmp9gKWSm/Surface/smooth/rh.curv\n"
       ]
      },
      {
       "output_type": "stream",
       "stream": "stdout",
       "text": [
        "130605-16:25:34,741 interface INFO:\n",
        "\t stderr 2013-06-05T16:25:34.741785:writing smoothed area to /tmp/tmp9gKWSm/Surface/smooth/rh.area\n"
       ]
      },
      {
       "output_type": "stream",
       "stream": "stdout",
       "text": [
        "130605-16:25:34,757 workflow INFO:\n",
        "\t Executing node tovtk in dir: /tmp/tmpYHNtpZ/Surface/tovtk\n"
       ]
      },
      {
       "output_type": "stream",
       "stream": "stdout",
       "text": [
        "130605-16:25:34,761 workflow INFO:\n",
        "\t Running: mris_convert /tmp/tmp9gKWSm/Surface/smooth/roi_wm_smoothed.nii_1 ./roi_wm_smoothed.nii_1_converted.vtk\n"
       ]
      },
      {
       "output_type": "stream",
       "stream": "stdout",
       "text": [
        "130605-16:25:34,989 workflow INFO:\n",
        "\t Executing node sinker in dir: /tmp/tmpO3Yu3F/Surface/sinker\n"
       ]
      },
      {
       "output_type": "stream",
       "stream": "stdout",
       "text": [
        "130605-16:25:35,18 workflow INFO:\n",
        "\t ['check', 'execution', 'logging']\n"
       ]
      },
      {
       "output_type": "stream",
       "stream": "stdout",
       "text": [
        "130605-16:25:35,24 workflow INFO:\n",
        "\t Running serially.\n"
       ]
      },
      {
       "output_type": "stream",
       "stream": "stdout",
       "text": [
        "130605-16:25:35,25 workflow INFO:\n",
        "\t Executing node tessellate in dir: /tmp/tmpFkR4tn/Surface/tessellate\n"
       ]
      },
      {
       "output_type": "stream",
       "stream": "stdout",
       "text": [
        "130605-16:25:35,27 workflow INFO:\n",
        "\t Running: mri_tessellate -n /home/oesteban/workspace/ACWE-Reg/Data/ModelGeneration/Model1/roi_gm.nii 1 ./roi_gm.nii_1\n"
       ]
      },
      {
       "output_type": "stream",
       "stream": "stdout",
       "text": [
        "130605-16:25:35,72 interface INFO:\n",
        "\t stdout 2013-06-05T16:25:35.071979:surface saved uses coordinates in the real RAS where c_(r,a,s) != 0\n"
       ]
      },
      {
       "output_type": "stream",
       "stream": "stdout",
       "text": [
        "130605-16:25:35,72 interface INFO:\n",
        "\t stdout 2013-06-05T16:25:35.071979:changing type of input volume to 8 bits/voxel...\n"
       ]
      },
      {
       "output_type": "stream",
       "stream": "stdout",
       "text": [
        "130605-16:25:35,72 interface INFO:\n",
        "\t stdout 2013-06-05T16:25:35.071979:$Id: mri_tessellate.c,v 1.36 2011/03/02 00:04:25 nicks Exp $\n"
       ]
      },
      {
       "output_type": "stream",
       "stream": "stdout",
       "text": [
        "130605-16:25:35,73 interface INFO:\n",
        "\t stdout 2013-06-05T16:25:35.071979:  $Id: mrisurf.c,v 1.693.2.7 2013/05/12 22:28:01 nicks Exp $\n"
       ]
      },
      {
       "output_type": "stream",
       "stream": "stdout",
       "text": [
        "130605-16:25:35,132 interface INFO:\n",
        "\t stdout 2013-06-05T16:25:35.132876:slice 20: 2920 vertices, 3017 faces\n"
       ]
      },
      {
       "output_type": "stream",
       "stream": "stdout",
       "text": [
        "130605-16:25:35,133 interface INFO:\n",
        "\t stdout 2013-06-05T16:25:35.132876:slice 30: 6892 vertices, 7025 faces\n"
       ]
      },
      {
       "output_type": "stream",
       "stream": "stdout",
       "text": [
        "130605-16:25:35,133 interface INFO:\n",
        "\t stdout 2013-06-05T16:25:35.132876:slice 40: 10752 vertices, 10901 faces\n"
       ]
      },
      {
       "output_type": "stream",
       "stream": "stdout",
       "text": [
        "130605-16:25:35,133 interface INFO:\n",
        "\t stdout 2013-06-05T16:25:35.132876:slice 50: 14156 vertices, 14309 faces\n"
       ]
      },
      {
       "output_type": "stream",
       "stream": "stdout",
       "text": [
        "130605-16:25:35,134 interface INFO:\n",
        "\t stdout 2013-06-05T16:25:35.132876:slice 60: 17436 vertices, 17589 faces\n"
       ]
      },
      {
       "output_type": "stream",
       "stream": "stdout",
       "text": [
        "130605-16:25:35,134 interface INFO:\n",
        "\t stdout 2013-06-05T16:25:35.132876:slice 70: 21264 vertices, 21401 faces\n"
       ]
      },
      {
       "output_type": "stream",
       "stream": "stdout",
       "text": [
        "130605-16:25:35,134 interface INFO:\n",
        "\t stdout 2013-06-05T16:25:35.132876:slice 80: 25224 vertices, 25329 faces\n"
       ]
      },
      {
       "output_type": "stream",
       "stream": "stdout",
       "text": [
        "130605-16:25:35,135 interface INFO:\n",
        "\t stdout 2013-06-05T16:25:35.132876:slice 90: 28928 vertices, 28926 faces\n"
       ]
      },
      {
       "output_type": "stream",
       "stream": "stdout",
       "text": [
        "130605-16:25:35,135 interface INFO:\n",
        "\t stdout 2013-06-05T16:25:35.132876:slice 100: 28928 vertices, 28926 faces\n"
       ]
      },
      {
       "output_type": "stream",
       "stream": "stdout",
       "text": [
        "130605-16:25:35,135 interface INFO:\n",
        "\t stdout 2013-06-05T16:25:35.132876:using real RAS to save vertex points...\n"
       ]
      },
      {
       "output_type": "stream",
       "stream": "stdout",
       "text": [
        "130605-16:25:35,136 interface INFO:\n",
        "\t stdout 2013-06-05T16:25:35.132876:writing ./roi_gm.nii_1\n"
       ]
      },
      {
       "output_type": "stream",
       "stream": "stdout",
       "text": [
        "130605-16:25:35,136 interface INFO:\n",
        "\t stdout 2013-06-05T16:25:35.132876:using vox2ras matrix:\n"
       ]
      },
      {
       "output_type": "stream",
       "stream": "stdout",
       "text": [
        "130605-16:25:35,136 interface INFO:\n",
        "\t stdout 2013-06-05T16:25:35.132876: 1.000   0.000   0.000   0.000;\n"
       ]
      },
      {
       "output_type": "stream",
       "stream": "stdout",
       "text": [
        "130605-16:25:35,137 interface INFO:\n",
        "\t stdout 2013-06-05T16:25:35.132876: 0.000   1.000   0.000   0.000;\n"
       ]
      },
      {
       "output_type": "stream",
       "stream": "stdout",
       "text": [
        "130605-16:25:35,137 interface INFO:\n",
        "\t stdout 2013-06-05T16:25:35.132876: 0.000   0.000   1.000   0.000;\n"
       ]
      },
      {
       "output_type": "stream",
       "stream": "stdout",
       "text": [
        "130605-16:25:35,138 interface INFO:\n",
        "\t stdout 2013-06-05T16:25:35.132876: 0.000   0.000   0.000   1.000;\n"
       ]
      },
      {
       "output_type": "stream",
       "stream": "stdout",
       "text": [
        "130605-16:25:35,145 workflow INFO:\n",
        "\t Executing node smooth in dir: /tmp/tmppX4pKS/Surface/smooth\n"
       ]
      },
      {
       "output_type": "stream",
       "stream": "stdout",
       "text": [
        "130605-16:25:35,147 workflow INFO:\n",
        "\t Running: mris_smooth /tmp/tmpFkR4tn/Surface/tessellate/roi_gm.nii_1 /tmp/tmppX4pKS/Surface/smooth/roi_gm_smoothed.nii_1 -nw -n 10 -a 10\n"
       ]
      },
      {
       "output_type": "stream",
       "stream": "stdout",
       "text": [
        "130605-16:25:35,356 interface INFO:\n",
        "\t stderr 2013-06-05T16:25:35.356637:smoothing surface tessellation for 10 iterations...\n"
       ]
      },
      {
       "output_type": "stream",
       "stream": "stdout",
       "text": [
        "130605-16:25:35,429 interface INFO:\n",
        "\t stderr 2013-06-05T16:25:35.429833:smoothing complete - recomputing first and second fundamental forms...\n"
       ]
      },
      {
       "output_type": "stream",
       "stream": "stdout",
       "text": [
        "130605-16:25:35,745 interface INFO:\n",
        "\t stderr 2013-06-05T16:25:35.745784:writing smoothed curvature to /tmp/tmppX4pKS/Surface/smooth/rh.curv\n"
       ]
      },
      {
       "output_type": "stream",
       "stream": "stdout",
       "text": [
        "130605-16:25:35,747 interface INFO:\n",
        "\t stderr 2013-06-05T16:25:35.747021:writing smoothed area to /tmp/tmppX4pKS/Surface/smooth/rh.area\n"
       ]
      },
      {
       "output_type": "stream",
       "stream": "stdout",
       "text": [
        "130605-16:25:35,761 workflow INFO:\n",
        "\t Executing node tovtk in dir: /tmp/tmpKVrrRF/Surface/tovtk\n"
       ]
      },
      {
       "output_type": "stream",
       "stream": "stdout",
       "text": [
        "130605-16:25:35,763 workflow INFO:\n",
        "\t Running: mris_convert /tmp/tmppX4pKS/Surface/smooth/roi_gm_smoothed.nii_1 ./roi_gm_smoothed.nii_1_converted.vtk\n"
       ]
      },
      {
       "output_type": "stream",
       "stream": "stdout",
       "text": [
        "130605-16:25:36,62 workflow INFO:\n",
        "\t Executing node sinker in dir: /tmp/tmpB5NzFV/Surface/sinker\n"
       ]
      }
     ],
     "prompt_number": 3
    },
    {
     "cell_type": "code",
     "collapsed": false,
     "input": [
      "import glob\n",
      "\n",
      "for i in glob.glob( os.path.join( model_path, 'deformed*.nii.gz' ) ):\n",
      "    nib.save( nib.Nifti1Image( nib.load( i ).get_data(), model_im.get_affine(), new_header), os.path.join( model_path, 'r_' + os.path.basename(i) ) )"
     ],
     "language": "python",
     "metadata": {},
     "outputs": [
      {
       "ename": "NameError",
       "evalue": "name 'nib' is not defined",
       "output_type": "pyerr",
       "traceback": [
        "\u001b[1;31m---------------------------------------------------------------------------\u001b[0m\n\u001b[1;31mNameError\u001b[0m                                 Traceback (most recent call last)",
        "\u001b[1;32m<ipython-input-3-e2c0b92726d2>\u001b[0m in \u001b[0;36m<module>\u001b[1;34m()\u001b[0m\n\u001b[0;32m      2\u001b[0m \u001b[1;33m\u001b[0m\u001b[0m\n\u001b[0;32m      3\u001b[0m \u001b[1;32mfor\u001b[0m \u001b[0mi\u001b[0m \u001b[1;32min\u001b[0m \u001b[0mglob\u001b[0m\u001b[1;33m.\u001b[0m\u001b[0mglob\u001b[0m\u001b[1;33m(\u001b[0m \u001b[0mos\u001b[0m\u001b[1;33m.\u001b[0m\u001b[0mpath\u001b[0m\u001b[1;33m.\u001b[0m\u001b[0mjoin\u001b[0m\u001b[1;33m(\u001b[0m \u001b[0mmodel_path\u001b[0m\u001b[1;33m,\u001b[0m \u001b[1;34m'deformed*.nii.gz'\u001b[0m \u001b[1;33m)\u001b[0m \u001b[1;33m)\u001b[0m\u001b[1;33m:\u001b[0m\u001b[1;33m\u001b[0m\u001b[0m\n\u001b[1;32m----> 4\u001b[1;33m     \u001b[0mnib\u001b[0m\u001b[1;33m.\u001b[0m\u001b[0msave\u001b[0m\u001b[1;33m(\u001b[0m \u001b[0mnib\u001b[0m\u001b[1;33m.\u001b[0m\u001b[0mNifti1Image\u001b[0m\u001b[1;33m(\u001b[0m \u001b[0mnib\u001b[0m\u001b[1;33m.\u001b[0m\u001b[0mload\u001b[0m\u001b[1;33m(\u001b[0m \u001b[0mi\u001b[0m \u001b[1;33m)\u001b[0m\u001b[1;33m.\u001b[0m\u001b[0mget_data\u001b[0m\u001b[1;33m(\u001b[0m\u001b[1;33m)\u001b[0m\u001b[1;33m,\u001b[0m \u001b[0mmodel_im\u001b[0m\u001b[1;33m.\u001b[0m\u001b[0mget_affine\u001b[0m\u001b[1;33m(\u001b[0m\u001b[1;33m)\u001b[0m\u001b[1;33m,\u001b[0m \u001b[0mnew_header\u001b[0m\u001b[1;33m)\u001b[0m\u001b[1;33m,\u001b[0m \u001b[0mos\u001b[0m\u001b[1;33m.\u001b[0m\u001b[0mpath\u001b[0m\u001b[1;33m.\u001b[0m\u001b[0mjoin\u001b[0m\u001b[1;33m(\u001b[0m \u001b[0mmodel_path\u001b[0m\u001b[1;33m,\u001b[0m \u001b[1;34m'r_'\u001b[0m \u001b[1;33m+\u001b[0m \u001b[0mos\u001b[0m\u001b[1;33m.\u001b[0m\u001b[0mpath\u001b[0m\u001b[1;33m.\u001b[0m\u001b[0mbasename\u001b[0m\u001b[1;33m(\u001b[0m\u001b[0mi\u001b[0m\u001b[1;33m)\u001b[0m \u001b[1;33m)\u001b[0m \u001b[1;33m)\u001b[0m\u001b[1;33m\u001b[0m\u001b[0m\n\u001b[0m",
        "\u001b[1;31mNameError\u001b[0m: name 'nib' is not defined"
       ]
      }
     ],
     "prompt_number": 3
    },
    {
     "cell_type": "code",
     "collapsed": false,
     "input": [
      "extent = ( 0,dim[0]-1,0,dim[1]-1,0,dim[2]-1 )\n",
      "spacing=(1.0,1.0,1.0)\n",
      "direction=np.array([ 1.0, 1.0, 1.0 ])\n",
      "origin= np.array( [0,0,0] ) # tuple( np.array(dim) * 0.5 * direction )\n",
      "\n",
      "sform = (np.identity( 4 ) * np.hstack( (direction, 1.0) ))\n",
      "sform[:,3]+= np.hstack( (origin,0.0) )\n",
      "new_header.set_sform( sform )\n",
      "new_affine = model_im.get_affine() * np.hstack( (direction, 1.0) )"
     ],
     "language": "python",
     "metadata": {},
     "outputs": [],
     "prompt_number": 12
    },
    {
     "cell_type": "code",
     "collapsed": false,
     "input": [
      "surfs = []\n",
      "\n",
      "\n",
      "name_pref = 'priors'\n",
      "\n",
      "for comp,name in zip( im_data, ['wm','gm','csf'] ):\n",
      "    nib.save( nib.Nifti1Image( comp.T, new_affine, new_header ), os.path.join( model_path, '%s_%s.nii.gz' % (name_pref, name)  ))\n",
      "    if name == 'wm':\n",
      "        comp = im_data[0] + im_data[2]\n",
      "    elif name == 'gm':\n",
      "        comp = im_data[0] + im_data[1] + im_data[2]\n",
      "    \n",
      "    surfs.append( fnc.GenerateSurface( comp, os.path.join( model_path, '%s_%s.vtk' % (name_pref,name)  ), use_smooth=True ) )"
     ],
     "language": "python",
     "metadata": {},
     "outputs": [],
     "prompt_number": 4
    },
    {
     "cell_type": "code",
     "collapsed": false,
     "input": [
      "fa = nib.load( os.path.join( model_path, 'ref_FA.nii.gz' ) )\n",
      "fa_data = fa.get_data()\n",
      "d = np.diag( fa.get_affine() )\n",
      "\n",
      "#for ax,el in enumerate(d):\n",
      "#    if el == -1:\n",
      "#        print \"Rolling axis %d\" % ax\n",
      "#        fa_data = np.rollaxis( fa_data, ax )\n",
      "        \n",
      "fa_data = np.swapaxes( fa_data, 1, 2 )\n",
      "\n",
      "fa_header = fa.get_header()\n",
      "fa_header['pixdim'] = new_header['pixdim']\n",
      "fa_header.set_sform( new_header.get_sform() )\n",
      "fa_header.set_qform( new_header.get_qform() )\n",
      "\n",
      "\n",
      "nib.save(nib.Nifti1Image( fa_data, np.identity(4), fa_header ), os.path.join( model_path, 'ref_FA_reoriented.nii.gz' ) )"
     ],
     "language": "python",
     "metadata": {},
     "outputs": [
      {
       "output_type": "stream",
       "stream": "stdout",
       "text": [
        "Rolling axis 0\n"
       ]
      }
     ],
     "prompt_number": 59
    },
    {
     "cell_type": "code",
     "collapsed": false,
     "input": [
      "vtkim = tvtk.ImageData( spacing=spacing, origin=origin ) # , dimensions=dim, extent=extent\n",
      "vtkim.point_data.scalars = np.ones( shape=dim, dtype=np.uint8 ).ravel()\n",
      "vtkim.point_data.scalars.name = 'scalars'\n",
      "vtkim.dimensions = dim\n",
      "\n",
      "pol2stenc = tvtk.PolyDataToImageStencil( input=wm_mesh, output_origin=origin,output_spacing=spacing,output_whole_extent=extent )\n",
      "pol2stenc.update()\n",
      "stenc = tvtk.ImageStencil( background_value=0, stencil=pol2stenc.output )\n",
      "stenc.reverse_stencil = False\n",
      "stenc.set_input( vtkim )\n",
      "stenc.update()\n",
      "\n",
      "newdata = np.reshape( stenc.output.point_data.scalars, dim )\n",
      "nib.save( nib.Nifti1Image( newdata, model_im.get_affine(), model_im.get_header() ), os.path.join( model_path, 'new_priors_filled_wm.nii' )  )"
     ],
     "language": "python",
     "metadata": {},
     "outputs": [],
     "prompt_number": 51
    },
    {
     "cell_type": "code",
     "collapsed": false,
     "input": [
      "from scipy.interpolate import griddata\n",
      "#from matplotlib.mlab import griddata\n",
      "reload(fnc)\n",
      "sl = 56\n",
      "wm_mesh = fnc.FilterMesh( surfs[0], sl )\n",
      "csf_mesh = fnc.FilterMesh( surfs[1], sl )\n",
      "#w = tvtk.PolyDataWriter(input=wm_mesh, file_name=os.path.join( model_path, 'new_priors_filtered_wm.vtk' ))\n",
      "#w.write()\n",
      "\n",
      "ps = np.array( wm_mesh.points, dtype=np.float32 )[:,0:2]\n",
      "d = np.ones( ps.shape[0] ).astype( np.float32 )\n",
      "\n",
      "dim2d = tuple(np.delete( np.array(dim), 1 ))\n",
      "xi,yi = np.mgrid[0:dim2d[0],0:dim2d[1]]\n",
      "\n",
      "interpolated0 = griddata( ps, d, (xi,yi), method='linear', fill_value=0.0 )\n",
      "#interpolated0 = griddata( ps[:,0],ps[:,1], d, xi, yi, interp='linear')\n",
      "print np.shape( interpolated0 )\n",
      "plt.contour(interpolated0, linewidths=1.5, colors='r')\n",
      "plt.imshow( model_im.get_data().T[2][:,sl,:] )\n",
      "#plt.imshow( interpolated0 )"
     ],
     "language": "python",
     "metadata": {},
     "outputs": [
      {
       "ename": "TypeError",
       "evalue": "FilterMesh() takes at least 3 arguments (2 given)",
       "output_type": "pyerr",
       "traceback": [
        "\u001b[1;31m---------------------------------------------------------------------------\u001b[0m\n\u001b[1;31mTypeError\u001b[0m                                 Traceback (most recent call last)",
        "\u001b[1;32m<ipython-input-373-e3d5edfa6c2e>\u001b[0m in \u001b[0;36m<module>\u001b[1;34m()\u001b[0m\n\u001b[0;32m      3\u001b[0m \u001b[0mreload\u001b[0m\u001b[1;33m(\u001b[0m\u001b[0mfnc\u001b[0m\u001b[1;33m)\u001b[0m\u001b[1;33m\u001b[0m\u001b[0m\n\u001b[0;32m      4\u001b[0m \u001b[0msl\u001b[0m \u001b[1;33m=\u001b[0m \u001b[1;36m56\u001b[0m\u001b[1;33m\u001b[0m\u001b[0m\n\u001b[1;32m----> 5\u001b[1;33m \u001b[0mwm_mesh\u001b[0m \u001b[1;33m=\u001b[0m \u001b[0mfnc\u001b[0m\u001b[1;33m.\u001b[0m\u001b[0mFilterMesh\u001b[0m\u001b[1;33m(\u001b[0m \u001b[0msurfs\u001b[0m\u001b[1;33m[\u001b[0m\u001b[1;36m0\u001b[0m\u001b[1;33m]\u001b[0m\u001b[1;33m,\u001b[0m \u001b[0msl\u001b[0m \u001b[1;33m)\u001b[0m\u001b[1;33m\u001b[0m\u001b[0m\n\u001b[0m\u001b[0;32m      6\u001b[0m \u001b[0mcsf_mesh\u001b[0m \u001b[1;33m=\u001b[0m \u001b[0mfnc\u001b[0m\u001b[1;33m.\u001b[0m\u001b[0mFilterMesh\u001b[0m\u001b[1;33m(\u001b[0m \u001b[0msurfs\u001b[0m\u001b[1;33m[\u001b[0m\u001b[1;36m1\u001b[0m\u001b[1;33m]\u001b[0m\u001b[1;33m,\u001b[0m \u001b[0msl\u001b[0m \u001b[1;33m)\u001b[0m\u001b[1;33m\u001b[0m\u001b[0m\n\u001b[0;32m      7\u001b[0m \u001b[1;31m#w = tvtk.PolyDataWriter(input=wm_mesh, file_name=os.path.join( model_path, 'new_priors_filtered_wm.vtk' ))\u001b[0m\u001b[1;33m\u001b[0m\u001b[1;33m\u001b[0m\u001b[0m\n",
        "\u001b[1;31mTypeError\u001b[0m: FilterMesh() takes at least 3 arguments (2 given)"
       ]
      }
     ],
     "prompt_number": 373
    },
    {
     "cell_type": "code",
     "collapsed": false,
     "input": [
      "reload(fnc)\n",
      "fnc.PlotContour( os.path.join( model_path, 'ref_FA.nii.gz' ), [ surfs[0], surfs[2] ], ax=2, sl=52 )"
     ],
     "language": "python",
     "metadata": {},
     "outputs": [
      {
       "output_type": "pyout",
       "prompt_number": 24,
       "text": [
        "[<matplotlib.image.AxesImage at 0xc1b9d90>,\n",
        " <matplotlib.contour.QuadContourSet instance at 0xc1c8d88>,\n",
        " <matplotlib.contour.QuadContourSet instance at 0xc1d75a8>]"
       ]
      },
      {
       "output_type": "display_data",
       "png": "[encoded data removed]"
      }
     ],
     "prompt_number": 24
    },
    {
     "cell_type": "code",
     "collapsed": false,
     "input": [
      "reload(fnc)\n",
      "sl = 57\n",
      "ax = 0\n",
      "\n",
      "image = np.swapaxes( nib.load( os.path.join( model_path, 'ref_FA.nii.gz' ) ).get_data(), ax, 2)[:,:,sl]\n",
      "plt.imshow( image, cmap = cm.Greys_r )\n",
      "p1,z_level = fnc.ComputeContourFunction( model_im, surfs[0], sl, axis=ax )\n",
      "cs1 = plt.contour( p1, linewidths=2.5, colors='b', levels=[z_level] )\n",
      "p2,z_level = fnc.ComputeContourFunction( model_im, surfs[2], sl, axis=ax )\n",
      "cs2 = plt.contour( p2, linewidths=2.2, colors='r', levels=[z_level])"
     ],
     "language": "python",
     "metadata": {},
     "outputs": [
      {
       "output_type": "display_data",
       "png": "[encoded data removed]"
      }
     ],
     "prompt_number": 411
    },
    {
     "cell_type": "code",
     "collapsed": false,
     "input": [
      "from scipy.ndimage.filters import gaussian_filter\n",
      "p1 = gaussian_filter( p1, sigma=0.4 )\n",
      "\n",
      "im = np.ones( shape=p2.shape )\n",
      "im[p2>=z_level]=0.0\n",
      "\n",
      "plt.imshow( im )\n",
      "im = gaussian_filter( im, sigma=2 )\n",
      "\n",
      "plt.figure()\n",
      "plt.imshow( im )\n",
      "plt.colorbar()"
     ],
     "language": "python",
     "metadata": {},
     "outputs": [
      {
       "output_type": "pyout",
       "prompt_number": 383,
       "text": [
        "<matplotlib.colorbar.Colorbar instance at 0x18112518>"
       ]
      },
      {
       "output_type": "display_data",
       "png": "[encoded data removed]"
      },
      {
       "output_type": "display_data",
       "png": "[encoded data removed]"
      }
     ],
     "prompt_number": 383
    },
    {
     "cell_type": "code",
     "collapsed": false,
     "input": [
      "im = np.zeros( shape=p2.shape )\n",
      "im[p2>=z_level] = 255\n",
      "\n",
      "plt.imshow( im )\n",
      "\n",
      "#if np.any( im != 0 ):\n",
      "#   cs2 = plt.contour( im, linewidths=0.5, colors='g' )"
     ],
     "language": "python",
     "metadata": {},
     "outputs": [
      {
       "output_type": "pyout",
       "prompt_number": 321,
       "text": [
        "<matplotlib.image.AxesImage at 0x16b40050>"
       ]
      },
      {
       "output_type": "display_data",
       "png": "[encoded data removed]"
      }
     ],
     "prompt_number": 321
    },
    {
     "cell_type": "code",
     "collapsed": false,
     "input": [
      "cs2.levels"
     ],
     "language": "python",
     "metadata": {},
     "outputs": [
      {
       "output_type": "pyout",
       "prompt_number": 181,
       "text": [
        "array([ 10.,  20.,  30.,  40.,  50.,  60.])"
       ]
      }
     ],
     "prompt_number": 181
    },
    {
     "cell_type": "code",
     "collapsed": false,
     "input": [],
     "language": "python",
     "metadata": {},
     "outputs": []
    }
   ],
   "metadata": {}
  }
 ]
}