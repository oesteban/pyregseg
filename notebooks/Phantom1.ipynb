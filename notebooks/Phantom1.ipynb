{
 "metadata": {
  "name": "Phantom1"
 },
 "nbformat": 3,
 "nbformat_minor": 0,
 "worksheets": [
  {
   "cells": [
    {
     "cell_type": "code",
     "collapsed": false,
     "input": [
      "from traits.etsconfig.api import ETSConfig\n",
      "ETSConfig.toolkit = 'null'\n",
      "\n",
      "import os\n",
      "import os.path as op\n",
      "import nibabel as nib\n",
      "\n",
      "root_dir = '/home/oesteban/workspace/ACWE-Reg/'\n",
      "\n",
      "\n",
      "import sys\n",
      "sys.path.append( op.join( root_dir, 'Scripts/workflows' ) )\n",
      "sys.path.append( op.join( root_dir, 'Scripts/util' ) )\n",
      "\n",
      "import dmri as dmri\n",
      "import surfaces as surf\n",
      "import misc as misc\n",
      "\n",
      "import scipy.ndimage as ndimage"
     ],
     "language": "python",
     "metadata": {},
     "outputs": [],
     "prompt_number": 1
    },
    {
     "cell_type": "code",
     "collapsed": false,
     "input": [
      "phantom_id = 1\n",
      "\n",
      "data_dir= op.join( root_dir, 'Data' )\n",
      "mname = 'Phantom%d' % phantom_id\n",
      "model_dir = op.join( data_dir, mname )\n",
      "tpms_dir = op.join( model_dir, 'tpms' )\n",
      "\n",
      "working_dir= op.join( root_dir, 'temp', mname )\n",
      "\n",
      "if not op.exists( working_dir ):\n",
      "    os.makedirs( working_dir )\n",
      "    \n",
      "if not op.exists( tpms_dir ):\n",
      "    os.makedirs( tpms_dir )"
     ],
     "language": "python",
     "metadata": {},
     "outputs": [],
     "prompt_number": 2
    },
    {
     "cell_type": "code",
     "collapsed": false,
     "input": [
      "t1_fname = op.join( model_dir, 't1_weighted.nii.gz' )\n",
      "tpmfnames = [ op.join( tpms_dir, '%s_tpm.nii.gz' % n ) for n in ['wm','gm'] ]\n",
      "roifnames = [ op.join( working_dir, 'roi_%s.nii.gz' % n ) for n in ['wm','gm'] ]\n",
      "modelfname = op.join( model_dir, 'model.nii.gz' ) \n",
      "\n",
      "dist_fname = op.join( model_dir, 'signal_deformed.nii.gz' )\n",
      "dfnames = [ op.join( model_dir, '%s_deformed.nii.gz' % n ) for n in ['t1','t2'] ]"
     ],
     "language": "python",
     "metadata": {},
     "outputs": [],
     "prompt_number": 3
    },
    {
     "cell_type": "code",
     "collapsed": false,
     "input": [
      "datashape= ( 101,101,101 )\n",
      "affine = np.identity( 4 )\n",
      "affine[0:3,3] = -0.5 * np.array( datashape, dtype=np.float32 )\n",
      "hdr = nib.Nifti1Header( )\n",
      "hdr['data_type'] = 2\n",
      "hdr.set_data_dtype( np.uint8 )\n",
      "\n",
      "center_pix = ((np.array( datashape )-1)*0.5).astype(np.uint8)\n",
      "radius = 35"
     ],
     "language": "python",
     "metadata": {},
     "outputs": [],
     "prompt_number": 4
    },
    {
     "cell_type": "code",
     "collapsed": false,
     "input": [
      "modelbase = misc.ball( datashape, radius )\n",
      "modelbase[center_pix[0],:, center_pix[2]: ] = 0"
     ],
     "language": "python",
     "metadata": {},
     "outputs": [],
     "prompt_number": 5
    },
    {
     "cell_type": "code",
     "collapsed": false,
     "input": [
      "ball1 = misc.ball(11,4.5)\n",
      "ball2 = misc.ball(11,4.4)\n",
      "\n",
      "wm = ndimage.binary_opening( ndimage.binary_erosion( modelbase, structure=ball1 ).astype( np.uint8 ), structure=ball1 ).astype( np.uint8 )\n",
      "nii_wm = nib.Nifti1Image( wm.astype( np.uint8 ), affine, hdr )\n",
      "nib.save( nii_wm, tpmfnames[0] )\n",
      "\n",
      "gm = ndimage.binary_dilation( wm, structure=ball2 ).astype( np.uint8 ) - wm\n",
      "nii_gm = nib.Nifti1Image( gm.astype( np.uint8 ), affine, hdr )\n",
      "nib.save( nii_gm, tpmfnames[1] )\n",
      "\n",
      "nii_model = nib.concat_images( [ nii_wm, nii_gm ] )\n",
      "nib.save( nii_model, modelfname )\n",
      "\n",
      "\n",
      "nib.save( nii_wm, roifnames[0] )\n",
      "nib.save( nib.Nifti1Image( (gm+wm).astype( np.uint8 ), affine, hdr ), roifnames[1] )"
     ],
     "language": "python",
     "metadata": {},
     "outputs": [],
     "prompt_number": 6
    },
    {
     "cell_type": "code",
     "collapsed": false,
     "input": [
      "mask = wm + gm\n",
      "\n",
      "t1 = (gm * 1.0 + wm * 1.7).astype( np.float32 )\n",
      "t1_data =  misc.gen_noise(t1,mask)\n",
      "t1_data = 255 * t1_data / t1_data.max()\n",
      "nii_t1 = nib.Nifti1Image(t1_data.astype( np.uint8 ), affine, hdr )\n",
      "nib.save( nii_t1, t1_fname)\n",
      "\n",
      "t2 = (gm * 1.0 + wm * 0.8).astype( np.float32 )\n",
      "t2_data =  misc.gen_noise(t2,mask)\n",
      "t2_data = 255 * t2_data / t2_data.max()\n",
      "nii_t2 = nib.Nifti1Image( t2_data.astype( np.float32 ), affine, hdr )\n",
      "nib.save(nii_t2, op.join( model_dir, 't2_weighted.nii.gz' ) )\n",
      "\n",
      "nii_signal = nib.concat_images( [ nii_t1, nii_t2 ] )\n",
      "nib.save(nii_signal, op.join( model_dir, 'signal.nii.gz' ) )"
     ],
     "language": "python",
     "metadata": {},
     "outputs": [],
     "prompt_number": 7
    },
    {
     "cell_type": "code",
     "collapsed": false,
     "input": [
      "for i,rname in enumerate( roifnames ):\n",
      "    wf = surf.binary2contour_workflow( name=(\"Contour_%02d\" % i ))\n",
      "    wf.base_dir = working_dir\n",
      "    wf.inputs.inputnode.in_file = rname\n",
      "    wf.inputs.inputnode.in_norm = t1_fname\n",
      "    wf.inputs.inputnode.out_folder = working_dir\n",
      "    res = wf.run()"
     ],
     "language": "python",
     "metadata": {},
     "outputs": [
      {
       "output_type": "stream",
       "stream": "stdout",
       "text": [
        "131005-21:16:31,748 workflow INFO:\n",
        "\t ['check', 'execution', 'logging']\n"
       ]
      },
      {
       "output_type": "stream",
       "stream": "stdout",
       "text": [
        "131005-21:16:31,752 workflow INFO:\n",
        "\t Running serially.\n"
       ]
      },
      {
       "output_type": "stream",
       "stream": "stdout",
       "text": [
        "131005-21:16:31,753 workflow INFO:\n",
        "\t Executing node pretess in dir: /home/oesteban/workspace/ACWE-Reg/temp/Phantom1/Contour_00/pretess\n"
       ]
      },
      {
       "output_type": "stream",
       "stream": "stdout",
       "text": [
        "131005-21:16:31,919 workflow INFO:\n",
        "\t Executing node tess in dir: /home/oesteban/workspace/ACWE-Reg/temp/Phantom1/Contour_00/tess\n"
       ]
      },
      {
       "output_type": "stream",
       "stream": "stdout",
       "text": [
        "131005-21:16:31,923 workflow INFO:\n",
        "\t Running: mri_tessellate -n /home/oesteban/workspace/ACWE-Reg/temp/Phantom1/Contour_00/pretess/roi_wm_pretess.mgz 1 ./roi_wm_pretess.mgz_1\n"
       ]
      },
      {
       "output_type": "stream",
       "stream": "stdout",
       "text": [
        "131005-21:16:31,983 interface INFO:\n",
        "\t stdout 2013-10-05T21:16:31.983138:surface saved uses coordinates in the real RAS where c_(r,a,s) != 0\n"
       ]
      },
      {
       "output_type": "stream",
       "stream": "stdout",
       "text": [
        "131005-21:16:31,983 interface INFO:\n",
        "\t stdout 2013-10-05T21:16:31.983138:$Id: mri_tessellate.c,v 1.36 2011/03/02 00:04:25 nicks Exp $\n"
       ]
      },
      {
       "output_type": "stream",
       "stream": "stdout",
       "text": [
        "131005-21:16:31,984 interface INFO:\n",
        "\t stdout 2013-10-05T21:16:31.983138:  $Id: mrisurf.c,v 1.693.2.7 2013/05/12 22:28:01 nicks Exp $\n"
       ]
      },
      {
       "output_type": "stream",
       "stream": "stdout",
       "text": [
        "131005-21:16:32,39 interface INFO:\n",
        "\t stdout 2013-10-05T21:16:32.039683:slice 30: 2756 vertices, 2845 faces\n"
       ]
      },
      {
       "output_type": "stream",
       "stream": "stdout",
       "text": [
        "131005-21:16:32,40 interface INFO:\n",
        "\t stdout 2013-10-05T21:16:32.039683:slice 40: 5840 vertices, 5953 faces\n"
       ]
      },
      {
       "output_type": "stream",
       "stream": "stdout",
       "text": [
        "131005-21:16:32,40 interface INFO:\n",
        "\t stdout 2013-10-05T21:16:32.039683:slice 50: 9360 vertices, 9526 faces\n"
       ]
      },
      {
       "output_type": "stream",
       "stream": "stdout",
       "text": [
        "131005-21:16:32,40 interface INFO:\n",
        "\t stdout 2013-10-05T21:16:32.039683:slice 60: 12880 vertices, 13040 faces\n"
       ]
      },
      {
       "output_type": "stream",
       "stream": "stdout",
       "text": [
        "131005-21:16:32,40 interface INFO:\n",
        "\t stdout 2013-10-05T21:16:32.039683:slice 70: 16624 vertices, 16748 faces\n"
       ]
      },
      {
       "output_type": "stream",
       "stream": "stdout",
       "text": [
        "131005-21:16:32,41 interface INFO:\n",
        "\t stdout 2013-10-05T21:16:32.039683:slice 80: 19704 vertices, 19702 faces\n"
       ]
      },
      {
       "output_type": "stream",
       "stream": "stdout",
       "text": [
        "131005-21:16:32,41 interface INFO:\n",
        "\t stdout 2013-10-05T21:16:32.039683:slice 90: 19704 vertices, 19702 faces\n"
       ]
      },
      {
       "output_type": "stream",
       "stream": "stdout",
       "text": [
        "131005-21:16:32,41 interface INFO:\n",
        "\t stdout 2013-10-05T21:16:32.039683:slice 100: 19704 vertices, 19702 faces\n"
       ]
      },
      {
       "output_type": "stream",
       "stream": "stdout",
       "text": [
        "131005-21:16:32,41 interface INFO:\n",
        "\t stdout 2013-10-05T21:16:32.039683:using real RAS to save vertex points...\n"
       ]
      },
      {
       "output_type": "stream",
       "stream": "stdout",
       "text": [
        "131005-21:16:32,42 interface INFO:\n",
        "\t stdout 2013-10-05T21:16:32.039683:writing ./roi_wm_pretess.mgz_1\n"
       ]
      },
      {
       "output_type": "stream",
       "stream": "stdout",
       "text": [
        "131005-21:16:32,42 interface INFO:\n",
        "\t stdout 2013-10-05T21:16:32.039683:using vox2ras matrix:\n"
       ]
      },
      {
       "output_type": "stream",
       "stream": "stdout",
       "text": [
        "131005-21:16:32,42 interface INFO:\n",
        "\t stdout 2013-10-05T21:16:32.039683: 1.000   0.000   0.000  -50.500;\n"
       ]
      },
      {
       "output_type": "stream",
       "stream": "stdout",
       "text": [
        "131005-21:16:32,42 interface INFO:\n",
        "\t stdout 2013-10-05T21:16:32.039683: 0.000   1.000   0.000  -50.500;\n"
       ]
      },
      {
       "output_type": "stream",
       "stream": "stdout",
       "text": [
        "131005-21:16:32,43 interface INFO:\n",
        "\t stdout 2013-10-05T21:16:32.039683: 0.000   0.000   1.000  -50.500;\n"
       ]
      },
      {
       "output_type": "stream",
       "stream": "stdout",
       "text": [
        "131005-21:16:32,43 interface INFO:\n",
        "\t stdout 2013-10-05T21:16:32.039683: 0.000   0.000   0.000   1.000;\n"
       ]
      },
      {
       "output_type": "stream",
       "stream": "stdout",
       "text": [
        "131005-21:16:32,118 workflow INFO:\n",
        "\t Executing node mris_smooth in dir: /home/oesteban/workspace/ACWE-Reg/temp/Phantom1/Contour_00/mris_smooth\n"
       ]
      },
      {
       "output_type": "stream",
       "stream": "stdout",
       "text": [
        "131005-21:16:32,121 workflow INFO:\n",
        "\t Running: mris_smooth /home/oesteban/workspace/ACWE-Reg/temp/Phantom1/Contour_00/tess/roi_wm_pretess.mgz_1 /home/oesteban/workspace/ACWE-Reg/temp/Phantom1/Contour_00/mris_smooth/roi_wm_pretess_smoothed.mgz_1 -nw -n 10 -a 10\n"
       ]
      },
      {
       "output_type": "stream",
       "stream": "stdout",
       "text": [
        "131005-21:16:32,293 interface INFO:\n",
        "\t stderr 2013-10-05T21:16:32.293209:smoothing surface tessellation for 10 iterations...\n"
       ]
      },
      {
       "output_type": "stream",
       "stream": "stdout",
       "text": [
        "131005-21:16:32,337 interface INFO:\n",
        "\t stderr 2013-10-05T21:16:32.337480:smoothing complete - recomputing first and second fundamental forms...\n"
       ]
      },
      {
       "output_type": "stream",
       "stream": "stdout",
       "text": [
        "131005-21:16:32,534 interface INFO:\n",
        "\t stderr 2013-10-05T21:16:32.534830:writing smoothed curvature to /home/oesteban/workspace/ACWE-Reg/temp/Phantom1/Contour_00/mris_smooth/rh.curv\n"
       ]
      },
      {
       "output_type": "stream",
       "stream": "stdout",
       "text": [
        "131005-21:16:32,535 interface INFO:\n",
        "\t stderr 2013-10-05T21:16:32.535404:writing smoothed area to /home/oesteban/workspace/ACWE-Reg/temp/Phantom1/Contour_00/mris_smooth/rh.area\n"
       ]
      },
      {
       "output_type": "stream",
       "stream": "stdout",
       "text": [
        "131005-21:16:32,609 workflow INFO:\n",
        "\t Executing node tovtk in dir: /home/oesteban/workspace/ACWE-Reg/temp/Phantom1/Contour_00/tovtk\n"
       ]
      },
      {
       "output_type": "stream",
       "stream": "stdout",
       "text": [
        "131005-21:16:32,685 workflow INFO:\n",
        "\t Executing node write in dir: /home/oesteban/workspace/ACWE-Reg/temp/Phantom1/Contour_00/write\n"
       ]
      },
      {
       "output_type": "stream",
       "stream": "stdout",
       "text": [
        "131005-21:16:32,737 workflow INFO:\n",
        "\t ['check', 'execution', 'logging']\n"
       ]
      },
      {
       "output_type": "stream",
       "stream": "stdout",
       "text": [
        "131005-21:16:32,742 workflow INFO:\n",
        "\t Running serially.\n"
       ]
      },
      {
       "output_type": "stream",
       "stream": "stdout",
       "text": [
        "131005-21:16:32,742 workflow INFO:\n",
        "\t Executing node pretess in dir: /home/oesteban/workspace/ACWE-Reg/temp/Phantom1/Contour_01/pretess\n"
       ]
      },
      {
       "output_type": "stream",
       "stream": "stdout",
       "text": [
        "131005-21:16:32,922 workflow INFO:\n",
        "\t Executing node tess in dir: /home/oesteban/workspace/ACWE-Reg/temp/Phantom1/Contour_01/tess\n"
       ]
      },
      {
       "output_type": "stream",
       "stream": "stdout",
       "text": [
        "131005-21:16:32,924 workflow INFO:\n",
        "\t Running: mri_tessellate -n /home/oesteban/workspace/ACWE-Reg/temp/Phantom1/Contour_01/pretess/roi_gm_pretess.mgz 1 ./roi_gm_pretess.mgz_1\n"
       ]
      },
      {
       "output_type": "stream",
       "stream": "stdout",
       "text": [
        "131005-21:16:32,987 interface INFO:\n",
        "\t stdout 2013-10-05T21:16:32.987291:surface saved uses coordinates in the real RAS where c_(r,a,s) != 0\n"
       ]
      },
      {
       "output_type": "stream",
       "stream": "stdout",
       "text": [
        "131005-21:16:32,987 interface INFO:\n",
        "\t stdout 2013-10-05T21:16:32.987291:$Id: mri_tessellate.c,v 1.36 2011/03/02 00:04:25 nicks Exp $\n"
       ]
      },
      {
       "output_type": "stream",
       "stream": "stdout",
       "text": [
        "131005-21:16:32,988 interface INFO:\n",
        "\t stdout 2013-10-05T21:16:32.987291:  $Id: mrisurf.c,v 1.693.2.7 2013/05/12 22:28:01 nicks Exp $\n"
       ]
      },
      {
       "output_type": "stream",
       "stream": "stdout",
       "text": [
        "131005-21:16:33,43 interface INFO:\n",
        "\t stdout 2013-10-05T21:16:33.043800:slice 20: 1092 vertices, 1153 faces\n"
       ]
      },
      {
       "output_type": "stream",
       "stream": "stdout",
       "text": [
        "131005-21:16:33,44 interface INFO:\n",
        "\t stdout 2013-10-05T21:16:33.043800:slice 30: 4580 vertices, 4689 faces\n"
       ]
      },
      {
       "output_type": "stream",
       "stream": "stdout",
       "text": [
        "131005-21:16:33,44 interface INFO:\n",
        "\t stdout 2013-10-05T21:16:33.043800:slice 40: 7996 vertices, 8125 faces\n"
       ]
      },
      {
       "output_type": "stream",
       "stream": "stdout",
       "text": [
        "131005-21:16:33,44 interface INFO:\n",
        "\t stdout 2013-10-05T21:16:33.043800:slice 50: 11064 vertices, 11207 faces\n"
       ]
      },
      {
       "output_type": "stream",
       "stream": "stdout",
       "text": [
        "131005-21:16:33,45 interface INFO:\n",
        "\t stdout 2013-10-05T21:16:33.043800:slice 60: 15232 vertices, 15424 faces\n"
       ]
      },
      {
       "output_type": "stream",
       "stream": "stdout",
       "text": [
        "131005-21:16:33,45 interface INFO:\n",
        "\t stdout 2013-10-05T21:16:33.043800:slice 70: 19788 vertices, 19956 faces\n"
       ]
      },
      {
       "output_type": "stream",
       "stream": "stdout",
       "text": [
        "131005-21:16:33,45 interface INFO:\n",
        "\t stdout 2013-10-05T21:16:33.043800:slice 80: 24148 vertices, 24250 faces\n"
       ]
      },
      {
       "output_type": "stream",
       "stream": "stdout",
       "text": [
        "131005-21:16:33,46 interface INFO:\n",
        "\t stdout 2013-10-05T21:16:33.043800:slice 90: 25568 vertices, 25566 faces\n"
       ]
      },
      {
       "output_type": "stream",
       "stream": "stdout",
       "text": [
        "131005-21:16:33,46 interface INFO:\n",
        "\t stdout 2013-10-05T21:16:33.043800:slice 100: 25568 vertices, 25566 faces\n"
       ]
      },
      {
       "output_type": "stream",
       "stream": "stdout",
       "text": [
        "131005-21:16:33,46 interface INFO:\n",
        "\t stdout 2013-10-05T21:16:33.043800:using real RAS to save vertex points...\n"
       ]
      },
      {
       "output_type": "stream",
       "stream": "stdout",
       "text": [
        "131005-21:16:33,47 interface INFO:\n",
        "\t stdout 2013-10-05T21:16:33.043800:writing ./roi_gm_pretess.mgz_1\n"
       ]
      },
      {
       "output_type": "stream",
       "stream": "stdout",
       "text": [
        "131005-21:16:33,47 interface INFO:\n",
        "\t stdout 2013-10-05T21:16:33.043800:using vox2ras matrix:\n"
       ]
      },
      {
       "output_type": "stream",
       "stream": "stdout",
       "text": [
        "131005-21:16:33,47 interface INFO:\n",
        "\t stdout 2013-10-05T21:16:33.043800: 1.000   0.000   0.000  -50.500;\n"
       ]
      },
      {
       "output_type": "stream",
       "stream": "stdout",
       "text": [
        "131005-21:16:33,47 interface INFO:\n",
        "\t stdout 2013-10-05T21:16:33.043800: 0.000   1.000   0.000  -50.500;\n"
       ]
      },
      {
       "output_type": "stream",
       "stream": "stdout",
       "text": [
        "131005-21:16:33,48 interface INFO:\n",
        "\t stdout 2013-10-05T21:16:33.043800: 0.000   0.000   1.000  -50.500;\n"
       ]
      },
      {
       "output_type": "stream",
       "stream": "stdout",
       "text": [
        "131005-21:16:33,48 interface INFO:\n",
        "\t stdout 2013-10-05T21:16:33.043800: 0.000   0.000   0.000   1.000;\n"
       ]
      },
      {
       "output_type": "stream",
       "stream": "stdout",
       "text": [
        "131005-21:16:33,121 workflow INFO:\n",
        "\t Executing node mris_smooth in dir: /home/oesteban/workspace/ACWE-Reg/temp/Phantom1/Contour_01/mris_smooth\n"
       ]
      },
      {
       "output_type": "stream",
       "stream": "stdout",
       "text": [
        "131005-21:16:33,124 workflow INFO:\n",
        "\t Running: mris_smooth /home/oesteban/workspace/ACWE-Reg/temp/Phantom1/Contour_01/tess/roi_gm_pretess.mgz_1 /home/oesteban/workspace/ACWE-Reg/temp/Phantom1/Contour_01/mris_smooth/roi_gm_pretess_smoothed.mgz_1 -nw -n 10 -a 10\n"
       ]
      },
      {
       "output_type": "stream",
       "stream": "stdout",
       "text": [
        "131005-21:16:33,345 interface INFO:\n",
        "\t stderr 2013-10-05T21:16:33.344997:smoothing surface tessellation for 10 iterations...\n"
       ]
      },
      {
       "output_type": "stream",
       "stream": "stdout",
       "text": [
        "131005-21:16:33,404 interface INFO:\n",
        "\t stderr 2013-10-05T21:16:33.404174:smoothing complete - recomputing first and second fundamental forms...\n"
       ]
      },
      {
       "output_type": "stream",
       "stream": "stdout",
       "text": [
        "131005-21:16:33,665 interface INFO:\n",
        "\t stderr 2013-10-05T21:16:33.665236:writing smoothed curvature to /home/oesteban/workspace/ACWE-Reg/temp/Phantom1/Contour_01/mris_smooth/rh.curv\n"
       ]
      },
      {
       "output_type": "stream",
       "stream": "stdout",
       "text": [
        "131005-21:16:33,666 interface INFO:\n",
        "\t stderr 2013-10-05T21:16:33.666137:writing smoothed area to /home/oesteban/workspace/ACWE-Reg/temp/Phantom1/Contour_01/mris_smooth/rh.area\n"
       ]
      },
      {
       "output_type": "stream",
       "stream": "stdout",
       "text": [
        "131005-21:16:33,750 workflow INFO:\n",
        "\t Executing node tovtk in dir: /home/oesteban/workspace/ACWE-Reg/temp/Phantom1/Contour_01/tovtk\n"
       ]
      },
      {
       "output_type": "stream",
       "stream": "stdout",
       "text": [
        "131005-21:16:33,839 workflow INFO:\n",
        "\t Executing node write in dir: /home/oesteban/workspace/ACWE-Reg/temp/Phantom1/Contour_01/write\n"
       ]
      }
     ],
     "prompt_number": 8
    },
    {
     "cell_type": "code",
     "collapsed": false,
     "input": [
      "te_incr = 2.46e-3 # secs\n",
      "dwell_time = 0.77e-3 # secs\n",
      "maskfile = roifnames[1]\n",
      "edir = 'z'\n",
      "dwifile = os.path.join( model_dir, 'signal.nii.gz' )\n",
      "\n",
      "wf = dmri.distortion_workflow()\n",
      "wf.base_dir = working_dir\n",
      "wf.inputs.inputnode.in_file = dwifile\n",
      "wf.inputs.inputnode.in_mask = maskfile\n",
      "wf.inputs.inputnode.te_incr = te_incr\n",
      "wf.inputs.inputnode.echospacing = dwell_time\n",
      "wf.inputs.inputnode.encoding_direction = edir\n",
      "wf.inputs.inputnode.intensity = 0.05\n",
      "wf.inputs.inputnode.sigma = 8.0\n",
      "wf.inputs.inputnode.in_tpms = tpmfnames\n",
      "wf.run()"
     ],
     "language": "python",
     "metadata": {},
     "outputs": [
      {
       "output_type": "stream",
       "stream": "stdout",
       "text": [
        "131005-21:16:34,18 workflow INFO:\n",
        "\t ['check', 'execution', 'logging']\n"
       ]
      },
      {
       "output_type": "stream",
       "stream": "stdout",
       "text": [
        "131005-21:16:34,27 workflow INFO:\n",
        "\t Running serially.\n"
       ]
      },
      {
       "output_type": "stream",
       "stream": "stdout",
       "text": [
        "131005-21:16:34,28 workflow INFO:\n",
        "\t Executing node split_DWI in dir: /home/oesteban/workspace/ACWE-Reg/temp/Phantom1/synthetic_distortion/Fugue_WarpDWIs/split_DWI\n"
       ]
      },
      {
       "output_type": "stream",
       "stream": "stdout",
       "text": [
        "131005-21:16:34,150 workflow INFO:\n",
        "\t Executing node gen_siemens_PhaseDiffMap in dir: /home/oesteban/workspace/ACWE-Reg/temp/Phantom1/synthetic_distortion/gen_siemens_PhaseDiffMap\n"
       ]
      },
      {
       "output_type": "stream",
       "stream": "stdout",
       "text": [
        "131005-21:16:34,547 workflow INFO:\n",
        "\t Executing node fsl_prepare_fieldmap in dir: /home/oesteban/workspace/ACWE-Reg/temp/Phantom1/synthetic_distortion/fsl_prepare_fieldmap\n"
       ]
      },
      {
       "output_type": "stream",
       "stream": "stdout",
       "text": [
        "131005-21:16:34,550 workflow INFO:\n",
        "\t Running: fsl_prepare_fieldmap SIEMENS /home/oesteban/workspace/ACWE-Reg/temp/Phantom1/synthetic_distortion/gen_siemens_PhaseDiffMap/roi_gm_siemens.nii.gz /home/oesteban/workspace/ACWE-Reg/temp/Phantom1/roi_gm.nii.gz /home/oesteban/workspace/ACWE-Reg/temp/Phantom1/synthetic_distortion/fsl_prepare_fieldmap/roi_gm_siemens_fslprepared.nii.gz 2.460000\n"
       ]
      },
      {
       "output_type": "stream",
       "stream": "stdout",
       "text": [
        "131005-21:16:35,69 interface INFO:\n",
        "\t stdout 2013-10-05T21:16:35.069255:Loading volumes\n"
       ]
      },
      {
       "output_type": "stream",
       "stream": "stdout",
       "text": [
        "131005-21:16:35,90 interface INFO:\n",
        "\t stdout 2013-10-05T21:16:35.090404:Phase loaded\n"
       ]
      },
      {
       "output_type": "stream",
       "stream": "stdout",
       "text": [
        "131005-21:16:35,102 interface INFO:\n",
        "\t stdout 2013-10-05T21:16:35.102144:Magnitude loaded\n"
       ]
      },
      {
       "output_type": "stream",
       "stream": "stdout",
       "text": [
        "131005-21:16:35,122 interface INFO:\n",
        "\t stdout 2013-10-05T21:16:35.122518:Mask loaded\n"
       ]
      },
      {
       "output_type": "stream",
       "stream": "stdout",
       "text": [
        "131005-21:16:35,176 interface INFO:\n",
        "\t stdout 2013-10-05T21:16:35.176437:Number of phase splits = 8\n"
       ]
      },
      {
       "output_type": "stream",
       "stream": "stdout",
       "text": [
        "131005-21:16:35,239 interface INFO:\n",
        "\t stdout 2013-10-05T21:16:35.239846:Calculating starting matrices (100 by 100)\n"
       ]
      },
      {
       "output_type": "stream",
       "stream": "stdout",
       "text": [
        "131005-21:16:35,248 interface INFO:\n",
        "\t stdout 2013-10-05T21:16:35.248738:Finished connection_matrices\n"
       ]
      },
      {
       "output_type": "stream",
       "stream": "stdout",
       "text": [
        "131005-21:16:35,249 interface INFO:\n",
        "\t stdout 2013-10-05T21:16:35.248738:99 constraints left\n"
       ]
      },
      {
       "output_type": "stream",
       "stream": "stdout",
       "text": [
        "131005-21:16:35,249 interface INFO:\n",
        "\t stdout 2013-10-05T21:16:35.249393:Did while loop 99 times\n"
       ]
      },
      {
       "output_type": "stream",
       "stream": "stdout",
       "text": [
        "131005-21:16:38,420 interface INFO:\n",
        "\t stdout 2013-10-05T21:16:38.420338:Done. Created /home/oesteban/workspace/ACWE-Reg/temp/Phantom1/synthetic_distortion/fsl_prepare_fieldmap/roi_gm_siemens_fslprepared for use with FEAT.\n"
       ]
      },
      {
       "output_type": "stream",
       "stream": "stdout",
       "text": [
        "131005-21:16:38,738 workflow INFO:\n",
        "\t Executing node gen_VSM in dir: /home/oesteban/workspace/ACWE-Reg/temp/Phantom1/synthetic_distortion/gen_VSM\n"
       ]
      },
      {
       "output_type": "stream",
       "stream": "stdout",
       "text": [
        "131005-21:16:38,741 workflow INFO:\n",
        "\t Running: fugue --asym=0.0024600000 --dwell=0.0007700000 --in=/home/oesteban/workspace/ACWE-Reg/temp/Phantom1/roi_gm.nii.gz --mask=/home/oesteban/workspace/ACWE-Reg/temp/Phantom1/roi_gm.nii.gz --phasemap=/home/oesteban/workspace/ACWE-Reg/temp/Phantom1/synthetic_distortion/fsl_prepare_fieldmap/roi_gm_siemens_fslprepared.nii.gz --saveshift=/home/oesteban/workspace/ACWE-Reg/temp/Phantom1/synthetic_distortion/gen_VSM/roi_gm_vsm.nii.gz --unwarp=/home/oesteban/workspace/ACWE-Reg/temp/Phantom1/synthetic_distortion/gen_VSM/roi_gm_unwarped.nii.gz\n"
       ]
      },
      {
       "output_type": "stream",
       "stream": "stdout",
       "text": [
        "131005-21:16:39,903 workflow INFO:\n",
        "\t Executing node demean in dir: /home/oesteban/workspace/ACWE-Reg/temp/Phantom1/synthetic_distortion/demean\n"
       ]
      },
      {
       "output_type": "stream",
       "stream": "stdout",
       "text": [
        "131005-21:16:40,125 workflow INFO:\n",
        "\t Executing node Fugue_Warp in dir: /home/oesteban/workspace/ACWE-Reg/temp/Phantom1/synthetic_distortion/Fugue_WarpDWIs/Fugue_Warp\n"
       ]
      },
      {
       "output_type": "stream",
       "stream": "stdout",
       "text": [
        "131005-21:16:40,129 workflow INFO:\n",
        "\t Executing node _Fugue_Warp0 in dir: /home/oesteban/workspace/ACWE-Reg/temp/Phantom1/synthetic_distortion/Fugue_WarpDWIs/Fugue_Warp/mapflow/_Fugue_Warp0\n"
       ]
      },
      {
       "output_type": "stream",
       "stream": "stdout",
       "text": [
        "131005-21:16:40,132 workflow INFO:\n",
        "\t Running: fugue --in=/home/oesteban/workspace/ACWE-Reg/temp/Phantom1/synthetic_distortion/Fugue_WarpDWIs/split_DWI/signal_000.nii.gz --mask=/home/oesteban/workspace/ACWE-Reg/temp/Phantom1/roi_gm.nii.gz --loadshift=/home/oesteban/workspace/ACWE-Reg/temp/Phantom1/synthetic_distortion/demean/roi_gm_vsm_demeaned.nii.gz --unwarpdir=z --warp=/home/oesteban/workspace/ACWE-Reg/temp/Phantom1/synthetic_distortion/Fugue_WarpDWIs/Fugue_Warp/mapflow/_Fugue_Warp0/signal_000_warped.nii.gz\n"
       ]
      },
      {
       "output_type": "stream",
       "stream": "stdout",
       "text": [
        "131005-21:16:56,838 workflow INFO:\n",
        "\t Executing node _Fugue_Warp1 in dir: /home/oesteban/workspace/ACWE-Reg/temp/Phantom1/synthetic_distortion/Fugue_WarpDWIs/Fugue_Warp/mapflow/_Fugue_Warp1\n"
       ]
      },
      {
       "output_type": "stream",
       "stream": "stdout",
       "text": [
        "131005-21:16:56,841 workflow INFO:\n",
        "\t Running: fugue --in=/home/oesteban/workspace/ACWE-Reg/temp/Phantom1/synthetic_distortion/Fugue_WarpDWIs/split_DWI/signal_001.nii.gz --mask=/home/oesteban/workspace/ACWE-Reg/temp/Phantom1/roi_gm.nii.gz --loadshift=/home/oesteban/workspace/ACWE-Reg/temp/Phantom1/synthetic_distortion/demean/roi_gm_vsm_demeaned.nii.gz --unwarpdir=z --warp=/home/oesteban/workspace/ACWE-Reg/temp/Phantom1/synthetic_distortion/Fugue_WarpDWIs/Fugue_Warp/mapflow/_Fugue_Warp1/signal_001_warped.nii.gz\n"
       ]
      },
      {
       "output_type": "stream",
       "stream": "stdout",
       "text": [
        "131005-21:17:13,602 workflow INFO:\n",
        "\t Executing node merge_DWI in dir: /home/oesteban/workspace/ACWE-Reg/temp/Phantom1/synthetic_distortion/Fugue_WarpDWIs/merge_DWI\n"
       ]
      },
      {
       "output_type": "stream",
       "stream": "stdout",
       "text": [
        "131005-21:17:13,606 workflow INFO:\n",
        "\t Running: fslmerge -t /home/oesteban/workspace/ACWE-Reg/temp/Phantom1/synthetic_distortion/Fugue_WarpDWIs/merge_DWI/signal_000_warped_merged.nii.gz /home/oesteban/workspace/ACWE-Reg/temp/Phantom1/synthetic_distortion/Fugue_WarpDWIs/Fugue_Warp/mapflow/_Fugue_Warp0/signal_000_warped.nii.gz /home/oesteban/workspace/ACWE-Reg/temp/Phantom1/synthetic_distortion/Fugue_WarpDWIs/Fugue_Warp/mapflow/_Fugue_Warp1/signal_001_warped.nii.gz\n"
       ]
      },
      {
       "output_type": "stream",
       "stream": "stdout",
       "text": [
        "131005-21:17:14,652 workflow INFO:\n",
        "\t Executing node Fugue_WarpMask in dir: /home/oesteban/workspace/ACWE-Reg/temp/Phantom1/synthetic_distortion/Fugue_WarpMask\n"
       ]
      },
      {
       "output_type": "stream",
       "stream": "stdout",
       "text": [
        "131005-21:17:14,656 workflow INFO:\n",
        "\t Running: fugue --in=/home/oesteban/workspace/ACWE-Reg/temp/Phantom1/roi_gm.nii.gz --mask=/home/oesteban/workspace/ACWE-Reg/temp/Phantom1/roi_gm.nii.gz --loadshift=/home/oesteban/workspace/ACWE-Reg/temp/Phantom1/synthetic_distortion/demean/roi_gm_vsm_demeaned.nii.gz --warp=/home/oesteban/workspace/ACWE-Reg/temp/Phantom1/synthetic_distortion/Fugue_WarpMask/roi_gm_warped.nii.gz\n"
       ]
      },
      {
       "output_type": "stream",
       "stream": "stdout",
       "text": [
        "131005-21:17:31,167 workflow INFO:\n",
        "\t Executing node binarize in dir: /home/oesteban/workspace/ACWE-Reg/temp/Phantom1/synthetic_distortion/binarize\n"
       ]
      },
      {
       "output_type": "stream",
       "stream": "stdout",
       "text": [
        "131005-21:17:31,170 workflow INFO:\n",
        "\t Running: mri_binarize --o /home/oesteban/workspace/ACWE-Reg/temp/Phantom1/synthetic_distortion/binarize/roi_gm_warped_thresh.nii.gz --i /home/oesteban/workspace/ACWE-Reg/temp/Phantom1/synthetic_distortion/binarize/roi_gm_warped.nii.gz --min 0.000010\n"
       ]
      },
      {
       "output_type": "stream",
       "stream": "stdout",
       "text": [
        "131005-21:17:31,315 interface INFO:\n",
        "\t stdout 2013-10-05T21:17:31.315001:\n"
       ]
      },
      {
       "output_type": "stream",
       "stream": "stdout",
       "text": [
        "131005-21:17:31,315 interface INFO:\n",
        "\t stdout 2013-10-05T21:17:31.315001:$Id: mri_binarize.c,v 1.26.2.1 2011/04/08 15:40:50 greve Exp $\n"
       ]
      },
      {
       "output_type": "stream",
       "stream": "stdout",
       "text": [
        "131005-21:17:31,316 interface INFO:\n",
        "\t stdout 2013-10-05T21:17:31.315001:cwd /home/oesteban/workspace/ACWE-Reg/temp/Phantom1/synthetic_distortion/binarize\n"
       ]
      },
      {
       "output_type": "stream",
       "stream": "stdout",
       "text": [
        "131005-21:17:31,316 interface INFO:\n",
        "\t stdout 2013-10-05T21:17:31.315001:cmdline mri_binarize --o /home/oesteban/workspace/ACWE-Reg/temp/Phantom1/synthetic_distortion/binarize/roi_gm_warped_thresh.nii.gz --i /home/oesteban/workspace/ACWE-Reg/temp/Phantom1/synthetic_distortion/binarize/roi_gm_warped.nii.gz --min 0.000010 \n"
       ]
      },
      {
       "output_type": "stream",
       "stream": "stdout",
       "text": [
        "131005-21:17:31,317 interface INFO:\n",
        "\t stdout 2013-10-05T21:17:31.315001:sysname  Linux\n"
       ]
      },
      {
       "output_type": "stream",
       "stream": "stdout",
       "text": [
        "131005-21:17:31,317 interface INFO:\n",
        "\t stdout 2013-10-05T21:17:31.315001:hostname tea\n"
       ]
      },
      {
       "output_type": "stream",
       "stream": "stdout",
       "text": [
        "131005-21:17:31,318 interface INFO:\n",
        "\t stdout 2013-10-05T21:17:31.315001:machine  x86_64\n"
       ]
      },
      {
       "output_type": "stream",
       "stream": "stdout",
       "text": [
        "131005-21:17:31,318 interface INFO:\n",
        "\t stdout 2013-10-05T21:17:31.315001:user     oesteban\n"
       ]
      },
      {
       "output_type": "stream",
       "stream": "stdout",
       "text": [
        "131005-21:17:31,318 interface INFO:\n",
        "\t stdout 2013-10-05T21:17:31.315001:\n"
       ]
      },
      {
       "output_type": "stream",
       "stream": "stdout",
       "text": [
        "131005-21:17:31,319 interface INFO:\n",
        "\t stdout 2013-10-05T21:17:31.315001:input      /home/oesteban/workspace/ACWE-Reg/temp/Phantom1/synthetic_distortion/binarize/roi_gm_warped.nii.gz\n"
       ]
      },
      {
       "output_type": "stream",
       "stream": "stdout",
       "text": [
        "131005-21:17:31,319 interface INFO:\n",
        "\t stdout 2013-10-05T21:17:31.315001:frame      0\n"
       ]
      },
      {
       "output_type": "stream",
       "stream": "stdout",
       "text": [
        "131005-21:17:31,320 interface INFO:\n",
        "\t stdout 2013-10-05T21:17:31.315001:nErode3d   0\n"
       ]
      },
      {
       "output_type": "stream",
       "stream": "stdout",
       "text": [
        "131005-21:17:31,320 interface INFO:\n",
        "\t stdout 2013-10-05T21:17:31.315001:nErode2d   0\n"
       ]
      },
      {
       "output_type": "stream",
       "stream": "stdout",
       "text": [
        "131005-21:17:31,321 interface INFO:\n",
        "\t stdout 2013-10-05T21:17:31.315001:output     /home/oesteban/workspace/ACWE-Reg/temp/Phantom1/synthetic_distortion/binarize/roi_gm_warped_thresh.nii.gz\n"
       ]
      },
      {
       "output_type": "stream",
       "stream": "stdout",
       "text": [
        "131005-21:17:31,321 interface INFO:\n",
        "\t stdout 2013-10-05T21:17:31.315001:Binarizing based on threshold\n"
       ]
      },
      {
       "output_type": "stream",
       "stream": "stdout",
       "text": [
        "131005-21:17:31,322 interface INFO:\n",
        "\t stdout 2013-10-05T21:17:31.315001:min        1e-05\n"
       ]
      },
      {
       "output_type": "stream",
       "stream": "stdout",
       "text": [
        "131005-21:17:31,322 interface INFO:\n",
        "\t stdout 2013-10-05T21:17:31.315001:max        +infinity\n"
       ]
      },
      {
       "output_type": "stream",
       "stream": "stdout",
       "text": [
        "131005-21:17:31,323 interface INFO:\n",
        "\t stdout 2013-10-05T21:17:31.315001:binval        1\n"
       ]
      },
      {
       "output_type": "stream",
       "stream": "stdout",
       "text": [
        "131005-21:17:31,323 interface INFO:\n",
        "\t stdout 2013-10-05T21:17:31.315001:binvalnot     0\n"
       ]
      },
      {
       "output_type": "stream",
       "stream": "stdout",
       "text": [
        "131005-21:17:31,323 interface INFO:\n",
        "\t stdout 2013-10-05T21:17:31.315001:Found 276807 values in range\n"
       ]
      },
      {
       "output_type": "stream",
       "stream": "stdout",
       "text": [
        "131005-21:17:31,324 interface INFO:\n",
        "\t stdout 2013-10-05T21:17:31.315001:Counting number of voxels\n"
       ]
      },
      {
       "output_type": "stream",
       "stream": "stdout",
       "text": [
        "131005-21:17:31,324 interface INFO:\n",
        "\t stdout 2013-10-05T21:17:31.315001:Found 276807 voxels in final mask\n"
       ]
      },
      {
       "output_type": "stream",
       "stream": "stdout",
       "text": [
        "131005-21:17:31,324 interface INFO:\n",
        "\t stdout 2013-10-05T21:17:31.315001:mri_binarize done\n"
       ]
      },
      {
       "output_type": "stream",
       "stream": "stdout",
       "text": [
        "131005-21:17:31,395 workflow INFO:\n",
        "\t Executing node WarpImages in dir: /home/oesteban/workspace/ACWE-Reg/temp/Phantom1/synthetic_distortion/WarpImages\n"
       ]
      },
      {
       "output_type": "stream",
       "stream": "stdout",
       "text": [
        "131005-21:17:31,402 workflow INFO:\n",
        "\t Executing node _WarpImages0 in dir: /home/oesteban/workspace/ACWE-Reg/temp/Phantom1/synthetic_distortion/WarpImages/mapflow/_WarpImages0\n"
       ]
      },
      {
       "output_type": "stream",
       "stream": "stdout",
       "text": [
        "131005-21:17:31,408 workflow INFO:\n",
        "\t Running: fugue --icorr --in=/home/oesteban/workspace/ACWE-Reg/Data/Phantom1/tpms/wm_tpm.nii.gz --mask=/home/oesteban/workspace/ACWE-Reg/temp/Phantom1/roi_gm.nii.gz --loadshift=/home/oesteban/workspace/ACWE-Reg/temp/Phantom1/synthetic_distortion/demean/roi_gm_vsm_demeaned.nii.gz --warp=/home/oesteban/workspace/ACWE-Reg/temp/Phantom1/synthetic_distortion/WarpImages/mapflow/_WarpImages0/wm_tpm_warped.nii.gz\n"
       ]
      },
      {
       "output_type": "stream",
       "stream": "stdout",
       "text": [
        "131005-21:17:47,846 workflow INFO:\n",
        "\t Executing node _WarpImages1 in dir: /home/oesteban/workspace/ACWE-Reg/temp/Phantom1/synthetic_distortion/WarpImages/mapflow/_WarpImages1\n"
       ]
      },
      {
       "output_type": "stream",
       "stream": "stdout",
       "text": [
        "131005-21:17:47,850 workflow INFO:\n",
        "\t Running: fugue --icorr --in=/home/oesteban/workspace/ACWE-Reg/Data/Phantom1/tpms/gm_tpm.nii.gz --mask=/home/oesteban/workspace/ACWE-Reg/temp/Phantom1/roi_gm.nii.gz --loadshift=/home/oesteban/workspace/ACWE-Reg/temp/Phantom1/synthetic_distortion/demean/roi_gm_vsm_demeaned.nii.gz --warp=/home/oesteban/workspace/ACWE-Reg/temp/Phantom1/synthetic_distortion/WarpImages/mapflow/_WarpImages1/gm_tpm_warped.nii.gz\n"
       ]
      },
      {
       "output_type": "stream",
       "stream": "stdout",
       "text": [
        "131005-21:18:04,424 workflow INFO:\n",
        "\t Executing node Normalize in dir: /home/oesteban/workspace/ACWE-Reg/temp/Phantom1/synthetic_distortion/Normalize\n"
       ]
      },
      {
       "output_type": "stream",
       "stream": "stderr",
       "text": [
        "/home/oesteban/workspace/nipype/nipype/interfaces/fsl/preprocess.py:1286: UserWarning: This interface has not been fully tested. Please report any failures.\n",
        "  'This interface has not been fully tested. Please report any failures.')\n",
        "/home/oesteban/workspace/nipype/nipype/interfaces/base.py:385: UserWarning: Input icorr requires inputs: shift_in_file\n",
        "  warn(msg)\n",
        "/home/oesteban/workspace/nipype/nipype/interfaces/fsl/preprocess.py:1286: UserWarning: This interface has not been fully tested. Please report any failures.\n",
        "  'This interface has not been fully tested. Please report any failures.')\n",
        "/home/oesteban/workspace/nipype/nipype/interfaces/fsl/preprocess.py:1286: UserWarning: This interface has not been fully tested. Please report any failures.\n",
        "  'This interface has not been fully tested. Please report any failures.')\n",
        "/home/oesteban/workspace/nipype/nipype/interfaces/base.py:385: UserWarning: Input icorr requires inputs: shift_in_file\n",
        "  warn(msg)\n",
        "/home/oesteban/workspace/nipype/nipype/interfaces/fsl/preprocess.py:1286: UserWarning: This interface has not been fully tested. Please report any failures.\n",
        "  'This interface has not been fully tested. Please report any failures.')\n"
       ]
      },
      {
       "output_type": "pyout",
       "prompt_number": 9,
       "text": [
        "<networkx.classes.digraph.DiGraph at 0xa9a5610>"
       ]
      }
     ],
     "prompt_number": 9
    },
    {
     "cell_type": "code",
     "collapsed": false,
     "input": [
      "import shutil as sh\n",
      "dist_out = op.join( working_dir, 'synthetic_distortion/Fugue_WarpDWIs/merge_DWI/signal_000_warped_merged.nii.gz' )\n",
      "sh.copyfile( dist_out, dist_fname )\n",
      "\n",
      "im = nib.load( dist_fname )\n",
      "imgs = nib.four_to_three( im )\n",
      "\n",
      "for fname,imfile in zip( dfnames, imgs ):\n",
      "    nib.save( imfile, fname )"
     ],
     "language": "python",
     "metadata": {},
     "outputs": [],
     "prompt_number": 10
    },
    {
     "cell_type": "code",
     "collapsed": false,
     "input": [],
     "language": "python",
     "metadata": {},
     "outputs": []
    }
   ],
   "metadata": {}
  }
 ]
}