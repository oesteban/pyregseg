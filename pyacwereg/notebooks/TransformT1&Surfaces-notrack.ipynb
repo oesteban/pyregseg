{
 "metadata": {
  "name": ""
 },
 "nbformat": 3,
 "nbformat_minor": 0,
 "worksheets": [
  {
   "cells": [
    {
     "cell_type": "code",
     "collapsed": false,
     "input": [
      "import numpy as np\n",
      "import nibabel as nib\n",
      "from tvtk.api import tvtk\n",
      "import datetime as dt\n",
      "import os\n",
      "import os.path as op"
     ],
     "language": "python",
     "metadata": {},
     "outputs": [],
     "prompt_number": 11
    },
    {
     "cell_type": "code",
     "collapsed": false,
     "input": [
      "root_dir='/media/data/DTI_Repeatability'\n",
      "working_dir= '/home/oesteban/workspace/ACWE-Reg/temp'"
     ],
     "language": "python",
     "metadata": {},
     "outputs": [],
     "prompt_number": 2
    },
    {
     "cell_type": "markdown",
     "metadata": {},
     "source": [
      "<h1>Transform T1 to dMRI space</h1>\n",
      "Apply direct transform, obtained from bbreg (file bbreg/dti2t1.dat) to map T1 into the dMRI. This example show how to use the different headers and matrices to transform from conformed space to dMRI"
     ]
    },
    {
     "cell_type": "code",
     "collapsed": false,
     "input": [
      "from nipy.algorithms.resample import resample\n",
      "from nipy import load_image\n",
      "from nipy import save_image\n",
      "from nipy.core.api import Image\n",
      "import sys\n",
      "sys.path.append('/home/oesteban/workspace/ACWE-Reg/Scripts/utils')\n",
      "import fsb_transform as fsbt\n",
      "\n",
      "data_dir = op.join( root_dir, 'SurfacesTest' )"
     ],
     "language": "python",
     "metadata": {},
     "outputs": [
      {
       "ename": "ImportError",
       "evalue": "No module named fsb_transform",
       "output_type": "pyerr",
       "traceback": [
        "\u001b[1;31m---------------------------------------------------------------------------\u001b[0m\n\u001b[1;31mImportError\u001b[0m                               Traceback (most recent call last)",
        "\u001b[1;32m<ipython-input-1-afc0967406cb>\u001b[0m in \u001b[0;36m<module>\u001b[1;34m()\u001b[0m\n\u001b[0;32m      5\u001b[0m \u001b[1;32mimport\u001b[0m \u001b[0msys\u001b[0m\u001b[1;33m\u001b[0m\u001b[0m\n\u001b[0;32m      6\u001b[0m \u001b[0msys\u001b[0m\u001b[1;33m.\u001b[0m\u001b[0mpath\u001b[0m\u001b[1;33m.\u001b[0m\u001b[0mappend\u001b[0m\u001b[1;33m(\u001b[0m\u001b[1;34m'/home/oesteban/workspace/ACWE-Reg/Scripts/utils'\u001b[0m\u001b[1;33m)\u001b[0m\u001b[1;33m\u001b[0m\u001b[0m\n\u001b[1;32m----> 7\u001b[1;33m \u001b[1;32mimport\u001b[0m \u001b[0mfsb_transform\u001b[0m \u001b[1;32mas\u001b[0m \u001b[0mfsbt\u001b[0m\u001b[1;33m\u001b[0m\u001b[0m\n\u001b[0m\u001b[0;32m      8\u001b[0m \u001b[1;33m\u001b[0m\u001b[0m\n\u001b[0;32m      9\u001b[0m \u001b[0mdata_dir\u001b[0m \u001b[1;33m=\u001b[0m \u001b[0mop\u001b[0m\u001b[1;33m.\u001b[0m\u001b[0mjoin\u001b[0m\u001b[1;33m(\u001b[0m \u001b[0mroot_dir\u001b[0m\u001b[1;33m,\u001b[0m \u001b[1;34m'SurfacesTest'\u001b[0m \u001b[1;33m)\u001b[0m\u001b[1;33m\u001b[0m\u001b[0m\n",
        "\u001b[1;31mImportError\u001b[0m: No module named fsb_transform"
       ]
      }
     ],
     "prompt_number": 1
    },
    {
     "cell_type": "code",
     "collapsed": false,
     "input": [
      "bfname =  op.join( data_dir, \"DTI_b0_brain.nii.gz\")\n",
      "mrfname = op.join( data_dir, \"img/T1.nii\" )\n",
      "tfname = op.join( data_dir,'bbreg/dti2t1.dat')"
     ],
     "language": "python",
     "metadata": {},
     "outputs": [],
     "prompt_number": 6
    },
    {
     "cell_type": "code",
     "collapsed": false,
     "input": [
      "# Transform and inverse transform\n",
      "t1_to_b0_name = fsbt.transformVolume( mrfname, bfname, tfname )\n",
      "b0_to_t1_name = fsbt.transformVolume( mrfname, bfname, tfname, invert=True )"
     ],
     "language": "python",
     "metadata": {},
     "outputs": [
      {
       "output_type": "stream",
       "stream": "stderr",
       "text": [
        "/usr/local/lib/python2.7/dist-packages/nipy/io/files.py:137: FutureWarning: Default `strict` currently False; this will change to True in a future version of nipy\n",
        "  ni_img = nipy2nifti(img, data_dtype = io_dtype)\n"
       ]
      }
     ],
     "prompt_number": 23
    },
    {
     "cell_type": "markdown",
     "metadata": {},
     "source": [
      "<h1>Transform prior shapes to dMRI space</h1>\n",
      "The idea here is to resample the surfaces in dMRI space"
     ]
    },
    {
     "cell_type": "code",
     "collapsed": false,
     "input": [
      "data_dir = op.join( root_dir, 'SurfacesTest' )"
     ],
     "language": "python",
     "metadata": {},
     "outputs": [],
     "prompt_number": 4
    },
    {
     "cell_type": "code",
     "collapsed": false,
     "input": [
      "for surf in [ 'lh.white', 'rh.white', 'lh.pial', 'rh.pial' ]:\n",
      "    surf_path = op.join( root_dir, 'FREESURFER', 'OE0_T1', 'surf', surf )\n",
      "    outpath = op.join( data_dir, 'surf', 'init.%s.vtk' % surf )\n",
      "    outsurf = fsbt.transformSurface( surf_path, mrfname, bfname, tfname, outpath )"
     ],
     "language": "python",
     "metadata": {},
     "outputs": [],
     "prompt_number": 7
    },
    {
     "cell_type": "code",
     "collapsed": false,
     "input": [
      "seg_file = op.join( data_dir, 'img', 'aseg.nii.gz' )\n",
      "csf_labels = [ 4, 5, 43, 44, 14, 15, 72, 24 ]\n",
      "#csf_binarized = fsbt.CombineSegs( seg_file, csf_labels )\n",
      "\n",
      "wm_labels = [ 127, 255 ]"
     ],
     "language": "python",
     "metadata": {},
     "outputs": [],
     "prompt_number": 6
    },
    {
     "cell_type": "markdown",
     "metadata": {},
     "source": [
      "<h1>Generate CSF Surface</h1>\n",
      "This code generates the necessary csf surfaces. References:\n",
      "<ul>\n",
      "    <li>https://github.com/nipy/nipype/issues/307</li>\n",
      "    <li>https://mail.nmr.mgh.harvard.edu/pipermail//freesurfer/2011-November/021391.html</li>\n",
      "    <li>http://brainder.org/2012/05/08/importing-freesurfer-subcortical-structures-into-blender/</li>\n",
      "    <li>https://mail.nmr.mgh.harvard.edu/pipermail/freesurfer/2013-June/030586.html</li>\n",
      "</ul>   "
     ]
    },
    {
     "cell_type": "code",
     "collapsed": false,
     "input": [
      "import os\n",
      "import os.path as op\n",
      "import nipype.pipeline.engine as pe             # pipeline engine\n",
      "import pyacwereg.workflows.epi as epi\n",
      "from IPython.display import Image\n",
      "import pyacwereg.workflows.evaluation as ev\n",
      "data_dir = op.join( '/scr/data', 'IXI_dataset' )\n",
      "work_dir = op.abspath( '/home/oesteban/tmp' )"
     ],
     "language": "python",
     "metadata": {},
     "outputs": [],
     "prompt_number": 1
    },
    {
     "cell_type": "code",
     "collapsed": false,
     "input": [
      "reload(ev)\n",
      "mm = ev.bspline()\n",
      "mm.base_dir = work_dir\n",
      "mm.inputs.inputnode.subject_id = 'S400'\n",
      "mm.inputs.inputnode.data_dir = data_dir\n",
      "mm.inputs.inputnode.grid_size = 6\n",
      "mm.inputs.inputnode.out_csv=op.join( work_dir, mm.name, 'results.csv' )"
     ],
     "language": "python",
     "metadata": {},
     "outputs": [],
     "prompt_number": 2
    },
    {
     "cell_type": "code",
     "collapsed": false,
     "input": [
      "mm.run()"
     ],
     "language": "python",
     "metadata": {},
     "outputs": [
      {
       "output_type": "stream",
       "stream": "stderr",
       "text": [
        "INFO:workflow:['check', 'execution', 'logging']\n"
       ]
      },
      {
       "output_type": "stream",
       "stream": "stderr",
       "text": [
        "INFO:workflow:Running in parallel.\n"
       ]
      },
      {
       "output_type": "stream",
       "stream": "stderr",
       "text": [
        "INFO:workflow:Submitting 3 jobs\n"
       ]
      },
      {
       "output_type": "stream",
       "stream": "stderr",
       "text": [
        "INFO:workflow:Executing: FSSource ID: 0\n"
       ]
      },
      {
       "output_type": "stream",
       "stream": "stderr",
       "text": [
        "INFO:workflow:Executing: FreesurferSource ID: 1\n"
       ]
      },
      {
       "output_type": "stream",
       "stream": "stderr",
       "text": [
        "INFO:workflow:Executing: DataSource ID: 6\n"
       ]
      },
      {
       "output_type": "stream",
       "stream": "stderr",
       "text": [
        "INFO:workflow:[Job finished] jobname: FSSource jobid: 0\n",
        "INFO:workflow:Executing node FSSource in dir: /home/oesteban/tmp/BSplineEvaluation/Prepare_sMRI/FSSource\n",
        "INFO:workflow:Executing node FreesurferSource in dir: /home/oesteban/tmp/BSplineEvaluation/Prepare_sMRI/CSF_Surface/FreesurferSource\n",
        "INFO:workflow:Executing node DataSource in dir: /home/oesteban/tmp/BSplineEvaluation/Prepare_sMRI/DataSource\n"
       ]
      },
      {
       "output_type": "stream",
       "stream": "stderr",
       "text": [
        "INFO:workflow:[Job finished] jobname: FreesurferSource jobid: 1\n"
       ]
      },
      {
       "output_type": "stream",
       "stream": "stderr",
       "text": [
        "INFO:workflow:[Job finished] jobname: DataSource jobid: 6\n"
       ]
      },
      {
       "output_type": "stream",
       "stream": "stderr",
       "text": [
        "INFO:workflow:Submitting 3 jobs\n"
       ]
      },
      {
       "output_type": "stream",
       "stream": "stderr",
       "text": [
        "INFO:workflow:Executing: toRAS ID: 2\n"
       ]
      },
      {
       "output_type": "stream",
       "stream": "stderr",
       "text": [
        "INFO:workflow:Executing: T1toRAS ID: 7\n"
       ]
      },
      {
       "output_type": "stream",
       "stream": "stderr",
       "text": [
        "INFO:workflow:Executing: T2w_to_T1w ID: 22\n",
        "INFO:workflow:Executing node toRAS in dir: /home/oesteban/tmp/BSplineEvaluation/Prepare_sMRI/CSF_Surface/toRAS\n"
       ]
      },
      {
       "output_type": "stream",
       "stream": "stderr",
       "text": [
        "INFO:workflow:[Job finished] jobname: toRAS jobid: 2\n",
        "INFO:workflow:Executing node T1toRAS in dir: /home/oesteban/tmp/BSplineEvaluation/Prepare_sMRI/T1toRAS\n",
        "INFO:workflow:Executing node T2w_to_T1w in dir: /home/oesteban/tmp/BSplineEvaluation/Prepare_sMRI/T2w_to_T1w\n",
        "INFO:workflow:Running: mri_convert --out_orientation RAS --out_type mgz --input_volume /scr/data/IXI_dataset/FREESURFER/S400/mri/rawavg.mgz --output_volume /home/oesteban/tmp/BSplineEvaluation/Prepare_sMRI/CSF_Surface/toRAS/rawavg_out.mgz\n",
        "INFO:workflow:Running: mri_convert --out_orientation RAS --out_type nii --input_volume /scr/data/IXI_dataset/subjects/S400/T1-Guys-0977.nii.gz --output_volume /home/oesteban/tmp/BSplineEvaluation/Prepare_sMRI/T1toRAS/T1-Guys-0977_out.nii.gz\n",
        "INFO:workflow:Running: bbregister --t2 --init-header --reg /home/oesteban/tmp/BSplineEvaluation/Prepare_sMRI/T2w_to_T1w/T2-Guys-0977_bbreg_S400.dat --o /home/oesteban/tmp/BSplineEvaluation/Prepare_sMRI/T2w_to_T1w/T2-Guys-0977_bbreg.nii.gz --mov /home/oesteban/tmp/BSplineEvaluation/Prepare_sMRI/T2w_to_T1w/T2-Guys-0977.nii.gz --s S400\n"
       ]
      },
      {
       "output_type": "stream",
       "stream": "stderr",
       "text": [
        "INFO:workflow:[Job finished] jobname: T1toRAS jobid: 7\n"
       ]
      },
      {
       "output_type": "stream",
       "stream": "stderr",
       "text": [
        "INFO:workflow:Submitting 4 jobs\n"
       ]
      },
      {
       "output_type": "stream",
       "stream": "stderr",
       "text": [
        "INFO:workflow:Executing: aseg_to_native ID: 3\n"
       ]
      },
      {
       "output_type": "stream",
       "stream": "stderr",
       "text": [
        "INFO:workflow:Executing: norm_to_T1 ID: 8\n"
       ]
      },
      {
       "output_type": "stream",
       "stream": "stderr",
       "text": [
        "INFO:workflow:Executing: surftfm ID: 11\n",
        "INFO:workflow:Executing node aseg_to_native in dir: /home/oesteban/tmp/BSplineEvaluation/Prepare_sMRI/CSF_Surface/aseg_to_native\n"
       ]
      },
      {
       "output_type": "stream",
       "stream": "stderr",
       "text": [
        "INFO:workflow:Executing: norm_to_native ID: 14\n",
        "INFO:workflow:Executing node norm_to_T1 in dir: /home/oesteban/tmp/BSplineEvaluation/Prepare_sMRI/norm_to_T1\n"
       ]
      },
      {
       "output_type": "stream",
       "stream": "stderr",
       "text": [
        "INFO:workflow:[Job finished] jobname: surftfm jobid: 11\n",
        "INFO:workflow:Running: mri_label2vol --regheader /scr/data/IXI_dataset/FREESURFER/S400/mri/aseg.mgz --seg /home/oesteban/tmp/BSplineEvaluation/Prepare_sMRI/CSF_Surface/aseg_to_native/aseg.mgz --temp /home/oesteban/tmp/BSplineEvaluation/Prepare_sMRI/CSF_Surface/toRAS/rawavg_out.mgz --o /home/oesteban/tmp/BSplineEvaluation/Prepare_sMRI/CSF_Surface/aseg_to_native/aseg_vol.nii.gz\n",
        "INFO:workflow:Executing node surftfm in dir: /home/oesteban/tmp/BSplineEvaluation/Prepare_sMRI/Surfaces_to_native/surftfm\n",
        "INFO:workflow:Running: mri_vol2vol --regheader --mov /home/oesteban/tmp/BSplineEvaluation/Prepare_sMRI/norm_to_T1/norm.mgz --targ /home/oesteban/tmp/BSplineEvaluation/Prepare_sMRI/T1toRAS/T1-Guys-0977_out.nii.gz --o /home/oesteban/tmp/BSplineEvaluation/Prepare_sMRI/norm_to_T1/norm_warped.mgz\n",
        "INFO:workflow:Executing node norm_to_native in dir: /home/oesteban/tmp/BSplineEvaluation/Prepare_sMRI/CSF_Surface/norm_to_native\n",
        "INFO:workflow:Running: mri_vol2vol --regheader --mov /home/oesteban/tmp/BSplineEvaluation/Prepare_sMRI/CSF_Surface/norm_to_native/norm.mgz --targ /home/oesteban/tmp/BSplineEvaluation/Prepare_sMRI/CSF_Surface/toRAS/rawavg_out.mgz --o /home/oesteban/tmp/BSplineEvaluation/Prepare_sMRI/CSF_Surface/norm_to_native/norm_warped.mgz\n"
       ]
      },
      {
       "output_type": "stream",
       "stream": "stderr",
       "text": [
        "INFO:workflow:Submitting 1 jobs\n"
       ]
      },
      {
       "output_type": "stream",
       "stream": "stderr",
       "text": [
        "INFO:workflow:Adding 4 jobs for mapnode TransformSurface\n"
       ]
      },
      {
       "output_type": "stream",
       "stream": "stderr",
       "text": [
        "INFO:workflow:Submitting 4 jobs\n"
       ]
      },
      {
       "output_type": "stream",
       "stream": "stderr",
       "text": [
        "INFO:workflow:Executing: _TransformSurface0 ID: 59\n"
       ]
      },
      {
       "output_type": "stream",
       "stream": "stderr",
       "text": [
        "INFO:workflow:Executing: _TransformSurface1 ID: 60\n"
       ]
      },
      {
       "output_type": "stream",
       "stream": "stderr",
       "text": [
        "INFO:workflow:Executing: _TransformSurface2 ID: 61\n",
        "INFO:workflow:Executing node _TransformSurface0 in dir: /home/oesteban/tmp/BSplineEvaluation/Prepare_sMRI/Surfaces_to_native/TransformSurface/mapflow/_TransformSurface0\n"
       ]
      },
      {
       "output_type": "stream",
       "stream": "stderr",
       "text": [
        "INFO:workflow:Executing: _TransformSurface3 ID: 62\n",
        "INFO:workflow:Executing node _TransformSurface1 in dir: /home/oesteban/tmp/BSplineEvaluation/Prepare_sMRI/Surfaces_to_native/TransformSurface/mapflow/_TransformSurface1\n"
       ]
      },
      {
       "output_type": "stream",
       "stream": "stderr",
       "text": [
        "INFO:workflow:[Job finished] jobname: norm_to_T1 jobid: 8\n",
        "INFO:workflow:Executing node _TransformSurface2 in dir: /home/oesteban/tmp/BSplineEvaluation/Prepare_sMRI/Surfaces_to_native/TransformSurface/mapflow/_TransformSurface2\n",
        "INFO:workflow:Executing node _TransformSurface3 in dir: /home/oesteban/tmp/BSplineEvaluation/Prepare_sMRI/Surfaces_to_native/TransformSurface/mapflow/_TransformSurface3\n"
       ]
      },
      {
       "output_type": "stream",
       "stream": "stderr",
       "text": [
        "INFO:workflow:[Job finished] jobname: norm_to_native jobid: 14\n"
       ]
      },
      {
       "output_type": "stream",
       "stream": "stderr",
       "text": [
        "INFO:workflow:Submitting 1 jobs\n"
       ]
      },
      {
       "output_type": "stream",
       "stream": "stderr",
       "text": [
        "INFO:workflow:Executing: T1brainToRAS ID: 9\n"
       ]
      },
      {
       "output_type": "stream",
       "stream": "stderr",
       "text": [
        "INFO:workflow:[Job finished] jobname: _TransformSurface0 jobid: 59\n",
        "INFO:workflow:Executing node T1brainToRAS in dir: /home/oesteban/tmp/BSplineEvaluation/Prepare_sMRI/T1brainToRAS\n",
        "INFO:workflow:Running: mri_convert --out_orientation RAS --out_type nii --input_volume /home/oesteban/tmp/BSplineEvaluation/Prepare_sMRI/norm_to_T1/norm_warped.mgz --output_volume /home/oesteban/tmp/BSplineEvaluation/Prepare_sMRI/T1brainToRAS/norm_warped_out.nii.gz\n"
       ]
      },
      {
       "output_type": "stream",
       "stream": "stderr",
       "text": [
        "INFO:workflow:[Job finished] jobname: _TransformSurface1 jobid: 60\n"
       ]
      },
      {
       "output_type": "stream",
       "stream": "stderr",
       "text": [
        "INFO:workflow:[Job finished] jobname: _TransformSurface2 jobid: 61\n"
       ]
      },
      {
       "output_type": "stream",
       "stream": "stderr",
       "text": [
        "INFO:workflow:[Job finished] jobname: _TransformSurface3 jobid: 62\n"
       ]
      },
      {
       "output_type": "stream",
       "stream": "stderr",
       "text": [
        "INFO:workflow:Submitting 1 jobs\n"
       ]
      },
      {
       "output_type": "stream",
       "stream": "stderr",
       "text": [
        "INFO:workflow:Executing: TransformSurface ID: 12\n"
       ]
      },
      {
       "output_type": "stream",
       "stream": "stderr",
       "text": [
        "INFO:workflow:[Job finished] jobname: TransformSurface jobid: 12\n",
        "INFO:workflow:Executing node TransformSurface in dir: /home/oesteban/tmp/BSplineEvaluation/Prepare_sMRI/Surfaces_to_native/TransformSurface\n",
        "INFO:workflow:Executing node _TransformSurface0 in dir: /home/oesteban/tmp/BSplineEvaluation/Prepare_sMRI/Surfaces_to_native/TransformSurface/mapflow/_TransformSurface0\n",
        "INFO:workflow:Collecting precomputed outputs\n",
        "INFO:workflow:Executing node _TransformSurface1 in dir: /home/oesteban/tmp/BSplineEvaluation/Prepare_sMRI/Surfaces_to_native/TransformSurface/mapflow/_TransformSurface1\n",
        "INFO:workflow:Collecting precomputed outputs\n",
        "INFO:workflow:Executing node _TransformSurface2 in dir: /home/oesteban/tmp/BSplineEvaluation/Prepare_sMRI/Surfaces_to_native/TransformSurface/mapflow/_TransformSurface2\n",
        "INFO:workflow:Collecting precomputed outputs\n",
        "INFO:workflow:Executing node _TransformSurface3 in dir: /home/oesteban/tmp/BSplineEvaluation/Prepare_sMRI/Surfaces_to_native/TransformSurface/mapflow/_TransformSurface3\n",
        "INFO:workflow:Collecting precomputed outputs\n"
       ]
      },
      {
       "output_type": "stream",
       "stream": "stderr",
       "text": [
        "INFO:workflow:[Job finished] jobname: aseg_to_native jobid: 3\n"
       ]
      },
      {
       "output_type": "stream",
       "stream": "stderr",
       "text": [
        "INFO:workflow:[Job finished] jobname: T1brainToRAS jobid: 9\n"
       ]
      },
      {
       "output_type": "stream",
       "stream": "stderr",
       "text": [
        "INFO:workflow:Submitting 3 jobs\n"
       ]
      },
      {
       "output_type": "stream",
       "stream": "stderr",
       "text": [
        "INFO:workflow:Executing: combine ID: 4\n"
       ]
      },
      {
       "output_type": "stream",
       "stream": "stderr",
       "text": [
        "INFO:workflow:Executing: binarize ID: 10\n"
       ]
      },
      {
       "output_type": "stream",
       "stream": "stderr",
       "text": [
        "INFO:workflow:Executing: SegmentT1 ID: 13\n",
        "INFO:workflow:Executing node combine in dir: /home/oesteban/tmp/BSplineEvaluation/Prepare_sMRI/CSF_Surface/combine\n"
       ]
      },
      {
       "output_type": "stream",
       "stream": "stderr",
       "text": [
        "INFO:workflow:[Job finished] jobname: binarize jobid: 10\n",
        "INFO:workflow:Executing node binarize in dir: /home/oesteban/tmp/BSplineEvaluation/Prepare_sMRI/binarize\n",
        "INFO:workflow:Executing node SegmentT1 in dir: /home/oesteban/tmp/BSplineEvaluation/Prepare_sMRI/SegmentT1\n",
        "INFO:workflow:Running: mri_binarize --o /home/oesteban/tmp/BSplineEvaluation/Prepare_sMRI/binarize/norm_warped_out_thresh.nii.gz --i /home/oesteban/tmp/BSplineEvaluation/Prepare_sMRI/binarize/norm_warped_out.nii.gz --min 0.010000\n",
        "INFO:workflow:Running: fast -t 1 -n 3 -p -S 1 /home/oesteban/tmp/BSplineEvaluation/Prepare_sMRI/SegmentT1/norm_warped_out.nii.gz\n"
       ]
      },
      {
       "output_type": "stream",
       "stream": "stderr",
       "text": [
        "INFO:workflow:[Job finished] jobname: combine jobid: 4\n"
       ]
      },
      {
       "output_type": "stream",
       "stream": "stderr",
       "text": [
        "INFO:workflow:Submitting 1 jobs\n"
       ]
      },
      {
       "output_type": "stream",
       "stream": "stderr",
       "text": [
        "INFO:workflow:Executing: convertmgz ID: 5\n"
       ]
      },
      {
       "output_type": "stream",
       "stream": "stderr",
       "text": [
        "INFO:workflow:[Job finished] jobname: convertmgz jobid: 5\n",
        "INFO:workflow:Executing node convertmgz in dir: /home/oesteban/tmp/BSplineEvaluation/Prepare_sMRI/CSF_Surface/convertmgz\n",
        "INFO:workflow:Running: mri_convert --out_type mgz --input_volume /home/oesteban/tmp/BSplineEvaluation/Prepare_sMRI/CSF_Surface/aseg_to_native/aseg_vol_bin.nii.gz --output_volume /home/oesteban/tmp/BSplineEvaluation/Prepare_sMRI/CSF_Surface/convertmgz/aseg_vol_bin_out.mgz\n"
       ]
      },
      {
       "output_type": "stream",
       "stream": "stderr",
       "text": [
        "INFO:workflow:Submitting 1 jobs\n"
       ]
      },
      {
       "output_type": "stream",
       "stream": "stderr",
       "text": [
        "INFO:workflow:Executing: pretess ID: 15\n"
       ]
      },
      {
       "output_type": "stream",
       "stream": "stderr",
       "text": [
        "INFO:workflow:[Job finished] jobname: pretess jobid: 15\n",
        "INFO:workflow:Executing node pretess in dir: /home/oesteban/tmp/BSplineEvaluation/Prepare_sMRI/CSF_Surface/pretess\n"
       ]
      },
      {
       "output_type": "stream",
       "stream": "stderr",
       "text": [
        "INFO:workflow:Submitting 1 jobs\n"
       ]
      },
      {
       "output_type": "stream",
       "stream": "stderr",
       "text": [
        "INFO:workflow:Executing: tess ID: 16\n"
       ]
      },
      {
       "output_type": "stream",
       "stream": "stderr",
       "text": [
        "INFO:workflow:[Job finished] jobname: tess jobid: 16\n",
        "INFO:workflow:Executing node tess in dir: /home/oesteban/tmp/BSplineEvaluation/Prepare_sMRI/CSF_Surface/tess\n",
        "INFO:workflow:Running: mri_tessellate /home/oesteban/tmp/BSplineEvaluation/Prepare_sMRI/CSF_Surface/pretess/aseg_vol_bin_out_pretess.mgz 1 ./aseg_vol_bin_out_pretess.mgz_1\n"
       ]
      },
      {
       "output_type": "stream",
       "stream": "stderr",
       "text": [
        "INFO:workflow:Submitting 1 jobs\n"
       ]
      },
      {
       "output_type": "stream",
       "stream": "stderr",
       "text": [
        "INFO:workflow:Executing: mris_smooth ID: 17\n"
       ]
      },
      {
       "output_type": "stream",
       "stream": "stderr",
       "text": [
        "INFO:workflow:[Job finished] jobname: mris_smooth jobid: 17\n",
        "INFO:workflow:Executing node mris_smooth in dir: /home/oesteban/tmp/BSplineEvaluation/Prepare_sMRI/CSF_Surface/mris_smooth\n",
        "INFO:workflow:Running: mris_smooth /home/oesteban/tmp/BSplineEvaluation/Prepare_sMRI/CSF_Surface/tess/aseg_vol_bin_out_pretess.mgz_1 /home/oesteban/tmp/BSplineEvaluation/Prepare_sMRI/CSF_Surface/mris_smooth/aseg_vol_bin_out_pretess_smoothed.mgz_1 -nw -n 10 -a 10\n"
       ]
      },
      {
       "output_type": "stream",
       "stream": "stderr",
       "text": [
        "INFO:workflow:Submitting 1 jobs\n"
       ]
      },
      {
       "output_type": "stream",
       "stream": "stderr",
       "text": [
        "INFO:workflow:Executing: rename ID: 18\n"
       ]
      },
      {
       "output_type": "stream",
       "stream": "stderr",
       "text": [
        "INFO:workflow:[Job finished] jobname: rename jobid: 18\n",
        "INFO:workflow:Executing node rename in dir: /home/oesteban/tmp/BSplineEvaluation/Prepare_sMRI/CSF_Surface/rename\n"
       ]
      },
      {
       "output_type": "stream",
       "stream": "stderr",
       "text": [
        "INFO:workflow:Submitting 1 jobs\n"
       ]
      },
      {
       "output_type": "stream",
       "stream": "stderr",
       "text": [
        "INFO:workflow:Executing: merge_surfs ID: 19\n"
       ]
      },
      {
       "output_type": "stream",
       "stream": "stderr",
       "text": [
        "INFO:workflow:[Job finished] jobname: merge_surfs jobid: 19\n",
        "INFO:workflow:Executing node merge_surfs in dir: /home/oesteban/tmp/BSplineEvaluation/Prepare_sMRI/merge_surfs\n"
       ]
      },
      {
       "output_type": "stream",
       "stream": "stderr",
       "text": [
        "INFO:workflow:Submitting 1 jobs\n"
       ]
      },
      {
       "output_type": "stream",
       "stream": "stderr",
       "text": [
        "INFO:workflow:Adding 5 jobs for mapnode toVTK\n"
       ]
      },
      {
       "output_type": "stream",
       "stream": "stderr",
       "text": [
        "INFO:workflow:Submitting 5 jobs\n"
       ]
      },
      {
       "output_type": "stream",
       "stream": "stderr",
       "text": [
        "INFO:workflow:Executing: _toVTK0 ID: 63\n"
       ]
      },
      {
       "output_type": "stream",
       "stream": "stderr",
       "text": [
        "INFO:workflow:Executing: _toVTK1 ID: 64\n",
        "INFO:workflow:Executing node _toVTK0 in dir: /home/oesteban/tmp/BSplineEvaluation/Prepare_sMRI/toVTK/mapflow/_toVTK0\n"
       ]
      },
      {
       "output_type": "stream",
       "stream": "stderr",
       "text": [
        "INFO:workflow:Executing: _toVTK2 ID: 65\n",
        "INFO:workflow:Executing node _toVTK1 in dir: /home/oesteban/tmp/BSplineEvaluation/Prepare_sMRI/toVTK/mapflow/_toVTK1\n"
       ]
      },
      {
       "output_type": "stream",
       "stream": "stderr",
       "text": [
        "INFO:workflow:Executing: _toVTK3 ID: 66\n"
       ]
      },
      {
       "output_type": "stream",
       "stream": "stderr",
       "text": [
        "INFO:workflow:Executing: _toVTK4 ID: 67\n",
        "INFO:workflow:Executing node _toVTK2 in dir: /home/oesteban/tmp/BSplineEvaluation/Prepare_sMRI/toVTK/mapflow/_toVTK2\n",
        "INFO:workflow:Running: mris_convert /home/oesteban/tmp/BSplineEvaluation/Prepare_sMRI/CSF_Surface/rename/surf.native ./surf.native_converted.vtk\n"
       ]
      },
      {
       "output_type": "stream",
       "stream": "stderr",
       "text": [
        "INFO:workflow:[Job finished] jobname: _toVTK0 jobid: 63\n",
        "INFO:workflow:Running: mris_convert /home/oesteban/tmp/BSplineEvaluation/Prepare_sMRI/Surfaces_to_native/TransformSurface/mapflow/_TransformSurface0/lh.white.native ./lh.white.native_converted.vtk\n",
        "INFO:workflow:Executing node _toVTK3 in dir: /home/oesteban/tmp/BSplineEvaluation/Prepare_sMRI/toVTK/mapflow/_toVTK3\n",
        "INFO:workflow:Executing node _toVTK4 in dir: /home/oesteban/tmp/BSplineEvaluation/Prepare_sMRI/toVTK/mapflow/_toVTK4\n",
        "INFO:workflow:Running: mris_convert /home/oesteban/tmp/BSplineEvaluation/Prepare_sMRI/Surfaces_to_native/TransformSurface/mapflow/_TransformSurface1/rh.white.native ./rh.white.native_converted.vtk\n",
        "INFO:workflow:Running: mris_convert /home/oesteban/tmp/BSplineEvaluation/Prepare_sMRI/Surfaces_to_native/TransformSurface/mapflow/_TransformSurface3/rh.pial.native ./rh.pial.native_converted.vtk\n",
        "INFO:workflow:Running: mris_convert /home/oesteban/tmp/BSplineEvaluation/Prepare_sMRI/Surfaces_to_native/TransformSurface/mapflow/_TransformSurface2/lh.pial.native ./lh.pial.native_converted.vtk\n"
       ]
      },
      {
       "output_type": "stream",
       "stream": "stderr",
       "text": [
        "INFO:workflow:[Job finished] jobname: _toVTK1 jobid: 64\n"
       ]
      },
      {
       "output_type": "stream",
       "stream": "stderr",
       "text": [
        "INFO:workflow:[Job finished] jobname: _toVTK2 jobid: 65\n"
       ]
      },
      {
       "output_type": "stream",
       "stream": "stderr",
       "text": [
        "INFO:workflow:[Job finished] jobname: _toVTK3 jobid: 66\n"
       ]
      },
      {
       "output_type": "stream",
       "stream": "stderr",
       "text": [
        "INFO:workflow:[Job finished] jobname: _toVTK4 jobid: 67\n"
       ]
      },
      {
       "output_type": "stream",
       "stream": "stderr",
       "text": [
        "INFO:workflow:Submitting 1 jobs\n"
       ]
      },
      {
       "output_type": "stream",
       "stream": "stderr",
       "text": [
        "INFO:workflow:Executing: toVTK ID: 20\n"
       ]
      },
      {
       "output_type": "stream",
       "stream": "stderr",
       "text": [
        "INFO:workflow:[Job finished] jobname: toVTK jobid: 20\n",
        "INFO:workflow:Executing node toVTK in dir: /home/oesteban/tmp/BSplineEvaluation/Prepare_sMRI/toVTK\n",
        "INFO:workflow:Executing node _toVTK0 in dir: /home/oesteban/tmp/BSplineEvaluation/Prepare_sMRI/toVTK/mapflow/_toVTK0\n",
        "INFO:workflow:Collecting precomputed outputs\n",
        "INFO:workflow:Executing node _toVTK1 in dir: /home/oesteban/tmp/BSplineEvaluation/Prepare_sMRI/toVTK/mapflow/_toVTK1\n",
        "INFO:workflow:Collecting precomputed outputs\n",
        "INFO:workflow:Executing node _toVTK2 in dir: /home/oesteban/tmp/BSplineEvaluation/Prepare_sMRI/toVTK/mapflow/_toVTK2\n",
        "INFO:workflow:Collecting precomputed outputs\n",
        "INFO:workflow:Executing node _toVTK3 in dir: /home/oesteban/tmp/BSplineEvaluation/Prepare_sMRI/toVTK/mapflow/_toVTK3\n",
        "INFO:workflow:Collecting precomputed outputs\n",
        "INFO:workflow:Executing node _toVTK4 in dir: /home/oesteban/tmp/BSplineEvaluation/Prepare_sMRI/toVTK/mapflow/_toVTK4\n",
        "INFO:workflow:Collecting precomputed outputs\n"
       ]
      },
      {
       "output_type": "stream",
       "stream": "stderr",
       "text": [
        "INFO:workflow:Submitting 1 jobs\n"
       ]
      },
      {
       "output_type": "stream",
       "stream": "stderr",
       "text": [
        "INFO:workflow:Adding 5 jobs for mapnode fixVTK\n"
       ]
      },
      {
       "output_type": "stream",
       "stream": "stderr",
       "text": [
        "INFO:workflow:Submitting 5 jobs\n"
       ]
      },
      {
       "output_type": "stream",
       "stream": "stderr",
       "text": [
        "INFO:workflow:Executing: _fixVTK0 ID: 68\n"
       ]
      },
      {
       "output_type": "stream",
       "stream": "stderr",
       "text": [
        "INFO:workflow:Executing: _fixVTK1 ID: 69\n"
       ]
      },
      {
       "output_type": "stream",
       "stream": "stderr",
       "text": [
        "INFO:workflow:Executing: _fixVTK2 ID: 70\n"
       ]
      },
      {
       "output_type": "stream",
       "stream": "stderr",
       "text": [
        "INFO:workflow:Executing: _fixVTK3 ID: 71\n",
        "INFO:workflow:Executing node _fixVTK0 in dir: /home/oesteban/tmp/BSplineEvaluation/Prepare_sMRI/fixVTK/mapflow/_fixVTK0\n"
       ]
      },
      {
       "output_type": "stream",
       "stream": "stderr",
       "text": [
        "INFO:workflow:Executing: _fixVTK4 ID: 72\n",
        "INFO:workflow:Executing node _fixVTK1 in dir: /home/oesteban/tmp/BSplineEvaluation/Prepare_sMRI/fixVTK/mapflow/_fixVTK1\n"
       ]
      },
      {
       "output_type": "stream",
       "stream": "stderr",
       "text": [
        "INFO:workflow:[Job finished] jobname: _fixVTK0 jobid: 68\n",
        "INFO:workflow:Executing node _fixVTK2 in dir: /home/oesteban/tmp/BSplineEvaluation/Prepare_sMRI/fixVTK/mapflow/_fixVTK2\n",
        "INFO:workflow:Executing node _fixVTK3 in dir: /home/oesteban/tmp/BSplineEvaluation/Prepare_sMRI/fixVTK/mapflow/_fixVTK3\n",
        "INFO:workflow:Executing node _fixVTK4 in dir: /home/oesteban/tmp/BSplineEvaluation/Prepare_sMRI/fixVTK/mapflow/_fixVTK4\n"
       ]
      },
      {
       "output_type": "stream",
       "stream": "stderr",
       "text": [
        "INFO:workflow:[Job finished] jobname: _fixVTK1 jobid: 69\n"
       ]
      },
      {
       "output_type": "stream",
       "stream": "stderr",
       "text": [
        "INFO:workflow:[Job finished] jobname: _fixVTK3 jobid: 71\n"
       ]
      },
      {
       "output_type": "stream",
       "stream": "stderr",
       "text": [
        "INFO:workflow:[Job finished] jobname: _fixVTK4 jobid: 72\n"
       ]
      },
      {
       "output_type": "stream",
       "stream": "stderr",
       "text": [
        "INFO:workflow:[Job finished] jobname: _fixVTK2 jobid: 70\n"
       ]
      },
      {
       "output_type": "stream",
       "stream": "stderr",
       "text": [
        "INFO:workflow:Submitting 1 jobs\n"
       ]
      },
      {
       "output_type": "stream",
       "stream": "stderr",
       "text": [
        "INFO:workflow:Executing: fixVTK ID: 21\n"
       ]
      },
      {
       "output_type": "stream",
       "stream": "stderr",
       "text": [
        "INFO:workflow:[Job finished] jobname: fixVTK jobid: 21\n",
        "INFO:workflow:Executing node fixVTK in dir: /home/oesteban/tmp/BSplineEvaluation/Prepare_sMRI/fixVTK\n",
        "INFO:workflow:Executing node _fixVTK0 in dir: /home/oesteban/tmp/BSplineEvaluation/Prepare_sMRI/fixVTK/mapflow/_fixVTK0\n",
        "INFO:workflow:Collecting precomputed outputs\n",
        "INFO:workflow:Executing node _fixVTK1 in dir: /home/oesteban/tmp/BSplineEvaluation/Prepare_sMRI/fixVTK/mapflow/_fixVTK1\n",
        "INFO:workflow:Collecting precomputed outputs\n",
        "INFO:workflow:Executing node _fixVTK2 in dir: /home/oesteban/tmp/BSplineEvaluation/Prepare_sMRI/fixVTK/mapflow/_fixVTK2\n",
        "INFO:workflow:Collecting precomputed outputs\n",
        "INFO:workflow:Executing node _fixVTK3 in dir: /home/oesteban/tmp/BSplineEvaluation/Prepare_sMRI/fixVTK/mapflow/_fixVTK3\n",
        "INFO:workflow:Collecting precomputed outputs\n",
        "INFO:workflow:Executing node _fixVTK4 in dir: /home/oesteban/tmp/BSplineEvaluation/Prepare_sMRI/fixVTK/mapflow/_fixVTK4\n",
        "INFO:workflow:Collecting precomputed outputs\n"
       ]
      },
      {
       "output_type": "stream",
       "stream": "stderr",
       "text": [
        "INFO:workflow:[Job finished] jobname: T2w_to_T1w jobid: 22\n"
       ]
      },
      {
       "output_type": "stream",
       "stream": "stderr",
       "text": [
        "INFO:workflow:Submitting 1 jobs\n"
       ]
      },
      {
       "output_type": "stream",
       "stream": "stderr",
       "text": [
        "INFO:workflow:Executing: T2toRAS ID: 23\n"
       ]
      },
      {
       "output_type": "stream",
       "stream": "stderr",
       "text": [
        "INFO:workflow:[Job finished] jobname: T2toRAS jobid: 23\n",
        "INFO:workflow:Executing node T2toRAS in dir: /home/oesteban/tmp/BSplineEvaluation/Prepare_sMRI/T2toRAS\n",
        "INFO:workflow:Running: mri_convert --out_orientation RAS --out_type nii --reslice_like /home/oesteban/tmp/BSplineEvaluation/Prepare_sMRI/T1toRAS/T1-Guys-0977_out.nii.gz --input_volume /home/oesteban/tmp/BSplineEvaluation/Prepare_sMRI/T2w_to_T1w/T2-Guys-0977_bbreg.nii.gz --output_volume /home/oesteban/tmp/BSplineEvaluation/Prepare_sMRI/T2toRAS/T2-Guys-0977_bbreg_out.nii.gz\n"
       ]
      },
      {
       "output_type": "stream",
       "stream": "stderr",
       "text": [
        "INFO:workflow:Submitting 2 jobs\n"
       ]
      },
      {
       "output_type": "stream",
       "stream": "stderr",
       "text": [
        "INFO:workflow:Executing: merge_mri ID: 24\n"
       ]
      },
      {
       "output_type": "stream",
       "stream": "stderr",
       "text": [
        "INFO:workflow:Executing: T2_BET ID: 25\n"
       ]
      },
      {
       "output_type": "stream",
       "stream": "stderr",
       "text": [
        "INFO:workflow:[Job finished] jobname: merge_mri jobid: 24\n",
        "INFO:workflow:Executing node merge_mri in dir: /home/oesteban/tmp/BSplineEvaluation/Prepare_sMRI/merge_mri\n",
        "INFO:workflow:Executing node T2_BET in dir: /home/oesteban/tmp/BSplineEvaluation/Prepare_sMRI/T2_BET\n",
        "INFO:workflow:Running: mri_mask /home/oesteban/tmp/BSplineEvaluation/Prepare_sMRI/T2toRAS/T2-Guys-0977_bbreg_out.nii.gz /home/oesteban/tmp/BSplineEvaluation/Prepare_sMRI/T1brainToRAS/norm_warped_out.nii.gz /home/oesteban/tmp/BSplineEvaluation/Prepare_sMRI/T2_BET/T2-Guys-0977_bbreg_out_masked.nii.gz\n"
       ]
      },
      {
       "output_type": "stream",
       "stream": "stderr",
       "text": [
        "INFO:workflow:[Job finished] jobname: T2_BET jobid: 25\n"
       ]
      },
      {
       "output_type": "stream",
       "stream": "stderr",
       "text": [
        "INFO:workflow:Submitting 1 jobs\n"
       ]
      },
      {
       "output_type": "stream",
       "stream": "stderr",
       "text": [
        "INFO:workflow:Executing: Bias_T2 ID: 26\n"
       ]
      },
      {
       "output_type": "stream",
       "stream": "stderr",
       "text": [
        "INFO:workflow:[Job finished] jobname: Bias_T2 jobid: 26\n",
        "INFO:workflow:Executing node Bias_T2 in dir: /home/oesteban/tmp/BSplineEvaluation/Prepare_sMRI/Bias_T2\n",
        "INFO:workflow:Running: N4BiasFieldCorrection --image-dimension 3 --input-image /home/oesteban/tmp/BSplineEvaluation/Prepare_sMRI/T2_BET/T2-Guys-0977_bbreg_out_masked.nii.gz --output T2-Guys-0977_bbreg_out_masked_corrected.nii.gz\n"
       ]
      },
      {
       "output_type": "stream",
       "stream": "stderr",
       "text": [
        "INFO:workflow:Submitting 1 jobs\n"
       ]
      },
      {
       "output_type": "stream",
       "stream": "stderr",
       "text": [
        "INFO:workflow:Executing: merge_brain ID: 27\n"
       ]
      },
      {
       "output_type": "stream",
       "stream": "stderr",
       "text": [
        "INFO:workflow:[Job finished] jobname: merge_brain jobid: 27\n",
        "INFO:workflow:Executing node merge_brain in dir: /home/oesteban/tmp/BSplineEvaluation/Prepare_sMRI/merge_brain\n"
       ]
      },
      {
       "output_type": "stream",
       "stream": "stderr",
       "text": [
        "INFO:workflow:Submitting 3 jobs\n"
       ]
      },
      {
       "output_type": "stream",
       "stream": "stderr",
       "text": [
        "INFO:workflow:Executing: ConcatRefInputs ID: 29\n"
       ]
      },
      {
       "output_type": "stream",
       "stream": "stderr",
       "text": [
        "INFO:workflow:Executing: ConcatRefInputs ID: 30\n"
       ]
      },
      {
       "output_type": "stream",
       "stream": "stderr",
       "text": [
        "INFO:workflow:Executing: SelectT1 ID: 31\n",
        "INFO:workflow:Executing node ConcatRefInputs in dir: /home/oesteban/tmp/BSplineEvaluation/Ev_REGSEGDefault/ConcatRefInputs\n"
       ]
      },
      {
       "output_type": "stream",
       "stream": "stderr",
       "text": [
        "INFO:workflow:[Job finished] jobname: SelectT1 jobid: 31\n",
        "INFO:workflow:Executing node ConcatRefInputs in dir: /home/oesteban/tmp/BSplineEvaluation/Ev_Identity/ConcatRefInputs\n",
        "INFO:workflow:Running: fslmerge -t norm_warped_out_merged.nii.gz /home/oesteban/tmp/BSplineEvaluation/Prepare_sMRI/T1brainToRAS/norm_warped_out.nii.gz /home/oesteban/tmp/BSplineEvaluation/Prepare_sMRI/Bias_T2/T2-Guys-0977_bbreg_out_masked_corrected.nii.gz\n",
        "INFO:workflow:Executing node SelectT1 in dir: /home/oesteban/tmp/BSplineEvaluation/BSplineDistortion/SelectT1\n",
        "INFO:workflow:Running: fslmerge -t norm_warped_out_merged.nii.gz /home/oesteban/tmp/BSplineEvaluation/Prepare_sMRI/T1brainToRAS/norm_warped_out.nii.gz /home/oesteban/tmp/BSplineEvaluation/Prepare_sMRI/Bias_T2/T2-Guys-0977_bbreg_out_masked_corrected.nii.gz\n"
       ]
      },
      {
       "output_type": "stream",
       "stream": "stderr",
       "text": [
        "INFO:workflow:[Job finished] jobname: ConcatRefInputs jobid: 29\n"
       ]
      },
      {
       "output_type": "stream",
       "stream": "stderr",
       "text": [
        "INFO:workflow:[Job finished] jobname: ConcatRefInputs jobid: 30\n"
       ]
      },
      {
       "output_type": "stream",
       "stream": "stderr",
       "text": [
        "INFO:workflow:[Job finished] jobname: SegmentT1 jobid: 13\n"
       ]
      },
      {
       "output_type": "stream",
       "stream": "stderr",
       "text": [
        "INFO:workflow:Submitting 1 jobs\n"
       ]
      },
      {
       "output_type": "stream",
       "stream": "stderr",
       "text": [
        "INFO:workflow:Executing: MergeInputs ID: 28\n"
       ]
      },
      {
       "output_type": "stream",
       "stream": "stderr",
       "text": [
        "INFO:workflow:[Job finished] jobname: MergeInputs jobid: 28\n",
        "INFO:workflow:Executing node MergeInputs in dir: /home/oesteban/tmp/BSplineEvaluation/BSplineDistortion/MergeInputs\n"
       ]
      },
      {
       "output_type": "stream",
       "stream": "stderr",
       "text": [
        "INFO:workflow:Submitting 1 jobs\n"
       ]
      },
      {
       "output_type": "stream",
       "stream": "stderr",
       "text": [
        "INFO:workflow:Executing: bspline_field ID: 32\n"
       ]
      },
      {
       "output_type": "stream",
       "stream": "stderr",
       "text": [
        "INFO:workflow:[Job finished] jobname: bspline_field jobid: 32\n",
        "INFO:workflow:Executing node bspline_field in dir: /home/oesteban/tmp/BSplineEvaluation/BSplineDistortion/bspline_field\n",
        "INFO:workflow:Running: bspline_field -g 6 -I /home/oesteban/tmp/BSplineEvaluation/Prepare_sMRI/T1brainToRAS/norm_warped_out.nii.gz /home/oesteban/tmp/BSplineEvaluation/Prepare_sMRI/Bias_T2/T2-Guys-0977_bbreg_out_masked_corrected.nii.gz /home/oesteban/tmp/BSplineEvaluation/Prepare_sMRI/SegmentT1/norm_warped_out_prob_0.nii.gz /home/oesteban/tmp/BSplineEvaluation/Prepare_sMRI/SegmentT1/norm_warped_out_prob_1.nii.gz /home/oesteban/tmp/BSplineEvaluation/Prepare_sMRI/SegmentT1/norm_warped_out_prob_2.nii.gz -M /home/oesteban/tmp/BSplineEvaluation/Prepare_sMRI/T1brainToRAS/norm_warped_out.nii.gz -S /home/oesteban/tmp/BSplineEvaluation/Prepare_sMRI/fixVTK/mapflow/_fixVTK0/surf.native_converted_fixed.vtk /home/oesteban/tmp/BSplineEvaluation/Prepare_sMRI/fixVTK/mapflow/_fixVTK1/lh.white.native_converted_fixed.vtk /home/oesteban/tmp/BSplineEvaluation/Prepare_sMRI/fixVTK/mapflow/_fixVTK2/rh.white.native_converted_fixed.vtk /home/oesteban/tmp/BSplineEvaluation/Prepare_sMRI/fixVTK/mapflow/_fixVTK3/lh.pial.native_converted_fixed.vtk /home/oesteban/tmp/BSplineEvaluation/Prepare_sMRI/fixVTK/mapflow/_fixVTK4/rh.pial.native_converted_fixed.vtk -o def\n"
       ]
      },
      {
       "output_type": "stream",
       "stream": "stderr",
       "text": [
        "INFO:workflow:Submitting 4 jobs\n"
       ]
      },
      {
       "output_type": "stream",
       "stream": "stderr",
       "text": [
        "INFO:workflow:Executing: InvertField ID: 33\n"
       ]
      },
      {
       "output_type": "stream",
       "stream": "stderr",
       "text": [
        "INFO:workflow:Executing: SplitOutputs ID: 34\n"
       ]
      },
      {
       "output_type": "stream",
       "stream": "stderr",
       "text": [
        "INFO:workflow:Executing: InvertField ID: 46\n",
        "INFO:workflow:Executing node InvertField in dir: /home/oesteban/tmp/BSplineEvaluation/Ev_REGSEGDefault/InvertField\n"
       ]
      },
      {
       "output_type": "stream",
       "stream": "stderr",
       "text": [
        "INFO:workflow:Executing: InvertField ID: 47\n",
        "INFO:workflow:Executing node SplitOutputs in dir: /home/oesteban/tmp/BSplineEvaluation/BSplineDistortion/SplitOutputs\n"
       ]
      },
      {
       "output_type": "stream",
       "stream": "stderr",
       "text": [
        "INFO:workflow:[Job finished] jobname: SplitOutputs jobid: 34\n",
        "INFO:workflow:Executing node InvertField in dir: /home/oesteban/tmp/BSplineEvaluation/Ev_Identity/InvertField\n",
        "INFO:workflow:Executing node InvertField in dir: /home/oesteban/tmp/BSplineEvaluation/Identity/InvertField\n"
       ]
      },
      {
       "output_type": "stream",
       "stream": "stderr",
       "text": [
        "INFO:workflow:Submitting 3 jobs\n"
       ]
      },
      {
       "output_type": "stream",
       "stream": "stderr",
       "text": [
        "INFO:workflow:Executing: Merge ID: 35\n"
       ]
      },
      {
       "output_type": "stream",
       "stream": "stderr",
       "text": [
        "INFO:workflow:Executing: ACWERegistration ID: 36\n"
       ]
      },
      {
       "output_type": "stream",
       "stream": "stderr",
       "text": [
        "INFO:workflow:Executing: Normalize ID: 58\n",
        "INFO:workflow:Executing node Merge in dir: /home/oesteban/tmp/BSplineEvaluation/Identity/Merge\n"
       ]
      },
      {
       "output_type": "stream",
       "stream": "stderr",
       "text": [
        "INFO:workflow:[Job finished] jobname: Merge jobid: 35\n",
        "INFO:workflow:Executing node ACWERegistration in dir: /home/oesteban/tmp/BSplineEvaluation/REGSEGDefault/ACWERegistration\n",
        "INFO:workflow:Executing node Normalize in dir: /home/oesteban/tmp/BSplineEvaluation/BSplineDistortion/Normalize\n",
        "INFO:workflow:Running: regseg -F /home/oesteban/tmp/BSplineEvaluation/BSplineDistortion/bspline_field/def_resampled_0.nii.gz /home/oesteban/tmp/BSplineEvaluation/BSplineDistortion/bspline_field/def_resampled_1.nii.gz -M /home/oesteban/tmp/BSplineEvaluation/Prepare_sMRI/fixVTK/mapflow/_fixVTK0/surf.native_converted_fixed.vtk /home/oesteban/tmp/BSplineEvaluation/Prepare_sMRI/fixVTK/mapflow/_fixVTK2/rh.white.native_converted_fixed.vtk /home/oesteban/tmp/BSplineEvaluation/Prepare_sMRI/fixVTK/mapflow/_fixVTK1/lh.white.native_converted_fixed.vtk /home/oesteban/tmp/BSplineEvaluation/Prepare_sMRI/fixVTK/mapflow/_fixVTK4/rh.pial.native_converted_fixed.vtk /home/oesteban/tmp/BSplineEvaluation/Prepare_sMRI/fixVTK/mapflow/_fixVTK3/lh.pial.native_converted_fixed.vtk -o regseg  [ -a 0.00000 -b 0.00000 --convergence-energy -w 5 -u 5 -g 6 -i 10 -s 0.50000]  [ -a 0.00100 -b 0.01000 --convergence-energy -w 5 -u 15 -g 10 -i 10 -s 1.00000]\n"
       ]
      },
      {
       "output_type": "stream",
       "stream": "stderr",
       "text": [
        "INFO:workflow:[Job finished] jobname: InvertField jobid: 46\n"
       ]
      },
      {
       "output_type": "stream",
       "stream": "stderr",
       "text": [
        "INFO:workflow:[Job finished] jobname: InvertField jobid: 47\n"
       ]
      },
      {
       "output_type": "stream",
       "stream": "stderr",
       "text": [
        "INFO:workflow:Submitting 2 jobs\n"
       ]
      },
      {
       "output_type": "stream",
       "stream": "stderr",
       "text": [
        "INFO:workflow:Executing: FieldDiff ID: 48\n"
       ]
      },
      {
       "output_type": "stream",
       "stream": "stderr",
       "text": [
        "INFO:workflow:Executing: ApplyWarp ID: 49\n"
       ]
      },
      {
       "output_type": "stream",
       "stream": "stderr",
       "text": [
        "INFO:workflow:[Job finished] jobname: InvertField jobid: 33\n",
        "INFO:workflow:Executing node FieldDiff in dir: /home/oesteban/tmp/BSplineEvaluation/Ev_Identity/FieldDiff\n",
        "INFO:workflow:Executing node ApplyWarp in dir: /home/oesteban/tmp/BSplineEvaluation/Identity/ApplyWarp\n",
        "INFO:workflow:Running: warp_image -F /home/oesteban/tmp/BSplineEvaluation/Identity/InvertField/def_dispfield_inv.nii.gz -I /home/oesteban/tmp/BSplineEvaluation/BSplineDistortion/bspline_field/def_resampled_0.nii.gz /home/oesteban/tmp/BSplineEvaluation/BSplineDistortion/bspline_field/def_resampled_1.nii.gz /home/oesteban/tmp/BSplineEvaluation/Prepare_sMRI/SegmentT1/norm_warped_out_prob_0.nii.gz /home/oesteban/tmp/BSplineEvaluation/Prepare_sMRI/SegmentT1/norm_warped_out_prob_1.nii.gz /home/oesteban/tmp/BSplineEvaluation/Prepare_sMRI/SegmentT1/norm_warped_out_prob_2.nii.gz -M /home/oesteban/tmp/BSplineEvaluation/Prepare_sMRI/binarize/norm_warped_out_thresh.nii.gz -S /home/oesteban/tmp/BSplineEvaluation/Prepare_sMRI/fixVTK/mapflow/_fixVTK0/surf.native_converted_fixed.vtk /home/oesteban/tmp/BSplineEvaluation/Prepare_sMRI/fixVTK/mapflow/_fixVTK1/lh.white.native_converted_fixed.vtk /home/oesteban/tmp/BSplineEvaluation/Prepare_sMRI/fixVTK/mapflow/_fixVTK2/rh.white.native_converted_fixed.vtk /home/oesteban/tmp/BSplineEvaluation/Prepare_sMRI/fixVTK/mapflow/_fixVTK3/lh.pial.native_converted_fixed.vtk /home/oesteban/tmp/BSplineEvaluation/Prepare_sMRI/fixVTK/mapflow/_fixVTK4/rh.pial.native_converted_fixed.vtk -o fbased\n"
       ]
      },
      {
       "output_type": "stream",
       "stream": "stderr",
       "text": [
        "INFO:workflow:[Job finished] jobname: Normalize jobid: 58\n"
       ]
      },
      {
       "output_type": "stream",
       "stream": "stderr",
       "text": [
        "INFO:workflow:[Job finished] jobname: FieldDiff jobid: 48\n"
       ]
      },
      {
       "output_type": "stream",
       "stream": "stderr",
       "text": [
        "INFO:workflow:[Job finished] jobname: ApplyWarp jobid: 49\n"
       ]
      },
      {
       "output_type": "stream",
       "stream": "stderr",
       "text": [
        "INFO:workflow:Submitting 2 jobs\n"
       ]
      },
      {
       "output_type": "stream",
       "stream": "stderr",
       "text": [
        "INFO:workflow:Adding 5 jobs for mapnode SurfDistance\n"
       ]
      },
      {
       "output_type": "stream",
       "stream": "stderr",
       "text": [
        "INFO:workflow:Executing: Split ID: 51\n"
       ]
      },
      {
       "output_type": "stream",
       "stream": "stderr",
       "text": [
        "INFO:workflow:Submitting 5 jobs\n"
       ]
      },
      {
       "output_type": "stream",
       "stream": "stderr",
       "text": [
        "INFO:workflow:Executing: _SurfDistance0 ID: 73\n",
        "INFO:workflow:Executing node Split in dir: /home/oesteban/tmp/BSplineEvaluation/Identity/Split\n"
       ]
      },
      {
       "output_type": "stream",
       "stream": "stderr",
       "text": [
        "INFO:workflow:Executing: _SurfDistance1 ID: 74\n"
       ]
      },
      {
       "output_type": "stream",
       "stream": "stderr",
       "text": [
        "INFO:workflow:Executing: _SurfDistance2 ID: 75\n"
       ]
      },
      {
       "output_type": "stream",
       "stream": "stderr",
       "text": [
        "INFO:workflow:Executing: _SurfDistance3 ID: 76\n"
       ]
      },
      {
       "output_type": "stream",
       "stream": "stderr",
       "text": [
        "INFO:workflow:Executing: _SurfDistance4 ID: 77\n"
       ]
      },
      {
       "output_type": "stream",
       "stream": "stderr",
       "text": [
        "INFO:workflow:[Job finished] jobname: Split jobid: 51\n",
        "INFO:workflow:Executing node _SurfDistance0 in dir: /home/oesteban/tmp/BSplineEvaluation/Ev_Identity/SurfDistance/mapflow/_SurfDistance0\n",
        "INFO:workflow:Executing node _SurfDistance1 in dir: /home/oesteban/tmp/BSplineEvaluation/Ev_Identity/SurfDistance/mapflow/_SurfDistance1\n",
        "INFO:workflow:Executing node _SurfDistance2 in dir: /home/oesteban/tmp/BSplineEvaluation/Ev_Identity/SurfDistance/mapflow/_SurfDistance2\n",
        "INFO:workflow:Executing node _SurfDistance3 in dir: /home/oesteban/tmp/BSplineEvaluation/Ev_Identity/SurfDistance/mapflow/_SurfDistance3\n",
        "INFO:workflow:Executing node _SurfDistance4 in dir: /home/oesteban/tmp/BSplineEvaluation/Ev_Identity/SurfDistance/mapflow/_SurfDistance4\n"
       ]
      },
      {
       "output_type": "stream",
       "stream": "stderr",
       "text": [
        "INFO:workflow:Submitting 2 jobs\n"
       ]
      },
      {
       "output_type": "stream",
       "stream": "stderr",
       "text": [
        "INFO:workflow:Executing: ConcatTestInputs ID: 52\n"
       ]
      },
      {
       "output_type": "stream",
       "stream": "stderr",
       "text": [
        "INFO:workflow:Executing: Normalize00 ID: 54\n"
       ]
      },
      {
       "output_type": "stream",
       "stream": "stderr",
       "text": [
        "INFO:workflow:[Job finished] jobname: ConcatTestInputs jobid: 52\n",
        "INFO:workflow:Executing node ConcatTestInputs in dir: /home/oesteban/tmp/BSplineEvaluation/Ev_Identity/ConcatTestInputs\n",
        "INFO:workflow:Executing node Normalize00 in dir: /home/oesteban/tmp/BSplineEvaluation/Normalize00\n",
        "INFO:workflow:Running: fslmerge -t fbased_warped_0_merged.nii.gz /home/oesteban/tmp/BSplineEvaluation/Identity/ApplyWarp/fbased_warped_0.nii.gz /home/oesteban/tmp/BSplineEvaluation/Identity/ApplyWarp/fbased_warped_1.nii.gz\n"
       ]
      },
      {
       "output_type": "stream",
       "stream": "stderr",
       "text": [
        "INFO:workflow:Submitting 1 jobs\n"
       ]
      },
      {
       "output_type": "stream",
       "stream": "stderr",
       "text": [
        "INFO:workflow:Executing: ContrastDiff ID: 53\n"
       ]
      },
      {
       "output_type": "stream",
       "stream": "stderr",
       "text": [
        "INFO:workflow:[Job finished] jobname: Normalize00 jobid: 54\n",
        "INFO:workflow:Executing node ContrastDiff in dir: /home/oesteban/tmp/BSplineEvaluation/Ev_Identity/ContrastDiff\n"
       ]
      },
      {
       "output_type": "stream",
       "stream": "stderr",
       "text": [
        "INFO:workflow:Submitting 1 jobs\n"
       ]
      },
      {
       "output_type": "stream",
       "stream": "stderr",
       "text": [
        "INFO:workflow:Executing: Overlap ID: 55\n"
       ]
      },
      {
       "output_type": "stream",
       "stream": "stderr",
       "text": [
        "INFO:workflow:[Job finished] jobname: _SurfDistance0 jobid: 73\n",
        "INFO:workflow:Executing node Overlap in dir: /home/oesteban/tmp/BSplineEvaluation/Ev_Identity/Overlap\n"
       ]
      },
      {
       "output_type": "stream",
       "stream": "stderr",
       "text": [
        "INFO:workflow:[Job finished] jobname: ContrastDiff jobid: 53\n"
       ]
      },
      {
       "output_type": "stream",
       "stream": "stderr",
       "text": [
        "INFO:workflow:[Job finished] jobname: Overlap jobid: 55\n"
       ]
      },
      {
       "output_type": "stream",
       "stream": "stderr",
       "text": [
        "INFO:workflow:[Job finished] jobname: ACWERegistration jobid: 36\n"
       ]
      },
      {
       "output_type": "stream",
       "stream": "stderr",
       "text": [
        "INFO:workflow:Submitting 4 jobs\n"
       ]
      },
      {
       "output_type": "stream",
       "stream": "stderr",
       "text": [
        "INFO:workflow:Executing: ApplyWarp ID: 37\n"
       ]
      },
      {
       "output_type": "stream",
       "stream": "stderr",
       "text": [
        "INFO:workflow:Executing: ConcatTestInputs ID: 40\n"
       ]
      },
      {
       "output_type": "stream",
       "stream": "stderr",
       "text": [
        "INFO:workflow:Executing: FieldDiff ID: 42\n"
       ]
      },
      {
       "output_type": "stream",
       "stream": "stderr",
       "text": [
        "INFO:workflow:Adding 5 jobs for mapnode SurfDistance\n"
       ]
      },
      {
       "output_type": "stream",
       "stream": "stderr",
       "text": [
        "INFO:workflow:Submitting 5 jobs\n"
       ]
      },
      {
       "output_type": "stream",
       "stream": "stderr",
       "text": [
        "INFO:workflow:Executing: _SurfDistance0 ID: 78\n"
       ]
      },
      {
       "output_type": "stream",
       "stream": "stderr",
       "text": [
        "INFO:workflow:Executing: _SurfDistance1 ID: 79\n"
       ]
      },
      {
       "output_type": "stream",
       "stream": "stderr",
       "text": [
        "INFO:workflow:Executing: _SurfDistance2 ID: 80\n"
       ]
      },
      {
       "output_type": "stream",
       "stream": "stderr",
       "text": [
        "INFO:workflow:Executing: _SurfDistance3 ID: 81\n"
       ]
      },
      {
       "output_type": "stream",
       "stream": "stderr",
       "text": [
        "INFO:workflow:Executing: _SurfDistance4 ID: 82\n"
       ]
      },
      {
       "output_type": "stream",
       "stream": "stderr",
       "text": [
        "INFO:workflow:[Job finished] jobname: ConcatTestInputs jobid: 40\n",
        "INFO:workflow:Executing node ConcatTestInputs in dir: /home/oesteban/tmp/BSplineEvaluation/Ev_REGSEGDefault/ConcatTestInputs\n",
        "INFO:workflow:Executing node ApplyWarp in dir: /home/oesteban/tmp/BSplineEvaluation/REGSEGDefault/ApplyWarp\n",
        "INFO:workflow:Executing node _SurfDistance0 in dir: /home/oesteban/tmp/BSplineEvaluation/Ev_REGSEGDefault/SurfDistance/mapflow/_SurfDistance0\n",
        "INFO:workflow:Executing node FieldDiff in dir: /home/oesteban/tmp/BSplineEvaluation/Ev_REGSEGDefault/FieldDiff\n",
        "INFO:workflow:Running: fslmerge -t regseg_warped_0_merged.nii.gz /home/oesteban/tmp/BSplineEvaluation/REGSEGDefault/ACWERegistration/regseg_warped_0.nii.gz /home/oesteban/tmp/BSplineEvaluation/REGSEGDefault/ACWERegistration/regseg_warped_1.nii.gz\n",
        "INFO:workflow:Running: warp_image -F /home/oesteban/tmp/BSplineEvaluation/REGSEGDefault/ACWERegistration/regseg_displacement_field.nii.gz -I /home/oesteban/tmp/BSplineEvaluation/Prepare_sMRI/SegmentT1/norm_warped_out_prob_0.nii.gz /home/oesteban/tmp/BSplineEvaluation/Prepare_sMRI/SegmentT1/norm_warped_out_prob_1.nii.gz /home/oesteban/tmp/BSplineEvaluation/Prepare_sMRI/SegmentT1/norm_warped_out_prob_2.nii.gz -M /home/oesteban/tmp/BSplineEvaluation/Prepare_sMRI/binarize/norm_warped_out_thresh.nii.gz -o fbased\n",
        "INFO:workflow:Executing node _SurfDistance1 in dir: /home/oesteban/tmp/BSplineEvaluation/Ev_REGSEGDefault/SurfDistance/mapflow/_SurfDistance1\n"
       ]
      },
      {
       "output_type": "stream",
       "stream": "stderr",
       "text": [
        "INFO:workflow:Submitting 1 jobs\n"
       ]
      },
      {
       "output_type": "stream",
       "stream": "stderr",
       "text": [
        "INFO:workflow:Executing: ContrastDiff ID: 41\n"
       ]
      },
      {
       "output_type": "stream",
       "stream": "stderr",
       "text": [
        "INFO:workflow:[Job finished] jobname: FieldDiff jobid: 42\n",
        "INFO:workflow:Executing node _SurfDistance2 in dir: /home/oesteban/tmp/BSplineEvaluation/Ev_REGSEGDefault/SurfDistance/mapflow/_SurfDistance2\n"
       ]
      },
      {
       "output_type": "stream",
       "stream": "stderr",
       "text": [
        "INFO:workflow:[Job finished] jobname: ApplyWarp jobid: 37\n",
        "INFO:workflow:Executing node _SurfDistance3 in dir: /home/oesteban/tmp/BSplineEvaluation/Ev_REGSEGDefault/SurfDistance/mapflow/_SurfDistance3\n"
       ]
      },
      {
       "output_type": "stream",
       "stream": "stderr",
       "text": [
        "INFO:workflow:Submitting 1 jobs\n"
       ]
      },
      {
       "output_type": "stream",
       "stream": "stderr",
       "text": [
        "INFO:workflow:Executing: Normalize01 ID: 38\n"
       ]
      },
      {
       "output_type": "stream",
       "stream": "stderr",
       "text": [
        "INFO:workflow:[Job finished] jobname: _SurfDistance0 jobid: 78\n",
        "INFO:workflow:Executing node _SurfDistance4 in dir: /home/oesteban/tmp/BSplineEvaluation/Ev_REGSEGDefault/SurfDistance/mapflow/_SurfDistance4\n"
       ]
      },
      {
       "output_type": "stream",
       "stream": "stderr",
       "text": [
        "INFO:workflow:[Job finished] jobname: _SurfDistance2 jobid: 75\n",
        "INFO:workflow:Executing node ContrastDiff in dir: /home/oesteban/tmp/BSplineEvaluation/Ev_REGSEGDefault/ContrastDiff\n"
       ]
      },
      {
       "output_type": "stream",
       "stream": "stderr",
       "text": [
        "INFO:workflow:[Job finished] jobname: _SurfDistance4 jobid: 77\n",
        "INFO:workflow:Executing node Normalize01 in dir: /home/oesteban/tmp/BSplineEvaluation/Normalize01\n"
       ]
      },
      {
       "output_type": "stream",
       "stream": "stderr",
       "text": [
        "INFO:workflow:[Job finished] jobname: Normalize01 jobid: 38\n"
       ]
      },
      {
       "output_type": "stream",
       "stream": "stderr",
       "text": [
        "INFO:workflow:Submitting 1 jobs\n"
       ]
      },
      {
       "output_type": "stream",
       "stream": "stderr",
       "text": [
        "INFO:workflow:Executing: Overlap ID: 39\n"
       ]
      },
      {
       "output_type": "stream",
       "stream": "stderr",
       "text": [
        "INFO:workflow:[Job finished] jobname: ContrastDiff jobid: 41\n",
        "INFO:workflow:Executing node Overlap in dir: /home/oesteban/tmp/BSplineEvaluation/Ev_REGSEGDefault/Overlap\n"
       ]
      },
      {
       "output_type": "stream",
       "stream": "stderr",
       "text": [
        "INFO:workflow:[Job finished] jobname: Overlap jobid: 39\n"
       ]
      },
      {
       "output_type": "stream",
       "stream": "stderr",
       "text": [
        "INFO:workflow:[Job finished] jobname: _SurfDistance1 jobid: 74\n"
       ]
      },
      {
       "output_type": "stream",
       "stream": "stderr",
       "text": [
        "INFO:workflow:[Job finished] jobname: _SurfDistance3 jobid: 76\n"
       ]
      },
      {
       "output_type": "stream",
       "stream": "stderr",
       "text": [
        "INFO:workflow:Submitting 1 jobs\n"
       ]
      },
      {
       "output_type": "stream",
       "stream": "stderr",
       "text": [
        "INFO:workflow:Executing: SurfDistance ID: 50\n"
       ]
      },
      {
       "output_type": "stream",
       "stream": "stderr",
       "text": [
        "INFO:workflow:[Job finished] jobname: SurfDistance jobid: 50\n",
        "INFO:workflow:Executing node SurfDistance in dir: /home/oesteban/tmp/BSplineEvaluation/Ev_Identity/SurfDistance\n",
        "INFO:workflow:Executing node _SurfDistance0 in dir: /home/oesteban/tmp/BSplineEvaluation/Ev_Identity/SurfDistance/mapflow/_SurfDistance0\n",
        "INFO:workflow:Collecting precomputed outputs\n",
        "INFO:workflow:Executing node _SurfDistance1 in dir: /home/oesteban/tmp/BSplineEvaluation/Ev_Identity/SurfDistance/mapflow/_SurfDistance1\n",
        "INFO:workflow:Collecting precomputed outputs\n",
        "INFO:workflow:Executing node _SurfDistance2 in dir: /home/oesteban/tmp/BSplineEvaluation/Ev_Identity/SurfDistance/mapflow/_SurfDistance2\n",
        "INFO:workflow:Collecting precomputed outputs\n",
        "INFO:workflow:Executing node _SurfDistance3 in dir: /home/oesteban/tmp/BSplineEvaluation/Ev_Identity/SurfDistance/mapflow/_SurfDistance3\n",
        "INFO:workflow:Collecting precomputed outputs\n",
        "INFO:workflow:Executing node _SurfDistance4 in dir: /home/oesteban/tmp/BSplineEvaluation/Ev_Identity/SurfDistance/mapflow/_SurfDistance4\n",
        "INFO:workflow:Collecting precomputed outputs\n"
       ]
      },
      {
       "output_type": "stream",
       "stream": "stderr",
       "text": [
        "INFO:workflow:Submitting 1 jobs\n"
       ]
      },
      {
       "output_type": "stream",
       "stream": "stderr",
       "text": [
        "INFO:workflow:Executing: MergeIndices ID: 56\n"
       ]
      },
      {
       "ename": "AttributeError",
       "evalue": "attribute 'shape' of 'numpy.generic' objects is not writable",
       "output_type": "pyerr",
       "traceback": [
        "\u001b[1;31m---------------------------------------------------------------------------\u001b[0m\n\u001b[1;31mAttributeError\u001b[0m                            Traceback (most recent call last)",
        "\u001b[1;32m<ipython-input-3-eed9ec19777a>\u001b[0m in \u001b[0;36m<module>\u001b[1;34m()\u001b[0m\n\u001b[1;32m----> 1\u001b[1;33m \u001b[0mmm\u001b[0m\u001b[1;33m.\u001b[0m\u001b[0mrun\u001b[0m\u001b[1;33m(\u001b[0m\u001b[1;33m)\u001b[0m\u001b[1;33m\u001b[0m\u001b[0m\n\u001b[0m",
        "\u001b[1;32m/home/oesteban/workspace/nipype/nipype/pipeline/engine.pyc\u001b[0m in \u001b[0;36mrun\u001b[1;34m(self, plugin, plugin_args, updatehash)\u001b[0m\n\u001b[0;32m    691\u001b[0m         \u001b[1;32mif\u001b[0m \u001b[0mstr2bool\u001b[0m\u001b[1;33m(\u001b[0m\u001b[0mself\u001b[0m\u001b[1;33m.\u001b[0m\u001b[0mconfig\u001b[0m\u001b[1;33m[\u001b[0m\u001b[1;34m'execution'\u001b[0m\u001b[1;33m]\u001b[0m\u001b[1;33m[\u001b[0m\u001b[1;34m'create_report'\u001b[0m\u001b[1;33m]\u001b[0m\u001b[1;33m)\u001b[0m\u001b[1;33m:\u001b[0m\u001b[1;33m\u001b[0m\u001b[0m\n\u001b[0;32m    692\u001b[0m             \u001b[0mself\u001b[0m\u001b[1;33m.\u001b[0m\u001b[0m_write_report_info\u001b[0m\u001b[1;33m(\u001b[0m\u001b[0mself\u001b[0m\u001b[1;33m.\u001b[0m\u001b[0mbase_dir\u001b[0m\u001b[1;33m,\u001b[0m \u001b[0mself\u001b[0m\u001b[1;33m.\u001b[0m\u001b[0mname\u001b[0m\u001b[1;33m,\u001b[0m \u001b[0mexecgraph\u001b[0m\u001b[1;33m)\u001b[0m\u001b[1;33m\u001b[0m\u001b[0m\n\u001b[1;32m--> 693\u001b[1;33m         \u001b[0mrunner\u001b[0m\u001b[1;33m.\u001b[0m\u001b[0mrun\u001b[0m\u001b[1;33m(\u001b[0m\u001b[0mexecgraph\u001b[0m\u001b[1;33m,\u001b[0m \u001b[0mupdatehash\u001b[0m\u001b[1;33m=\u001b[0m\u001b[0mupdatehash\u001b[0m\u001b[1;33m,\u001b[0m \u001b[0mconfig\u001b[0m\u001b[1;33m=\u001b[0m\u001b[0mself\u001b[0m\u001b[1;33m.\u001b[0m\u001b[0mconfig\u001b[0m\u001b[1;33m)\u001b[0m\u001b[1;33m\u001b[0m\u001b[0m\n\u001b[0m\u001b[0;32m    694\u001b[0m         \u001b[0mdatestr\u001b[0m \u001b[1;33m=\u001b[0m \u001b[0mdatetime\u001b[0m\u001b[1;33m.\u001b[0m\u001b[0mutcnow\u001b[0m\u001b[1;33m(\u001b[0m\u001b[1;33m)\u001b[0m\u001b[1;33m.\u001b[0m\u001b[0mstrftime\u001b[0m\u001b[1;33m(\u001b[0m\u001b[1;34m'%Y%m%dT%H%M%S'\u001b[0m\u001b[1;33m)\u001b[0m\u001b[1;33m\u001b[0m\u001b[0m\n\u001b[0;32m    695\u001b[0m         \u001b[1;32mif\u001b[0m \u001b[0mstr2bool\u001b[0m\u001b[1;33m(\u001b[0m\u001b[0mself\u001b[0m\u001b[1;33m.\u001b[0m\u001b[0mconfig\u001b[0m\u001b[1;33m[\u001b[0m\u001b[1;34m'execution'\u001b[0m\u001b[1;33m]\u001b[0m\u001b[1;33m[\u001b[0m\u001b[1;34m'write_provenance'\u001b[0m\u001b[1;33m]\u001b[0m\u001b[1;33m)\u001b[0m\u001b[1;33m:\u001b[0m\u001b[1;33m\u001b[0m\u001b[0m\n",
        "\u001b[1;32m/home/oesteban/workspace/nipype/nipype/pipeline/plugins/base.pyc\u001b[0m in \u001b[0;36mrun\u001b[1;34m(self, graph, config, updatehash)\u001b[0m\n\u001b[0;32m    259\u001b[0m                     \u001b[0mslots\u001b[0m \u001b[1;33m=\u001b[0m \u001b[0mself\u001b[0m\u001b[1;33m.\u001b[0m\u001b[0mmax_jobs\u001b[0m \u001b[1;33m-\u001b[0m \u001b[0mnum_jobs\u001b[0m\u001b[1;33m\u001b[0m\u001b[0m\n\u001b[0;32m    260\u001b[0m                 self._send_procs_to_workers(updatehash=updatehash,\n\u001b[1;32m--> 261\u001b[1;33m                                             slots=slots, graph=graph)\n\u001b[0m\u001b[0;32m    262\u001b[0m             \u001b[0msleep\u001b[0m\u001b[1;33m(\u001b[0m\u001b[1;36m2\u001b[0m\u001b[1;33m)\u001b[0m\u001b[1;33m\u001b[0m\u001b[0m\n\u001b[0;32m    263\u001b[0m         \u001b[0mself\u001b[0m\u001b[1;33m.\u001b[0m\u001b[0m_remove_node_dirs\u001b[0m\u001b[1;33m(\u001b[0m\u001b[1;33m)\u001b[0m\u001b[1;33m\u001b[0m\u001b[0m\n",
        "\u001b[1;32m/home/oesteban/workspace/nipype/nipype/pipeline/plugins/base.pyc\u001b[0m in \u001b[0;36m_send_procs_to_workers\u001b[1;34m(self, updatehash, slots, graph)\u001b[0m\n\u001b[0;32m    385\u001b[0m                             \u001b[0mself\u001b[0m\u001b[1;33m.\u001b[0m\u001b[0m_remove_node_dirs\u001b[0m\u001b[1;33m(\u001b[0m\u001b[1;33m)\u001b[0m\u001b[1;33m\u001b[0m\u001b[0m\n\u001b[0;32m    386\u001b[0m                         \u001b[1;32melse\u001b[0m\u001b[1;33m:\u001b[0m\u001b[1;33m\u001b[0m\u001b[0m\n\u001b[1;32m--> 387\u001b[1;33m                             tid = self._submit_job(deepcopy(self.procs[jobid]),\n\u001b[0m\u001b[0;32m    388\u001b[0m                                                    updatehash=updatehash)\n\u001b[0;32m    389\u001b[0m                             \u001b[1;32mif\u001b[0m \u001b[0mtid\u001b[0m \u001b[1;32mis\u001b[0m \u001b[0mNone\u001b[0m\u001b[1;33m:\u001b[0m\u001b[1;33m\u001b[0m\u001b[0m\n",
        "\u001b[1;32m/usr/lib/python2.7/copy.pyc\u001b[0m in \u001b[0;36mdeepcopy\u001b[1;34m(x, memo, _nil)\u001b[0m\n\u001b[0;32m    188\u001b[0m                             raise Error(\n\u001b[0;32m    189\u001b[0m                                 \"un(deep)copyable object of type %s\" % cls)\n\u001b[1;32m--> 190\u001b[1;33m                 \u001b[0my\u001b[0m \u001b[1;33m=\u001b[0m \u001b[0m_reconstruct\u001b[0m\u001b[1;33m(\u001b[0m\u001b[0mx\u001b[0m\u001b[1;33m,\u001b[0m \u001b[0mrv\u001b[0m\u001b[1;33m,\u001b[0m \u001b[1;36m1\u001b[0m\u001b[1;33m,\u001b[0m \u001b[0mmemo\u001b[0m\u001b[1;33m)\u001b[0m\u001b[1;33m\u001b[0m\u001b[0m\n\u001b[0m\u001b[0;32m    191\u001b[0m \u001b[1;33m\u001b[0m\u001b[0m\n\u001b[0;32m    192\u001b[0m     \u001b[0mmemo\u001b[0m\u001b[1;33m[\u001b[0m\u001b[0md\u001b[0m\u001b[1;33m]\u001b[0m \u001b[1;33m=\u001b[0m \u001b[0my\u001b[0m\u001b[1;33m\u001b[0m\u001b[0m\n",
        "\u001b[1;32m/usr/lib/python2.7/copy.pyc\u001b[0m in \u001b[0;36m_reconstruct\u001b[1;34m(x, info, deep, memo)\u001b[0m\n\u001b[0;32m    332\u001b[0m     \u001b[1;32mif\u001b[0m \u001b[0mstate\u001b[0m\u001b[1;33m:\u001b[0m\u001b[1;33m\u001b[0m\u001b[0m\n\u001b[0;32m    333\u001b[0m         \u001b[1;32mif\u001b[0m \u001b[0mdeep\u001b[0m\u001b[1;33m:\u001b[0m\u001b[1;33m\u001b[0m\u001b[0m\n\u001b[1;32m--> 334\u001b[1;33m             \u001b[0mstate\u001b[0m \u001b[1;33m=\u001b[0m \u001b[0mdeepcopy\u001b[0m\u001b[1;33m(\u001b[0m\u001b[0mstate\u001b[0m\u001b[1;33m,\u001b[0m \u001b[0mmemo\u001b[0m\u001b[1;33m)\u001b[0m\u001b[1;33m\u001b[0m\u001b[0m\n\u001b[0m\u001b[0;32m    335\u001b[0m         \u001b[1;32mif\u001b[0m \u001b[0mhasattr\u001b[0m\u001b[1;33m(\u001b[0m\u001b[0my\u001b[0m\u001b[1;33m,\u001b[0m \u001b[1;34m'__setstate__'\u001b[0m\u001b[1;33m)\u001b[0m\u001b[1;33m:\u001b[0m\u001b[1;33m\u001b[0m\u001b[0m\n\u001b[0;32m    336\u001b[0m             \u001b[0my\u001b[0m\u001b[1;33m.\u001b[0m\u001b[0m__setstate__\u001b[0m\u001b[1;33m(\u001b[0m\u001b[0mstate\u001b[0m\u001b[1;33m)\u001b[0m\u001b[1;33m\u001b[0m\u001b[0m\n",
        "\u001b[1;32m/usr/lib/python2.7/copy.pyc\u001b[0m in \u001b[0;36mdeepcopy\u001b[1;34m(x, memo, _nil)\u001b[0m\n\u001b[0;32m    161\u001b[0m     \u001b[0mcopier\u001b[0m \u001b[1;33m=\u001b[0m \u001b[0m_deepcopy_dispatch\u001b[0m\u001b[1;33m.\u001b[0m\u001b[0mget\u001b[0m\u001b[1;33m(\u001b[0m\u001b[0mcls\u001b[0m\u001b[1;33m)\u001b[0m\u001b[1;33m\u001b[0m\u001b[0m\n\u001b[0;32m    162\u001b[0m     \u001b[1;32mif\u001b[0m \u001b[0mcopier\u001b[0m\u001b[1;33m:\u001b[0m\u001b[1;33m\u001b[0m\u001b[0m\n\u001b[1;32m--> 163\u001b[1;33m         \u001b[0my\u001b[0m \u001b[1;33m=\u001b[0m \u001b[0mcopier\u001b[0m\u001b[1;33m(\u001b[0m\u001b[0mx\u001b[0m\u001b[1;33m,\u001b[0m \u001b[0mmemo\u001b[0m\u001b[1;33m)\u001b[0m\u001b[1;33m\u001b[0m\u001b[0m\n\u001b[0m\u001b[0;32m    164\u001b[0m     \u001b[1;32melse\u001b[0m\u001b[1;33m:\u001b[0m\u001b[1;33m\u001b[0m\u001b[0m\n\u001b[0;32m    165\u001b[0m         \u001b[1;32mtry\u001b[0m\u001b[1;33m:\u001b[0m\u001b[1;33m\u001b[0m\u001b[0m\n",
        "\u001b[1;32m/usr/lib/python2.7/copy.pyc\u001b[0m in \u001b[0;36m_deepcopy_dict\u001b[1;34m(x, memo)\u001b[0m\n\u001b[0;32m    255\u001b[0m     \u001b[0mmemo\u001b[0m\u001b[1;33m[\u001b[0m\u001b[0mid\u001b[0m\u001b[1;33m(\u001b[0m\u001b[0mx\u001b[0m\u001b[1;33m)\u001b[0m\u001b[1;33m]\u001b[0m \u001b[1;33m=\u001b[0m \u001b[0my\u001b[0m\u001b[1;33m\u001b[0m\u001b[0m\n\u001b[0;32m    256\u001b[0m     \u001b[1;32mfor\u001b[0m \u001b[0mkey\u001b[0m\u001b[1;33m,\u001b[0m \u001b[0mvalue\u001b[0m \u001b[1;32min\u001b[0m \u001b[0mx\u001b[0m\u001b[1;33m.\u001b[0m\u001b[0miteritems\u001b[0m\u001b[1;33m(\u001b[0m\u001b[1;33m)\u001b[0m\u001b[1;33m:\u001b[0m\u001b[1;33m\u001b[0m\u001b[0m\n\u001b[1;32m--> 257\u001b[1;33m         \u001b[0my\u001b[0m\u001b[1;33m[\u001b[0m\u001b[0mdeepcopy\u001b[0m\u001b[1;33m(\u001b[0m\u001b[0mkey\u001b[0m\u001b[1;33m,\u001b[0m \u001b[0mmemo\u001b[0m\u001b[1;33m)\u001b[0m\u001b[1;33m]\u001b[0m \u001b[1;33m=\u001b[0m \u001b[0mdeepcopy\u001b[0m\u001b[1;33m(\u001b[0m\u001b[0mvalue\u001b[0m\u001b[1;33m,\u001b[0m \u001b[0mmemo\u001b[0m\u001b[1;33m)\u001b[0m\u001b[1;33m\u001b[0m\u001b[0m\n\u001b[0m\u001b[0;32m    258\u001b[0m     \u001b[1;32mreturn\u001b[0m \u001b[0my\u001b[0m\u001b[1;33m\u001b[0m\u001b[0m\n\u001b[0;32m    259\u001b[0m \u001b[0md\u001b[0m\u001b[1;33m[\u001b[0m\u001b[0mdict\u001b[0m\u001b[1;33m]\u001b[0m \u001b[1;33m=\u001b[0m \u001b[0m_deepcopy_dict\u001b[0m\u001b[1;33m\u001b[0m\u001b[0m\n",
        "\u001b[1;32m/usr/lib/python2.7/copy.pyc\u001b[0m in \u001b[0;36mdeepcopy\u001b[1;34m(x, memo, _nil)\u001b[0m\n\u001b[0;32m    188\u001b[0m                             raise Error(\n\u001b[0;32m    189\u001b[0m                                 \"un(deep)copyable object of type %s\" % cls)\n\u001b[1;32m--> 190\u001b[1;33m                 \u001b[0my\u001b[0m \u001b[1;33m=\u001b[0m \u001b[0m_reconstruct\u001b[0m\u001b[1;33m(\u001b[0m\u001b[0mx\u001b[0m\u001b[1;33m,\u001b[0m \u001b[0mrv\u001b[0m\u001b[1;33m,\u001b[0m \u001b[1;36m1\u001b[0m\u001b[1;33m,\u001b[0m \u001b[0mmemo\u001b[0m\u001b[1;33m)\u001b[0m\u001b[1;33m\u001b[0m\u001b[0m\n\u001b[0m\u001b[0;32m    191\u001b[0m \u001b[1;33m\u001b[0m\u001b[0m\n\u001b[0;32m    192\u001b[0m     \u001b[0mmemo\u001b[0m\u001b[1;33m[\u001b[0m\u001b[0md\u001b[0m\u001b[1;33m]\u001b[0m \u001b[1;33m=\u001b[0m \u001b[0my\u001b[0m\u001b[1;33m\u001b[0m\u001b[0m\n",
        "\u001b[1;32m/usr/lib/python2.7/copy.pyc\u001b[0m in \u001b[0;36m_reconstruct\u001b[1;34m(x, info, deep, memo)\u001b[0m\n\u001b[0;32m    332\u001b[0m     \u001b[1;32mif\u001b[0m \u001b[0mstate\u001b[0m\u001b[1;33m:\u001b[0m\u001b[1;33m\u001b[0m\u001b[0m\n\u001b[0;32m    333\u001b[0m         \u001b[1;32mif\u001b[0m \u001b[0mdeep\u001b[0m\u001b[1;33m:\u001b[0m\u001b[1;33m\u001b[0m\u001b[0m\n\u001b[1;32m--> 334\u001b[1;33m             \u001b[0mstate\u001b[0m \u001b[1;33m=\u001b[0m \u001b[0mdeepcopy\u001b[0m\u001b[1;33m(\u001b[0m\u001b[0mstate\u001b[0m\u001b[1;33m,\u001b[0m \u001b[0mmemo\u001b[0m\u001b[1;33m)\u001b[0m\u001b[1;33m\u001b[0m\u001b[0m\n\u001b[0m\u001b[0;32m    335\u001b[0m         \u001b[1;32mif\u001b[0m \u001b[0mhasattr\u001b[0m\u001b[1;33m(\u001b[0m\u001b[0my\u001b[0m\u001b[1;33m,\u001b[0m \u001b[1;34m'__setstate__'\u001b[0m\u001b[1;33m)\u001b[0m\u001b[1;33m:\u001b[0m\u001b[1;33m\u001b[0m\u001b[0m\n\u001b[0;32m    336\u001b[0m             \u001b[0my\u001b[0m\u001b[1;33m.\u001b[0m\u001b[0m__setstate__\u001b[0m\u001b[1;33m(\u001b[0m\u001b[0mstate\u001b[0m\u001b[1;33m)\u001b[0m\u001b[1;33m\u001b[0m\u001b[0m\n",
        "\u001b[1;32m/usr/lib/python2.7/copy.pyc\u001b[0m in \u001b[0;36mdeepcopy\u001b[1;34m(x, memo, _nil)\u001b[0m\n\u001b[0;32m    161\u001b[0m     \u001b[0mcopier\u001b[0m \u001b[1;33m=\u001b[0m \u001b[0m_deepcopy_dispatch\u001b[0m\u001b[1;33m.\u001b[0m\u001b[0mget\u001b[0m\u001b[1;33m(\u001b[0m\u001b[0mcls\u001b[0m\u001b[1;33m)\u001b[0m\u001b[1;33m\u001b[0m\u001b[0m\n\u001b[0;32m    162\u001b[0m     \u001b[1;32mif\u001b[0m \u001b[0mcopier\u001b[0m\u001b[1;33m:\u001b[0m\u001b[1;33m\u001b[0m\u001b[0m\n\u001b[1;32m--> 163\u001b[1;33m         \u001b[0my\u001b[0m \u001b[1;33m=\u001b[0m \u001b[0mcopier\u001b[0m\u001b[1;33m(\u001b[0m\u001b[0mx\u001b[0m\u001b[1;33m,\u001b[0m \u001b[0mmemo\u001b[0m\u001b[1;33m)\u001b[0m\u001b[1;33m\u001b[0m\u001b[0m\n\u001b[0m\u001b[0;32m    164\u001b[0m     \u001b[1;32melse\u001b[0m\u001b[1;33m:\u001b[0m\u001b[1;33m\u001b[0m\u001b[0m\n\u001b[0;32m    165\u001b[0m         \u001b[1;32mtry\u001b[0m\u001b[1;33m:\u001b[0m\u001b[1;33m\u001b[0m\u001b[0m\n",
        "\u001b[1;32m/usr/lib/python2.7/copy.pyc\u001b[0m in \u001b[0;36m_deepcopy_dict\u001b[1;34m(x, memo)\u001b[0m\n\u001b[0;32m    255\u001b[0m     \u001b[0mmemo\u001b[0m\u001b[1;33m[\u001b[0m\u001b[0mid\u001b[0m\u001b[1;33m(\u001b[0m\u001b[0mx\u001b[0m\u001b[1;33m)\u001b[0m\u001b[1;33m]\u001b[0m \u001b[1;33m=\u001b[0m \u001b[0my\u001b[0m\u001b[1;33m\u001b[0m\u001b[0m\n\u001b[0;32m    256\u001b[0m     \u001b[1;32mfor\u001b[0m \u001b[0mkey\u001b[0m\u001b[1;33m,\u001b[0m \u001b[0mvalue\u001b[0m \u001b[1;32min\u001b[0m \u001b[0mx\u001b[0m\u001b[1;33m.\u001b[0m\u001b[0miteritems\u001b[0m\u001b[1;33m(\u001b[0m\u001b[1;33m)\u001b[0m\u001b[1;33m:\u001b[0m\u001b[1;33m\u001b[0m\u001b[0m\n\u001b[1;32m--> 257\u001b[1;33m         \u001b[0my\u001b[0m\u001b[1;33m[\u001b[0m\u001b[0mdeepcopy\u001b[0m\u001b[1;33m(\u001b[0m\u001b[0mkey\u001b[0m\u001b[1;33m,\u001b[0m \u001b[0mmemo\u001b[0m\u001b[1;33m)\u001b[0m\u001b[1;33m]\u001b[0m \u001b[1;33m=\u001b[0m \u001b[0mdeepcopy\u001b[0m\u001b[1;33m(\u001b[0m\u001b[0mvalue\u001b[0m\u001b[1;33m,\u001b[0m \u001b[0mmemo\u001b[0m\u001b[1;33m)\u001b[0m\u001b[1;33m\u001b[0m\u001b[0m\n\u001b[0m\u001b[0;32m    258\u001b[0m     \u001b[1;32mreturn\u001b[0m \u001b[0my\u001b[0m\u001b[1;33m\u001b[0m\u001b[0m\n\u001b[0;32m    259\u001b[0m \u001b[0md\u001b[0m\u001b[1;33m[\u001b[0m\u001b[0mdict\u001b[0m\u001b[1;33m]\u001b[0m \u001b[1;33m=\u001b[0m \u001b[0m_deepcopy_dict\u001b[0m\u001b[1;33m\u001b[0m\u001b[0m\n",
        "\u001b[1;32m/usr/lib/python2.7/copy.pyc\u001b[0m in \u001b[0;36mdeepcopy\u001b[1;34m(x, memo, _nil)\u001b[0m\n\u001b[0;32m    172\u001b[0m             \u001b[0mcopier\u001b[0m \u001b[1;33m=\u001b[0m \u001b[0mgetattr\u001b[0m\u001b[1;33m(\u001b[0m\u001b[0mx\u001b[0m\u001b[1;33m,\u001b[0m \u001b[1;34m\"__deepcopy__\"\u001b[0m\u001b[1;33m,\u001b[0m \u001b[0mNone\u001b[0m\u001b[1;33m)\u001b[0m\u001b[1;33m\u001b[0m\u001b[0m\n\u001b[0;32m    173\u001b[0m             \u001b[1;32mif\u001b[0m \u001b[0mcopier\u001b[0m\u001b[1;33m:\u001b[0m\u001b[1;33m\u001b[0m\u001b[0m\n\u001b[1;32m--> 174\u001b[1;33m                 \u001b[0my\u001b[0m \u001b[1;33m=\u001b[0m \u001b[0mcopier\u001b[0m\u001b[1;33m(\u001b[0m\u001b[0mmemo\u001b[0m\u001b[1;33m)\u001b[0m\u001b[1;33m\u001b[0m\u001b[0m\n\u001b[0m\u001b[0;32m    175\u001b[0m             \u001b[1;32melse\u001b[0m\u001b[1;33m:\u001b[0m\u001b[1;33m\u001b[0m\u001b[0m\n\u001b[0;32m    176\u001b[0m                 \u001b[0mreductor\u001b[0m \u001b[1;33m=\u001b[0m \u001b[0mdispatch_table\u001b[0m\u001b[1;33m.\u001b[0m\u001b[0mget\u001b[0m\u001b[1;33m(\u001b[0m\u001b[0mcls\u001b[0m\u001b[1;33m)\u001b[0m\u001b[1;33m\u001b[0m\u001b[0m\n",
        "\u001b[1;32m/home/oesteban/workspace/nipype/nipype/interfaces/base.pyc\u001b[0m in \u001b[0;36m__deepcopy__\u001b[1;34m(self, memo)\u001b[0m\n\u001b[0;32m    577\u001b[0m         \u001b[1;32mif\u001b[0m \u001b[0mid_self\u001b[0m \u001b[1;32min\u001b[0m \u001b[0mmemo\u001b[0m\u001b[1;33m:\u001b[0m\u001b[1;33m\u001b[0m\u001b[0m\n\u001b[0;32m    578\u001b[0m             \u001b[1;32mreturn\u001b[0m \u001b[0mmemo\u001b[0m\u001b[1;33m[\u001b[0m\u001b[0mid_self\u001b[0m\u001b[1;33m]\u001b[0m\u001b[1;33m\u001b[0m\u001b[0m\n\u001b[1;32m--> 579\u001b[1;33m         \u001b[0mdup_dict\u001b[0m \u001b[1;33m=\u001b[0m \u001b[0mdeepcopy\u001b[0m\u001b[1;33m(\u001b[0m\u001b[0mself\u001b[0m\u001b[1;33m.\u001b[0m\u001b[0mget\u001b[0m\u001b[1;33m(\u001b[0m\u001b[1;33m)\u001b[0m\u001b[1;33m,\u001b[0m \u001b[0mmemo\u001b[0m\u001b[1;33m)\u001b[0m\u001b[1;33m\u001b[0m\u001b[0m\n\u001b[0m\u001b[0;32m    580\u001b[0m         \u001b[1;31m# access all keys\u001b[0m\u001b[1;33m\u001b[0m\u001b[1;33m\u001b[0m\u001b[0m\n\u001b[0;32m    581\u001b[0m         \u001b[1;32mfor\u001b[0m \u001b[0mkey\u001b[0m \u001b[1;32min\u001b[0m \u001b[0mself\u001b[0m\u001b[1;33m.\u001b[0m\u001b[0mcopyable_trait_names\u001b[0m\u001b[1;33m(\u001b[0m\u001b[1;33m)\u001b[0m\u001b[1;33m:\u001b[0m\u001b[1;33m\u001b[0m\u001b[0m\n",
        "\u001b[1;32m/usr/lib/python2.7/copy.pyc\u001b[0m in \u001b[0;36mdeepcopy\u001b[1;34m(x, memo, _nil)\u001b[0m\n\u001b[0;32m    161\u001b[0m     \u001b[0mcopier\u001b[0m \u001b[1;33m=\u001b[0m \u001b[0m_deepcopy_dispatch\u001b[0m\u001b[1;33m.\u001b[0m\u001b[0mget\u001b[0m\u001b[1;33m(\u001b[0m\u001b[0mcls\u001b[0m\u001b[1;33m)\u001b[0m\u001b[1;33m\u001b[0m\u001b[0m\n\u001b[0;32m    162\u001b[0m     \u001b[1;32mif\u001b[0m \u001b[0mcopier\u001b[0m\u001b[1;33m:\u001b[0m\u001b[1;33m\u001b[0m\u001b[0m\n\u001b[1;32m--> 163\u001b[1;33m         \u001b[0my\u001b[0m \u001b[1;33m=\u001b[0m \u001b[0mcopier\u001b[0m\u001b[1;33m(\u001b[0m\u001b[0mx\u001b[0m\u001b[1;33m,\u001b[0m \u001b[0mmemo\u001b[0m\u001b[1;33m)\u001b[0m\u001b[1;33m\u001b[0m\u001b[0m\n\u001b[0m\u001b[0;32m    164\u001b[0m     \u001b[1;32melse\u001b[0m\u001b[1;33m:\u001b[0m\u001b[1;33m\u001b[0m\u001b[0m\n\u001b[0;32m    165\u001b[0m         \u001b[1;32mtry\u001b[0m\u001b[1;33m:\u001b[0m\u001b[1;33m\u001b[0m\u001b[0m\n",
        "\u001b[1;32m/usr/lib/python2.7/copy.pyc\u001b[0m in \u001b[0;36m_deepcopy_dict\u001b[1;34m(x, memo)\u001b[0m\n\u001b[0;32m    255\u001b[0m     \u001b[0mmemo\u001b[0m\u001b[1;33m[\u001b[0m\u001b[0mid\u001b[0m\u001b[1;33m(\u001b[0m\u001b[0mx\u001b[0m\u001b[1;33m)\u001b[0m\u001b[1;33m]\u001b[0m \u001b[1;33m=\u001b[0m \u001b[0my\u001b[0m\u001b[1;33m\u001b[0m\u001b[0m\n\u001b[0;32m    256\u001b[0m     \u001b[1;32mfor\u001b[0m \u001b[0mkey\u001b[0m\u001b[1;33m,\u001b[0m \u001b[0mvalue\u001b[0m \u001b[1;32min\u001b[0m \u001b[0mx\u001b[0m\u001b[1;33m.\u001b[0m\u001b[0miteritems\u001b[0m\u001b[1;33m(\u001b[0m\u001b[1;33m)\u001b[0m\u001b[1;33m:\u001b[0m\u001b[1;33m\u001b[0m\u001b[0m\n\u001b[1;32m--> 257\u001b[1;33m         \u001b[0my\u001b[0m\u001b[1;33m[\u001b[0m\u001b[0mdeepcopy\u001b[0m\u001b[1;33m(\u001b[0m\u001b[0mkey\u001b[0m\u001b[1;33m,\u001b[0m \u001b[0mmemo\u001b[0m\u001b[1;33m)\u001b[0m\u001b[1;33m]\u001b[0m \u001b[1;33m=\u001b[0m \u001b[0mdeepcopy\u001b[0m\u001b[1;33m(\u001b[0m\u001b[0mvalue\u001b[0m\u001b[1;33m,\u001b[0m \u001b[0mmemo\u001b[0m\u001b[1;33m)\u001b[0m\u001b[1;33m\u001b[0m\u001b[0m\n\u001b[0m\u001b[0;32m    258\u001b[0m     \u001b[1;32mreturn\u001b[0m \u001b[0my\u001b[0m\u001b[1;33m\u001b[0m\u001b[0m\n\u001b[0;32m    259\u001b[0m \u001b[0md\u001b[0m\u001b[1;33m[\u001b[0m\u001b[0mdict\u001b[0m\u001b[1;33m]\u001b[0m \u001b[1;33m=\u001b[0m \u001b[0m_deepcopy_dict\u001b[0m\u001b[1;33m\u001b[0m\u001b[0m\n",
        "\u001b[1;32m/usr/lib/python2.7/copy.pyc\u001b[0m in \u001b[0;36mdeepcopy\u001b[1;34m(x, memo, _nil)\u001b[0m\n\u001b[0;32m    161\u001b[0m     \u001b[0mcopier\u001b[0m \u001b[1;33m=\u001b[0m \u001b[0m_deepcopy_dispatch\u001b[0m\u001b[1;33m.\u001b[0m\u001b[0mget\u001b[0m\u001b[1;33m(\u001b[0m\u001b[0mcls\u001b[0m\u001b[1;33m)\u001b[0m\u001b[1;33m\u001b[0m\u001b[0m\n\u001b[0;32m    162\u001b[0m     \u001b[1;32mif\u001b[0m \u001b[0mcopier\u001b[0m\u001b[1;33m:\u001b[0m\u001b[1;33m\u001b[0m\u001b[0m\n\u001b[1;32m--> 163\u001b[1;33m         \u001b[0my\u001b[0m \u001b[1;33m=\u001b[0m \u001b[0mcopier\u001b[0m\u001b[1;33m(\u001b[0m\u001b[0mx\u001b[0m\u001b[1;33m,\u001b[0m \u001b[0mmemo\u001b[0m\u001b[1;33m)\u001b[0m\u001b[1;33m\u001b[0m\u001b[0m\n\u001b[0m\u001b[0;32m    164\u001b[0m     \u001b[1;32melse\u001b[0m\u001b[1;33m:\u001b[0m\u001b[1;33m\u001b[0m\u001b[0m\n\u001b[0;32m    165\u001b[0m         \u001b[1;32mtry\u001b[0m\u001b[1;33m:\u001b[0m\u001b[1;33m\u001b[0m\u001b[0m\n",
        "\u001b[1;32m/usr/lib/python2.7/copy.pyc\u001b[0m in \u001b[0;36m_deepcopy_list\u001b[1;34m(x, memo)\u001b[0m\n\u001b[0;32m    228\u001b[0m     \u001b[0mmemo\u001b[0m\u001b[1;33m[\u001b[0m\u001b[0mid\u001b[0m\u001b[1;33m(\u001b[0m\u001b[0mx\u001b[0m\u001b[1;33m)\u001b[0m\u001b[1;33m]\u001b[0m \u001b[1;33m=\u001b[0m \u001b[0my\u001b[0m\u001b[1;33m\u001b[0m\u001b[0m\n\u001b[0;32m    229\u001b[0m     \u001b[1;32mfor\u001b[0m \u001b[0ma\u001b[0m \u001b[1;32min\u001b[0m \u001b[0mx\u001b[0m\u001b[1;33m:\u001b[0m\u001b[1;33m\u001b[0m\u001b[0m\n\u001b[1;32m--> 230\u001b[1;33m         \u001b[0my\u001b[0m\u001b[1;33m.\u001b[0m\u001b[0mappend\u001b[0m\u001b[1;33m(\u001b[0m\u001b[0mdeepcopy\u001b[0m\u001b[1;33m(\u001b[0m\u001b[0ma\u001b[0m\u001b[1;33m,\u001b[0m \u001b[0mmemo\u001b[0m\u001b[1;33m)\u001b[0m\u001b[1;33m)\u001b[0m\u001b[1;33m\u001b[0m\u001b[0m\n\u001b[0m\u001b[0;32m    231\u001b[0m     \u001b[1;32mreturn\u001b[0m \u001b[0my\u001b[0m\u001b[1;33m\u001b[0m\u001b[0m\n\u001b[0;32m    232\u001b[0m \u001b[0md\u001b[0m\u001b[1;33m[\u001b[0m\u001b[0mlist\u001b[0m\u001b[1;33m]\u001b[0m \u001b[1;33m=\u001b[0m \u001b[0m_deepcopy_list\u001b[0m\u001b[1;33m\u001b[0m\u001b[0m\n",
        "\u001b[1;32m/usr/lib/python2.7/copy.pyc\u001b[0m in \u001b[0;36mdeepcopy\u001b[1;34m(x, memo, _nil)\u001b[0m\n\u001b[0;32m    172\u001b[0m             \u001b[0mcopier\u001b[0m \u001b[1;33m=\u001b[0m \u001b[0mgetattr\u001b[0m\u001b[1;33m(\u001b[0m\u001b[0mx\u001b[0m\u001b[1;33m,\u001b[0m \u001b[1;34m\"__deepcopy__\"\u001b[0m\u001b[1;33m,\u001b[0m \u001b[0mNone\u001b[0m\u001b[1;33m)\u001b[0m\u001b[1;33m\u001b[0m\u001b[0m\n\u001b[0;32m    173\u001b[0m             \u001b[1;32mif\u001b[0m \u001b[0mcopier\u001b[0m\u001b[1;33m:\u001b[0m\u001b[1;33m\u001b[0m\u001b[0m\n\u001b[1;32m--> 174\u001b[1;33m                 \u001b[0my\u001b[0m \u001b[1;33m=\u001b[0m \u001b[0mcopier\u001b[0m\u001b[1;33m(\u001b[0m\u001b[0mmemo\u001b[0m\u001b[1;33m)\u001b[0m\u001b[1;33m\u001b[0m\u001b[0m\n\u001b[0m\u001b[0;32m    175\u001b[0m             \u001b[1;32melse\u001b[0m\u001b[1;33m:\u001b[0m\u001b[1;33m\u001b[0m\u001b[0m\n\u001b[0;32m    176\u001b[0m                 \u001b[0mreductor\u001b[0m \u001b[1;33m=\u001b[0m \u001b[0mdispatch_table\u001b[0m\u001b[1;33m.\u001b[0m\u001b[0mget\u001b[0m\u001b[1;33m(\u001b[0m\u001b[0mcls\u001b[0m\u001b[1;33m)\u001b[0m\u001b[1;33m\u001b[0m\u001b[0m\n",
        "\u001b[1;32m/usr/local/lib/python2.7/dist-packages/numpy/ma/core.pyc\u001b[0m in \u001b[0;36m__deepcopy__\u001b[1;34m(self, memo)\u001b[0m\n\u001b[0;32m   5539\u001b[0m     \u001b[1;32mdef\u001b[0m \u001b[0m__deepcopy__\u001b[0m\u001b[1;33m(\u001b[0m\u001b[0mself\u001b[0m\u001b[1;33m,\u001b[0m \u001b[0mmemo\u001b[0m\u001b[1;33m=\u001b[0m\u001b[0mNone\u001b[0m\u001b[1;33m)\u001b[0m\u001b[1;33m:\u001b[0m\u001b[1;33m\u001b[0m\u001b[0m\n\u001b[0;32m   5540\u001b[0m         \u001b[1;32mfrom\u001b[0m \u001b[0mcopy\u001b[0m \u001b[1;32mimport\u001b[0m \u001b[0mdeepcopy\u001b[0m\u001b[1;33m\u001b[0m\u001b[0m\n\u001b[1;32m-> 5541\u001b[1;33m         \u001b[0mcopied\u001b[0m \u001b[1;33m=\u001b[0m \u001b[0mMaskedArray\u001b[0m\u001b[1;33m.\u001b[0m\u001b[0m__new__\u001b[0m\u001b[1;33m(\u001b[0m\u001b[0mtype\u001b[0m\u001b[1;33m(\u001b[0m\u001b[0mself\u001b[0m\u001b[1;33m)\u001b[0m\u001b[1;33m,\u001b[0m \u001b[0mself\u001b[0m\u001b[1;33m,\u001b[0m \u001b[0mcopy\u001b[0m\u001b[1;33m=\u001b[0m\u001b[0mTrue\u001b[0m\u001b[1;33m)\u001b[0m\u001b[1;33m\u001b[0m\u001b[0m\n\u001b[0m\u001b[0;32m   5542\u001b[0m         \u001b[1;32mif\u001b[0m \u001b[0mmemo\u001b[0m \u001b[1;32mis\u001b[0m \u001b[0mNone\u001b[0m\u001b[1;33m:\u001b[0m\u001b[1;33m\u001b[0m\u001b[0m\n\u001b[0;32m   5543\u001b[0m             \u001b[0mmemo\u001b[0m \u001b[1;33m=\u001b[0m \u001b[1;33m{\u001b[0m\u001b[1;33m}\u001b[0m\u001b[1;33m\u001b[0m\u001b[0m\n",
        "\u001b[1;32m/usr/local/lib/python2.7/dist-packages/numpy/ma/core.pyc\u001b[0m in \u001b[0;36m__new__\u001b[1;34m(cls, data, mask, dtype, copy, subok, ndmin, fill_value, keep_mask, hard_mask, shrink, **options)\u001b[0m\n\u001b[0;32m   2686\u001b[0m                     \u001b[1;31m# Reset the shape of the original mask\u001b[0m\u001b[1;33m\u001b[0m\u001b[1;33m\u001b[0m\u001b[0m\n\u001b[0;32m   2687\u001b[0m                     \u001b[1;32mif\u001b[0m \u001b[0mgetmask\u001b[0m\u001b[1;33m(\u001b[0m\u001b[0mdata\u001b[0m\u001b[1;33m)\u001b[0m \u001b[1;32mis\u001b[0m \u001b[1;32mnot\u001b[0m \u001b[0mnomask\u001b[0m\u001b[1;33m:\u001b[0m\u001b[1;33m\u001b[0m\u001b[0m\n\u001b[1;32m-> 2688\u001b[1;33m                         \u001b[0mdata\u001b[0m\u001b[1;33m.\u001b[0m\u001b[0m_mask\u001b[0m\u001b[1;33m.\u001b[0m\u001b[0mshape\u001b[0m \u001b[1;33m=\u001b[0m \u001b[0mdata\u001b[0m\u001b[1;33m.\u001b[0m\u001b[0mshape\u001b[0m\u001b[1;33m\u001b[0m\u001b[0m\n\u001b[0m\u001b[0;32m   2689\u001b[0m                 \u001b[1;32melse\u001b[0m\u001b[1;33m:\u001b[0m\u001b[1;33m\u001b[0m\u001b[0m\n\u001b[0;32m   2690\u001b[0m                     \u001b[0m_data\u001b[0m\u001b[1;33m.\u001b[0m\u001b[0m_sharedmask\u001b[0m \u001b[1;33m=\u001b[0m \u001b[0mTrue\u001b[0m\u001b[1;33m\u001b[0m\u001b[0m\n",
        "\u001b[1;31mAttributeError\u001b[0m: attribute 'shape' of 'numpy.generic' objects is not writable"
       ]
      }
     ],
     "prompt_number": 3
    },
    {
     "cell_type": "code",
     "collapsed": false,
     "input": [
      "import nipype.pipeline.engine as pe          # pipeline engine\n",
      "import nipype.interfaces.freesurfer as fs\n",
      "import nipype.interfaces.utility as niu\n",
      "import nipype.interfaces.io as nio\n",
      "\n",
      "\n",
      "def GenerateBinaryVolume( name=\"binarize\" ):\n",
      "    pipeline = pe.Workflow( name=name )\n",
      "    inputnode = pe.Node(niu.IdentityInterface( fields=['in_file','labels', 'in_norm','out_surf',\n",
      "                                 'origin', 'mov_path', 'tar_path', 'tfmfile'] ), name='inputnode' )\n",
      "    convert = pe.Node( fs.MRIConvert( out_type='niigz' ), name='convert' )\n",
      "    binarize = pe.Node( niu.Function( input_names=['in_file', 'labels' ], output_names=[\"out_file\"], \n",
      "                                      function=fsbt.CombineSegs ), name='combine' )\n",
      "    convertmgz = pe.Node( fs.MRIConvert( out_type='mgz' ), name='convertmgz' )\n",
      "    pretess = pe.Node( niu.Function( input_names=['in_file', 'in_norm', 'label' ], output_names=['out_file'],\n",
      "                                    function=fsbt.MRIPreTess ), name='pretess' )\n",
      "    pretess.inputs.label = 1\n",
      "    \n",
      "    tess = pe.Node( fs.MRITessellate(label_value=1), name='tess' )\n",
      "    smooth = pe.Node( fs.SmoothTessellation(disable_estimates=True ), name='mris_smooth' )\n",
      "    \n",
      "    tfmsurf = pe.Node( niu.Function( input_names=['origin', 'mov_path', 'tar_path', 'tfmfile', 'out_file'],\n",
      "                                     output_names=['out_file'], function=fsbt.transformSurface ), name='ApplyXfm' )\n",
      "                                    \n",
      "    pipeline.connect( [\n",
      "                       \n",
      "                        (inputnode, convert, [ ('in_file','in_file') ] )\n",
      "                       ,(convert, binarize,  [ ('out_file','in_file' ) ])\n",
      "                       ,(inputnode, binarize,[ ('labels','labels') ])\n",
      "                       ,(binarize, convertmgz, [('out_file','in_file')])\n",
      "                       ,(convertmgz,pretess, [ ('out_file', 'in_file' )])\n",
      "                       ,(inputnode,pretess,  [ ('in_norm', 'in_norm' )])\n",
      "                       ,(pretess,tess,       [ ('out_file', 'in_file' ) ])\n",
      "                       ,(tess,smooth,        [ ('surface', 'in_file' ) ])\n",
      "                       ,(smooth,tfmsurf,     [ ('surface', 'origin' ) ])\n",
      "                       ,(inputnode,tfmsurf,  [ ('mov_path','mov_path'),\n",
      "                                               ('tar_path','tar_path'),\n",
      "                                               ('tfmfile','tfmfile'),\n",
      "                                               ('out_surf','out_file') ])\n",
      "                       ])\n",
      "    \n",
      "    return pipeline"
     ],
     "language": "python",
     "metadata": {},
     "outputs": [],
     "prompt_number": 7
    },
    {
     "cell_type": "code",
     "collapsed": false,
     "input": [
      "wf = GenerateBinaryVolume()\n",
      "wf.base_dir = working_dir"
     ],
     "language": "python",
     "metadata": {},
     "outputs": [],
     "prompt_number": 8
    },
    {
     "cell_type": "code",
     "collapsed": false,
     "input": [
      "wf.inputs.inputnode.in_file = op.join( root_dir, 'FREESURFER', 'OE0_T1', 'mri', 'aseg.mgz' )\n",
      "wf.inputs.inputnode.labels = csf_labels\n",
      "wf.inputs.inputnode.in_norm = op.join( root_dir, 'FREESURFER', 'OE0_T1', 'mri', 'norm.mgz' )\n",
      "wf.inputs.inputnode.out_surf = op.join( data_dir, 'surf', 'init.csf.vtk' )\n",
      "\n",
      "wf.inputs.inputnode.tar_path = bfname\n",
      "wf.inputs.inputnode.mov_path = mrfname\n",
      "wf.inputs.inputnode.tfmfile = tfname"
     ],
     "language": "python",
     "metadata": {},
     "outputs": [],
     "prompt_number": 9
    },
    {
     "cell_type": "code",
     "collapsed": false,
     "input": [
      "wf.run()"
     ],
     "language": "python",
     "metadata": {},
     "outputs": [
      {
       "output_type": "stream",
       "stream": "stdout",
       "text": [
        "130627-17:17:32,38 workflow INFO:\n",
        "\t ['check', 'execution', 'logging']\n"
       ]
      },
      {
       "output_type": "stream",
       "stream": "stdout",
       "text": [
        "130627-17:17:32,45 workflow INFO:\n",
        "\t Running serially.\n"
       ]
      },
      {
       "output_type": "stream",
       "stream": "stdout",
       "text": [
        "130627-17:17:32,46 workflow INFO:\n",
        "\t Executing node convert in dir: /home/oesteban/workspace/ACWE-Reg/temp/binarize/convert\n"
       ]
      },
      {
       "output_type": "stream",
       "stream": "stdout",
       "text": [
        "130627-17:17:32,47 workflow INFO:\n",
        "\t Collecting precomputed outputs\n"
       ]
      },
      {
       "output_type": "stream",
       "stream": "stdout",
       "text": [
        "130627-17:17:32,50 workflow INFO:\n",
        "\t Executing node combine in dir: /home/oesteban/workspace/ACWE-Reg/temp/binarize/combine\n"
       ]
      },
      {
       "output_type": "stream",
       "stream": "stdout",
       "text": [
        "130627-17:17:32,51 workflow INFO:\n",
        "\t Collecting precomputed outputs\n"
       ]
      },
      {
       "output_type": "stream",
       "stream": "stdout",
       "text": [
        "130627-17:17:32,54 workflow INFO:\n",
        "\t Executing node convertmgz in dir: /home/oesteban/workspace/ACWE-Reg/temp/binarize/convertmgz\n"
       ]
      },
      {
       "output_type": "stream",
       "stream": "stdout",
       "text": [
        "130627-17:17:32,55 workflow INFO:\n",
        "\t Collecting precomputed outputs\n"
       ]
      },
      {
       "output_type": "stream",
       "stream": "stdout",
       "text": [
        "130627-17:17:32,60 workflow INFO:\n",
        "\t Executing node pretess in dir: /home/oesteban/workspace/ACWE-Reg/temp/binarize/pretess\n"
       ]
      },
      {
       "output_type": "stream",
       "stream": "stdout",
       "text": [
        "130627-17:17:34,618 workflow INFO:\n",
        "\t Executing node tess in dir: /home/oesteban/workspace/ACWE-Reg/temp/binarize/tess\n"
       ]
      },
      {
       "output_type": "stream",
       "stream": "stdout",
       "text": [
        "130627-17:17:34,623 workflow INFO:\n",
        "\t Running: mri_tessellate /home/oesteban/workspace/ACWE-Reg/temp/binarize/pretess/aseg_out_bin_out_pretess.mgz 1 ./aseg_out_bin_out_pretess.mgz_1\n"
       ]
      },
      {
       "output_type": "stream",
       "stream": "stdout",
       "text": [
        "130627-17:17:34,960 interface INFO:\n",
        "\t stdout 2013-06-27T17:17:34.960007:$Id: mri_tessellate.c,v 1.36 2011/03/02 00:04:25 nicks Exp $\n"
       ]
      },
      {
       "output_type": "stream",
       "stream": "stdout",
       "text": [
        "130627-17:17:34,960 interface INFO:\n",
        "\t stdout 2013-06-27T17:17:34.960007:  $Id: mrisurf.c,v 1.693.2.7 2013/05/12 22:28:01 nicks Exp $\n"
       ]
      },
      {
       "output_type": "stream",
       "stream": "stdout",
       "text": [
        "130627-17:17:35,870 interface INFO:\n",
        "\t stdout 2013-06-27T17:17:35.870098:slice 80: 117 vertices, 133 faces\n"
       ]
      },
      {
       "output_type": "stream",
       "stream": "stdout",
       "text": [
        "130627-17:17:35,870 interface INFO:\n",
        "\t stdout 2013-06-27T17:17:35.870098:slice 90: 1081 vertices, 1156 faces\n"
       ]
      },
      {
       "output_type": "stream",
       "stream": "stdout",
       "text": [
        "130627-17:17:35,870 interface INFO:\n",
        "\t stdout 2013-06-27T17:17:35.870098:slice 100: 4678 vertices, 4858 faces\n"
       ]
      },
      {
       "output_type": "stream",
       "stream": "stdout",
       "text": [
        "130627-17:17:35,871 interface INFO:\n",
        "\t stdout 2013-06-27T17:17:35.870098:slice 110: 7977 vertices, 8079 faces\n"
       ]
      },
      {
       "output_type": "stream",
       "stream": "stdout",
       "text": [
        "130627-17:17:35,871 interface INFO:\n",
        "\t stdout 2013-06-27T17:17:35.870098:slice 120: 10045 vertices, 10143 faces\n"
       ]
      },
      {
       "output_type": "stream",
       "stream": "stdout",
       "text": [
        "130627-17:17:35,871 interface INFO:\n",
        "\t stdout 2013-06-27T17:17:35.870098:slice 130: 11957 vertices, 12053 faces\n"
       ]
      },
      {
       "output_type": "stream",
       "stream": "stdout",
       "text": [
        "130627-17:17:35,872 interface INFO:\n",
        "\t stdout 2013-06-27T17:17:35.870098:slice 140: 13915 vertices, 13994 faces\n"
       ]
      },
      {
       "output_type": "stream",
       "stream": "stdout",
       "text": [
        "130627-17:17:35,872 interface INFO:\n",
        "\t stdout 2013-06-27T17:17:35.870098:slice 150: 15187 vertices, 15245 faces\n"
       ]
      },
      {
       "output_type": "stream",
       "stream": "stdout",
       "text": [
        "130627-17:17:35,872 interface INFO:\n",
        "\t stdout 2013-06-27T17:17:35.870098:slice 160: 16040 vertices, 16052 faces\n"
       ]
      },
      {
       "output_type": "stream",
       "stream": "stdout",
       "text": [
        "130627-17:17:35,872 interface INFO:\n",
        "\t stdout 2013-06-27T17:17:35.870098:slice 170: 16040 vertices, 16052 faces\n"
       ]
      },
      {
       "output_type": "stream",
       "stream": "stdout",
       "text": [
        "130627-17:17:35,873 interface INFO:\n",
        "\t stdout 2013-06-27T17:17:35.870098:slice 180: 16040 vertices, 16052 faces\n"
       ]
      },
      {
       "output_type": "stream",
       "stream": "stdout",
       "text": [
        "130627-17:17:35,873 interface INFO:\n",
        "\t stdout 2013-06-27T17:17:35.870098:slice 190: 16040 vertices, 16052 faces\n"
       ]
      },
      {
       "output_type": "stream",
       "stream": "stdout",
       "text": [
        "130627-17:17:35,873 interface INFO:\n",
        "\t stdout 2013-06-27T17:17:35.870098:slice 200: 16040 vertices, 16052 faces\n"
       ]
      },
      {
       "output_type": "stream",
       "stream": "stdout",
       "text": [
        "130627-17:17:35,873 interface INFO:\n",
        "\t stdout 2013-06-27T17:17:35.870098:slice 210: 16040 vertices, 16052 faces\n"
       ]
      },
      {
       "output_type": "stream",
       "stream": "stdout",
       "text": [
        "130627-17:17:35,874 interface INFO:\n",
        "\t stdout 2013-06-27T17:17:35.870098:slice 220: 16040 vertices, 16052 faces\n"
       ]
      },
      {
       "output_type": "stream",
       "stream": "stdout",
       "text": [
        "130627-17:17:35,874 interface INFO:\n",
        "\t stdout 2013-06-27T17:17:35.870098:slice 230: 16040 vertices, 16052 faces\n"
       ]
      },
      {
       "output_type": "stream",
       "stream": "stdout",
       "text": [
        "130627-17:17:35,874 interface INFO:\n",
        "\t stdout 2013-06-27T17:17:35.870098:slice 240: 16040 vertices, 16052 faces\n"
       ]
      },
      {
       "output_type": "stream",
       "stream": "stdout",
       "text": [
        "130627-17:17:35,874 interface INFO:\n",
        "\t stdout 2013-06-27T17:17:35.870098:slice 250: 16040 vertices, 16052 faces\n"
       ]
      },
      {
       "output_type": "stream",
       "stream": "stdout",
       "text": [
        "130627-17:17:35,875 interface INFO:\n",
        "\t stdout 2013-06-27T17:17:35.870098:using the conformed surface RAS to save vertex points...\n"
       ]
      },
      {
       "output_type": "stream",
       "stream": "stdout",
       "text": [
        "130627-17:17:35,875 interface INFO:\n",
        "\t stdout 2013-06-27T17:17:35.870098:writing ./aseg_out_bin_out_pretess.mgz_1\n"
       ]
      },
      {
       "output_type": "stream",
       "stream": "stdout",
       "text": [
        "130627-17:17:35,875 interface INFO:\n",
        "\t stdout 2013-06-27T17:17:35.870098:using vox2ras matrix:\n"
       ]
      },
      {
       "output_type": "stream",
       "stream": "stdout",
       "text": [
        "130627-17:17:35,875 interface INFO:\n",
        "\t stdout 2013-06-27T17:17:35.870098:-1.000   0.000   0.000   128.000;\n"
       ]
      },
      {
       "output_type": "stream",
       "stream": "stdout",
       "text": [
        "130627-17:17:35,876 interface INFO:\n",
        "\t stdout 2013-06-27T17:17:35.870098: 0.000   0.000   1.000  -128.000;\n"
       ]
      },
      {
       "output_type": "stream",
       "stream": "stdout",
       "text": [
        "130627-17:17:35,876 interface INFO:\n",
        "\t stdout 2013-06-27T17:17:35.870098: 0.000  -1.000   0.000   128.000;\n"
       ]
      },
      {
       "output_type": "stream",
       "stream": "stdout",
       "text": [
        "130627-17:17:35,877 interface INFO:\n",
        "\t stdout 2013-06-27T17:17:35.870098: 0.000   0.000   0.000   1.000;\n"
       ]
      },
      {
       "output_type": "stream",
       "stream": "stdout",
       "text": [
        "130627-17:17:35,884 workflow INFO:\n",
        "\t Executing node mris_smooth in dir: /home/oesteban/workspace/ACWE-Reg/temp/binarize/mris_smooth\n"
       ]
      },
      {
       "output_type": "stream",
       "stream": "stdout",
       "text": [
        "130627-17:17:35,888 workflow INFO:\n",
        "\t Running: mris_smooth /home/oesteban/workspace/ACWE-Reg/temp/binarize/tess/aseg_out_bin_out_pretess.mgz_1 /home/oesteban/workspace/ACWE-Reg/temp/binarize/mris_smooth/aseg_out_bin_out_pretess_smoothed.mgz_1 -nw -n 10 -a 10\n"
       ]
      },
      {
       "output_type": "stream",
       "stream": "stdout",
       "text": [
        "130627-17:17:36,26 interface INFO:\n",
        "\t stderr 2013-06-27T17:17:36.026365:smoothing surface tessellation for 10 iterations...\n"
       ]
      },
      {
       "output_type": "stream",
       "stream": "stdout",
       "text": [
        "130627-17:17:36,66 interface INFO:\n",
        "\t stderr 2013-06-27T17:17:36.066211:smoothing complete - recomputing first and second fundamental forms...\n"
       ]
      },
      {
       "output_type": "stream",
       "stream": "stdout",
       "text": [
        "130627-17:17:36,234 interface INFO:\n",
        "\t stderr 2013-06-27T17:17:36.234853:writing smoothed curvature to /home/oesteban/workspace/ACWE-Reg/temp/binarize/mris_smooth/rh.curv\n"
       ]
      },
      {
       "output_type": "stream",
       "stream": "stdout",
       "text": [
        "130627-17:17:36,235 interface INFO:\n",
        "\t stderr 2013-06-27T17:17:36.235377:writing smoothed area to /home/oesteban/workspace/ACWE-Reg/temp/binarize/mris_smooth/rh.area\n"
       ]
      },
      {
       "output_type": "stream",
       "stream": "stdout",
       "text": [
        "130627-17:17:36,252 workflow INFO:\n",
        "\t Executing node ApplyXfm in dir: /home/oesteban/workspace/ACWE-Reg/temp/binarize/ApplyXfm\n"
       ]
      },
      {
       "output_type": "pyout",
       "prompt_number": 10,
       "text": [
        "<networkx.classes.digraph.DiGraph at 0x6857a10>"
       ]
      }
     ],
     "prompt_number": 10
    },
    {
     "cell_type": "code",
     "collapsed": false,
     "input": [],
     "language": "python",
     "metadata": {},
     "outputs": []
    }
   ],
   "metadata": {}
  }
 ]
}