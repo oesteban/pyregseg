{
 "metadata": {
  "name": ""
 },
 "nbformat": 3,
 "nbformat_minor": 0,
 "worksheets": [
  {
   "cells": [
    {
     "cell_type": "code",
     "collapsed": false,
     "input": [
      "import numpy as np\n",
      "import nibabel as nib\n",
      "from tvtk.api import tvtk\n",
      "import datetime as dt\n",
      "import os\n",
      "import os.path as op"
     ],
     "language": "python",
     "metadata": {},
     "outputs": [],
     "prompt_number": 11
    },
    {
     "cell_type": "code",
     "collapsed": false,
     "input": [
      "root_dir='/media/data/DTI_Repeatability'\n",
      "working_dir= '/home/oesteban/workspace/ACWE-Reg/temp'"
     ],
     "language": "python",
     "metadata": {},
     "outputs": [],
     "prompt_number": 2
    },
    {
     "cell_type": "markdown",
     "metadata": {},
     "source": [
      "<h1>Transform T1 to dMRI space</h1>\n",
      "Apply direct transform, obtained from bbreg (file bbreg/dti2t1.dat) to map T1 into the dMRI. This example show how to use the different headers and matrices to transform from conformed space to dMRI"
     ]
    },
    {
     "cell_type": "code",
     "collapsed": false,
     "input": [
      "from nipy.algorithms.resample import resample\n",
      "from nipy import load_image\n",
      "from nipy import save_image\n",
      "from nipy.core.api import Image\n",
      "import sys\n",
      "sys.path.append('/home/oesteban/workspace/ACWE-Reg/Scripts/utils')\n",
      "import fsb_transform as fsbt\n",
      "\n",
      "data_dir = op.join( root_dir, 'SurfacesTest' )"
     ],
     "language": "python",
     "metadata": {},
     "outputs": [
      {
       "ename": "ImportError",
       "evalue": "No module named fsb_transform",
       "output_type": "pyerr",
       "traceback": [
        "\u001b[1;31m---------------------------------------------------------------------------\u001b[0m\n\u001b[1;31mImportError\u001b[0m                               Traceback (most recent call last)",
        "\u001b[1;32m<ipython-input-1-afc0967406cb>\u001b[0m in \u001b[0;36m<module>\u001b[1;34m()\u001b[0m\n\u001b[0;32m      5\u001b[0m \u001b[1;32mimport\u001b[0m \u001b[0msys\u001b[0m\u001b[1;33m\u001b[0m\u001b[0m\n\u001b[0;32m      6\u001b[0m \u001b[0msys\u001b[0m\u001b[1;33m.\u001b[0m\u001b[0mpath\u001b[0m\u001b[1;33m.\u001b[0m\u001b[0mappend\u001b[0m\u001b[1;33m(\u001b[0m\u001b[1;34m'/home/oesteban/workspace/ACWE-Reg/Scripts/utils'\u001b[0m\u001b[1;33m)\u001b[0m\u001b[1;33m\u001b[0m\u001b[0m\n\u001b[1;32m----> 7\u001b[1;33m \u001b[1;32mimport\u001b[0m \u001b[0mfsb_transform\u001b[0m \u001b[1;32mas\u001b[0m \u001b[0mfsbt\u001b[0m\u001b[1;33m\u001b[0m\u001b[0m\n\u001b[0m\u001b[0;32m      8\u001b[0m \u001b[1;33m\u001b[0m\u001b[0m\n\u001b[0;32m      9\u001b[0m \u001b[0mdata_dir\u001b[0m \u001b[1;33m=\u001b[0m \u001b[0mop\u001b[0m\u001b[1;33m.\u001b[0m\u001b[0mjoin\u001b[0m\u001b[1;33m(\u001b[0m \u001b[0mroot_dir\u001b[0m\u001b[1;33m,\u001b[0m \u001b[1;34m'SurfacesTest'\u001b[0m \u001b[1;33m)\u001b[0m\u001b[1;33m\u001b[0m\u001b[0m\n",
        "\u001b[1;31mImportError\u001b[0m: No module named fsb_transform"
       ]
      }
     ],
     "prompt_number": 1
    },
    {
     "cell_type": "code",
     "collapsed": false,
     "input": [
      "bfname =  op.join( data_dir, \"DTI_b0_brain.nii.gz\")\n",
      "mrfname = op.join( data_dir, \"img/T1.nii\" )\n",
      "tfname = op.join( data_dir,'bbreg/dti2t1.dat')"
     ],
     "language": "python",
     "metadata": {},
     "outputs": [],
     "prompt_number": 6
    },
    {
     "cell_type": "code",
     "collapsed": false,
     "input": [
      "# Transform and inverse transform\n",
      "t1_to_b0_name = fsbt.transformVolume( mrfname, bfname, tfname )\n",
      "b0_to_t1_name = fsbt.transformVolume( mrfname, bfname, tfname, invert=True )"
     ],
     "language": "python",
     "metadata": {},
     "outputs": [
      {
       "output_type": "stream",
       "stream": "stderr",
       "text": [
        "/usr/local/lib/python2.7/dist-packages/nipy/io/files.py:137: FutureWarning: Default `strict` currently False; this will change to True in a future version of nipy\n",
        "  ni_img = nipy2nifti(img, data_dtype = io_dtype)\n"
       ]
      }
     ],
     "prompt_number": 23
    },
    {
     "cell_type": "markdown",
     "metadata": {},
     "source": [
      "<h1>Transform prior shapes to dMRI space</h1>\n",
      "The idea here is to resample the surfaces in dMRI space"
     ]
    },
    {
     "cell_type": "code",
     "collapsed": false,
     "input": [
      "data_dir = op.join( root_dir, 'SurfacesTest' )"
     ],
     "language": "python",
     "metadata": {},
     "outputs": [],
     "prompt_number": 4
    },
    {
     "cell_type": "code",
     "collapsed": false,
     "input": [
      "for surf in [ 'lh.white', 'rh.white', 'lh.pial', 'rh.pial' ]:\n",
      "    surf_path = op.join( root_dir, 'FREESURFER', 'OE0_T1', 'surf', surf )\n",
      "    outpath = op.join( data_dir, 'surf', 'init.%s.vtk' % surf )\n",
      "    outsurf = fsbt.transformSurface( surf_path, mrfname, bfname, tfname, outpath )"
     ],
     "language": "python",
     "metadata": {},
     "outputs": [],
     "prompt_number": 7
    },
    {
     "cell_type": "code",
     "collapsed": false,
     "input": [
      "seg_file = op.join( data_dir, 'img', 'aseg.nii.gz' )\n",
      "csf_labels = [ 4, 5, 43, 44, 14, 15, 72, 24 ]\n",
      "#csf_binarized = fsbt.CombineSegs( seg_file, csf_labels )\n",
      "\n",
      "wm_labels = [ 127, 255 ]"
     ],
     "language": "python",
     "metadata": {},
     "outputs": [],
     "prompt_number": 6
    },
    {
     "cell_type": "markdown",
     "metadata": {},
     "source": [
      "<h1>Generate CSF Surface</h1>\n",
      "This code generates the necessary csf surfaces. References:\n",
      "<ul>\n",
      "    <li>https://github.com/nipy/nipype/issues/307</li>\n",
      "    <li>https://mail.nmr.mgh.harvard.edu/pipermail//freesurfer/2011-November/021391.html</li>\n",
      "    <li>http://brainder.org/2012/05/08/importing-freesurfer-subcortical-structures-into-blender/</li>\n",
      "    <li>https://mail.nmr.mgh.harvard.edu/pipermail/freesurfer/2013-June/030586.html</li>\n",
      "</ul>   "
     ]
    },
    {
     "cell_type": "code",
     "collapsed": false,
     "input": [
      "import os\n",
      "import os.path as op\n",
      "import nipype.pipeline.engine as pe             # pypeline engine\n",
      "import pyacwereg.workflows.epi as epi\n",
      "from IPython.display import Image\n",
      "import pyacwereg.workflows.smri as smri\n",
      "data_dir = op.join( '/media/mnemea/', 'IXI_dataset' )\n",
      "work_dir = op.abspath( '/home/oesteban/tmp' )"
     ],
     "language": "python",
     "metadata": {},
     "outputs": [],
     "prompt_number": 1
    },
    {
     "cell_type": "code",
     "collapsed": false,
     "input": [
      "mm = smri.prepare_smri()\n",
      "mm.base_dir = work_dir\n",
      "mm.inputs.inputnode.subject_id = 'S400'\n",
      "mm.inputs.inputnode.data_dir = data_dir\n",
      "mm.run()"
     ],
     "language": "python",
     "metadata": {},
     "outputs": [
      {
       "output_type": "stream",
       "stream": "stderr",
       "text": [
        "INFO:workflow:['check', 'execution', 'logging']\n"
       ]
      },
      {
       "output_type": "stream",
       "stream": "stderr",
       "text": [
        "INFO:workflow:Running serially.\n"
       ]
      },
      {
       "output_type": "stream",
       "stream": "stderr",
       "text": [
        "INFO:workflow:Executing node FreesurferSource in dir: /home/oesteban/tmp/Prepare_sMRI/CSF_Surface/FreesurferSource\n"
       ]
      },
      {
       "output_type": "stream",
       "stream": "stderr",
       "text": [
        "INFO:workflow:Collecting precomputed outputs\n"
       ]
      },
      {
       "output_type": "stream",
       "stream": "stderr",
       "text": [
        "INFO:workflow:Executing node DataSource in dir: /home/oesteban/tmp/Prepare_sMRI/DataSource\n"
       ]
      },
      {
       "output_type": "stream",
       "stream": "stderr",
       "text": [
        "INFO:workflow:Executing node T2w_to_T1w in dir: /home/oesteban/tmp/Prepare_sMRI/T2w_to_T1w\n"
       ]
      },
      {
       "output_type": "stream",
       "stream": "stderr",
       "text": [
        "INFO:workflow:Collecting precomputed outputs\n"
       ]
      },
      {
       "output_type": "stream",
       "stream": "stderr",
       "text": [
        "INFO:workflow:Executing node T1toRAS in dir: /home/oesteban/tmp/Prepare_sMRI/T1toRAS\n"
       ]
      },
      {
       "output_type": "stream",
       "stream": "stderr",
       "text": [
        "INFO:workflow:Collecting precomputed outputs\n"
       ]
      },
      {
       "output_type": "stream",
       "stream": "stderr",
       "text": [
        "INFO:workflow:Executing node T2toRAS in dir: /home/oesteban/tmp/Prepare_sMRI/T2toRAS\n"
       ]
      },
      {
       "output_type": "stream",
       "stream": "stderr",
       "text": [
        "INFO:workflow:Collecting precomputed outputs\n"
       ]
      },
      {
       "output_type": "stream",
       "stream": "stderr",
       "text": [
        "INFO:workflow:Executing node toRAS in dir: /home/oesteban/tmp/Prepare_sMRI/CSF_Surface/toRAS\n"
       ]
      },
      {
       "output_type": "stream",
       "stream": "stderr",
       "text": [
        "INFO:workflow:Collecting precomputed outputs\n"
       ]
      },
      {
       "output_type": "stream",
       "stream": "stderr",
       "text": [
        "INFO:workflow:Executing node norm_to_native in dir: /home/oesteban/tmp/Prepare_sMRI/CSF_Surface/norm_to_native\n"
       ]
      },
      {
       "output_type": "stream",
       "stream": "stderr",
       "text": [
        "INFO:workflow:Collecting precomputed outputs\n"
       ]
      },
      {
       "output_type": "stream",
       "stream": "stderr",
       "text": [
        "INFO:workflow:Executing node aseg_to_native in dir: /home/oesteban/tmp/Prepare_sMRI/CSF_Surface/aseg_to_native\n"
       ]
      },
      {
       "output_type": "stream",
       "stream": "stderr",
       "text": [
        "INFO:workflow:Collecting precomputed outputs\n"
       ]
      },
      {
       "output_type": "stream",
       "stream": "stderr",
       "text": [
        "INFO:workflow:Executing node combine in dir: /home/oesteban/tmp/Prepare_sMRI/CSF_Surface/combine\n"
       ]
      },
      {
       "output_type": "stream",
       "stream": "stderr",
       "text": [
        "INFO:workflow:Collecting precomputed outputs\n"
       ]
      },
      {
       "output_type": "stream",
       "stream": "stderr",
       "text": [
        "INFO:workflow:Executing node convertmgz in dir: /home/oesteban/tmp/Prepare_sMRI/CSF_Surface/convertmgz\n"
       ]
      },
      {
       "output_type": "stream",
       "stream": "stderr",
       "text": [
        "INFO:workflow:Collecting precomputed outputs\n"
       ]
      },
      {
       "output_type": "stream",
       "stream": "stderr",
       "text": [
        "INFO:workflow:Executing node FSSource in dir: /home/oesteban/tmp/Prepare_sMRI/FSSource\n"
       ]
      },
      {
       "output_type": "stream",
       "stream": "stderr",
       "text": [
        "INFO:workflow:Collecting precomputed outputs\n"
       ]
      },
      {
       "output_type": "stream",
       "stream": "stderr",
       "text": [
        "INFO:workflow:Executing node norm_to_T1 in dir: /home/oesteban/tmp/Prepare_sMRI/norm_to_T1\n"
       ]
      },
      {
       "output_type": "stream",
       "stream": "stderr",
       "text": [
        "INFO:workflow:Collecting precomputed outputs\n"
       ]
      },
      {
       "output_type": "stream",
       "stream": "stderr",
       "text": [
        "INFO:workflow:Executing node T1brainToRAS in dir: /home/oesteban/tmp/Prepare_sMRI/T1brainToRAS\n"
       ]
      },
      {
       "output_type": "stream",
       "stream": "stderr",
       "text": [
        "INFO:workflow:Running: mri_convert --out_orientation RAS --out_type nii --input_volume /home/oesteban/tmp/Prepare_sMRI/norm_to_T1/norm_warped.mgz --output_volume /home/oesteban/tmp/Prepare_sMRI/T1brainToRAS/norm_warped_out.nii.gz\n"
       ]
      },
      {
       "output_type": "stream",
       "stream": "stderr",
       "text": [
        "INFO:interface:stdout 2014-03-11T15:09:10.761646:mri_convert --out_orientation RAS --out_type nii --input_volume /home/oesteban/tmp/Prepare_sMRI/norm_to_T1/norm_warped.mgz --output_volume /home/oesteban/tmp/Prepare_sMRI/T1brainToRAS/norm_warped_out.nii.gz \n"
       ]
      },
      {
       "output_type": "stream",
       "stream": "stderr",
       "text": [
        "INFO:interface:stdout 2014-03-11T15:09:13.270090:$Id: mri_convert.c,v 1.179.2.7 2012/09/05 21:55:16 mreuter Exp $\n"
       ]
      },
      {
       "output_type": "stream",
       "stream": "stderr",
       "text": [
        "INFO:interface:stdout 2014-03-11T15:09:13.270090:reading from /home/oesteban/tmp/Prepare_sMRI/norm_to_T1/norm_warped.mgz...\n"
       ]
      },
      {
       "output_type": "stream",
       "stream": "stderr",
       "text": [
        "INFO:interface:stdout 2014-03-11T15:09:13.270090:TR=0.00, TE=0.00, TI=0.00, flip angle=0.00\n"
       ]
      },
      {
       "output_type": "stream",
       "stream": "stderr",
       "text": [
        "INFO:interface:stdout 2014-03-11T15:09:13.270090:i_ras = (1, -1.39078e-08, -7.94729e-09)\n"
       ]
      },
      {
       "output_type": "stream",
       "stream": "stderr",
       "text": [
        "INFO:interface:stdout 2014-03-11T15:09:13.270090:j_ras = (-1.01328e-07, 1, 1.86265e-09)\n"
       ]
      },
      {
       "output_type": "stream",
       "stream": "stderr",
       "text": [
        "INFO:interface:stdout 2014-03-11T15:09:13.270090:k_ras = (4.96704e-08, -7.76101e-10, 1)\n"
       ]
      },
      {
       "output_type": "stream",
       "stream": "stderr",
       "text": [
        "INFO:interface:stdout 2014-03-11T15:09:13.270090:Setting output orientation to RAS\n"
       ]
      },
      {
       "output_type": "stream",
       "stream": "stderr",
       "text": [
        "INFO:interface:stdout 2014-03-11T15:09:13.270090:Reslicing using trilinear interpolation \n"
       ]
      },
      {
       "output_type": "stream",
       "stream": "stderr",
       "text": [
        "INFO:interface:stdout 2014-03-11T15:09:13.270090:writing to /home/oesteban/tmp/Prepare_sMRI/T1brainToRAS/norm_warped_out.nii.gz...\n"
       ]
      },
      {
       "output_type": "stream",
       "stream": "stderr",
       "text": [
        "INFO:workflow:Executing node T2_BET in dir: /home/oesteban/tmp/Prepare_sMRI/T2_BET\n"
       ]
      },
      {
       "output_type": "stream",
       "stream": "stderr",
       "text": [
        "INFO:workflow:Running: mri_mask /home/oesteban/tmp/Prepare_sMRI/T2toRAS/T2-Guys-0977_bbreg_out.nii.gz /home/oesteban/tmp/Prepare_sMRI/T1brainToRAS/norm_warped_out.nii.gz /home/oesteban/tmp/Prepare_sMRI/T2_BET/T2-Guys-0977_bbreg_out_masked.nii.gz\n"
       ]
      },
      {
       "output_type": "stream",
       "stream": "stderr",
       "text": [
        "INFO:interface:stdout 2014-03-11T15:09:17.870950:DoAbs = 0\n"
       ]
      },
      {
       "output_type": "stream",
       "stream": "stderr",
       "text": [
        "INFO:interface:stdout 2014-03-11T15:09:17.870950:Writing masked volume to /home/oesteban/tmp/Prepare_sMRI/T2_BET/T2-Guys-0977_bbreg_out_masked.nii.gz...done.\n"
       ]
      },
      {
       "output_type": "stream",
       "stream": "stderr",
       "text": [
        "INFO:workflow:Executing node T2_Bias in dir: /home/oesteban/tmp/Prepare_sMRI/T2_Bias\n"
       ]
      },
      {
       "output_type": "stream",
       "stream": "stderr",
       "text": [
        "INFO:workflow:Running: N4BiasFieldCorrection --image-dimension 3 --input-image /home/oesteban/tmp/Prepare_sMRI/T2_BET/T2-Guys-0977_bbreg_out_masked.nii.gz --output T2-Guys-0977_bbreg_out_masked_corrected.nii.gz\n"
       ]
      },
      {
       "output_type": "stream",
       "stream": "stderr",
       "text": [
        "INFO:interface:stdout 2014-03-11T15:09:17.935946:\n"
       ]
      },
      {
       "output_type": "stream",
       "stream": "stderr",
       "text": [
        "INFO:interface:stdout 2014-03-11T15:09:17.935946:Running N4 for 3-dimensional images.\n"
       ]
      },
      {
       "output_type": "stream",
       "stream": "stderr",
       "text": [
        "INFO:interface:stdout 2014-03-11T15:09:17.935946:\n"
       ]
      },
      {
       "output_type": "stream",
       "stream": "stderr",
       "text": [
        "INFO:interface:stdout 2014-03-11T15:09:18.216948:Mask not read.  Creating Otsu mask.\n"
       ]
      },
      {
       "output_type": "stream",
       "stream": "stderr",
       "text": [
        "INFO:interface:stdout 2014-03-11T15:09:18.791343:Current level = 1\n"
       ]
      },
      {
       "output_type": "stream",
       "stream": "stderr",
       "text": [
        "INFO:interface:stdout 2014-03-11T15:09:18.791343:  Iteration 1 (of 50).   Current convergence value = 0.000157918 (threshold = 1e-06)\n"
       ]
      },
      {
       "output_type": "stream",
       "stream": "stderr",
       "text": [
        "INFO:interface:stdout 2014-03-11T15:09:18.876039:  Iteration 2 (of 50).   Current convergence value = 0.000157245 (threshold = 1e-06)\n"
       ]
      },
      {
       "output_type": "stream",
       "stream": "stderr",
       "text": [
        "INFO:interface:stdout 2014-03-11T15:09:18.966324:  Iteration 3 (of 50).   Current convergence value = 0.000156743 (threshold = 1e-06)\n"
       ]
      },
      {
       "output_type": "stream",
       "stream": "stderr",
       "text": [
        "INFO:interface:stdout 2014-03-11T15:09:19.058810:  Iteration 4 (of 50).   Current convergence value = 0.000156224 (threshold = 1e-06)\n"
       ]
      },
      {
       "output_type": "stream",
       "stream": "stderr",
       "text": [
        "INFO:interface:stdout 2014-03-11T15:09:19.138547:  Iteration 5 (of 50).   Current convergence value = 0.000155653 (threshold = 1e-06)\n"
       ]
      },
      {
       "output_type": "stream",
       "stream": "stderr",
       "text": [
        "INFO:interface:stdout 2014-03-11T15:09:19.229666:  Iteration 6 (of 50).   Current convergence value = 0.000155009 (threshold = 1e-06)\n"
       ]
      },
      {
       "output_type": "stream",
       "stream": "stderr",
       "text": [
        "INFO:interface:stdout 2014-03-11T15:09:19.325520:  Iteration 7 (of 50).   Current convergence value = 0.000154564 (threshold = 1e-06)\n"
       ]
      },
      {
       "output_type": "stream",
       "stream": "stderr",
       "text": [
        "INFO:interface:stdout 2014-03-11T15:09:19.414081:  Iteration 8 (of 50).   Current convergence value = 0.000154099 (threshold = 1e-06)\n"
       ]
      },
      {
       "output_type": "stream",
       "stream": "stderr",
       "text": [
        "INFO:interface:stdout 2014-03-11T15:09:19.515876:  Iteration 9 (of 50).   Current convergence value = 0.000153503 (threshold = 1e-06)\n"
       ]
      },
      {
       "output_type": "stream",
       "stream": "stderr",
       "text": [
        "INFO:interface:stdout 2014-03-11T15:09:19.624301:  Iteration 10 (of 50).   Current convergence value = 0.000153001 (threshold = 1e-06)\n"
       ]
      },
      {
       "output_type": "stream",
       "stream": "stderr",
       "text": [
        "INFO:interface:stdout 2014-03-11T15:09:19.724405:  Iteration 11 (of 50).   Current convergence value = 0.000152609 (threshold = 1e-06)\n"
       ]
      },
      {
       "output_type": "stream",
       "stream": "stderr",
       "text": [
        "INFO:interface:stdout 2014-03-11T15:09:19.810584:  Iteration 12 (of 50).   Current convergence value = 0.000151906 (threshold = 1e-06)\n"
       ]
      },
      {
       "output_type": "stream",
       "stream": "stderr",
       "text": [
        "INFO:interface:stdout 2014-03-11T15:09:19.892215:  Iteration 13 (of 50).   Current convergence value = 0.000151463 (threshold = 1e-06)\n"
       ]
      },
      {
       "output_type": "stream",
       "stream": "stderr",
       "text": [
        "INFO:interface:stdout 2014-03-11T15:09:19.982538:  Iteration 14 (of 50).   Current convergence value = 0.000150812 (threshold = 1e-06)\n"
       ]
      },
      {
       "output_type": "stream",
       "stream": "stderr",
       "text": [
        "INFO:interface:stdout 2014-03-11T15:09:20.070599:  Iteration 15 (of 50).   Current convergence value = 0.000150497 (threshold = 1e-06)\n"
       ]
      },
      {
       "output_type": "stream",
       "stream": "stderr",
       "text": [
        "INFO:interface:stdout 2014-03-11T15:09:20.158275:  Iteration 16 (of 50).   Current convergence value = 0.000149776 (threshold = 1e-06)\n"
       ]
      },
      {
       "output_type": "stream",
       "stream": "stderr",
       "text": [
        "INFO:interface:stdout 2014-03-11T15:09:20.246993:  Iteration 17 (of 50).   Current convergence value = 0.000149178 (threshold = 1e-06)\n"
       ]
      },
      {
       "output_type": "stream",
       "stream": "stderr",
       "text": [
        "INFO:interface:stdout 2014-03-11T15:09:20.347661:  Iteration 18 (of 50).   Current convergence value = 0.000148727 (threshold = 1e-06)\n"
       ]
      },
      {
       "output_type": "stream",
       "stream": "stderr",
       "text": [
        "INFO:interface:stdout 2014-03-11T15:09:20.440195:  Iteration 19 (of 50).   Current convergence value = 0.000148076 (threshold = 1e-06)\n"
       ]
      },
      {
       "output_type": "stream",
       "stream": "stderr",
       "text": [
        "INFO:interface:stdout 2014-03-11T15:09:20.534523:  Iteration 20 (of 50).   Current convergence value = 0.000147736 (threshold = 1e-06)\n"
       ]
      },
      {
       "output_type": "stream",
       "stream": "stderr",
       "text": [
        "INFO:interface:stdout 2014-03-11T15:09:20.627548:  Iteration 21 (of 50).   Current convergence value = 0.000147241 (threshold = 1e-06)\n"
       ]
      },
      {
       "output_type": "stream",
       "stream": "stderr",
       "text": [
        "INFO:interface:stdout 2014-03-11T15:09:20.705308:  Iteration 22 (of 50).   Current convergence value = 0.000146336 (threshold = 1e-06)\n"
       ]
      },
      {
       "output_type": "stream",
       "stream": "stderr",
       "text": [
        "INFO:interface:stdout 2014-03-11T15:09:20.792662:  Iteration 23 (of 50).   Current convergence value = 0.000145939 (threshold = 1e-06)\n"
       ]
      },
      {
       "output_type": "stream",
       "stream": "stderr",
       "text": [
        "INFO:interface:stdout 2014-03-11T15:09:20.890614:  Iteration 24 (of 50).   Current convergence value = 0.000145165 (threshold = 1e-06)\n"
       ]
      },
      {
       "output_type": "stream",
       "stream": "stderr",
       "text": [
        "INFO:interface:stdout 2014-03-11T15:09:20.974118:  Iteration 25 (of 50).   Current convergence value = 0.000144694 (threshold = 1e-06)\n"
       ]
      },
      {
       "output_type": "stream",
       "stream": "stderr",
       "text": [
        "INFO:interface:stdout 2014-03-11T15:09:21.054465:  Iteration 26 (of 50).   Current convergence value = 0.000144202 (threshold = 1e-06)\n"
       ]
      },
      {
       "output_type": "stream",
       "stream": "stderr",
       "text": [
        "INFO:interface:stdout 2014-03-11T15:09:21.133010:  Iteration 27 (of 50).   Current convergence value = 0.00014366 (threshold = 1e-06)\n"
       ]
      },
      {
       "output_type": "stream",
       "stream": "stderr",
       "text": [
        "INFO:interface:stdout 2014-03-11T15:09:21.231090:  Iteration 28 (of 50).   Current convergence value = 0.00014321 (threshold = 1e-06)\n"
       ]
      },
      {
       "output_type": "stream",
       "stream": "stderr",
       "text": [
        "INFO:interface:stdout 2014-03-11T15:09:21.324749:  Iteration 29 (of 50).   Current convergence value = 0.000142716 (threshold = 1e-06)\n"
       ]
      },
      {
       "output_type": "stream",
       "stream": "stderr",
       "text": [
        "INFO:interface:stdout 2014-03-11T15:09:21.417584:  Iteration 30 (of 50).   Current convergence value = 0.000142404 (threshold = 1e-06)\n"
       ]
      },
      {
       "output_type": "stream",
       "stream": "stderr",
       "text": [
        "INFO:interface:stdout 2014-03-11T15:09:21.503254:  Iteration 31 (of 50).   Current convergence value = 0.000141818 (threshold = 1e-06)\n"
       ]
      },
      {
       "output_type": "stream",
       "stream": "stderr",
       "text": [
        "INFO:interface:stdout 2014-03-11T15:09:21.593149:  Iteration 32 (of 50).   Current convergence value = 0.000141291 (threshold = 1e-06)\n"
       ]
      },
      {
       "output_type": "stream",
       "stream": "stderr",
       "text": [
        "INFO:interface:stdout 2014-03-11T15:09:21.681490:  Iteration 33 (of 50).   Current convergence value = 0.000140661 (threshold = 1e-06)\n"
       ]
      },
      {
       "output_type": "stream",
       "stream": "stderr",
       "text": [
        "INFO:interface:stdout 2014-03-11T15:09:21.777259:  Iteration 34 (of 50).   Current convergence value = 0.000139977 (threshold = 1e-06)\n"
       ]
      },
      {
       "output_type": "stream",
       "stream": "stderr",
       "text": [
        "INFO:interface:stdout 2014-03-11T15:09:21.862170:  Iteration 35 (of 50).   Current convergence value = 0.000139742 (threshold = 1e-06)\n"
       ]
      },
      {
       "output_type": "stream",
       "stream": "stderr",
       "text": [
        "INFO:interface:stdout 2014-03-11T15:09:21.946011:  Iteration 36 (of 50).   Current convergence value = 0.000139162 (threshold = 1e-06)\n"
       ]
      },
      {
       "output_type": "stream",
       "stream": "stderr",
       "text": [
        "INFO:interface:stdout 2014-03-11T15:09:22.044105:  Iteration 37 (of 50).   Current convergence value = 0.000138611 (threshold = 1e-06)\n"
       ]
      },
      {
       "output_type": "stream",
       "stream": "stderr",
       "text": [
        "INFO:interface:stdout 2014-03-11T15:09:22.121239:  Iteration 38 (of 50).   Current convergence value = 0.000138076 (threshold = 1e-06)\n"
       ]
      },
      {
       "output_type": "stream",
       "stream": "stderr",
       "text": [
        "INFO:interface:stdout 2014-03-11T15:09:22.214396:  Iteration 39 (of 50).   Current convergence value = 0.000137588 (threshold = 1e-06)\n"
       ]
      },
      {
       "output_type": "stream",
       "stream": "stderr",
       "text": [
        "INFO:interface:stdout 2014-03-11T15:09:22.300763:  Iteration 40 (of 50).   Current convergence value = 0.000137145 (threshold = 1e-06)\n"
       ]
      },
      {
       "output_type": "stream",
       "stream": "stderr",
       "text": [
        "INFO:interface:stdout 2014-03-11T15:09:22.384563:  Iteration 41 (of 50).   Current convergence value = 0.000136671 (threshold = 1e-06)\n"
       ]
      },
      {
       "output_type": "stream",
       "stream": "stderr",
       "text": [
        "INFO:interface:stdout 2014-03-11T15:09:22.476216:  Iteration 42 (of 50).   Current convergence value = 0.000136274 (threshold = 1e-06)\n"
       ]
      },
      {
       "output_type": "stream",
       "stream": "stderr",
       "text": [
        "INFO:interface:stdout 2014-03-11T15:09:22.571037:  Iteration 43 (of 50).   Current convergence value = 0.000135858 (threshold = 1e-06)\n"
       ]
      },
      {
       "output_type": "stream",
       "stream": "stderr",
       "text": [
        "INFO:interface:stdout 2014-03-11T15:09:22.661764:  Iteration 44 (of 50).   Current convergence value = 0.000135334 (threshold = 1e-06)\n"
       ]
      },
      {
       "output_type": "stream",
       "stream": "stderr",
       "text": [
        "INFO:interface:stdout 2014-03-11T15:09:22.747525:  Iteration 45 (of 50).   Current convergence value = 0.000134775 (threshold = 1e-06)\n"
       ]
      },
      {
       "output_type": "stream",
       "stream": "stderr",
       "text": [
        "INFO:interface:stdout 2014-03-11T15:09:22.840055:  Iteration 46 (of 50).   Current convergence value = 0.000134365 (threshold = 1e-06)\n"
       ]
      },
      {
       "output_type": "stream",
       "stream": "stderr",
       "text": [
        "INFO:interface:stdout 2014-03-11T15:09:22.935005:  Iteration 47 (of 50).   Current convergence value = 0.000133903 (threshold = 1e-06)\n"
       ]
      },
      {
       "output_type": "stream",
       "stream": "stderr",
       "text": [
        "INFO:interface:stdout 2014-03-11T15:09:23.017349:  Iteration 48 (of 50).   Current convergence value = 0.000133393 (threshold = 1e-06)\n"
       ]
      },
      {
       "output_type": "stream",
       "stream": "stderr",
       "text": [
        "INFO:interface:stdout 2014-03-11T15:09:23.106251:  Iteration 49 (of 50).   Current convergence value = 0.000132906 (threshold = 1e-06)\n"
       ]
      },
      {
       "output_type": "stream",
       "stream": "stderr",
       "text": [
        "INFO:interface:stdout 2014-03-11T15:09:23.202745:  Iteration 50 (of 50).   Current convergence value = 0.00013249 (threshold = 1e-06)\n"
       ]
      },
      {
       "output_type": "stream",
       "stream": "stderr",
       "text": [
        "INFO:interface:stdout 2014-03-11T15:09:23.303394:Current level = 2\n"
       ]
      },
      {
       "output_type": "stream",
       "stream": "stderr",
       "text": [
        "INFO:interface:stdout 2014-03-11T15:09:23.303394:  Iteration 1 (of 50).   Current convergence value = 0.000227842 (threshold = 1e-06)\n"
       ]
      },
      {
       "output_type": "stream",
       "stream": "stderr",
       "text": [
        "INFO:interface:stdout 2014-03-11T15:09:23.384998:  Iteration 2 (of 50).   Current convergence value = 0.000226758 (threshold = 1e-06)\n"
       ]
      },
      {
       "output_type": "stream",
       "stream": "stderr",
       "text": [
        "INFO:interface:stdout 2014-03-11T15:09:23.472691:  Iteration 3 (of 50).   Current convergence value = 0.000225639 (threshold = 1e-06)\n"
       ]
      },
      {
       "output_type": "stream",
       "stream": "stderr",
       "text": [
        "INFO:interface:stdout 2014-03-11T15:09:23.560767:  Iteration 4 (of 50).   Current convergence value = 0.0002245 (threshold = 1e-06)\n"
       ]
      },
      {
       "output_type": "stream",
       "stream": "stderr",
       "text": [
        "INFO:interface:stdout 2014-03-11T15:09:23.642574:  Iteration 5 (of 50).   Current convergence value = 0.000223391 (threshold = 1e-06)\n"
       ]
      },
      {
       "output_type": "stream",
       "stream": "stderr",
       "text": [
        "INFO:interface:stdout 2014-03-11T15:09:23.733733:  Iteration 6 (of 50).   Current convergence value = 0.000222273 (threshold = 1e-06)\n"
       ]
      },
      {
       "output_type": "stream",
       "stream": "stderr",
       "text": [
        "INFO:interface:stdout 2014-03-11T15:09:23.840147:  Iteration 7 (of 50).   Current convergence value = 0.000221113 (threshold = 1e-06)\n"
       ]
      },
      {
       "output_type": "stream",
       "stream": "stderr",
       "text": [
        "INFO:interface:stdout 2014-03-11T15:09:23.920798:  Iteration 8 (of 50).   Current convergence value = 0.000220244 (threshold = 1e-06)\n"
       ]
      },
      {
       "output_type": "stream",
       "stream": "stderr",
       "text": [
        "INFO:interface:stdout 2014-03-11T15:09:24.019998:  Iteration 9 (of 50).   Current convergence value = 0.000219057 (threshold = 1e-06)\n"
       ]
      },
      {
       "output_type": "stream",
       "stream": "stderr",
       "text": [
        "INFO:interface:stdout 2014-03-11T15:09:24.109029:  Iteration 10 (of 50).   Current convergence value = 0.000218026 (threshold = 1e-06)\n"
       ]
      },
      {
       "output_type": "stream",
       "stream": "stderr",
       "text": [
        "INFO:interface:stdout 2014-03-11T15:09:24.192632:  Iteration 11 (of 50).   Current convergence value = 0.000216827 (threshold = 1e-06)\n"
       ]
      },
      {
       "output_type": "stream",
       "stream": "stderr",
       "text": [
        "INFO:interface:stdout 2014-03-11T15:09:24.288201:  Iteration 12 (of 50).   Current convergence value = 0.000215621 (threshold = 1e-06)\n"
       ]
      },
      {
       "output_type": "stream",
       "stream": "stderr",
       "text": [
        "INFO:interface:stdout 2014-03-11T15:09:24.378014:  Iteration 13 (of 50).   Current convergence value = 0.000214635 (threshold = 1e-06)\n"
       ]
      },
      {
       "output_type": "stream",
       "stream": "stderr",
       "text": [
        "INFO:interface:stdout 2014-03-11T15:09:24.468366:  Iteration 14 (of 50).   Current convergence value = 0.000213558 (threshold = 1e-06)\n"
       ]
      },
      {
       "output_type": "stream",
       "stream": "stderr",
       "text": [
        "INFO:interface:stdout 2014-03-11T15:09:24.569033:  Iteration 15 (of 50).   Current convergence value = 0.000212564 (threshold = 1e-06)\n"
       ]
      },
      {
       "output_type": "stream",
       "stream": "stderr",
       "text": [
        "INFO:interface:stdout 2014-03-11T15:09:24.649864:  Iteration 16 (of 50).   Current convergence value = 0.000211219 (threshold = 1e-06)\n"
       ]
      },
      {
       "output_type": "stream",
       "stream": "stderr",
       "text": [
        "INFO:interface:stdout 2014-03-11T15:09:24.739111:  Iteration 17 (of 50).   Current convergence value = 0.000210303 (threshold = 1e-06)\n"
       ]
      },
      {
       "output_type": "stream",
       "stream": "stderr",
       "text": [
        "INFO:interface:stdout 2014-03-11T15:09:24.836345:  Iteration 18 (of 50).   Current convergence value = 0.000209269 (threshold = 1e-06)\n"
       ]
      },
      {
       "output_type": "stream",
       "stream": "stderr",
       "text": [
        "INFO:interface:stdout 2014-03-11T15:09:24.930645:  Iteration 19 (of 50).   Current convergence value = 0.000208084 (threshold = 1e-06)\n"
       ]
      },
      {
       "output_type": "stream",
       "stream": "stderr",
       "text": [
        "INFO:interface:stdout 2014-03-11T15:09:25.035140:  Iteration 20 (of 50).   Current convergence value = 0.000207008 (threshold = 1e-06)\n"
       ]
      },
      {
       "output_type": "stream",
       "stream": "stderr",
       "text": [
        "INFO:interface:stdout 2014-03-11T15:09:25.134293:  Iteration 21 (of 50).   Current convergence value = 0.000206187 (threshold = 1e-06)\n"
       ]
      },
      {
       "output_type": "stream",
       "stream": "stderr",
       "text": [
        "INFO:interface:stdout 2014-03-11T15:09:25.235404:  Iteration 22 (of 50).   Current convergence value = 0.000205293 (threshold = 1e-06)\n"
       ]
      },
      {
       "output_type": "stream",
       "stream": "stderr",
       "text": [
        "INFO:interface:stdout 2014-03-11T15:09:25.335604:  Iteration 23 (of 50).   Current convergence value = 0.000204348 (threshold = 1e-06)\n"
       ]
      },
      {
       "output_type": "stream",
       "stream": "stderr",
       "text": [
        "INFO:interface:stdout 2014-03-11T15:09:25.432080:  Iteration 24 (of 50).   Current convergence value = 0.000203127 (threshold = 1e-06)\n"
       ]
      },
      {
       "output_type": "stream",
       "stream": "stderr",
       "text": [
        "INFO:interface:stdout 2014-03-11T15:09:25.512548:  Iteration 25 (of 50).   Current convergence value = 0.000202161 (threshold = 1e-06)\n"
       ]
      },
      {
       "output_type": "stream",
       "stream": "stderr",
       "text": [
        "INFO:interface:stdout 2014-03-11T15:09:25.605689:  Iteration 26 (of 50).   Current convergence value = 0.000201127 (threshold = 1e-06)\n"
       ]
      },
      {
       "output_type": "stream",
       "stream": "stderr",
       "text": [
        "INFO:interface:stdout 2014-03-11T15:09:25.710019:  Iteration 27 (of 50).   Current convergence value = 0.00020013 (threshold = 1e-06)\n"
       ]
      },
      {
       "output_type": "stream",
       "stream": "stderr",
       "text": [
        "INFO:interface:stdout 2014-03-11T15:09:25.789877:  Iteration 28 (of 50).   Current convergence value = 0.00019921 (threshold = 1e-06)\n"
       ]
      },
      {
       "output_type": "stream",
       "stream": "stderr",
       "text": [
        "INFO:interface:stdout 2014-03-11T15:09:25.882122:  Iteration 29 (of 50).   Current convergence value = 0.000198216 (threshold = 1e-06)\n"
       ]
      },
      {
       "output_type": "stream",
       "stream": "stderr",
       "text": [
        "INFO:interface:stdout 2014-03-11T15:09:25.973199:  Iteration 30 (of 50).   Current convergence value = 0.000197298 (threshold = 1e-06)\n"
       ]
      },
      {
       "output_type": "stream",
       "stream": "stderr",
       "text": [
        "INFO:interface:stdout 2014-03-11T15:09:26.067399:  Iteration 31 (of 50).   Current convergence value = 0.000196525 (threshold = 1e-06)\n"
       ]
      },
      {
       "output_type": "stream",
       "stream": "stderr",
       "text": [
        "INFO:interface:stdout 2014-03-11T15:09:26.161037:  Iteration 32 (of 50).   Current convergence value = 0.000195464 (threshold = 1e-06)\n"
       ]
      },
      {
       "output_type": "stream",
       "stream": "stderr",
       "text": [
        "INFO:interface:stdout 2014-03-11T15:09:26.261011:  Iteration 33 (of 50).   Current convergence value = 0.000194452 (threshold = 1e-06)\n"
       ]
      },
      {
       "output_type": "stream",
       "stream": "stderr",
       "text": [
        "INFO:interface:stdout 2014-03-11T15:09:26.356168:  Iteration 34 (of 50).   Current convergence value = 0.000193719 (threshold = 1e-06)\n"
       ]
      },
      {
       "output_type": "stream",
       "stream": "stderr",
       "text": [
        "INFO:interface:stdout 2014-03-11T15:09:26.441822:  Iteration 35 (of 50).   Current convergence value = 0.000192613 (threshold = 1e-06)\n"
       ]
      },
      {
       "output_type": "stream",
       "stream": "stderr",
       "text": [
        "INFO:interface:stdout 2014-03-11T15:09:26.530212:  Iteration 36 (of 50).   Current convergence value = 0.000191934 (threshold = 1e-06)\n"
       ]
      },
      {
       "output_type": "stream",
       "stream": "stderr",
       "text": [
        "INFO:interface:stdout 2014-03-11T15:09:26.624241:  Iteration 37 (of 50).   Current convergence value = 0.000190909 (threshold = 1e-06)\n"
       ]
      },
      {
       "output_type": "stream",
       "stream": "stderr",
       "text": [
        "INFO:interface:stdout 2014-03-11T15:09:26.711687:  Iteration 38 (of 50).   Current convergence value = 0.000189838 (threshold = 1e-06)\n"
       ]
      },
      {
       "output_type": "stream",
       "stream": "stderr",
       "text": [
        "INFO:interface:stdout 2014-03-11T15:09:26.815425:  Iteration 39 (of 50).   Current convergence value = 0.000188998 (threshold = 1e-06)\n"
       ]
      },
      {
       "output_type": "stream",
       "stream": "stderr",
       "text": [
        "INFO:interface:stdout 2014-03-11T15:09:26.903984:  Iteration 40 (of 50).   Current convergence value = 0.000188312 (threshold = 1e-06)\n"
       ]
      },
      {
       "output_type": "stream",
       "stream": "stderr",
       "text": [
        "INFO:interface:stdout 2014-03-11T15:09:26.995110:  Iteration 41 (of 50).   Current convergence value = 0.000187671 (threshold = 1e-06)\n"
       ]
      },
      {
       "output_type": "stream",
       "stream": "stderr",
       "text": [
        "INFO:interface:stdout 2014-03-11T15:09:27.086855:  Iteration 42 (of 50).   Current convergence value = 0.000186192 (threshold = 1e-06)\n"
       ]
      },
      {
       "output_type": "stream",
       "stream": "stderr",
       "text": [
        "INFO:interface:stdout 2014-03-11T15:09:27.177757:  Iteration 43 (of 50).   Current convergence value = 0.00018516 (threshold = 1e-06)\n"
       ]
      },
      {
       "output_type": "stream",
       "stream": "stderr",
       "text": [
        "INFO:interface:stdout 2014-03-11T15:09:27.270164:  Iteration 44 (of 50).   Current convergence value = 0.000184303 (threshold = 1e-06)\n"
       ]
      },
      {
       "output_type": "stream",
       "stream": "stderr",
       "text": [
        "INFO:interface:stdout 2014-03-11T15:09:27.362026:  Iteration 45 (of 50).   Current convergence value = 0.000183571 (threshold = 1e-06)\n"
       ]
      },
      {
       "output_type": "stream",
       "stream": "stderr",
       "text": [
        "INFO:interface:stdout 2014-03-11T15:09:27.448558:  Iteration 46 (of 50).   Current convergence value = 0.00018253 (threshold = 1e-06)\n"
       ]
      },
      {
       "output_type": "stream",
       "stream": "stderr",
       "text": [
        "INFO:interface:stdout 2014-03-11T15:09:27.532398:  Iteration 47 (of 50).   Current convergence value = 0.000181747 (threshold = 1e-06)\n"
       ]
      },
      {
       "output_type": "stream",
       "stream": "stderr",
       "text": [
        "INFO:interface:stdout 2014-03-11T15:09:27.629547:  Iteration 48 (of 50).   Current convergence value = 0.000180891 (threshold = 1e-06)\n"
       ]
      },
      {
       "output_type": "stream",
       "stream": "stderr",
       "text": [
        "INFO:interface:stdout 2014-03-11T15:09:27.721397:  Iteration 49 (of 50).   Current convergence value = 0.000179812 (threshold = 1e-06)\n"
       ]
      },
      {
       "output_type": "stream",
       "stream": "stderr",
       "text": [
        "INFO:interface:stdout 2014-03-11T15:09:27.826190:  Iteration 50 (of 50).   Current convergence value = 0.000178716 (threshold = 1e-06)\n"
       ]
      },
      {
       "output_type": "stream",
       "stream": "stderr",
       "text": [
        "INFO:interface:stdout 2014-03-11T15:09:27.939652:Current level = 3\n"
       ]
      },
      {
       "output_type": "stream",
       "stream": "stderr",
       "text": [
        "INFO:interface:stdout 2014-03-11T15:09:27.939652:  Iteration 1 (of 50).   Current convergence value = 0.000553781 (threshold = 1e-06)\n"
       ]
      },
      {
       "output_type": "stream",
       "stream": "stderr",
       "text": [
        "INFO:interface:stdout 2014-03-11T15:09:28.038204:  Iteration 2 (of 50).   Current convergence value = 0.000544247 (threshold = 1e-06)\n"
       ]
      },
      {
       "output_type": "stream",
       "stream": "stderr",
       "text": [
        "INFO:interface:stdout 2014-03-11T15:09:28.129405:  Iteration 3 (of 50).   Current convergence value = 0.000535198 (threshold = 1e-06)\n"
       ]
      },
      {
       "output_type": "stream",
       "stream": "stderr",
       "text": [
        "INFO:interface:stdout 2014-03-11T15:09:28.214471:  Iteration 4 (of 50).   Current convergence value = 0.00052646 (threshold = 1e-06)\n"
       ]
      },
      {
       "output_type": "stream",
       "stream": "stderr",
       "text": [
        "INFO:interface:stdout 2014-03-11T15:09:28.301994:  Iteration 5 (of 50).   Current convergence value = 0.000517747 (threshold = 1e-06)\n"
       ]
      },
      {
       "output_type": "stream",
       "stream": "stderr",
       "text": [
        "INFO:interface:stdout 2014-03-11T15:09:28.399006:  Iteration 6 (of 50).   Current convergence value = 0.00050912 (threshold = 1e-06)\n"
       ]
      },
      {
       "output_type": "stream",
       "stream": "stderr",
       "text": [
        "INFO:interface:stdout 2014-03-11T15:09:28.492042:  Iteration 7 (of 50).   Current convergence value = 0.000500531 (threshold = 1e-06)\n"
       ]
      },
      {
       "output_type": "stream",
       "stream": "stderr",
       "text": [
        "INFO:interface:stdout 2014-03-11T15:09:28.578315:  Iteration 8 (of 50).   Current convergence value = 0.000492199 (threshold = 1e-06)\n"
       ]
      },
      {
       "output_type": "stream",
       "stream": "stderr",
       "text": [
        "INFO:interface:stdout 2014-03-11T15:09:28.664672:  Iteration 9 (of 50).   Current convergence value = 0.000483855 (threshold = 1e-06)\n"
       ]
      },
      {
       "output_type": "stream",
       "stream": "stderr",
       "text": [
        "INFO:interface:stdout 2014-03-11T15:09:28.763534:  Iteration 10 (of 50).   Current convergence value = 0.000475557 (threshold = 1e-06)\n"
       ]
      },
      {
       "output_type": "stream",
       "stream": "stderr",
       "text": [
        "INFO:interface:stdout 2014-03-11T15:09:28.857404:  Iteration 11 (of 50).   Current convergence value = 0.000467446 (threshold = 1e-06)\n"
       ]
      },
      {
       "output_type": "stream",
       "stream": "stderr",
       "text": [
        "INFO:interface:stdout 2014-03-11T15:09:28.956668:  Iteration 12 (of 50).   Current convergence value = 0.000459849 (threshold = 1e-06)\n"
       ]
      },
      {
       "output_type": "stream",
       "stream": "stderr",
       "text": [
        "INFO:interface:stdout 2014-03-11T15:09:29.056498:  Iteration 13 (of 50).   Current convergence value = 0.00045218 (threshold = 1e-06)\n"
       ]
      },
      {
       "output_type": "stream",
       "stream": "stderr",
       "text": [
        "INFO:interface:stdout 2014-03-11T15:09:29.138973:  Iteration 14 (of 50).   Current convergence value = 0.000444374 (threshold = 1e-06)\n"
       ]
      },
      {
       "output_type": "stream",
       "stream": "stderr",
       "text": [
        "INFO:interface:stdout 2014-03-11T15:09:29.236749:  Iteration 15 (of 50).   Current convergence value = 0.000436914 (threshold = 1e-06)\n"
       ]
      },
      {
       "output_type": "stream",
       "stream": "stderr",
       "text": [
        "INFO:interface:stdout 2014-03-11T15:09:29.345425:  Iteration 16 (of 50).   Current convergence value = 0.000429945 (threshold = 1e-06)\n"
       ]
      },
      {
       "output_type": "stream",
       "stream": "stderr",
       "text": [
        "INFO:interface:stdout 2014-03-11T15:09:29.433889:  Iteration 17 (of 50).   Current convergence value = 0.000422861 (threshold = 1e-06)\n"
       ]
      },
      {
       "output_type": "stream",
       "stream": "stderr",
       "text": [
        "INFO:interface:stdout 2014-03-11T15:09:29.538460:  Iteration 18 (of 50).   Current convergence value = 0.000415701 (threshold = 1e-06)\n"
       ]
      },
      {
       "output_type": "stream",
       "stream": "stderr",
       "text": [
        "INFO:interface:stdout 2014-03-11T15:09:29.626070:  Iteration 19 (of 50).   Current convergence value = 0.000408689 (threshold = 1e-06)\n"
       ]
      },
      {
       "output_type": "stream",
       "stream": "stderr",
       "text": [
        "INFO:interface:stdout 2014-03-11T15:09:29.719176:  Iteration 20 (of 50).   Current convergence value = 0.000401893 (threshold = 1e-06)\n"
       ]
      },
      {
       "output_type": "stream",
       "stream": "stderr",
       "text": [
        "INFO:interface:stdout 2014-03-11T15:09:29.805613:  Iteration 21 (of 50).   Current convergence value = 0.00039546 (threshold = 1e-06)\n"
       ]
      },
      {
       "output_type": "stream",
       "stream": "stderr",
       "text": [
        "INFO:interface:stdout 2014-03-11T15:09:29.909583:  Iteration 22 (of 50).   Current convergence value = 0.000388868 (threshold = 1e-06)\n"
       ]
      },
      {
       "output_type": "stream",
       "stream": "stderr",
       "text": [
        "INFO:interface:stdout 2014-03-11T15:09:30.004361:  Iteration 23 (of 50).   Current convergence value = 0.000382369 (threshold = 1e-06)\n"
       ]
      },
      {
       "output_type": "stream",
       "stream": "stderr",
       "text": [
        "INFO:interface:stdout 2014-03-11T15:09:30.103190:  Iteration 24 (of 50).   Current convergence value = 0.000376337 (threshold = 1e-06)\n"
       ]
      },
      {
       "output_type": "stream",
       "stream": "stderr",
       "text": [
        "INFO:interface:stdout 2014-03-11T15:09:30.204211:  Iteration 25 (of 50).   Current convergence value = 0.000370361 (threshold = 1e-06)\n"
       ]
      },
      {
       "output_type": "stream",
       "stream": "stderr",
       "text": [
        "INFO:interface:stdout 2014-03-11T15:09:30.290629:  Iteration 26 (of 50).   Current convergence value = 0.000364889 (threshold = 1e-06)\n"
       ]
      },
      {
       "output_type": "stream",
       "stream": "stderr",
       "text": [
        "INFO:interface:stdout 2014-03-11T15:09:30.374376:  Iteration 27 (of 50).   Current convergence value = 0.000358645 (threshold = 1e-06)\n"
       ]
      },
      {
       "output_type": "stream",
       "stream": "stderr",
       "text": [
        "INFO:interface:stdout 2014-03-11T15:09:30.467786:  Iteration 28 (of 50).   Current convergence value = 0.000352862 (threshold = 1e-06)\n"
       ]
      },
      {
       "output_type": "stream",
       "stream": "stderr",
       "text": [
        "INFO:interface:stdout 2014-03-11T15:09:30.552439:  Iteration 29 (of 50).   Current convergence value = 0.000347038 (threshold = 1e-06)\n"
       ]
      },
      {
       "output_type": "stream",
       "stream": "stderr",
       "text": [
        "INFO:interface:stdout 2014-03-11T15:09:30.644344:  Iteration 30 (of 50).   Current convergence value = 0.000341431 (threshold = 1e-06)\n"
       ]
      },
      {
       "output_type": "stream",
       "stream": "stderr",
       "text": [
        "INFO:interface:stdout 2014-03-11T15:09:30.746753:  Iteration 31 (of 50).   Current convergence value = 0.000335996 (threshold = 1e-06)\n"
       ]
      },
      {
       "output_type": "stream",
       "stream": "stderr",
       "text": [
        "INFO:interface:stdout 2014-03-11T15:09:30.847557:  Iteration 32 (of 50).   Current convergence value = 0.000330435 (threshold = 1e-06)\n"
       ]
      },
      {
       "output_type": "stream",
       "stream": "stderr",
       "text": [
        "INFO:interface:stdout 2014-03-11T15:09:30.934546:  Iteration 33 (of 50).   Current convergence value = 0.000325282 (threshold = 1e-06)\n"
       ]
      },
      {
       "output_type": "stream",
       "stream": "stderr",
       "text": [
        "INFO:interface:stdout 2014-03-11T15:09:31.035612:  Iteration 34 (of 50).   Current convergence value = 0.00032017 (threshold = 1e-06)\n"
       ]
      },
      {
       "output_type": "stream",
       "stream": "stderr",
       "text": [
        "INFO:interface:stdout 2014-03-11T15:09:31.131449:  Iteration 35 (of 50).   Current convergence value = 0.000315049 (threshold = 1e-06)\n"
       ]
      },
      {
       "output_type": "stream",
       "stream": "stderr",
       "text": [
        "INFO:interface:stdout 2014-03-11T15:09:31.222637:  Iteration 36 (of 50).   Current convergence value = 0.000309546 (threshold = 1e-06)\n"
       ]
      },
      {
       "output_type": "stream",
       "stream": "stderr",
       "text": [
        "INFO:interface:stdout 2014-03-11T15:09:31.306940:  Iteration 37 (of 50).   Current convergence value = 0.000304985 (threshold = 1e-06)\n"
       ]
      },
      {
       "output_type": "stream",
       "stream": "stderr",
       "text": [
        "INFO:interface:stdout 2014-03-11T15:09:31.408793:  Iteration 38 (of 50).   Current convergence value = 0.000299767 (threshold = 1e-06)\n"
       ]
      },
      {
       "output_type": "stream",
       "stream": "stderr",
       "text": [
        "INFO:interface:stdout 2014-03-11T15:09:31.498821:  Iteration 39 (of 50).   Current convergence value = 0.0002949 (threshold = 1e-06)\n"
       ]
      },
      {
       "output_type": "stream",
       "stream": "stderr",
       "text": [
        "INFO:interface:stdout 2014-03-11T15:09:31.590141:  Iteration 40 (of 50).   Current convergence value = 0.000290079 (threshold = 1e-06)\n"
       ]
      },
      {
       "output_type": "stream",
       "stream": "stderr",
       "text": [
        "INFO:interface:stdout 2014-03-11T15:09:31.687548:  Iteration 41 (of 50).   Current convergence value = 0.000285373 (threshold = 1e-06)\n"
       ]
      },
      {
       "output_type": "stream",
       "stream": "stderr",
       "text": [
        "INFO:interface:stdout 2014-03-11T15:09:31.787091:  Iteration 42 (of 50).   Current convergence value = 0.000280785 (threshold = 1e-06)\n"
       ]
      },
      {
       "output_type": "stream",
       "stream": "stderr",
       "text": [
        "INFO:interface:stdout 2014-03-11T15:09:31.877263:  Iteration 43 (of 50).   Current convergence value = 0.000276262 (threshold = 1e-06)\n"
       ]
      },
      {
       "output_type": "stream",
       "stream": "stderr",
       "text": [
        "INFO:interface:stdout 2014-03-11T15:09:31.980197:  Iteration 44 (of 50).   Current convergence value = 0.00027171 (threshold = 1e-06)\n"
       ]
      },
      {
       "output_type": "stream",
       "stream": "stderr",
       "text": [
        "INFO:interface:stdout 2014-03-11T15:09:32.071220:  Iteration 45 (of 50).   Current convergence value = 0.000267936 (threshold = 1e-06)\n"
       ]
      },
      {
       "output_type": "stream",
       "stream": "stderr",
       "text": [
        "INFO:interface:stdout 2014-03-11T15:09:32.161205:  Iteration 46 (of 50).   Current convergence value = 0.000263808 (threshold = 1e-06)\n"
       ]
      },
      {
       "output_type": "stream",
       "stream": "stderr",
       "text": [
        "INFO:interface:stdout 2014-03-11T15:09:32.248365:  Iteration 47 (of 50).   Current convergence value = 0.000259666 (threshold = 1e-06)\n"
       ]
      },
      {
       "output_type": "stream",
       "stream": "stderr",
       "text": [
        "INFO:interface:stdout 2014-03-11T15:09:32.333149:  Iteration 48 (of 50).   Current convergence value = 0.000255436 (threshold = 1e-06)\n"
       ]
      },
      {
       "output_type": "stream",
       "stream": "stderr",
       "text": [
        "INFO:interface:stdout 2014-03-11T15:09:32.433156:  Iteration 49 (of 50).   Current convergence value = 0.000251446 (threshold = 1e-06)\n"
       ]
      },
      {
       "output_type": "stream",
       "stream": "stderr",
       "text": [
        "INFO:interface:stdout 2014-03-11T15:09:32.525367:  Iteration 50 (of 50).   Current convergence value = 0.000247548 (threshold = 1e-06)\n"
       ]
      },
      {
       "output_type": "stream",
       "stream": "stderr",
       "text": [
        "INFO:interface:stdout 2014-03-11T15:09:32.647011:Current level = 4\n"
       ]
      },
      {
       "output_type": "stream",
       "stream": "stderr",
       "text": [
        "INFO:interface:stdout 2014-03-11T15:09:32.647011:  Iteration 1 (of 50).   Current convergence value = 0.00121844 (threshold = 1e-06)\n"
       ]
      },
      {
       "output_type": "stream",
       "stream": "stderr",
       "text": [
        "INFO:interface:stdout 2014-03-11T15:09:32.742369:  Iteration 2 (of 50).   Current convergence value = 0.00117104 (threshold = 1e-06)\n"
       ]
      },
      {
       "output_type": "stream",
       "stream": "stderr",
       "text": [
        "INFO:interface:stdout 2014-03-11T15:09:32.848254:  Iteration 3 (of 50).   Current convergence value = 0.00112733 (threshold = 1e-06)\n"
       ]
      },
      {
       "output_type": "stream",
       "stream": "stderr",
       "text": [
        "INFO:interface:stdout 2014-03-11T15:09:32.937460:  Iteration 4 (of 50).   Current convergence value = 0.00108598 (threshold = 1e-06)\n"
       ]
      },
      {
       "output_type": "stream",
       "stream": "stderr",
       "text": [
        "INFO:interface:stdout 2014-03-11T15:09:33.036080:  Iteration 5 (of 50).   Current convergence value = 0.00104829 (threshold = 1e-06)\n"
       ]
      },
      {
       "output_type": "stream",
       "stream": "stderr",
       "text": [
        "INFO:interface:stdout 2014-03-11T15:09:33.135334:  Iteration 6 (of 50).   Current convergence value = 0.00101165 (threshold = 1e-06)\n"
       ]
      },
      {
       "output_type": "stream",
       "stream": "stderr",
       "text": [
        "INFO:interface:stdout 2014-03-11T15:09:33.221971:  Iteration 7 (of 50).   Current convergence value = 0.00097587 (threshold = 1e-06)\n"
       ]
      },
      {
       "output_type": "stream",
       "stream": "stderr",
       "text": [
        "INFO:interface:stdout 2014-03-11T15:09:33.312916:  Iteration 8 (of 50).   Current convergence value = 0.000942951 (threshold = 1e-06)\n"
       ]
      },
      {
       "output_type": "stream",
       "stream": "stderr",
       "text": [
        "INFO:interface:stdout 2014-03-11T15:09:33.398406:  Iteration 9 (of 50).   Current convergence value = 0.000911408 (threshold = 1e-06)\n"
       ]
      },
      {
       "output_type": "stream",
       "stream": "stderr",
       "text": [
        "INFO:interface:stdout 2014-03-11T15:09:33.484944:  Iteration 10 (of 50).   Current convergence value = 0.000882088 (threshold = 1e-06)\n"
       ]
      },
      {
       "output_type": "stream",
       "stream": "stderr",
       "text": [
        "INFO:interface:stdout 2014-03-11T15:09:33.578029:  Iteration 11 (of 50).   Current convergence value = 0.000854114 (threshold = 1e-06)\n"
       ]
      },
      {
       "output_type": "stream",
       "stream": "stderr",
       "text": [
        "INFO:interface:stdout 2014-03-11T15:09:33.673220:  Iteration 12 (of 50).   Current convergence value = 0.000826777 (threshold = 1e-06)\n"
       ]
      },
      {
       "output_type": "stream",
       "stream": "stderr",
       "text": [
        "INFO:interface:stdout 2014-03-11T15:09:33.763690:  Iteration 13 (of 50).   Current convergence value = 0.000801073 (threshold = 1e-06)\n"
       ]
      },
      {
       "output_type": "stream",
       "stream": "stderr",
       "text": [
        "INFO:interface:stdout 2014-03-11T15:09:33.867652:  Iteration 14 (of 50).   Current convergence value = 0.000776573 (threshold = 1e-06)\n"
       ]
      },
      {
       "output_type": "stream",
       "stream": "stderr",
       "text": [
        "INFO:interface:stdout 2014-03-11T15:09:33.968223:  Iteration 15 (of 50).   Current convergence value = 0.000752845 (threshold = 1e-06)\n"
       ]
      },
      {
       "output_type": "stream",
       "stream": "stderr",
       "text": [
        "INFO:interface:stdout 2014-03-11T15:09:34.056485:  Iteration 16 (of 50).   Current convergence value = 0.00072909 (threshold = 1e-06)\n"
       ]
      },
      {
       "output_type": "stream",
       "stream": "stderr",
       "text": [
        "INFO:interface:stdout 2014-03-11T15:09:34.139611:  Iteration 17 (of 50).   Current convergence value = 0.000709096 (threshold = 1e-06)\n"
       ]
      },
      {
       "output_type": "stream",
       "stream": "stderr",
       "text": [
        "INFO:interface:stdout 2014-03-11T15:09:34.238240:  Iteration 18 (of 50).   Current convergence value = 0.000689285 (threshold = 1e-06)\n"
       ]
      },
      {
       "output_type": "stream",
       "stream": "stderr",
       "text": [
        "INFO:interface:stdout 2014-03-11T15:09:34.326532:  Iteration 19 (of 50).   Current convergence value = 0.000670386 (threshold = 1e-06)\n"
       ]
      },
      {
       "output_type": "stream",
       "stream": "stderr",
       "text": [
        "INFO:interface:stdout 2014-03-11T15:09:34.429916:  Iteration 20 (of 50).   Current convergence value = 0.00065178 (threshold = 1e-06)\n"
       ]
      },
      {
       "output_type": "stream",
       "stream": "stderr",
       "text": [
        "INFO:interface:stdout 2014-03-11T15:09:34.523831:  Iteration 21 (of 50).   Current convergence value = 0.00063419 (threshold = 1e-06)\n"
       ]
      },
      {
       "output_type": "stream",
       "stream": "stderr",
       "text": [
        "INFO:interface:stdout 2014-03-11T15:09:34.610438:  Iteration 22 (of 50).   Current convergence value = 0.000617365 (threshold = 1e-06)\n"
       ]
      },
      {
       "output_type": "stream",
       "stream": "stderr",
       "text": [
        "INFO:interface:stdout 2014-03-11T15:09:34.711374:  Iteration 23 (of 50).   Current convergence value = 0.000601128 (threshold = 1e-06)\n"
       ]
      },
      {
       "output_type": "stream",
       "stream": "stderr",
       "text": [
        "INFO:interface:stdout 2014-03-11T15:09:34.804867:  Iteration 24 (of 50).   Current convergence value = 0.000585721 (threshold = 1e-06)\n"
       ]
      },
      {
       "output_type": "stream",
       "stream": "stderr",
       "text": [
        "INFO:interface:stdout 2014-03-11T15:09:34.897579:  Iteration 25 (of 50).   Current convergence value = 0.000571123 (threshold = 1e-06)\n"
       ]
      },
      {
       "output_type": "stream",
       "stream": "stderr",
       "text": [
        "INFO:interface:stdout 2014-03-11T15:09:34.991845:  Iteration 26 (of 50).   Current convergence value = 0.000557096 (threshold = 1e-06)\n"
       ]
      },
      {
       "output_type": "stream",
       "stream": "stderr",
       "text": [
        "INFO:interface:stdout 2014-03-11T15:09:35.077255:  Iteration 27 (of 50).   Current convergence value = 0.000543816 (threshold = 1e-06)\n"
       ]
      },
      {
       "output_type": "stream",
       "stream": "stderr",
       "text": [
        "INFO:interface:stdout 2014-03-11T15:09:35.156989:  Iteration 28 (of 50).   Current convergence value = 0.000530917 (threshold = 1e-06)\n"
       ]
      },
      {
       "output_type": "stream",
       "stream": "stderr",
       "text": [
        "INFO:interface:stdout 2014-03-11T15:09:35.248090:  Iteration 29 (of 50).   Current convergence value = 0.000518226 (threshold = 1e-06)\n"
       ]
      },
      {
       "output_type": "stream",
       "stream": "stderr",
       "text": [
        "INFO:interface:stdout 2014-03-11T15:09:35.329779:  Iteration 30 (of 50).   Current convergence value = 0.000506165 (threshold = 1e-06)\n"
       ]
      },
      {
       "output_type": "stream",
       "stream": "stderr",
       "text": [
        "INFO:interface:stdout 2014-03-11T15:09:35.422931:  Iteration 31 (of 50).   Current convergence value = 0.000494383 (threshold = 1e-06)\n"
       ]
      },
      {
       "output_type": "stream",
       "stream": "stderr",
       "text": [
        "INFO:interface:stdout 2014-03-11T15:09:35.536266:  Iteration 32 (of 50).   Current convergence value = 0.000481437 (threshold = 1e-06)\n"
       ]
      },
      {
       "output_type": "stream",
       "stream": "stderr",
       "text": [
        "INFO:interface:stdout 2014-03-11T15:09:35.629713:  Iteration 33 (of 50).   Current convergence value = 0.000473111 (threshold = 1e-06)\n"
       ]
      },
      {
       "output_type": "stream",
       "stream": "stderr",
       "text": [
        "INFO:interface:stdout 2014-03-11T15:09:35.720730:  Iteration 34 (of 50).   Current convergence value = 0.000463105 (threshold = 1e-06)\n"
       ]
      },
      {
       "output_type": "stream",
       "stream": "stderr",
       "text": [
        "INFO:interface:stdout 2014-03-11T15:09:35.818108:  Iteration 35 (of 50).   Current convergence value = 0.000453528 (threshold = 1e-06)\n"
       ]
      },
      {
       "output_type": "stream",
       "stream": "stderr",
       "text": [
        "INFO:interface:stdout 2014-03-11T15:09:35.912626:  Iteration 36 (of 50).   Current convergence value = 0.000442571 (threshold = 1e-06)\n"
       ]
      },
      {
       "output_type": "stream",
       "stream": "stderr",
       "text": [
        "INFO:interface:stdout 2014-03-11T15:09:36.001881:  Iteration 37 (of 50).   Current convergence value = 0.000435521 (threshold = 1e-06)\n"
       ]
      },
      {
       "output_type": "stream",
       "stream": "stderr",
       "text": [
        "INFO:interface:stdout 2014-03-11T15:09:36.096172:  Iteration 38 (of 50).   Current convergence value = 0.000426832 (threshold = 1e-06)\n"
       ]
      },
      {
       "output_type": "stream",
       "stream": "stderr",
       "text": [
        "INFO:interface:stdout 2014-03-11T15:09:36.193633:  Iteration 39 (of 50).   Current convergence value = 0.000418506 (threshold = 1e-06)\n"
       ]
      },
      {
       "output_type": "stream",
       "stream": "stderr",
       "text": [
        "INFO:interface:stdout 2014-03-11T15:09:36.286860:  Iteration 40 (of 50).   Current convergence value = 0.000408822 (threshold = 1e-06)\n"
       ]
      },
      {
       "output_type": "stream",
       "stream": "stderr",
       "text": [
        "INFO:interface:stdout 2014-03-11T15:09:36.382303:  Iteration 41 (of 50).   Current convergence value = 0.000402665 (threshold = 1e-06)\n"
       ]
      },
      {
       "output_type": "stream",
       "stream": "stderr",
       "text": [
        "INFO:interface:stdout 2014-03-11T15:09:36.482437:  Iteration 42 (of 50).   Current convergence value = 0.000395257 (threshold = 1e-06)\n"
       ]
      },
      {
       "output_type": "stream",
       "stream": "stderr",
       "text": [
        "INFO:interface:stdout 2014-03-11T15:09:36.581810:  Iteration 43 (of 50).   Current convergence value = 0.000388197 (threshold = 1e-06)\n"
       ]
      },
      {
       "output_type": "stream",
       "stream": "stderr",
       "text": [
        "INFO:interface:stdout 2014-03-11T15:09:36.691760:  Iteration 44 (of 50).   Current convergence value = 0.000381361 (threshold = 1e-06)\n"
       ]
      },
      {
       "output_type": "stream",
       "stream": "stderr",
       "text": [
        "INFO:interface:stdout 2014-03-11T15:09:36.784571:  Iteration 45 (of 50).   Current convergence value = 0.000374711 (threshold = 1e-06)\n"
       ]
      },
      {
       "output_type": "stream",
       "stream": "stderr",
       "text": [
        "INFO:interface:stdout 2014-03-11T15:09:36.876833:  Iteration 46 (of 50).   Current convergence value = 0.000368335 (threshold = 1e-06)\n"
       ]
      },
      {
       "output_type": "stream",
       "stream": "stderr",
       "text": [
        "INFO:interface:stdout 2014-03-11T15:09:36.971306:  Iteration 47 (of 50).   Current convergence value = 0.000360809 (threshold = 1e-06)\n"
       ]
      },
      {
       "output_type": "stream",
       "stream": "stderr",
       "text": [
        "INFO:interface:stdout 2014-03-11T15:09:37.068051:  Iteration 48 (of 50).   Current convergence value = 0.000356187 (threshold = 1e-06)\n"
       ]
      },
      {
       "output_type": "stream",
       "stream": "stderr",
       "text": [
        "INFO:interface:stdout 2014-03-11T15:09:37.158118:  Iteration 49 (of 50).   Current convergence value = 0.000349024 (threshold = 1e-06)\n"
       ]
      },
      {
       "output_type": "stream",
       "stream": "stderr",
       "text": [
        "INFO:interface:stdout 2014-03-11T15:09:37.245757:  Iteration 50 (of 50).   Current convergence value = 0.000344708 (threshold = 1e-06)\n"
       ]
      },
      {
       "output_type": "stream",
       "stream": "stderr",
       "text": [
        "INFO:interface:stdout 2014-03-11T15:09:37.263756:   N4BiasFieldCorrectionImageFilter (0x14c7ac0)\n"
       ]
      },
      {
       "output_type": "stream",
       "stream": "stderr",
       "text": [
        "INFO:interface:stdout 2014-03-11T15:09:37.263756:     RTTI typeinfo:   itk::N4BiasFieldCorrectionImageFilter<itk::Image<float, 3u>, itk::Image<float, 3u>, itk::Image<float, 3u> >\n"
       ]
      },
      {
       "output_type": "stream",
       "stream": "stderr",
       "text": [
        "INFO:interface:stdout 2014-03-11T15:09:37.263756:     Reference Count: 1\n"
       ]
      },
      {
       "output_type": "stream",
       "stream": "stderr",
       "text": [
        "INFO:interface:stdout 2014-03-11T15:09:37.263756:     Modified Time: 618\n"
       ]
      },
      {
       "output_type": "stream",
       "stream": "stderr",
       "text": [
        "INFO:interface:stdout 2014-03-11T15:09:37.263756:     Debug: Off\n"
       ]
      },
      {
       "output_type": "stream",
       "stream": "stderr",
       "text": [
        "INFO:interface:stdout 2014-03-11T15:09:37.263756:     Observers: \n"
       ]
      },
      {
       "output_type": "stream",
       "stream": "stderr",
       "text": [
        "INFO:interface:stdout 2014-03-11T15:09:37.263756:       IterationEvent(Command)\n"
       ]
      },
      {
       "output_type": "stream",
       "stream": "stderr",
       "text": [
        "INFO:interface:stdout 2014-03-11T15:09:37.263756:     Inputs: \n"
       ]
      },
      {
       "output_type": "stream",
       "stream": "stderr",
       "text": [
        "INFO:interface:stdout 2014-03-11T15:09:37.263756:       Primary: (0x14c9ec0) *\n"
       ]
      },
      {
       "output_type": "stream",
       "stream": "stderr",
       "text": [
        "INFO:interface:stdout 2014-03-11T15:09:37.263756:       _1: (0x14d5630)\n"
       ]
      },
      {
       "output_type": "stream",
       "stream": "stderr",
       "text": [
        "INFO:interface:stdout 2014-03-11T15:09:37.263756:     Indexed Inputs: \n"
       ]
      },
      {
       "output_type": "stream",
       "stream": "stderr",
       "text": [
        "INFO:interface:stdout 2014-03-11T15:09:37.263756:       0: Primary (0x14c9ec0)\n"
       ]
      },
      {
       "output_type": "stream",
       "stream": "stderr",
       "text": [
        "INFO:interface:stdout 2014-03-11T15:09:37.263756:       1: _1 (0x14d5630)\n"
       ]
      },
      {
       "output_type": "stream",
       "stream": "stderr",
       "text": [
        "INFO:interface:stdout 2014-03-11T15:09:37.263756:     Required Input Names: Primary\n"
       ]
      },
      {
       "output_type": "stream",
       "stream": "stderr",
       "text": [
        "INFO:interface:stdout 2014-03-11T15:09:37.263756:     NumberOfRequiredInputs: 1\n"
       ]
      },
      {
       "output_type": "stream",
       "stream": "stderr",
       "text": [
        "INFO:interface:stdout 2014-03-11T15:09:37.263756:     Outputs: \n"
       ]
      },
      {
       "output_type": "stream",
       "stream": "stderr",
       "text": [
        "INFO:interface:stdout 2014-03-11T15:09:37.263756:       Primary: (0x14c7660)\n"
       ]
      },
      {
       "output_type": "stream",
       "stream": "stderr",
       "text": [
        "INFO:interface:stdout 2014-03-11T15:09:37.263756:     Indexed Outputs: \n"
       ]
      },
      {
       "output_type": "stream",
       "stream": "stderr",
       "text": [
        "INFO:interface:stdout 2014-03-11T15:09:37.263756:       0: Primary (0x14c7660)\n"
       ]
      },
      {
       "output_type": "stream",
       "stream": "stderr",
       "text": [
        "INFO:interface:stdout 2014-03-11T15:09:37.263756:     NumberOfRequiredOutputs: 1\n"
       ]
      },
      {
       "output_type": "stream",
       "stream": "stderr",
       "text": [
        "INFO:interface:stdout 2014-03-11T15:09:37.263756:     Number Of Threads: 8\n"
       ]
      },
      {
       "output_type": "stream",
       "stream": "stderr",
       "text": [
        "INFO:interface:stdout 2014-03-11T15:09:37.263756:     ReleaseDataFlag: Off\n"
       ]
      },
      {
       "output_type": "stream",
       "stream": "stderr",
       "text": [
        "INFO:interface:stdout 2014-03-11T15:09:37.263756:     ReleaseDataBeforeUpdateFlag: Off\n"
       ]
      },
      {
       "output_type": "stream",
       "stream": "stderr",
       "text": [
        "INFO:interface:stdout 2014-03-11T15:09:37.263756:     AbortGenerateData: Off\n"
       ]
      },
      {
       "output_type": "stream",
       "stream": "stderr",
       "text": [
        "INFO:interface:stdout 2014-03-11T15:09:37.263756:     Progress: 0\n"
       ]
      },
      {
       "output_type": "stream",
       "stream": "stderr",
       "text": [
        "INFO:interface:stdout 2014-03-11T15:09:37.263756:     Multithreader: \n"
       ]
      },
      {
       "output_type": "stream",
       "stream": "stderr",
       "text": [
        "INFO:interface:stdout 2014-03-11T15:09:37.263756:       RTTI typeinfo:   itk::MultiThreader\n"
       ]
      },
      {
       "output_type": "stream",
       "stream": "stderr",
       "text": [
        "INFO:interface:stdout 2014-03-11T15:09:37.263756:       Reference Count: 1\n"
       ]
      },
      {
       "output_type": "stream",
       "stream": "stderr",
       "text": [
        "INFO:interface:stdout 2014-03-11T15:09:37.263756:       Modified Time: 217\n"
       ]
      },
      {
       "output_type": "stream",
       "stream": "stderr",
       "text": [
        "INFO:interface:stdout 2014-03-11T15:09:37.263756:       Debug: Off\n"
       ]
      },
      {
       "output_type": "stream",
       "stream": "stderr",
       "text": [
        "INFO:interface:stdout 2014-03-11T15:09:37.263756:       Observers: \n"
       ]
      },
      {
       "output_type": "stream",
       "stream": "stderr",
       "text": [
        "INFO:interface:stdout 2014-03-11T15:09:37.263756:         none\n"
       ]
      },
      {
       "output_type": "stream",
       "stream": "stderr",
       "text": [
        "INFO:interface:stdout 2014-03-11T15:09:37.263756:       Thread Count: 8\n"
       ]
      },
      {
       "output_type": "stream",
       "stream": "stderr",
       "text": [
        "INFO:interface:stdout 2014-03-11T15:09:37.263756:       Global Maximum Number Of Threads: 128\n"
       ]
      },
      {
       "output_type": "stream",
       "stream": "stderr",
       "text": [
        "INFO:interface:stdout 2014-03-11T15:09:37.263756:       Global Default Number Of Threads: 8\n"
       ]
      },
      {
       "output_type": "stream",
       "stream": "stderr",
       "text": [
        "INFO:interface:stdout 2014-03-11T15:09:37.283939:     CoordinateTolerance: 1e-06\n"
       ]
      },
      {
       "output_type": "stream",
       "stream": "stderr",
       "text": [
        "INFO:interface:stdout 2014-03-11T15:09:37.283939:     DirectionTolerance: 1e-06\n"
       ]
      },
      {
       "output_type": "stream",
       "stream": "stderr",
       "text": [
        "INFO:interface:stdout 2014-03-11T15:09:37.283939:     Mask label: 1\n"
       ]
      },
      {
       "output_type": "stream",
       "stream": "stderr",
       "text": [
        "INFO:interface:stdout 2014-03-11T15:09:37.283939:     Number of histogram bins: 200\n"
       ]
      },
      {
       "output_type": "stream",
       "stream": "stderr",
       "text": [
        "INFO:interface:stdout 2014-03-11T15:09:37.283939:     Wiener filter noise: 0.01\n"
       ]
      },
      {
       "output_type": "stream",
       "stream": "stderr",
       "text": [
        "INFO:interface:stdout 2014-03-11T15:09:37.283939:     Bias field FWHM: 0.15\n"
       ]
      },
      {
       "output_type": "stream",
       "stream": "stderr",
       "text": [
        "INFO:interface:stdout 2014-03-11T15:09:37.283939:     Maximum number of iterations: [50, 50, 50, 50]\n"
       ]
      },
      {
       "output_type": "stream",
       "stream": "stderr",
       "text": [
        "INFO:interface:stdout 2014-03-11T15:09:37.283939:     Convergence threshold: 1e-06\n"
       ]
      },
      {
       "output_type": "stream",
       "stream": "stderr",
       "text": [
        "INFO:interface:stdout 2014-03-11T15:09:37.283939:     Spline order: 3\n"
       ]
      },
      {
       "output_type": "stream",
       "stream": "stderr",
       "text": [
        "INFO:interface:stdout 2014-03-11T15:09:37.283939:     Number of fitting levels: [4, 4, 4]\n"
       ]
      },
      {
       "output_type": "stream",
       "stream": "stderr",
       "text": [
        "INFO:interface:stdout 2014-03-11T15:09:37.283939:     Number of control points: [4, 4, 4]\n"
       ]
      },
      {
       "output_type": "stream",
       "stream": "stderr",
       "text": [
        "INFO:interface:stdout 2014-03-11T15:09:37.283939:     CurrentConvergenceMeasurement: 0.000344708\n"
       ]
      },
      {
       "output_type": "stream",
       "stream": "stderr",
       "text": [
        "INFO:interface:stdout 2014-03-11T15:09:37.283939:     CurrentLevel: 4\n"
       ]
      },
      {
       "output_type": "stream",
       "stream": "stderr",
       "text": [
        "INFO:interface:stdout 2014-03-11T15:09:37.283939:     ElapsedIterations: 51\n"
       ]
      },
      {
       "output_type": "stream",
       "stream": "stderr",
       "text": [
        "INFO:interface:stdout 2014-03-11T15:09:37.283939:     LogBiasFieldControlPointLattice: Image (0x14e6900)\n"
       ]
      },
      {
       "output_type": "stream",
       "stream": "stderr",
       "text": [
        "INFO:interface:stdout 2014-03-11T15:09:37.283939:  RTTI typeinfo:   itk::Image<itk::Vector<float, 1u>, 3u>\n"
       ]
      },
      {
       "output_type": "stream",
       "stream": "stderr",
       "text": [
        "INFO:interface:stdout 2014-03-11T15:09:37.283939:  Reference Count: 2\n"
       ]
      },
      {
       "output_type": "stream",
       "stream": "stderr",
       "text": [
        "INFO:interface:stdout 2014-03-11T15:09:37.283939:  Modified Time: 49763931\n"
       ]
      },
      {
       "output_type": "stream",
       "stream": "stderr",
       "text": [
        "INFO:interface:stdout 2014-03-11T15:09:37.283939:  Debug: Off\n"
       ]
      },
      {
       "output_type": "stream",
       "stream": "stderr",
       "text": [
        "INFO:interface:stdout 2014-03-11T15:09:37.283939:  Observers: \n"
       ]
      },
      {
       "output_type": "stream",
       "stream": "stderr",
       "text": [
        "INFO:interface:stdout 2014-03-11T15:09:37.283939:    none\n"
       ]
      },
      {
       "output_type": "stream",
       "stream": "stderr",
       "text": [
        "INFO:interface:stdout 2014-03-11T15:09:37.283939:  Source: (none)\n"
       ]
      },
      {
       "output_type": "stream",
       "stream": "stderr",
       "text": [
        "INFO:interface:stdout 2014-03-11T15:09:37.283939:  Source output name: (none)\n"
       ]
      },
      {
       "output_type": "stream",
       "stream": "stderr",
       "text": [
        "INFO:interface:stdout 2014-03-11T15:09:37.283939:  Release Data: Off\n"
       ]
      },
      {
       "output_type": "stream",
       "stream": "stderr",
       "text": [
        "INFO:interface:stdout 2014-03-11T15:09:37.283939:  Data Released: False\n"
       ]
      },
      {
       "output_type": "stream",
       "stream": "stderr",
       "text": [
        "INFO:interface:stdout 2014-03-11T15:09:37.283939:  Global Release Data: Off\n"
       ]
      },
      {
       "output_type": "stream",
       "stream": "stderr",
       "text": [
        "INFO:interface:stdout 2014-03-11T15:09:37.283939:  PipelineMTime: 0\n"
       ]
      },
      {
       "output_type": "stream",
       "stream": "stderr",
       "text": [
        "INFO:interface:stdout 2014-03-11T15:09:37.283939:  UpdateMTime: 0\n"
       ]
      },
      {
       "output_type": "stream",
       "stream": "stderr",
       "text": [
        "INFO:interface:stdout 2014-03-11T15:09:37.283939:  RealTimeStamp: 0 seconds \n"
       ]
      },
      {
       "output_type": "stream",
       "stream": "stderr",
       "text": [
        "INFO:interface:stdout 2014-03-11T15:09:37.283939:  LargestPossibleRegion: \n"
       ]
      },
      {
       "output_type": "stream",
       "stream": "stderr",
       "text": [
        "INFO:interface:stdout 2014-03-11T15:09:37.283939:    Dimension: 3\n"
       ]
      },
      {
       "output_type": "stream",
       "stream": "stderr",
       "text": [
        "INFO:interface:stdout 2014-03-11T15:09:37.283939:    Index: [0, 0, 0]\n"
       ]
      },
      {
       "output_type": "stream",
       "stream": "stderr",
       "text": [
        "INFO:interface:stdout 2014-03-11T15:09:37.283939:    Size: [11, 11, 11]\n"
       ]
      },
      {
       "output_type": "stream",
       "stream": "stderr",
       "text": [
        "INFO:interface:stdout 2014-03-11T15:09:37.283939:  BufferedRegion: \n"
       ]
      },
      {
       "output_type": "stream",
       "stream": "stderr",
       "text": [
        "INFO:interface:stdout 2014-03-11T15:09:37.283939:    Dimension: 3\n"
       ]
      },
      {
       "output_type": "stream",
       "stream": "stderr",
       "text": [
        "INFO:interface:stdout 2014-03-11T15:09:37.283939:    Index: [0, 0, 0]\n"
       ]
      },
      {
       "output_type": "stream",
       "stream": "stderr",
       "text": [
        "INFO:interface:stdout 2014-03-11T15:09:37.283939:    Size: [11, 11, 11]\n"
       ]
      },
      {
       "output_type": "stream",
       "stream": "stderr",
       "text": [
        "INFO:interface:stdout 2014-03-11T15:09:37.283939:  RequestedRegion: \n"
       ]
      },
      {
       "output_type": "stream",
       "stream": "stderr",
       "text": [
        "INFO:interface:stdout 2014-03-11T15:09:37.283939:    Dimension: 3\n"
       ]
      },
      {
       "output_type": "stream",
       "stream": "stderr",
       "text": [
        "INFO:interface:stdout 2014-03-11T15:09:37.283939:    Index: [0, 0, 0]\n"
       ]
      },
      {
       "output_type": "stream",
       "stream": "stderr",
       "text": [
        "INFO:interface:stdout 2014-03-11T15:09:37.283939:    Size: [11, 11, 11]\n"
       ]
      },
      {
       "output_type": "stream",
       "stream": "stderr",
       "text": [
        "INFO:interface:stdout 2014-03-11T15:09:37.283939:  Spacing: [31.5, 31.5, 31.5]\n"
       ]
      },
      {
       "output_type": "stream",
       "stream": "stderr",
       "text": [
        "INFO:interface:stdout 2014-03-11T15:09:37.283939:  Origin: [31.5, 31.5, -31.5]\n"
       ]
      },
      {
       "output_type": "stream",
       "stream": "stderr",
       "text": [
        "INFO:interface:stdout 2014-03-11T15:09:37.283939:  Direction: \n"
       ]
      },
      {
       "output_type": "stream",
       "stream": "stderr",
       "text": [
        "INFO:interface:stdout 2014-03-11T15:09:37.283939:-1 7.95172e-27 1.30104e-17\n"
       ]
      },
      {
       "output_type": "stream",
       "stream": "stderr",
       "text": [
        "INFO:interface:stdout 2014-03-11T15:09:37.283939:7.95172e-27 -1 1.22236e-09\n"
       ]
      },
      {
       "output_type": "stream",
       "stream": "stderr",
       "text": [
        "INFO:interface:stdout 2014-03-11T15:09:37.283939:1.30104e-17 1.22236e-09 1\n"
       ]
      },
      {
       "output_type": "stream",
       "stream": "stderr",
       "text": [
        "INFO:interface:stdout 2014-03-11T15:09:37.283939:\n"
       ]
      },
      {
       "output_type": "stream",
       "stream": "stderr",
       "text": [
        "INFO:interface:stdout 2014-03-11T15:09:37.283939:  IndexToPointMatrix: \n"
       ]
      },
      {
       "output_type": "stream",
       "stream": "stderr",
       "text": [
        "INFO:interface:stdout 2014-03-11T15:09:37.283939:-31.5 2.50479e-25 4.09829e-16\n"
       ]
      },
      {
       "output_type": "stream",
       "stream": "stderr",
       "text": [
        "INFO:interface:stdout 2014-03-11T15:09:37.283939:2.50479e-25 -31.5 3.85044e-08\n"
       ]
      },
      {
       "output_type": "stream",
       "stream": "stderr",
       "text": [
        "INFO:interface:stdout 2014-03-11T15:09:37.283939:4.09829e-16 3.85044e-08 31.5\n"
       ]
      },
      {
       "output_type": "stream",
       "stream": "stderr",
       "text": [
        "INFO:interface:stdout 2014-03-11T15:09:37.283939:\n"
       ]
      },
      {
       "output_type": "stream",
       "stream": "stderr",
       "text": [
        "INFO:interface:stdout 2014-03-11T15:09:37.283939:  PointToIndexMatrix: \n"
       ]
      },
      {
       "output_type": "stream",
       "stream": "stderr",
       "text": [
        "INFO:interface:stdout 2014-03-11T15:09:37.283939:-0.031746 2.52436e-28 4.1303e-19\n"
       ]
      },
      {
       "output_type": "stream",
       "stream": "stderr",
       "text": [
        "INFO:interface:stdout 2014-03-11T15:09:37.283939:2.52436e-28 -0.031746 3.88051e-11\n"
       ]
      },
      {
       "output_type": "stream",
       "stream": "stderr",
       "text": [
        "INFO:interface:stdout 2014-03-11T15:09:37.283939:4.1303e-19 3.88051e-11 0.031746\n"
       ]
      },
      {
       "output_type": "stream",
       "stream": "stderr",
       "text": [
        "INFO:interface:stdout 2014-03-11T15:09:37.283939:\n"
       ]
      },
      {
       "output_type": "stream",
       "stream": "stderr",
       "text": [
        "INFO:interface:stdout 2014-03-11T15:09:37.283939:  Inverse Direction: \n"
       ]
      },
      {
       "output_type": "stream",
       "stream": "stderr",
       "text": [
        "INFO:interface:stdout 2014-03-11T15:09:37.283939:-1 7.95172e-27 1.30104e-17\n"
       ]
      },
      {
       "output_type": "stream",
       "stream": "stderr",
       "text": [
        "INFO:interface:stdout 2014-03-11T15:09:37.283939:7.95172e-27 -1 1.22236e-09\n"
       ]
      },
      {
       "output_type": "stream",
       "stream": "stderr",
       "text": [
        "INFO:interface:stdout 2014-03-11T15:09:37.283939:1.30104e-17 1.22236e-09 1\n"
       ]
      },
      {
       "output_type": "stream",
       "stream": "stderr",
       "text": [
        "INFO:interface:stdout 2014-03-11T15:09:37.283939:\n"
       ]
      },
      {
       "output_type": "stream",
       "stream": "stderr",
       "text": [
        "INFO:interface:stdout 2014-03-11T15:09:37.283939:  PixelContainer: \n"
       ]
      },
      {
       "output_type": "stream",
       "stream": "stderr",
       "text": [
        "INFO:interface:stdout 2014-03-11T15:09:37.283939:    ImportImageContainer (0x14e6880)\n"
       ]
      },
      {
       "output_type": "stream",
       "stream": "stderr",
       "text": [
        "INFO:interface:stdout 2014-03-11T15:09:37.283939:      RTTI typeinfo:   itk::ImportImageContainer<unsigned long, itk::Vector<float, 1u> >\n"
       ]
      },
      {
       "output_type": "stream",
       "stream": "stderr",
       "text": [
        "INFO:interface:stdout 2014-03-11T15:09:37.283939:      Reference Count: 1\n"
       ]
      },
      {
       "output_type": "stream",
       "stream": "stderr",
       "text": [
        "INFO:interface:stdout 2014-03-11T15:09:37.283939:      Modified Time: 49763932\n"
       ]
      },
      {
       "output_type": "stream",
       "stream": "stderr",
       "text": [
        "INFO:interface:stdout 2014-03-11T15:09:37.283939:      Debug: Off\n"
       ]
      },
      {
       "output_type": "stream",
       "stream": "stderr",
       "text": [
        "INFO:interface:stdout 2014-03-11T15:09:37.283939:      Observers: \n"
       ]
      },
      {
       "output_type": "stream",
       "stream": "stderr",
       "text": [
        "INFO:interface:stdout 2014-03-11T15:09:37.283939:        none\n"
       ]
      },
      {
       "output_type": "stream",
       "stream": "stderr",
       "text": [
        "INFO:interface:stdout 2014-03-11T15:09:37.283939:      Pointer: 0x14e6bc0\n"
       ]
      },
      {
       "output_type": "stream",
       "stream": "stderr",
       "text": [
        "INFO:interface:stdout 2014-03-11T15:09:37.283939:      Container manages memory: true\n"
       ]
      },
      {
       "output_type": "stream",
       "stream": "stderr",
       "text": [
        "INFO:interface:stdout 2014-03-11T15:09:37.283939:      Size: 1331\n"
       ]
      },
      {
       "output_type": "stream",
       "stream": "stderr",
       "text": [
        "INFO:interface:stdout 2014-03-11T15:09:37.283939:      Capacity: 1331\n"
       ]
      },
      {
       "output_type": "stream",
       "stream": "stderr",
       "text": [
        "INFO:interface:stdout 2014-03-11T15:09:37.283939:\n"
       ]
      },
      {
       "output_type": "stream",
       "stream": "stderr",
       "text": [
        "INFO:interface:stdout 2014-03-11T15:09:37.283939:Elapsed time: 18.5784\n"
       ]
      },
      {
       "output_type": "stream",
       "stream": "stderr",
       "text": [
        "INFO:workflow:Executing node merge_brain in dir: /home/oesteban/tmp/Prepare_sMRI/merge_brain\n"
       ]
      },
      {
       "output_type": "stream",
       "stream": "stderr",
       "text": [
        "INFO:workflow:Executing node surftfm in dir: /home/oesteban/tmp/Prepare_sMRI/Surfaces_to_native/surftfm\n"
       ]
      },
      {
       "output_type": "stream",
       "stream": "stderr",
       "text": [
        "INFO:workflow:Collecting precomputed outputs\n"
       ]
      },
      {
       "output_type": "stream",
       "stream": "stderr",
       "text": [
        "INFO:workflow:Executing node TransformSurface in dir: /home/oesteban/tmp/Prepare_sMRI/Surfaces_to_native/TransformSurface\n"
       ]
      },
      {
       "output_type": "stream",
       "stream": "stderr",
       "text": [
        "INFO:workflow:Executing node pretess in dir: /home/oesteban/tmp/Prepare_sMRI/CSF_Surface/pretess\n"
       ]
      },
      {
       "output_type": "stream",
       "stream": "stderr",
       "text": [
        "INFO:workflow:Collecting precomputed outputs\n"
       ]
      },
      {
       "output_type": "stream",
       "stream": "stderr",
       "text": [
        "INFO:workflow:Executing node tess in dir: /home/oesteban/tmp/Prepare_sMRI/CSF_Surface/tess\n"
       ]
      },
      {
       "output_type": "stream",
       "stream": "stderr",
       "text": [
        "INFO:workflow:Collecting precomputed outputs\n"
       ]
      },
      {
       "output_type": "stream",
       "stream": "stderr",
       "text": [
        "INFO:workflow:Executing node mris_smooth in dir: /home/oesteban/tmp/Prepare_sMRI/CSF_Surface/mris_smooth\n"
       ]
      },
      {
       "output_type": "stream",
       "stream": "stderr",
       "text": [
        "INFO:workflow:Collecting precomputed outputs\n"
       ]
      },
      {
       "output_type": "stream",
       "stream": "stderr",
       "text": [
        "INFO:workflow:Executing node rename in dir: /home/oesteban/tmp/Prepare_sMRI/CSF_Surface/rename\n"
       ]
      },
      {
       "output_type": "stream",
       "stream": "stderr",
       "text": [
        "INFO:workflow:Collecting precomputed outputs\n"
       ]
      },
      {
       "output_type": "stream",
       "stream": "stderr",
       "text": [
        "INFO:workflow:Executing node merge_surfs in dir: /home/oesteban/tmp/Prepare_sMRI/merge_surfs\n"
       ]
      },
      {
       "output_type": "stream",
       "stream": "stderr",
       "text": [
        "INFO:workflow:Collecting precomputed outputs\n"
       ]
      },
      {
       "output_type": "stream",
       "stream": "stderr",
       "text": [
        "INFO:workflow:Executing node toVTK in dir: /home/oesteban/tmp/Prepare_sMRI/toVTK\n"
       ]
      },
      {
       "output_type": "stream",
       "stream": "stderr",
       "text": [
        "INFO:workflow:Executing node fixVTK in dir: /home/oesteban/tmp/Prepare_sMRI/fixVTK\n"
       ]
      },
      {
       "output_type": "stream",
       "stream": "stderr",
       "text": [
        "INFO:workflow:Executing node merge_mri in dir: /home/oesteban/tmp/Prepare_sMRI/merge_mri\n"
       ]
      },
      {
       "output_type": "stream",
       "stream": "stderr",
       "text": [
        "INFO:workflow:Collecting precomputed outputs\n"
       ]
      },
      {
       "metadata": {},
       "output_type": "pyout",
       "prompt_number": 2,
       "text": [
        "<networkx.classes.digraph.DiGraph at 0x656d490>"
       ]
      }
     ],
     "prompt_number": 2
    },
    {
     "cell_type": "code",
     "collapsed": false,
     "input": [
      "fs_dir = op.join( data_dir, 'FREESURFER' )\n",
      "mm = smri.csf_surface()\n",
      "mm.inputs.inputnode.fs_subjects_dir = fs_dir\n",
      "mm.inputs.inputnode.labels = []\n",
      "mm.inputs.inputnode.subject_id = 'S400'\n",
      "mm.base_dir = op.abspath( '/home/oesteban/tmp' )\n",
      "mm.run()\n"
     ],
     "language": "python",
     "metadata": {},
     "outputs": [
      {
       "ename": "NameError",
       "evalue": "name 'op' is not defined",
       "output_type": "pyerr",
       "traceback": [
        "\u001b[1;31m---------------------------------------------------------------------------\u001b[0m\n\u001b[1;31mNameError\u001b[0m                                 Traceback (most recent call last)",
        "\u001b[1;32m<ipython-input-2-bc04612e9ec4>\u001b[0m in \u001b[0;36m<module>\u001b[1;34m()\u001b[0m\n\u001b[1;32m----> 1\u001b[1;33m \u001b[0mfs_dir\u001b[0m \u001b[1;33m=\u001b[0m \u001b[0mop\u001b[0m\u001b[1;33m.\u001b[0m\u001b[0mjoin\u001b[0m\u001b[1;33m(\u001b[0m \u001b[0mdata_dir\u001b[0m\u001b[1;33m,\u001b[0m \u001b[1;34m'FREESURFER'\u001b[0m \u001b[1;33m)\u001b[0m\u001b[1;33m\u001b[0m\u001b[0m\n\u001b[0m\u001b[0;32m      2\u001b[0m \u001b[0mmm\u001b[0m \u001b[1;33m=\u001b[0m \u001b[0msmri\u001b[0m\u001b[1;33m.\u001b[0m\u001b[0mcsf_surface\u001b[0m\u001b[1;33m(\u001b[0m\u001b[1;33m)\u001b[0m\u001b[1;33m\u001b[0m\u001b[0m\n\u001b[0;32m      3\u001b[0m \u001b[0mmm\u001b[0m\u001b[1;33m.\u001b[0m\u001b[0minputs\u001b[0m\u001b[1;33m.\u001b[0m\u001b[0minputnode\u001b[0m\u001b[1;33m.\u001b[0m\u001b[0mfs_subjects_dir\u001b[0m \u001b[1;33m=\u001b[0m \u001b[0mfs_dir\u001b[0m\u001b[1;33m\u001b[0m\u001b[0m\n\u001b[0;32m      4\u001b[0m \u001b[0mmm\u001b[0m\u001b[1;33m.\u001b[0m\u001b[0minputs\u001b[0m\u001b[1;33m.\u001b[0m\u001b[0minputnode\u001b[0m\u001b[1;33m.\u001b[0m\u001b[0mlabels\u001b[0m \u001b[1;33m=\u001b[0m \u001b[1;33m[\u001b[0m\u001b[1;33m]\u001b[0m\u001b[1;33m\u001b[0m\u001b[0m\n\u001b[0;32m      5\u001b[0m \u001b[0mmm\u001b[0m\u001b[1;33m.\u001b[0m\u001b[0minputs\u001b[0m\u001b[1;33m.\u001b[0m\u001b[0minputnode\u001b[0m\u001b[1;33m.\u001b[0m\u001b[0msubject_id\u001b[0m \u001b[1;33m=\u001b[0m \u001b[1;34m'S400'\u001b[0m\u001b[1;33m\u001b[0m\u001b[0m\n",
        "\u001b[1;31mNameError\u001b[0m: name 'op' is not defined"
       ]
      }
     ],
     "prompt_number": 2
    },
    {
     "cell_type": "code",
     "collapsed": false,
     "input": [
      "import nipype.pipeline.engine as pe          # pypeline engine\n",
      "import nipype.interfaces.freesurfer as fs\n",
      "import nipype.interfaces.utility as niu\n",
      "import nipype.interfaces.io as nio\n",
      "\n",
      "\n",
      "def GenerateBinaryVolume( name=\"binarize\" ):\n",
      "    pipeline = pe.Workflow( name=name )\n",
      "    inputnode = pe.Node(niu.IdentityInterface( fields=['in_file','labels', 'in_norm','out_surf',\n",
      "                                 'origin', 'mov_path', 'tar_path', 'tfmfile'] ), name='inputnode' )\n",
      "    convert = pe.Node( fs.MRIConvert( out_type='niigz' ), name='convert' )\n",
      "    binarize = pe.Node( niu.Function( input_names=['in_file', 'labels' ], output_names=[\"out_file\"], \n",
      "                                      function=fsbt.CombineSegs ), name='combine' )\n",
      "    convertmgz = pe.Node( fs.MRIConvert( out_type='mgz' ), name='convertmgz' )\n",
      "    pretess = pe.Node( niu.Function( input_names=['in_file', 'in_norm', 'label' ], output_names=['out_file'],\n",
      "                                    function=fsbt.MRIPreTess ), name='pretess' )\n",
      "    pretess.inputs.label = 1\n",
      "    \n",
      "    tess = pe.Node( fs.MRITessellate(label_value=1), name='tess' )\n",
      "    smooth = pe.Node( fs.SmoothTessellation(disable_estimates=True ), name='mris_smooth' )\n",
      "    \n",
      "    tfmsurf = pe.Node( niu.Function( input_names=['origin', 'mov_path', 'tar_path', 'tfmfile', 'out_file'],\n",
      "                                     output_names=['out_file'], function=fsbt.transformSurface ), name='ApplyXfm' )\n",
      "                                    \n",
      "    pipeline.connect( [\n",
      "                       \n",
      "                        (inputnode, convert, [ ('in_file','in_file') ] )\n",
      "                       ,(convert, binarize,  [ ('out_file','in_file' ) ])\n",
      "                       ,(inputnode, binarize,[ ('labels','labels') ])\n",
      "                       ,(binarize, convertmgz, [('out_file','in_file')])\n",
      "                       ,(convertmgz,pretess, [ ('out_file', 'in_file' )])\n",
      "                       ,(inputnode,pretess,  [ ('in_norm', 'in_norm' )])\n",
      "                       ,(pretess,tess,       [ ('out_file', 'in_file' ) ])\n",
      "                       ,(tess,smooth,        [ ('surface', 'in_file' ) ])\n",
      "                       ,(smooth,tfmsurf,     [ ('surface', 'origin' ) ])\n",
      "                       ,(inputnode,tfmsurf,  [ ('mov_path','mov_path'),\n",
      "                                               ('tar_path','tar_path'),\n",
      "                                               ('tfmfile','tfmfile'),\n",
      "                                               ('out_surf','out_file') ])\n",
      "                       ])\n",
      "    \n",
      "    return pipeline"
     ],
     "language": "python",
     "metadata": {},
     "outputs": [],
     "prompt_number": 7
    },
    {
     "cell_type": "code",
     "collapsed": false,
     "input": [
      "wf = GenerateBinaryVolume()\n",
      "wf.base_dir = working_dir"
     ],
     "language": "python",
     "metadata": {},
     "outputs": [],
     "prompt_number": 8
    },
    {
     "cell_type": "code",
     "collapsed": false,
     "input": [
      "wf.inputs.inputnode.in_file = op.join( root_dir, 'FREESURFER', 'OE0_T1', 'mri', 'aseg.mgz' )\n",
      "wf.inputs.inputnode.labels = csf_labels\n",
      "wf.inputs.inputnode.in_norm = op.join( root_dir, 'FREESURFER', 'OE0_T1', 'mri', 'norm.mgz' )\n",
      "wf.inputs.inputnode.out_surf = op.join( data_dir, 'surf', 'init.csf.vtk' )\n",
      "\n",
      "wf.inputs.inputnode.tar_path = bfname\n",
      "wf.inputs.inputnode.mov_path = mrfname\n",
      "wf.inputs.inputnode.tfmfile = tfname"
     ],
     "language": "python",
     "metadata": {},
     "outputs": [],
     "prompt_number": 9
    },
    {
     "cell_type": "code",
     "collapsed": false,
     "input": [
      "wf.run()"
     ],
     "language": "python",
     "metadata": {},
     "outputs": [
      {
       "output_type": "stream",
       "stream": "stdout",
       "text": [
        "130627-17:17:32,38 workflow INFO:\n",
        "\t ['check', 'execution', 'logging']\n"
       ]
      },
      {
       "output_type": "stream",
       "stream": "stdout",
       "text": [
        "130627-17:17:32,45 workflow INFO:\n",
        "\t Running serially.\n"
       ]
      },
      {
       "output_type": "stream",
       "stream": "stdout",
       "text": [
        "130627-17:17:32,46 workflow INFO:\n",
        "\t Executing node convert in dir: /home/oesteban/workspace/ACWE-Reg/temp/binarize/convert\n"
       ]
      },
      {
       "output_type": "stream",
       "stream": "stdout",
       "text": [
        "130627-17:17:32,47 workflow INFO:\n",
        "\t Collecting precomputed outputs\n"
       ]
      },
      {
       "output_type": "stream",
       "stream": "stdout",
       "text": [
        "130627-17:17:32,50 workflow INFO:\n",
        "\t Executing node combine in dir: /home/oesteban/workspace/ACWE-Reg/temp/binarize/combine\n"
       ]
      },
      {
       "output_type": "stream",
       "stream": "stdout",
       "text": [
        "130627-17:17:32,51 workflow INFO:\n",
        "\t Collecting precomputed outputs\n"
       ]
      },
      {
       "output_type": "stream",
       "stream": "stdout",
       "text": [
        "130627-17:17:32,54 workflow INFO:\n",
        "\t Executing node convertmgz in dir: /home/oesteban/workspace/ACWE-Reg/temp/binarize/convertmgz\n"
       ]
      },
      {
       "output_type": "stream",
       "stream": "stdout",
       "text": [
        "130627-17:17:32,55 workflow INFO:\n",
        "\t Collecting precomputed outputs\n"
       ]
      },
      {
       "output_type": "stream",
       "stream": "stdout",
       "text": [
        "130627-17:17:32,60 workflow INFO:\n",
        "\t Executing node pretess in dir: /home/oesteban/workspace/ACWE-Reg/temp/binarize/pretess\n"
       ]
      },
      {
       "output_type": "stream",
       "stream": "stdout",
       "text": [
        "130627-17:17:34,618 workflow INFO:\n",
        "\t Executing node tess in dir: /home/oesteban/workspace/ACWE-Reg/temp/binarize/tess\n"
       ]
      },
      {
       "output_type": "stream",
       "stream": "stdout",
       "text": [
        "130627-17:17:34,623 workflow INFO:\n",
        "\t Running: mri_tessellate /home/oesteban/workspace/ACWE-Reg/temp/binarize/pretess/aseg_out_bin_out_pretess.mgz 1 ./aseg_out_bin_out_pretess.mgz_1\n"
       ]
      },
      {
       "output_type": "stream",
       "stream": "stdout",
       "text": [
        "130627-17:17:34,960 interface INFO:\n",
        "\t stdout 2013-06-27T17:17:34.960007:$Id: mri_tessellate.c,v 1.36 2011/03/02 00:04:25 nicks Exp $\n"
       ]
      },
      {
       "output_type": "stream",
       "stream": "stdout",
       "text": [
        "130627-17:17:34,960 interface INFO:\n",
        "\t stdout 2013-06-27T17:17:34.960007:  $Id: mrisurf.c,v 1.693.2.7 2013/05/12 22:28:01 nicks Exp $\n"
       ]
      },
      {
       "output_type": "stream",
       "stream": "stdout",
       "text": [
        "130627-17:17:35,870 interface INFO:\n",
        "\t stdout 2013-06-27T17:17:35.870098:slice 80: 117 vertices, 133 faces\n"
       ]
      },
      {
       "output_type": "stream",
       "stream": "stdout",
       "text": [
        "130627-17:17:35,870 interface INFO:\n",
        "\t stdout 2013-06-27T17:17:35.870098:slice 90: 1081 vertices, 1156 faces\n"
       ]
      },
      {
       "output_type": "stream",
       "stream": "stdout",
       "text": [
        "130627-17:17:35,870 interface INFO:\n",
        "\t stdout 2013-06-27T17:17:35.870098:slice 100: 4678 vertices, 4858 faces\n"
       ]
      },
      {
       "output_type": "stream",
       "stream": "stdout",
       "text": [
        "130627-17:17:35,871 interface INFO:\n",
        "\t stdout 2013-06-27T17:17:35.870098:slice 110: 7977 vertices, 8079 faces\n"
       ]
      },
      {
       "output_type": "stream",
       "stream": "stdout",
       "text": [
        "130627-17:17:35,871 interface INFO:\n",
        "\t stdout 2013-06-27T17:17:35.870098:slice 120: 10045 vertices, 10143 faces\n"
       ]
      },
      {
       "output_type": "stream",
       "stream": "stdout",
       "text": [
        "130627-17:17:35,871 interface INFO:\n",
        "\t stdout 2013-06-27T17:17:35.870098:slice 130: 11957 vertices, 12053 faces\n"
       ]
      },
      {
       "output_type": "stream",
       "stream": "stdout",
       "text": [
        "130627-17:17:35,872 interface INFO:\n",
        "\t stdout 2013-06-27T17:17:35.870098:slice 140: 13915 vertices, 13994 faces\n"
       ]
      },
      {
       "output_type": "stream",
       "stream": "stdout",
       "text": [
        "130627-17:17:35,872 interface INFO:\n",
        "\t stdout 2013-06-27T17:17:35.870098:slice 150: 15187 vertices, 15245 faces\n"
       ]
      },
      {
       "output_type": "stream",
       "stream": "stdout",
       "text": [
        "130627-17:17:35,872 interface INFO:\n",
        "\t stdout 2013-06-27T17:17:35.870098:slice 160: 16040 vertices, 16052 faces\n"
       ]
      },
      {
       "output_type": "stream",
       "stream": "stdout",
       "text": [
        "130627-17:17:35,872 interface INFO:\n",
        "\t stdout 2013-06-27T17:17:35.870098:slice 170: 16040 vertices, 16052 faces\n"
       ]
      },
      {
       "output_type": "stream",
       "stream": "stdout",
       "text": [
        "130627-17:17:35,873 interface INFO:\n",
        "\t stdout 2013-06-27T17:17:35.870098:slice 180: 16040 vertices, 16052 faces\n"
       ]
      },
      {
       "output_type": "stream",
       "stream": "stdout",
       "text": [
        "130627-17:17:35,873 interface INFO:\n",
        "\t stdout 2013-06-27T17:17:35.870098:slice 190: 16040 vertices, 16052 faces\n"
       ]
      },
      {
       "output_type": "stream",
       "stream": "stdout",
       "text": [
        "130627-17:17:35,873 interface INFO:\n",
        "\t stdout 2013-06-27T17:17:35.870098:slice 200: 16040 vertices, 16052 faces\n"
       ]
      },
      {
       "output_type": "stream",
       "stream": "stdout",
       "text": [
        "130627-17:17:35,873 interface INFO:\n",
        "\t stdout 2013-06-27T17:17:35.870098:slice 210: 16040 vertices, 16052 faces\n"
       ]
      },
      {
       "output_type": "stream",
       "stream": "stdout",
       "text": [
        "130627-17:17:35,874 interface INFO:\n",
        "\t stdout 2013-06-27T17:17:35.870098:slice 220: 16040 vertices, 16052 faces\n"
       ]
      },
      {
       "output_type": "stream",
       "stream": "stdout",
       "text": [
        "130627-17:17:35,874 interface INFO:\n",
        "\t stdout 2013-06-27T17:17:35.870098:slice 230: 16040 vertices, 16052 faces\n"
       ]
      },
      {
       "output_type": "stream",
       "stream": "stdout",
       "text": [
        "130627-17:17:35,874 interface INFO:\n",
        "\t stdout 2013-06-27T17:17:35.870098:slice 240: 16040 vertices, 16052 faces\n"
       ]
      },
      {
       "output_type": "stream",
       "stream": "stdout",
       "text": [
        "130627-17:17:35,874 interface INFO:\n",
        "\t stdout 2013-06-27T17:17:35.870098:slice 250: 16040 vertices, 16052 faces\n"
       ]
      },
      {
       "output_type": "stream",
       "stream": "stdout",
       "text": [
        "130627-17:17:35,875 interface INFO:\n",
        "\t stdout 2013-06-27T17:17:35.870098:using the conformed surface RAS to save vertex points...\n"
       ]
      },
      {
       "output_type": "stream",
       "stream": "stdout",
       "text": [
        "130627-17:17:35,875 interface INFO:\n",
        "\t stdout 2013-06-27T17:17:35.870098:writing ./aseg_out_bin_out_pretess.mgz_1\n"
       ]
      },
      {
       "output_type": "stream",
       "stream": "stdout",
       "text": [
        "130627-17:17:35,875 interface INFO:\n",
        "\t stdout 2013-06-27T17:17:35.870098:using vox2ras matrix:\n"
       ]
      },
      {
       "output_type": "stream",
       "stream": "stdout",
       "text": [
        "130627-17:17:35,875 interface INFO:\n",
        "\t stdout 2013-06-27T17:17:35.870098:-1.000   0.000   0.000   128.000;\n"
       ]
      },
      {
       "output_type": "stream",
       "stream": "stdout",
       "text": [
        "130627-17:17:35,876 interface INFO:\n",
        "\t stdout 2013-06-27T17:17:35.870098: 0.000   0.000   1.000  -128.000;\n"
       ]
      },
      {
       "output_type": "stream",
       "stream": "stdout",
       "text": [
        "130627-17:17:35,876 interface INFO:\n",
        "\t stdout 2013-06-27T17:17:35.870098: 0.000  -1.000   0.000   128.000;\n"
       ]
      },
      {
       "output_type": "stream",
       "stream": "stdout",
       "text": [
        "130627-17:17:35,877 interface INFO:\n",
        "\t stdout 2013-06-27T17:17:35.870098: 0.000   0.000   0.000   1.000;\n"
       ]
      },
      {
       "output_type": "stream",
       "stream": "stdout",
       "text": [
        "130627-17:17:35,884 workflow INFO:\n",
        "\t Executing node mris_smooth in dir: /home/oesteban/workspace/ACWE-Reg/temp/binarize/mris_smooth\n"
       ]
      },
      {
       "output_type": "stream",
       "stream": "stdout",
       "text": [
        "130627-17:17:35,888 workflow INFO:\n",
        "\t Running: mris_smooth /home/oesteban/workspace/ACWE-Reg/temp/binarize/tess/aseg_out_bin_out_pretess.mgz_1 /home/oesteban/workspace/ACWE-Reg/temp/binarize/mris_smooth/aseg_out_bin_out_pretess_smoothed.mgz_1 -nw -n 10 -a 10\n"
       ]
      },
      {
       "output_type": "stream",
       "stream": "stdout",
       "text": [
        "130627-17:17:36,26 interface INFO:\n",
        "\t stderr 2013-06-27T17:17:36.026365:smoothing surface tessellation for 10 iterations...\n"
       ]
      },
      {
       "output_type": "stream",
       "stream": "stdout",
       "text": [
        "130627-17:17:36,66 interface INFO:\n",
        "\t stderr 2013-06-27T17:17:36.066211:smoothing complete - recomputing first and second fundamental forms...\n"
       ]
      },
      {
       "output_type": "stream",
       "stream": "stdout",
       "text": [
        "130627-17:17:36,234 interface INFO:\n",
        "\t stderr 2013-06-27T17:17:36.234853:writing smoothed curvature to /home/oesteban/workspace/ACWE-Reg/temp/binarize/mris_smooth/rh.curv\n"
       ]
      },
      {
       "output_type": "stream",
       "stream": "stdout",
       "text": [
        "130627-17:17:36,235 interface INFO:\n",
        "\t stderr 2013-06-27T17:17:36.235377:writing smoothed area to /home/oesteban/workspace/ACWE-Reg/temp/binarize/mris_smooth/rh.area\n"
       ]
      },
      {
       "output_type": "stream",
       "stream": "stdout",
       "text": [
        "130627-17:17:36,252 workflow INFO:\n",
        "\t Executing node ApplyXfm in dir: /home/oesteban/workspace/ACWE-Reg/temp/binarize/ApplyXfm\n"
       ]
      },
      {
       "output_type": "pyout",
       "prompt_number": 10,
       "text": [
        "<networkx.classes.digraph.DiGraph at 0x6857a10>"
       ]
      }
     ],
     "prompt_number": 10
    },
    {
     "cell_type": "code",
     "collapsed": false,
     "input": [],
     "language": "python",
     "metadata": {},
     "outputs": []
    }
   ],
   "metadata": {}
  }
 ]
}