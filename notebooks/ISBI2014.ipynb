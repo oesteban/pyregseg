{
 "metadata": {
  "name": "ISBI2014"
 },
 "nbformat": 3,
 "nbformat_minor": 0,
 "worksheets": [
  {
   "cells": [
    {
     "cell_type": "code",
     "collapsed": false,
     "input": [
      "import numpy as np\n",
      "import nibabel as nib\n",
      "from tvtk.api import tvtk\n",
      "import datetime as dt\n",
      "import os\n",
      "import os.path as op\n",
      "\n",
      "from scipy.ndimage import label\n",
      "\n",
      "import nipype.pipeline.engine as pe          # pypeline engine\n",
      "import nipype.interfaces.freesurfer as fs\n",
      "import nipype.interfaces.utility as niu\n",
      "import nipype.interfaces.io as nio\n",
      "import nipype.workflows.dmri.fsl as wf\n",
      "\n",
      "import sys\n",
      "sys.path.append('/home/oesteban/workspace/ACWE-Reg/Scripts/utils')\n",
      "sys.path.append('/home/oesteban/workspace/ACWE-Reg/Scripts/workflows')\n",
      "\n",
      "\n",
      "import dmri as dmri\n",
      "import fsb_transform as fsbt"
     ],
     "language": "python",
     "metadata": {},
     "outputs": []
    },
    {
     "cell_type": "code",
     "collapsed": false,
     "input": [
      "root_dir='/home/oesteban/workspace/ACWE-Reg/'\n",
      "data_dir= op.join( root_dir, 'Data' )\n",
      "mname = 'DigitalPhantomISBI'\n",
      "model_dir = op.join( data_dir, mname )\n",
      "tpms_dir = op.join( model_dir, 'tpms' )\n",
      "\n",
      "working_dir= op.join( root_dir, 'temp', 'ISBI2014' )\n",
      "\n",
      "if not op.exists( working_dir ):\n",
      "    os.makedirs( working_dir )"
     ],
     "language": "python",
     "metadata": {},
     "outputs": []
    },
    {
     "cell_type": "code",
     "collapsed": false,
     "input": [
      "t2reg_wf = dmri.t2_registration_correct()\n",
      "t2reg_wf.base_dir = working_dir\n",
      "\n",
      "t2reg_wf.inputs.inputnode.in_file = op.join( working_dir , \"dwi.nii.gz\" )\n",
      "t2reg_wf.inputs.inputnode.in_t2 = op.join( model_dir, \"t2_weighted.nii.gz\" )\n",
      "t2reg_wf.inputs.inputnode.in_mask_dwi = op.join( working_dir, \"mask_warped.nii.gz\" )\n",
      "t2reg_wf.inputs.inputnode.in_mask_t2 = op.join( model_dir, \"tpms\", \"tpm_mask.nii.gz\" )\n",
      "\n",
      "t2reg_wf.run()"
     ],
     "language": "python",
     "metadata": {},
     "outputs": []
    },
    {
     "cell_type": "code",
     "collapsed": false,
     "input": [
      "fmap_wf = wf.fieldmap_correction()\n",
      "fmap_wf.base_dir = working_dir\n",
      "\n",
      "fmap_wf.inputs.inputnode.in_file = op.join( working_dir , \"dwi.nii.gz\" )\n",
      "fmap_wf.inputs.inputnode.in_mask = op.join( model_dir, \"signal_mask.nii.gz\" )\n",
      "fmap_wf.inputs.inputnode.fieldmap_mag = op.join( model_dir, \"signal_mask.nii.gz\" )\n",
      "fmap_wf.inputs.inputnode.fieldmap_pha = op.join( working_dir, \"siemens.nii.gz\" )\n",
      "fmap_wf.inputs.inputnode.te_diff = 2.46\n",
      "fmap_wf.inputs.inputnode.epi_echospacing = 0.77\n",
      "fmap_wf.inputs.inputnode.vsm_sigma = 2.0\n",
      "fmap_wf.inputs.inputnode.encoding_direction = 'y'"
     ],
     "language": "python",
     "metadata": {},
     "outputs": []
    },
    {
     "cell_type": "code",
     "collapsed": false,
     "input": [
      "fmap_wf.run()"
     ],
     "language": "python",
     "metadata": {},
     "outputs": []
    },
    {
     "cell_type": "code",
     "collapsed": false,
     "input": [
      "topup_wf = wf.topup_correction()\n",
      "topup_wf.base_dir = working_dir\n",
      "\n",
      "topup_wf.inputs.inputnode.in_file_dir = op.join( working_dir , \"dwi.nii.gz\" )\n",
      "topup_wf.inputs.inputnode.in_file_rev = op.join( working_dir , \"dwi_rev.nii.gz\" )\n",
      "topup_wf.inputs.inputnode.encoding_direction = 'y'\n",
      "topup_wf.inputs.inputnode.ref_num = 0"
     ],
     "language": "python",
     "metadata": {},
     "outputs": []
    },
    {
     "cell_type": "code",
     "collapsed": false,
     "input": [
      "topup_wf.run()"
     ],
     "language": "python",
     "metadata": {},
     "outputs": []
    },
    {
     "cell_type": "code",
     "collapsed": false,
     "input": [],
     "language": "python",
     "metadata": {},
     "outputs": []
    }
   ],
   "metadata": {}
  }
 ]
}