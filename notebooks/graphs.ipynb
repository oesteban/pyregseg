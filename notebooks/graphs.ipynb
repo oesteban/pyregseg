{
 "cells": [
  {
   "cell_type": "code",
   "execution_count": null,
   "metadata": {
    "collapsed": false
   },
   "outputs": [],
   "source": [
    "%load_ext autoreload\n",
    "%autoreload 2\n",
    "\n",
    "import os\n",
    "import errno\n",
    "import os.path as op\n",
    "from pyacwereg import viz\n",
    "%matplotlib inline\n",
    "\n",
    "gdrive_dir = op.join(os.getenv('HOME'), 'Google Drive')\n",
    "out_dir = op.abspath(op.join(gdrive_dir, 'RegSeg', 'NIMG', 'figures'))\n",
    "data_dir = op.abspath(op.join(gdrive_dir, 'RegSeg', 'NIMG', 'data'))\n",
    "\n",
    "try:\n",
    "    os.makedirs(out_dir)\n",
    "except OSError as exc: # Python >2.5\n",
    "    if exc.errno == errno.EEXIST and os.path.isdir(out_dir):\n",
    "        pass\n",
    "    else: raise\n"
   ]
  },
  {
   "cell_type": "code",
   "execution_count": null,
   "metadata": {
    "collapsed": false
   },
   "outputs": [],
   "source": [
    "reload(viz)\n",
    "viz.regseg_fig01('figures/phantom-closeup.png', op.join(out_dir, 'figure01.pdf'))"
   ]
  },
  {
   "cell_type": "code",
   "execution_count": null,
   "metadata": {
    "collapsed": false
   },
   "outputs": [],
   "source": [
    "import os.path as op\n",
    "import nibabel as nb\n",
    "import numpy as np\n",
    "import os\n",
    "import seaborn as sn\n",
    "import pandas as pd\n",
    "from pyacwereg import viz\n",
    "from scipy.linalg import sqrtm\n",
    "\n",
    "exp_dir = op.join(data_dir, 'phantom', 'debug')\n",
    "im1 = nb.load(op.join(exp_dir, 'comps_umsk_reference_lev0.nii.gz_cmp0.nii.gz')).get_data().astype(np.float32).reshape(-1)\n",
    "\n",
    "im2 = nb.load(op.join(exp_dir, 'comps_umsk_reference_lev0.nii.gz_cmp1.nii.gz')).get_data().astype(np.float32).reshape(-1)\n",
    "\n",
    "seg = nb.load(op.join(exp_dir, 'gold_seg.nii.gz')).get_data().reshape(-1)"
   ]
  },
  {
   "cell_type": "code",
   "execution_count": null,
   "metadata": {
    "collapsed": false
   },
   "outputs": [],
   "source": [
    "reload(viz)\n",
    "myplot, o = viz.jointplot_data(im1, im2, seg, labels=['WM', 'GM', 'BG'], f1name='T1w', f2name='T2w',\n",
    "                               out_file=op.join(out_dir, 'suppl-phantom-model-kde.pdf'))"
   ]
  },
  {
   "cell_type": "code",
   "execution_count": null,
   "metadata": {
    "collapsed": false
   },
   "outputs": [],
   "source": [
    "reload(viz)\n",
    "\n",
    "lims = myplot.ax_joint.axis()\n",
    "\n",
    "xlims = (lims[0], lims[1])\n",
    "ylims = (lims[2], lims[3])\n",
    "\n",
    "locs = [ (67.68510000000001, 67.74580), (813.5069999999999, 5067.380), (1064.570, 3432.320) ]\n",
    "covs = [[ 1107.430, 4.984860, 4.984860, 1111.160 ],\n",
    "        [ 5705.010, 2663.440, 2663.440, 182251 ],\n",
    "        [  2625.350, -24.54710, -24.54710, 3588.710 ]]\n",
    "   \n",
    "o = viz.jointplot_gmm(locs, covs, xlims=xlims, ylims=ylims, labels=['BG', 'GM', 'WM'],\n",
    "                      xname='T1w', yname='T2w',\n",
    "                      out_file=op.join(out_dir, 'suppl-phantom-model-estimated.pdf'))"
   ]
  },
  {
   "cell_type": "code",
   "execution_count": null,
   "metadata": {
    "collapsed": false
   },
   "outputs": [],
   "source": [
    "reload(viz)\n",
    "\n",
    "lims = myplot.ax_joint.axis()\n",
    "\n",
    "xlims = (lims[0], lims[1])\n",
    "ylims = (lims[2], lims[3])\n",
    "\n",
    "locs = [ (68, 69), (817, 5263), (1065, 3430) ]\n",
    "covs = [[ 4938.870, 30350.30, 30350.30, 260793 ],\n",
    "        [  5717.220, 3346.830, 3346.830, 220521 ],\n",
    "        [ 2625.530, -25.54650, -25.54650, 3594.110 ]]\n",
    "\n",
    "o = viz.jointplot_gmm(locs, covs, xlims=xlims, ylims=ylims, labels=['BG', 'GM', 'WM'],\n",
    "                      xname='T1w', yname='T2w')"
   ]
  },
  {
   "cell_type": "code",
   "execution_count": null,
   "metadata": {
    "collapsed": false
   },
   "outputs": [],
   "source": [
    "reload(viz)\n",
    "\n",
    "locs = [(534.0880, 880.9040), # th\n",
    "        (361.1170, 1007.40),  # dgm, csf\n",
    "        (776.1830, 783.370),  # stem\n",
    "        (812.4059999999999, 902.4020), # wm\n",
    "        (407.4050, 892.1570), # cbGM\n",
    "        (334.630, 1156.820)]  # gm\n",
    "covs = [[27543.40, -8387.190000000001, -8387.190000000001, 5010.290],\n",
    "        [18778.20, -3622.330, -3622.330, 7400.40],\n",
    "        [29537.40, -7803.050, -7803.050, 4991.950],\n",
    "        # [38316.30, -1.0e8, - 1.0e8, 7342.090],\n",
    "        [40344.50, -13649.60, -13649.60, 11331],\n",
    "        [5474.370, -2476.580, -2476.580, 8255.410],\n",
    "        [8018.20, -2429.980, -2429.980, 10284.60]]\n",
    "   \n",
    "o = viz.jointplot_gmm(locs, covs, xlims=(0, 1500), ylims=(600, 1500), labels=['Th', 'dGM+CSF', 'Stem', 'WM', 'cbGM', 'GM' ],\n",
    "                      xname='fractional anisotropy (FA)', yname='apparent diffusion coefficient (ADC)',\n",
    "                      out_file=op.join(out_dir, 'suppl-realdata-model-estimated.pdf'))"
   ]
  },
  {
   "cell_type": "code",
   "execution_count": null,
   "metadata": {
    "collapsed": false
   },
   "outputs": [],
   "source": [
    "import matplotlib as mpl\n",
    "mpl.rcParams['font.family'] = 'serif'\n",
    "\n",
    "import seaborn as sn\n",
    "from pyacwereg import viz\n",
    "import os.path as op\n",
    "\n",
    "gold_dir = op.join(data_dir, 'experiments', 'data', 'gold')\n",
    "regseg_dir = op.join(data_dir, 'experiments', 'data', 'regseg')\n",
    "\n",
    "fa_path = op.join(regseg_dir, 'fa.nii.gz')\n",
    "md_path = op.join(regseg_dir, 'md.nii.gz')\n",
    "faref_path = op.join(gold_dir, 'fa.nii.gz')\n",
    "mdref_path = op.join(gold_dir, 'md.nii.gz')\n",
    "\n",
    "mskref_path = op.join(gold_dir, 'mask.nii.gz')\n",
    "segref_path = op.join(gold_dir, 'segment.nii.gz')\n",
    "msk_path = op.join(regseg_dir, 'mask.nii.gz')\n",
    "seg_path = op.join(regseg_dir, 'segment.nii.gz')\n",
    "\n",
    "label_names =[r'$\\Omega_{Tha}$', r'$\\Omega_{VdGM}$', r'$\\Omega_{bst}$', r'$\\Omega_{WM}$',\n",
    "              r'$\\Omega_{cbGM}$', r'$\\Omega_{GM}$', 'do-not-show']\n",
    "\n",
    "subsampling = 1."
   ]
  },
  {
   "cell_type": "code",
   "execution_count": null,
   "metadata": {
    "collapsed": true
   },
   "outputs": [],
   "source": [
    "reload(sn)\n",
    "reload(viz)\n",
    "g = viz.jointplot_compare(\n",
    "    faref_path, mdref_path, segref_path, mskref_path,\n",
    "    faref_path, mdref_path, segref_path, mskref_path,\n",
    "    size=10, labels=label_names, subsample=subsampling, dpi=300,\n",
    "    xlims=(0, 1400), ylims=(600, 1400), out_prefix=op.join(out_dir, 'distplots_gold.png'))"
   ]
  },
  {
   "cell_type": "code",
   "execution_count": null,
   "metadata": {
    "collapsed": true
   },
   "outputs": [],
   "source": [
    "reload(sn)\n",
    "reload(viz)\n",
    "g = viz.jointplot_compare(\n",
    "    fa_path, md_path, segref_path, mskref_path,\n",
    "    faref_path, mdref_path, segref_path, mskref_path,\n",
    "    size=10, labels=label_names, subsample=subsampling, dpi=300,\n",
    "    xlims=(0, 1400), ylims=(600, 1400), out_prefix=op.join(out_dir, 'distplots_prior.png'))"
   ]
  },
  {
   "cell_type": "code",
   "execution_count": null,
   "metadata": {
    "collapsed": true
   },
   "outputs": [],
   "source": [
    "reload(sn)\n",
    "reload(viz)\n",
    "g = viz.jointplot_compare(\n",
    "    fa_path, md_path, seg_path, msk_path,\n",
    "    faref_path, mdref_path, segref_path, mskref_path,\n",
    "    size=10, labels=label_names, subsample=subsampling, dpi=300,\n",
    "    # xlabel='FA (fractional anisotropy)', ylabel='ADC (apparent diffusion coefficient)',\n",
    "    xlims=(0, 1400), ylims=(600, 1400), out_prefix=op.join(out_dir, 'distplots_post.png'))"
   ]
  },
  {
   "cell_type": "code",
   "execution_count": null,
   "metadata": {
    "collapsed": false
   },
   "outputs": [],
   "source": [
    "reload(sn)\n",
    "reload(viz)\n",
    "g = viz.jointplot_real(faref_path, mdref_path, segref_path, mskref_path, size=8,\n",
    "                       labels=[r'$\\Omega_{Tha}$', r'$\\Omega_{VdGM}$', r'$\\Omega_{bst}$', r'$\\Omega_{WM}$',\n",
    "                               r'$\\Omega_{cbGM}$', r'$\\Omega_{GM}$', 'do-not-show'],\n",
    "                       xlabel='FA (fractional anisotropy)',\n",
    "                       ylabel='ADC (apparent diffusion coefficient)',\n",
    "                       xlims=(0, 1400), ylims=(600, 1400), out_file=op.join(out_dir, 'jointplot_gold.png'))"
   ]
  },
  {
   "cell_type": "code",
   "execution_count": null,
   "metadata": {
    "collapsed": false
   },
   "outputs": [],
   "source": [
    "reload(viz)\n",
    "g = viz.jointplot_real(fa_path, md_path, seg_path, msk_path, size=8,\n",
    "                       labels=[r'$\\Omega_{Tha}$', r'$\\Omega_{VdGM}$', r'$\\Omega_{bst}$', r'$\\Omega_{WM}$',\n",
    "                               r'$\\Omega_{cbGM}$', r'$\\Omega_{GM}$', 'do-not-show'],\n",
    "                       xlabel='FA (fractional anisotropy)',\n",
    "                       ylabel='ADC (apparent diffusion coefficient)',\n",
    "                       xlims=(0, 1500), ylims=(600, 1500), out_file=op.join(out_dir, 'jointplot_regseg.png'))"
   ]
  },
  {
   "cell_type": "code",
   "execution_count": null,
   "metadata": {
    "collapsed": false
   },
   "outputs": [],
   "source": [
    "reload(viz)\n",
    "g = viz.jointplot_real(fa_path, md_path, segref_path, mskref_path, size=8,\n",
    "                       labels=[r'$\\Omega_{Tha}$', r'$\\Omega_{VdGM}$', r'$\\Omega_{bst}$', r'$\\Omega_{WM}$',\n",
    "                               r'$\\Omega_{cbGM}$', r'$\\Omega_{GM}$', 'do-not-show'],\n",
    "                       xlabel='FA (fractional anisotropy)',\n",
    "                       ylabel='ADC (apparent diffusion coefficient)',\n",
    "                       xlims=(0, 1500), ylims=(600, 1500), out_file=op.join(out_dir, 'jointplot_prior.png'))"
   ]
  },
  {
   "cell_type": "code",
   "execution_count": null,
   "metadata": {
    "collapsed": false
   },
   "outputs": [],
   "source": [
    "import os\n",
    "import os.path as op\n",
    "from pyacwereg import viz\n",
    "import pandas as pd"
   ]
  },
  {
   "cell_type": "code",
   "execution_count": null,
   "metadata": {
    "collapsed": false
   },
   "outputs": [],
   "source": [
    "exp_dir = '/scr/data/Neuro-Databases/TMI2014/experiments/NeuroImage2/REGSEG/_bmap_id_001_subject_id_HCP100307/ACWERegistration'\n",
    "df, data = parse_log(op.join(exp_dir, 'regseg.log'))"
   ]
  },
  {
   "cell_type": "code",
   "execution_count": null,
   "metadata": {
    "collapsed": false
   },
   "outputs": [],
   "source": [
    "exp_dir = op.join( os.getenv('NEURO_DATA_HOME', os.getenv('HOME')), 'MRM2014', 'tmp_tmi', 'HCP_MRM2014')\n",
    "exp_dir = '/home/oesteban/tmp/acweregphantom'\n",
    "df, data = parse_log(op.join(exp_dir, 'experimental.log'))"
   ]
  },
  {
   "cell_type": "code",
   "execution_count": null,
   "metadata": {
    "collapsed": false
   },
   "outputs": [],
   "source": [
    "levels = data['levels']\n",
    "desc = data['description']"
   ]
  },
  {
   "cell_type": "code",
   "execution_count": null,
   "metadata": {
    "collapsed": false
   },
   "outputs": [],
   "source": [
    "for l in levels:\n",
    "    print l[-1]['summary']['stop_msg']"
   ]
  },
  {
   "cell_type": "code",
   "execution_count": null,
   "metadata": {
    "collapsed": false
   },
   "outputs": [],
   "source": [
    "import os\n",
    "import os.path as op\n",
    "from pyacwereg.interfaces import acwereg as r\n",
    "exp_dir = '/scr/data/Neuro-Databases/TMI2014/experiments/NeuroImage3/REGSEG/_subject_id_HCP100307/ACWERegistration'\n",
    "# exp_dir = '/media/data/NeuroImage2015/experiments/profiling'\n",
    "intf = r.ACWEReport(in_log=op.join(exp_dir, 'regseg.log'), out_file='/home/oesteban/tmp/realdata.pdf')\n",
    "intf.run()"
   ]
  },
  {
   "cell_type": "code",
   "execution_count": null,
   "metadata": {
    "collapsed": false
   },
   "outputs": [],
   "source": [
    "import os\n",
    "import os.path as op\n",
    "from pyacwereg.interfaces import acwereg as r\n",
    "reload(r)\n",
    "\n",
    "exp_dir = '/scr/data/Neuro-Databases/TMI2014/phantom/eclipse'\n",
    "intf = r.ACWEReport(in_log=op.join(exp_dir, 'regseg.log'), out_file='/home/oesteban/tmp/phantom2.pdf')\n",
    "intf.run()"
   ]
  },
  {
   "cell_type": "code",
   "execution_count": null,
   "metadata": {
    "collapsed": false
   },
   "outputs": [],
   "source": [
    "import os\n",
    "import os.path as op\n",
    "from pyacwereg.interfaces import acwereg as r\n",
    "reload(r)\n",
    "\n",
    "exp_dir = '/media/data/NeuroImage2015/experiments/profiling'\n",
    "intf = r.ACWEReport(in_log=op.join(exp_dir, 'regseg.log'), out_file='/home/oesteban/tmp/real_msk.pdf')\n",
    "intf.run()"
   ]
  },
  {
   "cell_type": "code",
   "execution_count": null,
   "metadata": {
    "collapsed": false
   },
   "outputs": [],
   "source": [
    "import os\n",
    "import os.path as op\n",
    "from pyacwereg import viz\n",
    "\n",
    "exp_dir = '/media/data/NeuroImage2015/phantoms/Experiment001'\n",
    "# exp_dir = '/scr/data/Neuro-Databases/TMI2014/phantom'\n",
    "csv_file = op.join(exp_dir, 'results.csv')"
   ]
  },
  {
   "cell_type": "code",
   "execution_count": null,
   "metadata": {
    "collapsed": false
   },
   "outputs": [],
   "source": [
    "from scipy import stats as sst\n",
    "import scipy  \n",
    "import scikits.bootstrap as bootstrap\n",
    "import pandas as pd\n",
    "orig_df = pd.read_csv(csv_file).drop_duplicates(subset=['repetition', 'model_type', 'resolution', 'surf_id'])\n",
    "del orig_df['Unnamed: 0']\n",
    "# df.describe()\n",
    "\n",
    "results = {}\n",
    "\n",
    "for res in ['hi', 'lo']:\n",
    "    df = orig_df[orig_df.resolution == res]\n",
    "    resval = 2.0 if res == 'lo' else 1.0\n",
    "    \n",
    "    results[res] = { 'aggregated': {}}\n",
    "    results[res]['aggregated']['normality'] = 'p=%g' % sst.shapiro(df.surfdist_avg)[1]\n",
    "    results[res]['aggregated']['accuracy'] = 'p=%g' % sst.wilcoxon(df.surfdist_avg - resval)[1]\n",
    "    results[res]['aggregated']['cohens_d'] = df.surfdist_avg.mean() / df.surfdist_avg.std()\n",
    "    results[res]['aggregated']['CI0'], results[res]['aggregated']['CI1'] = bootstrap.ci(data=df.surfdist_avg, statfunction=scipy.median)\n",
    "    \n",
    "    for t in ['gyrus', 'ball', 'L', 'box']:\n",
    "        results[res][t] = {}\n",
    "        ndf = df[df.model_type == t]\n",
    "        sig = (.001 / len(ndf.surfdist_avg))\n",
    "\n",
    "        normtest = sst.shapiro(ndf.surfdist_avg)[1]\n",
    "        results[res][t]['normality'] = 'p=%g' % normtest\n",
    "        \n",
    "        rstest = sst.wilcoxon(ndf.surfdist_avg - resval)[1]\n",
    "        results[res][t]['accuracy'] = 'p=%g' % rstest\n",
    "        results[res][t]['cohens_d'] = ndf.surfdist_avg.mean() / ndf.surfdist_avg.std()\n",
    "        results[res][t]['CI0'], results[res][t]['CI1'] = bootstrap.ci(data=ndf.surfdist_avg, statfunction=scipy.median)\n",
    "\n",
    "        \n",
    "resdf_hi = pd.DataFrame(results['hi'])\n",
    "resdf_low = pd.DataFrame(results['lo'])\n",
    "resdf_low"
   ]
  },
  {
   "cell_type": "code",
   "execution_count": null,
   "metadata": {
    "collapsed": false
   },
   "outputs": [],
   "source": [
    "resdf_hi"
   ]
  },
  {
   "cell_type": "code",
   "execution_count": null,
   "metadata": {
    "collapsed": false
   },
   "outputs": [],
   "source": [
    "import os\n",
    "import os.path as op\n",
    "from pyacwereg import viz\n",
    "\n",
    "exp_dir = '/media/data/NeuroImage2015/phantoms/Experiment001'\n",
    "# exp_dir = '/scr/data/Neuro-Databases/TMI2014/phantom'\n",
    "csv_file = op.join(exp_dir, 'results.csv')\n",
    "reload(viz)\n",
    "g2 = viz.phantom_errors(csv_file, out_file='/home/oesteban/Dropbox/My Publications/2015-NeuroImage/figures/figure03-c.pdf')"
   ]
  },
  {
   "cell_type": "code",
   "execution_count": null,
   "metadata": {
    "collapsed": false
   },
   "outputs": [],
   "source": [
    "from glob import glob\n",
    "from pyacwereg import viz\n",
    "import os.path as op\n",
    "from pyacwereg.interfaces import utility as piu\n",
    "\n",
    "exp_dir = '/scr/data/Neuro-Databases/TMI2014/experiments/NeuroImage3/_subject_id_HCP100307/ExportREGSEG'\n",
    "files = sorted(glob(op.join(exp_dir, '*.png')))\n"
   ]
  },
  {
   "cell_type": "code",
   "execution_count": null,
   "metadata": {
    "collapsed": false
   },
   "outputs": [],
   "source": [
    "reload(piu)\n",
    "\n",
    "f = piu.TileSlicesGrid()\n",
    "f.inputs.in_reference = ['/home/oesteban/tmp/slices_gridplot0.pdf', '/home/oesteban/tmp/slices_gridplot1.pdf']\n",
    "f.inputs.in_competing = ['/home/oesteban/tmp/slices_gridplot1.pdf', '/home/oesteban/tmp/slices_gridplot0.pdf']\n",
    "print f.cmdline"
   ]
  },
  {
   "cell_type": "code",
   "execution_count": null,
   "metadata": {
    "collapsed": false
   },
   "outputs": [],
   "source": [
    "reload(viz)\n",
    "# g = viz.slices_gridplot(files, size=(5, 5), discard=2, view=['axial', 'coronal', 'sagittal'])\n",
    "g = viz.slices_gridplot(files, slices=[38, 48, 57, 67, 76, 86], view='sagittal', label='regseg')"
   ]
  },
  {
   "cell_type": "code",
   "execution_count": null,
   "metadata": {
    "collapsed": false
   },
   "outputs": [],
   "source": [
    "reload(piu)\n",
    "\n",
    "f = piu.SlicesGridplot()\n",
    "f.inputs.in_files = files\n",
    "f.inputs.slices = [38, 48, 57, 67, 76, 86]\n",
    "f.inputs.out_file = '/home/oesteban/tmp/slices_gridplot'\n",
    "f.inputs.label = ['regseg', 'regseg']\n",
    "f.inputs.view = ['axial', 'sagittal']\n",
    "r = f.run()\n",
    "print r.outputs"
   ]
  },
  {
   "cell_type": "code",
   "execution_count": null,
   "metadata": {
    "collapsed": false
   },
   "outputs": [],
   "source": [
    "import os\n",
    "import os.path as op\n",
    "from pyacwereg import viz\n",
    "import pandas as pd\n",
    "\n",
    "exp_dir = '/scr/data/Neuro-Databases/TMI2014/experiments'\n",
    "\n",
    "df = pd.concat([pd.read_csv(op.join(exp_dir, f)) for f in ['NeuroImage3/results.csv', 'NeuroImage3Ceo/results.csv']])\n",
    "# df = pd.concat([pd.read_csv(op.join(exp_dir, f)) for f in ['NeuroImage3/results.csv']])\n",
    "df = df.drop_duplicates(subset=['subject_id', 'method']).reset_index(drop=True)\n",
    "del df['Unnamed: 0']\n",
    "\n",
    "csv_file = op.join(exp_dir, 'aggregate.csv')\n",
    "\n",
    "df.to_csv(csv_file)"
   ]
  },
  {
   "cell_type": "code",
   "execution_count": null,
   "metadata": {
    "collapsed": false
   },
   "outputs": [],
   "source": [
    "import scipy  \n",
    "import scikits.bootstrap as bootstrap\n",
    "from scipy import stats as sst\n",
    "\n",
    "regsegdf = df[df.method=='REGSEG'].reset_index(drop=True)\n",
    "t2bdf = df[df.method=='T2B'].reset_index(drop=True)\n",
    "\n",
    "for i in range(6):\n",
    "    rgsCIs = bootstrap.ci(data=regsegdf['surf_dist_%d' % i], statfunction=scipy.mean)\n",
    "    t2bCIs = bootstrap.ci(data=t2bdf['surf_dist_%d' % i], statfunction=scipy.mean)\n",
    "    f_val, p_val = sst.f_oneway(regsegdf['surf_dist_%d' % i], t2bdf['surf_dist_%d' % i])\n",
    "    \n",
    "    print 'regseg CI Surf %d = [ %.2f - %.2f]' % (i, rgsCIs[0], rgsCIs[1])\n",
    "    print 't2b CI Surf %d = [ %.2f - %.2f]' % (i, t2bCIs[0], t2bCIs[1])\n",
    "    print 'ANOVA f-stat, p-value = (%.2f/%.2g)' % (f_val, p_val)\n",
    "    \n",
    "    f_val, p_val = sst.kruskal(regsegdf['surf_dist_%d' % i], t2bdf['surf_dist_%d' % i])\n",
    "    print 'KW H-test H-stat, p-value = (%.2f/%.2g)' % (f_val, p_val)\n",
    "\n",
    "rgsCIs = bootstrap.ci(data=regsegdf[['surf_dist_1','surf_dist_3', 'surf_dist_5']].values.reshape(-1), statfunction=scipy.mean)\n",
    "t2bCIs = bootstrap.ci(data=t2bdf[['surf_dist_1','surf_dist_3', 'surf_dist_5']].values.reshape(-1), statfunction=scipy.mean)\n",
    "f_val, p_val = sst.f_oneway(regsegdf[['surf_dist_1','surf_dist_3', 'surf_dist_5']].values.reshape(-1), t2bdf[['surf_dist_1','surf_dist_3', 'surf_dist_5']].values.reshape(-1))\n",
    "    \n",
    "print 'regseg CI aggregated = [ %.2f - %.2f]' % (rgsCIs[0], rgsCIs[1])\n",
    "print 't2b CI aggregated = [ %.2f - %.2f]' % (t2bCIs[0], t2bCIs[1])\n",
    "print 'ANOVA f-stat, p-value = (%.2f/%.2g)' % (f_val, p_val)\n",
    "\n",
    "f_val, p_val = sst.kruskal(regsegdf[['surf_dist_1','surf_dist_3', 'surf_dist_5']].values.reshape(-1), t2bdf[['surf_dist_1','surf_dist_3', 'surf_dist_5']].values.reshape(-1))\n",
    "print 'KW H-test H-stat, p-value = (%.2f/%.2g)' % (f_val, p_val)"
   ]
  },
  {
   "cell_type": "code",
   "execution_count": null,
   "metadata": {
    "collapsed": false
   },
   "outputs": [],
   "source": [
    "reload(viz)\n",
    "viz.realdata_errors(csv_file, out_file='/home/oesteban/Dropbox/My Publications/2015-NeuroImage/figures/figure06-b.pdf')"
   ]
  },
  {
   "cell_type": "code",
   "execution_count": null,
   "metadata": {
    "collapsed": false
   },
   "outputs": [],
   "source": []
  }
 ],
 "metadata": {
  "kernelspec": {
   "display_name": "Python 2",
   "language": "python",
   "name": "python2"
  },
  "language_info": {
   "codemirror_mode": {
    "name": "ipython",
    "version": 2
   },
   "file_extension": ".py",
   "mimetype": "text/x-python",
   "name": "python",
   "nbconvert_exporter": "python",
   "pygments_lexer": "ipython2",
   "version": "2.7.11"
  }
 },
 "nbformat": 4,
 "nbformat_minor": 0
}
