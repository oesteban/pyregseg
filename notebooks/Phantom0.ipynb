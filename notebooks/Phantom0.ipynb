{
 "metadata": {
  "name": ""
 },
 "nbformat": 3,
 "nbformat_minor": 0,
 "worksheets": [
  {
   "cells": [
    {
     "cell_type": "code",
     "collapsed": false,
     "input": [
      "import os\n",
      "import os.path as op\n",
      "import nibabel as nb\n",
      "import shutil as sh\n",
      "\n",
      "    \n",
      "project_dir = '/home/oesteban/workspace/ACWE-Reg/'\n",
      "\n",
      "import sys\n",
      "sys.path.append( op.join( project_dir, 'Scripts/workflows' ) )\n",
      "sys.path.append( op.join( project_dir, 'Scripts/util' ) )\n",
      "\n",
      "import dmri as dmri\n",
      "import surfaces as surf\n",
      "import misc as misc\n",
      "\n",
      "import scipy.ndimage as ndimage\n",
      "\n",
      "#from nipype.algorithms.misc import AddNoise"
     ],
     "language": "python",
     "metadata": {},
     "outputs": [],
     "prompt_number": 1
    },
    {
     "cell_type": "code",
     "collapsed": false,
     "input": [
      "phantom_id = 0\n",
      "\n",
      "data_dir= op.join( project_dir, 'Data' )\n",
      "phantomname = 'Phantom%d' % phantom_id\n",
      "phantom_dir = op.join( data_dir, phantomname )\n",
      "workdir= op.join( project_dir, 'temp', phantomname )\n",
      "shapenames = [ 'ball', 'box', 'gyrus' ]\n",
      "#shapenames = [ 'box' ]\n",
      "\n",
      "rois = [ 'bg', 'wm', 'gm', 'csf' ]\n",
      "snrs = [ 10, 20, 30 ]\n",
      "\n",
      "if not op.exists( workdir ):\n",
      "    os.makedirs( workdir )"
     ],
     "language": "python",
     "metadata": {},
     "outputs": [],
     "prompt_number": 2
    },
    {
     "cell_type": "code",
     "collapsed": false,
     "input": [
      "def genNiftiVol( data, dtype=np.uint8 ):\n",
      "    shape = np.array(np.shape( data ), dtype=np.float32 )\n",
      "    if np.ndim( data ) > 3:\n",
      "        shape = shape[1:]\n",
      "        \n",
      "    affine = np.identity( 4 )\n",
      "    affine[0:3,3] = -0.5 * shape\n",
      "    hdr = nb.Nifti1Header()\n",
      "    hdr.set_data_dtype( np.uint8 )\n",
      "    hdr['xyzt_units'] = 2 # mm.\n",
      "\n",
      "    hdr['data_type'] = 2\n",
      "    hdr['qform_code'] = 1 # scanner\n",
      "    hdr['sform_code'] = 2 # aligned\n",
      "\n",
      "    if np.ndim( data ) > 3:\n",
      "        hdr['xyzt_units'] = 2 + 8 # mm + sec\n",
      "        nii_array = []\n",
      "        for im in data:\n",
      "            nii_array.append( nb.Nifti1Image( im.astype(dtype), affine, hdr ) )       \n",
      "        nii = nb.concat_images( nii_array )\n",
      "\n",
      "    else:\n",
      "        nii = nb.Nifti1Image( data.astype( dtype ), affine, hdr )\n",
      "    return nii    "
     ],
     "language": "python",
     "metadata": {},
     "outputs": [],
     "prompt_number": 4
    },
    {
     "cell_type": "code",
     "collapsed": false,
     "input": [
      "def genBall(datashape=( 101,101,101 ), radius=17, cortex=True):\n",
      "    wm = misc.ball( datashape, radius )\n",
      "       \n",
      "    if cortex:\n",
      "        ball2 = misc.ball(11,4.4)\n",
      "        gm = ndimage.binary_dilation( wm, structure=ball2 ).astype( np.uint8 ) - wm\n",
      "        bg = np.ones_like( wm ) - (gm + wm)\n",
      "        return [ bg, wm, gm ]\n",
      "    else:\n",
      "        bg = np.ones_like( wm ) - wm\n",
      "        return [ bg, wm ]    \n",
      "    \n",
      "def genGyrus(datashape=(101,101,101), radius=35, cortex=True):\n",
      "    modelbase = misc.ball( datashape, radius )\n",
      "    center_pix = ((np.array( datashape )-1)*0.5).astype(np.uint8)\n",
      "    modelbase[center_pix[0],:, center_pix[2]: ] = 0\n",
      "    ball1 = misc.ball(11,4.5)    \n",
      "    wm = ndimage.binary_opening( ndimage.binary_erosion( modelbase, structure=ball1 ).astype( np.uint8 ), structure=ball1 ).astype( np.uint8 )\n",
      "    \n",
      "    if cortex:\n",
      "        ball2 = misc.ball(11,4.4)\n",
      "        gm = ndimage.binary_dilation( wm, structure=ball2 ).astype( np.uint8 ) - wm\n",
      "        bg = np.ones_like( modelbase ) - (gm + wm)\n",
      "        return [ bg, wm, gm ]\n",
      "    else:\n",
      "        bg = np.ones_like( modelbase ) - wm\n",
      "        return [ bg, wm ]\n",
      "    \n",
      "def genBox( datashape=(101,101,101), coverage=0.4, cortex=True ):\n",
      "    modelbase = np.zeros( shape=datashape )\n",
      "    extent = np.around(  coverage * np.array( datashape ) )\n",
      "    padding = np.around( 0.5 * (np.array( datashape ) - extent) )\n",
      "    end = np.array( datashape ) - padding\n",
      "    \n",
      "    modelbase[padding[0]:end[0],padding[1]:end[1],padding[2]:end[2]] = 1\n",
      "    \n",
      "    ball1 = misc.ball(11,4.5)\n",
      "    wm = ndimage.binary_opening( ndimage.binary_erosion( modelbase, structure=ball1 ).astype( np.uint8 ), structure=ball1 ).astype( np.uint8 )\n",
      "    \n",
      "    if cortex:\n",
      "        ball2 = misc.ball(11,4.4)\n",
      "        gm = ndimage.binary_dilation( wm, structure=ball2 ).astype( np.uint8 ) - wm\n",
      "        bg = np.ones_like( modelbase ) - (gm + wm)\n",
      "        return [ bg, wm, gm ]\n",
      "    else:\n",
      "        bg = np.ones_like( modelbase ) - wm\n",
      "        return [ bg, wm ]\n",
      "    \n",
      "def genShape( name, cortex=True ):\n",
      "    if name == 'box':\n",
      "        return genBox( cortex=cortex )\n",
      "    elif name == 'ball':\n",
      "        return genBall( cortex=cortex )\n",
      "    elif name == 'gyrus':\n",
      "        return genGyrus( cortex=cortex )\n",
      "    else:\n",
      "        return genBox()\n",
      "    \n",
      "def genContrast( model, values ):\n",
      "    assert( len( model ) > 1 )\n",
      "    assert( (len(model)-1) <= len(values) )\n",
      "    \n",
      "    if( (len(model)-1) < len(values) ):\n",
      "        values = values[0:len(model)]\n",
      "    \n",
      "    \n",
      "    contrast = np.zeros_like( model[0] )\n",
      "    for c,v in zip( model[1:], values ):\n",
      "        contrast = contrast + c * v\n",
      "    return contrast"
     ],
     "language": "python",
     "metadata": {},
     "outputs": [],
     "prompt_number": 5
    },
    {
     "cell_type": "markdown",
     "metadata": {},
     "source": [
      "<h1>Surface decimation</h1>\n",
      "Ref: <a href=\"http://docs.enthought.com/mayavi/mayavi/auto/example_julia_set_decimation.html\">Mayavi code for decimation</a>"
     ]
    },
    {
     "cell_type": "code",
     "collapsed": false,
     "input": [
      "def decimate_mesh( in_file, out_file=None, reduction=0.95, smoothing_it=5 ):\n",
      "    import os.path as op\n",
      "    from mayavi import mlab\n",
      "    from tvtk.api import tvtk\n",
      "        \n",
      "    if out_file is None:\n",
      "        fname,fext = op.splitext( op.basename( in_file ) )\n",
      "        if fext == '.gz':\n",
      "            fname, fext2 = op.splitext( fname )\n",
      "            fext = fext2+fext\n",
      "            \n",
      "    reader =tvtk.PolyDataReader( file_name=in_file )\n",
      "    \n",
      "    dec = tvtk.DecimatePro(input=reader.output, target_reduction=reduction)\n",
      "    smooth = tvtk.SmoothPolyDataFilter( input=dec.output, number_of_iterations=smoothing_it )\n",
      "    writer = tvtk.PolyDataWriter( file_name=out_file, input=smooth.output )\n",
      "    reader.update()\n",
      "    dec.update()\n",
      "    smooth.update()\n",
      "    writer.update()\n",
      "    return out_file"
     ],
     "language": "python",
     "metadata": {},
     "outputs": [],
     "prompt_number": 6
    },
    {
     "cell_type": "markdown",
     "metadata": {},
     "source": [
      "<h1>Generate phantoms</h1>"
     ]
    },
    {
     "cell_type": "code",
     "collapsed": false,
     "input": [
      "isCortex = False\n",
      "te_incr = 2.46e-3 # secs\n",
      "dwell_time = 0.77e-3 # secs\n",
      "edir = 'z'\n",
      "cnames = [ 't1w', 't2w' ]\n",
      "\n",
      "for sname in shapenames:\n",
      "    model_dir = op.join( phantom_dir, sname )\n",
      "    if not op.exists( model_dir ):\n",
      "        os.makedirs( model_dir )\n",
      "        \n",
      "    roifnames = [ op.join( workdir, '%s_tpm_%s.nii.gz' % (sname,rname) ) for rname in rois ]\n",
      "    mdata = genShape( sname, cortex=isCortex )\n",
      "    \n",
      "    for i,data in enumerate( mdata ):\n",
      "        nb.save( genNiftiVol( data ), roifnames[i] )\n",
      "        \n",
      "    nb.save( genNiftiVol( mdata ), op.join( model_dir, 'model.nii.gz' ) )\n",
      "    mask = np.ones_like( mdata[0] ) - mdata[0]\n",
      "    immask = op.join( model_dir, 'mask.nii.gz' ) \n",
      "    nb.save( genNiftiVol( mask ), immask )\n",
      "    \n",
      "    contrasts = [ genContrast( mdata, [ 110, 70 ] ), genContrast( mdata, [ 70, 90 ] ) ]\n",
      "    \n",
      "    n = genNiftiVol( contrasts )\n",
      "    mriname = op.join( model_dir, 'mri-noise-free.nii.gz' )\n",
      "    nb.save( n, mriname )\n",
      "\n",
      "    for snr in snrs:\n",
      "        imgs = []\n",
      "        for cdata,cname in zip(contrasts, cnames):\n",
      "            noisy = misc.gen_noise( cdata, mask )\n",
      "            noisy = 255 * noisy / noisy.max()\n",
      "            imgs.append( noisy )\n",
      "            \n",
      "            #outname = op.join( workdir, '%s-SNR%d.nii.gz' % (cname,snr) )\n",
      "            #impath =  op.join( workdir, '%s-noise-free.nii.gz' % cname )\n",
      "            #nb.save( genNiftiVol( cdata ), impath )\n",
      "            #addnoise = AddNoise()\n",
      "            #addnoise.inputs.in_file = impath\n",
      "            #addnoise.inputs.in_mask = immask\n",
      "            #addnoise.inputs.out_file = outname\n",
      "            #addnoise.inputs.snr = snr\n",
      "            #res = t1_noise.run()\n",
      "            #imgs.append( nib.load( outname ).get_data() )\n",
      "        nb.save( genNiftiVol( imgs ), op.join( model_dir, 'mri-SNR%d.nii.gz' % snr ) )\n",
      "    \n",
      "    # Generate surfaces\n",
      "    totalImage = np.zeros_like( mdata[0] )\n",
      "    for i,data in enumerate( mdata[1:] ):\n",
      "        t1path = op.join( workdir, '%s-%s-norm.nii.gz' % (sname,cnames[0] ) )\n",
      "        nb.save( genNiftiVol( contrasts[0] ), t1path )\n",
      "        \n",
      "        totalImage = totalImage + data\n",
      "        roiname = op.join( workdir, \"tempROI-%s.nii.gz\" % rois[i+1] )\n",
      "        nb.save( genNiftiVol( totalImage ), roiname )\n",
      "        \n",
      "        wf = surf.binary2contour_workflow( name=(\"Contour_%02d\" % i ))\n",
      "        wf.base_dir = op.join( workdir, sname )\n",
      "        wf.inputs.inputnode.in_file = roiname\n",
      "        wf.inputs.inputnode.in_norm = t1path\n",
      "        wf.inputs.inputnode.out_folder = model_dir\n",
      "        res = wf.run()\n",
      "        \n",
      "\n",
      "    \n",
      "    # Model deformation: synthetic distortion\n",
      "    out_name_dist = op.join( model_dir, 'mri-noise-free-deformed.nii.gz' )\n",
      "    \n",
      "    wf = dmri.distortion_workflow()\n",
      "    wf.base_dir = workdir\n",
      "    wf.inputs.inputnode.in_file = mriname\n",
      "    wf.inputs.inputnode.in_mask = immask\n",
      "    wf.inputs.inputnode.te_incr = te_incr\n",
      "    wf.inputs.inputnode.echospacing = dwell_time\n",
      "    wf.inputs.inputnode.encoding_direction = edir\n",
      "    wf.inputs.inputnode.intensity = 0.05\n",
      "    wf.inputs.inputnode.sigma = 8.0\n",
      "    wf.inputs.inputnode.in_tpms = roifnames[1:len(mdata)]\n",
      "    res = wf.run()\n",
      "    \n",
      "    dist_out = op.join( workdir, wf.name, 'Fugue_WarpDWIs', 'merge_DWI', 'mri-noise-free_000_warped_merged.nii.gz' )\n",
      "    dist_msk = op.join( workdir, wf.name, 'Fugue_WarpMask', 'mask_warped.nii.gz' )\n",
      "    sh.copyfile( dist_out, out_name_dist )\n",
      "    \n",
      "    dist_nii = nb.load( dist_out )\n",
      "    contrasts = [ im.get_data() for im in nb.four_to_three( dist_nii ) ]\n",
      "    mask = nb.load( dist_msk ).get_data()\n",
      "    mask[ mask <= 0.75 ] = 0.0\n",
      "    mask[ mask > 0.0 ] = 1.0\n",
      "    out_name_mask = op.join( model_dir, 'mri-mask-deformed.nii.gz' )\n",
      "    nb.save( genNiftiVol( mask ), out_name_mask )\n",
      "    \n",
      "    for snr in snrs:\n",
      "        imgs = []\n",
      "        for cdata,cname in zip(contrasts, cnames):\n",
      "            noisy = misc.gen_noise( cdata, mask )\n",
      "            noisy = 255 * noisy / noisy.max()\n",
      "            imgs.append( noisy )\n",
      "            \n",
      "            #outname = op.join( workdir, '%s-SNR%d.nii.gz' % (cname,snr) )\n",
      "            #impath =  op.join( workdir, '%s-noise-free.nii.gz' % cname )\n",
      "            #nb.save( genNiftiVol( cdata ), impath )\n",
      "            #addnoise = AddNoise()\n",
      "            #addnoise.inputs.in_file = impath\n",
      "            #addnoise.inputs.in_mask = immask\n",
      "            #addnoise.inputs.out_file = outname\n",
      "            #addnoise.inputs.snr = snr\n",
      "            #res = t1_noise.run()\n",
      "            #imgs.append( nib.load( outname ).get_data() )\n",
      "        nb.save( genNiftiVol( imgs ), op.join( model_dir, 'mri-SNR%d-deformed.nii.gz' % snr ) )\n",
      "        \n",
      "    # Copy & decimate\n",
      "    for i,data in enumerate( mdata[1:] ):\n",
      "        out_surf_name = op.join( model_dir, 'surfs-%s.vtk' % rois[i+1] )\n",
      "        surf_out = op.join( workdir, sname, 'Contour_%02d' % i, 'tovtk', 'tempROI-%s_pretess_smoothed.mgz_1_conv.vtk' % rois[i+1] )\n",
      "        sh.copyfile( surf_out, out_surf_name )\n",
      "        \n",
      "        out_surfd_name = op.join( model_dir, 'surfs-%s-decimated.vtk' % rois[i+1] )\n",
      "        decimate_mesh( out_surf_name, out_file=out_surfd_name, smoothing_it=15)\n",
      "    \n",
      "    "
     ],
     "language": "python",
     "metadata": {},
     "outputs": [
      {
       "output_type": "stream",
       "stream": "stderr",
       "text": [
        "INFO:workflow:['check', 'execution', 'logging']\n"
       ]
      },
      {
       "output_type": "stream",
       "stream": "stderr",
       "text": [
        "INFO:workflow:Running serially.\n"
       ]
      },
      {
       "output_type": "stream",
       "stream": "stderr",
       "text": [
        "INFO:workflow:Executing node pretess in dir: /home/oesteban/workspace/ACWE-Reg/temp/Phantom0/ball/Contour_00/pretess\n"
       ]
      },
      {
       "output_type": "stream",
       "stream": "stderr",
       "text": [
        "INFO:workflow:Executing node tess in dir: /home/oesteban/workspace/ACWE-Reg/temp/Phantom0/ball/Contour_00/tess\n"
       ]
      },
      {
       "output_type": "stream",
       "stream": "stderr",
       "text": [
        "INFO:workflow:Running: mri_tessellate -n /home/oesteban/workspace/ACWE-Reg/temp/Phantom0/ball/Contour_00/pretess/tempROI-wm_pretess.mgz 1 ./tempROI-wm_pretess.mgz_1\n"
       ]
      },
      {
       "output_type": "stream",
       "stream": "stderr",
       "text": [
        "INFO:interface:stdout 2014-02-11T14:56:49.647367:surface saved uses coordinates in the real RAS where c_(r,a,s) != 0\n"
       ]
      },
      {
       "output_type": "stream",
       "stream": "stderr",
       "text": [
        "INFO:interface:stdout 2014-02-11T14:56:49.647367:$Id: mri_tessellate.c,v 1.36 2011/03/02 00:04:25 nicks Exp $\n"
       ]
      },
      {
       "output_type": "stream",
       "stream": "stderr",
       "text": [
        "INFO:interface:stdout 2014-02-11T14:56:49.647367:  $Id: mrisurf.c,v 1.693.2.7 2013/05/12 22:28:01 nicks Exp $\n"
       ]
      },
      {
       "output_type": "stream",
       "stream": "stderr",
       "text": [
        "INFO:interface:stdout 2014-02-11T14:56:49.700695:slice 40: 932 vertices, 981 faces\n"
       ]
      },
      {
       "output_type": "stream",
       "stream": "stderr",
       "text": [
        "INFO:interface:stdout 2014-02-11T14:56:49.700695:slice 50: 2532 vertices, 2597 faces\n"
       ]
      },
      {
       "output_type": "stream",
       "stream": "stderr",
       "text": [
        "INFO:interface:stdout 2014-02-11T14:56:49.700695:slice 60: 4048 vertices, 4105 faces\n"
       ]
      },
      {
       "output_type": "stream",
       "stream": "stderr",
       "text": [
        "INFO:interface:stdout 2014-02-11T14:56:49.700695:slice 70: 5336 vertices, 5334 faces\n"
       ]
      },
      {
       "output_type": "stream",
       "stream": "stderr",
       "text": [
        "INFO:interface:stdout 2014-02-11T14:56:49.700695:slice 80: 5336 vertices, 5334 faces\n"
       ]
      },
      {
       "output_type": "stream",
       "stream": "stderr",
       "text": [
        "INFO:interface:stdout 2014-02-11T14:56:49.700695:slice 90: 5336 vertices, 5334 faces\n"
       ]
      },
      {
       "output_type": "stream",
       "stream": "stderr",
       "text": [
        "INFO:interface:stdout 2014-02-11T14:56:49.700695:slice 100: 5336 vertices, 5334 faces\n"
       ]
      },
      {
       "output_type": "stream",
       "stream": "stderr",
       "text": [
        "INFO:interface:stdout 2014-02-11T14:56:49.700695:using real RAS to save vertex points...\n"
       ]
      },
      {
       "output_type": "stream",
       "stream": "stderr",
       "text": [
        "INFO:interface:stdout 2014-02-11T14:56:49.700695:writing ./tempROI-wm_pretess.mgz_1\n"
       ]
      },
      {
       "output_type": "stream",
       "stream": "stderr",
       "text": [
        "INFO:interface:stdout 2014-02-11T14:56:49.700695:using vox2ras matrix:\n"
       ]
      },
      {
       "output_type": "stream",
       "stream": "stderr",
       "text": [
        "INFO:interface:stdout 2014-02-11T14:56:49.700695: 1.000   0.000   0.000  -50.500;\n"
       ]
      },
      {
       "output_type": "stream",
       "stream": "stderr",
       "text": [
        "INFO:interface:stdout 2014-02-11T14:56:49.700695: 0.000   1.000   0.000  -50.500;\n"
       ]
      },
      {
       "output_type": "stream",
       "stream": "stderr",
       "text": [
        "INFO:interface:stdout 2014-02-11T14:56:49.700695: 0.000   0.000   1.000  -50.500;\n"
       ]
      },
      {
       "output_type": "stream",
       "stream": "stderr",
       "text": [
        "INFO:interface:stdout 2014-02-11T14:56:49.700695: 0.000   0.000   0.000   1.000;\n"
       ]
      },
      {
       "output_type": "stream",
       "stream": "stderr",
       "text": [
        "INFO:workflow:Executing node mris_smooth in dir: /home/oesteban/workspace/ACWE-Reg/temp/Phantom0/ball/Contour_00/mris_smooth\n"
       ]
      },
      {
       "output_type": "stream",
       "stream": "stderr",
       "text": [
        "INFO:workflow:Running: mris_smooth /home/oesteban/workspace/ACWE-Reg/temp/Phantom0/ball/Contour_00/tess/tempROI-wm_pretess.mgz_1 /home/oesteban/workspace/ACWE-Reg/temp/Phantom0/ball/Contour_00/mris_smooth/tempROI-wm_pretess_smoothed.mgz_1 -nw -n 10 -a 10\n"
       ]
      },
      {
       "output_type": "stream",
       "stream": "stderr",
       "text": [
        "INFO:interface:stderr 2014-02-11T14:56:49.785111:smoothing surface tessellation for 10 iterations...\n"
       ]
      },
      {
       "output_type": "stream",
       "stream": "stderr",
       "text": [
        "INFO:interface:stderr 2014-02-11T14:56:49.792395:smoothing complete - recomputing first and second fundamental forms...\n"
       ]
      },
      {
       "output_type": "stream",
       "stream": "stderr",
       "text": [
        "INFO:interface:stderr 2014-02-11T14:56:49.848228:writing smoothed curvature to /home/oesteban/workspace/ACWE-Reg/temp/Phantom0/ball/Contour_00/mris_smooth/rh.curv\n"
       ]
      },
      {
       "output_type": "stream",
       "stream": "stderr",
       "text": [
        "INFO:interface:stderr 2014-02-11T14:56:49.848857:writing smoothed area to /home/oesteban/workspace/ACWE-Reg/temp/Phantom0/ball/Contour_00/mris_smooth/rh.area\n"
       ]
      },
      {
       "output_type": "stream",
       "stream": "stderr",
       "text": [
        "INFO:workflow:Executing node tovtk in dir: /home/oesteban/workspace/ACWE-Reg/temp/Phantom0/ball/Contour_00/tovtk\n"
       ]
      },
      {
       "output_type": "stream",
       "stream": "stderr",
       "text": [
        "INFO:workflow:Executing node write in dir: /home/oesteban/workspace/ACWE-Reg/temp/Phantom0/ball/Contour_00/write\n"
       ]
      },
      {
       "output_type": "stream",
       "stream": "stderr",
       "text": [
        "/home/oesteban/workspace/nipype/nipype/interfaces/fsl/preprocess.py:1247: UserWarning: This interface has not been fully tested. Please report any failures.\n",
        "  'This interface has not been fully tested. Please report any failures.')\n",
        "/home/oesteban/workspace/nipype/nipype/interfaces/base.py:376: UserWarning: Input icorr requires inputs: shift_in_file\n",
        "  warn(msg)\n",
        "/home/oesteban/workspace/nipype/nipype/interfaces/fsl/preprocess.py:1247: UserWarning: This interface has not been fully tested. Please report any failures.\n",
        "  'This interface has not been fully tested. Please report any failures.')\n",
        "/home/oesteban/workspace/nipype/nipype/interfaces/fsl/preprocess.py:1247: UserWarning: This interface has not been fully tested. Please report any failures.\n",
        "  'This interface has not been fully tested. Please report any failures.')\n",
        "/home/oesteban/workspace/nipype/nipype/interfaces/base.py:376: UserWarning: Input icorr requires inputs: shift_in_file\n",
        "  warn(msg)\n",
        "/home/oesteban/workspace/nipype/nipype/interfaces/fsl/preprocess.py:1247: UserWarning: This interface has not been fully tested. Please report any failures.\n",
        "  'This interface has not been fully tested. Please report any failures.')\n",
        "INFO:workflow:['check', 'execution', 'logging']\n"
       ]
      },
      {
       "output_type": "stream",
       "stream": "stderr",
       "text": [
        "INFO:workflow:Running serially.\n"
       ]
      },
      {
       "output_type": "stream",
       "stream": "stderr",
       "text": [
        "INFO:workflow:Executing node split_DWI in dir: /home/oesteban/workspace/ACWE-Reg/temp/Phantom0/synthetic_distortion/Fugue_WarpDWIs/split_DWI\n"
       ]
      },
      {
       "output_type": "stream",
       "stream": "stderr",
       "text": [
        "INFO:workflow:Executing node gen_siemens_PhaseDiffMap in dir: /home/oesteban/workspace/ACWE-Reg/temp/Phantom0/synthetic_distortion/gen_siemens_PhaseDiffMap\n"
       ]
      },
      {
       "output_type": "stream",
       "stream": "stderr",
       "text": [
        "INFO:workflow:Executing node fsl_prepare_fieldmap in dir: /home/oesteban/workspace/ACWE-Reg/temp/Phantom0/synthetic_distortion/fsl_prepare_fieldmap\n"
       ]
      },
      {
       "output_type": "stream",
       "stream": "stderr",
       "text": [
        "INFO:workflow:Running: fsl_prepare_fieldmap SIEMENS /home/oesteban/workspace/ACWE-Reg/temp/Phantom0/synthetic_distortion/gen_siemens_PhaseDiffMap/mask_siemens.nii.gz /home/oesteban/workspace/ACWE-Reg/Data/Phantom0/ball/mask.nii.gz /home/oesteban/workspace/ACWE-Reg/temp/Phantom0/synthetic_distortion/fsl_prepare_fieldmap/mask_siemens_fslprepared.nii.gz 2.460000 --nocheck\n"
       ]
      },
      {
       "output_type": "stream",
       "stream": "stderr",
       "text": [
        "INFO:interface:stdout 2014-02-11T14:56:50.738377:Loading volumes\n"
       ]
      },
      {
       "output_type": "stream",
       "stream": "stderr",
       "text": [
        "INFO:interface:stdout 2014-02-11T14:56:50.758693:Phase loaded\n"
       ]
      },
      {
       "output_type": "stream",
       "stream": "stderr",
       "text": [
        "INFO:interface:stdout 2014-02-11T14:56:50.769204:Magnitude loaded\n"
       ]
      },
      {
       "output_type": "stream",
       "stream": "stderr",
       "text": [
        "INFO:interface:stdout 2014-02-11T14:56:50.789128:Mask loaded\n"
       ]
      },
      {
       "output_type": "stream",
       "stream": "stderr",
       "text": [
        "INFO:interface:stdout 2014-02-11T14:56:50.834437:Number of phase splits = 8\n"
       ]
      },
      {
       "output_type": "stream",
       "stream": "stderr",
       "text": [
        "INFO:interface:stdout 2014-02-11T14:56:50.891646:Calculating starting matrices (33 by 33)\n"
       ]
      },
      {
       "output_type": "stream",
       "stream": "stderr",
       "text": [
        "INFO:interface:stdout 2014-02-11T14:56:50.897186:Finished connection_matrices\n"
       ]
      },
      {
       "output_type": "stream",
       "stream": "stderr",
       "text": [
        "INFO:interface:stdout 2014-02-11T14:56:50.897186:32 constraints left\n"
       ]
      },
      {
       "output_type": "stream",
       "stream": "stderr",
       "text": [
        "INFO:interface:stdout 2014-02-11T14:56:50.898153:Did while loop 32 times\n"
       ]
      },
      {
       "output_type": "stream",
       "stream": "stderr",
       "text": [
        "INFO:interface:stdout 2014-02-11T14:56:53.804519:Done. Created /home/oesteban/workspace/ACWE-Reg/temp/Phantom0/synthetic_distortion/fsl_prepare_fieldmap/mask_siemens_fslprepared for use with FEAT.\n"
       ]
      },
      {
       "output_type": "stream",
       "stream": "stderr",
       "text": [
        "INFO:workflow:Executing node gen_VSM in dir: /home/oesteban/workspace/ACWE-Reg/temp/Phantom0/synthetic_distortion/gen_VSM\n"
       ]
      },
      {
       "output_type": "stream",
       "stream": "stderr",
       "text": [
        "INFO:workflow:Running: fugue --asym=0.0024600000 --dwell=0.0007700000 --in=/home/oesteban/workspace/ACWE-Reg/Data/Phantom0/ball/mask.nii.gz --mask=/home/oesteban/workspace/ACWE-Reg/Data/Phantom0/ball/mask.nii.gz --phasemap=/home/oesteban/workspace/ACWE-Reg/temp/Phantom0/synthetic_distortion/fsl_prepare_fieldmap/mask_siemens_fslprepared.nii.gz --saveshift=/home/oesteban/workspace/ACWE-Reg/temp/Phantom0/synthetic_distortion/gen_VSM/mask_vsm.nii.gz --unwarp=/home/oesteban/workspace/ACWE-Reg/temp/Phantom0/synthetic_distortion/gen_VSM/mask_unwarped.nii.gz\n"
       ]
      },
      {
       "output_type": "stream",
       "stream": "stderr",
       "text": [
        "INFO:workflow:Executing node demean in dir: /home/oesteban/workspace/ACWE-Reg/temp/Phantom0/synthetic_distortion/demean\n"
       ]
      },
      {
       "output_type": "stream",
       "stream": "stderr",
       "text": [
        "INFO:workflow:Executing node WarpImages in dir: /home/oesteban/workspace/ACWE-Reg/temp/Phantom0/synthetic_distortion/WarpImages\n"
       ]
      },
      {
       "output_type": "stream",
       "stream": "stderr",
       "text": [
        "INFO:workflow:Executing node _WarpImages0 in dir: /home/oesteban/workspace/ACWE-Reg/temp/Phantom0/synthetic_distortion/WarpImages/mapflow/_WarpImages0\n"
       ]
      },
      {
       "output_type": "stream",
       "stream": "stderr",
       "text": [
        "INFO:workflow:Running: fugue --icorr --in=/home/oesteban/workspace/ACWE-Reg/temp/Phantom0/ball_tpm_wm.nii.gz --mask=/home/oesteban/workspace/ACWE-Reg/Data/Phantom0/ball/mask.nii.gz --loadshift=/home/oesteban/workspace/ACWE-Reg/temp/Phantom0/synthetic_distortion/demean/mask_vsm_demeaned.nii.gz --warp=/home/oesteban/workspace/ACWE-Reg/temp/Phantom0/synthetic_distortion/WarpImages/mapflow/_WarpImages0/ball_tpm_wm_warped.nii.gz\n"
       ]
      },
      {
       "output_type": "stream",
       "stream": "stderr",
       "text": [
        "INFO:workflow:Executing node Normalize in dir: /home/oesteban/workspace/ACWE-Reg/temp/Phantom0/synthetic_distortion/Normalize\n"
       ]
      },
      {
       "output_type": "stream",
       "stream": "stderr",
       "text": [
        "INFO:workflow:Executing node Fugue_Warp in dir: /home/oesteban/workspace/ACWE-Reg/temp/Phantom0/synthetic_distortion/Fugue_WarpDWIs/Fugue_Warp\n"
       ]
      },
      {
       "output_type": "stream",
       "stream": "stderr",
       "text": [
        "INFO:workflow:Executing node _Fugue_Warp0 in dir: /home/oesteban/workspace/ACWE-Reg/temp/Phantom0/synthetic_distortion/Fugue_WarpDWIs/Fugue_Warp/mapflow/_Fugue_Warp0\n"
       ]
      },
      {
       "output_type": "stream",
       "stream": "stderr",
       "text": [
        "INFO:workflow:Running: fugue --in=/home/oesteban/workspace/ACWE-Reg/temp/Phantom0/synthetic_distortion/Fugue_WarpDWIs/split_DWI/mri-noise-free_000.nii.gz --mask=/home/oesteban/workspace/ACWE-Reg/Data/Phantom0/ball/mask.nii.gz --loadshift=/home/oesteban/workspace/ACWE-Reg/temp/Phantom0/synthetic_distortion/demean/mask_vsm_demeaned.nii.gz --unwarpdir=z --warp=/home/oesteban/workspace/ACWE-Reg/temp/Phantom0/synthetic_distortion/Fugue_WarpDWIs/Fugue_Warp/mapflow/_Fugue_Warp0/mri-noise-free_000_warped.nii.gz\n"
       ]
      },
      {
       "output_type": "stream",
       "stream": "stderr",
       "text": [
        "INFO:workflow:Executing node _Fugue_Warp1 in dir: /home/oesteban/workspace/ACWE-Reg/temp/Phantom0/synthetic_distortion/Fugue_WarpDWIs/Fugue_Warp/mapflow/_Fugue_Warp1\n"
       ]
      },
      {
       "output_type": "stream",
       "stream": "stderr",
       "text": [
        "INFO:workflow:Running: fugue --in=/home/oesteban/workspace/ACWE-Reg/temp/Phantom0/synthetic_distortion/Fugue_WarpDWIs/split_DWI/mri-noise-free_001.nii.gz --mask=/home/oesteban/workspace/ACWE-Reg/Data/Phantom0/ball/mask.nii.gz --loadshift=/home/oesteban/workspace/ACWE-Reg/temp/Phantom0/synthetic_distortion/demean/mask_vsm_demeaned.nii.gz --unwarpdir=z --warp=/home/oesteban/workspace/ACWE-Reg/temp/Phantom0/synthetic_distortion/Fugue_WarpDWIs/Fugue_Warp/mapflow/_Fugue_Warp1/mri-noise-free_001_warped.nii.gz\n"
       ]
      },
      {
       "output_type": "stream",
       "stream": "stderr",
       "text": [
        "INFO:workflow:Executing node merge_DWI in dir: /home/oesteban/workspace/ACWE-Reg/temp/Phantom0/synthetic_distortion/Fugue_WarpDWIs/merge_DWI\n"
       ]
      },
      {
       "output_type": "stream",
       "stream": "stderr",
       "text": [
        "INFO:workflow:Running: fslmerge -t mri-noise-free_000_warped_merged.nii.gz /home/oesteban/workspace/ACWE-Reg/temp/Phantom0/synthetic_distortion/Fugue_WarpDWIs/Fugue_Warp/mapflow/_Fugue_Warp0/mri-noise-free_000_warped.nii.gz /home/oesteban/workspace/ACWE-Reg/temp/Phantom0/synthetic_distortion/Fugue_WarpDWIs/Fugue_Warp/mapflow/_Fugue_Warp1/mri-noise-free_001_warped.nii.gz\n"
       ]
      },
      {
       "output_type": "stream",
       "stream": "stderr",
       "text": [
        "INFO:workflow:Executing node Fugue_WarpMask in dir: /home/oesteban/workspace/ACWE-Reg/temp/Phantom0/synthetic_distortion/Fugue_WarpMask\n"
       ]
      },
      {
       "output_type": "stream",
       "stream": "stderr",
       "text": [
        "INFO:workflow:Running: fugue --in=/home/oesteban/workspace/ACWE-Reg/Data/Phantom0/ball/mask.nii.gz --mask=/home/oesteban/workspace/ACWE-Reg/Data/Phantom0/ball/mask.nii.gz --loadshift=/home/oesteban/workspace/ACWE-Reg/temp/Phantom0/synthetic_distortion/demean/mask_vsm_demeaned.nii.gz --warp=/home/oesteban/workspace/ACWE-Reg/temp/Phantom0/synthetic_distortion/Fugue_WarpMask/mask_warped.nii.gz\n"
       ]
      },
      {
       "output_type": "stream",
       "stream": "stderr",
       "text": [
        "INFO:workflow:Executing node binarize in dir: /home/oesteban/workspace/ACWE-Reg/temp/Phantom0/synthetic_distortion/binarize\n"
       ]
      },
      {
       "output_type": "stream",
       "stream": "stderr",
       "text": [
        "INFO:workflow:Running: mri_binarize --o /home/oesteban/workspace/ACWE-Reg/temp/Phantom0/synthetic_distortion/binarize/mask_warped_thresh.nii.gz --i /home/oesteban/workspace/ACWE-Reg/temp/Phantom0/synthetic_distortion/binarize/mask_warped.nii.gz --min 0.000010\n"
       ]
      },
      {
       "output_type": "stream",
       "stream": "stderr",
       "text": [
        "INFO:interface:stdout 2014-02-11T14:58:02.216154:\n"
       ]
      },
      {
       "output_type": "stream",
       "stream": "stderr",
       "text": [
        "INFO:interface:stdout 2014-02-11T14:58:02.216154:$Id: mri_binarize.c,v 1.26.2.1 2011/04/08 15:40:50 greve Exp $\n"
       ]
      },
      {
       "output_type": "stream",
       "stream": "stderr",
       "text": [
        "INFO:interface:stdout 2014-02-11T14:58:02.216154:cwd /home/oesteban/workspace/ACWE-Reg/temp/Phantom0/synthetic_distortion/binarize\n"
       ]
      },
      {
       "output_type": "stream",
       "stream": "stderr",
       "text": [
        "INFO:interface:stdout 2014-02-11T14:58:02.216154:cmdline mri_binarize --o /home/oesteban/workspace/ACWE-Reg/temp/Phantom0/synthetic_distortion/binarize/mask_warped_thresh.nii.gz --i /home/oesteban/workspace/ACWE-Reg/temp/Phantom0/synthetic_distortion/binarize/mask_warped.nii.gz --min 0.000010 \n"
       ]
      },
      {
       "output_type": "stream",
       "stream": "stderr",
       "text": [
        "INFO:interface:stdout 2014-02-11T14:58:02.216154:sysname  Linux\n"
       ]
      },
      {
       "output_type": "stream",
       "stream": "stderr",
       "text": [
        "INFO:interface:stdout 2014-02-11T14:58:02.216154:hostname tea\n"
       ]
      },
      {
       "output_type": "stream",
       "stream": "stderr",
       "text": [
        "INFO:interface:stdout 2014-02-11T14:58:02.216154:machine  x86_64\n"
       ]
      },
      {
       "output_type": "stream",
       "stream": "stderr",
       "text": [
        "INFO:interface:stdout 2014-02-11T14:58:02.216154:user     oesteban\n"
       ]
      },
      {
       "output_type": "stream",
       "stream": "stderr",
       "text": [
        "INFO:interface:stdout 2014-02-11T14:58:02.216154:\n"
       ]
      },
      {
       "output_type": "stream",
       "stream": "stderr",
       "text": [
        "INFO:interface:stdout 2014-02-11T14:58:02.216154:input      /home/oesteban/workspace/ACWE-Reg/temp/Phantom0/synthetic_distortion/binarize/mask_warped.nii.gz\n"
       ]
      },
      {
       "output_type": "stream",
       "stream": "stderr",
       "text": [
        "INFO:interface:stdout 2014-02-11T14:58:02.216154:frame      0\n"
       ]
      },
      {
       "output_type": "stream",
       "stream": "stderr",
       "text": [
        "INFO:interface:stdout 2014-02-11T14:58:02.216154:nErode3d   0\n"
       ]
      },
      {
       "output_type": "stream",
       "stream": "stderr",
       "text": [
        "INFO:interface:stdout 2014-02-11T14:58:02.216154:nErode2d   0\n"
       ]
      },
      {
       "output_type": "stream",
       "stream": "stderr",
       "text": [
        "INFO:interface:stdout 2014-02-11T14:58:02.216154:output     /home/oesteban/workspace/ACWE-Reg/temp/Phantom0/synthetic_distortion/binarize/mask_warped_thresh.nii.gz\n"
       ]
      },
      {
       "output_type": "stream",
       "stream": "stderr",
       "text": [
        "INFO:interface:stdout 2014-02-11T14:58:02.216154:Binarizing based on threshold\n"
       ]
      },
      {
       "output_type": "stream",
       "stream": "stderr",
       "text": [
        "INFO:interface:stdout 2014-02-11T14:58:02.216154:min        1e-05\n"
       ]
      },
      {
       "output_type": "stream",
       "stream": "stderr",
       "text": [
        "INFO:interface:stdout 2014-02-11T14:58:02.216154:max        +infinity\n"
       ]
      },
      {
       "output_type": "stream",
       "stream": "stderr",
       "text": [
        "INFO:interface:stdout 2014-02-11T14:58:02.216154:binval        1\n"
       ]
      },
      {
       "output_type": "stream",
       "stream": "stderr",
       "text": [
        "INFO:interface:stdout 2014-02-11T14:58:02.216154:binvalnot     0\n"
       ]
      },
      {
       "output_type": "stream",
       "stream": "stderr",
       "text": [
        "INFO:interface:stdout 2014-02-11T14:58:02.216154:Found 89797 values in range\n"
       ]
      },
      {
       "output_type": "stream",
       "stream": "stderr",
       "text": [
        "INFO:interface:stdout 2014-02-11T14:58:02.216154:Counting number of voxels\n"
       ]
      },
      {
       "output_type": "stream",
       "stream": "stderr",
       "text": [
        "INFO:interface:stdout 2014-02-11T14:58:02.216154:Found 89797 voxels in final mask\n"
       ]
      },
      {
       "output_type": "stream",
       "stream": "stderr",
       "text": [
        "INFO:interface:stdout 2014-02-11T14:58:02.216154:mri_binarize done\n"
       ]
      },
      {
       "output_type": "stream",
       "stream": "stderr",
       "text": [
        "INFO:workflow:['check', 'execution', 'logging']\n"
       ]
      },
      {
       "output_type": "stream",
       "stream": "stderr",
       "text": [
        "INFO:workflow:Running serially.\n"
       ]
      },
      {
       "output_type": "stream",
       "stream": "stderr",
       "text": [
        "INFO:workflow:Executing node pretess in dir: /home/oesteban/workspace/ACWE-Reg/temp/Phantom0/box/Contour_00/pretess\n"
       ]
      },
      {
       "output_type": "stream",
       "stream": "stderr",
       "text": [
        "INFO:workflow:Executing node tess in dir: /home/oesteban/workspace/ACWE-Reg/temp/Phantom0/box/Contour_00/tess\n"
       ]
      },
      {
       "output_type": "stream",
       "stream": "stderr",
       "text": [
        "INFO:workflow:Running: mri_tessellate -n /home/oesteban/workspace/ACWE-Reg/temp/Phantom0/box/Contour_00/pretess/tempROI-wm_pretess.mgz 1 ./tempROI-wm_pretess.mgz_1\n"
       ]
      },
      {
       "output_type": "stream",
       "stream": "stderr",
       "text": [
        "INFO:interface:stdout 2014-02-11T14:58:09.509630:surface saved uses coordinates in the real RAS where c_(r,a,s) != 0\n"
       ]
      },
      {
       "output_type": "stream",
       "stream": "stderr",
       "text": [
        "INFO:interface:stdout 2014-02-11T14:58:09.509630:$Id: mri_tessellate.c,v 1.36 2011/03/02 00:04:25 nicks Exp $\n"
       ]
      },
      {
       "output_type": "stream",
       "stream": "stderr",
       "text": [
        "INFO:interface:stdout 2014-02-11T14:58:09.509630:  $Id: mrisurf.c,v 1.693.2.7 2013/05/12 22:28:01 nicks Exp $\n"
       ]
      },
      {
       "output_type": "stream",
       "stream": "stderr",
       "text": [
        "INFO:interface:stdout 2014-02-11T14:58:09.579975:slice 40: 1780 vertices, 1845 faces\n"
       ]
      },
      {
       "output_type": "stream",
       "stream": "stderr",
       "text": [
        "INFO:interface:stdout 2014-02-11T14:58:09.579975:slice 50: 3100 vertices, 3165 faces\n"
       ]
      },
      {
       "output_type": "stream",
       "stream": "stderr",
       "text": [
        "INFO:interface:stdout 2014-02-11T14:58:09.579975:slice 60: 4420 vertices, 4485 faces\n"
       ]
      },
      {
       "output_type": "stream",
       "stream": "stderr",
       "text": [
        "INFO:interface:stdout 2014-02-11T14:58:09.579975:slice 70: 6464 vertices, 6462 faces\n"
       ]
      },
      {
       "output_type": "stream",
       "stream": "stderr",
       "text": [
        "INFO:interface:stdout 2014-02-11T14:58:09.579975:slice 80: 6464 vertices, 6462 faces\n"
       ]
      },
      {
       "output_type": "stream",
       "stream": "stderr",
       "text": [
        "INFO:interface:stdout 2014-02-11T14:58:09.579975:slice 90: 6464 vertices, 6462 faces\n"
       ]
      },
      {
       "output_type": "stream",
       "stream": "stderr",
       "text": [
        "INFO:interface:stdout 2014-02-11T14:58:09.579975:slice 100: 6464 vertices, 6462 faces\n"
       ]
      },
      {
       "output_type": "stream",
       "stream": "stderr",
       "text": [
        "INFO:interface:stdout 2014-02-11T14:58:09.579975:using real RAS to save vertex points...\n"
       ]
      },
      {
       "output_type": "stream",
       "stream": "stderr",
       "text": [
        "INFO:interface:stdout 2014-02-11T14:58:09.579975:writing ./tempROI-wm_pretess.mgz_1\n"
       ]
      },
      {
       "output_type": "stream",
       "stream": "stderr",
       "text": [
        "INFO:interface:stdout 2014-02-11T14:58:09.579975:using vox2ras matrix:\n"
       ]
      },
      {
       "output_type": "stream",
       "stream": "stderr",
       "text": [
        "INFO:interface:stdout 2014-02-11T14:58:09.579975: 1.000   0.000   0.000  -50.500;\n"
       ]
      },
      {
       "output_type": "stream",
       "stream": "stderr",
       "text": [
        "INFO:interface:stdout 2014-02-11T14:58:09.579975: 0.000   1.000   0.000  -50.500;\n"
       ]
      },
      {
       "output_type": "stream",
       "stream": "stderr",
       "text": [
        "INFO:interface:stdout 2014-02-11T14:58:09.579975: 0.000   0.000   1.000  -50.500;\n"
       ]
      },
      {
       "output_type": "stream",
       "stream": "stderr",
       "text": [
        "INFO:interface:stdout 2014-02-11T14:58:09.579975: 0.000   0.000   0.000   1.000;\n"
       ]
      },
      {
       "output_type": "stream",
       "stream": "stderr",
       "text": [
        "INFO:workflow:Executing node mris_smooth in dir: /home/oesteban/workspace/ACWE-Reg/temp/Phantom0/box/Contour_00/mris_smooth\n"
       ]
      },
      {
       "output_type": "stream",
       "stream": "stderr",
       "text": [
        "INFO:workflow:Running: mris_smooth /home/oesteban/workspace/ACWE-Reg/temp/Phantom0/box/Contour_00/tess/tempROI-wm_pretess.mgz_1 /home/oesteban/workspace/ACWE-Reg/temp/Phantom0/box/Contour_00/mris_smooth/tempROI-wm_pretess_smoothed.mgz_1 -nw -n 10 -a 10\n"
       ]
      },
      {
       "output_type": "stream",
       "stream": "stderr",
       "text": [
        "INFO:interface:stderr 2014-02-11T14:58:09.661016:smoothing surface tessellation for 10 iterations...\n"
       ]
      },
      {
       "output_type": "stream",
       "stream": "stderr",
       "text": [
        "INFO:interface:stderr 2014-02-11T14:58:09.669516:smoothing complete - recomputing first and second fundamental forms...\n"
       ]
      },
      {
       "output_type": "stream",
       "stream": "stderr",
       "text": [
        "INFO:interface:stderr 2014-02-11T14:58:09.712832:writing smoothed curvature to /home/oesteban/workspace/ACWE-Reg/temp/Phantom0/box/Contour_00/mris_smooth/rh.curv\n"
       ]
      },
      {
       "output_type": "stream",
       "stream": "stderr",
       "text": [
        "INFO:interface:stderr 2014-02-11T14:58:09.713302:writing smoothed area to /home/oesteban/workspace/ACWE-Reg/temp/Phantom0/box/Contour_00/mris_smooth/rh.area\n"
       ]
      },
      {
       "output_type": "stream",
       "stream": "stderr",
       "text": [
        "INFO:workflow:Executing node tovtk in dir: /home/oesteban/workspace/ACWE-Reg/temp/Phantom0/box/Contour_00/tovtk\n"
       ]
      },
      {
       "output_type": "stream",
       "stream": "stderr",
       "text": [
        "INFO:workflow:Executing node write in dir: /home/oesteban/workspace/ACWE-Reg/temp/Phantom0/box/Contour_00/write\n"
       ]
      },
      {
       "output_type": "stream",
       "stream": "stderr",
       "text": [
        "/home/oesteban/workspace/nipype/nipype/interfaces/fsl/preprocess.py:1247: UserWarning: This interface has not been fully tested. Please report any failures.\n",
        "  'This interface has not been fully tested. Please report any failures.')\n",
        "/home/oesteban/workspace/nipype/nipype/interfaces/base.py:376: UserWarning: Input icorr requires inputs: shift_in_file\n",
        "  warn(msg)\n",
        "/home/oesteban/workspace/nipype/nipype/interfaces/fsl/preprocess.py:1247: UserWarning: This interface has not been fully tested. Please report any failures.\n",
        "  'This interface has not been fully tested. Please report any failures.')\n",
        "/home/oesteban/workspace/nipype/nipype/interfaces/fsl/preprocess.py:1247: UserWarning: This interface has not been fully tested. Please report any failures.\n",
        "  'This interface has not been fully tested. Please report any failures.')\n",
        "/home/oesteban/workspace/nipype/nipype/interfaces/base.py:376: UserWarning: Input icorr requires inputs: shift_in_file\n",
        "  warn(msg)\n",
        "/home/oesteban/workspace/nipype/nipype/interfaces/fsl/preprocess.py:1247: UserWarning: This interface has not been fully tested. Please report any failures.\n",
        "  'This interface has not been fully tested. Please report any failures.')\n",
        "INFO:workflow:['check', 'execution', 'logging']\n"
       ]
      },
      {
       "output_type": "stream",
       "stream": "stderr",
       "text": [
        "INFO:workflow:Running serially.\n"
       ]
      },
      {
       "output_type": "stream",
       "stream": "stderr",
       "text": [
        "INFO:workflow:Executing node gen_siemens_PhaseDiffMap in dir: /home/oesteban/workspace/ACWE-Reg/temp/Phantom0/synthetic_distortion/gen_siemens_PhaseDiffMap\n"
       ]
      },
      {
       "output_type": "stream",
       "stream": "stderr",
       "text": [
        "INFO:workflow:Executing node split_DWI in dir: /home/oesteban/workspace/ACWE-Reg/temp/Phantom0/synthetic_distortion/Fugue_WarpDWIs/split_DWI\n"
       ]
      },
      {
       "output_type": "stream",
       "stream": "stderr",
       "text": [
        "INFO:workflow:Executing node fsl_prepare_fieldmap in dir: /home/oesteban/workspace/ACWE-Reg/temp/Phantom0/synthetic_distortion/fsl_prepare_fieldmap\n"
       ]
      },
      {
       "output_type": "stream",
       "stream": "stderr",
       "text": [
        "INFO:workflow:Running: fsl_prepare_fieldmap SIEMENS /home/oesteban/workspace/ACWE-Reg/temp/Phantom0/synthetic_distortion/gen_siemens_PhaseDiffMap/mask_siemens.nii.gz /home/oesteban/workspace/ACWE-Reg/Data/Phantom0/box/mask.nii.gz /home/oesteban/workspace/ACWE-Reg/temp/Phantom0/synthetic_distortion/fsl_prepare_fieldmap/mask_siemens_fslprepared.nii.gz 2.460000 --nocheck\n"
       ]
      },
      {
       "output_type": "stream",
       "stream": "stderr",
       "text": [
        "INFO:interface:stdout 2014-02-11T14:58:10.542242:Loading volumes\n"
       ]
      },
      {
       "output_type": "stream",
       "stream": "stderr",
       "text": [
        "INFO:interface:stdout 2014-02-11T14:58:10.566011:Phase loaded\n"
       ]
      },
      {
       "output_type": "stream",
       "stream": "stderr",
       "text": [
        "INFO:interface:stdout 2014-02-11T14:58:10.576059:Magnitude loaded\n"
       ]
      },
      {
       "output_type": "stream",
       "stream": "stderr",
       "text": [
        "INFO:interface:stdout 2014-02-11T14:58:10.595733:Mask loaded\n"
       ]
      },
      {
       "output_type": "stream",
       "stream": "stderr",
       "text": [
        "INFO:interface:stdout 2014-02-11T14:58:10.640131:Number of phase splits = 8\n"
       ]
      },
      {
       "output_type": "stream",
       "stream": "stderr",
       "text": [
        "INFO:interface:stdout 2014-02-11T14:58:10.697601:Calculating starting matrices (33 by 33)\n"
       ]
      },
      {
       "output_type": "stream",
       "stream": "stderr",
       "text": [
        "INFO:interface:stdout 2014-02-11T14:58:10.703152:Finished connection_matrices\n"
       ]
      },
      {
       "output_type": "stream",
       "stream": "stderr",
       "text": [
        "INFO:interface:stdout 2014-02-11T14:58:10.703152:32 constraints left\n"
       ]
      },
      {
       "output_type": "stream",
       "stream": "stderr",
       "text": [
        "INFO:interface:stdout 2014-02-11T14:58:10.703152:Did while loop 32 times\n"
       ]
      },
      {
       "output_type": "stream",
       "stream": "stderr",
       "text": [
        "INFO:interface:stdout 2014-02-11T14:58:13.594718:Done. Created /home/oesteban/workspace/ACWE-Reg/temp/Phantom0/synthetic_distortion/fsl_prepare_fieldmap/mask_siemens_fslprepared for use with FEAT.\n"
       ]
      },
      {
       "output_type": "stream",
       "stream": "stderr",
       "text": [
        "INFO:workflow:Executing node gen_VSM in dir: /home/oesteban/workspace/ACWE-Reg/temp/Phantom0/synthetic_distortion/gen_VSM\n"
       ]
      },
      {
       "output_type": "stream",
       "stream": "stderr",
       "text": [
        "INFO:workflow:Running: fugue --asym=0.0024600000 --dwell=0.0007700000 --in=/home/oesteban/workspace/ACWE-Reg/Data/Phantom0/box/mask.nii.gz --mask=/home/oesteban/workspace/ACWE-Reg/Data/Phantom0/box/mask.nii.gz --phasemap=/home/oesteban/workspace/ACWE-Reg/temp/Phantom0/synthetic_distortion/fsl_prepare_fieldmap/mask_siemens_fslprepared.nii.gz --saveshift=/home/oesteban/workspace/ACWE-Reg/temp/Phantom0/synthetic_distortion/gen_VSM/mask_vsm.nii.gz --unwarp=/home/oesteban/workspace/ACWE-Reg/temp/Phantom0/synthetic_distortion/gen_VSM/mask_unwarped.nii.gz\n"
       ]
      },
      {
       "output_type": "stream",
       "stream": "stderr",
       "text": [
        "INFO:workflow:Executing node demean in dir: /home/oesteban/workspace/ACWE-Reg/temp/Phantom0/synthetic_distortion/demean\n"
       ]
      },
      {
       "output_type": "stream",
       "stream": "stderr",
       "text": [
        "INFO:workflow:Executing node Fugue_WarpMask in dir: /home/oesteban/workspace/ACWE-Reg/temp/Phantom0/synthetic_distortion/Fugue_WarpMask\n"
       ]
      },
      {
       "output_type": "stream",
       "stream": "stderr",
       "text": [
        "INFO:workflow:Running: fugue --in=/home/oesteban/workspace/ACWE-Reg/Data/Phantom0/box/mask.nii.gz --mask=/home/oesteban/workspace/ACWE-Reg/Data/Phantom0/box/mask.nii.gz --loadshift=/home/oesteban/workspace/ACWE-Reg/temp/Phantom0/synthetic_distortion/demean/mask_vsm_demeaned.nii.gz --warp=/home/oesteban/workspace/ACWE-Reg/temp/Phantom0/synthetic_distortion/Fugue_WarpMask/mask_warped.nii.gz\n"
       ]
      },
      {
       "output_type": "stream",
       "stream": "stderr",
       "text": [
        "INFO:workflow:Executing node Fugue_Warp in dir: /home/oesteban/workspace/ACWE-Reg/temp/Phantom0/synthetic_distortion/Fugue_WarpDWIs/Fugue_Warp\n"
       ]
      },
      {
       "output_type": "stream",
       "stream": "stderr",
       "text": [
        "INFO:workflow:Executing node _Fugue_Warp0 in dir: /home/oesteban/workspace/ACWE-Reg/temp/Phantom0/synthetic_distortion/Fugue_WarpDWIs/Fugue_Warp/mapflow/_Fugue_Warp0\n"
       ]
      },
      {
       "output_type": "stream",
       "stream": "stderr",
       "text": [
        "INFO:workflow:Running: fugue --in=/home/oesteban/workspace/ACWE-Reg/temp/Phantom0/synthetic_distortion/Fugue_WarpDWIs/split_DWI/mri-noise-free_000.nii.gz --mask=/home/oesteban/workspace/ACWE-Reg/Data/Phantom0/box/mask.nii.gz --loadshift=/home/oesteban/workspace/ACWE-Reg/temp/Phantom0/synthetic_distortion/demean/mask_vsm_demeaned.nii.gz --unwarpdir=z --warp=/home/oesteban/workspace/ACWE-Reg/temp/Phantom0/synthetic_distortion/Fugue_WarpDWIs/Fugue_Warp/mapflow/_Fugue_Warp0/mri-noise-free_000_warped.nii.gz\n"
       ]
      },
      {
       "output_type": "stream",
       "stream": "stderr",
       "text": [
        "INFO:workflow:Executing node _Fugue_Warp1 in dir: /home/oesteban/workspace/ACWE-Reg/temp/Phantom0/synthetic_distortion/Fugue_WarpDWIs/Fugue_Warp/mapflow/_Fugue_Warp1\n"
       ]
      },
      {
       "output_type": "stream",
       "stream": "stderr",
       "text": [
        "INFO:workflow:Running: fugue --in=/home/oesteban/workspace/ACWE-Reg/temp/Phantom0/synthetic_distortion/Fugue_WarpDWIs/split_DWI/mri-noise-free_001.nii.gz --mask=/home/oesteban/workspace/ACWE-Reg/Data/Phantom0/box/mask.nii.gz --loadshift=/home/oesteban/workspace/ACWE-Reg/temp/Phantom0/synthetic_distortion/demean/mask_vsm_demeaned.nii.gz --unwarpdir=z --warp=/home/oesteban/workspace/ACWE-Reg/temp/Phantom0/synthetic_distortion/Fugue_WarpDWIs/Fugue_Warp/mapflow/_Fugue_Warp1/mri-noise-free_001_warped.nii.gz\n"
       ]
      },
      {
       "output_type": "stream",
       "stream": "stderr",
       "text": [
        "INFO:workflow:Executing node WarpImages in dir: /home/oesteban/workspace/ACWE-Reg/temp/Phantom0/synthetic_distortion/WarpImages\n"
       ]
      },
      {
       "output_type": "stream",
       "stream": "stderr",
       "text": [
        "INFO:workflow:Executing node _WarpImages0 in dir: /home/oesteban/workspace/ACWE-Reg/temp/Phantom0/synthetic_distortion/WarpImages/mapflow/_WarpImages0\n"
       ]
      },
      {
       "output_type": "stream",
       "stream": "stderr",
       "text": [
        "INFO:workflow:Running: fugue --icorr --in=/home/oesteban/workspace/ACWE-Reg/temp/Phantom0/box_tpm_wm.nii.gz --mask=/home/oesteban/workspace/ACWE-Reg/Data/Phantom0/box/mask.nii.gz --loadshift=/home/oesteban/workspace/ACWE-Reg/temp/Phantom0/synthetic_distortion/demean/mask_vsm_demeaned.nii.gz --warp=/home/oesteban/workspace/ACWE-Reg/temp/Phantom0/synthetic_distortion/WarpImages/mapflow/_WarpImages0/box_tpm_wm_warped.nii.gz\n"
       ]
      },
      {
       "output_type": "stream",
       "stream": "stderr",
       "text": [
        "INFO:workflow:Executing node binarize in dir: /home/oesteban/workspace/ACWE-Reg/temp/Phantom0/synthetic_distortion/binarize\n"
       ]
      },
      {
       "output_type": "stream",
       "stream": "stderr",
       "text": [
        "INFO:workflow:Running: mri_binarize --o /home/oesteban/workspace/ACWE-Reg/temp/Phantom0/synthetic_distortion/binarize/mask_warped_thresh.nii.gz --i /home/oesteban/workspace/ACWE-Reg/temp/Phantom0/synthetic_distortion/binarize/mask_warped.nii.gz --min 0.000010\n"
       ]
      },
      {
       "output_type": "stream",
       "stream": "stderr",
       "text": [
        "INFO:interface:stdout 2014-02-11T14:59:21.983007:\n"
       ]
      },
      {
       "output_type": "stream",
       "stream": "stderr",
       "text": [
        "INFO:interface:stdout 2014-02-11T14:59:21.983007:$Id: mri_binarize.c,v 1.26.2.1 2011/04/08 15:40:50 greve Exp $\n"
       ]
      },
      {
       "output_type": "stream",
       "stream": "stderr",
       "text": [
        "INFO:interface:stdout 2014-02-11T14:59:21.983007:cwd /home/oesteban/workspace/ACWE-Reg/temp/Phantom0/synthetic_distortion/binarize\n"
       ]
      },
      {
       "output_type": "stream",
       "stream": "stderr",
       "text": [
        "INFO:interface:stdout 2014-02-11T14:59:21.983007:cmdline mri_binarize --o /home/oesteban/workspace/ACWE-Reg/temp/Phantom0/synthetic_distortion/binarize/mask_warped_thresh.nii.gz --i /home/oesteban/workspace/ACWE-Reg/temp/Phantom0/synthetic_distortion/binarize/mask_warped.nii.gz --min 0.000010 \n"
       ]
      },
      {
       "output_type": "stream",
       "stream": "stderr",
       "text": [
        "INFO:interface:stdout 2014-02-11T14:59:21.983007:sysname  Linux\n"
       ]
      },
      {
       "output_type": "stream",
       "stream": "stderr",
       "text": [
        "INFO:interface:stdout 2014-02-11T14:59:21.983007:hostname tea\n"
       ]
      },
      {
       "output_type": "stream",
       "stream": "stderr",
       "text": [
        "INFO:interface:stdout 2014-02-11T14:59:21.983007:machine  x86_64\n"
       ]
      },
      {
       "output_type": "stream",
       "stream": "stderr",
       "text": [
        "INFO:interface:stdout 2014-02-11T14:59:21.983007:user     oesteban\n"
       ]
      },
      {
       "output_type": "stream",
       "stream": "stderr",
       "text": [
        "INFO:interface:stdout 2014-02-11T14:59:21.983007:\n"
       ]
      },
      {
       "output_type": "stream",
       "stream": "stderr",
       "text": [
        "INFO:interface:stdout 2014-02-11T14:59:21.983007:input      /home/oesteban/workspace/ACWE-Reg/temp/Phantom0/synthetic_distortion/binarize/mask_warped.nii.gz\n"
       ]
      },
      {
       "output_type": "stream",
       "stream": "stderr",
       "text": [
        "INFO:interface:stdout 2014-02-11T14:59:21.983007:frame      0\n"
       ]
      },
      {
       "output_type": "stream",
       "stream": "stderr",
       "text": [
        "INFO:interface:stdout 2014-02-11T14:59:21.983007:nErode3d   0\n"
       ]
      },
      {
       "output_type": "stream",
       "stream": "stderr",
       "text": [
        "INFO:interface:stdout 2014-02-11T14:59:21.983007:nErode2d   0\n"
       ]
      },
      {
       "output_type": "stream",
       "stream": "stderr",
       "text": [
        "INFO:interface:stdout 2014-02-11T14:59:21.983007:output     /home/oesteban/workspace/ACWE-Reg/temp/Phantom0/synthetic_distortion/binarize/mask_warped_thresh.nii.gz\n"
       ]
      },
      {
       "output_type": "stream",
       "stream": "stderr",
       "text": [
        "INFO:interface:stdout 2014-02-11T14:59:21.983007:Binarizing based on threshold\n"
       ]
      },
      {
       "output_type": "stream",
       "stream": "stderr",
       "text": [
        "INFO:interface:stdout 2014-02-11T14:59:21.983007:min        1e-05\n"
       ]
      },
      {
       "output_type": "stream",
       "stream": "stderr",
       "text": [
        "INFO:interface:stdout 2014-02-11T14:59:21.983007:max        +infinity\n"
       ]
      },
      {
       "output_type": "stream",
       "stream": "stderr",
       "text": [
        "INFO:interface:stdout 2014-02-11T14:59:21.983007:binval        1\n"
       ]
      },
      {
       "output_type": "stream",
       "stream": "stderr",
       "text": [
        "INFO:interface:stdout 2014-02-11T14:59:21.983007:binvalnot     0\n"
       ]
      },
      {
       "output_type": "stream",
       "stream": "stderr",
       "text": [
        "INFO:interface:stdout 2014-02-11T14:59:21.983007:Found 106811 values in range\n"
       ]
      },
      {
       "output_type": "stream",
       "stream": "stderr",
       "text": [
        "INFO:interface:stdout 2014-02-11T14:59:21.983007:Counting number of voxels\n"
       ]
      },
      {
       "output_type": "stream",
       "stream": "stderr",
       "text": [
        "INFO:interface:stdout 2014-02-11T14:59:21.983007:Found 106811 voxels in final mask\n"
       ]
      },
      {
       "output_type": "stream",
       "stream": "stderr",
       "text": [
        "INFO:interface:stdout 2014-02-11T14:59:21.983007:mri_binarize done\n"
       ]
      },
      {
       "output_type": "stream",
       "stream": "stderr",
       "text": [
        "INFO:workflow:Executing node merge_DWI in dir: /home/oesteban/workspace/ACWE-Reg/temp/Phantom0/synthetic_distortion/Fugue_WarpDWIs/merge_DWI\n"
       ]
      },
      {
       "output_type": "stream",
       "stream": "stderr",
       "text": [
        "INFO:workflow:Running: fslmerge -t mri-noise-free_000_warped_merged.nii.gz /home/oesteban/workspace/ACWE-Reg/temp/Phantom0/synthetic_distortion/Fugue_WarpDWIs/Fugue_Warp/mapflow/_Fugue_Warp0/mri-noise-free_000_warped.nii.gz /home/oesteban/workspace/ACWE-Reg/temp/Phantom0/synthetic_distortion/Fugue_WarpDWIs/Fugue_Warp/mapflow/_Fugue_Warp1/mri-noise-free_001_warped.nii.gz\n"
       ]
      },
      {
       "output_type": "stream",
       "stream": "stderr",
       "text": [
        "INFO:workflow:Executing node Normalize in dir: /home/oesteban/workspace/ACWE-Reg/temp/Phantom0/synthetic_distortion/Normalize\n"
       ]
      },
      {
       "output_type": "stream",
       "stream": "stderr",
       "text": [
        "INFO:workflow:['check', 'execution', 'logging']\n"
       ]
      },
      {
       "output_type": "stream",
       "stream": "stderr",
       "text": [
        "INFO:workflow:Running serially.\n"
       ]
      },
      {
       "output_type": "stream",
       "stream": "stderr",
       "text": [
        "INFO:workflow:Executing node pretess in dir: /home/oesteban/workspace/ACWE-Reg/temp/Phantom0/gyrus/Contour_00/pretess\n"
       ]
      },
      {
       "output_type": "stream",
       "stream": "stderr",
       "text": [
        "INFO:workflow:Executing node tess in dir: /home/oesteban/workspace/ACWE-Reg/temp/Phantom0/gyrus/Contour_00/tess\n"
       ]
      },
      {
       "output_type": "stream",
       "stream": "stderr",
       "text": [
        "INFO:workflow:Running: mri_tessellate -n /home/oesteban/workspace/ACWE-Reg/temp/Phantom0/gyrus/Contour_00/pretess/tempROI-wm_pretess.mgz 1 ./tempROI-wm_pretess.mgz_1\n"
       ]
      },
      {
       "output_type": "stream",
       "stream": "stderr",
       "text": [
        "INFO:interface:stdout 2014-02-11T14:59:45.573418:surface saved uses coordinates in the real RAS where c_(r,a,s) != 0\n"
       ]
      },
      {
       "output_type": "stream",
       "stream": "stderr",
       "text": [
        "INFO:interface:stdout 2014-02-11T14:59:45.573418:$Id: mri_tessellate.c,v 1.36 2011/03/02 00:04:25 nicks Exp $\n"
       ]
      },
      {
       "output_type": "stream",
       "stream": "stderr",
       "text": [
        "INFO:interface:stdout 2014-02-11T14:59:45.573418:  $Id: mrisurf.c,v 1.693.2.7 2013/05/12 22:28:01 nicks Exp $\n"
       ]
      },
      {
       "output_type": "stream",
       "stream": "stderr",
       "text": [
        "INFO:interface:stdout 2014-02-11T14:59:45.629186:slice 30: 2756 vertices, 2845 faces\n"
       ]
      },
      {
       "output_type": "stream",
       "stream": "stderr",
       "text": [
        "INFO:interface:stdout 2014-02-11T14:59:45.629186:slice 40: 5840 vertices, 5953 faces\n"
       ]
      },
      {
       "output_type": "stream",
       "stream": "stderr",
       "text": [
        "INFO:interface:stdout 2014-02-11T14:59:45.629186:slice 50: 9360 vertices, 9526 faces\n"
       ]
      },
      {
       "output_type": "stream",
       "stream": "stderr",
       "text": [
        "INFO:interface:stdout 2014-02-11T14:59:45.629186:slice 60: 12880 vertices, 13040 faces\n"
       ]
      },
      {
       "output_type": "stream",
       "stream": "stderr",
       "text": [
        "INFO:interface:stdout 2014-02-11T14:59:45.629186:slice 70: 16624 vertices, 16748 faces\n"
       ]
      },
      {
       "output_type": "stream",
       "stream": "stderr",
       "text": [
        "INFO:interface:stdout 2014-02-11T14:59:45.629186:slice 80: 19704 vertices, 19702 faces\n"
       ]
      },
      {
       "output_type": "stream",
       "stream": "stderr",
       "text": [
        "INFO:interface:stdout 2014-02-11T14:59:45.629186:slice 90: 19704 vertices, 19702 faces\n"
       ]
      },
      {
       "output_type": "stream",
       "stream": "stderr",
       "text": [
        "INFO:interface:stdout 2014-02-11T14:59:45.629186:slice 100: 19704 vertices, 19702 faces\n"
       ]
      },
      {
       "output_type": "stream",
       "stream": "stderr",
       "text": [
        "INFO:interface:stdout 2014-02-11T14:59:45.629186:using real RAS to save vertex points...\n"
       ]
      },
      {
       "output_type": "stream",
       "stream": "stderr",
       "text": [
        "INFO:interface:stdout 2014-02-11T14:59:45.629186:writing ./tempROI-wm_pretess.mgz_1\n"
       ]
      },
      {
       "output_type": "stream",
       "stream": "stderr",
       "text": [
        "INFO:interface:stdout 2014-02-11T14:59:45.629186:using vox2ras matrix:\n"
       ]
      },
      {
       "output_type": "stream",
       "stream": "stderr",
       "text": [
        "INFO:interface:stdout 2014-02-11T14:59:45.629186: 1.000   0.000   0.000  -50.500;\n"
       ]
      },
      {
       "output_type": "stream",
       "stream": "stderr",
       "text": [
        "INFO:interface:stdout 2014-02-11T14:59:45.629186: 0.000   1.000   0.000  -50.500;\n"
       ]
      },
      {
       "output_type": "stream",
       "stream": "stderr",
       "text": [
        "INFO:interface:stdout 2014-02-11T14:59:45.629186: 0.000   0.000   1.000  -50.500;\n"
       ]
      },
      {
       "output_type": "stream",
       "stream": "stderr",
       "text": [
        "INFO:interface:stdout 2014-02-11T14:59:45.629186: 0.000   0.000   0.000   1.000;\n"
       ]
      },
      {
       "output_type": "stream",
       "stream": "stderr",
       "text": [
        "INFO:workflow:Executing node mris_smooth in dir: /home/oesteban/workspace/ACWE-Reg/temp/Phantom0/gyrus/Contour_00/mris_smooth\n"
       ]
      },
      {
       "output_type": "stream",
       "stream": "stderr",
       "text": [
        "INFO:workflow:Running: mris_smooth /home/oesteban/workspace/ACWE-Reg/temp/Phantom0/gyrus/Contour_00/tess/tempROI-wm_pretess.mgz_1 /home/oesteban/workspace/ACWE-Reg/temp/Phantom0/gyrus/Contour_00/mris_smooth/tempROI-wm_pretess_smoothed.mgz_1 -nw -n 10 -a 10\n"
       ]
      },
      {
       "output_type": "stream",
       "stream": "stderr",
       "text": [
        "INFO:interface:stderr 2014-02-11T14:59:45.809202:smoothing surface tessellation for 10 iterations...\n"
       ]
      },
      {
       "output_type": "stream",
       "stream": "stderr",
       "text": [
        "INFO:interface:stderr 2014-02-11T14:59:45.855057:smoothing complete - recomputing first and second fundamental forms...\n"
       ]
      },
      {
       "output_type": "stream",
       "stream": "stderr",
       "text": [
        "INFO:interface:stderr 2014-02-11T14:59:46.059448:writing smoothed curvature to /home/oesteban/workspace/ACWE-Reg/temp/Phantom0/gyrus/Contour_00/mris_smooth/rh.curv\n"
       ]
      },
      {
       "output_type": "stream",
       "stream": "stderr",
       "text": [
        "INFO:interface:stderr 2014-02-11T14:59:46.060136:writing smoothed area to /home/oesteban/workspace/ACWE-Reg/temp/Phantom0/gyrus/Contour_00/mris_smooth/rh.area\n"
       ]
      },
      {
       "output_type": "stream",
       "stream": "stderr",
       "text": [
        "INFO:workflow:Executing node tovtk in dir: /home/oesteban/workspace/ACWE-Reg/temp/Phantom0/gyrus/Contour_00/tovtk\n"
       ]
      },
      {
       "output_type": "stream",
       "stream": "stderr",
       "text": [
        "INFO:workflow:Executing node write in dir: /home/oesteban/workspace/ACWE-Reg/temp/Phantom0/gyrus/Contour_00/write\n"
       ]
      },
      {
       "output_type": "stream",
       "stream": "stderr",
       "text": [
        "/home/oesteban/workspace/nipype/nipype/interfaces/fsl/preprocess.py:1247: UserWarning: This interface has not been fully tested. Please report any failures.\n",
        "  'This interface has not been fully tested. Please report any failures.')\n",
        "/home/oesteban/workspace/nipype/nipype/interfaces/base.py:376: UserWarning: Input icorr requires inputs: shift_in_file\n",
        "  warn(msg)\n",
        "/home/oesteban/workspace/nipype/nipype/interfaces/fsl/preprocess.py:1247: UserWarning: This interface has not been fully tested. Please report any failures.\n",
        "  'This interface has not been fully tested. Please report any failures.')\n",
        "/home/oesteban/workspace/nipype/nipype/interfaces/fsl/preprocess.py:1247: UserWarning: This interface has not been fully tested. Please report any failures.\n",
        "  'This interface has not been fully tested. Please report any failures.')\n",
        "/home/oesteban/workspace/nipype/nipype/interfaces/base.py:376: UserWarning: Input icorr requires inputs: shift_in_file\n",
        "  warn(msg)\n",
        "/home/oesteban/workspace/nipype/nipype/interfaces/fsl/preprocess.py:1247: UserWarning: This interface has not been fully tested. Please report any failures.\n",
        "  'This interface has not been fully tested. Please report any failures.')\n",
        "INFO:workflow:['check', 'execution', 'logging']\n"
       ]
      },
      {
       "output_type": "stream",
       "stream": "stderr",
       "text": [
        "INFO:workflow:Running serially.\n"
       ]
      },
      {
       "output_type": "stream",
       "stream": "stderr",
       "text": [
        "INFO:workflow:Executing node split_DWI in dir: /home/oesteban/workspace/ACWE-Reg/temp/Phantom0/synthetic_distortion/Fugue_WarpDWIs/split_DWI\n"
       ]
      },
      {
       "output_type": "stream",
       "stream": "stderr",
       "text": [
        "INFO:workflow:Executing node gen_siemens_PhaseDiffMap in dir: /home/oesteban/workspace/ACWE-Reg/temp/Phantom0/synthetic_distortion/gen_siemens_PhaseDiffMap\n"
       ]
      },
      {
       "output_type": "stream",
       "stream": "stderr",
       "text": [
        "INFO:workflow:Executing node fsl_prepare_fieldmap in dir: /home/oesteban/workspace/ACWE-Reg/temp/Phantom0/synthetic_distortion/fsl_prepare_fieldmap\n"
       ]
      },
      {
       "output_type": "stream",
       "stream": "stderr",
       "text": [
        "INFO:workflow:Running: fsl_prepare_fieldmap SIEMENS /home/oesteban/workspace/ACWE-Reg/temp/Phantom0/synthetic_distortion/gen_siemens_PhaseDiffMap/mask_siemens.nii.gz /home/oesteban/workspace/ACWE-Reg/Data/Phantom0/gyrus/mask.nii.gz /home/oesteban/workspace/ACWE-Reg/temp/Phantom0/synthetic_distortion/fsl_prepare_fieldmap/mask_siemens_fslprepared.nii.gz 2.460000 --nocheck\n"
       ]
      },
      {
       "output_type": "stream",
       "stream": "stderr",
       "text": [
        "INFO:interface:stdout 2014-02-11T14:59:46.939074:Loading volumes\n"
       ]
      },
      {
       "output_type": "stream",
       "stream": "stderr",
       "text": [
        "INFO:interface:stdout 2014-02-11T14:59:46.959384:Phase loaded\n"
       ]
      },
      {
       "output_type": "stream",
       "stream": "stderr",
       "text": [
        "INFO:interface:stdout 2014-02-11T14:59:46.969401:Magnitude loaded\n"
       ]
      },
      {
       "output_type": "stream",
       "stream": "stderr",
       "text": [
        "INFO:interface:stdout 2014-02-11T14:59:46.988604:Mask loaded\n"
       ]
      },
      {
       "output_type": "stream",
       "stream": "stderr",
       "text": [
        "INFO:interface:stdout 2014-02-11T14:59:47.040040:Number of phase splits = 8\n"
       ]
      },
      {
       "output_type": "stream",
       "stream": "stderr",
       "text": [
        "INFO:interface:stdout 2014-02-11T14:59:47.103362:Calculating starting matrices (92 by 92)\n"
       ]
      },
      {
       "output_type": "stream",
       "stream": "stderr",
       "text": [
        "INFO:interface:stdout 2014-02-11T14:59:47.111415:Finished connection_matrices\n"
       ]
      },
      {
       "output_type": "stream",
       "stream": "stderr",
       "text": [
        "INFO:interface:stdout 2014-02-11T14:59:47.111415:91 constraints left\n"
       ]
      },
      {
       "output_type": "stream",
       "stream": "stderr",
       "text": [
        "INFO:interface:stdout 2014-02-11T14:59:47.112172:Did while loop 91 times\n"
       ]
      },
      {
       "output_type": "stream",
       "stream": "stderr",
       "text": [
        "INFO:interface:stdout 2014-02-11T14:59:50.124643:Done. Created /home/oesteban/workspace/ACWE-Reg/temp/Phantom0/synthetic_distortion/fsl_prepare_fieldmap/mask_siemens_fslprepared for use with FEAT.\n"
       ]
      },
      {
       "output_type": "stream",
       "stream": "stderr",
       "text": [
        "INFO:workflow:Executing node gen_VSM in dir: /home/oesteban/workspace/ACWE-Reg/temp/Phantom0/synthetic_distortion/gen_VSM\n"
       ]
      },
      {
       "output_type": "stream",
       "stream": "stderr",
       "text": [
        "INFO:workflow:Running: fugue --asym=0.0024600000 --dwell=0.0007700000 --in=/home/oesteban/workspace/ACWE-Reg/Data/Phantom0/gyrus/mask.nii.gz --mask=/home/oesteban/workspace/ACWE-Reg/Data/Phantom0/gyrus/mask.nii.gz --phasemap=/home/oesteban/workspace/ACWE-Reg/temp/Phantom0/synthetic_distortion/fsl_prepare_fieldmap/mask_siemens_fslprepared.nii.gz --saveshift=/home/oesteban/workspace/ACWE-Reg/temp/Phantom0/synthetic_distortion/gen_VSM/mask_vsm.nii.gz --unwarp=/home/oesteban/workspace/ACWE-Reg/temp/Phantom0/synthetic_distortion/gen_VSM/mask_unwarped.nii.gz\n"
       ]
      },
      {
       "output_type": "stream",
       "stream": "stderr",
       "text": [
        "INFO:workflow:Executing node demean in dir: /home/oesteban/workspace/ACWE-Reg/temp/Phantom0/synthetic_distortion/demean\n"
       ]
      },
      {
       "output_type": "stream",
       "stream": "stderr",
       "text": [
        "INFO:workflow:Executing node Fugue_WarpMask in dir: /home/oesteban/workspace/ACWE-Reg/temp/Phantom0/synthetic_distortion/Fugue_WarpMask\n"
       ]
      },
      {
       "output_type": "stream",
       "stream": "stderr",
       "text": [
        "INFO:workflow:Running: fugue --in=/home/oesteban/workspace/ACWE-Reg/Data/Phantom0/gyrus/mask.nii.gz --mask=/home/oesteban/workspace/ACWE-Reg/Data/Phantom0/gyrus/mask.nii.gz --loadshift=/home/oesteban/workspace/ACWE-Reg/temp/Phantom0/synthetic_distortion/demean/mask_vsm_demeaned.nii.gz --warp=/home/oesteban/workspace/ACWE-Reg/temp/Phantom0/synthetic_distortion/Fugue_WarpMask/mask_warped.nii.gz\n"
       ]
      },
      {
       "output_type": "stream",
       "stream": "stderr",
       "text": [
        "INFO:workflow:Executing node binarize in dir: /home/oesteban/workspace/ACWE-Reg/temp/Phantom0/synthetic_distortion/binarize\n"
       ]
      },
      {
       "output_type": "stream",
       "stream": "stderr",
       "text": [
        "INFO:workflow:Running: mri_binarize --o /home/oesteban/workspace/ACWE-Reg/temp/Phantom0/synthetic_distortion/binarize/mask_warped_thresh.nii.gz --i /home/oesteban/workspace/ACWE-Reg/temp/Phantom0/synthetic_distortion/binarize/mask_warped.nii.gz --min 0.000010\n"
       ]
      },
      {
       "output_type": "stream",
       "stream": "stderr",
       "text": [
        "INFO:interface:stdout 2014-02-11T15:00:08.529293:\n"
       ]
      },
      {
       "output_type": "stream",
       "stream": "stderr",
       "text": [
        "INFO:interface:stdout 2014-02-11T15:00:08.529293:$Id: mri_binarize.c,v 1.26.2.1 2011/04/08 15:40:50 greve Exp $\n"
       ]
      },
      {
       "output_type": "stream",
       "stream": "stderr",
       "text": [
        "INFO:interface:stdout 2014-02-11T15:00:08.529293:cwd /home/oesteban/workspace/ACWE-Reg/temp/Phantom0/synthetic_distortion/binarize\n"
       ]
      },
      {
       "output_type": "stream",
       "stream": "stderr",
       "text": [
        "INFO:interface:stdout 2014-02-11T15:00:08.529293:cmdline mri_binarize --o /home/oesteban/workspace/ACWE-Reg/temp/Phantom0/synthetic_distortion/binarize/mask_warped_thresh.nii.gz --i /home/oesteban/workspace/ACWE-Reg/temp/Phantom0/synthetic_distortion/binarize/mask_warped.nii.gz --min 0.000010 \n"
       ]
      },
      {
       "output_type": "stream",
       "stream": "stderr",
       "text": [
        "INFO:interface:stdout 2014-02-11T15:00:08.529293:sysname  Linux\n"
       ]
      },
      {
       "output_type": "stream",
       "stream": "stderr",
       "text": [
        "INFO:interface:stdout 2014-02-11T15:00:08.529293:hostname tea\n"
       ]
      },
      {
       "output_type": "stream",
       "stream": "stderr",
       "text": [
        "INFO:interface:stdout 2014-02-11T15:00:08.529293:machine  x86_64\n"
       ]
      },
      {
       "output_type": "stream",
       "stream": "stderr",
       "text": [
        "INFO:interface:stdout 2014-02-11T15:00:08.529293:user     oesteban\n"
       ]
      },
      {
       "output_type": "stream",
       "stream": "stderr",
       "text": [
        "INFO:interface:stdout 2014-02-11T15:00:08.529293:\n"
       ]
      },
      {
       "output_type": "stream",
       "stream": "stderr",
       "text": [
        "INFO:interface:stdout 2014-02-11T15:00:08.529293:input      /home/oesteban/workspace/ACWE-Reg/temp/Phantom0/synthetic_distortion/binarize/mask_warped.nii.gz\n"
       ]
      },
      {
       "output_type": "stream",
       "stream": "stderr",
       "text": [
        "INFO:interface:stdout 2014-02-11T15:00:08.529293:frame      0\n"
       ]
      },
      {
       "output_type": "stream",
       "stream": "stderr",
       "text": [
        "INFO:interface:stdout 2014-02-11T15:00:08.529293:nErode3d   0\n"
       ]
      },
      {
       "output_type": "stream",
       "stream": "stderr",
       "text": [
        "INFO:interface:stdout 2014-02-11T15:00:08.529293:nErode2d   0\n"
       ]
      },
      {
       "output_type": "stream",
       "stream": "stderr",
       "text": [
        "INFO:interface:stdout 2014-02-11T15:00:08.529293:output     /home/oesteban/workspace/ACWE-Reg/temp/Phantom0/synthetic_distortion/binarize/mask_warped_thresh.nii.gz\n"
       ]
      },
      {
       "output_type": "stream",
       "stream": "stderr",
       "text": [
        "INFO:interface:stdout 2014-02-11T15:00:08.529293:Binarizing based on threshold\n"
       ]
      },
      {
       "output_type": "stream",
       "stream": "stderr",
       "text": [
        "INFO:interface:stdout 2014-02-11T15:00:08.529293:min        1e-05\n"
       ]
      },
      {
       "output_type": "stream",
       "stream": "stderr",
       "text": [
        "INFO:interface:stdout 2014-02-11T15:00:08.529293:max        +infinity\n"
       ]
      },
      {
       "output_type": "stream",
       "stream": "stderr",
       "text": [
        "INFO:interface:stdout 2014-02-11T15:00:08.529293:binval        1\n"
       ]
      },
      {
       "output_type": "stream",
       "stream": "stderr",
       "text": [
        "INFO:interface:stdout 2014-02-11T15:00:08.529293:binvalnot     0\n"
       ]
      },
      {
       "output_type": "stream",
       "stream": "stderr",
       "text": [
        "INFO:interface:stdout 2014-02-11T15:00:08.529293:Found 198438 values in range\n"
       ]
      },
      {
       "output_type": "stream",
       "stream": "stderr",
       "text": [
        "INFO:interface:stdout 2014-02-11T15:00:08.529293:Counting number of voxels\n"
       ]
      },
      {
       "output_type": "stream",
       "stream": "stderr",
       "text": [
        "INFO:interface:stdout 2014-02-11T15:00:08.529293:Found 198438 voxels in final mask\n"
       ]
      },
      {
       "output_type": "stream",
       "stream": "stderr",
       "text": [
        "INFO:interface:stdout 2014-02-11T15:00:08.529293:mri_binarize done\n"
       ]
      },
      {
       "output_type": "stream",
       "stream": "stderr",
       "text": [
        "INFO:workflow:Executing node Fugue_Warp in dir: /home/oesteban/workspace/ACWE-Reg/temp/Phantom0/synthetic_distortion/Fugue_WarpDWIs/Fugue_Warp\n"
       ]
      },
      {
       "output_type": "stream",
       "stream": "stderr",
       "text": [
        "INFO:workflow:Executing node _Fugue_Warp0 in dir: /home/oesteban/workspace/ACWE-Reg/temp/Phantom0/synthetic_distortion/Fugue_WarpDWIs/Fugue_Warp/mapflow/_Fugue_Warp0\n"
       ]
      },
      {
       "output_type": "stream",
       "stream": "stderr",
       "text": [
        "INFO:workflow:Running: fugue --in=/home/oesteban/workspace/ACWE-Reg/temp/Phantom0/synthetic_distortion/Fugue_WarpDWIs/split_DWI/mri-noise-free_000.nii.gz --mask=/home/oesteban/workspace/ACWE-Reg/Data/Phantom0/gyrus/mask.nii.gz --loadshift=/home/oesteban/workspace/ACWE-Reg/temp/Phantom0/synthetic_distortion/demean/mask_vsm_demeaned.nii.gz --unwarpdir=z --warp=/home/oesteban/workspace/ACWE-Reg/temp/Phantom0/synthetic_distortion/Fugue_WarpDWIs/Fugue_Warp/mapflow/_Fugue_Warp0/mri-noise-free_000_warped.nii.gz\n"
       ]
      },
      {
       "output_type": "stream",
       "stream": "stderr",
       "text": [
        "INFO:workflow:Executing node _Fugue_Warp1 in dir: /home/oesteban/workspace/ACWE-Reg/temp/Phantom0/synthetic_distortion/Fugue_WarpDWIs/Fugue_Warp/mapflow/_Fugue_Warp1\n"
       ]
      },
      {
       "output_type": "stream",
       "stream": "stderr",
       "text": [
        "INFO:workflow:Running: fugue --in=/home/oesteban/workspace/ACWE-Reg/temp/Phantom0/synthetic_distortion/Fugue_WarpDWIs/split_DWI/mri-noise-free_001.nii.gz --mask=/home/oesteban/workspace/ACWE-Reg/Data/Phantom0/gyrus/mask.nii.gz --loadshift=/home/oesteban/workspace/ACWE-Reg/temp/Phantom0/synthetic_distortion/demean/mask_vsm_demeaned.nii.gz --unwarpdir=z --warp=/home/oesteban/workspace/ACWE-Reg/temp/Phantom0/synthetic_distortion/Fugue_WarpDWIs/Fugue_Warp/mapflow/_Fugue_Warp1/mri-noise-free_001_warped.nii.gz\n"
       ]
      },
      {
       "output_type": "stream",
       "stream": "stderr",
       "text": [
        "INFO:workflow:Executing node merge_DWI in dir: /home/oesteban/workspace/ACWE-Reg/temp/Phantom0/synthetic_distortion/Fugue_WarpDWIs/merge_DWI\n"
       ]
      },
      {
       "output_type": "stream",
       "stream": "stderr",
       "text": [
        "INFO:workflow:Running: fslmerge -t mri-noise-free_000_warped_merged.nii.gz /home/oesteban/workspace/ACWE-Reg/temp/Phantom0/synthetic_distortion/Fugue_WarpDWIs/Fugue_Warp/mapflow/_Fugue_Warp0/mri-noise-free_000_warped.nii.gz /home/oesteban/workspace/ACWE-Reg/temp/Phantom0/synthetic_distortion/Fugue_WarpDWIs/Fugue_Warp/mapflow/_Fugue_Warp1/mri-noise-free_001_warped.nii.gz\n"
       ]
      },
      {
       "output_type": "stream",
       "stream": "stderr",
       "text": [
        "INFO:workflow:Executing node WarpImages in dir: /home/oesteban/workspace/ACWE-Reg/temp/Phantom0/synthetic_distortion/WarpImages\n"
       ]
      },
      {
       "output_type": "stream",
       "stream": "stderr",
       "text": [
        "INFO:workflow:Executing node _WarpImages0 in dir: /home/oesteban/workspace/ACWE-Reg/temp/Phantom0/synthetic_distortion/WarpImages/mapflow/_WarpImages0\n"
       ]
      },
      {
       "output_type": "stream",
       "stream": "stderr",
       "text": [
        "INFO:workflow:Running: fugue --icorr --in=/home/oesteban/workspace/ACWE-Reg/temp/Phantom0/gyrus_tpm_wm.nii.gz --mask=/home/oesteban/workspace/ACWE-Reg/Data/Phantom0/gyrus/mask.nii.gz --loadshift=/home/oesteban/workspace/ACWE-Reg/temp/Phantom0/synthetic_distortion/demean/mask_vsm_demeaned.nii.gz --warp=/home/oesteban/workspace/ACWE-Reg/temp/Phantom0/synthetic_distortion/WarpImages/mapflow/_WarpImages0/gyrus_tpm_wm_warped.nii.gz\n"
       ]
      },
      {
       "output_type": "stream",
       "stream": "stderr",
       "text": [
        "INFO:workflow:Executing node Normalize in dir: /home/oesteban/workspace/ACWE-Reg/temp/Phantom0/synthetic_distortion/Normalize\n"
       ]
      }
     ],
     "prompt_number": 7
    },
    {
     "cell_type": "code",
     "collapsed": false,
     "input": [],
     "language": "python",
     "metadata": {},
     "outputs": []
    }
   ],
   "metadata": {}
  }
 ]
}