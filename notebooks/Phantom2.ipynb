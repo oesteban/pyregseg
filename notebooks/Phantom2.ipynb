{
 "metadata": {
  "name": "Phantom2"
 },
 "nbformat": 3,
 "nbformat_minor": 0,
 "worksheets": [
  {
   "cells": [
    {
     "cell_type": "code",
     "collapsed": false,
     "input": [
      "from traits.etsconfig.api import ETSConfig\n",
      "ETSConfig.toolkit = 'null'\n",
      "\n",
      "import os\n",
      "import os.path as op\n",
      "import nibabel as nib\n",
      "\n",
      "import nipype.interfaces.diffusion_toolkit as dtk\n",
      "#import nipype.pipeline.engine as pe          # pypeline engine\n",
      "#import nipype.interfaces.freesurfer as fs\n",
      "#import nipype.interfaces.utility as niu\n",
      "#import nipype.interfaces.io as nio\n",
      "#from tvtk.api import tvtk\n",
      "\n",
      "root_dir = '/home/oesteban/workspace/ACWE-Reg/'\n",
      "\n",
      "\n",
      "import sys\n",
      "sys.path.append( op.join( root_dir, 'Scripts/workflows' ) )\n",
      "sys.path.append( op.join( root_dir, 'Scripts/util' ) )\n",
      "\n",
      "import dmri as dmri\n",
      "import surfaces as surf\n",
      "import misc as misc"
     ],
     "language": "python",
     "metadata": {},
     "outputs": [],
     "prompt_number": 14
    },
    {
     "cell_type": "code",
     "collapsed": false,
     "input": [
      "phantom_id = 2\n",
      "\n",
      "data_dir= op.join( root_dir, 'Data' )\n",
      "mname = 'Phantom%d' % phantom_id\n",
      "model_dir = op.join( data_dir, mname )\n",
      "tpms_dir = op.join( model_dir, 'tpms' )\n",
      "\n",
      "working_dir= op.join( root_dir, 'temp', mname )\n",
      "\n",
      "if not op.exists( working_dir ):\n",
      "    os.makedirs( working_dir )\n",
      "    \n",
      "if not op.exists( tpms_dir ):\n",
      "    os.makedirs( tpms_dir )\n",
      "    \n",
      "dist_fname = op.join( model_dir, 'signal_deformed.nii.gz' )\n",
      "\n",
      "dist_names = [ op.join( model_dir, '%s_deformed.nii.gz' % n ) for n in ['FA','MD'] ]"
     ],
     "language": "python",
     "metadata": {},
     "outputs": [],
     "prompt_number": 16
    },
    {
     "cell_type": "code",
     "collapsed": false,
     "input": [
      "model_im = nib.load( os.path.join( model_dir, 'model.nii.gz' ) )\n",
      "im_data = model_im.get_data()\n",
      "im_data = np.array( [ im_data[:,:,:,comp] for comp in range( 0, model_im.get_shape()[3] ) ] )\n",
      "dim = im_data[0].shape\n",
      "\n",
      "new_header = model_im.get_header().copy()\n",
      "new_header.set_data_shape( dim )\n",
      "new_header.set_data_dtype( np.uint8 )\n",
      "new_header.set_xyzt_units( 2 )"
     ],
     "language": "python",
     "metadata": {},
     "outputs": [],
     "prompt_number": 3
    },
    {
     "cell_type": "code",
     "collapsed": false,
     "input": [
      "name_pref = 'roi'\n",
      "roinames = []\n",
      "tpmnames = []\n",
      "\n",
      "t1_data = np.zeros( shape=dim )\n",
      "t1_values = [ 230, 90, 40 ]\n",
      "t1_name = op.join( model_dir, 't1_weighted.nii.gz' )\n",
      "\n",
      "for i,(comp,name) in enumerate(zip( im_data, ['wm','gm','csf'] ) ):\n",
      "    t1_data[comp==1] = t1_values[i]\n",
      "    tpmname = os.path.join( tpms_dir, '%s_%s.nii.gz' % (name_pref, name) )\n",
      "    tpmnames.append( tpmname )\n",
      "    nib.save( nib.Nifti1Image( comp, model_im.get_affine() , new_header ), tpmname )\n",
      "    \n",
      "    if name == 'wm':\n",
      "        comp = im_data[0] + im_data[2]\n",
      "    elif name == 'gm':\n",
      "        comp = im_data[0] + im_data[1] + im_data[2]\n",
      "       \n",
      "    roiname = os.path.join( working_dir, '%s_%s.nii.gz' % (name_pref, name) )\n",
      "    roinames.append( roiname )\n",
      "    nib.save( nib.Nifti1Image( comp, model_im.get_affine() , new_header ), roiname )\n",
      "    \n",
      "mask = np.sum( im_data, axis=0 )\n"
     ],
     "language": "python",
     "metadata": {},
     "outputs": [],
     "prompt_number": 7
    },
    {
     "cell_type": "code",
     "collapsed": false,
     "input": [
      "t1_data = misc.gen_noise(t1_data,mask)\n",
      "t1_data[t1_data<0] = 0\n",
      "t1_data = 255 * t1_data / t1_data.max()\n",
      "nib.save( nib.Nifti1Image( t1_data.astype(np.uint8), model_im.get_affine() , new_header ), t1_name )"
     ],
     "language": "python",
     "metadata": {},
     "outputs": [],
     "prompt_number": 8
    },
    {
     "cell_type": "code",
     "collapsed": false,
     "input": [
      "for i,rname in enumerate( roinames ):\n",
      "    wf = surf.binary2contour_workflow( name=(\"Contour_%02d\" % i ))\n",
      "    wf.base_dir = working_dir\n",
      "    wf.inputs.inputnode.in_file = rname\n",
      "    wf.inputs.inputnode.in_norm = t1_name\n",
      "    wf.inputs.inputnode.out_folder = working_dir\n",
      "    res = wf.run()"
     ],
     "language": "python",
     "metadata": {},
     "outputs": [
      {
       "output_type": "stream",
       "stream": "stdout",
       "text": [
        "131005-21:23:45,552 workflow INFO:\n",
        "\t ['check', 'execution', 'logging']\n"
       ]
      },
      {
       "output_type": "stream",
       "stream": "stdout",
       "text": [
        "131005-21:23:45,559 workflow INFO:\n",
        "\t Running serially.\n"
       ]
      },
      {
       "output_type": "stream",
       "stream": "stdout",
       "text": [
        "131005-21:23:45,560 workflow INFO:\n",
        "\t Executing node pretess in dir: /home/oesteban/workspace/ACWE-Reg/temp/Phantom2/Contour_00/pretess\n"
       ]
      },
      {
       "output_type": "stream",
       "stream": "stdout",
       "text": [
        "131005-21:23:45,739 workflow INFO:\n",
        "\t Executing node tess in dir: /home/oesteban/workspace/ACWE-Reg/temp/Phantom2/Contour_00/tess\n"
       ]
      },
      {
       "output_type": "stream",
       "stream": "stdout",
       "text": [
        "131005-21:23:45,742 workflow INFO:\n",
        "\t Running: mri_tessellate -n /home/oesteban/workspace/ACWE-Reg/temp/Phantom2/Contour_00/pretess/roi_wm_pretess.mgz 1 ./roi_wm_pretess.mgz_1\n"
       ]
      },
      {
       "output_type": "stream",
       "stream": "stdout",
       "text": [
        "131005-21:23:45,797 interface INFO:\n",
        "\t stdout 2013-10-05T21:23:45.797051:surface saved uses coordinates in the real RAS where c_(r,a,s) != 0\n"
       ]
      },
      {
       "output_type": "stream",
       "stream": "stdout",
       "text": [
        "131005-21:23:45,797 interface INFO:\n",
        "\t stdout 2013-10-05T21:23:45.797051:$Id: mri_tessellate.c,v 1.36 2011/03/02 00:04:25 nicks Exp $\n"
       ]
      },
      {
       "output_type": "stream",
       "stream": "stdout",
       "text": [
        "131005-21:23:45,798 interface INFO:\n",
        "\t stdout 2013-10-05T21:23:45.797051:  $Id: mrisurf.c,v 1.693.2.7 2013/05/12 22:28:01 nicks Exp $\n"
       ]
      },
      {
       "output_type": "stream",
       "stream": "stdout",
       "text": [
        "131005-21:23:45,851 interface INFO:\n",
        "\t stdout 2013-10-05T21:23:45.851950:slice 20: 516 vertices, 561 faces\n"
       ]
      },
      {
       "output_type": "stream",
       "stream": "stdout",
       "text": [
        "131005-21:23:45,852 interface INFO:\n",
        "\t stdout 2013-10-05T21:23:45.851950:slice 30: 3708 vertices, 3809 faces\n"
       ]
      },
      {
       "output_type": "stream",
       "stream": "stdout",
       "text": [
        "131005-21:23:45,852 interface INFO:\n",
        "\t stdout 2013-10-05T21:23:45.851950:slice 40: 7012 vertices, 7137 faces\n"
       ]
      },
      {
       "output_type": "stream",
       "stream": "stdout",
       "text": [
        "131005-21:23:45,852 interface INFO:\n",
        "\t stdout 2013-10-05T21:23:45.851950:slice 50: 9948 vertices, 10077 faces\n"
       ]
      },
      {
       "output_type": "stream",
       "stream": "stdout",
       "text": [
        "131005-21:23:45,853 interface INFO:\n",
        "\t stdout 2013-10-05T21:23:45.851950:slice 60: 12808 vertices, 12933 faces\n"
       ]
      },
      {
       "output_type": "stream",
       "stream": "stdout",
       "text": [
        "131005-21:23:45,853 interface INFO:\n",
        "\t stdout 2013-10-05T21:23:45.851950:slice 70: 16044 vertices, 16149 faces\n"
       ]
      },
      {
       "output_type": "stream",
       "stream": "stdout",
       "text": [
        "131005-21:23:45,853 interface INFO:\n",
        "\t stdout 2013-10-05T21:23:45.851950:slice 80: 19324 vertices, 19385 faces\n"
       ]
      },
      {
       "output_type": "stream",
       "stream": "stdout",
       "text": [
        "131005-21:23:45,854 interface INFO:\n",
        "\t stdout 2013-10-05T21:23:45.851950:slice 90: 20432 vertices, 20430 faces\n"
       ]
      },
      {
       "output_type": "stream",
       "stream": "stdout",
       "text": [
        "131005-21:23:45,854 interface INFO:\n",
        "\t stdout 2013-10-05T21:23:45.851950:slice 100: 20432 vertices, 20430 faces\n"
       ]
      },
      {
       "output_type": "stream",
       "stream": "stdout",
       "text": [
        "131005-21:23:45,854 interface INFO:\n",
        "\t stdout 2013-10-05T21:23:45.851950:using real RAS to save vertex points...\n"
       ]
      },
      {
       "output_type": "stream",
       "stream": "stdout",
       "text": [
        "131005-21:23:45,855 interface INFO:\n",
        "\t stdout 2013-10-05T21:23:45.851950:writing ./roi_wm_pretess.mgz_1\n"
       ]
      },
      {
       "output_type": "stream",
       "stream": "stdout",
       "text": [
        "131005-21:23:45,855 interface INFO:\n",
        "\t stdout 2013-10-05T21:23:45.851950:using vox2ras matrix:\n"
       ]
      },
      {
       "output_type": "stream",
       "stream": "stdout",
       "text": [
        "131005-21:23:45,855 interface INFO:\n",
        "\t stdout 2013-10-05T21:23:45.851950: 1.000   0.000   0.000  -50.000;\n"
       ]
      },
      {
       "output_type": "stream",
       "stream": "stdout",
       "text": [
        "131005-21:23:45,856 interface INFO:\n",
        "\t stdout 2013-10-05T21:23:45.851950: 0.000   1.000   0.000  -50.000;\n"
       ]
      },
      {
       "output_type": "stream",
       "stream": "stdout",
       "text": [
        "131005-21:23:45,856 interface INFO:\n",
        "\t stdout 2013-10-05T21:23:45.851950: 0.000   0.000   1.000  -50.000;\n"
       ]
      },
      {
       "output_type": "stream",
       "stream": "stdout",
       "text": [
        "131005-21:23:45,856 interface INFO:\n",
        "\t stdout 2013-10-05T21:23:45.851950: 0.000   0.000   0.000   1.000;\n"
       ]
      },
      {
       "output_type": "stream",
       "stream": "stdout",
       "text": [
        "131005-21:23:45,930 workflow INFO:\n",
        "\t Executing node mris_smooth in dir: /home/oesteban/workspace/ACWE-Reg/temp/Phantom2/Contour_00/mris_smooth\n"
       ]
      },
      {
       "output_type": "stream",
       "stream": "stdout",
       "text": [
        "131005-21:23:45,933 workflow INFO:\n",
        "\t Running: mris_smooth /home/oesteban/workspace/ACWE-Reg/temp/Phantom2/Contour_00/tess/roi_wm_pretess.mgz_1 /home/oesteban/workspace/ACWE-Reg/temp/Phantom2/Contour_00/mris_smooth/roi_wm_pretess_smoothed.mgz_1 -nw -n 10 -a 10\n"
       ]
      },
      {
       "output_type": "stream",
       "stream": "stdout",
       "text": [
        "131005-21:23:46,116 interface INFO:\n",
        "\t stderr 2013-10-05T21:23:46.116365:smoothing surface tessellation for 10 iterations...\n"
       ]
      },
      {
       "output_type": "stream",
       "stream": "stdout",
       "text": [
        "131005-21:23:46,164 interface INFO:\n",
        "\t stderr 2013-10-05T21:23:46.164054:smoothing complete - recomputing first and second fundamental forms...\n"
       ]
      },
      {
       "output_type": "stream",
       "stream": "stdout",
       "text": [
        "131005-21:23:46,376 interface INFO:\n",
        "\t stderr 2013-10-05T21:23:46.376854:writing smoothed curvature to /home/oesteban/workspace/ACWE-Reg/temp/Phantom2/Contour_00/mris_smooth/rh.curv\n"
       ]
      },
      {
       "output_type": "stream",
       "stream": "stdout",
       "text": [
        "131005-21:23:46,377 interface INFO:\n",
        "\t stderr 2013-10-05T21:23:46.377537:writing smoothed area to /home/oesteban/workspace/ACWE-Reg/temp/Phantom2/Contour_00/mris_smooth/rh.area\n"
       ]
      },
      {
       "output_type": "stream",
       "stream": "stdout",
       "text": [
        "131005-21:23:46,457 workflow INFO:\n",
        "\t Executing node tovtk in dir: /home/oesteban/workspace/ACWE-Reg/temp/Phantom2/Contour_00/tovtk\n"
       ]
      },
      {
       "output_type": "stream",
       "stream": "stdout",
       "text": [
        "131005-21:23:46,532 workflow INFO:\n",
        "\t Executing node write in dir: /home/oesteban/workspace/ACWE-Reg/temp/Phantom2/Contour_00/write\n"
       ]
      },
      {
       "output_type": "stream",
       "stream": "stdout",
       "text": [
        "131005-21:23:46,584 workflow INFO:\n",
        "\t ['check', 'execution', 'logging']\n"
       ]
      },
      {
       "output_type": "stream",
       "stream": "stdout",
       "text": [
        "131005-21:23:46,589 workflow INFO:\n",
        "\t Running serially.\n"
       ]
      },
      {
       "output_type": "stream",
       "stream": "stdout",
       "text": [
        "131005-21:23:46,589 workflow INFO:\n",
        "\t Executing node pretess in dir: /home/oesteban/workspace/ACWE-Reg/temp/Phantom2/Contour_01/pretess\n"
       ]
      },
      {
       "output_type": "stream",
       "stream": "stdout",
       "text": [
        "131005-21:23:46,759 workflow INFO:\n",
        "\t Executing node tess in dir: /home/oesteban/workspace/ACWE-Reg/temp/Phantom2/Contour_01/tess\n"
       ]
      },
      {
       "output_type": "stream",
       "stream": "stdout",
       "text": [
        "131005-21:23:46,762 workflow INFO:\n",
        "\t Running: mri_tessellate -n /home/oesteban/workspace/ACWE-Reg/temp/Phantom2/Contour_01/pretess/roi_gm_pretess.mgz 1 ./roi_gm_pretess.mgz_1\n"
       ]
      },
      {
       "output_type": "stream",
       "stream": "stdout",
       "text": [
        "131005-21:23:46,817 interface INFO:\n",
        "\t stdout 2013-10-05T21:23:46.817117:surface saved uses coordinates in the real RAS where c_(r,a,s) != 0\n"
       ]
      },
      {
       "output_type": "stream",
       "stream": "stdout",
       "text": [
        "131005-21:23:46,817 interface INFO:\n",
        "\t stdout 2013-10-05T21:23:46.817117:$Id: mri_tessellate.c,v 1.36 2011/03/02 00:04:25 nicks Exp $\n"
       ]
      },
      {
       "output_type": "stream",
       "stream": "stdout",
       "text": [
        "131005-21:23:46,818 interface INFO:\n",
        "\t stdout 2013-10-05T21:23:46.817117:  $Id: mrisurf.c,v 1.693.2.7 2013/05/12 22:28:01 nicks Exp $\n"
       ]
      },
      {
       "output_type": "stream",
       "stream": "stdout",
       "text": [
        "131005-21:23:46,873 interface INFO:\n",
        "\t stdout 2013-10-05T21:23:46.873318:slice 20: 2920 vertices, 3017 faces\n"
       ]
      },
      {
       "output_type": "stream",
       "stream": "stdout",
       "text": [
        "131005-21:23:46,873 interface INFO:\n",
        "\t stdout 2013-10-05T21:23:46.873318:slice 30: 6892 vertices, 7025 faces\n"
       ]
      },
      {
       "output_type": "stream",
       "stream": "stdout",
       "text": [
        "131005-21:23:46,873 interface INFO:\n",
        "\t stdout 2013-10-05T21:23:46.873318:slice 40: 10752 vertices, 10901 faces\n"
       ]
      },
      {
       "output_type": "stream",
       "stream": "stdout",
       "text": [
        "131005-21:23:46,874 interface INFO:\n",
        "\t stdout 2013-10-05T21:23:46.873318:slice 50: 14156 vertices, 14309 faces\n"
       ]
      },
      {
       "output_type": "stream",
       "stream": "stdout",
       "text": [
        "131005-21:23:46,874 interface INFO:\n",
        "\t stdout 2013-10-05T21:23:46.873318:slice 60: 17436 vertices, 17589 faces\n"
       ]
      },
      {
       "output_type": "stream",
       "stream": "stdout",
       "text": [
        "131005-21:23:46,874 interface INFO:\n",
        "\t stdout 2013-10-05T21:23:46.873318:slice 70: 21264 vertices, 21401 faces\n"
       ]
      },
      {
       "output_type": "stream",
       "stream": "stdout",
       "text": [
        "131005-21:23:46,874 interface INFO:\n",
        "\t stdout 2013-10-05T21:23:46.873318:slice 80: 25224 vertices, 25329 faces\n"
       ]
      },
      {
       "output_type": "stream",
       "stream": "stdout",
       "text": [
        "131005-21:23:46,875 interface INFO:\n",
        "\t stdout 2013-10-05T21:23:46.873318:slice 90: 28928 vertices, 28926 faces\n"
       ]
      },
      {
       "output_type": "stream",
       "stream": "stdout",
       "text": [
        "131005-21:23:46,875 interface INFO:\n",
        "\t stdout 2013-10-05T21:23:46.873318:slice 100: 28928 vertices, 28926 faces\n"
       ]
      },
      {
       "output_type": "stream",
       "stream": "stdout",
       "text": [
        "131005-21:23:46,875 interface INFO:\n",
        "\t stdout 2013-10-05T21:23:46.873318:using real RAS to save vertex points...\n"
       ]
      },
      {
       "output_type": "stream",
       "stream": "stdout",
       "text": [
        "131005-21:23:46,875 interface INFO:\n",
        "\t stdout 2013-10-05T21:23:46.873318:writing ./roi_gm_pretess.mgz_1\n"
       ]
      },
      {
       "output_type": "stream",
       "stream": "stdout",
       "text": [
        "131005-21:23:46,875 interface INFO:\n",
        "\t stdout 2013-10-05T21:23:46.873318:using vox2ras matrix:\n"
       ]
      },
      {
       "output_type": "stream",
       "stream": "stdout",
       "text": [
        "131005-21:23:46,876 interface INFO:\n",
        "\t stdout 2013-10-05T21:23:46.873318: 1.000   0.000   0.000  -50.000;\n"
       ]
      },
      {
       "output_type": "stream",
       "stream": "stdout",
       "text": [
        "131005-21:23:46,876 interface INFO:\n",
        "\t stdout 2013-10-05T21:23:46.873318: 0.000   1.000   0.000  -50.000;\n"
       ]
      },
      {
       "output_type": "stream",
       "stream": "stdout",
       "text": [
        "131005-21:23:46,876 interface INFO:\n",
        "\t stdout 2013-10-05T21:23:46.873318: 0.000   0.000   1.000  -50.000;\n"
       ]
      },
      {
       "output_type": "stream",
       "stream": "stdout",
       "text": [
        "131005-21:23:46,876 interface INFO:\n",
        "\t stdout 2013-10-05T21:23:46.873318: 0.000   0.000   0.000   1.000;\n"
       ]
      },
      {
       "output_type": "stream",
       "stream": "stdout",
       "text": [
        "131005-21:23:46,959 workflow INFO:\n",
        "\t Executing node mris_smooth in dir: /home/oesteban/workspace/ACWE-Reg/temp/Phantom2/Contour_01/mris_smooth\n"
       ]
      },
      {
       "output_type": "stream",
       "stream": "stdout",
       "text": [
        "131005-21:23:46,962 workflow INFO:\n",
        "\t Running: mris_smooth /home/oesteban/workspace/ACWE-Reg/temp/Phantom2/Contour_01/tess/roi_gm_pretess.mgz_1 /home/oesteban/workspace/ACWE-Reg/temp/Phantom2/Contour_01/mris_smooth/roi_gm_pretess_smoothed.mgz_1 -nw -n 10 -a 10\n"
       ]
      },
      {
       "output_type": "stream",
       "stream": "stdout",
       "text": [
        "131005-21:23:47,203 interface INFO:\n",
        "\t stderr 2013-10-05T21:23:47.203152:smoothing surface tessellation for 10 iterations...\n"
       ]
      },
      {
       "output_type": "stream",
       "stream": "stdout",
       "text": [
        "131005-21:23:47,272 interface INFO:\n",
        "\t stderr 2013-10-05T21:23:47.272011:smoothing complete - recomputing first and second fundamental forms...\n"
       ]
      },
      {
       "output_type": "stream",
       "stream": "stdout",
       "text": [
        "131005-21:23:47,571 interface INFO:\n",
        "\t stderr 2013-10-05T21:23:47.571148:writing smoothed curvature to /home/oesteban/workspace/ACWE-Reg/temp/Phantom2/Contour_01/mris_smooth/rh.curv\n"
       ]
      },
      {
       "output_type": "stream",
       "stream": "stdout",
       "text": [
        "131005-21:23:47,572 interface INFO:\n",
        "\t stderr 2013-10-05T21:23:47.572268:writing smoothed area to /home/oesteban/workspace/ACWE-Reg/temp/Phantom2/Contour_01/mris_smooth/rh.area\n"
       ]
      },
      {
       "output_type": "stream",
       "stream": "stdout",
       "text": [
        "131005-21:23:47,658 workflow INFO:\n",
        "\t Executing node tovtk in dir: /home/oesteban/workspace/ACWE-Reg/temp/Phantom2/Contour_01/tovtk\n"
       ]
      },
      {
       "output_type": "stream",
       "stream": "stdout",
       "text": [
        "131005-21:23:47,734 workflow INFO:\n",
        "\t Executing node write in dir: /home/oesteban/workspace/ACWE-Reg/temp/Phantom2/Contour_01/write\n"
       ]
      },
      {
       "output_type": "stream",
       "stream": "stdout",
       "text": [
        "131005-21:23:47,786 workflow INFO:\n",
        "\t ['check', 'execution', 'logging']\n"
       ]
      },
      {
       "output_type": "stream",
       "stream": "stdout",
       "text": [
        "131005-21:23:47,790 workflow INFO:\n",
        "\t Running serially.\n"
       ]
      },
      {
       "output_type": "stream",
       "stream": "stdout",
       "text": [
        "131005-21:23:47,791 workflow INFO:\n",
        "\t Executing node pretess in dir: /home/oesteban/workspace/ACWE-Reg/temp/Phantom2/Contour_02/pretess\n"
       ]
      },
      {
       "output_type": "stream",
       "stream": "stdout",
       "text": [
        "131005-21:23:47,963 workflow INFO:\n",
        "\t Executing node tess in dir: /home/oesteban/workspace/ACWE-Reg/temp/Phantom2/Contour_02/tess\n"
       ]
      },
      {
       "output_type": "stream",
       "stream": "stdout",
       "text": [
        "131005-21:23:47,965 workflow INFO:\n",
        "\t Running: mri_tessellate -n /home/oesteban/workspace/ACWE-Reg/temp/Phantom2/Contour_02/pretess/roi_csf_pretess.mgz 1 ./roi_csf_pretess.mgz_1\n"
       ]
      },
      {
       "output_type": "stream",
       "stream": "stdout",
       "text": [
        "131005-21:23:48,25 interface INFO:\n",
        "\t stdout 2013-10-05T21:23:48.025154:surface saved uses coordinates in the real RAS where c_(r,a,s) != 0\n"
       ]
      },
      {
       "output_type": "stream",
       "stream": "stdout",
       "text": [
        "131005-21:23:48,25 interface INFO:\n",
        "\t stdout 2013-10-05T21:23:48.025154:$Id: mri_tessellate.c,v 1.36 2011/03/02 00:04:25 nicks Exp $\n"
       ]
      },
      {
       "output_type": "stream",
       "stream": "stdout",
       "text": [
        "131005-21:23:48,26 interface INFO:\n",
        "\t stdout 2013-10-05T21:23:48.025154:  $Id: mrisurf.c,v 1.693.2.7 2013/05/12 22:28:01 nicks Exp $\n"
       ]
      },
      {
       "output_type": "stream",
       "stream": "stdout",
       "text": [
        "131005-21:23:48,76 interface INFO:\n",
        "\t stdout 2013-10-05T21:23:48.076875:slice 30: 192 vertices, 217 faces\n"
       ]
      },
      {
       "output_type": "stream",
       "stream": "stdout",
       "text": [
        "131005-21:23:48,77 interface INFO:\n",
        "\t stdout 2013-10-05T21:23:48.076875:slice 40: 1452 vertices, 1501 faces\n"
       ]
      },
      {
       "output_type": "stream",
       "stream": "stdout",
       "text": [
        "131005-21:23:48,77 interface INFO:\n",
        "\t stdout 2013-10-05T21:23:48.076875:slice 50: 2870 vertices, 2927 faces\n"
       ]
      },
      {
       "output_type": "stream",
       "stream": "stdout",
       "text": [
        "131005-21:23:48,77 interface INFO:\n",
        "\t stdout 2013-10-05T21:23:48.076875:slice 60: 4406 vertices, 4453 faces\n"
       ]
      },
      {
       "output_type": "stream",
       "stream": "stdout",
       "text": [
        "131005-21:23:48,78 interface INFO:\n",
        "\t stdout 2013-10-05T21:23:48.076875:slice 70: 5630 vertices, 5661 faces\n"
       ]
      },
      {
       "output_type": "stream",
       "stream": "stdout",
       "text": [
        "131005-21:23:48,78 interface INFO:\n",
        "\t stdout 2013-10-05T21:23:48.076875:slice 80: 5958 vertices, 5954 faces\n"
       ]
      },
      {
       "output_type": "stream",
       "stream": "stdout",
       "text": [
        "131005-21:23:48,78 interface INFO:\n",
        "\t stdout 2013-10-05T21:23:48.076875:slice 90: 5958 vertices, 5954 faces\n"
       ]
      },
      {
       "output_type": "stream",
       "stream": "stdout",
       "text": [
        "131005-21:23:48,79 interface INFO:\n",
        "\t stdout 2013-10-05T21:23:48.076875:slice 100: 5958 vertices, 5954 faces\n"
       ]
      },
      {
       "output_type": "stream",
       "stream": "stdout",
       "text": [
        "131005-21:23:48,79 interface INFO:\n",
        "\t stdout 2013-10-05T21:23:48.076875:using real RAS to save vertex points...\n"
       ]
      },
      {
       "output_type": "stream",
       "stream": "stdout",
       "text": [
        "131005-21:23:48,79 interface INFO:\n",
        "\t stdout 2013-10-05T21:23:48.076875:writing ./roi_csf_pretess.mgz_1\n"
       ]
      },
      {
       "output_type": "stream",
       "stream": "stdout",
       "text": [
        "131005-21:23:48,80 interface INFO:\n",
        "\t stdout 2013-10-05T21:23:48.076875:using vox2ras matrix:\n"
       ]
      },
      {
       "output_type": "stream",
       "stream": "stdout",
       "text": [
        "131005-21:23:48,80 interface INFO:\n",
        "\t stdout 2013-10-05T21:23:48.076875: 1.000   0.000   0.000  -50.000;\n"
       ]
      },
      {
       "output_type": "stream",
       "stream": "stdout",
       "text": [
        "131005-21:23:48,81 interface INFO:\n",
        "\t stdout 2013-10-05T21:23:48.076875: 0.000   1.000   0.000  -50.000;\n"
       ]
      },
      {
       "output_type": "stream",
       "stream": "stdout",
       "text": [
        "131005-21:23:48,81 interface INFO:\n",
        "\t stdout 2013-10-05T21:23:48.076875: 0.000   0.000   1.000  -50.000;\n"
       ]
      },
      {
       "output_type": "stream",
       "stream": "stdout",
       "text": [
        "131005-21:23:48,82 interface INFO:\n",
        "\t stdout 2013-10-05T21:23:48.076875: 0.000   0.000   0.000   1.000;\n"
       ]
      },
      {
       "output_type": "stream",
       "stream": "stdout",
       "text": [
        "131005-21:23:48,157 workflow INFO:\n",
        "\t Executing node mris_smooth in dir: /home/oesteban/workspace/ACWE-Reg/temp/Phantom2/Contour_02/mris_smooth\n"
       ]
      },
      {
       "output_type": "stream",
       "stream": "stdout",
       "text": [
        "131005-21:23:48,160 workflow INFO:\n",
        "\t Running: mris_smooth /home/oesteban/workspace/ACWE-Reg/temp/Phantom2/Contour_02/tess/roi_csf_pretess.mgz_1 /home/oesteban/workspace/ACWE-Reg/temp/Phantom2/Contour_02/mris_smooth/roi_csf_pretess_smoothed.mgz_1 -nw -n 10 -a 10\n"
       ]
      },
      {
       "output_type": "stream",
       "stream": "stdout",
       "text": [
        "131005-21:23:48,242 interface INFO:\n",
        "\t stderr 2013-10-05T21:23:48.242689:smoothing surface tessellation for 10 iterations...\n"
       ]
      },
      {
       "output_type": "stream",
       "stream": "stdout",
       "text": [
        "131005-21:23:48,249 interface INFO:\n",
        "\t stderr 2013-10-05T21:23:48.249798:smoothing complete - recomputing first and second fundamental forms...\n"
       ]
      },
      {
       "output_type": "stream",
       "stream": "stdout",
       "text": [
        "131005-21:23:48,307 interface INFO:\n",
        "\t stderr 2013-10-05T21:23:48.307590:writing smoothed curvature to /home/oesteban/workspace/ACWE-Reg/temp/Phantom2/Contour_02/mris_smooth/rh.curv\n"
       ]
      },
      {
       "output_type": "stream",
       "stream": "stdout",
       "text": [
        "131005-21:23:48,308 interface INFO:\n",
        "\t stderr 2013-10-05T21:23:48.308036:writing smoothed area to /home/oesteban/workspace/ACWE-Reg/temp/Phantom2/Contour_02/mris_smooth/rh.area\n"
       ]
      },
      {
       "output_type": "stream",
       "stream": "stdout",
       "text": [
        "131005-21:23:48,378 workflow INFO:\n",
        "\t Executing node tovtk in dir: /home/oesteban/workspace/ACWE-Reg/temp/Phantom2/Contour_02/tovtk\n"
       ]
      },
      {
       "output_type": "stream",
       "stream": "stdout",
       "text": [
        "131005-21:23:48,534 workflow INFO:\n",
        "\t Executing node write in dir: /home/oesteban/workspace/ACWE-Reg/temp/Phantom2/Contour_02/write\n"
       ]
      }
     ],
     "prompt_number": 9
    },
    {
     "cell_type": "code",
     "collapsed": false,
     "input": [
      "te_incr = 2.46e-3 # secs\n",
      "dwell_time = 0.77e-3 # secs\n",
      "maskfile = roinames[1]\n",
      "edir = 'z'\n",
      "dwifile = os.path.join( model_dir, 'signal.nii.gz' )\n",
      "\n",
      "wf = dmri.distortion_workflow()\n",
      "wf.base_dir = working_dir\n",
      "wf.inputs.inputnode.in_file = dwifile\n",
      "wf.inputs.inputnode.in_mask = maskfile\n",
      "wf.inputs.inputnode.te_incr = te_incr\n",
      "wf.inputs.inputnode.echospacing = dwell_time\n",
      "wf.inputs.inputnode.encoding_direction = edir\n",
      "wf.inputs.inputnode.intensity = 0.05\n",
      "wf.inputs.inputnode.sigma = 8.0\n",
      "wf.inputs.inputnode.in_tpms = tpmnames\n",
      "wf.run()\n",
      "\n",
      "import shutil as sh\n",
      "dist_out = op.join( working_dir, 'synthetic_distortion/Fugue_WarpDWIs/merge_DWI/signal_000_warped_merged.nii.gz' )\n",
      "sh.copyfile( dist_out, dist_fname )"
     ],
     "language": "python",
     "metadata": {},
     "outputs": [
      {
       "output_type": "stream",
       "stream": "stdout",
       "text": [
        "131005-21:23:55,719 workflow INFO:\n",
        "\t ['check', 'execution', 'logging']\n"
       ]
      },
      {
       "output_type": "stream",
       "stream": "stdout",
       "text": [
        "131005-21:23:55,728 workflow INFO:\n",
        "\t Running serially.\n"
       ]
      },
      {
       "output_type": "stream",
       "stream": "stdout",
       "text": [
        "131005-21:23:55,729 workflow INFO:\n",
        "\t Executing node split_DWI in dir: /home/oesteban/workspace/ACWE-Reg/temp/Phantom2/synthetic_distortion/Fugue_WarpDWIs/split_DWI\n"
       ]
      },
      {
       "output_type": "stream",
       "stream": "stdout",
       "text": [
        "131005-21:23:55,729 workflow INFO:\n",
        "\t Collecting precomputed outputs\n"
       ]
      },
      {
       "output_type": "stream",
       "stream": "stdout",
       "text": [
        "131005-21:23:55,758 workflow INFO:\n",
        "\t Executing node gen_siemens_PhaseDiffMap in dir: /home/oesteban/workspace/ACWE-Reg/temp/Phantom2/synthetic_distortion/gen_siemens_PhaseDiffMap\n"
       ]
      },
      {
       "output_type": "stream",
       "stream": "stdout",
       "text": [
        "131005-21:23:56,156 workflow INFO:\n",
        "\t Executing node fsl_prepare_fieldmap in dir: /home/oesteban/workspace/ACWE-Reg/temp/Phantom2/synthetic_distortion/fsl_prepare_fieldmap\n"
       ]
      },
      {
       "output_type": "stream",
       "stream": "stdout",
       "text": [
        "131005-21:23:56,159 workflow INFO:\n",
        "\t Running: fsl_prepare_fieldmap SIEMENS /home/oesteban/workspace/ACWE-Reg/temp/Phantom2/synthetic_distortion/gen_siemens_PhaseDiffMap/roi_gm_siemens.nii.gz /home/oesteban/workspace/ACWE-Reg/temp/Phantom2/roi_gm.nii.gz /home/oesteban/workspace/ACWE-Reg/temp/Phantom2/synthetic_distortion/fsl_prepare_fieldmap/roi_gm_siemens_fslprepared.nii.gz 2.460000\n"
       ]
      },
      {
       "output_type": "stream",
       "stream": "stdout",
       "text": [
        "131005-21:23:56,786 interface INFO:\n",
        "\t stdout 2013-10-05T21:23:56.786030:Loading volumes\n"
       ]
      },
      {
       "output_type": "stream",
       "stream": "stdout",
       "text": [
        "131005-21:23:56,807 interface INFO:\n",
        "\t stdout 2013-10-05T21:23:56.807836:Phase loaded\n"
       ]
      },
      {
       "output_type": "stream",
       "stream": "stdout",
       "text": [
        "131005-21:23:56,819 interface INFO:\n",
        "\t stdout 2013-10-05T21:23:56.819785:Magnitude loaded\n"
       ]
      },
      {
       "output_type": "stream",
       "stream": "stdout",
       "text": [
        "131005-21:23:56,839 interface INFO:\n",
        "\t stdout 2013-10-05T21:23:56.839321:Mask loaded\n"
       ]
      },
      {
       "output_type": "stream",
       "stream": "stdout",
       "text": [
        "131005-21:23:56,901 interface INFO:\n",
        "\t stdout 2013-10-05T21:23:56.901197:Number of phase splits = 8\n"
       ]
      },
      {
       "output_type": "stream",
       "stream": "stdout",
       "text": [
        "131005-21:23:56,969 interface INFO:\n",
        "\t stdout 2013-10-05T21:23:56.969903:Calculating starting matrices (77 by 77)\n"
       ]
      },
      {
       "output_type": "stream",
       "stream": "stdout",
       "text": [
        "131005-21:23:56,981 interface INFO:\n",
        "\t stdout 2013-10-05T21:23:56.981454:Finished connection_matrices\n"
       ]
      },
      {
       "output_type": "stream",
       "stream": "stdout",
       "text": [
        "131005-21:23:56,981 interface INFO:\n",
        "\t stdout 2013-10-05T21:23:56.981454:76 constraints left\n"
       ]
      },
      {
       "output_type": "stream",
       "stream": "stdout",
       "text": [
        "131005-21:23:56,982 interface INFO:\n",
        "\t stdout 2013-10-05T21:23:56.982188:Did while loop 76 times\n"
       ]
      },
      {
       "output_type": "stream",
       "stream": "stdout",
       "text": [
        "131005-21:24:00,155 interface INFO:\n",
        "\t stdout 2013-10-05T21:24:00.154930:Done. Created /home/oesteban/workspace/ACWE-Reg/temp/Phantom2/synthetic_distortion/fsl_prepare_fieldmap/roi_gm_siemens_fslprepared for use with FEAT.\n"
       ]
      },
      {
       "output_type": "stream",
       "stream": "stdout",
       "text": [
        "131005-21:24:00,387 workflow INFO:\n",
        "\t Executing node gen_VSM in dir: /home/oesteban/workspace/ACWE-Reg/temp/Phantom2/synthetic_distortion/gen_VSM\n"
       ]
      },
      {
       "output_type": "stream",
       "stream": "stdout",
       "text": [
        "131005-21:24:00,391 workflow INFO:\n",
        "\t Running: fugue --asym=0.0024600000 --dwell=0.0007700000 --in=/home/oesteban/workspace/ACWE-Reg/temp/Phantom2/roi_gm.nii.gz --mask=/home/oesteban/workspace/ACWE-Reg/temp/Phantom2/roi_gm.nii.gz --phasemap=/home/oesteban/workspace/ACWE-Reg/temp/Phantom2/synthetic_distortion/fsl_prepare_fieldmap/roi_gm_siemens_fslprepared.nii.gz --saveshift=/home/oesteban/workspace/ACWE-Reg/temp/Phantom2/synthetic_distortion/gen_VSM/roi_gm_vsm.nii.gz --unwarp=/home/oesteban/workspace/ACWE-Reg/temp/Phantom2/synthetic_distortion/gen_VSM/roi_gm_unwarped.nii.gz\n"
       ]
      },
      {
       "output_type": "stream",
       "stream": "stdout",
       "text": [
        "131005-21:24:01,538 workflow INFO:\n",
        "\t Executing node demean in dir: /home/oesteban/workspace/ACWE-Reg/temp/Phantom2/synthetic_distortion/demean\n"
       ]
      },
      {
       "output_type": "stream",
       "stream": "stdout",
       "text": [
        "131005-21:24:01,742 workflow INFO:\n",
        "\t Executing node WarpImages in dir: /home/oesteban/workspace/ACWE-Reg/temp/Phantom2/synthetic_distortion/WarpImages\n"
       ]
      },
      {
       "output_type": "stream",
       "stream": "stdout",
       "text": [
        "131005-21:24:01,746 workflow INFO:\n",
        "\t Executing node _WarpImages0 in dir: /home/oesteban/workspace/ACWE-Reg/temp/Phantom2/synthetic_distortion/WarpImages/mapflow/_WarpImages0\n"
       ]
      },
      {
       "output_type": "stream",
       "stream": "stdout",
       "text": [
        "131005-21:24:01,749 workflow INFO:\n",
        "\t Running: fugue --icorr --in=/home/oesteban/workspace/ACWE-Reg/Data/Phantom2/tpms/roi_wm.nii.gz --mask=/home/oesteban/workspace/ACWE-Reg/temp/Phantom2/roi_gm.nii.gz --loadshift=/home/oesteban/workspace/ACWE-Reg/temp/Phantom2/synthetic_distortion/demean/roi_gm_vsm_demeaned.nii.gz --warp=/home/oesteban/workspace/ACWE-Reg/temp/Phantom2/synthetic_distortion/WarpImages/mapflow/_WarpImages0/roi_wm_warped.nii.gz\n"
       ]
      },
      {
       "output_type": "stream",
       "stream": "stdout",
       "text": [
        "131005-21:24:18,187 workflow INFO:\n",
        "\t Executing node _WarpImages1 in dir: /home/oesteban/workspace/ACWE-Reg/temp/Phantom2/synthetic_distortion/WarpImages/mapflow/_WarpImages1\n"
       ]
      },
      {
       "output_type": "stream",
       "stream": "stdout",
       "text": [
        "131005-21:24:18,191 workflow INFO:\n",
        "\t Running: fugue --icorr --in=/home/oesteban/workspace/ACWE-Reg/Data/Phantom2/tpms/roi_gm.nii.gz --mask=/home/oesteban/workspace/ACWE-Reg/temp/Phantom2/roi_gm.nii.gz --loadshift=/home/oesteban/workspace/ACWE-Reg/temp/Phantom2/synthetic_distortion/demean/roi_gm_vsm_demeaned.nii.gz --warp=/home/oesteban/workspace/ACWE-Reg/temp/Phantom2/synthetic_distortion/WarpImages/mapflow/_WarpImages1/roi_gm_warped.nii.gz\n"
       ]
      },
      {
       "output_type": "stream",
       "stream": "stdout",
       "text": [
        "131005-21:24:34,676 workflow INFO:\n",
        "\t Executing node _WarpImages2 in dir: /home/oesteban/workspace/ACWE-Reg/temp/Phantom2/synthetic_distortion/WarpImages/mapflow/_WarpImages2\n"
       ]
      },
      {
       "output_type": "stream",
       "stream": "stdout",
       "text": [
        "131005-21:24:34,680 workflow INFO:\n",
        "\t Running: fugue --icorr --in=/home/oesteban/workspace/ACWE-Reg/Data/Phantom2/tpms/roi_csf.nii.gz --mask=/home/oesteban/workspace/ACWE-Reg/temp/Phantom2/roi_gm.nii.gz --loadshift=/home/oesteban/workspace/ACWE-Reg/temp/Phantom2/synthetic_distortion/demean/roi_gm_vsm_demeaned.nii.gz --warp=/home/oesteban/workspace/ACWE-Reg/temp/Phantom2/synthetic_distortion/WarpImages/mapflow/_WarpImages2/roi_csf_warped.nii.gz\n"
       ]
      },
      {
       "output_type": "stream",
       "stream": "stdout",
       "text": [
        "131005-21:24:51,351 workflow INFO:\n",
        "\t Executing node Normalize in dir: /home/oesteban/workspace/ACWE-Reg/temp/Phantom2/synthetic_distortion/Normalize\n"
       ]
      },
      {
       "output_type": "stream",
       "stream": "stdout",
       "text": [
        "131005-21:24:52,137 workflow INFO:\n",
        "\t Executing node Fugue_Warp in dir: /home/oesteban/workspace/ACWE-Reg/temp/Phantom2/synthetic_distortion/Fugue_WarpDWIs/Fugue_Warp\n"
       ]
      },
      {
       "output_type": "stream",
       "stream": "stdout",
       "text": [
        "131005-21:24:52,142 workflow INFO:\n",
        "\t Executing node _Fugue_Warp0 in dir: /home/oesteban/workspace/ACWE-Reg/temp/Phantom2/synthetic_distortion/Fugue_WarpDWIs/Fugue_Warp/mapflow/_Fugue_Warp0\n"
       ]
      },
      {
       "output_type": "stream",
       "stream": "stdout",
       "text": [
        "131005-21:24:52,145 workflow INFO:\n",
        "\t Running: fugue --in=/home/oesteban/workspace/ACWE-Reg/temp/Phantom2/synthetic_distortion/Fugue_WarpDWIs/split_DWI/signal_000.nii.gz --mask=/home/oesteban/workspace/ACWE-Reg/temp/Phantom2/roi_gm.nii.gz --loadshift=/home/oesteban/workspace/ACWE-Reg/temp/Phantom2/synthetic_distortion/demean/roi_gm_vsm_demeaned.nii.gz --unwarpdir=z --warp=/home/oesteban/workspace/ACWE-Reg/temp/Phantom2/synthetic_distortion/Fugue_WarpDWIs/Fugue_Warp/mapflow/_Fugue_Warp0/signal_000_warped.nii.gz\n"
       ]
      },
      {
       "output_type": "stream",
       "stream": "stdout",
       "text": [
        "131005-21:25:08,767 workflow INFO:\n",
        "\t Executing node _Fugue_Warp1 in dir: /home/oesteban/workspace/ACWE-Reg/temp/Phantom2/synthetic_distortion/Fugue_WarpDWIs/Fugue_Warp/mapflow/_Fugue_Warp1\n"
       ]
      },
      {
       "output_type": "stream",
       "stream": "stdout",
       "text": [
        "131005-21:25:08,771 workflow INFO:\n",
        "\t Running: fugue --in=/home/oesteban/workspace/ACWE-Reg/temp/Phantom2/synthetic_distortion/Fugue_WarpDWIs/split_DWI/signal_001.nii.gz --mask=/home/oesteban/workspace/ACWE-Reg/temp/Phantom2/roi_gm.nii.gz --loadshift=/home/oesteban/workspace/ACWE-Reg/temp/Phantom2/synthetic_distortion/demean/roi_gm_vsm_demeaned.nii.gz --unwarpdir=z --warp=/home/oesteban/workspace/ACWE-Reg/temp/Phantom2/synthetic_distortion/Fugue_WarpDWIs/Fugue_Warp/mapflow/_Fugue_Warp1/signal_001_warped.nii.gz\n"
       ]
      },
      {
       "output_type": "stream",
       "stream": "stdout",
       "text": [
        "131005-21:25:25,398 workflow INFO:\n",
        "\t Executing node _Fugue_Warp2 in dir: /home/oesteban/workspace/ACWE-Reg/temp/Phantom2/synthetic_distortion/Fugue_WarpDWIs/Fugue_Warp/mapflow/_Fugue_Warp2\n"
       ]
      },
      {
       "output_type": "stream",
       "stream": "stdout",
       "text": [
        "131005-21:25:25,402 workflow INFO:\n",
        "\t Running: fugue --in=/home/oesteban/workspace/ACWE-Reg/temp/Phantom2/synthetic_distortion/Fugue_WarpDWIs/split_DWI/signal_002.nii.gz --mask=/home/oesteban/workspace/ACWE-Reg/temp/Phantom2/roi_gm.nii.gz --loadshift=/home/oesteban/workspace/ACWE-Reg/temp/Phantom2/synthetic_distortion/demean/roi_gm_vsm_demeaned.nii.gz --unwarpdir=z --warp=/home/oesteban/workspace/ACWE-Reg/temp/Phantom2/synthetic_distortion/Fugue_WarpDWIs/Fugue_Warp/mapflow/_Fugue_Warp2/signal_002_warped.nii.gz\n"
       ]
      },
      {
       "output_type": "stream",
       "stream": "stdout",
       "text": [
        "131005-21:25:42,31 workflow INFO:\n",
        "\t Executing node _Fugue_Warp3 in dir: /home/oesteban/workspace/ACWE-Reg/temp/Phantom2/synthetic_distortion/Fugue_WarpDWIs/Fugue_Warp/mapflow/_Fugue_Warp3\n"
       ]
      },
      {
       "output_type": "stream",
       "stream": "stdout",
       "text": [
        "131005-21:25:42,35 workflow INFO:\n",
        "\t Running: fugue --in=/home/oesteban/workspace/ACWE-Reg/temp/Phantom2/synthetic_distortion/Fugue_WarpDWIs/split_DWI/signal_003.nii.gz --mask=/home/oesteban/workspace/ACWE-Reg/temp/Phantom2/roi_gm.nii.gz --loadshift=/home/oesteban/workspace/ACWE-Reg/temp/Phantom2/synthetic_distortion/demean/roi_gm_vsm_demeaned.nii.gz --unwarpdir=z --warp=/home/oesteban/workspace/ACWE-Reg/temp/Phantom2/synthetic_distortion/Fugue_WarpDWIs/Fugue_Warp/mapflow/_Fugue_Warp3/signal_003_warped.nii.gz\n"
       ]
      },
      {
       "output_type": "stream",
       "stream": "stdout",
       "text": [
        "131005-21:25:58,671 workflow INFO:\n",
        "\t Executing node _Fugue_Warp4 in dir: /home/oesteban/workspace/ACWE-Reg/temp/Phantom2/synthetic_distortion/Fugue_WarpDWIs/Fugue_Warp/mapflow/_Fugue_Warp4\n"
       ]
      },
      {
       "output_type": "stream",
       "stream": "stdout",
       "text": [
        "131005-21:25:58,675 workflow INFO:\n",
        "\t Running: fugue --in=/home/oesteban/workspace/ACWE-Reg/temp/Phantom2/synthetic_distortion/Fugue_WarpDWIs/split_DWI/signal_004.nii.gz --mask=/home/oesteban/workspace/ACWE-Reg/temp/Phantom2/roi_gm.nii.gz --loadshift=/home/oesteban/workspace/ACWE-Reg/temp/Phantom2/synthetic_distortion/demean/roi_gm_vsm_demeaned.nii.gz --unwarpdir=z --warp=/home/oesteban/workspace/ACWE-Reg/temp/Phantom2/synthetic_distortion/Fugue_WarpDWIs/Fugue_Warp/mapflow/_Fugue_Warp4/signal_004_warped.nii.gz\n"
       ]
      },
      {
       "output_type": "stream",
       "stream": "stdout",
       "text": [
        "131005-21:26:15,302 workflow INFO:\n",
        "\t Executing node _Fugue_Warp5 in dir: /home/oesteban/workspace/ACWE-Reg/temp/Phantom2/synthetic_distortion/Fugue_WarpDWIs/Fugue_Warp/mapflow/_Fugue_Warp5\n"
       ]
      },
      {
       "output_type": "stream",
       "stream": "stdout",
       "text": [
        "131005-21:26:15,305 workflow INFO:\n",
        "\t Running: fugue --in=/home/oesteban/workspace/ACWE-Reg/temp/Phantom2/synthetic_distortion/Fugue_WarpDWIs/split_DWI/signal_005.nii.gz --mask=/home/oesteban/workspace/ACWE-Reg/temp/Phantom2/roi_gm.nii.gz --loadshift=/home/oesteban/workspace/ACWE-Reg/temp/Phantom2/synthetic_distortion/demean/roi_gm_vsm_demeaned.nii.gz --unwarpdir=z --warp=/home/oesteban/workspace/ACWE-Reg/temp/Phantom2/synthetic_distortion/Fugue_WarpDWIs/Fugue_Warp/mapflow/_Fugue_Warp5/signal_005_warped.nii.gz\n"
       ]
      },
      {
       "output_type": "stream",
       "stream": "stdout",
       "text": [
        "131005-21:26:31,916 workflow INFO:\n",
        "\t Executing node _Fugue_Warp6 in dir: /home/oesteban/workspace/ACWE-Reg/temp/Phantom2/synthetic_distortion/Fugue_WarpDWIs/Fugue_Warp/mapflow/_Fugue_Warp6\n"
       ]
      },
      {
       "output_type": "stream",
       "stream": "stdout",
       "text": [
        "131005-21:26:31,920 workflow INFO:\n",
        "\t Running: fugue --in=/home/oesteban/workspace/ACWE-Reg/temp/Phantom2/synthetic_distortion/Fugue_WarpDWIs/split_DWI/signal_006.nii.gz --mask=/home/oesteban/workspace/ACWE-Reg/temp/Phantom2/roi_gm.nii.gz --loadshift=/home/oesteban/workspace/ACWE-Reg/temp/Phantom2/synthetic_distortion/demean/roi_gm_vsm_demeaned.nii.gz --unwarpdir=z --warp=/home/oesteban/workspace/ACWE-Reg/temp/Phantom2/synthetic_distortion/Fugue_WarpDWIs/Fugue_Warp/mapflow/_Fugue_Warp6/signal_006_warped.nii.gz\n"
       ]
      },
      {
       "output_type": "stream",
       "stream": "stdout",
       "text": [
        "131005-21:26:48,546 workflow INFO:\n",
        "\t Executing node _Fugue_Warp7 in dir: /home/oesteban/workspace/ACWE-Reg/temp/Phantom2/synthetic_distortion/Fugue_WarpDWIs/Fugue_Warp/mapflow/_Fugue_Warp7\n"
       ]
      },
      {
       "output_type": "stream",
       "stream": "stdout",
       "text": [
        "131005-21:26:48,550 workflow INFO:\n",
        "\t Running: fugue --in=/home/oesteban/workspace/ACWE-Reg/temp/Phantom2/synthetic_distortion/Fugue_WarpDWIs/split_DWI/signal_007.nii.gz --mask=/home/oesteban/workspace/ACWE-Reg/temp/Phantom2/roi_gm.nii.gz --loadshift=/home/oesteban/workspace/ACWE-Reg/temp/Phantom2/synthetic_distortion/demean/roi_gm_vsm_demeaned.nii.gz --unwarpdir=z --warp=/home/oesteban/workspace/ACWE-Reg/temp/Phantom2/synthetic_distortion/Fugue_WarpDWIs/Fugue_Warp/mapflow/_Fugue_Warp7/signal_007_warped.nii.gz\n"
       ]
      },
      {
       "output_type": "stream",
       "stream": "stdout",
       "text": [
        "131005-21:27:05,227 workflow INFO:\n",
        "\t Executing node _Fugue_Warp8 in dir: /home/oesteban/workspace/ACWE-Reg/temp/Phantom2/synthetic_distortion/Fugue_WarpDWIs/Fugue_Warp/mapflow/_Fugue_Warp8\n"
       ]
      },
      {
       "output_type": "stream",
       "stream": "stdout",
       "text": [
        "131005-21:27:05,230 workflow INFO:\n",
        "\t Running: fugue --in=/home/oesteban/workspace/ACWE-Reg/temp/Phantom2/synthetic_distortion/Fugue_WarpDWIs/split_DWI/signal_008.nii.gz --mask=/home/oesteban/workspace/ACWE-Reg/temp/Phantom2/roi_gm.nii.gz --loadshift=/home/oesteban/workspace/ACWE-Reg/temp/Phantom2/synthetic_distortion/demean/roi_gm_vsm_demeaned.nii.gz --unwarpdir=z --warp=/home/oesteban/workspace/ACWE-Reg/temp/Phantom2/synthetic_distortion/Fugue_WarpDWIs/Fugue_Warp/mapflow/_Fugue_Warp8/signal_008_warped.nii.gz\n"
       ]
      },
      {
       "output_type": "stream",
       "stream": "stdout",
       "text": [
        "131005-21:27:21,943 workflow INFO:\n",
        "\t Executing node _Fugue_Warp9 in dir: /home/oesteban/workspace/ACWE-Reg/temp/Phantom2/synthetic_distortion/Fugue_WarpDWIs/Fugue_Warp/mapflow/_Fugue_Warp9\n"
       ]
      },
      {
       "output_type": "stream",
       "stream": "stdout",
       "text": [
        "131005-21:27:21,946 workflow INFO:\n",
        "\t Running: fugue --in=/home/oesteban/workspace/ACWE-Reg/temp/Phantom2/synthetic_distortion/Fugue_WarpDWIs/split_DWI/signal_009.nii.gz --mask=/home/oesteban/workspace/ACWE-Reg/temp/Phantom2/roi_gm.nii.gz --loadshift=/home/oesteban/workspace/ACWE-Reg/temp/Phantom2/synthetic_distortion/demean/roi_gm_vsm_demeaned.nii.gz --unwarpdir=z --warp=/home/oesteban/workspace/ACWE-Reg/temp/Phantom2/synthetic_distortion/Fugue_WarpDWIs/Fugue_Warp/mapflow/_Fugue_Warp9/signal_009_warped.nii.gz\n"
       ]
      },
      {
       "output_type": "stream",
       "stream": "stdout",
       "text": [
        "131005-21:27:38,585 workflow INFO:\n",
        "\t Executing node _Fugue_Warp10 in dir: /home/oesteban/workspace/ACWE-Reg/temp/Phantom2/synthetic_distortion/Fugue_WarpDWIs/Fugue_Warp/mapflow/_Fugue_Warp10\n"
       ]
      },
      {
       "output_type": "stream",
       "stream": "stdout",
       "text": [
        "131005-21:27:38,589 workflow INFO:\n",
        "\t Running: fugue --in=/home/oesteban/workspace/ACWE-Reg/temp/Phantom2/synthetic_distortion/Fugue_WarpDWIs/split_DWI/signal_010.nii.gz --mask=/home/oesteban/workspace/ACWE-Reg/temp/Phantom2/roi_gm.nii.gz --loadshift=/home/oesteban/workspace/ACWE-Reg/temp/Phantom2/synthetic_distortion/demean/roi_gm_vsm_demeaned.nii.gz --unwarpdir=z --warp=/home/oesteban/workspace/ACWE-Reg/temp/Phantom2/synthetic_distortion/Fugue_WarpDWIs/Fugue_Warp/mapflow/_Fugue_Warp10/signal_010_warped.nii.gz\n"
       ]
      },
      {
       "output_type": "stream",
       "stream": "stdout",
       "text": [
        "131005-21:27:55,383 workflow INFO:\n",
        "\t Executing node _Fugue_Warp11 in dir: /home/oesteban/workspace/ACWE-Reg/temp/Phantom2/synthetic_distortion/Fugue_WarpDWIs/Fugue_Warp/mapflow/_Fugue_Warp11\n"
       ]
      },
      {
       "output_type": "stream",
       "stream": "stdout",
       "text": [
        "131005-21:27:55,387 workflow INFO:\n",
        "\t Running: fugue --in=/home/oesteban/workspace/ACWE-Reg/temp/Phantom2/synthetic_distortion/Fugue_WarpDWIs/split_DWI/signal_011.nii.gz --mask=/home/oesteban/workspace/ACWE-Reg/temp/Phantom2/roi_gm.nii.gz --loadshift=/home/oesteban/workspace/ACWE-Reg/temp/Phantom2/synthetic_distortion/demean/roi_gm_vsm_demeaned.nii.gz --unwarpdir=z --warp=/home/oesteban/workspace/ACWE-Reg/temp/Phantom2/synthetic_distortion/Fugue_WarpDWIs/Fugue_Warp/mapflow/_Fugue_Warp11/signal_011_warped.nii.gz\n"
       ]
      },
      {
       "output_type": "stream",
       "stream": "stdout",
       "text": [
        "131005-21:28:12,50 workflow INFO:\n",
        "\t Executing node _Fugue_Warp12 in dir: /home/oesteban/workspace/ACWE-Reg/temp/Phantom2/synthetic_distortion/Fugue_WarpDWIs/Fugue_Warp/mapflow/_Fugue_Warp12\n"
       ]
      },
      {
       "output_type": "stream",
       "stream": "stdout",
       "text": [
        "131005-21:28:12,53 workflow INFO:\n",
        "\t Running: fugue --in=/home/oesteban/workspace/ACWE-Reg/temp/Phantom2/synthetic_distortion/Fugue_WarpDWIs/split_DWI/signal_012.nii.gz --mask=/home/oesteban/workspace/ACWE-Reg/temp/Phantom2/roi_gm.nii.gz --loadshift=/home/oesteban/workspace/ACWE-Reg/temp/Phantom2/synthetic_distortion/demean/roi_gm_vsm_demeaned.nii.gz --unwarpdir=z --warp=/home/oesteban/workspace/ACWE-Reg/temp/Phantom2/synthetic_distortion/Fugue_WarpDWIs/Fugue_Warp/mapflow/_Fugue_Warp12/signal_012_warped.nii.gz\n"
       ]
      },
      {
       "output_type": "stream",
       "stream": "stdout",
       "text": [
        "131005-21:28:28,674 workflow INFO:\n",
        "\t Executing node _Fugue_Warp13 in dir: /home/oesteban/workspace/ACWE-Reg/temp/Phantom2/synthetic_distortion/Fugue_WarpDWIs/Fugue_Warp/mapflow/_Fugue_Warp13\n"
       ]
      },
      {
       "output_type": "stream",
       "stream": "stdout",
       "text": [
        "131005-21:28:28,678 workflow INFO:\n",
        "\t Running: fugue --in=/home/oesteban/workspace/ACWE-Reg/temp/Phantom2/synthetic_distortion/Fugue_WarpDWIs/split_DWI/signal_013.nii.gz --mask=/home/oesteban/workspace/ACWE-Reg/temp/Phantom2/roi_gm.nii.gz --loadshift=/home/oesteban/workspace/ACWE-Reg/temp/Phantom2/synthetic_distortion/demean/roi_gm_vsm_demeaned.nii.gz --unwarpdir=z --warp=/home/oesteban/workspace/ACWE-Reg/temp/Phantom2/synthetic_distortion/Fugue_WarpDWIs/Fugue_Warp/mapflow/_Fugue_Warp13/signal_013_warped.nii.gz\n"
       ]
      },
      {
       "output_type": "stream",
       "stream": "stdout",
       "text": [
        "131005-21:28:45,234 workflow INFO:\n",
        "\t Executing node _Fugue_Warp14 in dir: /home/oesteban/workspace/ACWE-Reg/temp/Phantom2/synthetic_distortion/Fugue_WarpDWIs/Fugue_Warp/mapflow/_Fugue_Warp14\n"
       ]
      },
      {
       "output_type": "stream",
       "stream": "stdout",
       "text": [
        "131005-21:28:45,238 workflow INFO:\n",
        "\t Running: fugue --in=/home/oesteban/workspace/ACWE-Reg/temp/Phantom2/synthetic_distortion/Fugue_WarpDWIs/split_DWI/signal_014.nii.gz --mask=/home/oesteban/workspace/ACWE-Reg/temp/Phantom2/roi_gm.nii.gz --loadshift=/home/oesteban/workspace/ACWE-Reg/temp/Phantom2/synthetic_distortion/demean/roi_gm_vsm_demeaned.nii.gz --unwarpdir=z --warp=/home/oesteban/workspace/ACWE-Reg/temp/Phantom2/synthetic_distortion/Fugue_WarpDWIs/Fugue_Warp/mapflow/_Fugue_Warp14/signal_014_warped.nii.gz\n"
       ]
      },
      {
       "output_type": "stream",
       "stream": "stdout",
       "text": [
        "131005-21:29:01,830 workflow INFO:\n",
        "\t Executing node _Fugue_Warp15 in dir: /home/oesteban/workspace/ACWE-Reg/temp/Phantom2/synthetic_distortion/Fugue_WarpDWIs/Fugue_Warp/mapflow/_Fugue_Warp15\n"
       ]
      },
      {
       "output_type": "stream",
       "stream": "stdout",
       "text": [
        "131005-21:29:01,834 workflow INFO:\n",
        "\t Running: fugue --in=/home/oesteban/workspace/ACWE-Reg/temp/Phantom2/synthetic_distortion/Fugue_WarpDWIs/split_DWI/signal_015.nii.gz --mask=/home/oesteban/workspace/ACWE-Reg/temp/Phantom2/roi_gm.nii.gz --loadshift=/home/oesteban/workspace/ACWE-Reg/temp/Phantom2/synthetic_distortion/demean/roi_gm_vsm_demeaned.nii.gz --unwarpdir=z --warp=/home/oesteban/workspace/ACWE-Reg/temp/Phantom2/synthetic_distortion/Fugue_WarpDWIs/Fugue_Warp/mapflow/_Fugue_Warp15/signal_015_warped.nii.gz\n"
       ]
      },
      {
       "output_type": "stream",
       "stream": "stdout",
       "text": [
        "131005-21:29:18,404 workflow INFO:\n",
        "\t Executing node _Fugue_Warp16 in dir: /home/oesteban/workspace/ACWE-Reg/temp/Phantom2/synthetic_distortion/Fugue_WarpDWIs/Fugue_Warp/mapflow/_Fugue_Warp16\n"
       ]
      },
      {
       "output_type": "stream",
       "stream": "stdout",
       "text": [
        "131005-21:29:18,407 workflow INFO:\n",
        "\t Running: fugue --in=/home/oesteban/workspace/ACWE-Reg/temp/Phantom2/synthetic_distortion/Fugue_WarpDWIs/split_DWI/signal_016.nii.gz --mask=/home/oesteban/workspace/ACWE-Reg/temp/Phantom2/roi_gm.nii.gz --loadshift=/home/oesteban/workspace/ACWE-Reg/temp/Phantom2/synthetic_distortion/demean/roi_gm_vsm_demeaned.nii.gz --unwarpdir=z --warp=/home/oesteban/workspace/ACWE-Reg/temp/Phantom2/synthetic_distortion/Fugue_WarpDWIs/Fugue_Warp/mapflow/_Fugue_Warp16/signal_016_warped.nii.gz\n"
       ]
      },
      {
       "output_type": "stream",
       "stream": "stdout",
       "text": [
        "131005-21:29:34,993 workflow INFO:\n",
        "\t Executing node _Fugue_Warp17 in dir: /home/oesteban/workspace/ACWE-Reg/temp/Phantom2/synthetic_distortion/Fugue_WarpDWIs/Fugue_Warp/mapflow/_Fugue_Warp17\n"
       ]
      },
      {
       "output_type": "stream",
       "stream": "stdout",
       "text": [
        "131005-21:29:34,997 workflow INFO:\n",
        "\t Running: fugue --in=/home/oesteban/workspace/ACWE-Reg/temp/Phantom2/synthetic_distortion/Fugue_WarpDWIs/split_DWI/signal_017.nii.gz --mask=/home/oesteban/workspace/ACWE-Reg/temp/Phantom2/roi_gm.nii.gz --loadshift=/home/oesteban/workspace/ACWE-Reg/temp/Phantom2/synthetic_distortion/demean/roi_gm_vsm_demeaned.nii.gz --unwarpdir=z --warp=/home/oesteban/workspace/ACWE-Reg/temp/Phantom2/synthetic_distortion/Fugue_WarpDWIs/Fugue_Warp/mapflow/_Fugue_Warp17/signal_017_warped.nii.gz\n"
       ]
      },
      {
       "output_type": "stream",
       "stream": "stdout",
       "text": [
        "131005-21:29:53,91 workflow INFO:\n",
        "\t Executing node _Fugue_Warp18 in dir: /home/oesteban/workspace/ACWE-Reg/temp/Phantom2/synthetic_distortion/Fugue_WarpDWIs/Fugue_Warp/mapflow/_Fugue_Warp18\n"
       ]
      },
      {
       "output_type": "stream",
       "stream": "stdout",
       "text": [
        "131005-21:29:53,94 workflow INFO:\n",
        "\t Running: fugue --in=/home/oesteban/workspace/ACWE-Reg/temp/Phantom2/synthetic_distortion/Fugue_WarpDWIs/split_DWI/signal_018.nii.gz --mask=/home/oesteban/workspace/ACWE-Reg/temp/Phantom2/roi_gm.nii.gz --loadshift=/home/oesteban/workspace/ACWE-Reg/temp/Phantom2/synthetic_distortion/demean/roi_gm_vsm_demeaned.nii.gz --unwarpdir=z --warp=/home/oesteban/workspace/ACWE-Reg/temp/Phantom2/synthetic_distortion/Fugue_WarpDWIs/Fugue_Warp/mapflow/_Fugue_Warp18/signal_018_warped.nii.gz\n"
       ]
      },
      {
       "output_type": "stream",
       "stream": "stdout",
       "text": [
        "131005-21:30:09,772 workflow INFO:\n",
        "\t Executing node _Fugue_Warp19 in dir: /home/oesteban/workspace/ACWE-Reg/temp/Phantom2/synthetic_distortion/Fugue_WarpDWIs/Fugue_Warp/mapflow/_Fugue_Warp19\n"
       ]
      },
      {
       "output_type": "stream",
       "stream": "stdout",
       "text": [
        "131005-21:30:09,776 workflow INFO:\n",
        "\t Running: fugue --in=/home/oesteban/workspace/ACWE-Reg/temp/Phantom2/synthetic_distortion/Fugue_WarpDWIs/split_DWI/signal_019.nii.gz --mask=/home/oesteban/workspace/ACWE-Reg/temp/Phantom2/roi_gm.nii.gz --loadshift=/home/oesteban/workspace/ACWE-Reg/temp/Phantom2/synthetic_distortion/demean/roi_gm_vsm_demeaned.nii.gz --unwarpdir=z --warp=/home/oesteban/workspace/ACWE-Reg/temp/Phantom2/synthetic_distortion/Fugue_WarpDWIs/Fugue_Warp/mapflow/_Fugue_Warp19/signal_019_warped.nii.gz\n"
       ]
      },
      {
       "output_type": "stream",
       "stream": "stdout",
       "text": [
        "131005-21:30:26,394 workflow INFO:\n",
        "\t Executing node _Fugue_Warp20 in dir: /home/oesteban/workspace/ACWE-Reg/temp/Phantom2/synthetic_distortion/Fugue_WarpDWIs/Fugue_Warp/mapflow/_Fugue_Warp20\n"
       ]
      },
      {
       "output_type": "stream",
       "stream": "stdout",
       "text": [
        "131005-21:30:26,398 workflow INFO:\n",
        "\t Running: fugue --in=/home/oesteban/workspace/ACWE-Reg/temp/Phantom2/synthetic_distortion/Fugue_WarpDWIs/split_DWI/signal_020.nii.gz --mask=/home/oesteban/workspace/ACWE-Reg/temp/Phantom2/roi_gm.nii.gz --loadshift=/home/oesteban/workspace/ACWE-Reg/temp/Phantom2/synthetic_distortion/demean/roi_gm_vsm_demeaned.nii.gz --unwarpdir=z --warp=/home/oesteban/workspace/ACWE-Reg/temp/Phantom2/synthetic_distortion/Fugue_WarpDWIs/Fugue_Warp/mapflow/_Fugue_Warp20/signal_020_warped.nii.gz\n"
       ]
      },
      {
       "output_type": "stream",
       "stream": "stdout",
       "text": [
        "131005-21:30:43,77 workflow INFO:\n",
        "\t Executing node _Fugue_Warp21 in dir: /home/oesteban/workspace/ACWE-Reg/temp/Phantom2/synthetic_distortion/Fugue_WarpDWIs/Fugue_Warp/mapflow/_Fugue_Warp21\n"
       ]
      },
      {
       "output_type": "stream",
       "stream": "stdout",
       "text": [
        "131005-21:30:43,81 workflow INFO:\n",
        "\t Running: fugue --in=/home/oesteban/workspace/ACWE-Reg/temp/Phantom2/synthetic_distortion/Fugue_WarpDWIs/split_DWI/signal_021.nii.gz --mask=/home/oesteban/workspace/ACWE-Reg/temp/Phantom2/roi_gm.nii.gz --loadshift=/home/oesteban/workspace/ACWE-Reg/temp/Phantom2/synthetic_distortion/demean/roi_gm_vsm_demeaned.nii.gz --unwarpdir=z --warp=/home/oesteban/workspace/ACWE-Reg/temp/Phantom2/synthetic_distortion/Fugue_WarpDWIs/Fugue_Warp/mapflow/_Fugue_Warp21/signal_021_warped.nii.gz\n"
       ]
      },
      {
       "output_type": "stream",
       "stream": "stdout",
       "text": [
        "131005-21:30:59,683 workflow INFO:\n",
        "\t Executing node _Fugue_Warp22 in dir: /home/oesteban/workspace/ACWE-Reg/temp/Phantom2/synthetic_distortion/Fugue_WarpDWIs/Fugue_Warp/mapflow/_Fugue_Warp22\n"
       ]
      },
      {
       "output_type": "stream",
       "stream": "stdout",
       "text": [
        "131005-21:30:59,687 workflow INFO:\n",
        "\t Running: fugue --in=/home/oesteban/workspace/ACWE-Reg/temp/Phantom2/synthetic_distortion/Fugue_WarpDWIs/split_DWI/signal_022.nii.gz --mask=/home/oesteban/workspace/ACWE-Reg/temp/Phantom2/roi_gm.nii.gz --loadshift=/home/oesteban/workspace/ACWE-Reg/temp/Phantom2/synthetic_distortion/demean/roi_gm_vsm_demeaned.nii.gz --unwarpdir=z --warp=/home/oesteban/workspace/ACWE-Reg/temp/Phantom2/synthetic_distortion/Fugue_WarpDWIs/Fugue_Warp/mapflow/_Fugue_Warp22/signal_022_warped.nii.gz\n"
       ]
      },
      {
       "output_type": "stream",
       "stream": "stdout",
       "text": [
        "131005-21:31:16,279 workflow INFO:\n",
        "\t Executing node _Fugue_Warp23 in dir: /home/oesteban/workspace/ACWE-Reg/temp/Phantom2/synthetic_distortion/Fugue_WarpDWIs/Fugue_Warp/mapflow/_Fugue_Warp23\n"
       ]
      },
      {
       "output_type": "stream",
       "stream": "stdout",
       "text": [
        "131005-21:31:16,283 workflow INFO:\n",
        "\t Running: fugue --in=/home/oesteban/workspace/ACWE-Reg/temp/Phantom2/synthetic_distortion/Fugue_WarpDWIs/split_DWI/signal_023.nii.gz --mask=/home/oesteban/workspace/ACWE-Reg/temp/Phantom2/roi_gm.nii.gz --loadshift=/home/oesteban/workspace/ACWE-Reg/temp/Phantom2/synthetic_distortion/demean/roi_gm_vsm_demeaned.nii.gz --unwarpdir=z --warp=/home/oesteban/workspace/ACWE-Reg/temp/Phantom2/synthetic_distortion/Fugue_WarpDWIs/Fugue_Warp/mapflow/_Fugue_Warp23/signal_023_warped.nii.gz\n"
       ]
      },
      {
       "output_type": "stream",
       "stream": "stdout",
       "text": [
        "131005-21:31:32,828 workflow INFO:\n",
        "\t Executing node _Fugue_Warp24 in dir: /home/oesteban/workspace/ACWE-Reg/temp/Phantom2/synthetic_distortion/Fugue_WarpDWIs/Fugue_Warp/mapflow/_Fugue_Warp24\n"
       ]
      },
      {
       "output_type": "stream",
       "stream": "stdout",
       "text": [
        "131005-21:31:32,831 workflow INFO:\n",
        "\t Running: fugue --in=/home/oesteban/workspace/ACWE-Reg/temp/Phantom2/synthetic_distortion/Fugue_WarpDWIs/split_DWI/signal_024.nii.gz --mask=/home/oesteban/workspace/ACWE-Reg/temp/Phantom2/roi_gm.nii.gz --loadshift=/home/oesteban/workspace/ACWE-Reg/temp/Phantom2/synthetic_distortion/demean/roi_gm_vsm_demeaned.nii.gz --unwarpdir=z --warp=/home/oesteban/workspace/ACWE-Reg/temp/Phantom2/synthetic_distortion/Fugue_WarpDWIs/Fugue_Warp/mapflow/_Fugue_Warp24/signal_024_warped.nii.gz\n"
       ]
      },
      {
       "output_type": "stream",
       "stream": "stdout",
       "text": [
        "131005-21:31:49,421 workflow INFO:\n",
        "\t Executing node _Fugue_Warp25 in dir: /home/oesteban/workspace/ACWE-Reg/temp/Phantom2/synthetic_distortion/Fugue_WarpDWIs/Fugue_Warp/mapflow/_Fugue_Warp25\n"
       ]
      },
      {
       "output_type": "stream",
       "stream": "stdout",
       "text": [
        "131005-21:31:49,425 workflow INFO:\n",
        "\t Running: fugue --in=/home/oesteban/workspace/ACWE-Reg/temp/Phantom2/synthetic_distortion/Fugue_WarpDWIs/split_DWI/signal_025.nii.gz --mask=/home/oesteban/workspace/ACWE-Reg/temp/Phantom2/roi_gm.nii.gz --loadshift=/home/oesteban/workspace/ACWE-Reg/temp/Phantom2/synthetic_distortion/demean/roi_gm_vsm_demeaned.nii.gz --unwarpdir=z --warp=/home/oesteban/workspace/ACWE-Reg/temp/Phantom2/synthetic_distortion/Fugue_WarpDWIs/Fugue_Warp/mapflow/_Fugue_Warp25/signal_025_warped.nii.gz\n"
       ]
      },
      {
       "output_type": "stream",
       "stream": "stdout",
       "text": [
        "131005-21:32:06,62 workflow INFO:\n",
        "\t Executing node _Fugue_Warp26 in dir: /home/oesteban/workspace/ACWE-Reg/temp/Phantom2/synthetic_distortion/Fugue_WarpDWIs/Fugue_Warp/mapflow/_Fugue_Warp26\n"
       ]
      },
      {
       "output_type": "stream",
       "stream": "stdout",
       "text": [
        "131005-21:32:06,65 workflow INFO:\n",
        "\t Running: fugue --in=/home/oesteban/workspace/ACWE-Reg/temp/Phantom2/synthetic_distortion/Fugue_WarpDWIs/split_DWI/signal_026.nii.gz --mask=/home/oesteban/workspace/ACWE-Reg/temp/Phantom2/roi_gm.nii.gz --loadshift=/home/oesteban/workspace/ACWE-Reg/temp/Phantom2/synthetic_distortion/demean/roi_gm_vsm_demeaned.nii.gz --unwarpdir=z --warp=/home/oesteban/workspace/ACWE-Reg/temp/Phantom2/synthetic_distortion/Fugue_WarpDWIs/Fugue_Warp/mapflow/_Fugue_Warp26/signal_026_warped.nii.gz\n"
       ]
      },
      {
       "output_type": "stream",
       "stream": "stdout",
       "text": [
        "131005-21:32:22,685 workflow INFO:\n",
        "\t Executing node _Fugue_Warp27 in dir: /home/oesteban/workspace/ACWE-Reg/temp/Phantom2/synthetic_distortion/Fugue_WarpDWIs/Fugue_Warp/mapflow/_Fugue_Warp27\n"
       ]
      },
      {
       "output_type": "stream",
       "stream": "stdout",
       "text": [
        "131005-21:32:22,689 workflow INFO:\n",
        "\t Running: fugue --in=/home/oesteban/workspace/ACWE-Reg/temp/Phantom2/synthetic_distortion/Fugue_WarpDWIs/split_DWI/signal_027.nii.gz --mask=/home/oesteban/workspace/ACWE-Reg/temp/Phantom2/roi_gm.nii.gz --loadshift=/home/oesteban/workspace/ACWE-Reg/temp/Phantom2/synthetic_distortion/demean/roi_gm_vsm_demeaned.nii.gz --unwarpdir=z --warp=/home/oesteban/workspace/ACWE-Reg/temp/Phantom2/synthetic_distortion/Fugue_WarpDWIs/Fugue_Warp/mapflow/_Fugue_Warp27/signal_027_warped.nii.gz\n"
       ]
      },
      {
       "output_type": "stream",
       "stream": "stdout",
       "text": [
        "131005-21:32:39,282 workflow INFO:\n",
        "\t Executing node _Fugue_Warp28 in dir: /home/oesteban/workspace/ACWE-Reg/temp/Phantom2/synthetic_distortion/Fugue_WarpDWIs/Fugue_Warp/mapflow/_Fugue_Warp28\n"
       ]
      },
      {
       "output_type": "stream",
       "stream": "stdout",
       "text": [
        "131005-21:32:39,285 workflow INFO:\n",
        "\t Running: fugue --in=/home/oesteban/workspace/ACWE-Reg/temp/Phantom2/synthetic_distortion/Fugue_WarpDWIs/split_DWI/signal_028.nii.gz --mask=/home/oesteban/workspace/ACWE-Reg/temp/Phantom2/roi_gm.nii.gz --loadshift=/home/oesteban/workspace/ACWE-Reg/temp/Phantom2/synthetic_distortion/demean/roi_gm_vsm_demeaned.nii.gz --unwarpdir=z --warp=/home/oesteban/workspace/ACWE-Reg/temp/Phantom2/synthetic_distortion/Fugue_WarpDWIs/Fugue_Warp/mapflow/_Fugue_Warp28/signal_028_warped.nii.gz\n"
       ]
      },
      {
       "output_type": "stream",
       "stream": "stdout",
       "text": [
        "131005-21:32:55,903 workflow INFO:\n",
        "\t Executing node _Fugue_Warp29 in dir: /home/oesteban/workspace/ACWE-Reg/temp/Phantom2/synthetic_distortion/Fugue_WarpDWIs/Fugue_Warp/mapflow/_Fugue_Warp29\n"
       ]
      },
      {
       "output_type": "stream",
       "stream": "stdout",
       "text": [
        "131005-21:32:55,907 workflow INFO:\n",
        "\t Running: fugue --in=/home/oesteban/workspace/ACWE-Reg/temp/Phantom2/synthetic_distortion/Fugue_WarpDWIs/split_DWI/signal_029.nii.gz --mask=/home/oesteban/workspace/ACWE-Reg/temp/Phantom2/roi_gm.nii.gz --loadshift=/home/oesteban/workspace/ACWE-Reg/temp/Phantom2/synthetic_distortion/demean/roi_gm_vsm_demeaned.nii.gz --unwarpdir=z --warp=/home/oesteban/workspace/ACWE-Reg/temp/Phantom2/synthetic_distortion/Fugue_WarpDWIs/Fugue_Warp/mapflow/_Fugue_Warp29/signal_029_warped.nii.gz\n"
       ]
      },
      {
       "output_type": "stream",
       "stream": "stdout",
       "text": [
        "131005-21:33:13,623 workflow INFO:\n",
        "\t Executing node merge_DWI in dir: /home/oesteban/workspace/ACWE-Reg/temp/Phantom2/synthetic_distortion/Fugue_WarpDWIs/merge_DWI\n"
       ]
      },
      {
       "output_type": "stream",
       "stream": "stdout",
       "text": [
        "131005-21:33:13,640 workflow INFO:\n",
        "\t Running: fslmerge -t /home/oesteban/workspace/ACWE-Reg/temp/Phantom2/synthetic_distortion/Fugue_WarpDWIs/merge_DWI/signal_000_warped_merged.nii.gz /home/oesteban/workspace/ACWE-Reg/temp/Phantom2/synthetic_distortion/Fugue_WarpDWIs/Fugue_Warp/mapflow/_Fugue_Warp0/signal_000_warped.nii.gz /home/oesteban/workspace/ACWE-Reg/temp/Phantom2/synthetic_distortion/Fugue_WarpDWIs/Fugue_Warp/mapflow/_Fugue_Warp1/signal_001_warped.nii.gz /home/oesteban/workspace/ACWE-Reg/temp/Phantom2/synthetic_distortion/Fugue_WarpDWIs/Fugue_Warp/mapflow/_Fugue_Warp2/signal_002_warped.nii.gz /home/oesteban/workspace/ACWE-Reg/temp/Phantom2/synthetic_distortion/Fugue_WarpDWIs/Fugue_Warp/mapflow/_Fugue_Warp3/signal_003_warped.nii.gz /home/oesteban/workspace/ACWE-Reg/temp/Phantom2/synthetic_distortion/Fugue_WarpDWIs/Fugue_Warp/mapflow/_Fugue_Warp4/signal_004_warped.nii.gz /home/oesteban/workspace/ACWE-Reg/temp/Phantom2/synthetic_distortion/Fugue_WarpDWIs/Fugue_Warp/mapflow/_Fugue_Warp5/signal_005_warped.nii.gz /home/oesteban/workspace/ACWE-Reg/temp/Phantom2/synthetic_distortion/Fugue_WarpDWIs/Fugue_Warp/mapflow/_Fugue_Warp6/signal_006_warped.nii.gz /home/oesteban/workspace/ACWE-Reg/temp/Phantom2/synthetic_distortion/Fugue_WarpDWIs/Fugue_Warp/mapflow/_Fugue_Warp7/signal_007_warped.nii.gz /home/oesteban/workspace/ACWE-Reg/temp/Phantom2/synthetic_distortion/Fugue_WarpDWIs/Fugue_Warp/mapflow/_Fugue_Warp8/signal_008_warped.nii.gz /home/oesteban/workspace/ACWE-Reg/temp/Phantom2/synthetic_distortion/Fugue_WarpDWIs/Fugue_Warp/mapflow/_Fugue_Warp9/signal_009_warped.nii.gz /home/oesteban/workspace/ACWE-Reg/temp/Phantom2/synthetic_distortion/Fugue_WarpDWIs/Fugue_Warp/mapflow/_Fugue_Warp10/signal_010_warped.nii.gz /home/oesteban/workspace/ACWE-Reg/temp/Phantom2/synthetic_distortion/Fugue_WarpDWIs/Fugue_Warp/mapflow/_Fugue_Warp11/signal_011_warped.nii.gz /home/oesteban/workspace/ACWE-Reg/temp/Phantom2/synthetic_distortion/Fugue_WarpDWIs/Fugue_Warp/mapflow/_Fugue_Warp12/signal_012_warped.nii.gz /home/oesteban/workspace/ACWE-Reg/temp/Phantom2/synthetic_distortion/Fugue_WarpDWIs/Fugue_Warp/mapflow/_Fugue_Warp13/signal_013_warped.nii.gz /home/oesteban/workspace/ACWE-Reg/temp/Phantom2/synthetic_distortion/Fugue_WarpDWIs/Fugue_Warp/mapflow/_Fugue_Warp14/signal_014_warped.nii.gz /home/oesteban/workspace/ACWE-Reg/temp/Phantom2/synthetic_distortion/Fugue_WarpDWIs/Fugue_Warp/mapflow/_Fugue_Warp15/signal_015_warped.nii.gz /home/oesteban/workspace/ACWE-Reg/temp/Phantom2/synthetic_distortion/Fugue_WarpDWIs/Fugue_Warp/mapflow/_Fugue_Warp16/signal_016_warped.nii.gz /home/oesteban/workspace/ACWE-Reg/temp/Phantom2/synthetic_distortion/Fugue_WarpDWIs/Fugue_Warp/mapflow/_Fugue_Warp17/signal_017_warped.nii.gz /home/oesteban/workspace/ACWE-Reg/temp/Phantom2/synthetic_distortion/Fugue_WarpDWIs/Fugue_Warp/mapflow/_Fugue_Warp18/signal_018_warped.nii.gz /home/oesteban/workspace/ACWE-Reg/temp/Phantom2/synthetic_distortion/Fugue_WarpDWIs/Fugue_Warp/mapflow/_Fugue_Warp19/signal_019_warped.nii.gz /home/oesteban/workspace/ACWE-Reg/temp/Phantom2/synthetic_distortion/Fugue_WarpDWIs/Fugue_Warp/mapflow/_Fugue_Warp20/signal_020_warped.nii.gz /home/oesteban/workspace/ACWE-Reg/temp/Phantom2/synthetic_distortion/Fugue_WarpDWIs/Fugue_Warp/mapflow/_Fugue_Warp21/signal_021_warped.nii.gz /home/oesteban/workspace/ACWE-Reg/temp/Phantom2/synthetic_distortion/Fugue_WarpDWIs/Fugue_Warp/mapflow/_Fugue_Warp22/signal_022_warped.nii.gz /home/oesteban/workspace/ACWE-Reg/temp/Phantom2/synthetic_distortion/Fugue_WarpDWIs/Fugue_Warp/mapflow/_Fugue_Warp23/signal_023_warped.nii.gz /home/oesteban/workspace/ACWE-Reg/temp/Phantom2/synthetic_distortion/Fugue_WarpDWIs/Fugue_Warp/mapflow/_Fugue_Warp24/signal_024_warped.nii.gz /home/oesteban/workspace/ACWE-Reg/temp/Phantom2/synthetic_distortion/Fugue_WarpDWIs/Fugue_Warp/mapflow/_Fugue_Warp25/signal_025_warped.nii.gz /home/oesteban/workspace/ACWE-Reg/temp/Phantom2/synthetic_distortion/Fugue_WarpDWIs/Fugue_Warp/mapflow/_Fugue_Warp26/signal_026_warped.nii.gz /home/oesteban/workspace/ACWE-Reg/temp/Phantom2/synthetic_distortion/Fugue_WarpDWIs/Fugue_Warp/mapflow/_Fugue_Warp27/signal_027_warped.nii.gz /home/oesteban/workspace/ACWE-Reg/temp/Phantom2/synthetic_distortion/Fugue_WarpDWIs/Fugue_Warp/mapflow/_Fugue_Warp28/signal_028_warped.nii.gz /home/oesteban/workspace/ACWE-Reg/temp/Phantom2/synthetic_distortion/Fugue_WarpDWIs/Fugue_Warp/mapflow/_Fugue_Warp29/signal_029_warped.nii.gz\n"
       ]
      },
      {
       "output_type": "stream",
       "stream": "stdout",
       "text": [
        "131005-21:33:20,462 workflow INFO:\n",
        "\t Executing node Fugue_WarpMask in dir: /home/oesteban/workspace/ACWE-Reg/temp/Phantom2/synthetic_distortion/Fugue_WarpMask\n"
       ]
      },
      {
       "output_type": "stream",
       "stream": "stdout",
       "text": [
        "131005-21:33:20,466 workflow INFO:\n",
        "\t Running: fugue --in=/home/oesteban/workspace/ACWE-Reg/temp/Phantom2/roi_gm.nii.gz --mask=/home/oesteban/workspace/ACWE-Reg/temp/Phantom2/roi_gm.nii.gz --loadshift=/home/oesteban/workspace/ACWE-Reg/temp/Phantom2/synthetic_distortion/demean/roi_gm_vsm_demeaned.nii.gz --warp=/home/oesteban/workspace/ACWE-Reg/temp/Phantom2/synthetic_distortion/Fugue_WarpMask/roi_gm_warped.nii.gz\n"
       ]
      },
      {
       "output_type": "stream",
       "stream": "stdout",
       "text": [
        "131005-21:33:36,967 workflow INFO:\n",
        "\t Executing node binarize in dir: /home/oesteban/workspace/ACWE-Reg/temp/Phantom2/synthetic_distortion/binarize\n"
       ]
      },
      {
       "output_type": "stream",
       "stream": "stdout",
       "text": [
        "131005-21:33:36,971 workflow INFO:\n",
        "\t Running: mri_binarize --o /home/oesteban/workspace/ACWE-Reg/temp/Phantom2/synthetic_distortion/binarize/roi_gm_warped_thresh.nii.gz --i /home/oesteban/workspace/ACWE-Reg/temp/Phantom2/synthetic_distortion/binarize/roi_gm_warped.nii.gz --min 0.000010\n"
       ]
      },
      {
       "output_type": "stream",
       "stream": "stdout",
       "text": [
        "131005-21:33:37,121 interface INFO:\n",
        "\t stdout 2013-10-05T21:33:37.121889:\n"
       ]
      },
      {
       "output_type": "stream",
       "stream": "stdout",
       "text": [
        "131005-21:33:37,122 interface INFO:\n",
        "\t stdout 2013-10-05T21:33:37.121889:$Id: mri_binarize.c,v 1.26.2.1 2011/04/08 15:40:50 greve Exp $\n"
       ]
      },
      {
       "output_type": "stream",
       "stream": "stdout",
       "text": [
        "131005-21:33:37,122 interface INFO:\n",
        "\t stdout 2013-10-05T21:33:37.121889:cwd /home/oesteban/workspace/ACWE-Reg/temp/Phantom2/synthetic_distortion/binarize\n"
       ]
      },
      {
       "output_type": "stream",
       "stream": "stdout",
       "text": [
        "131005-21:33:37,123 interface INFO:\n",
        "\t stdout 2013-10-05T21:33:37.121889:cmdline mri_binarize --o /home/oesteban/workspace/ACWE-Reg/temp/Phantom2/synthetic_distortion/binarize/roi_gm_warped_thresh.nii.gz --i /home/oesteban/workspace/ACWE-Reg/temp/Phantom2/synthetic_distortion/binarize/roi_gm_warped.nii.gz --min 0.000010 \n"
       ]
      },
      {
       "output_type": "stream",
       "stream": "stdout",
       "text": [
        "131005-21:33:37,123 interface INFO:\n",
        "\t stdout 2013-10-05T21:33:37.121889:sysname  Linux\n"
       ]
      },
      {
       "output_type": "stream",
       "stream": "stdout",
       "text": [
        "131005-21:33:37,124 interface INFO:\n",
        "\t stdout 2013-10-05T21:33:37.121889:hostname tea\n"
       ]
      },
      {
       "output_type": "stream",
       "stream": "stdout",
       "text": [
        "131005-21:33:37,124 interface INFO:\n",
        "\t stdout 2013-10-05T21:33:37.121889:machine  x86_64\n"
       ]
      },
      {
       "output_type": "stream",
       "stream": "stdout",
       "text": [
        "131005-21:33:37,125 interface INFO:\n",
        "\t stdout 2013-10-05T21:33:37.121889:user     oesteban\n"
       ]
      },
      {
       "output_type": "stream",
       "stream": "stdout",
       "text": [
        "131005-21:33:37,125 interface INFO:\n",
        "\t stdout 2013-10-05T21:33:37.121889:\n"
       ]
      },
      {
       "output_type": "stream",
       "stream": "stdout",
       "text": [
        "131005-21:33:37,126 interface INFO:\n",
        "\t stdout 2013-10-05T21:33:37.121889:input      /home/oesteban/workspace/ACWE-Reg/temp/Phantom2/synthetic_distortion/binarize/roi_gm_warped.nii.gz\n"
       ]
      },
      {
       "output_type": "stream",
       "stream": "stdout",
       "text": [
        "131005-21:33:37,126 interface INFO:\n",
        "\t stdout 2013-10-05T21:33:37.121889:frame      0\n"
       ]
      },
      {
       "output_type": "stream",
       "stream": "stdout",
       "text": [
        "131005-21:33:37,127 interface INFO:\n",
        "\t stdout 2013-10-05T21:33:37.121889:nErode3d   0\n"
       ]
      },
      {
       "output_type": "stream",
       "stream": "stdout",
       "text": [
        "131005-21:33:37,127 interface INFO:\n",
        "\t stdout 2013-10-05T21:33:37.121889:nErode2d   0\n"
       ]
      },
      {
       "output_type": "stream",
       "stream": "stdout",
       "text": [
        "131005-21:33:37,128 interface INFO:\n",
        "\t stdout 2013-10-05T21:33:37.121889:output     /home/oesteban/workspace/ACWE-Reg/temp/Phantom2/synthetic_distortion/binarize/roi_gm_warped_thresh.nii.gz\n"
       ]
      },
      {
       "output_type": "stream",
       "stream": "stdout",
       "text": [
        "131005-21:33:37,128 interface INFO:\n",
        "\t stdout 2013-10-05T21:33:37.121889:Binarizing based on threshold\n"
       ]
      },
      {
       "output_type": "stream",
       "stream": "stdout",
       "text": [
        "131005-21:33:37,129 interface INFO:\n",
        "\t stdout 2013-10-05T21:33:37.121889:min        1e-05\n"
       ]
      },
      {
       "output_type": "stream",
       "stream": "stdout",
       "text": [
        "131005-21:33:37,129 interface INFO:\n",
        "\t stdout 2013-10-05T21:33:37.121889:max        +infinity\n"
       ]
      },
      {
       "output_type": "stream",
       "stream": "stdout",
       "text": [
        "131005-21:33:37,129 interface INFO:\n",
        "\t stdout 2013-10-05T21:33:37.121889:binval        1\n"
       ]
      },
      {
       "output_type": "stream",
       "stream": "stdout",
       "text": [
        "131005-21:33:37,130 interface INFO:\n",
        "\t stdout 2013-10-05T21:33:37.121889:binvalnot     0\n"
       ]
      },
      {
       "output_type": "stream",
       "stream": "stdout",
       "text": [
        "131005-21:33:37,130 interface INFO:\n",
        "\t stdout 2013-10-05T21:33:37.121889:Found 363721 values in range\n"
       ]
      },
      {
       "output_type": "stream",
       "stream": "stdout",
       "text": [
        "131005-21:33:37,131 interface INFO:\n",
        "\t stdout 2013-10-05T21:33:37.121889:Counting number of voxels\n"
       ]
      },
      {
       "output_type": "stream",
       "stream": "stdout",
       "text": [
        "131005-21:33:37,131 interface INFO:\n",
        "\t stdout 2013-10-05T21:33:37.121889:Found 363721 voxels in final mask\n"
       ]
      },
      {
       "output_type": "stream",
       "stream": "stdout",
       "text": [
        "131005-21:33:37,132 interface INFO:\n",
        "\t stdout 2013-10-05T21:33:37.121889:mri_binarize done\n"
       ]
      },
      {
       "ename": "NameError",
       "evalue": "name 'dist_fname' is not defined",
       "output_type": "pyerr",
       "traceback": [
        "\u001b[1;31m---------------------------------------------------------------------------\u001b[0m\n\u001b[1;31mNameError\u001b[0m                                 Traceback (most recent call last)",
        "\u001b[1;32m<ipython-input-10-fae43d8db3ee>\u001b[0m in \u001b[0;36m<module>\u001b[1;34m()\u001b[0m\n\u001b[0;32m     19\u001b[0m \u001b[1;32mimport\u001b[0m \u001b[0mshutil\u001b[0m \u001b[1;32mas\u001b[0m \u001b[0msh\u001b[0m\u001b[1;33m\u001b[0m\u001b[0m\n\u001b[0;32m     20\u001b[0m \u001b[0mdist_out\u001b[0m \u001b[1;33m=\u001b[0m \u001b[0mop\u001b[0m\u001b[1;33m.\u001b[0m\u001b[0mjoin\u001b[0m\u001b[1;33m(\u001b[0m \u001b[0mworking_dir\u001b[0m\u001b[1;33m,\u001b[0m \u001b[1;34m'synthetic_distortion/Fugue_WarpDWIs/merge_DWI/signal_000_warped_merged.nii.gz'\u001b[0m \u001b[1;33m)\u001b[0m\u001b[1;33m\u001b[0m\u001b[0m\n\u001b[1;32m---> 21\u001b[1;33m \u001b[0msh\u001b[0m\u001b[1;33m.\u001b[0m\u001b[0mcopyfile\u001b[0m\u001b[1;33m(\u001b[0m \u001b[0mdist_out\u001b[0m\u001b[1;33m,\u001b[0m \u001b[0mdist_fname\u001b[0m \u001b[1;33m)\u001b[0m\u001b[1;33m\u001b[0m\u001b[0m\n\u001b[0m\u001b[0;32m     22\u001b[0m \u001b[1;33m\u001b[0m\u001b[0m\n\u001b[0;32m     23\u001b[0m \u001b[0mim\u001b[0m \u001b[1;33m=\u001b[0m \u001b[0mnib\u001b[0m\u001b[1;33m.\u001b[0m\u001b[0mload\u001b[0m\u001b[1;33m(\u001b[0m \u001b[0mdist_fname\u001b[0m \u001b[1;33m)\u001b[0m\u001b[1;33m\u001b[0m\u001b[0m\n",
        "\u001b[1;31mNameError\u001b[0m: name 'dist_fname' is not defined"
       ]
      },
      {
       "output_type": "stream",
       "stream": "stderr",
       "text": [
        "/home/oesteban/workspace/nipype/nipype/interfaces/fsl/preprocess.py:1286: UserWarning: This interface has not been fully tested. Please report any failures.\n",
        "  'This interface has not been fully tested. Please report any failures.')\n",
        "/home/oesteban/workspace/nipype/nipype/interfaces/base.py:385: UserWarning: Input icorr requires inputs: shift_in_file\n",
        "  warn(msg)\n",
        "/home/oesteban/workspace/nipype/nipype/interfaces/fsl/preprocess.py:1286: UserWarning: This interface has not been fully tested. Please report any failures.\n",
        "  'This interface has not been fully tested. Please report any failures.')\n",
        "/home/oesteban/workspace/nipype/nipype/interfaces/fsl/preprocess.py:1286: UserWarning: This interface has not been fully tested. Please report any failures.\n",
        "  'This interface has not been fully tested. Please report any failures.')\n",
        "/home/oesteban/workspace/nipype/nipype/interfaces/base.py:385: UserWarning: Input icorr requires inputs: shift_in_file\n",
        "  warn(msg)\n",
        "/home/oesteban/workspace/nipype/nipype/interfaces/fsl/preprocess.py:1286: UserWarning: This interface has not been fully tested. Please report any failures.\n",
        "  'This interface has not been fully tested. Please report any failures.')\n"
       ]
      }
     ],
     "prompt_number": 10
    },
    {
     "cell_type": "code",
     "collapsed": false,
     "input": [
      "dtifit = dtk.DTIRecon(output_type='nii.gz')\n",
      "dtifit.inputs.DWI = dist_fname\n",
      "dtifit.inputs.bvals = op.join( model_dir, 'signal.bval' )\n",
      "dtifit.inputs.bvecs = op.join( model_dir, 'signal.bvec' )\n",
      "dtifit.inputs.out_prefix = op.join( working_dir, 'dtifit' )\n",
      "res = dtifit.run()"
     ],
     "language": "python",
     "metadata": {},
     "outputs": [
      {
       "output_type": "stream",
       "stream": "stdout",
       "text": [
        "131005-22:10:43,825 interface INFO:\n",
        "\t stdout 2013-10-05T22:10:43.825183:\n"
       ]
      },
      {
       "output_type": "stream",
       "stream": "stdout",
       "text": [
        "131005-22:10:43,826 interface INFO:\n",
        "\t stdout 2013-10-05T22:10:43.825183:Volume dimension: 101 101 101\n"
       ]
      },
      {
       "output_type": "stream",
       "stream": "stdout",
       "text": [
        "131005-22:10:43,827 interface INFO:\n",
        "\t stdout 2013-10-05T22:10:43.825183:Voxel size: 1.000 1.000 1.000\n"
       ]
      },
      {
       "output_type": "stream",
       "stream": "stdout",
       "text": [
        "131005-22:10:43,828 interface INFO:\n",
        "\t stdout 2013-10-05T22:10:43.825183:Number of b0's: 1\n"
       ]
      },
      {
       "output_type": "stream",
       "stream": "stdout",
       "text": [
        "131005-22:10:43,828 interface INFO:\n",
        "\t stdout 2013-10-05T22:10:43.825183:Number of gradient directions: 29\n"
       ]
      },
      {
       "output_type": "stream",
       "stream": "stdout",
       "text": [
        "131005-22:10:43,828 interface INFO:\n",
        "\t stdout 2013-10-05T22:10:43.828832:\n"
       ]
      },
      {
       "output_type": "stream",
       "stream": "stdout",
       "text": [
        "131005-22:10:54,223 interface INFO:\n",
        "\t stdout 2013-10-05T22:10:54.223636:Reading raw data...     \b\b\b\b\b 3.3%\b\b\b\b\b 3.3%\b\b\b\b\b 6.7%\b\b\b\b\b10.0%\b\b\b\b\b13.3%\b\b\b\b\b16.7%\b\b\b\b\b20.0%\b\b\b\b\b23.3%\b\b\b\b\b26.7%\b\b\b\b\b30.0%\b\b\b\b\b33.3%\b\b\b\b\b36.7%\b\b\b\b\b40.0%\b\b\b\b\b43.3%\b\b\b\b\b46.7%\b\b\b\b\b50.0%\b\b\b\b\b53.3%\b\b\b\b\b56.7%\b\b\b\b\b60.0%\b\b\b\b\b63.3%\b\b\b\b\b66.7%\b\b\b\b\b70.0%\b\b\b\b\b73.3%\b\b\b\b\b76.7%\b\b\b\b\b80.0%\b\b\b\b\b83.3%\b\b\b\b\b86.7%\b\b\b\b\b90.0%\b\b\b\b\b93.3%\b\b\b\b\b96.7%\b\b\b\b\b 100%\n"
       ]
      },
      {
       "output_type": "stream",
       "stream": "stdout",
       "text": [
        "131005-22:10:55,57 interface INFO:\n",
        "\t stdout 2013-10-05T22:10:55.057126:Reconstructing...     \b\b\b\b\b 0.0%\b\b\b\b\b 1.0%\b\b\b\b\b 2.0%\b\b\b\b\b 3.0%\b\b\b\b\b 4.0%\b\b\b\b\b 5.0%\b\b\b\b\b 5.9%\b\b\b\b\b 6.9%\b\b\b\b\b 7.9%\b\b\b\b\b 8.9%\b\b\b\b\b 9.9%\b\b\b\b\b10.9%\b\b\b\b\b11.9%\b\b\b\b\b12.9%\b\b\b\b\b13.9%\b\b\b\b\b14.9%\b\b\b\b\b15.8%\b\b\b\b\b16.8%\b\b\b\b\b17.8%\b\b\b\b\b18.8%\b\b\b\b\b19.8%\b\b\b\b\b20.8%\b\b\b\b\b21.8%\b\b\b\b\b22.8%\b\b\b\b\b23.8%\b\b\b\b\b24.8%\b\b\b\b\b25.7%\b\b\b\b\b26.7%\b\b\b\b\b27.7%\b\b\b\b\b28.7%\b\b\b\b\b29.7%\b\b\b\b\b30.7%\b\b\b\b\b31.7%\b\b\b\b\b32.7%\b\b\b\b\b33.7%\b\b\b\b\b34.7%\b\b\b\b\b35.6%\b\b\b\b\b36.6%\b\b\b\b\b37.6%\b\b\b\b\b38.6%\b\b\b\b\b39.6%\b\b\b\b\b40.6%\b\b\b\b\b41.6%\b\b\b\b\b42.6%\b\b\b\b\b43.6%\b\b\b\b\b44.6%\b\b\b\b\b45.5%\b\b\b\b\b46.5%\b\b\b\b\b47.5%\b\b\b\b\b48.5%\b\b\b\b\b49.5%\b\b\b\b\b50.5%\b\b\b\b\b51.5%\b\b\b\b\b52.5%\b\b\b\b\b53.5%\b\b\b\b\b54.5%\b\b\b\b\b55.4%\b\b\b\b\b56.4%\b\b\b\b\b57.4%\b\b\b\b\b58.4%\b\b\b\b\b59.4%\b\b\b\b\b60.4%\b\b\b\b\b61.4%\b\b\b\b\b62.4%\b\b\b\b\b63.4%\b\b\b\b\b64.4%\b\b\b\b\b65.3%\b\b\b\b\b66.3%\b\b\b\b\b67.3%\b\b\b\b\b68.3%\b\b\b\b\b69.3%\b\b\b\b\b70.3%\b\b\b\b\b71.3%\b\b\b\b\b72.3%\b\b\b\b\b73.3%\b\b\b\b\b74.3%\b\b\b\b\b75.2%\b\b\b\b\b76.2%\b\b\b\b\b77.2%\b\b\b\b\b78.2%\b\b\b\b\b79.2%\b\b\b\b\b80.2%\b\b\b\b\b81.2%\b\b\b\b\b82.2%\b\b\b\b\b83.2%\b\b\b\b\b84.2%\b\b\b\b\b85.1%\b\b\b\b\b86.1%\b\b\b\b\b87.1%\b\b\b\b\b88.1%\b\b\b\b\b89.1%\b\b\b\b\b90.1%\b\b\b\b\b91.1%\b\b\b\b\b92.1%\b\b\b\b\b93.1%\b\b\b\b\b94.1%\b\b\b\b\b95.0%\b\b\b\b\b96.0%\b\b\b\b\b97.0%\b\b\b\b\b98.0%\b\b\b\b\b99.0%\b\b\b\b\b 100%\n"
       ]
      },
      {
       "output_type": "stream",
       "stream": "stdout",
       "text": [
        "131005-22:10:55,57 interface INFO:\n",
        "\t stdout 2013-10-05T22:10:55.057126:b0 threshold used to mask background: 6.79413e-06 1\n"
       ]
      },
      {
       "output_type": "stream",
       "stream": "stdout",
       "text": [
        "131005-22:10:55,61 interface INFO:\n",
        "\t stdout 2013-10-05T22:10:55.061429:\n"
       ]
      },
      {
       "output_type": "stream",
       "stream": "stdout",
       "text": [
        "131005-22:10:55,622 interface INFO:\n",
        "\t stdout 2013-10-05T22:10:55.622831:Writing output...Done.\n"
       ]
      },
      {
       "output_type": "stream",
       "stream": "stdout",
       "text": [
        "131005-22:10:55,623 interface INFO:\n",
        "\t stdout 2013-10-05T22:10:55.622831:Reconstruction completed successfully.\n"
       ]
      },
      {
       "output_type": "stream",
       "stream": "stdout",
       "text": [
        "131005-22:10:55,623 interface INFO:\n",
        "\t stdout 2013-10-05T22:10:55.622831:Time taken: 00:00:12\n"
       ]
      }
     ],
     "prompt_number": 29
    }
   ],
   "metadata": {}
  }
 ]
}