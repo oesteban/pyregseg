{
 "metadata": {
  "name": "Phantom2"
 },
 "nbformat": 3,
 "nbformat_minor": 0,
 "worksheets": [
  {
   "cells": [
    {
     "cell_type": "code",
     "collapsed": false,
     "input": [
      "from traits.etsconfig.api import ETSConfig\n",
      "ETSConfig.toolkit = 'null'\n",
      "\n",
      "import os\n",
      "import os.path as op\n",
      "import nibabel as nib\n",
      "\n",
      "\n",
      "#import nipype.pipeline.engine as pe          # pypeline engine\n",
      "#import nipype.interfaces.freesurfer as fs\n",
      "#import nipype.interfaces.utility as niu\n",
      "#import nipype.interfaces.io as nio\n",
      "#from tvtk.api import tvtk\n",
      "\n",
      "root_dir = '/home/oesteban/workspace/ACWE-Reg/'\n",
      "\n",
      "\n",
      "import sys\n",
      "sys.path.append( op.join( root_dir, 'Scripts/workflows' ) )\n",
      "\n",
      "import dmri as dmri\n",
      "import surfaces as surf"
     ],
     "language": "python",
     "metadata": {},
     "outputs": [],
     "prompt_number": 1
    },
    {
     "cell_type": "code",
     "collapsed": false,
     "input": [
      "phantom_id = 2\n",
      "\n",
      "data_dir= op.join( root_dir, 'Data' )\n",
      "mname = 'Phantom%d' % phantom_id\n",
      "model_dir = op.join( data_dir, mname )\n",
      "tpms_dir = op.join( model_dir, 'tpms' )\n",
      "\n",
      "working_dir= op.join( root_dir, 'temp', mname )\n",
      "\n",
      "if not op.exists( working_dir ):\n",
      "    os.makedirs( working_dir )\n",
      "    \n",
      "if not op.exists( tpms_dir ):\n",
      "    os.makedirs( tpms_dir )"
     ],
     "language": "python",
     "metadata": {},
     "outputs": [],
     "prompt_number": 2
    },
    {
     "cell_type": "code",
     "collapsed": false,
     "input": [
      "model_im = nib.load( os.path.join( model_dir, 'model.nii.gz' ) )\n",
      "im_data = model_im.get_data()\n",
      "im_data = np.array( [ im_data[:,:,:,comp] for comp in range( 0, model_im.get_shape()[3] ) ] )\n",
      "dim = im_data[0].shape\n",
      "\n",
      "new_header = model_im.get_header()\n",
      "new_header.set_data_shape( dim )\n",
      "new_header.set_data_dtype( np.uint8 )\n",
      "new_header.set_xyzt_units( 2 )"
     ],
     "language": "python",
     "metadata": {},
     "outputs": [],
     "prompt_number": 3
    },
    {
     "cell_type": "code",
     "collapsed": false,
     "input": [
      "name_pref = 'roi'\n",
      "roinames = []\n",
      "tpmnames = []\n",
      "\n",
      "t1_data = np.zeros( shape=dim )\n",
      "t1_values = [ 230, 90, 30 ]\n",
      "t1_name = op.join( model_dir, 't1_weighted.nii.gz' )\n",
      "\n",
      "for i,(comp,name) in enumerate(zip( im_data, ['wm','gm','csf'] ) ):\n",
      "    t1_data[comp==1] = t1_values[i]\n",
      "    tpmname = os.path.join( tpms_dir, '%s_%s.nii.gz' % (name_pref, name) )\n",
      "    tpmnames.append( tpmname )\n",
      "    nib.save( nib.Nifti1Image( comp, model_im.get_affine() , new_header ), tpmname )\n",
      "    \n",
      "    if name == 'wm':\n",
      "        comp = im_data[0] + im_data[2]\n",
      "    elif name == 'gm':\n",
      "        comp = im_data[0] + im_data[1] + im_data[2]\n",
      "       \n",
      "    roiname = os.path.join( working_dir, '%s_%s.nii.gz' % (name_pref, name) )\n",
      "    roinames.append( roiname )\n",
      "    nib.save( nib.Nifti1Image( comp, model_im.get_affine() , new_header ), roiname )\n",
      "    \n",
      "nib.save( nib.Nifti1Image( t1_data, model_im.get_affine() , new_header ), t1_name )"
     ],
     "language": "python",
     "metadata": {},
     "outputs": [],
     "prompt_number": 7
    },
    {
     "cell_type": "code",
     "collapsed": false,
     "input": [
      "for i,rname in enumerate( roinames ):\n",
      "    wf = surf.binary2contour_workflow( name=(\"Contour_%02d\" % i ))\n",
      "    wf.base_dir = working_dir\n",
      "    wf.inputs.inputnode.in_file = rname\n",
      "    wf.inputs.inputnode.in_norm = t1_name\n",
      "    wf.inputs.inputnode.out_folder = working_dir\n",
      "    res = wf.run()"
     ],
     "language": "python",
     "metadata": {},
     "outputs": [
      {
       "output_type": "stream",
       "stream": "stdout",
       "text": [
        "131004-18:46:15,265 workflow INFO:\n",
        "\t ['check', 'execution', 'logging']\n"
       ]
      },
      {
       "output_type": "stream",
       "stream": "stdout",
       "text": [
        "131004-18:46:15,269 workflow INFO:\n",
        "\t Running serially.\n"
       ]
      },
      {
       "output_type": "stream",
       "stream": "stdout",
       "text": [
        "131004-18:46:15,270 workflow INFO:\n",
        "\t Executing node pretess in dir: /home/oesteban/workspace/ACWE-Reg/temp/Phantom2/Contour_00/pretess\n"
       ]
      },
      {
       "output_type": "stream",
       "stream": "stdout",
       "text": [
        "131004-18:46:15,431 workflow INFO:\n",
        "\t Executing node tess in dir: /home/oesteban/workspace/ACWE-Reg/temp/Phantom2/Contour_00/tess\n"
       ]
      },
      {
       "output_type": "stream",
       "stream": "stdout",
       "text": [
        "131004-18:46:15,433 workflow INFO:\n",
        "\t Running: mri_tessellate -n /home/oesteban/workspace/ACWE-Reg/temp/Phantom2/Contour_00/pretess/roi_wm_pretess.mgz 1 ./roi_wm_pretess.mgz_1\n"
       ]
      },
      {
       "output_type": "stream",
       "stream": "stdout",
       "text": [
        "131004-18:46:15,485 interface INFO:\n",
        "\t stdout 2013-10-04T18:46:15.485194:surface saved uses coordinates in the real RAS where c_(r,a,s) != 0\n"
       ]
      },
      {
       "output_type": "stream",
       "stream": "stdout",
       "text": [
        "131004-18:46:15,485 interface INFO:\n",
        "\t stdout 2013-10-04T18:46:15.485194:$Id: mri_tessellate.c,v 1.36 2011/03/02 00:04:25 nicks Exp $\n"
       ]
      },
      {
       "output_type": "stream",
       "stream": "stdout",
       "text": [
        "131004-18:46:15,486 interface INFO:\n",
        "\t stdout 2013-10-04T18:46:15.485194:  $Id: mrisurf.c,v 1.693.2.7 2013/05/12 22:28:01 nicks Exp $\n"
       ]
      },
      {
       "output_type": "stream",
       "stream": "stdout",
       "text": [
        "131004-18:46:15,539 interface INFO:\n",
        "\t stdout 2013-10-04T18:46:15.539421:slice 20: 516 vertices, 561 faces\n"
       ]
      },
      {
       "output_type": "stream",
       "stream": "stdout",
       "text": [
        "131004-18:46:15,539 interface INFO:\n",
        "\t stdout 2013-10-04T18:46:15.539421:slice 30: 3708 vertices, 3809 faces\n"
       ]
      },
      {
       "output_type": "stream",
       "stream": "stdout",
       "text": [
        "131004-18:46:15,540 interface INFO:\n",
        "\t stdout 2013-10-04T18:46:15.539421:slice 40: 7012 vertices, 7137 faces\n"
       ]
      },
      {
       "output_type": "stream",
       "stream": "stdout",
       "text": [
        "131004-18:46:15,540 interface INFO:\n",
        "\t stdout 2013-10-04T18:46:15.539421:slice 50: 9948 vertices, 10077 faces\n"
       ]
      },
      {
       "output_type": "stream",
       "stream": "stdout",
       "text": [
        "131004-18:46:15,540 interface INFO:\n",
        "\t stdout 2013-10-04T18:46:15.539421:slice 60: 12808 vertices, 12933 faces\n"
       ]
      },
      {
       "output_type": "stream",
       "stream": "stdout",
       "text": [
        "131004-18:46:15,540 interface INFO:\n",
        "\t stdout 2013-10-04T18:46:15.539421:slice 70: 16044 vertices, 16149 faces\n"
       ]
      },
      {
       "output_type": "stream",
       "stream": "stdout",
       "text": [
        "131004-18:46:15,541 interface INFO:\n",
        "\t stdout 2013-10-04T18:46:15.539421:slice 80: 19324 vertices, 19385 faces\n"
       ]
      },
      {
       "output_type": "stream",
       "stream": "stdout",
       "text": [
        "131004-18:46:15,541 interface INFO:\n",
        "\t stdout 2013-10-04T18:46:15.539421:slice 90: 20432 vertices, 20430 faces\n"
       ]
      },
      {
       "output_type": "stream",
       "stream": "stdout",
       "text": [
        "131004-18:46:15,541 interface INFO:\n",
        "\t stdout 2013-10-04T18:46:15.539421:slice 100: 20432 vertices, 20430 faces\n"
       ]
      },
      {
       "output_type": "stream",
       "stream": "stdout",
       "text": [
        "131004-18:46:15,541 interface INFO:\n",
        "\t stdout 2013-10-04T18:46:15.539421:using real RAS to save vertex points...\n"
       ]
      },
      {
       "output_type": "stream",
       "stream": "stdout",
       "text": [
        "131004-18:46:15,541 interface INFO:\n",
        "\t stdout 2013-10-04T18:46:15.539421:writing ./roi_wm_pretess.mgz_1\n"
       ]
      },
      {
       "output_type": "stream",
       "stream": "stdout",
       "text": [
        "131004-18:46:15,542 interface INFO:\n",
        "\t stdout 2013-10-04T18:46:15.539421:using vox2ras matrix:\n"
       ]
      },
      {
       "output_type": "stream",
       "stream": "stdout",
       "text": [
        "131004-18:46:15,542 interface INFO:\n",
        "\t stdout 2013-10-04T18:46:15.539421: 1.000   0.000   0.000  -50.000;\n"
       ]
      },
      {
       "output_type": "stream",
       "stream": "stdout",
       "text": [
        "131004-18:46:15,542 interface INFO:\n",
        "\t stdout 2013-10-04T18:46:15.539421: 0.000   1.000   0.000  -50.000;\n"
       ]
      },
      {
       "output_type": "stream",
       "stream": "stdout",
       "text": [
        "131004-18:46:15,542 interface INFO:\n",
        "\t stdout 2013-10-04T18:46:15.539421: 0.000   0.000   1.000  -50.000;\n"
       ]
      },
      {
       "output_type": "stream",
       "stream": "stdout",
       "text": [
        "131004-18:46:15,542 interface INFO:\n",
        "\t stdout 2013-10-04T18:46:15.539421: 0.000   0.000   0.000   1.000;\n"
       ]
      },
      {
       "output_type": "stream",
       "stream": "stdout",
       "text": [
        "131004-18:46:15,615 workflow INFO:\n",
        "\t Executing node mris_smooth in dir: /home/oesteban/workspace/ACWE-Reg/temp/Phantom2/Contour_00/mris_smooth\n"
       ]
      },
      {
       "output_type": "stream",
       "stream": "stdout",
       "text": [
        "131004-18:46:15,618 workflow INFO:\n",
        "\t Running: mris_smooth /home/oesteban/workspace/ACWE-Reg/temp/Phantom2/Contour_00/tess/roi_wm_pretess.mgz_1 /home/oesteban/workspace/ACWE-Reg/temp/Phantom2/Contour_00/mris_smooth/roi_wm_pretess_smoothed.mgz_1 -nw -n 10 -a 10\n"
       ]
      },
      {
       "output_type": "stream",
       "stream": "stdout",
       "text": [
        "131004-18:46:15,795 interface INFO:\n",
        "\t stderr 2013-10-04T18:46:15.795841:smoothing surface tessellation for 10 iterations...\n"
       ]
      },
      {
       "output_type": "stream",
       "stream": "stdout",
       "text": [
        "131004-18:46:15,842 interface INFO:\n",
        "\t stderr 2013-10-04T18:46:15.842272:smoothing complete - recomputing first and second fundamental forms...\n"
       ]
      },
      {
       "output_type": "stream",
       "stream": "stdout",
       "text": [
        "131004-18:46:16,55 interface INFO:\n",
        "\t stderr 2013-10-04T18:46:16.055385:writing smoothed curvature to /home/oesteban/workspace/ACWE-Reg/temp/Phantom2/Contour_00/mris_smooth/rh.curv\n"
       ]
      },
      {
       "output_type": "stream",
       "stream": "stdout",
       "text": [
        "131004-18:46:16,56 interface INFO:\n",
        "\t stderr 2013-10-04T18:46:16.056072:writing smoothed area to /home/oesteban/workspace/ACWE-Reg/temp/Phantom2/Contour_00/mris_smooth/rh.area\n"
       ]
      },
      {
       "output_type": "stream",
       "stream": "stdout",
       "text": [
        "131004-18:46:16,143 workflow INFO:\n",
        "\t Executing node tovtk in dir: /home/oesteban/workspace/ACWE-Reg/temp/Phantom2/Contour_00/tovtk\n"
       ]
      },
      {
       "output_type": "stream",
       "stream": "stdout",
       "text": [
        "131004-18:46:16,218 workflow INFO:\n",
        "\t Executing node write in dir: /home/oesteban/workspace/ACWE-Reg/temp/Phantom2/Contour_00/write\n"
       ]
      },
      {
       "output_type": "stream",
       "stream": "stdout",
       "text": [
        "131004-18:46:16,270 workflow INFO:\n",
        "\t ['check', 'execution', 'logging']\n"
       ]
      },
      {
       "output_type": "stream",
       "stream": "stdout",
       "text": [
        "131004-18:46:16,275 workflow INFO:\n",
        "\t Running serially.\n"
       ]
      },
      {
       "output_type": "stream",
       "stream": "stdout",
       "text": [
        "131004-18:46:16,276 workflow INFO:\n",
        "\t Executing node pretess in dir: /home/oesteban/workspace/ACWE-Reg/temp/Phantom2/Contour_01/pretess\n"
       ]
      },
      {
       "output_type": "stream",
       "stream": "stdout",
       "text": [
        "131004-18:46:16,451 workflow INFO:\n",
        "\t Executing node tess in dir: /home/oesteban/workspace/ACWE-Reg/temp/Phantom2/Contour_01/tess\n"
       ]
      },
      {
       "output_type": "stream",
       "stream": "stdout",
       "text": [
        "131004-18:46:16,454 workflow INFO:\n",
        "\t Running: mri_tessellate -n /home/oesteban/workspace/ACWE-Reg/temp/Phantom2/Contour_01/pretess/roi_gm_pretess.mgz 1 ./roi_gm_pretess.mgz_1\n"
       ]
      },
      {
       "output_type": "stream",
       "stream": "stdout",
       "text": [
        "131004-18:46:16,513 interface INFO:\n",
        "\t stdout 2013-10-04T18:46:16.513778:surface saved uses coordinates in the real RAS where c_(r,a,s) != 0\n"
       ]
      },
      {
       "output_type": "stream",
       "stream": "stdout",
       "text": [
        "131004-18:46:16,514 interface INFO:\n",
        "\t stdout 2013-10-04T18:46:16.513778:$Id: mri_tessellate.c,v 1.36 2011/03/02 00:04:25 nicks Exp $\n"
       ]
      },
      {
       "output_type": "stream",
       "stream": "stdout",
       "text": [
        "131004-18:46:16,514 interface INFO:\n",
        "\t stdout 2013-10-04T18:46:16.513778:  $Id: mrisurf.c,v 1.693.2.7 2013/05/12 22:28:01 nicks Exp $\n"
       ]
      },
      {
       "output_type": "stream",
       "stream": "stdout",
       "text": [
        "131004-18:46:16,570 interface INFO:\n",
        "\t stdout 2013-10-04T18:46:16.570051:slice 20: 2920 vertices, 3017 faces\n"
       ]
      },
      {
       "output_type": "stream",
       "stream": "stdout",
       "text": [
        "131004-18:46:16,570 interface INFO:\n",
        "\t stdout 2013-10-04T18:46:16.570051:slice 30: 6892 vertices, 7025 faces\n"
       ]
      },
      {
       "output_type": "stream",
       "stream": "stdout",
       "text": [
        "131004-18:46:16,570 interface INFO:\n",
        "\t stdout 2013-10-04T18:46:16.570051:slice 40: 10752 vertices, 10901 faces\n"
       ]
      },
      {
       "output_type": "stream",
       "stream": "stdout",
       "text": [
        "131004-18:46:16,570 interface INFO:\n",
        "\t stdout 2013-10-04T18:46:16.570051:slice 50: 14156 vertices, 14309 faces\n"
       ]
      },
      {
       "output_type": "stream",
       "stream": "stdout",
       "text": [
        "131004-18:46:16,571 interface INFO:\n",
        "\t stdout 2013-10-04T18:46:16.570051:slice 60: 17436 vertices, 17589 faces\n"
       ]
      },
      {
       "output_type": "stream",
       "stream": "stdout",
       "text": [
        "131004-18:46:16,571 interface INFO:\n",
        "\t stdout 2013-10-04T18:46:16.570051:slice 70: 21264 vertices, 21401 faces\n"
       ]
      },
      {
       "output_type": "stream",
       "stream": "stdout",
       "text": [
        "131004-18:46:16,571 interface INFO:\n",
        "\t stdout 2013-10-04T18:46:16.570051:slice 80: 25224 vertices, 25329 faces\n"
       ]
      },
      {
       "output_type": "stream",
       "stream": "stdout",
       "text": [
        "131004-18:46:16,571 interface INFO:\n",
        "\t stdout 2013-10-04T18:46:16.570051:slice 90: 28928 vertices, 28926 faces\n"
       ]
      },
      {
       "output_type": "stream",
       "stream": "stdout",
       "text": [
        "131004-18:46:16,572 interface INFO:\n",
        "\t stdout 2013-10-04T18:46:16.570051:slice 100: 28928 vertices, 28926 faces\n"
       ]
      },
      {
       "output_type": "stream",
       "stream": "stdout",
       "text": [
        "131004-18:46:16,572 interface INFO:\n",
        "\t stdout 2013-10-04T18:46:16.570051:using real RAS to save vertex points...\n"
       ]
      },
      {
       "output_type": "stream",
       "stream": "stdout",
       "text": [
        "131004-18:46:16,572 interface INFO:\n",
        "\t stdout 2013-10-04T18:46:16.570051:writing ./roi_gm_pretess.mgz_1\n"
       ]
      },
      {
       "output_type": "stream",
       "stream": "stdout",
       "text": [
        "131004-18:46:16,572 interface INFO:\n",
        "\t stdout 2013-10-04T18:46:16.570051:using vox2ras matrix:\n"
       ]
      },
      {
       "output_type": "stream",
       "stream": "stdout",
       "text": [
        "131004-18:46:16,572 interface INFO:\n",
        "\t stdout 2013-10-04T18:46:16.570051: 1.000   0.000   0.000  -50.000;\n"
       ]
      },
      {
       "output_type": "stream",
       "stream": "stdout",
       "text": [
        "131004-18:46:16,573 interface INFO:\n",
        "\t stdout 2013-10-04T18:46:16.570051: 0.000   1.000   0.000  -50.000;\n"
       ]
      },
      {
       "output_type": "stream",
       "stream": "stdout",
       "text": [
        "131004-18:46:16,573 interface INFO:\n",
        "\t stdout 2013-10-04T18:46:16.570051: 0.000   0.000   1.000  -50.000;\n"
       ]
      },
      {
       "output_type": "stream",
       "stream": "stdout",
       "text": [
        "131004-18:46:16,573 interface INFO:\n",
        "\t stdout 2013-10-04T18:46:16.570051: 0.000   0.000   0.000   1.000;\n"
       ]
      },
      {
       "output_type": "stream",
       "stream": "stdout",
       "text": [
        "131004-18:46:16,652 workflow INFO:\n",
        "\t Executing node mris_smooth in dir: /home/oesteban/workspace/ACWE-Reg/temp/Phantom2/Contour_01/mris_smooth\n"
       ]
      },
      {
       "output_type": "stream",
       "stream": "stdout",
       "text": [
        "131004-18:46:16,655 workflow INFO:\n",
        "\t Running: mris_smooth /home/oesteban/workspace/ACWE-Reg/temp/Phantom2/Contour_01/tess/roi_gm_pretess.mgz_1 /home/oesteban/workspace/ACWE-Reg/temp/Phantom2/Contour_01/mris_smooth/roi_gm_pretess_smoothed.mgz_1 -nw -n 10 -a 10\n"
       ]
      },
      {
       "output_type": "stream",
       "stream": "stdout",
       "text": [
        "131004-18:46:16,894 interface INFO:\n",
        "\t stderr 2013-10-04T18:46:16.893942:smoothing surface tessellation for 10 iterations...\n"
       ]
      },
      {
       "output_type": "stream",
       "stream": "stdout",
       "text": [
        "131004-18:46:16,962 interface INFO:\n",
        "\t stderr 2013-10-04T18:46:16.962096:smoothing complete - recomputing first and second fundamental forms...\n"
       ]
      },
      {
       "output_type": "stream",
       "stream": "stdout",
       "text": [
        "131004-18:46:17,262 interface INFO:\n",
        "\t stderr 2013-10-04T18:46:17.262512:writing smoothed curvature to /home/oesteban/workspace/ACWE-Reg/temp/Phantom2/Contour_01/mris_smooth/rh.curv\n"
       ]
      },
      {
       "output_type": "stream",
       "stream": "stdout",
       "text": [
        "131004-18:46:17,264 interface INFO:\n",
        "\t stderr 2013-10-04T18:46:17.264102:writing smoothed area to /home/oesteban/workspace/ACWE-Reg/temp/Phantom2/Contour_01/mris_smooth/rh.area\n"
       ]
      },
      {
       "output_type": "stream",
       "stream": "stdout",
       "text": [
        "131004-18:46:17,352 workflow INFO:\n",
        "\t Executing node tovtk in dir: /home/oesteban/workspace/ACWE-Reg/temp/Phantom2/Contour_01/tovtk\n"
       ]
      },
      {
       "output_type": "stream",
       "stream": "stdout",
       "text": [
        "131004-18:46:17,430 workflow INFO:\n",
        "\t Executing node write in dir: /home/oesteban/workspace/ACWE-Reg/temp/Phantom2/Contour_01/write\n"
       ]
      },
      {
       "output_type": "stream",
       "stream": "stdout",
       "text": [
        "131004-18:46:17,481 workflow INFO:\n",
        "\t ['check', 'execution', 'logging']\n"
       ]
      },
      {
       "output_type": "stream",
       "stream": "stdout",
       "text": [
        "131004-18:46:17,486 workflow INFO:\n",
        "\t Running serially.\n"
       ]
      },
      {
       "output_type": "stream",
       "stream": "stdout",
       "text": [
        "131004-18:46:17,487 workflow INFO:\n",
        "\t Executing node pretess in dir: /home/oesteban/workspace/ACWE-Reg/temp/Phantom2/Contour_02/pretess\n"
       ]
      },
      {
       "output_type": "stream",
       "stream": "stdout",
       "text": [
        "131004-18:46:17,660 workflow INFO:\n",
        "\t Executing node tess in dir: /home/oesteban/workspace/ACWE-Reg/temp/Phantom2/Contour_02/tess\n"
       ]
      },
      {
       "output_type": "stream",
       "stream": "stdout",
       "text": [
        "131004-18:46:17,662 workflow INFO:\n",
        "\t Running: mri_tessellate -n /home/oesteban/workspace/ACWE-Reg/temp/Phantom2/Contour_02/pretess/roi_csf_pretess.mgz 1 ./roi_csf_pretess.mgz_1\n"
       ]
      },
      {
       "output_type": "stream",
       "stream": "stdout",
       "text": [
        "131004-18:46:17,714 interface INFO:\n",
        "\t stdout 2013-10-04T18:46:17.714103:surface saved uses coordinates in the real RAS where c_(r,a,s) != 0\n"
       ]
      },
      {
       "output_type": "stream",
       "stream": "stdout",
       "text": [
        "131004-18:46:17,714 interface INFO:\n",
        "\t stdout 2013-10-04T18:46:17.714103:$Id: mri_tessellate.c,v 1.36 2011/03/02 00:04:25 nicks Exp $\n"
       ]
      },
      {
       "output_type": "stream",
       "stream": "stdout",
       "text": [
        "131004-18:46:17,715 interface INFO:\n",
        "\t stdout 2013-10-04T18:46:17.714103:  $Id: mrisurf.c,v 1.693.2.7 2013/05/12 22:28:01 nicks Exp $\n"
       ]
      },
      {
       "output_type": "stream",
       "stream": "stdout",
       "text": [
        "131004-18:46:17,765 interface INFO:\n",
        "\t stdout 2013-10-04T18:46:17.765756:slice 30: 192 vertices, 217 faces\n"
       ]
      },
      {
       "output_type": "stream",
       "stream": "stdout",
       "text": [
        "131004-18:46:17,766 interface INFO:\n",
        "\t stdout 2013-10-04T18:46:17.765756:slice 40: 1452 vertices, 1501 faces\n"
       ]
      },
      {
       "output_type": "stream",
       "stream": "stdout",
       "text": [
        "131004-18:46:17,766 interface INFO:\n",
        "\t stdout 2013-10-04T18:46:17.765756:slice 50: 2870 vertices, 2927 faces\n"
       ]
      },
      {
       "output_type": "stream",
       "stream": "stdout",
       "text": [
        "131004-18:46:17,766 interface INFO:\n",
        "\t stdout 2013-10-04T18:46:17.765756:slice 60: 4400 vertices, 4449 faces\n"
       ]
      },
      {
       "output_type": "stream",
       "stream": "stdout",
       "text": [
        "131004-18:46:17,766 interface INFO:\n",
        "\t stdout 2013-10-04T18:46:17.765756:slice 70: 5624 vertices, 5657 faces\n"
       ]
      },
      {
       "output_type": "stream",
       "stream": "stdout",
       "text": [
        "131004-18:46:17,767 interface INFO:\n",
        "\t stdout 2013-10-04T18:46:17.765756:slice 80: 5952 vertices, 5950 faces\n"
       ]
      },
      {
       "output_type": "stream",
       "stream": "stdout",
       "text": [
        "131004-18:46:17,767 interface INFO:\n",
        "\t stdout 2013-10-04T18:46:17.765756:slice 90: 5952 vertices, 5950 faces\n"
       ]
      },
      {
       "output_type": "stream",
       "stream": "stdout",
       "text": [
        "131004-18:46:17,767 interface INFO:\n",
        "\t stdout 2013-10-04T18:46:17.765756:slice 100: 5952 vertices, 5950 faces\n"
       ]
      },
      {
       "output_type": "stream",
       "stream": "stdout",
       "text": [
        "131004-18:46:17,767 interface INFO:\n",
        "\t stdout 2013-10-04T18:46:17.765756:using real RAS to save vertex points...\n"
       ]
      },
      {
       "output_type": "stream",
       "stream": "stdout",
       "text": [
        "131004-18:46:17,767 interface INFO:\n",
        "\t stdout 2013-10-04T18:46:17.765756:writing ./roi_csf_pretess.mgz_1\n"
       ]
      },
      {
       "output_type": "stream",
       "stream": "stdout",
       "text": [
        "131004-18:46:17,768 interface INFO:\n",
        "\t stdout 2013-10-04T18:46:17.765756:using vox2ras matrix:\n"
       ]
      },
      {
       "output_type": "stream",
       "stream": "stdout",
       "text": [
        "131004-18:46:17,768 interface INFO:\n",
        "\t stdout 2013-10-04T18:46:17.765756: 1.000   0.000   0.000  -50.000;\n"
       ]
      },
      {
       "output_type": "stream",
       "stream": "stdout",
       "text": [
        "131004-18:46:17,768 interface INFO:\n",
        "\t stdout 2013-10-04T18:46:17.765756: 0.000   1.000   0.000  -50.000;\n"
       ]
      },
      {
       "output_type": "stream",
       "stream": "stdout",
       "text": [
        "131004-18:46:17,768 interface INFO:\n",
        "\t stdout 2013-10-04T18:46:17.765756: 0.000   0.000   1.000  -50.000;\n"
       ]
      },
      {
       "output_type": "stream",
       "stream": "stdout",
       "text": [
        "131004-18:46:17,769 interface INFO:\n",
        "\t stdout 2013-10-04T18:46:17.765756: 0.000   0.000   0.000   1.000;\n"
       ]
      },
      {
       "output_type": "stream",
       "stream": "stdout",
       "text": [
        "131004-18:46:17,836 workflow INFO:\n",
        "\t Executing node mris_smooth in dir: /home/oesteban/workspace/ACWE-Reg/temp/Phantom2/Contour_02/mris_smooth\n"
       ]
      },
      {
       "output_type": "stream",
       "stream": "stdout",
       "text": [
        "131004-18:46:17,839 workflow INFO:\n",
        "\t Running: mris_smooth /home/oesteban/workspace/ACWE-Reg/temp/Phantom2/Contour_02/tess/roi_csf_pretess.mgz_1 /home/oesteban/workspace/ACWE-Reg/temp/Phantom2/Contour_02/mris_smooth/roi_csf_pretess_smoothed.mgz_1 -nw -n 10 -a 10\n"
       ]
      },
      {
       "output_type": "stream",
       "stream": "stdout",
       "text": [
        "131004-18:46:17,920 interface INFO:\n",
        "\t stderr 2013-10-04T18:46:17.920174:smoothing surface tessellation for 10 iterations...\n"
       ]
      },
      {
       "output_type": "stream",
       "stream": "stdout",
       "text": [
        "131004-18:46:17,927 interface INFO:\n",
        "\t stderr 2013-10-04T18:46:17.927488:smoothing complete - recomputing first and second fundamental forms...\n"
       ]
      },
      {
       "output_type": "stream",
       "stream": "stdout",
       "text": [
        "131004-18:46:17,985 interface INFO:\n",
        "\t stderr 2013-10-04T18:46:17.985102:writing smoothed curvature to /home/oesteban/workspace/ACWE-Reg/temp/Phantom2/Contour_02/mris_smooth/rh.curv\n"
       ]
      },
      {
       "output_type": "stream",
       "stream": "stdout",
       "text": [
        "131004-18:46:17,985 interface INFO:\n",
        "\t stderr 2013-10-04T18:46:17.985527:writing smoothed area to /home/oesteban/workspace/ACWE-Reg/temp/Phantom2/Contour_02/mris_smooth/rh.area\n"
       ]
      },
      {
       "output_type": "stream",
       "stream": "stdout",
       "text": [
        "131004-18:46:18,65 workflow INFO:\n",
        "\t Executing node tovtk in dir: /home/oesteban/workspace/ACWE-Reg/temp/Phantom2/Contour_02/tovtk\n"
       ]
      },
      {
       "output_type": "stream",
       "stream": "stdout",
       "text": [
        "131004-18:46:18,214 workflow INFO:\n",
        "\t Executing node write in dir: /home/oesteban/workspace/ACWE-Reg/temp/Phantom2/Contour_02/write\n"
       ]
      }
     ],
     "prompt_number": 5
    },
    {
     "cell_type": "code",
     "collapsed": false,
     "input": [
      "te_incr = 2.46e-3 # secs\n",
      "dwell_time = 0.77e-3 # secs\n",
      "maskfile = roinames[1]\n",
      "edir = 'z'\n",
      "dwifile = os.path.join( model_dir, 'signal.nii.gz' )\n",
      "\n",
      "wf = dmri.distortion_workflow()\n",
      "wf.base_dir = working_dir\n",
      "wf.inputs.inputnode.in_file = dwifile\n",
      "wf.inputs.inputnode.in_mask = maskfile\n",
      "wf.inputs.inputnode.te_incr = te_incr\n",
      "wf.inputs.inputnode.echospacing = dwell_time\n",
      "wf.inputs.inputnode.encoding_direction = edir\n",
      "wf.inputs.inputnode.intensity = 0.05\n",
      "wf.inputs.inputnode.sigma = 8.0\n",
      "wf.inputs.inputnode.in_tpms = tpmnames\n",
      "wf.run()"
     ],
     "language": "python",
     "metadata": {},
     "outputs": [
      {
       "output_type": "stream",
       "stream": "stdout",
       "text": [
        "131004-19:53:57,423 workflow INFO:\n",
        "\t ['check', 'execution', 'logging']\n"
       ]
      },
      {
       "output_type": "stream",
       "stream": "stdout",
       "text": [
        "131004-19:53:57,432 workflow INFO:\n",
        "\t Running serially.\n"
       ]
      },
      {
       "output_type": "stream",
       "stream": "stdout",
       "text": [
        "131004-19:53:57,433 workflow INFO:\n",
        "\t Executing node split_DWI in dir: /home/oesteban/workspace/ACWE-Reg/temp/Phantom2/synthetic_distortion/Fugue_WarpDWIs/split_DWI\n"
       ]
      },
      {
       "output_type": "stream",
       "stream": "stdout",
       "text": [
        "131004-19:53:57,433 workflow INFO:\n",
        "\t Collecting precomputed outputs\n"
       ]
      },
      {
       "output_type": "stream",
       "stream": "stdout",
       "text": [
        "131004-19:53:57,454 workflow INFO:\n",
        "\t Executing node gen_siemens_PhaseDiffMap in dir: /home/oesteban/workspace/ACWE-Reg/temp/Phantom2/synthetic_distortion/gen_siemens_PhaseDiffMap\n"
       ]
      },
      {
       "output_type": "stream",
       "stream": "stdout",
       "text": [
        "131004-19:53:57,858 workflow INFO:\n",
        "\t Executing node fsl_prepare_fieldmap in dir: /home/oesteban/workspace/ACWE-Reg/temp/Phantom2/synthetic_distortion/fsl_prepare_fieldmap\n"
       ]
      },
      {
       "output_type": "stream",
       "stream": "stdout",
       "text": [
        "131004-19:53:57,861 workflow INFO:\n",
        "\t Running: fsl_prepare_fieldmap SIEMENS /home/oesteban/workspace/ACWE-Reg/temp/Phantom2/synthetic_distortion/gen_siemens_PhaseDiffMap/roi_gm_siemens.nii.gz /home/oesteban/workspace/ACWE-Reg/temp/Phantom2/roi_gm.nii.gz /home/oesteban/workspace/ACWE-Reg/temp/Phantom2/synthetic_distortion/fsl_prepare_fieldmap/roi_gm_siemens_fslprepared.nii.gz 2.460000\n"
       ]
      },
      {
       "output_type": "stream",
       "stream": "stdout",
       "text": [
        "131004-19:53:58,513 interface INFO:\n",
        "\t stdout 2013-10-04T19:53:58.513890:Loading volumes\n"
       ]
      },
      {
       "output_type": "stream",
       "stream": "stdout",
       "text": [
        "131004-19:53:58,535 interface INFO:\n",
        "\t stdout 2013-10-04T19:53:58.535758:Phase loaded\n"
       ]
      },
      {
       "output_type": "stream",
       "stream": "stdout",
       "text": [
        "131004-19:53:58,547 interface INFO:\n",
        "\t stdout 2013-10-04T19:53:58.547280:Magnitude loaded\n"
       ]
      },
      {
       "output_type": "stream",
       "stream": "stdout",
       "text": [
        "131004-19:53:58,566 interface INFO:\n",
        "\t stdout 2013-10-04T19:53:58.566624:Mask loaded\n"
       ]
      },
      {
       "output_type": "stream",
       "stream": "stdout",
       "text": [
        "131004-19:53:58,628 interface INFO:\n",
        "\t stdout 2013-10-04T19:53:58.628604:Number of phase splits = 8\n"
       ]
      },
      {
       "output_type": "stream",
       "stream": "stdout",
       "text": [
        "131004-19:53:58,697 interface INFO:\n",
        "\t stdout 2013-10-04T19:53:58.697184:Calculating starting matrices (77 by 77)\n"
       ]
      },
      {
       "output_type": "stream",
       "stream": "stdout",
       "text": [
        "131004-19:53:58,708 interface INFO:\n",
        "\t stdout 2013-10-04T19:53:58.708088:Finished connection_matrices\n"
       ]
      },
      {
       "output_type": "stream",
       "stream": "stdout",
       "text": [
        "131004-19:53:58,708 interface INFO:\n",
        "\t stdout 2013-10-04T19:53:58.708088:76 constraints left\n"
       ]
      },
      {
       "output_type": "stream",
       "stream": "stdout",
       "text": [
        "131004-19:53:58,708 interface INFO:\n",
        "\t stdout 2013-10-04T19:53:58.708830:Did while loop 76 times\n"
       ]
      },
      {
       "output_type": "stream",
       "stream": "stdout",
       "text": [
        "131004-19:54:01,889 interface INFO:\n",
        "\t stdout 2013-10-04T19:54:01.889856:Done. Created /home/oesteban/workspace/ACWE-Reg/temp/Phantom2/synthetic_distortion/fsl_prepare_fieldmap/roi_gm_siemens_fslprepared for use with FEAT.\n"
       ]
      },
      {
       "output_type": "stream",
       "stream": "stdout",
       "text": [
        "131004-19:54:02,145 workflow INFO:\n",
        "\t Executing node gen_VSM in dir: /home/oesteban/workspace/ACWE-Reg/temp/Phantom2/synthetic_distortion/gen_VSM\n"
       ]
      },
      {
       "output_type": "stream",
       "stream": "stdout",
       "text": [
        "131004-19:54:02,148 workflow INFO:\n",
        "\t Running: fugue --asym=0.0024600000 --dwell=0.0007700000 --in=/home/oesteban/workspace/ACWE-Reg/temp/Phantom2/roi_gm.nii.gz --mask=/home/oesteban/workspace/ACWE-Reg/temp/Phantom2/roi_gm.nii.gz --phasemap=/home/oesteban/workspace/ACWE-Reg/temp/Phantom2/synthetic_distortion/fsl_prepare_fieldmap/roi_gm_siemens_fslprepared.nii.gz --saveshift=/home/oesteban/workspace/ACWE-Reg/temp/Phantom2/synthetic_distortion/gen_VSM/roi_gm_vsm.nii.gz --unwarp=/home/oesteban/workspace/ACWE-Reg/temp/Phantom2/synthetic_distortion/gen_VSM/roi_gm_unwarped.nii.gz\n"
       ]
      },
      {
       "output_type": "stream",
       "stream": "stdout",
       "text": [
        "131004-19:54:03,328 workflow INFO:\n",
        "\t Executing node demean in dir: /home/oesteban/workspace/ACWE-Reg/temp/Phantom2/synthetic_distortion/demean\n"
       ]
      },
      {
       "output_type": "stream",
       "stream": "stdout",
       "text": [
        "131004-19:54:03,745 workflow INFO:\n",
        "\t Executing node Fugue_Warp in dir: /home/oesteban/workspace/ACWE-Reg/temp/Phantom2/synthetic_distortion/Fugue_WarpDWIs/Fugue_Warp\n"
       ]
      },
      {
       "output_type": "stream",
       "stream": "stdout",
       "text": [
        "131004-19:54:03,751 workflow INFO:\n",
        "\t Executing node _Fugue_Warp0 in dir: /home/oesteban/workspace/ACWE-Reg/temp/Phantom2/synthetic_distortion/Fugue_WarpDWIs/Fugue_Warp/mapflow/_Fugue_Warp0\n"
       ]
      },
      {
       "output_type": "stream",
       "stream": "stdout",
       "text": [
        "131004-19:54:03,754 workflow INFO:\n",
        "\t Running: fugue --in=/home/oesteban/workspace/ACWE-Reg/temp/Phantom2/synthetic_distortion/Fugue_WarpDWIs/split_DWI/signal_000.nii.gz --mask=/home/oesteban/workspace/ACWE-Reg/temp/Phantom2/roi_gm.nii.gz --loadshift=/home/oesteban/workspace/ACWE-Reg/temp/Phantom2/synthetic_distortion/demean/roi_gm_vsm_demeaned.nii.gz --unwarpdir=z --warp=/home/oesteban/workspace/ACWE-Reg/temp/Phantom2/synthetic_distortion/Fugue_WarpDWIs/Fugue_Warp/mapflow/_Fugue_Warp0/signal_000_warped.nii.gz\n"
       ]
      },
      {
       "output_type": "stream",
       "stream": "stdout",
       "text": [
        "131004-19:54:20,549 workflow INFO:\n",
        "\t Executing node _Fugue_Warp1 in dir: /home/oesteban/workspace/ACWE-Reg/temp/Phantom2/synthetic_distortion/Fugue_WarpDWIs/Fugue_Warp/mapflow/_Fugue_Warp1\n"
       ]
      },
      {
       "output_type": "stream",
       "stream": "stdout",
       "text": [
        "131004-19:54:20,553 workflow INFO:\n",
        "\t Running: fugue --in=/home/oesteban/workspace/ACWE-Reg/temp/Phantom2/synthetic_distortion/Fugue_WarpDWIs/split_DWI/signal_001.nii.gz --mask=/home/oesteban/workspace/ACWE-Reg/temp/Phantom2/roi_gm.nii.gz --loadshift=/home/oesteban/workspace/ACWE-Reg/temp/Phantom2/synthetic_distortion/demean/roi_gm_vsm_demeaned.nii.gz --unwarpdir=z --warp=/home/oesteban/workspace/ACWE-Reg/temp/Phantom2/synthetic_distortion/Fugue_WarpDWIs/Fugue_Warp/mapflow/_Fugue_Warp1/signal_001_warped.nii.gz\n"
       ]
      },
      {
       "output_type": "stream",
       "stream": "stdout",
       "text": [
        "131004-19:54:37,272 workflow INFO:\n",
        "\t Executing node _Fugue_Warp2 in dir: /home/oesteban/workspace/ACWE-Reg/temp/Phantom2/synthetic_distortion/Fugue_WarpDWIs/Fugue_Warp/mapflow/_Fugue_Warp2\n"
       ]
      },
      {
       "output_type": "stream",
       "stream": "stdout",
       "text": [
        "131004-19:54:37,276 workflow INFO:\n",
        "\t Running: fugue --in=/home/oesteban/workspace/ACWE-Reg/temp/Phantom2/synthetic_distortion/Fugue_WarpDWIs/split_DWI/signal_002.nii.gz --mask=/home/oesteban/workspace/ACWE-Reg/temp/Phantom2/roi_gm.nii.gz --loadshift=/home/oesteban/workspace/ACWE-Reg/temp/Phantom2/synthetic_distortion/demean/roi_gm_vsm_demeaned.nii.gz --unwarpdir=z --warp=/home/oesteban/workspace/ACWE-Reg/temp/Phantom2/synthetic_distortion/Fugue_WarpDWIs/Fugue_Warp/mapflow/_Fugue_Warp2/signal_002_warped.nii.gz\n"
       ]
      },
      {
       "output_type": "stream",
       "stream": "stdout",
       "text": [
        "131004-19:54:54,20 workflow INFO:\n",
        "\t Executing node _Fugue_Warp3 in dir: /home/oesteban/workspace/ACWE-Reg/temp/Phantom2/synthetic_distortion/Fugue_WarpDWIs/Fugue_Warp/mapflow/_Fugue_Warp3\n"
       ]
      },
      {
       "output_type": "stream",
       "stream": "stdout",
       "text": [
        "131004-19:54:54,24 workflow INFO:\n",
        "\t Running: fugue --in=/home/oesteban/workspace/ACWE-Reg/temp/Phantom2/synthetic_distortion/Fugue_WarpDWIs/split_DWI/signal_003.nii.gz --mask=/home/oesteban/workspace/ACWE-Reg/temp/Phantom2/roi_gm.nii.gz --loadshift=/home/oesteban/workspace/ACWE-Reg/temp/Phantom2/synthetic_distortion/demean/roi_gm_vsm_demeaned.nii.gz --unwarpdir=z --warp=/home/oesteban/workspace/ACWE-Reg/temp/Phantom2/synthetic_distortion/Fugue_WarpDWIs/Fugue_Warp/mapflow/_Fugue_Warp3/signal_003_warped.nii.gz\n"
       ]
      },
      {
       "output_type": "stream",
       "stream": "stdout",
       "text": [
        "131004-19:55:10,809 workflow INFO:\n",
        "\t Executing node _Fugue_Warp4 in dir: /home/oesteban/workspace/ACWE-Reg/temp/Phantom2/synthetic_distortion/Fugue_WarpDWIs/Fugue_Warp/mapflow/_Fugue_Warp4\n"
       ]
      },
      {
       "output_type": "stream",
       "stream": "stdout",
       "text": [
        "131004-19:55:10,812 workflow INFO:\n",
        "\t Running: fugue --in=/home/oesteban/workspace/ACWE-Reg/temp/Phantom2/synthetic_distortion/Fugue_WarpDWIs/split_DWI/signal_004.nii.gz --mask=/home/oesteban/workspace/ACWE-Reg/temp/Phantom2/roi_gm.nii.gz --loadshift=/home/oesteban/workspace/ACWE-Reg/temp/Phantom2/synthetic_distortion/demean/roi_gm_vsm_demeaned.nii.gz --unwarpdir=z --warp=/home/oesteban/workspace/ACWE-Reg/temp/Phantom2/synthetic_distortion/Fugue_WarpDWIs/Fugue_Warp/mapflow/_Fugue_Warp4/signal_004_warped.nii.gz\n"
       ]
      },
      {
       "output_type": "stream",
       "stream": "stdout",
       "text": [
        "131004-19:55:27,573 workflow INFO:\n",
        "\t Executing node _Fugue_Warp5 in dir: /home/oesteban/workspace/ACWE-Reg/temp/Phantom2/synthetic_distortion/Fugue_WarpDWIs/Fugue_Warp/mapflow/_Fugue_Warp5\n"
       ]
      },
      {
       "output_type": "stream",
       "stream": "stdout",
       "text": [
        "131004-19:55:27,577 workflow INFO:\n",
        "\t Running: fugue --in=/home/oesteban/workspace/ACWE-Reg/temp/Phantom2/synthetic_distortion/Fugue_WarpDWIs/split_DWI/signal_005.nii.gz --mask=/home/oesteban/workspace/ACWE-Reg/temp/Phantom2/roi_gm.nii.gz --loadshift=/home/oesteban/workspace/ACWE-Reg/temp/Phantom2/synthetic_distortion/demean/roi_gm_vsm_demeaned.nii.gz --unwarpdir=z --warp=/home/oesteban/workspace/ACWE-Reg/temp/Phantom2/synthetic_distortion/Fugue_WarpDWIs/Fugue_Warp/mapflow/_Fugue_Warp5/signal_005_warped.nii.gz\n"
       ]
      },
      {
       "output_type": "stream",
       "stream": "stdout",
       "text": [
        "131004-19:55:44,392 workflow INFO:\n",
        "\t Executing node _Fugue_Warp6 in dir: /home/oesteban/workspace/ACWE-Reg/temp/Phantom2/synthetic_distortion/Fugue_WarpDWIs/Fugue_Warp/mapflow/_Fugue_Warp6\n"
       ]
      },
      {
       "output_type": "stream",
       "stream": "stdout",
       "text": [
        "131004-19:55:44,396 workflow INFO:\n",
        "\t Running: fugue --in=/home/oesteban/workspace/ACWE-Reg/temp/Phantom2/synthetic_distortion/Fugue_WarpDWIs/split_DWI/signal_006.nii.gz --mask=/home/oesteban/workspace/ACWE-Reg/temp/Phantom2/roi_gm.nii.gz --loadshift=/home/oesteban/workspace/ACWE-Reg/temp/Phantom2/synthetic_distortion/demean/roi_gm_vsm_demeaned.nii.gz --unwarpdir=z --warp=/home/oesteban/workspace/ACWE-Reg/temp/Phantom2/synthetic_distortion/Fugue_WarpDWIs/Fugue_Warp/mapflow/_Fugue_Warp6/signal_006_warped.nii.gz\n"
       ]
      },
      {
       "output_type": "stream",
       "stream": "stdout",
       "text": [
        "131004-19:56:01,238 workflow INFO:\n",
        "\t Executing node _Fugue_Warp7 in dir: /home/oesteban/workspace/ACWE-Reg/temp/Phantom2/synthetic_distortion/Fugue_WarpDWIs/Fugue_Warp/mapflow/_Fugue_Warp7\n"
       ]
      },
      {
       "output_type": "stream",
       "stream": "stdout",
       "text": [
        "131004-19:56:01,243 workflow INFO:\n",
        "\t Running: fugue --in=/home/oesteban/workspace/ACWE-Reg/temp/Phantom2/synthetic_distortion/Fugue_WarpDWIs/split_DWI/signal_007.nii.gz --mask=/home/oesteban/workspace/ACWE-Reg/temp/Phantom2/roi_gm.nii.gz --loadshift=/home/oesteban/workspace/ACWE-Reg/temp/Phantom2/synthetic_distortion/demean/roi_gm_vsm_demeaned.nii.gz --unwarpdir=z --warp=/home/oesteban/workspace/ACWE-Reg/temp/Phantom2/synthetic_distortion/Fugue_WarpDWIs/Fugue_Warp/mapflow/_Fugue_Warp7/signal_007_warped.nii.gz\n"
       ]
      },
      {
       "output_type": "stream",
       "stream": "stdout",
       "text": [
        "131004-19:56:18,105 workflow INFO:\n",
        "\t Executing node _Fugue_Warp8 in dir: /home/oesteban/workspace/ACWE-Reg/temp/Phantom2/synthetic_distortion/Fugue_WarpDWIs/Fugue_Warp/mapflow/_Fugue_Warp8\n"
       ]
      },
      {
       "output_type": "stream",
       "stream": "stdout",
       "text": [
        "131004-19:56:18,108 workflow INFO:\n",
        "\t Running: fugue --in=/home/oesteban/workspace/ACWE-Reg/temp/Phantom2/synthetic_distortion/Fugue_WarpDWIs/split_DWI/signal_008.nii.gz --mask=/home/oesteban/workspace/ACWE-Reg/temp/Phantom2/roi_gm.nii.gz --loadshift=/home/oesteban/workspace/ACWE-Reg/temp/Phantom2/synthetic_distortion/demean/roi_gm_vsm_demeaned.nii.gz --unwarpdir=z --warp=/home/oesteban/workspace/ACWE-Reg/temp/Phantom2/synthetic_distortion/Fugue_WarpDWIs/Fugue_Warp/mapflow/_Fugue_Warp8/signal_008_warped.nii.gz\n"
       ]
      },
      {
       "output_type": "stream",
       "stream": "stdout",
       "text": [
        "131004-19:56:34,882 workflow INFO:\n",
        "\t Executing node _Fugue_Warp9 in dir: /home/oesteban/workspace/ACWE-Reg/temp/Phantom2/synthetic_distortion/Fugue_WarpDWIs/Fugue_Warp/mapflow/_Fugue_Warp9\n"
       ]
      },
      {
       "output_type": "stream",
       "stream": "stdout",
       "text": [
        "131004-19:56:34,886 workflow INFO:\n",
        "\t Running: fugue --in=/home/oesteban/workspace/ACWE-Reg/temp/Phantom2/synthetic_distortion/Fugue_WarpDWIs/split_DWI/signal_009.nii.gz --mask=/home/oesteban/workspace/ACWE-Reg/temp/Phantom2/roi_gm.nii.gz --loadshift=/home/oesteban/workspace/ACWE-Reg/temp/Phantom2/synthetic_distortion/demean/roi_gm_vsm_demeaned.nii.gz --unwarpdir=z --warp=/home/oesteban/workspace/ACWE-Reg/temp/Phantom2/synthetic_distortion/Fugue_WarpDWIs/Fugue_Warp/mapflow/_Fugue_Warp9/signal_009_warped.nii.gz\n"
       ]
      },
      {
       "output_type": "stream",
       "stream": "stdout",
       "text": [
        "131004-19:56:51,740 workflow INFO:\n",
        "\t Executing node _Fugue_Warp10 in dir: /home/oesteban/workspace/ACWE-Reg/temp/Phantom2/synthetic_distortion/Fugue_WarpDWIs/Fugue_Warp/mapflow/_Fugue_Warp10\n"
       ]
      },
      {
       "output_type": "stream",
       "stream": "stdout",
       "text": [
        "131004-19:56:51,744 workflow INFO:\n",
        "\t Running: fugue --in=/home/oesteban/workspace/ACWE-Reg/temp/Phantom2/synthetic_distortion/Fugue_WarpDWIs/split_DWI/signal_010.nii.gz --mask=/home/oesteban/workspace/ACWE-Reg/temp/Phantom2/roi_gm.nii.gz --loadshift=/home/oesteban/workspace/ACWE-Reg/temp/Phantom2/synthetic_distortion/demean/roi_gm_vsm_demeaned.nii.gz --unwarpdir=z --warp=/home/oesteban/workspace/ACWE-Reg/temp/Phantom2/synthetic_distortion/Fugue_WarpDWIs/Fugue_Warp/mapflow/_Fugue_Warp10/signal_010_warped.nii.gz\n"
       ]
      },
      {
       "output_type": "stream",
       "stream": "stdout",
       "text": [
        "131004-19:57:08,397 workflow INFO:\n",
        "\t Executing node _Fugue_Warp11 in dir: /home/oesteban/workspace/ACWE-Reg/temp/Phantom2/synthetic_distortion/Fugue_WarpDWIs/Fugue_Warp/mapflow/_Fugue_Warp11\n"
       ]
      },
      {
       "output_type": "stream",
       "stream": "stdout",
       "text": [
        "131004-19:57:08,401 workflow INFO:\n",
        "\t Running: fugue --in=/home/oesteban/workspace/ACWE-Reg/temp/Phantom2/synthetic_distortion/Fugue_WarpDWIs/split_DWI/signal_011.nii.gz --mask=/home/oesteban/workspace/ACWE-Reg/temp/Phantom2/roi_gm.nii.gz --loadshift=/home/oesteban/workspace/ACWE-Reg/temp/Phantom2/synthetic_distortion/demean/roi_gm_vsm_demeaned.nii.gz --unwarpdir=z --warp=/home/oesteban/workspace/ACWE-Reg/temp/Phantom2/synthetic_distortion/Fugue_WarpDWIs/Fugue_Warp/mapflow/_Fugue_Warp11/signal_011_warped.nii.gz\n"
       ]
      },
      {
       "output_type": "stream",
       "stream": "stdout",
       "text": [
        "131004-19:57:25,42 workflow INFO:\n",
        "\t Executing node _Fugue_Warp12 in dir: /home/oesteban/workspace/ACWE-Reg/temp/Phantom2/synthetic_distortion/Fugue_WarpDWIs/Fugue_Warp/mapflow/_Fugue_Warp12\n"
       ]
      },
      {
       "output_type": "stream",
       "stream": "stdout",
       "text": [
        "131004-19:57:25,46 workflow INFO:\n",
        "\t Running: fugue --in=/home/oesteban/workspace/ACWE-Reg/temp/Phantom2/synthetic_distortion/Fugue_WarpDWIs/split_DWI/signal_012.nii.gz --mask=/home/oesteban/workspace/ACWE-Reg/temp/Phantom2/roi_gm.nii.gz --loadshift=/home/oesteban/workspace/ACWE-Reg/temp/Phantom2/synthetic_distortion/demean/roi_gm_vsm_demeaned.nii.gz --unwarpdir=z --warp=/home/oesteban/workspace/ACWE-Reg/temp/Phantom2/synthetic_distortion/Fugue_WarpDWIs/Fugue_Warp/mapflow/_Fugue_Warp12/signal_012_warped.nii.gz\n"
       ]
      },
      {
       "output_type": "stream",
       "stream": "stdout",
       "text": [
        "131004-19:57:41,678 workflow INFO:\n",
        "\t Executing node _Fugue_Warp13 in dir: /home/oesteban/workspace/ACWE-Reg/temp/Phantom2/synthetic_distortion/Fugue_WarpDWIs/Fugue_Warp/mapflow/_Fugue_Warp13\n"
       ]
      },
      {
       "output_type": "stream",
       "stream": "stdout",
       "text": [
        "131004-19:57:41,682 workflow INFO:\n",
        "\t Running: fugue --in=/home/oesteban/workspace/ACWE-Reg/temp/Phantom2/synthetic_distortion/Fugue_WarpDWIs/split_DWI/signal_013.nii.gz --mask=/home/oesteban/workspace/ACWE-Reg/temp/Phantom2/roi_gm.nii.gz --loadshift=/home/oesteban/workspace/ACWE-Reg/temp/Phantom2/synthetic_distortion/demean/roi_gm_vsm_demeaned.nii.gz --unwarpdir=z --warp=/home/oesteban/workspace/ACWE-Reg/temp/Phantom2/synthetic_distortion/Fugue_WarpDWIs/Fugue_Warp/mapflow/_Fugue_Warp13/signal_013_warped.nii.gz\n"
       ]
      },
      {
       "output_type": "stream",
       "stream": "stdout",
       "text": [
        "131004-19:57:58,352 workflow INFO:\n",
        "\t Executing node _Fugue_Warp14 in dir: /home/oesteban/workspace/ACWE-Reg/temp/Phantom2/synthetic_distortion/Fugue_WarpDWIs/Fugue_Warp/mapflow/_Fugue_Warp14\n"
       ]
      },
      {
       "output_type": "stream",
       "stream": "stdout",
       "text": [
        "131004-19:57:58,355 workflow INFO:\n",
        "\t Running: fugue --in=/home/oesteban/workspace/ACWE-Reg/temp/Phantom2/synthetic_distortion/Fugue_WarpDWIs/split_DWI/signal_014.nii.gz --mask=/home/oesteban/workspace/ACWE-Reg/temp/Phantom2/roi_gm.nii.gz --loadshift=/home/oesteban/workspace/ACWE-Reg/temp/Phantom2/synthetic_distortion/demean/roi_gm_vsm_demeaned.nii.gz --unwarpdir=z --warp=/home/oesteban/workspace/ACWE-Reg/temp/Phantom2/synthetic_distortion/Fugue_WarpDWIs/Fugue_Warp/mapflow/_Fugue_Warp14/signal_014_warped.nii.gz\n"
       ]
      },
      {
       "output_type": "stream",
       "stream": "stdout",
       "text": [
        "131004-19:58:14,962 workflow INFO:\n",
        "\t Executing node _Fugue_Warp15 in dir: /home/oesteban/workspace/ACWE-Reg/temp/Phantom2/synthetic_distortion/Fugue_WarpDWIs/Fugue_Warp/mapflow/_Fugue_Warp15\n"
       ]
      },
      {
       "output_type": "stream",
       "stream": "stdout",
       "text": [
        "131004-19:58:14,966 workflow INFO:\n",
        "\t Running: fugue --in=/home/oesteban/workspace/ACWE-Reg/temp/Phantom2/synthetic_distortion/Fugue_WarpDWIs/split_DWI/signal_015.nii.gz --mask=/home/oesteban/workspace/ACWE-Reg/temp/Phantom2/roi_gm.nii.gz --loadshift=/home/oesteban/workspace/ACWE-Reg/temp/Phantom2/synthetic_distortion/demean/roi_gm_vsm_demeaned.nii.gz --unwarpdir=z --warp=/home/oesteban/workspace/ACWE-Reg/temp/Phantom2/synthetic_distortion/Fugue_WarpDWIs/Fugue_Warp/mapflow/_Fugue_Warp15/signal_015_warped.nii.gz\n"
       ]
      },
      {
       "output_type": "stream",
       "stream": "stdout",
       "text": [
        "131004-19:58:31,567 workflow INFO:\n",
        "\t Executing node _Fugue_Warp16 in dir: /home/oesteban/workspace/ACWE-Reg/temp/Phantom2/synthetic_distortion/Fugue_WarpDWIs/Fugue_Warp/mapflow/_Fugue_Warp16\n"
       ]
      },
      {
       "output_type": "stream",
       "stream": "stdout",
       "text": [
        "131004-19:58:31,571 workflow INFO:\n",
        "\t Running: fugue --in=/home/oesteban/workspace/ACWE-Reg/temp/Phantom2/synthetic_distortion/Fugue_WarpDWIs/split_DWI/signal_016.nii.gz --mask=/home/oesteban/workspace/ACWE-Reg/temp/Phantom2/roi_gm.nii.gz --loadshift=/home/oesteban/workspace/ACWE-Reg/temp/Phantom2/synthetic_distortion/demean/roi_gm_vsm_demeaned.nii.gz --unwarpdir=z --warp=/home/oesteban/workspace/ACWE-Reg/temp/Phantom2/synthetic_distortion/Fugue_WarpDWIs/Fugue_Warp/mapflow/_Fugue_Warp16/signal_016_warped.nii.gz\n"
       ]
      },
      {
       "output_type": "stream",
       "stream": "stdout",
       "text": [
        "131004-19:58:48,235 workflow INFO:\n",
        "\t Executing node _Fugue_Warp17 in dir: /home/oesteban/workspace/ACWE-Reg/temp/Phantom2/synthetic_distortion/Fugue_WarpDWIs/Fugue_Warp/mapflow/_Fugue_Warp17\n"
       ]
      },
      {
       "output_type": "stream",
       "stream": "stdout",
       "text": [
        "131004-19:58:48,239 workflow INFO:\n",
        "\t Running: fugue --in=/home/oesteban/workspace/ACWE-Reg/temp/Phantom2/synthetic_distortion/Fugue_WarpDWIs/split_DWI/signal_017.nii.gz --mask=/home/oesteban/workspace/ACWE-Reg/temp/Phantom2/roi_gm.nii.gz --loadshift=/home/oesteban/workspace/ACWE-Reg/temp/Phantom2/synthetic_distortion/demean/roi_gm_vsm_demeaned.nii.gz --unwarpdir=z --warp=/home/oesteban/workspace/ACWE-Reg/temp/Phantom2/synthetic_distortion/Fugue_WarpDWIs/Fugue_Warp/mapflow/_Fugue_Warp17/signal_017_warped.nii.gz\n"
       ]
      },
      {
       "output_type": "stream",
       "stream": "stdout",
       "text": [
        "131004-19:59:04,856 workflow INFO:\n",
        "\t Executing node _Fugue_Warp18 in dir: /home/oesteban/workspace/ACWE-Reg/temp/Phantom2/synthetic_distortion/Fugue_WarpDWIs/Fugue_Warp/mapflow/_Fugue_Warp18\n"
       ]
      },
      {
       "output_type": "stream",
       "stream": "stdout",
       "text": [
        "131004-19:59:04,860 workflow INFO:\n",
        "\t Running: fugue --in=/home/oesteban/workspace/ACWE-Reg/temp/Phantom2/synthetic_distortion/Fugue_WarpDWIs/split_DWI/signal_018.nii.gz --mask=/home/oesteban/workspace/ACWE-Reg/temp/Phantom2/roi_gm.nii.gz --loadshift=/home/oesteban/workspace/ACWE-Reg/temp/Phantom2/synthetic_distortion/demean/roi_gm_vsm_demeaned.nii.gz --unwarpdir=z --warp=/home/oesteban/workspace/ACWE-Reg/temp/Phantom2/synthetic_distortion/Fugue_WarpDWIs/Fugue_Warp/mapflow/_Fugue_Warp18/signal_018_warped.nii.gz\n"
       ]
      },
      {
       "output_type": "stream",
       "stream": "stdout",
       "text": [
        "131004-19:59:21,482 workflow INFO:\n",
        "\t Executing node _Fugue_Warp19 in dir: /home/oesteban/workspace/ACWE-Reg/temp/Phantom2/synthetic_distortion/Fugue_WarpDWIs/Fugue_Warp/mapflow/_Fugue_Warp19\n"
       ]
      },
      {
       "output_type": "stream",
       "stream": "stdout",
       "text": [
        "131004-19:59:21,485 workflow INFO:\n",
        "\t Running: fugue --in=/home/oesteban/workspace/ACWE-Reg/temp/Phantom2/synthetic_distortion/Fugue_WarpDWIs/split_DWI/signal_019.nii.gz --mask=/home/oesteban/workspace/ACWE-Reg/temp/Phantom2/roi_gm.nii.gz --loadshift=/home/oesteban/workspace/ACWE-Reg/temp/Phantom2/synthetic_distortion/demean/roi_gm_vsm_demeaned.nii.gz --unwarpdir=z --warp=/home/oesteban/workspace/ACWE-Reg/temp/Phantom2/synthetic_distortion/Fugue_WarpDWIs/Fugue_Warp/mapflow/_Fugue_Warp19/signal_019_warped.nii.gz\n"
       ]
      },
      {
       "output_type": "stream",
       "stream": "stdout",
       "text": [
        "131004-19:59:38,198 workflow INFO:\n",
        "\t Executing node _Fugue_Warp20 in dir: /home/oesteban/workspace/ACWE-Reg/temp/Phantom2/synthetic_distortion/Fugue_WarpDWIs/Fugue_Warp/mapflow/_Fugue_Warp20\n"
       ]
      },
      {
       "output_type": "stream",
       "stream": "stdout",
       "text": [
        "131004-19:59:38,202 workflow INFO:\n",
        "\t Running: fugue --in=/home/oesteban/workspace/ACWE-Reg/temp/Phantom2/synthetic_distortion/Fugue_WarpDWIs/split_DWI/signal_020.nii.gz --mask=/home/oesteban/workspace/ACWE-Reg/temp/Phantom2/roi_gm.nii.gz --loadshift=/home/oesteban/workspace/ACWE-Reg/temp/Phantom2/synthetic_distortion/demean/roi_gm_vsm_demeaned.nii.gz --unwarpdir=z --warp=/home/oesteban/workspace/ACWE-Reg/temp/Phantom2/synthetic_distortion/Fugue_WarpDWIs/Fugue_Warp/mapflow/_Fugue_Warp20/signal_020_warped.nii.gz\n"
       ]
      },
      {
       "output_type": "stream",
       "stream": "stdout",
       "text": [
        "131004-19:59:54,908 workflow INFO:\n",
        "\t Executing node _Fugue_Warp21 in dir: /home/oesteban/workspace/ACWE-Reg/temp/Phantom2/synthetic_distortion/Fugue_WarpDWIs/Fugue_Warp/mapflow/_Fugue_Warp21\n"
       ]
      },
      {
       "output_type": "stream",
       "stream": "stdout",
       "text": [
        "131004-19:59:54,912 workflow INFO:\n",
        "\t Running: fugue --in=/home/oesteban/workspace/ACWE-Reg/temp/Phantom2/synthetic_distortion/Fugue_WarpDWIs/split_DWI/signal_021.nii.gz --mask=/home/oesteban/workspace/ACWE-Reg/temp/Phantom2/roi_gm.nii.gz --loadshift=/home/oesteban/workspace/ACWE-Reg/temp/Phantom2/synthetic_distortion/demean/roi_gm_vsm_demeaned.nii.gz --unwarpdir=z --warp=/home/oesteban/workspace/ACWE-Reg/temp/Phantom2/synthetic_distortion/Fugue_WarpDWIs/Fugue_Warp/mapflow/_Fugue_Warp21/signal_021_warped.nii.gz\n"
       ]
      },
      {
       "output_type": "stream",
       "stream": "stdout",
       "text": [
        "131004-20:00:11,925 workflow INFO:\n",
        "\t Executing node _Fugue_Warp22 in dir: /home/oesteban/workspace/ACWE-Reg/temp/Phantom2/synthetic_distortion/Fugue_WarpDWIs/Fugue_Warp/mapflow/_Fugue_Warp22\n"
       ]
      },
      {
       "output_type": "stream",
       "stream": "stdout",
       "text": [
        "131004-20:00:11,929 workflow INFO:\n",
        "\t Running: fugue --in=/home/oesteban/workspace/ACWE-Reg/temp/Phantom2/synthetic_distortion/Fugue_WarpDWIs/split_DWI/signal_022.nii.gz --mask=/home/oesteban/workspace/ACWE-Reg/temp/Phantom2/roi_gm.nii.gz --loadshift=/home/oesteban/workspace/ACWE-Reg/temp/Phantom2/synthetic_distortion/demean/roi_gm_vsm_demeaned.nii.gz --unwarpdir=z --warp=/home/oesteban/workspace/ACWE-Reg/temp/Phantom2/synthetic_distortion/Fugue_WarpDWIs/Fugue_Warp/mapflow/_Fugue_Warp22/signal_022_warped.nii.gz\n"
       ]
      },
      {
       "output_type": "stream",
       "stream": "stdout",
       "text": [
        "131004-20:00:28,677 workflow INFO:\n",
        "\t Executing node _Fugue_Warp23 in dir: /home/oesteban/workspace/ACWE-Reg/temp/Phantom2/synthetic_distortion/Fugue_WarpDWIs/Fugue_Warp/mapflow/_Fugue_Warp23\n"
       ]
      },
      {
       "output_type": "stream",
       "stream": "stdout",
       "text": [
        "131004-20:00:28,681 workflow INFO:\n",
        "\t Running: fugue --in=/home/oesteban/workspace/ACWE-Reg/temp/Phantom2/synthetic_distortion/Fugue_WarpDWIs/split_DWI/signal_023.nii.gz --mask=/home/oesteban/workspace/ACWE-Reg/temp/Phantom2/roi_gm.nii.gz --loadshift=/home/oesteban/workspace/ACWE-Reg/temp/Phantom2/synthetic_distortion/demean/roi_gm_vsm_demeaned.nii.gz --unwarpdir=z --warp=/home/oesteban/workspace/ACWE-Reg/temp/Phantom2/synthetic_distortion/Fugue_WarpDWIs/Fugue_Warp/mapflow/_Fugue_Warp23/signal_023_warped.nii.gz\n"
       ]
      },
      {
       "output_type": "stream",
       "stream": "stdout",
       "text": [
        "131004-20:00:45,320 workflow INFO:\n",
        "\t Executing node _Fugue_Warp24 in dir: /home/oesteban/workspace/ACWE-Reg/temp/Phantom2/synthetic_distortion/Fugue_WarpDWIs/Fugue_Warp/mapflow/_Fugue_Warp24\n"
       ]
      },
      {
       "output_type": "stream",
       "stream": "stdout",
       "text": [
        "131004-20:00:45,324 workflow INFO:\n",
        "\t Running: fugue --in=/home/oesteban/workspace/ACWE-Reg/temp/Phantom2/synthetic_distortion/Fugue_WarpDWIs/split_DWI/signal_024.nii.gz --mask=/home/oesteban/workspace/ACWE-Reg/temp/Phantom2/roi_gm.nii.gz --loadshift=/home/oesteban/workspace/ACWE-Reg/temp/Phantom2/synthetic_distortion/demean/roi_gm_vsm_demeaned.nii.gz --unwarpdir=z --warp=/home/oesteban/workspace/ACWE-Reg/temp/Phantom2/synthetic_distortion/Fugue_WarpDWIs/Fugue_Warp/mapflow/_Fugue_Warp24/signal_024_warped.nii.gz\n"
       ]
      },
      {
       "output_type": "stream",
       "stream": "stdout",
       "text": [
        "131004-20:01:02,14 workflow INFO:\n",
        "\t Executing node _Fugue_Warp25 in dir: /home/oesteban/workspace/ACWE-Reg/temp/Phantom2/synthetic_distortion/Fugue_WarpDWIs/Fugue_Warp/mapflow/_Fugue_Warp25\n"
       ]
      },
      {
       "output_type": "stream",
       "stream": "stdout",
       "text": [
        "131004-20:01:02,17 workflow INFO:\n",
        "\t Running: fugue --in=/home/oesteban/workspace/ACWE-Reg/temp/Phantom2/synthetic_distortion/Fugue_WarpDWIs/split_DWI/signal_025.nii.gz --mask=/home/oesteban/workspace/ACWE-Reg/temp/Phantom2/roi_gm.nii.gz --loadshift=/home/oesteban/workspace/ACWE-Reg/temp/Phantom2/synthetic_distortion/demean/roi_gm_vsm_demeaned.nii.gz --unwarpdir=z --warp=/home/oesteban/workspace/ACWE-Reg/temp/Phantom2/synthetic_distortion/Fugue_WarpDWIs/Fugue_Warp/mapflow/_Fugue_Warp25/signal_025_warped.nii.gz\n"
       ]
      },
      {
       "output_type": "stream",
       "stream": "stdout",
       "text": [
        "131004-20:01:18,631 workflow INFO:\n",
        "\t Executing node _Fugue_Warp26 in dir: /home/oesteban/workspace/ACWE-Reg/temp/Phantom2/synthetic_distortion/Fugue_WarpDWIs/Fugue_Warp/mapflow/_Fugue_Warp26\n"
       ]
      },
      {
       "output_type": "stream",
       "stream": "stdout",
       "text": [
        "131004-20:01:18,635 workflow INFO:\n",
        "\t Running: fugue --in=/home/oesteban/workspace/ACWE-Reg/temp/Phantom2/synthetic_distortion/Fugue_WarpDWIs/split_DWI/signal_026.nii.gz --mask=/home/oesteban/workspace/ACWE-Reg/temp/Phantom2/roi_gm.nii.gz --loadshift=/home/oesteban/workspace/ACWE-Reg/temp/Phantom2/synthetic_distortion/demean/roi_gm_vsm_demeaned.nii.gz --unwarpdir=z --warp=/home/oesteban/workspace/ACWE-Reg/temp/Phantom2/synthetic_distortion/Fugue_WarpDWIs/Fugue_Warp/mapflow/_Fugue_Warp26/signal_026_warped.nii.gz\n"
       ]
      },
      {
       "output_type": "stream",
       "stream": "stdout",
       "text": [
        "131004-20:01:35,263 workflow INFO:\n",
        "\t Executing node _Fugue_Warp27 in dir: /home/oesteban/workspace/ACWE-Reg/temp/Phantom2/synthetic_distortion/Fugue_WarpDWIs/Fugue_Warp/mapflow/_Fugue_Warp27\n"
       ]
      },
      {
       "output_type": "stream",
       "stream": "stdout",
       "text": [
        "131004-20:01:35,267 workflow INFO:\n",
        "\t Running: fugue --in=/home/oesteban/workspace/ACWE-Reg/temp/Phantom2/synthetic_distortion/Fugue_WarpDWIs/split_DWI/signal_027.nii.gz --mask=/home/oesteban/workspace/ACWE-Reg/temp/Phantom2/roi_gm.nii.gz --loadshift=/home/oesteban/workspace/ACWE-Reg/temp/Phantom2/synthetic_distortion/demean/roi_gm_vsm_demeaned.nii.gz --unwarpdir=z --warp=/home/oesteban/workspace/ACWE-Reg/temp/Phantom2/synthetic_distortion/Fugue_WarpDWIs/Fugue_Warp/mapflow/_Fugue_Warp27/signal_027_warped.nii.gz\n"
       ]
      },
      {
       "output_type": "stream",
       "stream": "stdout",
       "text": [
        "131004-20:01:51,955 workflow INFO:\n",
        "\t Executing node _Fugue_Warp28 in dir: /home/oesteban/workspace/ACWE-Reg/temp/Phantom2/synthetic_distortion/Fugue_WarpDWIs/Fugue_Warp/mapflow/_Fugue_Warp28\n"
       ]
      },
      {
       "output_type": "stream",
       "stream": "stdout",
       "text": [
        "131004-20:01:51,959 workflow INFO:\n",
        "\t Running: fugue --in=/home/oesteban/workspace/ACWE-Reg/temp/Phantom2/synthetic_distortion/Fugue_WarpDWIs/split_DWI/signal_028.nii.gz --mask=/home/oesteban/workspace/ACWE-Reg/temp/Phantom2/roi_gm.nii.gz --loadshift=/home/oesteban/workspace/ACWE-Reg/temp/Phantom2/synthetic_distortion/demean/roi_gm_vsm_demeaned.nii.gz --unwarpdir=z --warp=/home/oesteban/workspace/ACWE-Reg/temp/Phantom2/synthetic_distortion/Fugue_WarpDWIs/Fugue_Warp/mapflow/_Fugue_Warp28/signal_028_warped.nii.gz\n"
       ]
      },
      {
       "output_type": "stream",
       "stream": "stdout",
       "text": [
        "131004-20:02:08,598 workflow INFO:\n",
        "\t Executing node _Fugue_Warp29 in dir: /home/oesteban/workspace/ACWE-Reg/temp/Phantom2/synthetic_distortion/Fugue_WarpDWIs/Fugue_Warp/mapflow/_Fugue_Warp29\n"
       ]
      },
      {
       "output_type": "stream",
       "stream": "stdout",
       "text": [
        "131004-20:02:08,602 workflow INFO:\n",
        "\t Running: fugue --in=/home/oesteban/workspace/ACWE-Reg/temp/Phantom2/synthetic_distortion/Fugue_WarpDWIs/split_DWI/signal_029.nii.gz --mask=/home/oesteban/workspace/ACWE-Reg/temp/Phantom2/roi_gm.nii.gz --loadshift=/home/oesteban/workspace/ACWE-Reg/temp/Phantom2/synthetic_distortion/demean/roi_gm_vsm_demeaned.nii.gz --unwarpdir=z --warp=/home/oesteban/workspace/ACWE-Reg/temp/Phantom2/synthetic_distortion/Fugue_WarpDWIs/Fugue_Warp/mapflow/_Fugue_Warp29/signal_029_warped.nii.gz\n"
       ]
      },
      {
       "output_type": "stream",
       "stream": "stdout",
       "text": [
        "131004-20:02:26,518 workflow INFO:\n",
        "\t Executing node merge_DWI in dir: /home/oesteban/workspace/ACWE-Reg/temp/Phantom2/synthetic_distortion/Fugue_WarpDWIs/merge_DWI\n"
       ]
      },
      {
       "output_type": "stream",
       "stream": "stdout",
       "text": [
        "131004-20:02:26,534 workflow INFO:\n",
        "\t Running: fslmerge -t /home/oesteban/workspace/ACWE-Reg/temp/Phantom2/synthetic_distortion/Fugue_WarpDWIs/merge_DWI/signal_000_warped_merged.nii.gz /home/oesteban/workspace/ACWE-Reg/temp/Phantom2/synthetic_distortion/Fugue_WarpDWIs/Fugue_Warp/mapflow/_Fugue_Warp0/signal_000_warped.nii.gz /home/oesteban/workspace/ACWE-Reg/temp/Phantom2/synthetic_distortion/Fugue_WarpDWIs/Fugue_Warp/mapflow/_Fugue_Warp1/signal_001_warped.nii.gz /home/oesteban/workspace/ACWE-Reg/temp/Phantom2/synthetic_distortion/Fugue_WarpDWIs/Fugue_Warp/mapflow/_Fugue_Warp2/signal_002_warped.nii.gz /home/oesteban/workspace/ACWE-Reg/temp/Phantom2/synthetic_distortion/Fugue_WarpDWIs/Fugue_Warp/mapflow/_Fugue_Warp3/signal_003_warped.nii.gz /home/oesteban/workspace/ACWE-Reg/temp/Phantom2/synthetic_distortion/Fugue_WarpDWIs/Fugue_Warp/mapflow/_Fugue_Warp4/signal_004_warped.nii.gz /home/oesteban/workspace/ACWE-Reg/temp/Phantom2/synthetic_distortion/Fugue_WarpDWIs/Fugue_Warp/mapflow/_Fugue_Warp5/signal_005_warped.nii.gz /home/oesteban/workspace/ACWE-Reg/temp/Phantom2/synthetic_distortion/Fugue_WarpDWIs/Fugue_Warp/mapflow/_Fugue_Warp6/signal_006_warped.nii.gz /home/oesteban/workspace/ACWE-Reg/temp/Phantom2/synthetic_distortion/Fugue_WarpDWIs/Fugue_Warp/mapflow/_Fugue_Warp7/signal_007_warped.nii.gz /home/oesteban/workspace/ACWE-Reg/temp/Phantom2/synthetic_distortion/Fugue_WarpDWIs/Fugue_Warp/mapflow/_Fugue_Warp8/signal_008_warped.nii.gz /home/oesteban/workspace/ACWE-Reg/temp/Phantom2/synthetic_distortion/Fugue_WarpDWIs/Fugue_Warp/mapflow/_Fugue_Warp9/signal_009_warped.nii.gz /home/oesteban/workspace/ACWE-Reg/temp/Phantom2/synthetic_distortion/Fugue_WarpDWIs/Fugue_Warp/mapflow/_Fugue_Warp10/signal_010_warped.nii.gz /home/oesteban/workspace/ACWE-Reg/temp/Phantom2/synthetic_distortion/Fugue_WarpDWIs/Fugue_Warp/mapflow/_Fugue_Warp11/signal_011_warped.nii.gz /home/oesteban/workspace/ACWE-Reg/temp/Phantom2/synthetic_distortion/Fugue_WarpDWIs/Fugue_Warp/mapflow/_Fugue_Warp12/signal_012_warped.nii.gz /home/oesteban/workspace/ACWE-Reg/temp/Phantom2/synthetic_distortion/Fugue_WarpDWIs/Fugue_Warp/mapflow/_Fugue_Warp13/signal_013_warped.nii.gz /home/oesteban/workspace/ACWE-Reg/temp/Phantom2/synthetic_distortion/Fugue_WarpDWIs/Fugue_Warp/mapflow/_Fugue_Warp14/signal_014_warped.nii.gz /home/oesteban/workspace/ACWE-Reg/temp/Phantom2/synthetic_distortion/Fugue_WarpDWIs/Fugue_Warp/mapflow/_Fugue_Warp15/signal_015_warped.nii.gz /home/oesteban/workspace/ACWE-Reg/temp/Phantom2/synthetic_distortion/Fugue_WarpDWIs/Fugue_Warp/mapflow/_Fugue_Warp16/signal_016_warped.nii.gz /home/oesteban/workspace/ACWE-Reg/temp/Phantom2/synthetic_distortion/Fugue_WarpDWIs/Fugue_Warp/mapflow/_Fugue_Warp17/signal_017_warped.nii.gz /home/oesteban/workspace/ACWE-Reg/temp/Phantom2/synthetic_distortion/Fugue_WarpDWIs/Fugue_Warp/mapflow/_Fugue_Warp18/signal_018_warped.nii.gz /home/oesteban/workspace/ACWE-Reg/temp/Phantom2/synthetic_distortion/Fugue_WarpDWIs/Fugue_Warp/mapflow/_Fugue_Warp19/signal_019_warped.nii.gz /home/oesteban/workspace/ACWE-Reg/temp/Phantom2/synthetic_distortion/Fugue_WarpDWIs/Fugue_Warp/mapflow/_Fugue_Warp20/signal_020_warped.nii.gz /home/oesteban/workspace/ACWE-Reg/temp/Phantom2/synthetic_distortion/Fugue_WarpDWIs/Fugue_Warp/mapflow/_Fugue_Warp21/signal_021_warped.nii.gz /home/oesteban/workspace/ACWE-Reg/temp/Phantom2/synthetic_distortion/Fugue_WarpDWIs/Fugue_Warp/mapflow/_Fugue_Warp22/signal_022_warped.nii.gz /home/oesteban/workspace/ACWE-Reg/temp/Phantom2/synthetic_distortion/Fugue_WarpDWIs/Fugue_Warp/mapflow/_Fugue_Warp23/signal_023_warped.nii.gz /home/oesteban/workspace/ACWE-Reg/temp/Phantom2/synthetic_distortion/Fugue_WarpDWIs/Fugue_Warp/mapflow/_Fugue_Warp24/signal_024_warped.nii.gz /home/oesteban/workspace/ACWE-Reg/temp/Phantom2/synthetic_distortion/Fugue_WarpDWIs/Fugue_Warp/mapflow/_Fugue_Warp25/signal_025_warped.nii.gz /home/oesteban/workspace/ACWE-Reg/temp/Phantom2/synthetic_distortion/Fugue_WarpDWIs/Fugue_Warp/mapflow/_Fugue_Warp26/signal_026_warped.nii.gz /home/oesteban/workspace/ACWE-Reg/temp/Phantom2/synthetic_distortion/Fugue_WarpDWIs/Fugue_Warp/mapflow/_Fugue_Warp27/signal_027_warped.nii.gz /home/oesteban/workspace/ACWE-Reg/temp/Phantom2/synthetic_distortion/Fugue_WarpDWIs/Fugue_Warp/mapflow/_Fugue_Warp28/signal_028_warped.nii.gz /home/oesteban/workspace/ACWE-Reg/temp/Phantom2/synthetic_distortion/Fugue_WarpDWIs/Fugue_Warp/mapflow/_Fugue_Warp29/signal_029_warped.nii.gz\n"
       ]
      },
      {
       "output_type": "stream",
       "stream": "stdout",
       "text": [
        "131004-20:02:33,388 workflow INFO:\n",
        "\t Executing node Fugue_WarpMask in dir: /home/oesteban/workspace/ACWE-Reg/temp/Phantom2/synthetic_distortion/Fugue_WarpMask\n"
       ]
      },
      {
       "output_type": "stream",
       "stream": "stdout",
       "text": [
        "131004-20:02:33,392 workflow INFO:\n",
        "\t Running: fugue --in=/home/oesteban/workspace/ACWE-Reg/temp/Phantom2/roi_gm.nii.gz --mask=/home/oesteban/workspace/ACWE-Reg/temp/Phantom2/roi_gm.nii.gz --loadshift=/home/oesteban/workspace/ACWE-Reg/temp/Phantom2/synthetic_distortion/demean/roi_gm_vsm_demeaned.nii.gz --warp=/home/oesteban/workspace/ACWE-Reg/temp/Phantom2/synthetic_distortion/Fugue_WarpMask/roi_gm_warped.nii.gz\n"
       ]
      },
      {
       "output_type": "stream",
       "stream": "stdout",
       "text": [
        "131004-20:02:50,15 workflow INFO:\n",
        "\t Executing node binarize in dir: /home/oesteban/workspace/ACWE-Reg/temp/Phantom2/synthetic_distortion/binarize\n"
       ]
      },
      {
       "output_type": "stream",
       "stream": "stdout",
       "text": [
        "131004-20:02:50,19 workflow INFO:\n",
        "\t Running: mri_binarize --o /home/oesteban/workspace/ACWE-Reg/temp/Phantom2/synthetic_distortion/binarize/roi_gm_warped_thresh.nii.gz --i /home/oesteban/workspace/ACWE-Reg/temp/Phantom2/synthetic_distortion/binarize/roi_gm_warped.nii.gz --min 0.000010\n"
       ]
      },
      {
       "output_type": "stream",
       "stream": "stdout",
       "text": [
        "131004-20:02:50,168 interface INFO:\n",
        "\t stdout 2013-10-04T20:02:50.168833:\n"
       ]
      },
      {
       "output_type": "stream",
       "stream": "stdout",
       "text": [
        "131004-20:02:50,169 interface INFO:\n",
        "\t stdout 2013-10-04T20:02:50.168833:$Id: mri_binarize.c,v 1.26.2.1 2011/04/08 15:40:50 greve Exp $\n"
       ]
      },
      {
       "output_type": "stream",
       "stream": "stdout",
       "text": [
        "131004-20:02:50,169 interface INFO:\n",
        "\t stdout 2013-10-04T20:02:50.168833:cwd /home/oesteban/workspace/ACWE-Reg/temp/Phantom2/synthetic_distortion/binarize\n"
       ]
      },
      {
       "output_type": "stream",
       "stream": "stdout",
       "text": [
        "131004-20:02:50,170 interface INFO:\n",
        "\t stdout 2013-10-04T20:02:50.168833:cmdline mri_binarize --o /home/oesteban/workspace/ACWE-Reg/temp/Phantom2/synthetic_distortion/binarize/roi_gm_warped_thresh.nii.gz --i /home/oesteban/workspace/ACWE-Reg/temp/Phantom2/synthetic_distortion/binarize/roi_gm_warped.nii.gz --min 0.000010 \n"
       ]
      },
      {
       "output_type": "stream",
       "stream": "stdout",
       "text": [
        "131004-20:02:50,170 interface INFO:\n",
        "\t stdout 2013-10-04T20:02:50.168833:sysname  Linux\n"
       ]
      },
      {
       "output_type": "stream",
       "stream": "stdout",
       "text": [
        "131004-20:02:50,171 interface INFO:\n",
        "\t stdout 2013-10-04T20:02:50.168833:hostname tea\n"
       ]
      },
      {
       "output_type": "stream",
       "stream": "stdout",
       "text": [
        "131004-20:02:50,171 interface INFO:\n",
        "\t stdout 2013-10-04T20:02:50.168833:machine  x86_64\n"
       ]
      },
      {
       "output_type": "stream",
       "stream": "stdout",
       "text": [
        "131004-20:02:50,172 interface INFO:\n",
        "\t stdout 2013-10-04T20:02:50.168833:user     oesteban\n"
       ]
      },
      {
       "output_type": "stream",
       "stream": "stdout",
       "text": [
        "131004-20:02:50,172 interface INFO:\n",
        "\t stdout 2013-10-04T20:02:50.168833:\n"
       ]
      },
      {
       "output_type": "stream",
       "stream": "stdout",
       "text": [
        "131004-20:02:50,173 interface INFO:\n",
        "\t stdout 2013-10-04T20:02:50.168833:input      /home/oesteban/workspace/ACWE-Reg/temp/Phantom2/synthetic_distortion/binarize/roi_gm_warped.nii.gz\n"
       ]
      },
      {
       "output_type": "stream",
       "stream": "stdout",
       "text": [
        "131004-20:02:50,173 interface INFO:\n",
        "\t stdout 2013-10-04T20:02:50.168833:frame      0\n"
       ]
      },
      {
       "output_type": "stream",
       "stream": "stdout",
       "text": [
        "131004-20:02:50,174 interface INFO:\n",
        "\t stdout 2013-10-04T20:02:50.168833:nErode3d   0\n"
       ]
      },
      {
       "output_type": "stream",
       "stream": "stdout",
       "text": [
        "131004-20:02:50,174 interface INFO:\n",
        "\t stdout 2013-10-04T20:02:50.168833:nErode2d   0\n"
       ]
      },
      {
       "output_type": "stream",
       "stream": "stdout",
       "text": [
        "131004-20:02:50,175 interface INFO:\n",
        "\t stdout 2013-10-04T20:02:50.168833:output     /home/oesteban/workspace/ACWE-Reg/temp/Phantom2/synthetic_distortion/binarize/roi_gm_warped_thresh.nii.gz\n"
       ]
      },
      {
       "output_type": "stream",
       "stream": "stdout",
       "text": [
        "131004-20:02:50,175 interface INFO:\n",
        "\t stdout 2013-10-04T20:02:50.168833:Binarizing based on threshold\n"
       ]
      },
      {
       "output_type": "stream",
       "stream": "stdout",
       "text": [
        "131004-20:02:50,176 interface INFO:\n",
        "\t stdout 2013-10-04T20:02:50.168833:min        1e-05\n"
       ]
      },
      {
       "output_type": "stream",
       "stream": "stdout",
       "text": [
        "131004-20:02:50,177 interface INFO:\n",
        "\t stdout 2013-10-04T20:02:50.168833:max        +infinity\n"
       ]
      },
      {
       "output_type": "stream",
       "stream": "stdout",
       "text": [
        "131004-20:02:50,177 interface INFO:\n",
        "\t stdout 2013-10-04T20:02:50.168833:binval        1\n"
       ]
      },
      {
       "output_type": "stream",
       "stream": "stdout",
       "text": [
        "131004-20:02:50,178 interface INFO:\n",
        "\t stdout 2013-10-04T20:02:50.168833:binvalnot     0\n"
       ]
      },
      {
       "output_type": "stream",
       "stream": "stdout",
       "text": [
        "131004-20:02:50,178 interface INFO:\n",
        "\t stdout 2013-10-04T20:02:50.168833:Found 363721 values in range\n"
       ]
      },
      {
       "output_type": "stream",
       "stream": "stdout",
       "text": [
        "131004-20:02:50,179 interface INFO:\n",
        "\t stdout 2013-10-04T20:02:50.168833:Counting number of voxels\n"
       ]
      },
      {
       "output_type": "stream",
       "stream": "stdout",
       "text": [
        "131004-20:02:50,180 interface INFO:\n",
        "\t stdout 2013-10-04T20:02:50.168833:Found 363721 voxels in final mask\n"
       ]
      },
      {
       "output_type": "stream",
       "stream": "stdout",
       "text": [
        "131004-20:02:50,180 interface INFO:\n",
        "\t stdout 2013-10-04T20:02:50.168833:mri_binarize done\n"
       ]
      },
      {
       "output_type": "stream",
       "stream": "stdout",
       "text": [
        "131004-20:02:50,262 workflow INFO:\n",
        "\t Executing node WarpImages in dir: /home/oesteban/workspace/ACWE-Reg/temp/Phantom2/synthetic_distortion/WarpImages\n"
       ]
      },
      {
       "output_type": "stream",
       "stream": "stdout",
       "text": [
        "131004-20:02:50,269 workflow INFO:\n",
        "\t Executing node _WarpImages0 in dir: /home/oesteban/workspace/ACWE-Reg/temp/Phantom2/synthetic_distortion/WarpImages/mapflow/_WarpImages0\n"
       ]
      },
      {
       "output_type": "stream",
       "stream": "stdout",
       "text": [
        "131004-20:02:50,274 workflow INFO:\n",
        "\t Running: fugue --icorr --in=/home/oesteban/workspace/ACWE-Reg/Data/Phantom2/tpms/roi_wm.nii.gz --mask=/home/oesteban/workspace/ACWE-Reg/temp/Phantom2/roi_gm.nii.gz --loadshift=/home/oesteban/workspace/ACWE-Reg/temp/Phantom2/synthetic_distortion/demean/roi_gm_vsm_demeaned.nii.gz --warp=/home/oesteban/workspace/ACWE-Reg/temp/Phantom2/synthetic_distortion/WarpImages/mapflow/_WarpImages0/roi_wm_warped.nii.gz\n"
       ]
      },
      {
       "output_type": "stream",
       "stream": "stdout",
       "text": [
        "131004-20:03:06,766 workflow INFO:\n",
        "\t Executing node _WarpImages1 in dir: /home/oesteban/workspace/ACWE-Reg/temp/Phantom2/synthetic_distortion/WarpImages/mapflow/_WarpImages1\n"
       ]
      },
      {
       "output_type": "stream",
       "stream": "stdout",
       "text": [
        "131004-20:03:06,770 workflow INFO:\n",
        "\t Running: fugue --icorr --in=/home/oesteban/workspace/ACWE-Reg/Data/Phantom2/tpms/roi_gm.nii.gz --mask=/home/oesteban/workspace/ACWE-Reg/temp/Phantom2/roi_gm.nii.gz --loadshift=/home/oesteban/workspace/ACWE-Reg/temp/Phantom2/synthetic_distortion/demean/roi_gm_vsm_demeaned.nii.gz --warp=/home/oesteban/workspace/ACWE-Reg/temp/Phantom2/synthetic_distortion/WarpImages/mapflow/_WarpImages1/roi_gm_warped.nii.gz\n"
       ]
      },
      {
       "output_type": "stream",
       "stream": "stdout",
       "text": [
        "131004-20:03:23,288 workflow INFO:\n",
        "\t Executing node _WarpImages2 in dir: /home/oesteban/workspace/ACWE-Reg/temp/Phantom2/synthetic_distortion/WarpImages/mapflow/_WarpImages2\n"
       ]
      },
      {
       "output_type": "stream",
       "stream": "stdout",
       "text": [
        "131004-20:03:23,292 workflow INFO:\n",
        "\t Running: fugue --icorr --in=/home/oesteban/workspace/ACWE-Reg/Data/Phantom2/tpms/roi_csf.nii.gz --mask=/home/oesteban/workspace/ACWE-Reg/temp/Phantom2/roi_gm.nii.gz --loadshift=/home/oesteban/workspace/ACWE-Reg/temp/Phantom2/synthetic_distortion/demean/roi_gm_vsm_demeaned.nii.gz --warp=/home/oesteban/workspace/ACWE-Reg/temp/Phantom2/synthetic_distortion/WarpImages/mapflow/_WarpImages2/roi_csf_warped.nii.gz\n"
       ]
      },
      {
       "output_type": "stream",
       "stream": "stdout",
       "text": [
        "131004-20:03:39,847 workflow INFO:\n",
        "\t Executing node Normalize in dir: /home/oesteban/workspace/ACWE-Reg/temp/Phantom2/synthetic_distortion/Normalize\n"
       ]
      },
      {
       "output_type": "stream",
       "stream": "stderr",
       "text": [
        "/home/oesteban/workspace/nipype/nipype/interfaces/fsl/preprocess.py:1286: UserWarning: This interface has not been fully tested. Please report any failures.\n",
        "  'This interface has not been fully tested. Please report any failures.')\n",
        "/home/oesteban/workspace/nipype/nipype/interfaces/base.py:385: UserWarning: Input icorr requires inputs: shift_in_file\n",
        "  warn(msg)\n",
        "/home/oesteban/workspace/nipype/nipype/interfaces/fsl/preprocess.py:1286: UserWarning: This interface has not been fully tested. Please report any failures.\n",
        "  'This interface has not been fully tested. Please report any failures.')\n",
        "/home/oesteban/workspace/nipype/nipype/interfaces/fsl/preprocess.py:1286: UserWarning: This interface has not been fully tested. Please report any failures.\n",
        "  'This interface has not been fully tested. Please report any failures.')\n",
        "/home/oesteban/workspace/nipype/nipype/interfaces/base.py:385: UserWarning: Input icorr requires inputs: shift_in_file\n",
        "  warn(msg)\n",
        "/home/oesteban/workspace/nipype/nipype/interfaces/fsl/preprocess.py:1286: UserWarning: This interface has not been fully tested. Please report any failures.\n",
        "  'This interface has not been fully tested. Please report any failures.')\n"
       ]
      },
      {
       "output_type": "pyout",
       "prompt_number": 12,
       "text": [
        "<networkx.classes.digraph.DiGraph at 0xcb75510>"
       ]
      }
     ],
     "prompt_number": 12
    },
    {
     "cell_type": "code",
     "collapsed": false,
     "input": [
      "import functions as fnc\n",
      "import os\n",
      "model_id = 1\n",
      "model_path = os.path.abspath( 'Model%d' % model_id )"
     ],
     "language": "python",
     "metadata": {},
     "outputs": []
    },
    {
     "cell_type": "code",
     "collapsed": false,
     "input": [
      "for surf_id in [ 'csf', 'wm', 'gm' ]:\n",
      "    wf = fnc.surfaceWorkflow(model_path=os.getcwd() )\n",
      "    wf.inputs.inputnode.in_roi = os.path.join( model_path, 'roi_%s.nii' % (surf_id) ) \n",
      "    wf.inputs.inputnode.surf_id = surf_id\n",
      "    wf.inputs.inputnode.model_id = 'Model1'\n",
      "    res = wf.run()\n",
      "    "
     ],
     "language": "python",
     "metadata": {},
     "outputs": []
    },
    {
     "cell_type": "code",
     "collapsed": false,
     "input": [
      "import glob\n",
      "\n",
      "for i in glob.glob( os.path.join( model_path, 'deformed*.nii.gz' ) ):\n",
      "    nib.save( nib.Nifti1Image( nib.load( i ).get_data(), model_im.get_affine(), new_header), os.path.join( model_path, 'r_' + os.path.basename(i) ) )"
     ],
     "language": "python",
     "metadata": {},
     "outputs": []
    },
    {
     "cell_type": "code",
     "collapsed": false,
     "input": [
      "extent = ( 0,dim[0]-1,0,dim[1]-1,0,dim[2]-1 )\n",
      "spacing=(1.0,1.0,1.0)\n",
      "direction=np.array([ 1.0, 1.0, 1.0 ])\n",
      "origin= np.array( [0,0,0] ) # tuple( np.array(dim) * 0.5 * direction )\n",
      "\n",
      "sform = (np.identity( 4 ) * np.hstack( (direction, 1.0) ))\n",
      "sform[:,3]+= np.hstack( (origin,0.0) )\n",
      "new_header.set_sform( sform )\n",
      "new_affine = model_im.get_affine() * np.hstack( (direction, 1.0) )"
     ],
     "language": "python",
     "metadata": {},
     "outputs": []
    },
    {
     "cell_type": "code",
     "collapsed": false,
     "input": [
      "surfs = []\n",
      "\n",
      "\n",
      "name_pref = 'priors'\n",
      "\n",
      "for comp,name in zip( im_data, ['wm','gm','csf'] ):\n",
      "    nib.save( nib.Nifti1Image( comp.T, new_affine, new_header ), os.path.join( model_path, '%s_%s.nii.gz' % (name_pref, name)  ))\n",
      "    if name == 'wm':\n",
      "        comp = im_data[0] + im_data[2]\n",
      "    elif name == 'gm':\n",
      "        comp = im_data[0] + im_data[1] + im_data[2]\n",
      "    \n",
      "    surfs.append( fnc.GenerateSurface( comp, os.path.join( model_path, '%s_%s.vtk' % (name_pref,name)  ), use_smooth=True ) )"
     ],
     "language": "python",
     "metadata": {},
     "outputs": []
    },
    {
     "cell_type": "code",
     "collapsed": false,
     "input": [
      "fa = nib.load( os.path.join( model_path, 'ref_FA.nii.gz' ) )\n",
      "fa_data = fa.get_data()\n",
      "d = np.diag( fa.get_affine() )\n",
      "\n",
      "#for ax,el in enumerate(d):\n",
      "#    if el == -1:\n",
      "#        print \"Rolling axis %d\" % ax\n",
      "#        fa_data = np.rollaxis( fa_data, ax )\n",
      "        \n",
      "fa_data = np.swapaxes( fa_data, 1, 2 )\n",
      "\n",
      "fa_header = fa.get_header()\n",
      "fa_header['pixdim'] = new_header['pixdim']\n",
      "fa_header.set_sform( new_header.get_sform() )\n",
      "fa_header.set_qform( new_header.get_qform() )\n",
      "\n",
      "\n",
      "nib.save(nib.Nifti1Image( fa_data, np.identity(4), fa_header ), os.path.join( model_path, 'ref_FA_reoriented.nii.gz' ) )"
     ],
     "language": "python",
     "metadata": {},
     "outputs": []
    },
    {
     "cell_type": "code",
     "collapsed": false,
     "input": [
      "vtkim = tvtk.ImageData( spacing=spacing, origin=origin ) # , dimensions=dim, extent=extent\n",
      "vtkim.point_data.scalars = np.ones( shape=dim, dtype=np.uint8 ).ravel()\n",
      "vtkim.point_data.scalars.name = 'scalars'\n",
      "vtkim.dimensions = dim\n",
      "\n",
      "pol2stenc = tvtk.PolyDataToImageStencil( input=wm_mesh, output_origin=origin,output_spacing=spacing,output_whole_extent=extent )\n",
      "pol2stenc.update()\n",
      "stenc = tvtk.ImageStencil( background_value=0, stencil=pol2stenc.output )\n",
      "stenc.reverse_stencil = False\n",
      "stenc.set_input( vtkim )\n",
      "stenc.update()\n",
      "\n",
      "newdata = np.reshape( stenc.output.point_data.scalars, dim )\n",
      "nib.save( nib.Nifti1Image( newdata, model_im.get_affine(), model_im.get_header() ), os.path.join( model_path, 'new_priors_filled_wm.nii' )  )"
     ],
     "language": "python",
     "metadata": {},
     "outputs": []
    },
    {
     "cell_type": "code",
     "collapsed": false,
     "input": [
      "from scipy.interpolate import griddata\n",
      "#from matplotlib.mlab import griddata\n",
      "reload(fnc)\n",
      "sl = 56\n",
      "wm_mesh = fnc.FilterMesh( surfs[0], sl )\n",
      "csf_mesh = fnc.FilterMesh( surfs[1], sl )\n",
      "#w = tvtk.PolyDataWriter(input=wm_mesh, file_name=os.path.join( model_path, 'new_priors_filtered_wm.vtk' ))\n",
      "#w.write()\n",
      "\n",
      "ps = np.array( wm_mesh.points, dtype=np.float32 )[:,0:2]\n",
      "d = np.ones( ps.shape[0] ).astype( np.float32 )\n",
      "\n",
      "dim2d = tuple(np.delete( np.array(dim), 1 ))\n",
      "xi,yi = np.mgrid[0:dim2d[0],0:dim2d[1]]\n",
      "\n",
      "interpolated0 = griddata( ps, d, (xi,yi), method='linear', fill_value=0.0 )\n",
      "#interpolated0 = griddata( ps[:,0],ps[:,1], d, xi, yi, interp='linear')\n",
      "print np.shape( interpolated0 )\n",
      "plt.contour(interpolated0, linewidths=1.5, colors='r')\n",
      "plt.imshow( model_im.get_data().T[2][:,sl,:] )\n",
      "#plt.imshow( interpolated0 )"
     ],
     "language": "python",
     "metadata": {},
     "outputs": []
    },
    {
     "cell_type": "code",
     "collapsed": false,
     "input": [
      "reload(fnc)\n",
      "fnc.PlotContour( os.path.join( model_path, 'ref_FA.nii.gz' ), [ surfs[0], surfs[2] ], ax=2, sl=52 )"
     ],
     "language": "python",
     "metadata": {},
     "outputs": []
    },
    {
     "cell_type": "code",
     "collapsed": false,
     "input": [
      "reload(fnc)\n",
      "sl = 57\n",
      "ax = 0\n",
      "\n",
      "image = np.swapaxes( nib.load( os.path.join( model_path, 'ref_FA.nii.gz' ) ).get_data(), ax, 2)[:,:,sl]\n",
      "plt.imshow( image, cmap = cm.Greys_r )\n",
      "p1,z_level = fnc.ComputeContourFunction( model_im, surfs[0], sl, axis=ax )\n",
      "cs1 = plt.contour( p1, linewidths=2.5, colors='b', levels=[z_level] )\n",
      "p2,z_level = fnc.ComputeContourFunction( model_im, surfs[2], sl, axis=ax )\n",
      "cs2 = plt.contour( p2, linewidths=2.2, colors='r', levels=[z_level])"
     ],
     "language": "python",
     "metadata": {},
     "outputs": []
    },
    {
     "cell_type": "code",
     "collapsed": false,
     "input": [
      "from scipy.ndimage.filters import gaussian_filter\n",
      "p1 = gaussian_filter( p1, sigma=0.4 )\n",
      "\n",
      "im = np.ones( shape=p2.shape )\n",
      "im[p2>=z_level]=0.0\n",
      "\n",
      "plt.imshow( im )\n",
      "im = gaussian_filter( im, sigma=2 )\n",
      "\n",
      "plt.figure()\n",
      "plt.imshow( im )\n",
      "plt.colorbar()"
     ],
     "language": "python",
     "metadata": {},
     "outputs": []
    },
    {
     "cell_type": "code",
     "collapsed": false,
     "input": [
      "im = np.zeros( shape=p2.shape )\n",
      "im[p2>=z_level] = 255\n",
      "\n",
      "plt.imshow( im )\n",
      "\n",
      "#if np.any( im != 0 ):\n",
      "#   cs2 = plt.contour( im, linewidths=0.5, colors='g' )"
     ],
     "language": "python",
     "metadata": {},
     "outputs": []
    },
    {
     "cell_type": "code",
     "collapsed": false,
     "input": [
      "cs2.levels"
     ],
     "language": "python",
     "metadata": {},
     "outputs": []
    },
    {
     "cell_type": "code",
     "collapsed": false,
     "input": [],
     "language": "python",
     "metadata": {},
     "outputs": []
    }
   ],
   "metadata": {}
  }
 ]
}